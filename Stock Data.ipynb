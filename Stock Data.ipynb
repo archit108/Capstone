{
 "cells": [
  {
   "cell_type": "code",
   "execution_count": 4,
   "metadata": {},
   "outputs": [],
   "source": [
    "import pandas as pd\n",
    "import numpy as np"
   ]
  },
  {
   "cell_type": "code",
   "execution_count": 5,
   "metadata": {},
   "outputs": [],
   "source": [
    "import os"
   ]
  },
  {
   "cell_type": "code",
   "execution_count": 6,
   "metadata": {},
   "outputs": [
    {
     "name": "stdout",
     "output_type": "stream",
     "text": [
      "['AAPL.csv', 'Amazon.csv', 'Facebook.csv', 'Microsoft.csv', 'Tesla.csv']\n"
     ]
    }
   ],
   "source": [
    "print(os.listdir(\"C:/Users/Archit singh/Downloads/Stock Data/Capstone\"))"
   ]
  },
  {
   "cell_type": "code",
   "execution_count": 7,
   "metadata": {},
   "outputs": [],
   "source": [
    "import pandas as pd\n",
    "import numpy as np\n",
    "import datetime\n",
    "%matplotlib inline"
   ]
  },
  {
   "cell_type": "code",
   "execution_count": 43,
   "metadata": {},
   "outputs": [],
   "source": [
    "AAPL = pd.read_csv('C:/Users/Archit singh/Downloads/Stock Data/Capstone/AAPL.csv')"
   ]
  },
  {
   "cell_type": "code",
   "execution_count": 46,
   "metadata": {},
   "outputs": [],
   "source": [
    "Amazon = pd.read_csv('C:/Users/Archit singh/Downloads/Stock Data/Capstone/Amazon.csv')"
   ]
  },
  {
   "cell_type": "code",
   "execution_count": 47,
   "metadata": {},
   "outputs": [],
   "source": [
    "Facebook = pd.read_csv('C:/Users/Archit singh/Downloads/Stock Data/Capstone/Facebook.csv')"
   ]
  },
  {
   "cell_type": "code",
   "execution_count": 48,
   "metadata": {},
   "outputs": [],
   "source": [
    "Microsoft = pd.read_csv('C:/Users/Archit singh/Downloads/Stock Data/Capstone/Microsoft.csv')"
   ]
  },
  {
   "cell_type": "code",
   "execution_count": 49,
   "metadata": {},
   "outputs": [],
   "source": [
    "Tesla = pd.read_csv('C:/Users/Archit singh/Downloads/Stock Data/Capstone/Tesla.csv')"
   ]
  },
  {
   "cell_type": "code",
   "execution_count": 13,
   "metadata": {},
   "outputs": [],
   "source": [
    "AAPL.set_index('Date', inplace = True)\n",
    "Amazon.set_index('Date', inplace = True)\n",
    "Facebook.set_index('Date', inplace = True)\n",
    "Microsoft.set_index('Date', inplace = True)\n",
    "Tesla.set_index('Date', inplace = True)"
   ]
  },
  {
   "cell_type": "code",
   "execution_count": 14,
   "metadata": {},
   "outputs": [],
   "source": [
    "tickers = ['AAPL', 'Amazon', 'Facebook', 'Microsoft', 'Tesla']"
   ]
  },
  {
   "cell_type": "code",
   "execution_count": 15,
   "metadata": {},
   "outputs": [
    {
     "data": {
      "text/plain": [
       "['AAPL', 'Amazon', 'Facebook', 'Microsoft', 'Tesla']"
      ]
     },
     "execution_count": 15,
     "metadata": {},
     "output_type": "execute_result"
    }
   ],
   "source": [
    "tickers"
   ]
  },
  {
   "cell_type": "code",
   "execution_count": 16,
   "metadata": {},
   "outputs": [
    {
     "data": {
      "text/html": [
       "<div>\n",
       "<style scoped>\n",
       "    .dataframe tbody tr th:only-of-type {\n",
       "        vertical-align: middle;\n",
       "    }\n",
       "\n",
       "    .dataframe tbody tr th {\n",
       "        vertical-align: top;\n",
       "    }\n",
       "\n",
       "    .dataframe thead th {\n",
       "        text-align: right;\n",
       "    }\n",
       "</style>\n",
       "<table border=\"1\" class=\"dataframe\">\n",
       "  <thead>\n",
       "    <tr style=\"text-align: right;\">\n",
       "      <th></th>\n",
       "      <th>Close</th>\n",
       "      <th>Volume</th>\n",
       "      <th>Open</th>\n",
       "      <th>High</th>\n",
       "      <th>Low</th>\n",
       "    </tr>\n",
       "    <tr>\n",
       "      <th>Date</th>\n",
       "      <th></th>\n",
       "      <th></th>\n",
       "      <th></th>\n",
       "      <th></th>\n",
       "      <th></th>\n",
       "    </tr>\n",
       "  </thead>\n",
       "  <tbody>\n",
       "    <tr>\n",
       "      <td>8/28/2020</td>\n",
       "      <td>499.23</td>\n",
       "      <td>46907480</td>\n",
       "      <td>504.05</td>\n",
       "      <td>505.77</td>\n",
       "      <td>498.31</td>\n",
       "    </tr>\n",
       "    <tr>\n",
       "      <td>8/27/2020</td>\n",
       "      <td>500.04</td>\n",
       "      <td>38888100</td>\n",
       "      <td>508.57</td>\n",
       "      <td>509.94</td>\n",
       "      <td>495.33</td>\n",
       "    </tr>\n",
       "    <tr>\n",
       "      <td>8/26/2020</td>\n",
       "      <td>506.09</td>\n",
       "      <td>40755570</td>\n",
       "      <td>504.72</td>\n",
       "      <td>507.97</td>\n",
       "      <td>500.33</td>\n",
       "    </tr>\n",
       "    <tr>\n",
       "      <td>8/25/2020</td>\n",
       "      <td>499.30</td>\n",
       "      <td>52873950</td>\n",
       "      <td>498.79</td>\n",
       "      <td>500.72</td>\n",
       "      <td>492.21</td>\n",
       "    </tr>\n",
       "    <tr>\n",
       "      <td>8/24/2020</td>\n",
       "      <td>503.43</td>\n",
       "      <td>86484440</td>\n",
       "      <td>514.79</td>\n",
       "      <td>515.14</td>\n",
       "      <td>495.75</td>\n",
       "    </tr>\n",
       "    <tr>\n",
       "      <td>...</td>\n",
       "      <td>...</td>\n",
       "      <td>...</td>\n",
       "      <td>...</td>\n",
       "      <td>...</td>\n",
       "      <td>...</td>\n",
       "    </tr>\n",
       "    <tr>\n",
       "      <td>3/20/2020</td>\n",
       "      <td>229.24</td>\n",
       "      <td>100423300</td>\n",
       "      <td>247.18</td>\n",
       "      <td>251.83</td>\n",
       "      <td>228.00</td>\n",
       "    </tr>\n",
       "    <tr>\n",
       "      <td>3/19/2020</td>\n",
       "      <td>244.78</td>\n",
       "      <td>67964260</td>\n",
       "      <td>247.39</td>\n",
       "      <td>252.84</td>\n",
       "      <td>242.61</td>\n",
       "    </tr>\n",
       "    <tr>\n",
       "      <td>3/18/2020</td>\n",
       "      <td>246.67</td>\n",
       "      <td>75058410</td>\n",
       "      <td>239.77</td>\n",
       "      <td>250.00</td>\n",
       "      <td>237.12</td>\n",
       "    </tr>\n",
       "    <tr>\n",
       "      <td>3/17/2020</td>\n",
       "      <td>252.86</td>\n",
       "      <td>81013970</td>\n",
       "      <td>247.51</td>\n",
       "      <td>257.61</td>\n",
       "      <td>238.40</td>\n",
       "    </tr>\n",
       "    <tr>\n",
       "      <td>3/16/2020</td>\n",
       "      <td>242.21</td>\n",
       "      <td>80605870</td>\n",
       "      <td>241.95</td>\n",
       "      <td>259.08</td>\n",
       "      <td>240.00</td>\n",
       "    </tr>\n",
       "  </tbody>\n",
       "</table>\n",
       "<p>117 rows × 5 columns</p>\n",
       "</div>"
      ],
      "text/plain": [
       "            Close     Volume    Open    High     Low\n",
       "Date                                                \n",
       "8/28/2020  499.23   46907480  504.05  505.77  498.31\n",
       "8/27/2020  500.04   38888100  508.57  509.94  495.33\n",
       "8/26/2020  506.09   40755570  504.72  507.97  500.33\n",
       "8/25/2020  499.30   52873950  498.79  500.72  492.21\n",
       "8/24/2020  503.43   86484440  514.79  515.14  495.75\n",
       "...           ...        ...     ...     ...     ...\n",
       "3/20/2020  229.24  100423300  247.18  251.83  228.00\n",
       "3/19/2020  244.78   67964260  247.39  252.84  242.61\n",
       "3/18/2020  246.67   75058410  239.77  250.00  237.12\n",
       "3/17/2020  252.86   81013970  247.51  257.61  238.40\n",
       "3/16/2020  242.21   80605870  241.95  259.08  240.00\n",
       "\n",
       "[117 rows x 5 columns]"
      ]
     },
     "execution_count": 16,
     "metadata": {},
     "output_type": "execute_result"
    }
   ],
   "source": [
    "AAPL"
   ]
  },
  {
   "cell_type": "code",
   "execution_count": 17,
   "metadata": {},
   "outputs": [
    {
     "data": {
      "text/html": [
       "<div>\n",
       "<style scoped>\n",
       "    .dataframe tbody tr th:only-of-type {\n",
       "        vertical-align: middle;\n",
       "    }\n",
       "\n",
       "    .dataframe tbody tr th {\n",
       "        vertical-align: top;\n",
       "    }\n",
       "\n",
       "    .dataframe thead th {\n",
       "        text-align: right;\n",
       "    }\n",
       "</style>\n",
       "<table border=\"1\" class=\"dataframe\">\n",
       "  <thead>\n",
       "    <tr style=\"text-align: right;\">\n",
       "      <th></th>\n",
       "      <th>Close</th>\n",
       "      <th>Volume</th>\n",
       "      <th>Open</th>\n",
       "      <th>High</th>\n",
       "      <th>Low</th>\n",
       "    </tr>\n",
       "    <tr>\n",
       "      <th>Date</th>\n",
       "      <th></th>\n",
       "      <th></th>\n",
       "      <th></th>\n",
       "      <th></th>\n",
       "      <th></th>\n",
       "    </tr>\n",
       "  </thead>\n",
       "  <tbody>\n",
       "    <tr>\n",
       "      <td>8/28/2020</td>\n",
       "      <td>3401.80</td>\n",
       "      <td>2896978</td>\n",
       "      <td>3423.00</td>\n",
       "      <td>3433.37</td>\n",
       "      <td>3386.50</td>\n",
       "    </tr>\n",
       "    <tr>\n",
       "      <td>8/27/2020</td>\n",
       "      <td>3400.00</td>\n",
       "      <td>4264795</td>\n",
       "      <td>3450.05</td>\n",
       "      <td>3453.00</td>\n",
       "      <td>3378.00</td>\n",
       "    </tr>\n",
       "    <tr>\n",
       "      <td>8/26/2020</td>\n",
       "      <td>3441.85</td>\n",
       "      <td>6508743</td>\n",
       "      <td>3351.11</td>\n",
       "      <td>3451.74</td>\n",
       "      <td>3344.57</td>\n",
       "    </tr>\n",
       "    <tr>\n",
       "      <td>8/25/2020</td>\n",
       "      <td>3346.49</td>\n",
       "      <td>3992842</td>\n",
       "      <td>3294.99</td>\n",
       "      <td>3357.40</td>\n",
       "      <td>3267.00</td>\n",
       "    </tr>\n",
       "    <tr>\n",
       "      <td>8/24/2020</td>\n",
       "      <td>3307.46</td>\n",
       "      <td>4666258</td>\n",
       "      <td>3310.15</td>\n",
       "      <td>3380.32</td>\n",
       "      <td>3257.56</td>\n",
       "    </tr>\n",
       "    <tr>\n",
       "      <td>...</td>\n",
       "      <td>...</td>\n",
       "      <td>...</td>\n",
       "      <td>...</td>\n",
       "      <td>...</td>\n",
       "      <td>...</td>\n",
       "    </tr>\n",
       "    <tr>\n",
       "      <td>3/20/2020</td>\n",
       "      <td>1846.09</td>\n",
       "      <td>9817850</td>\n",
       "      <td>1926.31</td>\n",
       "      <td>1957.00</td>\n",
       "      <td>1820.73</td>\n",
       "    </tr>\n",
       "    <tr>\n",
       "      <td>3/19/2020</td>\n",
       "      <td>1880.93</td>\n",
       "      <td>10399940</td>\n",
       "      <td>1860.00</td>\n",
       "      <td>1945.00</td>\n",
       "      <td>1832.65</td>\n",
       "    </tr>\n",
       "    <tr>\n",
       "      <td>3/18/2020</td>\n",
       "      <td>1830.00</td>\n",
       "      <td>9645218</td>\n",
       "      <td>1750.00</td>\n",
       "      <td>1841.66</td>\n",
       "      <td>1745.00</td>\n",
       "    </tr>\n",
       "    <tr>\n",
       "      <td>3/17/2020</td>\n",
       "      <td>1807.84</td>\n",
       "      <td>10917130</td>\n",
       "      <td>1775.47</td>\n",
       "      <td>1857.78</td>\n",
       "      <td>1689.24</td>\n",
       "    </tr>\n",
       "    <tr>\n",
       "      <td>3/16/2020</td>\n",
       "      <td>1689.15</td>\n",
       "      <td>8917265</td>\n",
       "      <td>1641.51</td>\n",
       "      <td>1759.45</td>\n",
       "      <td>1626.03</td>\n",
       "    </tr>\n",
       "  </tbody>\n",
       "</table>\n",
       "<p>117 rows × 5 columns</p>\n",
       "</div>"
      ],
      "text/plain": [
       "             Close    Volume     Open     High      Low\n",
       "Date                                                   \n",
       "8/28/2020  3401.80   2896978  3423.00  3433.37  3386.50\n",
       "8/27/2020  3400.00   4264795  3450.05  3453.00  3378.00\n",
       "8/26/2020  3441.85   6508743  3351.11  3451.74  3344.57\n",
       "8/25/2020  3346.49   3992842  3294.99  3357.40  3267.00\n",
       "8/24/2020  3307.46   4666258  3310.15  3380.32  3257.56\n",
       "...            ...       ...      ...      ...      ...\n",
       "3/20/2020  1846.09   9817850  1926.31  1957.00  1820.73\n",
       "3/19/2020  1880.93  10399940  1860.00  1945.00  1832.65\n",
       "3/18/2020  1830.00   9645218  1750.00  1841.66  1745.00\n",
       "3/17/2020  1807.84  10917130  1775.47  1857.78  1689.24\n",
       "3/16/2020  1689.15   8917265  1641.51  1759.45  1626.03\n",
       "\n",
       "[117 rows x 5 columns]"
      ]
     },
     "execution_count": 17,
     "metadata": {},
     "output_type": "execute_result"
    }
   ],
   "source": [
    "Amazon"
   ]
  },
  {
   "cell_type": "code",
   "execution_count": 18,
   "metadata": {},
   "outputs": [
    {
     "data": {
      "text/html": [
       "<div>\n",
       "<style scoped>\n",
       "    .dataframe tbody tr th:only-of-type {\n",
       "        vertical-align: middle;\n",
       "    }\n",
       "\n",
       "    .dataframe tbody tr th {\n",
       "        vertical-align: top;\n",
       "    }\n",
       "\n",
       "    .dataframe thead th {\n",
       "        text-align: right;\n",
       "    }\n",
       "</style>\n",
       "<table border=\"1\" class=\"dataframe\">\n",
       "  <thead>\n",
       "    <tr style=\"text-align: right;\">\n",
       "      <th></th>\n",
       "      <th>Close</th>\n",
       "      <th>Volume</th>\n",
       "      <th>Open</th>\n",
       "      <th>High</th>\n",
       "      <th>Low</th>\n",
       "    </tr>\n",
       "    <tr>\n",
       "      <th>Date</th>\n",
       "      <th></th>\n",
       "      <th></th>\n",
       "      <th></th>\n",
       "      <th></th>\n",
       "      <th></th>\n",
       "    </tr>\n",
       "  </thead>\n",
       "  <tbody>\n",
       "    <tr>\n",
       "      <td>8/28/2020</td>\n",
       "      <td>293.66</td>\n",
       "      <td>17172420</td>\n",
       "      <td>295.00</td>\n",
       "      <td>297.23</td>\n",
       "      <td>290.98</td>\n",
       "    </tr>\n",
       "    <tr>\n",
       "      <td>8/27/2020</td>\n",
       "      <td>293.22</td>\n",
       "      <td>30301310</td>\n",
       "      <td>300.16</td>\n",
       "      <td>301.23</td>\n",
       "      <td>292.02</td>\n",
       "    </tr>\n",
       "    <tr>\n",
       "      <td>8/26/2020</td>\n",
       "      <td>303.91</td>\n",
       "      <td>69015150</td>\n",
       "      <td>284.00</td>\n",
       "      <td>304.67</td>\n",
       "      <td>284.00</td>\n",
       "    </tr>\n",
       "    <tr>\n",
       "      <td>8/25/2020</td>\n",
       "      <td>280.82</td>\n",
       "      <td>42127240</td>\n",
       "      <td>272.41</td>\n",
       "      <td>283.09</td>\n",
       "      <td>270.26</td>\n",
       "    </tr>\n",
       "    <tr>\n",
       "      <td>8/24/2020</td>\n",
       "      <td>271.39</td>\n",
       "      <td>23685600</td>\n",
       "      <td>271.07</td>\n",
       "      <td>277.25</td>\n",
       "      <td>268.77</td>\n",
       "    </tr>\n",
       "    <tr>\n",
       "      <td>...</td>\n",
       "      <td>...</td>\n",
       "      <td>...</td>\n",
       "      <td>...</td>\n",
       "      <td>...</td>\n",
       "      <td>...</td>\n",
       "    </tr>\n",
       "    <tr>\n",
       "      <td>3/20/2020</td>\n",
       "      <td>149.73</td>\n",
       "      <td>32568400</td>\n",
       "      <td>156.02</td>\n",
       "      <td>159.27</td>\n",
       "      <td>148.00</td>\n",
       "    </tr>\n",
       "    <tr>\n",
       "      <td>3/19/2020</td>\n",
       "      <td>153.13</td>\n",
       "      <td>39862310</td>\n",
       "      <td>146.62</td>\n",
       "      <td>159.93</td>\n",
       "      <td>144.80</td>\n",
       "    </tr>\n",
       "    <tr>\n",
       "      <td>3/18/2020</td>\n",
       "      <td>146.96</td>\n",
       "      <td>37553140</td>\n",
       "      <td>139.75</td>\n",
       "      <td>148.18</td>\n",
       "      <td>137.10</td>\n",
       "    </tr>\n",
       "    <tr>\n",
       "      <td>3/17/2020</td>\n",
       "      <td>149.42</td>\n",
       "      <td>34255600</td>\n",
       "      <td>150.74</td>\n",
       "      <td>153.94</td>\n",
       "      <td>140.00</td>\n",
       "    </tr>\n",
       "    <tr>\n",
       "      <td>3/16/2020</td>\n",
       "      <td>146.01</td>\n",
       "      <td>39120420</td>\n",
       "      <td>152.32</td>\n",
       "      <td>159.13</td>\n",
       "      <td>143.10</td>\n",
       "    </tr>\n",
       "  </tbody>\n",
       "</table>\n",
       "<p>117 rows × 5 columns</p>\n",
       "</div>"
      ],
      "text/plain": [
       "            Close    Volume    Open    High     Low\n",
       "Date                                               \n",
       "8/28/2020  293.66  17172420  295.00  297.23  290.98\n",
       "8/27/2020  293.22  30301310  300.16  301.23  292.02\n",
       "8/26/2020  303.91  69015150  284.00  304.67  284.00\n",
       "8/25/2020  280.82  42127240  272.41  283.09  270.26\n",
       "8/24/2020  271.39  23685600  271.07  277.25  268.77\n",
       "...           ...       ...     ...     ...     ...\n",
       "3/20/2020  149.73  32568400  156.02  159.27  148.00\n",
       "3/19/2020  153.13  39862310  146.62  159.93  144.80\n",
       "3/18/2020  146.96  37553140  139.75  148.18  137.10\n",
       "3/17/2020  149.42  34255600  150.74  153.94  140.00\n",
       "3/16/2020  146.01  39120420  152.32  159.13  143.10\n",
       "\n",
       "[117 rows x 5 columns]"
      ]
     },
     "execution_count": 18,
     "metadata": {},
     "output_type": "execute_result"
    }
   ],
   "source": [
    "Facebook"
   ]
  },
  {
   "cell_type": "code",
   "execution_count": 19,
   "metadata": {},
   "outputs": [
    {
     "data": {
      "text/html": [
       "<div>\n",
       "<style scoped>\n",
       "    .dataframe tbody tr th:only-of-type {\n",
       "        vertical-align: middle;\n",
       "    }\n",
       "\n",
       "    .dataframe tbody tr th {\n",
       "        vertical-align: top;\n",
       "    }\n",
       "\n",
       "    .dataframe thead th {\n",
       "        text-align: right;\n",
       "    }\n",
       "</style>\n",
       "<table border=\"1\" class=\"dataframe\">\n",
       "  <thead>\n",
       "    <tr style=\"text-align: right;\">\n",
       "      <th></th>\n",
       "      <th>Close</th>\n",
       "      <th>Volume</th>\n",
       "      <th>Open</th>\n",
       "      <th>High</th>\n",
       "      <th>Low</th>\n",
       "    </tr>\n",
       "    <tr>\n",
       "      <th>Date</th>\n",
       "      <th></th>\n",
       "      <th></th>\n",
       "      <th></th>\n",
       "      <th></th>\n",
       "      <th></th>\n",
       "    </tr>\n",
       "  </thead>\n",
       "  <tbody>\n",
       "    <tr>\n",
       "      <td>8/28/2020</td>\n",
       "      <td>228.91</td>\n",
       "      <td>26292900</td>\n",
       "      <td>228.18</td>\n",
       "      <td>230.64</td>\n",
       "      <td>226.58</td>\n",
       "    </tr>\n",
       "    <tr>\n",
       "      <td>8/27/2020</td>\n",
       "      <td>226.58</td>\n",
       "      <td>57602200</td>\n",
       "      <td>222.89</td>\n",
       "      <td>231.15</td>\n",
       "      <td>219.40</td>\n",
       "    </tr>\n",
       "    <tr>\n",
       "      <td>8/26/2020</td>\n",
       "      <td>221.15</td>\n",
       "      <td>39600830</td>\n",
       "      <td>217.88</td>\n",
       "      <td>222.09</td>\n",
       "      <td>217.36</td>\n",
       "    </tr>\n",
       "    <tr>\n",
       "      <td>8/25/2020</td>\n",
       "      <td>216.47</td>\n",
       "      <td>23043700</td>\n",
       "      <td>213.10</td>\n",
       "      <td>216.61</td>\n",
       "      <td>213.10</td>\n",
       "    </tr>\n",
       "    <tr>\n",
       "      <td>8/24/2020</td>\n",
       "      <td>213.69</td>\n",
       "      <td>25460150</td>\n",
       "      <td>214.79</td>\n",
       "      <td>215.52</td>\n",
       "      <td>212.43</td>\n",
       "    </tr>\n",
       "    <tr>\n",
       "      <td>...</td>\n",
       "      <td>...</td>\n",
       "      <td>...</td>\n",
       "      <td>...</td>\n",
       "      <td>...</td>\n",
       "      <td>...</td>\n",
       "    </tr>\n",
       "    <tr>\n",
       "      <td>3/20/2020</td>\n",
       "      <td>137.35</td>\n",
       "      <td>84866220</td>\n",
       "      <td>146.00</td>\n",
       "      <td>147.10</td>\n",
       "      <td>135.86</td>\n",
       "    </tr>\n",
       "    <tr>\n",
       "      <td>3/19/2020</td>\n",
       "      <td>142.71</td>\n",
       "      <td>85922660</td>\n",
       "      <td>142.77</td>\n",
       "      <td>150.15</td>\n",
       "      <td>139.00</td>\n",
       "    </tr>\n",
       "    <tr>\n",
       "      <td>3/18/2020</td>\n",
       "      <td>140.40</td>\n",
       "      <td>81593170</td>\n",
       "      <td>138.00</td>\n",
       "      <td>146.00</td>\n",
       "      <td>135.02</td>\n",
       "    </tr>\n",
       "    <tr>\n",
       "      <td>3/17/2020</td>\n",
       "      <td>146.57</td>\n",
       "      <td>81059820</td>\n",
       "      <td>140.00</td>\n",
       "      <td>147.50</td>\n",
       "      <td>135.00</td>\n",
       "    </tr>\n",
       "    <tr>\n",
       "      <td>3/16/2020</td>\n",
       "      <td>135.42</td>\n",
       "      <td>87905870</td>\n",
       "      <td>140.00</td>\n",
       "      <td>149.35</td>\n",
       "      <td>135.00</td>\n",
       "    </tr>\n",
       "  </tbody>\n",
       "</table>\n",
       "<p>117 rows × 5 columns</p>\n",
       "</div>"
      ],
      "text/plain": [
       "            Close    Volume    Open    High     Low\n",
       "Date                                               \n",
       "8/28/2020  228.91  26292900  228.18  230.64  226.58\n",
       "8/27/2020  226.58  57602200  222.89  231.15  219.40\n",
       "8/26/2020  221.15  39600830  217.88  222.09  217.36\n",
       "8/25/2020  216.47  23043700  213.10  216.61  213.10\n",
       "8/24/2020  213.69  25460150  214.79  215.52  212.43\n",
       "...           ...       ...     ...     ...     ...\n",
       "3/20/2020  137.35  84866220  146.00  147.10  135.86\n",
       "3/19/2020  142.71  85922660  142.77  150.15  139.00\n",
       "3/18/2020  140.40  81593170  138.00  146.00  135.02\n",
       "3/17/2020  146.57  81059820  140.00  147.50  135.00\n",
       "3/16/2020  135.42  87905870  140.00  149.35  135.00\n",
       "\n",
       "[117 rows x 5 columns]"
      ]
     },
     "execution_count": 19,
     "metadata": {},
     "output_type": "execute_result"
    }
   ],
   "source": [
    "Microsoft"
   ]
  },
  {
   "cell_type": "code",
   "execution_count": 20,
   "metadata": {},
   "outputs": [
    {
     "data": {
      "text/html": [
       "<div>\n",
       "<style scoped>\n",
       "    .dataframe tbody tr th:only-of-type {\n",
       "        vertical-align: middle;\n",
       "    }\n",
       "\n",
       "    .dataframe tbody tr th {\n",
       "        vertical-align: top;\n",
       "    }\n",
       "\n",
       "    .dataframe thead th {\n",
       "        text-align: right;\n",
       "    }\n",
       "</style>\n",
       "<table border=\"1\" class=\"dataframe\">\n",
       "  <thead>\n",
       "    <tr style=\"text-align: right;\">\n",
       "      <th></th>\n",
       "      <th>Close</th>\n",
       "      <th>Volume</th>\n",
       "      <th>Open</th>\n",
       "      <th>High</th>\n",
       "      <th>Low</th>\n",
       "    </tr>\n",
       "    <tr>\n",
       "      <th>Date</th>\n",
       "      <th></th>\n",
       "      <th></th>\n",
       "      <th></th>\n",
       "      <th></th>\n",
       "      <th></th>\n",
       "    </tr>\n",
       "  </thead>\n",
       "  <tbody>\n",
       "    <tr>\n",
       "      <td>8/28/2020</td>\n",
       "      <td>2213.40</td>\n",
       "      <td>20081180</td>\n",
       "      <td>2295.12</td>\n",
       "      <td>2318.49</td>\n",
       "      <td>2186.52</td>\n",
       "    </tr>\n",
       "    <tr>\n",
       "      <td>8/27/2020</td>\n",
       "      <td>2238.75</td>\n",
       "      <td>23693040</td>\n",
       "      <td>2180.46</td>\n",
       "      <td>2295.60</td>\n",
       "      <td>2142.50</td>\n",
       "    </tr>\n",
       "    <tr>\n",
       "      <td>8/26/2020</td>\n",
       "      <td>2153.17</td>\n",
       "      <td>14239380</td>\n",
       "      <td>2060.00</td>\n",
       "      <td>2166.00</td>\n",
       "      <td>2053.63</td>\n",
       "    </tr>\n",
       "    <tr>\n",
       "      <td>8/25/2020</td>\n",
       "      <td>2023.34</td>\n",
       "      <td>10658890</td>\n",
       "      <td>1974.89</td>\n",
       "      <td>2027.95</td>\n",
       "      <td>1968.00</td>\n",
       "    </tr>\n",
       "    <tr>\n",
       "      <td>8/24/2020</td>\n",
       "      <td>2014.20</td>\n",
       "      <td>20063620</td>\n",
       "      <td>2126.28</td>\n",
       "      <td>2129.00</td>\n",
       "      <td>1927.52</td>\n",
       "    </tr>\n",
       "    <tr>\n",
       "      <td>...</td>\n",
       "      <td>...</td>\n",
       "      <td>...</td>\n",
       "      <td>...</td>\n",
       "      <td>...</td>\n",
       "      <td>...</td>\n",
       "    </tr>\n",
       "    <tr>\n",
       "      <td>3/20/2020</td>\n",
       "      <td>427.53</td>\n",
       "      <td>28285500</td>\n",
       "      <td>438.20</td>\n",
       "      <td>477.00</td>\n",
       "      <td>425.79</td>\n",
       "    </tr>\n",
       "    <tr>\n",
       "      <td>3/19/2020</td>\n",
       "      <td>427.64</td>\n",
       "      <td>30195460</td>\n",
       "      <td>374.70</td>\n",
       "      <td>452.00</td>\n",
       "      <td>358.46</td>\n",
       "    </tr>\n",
       "    <tr>\n",
       "      <td>3/18/2020</td>\n",
       "      <td>361.22</td>\n",
       "      <td>23786160</td>\n",
       "      <td>389.00</td>\n",
       "      <td>404.86</td>\n",
       "      <td>350.51</td>\n",
       "    </tr>\n",
       "    <tr>\n",
       "      <td>3/17/2020</td>\n",
       "      <td>430.20</td>\n",
       "      <td>23994580</td>\n",
       "      <td>440.01</td>\n",
       "      <td>471.85</td>\n",
       "      <td>396.00</td>\n",
       "    </tr>\n",
       "    <tr>\n",
       "      <td>3/16/2020</td>\n",
       "      <td>445.07</td>\n",
       "      <td>20489460</td>\n",
       "      <td>469.50</td>\n",
       "      <td>494.87</td>\n",
       "      <td>442.17</td>\n",
       "    </tr>\n",
       "  </tbody>\n",
       "</table>\n",
       "<p>117 rows × 5 columns</p>\n",
       "</div>"
      ],
      "text/plain": [
       "             Close    Volume     Open     High      Low\n",
       "Date                                                   \n",
       "8/28/2020  2213.40  20081180  2295.12  2318.49  2186.52\n",
       "8/27/2020  2238.75  23693040  2180.46  2295.60  2142.50\n",
       "8/26/2020  2153.17  14239380  2060.00  2166.00  2053.63\n",
       "8/25/2020  2023.34  10658890  1974.89  2027.95  1968.00\n",
       "8/24/2020  2014.20  20063620  2126.28  2129.00  1927.52\n",
       "...            ...       ...      ...      ...      ...\n",
       "3/20/2020   427.53  28285500   438.20   477.00   425.79\n",
       "3/19/2020   427.64  30195460   374.70   452.00   358.46\n",
       "3/18/2020   361.22  23786160   389.00   404.86   350.51\n",
       "3/17/2020   430.20  23994580   440.01   471.85   396.00\n",
       "3/16/2020   445.07  20489460   469.50   494.87   442.17\n",
       "\n",
       "[117 rows x 5 columns]"
      ]
     },
     "execution_count": 20,
     "metadata": {},
     "output_type": "execute_result"
    }
   ],
   "source": [
    "Tesla"
   ]
  },
  {
   "cell_type": "code",
   "execution_count": 21,
   "metadata": {},
   "outputs": [],
   "source": [
    "import seaborn as sns"
   ]
  },
  {
   "cell_type": "code",
   "execution_count": 22,
   "metadata": {},
   "outputs": [],
   "source": [
    "tickers = ['AAPL','Amazon','Facebook','Microsoft','Tesla']\n",
    "stock_data = pd.concat([AAPL,Amazon,Facebook,Microsoft,Tesla],axis=1,keys=tickers)\n",
    "stock_data.columns.names = ['Company Ticker', 'Stock Info']"
   ]
  },
  {
   "cell_type": "code",
   "execution_count": 23,
   "metadata": {},
   "outputs": [
    {
     "data": {
      "text/html": [
       "<div>\n",
       "<style scoped>\n",
       "    .dataframe tbody tr th:only-of-type {\n",
       "        vertical-align: middle;\n",
       "    }\n",
       "\n",
       "    .dataframe tbody tr th {\n",
       "        vertical-align: top;\n",
       "    }\n",
       "\n",
       "    .dataframe thead tr th {\n",
       "        text-align: left;\n",
       "    }\n",
       "\n",
       "    .dataframe thead tr:last-of-type th {\n",
       "        text-align: right;\n",
       "    }\n",
       "</style>\n",
       "<table border=\"1\" class=\"dataframe\">\n",
       "  <thead>\n",
       "    <tr>\n",
       "      <th>Company Ticker</th>\n",
       "      <th colspan=\"5\" halign=\"left\">AAPL</th>\n",
       "      <th colspan=\"5\" halign=\"left\">Amazon</th>\n",
       "      <th>...</th>\n",
       "      <th colspan=\"5\" halign=\"left\">Microsoft</th>\n",
       "      <th colspan=\"5\" halign=\"left\">Tesla</th>\n",
       "    </tr>\n",
       "    <tr>\n",
       "      <th>Stock Info</th>\n",
       "      <th>Close</th>\n",
       "      <th>Volume</th>\n",
       "      <th>Open</th>\n",
       "      <th>High</th>\n",
       "      <th>Low</th>\n",
       "      <th>Close</th>\n",
       "      <th>Volume</th>\n",
       "      <th>Open</th>\n",
       "      <th>High</th>\n",
       "      <th>Low</th>\n",
       "      <th>...</th>\n",
       "      <th>Close</th>\n",
       "      <th>Volume</th>\n",
       "      <th>Open</th>\n",
       "      <th>High</th>\n",
       "      <th>Low</th>\n",
       "      <th>Close</th>\n",
       "      <th>Volume</th>\n",
       "      <th>Open</th>\n",
       "      <th>High</th>\n",
       "      <th>Low</th>\n",
       "    </tr>\n",
       "    <tr>\n",
       "      <th>Date</th>\n",
       "      <th></th>\n",
       "      <th></th>\n",
       "      <th></th>\n",
       "      <th></th>\n",
       "      <th></th>\n",
       "      <th></th>\n",
       "      <th></th>\n",
       "      <th></th>\n",
       "      <th></th>\n",
       "      <th></th>\n",
       "      <th></th>\n",
       "      <th></th>\n",
       "      <th></th>\n",
       "      <th></th>\n",
       "      <th></th>\n",
       "      <th></th>\n",
       "      <th></th>\n",
       "      <th></th>\n",
       "      <th></th>\n",
       "      <th></th>\n",
       "      <th></th>\n",
       "    </tr>\n",
       "  </thead>\n",
       "  <tbody>\n",
       "    <tr>\n",
       "      <td>8/28/2020</td>\n",
       "      <td>499.23</td>\n",
       "      <td>46907480</td>\n",
       "      <td>504.05</td>\n",
       "      <td>505.77</td>\n",
       "      <td>498.31</td>\n",
       "      <td>3401.80</td>\n",
       "      <td>2896978</td>\n",
       "      <td>3423.00</td>\n",
       "      <td>3433.37</td>\n",
       "      <td>3386.50</td>\n",
       "      <td>...</td>\n",
       "      <td>228.91</td>\n",
       "      <td>26292900</td>\n",
       "      <td>228.18</td>\n",
       "      <td>230.64</td>\n",
       "      <td>226.58</td>\n",
       "      <td>2213.40</td>\n",
       "      <td>20081180</td>\n",
       "      <td>2295.12</td>\n",
       "      <td>2318.49</td>\n",
       "      <td>2186.52</td>\n",
       "    </tr>\n",
       "    <tr>\n",
       "      <td>8/27/2020</td>\n",
       "      <td>500.04</td>\n",
       "      <td>38888100</td>\n",
       "      <td>508.57</td>\n",
       "      <td>509.94</td>\n",
       "      <td>495.33</td>\n",
       "      <td>3400.00</td>\n",
       "      <td>4264795</td>\n",
       "      <td>3450.05</td>\n",
       "      <td>3453.00</td>\n",
       "      <td>3378.00</td>\n",
       "      <td>...</td>\n",
       "      <td>226.58</td>\n",
       "      <td>57602200</td>\n",
       "      <td>222.89</td>\n",
       "      <td>231.15</td>\n",
       "      <td>219.40</td>\n",
       "      <td>2238.75</td>\n",
       "      <td>23693040</td>\n",
       "      <td>2180.46</td>\n",
       "      <td>2295.60</td>\n",
       "      <td>2142.50</td>\n",
       "    </tr>\n",
       "    <tr>\n",
       "      <td>8/26/2020</td>\n",
       "      <td>506.09</td>\n",
       "      <td>40755570</td>\n",
       "      <td>504.72</td>\n",
       "      <td>507.97</td>\n",
       "      <td>500.33</td>\n",
       "      <td>3441.85</td>\n",
       "      <td>6508743</td>\n",
       "      <td>3351.11</td>\n",
       "      <td>3451.74</td>\n",
       "      <td>3344.57</td>\n",
       "      <td>...</td>\n",
       "      <td>221.15</td>\n",
       "      <td>39600830</td>\n",
       "      <td>217.88</td>\n",
       "      <td>222.09</td>\n",
       "      <td>217.36</td>\n",
       "      <td>2153.17</td>\n",
       "      <td>14239380</td>\n",
       "      <td>2060.00</td>\n",
       "      <td>2166.00</td>\n",
       "      <td>2053.63</td>\n",
       "    </tr>\n",
       "    <tr>\n",
       "      <td>8/25/2020</td>\n",
       "      <td>499.30</td>\n",
       "      <td>52873950</td>\n",
       "      <td>498.79</td>\n",
       "      <td>500.72</td>\n",
       "      <td>492.21</td>\n",
       "      <td>3346.49</td>\n",
       "      <td>3992842</td>\n",
       "      <td>3294.99</td>\n",
       "      <td>3357.40</td>\n",
       "      <td>3267.00</td>\n",
       "      <td>...</td>\n",
       "      <td>216.47</td>\n",
       "      <td>23043700</td>\n",
       "      <td>213.10</td>\n",
       "      <td>216.61</td>\n",
       "      <td>213.10</td>\n",
       "      <td>2023.34</td>\n",
       "      <td>10658890</td>\n",
       "      <td>1974.89</td>\n",
       "      <td>2027.95</td>\n",
       "      <td>1968.00</td>\n",
       "    </tr>\n",
       "    <tr>\n",
       "      <td>8/24/2020</td>\n",
       "      <td>503.43</td>\n",
       "      <td>86484440</td>\n",
       "      <td>514.79</td>\n",
       "      <td>515.14</td>\n",
       "      <td>495.75</td>\n",
       "      <td>3307.46</td>\n",
       "      <td>4666258</td>\n",
       "      <td>3310.15</td>\n",
       "      <td>3380.32</td>\n",
       "      <td>3257.56</td>\n",
       "      <td>...</td>\n",
       "      <td>213.69</td>\n",
       "      <td>25460150</td>\n",
       "      <td>214.79</td>\n",
       "      <td>215.52</td>\n",
       "      <td>212.43</td>\n",
       "      <td>2014.20</td>\n",
       "      <td>20063620</td>\n",
       "      <td>2126.28</td>\n",
       "      <td>2129.00</td>\n",
       "      <td>1927.52</td>\n",
       "    </tr>\n",
       "  </tbody>\n",
       "</table>\n",
       "<p>5 rows × 25 columns</p>\n",
       "</div>"
      ],
      "text/plain": [
       "Company Ticker    AAPL                                     Amazon           \\\n",
       "Stock Info       Close    Volume    Open    High     Low    Close   Volume   \n",
       "Date                                                                         \n",
       "8/28/2020       499.23  46907480  504.05  505.77  498.31  3401.80  2896978   \n",
       "8/27/2020       500.04  38888100  508.57  509.94  495.33  3400.00  4264795   \n",
       "8/26/2020       506.09  40755570  504.72  507.97  500.33  3441.85  6508743   \n",
       "8/25/2020       499.30  52873950  498.79  500.72  492.21  3346.49  3992842   \n",
       "8/24/2020       503.43  86484440  514.79  515.14  495.75  3307.46  4666258   \n",
       "\n",
       "Company Ticker                             ... Microsoft                    \\\n",
       "Stock Info         Open     High      Low  ...     Close    Volume    Open   \n",
       "Date                                       ...                               \n",
       "8/28/2020       3423.00  3433.37  3386.50  ...    228.91  26292900  228.18   \n",
       "8/27/2020       3450.05  3453.00  3378.00  ...    226.58  57602200  222.89   \n",
       "8/26/2020       3351.11  3451.74  3344.57  ...    221.15  39600830  217.88   \n",
       "8/25/2020       3294.99  3357.40  3267.00  ...    216.47  23043700  213.10   \n",
       "8/24/2020       3310.15  3380.32  3257.56  ...    213.69  25460150  214.79   \n",
       "\n",
       "Company Ticker                    Tesla                                       \n",
       "Stock Info        High     Low    Close    Volume     Open     High      Low  \n",
       "Date                                                                          \n",
       "8/28/2020       230.64  226.58  2213.40  20081180  2295.12  2318.49  2186.52  \n",
       "8/27/2020       231.15  219.40  2238.75  23693040  2180.46  2295.60  2142.50  \n",
       "8/26/2020       222.09  217.36  2153.17  14239380  2060.00  2166.00  2053.63  \n",
       "8/25/2020       216.61  213.10  2023.34  10658890  1974.89  2027.95  1968.00  \n",
       "8/24/2020       215.52  212.43  2014.20  20063620  2126.28  2129.00  1927.52  \n",
       "\n",
       "[5 rows x 25 columns]"
      ]
     },
     "execution_count": 23,
     "metadata": {},
     "output_type": "execute_result"
    }
   ],
   "source": [
    "stock_data.head()"
   ]
  },
  {
   "cell_type": "code",
   "execution_count": 24,
   "metadata": {},
   "outputs": [
    {
     "data": {
      "text/html": [
       "<div>\n",
       "<style scoped>\n",
       "    .dataframe tbody tr th:only-of-type {\n",
       "        vertical-align: middle;\n",
       "    }\n",
       "\n",
       "    .dataframe tbody tr th {\n",
       "        vertical-align: top;\n",
       "    }\n",
       "\n",
       "    .dataframe thead th {\n",
       "        text-align: right;\n",
       "    }\n",
       "</style>\n",
       "<table border=\"1\" class=\"dataframe\">\n",
       "  <thead>\n",
       "    <tr style=\"text-align: right;\">\n",
       "      <th>Stock Info</th>\n",
       "      <th>Close</th>\n",
       "      <th>Volume</th>\n",
       "      <th>Open</th>\n",
       "      <th>High</th>\n",
       "      <th>Low</th>\n",
       "    </tr>\n",
       "    <tr>\n",
       "      <th>Date</th>\n",
       "      <th></th>\n",
       "      <th></th>\n",
       "      <th></th>\n",
       "      <th></th>\n",
       "      <th></th>\n",
       "    </tr>\n",
       "  </thead>\n",
       "  <tbody>\n",
       "    <tr>\n",
       "      <td>8/28/2020</td>\n",
       "      <td>293.66</td>\n",
       "      <td>17172420</td>\n",
       "      <td>295.00</td>\n",
       "      <td>297.23</td>\n",
       "      <td>290.98</td>\n",
       "    </tr>\n",
       "    <tr>\n",
       "      <td>8/27/2020</td>\n",
       "      <td>293.22</td>\n",
       "      <td>30301310</td>\n",
       "      <td>300.16</td>\n",
       "      <td>301.23</td>\n",
       "      <td>292.02</td>\n",
       "    </tr>\n",
       "    <tr>\n",
       "      <td>8/26/2020</td>\n",
       "      <td>303.91</td>\n",
       "      <td>69015150</td>\n",
       "      <td>284.00</td>\n",
       "      <td>304.67</td>\n",
       "      <td>284.00</td>\n",
       "    </tr>\n",
       "    <tr>\n",
       "      <td>8/25/2020</td>\n",
       "      <td>280.82</td>\n",
       "      <td>42127240</td>\n",
       "      <td>272.41</td>\n",
       "      <td>283.09</td>\n",
       "      <td>270.26</td>\n",
       "    </tr>\n",
       "    <tr>\n",
       "      <td>8/24/2020</td>\n",
       "      <td>271.39</td>\n",
       "      <td>23685600</td>\n",
       "      <td>271.07</td>\n",
       "      <td>277.25</td>\n",
       "      <td>268.77</td>\n",
       "    </tr>\n",
       "    <tr>\n",
       "      <td>...</td>\n",
       "      <td>...</td>\n",
       "      <td>...</td>\n",
       "      <td>...</td>\n",
       "      <td>...</td>\n",
       "      <td>...</td>\n",
       "    </tr>\n",
       "    <tr>\n",
       "      <td>3/20/2020</td>\n",
       "      <td>149.73</td>\n",
       "      <td>32568400</td>\n",
       "      <td>156.02</td>\n",
       "      <td>159.27</td>\n",
       "      <td>148.00</td>\n",
       "    </tr>\n",
       "    <tr>\n",
       "      <td>3/19/2020</td>\n",
       "      <td>153.13</td>\n",
       "      <td>39862310</td>\n",
       "      <td>146.62</td>\n",
       "      <td>159.93</td>\n",
       "      <td>144.80</td>\n",
       "    </tr>\n",
       "    <tr>\n",
       "      <td>3/18/2020</td>\n",
       "      <td>146.96</td>\n",
       "      <td>37553140</td>\n",
       "      <td>139.75</td>\n",
       "      <td>148.18</td>\n",
       "      <td>137.10</td>\n",
       "    </tr>\n",
       "    <tr>\n",
       "      <td>3/17/2020</td>\n",
       "      <td>149.42</td>\n",
       "      <td>34255600</td>\n",
       "      <td>150.74</td>\n",
       "      <td>153.94</td>\n",
       "      <td>140.00</td>\n",
       "    </tr>\n",
       "    <tr>\n",
       "      <td>3/16/2020</td>\n",
       "      <td>146.01</td>\n",
       "      <td>39120420</td>\n",
       "      <td>152.32</td>\n",
       "      <td>159.13</td>\n",
       "      <td>143.10</td>\n",
       "    </tr>\n",
       "  </tbody>\n",
       "</table>\n",
       "<p>117 rows × 5 columns</p>\n",
       "</div>"
      ],
      "text/plain": [
       "Stock Info   Close    Volume    Open    High     Low\n",
       "Date                                                \n",
       "8/28/2020   293.66  17172420  295.00  297.23  290.98\n",
       "8/27/2020   293.22  30301310  300.16  301.23  292.02\n",
       "8/26/2020   303.91  69015150  284.00  304.67  284.00\n",
       "8/25/2020   280.82  42127240  272.41  283.09  270.26\n",
       "8/24/2020   271.39  23685600  271.07  277.25  268.77\n",
       "...            ...       ...     ...     ...     ...\n",
       "3/20/2020   149.73  32568400  156.02  159.27  148.00\n",
       "3/19/2020   153.13  39862310  146.62  159.93  144.80\n",
       "3/18/2020   146.96  37553140  139.75  148.18  137.10\n",
       "3/17/2020   149.42  34255600  150.74  153.94  140.00\n",
       "3/16/2020   146.01  39120420  152.32  159.13  143.10\n",
       "\n",
       "[117 rows x 5 columns]"
      ]
     },
     "execution_count": 24,
     "metadata": {},
     "output_type": "execute_result"
    }
   ],
   "source": [
    "stock_data.Facebook"
   ]
  },
  {
   "cell_type": "code",
   "execution_count": 25,
   "metadata": {},
   "outputs": [
    {
     "data": {
      "text/html": [
       "<div>\n",
       "<style scoped>\n",
       "    .dataframe tbody tr th:only-of-type {\n",
       "        vertical-align: middle;\n",
       "    }\n",
       "\n",
       "    .dataframe tbody tr th {\n",
       "        vertical-align: top;\n",
       "    }\n",
       "\n",
       "    .dataframe thead tr th {\n",
       "        text-align: left;\n",
       "    }\n",
       "\n",
       "    .dataframe thead tr:last-of-type th {\n",
       "        text-align: right;\n",
       "    }\n",
       "</style>\n",
       "<table border=\"1\" class=\"dataframe\">\n",
       "  <thead>\n",
       "    <tr>\n",
       "      <th>Company Ticker</th>\n",
       "      <th colspan=\"5\" halign=\"left\">AAPL</th>\n",
       "      <th colspan=\"5\" halign=\"left\">Amazon</th>\n",
       "      <th>...</th>\n",
       "      <th colspan=\"5\" halign=\"left\">Microsoft</th>\n",
       "      <th colspan=\"5\" halign=\"left\">Tesla</th>\n",
       "    </tr>\n",
       "    <tr>\n",
       "      <th>Stock Info</th>\n",
       "      <th>Close</th>\n",
       "      <th>Volume</th>\n",
       "      <th>Open</th>\n",
       "      <th>High</th>\n",
       "      <th>Low</th>\n",
       "      <th>Close</th>\n",
       "      <th>Volume</th>\n",
       "      <th>Open</th>\n",
       "      <th>High</th>\n",
       "      <th>Low</th>\n",
       "      <th>...</th>\n",
       "      <th>Close</th>\n",
       "      <th>Volume</th>\n",
       "      <th>Open</th>\n",
       "      <th>High</th>\n",
       "      <th>Low</th>\n",
       "      <th>Close</th>\n",
       "      <th>Volume</th>\n",
       "      <th>Open</th>\n",
       "      <th>High</th>\n",
       "      <th>Low</th>\n",
       "    </tr>\n",
       "    <tr>\n",
       "      <th>Date</th>\n",
       "      <th></th>\n",
       "      <th></th>\n",
       "      <th></th>\n",
       "      <th></th>\n",
       "      <th></th>\n",
       "      <th></th>\n",
       "      <th></th>\n",
       "      <th></th>\n",
       "      <th></th>\n",
       "      <th></th>\n",
       "      <th></th>\n",
       "      <th></th>\n",
       "      <th></th>\n",
       "      <th></th>\n",
       "      <th></th>\n",
       "      <th></th>\n",
       "      <th></th>\n",
       "      <th></th>\n",
       "      <th></th>\n",
       "      <th></th>\n",
       "      <th></th>\n",
       "    </tr>\n",
       "  </thead>\n",
       "  <tbody>\n",
       "    <tr>\n",
       "      <td>8/28/2020</td>\n",
       "      <td>499.23</td>\n",
       "      <td>46907480</td>\n",
       "      <td>504.05</td>\n",
       "      <td>505.77</td>\n",
       "      <td>498.31</td>\n",
       "      <td>3401.80</td>\n",
       "      <td>2896978</td>\n",
       "      <td>3423.00</td>\n",
       "      <td>3433.37</td>\n",
       "      <td>3386.50</td>\n",
       "      <td>...</td>\n",
       "      <td>228.91</td>\n",
       "      <td>26292900</td>\n",
       "      <td>228.18</td>\n",
       "      <td>230.64</td>\n",
       "      <td>226.58</td>\n",
       "      <td>2213.40</td>\n",
       "      <td>20081180</td>\n",
       "      <td>2295.12</td>\n",
       "      <td>2318.49</td>\n",
       "      <td>2186.52</td>\n",
       "    </tr>\n",
       "    <tr>\n",
       "      <td>8/27/2020</td>\n",
       "      <td>500.04</td>\n",
       "      <td>38888100</td>\n",
       "      <td>508.57</td>\n",
       "      <td>509.94</td>\n",
       "      <td>495.33</td>\n",
       "      <td>3400.00</td>\n",
       "      <td>4264795</td>\n",
       "      <td>3450.05</td>\n",
       "      <td>3453.00</td>\n",
       "      <td>3378.00</td>\n",
       "      <td>...</td>\n",
       "      <td>226.58</td>\n",
       "      <td>57602200</td>\n",
       "      <td>222.89</td>\n",
       "      <td>231.15</td>\n",
       "      <td>219.40</td>\n",
       "      <td>2238.75</td>\n",
       "      <td>23693040</td>\n",
       "      <td>2180.46</td>\n",
       "      <td>2295.60</td>\n",
       "      <td>2142.50</td>\n",
       "    </tr>\n",
       "    <tr>\n",
       "      <td>8/26/2020</td>\n",
       "      <td>506.09</td>\n",
       "      <td>40755570</td>\n",
       "      <td>504.72</td>\n",
       "      <td>507.97</td>\n",
       "      <td>500.33</td>\n",
       "      <td>3441.85</td>\n",
       "      <td>6508743</td>\n",
       "      <td>3351.11</td>\n",
       "      <td>3451.74</td>\n",
       "      <td>3344.57</td>\n",
       "      <td>...</td>\n",
       "      <td>221.15</td>\n",
       "      <td>39600830</td>\n",
       "      <td>217.88</td>\n",
       "      <td>222.09</td>\n",
       "      <td>217.36</td>\n",
       "      <td>2153.17</td>\n",
       "      <td>14239380</td>\n",
       "      <td>2060.00</td>\n",
       "      <td>2166.00</td>\n",
       "      <td>2053.63</td>\n",
       "    </tr>\n",
       "    <tr>\n",
       "      <td>8/25/2020</td>\n",
       "      <td>499.30</td>\n",
       "      <td>52873950</td>\n",
       "      <td>498.79</td>\n",
       "      <td>500.72</td>\n",
       "      <td>492.21</td>\n",
       "      <td>3346.49</td>\n",
       "      <td>3992842</td>\n",
       "      <td>3294.99</td>\n",
       "      <td>3357.40</td>\n",
       "      <td>3267.00</td>\n",
       "      <td>...</td>\n",
       "      <td>216.47</td>\n",
       "      <td>23043700</td>\n",
       "      <td>213.10</td>\n",
       "      <td>216.61</td>\n",
       "      <td>213.10</td>\n",
       "      <td>2023.34</td>\n",
       "      <td>10658890</td>\n",
       "      <td>1974.89</td>\n",
       "      <td>2027.95</td>\n",
       "      <td>1968.00</td>\n",
       "    </tr>\n",
       "    <tr>\n",
       "      <td>8/24/2020</td>\n",
       "      <td>503.43</td>\n",
       "      <td>86484440</td>\n",
       "      <td>514.79</td>\n",
       "      <td>515.14</td>\n",
       "      <td>495.75</td>\n",
       "      <td>3307.46</td>\n",
       "      <td>4666258</td>\n",
       "      <td>3310.15</td>\n",
       "      <td>3380.32</td>\n",
       "      <td>3257.56</td>\n",
       "      <td>...</td>\n",
       "      <td>213.69</td>\n",
       "      <td>25460150</td>\n",
       "      <td>214.79</td>\n",
       "      <td>215.52</td>\n",
       "      <td>212.43</td>\n",
       "      <td>2014.20</td>\n",
       "      <td>20063620</td>\n",
       "      <td>2126.28</td>\n",
       "      <td>2129.00</td>\n",
       "      <td>1927.52</td>\n",
       "    </tr>\n",
       "    <tr>\n",
       "      <td>...</td>\n",
       "      <td>...</td>\n",
       "      <td>...</td>\n",
       "      <td>...</td>\n",
       "      <td>...</td>\n",
       "      <td>...</td>\n",
       "      <td>...</td>\n",
       "      <td>...</td>\n",
       "      <td>...</td>\n",
       "      <td>...</td>\n",
       "      <td>...</td>\n",
       "      <td>...</td>\n",
       "      <td>...</td>\n",
       "      <td>...</td>\n",
       "      <td>...</td>\n",
       "      <td>...</td>\n",
       "      <td>...</td>\n",
       "      <td>...</td>\n",
       "      <td>...</td>\n",
       "      <td>...</td>\n",
       "      <td>...</td>\n",
       "      <td>...</td>\n",
       "    </tr>\n",
       "    <tr>\n",
       "      <td>3/20/2020</td>\n",
       "      <td>229.24</td>\n",
       "      <td>100423300</td>\n",
       "      <td>247.18</td>\n",
       "      <td>251.83</td>\n",
       "      <td>228.00</td>\n",
       "      <td>1846.09</td>\n",
       "      <td>9817850</td>\n",
       "      <td>1926.31</td>\n",
       "      <td>1957.00</td>\n",
       "      <td>1820.73</td>\n",
       "      <td>...</td>\n",
       "      <td>137.35</td>\n",
       "      <td>84866220</td>\n",
       "      <td>146.00</td>\n",
       "      <td>147.10</td>\n",
       "      <td>135.86</td>\n",
       "      <td>427.53</td>\n",
       "      <td>28285500</td>\n",
       "      <td>438.20</td>\n",
       "      <td>477.00</td>\n",
       "      <td>425.79</td>\n",
       "    </tr>\n",
       "    <tr>\n",
       "      <td>3/19/2020</td>\n",
       "      <td>244.78</td>\n",
       "      <td>67964260</td>\n",
       "      <td>247.39</td>\n",
       "      <td>252.84</td>\n",
       "      <td>242.61</td>\n",
       "      <td>1880.93</td>\n",
       "      <td>10399940</td>\n",
       "      <td>1860.00</td>\n",
       "      <td>1945.00</td>\n",
       "      <td>1832.65</td>\n",
       "      <td>...</td>\n",
       "      <td>142.71</td>\n",
       "      <td>85922660</td>\n",
       "      <td>142.77</td>\n",
       "      <td>150.15</td>\n",
       "      <td>139.00</td>\n",
       "      <td>427.64</td>\n",
       "      <td>30195460</td>\n",
       "      <td>374.70</td>\n",
       "      <td>452.00</td>\n",
       "      <td>358.46</td>\n",
       "    </tr>\n",
       "    <tr>\n",
       "      <td>3/18/2020</td>\n",
       "      <td>246.67</td>\n",
       "      <td>75058410</td>\n",
       "      <td>239.77</td>\n",
       "      <td>250.00</td>\n",
       "      <td>237.12</td>\n",
       "      <td>1830.00</td>\n",
       "      <td>9645218</td>\n",
       "      <td>1750.00</td>\n",
       "      <td>1841.66</td>\n",
       "      <td>1745.00</td>\n",
       "      <td>...</td>\n",
       "      <td>140.40</td>\n",
       "      <td>81593170</td>\n",
       "      <td>138.00</td>\n",
       "      <td>146.00</td>\n",
       "      <td>135.02</td>\n",
       "      <td>361.22</td>\n",
       "      <td>23786160</td>\n",
       "      <td>389.00</td>\n",
       "      <td>404.86</td>\n",
       "      <td>350.51</td>\n",
       "    </tr>\n",
       "    <tr>\n",
       "      <td>3/17/2020</td>\n",
       "      <td>252.86</td>\n",
       "      <td>81013970</td>\n",
       "      <td>247.51</td>\n",
       "      <td>257.61</td>\n",
       "      <td>238.40</td>\n",
       "      <td>1807.84</td>\n",
       "      <td>10917130</td>\n",
       "      <td>1775.47</td>\n",
       "      <td>1857.78</td>\n",
       "      <td>1689.24</td>\n",
       "      <td>...</td>\n",
       "      <td>146.57</td>\n",
       "      <td>81059820</td>\n",
       "      <td>140.00</td>\n",
       "      <td>147.50</td>\n",
       "      <td>135.00</td>\n",
       "      <td>430.20</td>\n",
       "      <td>23994580</td>\n",
       "      <td>440.01</td>\n",
       "      <td>471.85</td>\n",
       "      <td>396.00</td>\n",
       "    </tr>\n",
       "    <tr>\n",
       "      <td>3/16/2020</td>\n",
       "      <td>242.21</td>\n",
       "      <td>80605870</td>\n",
       "      <td>241.95</td>\n",
       "      <td>259.08</td>\n",
       "      <td>240.00</td>\n",
       "      <td>1689.15</td>\n",
       "      <td>8917265</td>\n",
       "      <td>1641.51</td>\n",
       "      <td>1759.45</td>\n",
       "      <td>1626.03</td>\n",
       "      <td>...</td>\n",
       "      <td>135.42</td>\n",
       "      <td>87905870</td>\n",
       "      <td>140.00</td>\n",
       "      <td>149.35</td>\n",
       "      <td>135.00</td>\n",
       "      <td>445.07</td>\n",
       "      <td>20489460</td>\n",
       "      <td>469.50</td>\n",
       "      <td>494.87</td>\n",
       "      <td>442.17</td>\n",
       "    </tr>\n",
       "  </tbody>\n",
       "</table>\n",
       "<p>117 rows × 25 columns</p>\n",
       "</div>"
      ],
      "text/plain": [
       "Company Ticker    AAPL                                      Amazon            \\\n",
       "Stock Info       Close     Volume    Open    High     Low    Close    Volume   \n",
       "Date                                                                           \n",
       "8/28/2020       499.23   46907480  504.05  505.77  498.31  3401.80   2896978   \n",
       "8/27/2020       500.04   38888100  508.57  509.94  495.33  3400.00   4264795   \n",
       "8/26/2020       506.09   40755570  504.72  507.97  500.33  3441.85   6508743   \n",
       "8/25/2020       499.30   52873950  498.79  500.72  492.21  3346.49   3992842   \n",
       "8/24/2020       503.43   86484440  514.79  515.14  495.75  3307.46   4666258   \n",
       "...                ...        ...     ...     ...     ...      ...       ...   \n",
       "3/20/2020       229.24  100423300  247.18  251.83  228.00  1846.09   9817850   \n",
       "3/19/2020       244.78   67964260  247.39  252.84  242.61  1880.93  10399940   \n",
       "3/18/2020       246.67   75058410  239.77  250.00  237.12  1830.00   9645218   \n",
       "3/17/2020       252.86   81013970  247.51  257.61  238.40  1807.84  10917130   \n",
       "3/16/2020       242.21   80605870  241.95  259.08  240.00  1689.15   8917265   \n",
       "\n",
       "Company Ticker                             ... Microsoft                    \\\n",
       "Stock Info         Open     High      Low  ...     Close    Volume    Open   \n",
       "Date                                       ...                               \n",
       "8/28/2020       3423.00  3433.37  3386.50  ...    228.91  26292900  228.18   \n",
       "8/27/2020       3450.05  3453.00  3378.00  ...    226.58  57602200  222.89   \n",
       "8/26/2020       3351.11  3451.74  3344.57  ...    221.15  39600830  217.88   \n",
       "8/25/2020       3294.99  3357.40  3267.00  ...    216.47  23043700  213.10   \n",
       "8/24/2020       3310.15  3380.32  3257.56  ...    213.69  25460150  214.79   \n",
       "...                 ...      ...      ...  ...       ...       ...     ...   \n",
       "3/20/2020       1926.31  1957.00  1820.73  ...    137.35  84866220  146.00   \n",
       "3/19/2020       1860.00  1945.00  1832.65  ...    142.71  85922660  142.77   \n",
       "3/18/2020       1750.00  1841.66  1745.00  ...    140.40  81593170  138.00   \n",
       "3/17/2020       1775.47  1857.78  1689.24  ...    146.57  81059820  140.00   \n",
       "3/16/2020       1641.51  1759.45  1626.03  ...    135.42  87905870  140.00   \n",
       "\n",
       "Company Ticker                    Tesla                                       \n",
       "Stock Info        High     Low    Close    Volume     Open     High      Low  \n",
       "Date                                                                          \n",
       "8/28/2020       230.64  226.58  2213.40  20081180  2295.12  2318.49  2186.52  \n",
       "8/27/2020       231.15  219.40  2238.75  23693040  2180.46  2295.60  2142.50  \n",
       "8/26/2020       222.09  217.36  2153.17  14239380  2060.00  2166.00  2053.63  \n",
       "8/25/2020       216.61  213.10  2023.34  10658890  1974.89  2027.95  1968.00  \n",
       "8/24/2020       215.52  212.43  2014.20  20063620  2126.28  2129.00  1927.52  \n",
       "...                ...     ...      ...       ...      ...      ...      ...  \n",
       "3/20/2020       147.10  135.86   427.53  28285500   438.20   477.00   425.79  \n",
       "3/19/2020       150.15  139.00   427.64  30195460   374.70   452.00   358.46  \n",
       "3/18/2020       146.00  135.02   361.22  23786160   389.00   404.86   350.51  \n",
       "3/17/2020       147.50  135.00   430.20  23994580   440.01   471.85   396.00  \n",
       "3/16/2020       149.35  135.00   445.07  20489460   469.50   494.87   442.17  \n",
       "\n",
       "[117 rows x 25 columns]"
      ]
     },
     "execution_count": 25,
     "metadata": {},
     "output_type": "execute_result"
    }
   ],
   "source": [
    "stock_data"
   ]
  },
  {
   "cell_type": "code",
   "execution_count": 26,
   "metadata": {},
   "outputs": [
    {
     "data": {
      "text/plain": [
       "Company Ticker\n",
       "AAPL          506.09\n",
       "Amazon       3441.85\n",
       "Facebook      303.91\n",
       "Microsoft     228.91\n",
       "Tesla        2238.75\n",
       "dtype: float64"
      ]
     },
     "execution_count": 26,
     "metadata": {},
     "output_type": "execute_result"
    }
   ],
   "source": [
    "stock_data.xs(key='Close',axis=1,level='Stock Info').max()"
   ]
  },
  {
   "cell_type": "code",
   "execution_count": 27,
   "metadata": {},
   "outputs": [],
   "source": [
    "returns = pd.DataFrame()"
   ]
  },
  {
   "cell_type": "code",
   "execution_count": 28,
   "metadata": {},
   "outputs": [
    {
     "data": {
      "text/html": [
       "<div>\n",
       "<style scoped>\n",
       "    .dataframe tbody tr th:only-of-type {\n",
       "        vertical-align: middle;\n",
       "    }\n",
       "\n",
       "    .dataframe tbody tr th {\n",
       "        vertical-align: top;\n",
       "    }\n",
       "\n",
       "    .dataframe thead th {\n",
       "        text-align: right;\n",
       "    }\n",
       "</style>\n",
       "<table border=\"1\" class=\"dataframe\">\n",
       "  <thead>\n",
       "    <tr style=\"text-align: right;\">\n",
       "      <th></th>\n",
       "      <th>AAPLReturn</th>\n",
       "      <th>AmazonReturn</th>\n",
       "      <th>FacebookReturn</th>\n",
       "      <th>MicrosoftReturn</th>\n",
       "      <th>TeslaReturn</th>\n",
       "    </tr>\n",
       "    <tr>\n",
       "      <th>Date</th>\n",
       "      <th></th>\n",
       "      <th></th>\n",
       "      <th></th>\n",
       "      <th></th>\n",
       "      <th></th>\n",
       "    </tr>\n",
       "  </thead>\n",
       "  <tbody>\n",
       "    <tr>\n",
       "      <td>8/28/2020</td>\n",
       "      <td>NaN</td>\n",
       "      <td>NaN</td>\n",
       "      <td>NaN</td>\n",
       "      <td>NaN</td>\n",
       "      <td>NaN</td>\n",
       "    </tr>\n",
       "    <tr>\n",
       "      <td>8/27/2020</td>\n",
       "      <td>0.001622</td>\n",
       "      <td>-0.000529</td>\n",
       "      <td>-0.001498</td>\n",
       "      <td>-0.010179</td>\n",
       "      <td>0.011453</td>\n",
       "    </tr>\n",
       "    <tr>\n",
       "      <td>8/26/2020</td>\n",
       "      <td>0.012099</td>\n",
       "      <td>0.012309</td>\n",
       "      <td>0.036457</td>\n",
       "      <td>-0.023965</td>\n",
       "      <td>-0.038227</td>\n",
       "    </tr>\n",
       "    <tr>\n",
       "      <td>8/25/2020</td>\n",
       "      <td>-0.013417</td>\n",
       "      <td>-0.027706</td>\n",
       "      <td>-0.075976</td>\n",
       "      <td>-0.021162</td>\n",
       "      <td>-0.060297</td>\n",
       "    </tr>\n",
       "    <tr>\n",
       "      <td>8/24/2020</td>\n",
       "      <td>0.008272</td>\n",
       "      <td>-0.011663</td>\n",
       "      <td>-0.033580</td>\n",
       "      <td>-0.012842</td>\n",
       "      <td>-0.004517</td>\n",
       "    </tr>\n",
       "  </tbody>\n",
       "</table>\n",
       "</div>"
      ],
      "text/plain": [
       "           AAPLReturn  AmazonReturn  FacebookReturn  MicrosoftReturn  \\\n",
       "Date                                                                   \n",
       "8/28/2020         NaN           NaN             NaN              NaN   \n",
       "8/27/2020    0.001622     -0.000529       -0.001498        -0.010179   \n",
       "8/26/2020    0.012099      0.012309        0.036457        -0.023965   \n",
       "8/25/2020   -0.013417     -0.027706       -0.075976        -0.021162   \n",
       "8/24/2020    0.008272     -0.011663       -0.033580        -0.012842   \n",
       "\n",
       "           TeslaReturn  \n",
       "Date                    \n",
       "8/28/2020          NaN  \n",
       "8/27/2020     0.011453  \n",
       "8/26/2020    -0.038227  \n",
       "8/25/2020    -0.060297  \n",
       "8/24/2020    -0.004517  "
      ]
     },
     "execution_count": 28,
     "metadata": {},
     "output_type": "execute_result"
    }
   ],
   "source": [
    "for tick in tickers:\n",
    "    returns[tick + 'Return'] = stock_data[tick]['Close'].pct_change()\n",
    "returns.head()    "
   ]
  },
  {
   "cell_type": "code",
   "execution_count": 29,
   "metadata": {},
   "outputs": [],
   "source": [
    "import seaborn as sns"
   ]
  },
  {
   "cell_type": "code",
   "execution_count": 30,
   "metadata": {},
   "outputs": [
    {
     "data": {
      "text/plain": [
       "AAPLReturn         3/19/2020\n",
       "AmazonReturn       4/30/2020\n",
       "FacebookReturn     6/25/2020\n",
       "MicrosoftReturn    6/10/2020\n",
       "TeslaReturn        3/17/2020\n",
       "dtype: object"
      ]
     },
     "execution_count": 30,
     "metadata": {},
     "output_type": "execute_result"
    }
   ],
   "source": [
    "returns.idxmin()\n",
    "returns.idxmax()"
   ]
  },
  {
   "cell_type": "code",
   "execution_count": 31,
   "metadata": {},
   "outputs": [
    {
     "data": {
      "text/plain": [
       "AAPLReturn         0.024875\n",
       "AmazonReturn       0.023008\n",
       "FacebookReturn     0.027482\n",
       "MicrosoftReturn    0.024267\n",
       "TeslaReturn        0.051528\n",
       "dtype: float64"
      ]
     },
     "execution_count": 31,
     "metadata": {},
     "output_type": "execute_result"
    }
   ],
   "source": [
    "returns.std()"
   ]
  },
  {
   "cell_type": "code",
   "execution_count": 32,
   "metadata": {},
   "outputs": [],
   "source": [
    "import matplotlib.pyplot as plt\n",
    "import seaborn as sns\n",
    "sns.set_style('whitegrid')\n",
    "%matplotlib inline"
   ]
  },
  {
   "cell_type": "code",
   "execution_count": 33,
   "metadata": {},
   "outputs": [
    {
     "name": "stdout",
     "output_type": "stream",
     "text": [
      "Requirement already satisfied: plotly in c:\\users\\archit singh\\anaconda3\\lib\\site-packages (4.11.0)\n",
      "Requirement already satisfied: retrying>=1.3.3 in c:\\users\\archit singh\\anaconda3\\lib\\site-packages (from plotly) (1.3.3)\n",
      "Requirement already satisfied: six in c:\\users\\archit singh\\anaconda3\\lib\\site-packages (from plotly) (1.12.0)\n"
     ]
    }
   ],
   "source": [
    "!pip install plotly"
   ]
  },
  {
   "cell_type": "code",
   "execution_count": 34,
   "metadata": {},
   "outputs": [
    {
     "name": "stdout",
     "output_type": "stream",
     "text": [
      "Requirement already satisfied: cufflinks in c:\\users\\archit singh\\anaconda3\\lib\\site-packages (0.17.3)\n",
      "Requirement already satisfied: ipywidgets>=7.0.0 in c:\\users\\archit singh\\anaconda3\\lib\\site-packages (from cufflinks) (7.5.1)\n",
      "Requirement already satisfied: numpy>=1.9.2 in c:\\users\\archit singh\\anaconda3\\lib\\site-packages (from cufflinks) (1.16.5)\n",
      "Requirement already satisfied: six>=1.9.0 in c:\\users\\archit singh\\anaconda3\\lib\\site-packages (from cufflinks) (1.12.0)\n",
      "Requirement already satisfied: plotly>=4.1.1 in c:\\users\\archit singh\\anaconda3\\lib\\site-packages (from cufflinks) (4.11.0)\n",
      "Requirement already satisfied: setuptools>=34.4.1 in c:\\users\\archit singh\\anaconda3\\lib\\site-packages (from cufflinks) (41.4.0)\n",
      "Requirement already satisfied: colorlover>=0.2.1 in c:\\users\\archit singh\\anaconda3\\lib\\site-packages (from cufflinks) (0.3.0)\n",
      "Requirement already satisfied: pandas>=0.19.2 in c:\\users\\archit singh\\anaconda3\\lib\\site-packages (from cufflinks) (0.25.1)\n",
      "Requirement already satisfied: ipython>=5.3.0 in c:\\users\\archit singh\\anaconda3\\lib\\site-packages (from cufflinks) (7.8.0)\n",
      "Requirement already satisfied: nbformat>=4.2.0 in c:\\users\\archit singh\\anaconda3\\lib\\site-packages (from ipywidgets>=7.0.0->cufflinks) (4.4.0)\n",
      "Requirement already satisfied: traitlets>=4.3.1 in c:\\users\\archit singh\\anaconda3\\lib\\site-packages (from ipywidgets>=7.0.0->cufflinks) (4.3.3)\n",
      "Requirement already satisfied: ipykernel>=4.5.1 in c:\\users\\archit singh\\anaconda3\\lib\\site-packages (from ipywidgets>=7.0.0->cufflinks) (5.1.2)\n",
      "Requirement already satisfied: widgetsnbextension~=3.5.0 in c:\\users\\archit singh\\anaconda3\\lib\\site-packages (from ipywidgets>=7.0.0->cufflinks) (3.5.1)\n",
      "Requirement already satisfied: retrying>=1.3.3 in c:\\users\\archit singh\\anaconda3\\lib\\site-packages (from plotly>=4.1.1->cufflinks) (1.3.3)\n",
      "Requirement already satisfied: python-dateutil>=2.6.1 in c:\\users\\archit singh\\anaconda3\\lib\\site-packages (from pandas>=0.19.2->cufflinks) (2.8.0)\n",
      "Requirement already satisfied: pytz>=2017.2 in c:\\users\\archit singh\\anaconda3\\lib\\site-packages (from pandas>=0.19.2->cufflinks) (2019.3)\n",
      "Requirement already satisfied: colorama; sys_platform == \"win32\" in c:\\users\\archit singh\\anaconda3\\lib\\site-packages (from ipython>=5.3.0->cufflinks) (0.4.1)\n",
      "Requirement already satisfied: pygments in c:\\users\\archit singh\\anaconda3\\lib\\site-packages (from ipython>=5.3.0->cufflinks) (2.4.2)\n",
      "Requirement already satisfied: jedi>=0.10 in c:\\users\\archit singh\\anaconda3\\lib\\site-packages (from ipython>=5.3.0->cufflinks) (0.15.1)\n",
      "Requirement already satisfied: pickleshare in c:\\users\\archit singh\\anaconda3\\lib\\site-packages (from ipython>=5.3.0->cufflinks) (0.7.5)\n",
      "Requirement already satisfied: prompt-toolkit<2.1.0,>=2.0.0 in c:\\users\\archit singh\\anaconda3\\lib\\site-packages (from ipython>=5.3.0->cufflinks) (2.0.10)\n",
      "Requirement already satisfied: backcall in c:\\users\\archit singh\\anaconda3\\lib\\site-packages (from ipython>=5.3.0->cufflinks) (0.1.0)\n",
      "Requirement already satisfied: decorator in c:\\users\\archit singh\\anaconda3\\lib\\site-packages (from ipython>=5.3.0->cufflinks) (4.4.0)\n",
      "Requirement already satisfied: ipython-genutils in c:\\users\\archit singh\\anaconda3\\lib\\site-packages (from nbformat>=4.2.0->ipywidgets>=7.0.0->cufflinks) (0.2.0)\n",
      "Requirement already satisfied: jupyter-core in c:\\users\\archit singh\\anaconda3\\lib\\site-packages (from nbformat>=4.2.0->ipywidgets>=7.0.0->cufflinks) (4.5.0)\n",
      "Requirement already satisfied: jsonschema!=2.5.0,>=2.4 in c:\\users\\archit singh\\anaconda3\\lib\\site-packages (from nbformat>=4.2.0->ipywidgets>=7.0.0->cufflinks) (3.0.2)\n",
      "Requirement already satisfied: tornado>=4.2 in c:\\users\\archit singh\\anaconda3\\lib\\site-packages (from ipykernel>=4.5.1->ipywidgets>=7.0.0->cufflinks) (6.0.3)\n",
      "Requirement already satisfied: jupyter-client in c:\\users\\archit singh\\anaconda3\\lib\\site-packages (from ipykernel>=4.5.1->ipywidgets>=7.0.0->cufflinks) (5.3.3)\n",
      "Requirement already satisfied: notebook>=4.4.1 in c:\\users\\archit singh\\anaconda3\\lib\\site-packages (from widgetsnbextension~=3.5.0->ipywidgets>=7.0.0->cufflinks) (6.0.1)\n",
      "Requirement already satisfied: parso>=0.5.0 in c:\\users\\archit singh\\anaconda3\\lib\\site-packages (from jedi>=0.10->ipython>=5.3.0->cufflinks) (0.5.1)\n",
      "Requirement already satisfied: wcwidth in c:\\users\\archit singh\\anaconda3\\lib\\site-packages (from prompt-toolkit<2.1.0,>=2.0.0->ipython>=5.3.0->cufflinks) (0.1.7)\n",
      "Requirement already satisfied: pyrsistent>=0.14.0 in c:\\users\\archit singh\\anaconda3\\lib\\site-packages (from jsonschema!=2.5.0,>=2.4->nbformat>=4.2.0->ipywidgets>=7.0.0->cufflinks) (0.15.4)\n",
      "Requirement already satisfied: attrs>=17.4.0 in c:\\users\\archit singh\\anaconda3\\lib\\site-packages (from jsonschema!=2.5.0,>=2.4->nbformat>=4.2.0->ipywidgets>=7.0.0->cufflinks) (19.2.0)\n",
      "Requirement already satisfied: pyzmq>=13 in c:\\users\\archit singh\\anaconda3\\lib\\site-packages (from jupyter-client->ipykernel>=4.5.1->ipywidgets>=7.0.0->cufflinks) (18.1.0)\n",
      "Requirement already satisfied: pywin32>=1.0; sys_platform == \"win32\" in c:\\users\\archit singh\\anaconda3\\lib\\site-packages (from jupyter-client->ipykernel>=4.5.1->ipywidgets>=7.0.0->cufflinks) (223)\n",
      "Requirement already satisfied: Send2Trash in c:\\users\\archit singh\\anaconda3\\lib\\site-packages (from notebook>=4.4.1->widgetsnbextension~=3.5.0->ipywidgets>=7.0.0->cufflinks) (1.5.0)\n",
      "Requirement already satisfied: nbconvert in c:\\users\\archit singh\\anaconda3\\lib\\site-packages (from notebook>=4.4.1->widgetsnbextension~=3.5.0->ipywidgets>=7.0.0->cufflinks) (5.6.0)\n",
      "Requirement already satisfied: prometheus-client in c:\\users\\archit singh\\anaconda3\\lib\\site-packages (from notebook>=4.4.1->widgetsnbextension~=3.5.0->ipywidgets>=7.0.0->cufflinks) (0.7.1)\n",
      "Requirement already satisfied: jinja2 in c:\\users\\archit singh\\anaconda3\\lib\\site-packages (from notebook>=4.4.1->widgetsnbextension~=3.5.0->ipywidgets>=7.0.0->cufflinks) (2.10.3)\n",
      "Requirement already satisfied: terminado>=0.8.1 in c:\\users\\archit singh\\anaconda3\\lib\\site-packages (from notebook>=4.4.1->widgetsnbextension~=3.5.0->ipywidgets>=7.0.0->cufflinks) (0.8.2)\n",
      "Requirement already satisfied: defusedxml in c:\\users\\archit singh\\anaconda3\\lib\\site-packages (from nbconvert->notebook>=4.4.1->widgetsnbextension~=3.5.0->ipywidgets>=7.0.0->cufflinks) (0.6.0)\n",
      "Requirement already satisfied: entrypoints>=0.2.2 in c:\\users\\archit singh\\anaconda3\\lib\\site-packages (from nbconvert->notebook>=4.4.1->widgetsnbextension~=3.5.0->ipywidgets>=7.0.0->cufflinks) (0.3)\n",
      "Requirement already satisfied: testpath in c:\\users\\archit singh\\anaconda3\\lib\\site-packages (from nbconvert->notebook>=4.4.1->widgetsnbextension~=3.5.0->ipywidgets>=7.0.0->cufflinks) (0.4.2)\n",
      "Requirement already satisfied: bleach in c:\\users\\archit singh\\anaconda3\\lib\\site-packages (from nbconvert->notebook>=4.4.1->widgetsnbextension~=3.5.0->ipywidgets>=7.0.0->cufflinks) (3.1.0)\n",
      "Requirement already satisfied: pandocfilters>=1.4.1 in c:\\users\\archit singh\\anaconda3\\lib\\site-packages (from nbconvert->notebook>=4.4.1->widgetsnbextension~=3.5.0->ipywidgets>=7.0.0->cufflinks) (1.4.2)\n",
      "Requirement already satisfied: mistune<2,>=0.8.1 in c:\\users\\archit singh\\anaconda3\\lib\\site-packages (from nbconvert->notebook>=4.4.1->widgetsnbextension~=3.5.0->ipywidgets>=7.0.0->cufflinks) (0.8.4)\n",
      "Requirement already satisfied: MarkupSafe>=0.23 in c:\\users\\archit singh\\anaconda3\\lib\\site-packages (from jinja2->notebook>=4.4.1->widgetsnbextension~=3.5.0->ipywidgets>=7.0.0->cufflinks) (1.1.1)\n",
      "Requirement already satisfied: webencodings in c:\\users\\archit singh\\anaconda3\\lib\\site-packages (from bleach->nbconvert->notebook>=4.4.1->widgetsnbextension~=3.5.0->ipywidgets>=7.0.0->cufflinks) (0.5.1)\n"
     ]
    }
   ],
   "source": [
    "!pip install cufflinks"
   ]
  },
  {
   "cell_type": "code",
   "execution_count": 35,
   "metadata": {},
   "outputs": [
    {
     "data": {
      "text/html": [
       "        <script type=\"text/javascript\">\n",
       "        window.PlotlyConfig = {MathJaxConfig: 'local'};\n",
       "        if (window.MathJax) {MathJax.Hub.Config({SVG: {font: \"STIX-Web\"}});}\n",
       "        if (typeof require !== 'undefined') {\n",
       "        require.undef(\"plotly\");\n",
       "        requirejs.config({\n",
       "            paths: {\n",
       "                'plotly': ['https://cdn.plot.ly/plotly-latest.min']\n",
       "            }\n",
       "        });\n",
       "        require(['plotly'], function(Plotly) {\n",
       "            window._Plotly = Plotly;\n",
       "        });\n",
       "        }\n",
       "        </script>\n",
       "        "
      ]
     },
     "metadata": {},
     "output_type": "display_data"
    }
   ],
   "source": [
    "import plotly\n",
    "import cufflinks as cf\n",
    "cf.go_offline()"
   ]
  },
  {
   "cell_type": "code",
   "execution_count": 36,
   "metadata": {
    "scrolled": true
   },
   "outputs": [
    {
     "data": {
      "text/plain": [
       "<matplotlib.legend.Legend at 0x17f600d5908>"
      ]
     },
     "execution_count": 36,
     "metadata": {},
     "output_type": "execute_result"
    },
    {
     "data": {
      "image/png": "[encoded data removed]",
      "text/plain": [
       "<Figure size 864x288 with 1 Axes>"
      ]
     },
     "metadata": {
      "needs_background": "light"
     },
     "output_type": "display_data"
    }
   ],
   "source": [
    "for tick in tickers:\n",
    "    stock_data[tick]['Close'].plot(figsize=(12,4),label=tick)\n",
    "\n",
    "plt.legend()"
   ]
  },
  {
   "cell_type": "code",
   "execution_count": 37,
   "metadata": {},
   "outputs": [
    {
     "data": {
      "text/plain": [
       "<matplotlib.legend.Legend at 0x17f601cad88>"
      ]
     },
     "execution_count": 37,
     "metadata": {},
     "output_type": "execute_result"
    },
    {
     "data": {
      "image/png": "[encoded data removed]",
      "text/plain": [
       "<Figure size 864x288 with 1 Axes>"
      ]
     },
     "metadata": {
      "needs_background": "light"
     },
     "output_type": "display_data"
    }
   ],
   "source": [
    "for tick in tickers:\n",
    "    stock_data[tick]['High'].plot(figsize=(12,4),label=tick)\n",
    "\n",
    "plt.legend()"
   ]
  },
  {
   "cell_type": "code",
   "execution_count": 38,
   "metadata": {
    "scrolled": true
   },
   "outputs": [
    {
     "data": {
      "application/vnd.plotly.v1+json": {
       "config": {
        "linkText": "Export to plot.ly",
        "plotlyServerURL": "https://plot.ly",
        "showLink": true
       },
       "data": [
        {
         "line": {
          "color": "rgba(255, 153, 51, 1.0)",
          "dash": "solid",
          "shape": "linear",
          "width": 1.3
         },
         "mode": "lines",
         "name": "AAPL",
         "text": "",
         "type": "scatter",
         "x": [
          "8/28/2020",
          "8/27/2020",
          "8/26/2020",
          "8/25/2020",
          "8/24/2020",
          "8/21/2020",
          "8/20/2020",
          "8/19/2020",
          "8/18/2020",
          "8/17/2020",
          "8/14/2020",
          "8/13/2020",
          "8/12/2020",
          "8/11/2020",
          "8/10/2020",
          "8/7/2020",
          "8/6/2020",
          "8/5/2020",
          "8/4/2020",
          "8/3/2020",
          "7/31/2020",
          "7/30/2020",
          "7/29/2020",
          "7/28/2020",
          "7/27/2020",
          "7/24/2020",
          "7/23/2020",
          "7/22/2020",
          "7/21/2020",
          "7/20/2020",
          "7/17/2020",
          "7/16/2020",
          "7/15/2020",
          "7/14/2020",
          "7/13/2020",
          "7/10/2020",
          "7/9/2020",
          "7/8/2020",
          "7/7/2020",
          "7/6/2020",
          "7/2/2020",
          "7/1/2020",
          "6/30/2020",
          "6/29/2020",
          "6/26/2020",
          "6/25/2020",
          "6/24/2020",
          "6/23/2020",
          "6/22/2020",
          "6/19/2020",
          "6/18/2020",
          "6/17/2020",
          "6/16/2020",
          "6/15/2020",
          "6/12/2020",
          "6/11/2020",
          "6/10/2020",
          "6/9/2020",
          "6/8/2020",
          "6/5/2020",
          "6/4/2020",
          "6/3/2020",
          "6/2/2020",
          "6/1/2020",
          "5/29/2020",
          "5/28/2020",
          "5/27/2020",
          "5/26/2020",
          "5/22/2020",
          "5/21/2020",
          "5/20/2020",
          "5/19/2020",
          "5/18/2020",
          "5/15/2020",
          "5/14/2020",
          "5/13/2020",
          "5/12/2020",
          "5/11/2020",
          "5/8/2020",
          "5/7/2020",
          "5/6/2020",
          "5/5/2020",
          "5/4/2020",
          "5/1/2020",
          "4/30/2020",
          "4/29/2020",
          "4/28/2020",
          "4/27/2020",
          "4/24/2020",
          "4/23/2020",
          "4/22/2020",
          "4/21/2020",
          "4/20/2020",
          "4/17/2020",
          "4/16/2020",
          "4/15/2020",
          "4/14/2020",
          "4/13/2020",
          "4/9/2020",
          "4/8/2020",
          "4/7/2020",
          "4/6/2020",
          "4/3/2020",
          "4/2/2020",
          "4/1/2020",
          "3/31/2020",
          "3/30/2020",
          "3/27/2020",
          "3/26/2020",
          "3/25/2020",
          "3/24/2020",
          "3/23/2020",
          "3/20/2020",
          "3/19/2020",
          "3/18/2020",
          "3/17/2020",
          "3/16/2020"
         ],
         "y": [
          504.05,
          508.57,
          504.72,
          498.79,
          514.79,
          477.05,
          463,
          463.93,
          457.41,
          464.25,
          459.32,
          457.72,
          441.99,
          447.88,
          450.4,
          452.82,
          441.62,
          437.51,
          436.53,
          432.8,
          411.54,
          376.75,
          375,
          377.47,
          374.84,
          363.95,
          387.99,
          386.77,
          396.69,
          385.67,
          387.95,
          386.25,
          395.96,
          379.36,
          389.06,
          381.34,
          385.05,
          376.72,
          375.41,
          370,
          367.85,
          365.12,
          360.08,
          353.25,
          364.41,
          360.7,
          365,
          364,
          351.34,
          354.64,
          351.41,
          355.15,
          351.46,
          333.25,
          344.72,
          349.31,
          347.9,
          332.14,
          330.25,
          323.35,
          324.39,
          324.66,
          320.75,
          317.75,
          319.25,
          316.77,
          316.14,
          323.5,
          315.77,
          318.66,
          316.68,
          315.03,
          313.17,
          300.35,
          304.51,
          312.15,
          317.83,
          308.1,
          305.64,
          303.22,
          300.46,
          295.06,
          289.17,
          286.25,
          289.96,
          284.73,
          285.08,
          281.8,
          277.2,
          275.87,
          273.61,
          276.28,
          277.95,
          284.69,
          287.38,
          282.4,
          280,
          268.31,
          268.7,
          262.74,
          270.8,
          250.9,
          242.8,
          240.34,
          246.5,
          255.6,
          250.74,
          252.75,
          246.52,
          250.75,
          236.36,
          228.08,
          247.18,
          247.39,
          239.77,
          247.51,
          241.95
         ]
        },
        {
         "line": {
          "color": "rgba(55, 128, 191, 1.0)",
          "dash": "solid",
          "shape": "linear",
          "width": 1.3
         },
         "mode": "lines",
         "name": "Amazon",
         "text": "",
         "type": "scatter",
         "x": [
          "8/28/2020",
          "8/27/2020",
          "8/26/2020",
          "8/25/2020",
          "8/24/2020",
          "8/21/2020",
          "8/20/2020",
          "8/19/2020",
          "8/18/2020",
          "8/17/2020",
          "8/14/2020",
          "8/13/2020",
          "8/12/2020",
          "8/11/2020",
          "8/10/2020",
          "8/7/2020",
          "8/6/2020",
          "8/5/2020",
          "8/4/2020",
          "8/3/2020",
          "7/31/2020",
          "7/30/2020",
          "7/29/2020",
          "7/28/2020",
          "7/27/2020",
          "7/24/2020",
          "7/23/2020",
          "7/22/2020",
          "7/21/2020",
          "7/20/2020",
          "7/17/2020",
          "7/16/2020",
          "7/15/2020",
          "7/14/2020",
          "7/13/2020",
          "7/10/2020",
          "7/9/2020",
          "7/8/2020",
          "7/7/2020",
          "7/6/2020",
          "7/2/2020",
          "7/1/2020",
          "6/30/2020",
          "6/29/2020",
          "6/26/2020",
          "6/25/2020",
          "6/24/2020",
          "6/23/2020",
          "6/22/2020",
          "6/19/2020",
          "6/18/2020",
          "6/17/2020",
          "6/16/2020",
          "6/15/2020",
          "6/12/2020",
          "6/11/2020",
          "6/10/2020",
          "6/9/2020",
          "6/8/2020",
          "6/5/2020",
          "6/4/2020",
          "6/3/2020",
          "6/2/2020",
          "6/1/2020",
          "5/29/2020",
          "5/28/2020",
          "5/27/2020",
          "5/26/2020",
          "5/22/2020",
          "5/21/2020",
          "5/20/2020",
          "5/19/2020",
          "5/18/2020",
          "5/15/2020",
          "5/14/2020",
          "5/13/2020",
          "5/12/2020",
          "5/11/2020",
          "5/8/2020",
          "5/7/2020",
          "5/6/2020",
          "5/5/2020",
          "5/4/2020",
          "5/1/2020",
          "4/30/2020",
          "4/29/2020",
          "4/28/2020",
          "4/27/2020",
          "4/24/2020",
          "4/23/2020",
          "4/22/2020",
          "4/21/2020",
          "4/20/2020",
          "4/17/2020",
          "4/16/2020",
          "4/15/2020",
          "4/14/2020",
          "4/13/2020",
          "4/9/2020",
          "4/8/2020",
          "4/7/2020",
          "4/6/2020",
          "4/3/2020",
          "4/2/2020",
          "4/1/2020",
          "3/31/2020",
          "3/30/2020",
          "3/27/2020",
          "3/26/2020",
          "3/25/2020",
          "3/24/2020",
          "3/23/2020",
          "3/20/2020",
          "3/19/2020",
          "3/18/2020",
          "3/17/2020",
          "3/16/2020"
         ],
         "y": [
          3423,
          3450.05,
          3351.11,
          3294.99,
          3310.15,
          3295,
          3252,
          3303.01,
          3212,
          3173.12,
          3178.18,
          3182.99,
          3108,
          3113.2,
          3170.31,
          3224.01,
          3194.36,
          3143.77,
          3101.21,
          3180.51,
          3244,
          3014,
          3030.99,
          3054.27,
          3062,
          2930,
          3098.27,
          3125,
          3232.49,
          3000.2,
          3009,
          2971.06,
          3080.23,
          3089,
          3251.06,
          3191.76,
          3115.99,
          3022.61,
          3058.55,
          2934.97,
          2912.01,
          2757.99,
          2685.07,
          2690.01,
          2775.06,
          2739.55,
          2780,
          2726.02,
          2684.5,
          2678.08,
          2647.01,
          2647.5,
          2620,
          2526.6,
          2601.21,
          2603.5,
          2645,
          2529.44,
          2500.2,
          2444.51,
          2477.43,
          2468.01,
          2467,
          2448,
          2415.94,
          2384.33,
          2404.99,
          2458,
          2455.01,
          2500,
          2477.87,
          2429.83,
          2404.35,
          2368.52,
          2361.01,
          2366.8,
          2411.85,
          2374.7,
          2372.14,
          2374.78,
          2329.44,
          2340,
          2256.38,
          2336.8,
          2419.84,
          2330.01,
          2372.1,
          2443.2,
          2417,
          2399.98,
          2369,
          2416.61,
          2389.95,
          2372.33,
          2346,
          2257.68,
          2200.47,
          2040,
          2044.3,
          2021,
          2017.11,
          1936,
          1911.15,
          1901.64,
          1932.97,
          1964.35,
          1922.83,
          1930.86,
          1902,
          1920.69,
          1951.5,
          1827.75,
          1926.31,
          1860,
          1750,
          1775.47,
          1641.51
         ]
        },
        {
         "line": {
          "color": "rgba(50, 171, 96, 1.0)",
          "dash": "solid",
          "shape": "linear",
          "width": 1.3
         },
         "mode": "lines",
         "name": "Facebook",
         "text": "",
         "type": "scatter",
         "x": [
          "8/28/2020",
          "8/27/2020",
          "8/26/2020",
          "8/25/2020",
          "8/24/2020",
          "8/21/2020",
          "8/20/2020",
          "8/19/2020",
          "8/18/2020",
          "8/17/2020",
          "8/14/2020",
          "8/13/2020",
          "8/12/2020",
          "8/11/2020",
          "8/10/2020",
          "8/7/2020",
          "8/6/2020",
          "8/5/2020",
          "8/4/2020",
          "8/3/2020",
          "7/31/2020",
          "7/30/2020",
          "7/29/2020",
          "7/28/2020",
          "7/27/2020",
          "7/24/2020",
          "7/23/2020",
          "7/22/2020",
          "7/21/2020",
          "7/20/2020",
          "7/17/2020",
          "7/16/2020",
          "7/15/2020",
          "7/14/2020",
          "7/13/2020",
          "7/10/2020",
          "7/9/2020",
          "7/8/2020",
          "7/7/2020",
          "7/6/2020",
          "7/2/2020",
          "7/1/2020",
          "6/30/2020",
          "6/29/2020",
          "6/26/2020",
          "6/25/2020",
          "6/24/2020",
          "6/23/2020",
          "6/22/2020",
          "6/19/2020",
          "6/18/2020",
          "6/17/2020",
          "6/16/2020",
          "6/15/2020",
          "6/12/2020",
          "6/11/2020",
          "6/10/2020",
          "6/9/2020",
          "6/8/2020",
          "6/5/2020",
          "6/4/2020",
          "6/3/2020",
          "6/2/2020",
          "6/1/2020",
          "5/29/2020",
          "5/28/2020",
          "5/27/2020",
          "5/26/2020",
          "5/22/2020",
          "5/21/2020",
          "5/20/2020",
          "5/19/2020",
          "5/18/2020",
          "5/15/2020",
          "5/14/2020",
          "5/13/2020",
          "5/12/2020",
          "5/11/2020",
          "5/8/2020",
          "5/7/2020",
          "5/6/2020",
          "5/5/2020",
          "5/4/2020",
          "5/1/2020",
          "4/30/2020",
          "4/29/2020",
          "4/28/2020",
          "4/27/2020",
          "4/24/2020",
          "4/23/2020",
          "4/22/2020",
          "4/21/2020",
          "4/20/2020",
          "4/17/2020",
          "4/16/2020",
          "4/15/2020",
          "4/14/2020",
          "4/13/2020",
          "4/9/2020",
          "4/8/2020",
          "4/7/2020",
          "4/6/2020",
          "4/3/2020",
          "4/2/2020",
          "4/1/2020",
          "3/31/2020",
          "3/30/2020",
          "3/27/2020",
          "3/26/2020",
          "3/25/2020",
          "3/24/2020",
          "3/23/2020",
          "3/20/2020",
          "3/19/2020",
          "3/18/2020",
          "3/17/2020",
          "3/16/2020"
         ],
         "y": [
          295,
          300.16,
          284,
          272.41,
          271.07,
          268.69,
          261.5,
          261.39,
          260.95,
          262.5,
          262.31,
          261.55,
          258.97,
          260.19,
          268.04,
          264.08,
          249.04,
          250.19,
          251.56,
          252.65,
          255.82,
          230.22,
          231.14,
          234.63,
          231.46,
          230.19,
          239.63,
          240.26,
          246.22,
          240.06,
          241,
          238,
          241.55,
          236.76,
          247.01,
          243.69,
          245,
          238.11,
          239.41,
          233.76,
          239,
          228.5,
          220.59,
          209.75,
          232.64,
          234.62,
          241.2,
          241.28,
          238.56,
          237.79,
          234.99,
          235,
          237.14,
          225.09,
          229.9,
          229.94,
          240.96,
          231.52,
          229.03,
          226.71,
          229.56,
          232.11,
          230.94,
          224.59,
          225.2,
          224.3,
          229.07,
          239.77,
          231.51,
          234.72,
          223.5,
          213.27,
          212.15,
          205.27,
          202.56,
          209.43,
          213.29,
          210.89,
          212.24,
          211.16,
          208.12,
          207.02,
          200.2,
          201.6,
          206.92,
          190.93,
          188.66,
          192.66,
          183.23,
          184.08,
          178.45,
          175.25,
          177.41,
          179.2,
          177.95,
          175.19,
          178.98,
          173.67,
          175.9,
          171.25,
          171.79,
          160.15,
          157.15,
          159.1,
          161.62,
          165.48,
          159.18,
          158.2,
          158.25,
          158.92,
          155.21,
          149.66,
          156.02,
          146.62,
          139.75,
          150.74,
          152.32
         ]
        },
        {
         "line": {
          "color": "rgba(128, 0, 128, 1.0)",
          "dash": "solid",
          "shape": "linear",
          "width": 1.3
         },
         "mode": "lines",
         "name": "Microsoft",
         "text": "",
         "type": "scatter",
         "x": [
          "8/28/2020",
          "8/27/2020",
          "8/26/2020",
          "8/25/2020",
          "8/24/2020",
          "8/21/2020",
          "8/20/2020",
          "8/19/2020",
          "8/18/2020",
          "8/17/2020",
          "8/14/2020",
          "8/13/2020",
          "8/12/2020",
          "8/11/2020",
          "8/10/2020",
          "8/7/2020",
          "8/6/2020",
          "8/5/2020",
          "8/4/2020",
          "8/3/2020",
          "7/31/2020",
          "7/30/2020",
          "7/29/2020",
          "7/28/2020",
          "7/27/2020",
          "7/24/2020",
          "7/23/2020",
          "7/22/2020",
          "7/21/2020",
          "7/20/2020",
          "7/17/2020",
          "7/16/2020",
          "7/15/2020",
          "7/14/2020",
          "7/13/2020",
          "7/10/2020",
          "7/9/2020",
          "7/8/2020",
          "7/7/2020",
          "7/6/2020",
          "7/2/2020",
          "7/1/2020",
          "6/30/2020",
          "6/29/2020",
          "6/26/2020",
          "6/25/2020",
          "6/24/2020",
          "6/23/2020",
          "6/22/2020",
          "6/19/2020",
          "6/18/2020",
          "6/17/2020",
          "6/16/2020",
          "6/15/2020",
          "6/12/2020",
          "6/11/2020",
          "6/10/2020",
          "6/9/2020",
          "6/8/2020",
          "6/5/2020",
          "6/4/2020",
          "6/3/2020",
          "6/2/2020",
          "6/1/2020",
          "5/29/2020",
          "5/28/2020",
          "5/27/2020",
          "5/26/2020",
          "5/22/2020",
          "5/21/2020",
          "5/20/2020",
          "5/19/2020",
          "5/18/2020",
          "5/15/2020",
          "5/14/2020",
          "5/13/2020",
          "5/12/2020",
          "5/11/2020",
          "5/8/2020",
          "5/7/2020",
          "5/6/2020",
          "5/5/2020",
          "5/4/2020",
          "5/1/2020",
          "4/30/2020",
          "4/29/2020",
          "4/28/2020",
          "4/27/2020",
          "4/24/2020",
          "4/23/2020",
          "4/22/2020",
          "4/21/2020",
          "4/20/2020",
          "4/17/2020",
          "4/16/2020",
          "4/15/2020",
          "4/14/2020",
          "4/13/2020",
          "4/9/2020",
          "4/8/2020",
          "4/7/2020",
          "4/6/2020",
          "4/3/2020",
          "4/2/2020",
          "4/1/2020",
          "3/31/2020",
          "3/30/2020",
          "3/27/2020",
          "3/26/2020",
          "3/25/2020",
          "3/24/2020",
          "3/23/2020",
          "3/20/2020",
          "3/19/2020",
          "3/18/2020",
          "3/17/2020",
          "3/16/2020"
         ],
         "y": [
          228.18,
          222.89,
          217.88,
          213.1,
          214.79,
          213.86,
          209.54,
          211.49,
          210.53,
          209.6,
          208.76,
          209.44,
          205.29,
          207.16,
          211.67,
          214.85,
          212.34,
          214.9,
          214.17,
          211.52,
          204.4,
          201,
          202.5,
          203.61,
          201.47,
          200.42,
          207.19,
          209.2,
          213.66,
          205,
          204.47,
          205.4,
          209.56,
          206.13,
          214.48,
          213.62,
          216.33,
          210.07,
          210.45,
          208.83,
          205.68,
          203.14,
          197.88,
          195.78,
          199.73,
          197.8,
          201.6,
          202.09,
          195.79,
          198.59,
          194,
          195.03,
          192.89,
          184.58,
          190.54,
          193.13,
          191.13,
          188,
          185.94,
          182.62,
          184.3,
          184.82,
          184.25,
          182.54,
          182.73,
          180.74,
          180.2,
          186.34,
          183.19,
          185.4,
          184.81,
          185.03,
          185.75,
          179.06,
          177.54,
          182.55,
          186.8,
          183.15,
          184.98,
          184.17,
          182.08,
          180.62,
          174.49,
          175.8,
          180,
          173.22,
          175.59,
          176.59,
          172.06,
          174.11,
          171.39,
          173.5,
          176.63,
          179.5,
          174.3,
          171.2,
          169,
          164.35,
          166.36,
          165.67,
          169.59,
          160.32,
          155.1,
          151.86,
          153,
          159.4,
          152.44,
          151.75,
          148.4,
          148.91,
          143.75,
          137.01,
          146,
          142.77,
          138,
          140,
          140
         ]
        },
        {
         "line": {
          "color": "rgba(219, 64, 82, 1.0)",
          "dash": "solid",
          "shape": "linear",
          "width": 1.3
         },
         "mode": "lines",
         "name": "Tesla",
         "text": "",
         "type": "scatter",
         "x": [
          "8/28/2020",
          "8/27/2020",
          "8/26/2020",
          "8/25/2020",
          "8/24/2020",
          "8/21/2020",
          "8/20/2020",
          "8/19/2020",
          "8/18/2020",
          "8/17/2020",
          "8/14/2020",
          "8/13/2020",
          "8/12/2020",
          "8/11/2020",
          "8/10/2020",
          "8/7/2020",
          "8/6/2020",
          "8/5/2020",
          "8/4/2020",
          "8/3/2020",
          "7/31/2020",
          "7/30/2020",
          "7/29/2020",
          "7/28/2020",
          "7/27/2020",
          "7/24/2020",
          "7/23/2020",
          "7/22/2020",
          "7/21/2020",
          "7/20/2020",
          "7/17/2020",
          "7/16/2020",
          "7/15/2020",
          "7/14/2020",
          "7/13/2020",
          "7/10/2020",
          "7/9/2020",
          "7/8/2020",
          "7/7/2020",
          "7/6/2020",
          "7/2/2020",
          "7/1/2020",
          "6/30/2020",
          "6/29/2020",
          "6/26/2020",
          "6/25/2020",
          "6/24/2020",
          "6/23/2020",
          "6/22/2020",
          "6/19/2020",
          "6/18/2020",
          "6/17/2020",
          "6/16/2020",
          "6/15/2020",
          "6/12/2020",
          "6/11/2020",
          "6/10/2020",
          "6/9/2020",
          "6/8/2020",
          "6/5/2020",
          "6/4/2020",
          "6/3/2020",
          "6/2/2020",
          "6/1/2020",
          "5/29/2020",
          "5/28/2020",
          "5/27/2020",
          "5/26/2020",
          "5/22/2020",
          "5/21/2020",
          "5/20/2020",
          "5/19/2020",
          "5/18/2020",
          "5/15/2020",
          "5/14/2020",
          "5/13/2020",
          "5/12/2020",
          "5/11/2020",
          "5/8/2020",
          "5/7/2020",
          "5/6/2020",
          "5/5/2020",
          "5/4/2020",
          "5/1/2020",
          "4/30/2020",
          "4/29/2020",
          "4/28/2020",
          "4/27/2020",
          "4/24/2020",
          "4/23/2020",
          "4/22/2020",
          "4/21/2020",
          "4/20/2020",
          "4/17/2020",
          "4/16/2020",
          "4/15/2020",
          "4/14/2020",
          "4/13/2020",
          "4/9/2020",
          "4/8/2020",
          "4/7/2020",
          "4/6/2020",
          "4/3/2020",
          "4/2/2020",
          "4/1/2020",
          "3/31/2020",
          "3/30/2020",
          "3/27/2020",
          "3/26/2020",
          "3/25/2020",
          "3/24/2020",
          "3/23/2020",
          "3/20/2020",
          "3/19/2020",
          "3/18/2020",
          "3/17/2020",
          "3/16/2020"
         ],
         "y": [
          2295.12,
          2180.46,
          2060,
          1974.89,
          2126.28,
          2044.76,
          1860.68,
          1865,
          1898.99,
          1677,
          1664.99,
          1611,
          1470,
          1396,
          1448,
          1499.54,
          1490.83,
          1492.99,
          1495.01,
          1449.2,
          1515,
          1488,
          1501,
          1504,
          1435,
          1416.01,
          1678.95,
          1599,
          1639.93,
          1519.01,
          1513.45,
          1477.16,
          1543,
          1556,
          1659,
          1396,
          1396.99,
          1405,
          1405.01,
          1276.69,
          1221.48,
          1083,
          1006.5,
          969.01,
          994.78,
          954.27,
          994.11,
          998.88,
          999.95,
          1012.78,
          1003,
          987.71,
          1011.85,
          917.79,
          980,
          990.2,
          991.88,
          940.01,
          919,
          877.84,
          889.88,
          888.12,
          894.7,
          858,
          808.75,
          813.51,
          820.86,
          834.5,
          822.17,
          816,
          820.5,
          815.17,
          827.78,
          790.35,
          780,
          820.83,
          827,
          790.51,
          793.77,
          777.21,
          776.5,
          789.79,
          701,
          755,
          855.19,
          790.17,
          795.64,
          737.61,
          710.81,
          727.6,
          703.98,
          730.12,
          732.7,
          772.28,
          716.94,
          742,
          698.97,
          590.16,
          562.09,
          554.2,
          545,
          511.2,
          509.5,
          481.03,
          504,
          501.25,
          510.26,
          505,
          547.39,
          545.25,
          477.3,
          433.6,
          438.2,
          374.7,
          389,
          440.01,
          469.5
         ]
        }
       ],
       "layout": {
        "legend": {
         "bgcolor": "#F5F6F9",
         "font": {
          "color": "#4D5663"
         }
        },
        "paper_bgcolor": "#F5F6F9",
        "plot_bgcolor": "#F5F6F9",
        "template": {
         "data": {
          "bar": [
           {
            "error_x": {
             "color": "#2a3f5f"
            },
            "error_y": {
             "color": "#2a3f5f"
            },
            "marker": {
             "line": {
              "color": "#E5ECF6",
              "width": 0.5
             }
            },
            "type": "bar"
           }
          ],
          "barpolar": [
           {
            "marker": {
             "line": {
              "color": "#E5ECF6",
              "width": 0.5
             }
            },
            "type": "barpolar"
           }
          ],
          "carpet": [
           {
            "aaxis": {
             "endlinecolor": "#2a3f5f",
             "gridcolor": "white",
             "linecolor": "white",
             "minorgridcolor": "white",
             "startlinecolor": "#2a3f5f"
            },
            "baxis": {
             "endlinecolor": "#2a3f5f",
             "gridcolor": "white",
             "linecolor": "white",
             "minorgridcolor": "white",
             "startlinecolor": "#2a3f5f"
            },
            "type": "carpet"
           }
          ],
          "choropleth": [
           {
            "colorbar": {
             "outlinewidth": 0,
             "ticks": ""
            },
            "type": "choropleth"
           }
          ],
          "contour": [
           {
            "colorbar": {
             "outlinewidth": 0,
             "ticks": ""
            },
            "colorscale": [
             [
              0,
              "#0d0887"
             ],
             [
              0.1111111111111111,
              "#46039f"
             ],
             [
              0.2222222222222222,
              "#7201a8"
             ],
             [
              0.3333333333333333,
              "#9c179e"
             ],
             [
              0.4444444444444444,
              "#bd3786"
             ],
             [
              0.5555555555555556,
              "#d8576b"
             ],
             [
              0.6666666666666666,
              "#ed7953"
             ],
             [
              0.7777777777777778,
              "#fb9f3a"
             ],
             [
              0.8888888888888888,
              "#fdca26"
             ],
             [
              1,
              "#f0f921"
             ]
            ],
            "type": "contour"
           }
          ],
          "contourcarpet": [
           {
            "colorbar": {
             "outlinewidth": 0,
             "ticks": ""
            },
            "type": "contourcarpet"
           }
          ],
          "heatmap": [
           {
            "colorbar": {
             "outlinewidth": 0,
             "ticks": ""
            },
            "colorscale": [
             [
              0,
              "#0d0887"
             ],
             [
              0.1111111111111111,
              "#46039f"
             ],
             [
              0.2222222222222222,
              "#7201a8"
             ],
             [
              0.3333333333333333,
              "#9c179e"
             ],
             [
              0.4444444444444444,
              "#bd3786"
             ],
             [
              0.5555555555555556,
              "#d8576b"
             ],
             [
              0.6666666666666666,
              "#ed7953"
             ],
             [
              0.7777777777777778,
              "#fb9f3a"
             ],
             [
              0.8888888888888888,
              "#fdca26"
             ],
             [
              1,
              "#f0f921"
             ]
            ],
            "type": "heatmap"
           }
          ],
          "heatmapgl": [
           {
            "colorbar": {
             "outlinewidth": 0,
             "ticks": ""
            },
            "colorscale": [
             [
              0,
              "#0d0887"
             ],
             [
              0.1111111111111111,
              "#46039f"
             ],
             [
              0.2222222222222222,
              "#7201a8"
             ],
             [
              0.3333333333333333,
              "#9c179e"
             ],
             [
              0.4444444444444444,
              "#bd3786"
             ],
             [
              0.5555555555555556,
              "#d8576b"
             ],
             [
              0.6666666666666666,
              "#ed7953"
             ],
             [
              0.7777777777777778,
              "#fb9f3a"
             ],
             [
              0.8888888888888888,
              "#fdca26"
             ],
             [
              1,
              "#f0f921"
             ]
            ],
            "type": "heatmapgl"
           }
          ],
          "histogram": [
           {
            "marker": {
             "colorbar": {
              "outlinewidth": 0,
              "ticks": ""
             }
            },
            "type": "histogram"
           }
          ],
          "histogram2d": [
           {
            "colorbar": {
             "outlinewidth": 0,
             "ticks": ""
            },
            "colorscale": [
             [
              0,
              "#0d0887"
             ],
             [
              0.1111111111111111,
              "#46039f"
             ],
             [
              0.2222222222222222,
              "#7201a8"
             ],
             [
              0.3333333333333333,
              "#9c179e"
             ],
             [
              0.4444444444444444,
              "#bd3786"
             ],
             [
              0.5555555555555556,
              "#d8576b"
             ],
             [
              0.6666666666666666,
              "#ed7953"
             ],
             [
              0.7777777777777778,
              "#fb9f3a"
             ],
             [
              0.8888888888888888,
              "#fdca26"
             ],
             [
              1,
              "#f0f921"
             ]
            ],
            "type": "histogram2d"
           }
          ],
          "histogram2dcontour": [
           {
            "colorbar": {
             "outlinewidth": 0,
             "ticks": ""
            },
            "colorscale": [
             [
              0,
              "#0d0887"
             ],
             [
              0.1111111111111111,
              "#46039f"
             ],
             [
              0.2222222222222222,
              "#7201a8"
             ],
             [
              0.3333333333333333,
              "#9c179e"
             ],
             [
              0.4444444444444444,
              "#bd3786"
             ],
             [
              0.5555555555555556,
              "#d8576b"
             ],
             [
              0.6666666666666666,
              "#ed7953"
             ],
             [
              0.7777777777777778,
              "#fb9f3a"
             ],
             [
              0.8888888888888888,
              "#fdca26"
             ],
             [
              1,
              "#f0f921"
             ]
            ],
            "type": "histogram2dcontour"
           }
          ],
          "mesh3d": [
           {
            "colorbar": {
             "outlinewidth": 0,
             "ticks": ""
            },
            "type": "mesh3d"
           }
          ],
          "parcoords": [
           {
            "line": {
             "colorbar": {
              "outlinewidth": 0,
              "ticks": ""
             }
            },
            "type": "parcoords"
           }
          ],
          "pie": [
           {
            "automargin": true,
            "type": "pie"
           }
          ],
          "scatter": [
           {
            "marker": {
             "colorbar": {
              "outlinewidth": 0,
              "ticks": ""
             }
            },
            "type": "scatter"
           }
          ],
          "scatter3d": [
           {
            "line": {
             "colorbar": {
              "outlinewidth": 0,
              "ticks": ""
             }
            },
            "marker": {
             "colorbar": {
              "outlinewidth": 0,
              "ticks": ""
             }
            },
            "type": "scatter3d"
           }
          ],
          "scattercarpet": [
           {
            "marker": {
             "colorbar": {
              "outlinewidth": 0,
              "ticks": ""
             }
            },
            "type": "scattercarpet"
           }
          ],
          "scattergeo": [
           {
            "marker": {
             "colorbar": {
              "outlinewidth": 0,
              "ticks": ""
             }
            },
            "type": "scattergeo"
           }
          ],
          "scattergl": [
           {
            "marker": {
             "colorbar": {
              "outlinewidth": 0,
              "ticks": ""
             }
            },
            "type": "scattergl"
           }
          ],
          "scattermapbox": [
           {
            "marker": {
             "colorbar": {
              "outlinewidth": 0,
              "ticks": ""
             }
            },
            "type": "scattermapbox"
           }
          ],
          "scatterpolar": [
           {
            "marker": {
             "colorbar": {
              "outlinewidth": 0,
              "ticks": ""
             }
            },
            "type": "scatterpolar"
           }
          ],
          "scatterpolargl": [
           {
            "marker": {
             "colorbar": {
              "outlinewidth": 0,
              "ticks": ""
             }
            },
            "type": "scatterpolargl"
           }
          ],
          "scatterternary": [
           {
            "marker": {
             "colorbar": {
              "outlinewidth": 0,
              "ticks": ""
             }
            },
            "type": "scatterternary"
           }
          ],
          "surface": [
           {
            "colorbar": {
             "outlinewidth": 0,
             "ticks": ""
            },
            "colorscale": [
             [
              0,
              "#0d0887"
             ],
             [
              0.1111111111111111,
              "#46039f"
             ],
             [
              0.2222222222222222,
              "#7201a8"
             ],
             [
              0.3333333333333333,
              "#9c179e"
             ],
             [
              0.4444444444444444,
              "#bd3786"
             ],
             [
              0.5555555555555556,
              "#d8576b"
             ],
             [
              0.6666666666666666,
              "#ed7953"
             ],
             [
              0.7777777777777778,
              "#fb9f3a"
             ],
             [
              0.8888888888888888,
              "#fdca26"
             ],
             [
              1,
              "#f0f921"
             ]
            ],
            "type": "surface"
           }
          ],
          "table": [
           {
            "cells": {
             "fill": {
              "color": "#EBF0F8"
             },
             "line": {
              "color": "white"
             }
            },
            "header": {
             "fill": {
              "color": "#C8D4E3"
             },
             "line": {
              "color": "white"
             }
            },
            "type": "table"
           }
          ]
         },
         "layout": {
          "annotationdefaults": {
           "arrowcolor": "#2a3f5f",
           "arrowhead": 0,
           "arrowwidth": 1
          },
          "coloraxis": {
           "colorbar": {
            "outlinewidth": 0,
            "ticks": ""
           }
          },
          "colorscale": {
           "diverging": [
            [
             0,
             "#8e0152"
            ],
            [
             0.1,
             "#c51b7d"
            ],
            [
             0.2,
             "#de77ae"
            ],
            [
             0.3,
             "#f1b6da"
            ],
            [
             0.4,
             "#fde0ef"
            ],
            [
             0.5,
             "#f7f7f7"
            ],
            [
             0.6,
             "#e6f5d0"
            ],
            [
             0.7,
             "#b8e186"
            ],
            [
             0.8,
             "#7fbc41"
            ],
            [
             0.9,
             "#4d9221"
            ],
            [
             1,
             "#276419"
            ]
           ],
           "sequential": [
            [
             0,
             "#0d0887"
            ],
            [
             0.1111111111111111,
             "#46039f"
            ],
            [
             0.2222222222222222,
             "#7201a8"
            ],
            [
             0.3333333333333333,
             "#9c179e"
            ],
            [
             0.4444444444444444,
             "#bd3786"
            ],
            [
             0.5555555555555556,
             "#d8576b"
            ],
            [
             0.6666666666666666,
             "#ed7953"
            ],
            [
             0.7777777777777778,
             "#fb9f3a"
            ],
            [
             0.8888888888888888,
             "#fdca26"
            ],
            [
             1,
             "#f0f921"
            ]
           ],
           "sequentialminus": [
            [
             0,
             "#0d0887"
            ],
            [
             0.1111111111111111,
             "#46039f"
            ],
            [
             0.2222222222222222,
             "#7201a8"
            ],
            [
             0.3333333333333333,
             "#9c179e"
            ],
            [
             0.4444444444444444,
             "#bd3786"
            ],
            [
             0.5555555555555556,
             "#d8576b"
            ],
            [
             0.6666666666666666,
             "#ed7953"
            ],
            [
             0.7777777777777778,
             "#fb9f3a"
            ],
            [
             0.8888888888888888,
             "#fdca26"
            ],
            [
             1,
             "#f0f921"
            ]
           ]
          },
          "colorway": [
           "#636efa",
           "#EF553B",
           "#00cc96",
           "#ab63fa",
           "#FFA15A",
           "#19d3f3",
           "#FF6692",
           "#B6E880",
           "#FF97FF",
           "#FECB52"
          ],
          "font": {
           "color": "#2a3f5f"
          },
          "geo": {
           "bgcolor": "white",
           "lakecolor": "white",
           "landcolor": "#E5ECF6",
           "showlakes": true,
           "showland": true,
           "subunitcolor": "white"
          },
          "hoverlabel": {
           "align": "left"
          },
          "hovermode": "closest",
          "mapbox": {
           "style": "light"
          },
          "paper_bgcolor": "white",
          "plot_bgcolor": "#E5ECF6",
          "polar": {
           "angularaxis": {
            "gridcolor": "white",
            "linecolor": "white",
            "ticks": ""
           },
           "bgcolor": "#E5ECF6",
           "radialaxis": {
            "gridcolor": "white",
            "linecolor": "white",
            "ticks": ""
           }
          },
          "scene": {
           "xaxis": {
            "backgroundcolor": "#E5ECF6",
            "gridcolor": "white",
            "gridwidth": 2,
            "linecolor": "white",
            "showbackground": true,
            "ticks": "",
            "zerolinecolor": "white"
           },
           "yaxis": {
            "backgroundcolor": "#E5ECF6",
            "gridcolor": "white",
            "gridwidth": 2,
            "linecolor": "white",
            "showbackground": true,
            "ticks": "",
            "zerolinecolor": "white"
           },
           "zaxis": {
            "backgroundcolor": "#E5ECF6",
            "gridcolor": "white",
            "gridwidth": 2,
            "linecolor": "white",
            "showbackground": true,
            "ticks": "",
            "zerolinecolor": "white"
           }
          },
          "shapedefaults": {
           "line": {
            "color": "#2a3f5f"
           }
          },
          "ternary": {
           "aaxis": {
            "gridcolor": "white",
            "linecolor": "white",
            "ticks": ""
           },
           "baxis": {
            "gridcolor": "white",
            "linecolor": "white",
            "ticks": ""
           },
           "bgcolor": "#E5ECF6",
           "caxis": {
            "gridcolor": "white",
            "linecolor": "white",
            "ticks": ""
           }
          },
          "title": {
           "x": 0.05
          },
          "xaxis": {
           "automargin": true,
           "gridcolor": "white",
           "linecolor": "white",
           "ticks": "",
           "title": {
            "standoff": 15
           },
           "zerolinecolor": "white",
           "zerolinewidth": 2
          },
          "yaxis": {
           "automargin": true,
           "gridcolor": "white",
           "linecolor": "white",
           "ticks": "",
           "title": {
            "standoff": 15
           },
           "zerolinecolor": "white",
           "zerolinewidth": 2
          }
         }
        },
        "title": {
         "font": {
          "color": "#4D5663"
         }
        },
        "xaxis": {
         "gridcolor": "#E1E5ED",
         "showgrid": true,
         "tickfont": {
          "color": "#4D5663"
         },
         "title": {
          "font": {
           "color": "#4D5663"
          },
          "text": ""
         },
         "zerolinecolor": "#E1E5ED"
        },
        "yaxis": {
         "gridcolor": "#E1E5ED",
         "showgrid": true,
         "tickfont": {
          "color": "#4D5663"
         },
         "title": {
          "font": {
           "color": "#4D5663"
          },
          "text": ""
         },
         "zerolinecolor": "#E1E5ED"
        }
       }
      },
      "text/html": [
       "<div>                            <div id=\"80c547f1-f7a7-4099-93a9-fd5feb584c5c\" class=\"plotly-graph-div\" style=\"height:525px; width:100%;\"></div>            <script type=\"text/javascript\">                require([\"plotly\"], function(Plotly) {                    window.PLOTLYENV=window.PLOTLYENV || {};\n",
       "                    window.PLOTLYENV.BASE_URL='https://plot.ly';                                    if (document.getElementById(\"80c547f1-f7a7-4099-93a9-fd5feb584c5c\")) {                    Plotly.newPlot(                        \"80c547f1-f7a7-4099-93a9-fd5feb584c5c\",                        [{\"line\": {\"color\": \"rgba(255, 153, 51, 1.0)\", \"dash\": \"solid\", \"shape\": \"linear\", \"width\": 1.3}, \"mode\": \"lines\", \"name\": \"AAPL\", \"text\": \"\", \"type\": \"scatter\", \"x\": [\"8/28/2020\", \"8/27/2020\", \"8/26/2020\", \"8/25/2020\", \"8/24/2020\", \"8/21/2020\", \"8/20/2020\", \"8/19/2020\", \"8/18/2020\", \"8/17/2020\", \"8/14/2020\", \"8/13/2020\", \"8/12/2020\", \"8/11/2020\", \"8/10/2020\", \"8/7/2020\", \"8/6/2020\", \"8/5/2020\", \"8/4/2020\", \"8/3/2020\", \"7/31/2020\", \"7/30/2020\", \"7/29/2020\", \"7/28/2020\", \"7/27/2020\", \"7/24/2020\", \"7/23/2020\", \"7/22/2020\", \"7/21/2020\", \"7/20/2020\", \"7/17/2020\", \"7/16/2020\", \"7/15/2020\", \"7/14/2020\", \"7/13/2020\", \"7/10/2020\", \"7/9/2020\", \"7/8/2020\", \"7/7/2020\", \"7/6/2020\", \"7/2/2020\", \"7/1/2020\", \"6/30/2020\", \"6/29/2020\", \"6/26/2020\", \"6/25/2020\", \"6/24/2020\", \"6/23/2020\", \"6/22/2020\", \"6/19/2020\", \"6/18/2020\", \"6/17/2020\", \"6/16/2020\", \"6/15/2020\", \"6/12/2020\", \"6/11/2020\", \"6/10/2020\", \"6/9/2020\", \"6/8/2020\", \"6/5/2020\", \"6/4/2020\", \"6/3/2020\", \"6/2/2020\", \"6/1/2020\", \"5/29/2020\", \"5/28/2020\", \"5/27/2020\", \"5/26/2020\", \"5/22/2020\", \"5/21/2020\", \"5/20/2020\", \"5/19/2020\", \"5/18/2020\", \"5/15/2020\", \"5/14/2020\", \"5/13/2020\", \"5/12/2020\", \"5/11/2020\", \"5/8/2020\", \"5/7/2020\", \"5/6/2020\", \"5/5/2020\", \"5/4/2020\", \"5/1/2020\", \"4/30/2020\", \"4/29/2020\", \"4/28/2020\", \"4/27/2020\", \"4/24/2020\", \"4/23/2020\", \"4/22/2020\", \"4/21/2020\", \"4/20/2020\", \"4/17/2020\", \"4/16/2020\", \"4/15/2020\", \"4/14/2020\", \"4/13/2020\", \"4/9/2020\", \"4/8/2020\", \"4/7/2020\", \"4/6/2020\", \"4/3/2020\", \"4/2/2020\", \"4/1/2020\", \"3/31/2020\", \"3/30/2020\", \"3/27/2020\", \"3/26/2020\", \"3/25/2020\", \"3/24/2020\", \"3/23/2020\", \"3/20/2020\", \"3/19/2020\", \"3/18/2020\", \"3/17/2020\", \"3/16/2020\"], \"y\": [504.05, 508.57, 504.72, 498.79, 514.79, 477.05, 463.0, 463.93, 457.41, 464.25, 459.32, 457.72, 441.99, 447.88, 450.4, 452.82, 441.62, 437.51, 436.53, 432.8, 411.54, 376.75, 375.0, 377.47, 374.84, 363.95, 387.99, 386.77, 396.69, 385.67, 387.95, 386.25, 395.96, 379.36, 389.06, 381.34, 385.05, 376.72, 375.41, 370.0, 367.85, 365.12, 360.08, 353.25, 364.41, 360.7, 365.0, 364.0, 351.34, 354.64, 351.41, 355.15, 351.46, 333.25, 344.72, 349.31, 347.9, 332.14, 330.25, 323.35, 324.39, 324.66, 320.75, 317.75, 319.25, 316.77, 316.14, 323.5, 315.77, 318.66, 316.68, 315.03, 313.17, 300.35, 304.51, 312.15, 317.83, 308.1, 305.64, 303.22, 300.46, 295.06, 289.17, 286.25, 289.96, 284.73, 285.08, 281.8, 277.2, 275.87, 273.61, 276.28, 277.95, 284.69, 287.38, 282.4, 280.0, 268.31, 268.7, 262.74, 270.8, 250.9, 242.8, 240.34, 246.5, 255.6, 250.74, 252.75, 246.52, 250.75, 236.36, 228.08, 247.18, 247.39, 239.77, 247.51, 241.95]}, {\"line\": {\"color\": \"rgba(55, 128, 191, 1.0)\", \"dash\": \"solid\", \"shape\": \"linear\", \"width\": 1.3}, \"mode\": \"lines\", \"name\": \"Amazon\", \"text\": \"\", \"type\": \"scatter\", \"x\": [\"8/28/2020\", \"8/27/2020\", \"8/26/2020\", \"8/25/2020\", \"8/24/2020\", \"8/21/2020\", \"8/20/2020\", \"8/19/2020\", \"8/18/2020\", \"8/17/2020\", \"8/14/2020\", \"8/13/2020\", \"8/12/2020\", \"8/11/2020\", \"8/10/2020\", \"8/7/2020\", \"8/6/2020\", \"8/5/2020\", \"8/4/2020\", \"8/3/2020\", \"7/31/2020\", \"7/30/2020\", \"7/29/2020\", \"7/28/2020\", \"7/27/2020\", \"7/24/2020\", \"7/23/2020\", \"7/22/2020\", \"7/21/2020\", \"7/20/2020\", \"7/17/2020\", \"7/16/2020\", \"7/15/2020\", \"7/14/2020\", \"7/13/2020\", \"7/10/2020\", \"7/9/2020\", \"7/8/2020\", \"7/7/2020\", \"7/6/2020\", \"7/2/2020\", \"7/1/2020\", \"6/30/2020\", \"6/29/2020\", \"6/26/2020\", \"6/25/2020\", \"6/24/2020\", \"6/23/2020\", \"6/22/2020\", \"6/19/2020\", \"6/18/2020\", \"6/17/2020\", \"6/16/2020\", \"6/15/2020\", \"6/12/2020\", \"6/11/2020\", \"6/10/2020\", \"6/9/2020\", \"6/8/2020\", \"6/5/2020\", \"6/4/2020\", \"6/3/2020\", \"6/2/2020\", \"6/1/2020\", \"5/29/2020\", \"5/28/2020\", \"5/27/2020\", \"5/26/2020\", \"5/22/2020\", \"5/21/2020\", \"5/20/2020\", \"5/19/2020\", \"5/18/2020\", \"5/15/2020\", \"5/14/2020\", \"5/13/2020\", \"5/12/2020\", \"5/11/2020\", \"5/8/2020\", \"5/7/2020\", \"5/6/2020\", \"5/5/2020\", \"5/4/2020\", \"5/1/2020\", \"4/30/2020\", \"4/29/2020\", \"4/28/2020\", \"4/27/2020\", \"4/24/2020\", \"4/23/2020\", \"4/22/2020\", \"4/21/2020\", \"4/20/2020\", \"4/17/2020\", \"4/16/2020\", \"4/15/2020\", \"4/14/2020\", \"4/13/2020\", \"4/9/2020\", \"4/8/2020\", \"4/7/2020\", \"4/6/2020\", \"4/3/2020\", \"4/2/2020\", \"4/1/2020\", \"3/31/2020\", \"3/30/2020\", \"3/27/2020\", \"3/26/2020\", \"3/25/2020\", \"3/24/2020\", \"3/23/2020\", \"3/20/2020\", \"3/19/2020\", \"3/18/2020\", \"3/17/2020\", \"3/16/2020\"], \"y\": [3423.0, 3450.05, 3351.11, 3294.99, 3310.15, 3295.0, 3252.0, 3303.01, 3212.0, 3173.12, 3178.18, 3182.99, 3108.0, 3113.2, 3170.31, 3224.01, 3194.36, 3143.77, 3101.21, 3180.51, 3244.0, 3014.0, 3030.99, 3054.27, 3062.0, 2930.0, 3098.27, 3125.0, 3232.49, 3000.2, 3009.0, 2971.06, 3080.23, 3089.0, 3251.06, 3191.76, 3115.99, 3022.61, 3058.55, 2934.97, 2912.01, 2757.99, 2685.07, 2690.01, 2775.06, 2739.55, 2780.0, 2726.02, 2684.5, 2678.08, 2647.01, 2647.5, 2620.0, 2526.6, 2601.21, 2603.5, 2645.0, 2529.44, 2500.2, 2444.51, 2477.43, 2468.01, 2467.0, 2448.0, 2415.94, 2384.33, 2404.99, 2458.0, 2455.01, 2500.0, 2477.87, 2429.83, 2404.35, 2368.52, 2361.01, 2366.8, 2411.85, 2374.7, 2372.14, 2374.78, 2329.44, 2340.0, 2256.38, 2336.8, 2419.84, 2330.01, 2372.1, 2443.2, 2417.0, 2399.98, 2369.0, 2416.61, 2389.95, 2372.33, 2346.0, 2257.68, 2200.47, 2040.0, 2044.3, 2021.0, 2017.11, 1936.0, 1911.15, 1901.64, 1932.97, 1964.35, 1922.83, 1930.86, 1902.0, 1920.69, 1951.5, 1827.75, 1926.31, 1860.0, 1750.0, 1775.47, 1641.51]}, {\"line\": {\"color\": \"rgba(50, 171, 96, 1.0)\", \"dash\": \"solid\", \"shape\": \"linear\", \"width\": 1.3}, \"mode\": \"lines\", \"name\": \"Facebook\", \"text\": \"\", \"type\": \"scatter\", \"x\": [\"8/28/2020\", \"8/27/2020\", \"8/26/2020\", \"8/25/2020\", \"8/24/2020\", \"8/21/2020\", \"8/20/2020\", \"8/19/2020\", \"8/18/2020\", \"8/17/2020\", \"8/14/2020\", \"8/13/2020\", \"8/12/2020\", \"8/11/2020\", \"8/10/2020\", \"8/7/2020\", \"8/6/2020\", \"8/5/2020\", \"8/4/2020\", \"8/3/2020\", \"7/31/2020\", \"7/30/2020\", \"7/29/2020\", \"7/28/2020\", \"7/27/2020\", \"7/24/2020\", \"7/23/2020\", \"7/22/2020\", \"7/21/2020\", \"7/20/2020\", \"7/17/2020\", \"7/16/2020\", \"7/15/2020\", \"7/14/2020\", \"7/13/2020\", \"7/10/2020\", \"7/9/2020\", \"7/8/2020\", \"7/7/2020\", \"7/6/2020\", \"7/2/2020\", \"7/1/2020\", \"6/30/2020\", \"6/29/2020\", \"6/26/2020\", \"6/25/2020\", \"6/24/2020\", \"6/23/2020\", \"6/22/2020\", \"6/19/2020\", \"6/18/2020\", \"6/17/2020\", \"6/16/2020\", \"6/15/2020\", \"6/12/2020\", \"6/11/2020\", \"6/10/2020\", \"6/9/2020\", \"6/8/2020\", \"6/5/2020\", \"6/4/2020\", \"6/3/2020\", \"6/2/2020\", \"6/1/2020\", \"5/29/2020\", \"5/28/2020\", \"5/27/2020\", \"5/26/2020\", \"5/22/2020\", \"5/21/2020\", \"5/20/2020\", \"5/19/2020\", \"5/18/2020\", \"5/15/2020\", \"5/14/2020\", \"5/13/2020\", \"5/12/2020\", \"5/11/2020\", \"5/8/2020\", \"5/7/2020\", \"5/6/2020\", \"5/5/2020\", \"5/4/2020\", \"5/1/2020\", \"4/30/2020\", \"4/29/2020\", \"4/28/2020\", \"4/27/2020\", \"4/24/2020\", \"4/23/2020\", \"4/22/2020\", \"4/21/2020\", \"4/20/2020\", \"4/17/2020\", \"4/16/2020\", \"4/15/2020\", \"4/14/2020\", \"4/13/2020\", \"4/9/2020\", \"4/8/2020\", \"4/7/2020\", \"4/6/2020\", \"4/3/2020\", \"4/2/2020\", \"4/1/2020\", \"3/31/2020\", \"3/30/2020\", \"3/27/2020\", \"3/26/2020\", \"3/25/2020\", \"3/24/2020\", \"3/23/2020\", \"3/20/2020\", \"3/19/2020\", \"3/18/2020\", \"3/17/2020\", \"3/16/2020\"], \"y\": [295.0, 300.16, 284.0, 272.41, 271.07, 268.69, 261.5, 261.39, 260.95, 262.5, 262.31, 261.55, 258.97, 260.19, 268.04, 264.08, 249.04, 250.19, 251.56, 252.65, 255.82, 230.22, 231.14, 234.63, 231.46, 230.19, 239.63, 240.26, 246.22, 240.06, 241.0, 238.0, 241.55, 236.76, 247.01, 243.69, 245.0, 238.11, 239.41, 233.76, 239.0, 228.5, 220.59, 209.75, 232.64, 234.62, 241.2, 241.28, 238.56, 237.79, 234.99, 235.0, 237.14, 225.09, 229.9, 229.94, 240.96, 231.52, 229.03, 226.71, 229.56, 232.11, 230.94, 224.59, 225.2, 224.3, 229.07, 239.77, 231.51, 234.72, 223.5, 213.27, 212.15, 205.27, 202.56, 209.43, 213.29, 210.89, 212.24, 211.16, 208.12, 207.02, 200.2, 201.6, 206.92, 190.93, 188.66, 192.66, 183.23, 184.08, 178.45, 175.25, 177.41, 179.2, 177.95, 175.19, 178.98, 173.67, 175.9, 171.25, 171.79, 160.15, 157.15, 159.1, 161.62, 165.48, 159.18, 158.2, 158.25, 158.92, 155.21, 149.66, 156.02, 146.62, 139.75, 150.74, 152.32]}, {\"line\": {\"color\": \"rgba(128, 0, 128, 1.0)\", \"dash\": \"solid\", \"shape\": \"linear\", \"width\": 1.3}, \"mode\": \"lines\", \"name\": \"Microsoft\", \"text\": \"\", \"type\": \"scatter\", \"x\": [\"8/28/2020\", \"8/27/2020\", \"8/26/2020\", \"8/25/2020\", \"8/24/2020\", \"8/21/2020\", \"8/20/2020\", \"8/19/2020\", \"8/18/2020\", \"8/17/2020\", \"8/14/2020\", \"8/13/2020\", \"8/12/2020\", \"8/11/2020\", \"8/10/2020\", \"8/7/2020\", \"8/6/2020\", \"8/5/2020\", \"8/4/2020\", \"8/3/2020\", \"7/31/2020\", \"7/30/2020\", \"7/29/2020\", \"7/28/2020\", \"7/27/2020\", \"7/24/2020\", \"7/23/2020\", \"7/22/2020\", \"7/21/2020\", \"7/20/2020\", \"7/17/2020\", \"7/16/2020\", \"7/15/2020\", \"7/14/2020\", \"7/13/2020\", \"7/10/2020\", \"7/9/2020\", \"7/8/2020\", \"7/7/2020\", \"7/6/2020\", \"7/2/2020\", \"7/1/2020\", \"6/30/2020\", \"6/29/2020\", \"6/26/2020\", \"6/25/2020\", \"6/24/2020\", \"6/23/2020\", \"6/22/2020\", \"6/19/2020\", \"6/18/2020\", \"6/17/2020\", \"6/16/2020\", \"6/15/2020\", \"6/12/2020\", \"6/11/2020\", \"6/10/2020\", \"6/9/2020\", \"6/8/2020\", \"6/5/2020\", \"6/4/2020\", \"6/3/2020\", \"6/2/2020\", \"6/1/2020\", \"5/29/2020\", \"5/28/2020\", \"5/27/2020\", \"5/26/2020\", \"5/22/2020\", \"5/21/2020\", \"5/20/2020\", \"5/19/2020\", \"5/18/2020\", \"5/15/2020\", \"5/14/2020\", \"5/13/2020\", \"5/12/2020\", \"5/11/2020\", \"5/8/2020\", \"5/7/2020\", \"5/6/2020\", \"5/5/2020\", \"5/4/2020\", \"5/1/2020\", \"4/30/2020\", \"4/29/2020\", \"4/28/2020\", \"4/27/2020\", \"4/24/2020\", \"4/23/2020\", \"4/22/2020\", \"4/21/2020\", \"4/20/2020\", \"4/17/2020\", \"4/16/2020\", \"4/15/2020\", \"4/14/2020\", \"4/13/2020\", \"4/9/2020\", \"4/8/2020\", \"4/7/2020\", \"4/6/2020\", \"4/3/2020\", \"4/2/2020\", \"4/1/2020\", \"3/31/2020\", \"3/30/2020\", \"3/27/2020\", \"3/26/2020\", \"3/25/2020\", \"3/24/2020\", \"3/23/2020\", \"3/20/2020\", \"3/19/2020\", \"3/18/2020\", \"3/17/2020\", \"3/16/2020\"], \"y\": [228.18, 222.89, 217.88, 213.1, 214.79, 213.86, 209.54, 211.49, 210.53, 209.6, 208.76, 209.44, 205.29, 207.16, 211.67, 214.85, 212.34, 214.9, 214.17, 211.52, 204.4, 201.0, 202.5, 203.61, 201.47, 200.42, 207.19, 209.2, 213.66, 205.0, 204.47, 205.4, 209.56, 206.13, 214.48, 213.62, 216.33, 210.07, 210.45, 208.83, 205.68, 203.14, 197.88, 195.78, 199.73, 197.8, 201.6, 202.09, 195.79, 198.59, 194.0, 195.03, 192.89, 184.58, 190.54, 193.13, 191.13, 188.0, 185.94, 182.62, 184.3, 184.82, 184.25, 182.54, 182.73, 180.74, 180.2, 186.34, 183.19, 185.4, 184.81, 185.03, 185.75, 179.06, 177.54, 182.55, 186.8, 183.15, 184.98, 184.17, 182.08, 180.62, 174.49, 175.8, 180.0, 173.22, 175.59, 176.59, 172.06, 174.11, 171.39, 173.5, 176.63, 179.5, 174.3, 171.2, 169.0, 164.35, 166.36, 165.67, 169.59, 160.32, 155.1, 151.86, 153.0, 159.4, 152.44, 151.75, 148.4, 148.91, 143.75, 137.01, 146.0, 142.77, 138.0, 140.0, 140.0]}, {\"line\": {\"color\": \"rgba(219, 64, 82, 1.0)\", \"dash\": \"solid\", \"shape\": \"linear\", \"width\": 1.3}, \"mode\": \"lines\", \"name\": \"Tesla\", \"text\": \"\", \"type\": \"scatter\", \"x\": [\"8/28/2020\", \"8/27/2020\", \"8/26/2020\", \"8/25/2020\", \"8/24/2020\", \"8/21/2020\", \"8/20/2020\", \"8/19/2020\", \"8/18/2020\", \"8/17/2020\", \"8/14/2020\", \"8/13/2020\", \"8/12/2020\", \"8/11/2020\", \"8/10/2020\", \"8/7/2020\", \"8/6/2020\", \"8/5/2020\", \"8/4/2020\", \"8/3/2020\", \"7/31/2020\", \"7/30/2020\", \"7/29/2020\", \"7/28/2020\", \"7/27/2020\", \"7/24/2020\", \"7/23/2020\", \"7/22/2020\", \"7/21/2020\", \"7/20/2020\", \"7/17/2020\", \"7/16/2020\", \"7/15/2020\", \"7/14/2020\", \"7/13/2020\", \"7/10/2020\", \"7/9/2020\", \"7/8/2020\", \"7/7/2020\", \"7/6/2020\", \"7/2/2020\", \"7/1/2020\", \"6/30/2020\", \"6/29/2020\", \"6/26/2020\", \"6/25/2020\", \"6/24/2020\", \"6/23/2020\", \"6/22/2020\", \"6/19/2020\", \"6/18/2020\", \"6/17/2020\", \"6/16/2020\", \"6/15/2020\", \"6/12/2020\", \"6/11/2020\", \"6/10/2020\", \"6/9/2020\", \"6/8/2020\", \"6/5/2020\", \"6/4/2020\", \"6/3/2020\", \"6/2/2020\", \"6/1/2020\", \"5/29/2020\", \"5/28/2020\", \"5/27/2020\", \"5/26/2020\", \"5/22/2020\", \"5/21/2020\", \"5/20/2020\", \"5/19/2020\", \"5/18/2020\", \"5/15/2020\", \"5/14/2020\", \"5/13/2020\", \"5/12/2020\", \"5/11/2020\", \"5/8/2020\", \"5/7/2020\", \"5/6/2020\", \"5/5/2020\", \"5/4/2020\", \"5/1/2020\", \"4/30/2020\", \"4/29/2020\", \"4/28/2020\", \"4/27/2020\", \"4/24/2020\", \"4/23/2020\", \"4/22/2020\", \"4/21/2020\", \"4/20/2020\", \"4/17/2020\", \"4/16/2020\", \"4/15/2020\", \"4/14/2020\", \"4/13/2020\", \"4/9/2020\", \"4/8/2020\", \"4/7/2020\", \"4/6/2020\", \"4/3/2020\", \"4/2/2020\", \"4/1/2020\", \"3/31/2020\", \"3/30/2020\", \"3/27/2020\", \"3/26/2020\", \"3/25/2020\", \"3/24/2020\", \"3/23/2020\", \"3/20/2020\", \"3/19/2020\", \"3/18/2020\", \"3/17/2020\", \"3/16/2020\"], \"y\": [2295.12, 2180.46, 2060.0, 1974.89, 2126.28, 2044.76, 1860.68, 1865.0, 1898.99, 1677.0, 1664.99, 1611.0, 1470.0, 1396.0, 1448.0, 1499.54, 1490.83, 1492.99, 1495.01, 1449.2, 1515.0, 1488.0, 1501.0, 1504.0, 1435.0, 1416.01, 1678.95, 1599.0, 1639.93, 1519.01, 1513.45, 1477.16, 1543.0, 1556.0, 1659.0, 1396.0, 1396.99, 1405.0, 1405.01, 1276.69, 1221.48, 1083.0, 1006.5, 969.01, 994.78, 954.27, 994.11, 998.88, 999.95, 1012.78, 1003.0, 987.71, 1011.85, 917.79, 980.0, 990.2, 991.88, 940.01, 919.0, 877.84, 889.88, 888.12, 894.7, 858.0, 808.75, 813.51, 820.86, 834.5, 822.17, 816.0, 820.5, 815.17, 827.78, 790.35, 780.0, 820.83, 827.0, 790.51, 793.77, 777.21, 776.5, 789.79, 701.0, 755.0, 855.19, 790.17, 795.64, 737.61, 710.81, 727.6, 703.98, 730.12, 732.7, 772.28, 716.94, 742.0, 698.97, 590.16, 562.09, 554.2, 545.0, 511.2, 509.5, 481.03, 504.0, 501.25, 510.26, 505.0, 547.39, 545.25, 477.3, 433.6, 438.2, 374.7, 389.0, 440.01, 469.5]}],                        {\"legend\": {\"bgcolor\": \"#F5F6F9\", \"font\": {\"color\": \"#4D5663\"}}, \"paper_bgcolor\": \"#F5F6F9\", \"plot_bgcolor\": \"#F5F6F9\", \"template\": {\"data\": {\"bar\": [{\"error_x\": {\"color\": \"#2a3f5f\"}, \"error_y\": {\"color\": \"#2a3f5f\"}, \"marker\": {\"line\": {\"color\": \"#E5ECF6\", \"width\": 0.5}}, \"type\": \"bar\"}], \"barpolar\": [{\"marker\": {\"line\": {\"color\": \"#E5ECF6\", \"width\": 0.5}}, \"type\": \"barpolar\"}], \"carpet\": [{\"aaxis\": {\"endlinecolor\": \"#2a3f5f\", \"gridcolor\": \"white\", \"linecolor\": \"white\", \"minorgridcolor\": \"white\", \"startlinecolor\": \"#2a3f5f\"}, \"baxis\": {\"endlinecolor\": \"#2a3f5f\", \"gridcolor\": \"white\", \"linecolor\": \"white\", \"minorgridcolor\": \"white\", \"startlinecolor\": \"#2a3f5f\"}, \"type\": \"carpet\"}], \"choropleth\": [{\"colorbar\": {\"outlinewidth\": 0, \"ticks\": \"\"}, \"type\": \"choropleth\"}], \"contour\": [{\"colorbar\": {\"outlinewidth\": 0, \"ticks\": \"\"}, \"colorscale\": [[0.0, \"#0d0887\"], [0.1111111111111111, \"#46039f\"], [0.2222222222222222, \"#7201a8\"], [0.3333333333333333, \"#9c179e\"], [0.4444444444444444, \"#bd3786\"], [0.5555555555555556, \"#d8576b\"], [0.6666666666666666, \"#ed7953\"], [0.7777777777777778, \"#fb9f3a\"], [0.8888888888888888, \"#fdca26\"], [1.0, \"#f0f921\"]], \"type\": \"contour\"}], \"contourcarpet\": [{\"colorbar\": {\"outlinewidth\": 0, \"ticks\": \"\"}, \"type\": \"contourcarpet\"}], \"heatmap\": [{\"colorbar\": {\"outlinewidth\": 0, \"ticks\": \"\"}, \"colorscale\": [[0.0, \"#0d0887\"], [0.1111111111111111, \"#46039f\"], [0.2222222222222222, \"#7201a8\"], [0.3333333333333333, \"#9c179e\"], [0.4444444444444444, \"#bd3786\"], [0.5555555555555556, \"#d8576b\"], [0.6666666666666666, \"#ed7953\"], [0.7777777777777778, \"#fb9f3a\"], [0.8888888888888888, \"#fdca26\"], [1.0, \"#f0f921\"]], \"type\": \"heatmap\"}], \"heatmapgl\": [{\"colorbar\": {\"outlinewidth\": 0, \"ticks\": \"\"}, \"colorscale\": [[0.0, \"#0d0887\"], [0.1111111111111111, \"#46039f\"], [0.2222222222222222, \"#7201a8\"], [0.3333333333333333, \"#9c179e\"], [0.4444444444444444, \"#bd3786\"], [0.5555555555555556, \"#d8576b\"], [0.6666666666666666, \"#ed7953\"], [0.7777777777777778, \"#fb9f3a\"], [0.8888888888888888, \"#fdca26\"], [1.0, \"#f0f921\"]], \"type\": \"heatmapgl\"}], \"histogram\": [{\"marker\": {\"colorbar\": {\"outlinewidth\": 0, \"ticks\": \"\"}}, \"type\": \"histogram\"}], \"histogram2d\": [{\"colorbar\": {\"outlinewidth\": 0, \"ticks\": \"\"}, \"colorscale\": [[0.0, \"#0d0887\"], [0.1111111111111111, \"#46039f\"], [0.2222222222222222, \"#7201a8\"], [0.3333333333333333, \"#9c179e\"], [0.4444444444444444, \"#bd3786\"], [0.5555555555555556, \"#d8576b\"], [0.6666666666666666, \"#ed7953\"], [0.7777777777777778, \"#fb9f3a\"], [0.8888888888888888, \"#fdca26\"], [1.0, \"#f0f921\"]], \"type\": \"histogram2d\"}], \"histogram2dcontour\": [{\"colorbar\": {\"outlinewidth\": 0, \"ticks\": \"\"}, \"colorscale\": [[0.0, \"#0d0887\"], [0.1111111111111111, \"#46039f\"], [0.2222222222222222, \"#7201a8\"], [0.3333333333333333, \"#9c179e\"], [0.4444444444444444, \"#bd3786\"], [0.5555555555555556, \"#d8576b\"], [0.6666666666666666, \"#ed7953\"], [0.7777777777777778, \"#fb9f3a\"], [0.8888888888888888, \"#fdca26\"], [1.0, \"#f0f921\"]], \"type\": \"histogram2dcontour\"}], \"mesh3d\": [{\"colorbar\": {\"outlinewidth\": 0, \"ticks\": \"\"}, \"type\": \"mesh3d\"}], \"parcoords\": [{\"line\": {\"colorbar\": {\"outlinewidth\": 0, \"ticks\": \"\"}}, \"type\": \"parcoords\"}], \"pie\": [{\"automargin\": true, \"type\": \"pie\"}], \"scatter\": [{\"marker\": {\"colorbar\": {\"outlinewidth\": 0, \"ticks\": \"\"}}, \"type\": \"scatter\"}], \"scatter3d\": [{\"line\": {\"colorbar\": {\"outlinewidth\": 0, \"ticks\": \"\"}}, \"marker\": {\"colorbar\": {\"outlinewidth\": 0, \"ticks\": \"\"}}, \"type\": \"scatter3d\"}], \"scattercarpet\": [{\"marker\": {\"colorbar\": {\"outlinewidth\": 0, \"ticks\": \"\"}}, \"type\": \"scattercarpet\"}], \"scattergeo\": [{\"marker\": {\"colorbar\": {\"outlinewidth\": 0, \"ticks\": \"\"}}, \"type\": \"scattergeo\"}], \"scattergl\": [{\"marker\": {\"colorbar\": {\"outlinewidth\": 0, \"ticks\": \"\"}}, \"type\": \"scattergl\"}], \"scattermapbox\": [{\"marker\": {\"colorbar\": {\"outlinewidth\": 0, \"ticks\": \"\"}}, \"type\": \"scattermapbox\"}], \"scatterpolar\": [{\"marker\": {\"colorbar\": {\"outlinewidth\": 0, \"ticks\": \"\"}}, \"type\": \"scatterpolar\"}], \"scatterpolargl\": [{\"marker\": {\"colorbar\": {\"outlinewidth\": 0, \"ticks\": \"\"}}, \"type\": \"scatterpolargl\"}], \"scatterternary\": [{\"marker\": {\"colorbar\": {\"outlinewidth\": 0, \"ticks\": \"\"}}, \"type\": \"scatterternary\"}], \"surface\": [{\"colorbar\": {\"outlinewidth\": 0, \"ticks\": \"\"}, \"colorscale\": [[0.0, \"#0d0887\"], [0.1111111111111111, \"#46039f\"], [0.2222222222222222, \"#7201a8\"], [0.3333333333333333, \"#9c179e\"], [0.4444444444444444, \"#bd3786\"], [0.5555555555555556, \"#d8576b\"], [0.6666666666666666, \"#ed7953\"], [0.7777777777777778, \"#fb9f3a\"], [0.8888888888888888, \"#fdca26\"], [1.0, \"#f0f921\"]], \"type\": \"surface\"}], \"table\": [{\"cells\": {\"fill\": {\"color\": \"#EBF0F8\"}, \"line\": {\"color\": \"white\"}}, \"header\": {\"fill\": {\"color\": \"#C8D4E3\"}, \"line\": {\"color\": \"white\"}}, \"type\": \"table\"}]}, \"layout\": {\"annotationdefaults\": {\"arrowcolor\": \"#2a3f5f\", \"arrowhead\": 0, \"arrowwidth\": 1}, \"coloraxis\": {\"colorbar\": {\"outlinewidth\": 0, \"ticks\": \"\"}}, \"colorscale\": {\"diverging\": [[0, \"#8e0152\"], [0.1, \"#c51b7d\"], [0.2, \"#de77ae\"], [0.3, \"#f1b6da\"], [0.4, \"#fde0ef\"], [0.5, \"#f7f7f7\"], [0.6, \"#e6f5d0\"], [0.7, \"#b8e186\"], [0.8, \"#7fbc41\"], [0.9, \"#4d9221\"], [1, \"#276419\"]], \"sequential\": [[0.0, \"#0d0887\"], [0.1111111111111111, \"#46039f\"], [0.2222222222222222, \"#7201a8\"], [0.3333333333333333, \"#9c179e\"], [0.4444444444444444, \"#bd3786\"], [0.5555555555555556, \"#d8576b\"], [0.6666666666666666, \"#ed7953\"], [0.7777777777777778, \"#fb9f3a\"], [0.8888888888888888, \"#fdca26\"], [1.0, \"#f0f921\"]], \"sequentialminus\": [[0.0, \"#0d0887\"], [0.1111111111111111, \"#46039f\"], [0.2222222222222222, \"#7201a8\"], [0.3333333333333333, \"#9c179e\"], [0.4444444444444444, \"#bd3786\"], [0.5555555555555556, \"#d8576b\"], [0.6666666666666666, \"#ed7953\"], [0.7777777777777778, \"#fb9f3a\"], [0.8888888888888888, \"#fdca26\"], [1.0, \"#f0f921\"]]}, \"colorway\": [\"#636efa\", \"#EF553B\", \"#00cc96\", \"#ab63fa\", \"#FFA15A\", \"#19d3f3\", \"#FF6692\", \"#B6E880\", \"#FF97FF\", \"#FECB52\"], \"font\": {\"color\": \"#2a3f5f\"}, \"geo\": {\"bgcolor\": \"white\", \"lakecolor\": \"white\", \"landcolor\": \"#E5ECF6\", \"showlakes\": true, \"showland\": true, \"subunitcolor\": \"white\"}, \"hoverlabel\": {\"align\": \"left\"}, \"hovermode\": \"closest\", \"mapbox\": {\"style\": \"light\"}, \"paper_bgcolor\": \"white\", \"plot_bgcolor\": \"#E5ECF6\", \"polar\": {\"angularaxis\": {\"gridcolor\": \"white\", \"linecolor\": \"white\", \"ticks\": \"\"}, \"bgcolor\": \"#E5ECF6\", \"radialaxis\": {\"gridcolor\": \"white\", \"linecolor\": \"white\", \"ticks\": \"\"}}, \"scene\": {\"xaxis\": {\"backgroundcolor\": \"#E5ECF6\", \"gridcolor\": \"white\", \"gridwidth\": 2, \"linecolor\": \"white\", \"showbackground\": true, \"ticks\": \"\", \"zerolinecolor\": \"white\"}, \"yaxis\": {\"backgroundcolor\": \"#E5ECF6\", \"gridcolor\": \"white\", \"gridwidth\": 2, \"linecolor\": \"white\", \"showbackground\": true, \"ticks\": \"\", \"zerolinecolor\": \"white\"}, \"zaxis\": {\"backgroundcolor\": \"#E5ECF6\", \"gridcolor\": \"white\", \"gridwidth\": 2, \"linecolor\": \"white\", \"showbackground\": true, \"ticks\": \"\", \"zerolinecolor\": \"white\"}}, \"shapedefaults\": {\"line\": {\"color\": \"#2a3f5f\"}}, \"ternary\": {\"aaxis\": {\"gridcolor\": \"white\", \"linecolor\": \"white\", \"ticks\": \"\"}, \"baxis\": {\"gridcolor\": \"white\", \"linecolor\": \"white\", \"ticks\": \"\"}, \"bgcolor\": \"#E5ECF6\", \"caxis\": {\"gridcolor\": \"white\", \"linecolor\": \"white\", \"ticks\": \"\"}}, \"title\": {\"x\": 0.05}, \"xaxis\": {\"automargin\": true, \"gridcolor\": \"white\", \"linecolor\": \"white\", \"ticks\": \"\", \"title\": {\"standoff\": 15}, \"zerolinecolor\": \"white\", \"zerolinewidth\": 2}, \"yaxis\": {\"automargin\": true, \"gridcolor\": \"white\", \"linecolor\": \"white\", \"ticks\": \"\", \"title\": {\"standoff\": 15}, \"zerolinecolor\": \"white\", \"zerolinewidth\": 2}}}, \"title\": {\"font\": {\"color\": \"#4D5663\"}}, \"xaxis\": {\"gridcolor\": \"#E1E5ED\", \"showgrid\": true, \"tickfont\": {\"color\": \"#4D5663\"}, \"title\": {\"font\": {\"color\": \"#4D5663\"}, \"text\": \"\"}, \"zerolinecolor\": \"#E1E5ED\"}, \"yaxis\": {\"gridcolor\": \"#E1E5ED\", \"showgrid\": true, \"tickfont\": {\"color\": \"#4D5663\"}, \"title\": {\"font\": {\"color\": \"#4D5663\"}, \"text\": \"\"}, \"zerolinecolor\": \"#E1E5ED\"}},                        {\"showLink\": true, \"linkText\": \"Export to plot.ly\", \"plotlyServerURL\": \"https://plot.ly\", \"responsive\": true}                    ).then(function(){\n",
       "                            \n",
       "var gd = document.getElementById('80c547f1-f7a7-4099-93a9-fd5feb584c5c');\n",
       "var x = new MutationObserver(function (mutations, observer) {{\n",
       "        var display = window.getComputedStyle(gd).display;\n",
       "        if (!display || display === 'none') {{\n",
       "            console.log([gd, 'removed!']);\n",
       "            Plotly.purge(gd);\n",
       "            observer.disconnect();\n",
       "        }}\n",
       "}});\n",
       "\n",
       "// Listen for the removal of the full notebook cells\n",
       "var notebookContainer = gd.closest('#notebook-container');\n",
       "if (notebookContainer) {{\n",
       "    x.observe(notebookContainer, {childList: true});\n",
       "}}\n",
       "\n",
       "// Listen for the clearing of the current output cell\n",
       "var outputEl = gd.closest('.output');\n",
       "if (outputEl) {{\n",
       "    x.observe(outputEl, {childList: true});\n",
       "}}\n",
       "\n",
       "                        })                };                });            </script>        </div>"
      ]
     },
     "metadata": {},
     "output_type": "display_data"
    },
    {
     "data": {
      "application/vnd.plotly.v1+json": {
       "config": {
        "linkText": "Export to plot.ly",
        "plotlyServerURL": "https://plot.ly",
        "showLink": true
       },
       "data": [
        {
         "line": {
          "color": "rgba(255, 153, 51, 1.0)",
          "dash": "solid",
          "shape": "linear",
          "width": 1.3
         },
         "mode": "lines",
         "name": "AAPL",
         "text": "",
         "type": "scatter",
         "x": [
          "8/28/2020",
          "8/27/2020",
          "8/26/2020",
          "8/25/2020",
          "8/24/2020",
          "8/21/2020",
          "8/20/2020",
          "8/19/2020",
          "8/18/2020",
          "8/17/2020",
          "8/14/2020",
          "8/13/2020",
          "8/12/2020",
          "8/11/2020",
          "8/10/2020",
          "8/7/2020",
          "8/6/2020",
          "8/5/2020",
          "8/4/2020",
          "8/3/2020",
          "7/31/2020",
          "7/30/2020",
          "7/29/2020",
          "7/28/2020",
          "7/27/2020",
          "7/24/2020",
          "7/23/2020",
          "7/22/2020",
          "7/21/2020",
          "7/20/2020",
          "7/17/2020",
          "7/16/2020",
          "7/15/2020",
          "7/14/2020",
          "7/13/2020",
          "7/10/2020",
          "7/9/2020",
          "7/8/2020",
          "7/7/2020",
          "7/6/2020",
          "7/2/2020",
          "7/1/2020",
          "6/30/2020",
          "6/29/2020",
          "6/26/2020",
          "6/25/2020",
          "6/24/2020",
          "6/23/2020",
          "6/22/2020",
          "6/19/2020",
          "6/18/2020",
          "6/17/2020",
          "6/16/2020",
          "6/15/2020",
          "6/12/2020",
          "6/11/2020",
          "6/10/2020",
          "6/9/2020",
          "6/8/2020",
          "6/5/2020",
          "6/4/2020",
          "6/3/2020",
          "6/2/2020",
          "6/1/2020",
          "5/29/2020",
          "5/28/2020",
          "5/27/2020",
          "5/26/2020",
          "5/22/2020",
          "5/21/2020",
          "5/20/2020",
          "5/19/2020",
          "5/18/2020",
          "5/15/2020",
          "5/14/2020",
          "5/13/2020",
          "5/12/2020",
          "5/11/2020",
          "5/8/2020",
          "5/7/2020",
          "5/6/2020",
          "5/5/2020",
          "5/4/2020",
          "5/1/2020",
          "4/30/2020",
          "4/29/2020",
          "4/28/2020",
          "4/27/2020",
          "4/24/2020",
          "4/23/2020",
          "4/22/2020",
          "4/21/2020",
          "4/20/2020",
          "4/17/2020",
          "4/16/2020",
          "4/15/2020",
          "4/14/2020",
          "4/13/2020",
          "4/9/2020",
          "4/8/2020",
          "4/7/2020",
          "4/6/2020",
          "4/3/2020",
          "4/2/2020",
          "4/1/2020",
          "3/31/2020",
          "3/30/2020",
          "3/27/2020",
          "3/26/2020",
          "3/25/2020",
          "3/24/2020",
          "3/23/2020",
          "3/20/2020",
          "3/19/2020",
          "3/18/2020",
          "3/17/2020",
          "3/16/2020"
         ],
         "y": [
          499.23,
          500.04,
          506.09,
          499.3,
          503.43,
          497.48,
          473.1,
          462.83,
          462.25,
          458.43,
          459.63,
          460.04,
          452.04,
          437.5,
          450.91,
          444.45,
          455.61,
          440.25,
          438.66,
          435.75,
          425.04,
          384.76,
          380.16,
          373.01,
          379.24,
          370.46,
          371.38,
          389.09,
          388,
          393.43,
          385.31,
          386.09,
          390.9,
          388.23,
          381.91,
          383.68,
          382.73,
          381.37,
          372.69,
          373.85,
          364.11,
          364.11,
          364.8,
          361.78,
          353.63,
          364.84,
          360.06,
          366.53,
          358.87,
          349.72,
          351.73,
          351.59,
          352.08,
          342.99,
          338.8,
          335.9,
          352.84,
          343.99,
          333.46,
          331.5,
          322.32,
          325.12,
          323.34,
          321.85,
          317.94,
          318.25,
          318.11,
          316.73,
          318.89,
          316.85,
          319.23,
          313.14,
          314.96,
          307.71,
          309.54,
          307.65,
          311.41,
          315.01,
          310.13,
          303.74,
          300.63,
          297.56,
          293.16,
          289.07,
          293.8,
          287.73,
          278.58,
          283.17,
          282.97,
          275.03,
          276.1,
          268.37,
          276.93,
          282.8,
          286.69,
          284.43,
          287.05,
          273.25,
          267.99,
          266.07,
          259.43,
          262.47,
          241.41,
          244.93,
          240.91,
          254.29,
          254.81,
          247.74,
          258.44,
          245.52,
          246.88,
          224.37,
          229.24,
          244.78,
          246.67,
          252.86,
          242.21
         ]
        },
        {
         "line": {
          "color": "rgba(55, 128, 191, 1.0)",
          "dash": "solid",
          "shape": "linear",
          "width": 1.3
         },
         "mode": "lines",
         "name": "Amazon",
         "text": "",
         "type": "scatter",
         "x": [
          "8/28/2020",
          "8/27/2020",
          "8/26/2020",
          "8/25/2020",
          "8/24/2020",
          "8/21/2020",
          "8/20/2020",
          "8/19/2020",
          "8/18/2020",
          "8/17/2020",
          "8/14/2020",
          "8/13/2020",
          "8/12/2020",
          "8/11/2020",
          "8/10/2020",
          "8/7/2020",
          "8/6/2020",
          "8/5/2020",
          "8/4/2020",
          "8/3/2020",
          "7/31/2020",
          "7/30/2020",
          "7/29/2020",
          "7/28/2020",
          "7/27/2020",
          "7/24/2020",
          "7/23/2020",
          "7/22/2020",
          "7/21/2020",
          "7/20/2020",
          "7/17/2020",
          "7/16/2020",
          "7/15/2020",
          "7/14/2020",
          "7/13/2020",
          "7/10/2020",
          "7/9/2020",
          "7/8/2020",
          "7/7/2020",
          "7/6/2020",
          "7/2/2020",
          "7/1/2020",
          "6/30/2020",
          "6/29/2020",
          "6/26/2020",
          "6/25/2020",
          "6/24/2020",
          "6/23/2020",
          "6/22/2020",
          "6/19/2020",
          "6/18/2020",
          "6/17/2020",
          "6/16/2020",
          "6/15/2020",
          "6/12/2020",
          "6/11/2020",
          "6/10/2020",
          "6/9/2020",
          "6/8/2020",
          "6/5/2020",
          "6/4/2020",
          "6/3/2020",
          "6/2/2020",
          "6/1/2020",
          "5/29/2020",
          "5/28/2020",
          "5/27/2020",
          "5/26/2020",
          "5/22/2020",
          "5/21/2020",
          "5/20/2020",
          "5/19/2020",
          "5/18/2020",
          "5/15/2020",
          "5/14/2020",
          "5/13/2020",
          "5/12/2020",
          "5/11/2020",
          "5/8/2020",
          "5/7/2020",
          "5/6/2020",
          "5/5/2020",
          "5/4/2020",
          "5/1/2020",
          "4/30/2020",
          "4/29/2020",
          "4/28/2020",
          "4/27/2020",
          "4/24/2020",
          "4/23/2020",
          "4/22/2020",
          "4/21/2020",
          "4/20/2020",
          "4/17/2020",
          "4/16/2020",
          "4/15/2020",
          "4/14/2020",
          "4/13/2020",
          "4/9/2020",
          "4/8/2020",
          "4/7/2020",
          "4/6/2020",
          "4/3/2020",
          "4/2/2020",
          "4/1/2020",
          "3/31/2020",
          "3/30/2020",
          "3/27/2020",
          "3/26/2020",
          "3/25/2020",
          "3/24/2020",
          "3/23/2020",
          "3/20/2020",
          "3/19/2020",
          "3/18/2020",
          "3/17/2020",
          "3/16/2020"
         ],
         "y": [
          3401.8,
          3400,
          3441.85,
          3346.49,
          3307.46,
          3284.72,
          3297.37,
          3260.48,
          3312.49,
          3182.41,
          3148.02,
          3161.02,
          3162.24,
          3080.67,
          3148.16,
          3167.46,
          3225,
          3205.03,
          3138.83,
          3111.89,
          3164.68,
          3051.88,
          3033.53,
          3000.33,
          3055.21,
          3008.91,
          2986.55,
          3099.91,
          3138.29,
          3196.84,
          2961.97,
          2999.9,
          3008.87,
          3084,
          3104,
          3200,
          3182.63,
          3081.11,
          3000.12,
          3057.04,
          2890.3,
          2878.7,
          2758.82,
          2680.38,
          2692.87,
          2754.58,
          2734.4,
          2764.41,
          2713.82,
          2675.01,
          2653.98,
          2640.98,
          2615.27,
          2572.68,
          2545.02,
          2557.96,
          2647.45,
          2600.86,
          2524.06,
          2483,
          2460.6,
          2478.4,
          2472.41,
          2471.04,
          2442.37,
          2401.1,
          2410.39,
          2421.86,
          2436.88,
          2446.74,
          2497.94,
          2449.33,
          2426.26,
          2409.78,
          2388.85,
          2367.92,
          2356.95,
          2409,
          2379.61,
          2367.61,
          2351.26,
          2317.8,
          2315.99,
          2286.04,
          2474,
          2372.71,
          2314.08,
          2376,
          2410.22,
          2399.45,
          2363.49,
          2328.12,
          2393.61,
          2375,
          2408.19,
          2307.68,
          2283.32,
          2168.87,
          2042.76,
          2043,
          2011.6,
          1997.59,
          1906.59,
          1918.83,
          1907.7,
          1949.72,
          1963.95,
          1900.1,
          1955.49,
          1885.84,
          1940.1,
          1902.83,
          1846.09,
          1880.93,
          1830,
          1807.84,
          1689.15
         ]
        },
        {
         "line": {
          "color": "rgba(50, 171, 96, 1.0)",
          "dash": "solid",
          "shape": "linear",
          "width": 1.3
         },
         "mode": "lines",
         "name": "Facebook",
         "text": "",
         "type": "scatter",
         "x": [
          "8/28/2020",
          "8/27/2020",
          "8/26/2020",
          "8/25/2020",
          "8/24/2020",
          "8/21/2020",
          "8/20/2020",
          "8/19/2020",
          "8/18/2020",
          "8/17/2020",
          "8/14/2020",
          "8/13/2020",
          "8/12/2020",
          "8/11/2020",
          "8/10/2020",
          "8/7/2020",
          "8/6/2020",
          "8/5/2020",
          "8/4/2020",
          "8/3/2020",
          "7/31/2020",
          "7/30/2020",
          "7/29/2020",
          "7/28/2020",
          "7/27/2020",
          "7/24/2020",
          "7/23/2020",
          "7/22/2020",
          "7/21/2020",
          "7/20/2020",
          "7/17/2020",
          "7/16/2020",
          "7/15/2020",
          "7/14/2020",
          "7/13/2020",
          "7/10/2020",
          "7/9/2020",
          "7/8/2020",
          "7/7/2020",
          "7/6/2020",
          "7/2/2020",
          "7/1/2020",
          "6/30/2020",
          "6/29/2020",
          "6/26/2020",
          "6/25/2020",
          "6/24/2020",
          "6/23/2020",
          "6/22/2020",
          "6/19/2020",
          "6/18/2020",
          "6/17/2020",
          "6/16/2020",
          "6/15/2020",
          "6/12/2020",
          "6/11/2020",
          "6/10/2020",
          "6/9/2020",
          "6/8/2020",
          "6/5/2020",
          "6/4/2020",
          "6/3/2020",
          "6/2/2020",
          "6/1/2020",
          "5/29/2020",
          "5/28/2020",
          "5/27/2020",
          "5/26/2020",
          "5/22/2020",
          "5/21/2020",
          "5/20/2020",
          "5/19/2020",
          "5/18/2020",
          "5/15/2020",
          "5/14/2020",
          "5/13/2020",
          "5/12/2020",
          "5/11/2020",
          "5/8/2020",
          "5/7/2020",
          "5/6/2020",
          "5/5/2020",
          "5/4/2020",
          "5/1/2020",
          "4/30/2020",
          "4/29/2020",
          "4/28/2020",
          "4/27/2020",
          "4/24/2020",
          "4/23/2020",
          "4/22/2020",
          "4/21/2020",
          "4/20/2020",
          "4/17/2020",
          "4/16/2020",
          "4/15/2020",
          "4/14/2020",
          "4/13/2020",
          "4/9/2020",
          "4/8/2020",
          "4/7/2020",
          "4/6/2020",
          "4/3/2020",
          "4/2/2020",
          "4/1/2020",
          "3/31/2020",
          "3/30/2020",
          "3/27/2020",
          "3/26/2020",
          "3/25/2020",
          "3/24/2020",
          "3/23/2020",
          "3/20/2020",
          "3/19/2020",
          "3/18/2020",
          "3/17/2020",
          "3/16/2020"
         ],
         "y": [
          293.66,
          293.22,
          303.91,
          280.82,
          271.39,
          267.01,
          269.01,
          262.59,
          262.34,
          261.16,
          261.24,
          261.3,
          259.89,
          256.13,
          263,
          268.44,
          265.28,
          249.12,
          249.83,
          251.96,
          253.67,
          234.5,
          233.29,
          230.12,
          233.5,
          230.71,
          232.6,
          239.87,
          241.75,
          245.42,
          242.03,
          240.93,
          240.28,
          239.73,
          239,
          245.07,
          244.5,
          243.58,
          240.86,
          240.28,
          233.42,
          237.55,
          227.07,
          220.64,
          216.08,
          235.68,
          234.02,
          242.24,
          239.22,
          238.79,
          235.94,
          235.53,
          235.65,
          232.5,
          228.58,
          224.43,
          236.73,
          238.67,
          231.4,
          230.77,
          226.29,
          230.16,
          232.72,
          231.91,
          225.09,
          225.46,
          229.14,
          232.2,
          234.91,
          231.39,
          229.97,
          216.88,
          213.19,
          210.88,
          206.81,
          205.1,
          210.1,
          213.18,
          212.35,
          211.26,
          208.47,
          207.07,
          205.26,
          202.27,
          204.71,
          194.19,
          182.91,
          187.5,
          190.07,
          185.13,
          182.28,
          170.8,
          178.24,
          179.24,
          176.25,
          176.97,
          178.17,
          174.79,
          175.19,
          174.28,
          168.83,
          165.55,
          154.18,
          158.19,
          159.6,
          166.8,
          165.95,
          156.79,
          163.34,
          156.21,
          160.98,
          148.1,
          149.73,
          153.13,
          146.96,
          149.42,
          146.01
         ]
        },
        {
         "line": {
          "color": "rgba(128, 0, 128, 1.0)",
          "dash": "solid",
          "shape": "linear",
          "width": 1.3
         },
         "mode": "lines",
         "name": "Microsoft",
         "text": "",
         "type": "scatter",
         "x": [
          "8/28/2020",
          "8/27/2020",
          "8/26/2020",
          "8/25/2020",
          "8/24/2020",
          "8/21/2020",
          "8/20/2020",
          "8/19/2020",
          "8/18/2020",
          "8/17/2020",
          "8/14/2020",
          "8/13/2020",
          "8/12/2020",
          "8/11/2020",
          "8/10/2020",
          "8/7/2020",
          "8/6/2020",
          "8/5/2020",
          "8/4/2020",
          "8/3/2020",
          "7/31/2020",
          "7/30/2020",
          "7/29/2020",
          "7/28/2020",
          "7/27/2020",
          "7/24/2020",
          "7/23/2020",
          "7/22/2020",
          "7/21/2020",
          "7/20/2020",
          "7/17/2020",
          "7/16/2020",
          "7/15/2020",
          "7/14/2020",
          "7/13/2020",
          "7/10/2020",
          "7/9/2020",
          "7/8/2020",
          "7/7/2020",
          "7/6/2020",
          "7/2/2020",
          "7/1/2020",
          "6/30/2020",
          "6/29/2020",
          "6/26/2020",
          "6/25/2020",
          "6/24/2020",
          "6/23/2020",
          "6/22/2020",
          "6/19/2020",
          "6/18/2020",
          "6/17/2020",
          "6/16/2020",
          "6/15/2020",
          "6/12/2020",
          "6/11/2020",
          "6/10/2020",
          "6/9/2020",
          "6/8/2020",
          "6/5/2020",
          "6/4/2020",
          "6/3/2020",
          "6/2/2020",
          "6/1/2020",
          "5/29/2020",
          "5/28/2020",
          "5/27/2020",
          "5/26/2020",
          "5/22/2020",
          "5/21/2020",
          "5/20/2020",
          "5/19/2020",
          "5/18/2020",
          "5/15/2020",
          "5/14/2020",
          "5/13/2020",
          "5/12/2020",
          "5/11/2020",
          "5/8/2020",
          "5/7/2020",
          "5/6/2020",
          "5/5/2020",
          "5/4/2020",
          "5/1/2020",
          "4/30/2020",
          "4/29/2020",
          "4/28/2020",
          "4/27/2020",
          "4/24/2020",
          "4/23/2020",
          "4/22/2020",
          "4/21/2020",
          "4/20/2020",
          "4/17/2020",
          "4/16/2020",
          "4/15/2020",
          "4/14/2020",
          "4/13/2020",
          "4/9/2020",
          "4/8/2020",
          "4/7/2020",
          "4/6/2020",
          "4/3/2020",
          "4/2/2020",
          "4/1/2020",
          "3/31/2020",
          "3/30/2020",
          "3/27/2020",
          "3/26/2020",
          "3/25/2020",
          "3/24/2020",
          "3/23/2020",
          "3/20/2020",
          "3/19/2020",
          "3/18/2020",
          "3/17/2020",
          "3/16/2020"
         ],
         "y": [
          228.91,
          226.58,
          221.15,
          216.47,
          213.69,
          213.02,
          214.58,
          209.7,
          211.49,
          210.28,
          208.9,
          208.7,
          209.19,
          203.38,
          208.25,
          212.48,
          216.35,
          212.94,
          213.29,
          216.54,
          205.01,
          203.9,
          204.06,
          202.02,
          203.85,
          201.3,
          202.54,
          211.75,
          208.75,
          211.6,
          202.88,
          203.92,
          208.04,
          208.35,
          207.07,
          213.67,
          214.32,
          212.83,
          208.25,
          210.7,
          206.26,
          204.7,
          203.51,
          198.44,
          196.33,
          200.34,
          197.84,
          201.91,
          200.57,
          195.15,
          196.32,
          194.24,
          193.57,
          188.94,
          187.74,
          186.27,
          196.84,
          189.8,
          188.36,
          187.2,
          182.92,
          185.36,
          184.91,
          182.83,
          183.25,
          181.4,
          181.81,
          181.57,
          183.51,
          183.43,
          185.66,
          183.63,
          184.91,
          183.16,
          180.53,
          179.75,
          182.51,
          186.74,
          184.68,
          183.6,
          182.54,
          180.76,
          178.84,
          174.57,
          179.21,
          177.43,
          169.81,
          174.05,
          174.55,
          171.42,
          173.52,
          167.82,
          175.06,
          178.6,
          177.04,
          171.88,
          173.7,
          165.51,
          165.14,
          165.13,
          163.49,
          165.27,
          153.83,
          155.26,
          152.11,
          157.71,
          160.23,
          149.7,
          156.11,
          146.92,
          148.34,
          135.98,
          137.35,
          142.71,
          140.4,
          146.57,
          135.42
         ]
        },
        {
         "line": {
          "color": "rgba(219, 64, 82, 1.0)",
          "dash": "solid",
          "shape": "linear",
          "width": 1.3
         },
         "mode": "lines",
         "name": "Tesla",
         "text": "",
         "type": "scatter",
         "x": [
          "8/28/2020",
          "8/27/2020",
          "8/26/2020",
          "8/25/2020",
          "8/24/2020",
          "8/21/2020",
          "8/20/2020",
          "8/19/2020",
          "8/18/2020",
          "8/17/2020",
          "8/14/2020",
          "8/13/2020",
          "8/12/2020",
          "8/11/2020",
          "8/10/2020",
          "8/7/2020",
          "8/6/2020",
          "8/5/2020",
          "8/4/2020",
          "8/3/2020",
          "7/31/2020",
          "7/30/2020",
          "7/29/2020",
          "7/28/2020",
          "7/27/2020",
          "7/24/2020",
          "7/23/2020",
          "7/22/2020",
          "7/21/2020",
          "7/20/2020",
          "7/17/2020",
          "7/16/2020",
          "7/15/2020",
          "7/14/2020",
          "7/13/2020",
          "7/10/2020",
          "7/9/2020",
          "7/8/2020",
          "7/7/2020",
          "7/6/2020",
          "7/2/2020",
          "7/1/2020",
          "6/30/2020",
          "6/29/2020",
          "6/26/2020",
          "6/25/2020",
          "6/24/2020",
          "6/23/2020",
          "6/22/2020",
          "6/19/2020",
          "6/18/2020",
          "6/17/2020",
          "6/16/2020",
          "6/15/2020",
          "6/12/2020",
          "6/11/2020",
          "6/10/2020",
          "6/9/2020",
          "6/8/2020",
          "6/5/2020",
          "6/4/2020",
          "6/3/2020",
          "6/2/2020",
          "6/1/2020",
          "5/29/2020",
          "5/28/2020",
          "5/27/2020",
          "5/26/2020",
          "5/22/2020",
          "5/21/2020",
          "5/20/2020",
          "5/19/2020",
          "5/18/2020",
          "5/15/2020",
          "5/14/2020",
          "5/13/2020",
          "5/12/2020",
          "5/11/2020",
          "5/8/2020",
          "5/7/2020",
          "5/6/2020",
          "5/5/2020",
          "5/4/2020",
          "5/1/2020",
          "4/30/2020",
          "4/29/2020",
          "4/28/2020",
          "4/27/2020",
          "4/24/2020",
          "4/23/2020",
          "4/22/2020",
          "4/21/2020",
          "4/20/2020",
          "4/17/2020",
          "4/16/2020",
          "4/15/2020",
          "4/14/2020",
          "4/13/2020",
          "4/9/2020",
          "4/8/2020",
          "4/7/2020",
          "4/6/2020",
          "4/3/2020",
          "4/2/2020",
          "4/1/2020",
          "3/31/2020",
          "3/30/2020",
          "3/27/2020",
          "3/26/2020",
          "3/25/2020",
          "3/24/2020",
          "3/23/2020",
          "3/20/2020",
          "3/19/2020",
          "3/18/2020",
          "3/17/2020",
          "3/16/2020"
         ],
         "y": [
          2213.4,
          2238.75,
          2153.17,
          2023.34,
          2014.2,
          2049.98,
          2001.83,
          1878.53,
          1887.09,
          1835.64,
          1650.71,
          1621,
          1554.76,
          1374.39,
          1418.57,
          1452.71,
          1489.58,
          1485.02,
          1487,
          1485,
          1430.76,
          1487.49,
          1499.11,
          1476.49,
          1539.6,
          1417,
          1513.07,
          1592.33,
          1568.36,
          1643,
          1500.84,
          1500.64,
          1546.01,
          1516.8,
          1497.06,
          1544.65,
          1394.28,
          1365.88,
          1389.86,
          1371.58,
          1208.66,
          1119.63,
          1079.81,
          1009.35,
          959.74,
          985.98,
          960.85,
          1001.78,
          994.32,
          1000.9,
          1003.96,
          991.79,
          982.13,
          990.9,
          935.28,
          972.84,
          1025.05,
          940.67,
          949.92,
          885.66,
          864.38,
          882.96,
          881.56,
          898.1,
          835,
          805.81,
          820.23,
          818.87,
          816.88,
          827.6,
          815.56,
          808.01,
          813.63,
          799.17,
          803.33,
          790.96,
          809.41,
          811.29,
          819.42,
          780.04,
          782.58,
          768.21,
          761.19,
          701.32,
          781.88,
          800.51,
          769.12,
          798.75,
          725.15,
          705.63,
          732.11,
          686.72,
          746.36,
          753.89,
          745.21,
          729.83,
          709.89,
          650.95,
          573,
          548.84,
          545.45,
          516.24,
          480.01,
          454.47,
          481.56,
          524,
          502.13,
          514.36,
          528.16,
          539.25,
          505,
          434.29,
          427.53,
          427.64,
          361.22,
          430.2,
          445.07
         ]
        }
       ],
       "layout": {
        "legend": {
         "bgcolor": "#F5F6F9",
         "font": {
          "color": "#4D5663"
         }
        },
        "paper_bgcolor": "#F5F6F9",
        "plot_bgcolor": "#F5F6F9",
        "template": {
         "data": {
          "bar": [
           {
            "error_x": {
             "color": "#2a3f5f"
            },
            "error_y": {
             "color": "#2a3f5f"
            },
            "marker": {
             "line": {
              "color": "#E5ECF6",
              "width": 0.5
             }
            },
            "type": "bar"
           }
          ],
          "barpolar": [
           {
            "marker": {
             "line": {
              "color": "#E5ECF6",
              "width": 0.5
             }
            },
            "type": "barpolar"
           }
          ],
          "carpet": [
           {
            "aaxis": {
             "endlinecolor": "#2a3f5f",
             "gridcolor": "white",
             "linecolor": "white",
             "minorgridcolor": "white",
             "startlinecolor": "#2a3f5f"
            },
            "baxis": {
             "endlinecolor": "#2a3f5f",
             "gridcolor": "white",
             "linecolor": "white",
             "minorgridcolor": "white",
             "startlinecolor": "#2a3f5f"
            },
            "type": "carpet"
           }
          ],
          "choropleth": [
           {
            "colorbar": {
             "outlinewidth": 0,
             "ticks": ""
            },
            "type": "choropleth"
           }
          ],
          "contour": [
           {
            "colorbar": {
             "outlinewidth": 0,
             "ticks": ""
            },
            "colorscale": [
             [
              0,
              "#0d0887"
             ],
             [
              0.1111111111111111,
              "#46039f"
             ],
             [
              0.2222222222222222,
              "#7201a8"
             ],
             [
              0.3333333333333333,
              "#9c179e"
             ],
             [
              0.4444444444444444,
              "#bd3786"
             ],
             [
              0.5555555555555556,
              "#d8576b"
             ],
             [
              0.6666666666666666,
              "#ed7953"
             ],
             [
              0.7777777777777778,
              "#fb9f3a"
             ],
             [
              0.8888888888888888,
              "#fdca26"
             ],
             [
              1,
              "#f0f921"
             ]
            ],
            "type": "contour"
           }
          ],
          "contourcarpet": [
           {
            "colorbar": {
             "outlinewidth": 0,
             "ticks": ""
            },
            "type": "contourcarpet"
           }
          ],
          "heatmap": [
           {
            "colorbar": {
             "outlinewidth": 0,
             "ticks": ""
            },
            "colorscale": [
             [
              0,
              "#0d0887"
             ],
             [
              0.1111111111111111,
              "#46039f"
             ],
             [
              0.2222222222222222,
              "#7201a8"
             ],
             [
              0.3333333333333333,
              "#9c179e"
             ],
             [
              0.4444444444444444,
              "#bd3786"
             ],
             [
              0.5555555555555556,
              "#d8576b"
             ],
             [
              0.6666666666666666,
              "#ed7953"
             ],
             [
              0.7777777777777778,
              "#fb9f3a"
             ],
             [
              0.8888888888888888,
              "#fdca26"
             ],
             [
              1,
              "#f0f921"
             ]
            ],
            "type": "heatmap"
           }
          ],
          "heatmapgl": [
           {
            "colorbar": {
             "outlinewidth": 0,
             "ticks": ""
            },
            "colorscale": [
             [
              0,
              "#0d0887"
             ],
             [
              0.1111111111111111,
              "#46039f"
             ],
             [
              0.2222222222222222,
              "#7201a8"
             ],
             [
              0.3333333333333333,
              "#9c179e"
             ],
             [
              0.4444444444444444,
              "#bd3786"
             ],
             [
              0.5555555555555556,
              "#d8576b"
             ],
             [
              0.6666666666666666,
              "#ed7953"
             ],
             [
              0.7777777777777778,
              "#fb9f3a"
             ],
             [
              0.8888888888888888,
              "#fdca26"
             ],
             [
              1,
              "#f0f921"
             ]
            ],
            "type": "heatmapgl"
           }
          ],
          "histogram": [
           {
            "marker": {
             "colorbar": {
              "outlinewidth": 0,
              "ticks": ""
             }
            },
            "type": "histogram"
           }
          ],
          "histogram2d": [
           {
            "colorbar": {
             "outlinewidth": 0,
             "ticks": ""
            },
            "colorscale": [
             [
              0,
              "#0d0887"
             ],
             [
              0.1111111111111111,
              "#46039f"
             ],
             [
              0.2222222222222222,
              "#7201a8"
             ],
             [
              0.3333333333333333,
              "#9c179e"
             ],
             [
              0.4444444444444444,
              "#bd3786"
             ],
             [
              0.5555555555555556,
              "#d8576b"
             ],
             [
              0.6666666666666666,
              "#ed7953"
             ],
             [
              0.7777777777777778,
              "#fb9f3a"
             ],
             [
              0.8888888888888888,
              "#fdca26"
             ],
             [
              1,
              "#f0f921"
             ]
            ],
            "type": "histogram2d"
           }
          ],
          "histogram2dcontour": [
           {
            "colorbar": {
             "outlinewidth": 0,
             "ticks": ""
            },
            "colorscale": [
             [
              0,
              "#0d0887"
             ],
             [
              0.1111111111111111,
              "#46039f"
             ],
             [
              0.2222222222222222,
              "#7201a8"
             ],
             [
              0.3333333333333333,
              "#9c179e"
             ],
             [
              0.4444444444444444,
              "#bd3786"
             ],
             [
              0.5555555555555556,
              "#d8576b"
             ],
             [
              0.6666666666666666,
              "#ed7953"
             ],
             [
              0.7777777777777778,
              "#fb9f3a"
             ],
             [
              0.8888888888888888,
              "#fdca26"
             ],
             [
              1,
              "#f0f921"
             ]
            ],
            "type": "histogram2dcontour"
           }
          ],
          "mesh3d": [
           {
            "colorbar": {
             "outlinewidth": 0,
             "ticks": ""
            },
            "type": "mesh3d"
           }
          ],
          "parcoords": [
           {
            "line": {
             "colorbar": {
              "outlinewidth": 0,
              "ticks": ""
             }
            },
            "type": "parcoords"
           }
          ],
          "pie": [
           {
            "automargin": true,
            "type": "pie"
           }
          ],
          "scatter": [
           {
            "marker": {
             "colorbar": {
              "outlinewidth": 0,
              "ticks": ""
             }
            },
            "type": "scatter"
           }
          ],
          "scatter3d": [
           {
            "line": {
             "colorbar": {
              "outlinewidth": 0,
              "ticks": ""
             }
            },
            "marker": {
             "colorbar": {
              "outlinewidth": 0,
              "ticks": ""
             }
            },
            "type": "scatter3d"
           }
          ],
          "scattercarpet": [
           {
            "marker": {
             "colorbar": {
              "outlinewidth": 0,
              "ticks": ""
             }
            },
            "type": "scattercarpet"
           }
          ],
          "scattergeo": [
           {
            "marker": {
             "colorbar": {
              "outlinewidth": 0,
              "ticks": ""
             }
            },
            "type": "scattergeo"
           }
          ],
          "scattergl": [
           {
            "marker": {
             "colorbar": {
              "outlinewidth": 0,
              "ticks": ""
             }
            },
            "type": "scattergl"
           }
          ],
          "scattermapbox": [
           {
            "marker": {
             "colorbar": {
              "outlinewidth": 0,
              "ticks": ""
             }
            },
            "type": "scattermapbox"
           }
          ],
          "scatterpolar": [
           {
            "marker": {
             "colorbar": {
              "outlinewidth": 0,
              "ticks": ""
             }
            },
            "type": "scatterpolar"
           }
          ],
          "scatterpolargl": [
           {
            "marker": {
             "colorbar": {
              "outlinewidth": 0,
              "ticks": ""
             }
            },
            "type": "scatterpolargl"
           }
          ],
          "scatterternary": [
           {
            "marker": {
             "colorbar": {
              "outlinewidth": 0,
              "ticks": ""
             }
            },
            "type": "scatterternary"
           }
          ],
          "surface": [
           {
            "colorbar": {
             "outlinewidth": 0,
             "ticks": ""
            },
            "colorscale": [
             [
              0,
              "#0d0887"
             ],
             [
              0.1111111111111111,
              "#46039f"
             ],
             [
              0.2222222222222222,
              "#7201a8"
             ],
             [
              0.3333333333333333,
              "#9c179e"
             ],
             [
              0.4444444444444444,
              "#bd3786"
             ],
             [
              0.5555555555555556,
              "#d8576b"
             ],
             [
              0.6666666666666666,
              "#ed7953"
             ],
             [
              0.7777777777777778,
              "#fb9f3a"
             ],
             [
              0.8888888888888888,
              "#fdca26"
             ],
             [
              1,
              "#f0f921"
             ]
            ],
            "type": "surface"
           }
          ],
          "table": [
           {
            "cells": {
             "fill": {
              "color": "#EBF0F8"
             },
             "line": {
              "color": "white"
             }
            },
            "header": {
             "fill": {
              "color": "#C8D4E3"
             },
             "line": {
              "color": "white"
             }
            },
            "type": "table"
           }
          ]
         },
         "layout": {
          "annotationdefaults": {
           "arrowcolor": "#2a3f5f",
           "arrowhead": 0,
           "arrowwidth": 1
          },
          "coloraxis": {
           "colorbar": {
            "outlinewidth": 0,
            "ticks": ""
           }
          },
          "colorscale": {
           "diverging": [
            [
             0,
             "#8e0152"
            ],
            [
             0.1,
             "#c51b7d"
            ],
            [
             0.2,
             "#de77ae"
            ],
            [
             0.3,
             "#f1b6da"
            ],
            [
             0.4,
             "#fde0ef"
            ],
            [
             0.5,
             "#f7f7f7"
            ],
            [
             0.6,
             "#e6f5d0"
            ],
            [
             0.7,
             "#b8e186"
            ],
            [
             0.8,
             "#7fbc41"
            ],
            [
             0.9,
             "#4d9221"
            ],
            [
             1,
             "#276419"
            ]
           ],
           "sequential": [
            [
             0,
             "#0d0887"
            ],
            [
             0.1111111111111111,
             "#46039f"
            ],
            [
             0.2222222222222222,
             "#7201a8"
            ],
            [
             0.3333333333333333,
             "#9c179e"
            ],
            [
             0.4444444444444444,
             "#bd3786"
            ],
            [
             0.5555555555555556,
             "#d8576b"
            ],
            [
             0.6666666666666666,
             "#ed7953"
            ],
            [
             0.7777777777777778,
             "#fb9f3a"
            ],
            [
             0.8888888888888888,
             "#fdca26"
            ],
            [
             1,
             "#f0f921"
            ]
           ],
           "sequentialminus": [
            [
             0,
             "#0d0887"
            ],
            [
             0.1111111111111111,
             "#46039f"
            ],
            [
             0.2222222222222222,
             "#7201a8"
            ],
            [
             0.3333333333333333,
             "#9c179e"
            ],
            [
             0.4444444444444444,
             "#bd3786"
            ],
            [
             0.5555555555555556,
             "#d8576b"
            ],
            [
             0.6666666666666666,
             "#ed7953"
            ],
            [
             0.7777777777777778,
             "#fb9f3a"
            ],
            [
             0.8888888888888888,
             "#fdca26"
            ],
            [
             1,
             "#f0f921"
            ]
           ]
          },
          "colorway": [
           "#636efa",
           "#EF553B",
           "#00cc96",
           "#ab63fa",
           "#FFA15A",
           "#19d3f3",
           "#FF6692",
           "#B6E880",
           "#FF97FF",
           "#FECB52"
          ],
          "font": {
           "color": "#2a3f5f"
          },
          "geo": {
           "bgcolor": "white",
           "lakecolor": "white",
           "landcolor": "#E5ECF6",
           "showlakes": true,
           "showland": true,
           "subunitcolor": "white"
          },
          "hoverlabel": {
           "align": "left"
          },
          "hovermode": "closest",
          "mapbox": {
           "style": "light"
          },
          "paper_bgcolor": "white",
          "plot_bgcolor": "#E5ECF6",
          "polar": {
           "angularaxis": {
            "gridcolor": "white",
            "linecolor": "white",
            "ticks": ""
           },
           "bgcolor": "#E5ECF6",
           "radialaxis": {
            "gridcolor": "white",
            "linecolor": "white",
            "ticks": ""
           }
          },
          "scene": {
           "xaxis": {
            "backgroundcolor": "#E5ECF6",
            "gridcolor": "white",
            "gridwidth": 2,
            "linecolor": "white",
            "showbackground": true,
            "ticks": "",
            "zerolinecolor": "white"
           },
           "yaxis": {
            "backgroundcolor": "#E5ECF6",
            "gridcolor": "white",
            "gridwidth": 2,
            "linecolor": "white",
            "showbackground": true,
            "ticks": "",
            "zerolinecolor": "white"
           },
           "zaxis": {
            "backgroundcolor": "#E5ECF6",
            "gridcolor": "white",
            "gridwidth": 2,
            "linecolor": "white",
            "showbackground": true,
            "ticks": "",
            "zerolinecolor": "white"
           }
          },
          "shapedefaults": {
           "line": {
            "color": "#2a3f5f"
           }
          },
          "ternary": {
           "aaxis": {
            "gridcolor": "white",
            "linecolor": "white",
            "ticks": ""
           },
           "baxis": {
            "gridcolor": "white",
            "linecolor": "white",
            "ticks": ""
           },
           "bgcolor": "#E5ECF6",
           "caxis": {
            "gridcolor": "white",
            "linecolor": "white",
            "ticks": ""
           }
          },
          "title": {
           "x": 0.05
          },
          "xaxis": {
           "automargin": true,
           "gridcolor": "white",
           "linecolor": "white",
           "ticks": "",
           "title": {
            "standoff": 15
           },
           "zerolinecolor": "white",
           "zerolinewidth": 2
          },
          "yaxis": {
           "automargin": true,
           "gridcolor": "white",
           "linecolor": "white",
           "ticks": "",
           "title": {
            "standoff": 15
           },
           "zerolinecolor": "white",
           "zerolinewidth": 2
          }
         }
        },
        "title": {
         "font": {
          "color": "#4D5663"
         }
        },
        "xaxis": {
         "gridcolor": "#E1E5ED",
         "showgrid": true,
         "tickfont": {
          "color": "#4D5663"
         },
         "title": {
          "font": {
           "color": "#4D5663"
          },
          "text": ""
         },
         "zerolinecolor": "#E1E5ED"
        },
        "yaxis": {
         "gridcolor": "#E1E5ED",
         "showgrid": true,
         "tickfont": {
          "color": "#4D5663"
         },
         "title": {
          "font": {
           "color": "#4D5663"
          },
          "text": ""
         },
         "zerolinecolor": "#E1E5ED"
        }
       }
      },
      "text/html": [
       "<div>                            <div id=\"8529cf56-fc2c-467e-9007-e2120029fba0\" class=\"plotly-graph-div\" style=\"height:525px; width:100%;\"></div>            <script type=\"text/javascript\">                require([\"plotly\"], function(Plotly) {                    window.PLOTLYENV=window.PLOTLYENV || {};\n",
       "                    window.PLOTLYENV.BASE_URL='https://plot.ly';                                    if (document.getElementById(\"8529cf56-fc2c-467e-9007-e2120029fba0\")) {                    Plotly.newPlot(                        \"8529cf56-fc2c-467e-9007-e2120029fba0\",                        [{\"line\": {\"color\": \"rgba(255, 153, 51, 1.0)\", \"dash\": \"solid\", \"shape\": \"linear\", \"width\": 1.3}, \"mode\": \"lines\", \"name\": \"AAPL\", \"text\": \"\", \"type\": \"scatter\", \"x\": [\"8/28/2020\", \"8/27/2020\", \"8/26/2020\", \"8/25/2020\", \"8/24/2020\", \"8/21/2020\", \"8/20/2020\", \"8/19/2020\", \"8/18/2020\", \"8/17/2020\", \"8/14/2020\", \"8/13/2020\", \"8/12/2020\", \"8/11/2020\", \"8/10/2020\", \"8/7/2020\", \"8/6/2020\", \"8/5/2020\", \"8/4/2020\", \"8/3/2020\", \"7/31/2020\", \"7/30/2020\", \"7/29/2020\", \"7/28/2020\", \"7/27/2020\", \"7/24/2020\", \"7/23/2020\", \"7/22/2020\", \"7/21/2020\", \"7/20/2020\", \"7/17/2020\", \"7/16/2020\", \"7/15/2020\", \"7/14/2020\", \"7/13/2020\", \"7/10/2020\", \"7/9/2020\", \"7/8/2020\", \"7/7/2020\", \"7/6/2020\", \"7/2/2020\", \"7/1/2020\", \"6/30/2020\", \"6/29/2020\", \"6/26/2020\", \"6/25/2020\", \"6/24/2020\", \"6/23/2020\", \"6/22/2020\", \"6/19/2020\", \"6/18/2020\", \"6/17/2020\", \"6/16/2020\", \"6/15/2020\", \"6/12/2020\", \"6/11/2020\", \"6/10/2020\", \"6/9/2020\", \"6/8/2020\", \"6/5/2020\", \"6/4/2020\", \"6/3/2020\", \"6/2/2020\", \"6/1/2020\", \"5/29/2020\", \"5/28/2020\", \"5/27/2020\", \"5/26/2020\", \"5/22/2020\", \"5/21/2020\", \"5/20/2020\", \"5/19/2020\", \"5/18/2020\", \"5/15/2020\", \"5/14/2020\", \"5/13/2020\", \"5/12/2020\", \"5/11/2020\", \"5/8/2020\", \"5/7/2020\", \"5/6/2020\", \"5/5/2020\", \"5/4/2020\", \"5/1/2020\", \"4/30/2020\", \"4/29/2020\", \"4/28/2020\", \"4/27/2020\", \"4/24/2020\", \"4/23/2020\", \"4/22/2020\", \"4/21/2020\", \"4/20/2020\", \"4/17/2020\", \"4/16/2020\", \"4/15/2020\", \"4/14/2020\", \"4/13/2020\", \"4/9/2020\", \"4/8/2020\", \"4/7/2020\", \"4/6/2020\", \"4/3/2020\", \"4/2/2020\", \"4/1/2020\", \"3/31/2020\", \"3/30/2020\", \"3/27/2020\", \"3/26/2020\", \"3/25/2020\", \"3/24/2020\", \"3/23/2020\", \"3/20/2020\", \"3/19/2020\", \"3/18/2020\", \"3/17/2020\", \"3/16/2020\"], \"y\": [499.23, 500.04, 506.09, 499.3, 503.43, 497.48, 473.1, 462.83, 462.25, 458.43, 459.63, 460.04, 452.04, 437.5, 450.91, 444.45, 455.61, 440.25, 438.66, 435.75, 425.04, 384.76, 380.16, 373.01, 379.24, 370.46, 371.38, 389.09, 388.0, 393.43, 385.31, 386.09, 390.9, 388.23, 381.91, 383.68, 382.73, 381.37, 372.69, 373.85, 364.11, 364.11, 364.8, 361.78, 353.63, 364.84, 360.06, 366.53, 358.87, 349.72, 351.73, 351.59, 352.08, 342.99, 338.8, 335.9, 352.84, 343.99, 333.46, 331.5, 322.32, 325.12, 323.34, 321.85, 317.94, 318.25, 318.11, 316.73, 318.89, 316.85, 319.23, 313.14, 314.96, 307.71, 309.54, 307.65, 311.41, 315.01, 310.13, 303.74, 300.63, 297.56, 293.16, 289.07, 293.8, 287.73, 278.58, 283.17, 282.97, 275.03, 276.1, 268.37, 276.93, 282.8, 286.69, 284.43, 287.05, 273.25, 267.99, 266.07, 259.43, 262.47, 241.41, 244.93, 240.91, 254.29, 254.81, 247.74, 258.44, 245.52, 246.88, 224.37, 229.24, 244.78, 246.67, 252.86, 242.21]}, {\"line\": {\"color\": \"rgba(55, 128, 191, 1.0)\", \"dash\": \"solid\", \"shape\": \"linear\", \"width\": 1.3}, \"mode\": \"lines\", \"name\": \"Amazon\", \"text\": \"\", \"type\": \"scatter\", \"x\": [\"8/28/2020\", \"8/27/2020\", \"8/26/2020\", \"8/25/2020\", \"8/24/2020\", \"8/21/2020\", \"8/20/2020\", \"8/19/2020\", \"8/18/2020\", \"8/17/2020\", \"8/14/2020\", \"8/13/2020\", \"8/12/2020\", \"8/11/2020\", \"8/10/2020\", \"8/7/2020\", \"8/6/2020\", \"8/5/2020\", \"8/4/2020\", \"8/3/2020\", \"7/31/2020\", \"7/30/2020\", \"7/29/2020\", \"7/28/2020\", \"7/27/2020\", \"7/24/2020\", \"7/23/2020\", \"7/22/2020\", \"7/21/2020\", \"7/20/2020\", \"7/17/2020\", \"7/16/2020\", \"7/15/2020\", \"7/14/2020\", \"7/13/2020\", \"7/10/2020\", \"7/9/2020\", \"7/8/2020\", \"7/7/2020\", \"7/6/2020\", \"7/2/2020\", \"7/1/2020\", \"6/30/2020\", \"6/29/2020\", \"6/26/2020\", \"6/25/2020\", \"6/24/2020\", \"6/23/2020\", \"6/22/2020\", \"6/19/2020\", \"6/18/2020\", \"6/17/2020\", \"6/16/2020\", \"6/15/2020\", \"6/12/2020\", \"6/11/2020\", \"6/10/2020\", \"6/9/2020\", \"6/8/2020\", \"6/5/2020\", \"6/4/2020\", \"6/3/2020\", \"6/2/2020\", \"6/1/2020\", \"5/29/2020\", \"5/28/2020\", \"5/27/2020\", \"5/26/2020\", \"5/22/2020\", \"5/21/2020\", \"5/20/2020\", \"5/19/2020\", \"5/18/2020\", \"5/15/2020\", \"5/14/2020\", \"5/13/2020\", \"5/12/2020\", \"5/11/2020\", \"5/8/2020\", \"5/7/2020\", \"5/6/2020\", \"5/5/2020\", \"5/4/2020\", \"5/1/2020\", \"4/30/2020\", \"4/29/2020\", \"4/28/2020\", \"4/27/2020\", \"4/24/2020\", \"4/23/2020\", \"4/22/2020\", \"4/21/2020\", \"4/20/2020\", \"4/17/2020\", \"4/16/2020\", \"4/15/2020\", \"4/14/2020\", \"4/13/2020\", \"4/9/2020\", \"4/8/2020\", \"4/7/2020\", \"4/6/2020\", \"4/3/2020\", \"4/2/2020\", \"4/1/2020\", \"3/31/2020\", \"3/30/2020\", \"3/27/2020\", \"3/26/2020\", \"3/25/2020\", \"3/24/2020\", \"3/23/2020\", \"3/20/2020\", \"3/19/2020\", \"3/18/2020\", \"3/17/2020\", \"3/16/2020\"], \"y\": [3401.8, 3400.0, 3441.85, 3346.49, 3307.46, 3284.72, 3297.37, 3260.48, 3312.49, 3182.41, 3148.02, 3161.02, 3162.24, 3080.67, 3148.16, 3167.46, 3225.0, 3205.03, 3138.83, 3111.89, 3164.68, 3051.88, 3033.53, 3000.33, 3055.21, 3008.91, 2986.55, 3099.91, 3138.29, 3196.84, 2961.97, 2999.9, 3008.87, 3084.0, 3104.0, 3200.0, 3182.63, 3081.11, 3000.12, 3057.04, 2890.3, 2878.7, 2758.82, 2680.38, 2692.87, 2754.58, 2734.4, 2764.41, 2713.82, 2675.01, 2653.98, 2640.98, 2615.27, 2572.68, 2545.02, 2557.96, 2647.45, 2600.86, 2524.06, 2483.0, 2460.6, 2478.4, 2472.41, 2471.04, 2442.37, 2401.1, 2410.39, 2421.86, 2436.88, 2446.74, 2497.94, 2449.33, 2426.26, 2409.78, 2388.85, 2367.92, 2356.95, 2409.0, 2379.61, 2367.61, 2351.26, 2317.8, 2315.99, 2286.04, 2474.0, 2372.71, 2314.08, 2376.0, 2410.22, 2399.45, 2363.49, 2328.12, 2393.61, 2375.0, 2408.19, 2307.68, 2283.32, 2168.87, 2042.76, 2043.0, 2011.6, 1997.59, 1906.59, 1918.83, 1907.7, 1949.72, 1963.95, 1900.1, 1955.49, 1885.84, 1940.1, 1902.83, 1846.09, 1880.93, 1830.0, 1807.84, 1689.15]}, {\"line\": {\"color\": \"rgba(50, 171, 96, 1.0)\", \"dash\": \"solid\", \"shape\": \"linear\", \"width\": 1.3}, \"mode\": \"lines\", \"name\": \"Facebook\", \"text\": \"\", \"type\": \"scatter\", \"x\": [\"8/28/2020\", \"8/27/2020\", \"8/26/2020\", \"8/25/2020\", \"8/24/2020\", \"8/21/2020\", \"8/20/2020\", \"8/19/2020\", \"8/18/2020\", \"8/17/2020\", \"8/14/2020\", \"8/13/2020\", \"8/12/2020\", \"8/11/2020\", \"8/10/2020\", \"8/7/2020\", \"8/6/2020\", \"8/5/2020\", \"8/4/2020\", \"8/3/2020\", \"7/31/2020\", \"7/30/2020\", \"7/29/2020\", \"7/28/2020\", \"7/27/2020\", \"7/24/2020\", \"7/23/2020\", \"7/22/2020\", \"7/21/2020\", \"7/20/2020\", \"7/17/2020\", \"7/16/2020\", \"7/15/2020\", \"7/14/2020\", \"7/13/2020\", \"7/10/2020\", \"7/9/2020\", \"7/8/2020\", \"7/7/2020\", \"7/6/2020\", \"7/2/2020\", \"7/1/2020\", \"6/30/2020\", \"6/29/2020\", \"6/26/2020\", \"6/25/2020\", \"6/24/2020\", \"6/23/2020\", \"6/22/2020\", \"6/19/2020\", \"6/18/2020\", \"6/17/2020\", \"6/16/2020\", \"6/15/2020\", \"6/12/2020\", \"6/11/2020\", \"6/10/2020\", \"6/9/2020\", \"6/8/2020\", \"6/5/2020\", \"6/4/2020\", \"6/3/2020\", \"6/2/2020\", \"6/1/2020\", \"5/29/2020\", \"5/28/2020\", \"5/27/2020\", \"5/26/2020\", \"5/22/2020\", \"5/21/2020\", \"5/20/2020\", \"5/19/2020\", \"5/18/2020\", \"5/15/2020\", \"5/14/2020\", \"5/13/2020\", \"5/12/2020\", \"5/11/2020\", \"5/8/2020\", \"5/7/2020\", \"5/6/2020\", \"5/5/2020\", \"5/4/2020\", \"5/1/2020\", \"4/30/2020\", \"4/29/2020\", \"4/28/2020\", \"4/27/2020\", \"4/24/2020\", \"4/23/2020\", \"4/22/2020\", \"4/21/2020\", \"4/20/2020\", \"4/17/2020\", \"4/16/2020\", \"4/15/2020\", \"4/14/2020\", \"4/13/2020\", \"4/9/2020\", \"4/8/2020\", \"4/7/2020\", \"4/6/2020\", \"4/3/2020\", \"4/2/2020\", \"4/1/2020\", \"3/31/2020\", \"3/30/2020\", \"3/27/2020\", \"3/26/2020\", \"3/25/2020\", \"3/24/2020\", \"3/23/2020\", \"3/20/2020\", \"3/19/2020\", \"3/18/2020\", \"3/17/2020\", \"3/16/2020\"], \"y\": [293.66, 293.22, 303.91, 280.82, 271.39, 267.01, 269.01, 262.59, 262.34, 261.16, 261.24, 261.3, 259.89, 256.13, 263.0, 268.44, 265.28, 249.12, 249.83, 251.96, 253.67, 234.5, 233.29, 230.12, 233.5, 230.71, 232.6, 239.87, 241.75, 245.42, 242.03, 240.93, 240.28, 239.73, 239.0, 245.07, 244.5, 243.58, 240.86, 240.28, 233.42, 237.55, 227.07, 220.64, 216.08, 235.68, 234.02, 242.24, 239.22, 238.79, 235.94, 235.53, 235.65, 232.5, 228.58, 224.43, 236.73, 238.67, 231.4, 230.77, 226.29, 230.16, 232.72, 231.91, 225.09, 225.46, 229.14, 232.2, 234.91, 231.39, 229.97, 216.88, 213.19, 210.88, 206.81, 205.1, 210.1, 213.18, 212.35, 211.26, 208.47, 207.07, 205.26, 202.27, 204.71, 194.19, 182.91, 187.5, 190.07, 185.13, 182.28, 170.8, 178.24, 179.24, 176.25, 176.97, 178.17, 174.79, 175.19, 174.28, 168.83, 165.55, 154.18, 158.19, 159.6, 166.8, 165.95, 156.79, 163.34, 156.21, 160.98, 148.1, 149.73, 153.13, 146.96, 149.42, 146.01]}, {\"line\": {\"color\": \"rgba(128, 0, 128, 1.0)\", \"dash\": \"solid\", \"shape\": \"linear\", \"width\": 1.3}, \"mode\": \"lines\", \"name\": \"Microsoft\", \"text\": \"\", \"type\": \"scatter\", \"x\": [\"8/28/2020\", \"8/27/2020\", \"8/26/2020\", \"8/25/2020\", \"8/24/2020\", \"8/21/2020\", \"8/20/2020\", \"8/19/2020\", \"8/18/2020\", \"8/17/2020\", \"8/14/2020\", \"8/13/2020\", \"8/12/2020\", \"8/11/2020\", \"8/10/2020\", \"8/7/2020\", \"8/6/2020\", \"8/5/2020\", \"8/4/2020\", \"8/3/2020\", \"7/31/2020\", \"7/30/2020\", \"7/29/2020\", \"7/28/2020\", \"7/27/2020\", \"7/24/2020\", \"7/23/2020\", \"7/22/2020\", \"7/21/2020\", \"7/20/2020\", \"7/17/2020\", \"7/16/2020\", \"7/15/2020\", \"7/14/2020\", \"7/13/2020\", \"7/10/2020\", \"7/9/2020\", \"7/8/2020\", \"7/7/2020\", \"7/6/2020\", \"7/2/2020\", \"7/1/2020\", \"6/30/2020\", \"6/29/2020\", \"6/26/2020\", \"6/25/2020\", \"6/24/2020\", \"6/23/2020\", \"6/22/2020\", \"6/19/2020\", \"6/18/2020\", \"6/17/2020\", \"6/16/2020\", \"6/15/2020\", \"6/12/2020\", \"6/11/2020\", \"6/10/2020\", \"6/9/2020\", \"6/8/2020\", \"6/5/2020\", \"6/4/2020\", \"6/3/2020\", \"6/2/2020\", \"6/1/2020\", \"5/29/2020\", \"5/28/2020\", \"5/27/2020\", \"5/26/2020\", \"5/22/2020\", \"5/21/2020\", \"5/20/2020\", \"5/19/2020\", \"5/18/2020\", \"5/15/2020\", \"5/14/2020\", \"5/13/2020\", \"5/12/2020\", \"5/11/2020\", \"5/8/2020\", \"5/7/2020\", \"5/6/2020\", \"5/5/2020\", \"5/4/2020\", \"5/1/2020\", \"4/30/2020\", \"4/29/2020\", \"4/28/2020\", \"4/27/2020\", \"4/24/2020\", \"4/23/2020\", \"4/22/2020\", \"4/21/2020\", \"4/20/2020\", \"4/17/2020\", \"4/16/2020\", \"4/15/2020\", \"4/14/2020\", \"4/13/2020\", \"4/9/2020\", \"4/8/2020\", \"4/7/2020\", \"4/6/2020\", \"4/3/2020\", \"4/2/2020\", \"4/1/2020\", \"3/31/2020\", \"3/30/2020\", \"3/27/2020\", \"3/26/2020\", \"3/25/2020\", \"3/24/2020\", \"3/23/2020\", \"3/20/2020\", \"3/19/2020\", \"3/18/2020\", \"3/17/2020\", \"3/16/2020\"], \"y\": [228.91, 226.58, 221.15, 216.47, 213.69, 213.02, 214.58, 209.7, 211.49, 210.28, 208.9, 208.7, 209.19, 203.38, 208.25, 212.48, 216.35, 212.94, 213.29, 216.54, 205.01, 203.9, 204.06, 202.02, 203.85, 201.3, 202.54, 211.75, 208.75, 211.6, 202.88, 203.92, 208.04, 208.35, 207.07, 213.67, 214.32, 212.83, 208.25, 210.7, 206.26, 204.7, 203.51, 198.44, 196.33, 200.34, 197.84, 201.91, 200.57, 195.15, 196.32, 194.24, 193.57, 188.94, 187.74, 186.27, 196.84, 189.8, 188.36, 187.2, 182.92, 185.36, 184.91, 182.83, 183.25, 181.4, 181.81, 181.57, 183.51, 183.43, 185.66, 183.63, 184.91, 183.16, 180.53, 179.75, 182.51, 186.74, 184.68, 183.6, 182.54, 180.76, 178.84, 174.57, 179.21, 177.43, 169.81, 174.05, 174.55, 171.42, 173.52, 167.82, 175.06, 178.6, 177.04, 171.88, 173.7, 165.51, 165.14, 165.13, 163.49, 165.27, 153.83, 155.26, 152.11, 157.71, 160.23, 149.7, 156.11, 146.92, 148.34, 135.98, 137.35, 142.71, 140.4, 146.57, 135.42]}, {\"line\": {\"color\": \"rgba(219, 64, 82, 1.0)\", \"dash\": \"solid\", \"shape\": \"linear\", \"width\": 1.3}, \"mode\": \"lines\", \"name\": \"Tesla\", \"text\": \"\", \"type\": \"scatter\", \"x\": [\"8/28/2020\", \"8/27/2020\", \"8/26/2020\", \"8/25/2020\", \"8/24/2020\", \"8/21/2020\", \"8/20/2020\", \"8/19/2020\", \"8/18/2020\", \"8/17/2020\", \"8/14/2020\", \"8/13/2020\", \"8/12/2020\", \"8/11/2020\", \"8/10/2020\", \"8/7/2020\", \"8/6/2020\", \"8/5/2020\", \"8/4/2020\", \"8/3/2020\", \"7/31/2020\", \"7/30/2020\", \"7/29/2020\", \"7/28/2020\", \"7/27/2020\", \"7/24/2020\", \"7/23/2020\", \"7/22/2020\", \"7/21/2020\", \"7/20/2020\", \"7/17/2020\", \"7/16/2020\", \"7/15/2020\", \"7/14/2020\", \"7/13/2020\", \"7/10/2020\", \"7/9/2020\", \"7/8/2020\", \"7/7/2020\", \"7/6/2020\", \"7/2/2020\", \"7/1/2020\", \"6/30/2020\", \"6/29/2020\", \"6/26/2020\", \"6/25/2020\", \"6/24/2020\", \"6/23/2020\", \"6/22/2020\", \"6/19/2020\", \"6/18/2020\", \"6/17/2020\", \"6/16/2020\", \"6/15/2020\", \"6/12/2020\", \"6/11/2020\", \"6/10/2020\", \"6/9/2020\", \"6/8/2020\", \"6/5/2020\", \"6/4/2020\", \"6/3/2020\", \"6/2/2020\", \"6/1/2020\", \"5/29/2020\", \"5/28/2020\", \"5/27/2020\", \"5/26/2020\", \"5/22/2020\", \"5/21/2020\", \"5/20/2020\", \"5/19/2020\", \"5/18/2020\", \"5/15/2020\", \"5/14/2020\", \"5/13/2020\", \"5/12/2020\", \"5/11/2020\", \"5/8/2020\", \"5/7/2020\", \"5/6/2020\", \"5/5/2020\", \"5/4/2020\", \"5/1/2020\", \"4/30/2020\", \"4/29/2020\", \"4/28/2020\", \"4/27/2020\", \"4/24/2020\", \"4/23/2020\", \"4/22/2020\", \"4/21/2020\", \"4/20/2020\", \"4/17/2020\", \"4/16/2020\", \"4/15/2020\", \"4/14/2020\", \"4/13/2020\", \"4/9/2020\", \"4/8/2020\", \"4/7/2020\", \"4/6/2020\", \"4/3/2020\", \"4/2/2020\", \"4/1/2020\", \"3/31/2020\", \"3/30/2020\", \"3/27/2020\", \"3/26/2020\", \"3/25/2020\", \"3/24/2020\", \"3/23/2020\", \"3/20/2020\", \"3/19/2020\", \"3/18/2020\", \"3/17/2020\", \"3/16/2020\"], \"y\": [2213.4, 2238.75, 2153.17, 2023.34, 2014.2, 2049.98, 2001.83, 1878.53, 1887.09, 1835.64, 1650.71, 1621.0, 1554.76, 1374.39, 1418.57, 1452.71, 1489.58, 1485.02, 1487.0, 1485.0, 1430.76, 1487.49, 1499.11, 1476.49, 1539.6, 1417.0, 1513.07, 1592.33, 1568.36, 1643.0, 1500.84, 1500.64, 1546.01, 1516.8, 1497.06, 1544.65, 1394.28, 1365.88, 1389.86, 1371.58, 1208.66, 1119.63, 1079.81, 1009.35, 959.74, 985.98, 960.85, 1001.78, 994.32, 1000.9, 1003.96, 991.79, 982.13, 990.9, 935.28, 972.84, 1025.05, 940.67, 949.92, 885.66, 864.38, 882.96, 881.56, 898.1, 835.0, 805.81, 820.23, 818.87, 816.88, 827.6, 815.56, 808.01, 813.63, 799.17, 803.33, 790.96, 809.41, 811.29, 819.42, 780.04, 782.58, 768.21, 761.19, 701.32, 781.88, 800.51, 769.12, 798.75, 725.15, 705.63, 732.11, 686.72, 746.36, 753.89, 745.21, 729.83, 709.89, 650.95, 573.0, 548.84, 545.45, 516.24, 480.01, 454.47, 481.56, 524.0, 502.13, 514.36, 528.16, 539.25, 505.0, 434.29, 427.53, 427.64, 361.22, 430.2, 445.07]}],                        {\"legend\": {\"bgcolor\": \"#F5F6F9\", \"font\": {\"color\": \"#4D5663\"}}, \"paper_bgcolor\": \"#F5F6F9\", \"plot_bgcolor\": \"#F5F6F9\", \"template\": {\"data\": {\"bar\": [{\"error_x\": {\"color\": \"#2a3f5f\"}, \"error_y\": {\"color\": \"#2a3f5f\"}, \"marker\": {\"line\": {\"color\": \"#E5ECF6\", \"width\": 0.5}}, \"type\": \"bar\"}], \"barpolar\": [{\"marker\": {\"line\": {\"color\": \"#E5ECF6\", \"width\": 0.5}}, \"type\": \"barpolar\"}], \"carpet\": [{\"aaxis\": {\"endlinecolor\": \"#2a3f5f\", \"gridcolor\": \"white\", \"linecolor\": \"white\", \"minorgridcolor\": \"white\", \"startlinecolor\": \"#2a3f5f\"}, \"baxis\": {\"endlinecolor\": \"#2a3f5f\", \"gridcolor\": \"white\", \"linecolor\": \"white\", \"minorgridcolor\": \"white\", \"startlinecolor\": \"#2a3f5f\"}, \"type\": \"carpet\"}], \"choropleth\": [{\"colorbar\": {\"outlinewidth\": 0, \"ticks\": \"\"}, \"type\": \"choropleth\"}], \"contour\": [{\"colorbar\": {\"outlinewidth\": 0, \"ticks\": \"\"}, \"colorscale\": [[0.0, \"#0d0887\"], [0.1111111111111111, \"#46039f\"], [0.2222222222222222, \"#7201a8\"], [0.3333333333333333, \"#9c179e\"], [0.4444444444444444, \"#bd3786\"], [0.5555555555555556, \"#d8576b\"], [0.6666666666666666, \"#ed7953\"], [0.7777777777777778, \"#fb9f3a\"], [0.8888888888888888, \"#fdca26\"], [1.0, \"#f0f921\"]], \"type\": \"contour\"}], \"contourcarpet\": [{\"colorbar\": {\"outlinewidth\": 0, \"ticks\": \"\"}, \"type\": \"contourcarpet\"}], \"heatmap\": [{\"colorbar\": {\"outlinewidth\": 0, \"ticks\": \"\"}, \"colorscale\": [[0.0, \"#0d0887\"], [0.1111111111111111, \"#46039f\"], [0.2222222222222222, \"#7201a8\"], [0.3333333333333333, \"#9c179e\"], [0.4444444444444444, \"#bd3786\"], [0.5555555555555556, \"#d8576b\"], [0.6666666666666666, \"#ed7953\"], [0.7777777777777778, \"#fb9f3a\"], [0.8888888888888888, \"#fdca26\"], [1.0, \"#f0f921\"]], \"type\": \"heatmap\"}], \"heatmapgl\": [{\"colorbar\": {\"outlinewidth\": 0, \"ticks\": \"\"}, \"colorscale\": [[0.0, \"#0d0887\"], [0.1111111111111111, \"#46039f\"], [0.2222222222222222, \"#7201a8\"], [0.3333333333333333, \"#9c179e\"], [0.4444444444444444, \"#bd3786\"], [0.5555555555555556, \"#d8576b\"], [0.6666666666666666, \"#ed7953\"], [0.7777777777777778, \"#fb9f3a\"], [0.8888888888888888, \"#fdca26\"], [1.0, \"#f0f921\"]], \"type\": \"heatmapgl\"}], \"histogram\": [{\"marker\": {\"colorbar\": {\"outlinewidth\": 0, \"ticks\": \"\"}}, \"type\": \"histogram\"}], \"histogram2d\": [{\"colorbar\": {\"outlinewidth\": 0, \"ticks\": \"\"}, \"colorscale\": [[0.0, \"#0d0887\"], [0.1111111111111111, \"#46039f\"], [0.2222222222222222, \"#7201a8\"], [0.3333333333333333, \"#9c179e\"], [0.4444444444444444, \"#bd3786\"], [0.5555555555555556, \"#d8576b\"], [0.6666666666666666, \"#ed7953\"], [0.7777777777777778, \"#fb9f3a\"], [0.8888888888888888, \"#fdca26\"], [1.0, \"#f0f921\"]], \"type\": \"histogram2d\"}], \"histogram2dcontour\": [{\"colorbar\": {\"outlinewidth\": 0, \"ticks\": \"\"}, \"colorscale\": [[0.0, \"#0d0887\"], [0.1111111111111111, \"#46039f\"], [0.2222222222222222, \"#7201a8\"], [0.3333333333333333, \"#9c179e\"], [0.4444444444444444, \"#bd3786\"], [0.5555555555555556, \"#d8576b\"], [0.6666666666666666, \"#ed7953\"], [0.7777777777777778, \"#fb9f3a\"], [0.8888888888888888, \"#fdca26\"], [1.0, \"#f0f921\"]], \"type\": \"histogram2dcontour\"}], \"mesh3d\": [{\"colorbar\": {\"outlinewidth\": 0, \"ticks\": \"\"}, \"type\": \"mesh3d\"}], \"parcoords\": [{\"line\": {\"colorbar\": {\"outlinewidth\": 0, \"ticks\": \"\"}}, \"type\": \"parcoords\"}], \"pie\": [{\"automargin\": true, \"type\": \"pie\"}], \"scatter\": [{\"marker\": {\"colorbar\": {\"outlinewidth\": 0, \"ticks\": \"\"}}, \"type\": \"scatter\"}], \"scatter3d\": [{\"line\": {\"colorbar\": {\"outlinewidth\": 0, \"ticks\": \"\"}}, \"marker\": {\"colorbar\": {\"outlinewidth\": 0, \"ticks\": \"\"}}, \"type\": \"scatter3d\"}], \"scattercarpet\": [{\"marker\": {\"colorbar\": {\"outlinewidth\": 0, \"ticks\": \"\"}}, \"type\": \"scattercarpet\"}], \"scattergeo\": [{\"marker\": {\"colorbar\": {\"outlinewidth\": 0, \"ticks\": \"\"}}, \"type\": \"scattergeo\"}], \"scattergl\": [{\"marker\": {\"colorbar\": {\"outlinewidth\": 0, \"ticks\": \"\"}}, \"type\": \"scattergl\"}], \"scattermapbox\": [{\"marker\": {\"colorbar\": {\"outlinewidth\": 0, \"ticks\": \"\"}}, \"type\": \"scattermapbox\"}], \"scatterpolar\": [{\"marker\": {\"colorbar\": {\"outlinewidth\": 0, \"ticks\": \"\"}}, \"type\": \"scatterpolar\"}], \"scatterpolargl\": [{\"marker\": {\"colorbar\": {\"outlinewidth\": 0, \"ticks\": \"\"}}, \"type\": \"scatterpolargl\"}], \"scatterternary\": [{\"marker\": {\"colorbar\": {\"outlinewidth\": 0, \"ticks\": \"\"}}, \"type\": \"scatterternary\"}], \"surface\": [{\"colorbar\": {\"outlinewidth\": 0, \"ticks\": \"\"}, \"colorscale\": [[0.0, \"#0d0887\"], [0.1111111111111111, \"#46039f\"], [0.2222222222222222, \"#7201a8\"], [0.3333333333333333, \"#9c179e\"], [0.4444444444444444, \"#bd3786\"], [0.5555555555555556, \"#d8576b\"], [0.6666666666666666, \"#ed7953\"], [0.7777777777777778, \"#fb9f3a\"], [0.8888888888888888, \"#fdca26\"], [1.0, \"#f0f921\"]], \"type\": \"surface\"}], \"table\": [{\"cells\": {\"fill\": {\"color\": \"#EBF0F8\"}, \"line\": {\"color\": \"white\"}}, \"header\": {\"fill\": {\"color\": \"#C8D4E3\"}, \"line\": {\"color\": \"white\"}}, \"type\": \"table\"}]}, \"layout\": {\"annotationdefaults\": {\"arrowcolor\": \"#2a3f5f\", \"arrowhead\": 0, \"arrowwidth\": 1}, \"coloraxis\": {\"colorbar\": {\"outlinewidth\": 0, \"ticks\": \"\"}}, \"colorscale\": {\"diverging\": [[0, \"#8e0152\"], [0.1, \"#c51b7d\"], [0.2, \"#de77ae\"], [0.3, \"#f1b6da\"], [0.4, \"#fde0ef\"], [0.5, \"#f7f7f7\"], [0.6, \"#e6f5d0\"], [0.7, \"#b8e186\"], [0.8, \"#7fbc41\"], [0.9, \"#4d9221\"], [1, \"#276419\"]], \"sequential\": [[0.0, \"#0d0887\"], [0.1111111111111111, \"#46039f\"], [0.2222222222222222, \"#7201a8\"], [0.3333333333333333, \"#9c179e\"], [0.4444444444444444, \"#bd3786\"], [0.5555555555555556, \"#d8576b\"], [0.6666666666666666, \"#ed7953\"], [0.7777777777777778, \"#fb9f3a\"], [0.8888888888888888, \"#fdca26\"], [1.0, \"#f0f921\"]], \"sequentialminus\": [[0.0, \"#0d0887\"], [0.1111111111111111, \"#46039f\"], [0.2222222222222222, \"#7201a8\"], [0.3333333333333333, \"#9c179e\"], [0.4444444444444444, \"#bd3786\"], [0.5555555555555556, \"#d8576b\"], [0.6666666666666666, \"#ed7953\"], [0.7777777777777778, \"#fb9f3a\"], [0.8888888888888888, \"#fdca26\"], [1.0, \"#f0f921\"]]}, \"colorway\": [\"#636efa\", \"#EF553B\", \"#00cc96\", \"#ab63fa\", \"#FFA15A\", \"#19d3f3\", \"#FF6692\", \"#B6E880\", \"#FF97FF\", \"#FECB52\"], \"font\": {\"color\": \"#2a3f5f\"}, \"geo\": {\"bgcolor\": \"white\", \"lakecolor\": \"white\", \"landcolor\": \"#E5ECF6\", \"showlakes\": true, \"showland\": true, \"subunitcolor\": \"white\"}, \"hoverlabel\": {\"align\": \"left\"}, \"hovermode\": \"closest\", \"mapbox\": {\"style\": \"light\"}, \"paper_bgcolor\": \"white\", \"plot_bgcolor\": \"#E5ECF6\", \"polar\": {\"angularaxis\": {\"gridcolor\": \"white\", \"linecolor\": \"white\", \"ticks\": \"\"}, \"bgcolor\": \"#E5ECF6\", \"radialaxis\": {\"gridcolor\": \"white\", \"linecolor\": \"white\", \"ticks\": \"\"}}, \"scene\": {\"xaxis\": {\"backgroundcolor\": \"#E5ECF6\", \"gridcolor\": \"white\", \"gridwidth\": 2, \"linecolor\": \"white\", \"showbackground\": true, \"ticks\": \"\", \"zerolinecolor\": \"white\"}, \"yaxis\": {\"backgroundcolor\": \"#E5ECF6\", \"gridcolor\": \"white\", \"gridwidth\": 2, \"linecolor\": \"white\", \"showbackground\": true, \"ticks\": \"\", \"zerolinecolor\": \"white\"}, \"zaxis\": {\"backgroundcolor\": \"#E5ECF6\", \"gridcolor\": \"white\", \"gridwidth\": 2, \"linecolor\": \"white\", \"showbackground\": true, \"ticks\": \"\", \"zerolinecolor\": \"white\"}}, \"shapedefaults\": {\"line\": {\"color\": \"#2a3f5f\"}}, \"ternary\": {\"aaxis\": {\"gridcolor\": \"white\", \"linecolor\": \"white\", \"ticks\": \"\"}, \"baxis\": {\"gridcolor\": \"white\", \"linecolor\": \"white\", \"ticks\": \"\"}, \"bgcolor\": \"#E5ECF6\", \"caxis\": {\"gridcolor\": \"white\", \"linecolor\": \"white\", \"ticks\": \"\"}}, \"title\": {\"x\": 0.05}, \"xaxis\": {\"automargin\": true, \"gridcolor\": \"white\", \"linecolor\": \"white\", \"ticks\": \"\", \"title\": {\"standoff\": 15}, \"zerolinecolor\": \"white\", \"zerolinewidth\": 2}, \"yaxis\": {\"automargin\": true, \"gridcolor\": \"white\", \"linecolor\": \"white\", \"ticks\": \"\", \"title\": {\"standoff\": 15}, \"zerolinecolor\": \"white\", \"zerolinewidth\": 2}}}, \"title\": {\"font\": {\"color\": \"#4D5663\"}}, \"xaxis\": {\"gridcolor\": \"#E1E5ED\", \"showgrid\": true, \"tickfont\": {\"color\": \"#4D5663\"}, \"title\": {\"font\": {\"color\": \"#4D5663\"}, \"text\": \"\"}, \"zerolinecolor\": \"#E1E5ED\"}, \"yaxis\": {\"gridcolor\": \"#E1E5ED\", \"showgrid\": true, \"tickfont\": {\"color\": \"#4D5663\"}, \"title\": {\"font\": {\"color\": \"#4D5663\"}, \"text\": \"\"}, \"zerolinecolor\": \"#E1E5ED\"}},                        {\"showLink\": true, \"linkText\": \"Export to plot.ly\", \"plotlyServerURL\": \"https://plot.ly\", \"responsive\": true}                    ).then(function(){\n",
       "                            \n",
       "var gd = document.getElementById('8529cf56-fc2c-467e-9007-e2120029fba0');\n",
       "var x = new MutationObserver(function (mutations, observer) {{\n",
       "        var display = window.getComputedStyle(gd).display;\n",
       "        if (!display || display === 'none') {{\n",
       "            console.log([gd, 'removed!']);\n",
       "            Plotly.purge(gd);\n",
       "            observer.disconnect();\n",
       "        }}\n",
       "}});\n",
       "\n",
       "// Listen for the removal of the full notebook cells\n",
       "var notebookContainer = gd.closest('#notebook-container');\n",
       "if (notebookContainer) {{\n",
       "    x.observe(notebookContainer, {childList: true});\n",
       "}}\n",
       "\n",
       "// Listen for the clearing of the current output cell\n",
       "var outputEl = gd.closest('.output');\n",
       "if (outputEl) {{\n",
       "    x.observe(outputEl, {childList: true});\n",
       "}}\n",
       "\n",
       "                        })                };                });            </script>        </div>"
      ]
     },
     "metadata": {},
     "output_type": "display_data"
    },
    {
     "data": {
      "application/vnd.plotly.v1+json": {
       "config": {
        "linkText": "Export to plot.ly",
        "plotlyServerURL": "https://plot.ly",
        "showLink": true
       },
       "data": [
        {
         "line": {
          "color": "rgba(255, 153, 51, 1.0)",
          "dash": "solid",
          "shape": "linear",
          "width": 1.3
         },
         "mode": "lines",
         "name": "AAPL",
         "text": "",
         "type": "scatter",
         "x": [
          "8/28/2020",
          "8/27/2020",
          "8/26/2020",
          "8/25/2020",
          "8/24/2020",
          "8/21/2020",
          "8/20/2020",
          "8/19/2020",
          "8/18/2020",
          "8/17/2020",
          "8/14/2020",
          "8/13/2020",
          "8/12/2020",
          "8/11/2020",
          "8/10/2020",
          "8/7/2020",
          "8/6/2020",
          "8/5/2020",
          "8/4/2020",
          "8/3/2020",
          "7/31/2020",
          "7/30/2020",
          "7/29/2020",
          "7/28/2020",
          "7/27/2020",
          "7/24/2020",
          "7/23/2020",
          "7/22/2020",
          "7/21/2020",
          "7/20/2020",
          "7/17/2020",
          "7/16/2020",
          "7/15/2020",
          "7/14/2020",
          "7/13/2020",
          "7/10/2020",
          "7/9/2020",
          "7/8/2020",
          "7/7/2020",
          "7/6/2020",
          "7/2/2020",
          "7/1/2020",
          "6/30/2020",
          "6/29/2020",
          "6/26/2020",
          "6/25/2020",
          "6/24/2020",
          "6/23/2020",
          "6/22/2020",
          "6/19/2020",
          "6/18/2020",
          "6/17/2020",
          "6/16/2020",
          "6/15/2020",
          "6/12/2020",
          "6/11/2020",
          "6/10/2020",
          "6/9/2020",
          "6/8/2020",
          "6/5/2020",
          "6/4/2020",
          "6/3/2020",
          "6/2/2020",
          "6/1/2020",
          "5/29/2020",
          "5/28/2020",
          "5/27/2020",
          "5/26/2020",
          "5/22/2020",
          "5/21/2020",
          "5/20/2020",
          "5/19/2020",
          "5/18/2020",
          "5/15/2020",
          "5/14/2020",
          "5/13/2020",
          "5/12/2020",
          "5/11/2020",
          "5/8/2020",
          "5/7/2020",
          "5/6/2020",
          "5/5/2020",
          "5/4/2020",
          "5/1/2020",
          "4/30/2020",
          "4/29/2020",
          "4/28/2020",
          "4/27/2020",
          "4/24/2020",
          "4/23/2020",
          "4/22/2020",
          "4/21/2020",
          "4/20/2020",
          "4/17/2020",
          "4/16/2020",
          "4/15/2020",
          "4/14/2020",
          "4/13/2020",
          "4/9/2020",
          "4/8/2020",
          "4/7/2020",
          "4/6/2020",
          "4/3/2020",
          "4/2/2020",
          "4/1/2020",
          "3/31/2020",
          "3/30/2020",
          "3/27/2020",
          "3/26/2020",
          "3/25/2020",
          "3/24/2020",
          "3/23/2020",
          "3/20/2020",
          "3/19/2020",
          "3/18/2020",
          "3/17/2020",
          "3/16/2020"
         ],
         "y": [
          46907480,
          38888100,
          40755570,
          52873950,
          86484440,
          84513660,
          31726800,
          36384500,
          26408390,
          29890360,
          41391300,
          52520520,
          41486210,
          46975590,
          53100860,
          49511400,
          50607230,
          30497990,
          43198090,
          77037850,
          93573870,
          39532510,
          22582310,
          25906380,
          30303550,
          46359720,
          49251110,
          22250410,
          25911460,
          22579480,
          23046730,
          27644420,
          38299480,
          42747340,
          47912290,
          22564330,
          31410650,
          29272970,
          28106110,
          29663910,
          28510370,
          27684310,
          35055820,
          32661520,
          51314210,
          34380630,
          48155850,
          53038870,
          33861320,
          66118950,
          24205100,
          28601630,
          41357180,
          34702230,
          50036510,
          50415610,
          41662940,
          36928090,
          23913630,
          34312550,
          21890090,
          26122800,
          21910700,
          20254650,
          38399530,
          33449100,
          28236270,
          31380450,
          20450750,
          25672210,
          27876220,
          25432390,
          33843130,
          41587090,
          39732270,
          50155640,
          40575260,
          36486560,
          33511990,
          28803760,
          35583440,
          36937800,
          33391990,
          60154180,
          45765970,
          34320200,
          28001190,
          29271890,
          31627180,
          31203580,
          29264340,
          45247890,
          32503750,
          53812480,
          39281290,
          32788640,
          48748670,
          32755730,
          40529120,
          42223820,
          50721830,
          50455070,
          32470020,
          41483490,
          44054640,
          49250500,
          41994110,
          51054150,
          63140170,
          75900510,
          71882770,
          84188210,
          100423300,
          67964260,
          75058410,
          81013970,
          80605870
         ]
        },
        {
         "line": {
          "color": "rgba(55, 128, 191, 1.0)",
          "dash": "solid",
          "shape": "linear",
          "width": 1.3
         },
         "mode": "lines",
         "name": "Amazon",
         "text": "",
         "type": "scatter",
         "x": [
          "8/28/2020",
          "8/27/2020",
          "8/26/2020",
          "8/25/2020",
          "8/24/2020",
          "8/21/2020",
          "8/20/2020",
          "8/19/2020",
          "8/18/2020",
          "8/17/2020",
          "8/14/2020",
          "8/13/2020",
          "8/12/2020",
          "8/11/2020",
          "8/10/2020",
          "8/7/2020",
          "8/6/2020",
          "8/5/2020",
          "8/4/2020",
          "8/3/2020",
          "7/31/2020",
          "7/30/2020",
          "7/29/2020",
          "7/28/2020",
          "7/27/2020",
          "7/24/2020",
          "7/23/2020",
          "7/22/2020",
          "7/21/2020",
          "7/20/2020",
          "7/17/2020",
          "7/16/2020",
          "7/15/2020",
          "7/14/2020",
          "7/13/2020",
          "7/10/2020",
          "7/9/2020",
          "7/8/2020",
          "7/7/2020",
          "7/6/2020",
          "7/2/2020",
          "7/1/2020",
          "6/30/2020",
          "6/29/2020",
          "6/26/2020",
          "6/25/2020",
          "6/24/2020",
          "6/23/2020",
          "6/22/2020",
          "6/19/2020",
          "6/18/2020",
          "6/17/2020",
          "6/16/2020",
          "6/15/2020",
          "6/12/2020",
          "6/11/2020",
          "6/10/2020",
          "6/9/2020",
          "6/8/2020",
          "6/5/2020",
          "6/4/2020",
          "6/3/2020",
          "6/2/2020",
          "6/1/2020",
          "5/29/2020",
          "5/28/2020",
          "5/27/2020",
          "5/26/2020",
          "5/22/2020",
          "5/21/2020",
          "5/20/2020",
          "5/19/2020",
          "5/18/2020",
          "5/15/2020",
          "5/14/2020",
          "5/13/2020",
          "5/12/2020",
          "5/11/2020",
          "5/8/2020",
          "5/7/2020",
          "5/6/2020",
          "5/5/2020",
          "5/4/2020",
          "5/1/2020",
          "4/30/2020",
          "4/29/2020",
          "4/28/2020",
          "4/27/2020",
          "4/24/2020",
          "4/23/2020",
          "4/22/2020",
          "4/21/2020",
          "4/20/2020",
          "4/17/2020",
          "4/16/2020",
          "4/15/2020",
          "4/14/2020",
          "4/13/2020",
          "4/9/2020",
          "4/8/2020",
          "4/7/2020",
          "4/6/2020",
          "4/3/2020",
          "4/2/2020",
          "4/1/2020",
          "3/31/2020",
          "3/30/2020",
          "3/27/2020",
          "3/26/2020",
          "3/25/2020",
          "3/24/2020",
          "3/23/2020",
          "3/20/2020",
          "3/19/2020",
          "3/18/2020",
          "3/17/2020",
          "3/16/2020"
         ],
         "y": [
          2896978,
          4264795,
          6508743,
          3992842,
          4666258,
          3575862,
          3332478,
          4185137,
          5345974,
          2691237,
          2751723,
          3149043,
          3527229,
          3718057,
          3167274,
          3936127,
          3940602,
          3930025,
          4694294,
          5074663,
          8083369,
          6128265,
          2974060,
          3126651,
          4170492,
          5632413,
          5656906,
          4104225,
          6134965,
          7598176,
          4761319,
          6394246,
          5788874,
          7231933,
          7720420,
          5485982,
          6388659,
          5037635,
          5257514,
          6880642,
          6593387,
          6363439,
          3769686,
          4223422,
          6500784,
          2968657,
          4526605,
          4231707,
          3208780,
          5776963,
          2487774,
          2959316,
          3595649,
          3873335,
          5436127,
          5800107,
          4946031,
          5175950,
          3970654,
          3306445,
          2948710,
          2671024,
          2529903,
          2938032,
          3529329,
          3193136,
          5056945,
          3568153,
          2867079,
          5114403,
          3998143,
          4320498,
          4366572,
          4234951,
          3648128,
          4782919,
          3074916,
          3259231,
          3211228,
          3396411,
          3117814,
          3242496,
          4865926,
          9772605,
          9534611,
          4591593,
          5269446,
          5645645,
          3831797,
          5066552,
          4218295,
          7476679,
          5770694,
          7930010,
          12038200,
          6866567,
          8087193,
          6716709,
          4655617,
          3977313,
          5113983,
          5773181,
          3609870,
          4335985,
          4121875,
          5123626,
          6126087,
          5387897,
          6235118,
          6479073,
          7147080,
          7808489,
          9817850,
          10399940,
          9645218,
          10917130,
          8917265
         ]
        },
        {
         "line": {
          "color": "rgba(50, 171, 96, 1.0)",
          "dash": "solid",
          "shape": "linear",
          "width": 1.3
         },
         "mode": "lines",
         "name": "Facebook",
         "text": "",
         "type": "scatter",
         "x": [
          "8/28/2020",
          "8/27/2020",
          "8/26/2020",
          "8/25/2020",
          "8/24/2020",
          "8/21/2020",
          "8/20/2020",
          "8/19/2020",
          "8/18/2020",
          "8/17/2020",
          "8/14/2020",
          "8/13/2020",
          "8/12/2020",
          "8/11/2020",
          "8/10/2020",
          "8/7/2020",
          "8/6/2020",
          "8/5/2020",
          "8/4/2020",
          "8/3/2020",
          "7/31/2020",
          "7/30/2020",
          "7/29/2020",
          "7/28/2020",
          "7/27/2020",
          "7/24/2020",
          "7/23/2020",
          "7/22/2020",
          "7/21/2020",
          "7/20/2020",
          "7/17/2020",
          "7/16/2020",
          "7/15/2020",
          "7/14/2020",
          "7/13/2020",
          "7/10/2020",
          "7/9/2020",
          "7/8/2020",
          "7/7/2020",
          "7/6/2020",
          "7/2/2020",
          "7/1/2020",
          "6/30/2020",
          "6/29/2020",
          "6/26/2020",
          "6/25/2020",
          "6/24/2020",
          "6/23/2020",
          "6/22/2020",
          "6/19/2020",
          "6/18/2020",
          "6/17/2020",
          "6/16/2020",
          "6/15/2020",
          "6/12/2020",
          "6/11/2020",
          "6/10/2020",
          "6/9/2020",
          "6/8/2020",
          "6/5/2020",
          "6/4/2020",
          "6/3/2020",
          "6/2/2020",
          "6/1/2020",
          "5/29/2020",
          "5/28/2020",
          "5/27/2020",
          "5/26/2020",
          "5/22/2020",
          "5/21/2020",
          "5/20/2020",
          "5/19/2020",
          "5/18/2020",
          "5/15/2020",
          "5/14/2020",
          "5/13/2020",
          "5/12/2020",
          "5/11/2020",
          "5/8/2020",
          "5/7/2020",
          "5/6/2020",
          "5/5/2020",
          "5/4/2020",
          "5/1/2020",
          "4/30/2020",
          "4/29/2020",
          "4/28/2020",
          "4/27/2020",
          "4/24/2020",
          "4/23/2020",
          "4/22/2020",
          "4/21/2020",
          "4/20/2020",
          "4/17/2020",
          "4/16/2020",
          "4/15/2020",
          "4/14/2020",
          "4/13/2020",
          "4/9/2020",
          "4/8/2020",
          "4/7/2020",
          "4/6/2020",
          "4/3/2020",
          "4/2/2020",
          "4/1/2020",
          "3/31/2020",
          "3/30/2020",
          "3/27/2020",
          "3/26/2020",
          "3/25/2020",
          "3/24/2020",
          "3/23/2020",
          "3/20/2020",
          "3/19/2020",
          "3/18/2020",
          "3/17/2020",
          "3/16/2020"
         ],
         "y": [
          17172420,
          30301310,
          69015150,
          42127240,
          23685600,
          15538620,
          20299690,
          23291460,
          18690380,
          13351060,
          14792710,
          17373970,
          21428330,
          28238280,
          30248830,
          72766360,
          45241610,
          13088360,
          17183530,
          23134100,
          53030040,
          20615310,
          13588320,
          14170110,
          13163080,
          18325810,
          21771800,
          15427890,
          19409690,
          20872220,
          18152410,
          18880710,
          19133560,
          23378060,
          24674870,
          22982720,
          22174900,
          29791340,
          27887790,
          26206160,
          30633620,
          43399740,
          33927070,
          58514280,
          76343940,
          18704340,
          20834900,
          24017920,
          18917780,
          30081290,
          15782450,
          19578130,
          15236690,
          15340260,
          22091390,
          26708160,
          20720710,
          27462870,
          15466500,
          16750440,
          17041480,
          15380280,
          20919020,
          18223840,
          23322480,
          29423010,
          34697550,
          33178320,
          33925560,
          47782640,
          50162880,
          31843150,
          20167440,
          19383150,
          17178950,
          20684560,
          14704650,
          12911950,
          12524050,
          15151980,
          21856960,
          21071220,
          19250670,
          30415580,
          46230120,
          45954520,
          21730990,
          29197750,
          28868530,
          21426600,
          33369930,
          24850530,
          16110580,
          20974750,
          23593230,
          17423000,
          21011820,
          19355360,
          23534290,
          21664200,
          31411920,
          28453580,
          25983320,
          20886310,
          19507560,
          23676280,
          22515230,
          24879870,
          26579020,
          35184270,
          30440370,
          29830770,
          32568400,
          39862310,
          37553140,
          34255600,
          39120420
         ]
        },
        {
         "line": {
          "color": "rgba(128, 0, 128, 1.0)",
          "dash": "solid",
          "shape": "linear",
          "width": 1.3
         },
         "mode": "lines",
         "name": "Microsoft",
         "text": "",
         "type": "scatter",
         "x": [
          "8/28/2020",
          "8/27/2020",
          "8/26/2020",
          "8/25/2020",
          "8/24/2020",
          "8/21/2020",
          "8/20/2020",
          "8/19/2020",
          "8/18/2020",
          "8/17/2020",
          "8/14/2020",
          "8/13/2020",
          "8/12/2020",
          "8/11/2020",
          "8/10/2020",
          "8/7/2020",
          "8/6/2020",
          "8/5/2020",
          "8/4/2020",
          "8/3/2020",
          "7/31/2020",
          "7/30/2020",
          "7/29/2020",
          "7/28/2020",
          "7/27/2020",
          "7/24/2020",
          "7/23/2020",
          "7/22/2020",
          "7/21/2020",
          "7/20/2020",
          "7/17/2020",
          "7/16/2020",
          "7/15/2020",
          "7/14/2020",
          "7/13/2020",
          "7/10/2020",
          "7/9/2020",
          "7/8/2020",
          "7/7/2020",
          "7/6/2020",
          "7/2/2020",
          "7/1/2020",
          "6/30/2020",
          "6/29/2020",
          "6/26/2020",
          "6/25/2020",
          "6/24/2020",
          "6/23/2020",
          "6/22/2020",
          "6/19/2020",
          "6/18/2020",
          "6/17/2020",
          "6/16/2020",
          "6/15/2020",
          "6/12/2020",
          "6/11/2020",
          "6/10/2020",
          "6/9/2020",
          "6/8/2020",
          "6/5/2020",
          "6/4/2020",
          "6/3/2020",
          "6/2/2020",
          "6/1/2020",
          "5/29/2020",
          "5/28/2020",
          "5/27/2020",
          "5/26/2020",
          "5/22/2020",
          "5/21/2020",
          "5/20/2020",
          "5/19/2020",
          "5/18/2020",
          "5/15/2020",
          "5/14/2020",
          "5/13/2020",
          "5/12/2020",
          "5/11/2020",
          "5/8/2020",
          "5/7/2020",
          "5/6/2020",
          "5/5/2020",
          "5/4/2020",
          "5/1/2020",
          "4/30/2020",
          "4/29/2020",
          "4/28/2020",
          "4/27/2020",
          "4/24/2020",
          "4/23/2020",
          "4/22/2020",
          "4/21/2020",
          "4/20/2020",
          "4/17/2020",
          "4/16/2020",
          "4/15/2020",
          "4/14/2020",
          "4/13/2020",
          "4/9/2020",
          "4/8/2020",
          "4/7/2020",
          "4/6/2020",
          "4/3/2020",
          "4/2/2020",
          "4/1/2020",
          "3/31/2020",
          "3/30/2020",
          "3/27/2020",
          "3/26/2020",
          "3/25/2020",
          "3/24/2020",
          "3/23/2020",
          "3/20/2020",
          "3/19/2020",
          "3/18/2020",
          "3/17/2020",
          "3/16/2020"
         ],
         "y": [
          26292900,
          57602200,
          39600830,
          23043700,
          25460150,
          36249320,
          26981480,
          27627560,
          21336170,
          20184760,
          17958940,
          22588870,
          28041360,
          36446460,
          36716460,
          27820420,
          32656840,
          28858620,
          49280060,
          78983010,
          51247970,
          25079600,
          19632600,
          23251390,
          30160870,
          39826990,
          67457040,
          49605690,
          38105780,
          36884840,
          31635280,
          29940650,
          32179410,
          37591820,
          38135610,
          26177630,
          33121680,
          33600030,
          33600730,
          31897630,
          29315760,
          32061210,
          34310280,
          26701590,
          54675780,
          27803930,
          36740650,
          30917450,
          32818930,
          44441140,
          23061650,
          25687820,
          42556660,
          32770190,
          43373590,
          52854670,
          43872330,
          29783920,
          33211590,
          39893640,
          28761810,
          27311020,
          30794590,
          22668820,
          42146720,
          33831820,
          39517150,
          36073610,
          20826900,
          29119510,
          31261330,
          26799120,
          35306620,
          46610380,
          41873910,
          44711490,
          32038200,
          30892660,
          30912640,
          28315990,
          32139300,
          36839170,
          30372860,
          39370470,
          53875860,
          51286560,
          34392690,
          33194380,
          34305320,
          32790800,
          34651600,
          56203750,
          36669560,
          52765630,
          50479610,
          40940830,
          52874340,
          41905260,
          51431780,
          48318230,
          62769040,
          67111700,
          41243280,
          49630740,
          57969930,
          77927190,
          63420330,
          57042290,
          64694430,
          75638220,
          82516730,
          78975180,
          84866220,
          85922660,
          81593170,
          81059820,
          87905870
         ]
        },
        {
         "line": {
          "color": "rgba(219, 64, 82, 1.0)",
          "dash": "solid",
          "shape": "linear",
          "width": 1.3
         },
         "mode": "lines",
         "name": "Tesla",
         "text": "",
         "type": "scatter",
         "x": [
          "8/28/2020",
          "8/27/2020",
          "8/26/2020",
          "8/25/2020",
          "8/24/2020",
          "8/21/2020",
          "8/20/2020",
          "8/19/2020",
          "8/18/2020",
          "8/17/2020",
          "8/14/2020",
          "8/13/2020",
          "8/12/2020",
          "8/11/2020",
          "8/10/2020",
          "8/7/2020",
          "8/6/2020",
          "8/5/2020",
          "8/4/2020",
          "8/3/2020",
          "7/31/2020",
          "7/30/2020",
          "7/29/2020",
          "7/28/2020",
          "7/27/2020",
          "7/24/2020",
          "7/23/2020",
          "7/22/2020",
          "7/21/2020",
          "7/20/2020",
          "7/17/2020",
          "7/16/2020",
          "7/15/2020",
          "7/14/2020",
          "7/13/2020",
          "7/10/2020",
          "7/9/2020",
          "7/8/2020",
          "7/7/2020",
          "7/6/2020",
          "7/2/2020",
          "7/1/2020",
          "6/30/2020",
          "6/29/2020",
          "6/26/2020",
          "6/25/2020",
          "6/24/2020",
          "6/23/2020",
          "6/22/2020",
          "6/19/2020",
          "6/18/2020",
          "6/17/2020",
          "6/16/2020",
          "6/15/2020",
          "6/12/2020",
          "6/11/2020",
          "6/10/2020",
          "6/9/2020",
          "6/8/2020",
          "6/5/2020",
          "6/4/2020",
          "6/3/2020",
          "6/2/2020",
          "6/1/2020",
          "5/29/2020",
          "5/28/2020",
          "5/27/2020",
          "5/26/2020",
          "5/22/2020",
          "5/21/2020",
          "5/20/2020",
          "5/19/2020",
          "5/18/2020",
          "5/15/2020",
          "5/14/2020",
          "5/13/2020",
          "5/12/2020",
          "5/11/2020",
          "5/8/2020",
          "5/7/2020",
          "5/6/2020",
          "5/5/2020",
          "5/4/2020",
          "5/1/2020",
          "4/30/2020",
          "4/29/2020",
          "4/28/2020",
          "4/27/2020",
          "4/24/2020",
          "4/23/2020",
          "4/22/2020",
          "4/21/2020",
          "4/20/2020",
          "4/17/2020",
          "4/16/2020",
          "4/15/2020",
          "4/14/2020",
          "4/13/2020",
          "4/9/2020",
          "4/8/2020",
          "4/7/2020",
          "4/6/2020",
          "4/3/2020",
          "4/2/2020",
          "4/1/2020",
          "3/31/2020",
          "3/30/2020",
          "3/27/2020",
          "3/26/2020",
          "3/25/2020",
          "3/24/2020",
          "3/23/2020",
          "3/20/2020",
          "3/19/2020",
          "3/18/2020",
          "3/17/2020",
          "3/16/2020"
         ],
         "y": [
          20081180,
          23693040,
          14239380,
          10658890,
          20063620,
          21489560,
          20611800,
          12205330,
          16474490,
          20242320,
          12577610,
          20425310,
          21898830,
          8625834,
          7522264,
          8896420,
          5992313,
          4978015,
          8414990,
          8809346,
          12246960,
          7621039,
          9426893,
          15808700,
          16048670,
          19396620,
          24328500,
          14161080,
          16157280,
          17121370,
          9329972,
          14300790,
          16367830,
          23418140,
          38985360,
          23337550,
          11717600,
          16311310,
          21489660,
          20569860,
          17250120,
          13326900,
          16918500,
          9026404,
          8854908,
          9254549,
          10959590,
          6365271,
          6362350,
          8679749,
          9751936,
          9890800,
          14051080,
          15697180,
          16763370,
          15916480,
          18563410,
          11388150,
          14174730,
          7811917,
          8887713,
          7949469,
          13565600,
          15085300,
          11812490,
          7275774,
          11549530,
          8089736,
          9987475,
          12254580,
          7309271,
          9636522,
          11698100,
          10518430,
          13682190,
          19065490,
          15906910,
          16519600,
          16130090,
          11527690,
          11123230,
          16991660,
          19237090,
          32531810,
          28471850,
          16215980,
          15221960,
          20681440,
          13237610,
          13236700,
          14224830,
          20209090,
          14746370,
          13128230,
          20657860,
          23577000,
          30576510,
          22475420,
          13650000,
          12656020,
          17919780,
          14901840,
          22562080,
          19858430,
          13353180,
          17771490,
          11998070,
          14377410,
          17422080,
          21222750,
          22895170,
          16454550,
          28285500,
          30195460,
          23786160,
          23994580,
          20489460
         ]
        }
       ],
       "layout": {
        "legend": {
         "bgcolor": "#F5F6F9",
         "font": {
          "color": "#4D5663"
         }
        },
        "paper_bgcolor": "#F5F6F9",
        "plot_bgcolor": "#F5F6F9",
        "template": {
         "data": {
          "bar": [
           {
            "error_x": {
             "color": "#2a3f5f"
            },
            "error_y": {
             "color": "#2a3f5f"
            },
            "marker": {
             "line": {
              "color": "#E5ECF6",
              "width": 0.5
             }
            },
            "type": "bar"
           }
          ],
          "barpolar": [
           {
            "marker": {
             "line": {
              "color": "#E5ECF6",
              "width": 0.5
             }
            },
            "type": "barpolar"
           }
          ],
          "carpet": [
           {
            "aaxis": {
             "endlinecolor": "#2a3f5f",
             "gridcolor": "white",
             "linecolor": "white",
             "minorgridcolor": "white",
             "startlinecolor": "#2a3f5f"
            },
            "baxis": {
             "endlinecolor": "#2a3f5f",
             "gridcolor": "white",
             "linecolor": "white",
             "minorgridcolor": "white",
             "startlinecolor": "#2a3f5f"
            },
            "type": "carpet"
           }
          ],
          "choropleth": [
           {
            "colorbar": {
             "outlinewidth": 0,
             "ticks": ""
            },
            "type": "choropleth"
           }
          ],
          "contour": [
           {
            "colorbar": {
             "outlinewidth": 0,
             "ticks": ""
            },
            "colorscale": [
             [
              0,
              "#0d0887"
             ],
             [
              0.1111111111111111,
              "#46039f"
             ],
             [
              0.2222222222222222,
              "#7201a8"
             ],
             [
              0.3333333333333333,
              "#9c179e"
             ],
             [
              0.4444444444444444,
              "#bd3786"
             ],
             [
              0.5555555555555556,
              "#d8576b"
             ],
             [
              0.6666666666666666,
              "#ed7953"
             ],
             [
              0.7777777777777778,
              "#fb9f3a"
             ],
             [
              0.8888888888888888,
              "#fdca26"
             ],
             [
              1,
              "#f0f921"
             ]
            ],
            "type": "contour"
           }
          ],
          "contourcarpet": [
           {
            "colorbar": {
             "outlinewidth": 0,
             "ticks": ""
            },
            "type": "contourcarpet"
           }
          ],
          "heatmap": [
           {
            "colorbar": {
             "outlinewidth": 0,
             "ticks": ""
            },
            "colorscale": [
             [
              0,
              "#0d0887"
             ],
             [
              0.1111111111111111,
              "#46039f"
             ],
             [
              0.2222222222222222,
              "#7201a8"
             ],
             [
              0.3333333333333333,
              "#9c179e"
             ],
             [
              0.4444444444444444,
              "#bd3786"
             ],
             [
              0.5555555555555556,
              "#d8576b"
             ],
             [
              0.6666666666666666,
              "#ed7953"
             ],
             [
              0.7777777777777778,
              "#fb9f3a"
             ],
             [
              0.8888888888888888,
              "#fdca26"
             ],
             [
              1,
              "#f0f921"
             ]
            ],
            "type": "heatmap"
           }
          ],
          "heatmapgl": [
           {
            "colorbar": {
             "outlinewidth": 0,
             "ticks": ""
            },
            "colorscale": [
             [
              0,
              "#0d0887"
             ],
             [
              0.1111111111111111,
              "#46039f"
             ],
             [
              0.2222222222222222,
              "#7201a8"
             ],
             [
              0.3333333333333333,
              "#9c179e"
             ],
             [
              0.4444444444444444,
              "#bd3786"
             ],
             [
              0.5555555555555556,
              "#d8576b"
             ],
             [
              0.6666666666666666,
              "#ed7953"
             ],
             [
              0.7777777777777778,
              "#fb9f3a"
             ],
             [
              0.8888888888888888,
              "#fdca26"
             ],
             [
              1,
              "#f0f921"
             ]
            ],
            "type": "heatmapgl"
           }
          ],
          "histogram": [
           {
            "marker": {
             "colorbar": {
              "outlinewidth": 0,
              "ticks": ""
             }
            },
            "type": "histogram"
           }
          ],
          "histogram2d": [
           {
            "colorbar": {
             "outlinewidth": 0,
             "ticks": ""
            },
            "colorscale": [
             [
              0,
              "#0d0887"
             ],
             [
              0.1111111111111111,
              "#46039f"
             ],
             [
              0.2222222222222222,
              "#7201a8"
             ],
             [
              0.3333333333333333,
              "#9c179e"
             ],
             [
              0.4444444444444444,
              "#bd3786"
             ],
             [
              0.5555555555555556,
              "#d8576b"
             ],
             [
              0.6666666666666666,
              "#ed7953"
             ],
             [
              0.7777777777777778,
              "#fb9f3a"
             ],
             [
              0.8888888888888888,
              "#fdca26"
             ],
             [
              1,
              "#f0f921"
             ]
            ],
            "type": "histogram2d"
           }
          ],
          "histogram2dcontour": [
           {
            "colorbar": {
             "outlinewidth": 0,
             "ticks": ""
            },
            "colorscale": [
             [
              0,
              "#0d0887"
             ],
             [
              0.1111111111111111,
              "#46039f"
             ],
             [
              0.2222222222222222,
              "#7201a8"
             ],
             [
              0.3333333333333333,
              "#9c179e"
             ],
             [
              0.4444444444444444,
              "#bd3786"
             ],
             [
              0.5555555555555556,
              "#d8576b"
             ],
             [
              0.6666666666666666,
              "#ed7953"
             ],
             [
              0.7777777777777778,
              "#fb9f3a"
             ],
             [
              0.8888888888888888,
              "#fdca26"
             ],
             [
              1,
              "#f0f921"
             ]
            ],
            "type": "histogram2dcontour"
           }
          ],
          "mesh3d": [
           {
            "colorbar": {
             "outlinewidth": 0,
             "ticks": ""
            },
            "type": "mesh3d"
           }
          ],
          "parcoords": [
           {
            "line": {
             "colorbar": {
              "outlinewidth": 0,
              "ticks": ""
             }
            },
            "type": "parcoords"
           }
          ],
          "pie": [
           {
            "automargin": true,
            "type": "pie"
           }
          ],
          "scatter": [
           {
            "marker": {
             "colorbar": {
              "outlinewidth": 0,
              "ticks": ""
             }
            },
            "type": "scatter"
           }
          ],
          "scatter3d": [
           {
            "line": {
             "colorbar": {
              "outlinewidth": 0,
              "ticks": ""
             }
            },
            "marker": {
             "colorbar": {
              "outlinewidth": 0,
              "ticks": ""
             }
            },
            "type": "scatter3d"
           }
          ],
          "scattercarpet": [
           {
            "marker": {
             "colorbar": {
              "outlinewidth": 0,
              "ticks": ""
             }
            },
            "type": "scattercarpet"
           }
          ],
          "scattergeo": [
           {
            "marker": {
             "colorbar": {
              "outlinewidth": 0,
              "ticks": ""
             }
            },
            "type": "scattergeo"
           }
          ],
          "scattergl": [
           {
            "marker": {
             "colorbar": {
              "outlinewidth": 0,
              "ticks": ""
             }
            },
            "type": "scattergl"
           }
          ],
          "scattermapbox": [
           {
            "marker": {
             "colorbar": {
              "outlinewidth": 0,
              "ticks": ""
             }
            },
            "type": "scattermapbox"
           }
          ],
          "scatterpolar": [
           {
            "marker": {
             "colorbar": {
              "outlinewidth": 0,
              "ticks": ""
             }
            },
            "type": "scatterpolar"
           }
          ],
          "scatterpolargl": [
           {
            "marker": {
             "colorbar": {
              "outlinewidth": 0,
              "ticks": ""
             }
            },
            "type": "scatterpolargl"
           }
          ],
          "scatterternary": [
           {
            "marker": {
             "colorbar": {
              "outlinewidth": 0,
              "ticks": ""
             }
            },
            "type": "scatterternary"
           }
          ],
          "surface": [
           {
            "colorbar": {
             "outlinewidth": 0,
             "ticks": ""
            },
            "colorscale": [
             [
              0,
              "#0d0887"
             ],
             [
              0.1111111111111111,
              "#46039f"
             ],
             [
              0.2222222222222222,
              "#7201a8"
             ],
             [
              0.3333333333333333,
              "#9c179e"
             ],
             [
              0.4444444444444444,
              "#bd3786"
             ],
             [
              0.5555555555555556,
              "#d8576b"
             ],
             [
              0.6666666666666666,
              "#ed7953"
             ],
             [
              0.7777777777777778,
              "#fb9f3a"
             ],
             [
              0.8888888888888888,
              "#fdca26"
             ],
             [
              1,
              "#f0f921"
             ]
            ],
            "type": "surface"
           }
          ],
          "table": [
           {
            "cells": {
             "fill": {
              "color": "#EBF0F8"
             },
             "line": {
              "color": "white"
             }
            },
            "header": {
             "fill": {
              "color": "#C8D4E3"
             },
             "line": {
              "color": "white"
             }
            },
            "type": "table"
           }
          ]
         },
         "layout": {
          "annotationdefaults": {
           "arrowcolor": "#2a3f5f",
           "arrowhead": 0,
           "arrowwidth": 1
          },
          "coloraxis": {
           "colorbar": {
            "outlinewidth": 0,
            "ticks": ""
           }
          },
          "colorscale": {
           "diverging": [
            [
             0,
             "#8e0152"
            ],
            [
             0.1,
             "#c51b7d"
            ],
            [
             0.2,
             "#de77ae"
            ],
            [
             0.3,
             "#f1b6da"
            ],
            [
             0.4,
             "#fde0ef"
            ],
            [
             0.5,
             "#f7f7f7"
            ],
            [
             0.6,
             "#e6f5d0"
            ],
            [
             0.7,
             "#b8e186"
            ],
            [
             0.8,
             "#7fbc41"
            ],
            [
             0.9,
             "#4d9221"
            ],
            [
             1,
             "#276419"
            ]
           ],
           "sequential": [
            [
             0,
             "#0d0887"
            ],
            [
             0.1111111111111111,
             "#46039f"
            ],
            [
             0.2222222222222222,
             "#7201a8"
            ],
            [
             0.3333333333333333,
             "#9c179e"
            ],
            [
             0.4444444444444444,
             "#bd3786"
            ],
            [
             0.5555555555555556,
             "#d8576b"
            ],
            [
             0.6666666666666666,
             "#ed7953"
            ],
            [
             0.7777777777777778,
             "#fb9f3a"
            ],
            [
             0.8888888888888888,
             "#fdca26"
            ],
            [
             1,
             "#f0f921"
            ]
           ],
           "sequentialminus": [
            [
             0,
             "#0d0887"
            ],
            [
             0.1111111111111111,
             "#46039f"
            ],
            [
             0.2222222222222222,
             "#7201a8"
            ],
            [
             0.3333333333333333,
             "#9c179e"
            ],
            [
             0.4444444444444444,
             "#bd3786"
            ],
            [
             0.5555555555555556,
             "#d8576b"
            ],
            [
             0.6666666666666666,
             "#ed7953"
            ],
            [
             0.7777777777777778,
             "#fb9f3a"
            ],
            [
             0.8888888888888888,
             "#fdca26"
            ],
            [
             1,
             "#f0f921"
            ]
           ]
          },
          "colorway": [
           "#636efa",
           "#EF553B",
           "#00cc96",
           "#ab63fa",
           "#FFA15A",
           "#19d3f3",
           "#FF6692",
           "#B6E880",
           "#FF97FF",
           "#FECB52"
          ],
          "font": {
           "color": "#2a3f5f"
          },
          "geo": {
           "bgcolor": "white",
           "lakecolor": "white",
           "landcolor": "#E5ECF6",
           "showlakes": true,
           "showland": true,
           "subunitcolor": "white"
          },
          "hoverlabel": {
           "align": "left"
          },
          "hovermode": "closest",
          "mapbox": {
           "style": "light"
          },
          "paper_bgcolor": "white",
          "plot_bgcolor": "#E5ECF6",
          "polar": {
           "angularaxis": {
            "gridcolor": "white",
            "linecolor": "white",
            "ticks": ""
           },
           "bgcolor": "#E5ECF6",
           "radialaxis": {
            "gridcolor": "white",
            "linecolor": "white",
            "ticks": ""
           }
          },
          "scene": {
           "xaxis": {
            "backgroundcolor": "#E5ECF6",
            "gridcolor": "white",
            "gridwidth": 2,
            "linecolor": "white",
            "showbackground": true,
            "ticks": "",
            "zerolinecolor": "white"
           },
           "yaxis": {
            "backgroundcolor": "#E5ECF6",
            "gridcolor": "white",
            "gridwidth": 2,
            "linecolor": "white",
            "showbackground": true,
            "ticks": "",
            "zerolinecolor": "white"
           },
           "zaxis": {
            "backgroundcolor": "#E5ECF6",
            "gridcolor": "white",
            "gridwidth": 2,
            "linecolor": "white",
            "showbackground": true,
            "ticks": "",
            "zerolinecolor": "white"
           }
          },
          "shapedefaults": {
           "line": {
            "color": "#2a3f5f"
           }
          },
          "ternary": {
           "aaxis": {
            "gridcolor": "white",
            "linecolor": "white",
            "ticks": ""
           },
           "baxis": {
            "gridcolor": "white",
            "linecolor": "white",
            "ticks": ""
           },
           "bgcolor": "#E5ECF6",
           "caxis": {
            "gridcolor": "white",
            "linecolor": "white",
            "ticks": ""
           }
          },
          "title": {
           "x": 0.05
          },
          "xaxis": {
           "automargin": true,
           "gridcolor": "white",
           "linecolor": "white",
           "ticks": "",
           "title": {
            "standoff": 15
           },
           "zerolinecolor": "white",
           "zerolinewidth": 2
          },
          "yaxis": {
           "automargin": true,
           "gridcolor": "white",
           "linecolor": "white",
           "ticks": "",
           "title": {
            "standoff": 15
           },
           "zerolinecolor": "white",
           "zerolinewidth": 2
          }
         }
        },
        "title": {
         "font": {
          "color": "#4D5663"
         }
        },
        "xaxis": {
         "gridcolor": "#E1E5ED",
         "showgrid": true,
         "tickfont": {
          "color": "#4D5663"
         },
         "title": {
          "font": {
           "color": "#4D5663"
          },
          "text": ""
         },
         "zerolinecolor": "#E1E5ED"
        },
        "yaxis": {
         "gridcolor": "#E1E5ED",
         "showgrid": true,
         "tickfont": {
          "color": "#4D5663"
         },
         "title": {
          "font": {
           "color": "#4D5663"
          },
          "text": ""
         },
         "zerolinecolor": "#E1E5ED"
        }
       }
      },
      "text/html": [
       "<div>                            <div id=\"ba1a4552-22ec-4a02-97f8-56af1b361c6e\" class=\"plotly-graph-div\" style=\"height:525px; width:100%;\"></div>            <script type=\"text/javascript\">                require([\"plotly\"], function(Plotly) {                    window.PLOTLYENV=window.PLOTLYENV || {};\n",
       "                    window.PLOTLYENV.BASE_URL='https://plot.ly';                                    if (document.getElementById(\"ba1a4552-22ec-4a02-97f8-56af1b361c6e\")) {                    Plotly.newPlot(                        \"ba1a4552-22ec-4a02-97f8-56af1b361c6e\",                        [{\"line\": {\"color\": \"rgba(255, 153, 51, 1.0)\", \"dash\": \"solid\", \"shape\": \"linear\", \"width\": 1.3}, \"mode\": \"lines\", \"name\": \"AAPL\", \"text\": \"\", \"type\": \"scatter\", \"x\": [\"8/28/2020\", \"8/27/2020\", \"8/26/2020\", \"8/25/2020\", \"8/24/2020\", \"8/21/2020\", \"8/20/2020\", \"8/19/2020\", \"8/18/2020\", \"8/17/2020\", \"8/14/2020\", \"8/13/2020\", \"8/12/2020\", \"8/11/2020\", \"8/10/2020\", \"8/7/2020\", \"8/6/2020\", \"8/5/2020\", \"8/4/2020\", \"8/3/2020\", \"7/31/2020\", \"7/30/2020\", \"7/29/2020\", \"7/28/2020\", \"7/27/2020\", \"7/24/2020\", \"7/23/2020\", \"7/22/2020\", \"7/21/2020\", \"7/20/2020\", \"7/17/2020\", \"7/16/2020\", \"7/15/2020\", \"7/14/2020\", \"7/13/2020\", \"7/10/2020\", \"7/9/2020\", \"7/8/2020\", \"7/7/2020\", \"7/6/2020\", \"7/2/2020\", \"7/1/2020\", \"6/30/2020\", \"6/29/2020\", \"6/26/2020\", \"6/25/2020\", \"6/24/2020\", \"6/23/2020\", \"6/22/2020\", \"6/19/2020\", \"6/18/2020\", \"6/17/2020\", \"6/16/2020\", \"6/15/2020\", \"6/12/2020\", \"6/11/2020\", \"6/10/2020\", \"6/9/2020\", \"6/8/2020\", \"6/5/2020\", \"6/4/2020\", \"6/3/2020\", \"6/2/2020\", \"6/1/2020\", \"5/29/2020\", \"5/28/2020\", \"5/27/2020\", \"5/26/2020\", \"5/22/2020\", \"5/21/2020\", \"5/20/2020\", \"5/19/2020\", \"5/18/2020\", \"5/15/2020\", \"5/14/2020\", \"5/13/2020\", \"5/12/2020\", \"5/11/2020\", \"5/8/2020\", \"5/7/2020\", \"5/6/2020\", \"5/5/2020\", \"5/4/2020\", \"5/1/2020\", \"4/30/2020\", \"4/29/2020\", \"4/28/2020\", \"4/27/2020\", \"4/24/2020\", \"4/23/2020\", \"4/22/2020\", \"4/21/2020\", \"4/20/2020\", \"4/17/2020\", \"4/16/2020\", \"4/15/2020\", \"4/14/2020\", \"4/13/2020\", \"4/9/2020\", \"4/8/2020\", \"4/7/2020\", \"4/6/2020\", \"4/3/2020\", \"4/2/2020\", \"4/1/2020\", \"3/31/2020\", \"3/30/2020\", \"3/27/2020\", \"3/26/2020\", \"3/25/2020\", \"3/24/2020\", \"3/23/2020\", \"3/20/2020\", \"3/19/2020\", \"3/18/2020\", \"3/17/2020\", \"3/16/2020\"], \"y\": [46907480, 38888100, 40755570, 52873950, 86484440, 84513660, 31726800, 36384500, 26408390, 29890360, 41391300, 52520520, 41486210, 46975590, 53100860, 49511400, 50607230, 30497990, 43198090, 77037850, 93573870, 39532510, 22582310, 25906380, 30303550, 46359720, 49251110, 22250410, 25911460, 22579480, 23046730, 27644420, 38299480, 42747340, 47912290, 22564330, 31410650, 29272970, 28106110, 29663910, 28510370, 27684310, 35055820, 32661520, 51314210, 34380630, 48155850, 53038870, 33861320, 66118950, 24205100, 28601630, 41357180, 34702230, 50036510, 50415610, 41662940, 36928090, 23913630, 34312550, 21890090, 26122800, 21910700, 20254650, 38399530, 33449100, 28236270, 31380450, 20450750, 25672210, 27876220, 25432390, 33843130, 41587090, 39732270, 50155640, 40575260, 36486560, 33511990, 28803760, 35583440, 36937800, 33391990, 60154180, 45765970, 34320200, 28001190, 29271890, 31627180, 31203580, 29264340, 45247890, 32503750, 53812480, 39281290, 32788640, 48748670, 32755730, 40529120, 42223820, 50721830, 50455070, 32470020, 41483490, 44054640, 49250500, 41994110, 51054150, 63140170, 75900510, 71882770, 84188210, 100423300, 67964260, 75058410, 81013970, 80605870]}, {\"line\": {\"color\": \"rgba(55, 128, 191, 1.0)\", \"dash\": \"solid\", \"shape\": \"linear\", \"width\": 1.3}, \"mode\": \"lines\", \"name\": \"Amazon\", \"text\": \"\", \"type\": \"scatter\", \"x\": [\"8/28/2020\", \"8/27/2020\", \"8/26/2020\", \"8/25/2020\", \"8/24/2020\", \"8/21/2020\", \"8/20/2020\", \"8/19/2020\", \"8/18/2020\", \"8/17/2020\", \"8/14/2020\", \"8/13/2020\", \"8/12/2020\", \"8/11/2020\", \"8/10/2020\", \"8/7/2020\", \"8/6/2020\", \"8/5/2020\", \"8/4/2020\", \"8/3/2020\", \"7/31/2020\", \"7/30/2020\", \"7/29/2020\", \"7/28/2020\", \"7/27/2020\", \"7/24/2020\", \"7/23/2020\", \"7/22/2020\", \"7/21/2020\", \"7/20/2020\", \"7/17/2020\", \"7/16/2020\", \"7/15/2020\", \"7/14/2020\", \"7/13/2020\", \"7/10/2020\", \"7/9/2020\", \"7/8/2020\", \"7/7/2020\", \"7/6/2020\", \"7/2/2020\", \"7/1/2020\", \"6/30/2020\", \"6/29/2020\", \"6/26/2020\", \"6/25/2020\", \"6/24/2020\", \"6/23/2020\", \"6/22/2020\", \"6/19/2020\", \"6/18/2020\", \"6/17/2020\", \"6/16/2020\", \"6/15/2020\", \"6/12/2020\", \"6/11/2020\", \"6/10/2020\", \"6/9/2020\", \"6/8/2020\", \"6/5/2020\", \"6/4/2020\", \"6/3/2020\", \"6/2/2020\", \"6/1/2020\", \"5/29/2020\", \"5/28/2020\", \"5/27/2020\", \"5/26/2020\", \"5/22/2020\", \"5/21/2020\", \"5/20/2020\", \"5/19/2020\", \"5/18/2020\", \"5/15/2020\", \"5/14/2020\", \"5/13/2020\", \"5/12/2020\", \"5/11/2020\", \"5/8/2020\", \"5/7/2020\", \"5/6/2020\", \"5/5/2020\", \"5/4/2020\", \"5/1/2020\", \"4/30/2020\", \"4/29/2020\", \"4/28/2020\", \"4/27/2020\", \"4/24/2020\", \"4/23/2020\", \"4/22/2020\", \"4/21/2020\", \"4/20/2020\", \"4/17/2020\", \"4/16/2020\", \"4/15/2020\", \"4/14/2020\", \"4/13/2020\", \"4/9/2020\", \"4/8/2020\", \"4/7/2020\", \"4/6/2020\", \"4/3/2020\", \"4/2/2020\", \"4/1/2020\", \"3/31/2020\", \"3/30/2020\", \"3/27/2020\", \"3/26/2020\", \"3/25/2020\", \"3/24/2020\", \"3/23/2020\", \"3/20/2020\", \"3/19/2020\", \"3/18/2020\", \"3/17/2020\", \"3/16/2020\"], \"y\": [2896978, 4264795, 6508743, 3992842, 4666258, 3575862, 3332478, 4185137, 5345974, 2691237, 2751723, 3149043, 3527229, 3718057, 3167274, 3936127, 3940602, 3930025, 4694294, 5074663, 8083369, 6128265, 2974060, 3126651, 4170492, 5632413, 5656906, 4104225, 6134965, 7598176, 4761319, 6394246, 5788874, 7231933, 7720420, 5485982, 6388659, 5037635, 5257514, 6880642, 6593387, 6363439, 3769686, 4223422, 6500784, 2968657, 4526605, 4231707, 3208780, 5776963, 2487774, 2959316, 3595649, 3873335, 5436127, 5800107, 4946031, 5175950, 3970654, 3306445, 2948710, 2671024, 2529903, 2938032, 3529329, 3193136, 5056945, 3568153, 2867079, 5114403, 3998143, 4320498, 4366572, 4234951, 3648128, 4782919, 3074916, 3259231, 3211228, 3396411, 3117814, 3242496, 4865926, 9772605, 9534611, 4591593, 5269446, 5645645, 3831797, 5066552, 4218295, 7476679, 5770694, 7930010, 12038200, 6866567, 8087193, 6716709, 4655617, 3977313, 5113983, 5773181, 3609870, 4335985, 4121875, 5123626, 6126087, 5387897, 6235118, 6479073, 7147080, 7808489, 9817850, 10399940, 9645218, 10917130, 8917265]}, {\"line\": {\"color\": \"rgba(50, 171, 96, 1.0)\", \"dash\": \"solid\", \"shape\": \"linear\", \"width\": 1.3}, \"mode\": \"lines\", \"name\": \"Facebook\", \"text\": \"\", \"type\": \"scatter\", \"x\": [\"8/28/2020\", \"8/27/2020\", \"8/26/2020\", \"8/25/2020\", \"8/24/2020\", \"8/21/2020\", \"8/20/2020\", \"8/19/2020\", \"8/18/2020\", \"8/17/2020\", \"8/14/2020\", \"8/13/2020\", \"8/12/2020\", \"8/11/2020\", \"8/10/2020\", \"8/7/2020\", \"8/6/2020\", \"8/5/2020\", \"8/4/2020\", \"8/3/2020\", \"7/31/2020\", \"7/30/2020\", \"7/29/2020\", \"7/28/2020\", \"7/27/2020\", \"7/24/2020\", \"7/23/2020\", \"7/22/2020\", \"7/21/2020\", \"7/20/2020\", \"7/17/2020\", \"7/16/2020\", \"7/15/2020\", \"7/14/2020\", \"7/13/2020\", \"7/10/2020\", \"7/9/2020\", \"7/8/2020\", \"7/7/2020\", \"7/6/2020\", \"7/2/2020\", \"7/1/2020\", \"6/30/2020\", \"6/29/2020\", \"6/26/2020\", \"6/25/2020\", \"6/24/2020\", \"6/23/2020\", \"6/22/2020\", \"6/19/2020\", \"6/18/2020\", \"6/17/2020\", \"6/16/2020\", \"6/15/2020\", \"6/12/2020\", \"6/11/2020\", \"6/10/2020\", \"6/9/2020\", \"6/8/2020\", \"6/5/2020\", \"6/4/2020\", \"6/3/2020\", \"6/2/2020\", \"6/1/2020\", \"5/29/2020\", \"5/28/2020\", \"5/27/2020\", \"5/26/2020\", \"5/22/2020\", \"5/21/2020\", \"5/20/2020\", \"5/19/2020\", \"5/18/2020\", \"5/15/2020\", \"5/14/2020\", \"5/13/2020\", \"5/12/2020\", \"5/11/2020\", \"5/8/2020\", \"5/7/2020\", \"5/6/2020\", \"5/5/2020\", \"5/4/2020\", \"5/1/2020\", \"4/30/2020\", \"4/29/2020\", \"4/28/2020\", \"4/27/2020\", \"4/24/2020\", \"4/23/2020\", \"4/22/2020\", \"4/21/2020\", \"4/20/2020\", \"4/17/2020\", \"4/16/2020\", \"4/15/2020\", \"4/14/2020\", \"4/13/2020\", \"4/9/2020\", \"4/8/2020\", \"4/7/2020\", \"4/6/2020\", \"4/3/2020\", \"4/2/2020\", \"4/1/2020\", \"3/31/2020\", \"3/30/2020\", \"3/27/2020\", \"3/26/2020\", \"3/25/2020\", \"3/24/2020\", \"3/23/2020\", \"3/20/2020\", \"3/19/2020\", \"3/18/2020\", \"3/17/2020\", \"3/16/2020\"], \"y\": [17172420, 30301310, 69015150, 42127240, 23685600, 15538620, 20299690, 23291460, 18690380, 13351060, 14792710, 17373970, 21428330, 28238280, 30248830, 72766360, 45241610, 13088360, 17183530, 23134100, 53030040, 20615310, 13588320, 14170110, 13163080, 18325810, 21771800, 15427890, 19409690, 20872220, 18152410, 18880710, 19133560, 23378060, 24674870, 22982720, 22174900, 29791340, 27887790, 26206160, 30633620, 43399740, 33927070, 58514280, 76343940, 18704340, 20834900, 24017920, 18917780, 30081290, 15782450, 19578130, 15236690, 15340260, 22091390, 26708160, 20720710, 27462870, 15466500, 16750440, 17041480, 15380280, 20919020, 18223840, 23322480, 29423010, 34697550, 33178320, 33925560, 47782640, 50162880, 31843150, 20167440, 19383150, 17178950, 20684560, 14704650, 12911950, 12524050, 15151980, 21856960, 21071220, 19250670, 30415580, 46230120, 45954520, 21730990, 29197750, 28868530, 21426600, 33369930, 24850530, 16110580, 20974750, 23593230, 17423000, 21011820, 19355360, 23534290, 21664200, 31411920, 28453580, 25983320, 20886310, 19507560, 23676280, 22515230, 24879870, 26579020, 35184270, 30440370, 29830770, 32568400, 39862310, 37553140, 34255600, 39120420]}, {\"line\": {\"color\": \"rgba(128, 0, 128, 1.0)\", \"dash\": \"solid\", \"shape\": \"linear\", \"width\": 1.3}, \"mode\": \"lines\", \"name\": \"Microsoft\", \"text\": \"\", \"type\": \"scatter\", \"x\": [\"8/28/2020\", \"8/27/2020\", \"8/26/2020\", \"8/25/2020\", \"8/24/2020\", \"8/21/2020\", \"8/20/2020\", \"8/19/2020\", \"8/18/2020\", \"8/17/2020\", \"8/14/2020\", \"8/13/2020\", \"8/12/2020\", \"8/11/2020\", \"8/10/2020\", \"8/7/2020\", \"8/6/2020\", \"8/5/2020\", \"8/4/2020\", \"8/3/2020\", \"7/31/2020\", \"7/30/2020\", \"7/29/2020\", \"7/28/2020\", \"7/27/2020\", \"7/24/2020\", \"7/23/2020\", \"7/22/2020\", \"7/21/2020\", \"7/20/2020\", \"7/17/2020\", \"7/16/2020\", \"7/15/2020\", \"7/14/2020\", \"7/13/2020\", \"7/10/2020\", \"7/9/2020\", \"7/8/2020\", \"7/7/2020\", \"7/6/2020\", \"7/2/2020\", \"7/1/2020\", \"6/30/2020\", \"6/29/2020\", \"6/26/2020\", \"6/25/2020\", \"6/24/2020\", \"6/23/2020\", \"6/22/2020\", \"6/19/2020\", \"6/18/2020\", \"6/17/2020\", \"6/16/2020\", \"6/15/2020\", \"6/12/2020\", \"6/11/2020\", \"6/10/2020\", \"6/9/2020\", \"6/8/2020\", \"6/5/2020\", \"6/4/2020\", \"6/3/2020\", \"6/2/2020\", \"6/1/2020\", \"5/29/2020\", \"5/28/2020\", \"5/27/2020\", \"5/26/2020\", \"5/22/2020\", \"5/21/2020\", \"5/20/2020\", \"5/19/2020\", \"5/18/2020\", \"5/15/2020\", \"5/14/2020\", \"5/13/2020\", \"5/12/2020\", \"5/11/2020\", \"5/8/2020\", \"5/7/2020\", \"5/6/2020\", \"5/5/2020\", \"5/4/2020\", \"5/1/2020\", \"4/30/2020\", \"4/29/2020\", \"4/28/2020\", \"4/27/2020\", \"4/24/2020\", \"4/23/2020\", \"4/22/2020\", \"4/21/2020\", \"4/20/2020\", \"4/17/2020\", \"4/16/2020\", \"4/15/2020\", \"4/14/2020\", \"4/13/2020\", \"4/9/2020\", \"4/8/2020\", \"4/7/2020\", \"4/6/2020\", \"4/3/2020\", \"4/2/2020\", \"4/1/2020\", \"3/31/2020\", \"3/30/2020\", \"3/27/2020\", \"3/26/2020\", \"3/25/2020\", \"3/24/2020\", \"3/23/2020\", \"3/20/2020\", \"3/19/2020\", \"3/18/2020\", \"3/17/2020\", \"3/16/2020\"], \"y\": [26292900, 57602200, 39600830, 23043700, 25460150, 36249320, 26981480, 27627560, 21336170, 20184760, 17958940, 22588870, 28041360, 36446460, 36716460, 27820420, 32656840, 28858620, 49280060, 78983010, 51247970, 25079600, 19632600, 23251390, 30160870, 39826990, 67457040, 49605690, 38105780, 36884840, 31635280, 29940650, 32179410, 37591820, 38135610, 26177630, 33121680, 33600030, 33600730, 31897630, 29315760, 32061210, 34310280, 26701590, 54675780, 27803930, 36740650, 30917450, 32818930, 44441140, 23061650, 25687820, 42556660, 32770190, 43373590, 52854670, 43872330, 29783920, 33211590, 39893640, 28761810, 27311020, 30794590, 22668820, 42146720, 33831820, 39517150, 36073610, 20826900, 29119510, 31261330, 26799120, 35306620, 46610380, 41873910, 44711490, 32038200, 30892660, 30912640, 28315990, 32139300, 36839170, 30372860, 39370470, 53875860, 51286560, 34392690, 33194380, 34305320, 32790800, 34651600, 56203750, 36669560, 52765630, 50479610, 40940830, 52874340, 41905260, 51431780, 48318230, 62769040, 67111700, 41243280, 49630740, 57969930, 77927190, 63420330, 57042290, 64694430, 75638220, 82516730, 78975180, 84866220, 85922660, 81593170, 81059820, 87905870]}, {\"line\": {\"color\": \"rgba(219, 64, 82, 1.0)\", \"dash\": \"solid\", \"shape\": \"linear\", \"width\": 1.3}, \"mode\": \"lines\", \"name\": \"Tesla\", \"text\": \"\", \"type\": \"scatter\", \"x\": [\"8/28/2020\", \"8/27/2020\", \"8/26/2020\", \"8/25/2020\", \"8/24/2020\", \"8/21/2020\", \"8/20/2020\", \"8/19/2020\", \"8/18/2020\", \"8/17/2020\", \"8/14/2020\", \"8/13/2020\", \"8/12/2020\", \"8/11/2020\", \"8/10/2020\", \"8/7/2020\", \"8/6/2020\", \"8/5/2020\", \"8/4/2020\", \"8/3/2020\", \"7/31/2020\", \"7/30/2020\", \"7/29/2020\", \"7/28/2020\", \"7/27/2020\", \"7/24/2020\", \"7/23/2020\", \"7/22/2020\", \"7/21/2020\", \"7/20/2020\", \"7/17/2020\", \"7/16/2020\", \"7/15/2020\", \"7/14/2020\", \"7/13/2020\", \"7/10/2020\", \"7/9/2020\", \"7/8/2020\", \"7/7/2020\", \"7/6/2020\", \"7/2/2020\", \"7/1/2020\", \"6/30/2020\", \"6/29/2020\", \"6/26/2020\", \"6/25/2020\", \"6/24/2020\", \"6/23/2020\", \"6/22/2020\", \"6/19/2020\", \"6/18/2020\", \"6/17/2020\", \"6/16/2020\", \"6/15/2020\", \"6/12/2020\", \"6/11/2020\", \"6/10/2020\", \"6/9/2020\", \"6/8/2020\", \"6/5/2020\", \"6/4/2020\", \"6/3/2020\", \"6/2/2020\", \"6/1/2020\", \"5/29/2020\", \"5/28/2020\", \"5/27/2020\", \"5/26/2020\", \"5/22/2020\", \"5/21/2020\", \"5/20/2020\", \"5/19/2020\", \"5/18/2020\", \"5/15/2020\", \"5/14/2020\", \"5/13/2020\", \"5/12/2020\", \"5/11/2020\", \"5/8/2020\", \"5/7/2020\", \"5/6/2020\", \"5/5/2020\", \"5/4/2020\", \"5/1/2020\", \"4/30/2020\", \"4/29/2020\", \"4/28/2020\", \"4/27/2020\", \"4/24/2020\", \"4/23/2020\", \"4/22/2020\", \"4/21/2020\", \"4/20/2020\", \"4/17/2020\", \"4/16/2020\", \"4/15/2020\", \"4/14/2020\", \"4/13/2020\", \"4/9/2020\", \"4/8/2020\", \"4/7/2020\", \"4/6/2020\", \"4/3/2020\", \"4/2/2020\", \"4/1/2020\", \"3/31/2020\", \"3/30/2020\", \"3/27/2020\", \"3/26/2020\", \"3/25/2020\", \"3/24/2020\", \"3/23/2020\", \"3/20/2020\", \"3/19/2020\", \"3/18/2020\", \"3/17/2020\", \"3/16/2020\"], \"y\": [20081180, 23693040, 14239380, 10658890, 20063620, 21489560, 20611800, 12205330, 16474490, 20242320, 12577610, 20425310, 21898830, 8625834, 7522264, 8896420, 5992313, 4978015, 8414990, 8809346, 12246960, 7621039, 9426893, 15808700, 16048670, 19396620, 24328500, 14161080, 16157280, 17121370, 9329972, 14300790, 16367830, 23418140, 38985360, 23337550, 11717600, 16311310, 21489660, 20569860, 17250120, 13326900, 16918500, 9026404, 8854908, 9254549, 10959590, 6365271, 6362350, 8679749, 9751936, 9890800, 14051080, 15697180, 16763370, 15916480, 18563410, 11388150, 14174730, 7811917, 8887713, 7949469, 13565600, 15085300, 11812490, 7275774, 11549530, 8089736, 9987475, 12254580, 7309271, 9636522, 11698100, 10518430, 13682190, 19065490, 15906910, 16519600, 16130090, 11527690, 11123230, 16991660, 19237090, 32531810, 28471850, 16215980, 15221960, 20681440, 13237610, 13236700, 14224830, 20209090, 14746370, 13128230, 20657860, 23577000, 30576510, 22475420, 13650000, 12656020, 17919780, 14901840, 22562080, 19858430, 13353180, 17771490, 11998070, 14377410, 17422080, 21222750, 22895170, 16454550, 28285500, 30195460, 23786160, 23994580, 20489460]}],                        {\"legend\": {\"bgcolor\": \"#F5F6F9\", \"font\": {\"color\": \"#4D5663\"}}, \"paper_bgcolor\": \"#F5F6F9\", \"plot_bgcolor\": \"#F5F6F9\", \"template\": {\"data\": {\"bar\": [{\"error_x\": {\"color\": \"#2a3f5f\"}, \"error_y\": {\"color\": \"#2a3f5f\"}, \"marker\": {\"line\": {\"color\": \"#E5ECF6\", \"width\": 0.5}}, \"type\": \"bar\"}], \"barpolar\": [{\"marker\": {\"line\": {\"color\": \"#E5ECF6\", \"width\": 0.5}}, \"type\": \"barpolar\"}], \"carpet\": [{\"aaxis\": {\"endlinecolor\": \"#2a3f5f\", \"gridcolor\": \"white\", \"linecolor\": \"white\", \"minorgridcolor\": \"white\", \"startlinecolor\": \"#2a3f5f\"}, \"baxis\": {\"endlinecolor\": \"#2a3f5f\", \"gridcolor\": \"white\", \"linecolor\": \"white\", \"minorgridcolor\": \"white\", \"startlinecolor\": \"#2a3f5f\"}, \"type\": \"carpet\"}], \"choropleth\": [{\"colorbar\": {\"outlinewidth\": 0, \"ticks\": \"\"}, \"type\": \"choropleth\"}], \"contour\": [{\"colorbar\": {\"outlinewidth\": 0, \"ticks\": \"\"}, \"colorscale\": [[0.0, \"#0d0887\"], [0.1111111111111111, \"#46039f\"], [0.2222222222222222, \"#7201a8\"], [0.3333333333333333, \"#9c179e\"], [0.4444444444444444, \"#bd3786\"], [0.5555555555555556, \"#d8576b\"], [0.6666666666666666, \"#ed7953\"], [0.7777777777777778, \"#fb9f3a\"], [0.8888888888888888, \"#fdca26\"], [1.0, \"#f0f921\"]], \"type\": \"contour\"}], \"contourcarpet\": [{\"colorbar\": {\"outlinewidth\": 0, \"ticks\": \"\"}, \"type\": \"contourcarpet\"}], \"heatmap\": [{\"colorbar\": {\"outlinewidth\": 0, \"ticks\": \"\"}, \"colorscale\": [[0.0, \"#0d0887\"], [0.1111111111111111, \"#46039f\"], [0.2222222222222222, \"#7201a8\"], [0.3333333333333333, \"#9c179e\"], [0.4444444444444444, \"#bd3786\"], [0.5555555555555556, \"#d8576b\"], [0.6666666666666666, \"#ed7953\"], [0.7777777777777778, \"#fb9f3a\"], [0.8888888888888888, \"#fdca26\"], [1.0, \"#f0f921\"]], \"type\": \"heatmap\"}], \"heatmapgl\": [{\"colorbar\": {\"outlinewidth\": 0, \"ticks\": \"\"}, \"colorscale\": [[0.0, \"#0d0887\"], [0.1111111111111111, \"#46039f\"], [0.2222222222222222, \"#7201a8\"], [0.3333333333333333, \"#9c179e\"], [0.4444444444444444, \"#bd3786\"], [0.5555555555555556, \"#d8576b\"], [0.6666666666666666, \"#ed7953\"], [0.7777777777777778, \"#fb9f3a\"], [0.8888888888888888, \"#fdca26\"], [1.0, \"#f0f921\"]], \"type\": \"heatmapgl\"}], \"histogram\": [{\"marker\": {\"colorbar\": {\"outlinewidth\": 0, \"ticks\": \"\"}}, \"type\": \"histogram\"}], \"histogram2d\": [{\"colorbar\": {\"outlinewidth\": 0, \"ticks\": \"\"}, \"colorscale\": [[0.0, \"#0d0887\"], [0.1111111111111111, \"#46039f\"], [0.2222222222222222, \"#7201a8\"], [0.3333333333333333, \"#9c179e\"], [0.4444444444444444, \"#bd3786\"], [0.5555555555555556, \"#d8576b\"], [0.6666666666666666, \"#ed7953\"], [0.7777777777777778, \"#fb9f3a\"], [0.8888888888888888, \"#fdca26\"], [1.0, \"#f0f921\"]], \"type\": \"histogram2d\"}], \"histogram2dcontour\": [{\"colorbar\": {\"outlinewidth\": 0, \"ticks\": \"\"}, \"colorscale\": [[0.0, \"#0d0887\"], [0.1111111111111111, \"#46039f\"], [0.2222222222222222, \"#7201a8\"], [0.3333333333333333, \"#9c179e\"], [0.4444444444444444, \"#bd3786\"], [0.5555555555555556, \"#d8576b\"], [0.6666666666666666, \"#ed7953\"], [0.7777777777777778, \"#fb9f3a\"], [0.8888888888888888, \"#fdca26\"], [1.0, \"#f0f921\"]], \"type\": \"histogram2dcontour\"}], \"mesh3d\": [{\"colorbar\": {\"outlinewidth\": 0, \"ticks\": \"\"}, \"type\": \"mesh3d\"}], \"parcoords\": [{\"line\": {\"colorbar\": {\"outlinewidth\": 0, \"ticks\": \"\"}}, \"type\": \"parcoords\"}], \"pie\": [{\"automargin\": true, \"type\": \"pie\"}], \"scatter\": [{\"marker\": {\"colorbar\": {\"outlinewidth\": 0, \"ticks\": \"\"}}, \"type\": \"scatter\"}], \"scatter3d\": [{\"line\": {\"colorbar\": {\"outlinewidth\": 0, \"ticks\": \"\"}}, \"marker\": {\"colorbar\": {\"outlinewidth\": 0, \"ticks\": \"\"}}, \"type\": \"scatter3d\"}], \"scattercarpet\": [{\"marker\": {\"colorbar\": {\"outlinewidth\": 0, \"ticks\": \"\"}}, \"type\": \"scattercarpet\"}], \"scattergeo\": [{\"marker\": {\"colorbar\": {\"outlinewidth\": 0, \"ticks\": \"\"}}, \"type\": \"scattergeo\"}], \"scattergl\": [{\"marker\": {\"colorbar\": {\"outlinewidth\": 0, \"ticks\": \"\"}}, \"type\": \"scattergl\"}], \"scattermapbox\": [{\"marker\": {\"colorbar\": {\"outlinewidth\": 0, \"ticks\": \"\"}}, \"type\": \"scattermapbox\"}], \"scatterpolar\": [{\"marker\": {\"colorbar\": {\"outlinewidth\": 0, \"ticks\": \"\"}}, \"type\": \"scatterpolar\"}], \"scatterpolargl\": [{\"marker\": {\"colorbar\": {\"outlinewidth\": 0, \"ticks\": \"\"}}, \"type\": \"scatterpolargl\"}], \"scatterternary\": [{\"marker\": {\"colorbar\": {\"outlinewidth\": 0, \"ticks\": \"\"}}, \"type\": \"scatterternary\"}], \"surface\": [{\"colorbar\": {\"outlinewidth\": 0, \"ticks\": \"\"}, \"colorscale\": [[0.0, \"#0d0887\"], [0.1111111111111111, \"#46039f\"], [0.2222222222222222, \"#7201a8\"], [0.3333333333333333, \"#9c179e\"], [0.4444444444444444, \"#bd3786\"], [0.5555555555555556, \"#d8576b\"], [0.6666666666666666, \"#ed7953\"], [0.7777777777777778, \"#fb9f3a\"], [0.8888888888888888, \"#fdca26\"], [1.0, \"#f0f921\"]], \"type\": \"surface\"}], \"table\": [{\"cells\": {\"fill\": {\"color\": \"#EBF0F8\"}, \"line\": {\"color\": \"white\"}}, \"header\": {\"fill\": {\"color\": \"#C8D4E3\"}, \"line\": {\"color\": \"white\"}}, \"type\": \"table\"}]}, \"layout\": {\"annotationdefaults\": {\"arrowcolor\": \"#2a3f5f\", \"arrowhead\": 0, \"arrowwidth\": 1}, \"coloraxis\": {\"colorbar\": {\"outlinewidth\": 0, \"ticks\": \"\"}}, \"colorscale\": {\"diverging\": [[0, \"#8e0152\"], [0.1, \"#c51b7d\"], [0.2, \"#de77ae\"], [0.3, \"#f1b6da\"], [0.4, \"#fde0ef\"], [0.5, \"#f7f7f7\"], [0.6, \"#e6f5d0\"], [0.7, \"#b8e186\"], [0.8, \"#7fbc41\"], [0.9, \"#4d9221\"], [1, \"#276419\"]], \"sequential\": [[0.0, \"#0d0887\"], [0.1111111111111111, \"#46039f\"], [0.2222222222222222, \"#7201a8\"], [0.3333333333333333, \"#9c179e\"], [0.4444444444444444, \"#bd3786\"], [0.5555555555555556, \"#d8576b\"], [0.6666666666666666, \"#ed7953\"], [0.7777777777777778, \"#fb9f3a\"], [0.8888888888888888, \"#fdca26\"], [1.0, \"#f0f921\"]], \"sequentialminus\": [[0.0, \"#0d0887\"], [0.1111111111111111, \"#46039f\"], [0.2222222222222222, \"#7201a8\"], [0.3333333333333333, \"#9c179e\"], [0.4444444444444444, \"#bd3786\"], [0.5555555555555556, \"#d8576b\"], [0.6666666666666666, \"#ed7953\"], [0.7777777777777778, \"#fb9f3a\"], [0.8888888888888888, \"#fdca26\"], [1.0, \"#f0f921\"]]}, \"colorway\": [\"#636efa\", \"#EF553B\", \"#00cc96\", \"#ab63fa\", \"#FFA15A\", \"#19d3f3\", \"#FF6692\", \"#B6E880\", \"#FF97FF\", \"#FECB52\"], \"font\": {\"color\": \"#2a3f5f\"}, \"geo\": {\"bgcolor\": \"white\", \"lakecolor\": \"white\", \"landcolor\": \"#E5ECF6\", \"showlakes\": true, \"showland\": true, \"subunitcolor\": \"white\"}, \"hoverlabel\": {\"align\": \"left\"}, \"hovermode\": \"closest\", \"mapbox\": {\"style\": \"light\"}, \"paper_bgcolor\": \"white\", \"plot_bgcolor\": \"#E5ECF6\", \"polar\": {\"angularaxis\": {\"gridcolor\": \"white\", \"linecolor\": \"white\", \"ticks\": \"\"}, \"bgcolor\": \"#E5ECF6\", \"radialaxis\": {\"gridcolor\": \"white\", \"linecolor\": \"white\", \"ticks\": \"\"}}, \"scene\": {\"xaxis\": {\"backgroundcolor\": \"#E5ECF6\", \"gridcolor\": \"white\", \"gridwidth\": 2, \"linecolor\": \"white\", \"showbackground\": true, \"ticks\": \"\", \"zerolinecolor\": \"white\"}, \"yaxis\": {\"backgroundcolor\": \"#E5ECF6\", \"gridcolor\": \"white\", \"gridwidth\": 2, \"linecolor\": \"white\", \"showbackground\": true, \"ticks\": \"\", \"zerolinecolor\": \"white\"}, \"zaxis\": {\"backgroundcolor\": \"#E5ECF6\", \"gridcolor\": \"white\", \"gridwidth\": 2, \"linecolor\": \"white\", \"showbackground\": true, \"ticks\": \"\", \"zerolinecolor\": \"white\"}}, \"shapedefaults\": {\"line\": {\"color\": \"#2a3f5f\"}}, \"ternary\": {\"aaxis\": {\"gridcolor\": \"white\", \"linecolor\": \"white\", \"ticks\": \"\"}, \"baxis\": {\"gridcolor\": \"white\", \"linecolor\": \"white\", \"ticks\": \"\"}, \"bgcolor\": \"#E5ECF6\", \"caxis\": {\"gridcolor\": \"white\", \"linecolor\": \"white\", \"ticks\": \"\"}}, \"title\": {\"x\": 0.05}, \"xaxis\": {\"automargin\": true, \"gridcolor\": \"white\", \"linecolor\": \"white\", \"ticks\": \"\", \"title\": {\"standoff\": 15}, \"zerolinecolor\": \"white\", \"zerolinewidth\": 2}, \"yaxis\": {\"automargin\": true, \"gridcolor\": \"white\", \"linecolor\": \"white\", \"ticks\": \"\", \"title\": {\"standoff\": 15}, \"zerolinecolor\": \"white\", \"zerolinewidth\": 2}}}, \"title\": {\"font\": {\"color\": \"#4D5663\"}}, \"xaxis\": {\"gridcolor\": \"#E1E5ED\", \"showgrid\": true, \"tickfont\": {\"color\": \"#4D5663\"}, \"title\": {\"font\": {\"color\": \"#4D5663\"}, \"text\": \"\"}, \"zerolinecolor\": \"#E1E5ED\"}, \"yaxis\": {\"gridcolor\": \"#E1E5ED\", \"showgrid\": true, \"tickfont\": {\"color\": \"#4D5663\"}, \"title\": {\"font\": {\"color\": \"#4D5663\"}, \"text\": \"\"}, \"zerolinecolor\": \"#E1E5ED\"}},                        {\"showLink\": true, \"linkText\": \"Export to plot.ly\", \"plotlyServerURL\": \"https://plot.ly\", \"responsive\": true}                    ).then(function(){\n",
       "                            \n",
       "var gd = document.getElementById('ba1a4552-22ec-4a02-97f8-56af1b361c6e');\n",
       "var x = new MutationObserver(function (mutations, observer) {{\n",
       "        var display = window.getComputedStyle(gd).display;\n",
       "        if (!display || display === 'none') {{\n",
       "            console.log([gd, 'removed!']);\n",
       "            Plotly.purge(gd);\n",
       "            observer.disconnect();\n",
       "        }}\n",
       "}});\n",
       "\n",
       "// Listen for the removal of the full notebook cells\n",
       "var notebookContainer = gd.closest('#notebook-container');\n",
       "if (notebookContainer) {{\n",
       "    x.observe(notebookContainer, {childList: true});\n",
       "}}\n",
       "\n",
       "// Listen for the clearing of the current output cell\n",
       "var outputEl = gd.closest('.output');\n",
       "if (outputEl) {{\n",
       "    x.observe(outputEl, {childList: true});\n",
       "}}\n",
       "\n",
       "                        })                };                });            </script>        </div>"
      ]
     },
     "metadata": {},
     "output_type": "display_data"
    }
   ],
   "source": [
    "stock_data.xs(key='Open',axis=1,level='Stock Info').iplot()\n",
    "stock_data.xs(key='Close',axis=1,level='Stock Info').iplot()\n",
    "stock_data.xs(key='Volume',axis=1,level='Stock Info').iplot()"
   ]
  },
  {
   "cell_type": "code",
   "execution_count": 39,
   "metadata": {},
   "outputs": [
    {
     "data": {
      "text/plain": [
       "<matplotlib.axes._subplots.AxesSubplot at 0x17f61923b48>"
      ]
     },
     "execution_count": 39,
     "metadata": {},
     "output_type": "execute_result"
    },
    {
     "data": {
      "image/png": "[encoded data removed]",
      "text/plain": [
       "<Figure size 432x288 with 2 Axes>"
      ]
     },
     "metadata": {
      "needs_background": "light"
     },
     "output_type": "display_data"
    }
   ],
   "source": [
    "sns.heatmap(stock_data.xs(key='Open',axis=1,level='Stock Info').corr(),annot=True)"
   ]
  },
  {
   "cell_type": "code",
   "execution_count": 40,
   "metadata": {
    "scrolled": true
   },
   "outputs": [
    {
     "data": {
      "text/plain": [
       "<seaborn.matrix.ClusterGrid at 0x17f60466f08>"
      ]
     },
     "execution_count": 40,
     "metadata": {},
     "output_type": "execute_result"
    },
    {
     "data": {
      "image/png": "[encoded data removed]",
      "text/plain": [
       "<Figure size 720x720 with 4 Axes>"
      ]
     },
     "metadata": {
      "needs_background": "light"
     },
     "output_type": "display_data"
    }
   ],
   "source": [
    "sns.clustermap(stock_data.xs(key='Open',axis=1,level='Stock Info').corr(),annot=True)"
   ]
  },
  {
   "cell_type": "code",
   "execution_count": 41,
   "metadata": {},
   "outputs": [],
   "source": [
    "import plotly.graph_objects as go\n",
    "from datetime import datetime"
   ]
  },
  {
   "cell_type": "code",
   "execution_count": 44,
   "metadata": {},
   "outputs": [
    {
     "data": {
      "application/vnd.plotly.v1+json": {
       "config": {
        "plotlyServerURL": "https://plot.ly"
       },
       "data": [
        {
         "close": [
          499.23,
          500.04,
          506.09,
          499.3,
          503.43,
          497.48,
          473.1,
          462.83,
          462.25,
          458.43,
          459.63,
          460.04,
          452.04,
          437.5,
          450.91,
          444.45,
          455.61,
          440.25,
          438.66,
          435.75,
          425.04,
          384.76,
          380.16,
          373.01,
          379.24,
          370.46,
          371.38,
          389.09,
          388,
          393.43,
          385.31,
          386.09,
          390.9,
          388.23,
          381.91,
          383.68,
          382.73,
          381.37,
          372.69,
          373.85,
          364.11,
          364.11,
          364.8,
          361.78,
          353.63,
          364.84,
          360.06,
          366.53,
          358.87,
          349.72,
          351.73,
          351.59,
          352.08,
          342.99,
          338.8,
          335.9,
          352.84,
          343.99,
          333.46,
          331.5,
          322.32,
          325.12,
          323.34,
          321.85,
          317.94,
          318.25,
          318.11,
          316.73,
          318.89,
          316.85,
          319.23,
          313.14,
          314.96,
          307.71,
          309.54,
          307.65,
          311.41,
          315.01,
          310.13,
          303.74,
          300.63,
          297.56,
          293.16,
          289.07,
          293.8,
          287.73,
          278.58,
          283.17,
          282.97,
          275.03,
          276.1,
          268.37,
          276.93,
          282.8,
          286.69,
          284.43,
          287.05,
          273.25,
          267.99,
          266.07,
          259.43,
          262.47,
          241.41,
          244.93,
          240.91,
          254.29,
          254.81,
          247.74,
          258.44,
          245.52,
          246.88,
          224.37,
          229.24,
          244.78,
          246.67,
          252.86,
          242.21
         ],
         "high": [
          505.77,
          509.94,
          507.97,
          500.72,
          515.14,
          499.47,
          473.57,
          468.65,
          464,
          464.35,
          460,
          464.17,
          453.1,
          449.93,
          455.1,
          454.7,
          457.65,
          441.57,
          443.16,
          446.55,
          425.66,
          385.19,
          380.92,
          378.2,
          379.62,
          371.88,
          388.31,
          391.9,
          397,
          394,
          388.59,
          389.62,
          396.99,
          389.02,
          399.82,
          383.92,
          385.27,
          381.5,
          378.62,
          375.78,
          370.47,
          367.36,
          365.98,
          362.17,
          365.32,
          365,
          368.79,
          372.38,
          359.46,
          356.56,
          353.45,
          355.4,
          353.2,
          345.68,
          347.8,
          351.06,
          354.77,
          345.61,
          333.6,
          331.75,
          325.62,
          326.2,
          323.44,
          322.35,
          321.15,
          323.44,
          318.71,
          324.24,
          319.23,
          320.89,
          319.52,
          318.52,
          316.5,
          307.9,
          309.79,
          315.95,
          319.69,
          317.05,
          310.35,
          305.17,
          303.24,
          301,
          293.69,
          299,
          294.53,
          289.67,
          285.83,
          284.54,
          283.01,
          281.75,
          277.9,
          277.25,
          281.68,
          286.95,
          288.2,
          286.33,
          288.25,
          273.7,
          270.07,
          267.37,
          271.7,
          263.11,
          245.7,
          245.15,
          248.72,
          262.49,
          255.52,
          255.87,
          258.68,
          258.25,
          247.69,
          228.5,
          251.83,
          252.84,
          250,
          257.61,
          259.08
         ],
         "low": [
          498.31,
          495.33,
          500.33,
          492.21,
          495.75,
          477,
          462.93,
          462.44,
          456.03,
          455.85,
          452.18,
          455.71,
          441.19,
          436.43,
          440,
          441.17,
          439.19,
          435.59,
          433.55,
          431.57,
          403.3,
          375.07,
          374.85,
          372.99,
          373.92,
          356.58,
          368.04,
          386.41,
          386.97,
          384.25,
          383.36,
          383.62,
          385.96,
          375.51,
          381.03,
          378.82,
          378.69,
          376.36,
          372.23,
          369.87,
          363.64,
          363.91,
          360,
          351.28,
          353.02,
          357.57,
          358.52,
          362.27,
          351.15,
          345.15,
          349.22,
          351.09,
          344.72,
          332.58,
          334.22,
          335.48,
          346.09,
          332.01,
          327.32,
          323.23,
          320.78,
          322.3,
          318.93,
          317.21,
          316.47,
          315.63,
          313.09,
          316.5,
          315.35,
          315.87,
          316.2,
          313.01,
          310.32,
          300.21,
          301.53,
          303.21,
          310.91,
          307.24,
          304.29,
          301.97,
          298.87,
          294.46,
          286.32,
          285.85,
          288.35,
          283.89,
          278.2,
          279.95,
          277,
          274.87,
          272.2,
          265.43,
          276.85,
          276.86,
          282.35,
          280.63,
          278.05,
          265.83,
          264.7,
          261.23,
          259,
          249.38,
          238.97,
          236.9,
          239.13,
          252,
          249.4,
          247.05,
          246.36,
          244.3,
          234.3,
          212.61,
          228,
          242.61,
          237.12,
          238.4,
          240
         ],
         "open": [
          504.05,
          508.57,
          504.72,
          498.79,
          514.79,
          477.05,
          463,
          463.93,
          457.41,
          464.25,
          459.32,
          457.72,
          441.99,
          447.88,
          450.4,
          452.82,
          441.62,
          437.51,
          436.53,
          432.8,
          411.54,
          376.75,
          375,
          377.47,
          374.84,
          363.95,
          387.99,
          386.77,
          396.69,
          385.67,
          387.95,
          386.25,
          395.96,
          379.36,
          389.06,
          381.34,
          385.05,
          376.72,
          375.41,
          370,
          367.85,
          365.12,
          360.08,
          353.25,
          364.41,
          360.7,
          365,
          364,
          351.34,
          354.64,
          351.41,
          355.15,
          351.46,
          333.25,
          344.72,
          349.31,
          347.9,
          332.14,
          330.25,
          323.35,
          324.39,
          324.66,
          320.75,
          317.75,
          319.25,
          316.77,
          316.14,
          323.5,
          315.77,
          318.66,
          316.68,
          315.03,
          313.17,
          300.35,
          304.51,
          312.15,
          317.83,
          308.1,
          305.64,
          303.22,
          300.46,
          295.06,
          289.17,
          286.25,
          289.96,
          284.73,
          285.08,
          281.8,
          277.2,
          275.87,
          273.61,
          276.28,
          277.95,
          284.69,
          287.38,
          282.4,
          280,
          268.31,
          268.7,
          262.74,
          270.8,
          250.9,
          242.8,
          240.34,
          246.5,
          255.6,
          250.74,
          252.75,
          246.52,
          250.75,
          236.36,
          228.08,
          247.18,
          247.39,
          239.77,
          247.51,
          241.95
         ],
         "type": "candlestick",
         "x": [
          "8/28/2020",
          "8/27/2020",
          "8/26/2020",
          "8/25/2020",
          "8/24/2020",
          "8/21/2020",
          "8/20/2020",
          "8/19/2020",
          "8/18/2020",
          "8/17/2020",
          "8/14/2020",
          "8/13/2020",
          "8/12/2020",
          "8/11/2020",
          "8/10/2020",
          "8/7/2020",
          "8/6/2020",
          "8/5/2020",
          "8/4/2020",
          "8/3/2020",
          "7/31/2020",
          "7/30/2020",
          "7/29/2020",
          "7/28/2020",
          "7/27/2020",
          "7/24/2020",
          "7/23/2020",
          "7/22/2020",
          "7/21/2020",
          "7/20/2020",
          "7/17/2020",
          "7/16/2020",
          "7/15/2020",
          "7/14/2020",
          "7/13/2020",
          "7/10/2020",
          "7/9/2020",
          "7/8/2020",
          "7/7/2020",
          "7/6/2020",
          "7/2/2020",
          "7/1/2020",
          "6/30/2020",
          "6/29/2020",
          "6/26/2020",
          "6/25/2020",
          "6/24/2020",
          "6/23/2020",
          "6/22/2020",
          "6/19/2020",
          "6/18/2020",
          "6/17/2020",
          "6/16/2020",
          "6/15/2020",
          "6/12/2020",
          "6/11/2020",
          "6/10/2020",
          "6/9/2020",
          "6/8/2020",
          "6/5/2020",
          "6/4/2020",
          "6/3/2020",
          "6/2/2020",
          "6/1/2020",
          "5/29/2020",
          "5/28/2020",
          "5/27/2020",
          "5/26/2020",
          "5/22/2020",
          "5/21/2020",
          "5/20/2020",
          "5/19/2020",
          "5/18/2020",
          "5/15/2020",
          "5/14/2020",
          "5/13/2020",
          "5/12/2020",
          "5/11/2020",
          "5/8/2020",
          "5/7/2020",
          "5/6/2020",
          "5/5/2020",
          "5/4/2020",
          "5/1/2020",
          "4/30/2020",
          "4/29/2020",
          "4/28/2020",
          "4/27/2020",
          "4/24/2020",
          "4/23/2020",
          "4/22/2020",
          "4/21/2020",
          "4/20/2020",
          "4/17/2020",
          "4/16/2020",
          "4/15/2020",
          "4/14/2020",
          "4/13/2020",
          "4/9/2020",
          "4/8/2020",
          "4/7/2020",
          "4/6/2020",
          "4/3/2020",
          "4/2/2020",
          "4/1/2020",
          "3/31/2020",
          "3/30/2020",
          "3/27/2020",
          "3/26/2020",
          "3/25/2020",
          "3/24/2020",
          "3/23/2020",
          "3/20/2020",
          "3/19/2020",
          "3/18/2020",
          "3/17/2020",
          "3/16/2020"
         ]
        }
       ],
       "layout": {
        "template": {
         "data": {
          "bar": [
           {
            "error_x": {
             "color": "#2a3f5f"
            },
            "error_y": {
             "color": "#2a3f5f"
            },
            "marker": {
             "line": {
              "color": "#E5ECF6",
              "width": 0.5
             }
            },
            "type": "bar"
           }
          ],
          "barpolar": [
           {
            "marker": {
             "line": {
              "color": "#E5ECF6",
              "width": 0.5
             }
            },
            "type": "barpolar"
           }
          ],
          "carpet": [
           {
            "aaxis": {
             "endlinecolor": "#2a3f5f",
             "gridcolor": "white",
             "linecolor": "white",
             "minorgridcolor": "white",
             "startlinecolor": "#2a3f5f"
            },
            "baxis": {
             "endlinecolor": "#2a3f5f",
             "gridcolor": "white",
             "linecolor": "white",
             "minorgridcolor": "white",
             "startlinecolor": "#2a3f5f"
            },
            "type": "carpet"
           }
          ],
          "choropleth": [
           {
            "colorbar": {
             "outlinewidth": 0,
             "ticks": ""
            },
            "type": "choropleth"
           }
          ],
          "contour": [
           {
            "colorbar": {
             "outlinewidth": 0,
             "ticks": ""
            },
            "colorscale": [
             [
              0,
              "#0d0887"
             ],
             [
              0.1111111111111111,
              "#46039f"
             ],
             [
              0.2222222222222222,
              "#7201a8"
             ],
             [
              0.3333333333333333,
              "#9c179e"
             ],
             [
              0.4444444444444444,
              "#bd3786"
             ],
             [
              0.5555555555555556,
              "#d8576b"
             ],
             [
              0.6666666666666666,
              "#ed7953"
             ],
             [
              0.7777777777777778,
              "#fb9f3a"
             ],
             [
              0.8888888888888888,
              "#fdca26"
             ],
             [
              1,
              "#f0f921"
             ]
            ],
            "type": "contour"
           }
          ],
          "contourcarpet": [
           {
            "colorbar": {
             "outlinewidth": 0,
             "ticks": ""
            },
            "type": "contourcarpet"
           }
          ],
          "heatmap": [
           {
            "colorbar": {
             "outlinewidth": 0,
             "ticks": ""
            },
            "colorscale": [
             [
              0,
              "#0d0887"
             ],
             [
              0.1111111111111111,
              "#46039f"
             ],
             [
              0.2222222222222222,
              "#7201a8"
             ],
             [
              0.3333333333333333,
              "#9c179e"
             ],
             [
              0.4444444444444444,
              "#bd3786"
             ],
             [
              0.5555555555555556,
              "#d8576b"
             ],
             [
              0.6666666666666666,
              "#ed7953"
             ],
             [
              0.7777777777777778,
              "#fb9f3a"
             ],
             [
              0.8888888888888888,
              "#fdca26"
             ],
             [
              1,
              "#f0f921"
             ]
            ],
            "type": "heatmap"
           }
          ],
          "heatmapgl": [
           {
            "colorbar": {
             "outlinewidth": 0,
             "ticks": ""
            },
            "colorscale": [
             [
              0,
              "#0d0887"
             ],
             [
              0.1111111111111111,
              "#46039f"
             ],
             [
              0.2222222222222222,
              "#7201a8"
             ],
             [
              0.3333333333333333,
              "#9c179e"
             ],
             [
              0.4444444444444444,
              "#bd3786"
             ],
             [
              0.5555555555555556,
              "#d8576b"
             ],
             [
              0.6666666666666666,
              "#ed7953"
             ],
             [
              0.7777777777777778,
              "#fb9f3a"
             ],
             [
              0.8888888888888888,
              "#fdca26"
             ],
             [
              1,
              "#f0f921"
             ]
            ],
            "type": "heatmapgl"
           }
          ],
          "histogram": [
           {
            "marker": {
             "colorbar": {
              "outlinewidth": 0,
              "ticks": ""
             }
            },
            "type": "histogram"
           }
          ],
          "histogram2d": [
           {
            "colorbar": {
             "outlinewidth": 0,
             "ticks": ""
            },
            "colorscale": [
             [
              0,
              "#0d0887"
             ],
             [
              0.1111111111111111,
              "#46039f"
             ],
             [
              0.2222222222222222,
              "#7201a8"
             ],
             [
              0.3333333333333333,
              "#9c179e"
             ],
             [
              0.4444444444444444,
              "#bd3786"
             ],
             [
              0.5555555555555556,
              "#d8576b"
             ],
             [
              0.6666666666666666,
              "#ed7953"
             ],
             [
              0.7777777777777778,
              "#fb9f3a"
             ],
             [
              0.8888888888888888,
              "#fdca26"
             ],
             [
              1,
              "#f0f921"
             ]
            ],
            "type": "histogram2d"
           }
          ],
          "histogram2dcontour": [
           {
            "colorbar": {
             "outlinewidth": 0,
             "ticks": ""
            },
            "colorscale": [
             [
              0,
              "#0d0887"
             ],
             [
              0.1111111111111111,
              "#46039f"
             ],
             [
              0.2222222222222222,
              "#7201a8"
             ],
             [
              0.3333333333333333,
              "#9c179e"
             ],
             [
              0.4444444444444444,
              "#bd3786"
             ],
             [
              0.5555555555555556,
              "#d8576b"
             ],
             [
              0.6666666666666666,
              "#ed7953"
             ],
             [
              0.7777777777777778,
              "#fb9f3a"
             ],
             [
              0.8888888888888888,
              "#fdca26"
             ],
             [
              1,
              "#f0f921"
             ]
            ],
            "type": "histogram2dcontour"
           }
          ],
          "mesh3d": [
           {
            "colorbar": {
             "outlinewidth": 0,
             "ticks": ""
            },
            "type": "mesh3d"
           }
          ],
          "parcoords": [
           {
            "line": {
             "colorbar": {
              "outlinewidth": 0,
              "ticks": ""
             }
            },
            "type": "parcoords"
           }
          ],
          "pie": [
           {
            "automargin": true,
            "type": "pie"
           }
          ],
          "scatter": [
           {
            "marker": {
             "colorbar": {
              "outlinewidth": 0,
              "ticks": ""
             }
            },
            "type": "scatter"
           }
          ],
          "scatter3d": [
           {
            "line": {
             "colorbar": {
              "outlinewidth": 0,
              "ticks": ""
             }
            },
            "marker": {
             "colorbar": {
              "outlinewidth": 0,
              "ticks": ""
             }
            },
            "type": "scatter3d"
           }
          ],
          "scattercarpet": [
           {
            "marker": {
             "colorbar": {
              "outlinewidth": 0,
              "ticks": ""
             }
            },
            "type": "scattercarpet"
           }
          ],
          "scattergeo": [
           {
            "marker": {
             "colorbar": {
              "outlinewidth": 0,
              "ticks": ""
             }
            },
            "type": "scattergeo"
           }
          ],
          "scattergl": [
           {
            "marker": {
             "colorbar": {
              "outlinewidth": 0,
              "ticks": ""
             }
            },
            "type": "scattergl"
           }
          ],
          "scattermapbox": [
           {
            "marker": {
             "colorbar": {
              "outlinewidth": 0,
              "ticks": ""
             }
            },
            "type": "scattermapbox"
           }
          ],
          "scatterpolar": [
           {
            "marker": {
             "colorbar": {
              "outlinewidth": 0,
              "ticks": ""
             }
            },
            "type": "scatterpolar"
           }
          ],
          "scatterpolargl": [
           {
            "marker": {
             "colorbar": {
              "outlinewidth": 0,
              "ticks": ""
             }
            },
            "type": "scatterpolargl"
           }
          ],
          "scatterternary": [
           {
            "marker": {
             "colorbar": {
              "outlinewidth": 0,
              "ticks": ""
             }
            },
            "type": "scatterternary"
           }
          ],
          "surface": [
           {
            "colorbar": {
             "outlinewidth": 0,
             "ticks": ""
            },
            "colorscale": [
             [
              0,
              "#0d0887"
             ],
             [
              0.1111111111111111,
              "#46039f"
             ],
             [
              0.2222222222222222,
              "#7201a8"
             ],
             [
              0.3333333333333333,
              "#9c179e"
             ],
             [
              0.4444444444444444,
              "#bd3786"
             ],
             [
              0.5555555555555556,
              "#d8576b"
             ],
             [
              0.6666666666666666,
              "#ed7953"
             ],
             [
              0.7777777777777778,
              "#fb9f3a"
             ],
             [
              0.8888888888888888,
              "#fdca26"
             ],
             [
              1,
              "#f0f921"
             ]
            ],
            "type": "surface"
           }
          ],
          "table": [
           {
            "cells": {
             "fill": {
              "color": "#EBF0F8"
             },
             "line": {
              "color": "white"
             }
            },
            "header": {
             "fill": {
              "color": "#C8D4E3"
             },
             "line": {
              "color": "white"
             }
            },
            "type": "table"
           }
          ]
         },
         "layout": {
          "annotationdefaults": {
           "arrowcolor": "#2a3f5f",
           "arrowhead": 0,
           "arrowwidth": 1
          },
          "coloraxis": {
           "colorbar": {
            "outlinewidth": 0,
            "ticks": ""
           }
          },
          "colorscale": {
           "diverging": [
            [
             0,
             "#8e0152"
            ],
            [
             0.1,
             "#c51b7d"
            ],
            [
             0.2,
             "#de77ae"
            ],
            [
             0.3,
             "#f1b6da"
            ],
            [
             0.4,
             "#fde0ef"
            ],
            [
             0.5,
             "#f7f7f7"
            ],
            [
             0.6,
             "#e6f5d0"
            ],
            [
             0.7,
             "#b8e186"
            ],
            [
             0.8,
             "#7fbc41"
            ],
            [
             0.9,
             "#4d9221"
            ],
            [
             1,
             "#276419"
            ]
           ],
           "sequential": [
            [
             0,
             "#0d0887"
            ],
            [
             0.1111111111111111,
             "#46039f"
            ],
            [
             0.2222222222222222,
             "#7201a8"
            ],
            [
             0.3333333333333333,
             "#9c179e"
            ],
            [
             0.4444444444444444,
             "#bd3786"
            ],
            [
             0.5555555555555556,
             "#d8576b"
            ],
            [
             0.6666666666666666,
             "#ed7953"
            ],
            [
             0.7777777777777778,
             "#fb9f3a"
            ],
            [
             0.8888888888888888,
             "#fdca26"
            ],
            [
             1,
             "#f0f921"
            ]
           ],
           "sequentialminus": [
            [
             0,
             "#0d0887"
            ],
            [
             0.1111111111111111,
             "#46039f"
            ],
            [
             0.2222222222222222,
             "#7201a8"
            ],
            [
             0.3333333333333333,
             "#9c179e"
            ],
            [
             0.4444444444444444,
             "#bd3786"
            ],
            [
             0.5555555555555556,
             "#d8576b"
            ],
            [
             0.6666666666666666,
             "#ed7953"
            ],
            [
             0.7777777777777778,
             "#fb9f3a"
            ],
            [
             0.8888888888888888,
             "#fdca26"
            ],
            [
             1,
             "#f0f921"
            ]
           ]
          },
          "colorway": [
           "#636efa",
           "#EF553B",
           "#00cc96",
           "#ab63fa",
           "#FFA15A",
           "#19d3f3",
           "#FF6692",
           "#B6E880",
           "#FF97FF",
           "#FECB52"
          ],
          "font": {
           "color": "#2a3f5f"
          },
          "geo": {
           "bgcolor": "white",
           "lakecolor": "white",
           "landcolor": "#E5ECF6",
           "showlakes": true,
           "showland": true,
           "subunitcolor": "white"
          },
          "hoverlabel": {
           "align": "left"
          },
          "hovermode": "closest",
          "mapbox": {
           "style": "light"
          },
          "paper_bgcolor": "white",
          "plot_bgcolor": "#E5ECF6",
          "polar": {
           "angularaxis": {
            "gridcolor": "white",
            "linecolor": "white",
            "ticks": ""
           },
           "bgcolor": "#E5ECF6",
           "radialaxis": {
            "gridcolor": "white",
            "linecolor": "white",
            "ticks": ""
           }
          },
          "scene": {
           "xaxis": {
            "backgroundcolor": "#E5ECF6",
            "gridcolor": "white",
            "gridwidth": 2,
            "linecolor": "white",
            "showbackground": true,
            "ticks": "",
            "zerolinecolor": "white"
           },
           "yaxis": {
            "backgroundcolor": "#E5ECF6",
            "gridcolor": "white",
            "gridwidth": 2,
            "linecolor": "white",
            "showbackground": true,
            "ticks": "",
            "zerolinecolor": "white"
           },
           "zaxis": {
            "backgroundcolor": "#E5ECF6",
            "gridcolor": "white",
            "gridwidth": 2,
            "linecolor": "white",
            "showbackground": true,
            "ticks": "",
            "zerolinecolor": "white"
           }
          },
          "shapedefaults": {
           "line": {
            "color": "#2a3f5f"
           }
          },
          "ternary": {
           "aaxis": {
            "gridcolor": "white",
            "linecolor": "white",
            "ticks": ""
           },
           "baxis": {
            "gridcolor": "white",
            "linecolor": "white",
            "ticks": ""
           },
           "bgcolor": "#E5ECF6",
           "caxis": {
            "gridcolor": "white",
            "linecolor": "white",
            "ticks": ""
           }
          },
          "title": {
           "x": 0.05
          },
          "xaxis": {
           "automargin": true,
           "gridcolor": "white",
           "linecolor": "white",
           "ticks": "",
           "title": {
            "standoff": 15
           },
           "zerolinecolor": "white",
           "zerolinewidth": 2
          },
          "yaxis": {
           "automargin": true,
           "gridcolor": "white",
           "linecolor": "white",
           "ticks": "",
           "title": {
            "standoff": 15
           },
           "zerolinecolor": "white",
           "zerolinewidth": 2
          }
         }
        }
       }
      },
      "text/html": [
       "<div>                            <div id=\"362d334b-7691-4792-b72f-f8936f1b5d4e\" class=\"plotly-graph-div\" style=\"height:525px; width:100%;\"></div>            <script type=\"text/javascript\">                require([\"plotly\"], function(Plotly) {                    window.PLOTLYENV=window.PLOTLYENV || {};                                    if (document.getElementById(\"362d334b-7691-4792-b72f-f8936f1b5d4e\")) {                    Plotly.newPlot(                        \"362d334b-7691-4792-b72f-f8936f1b5d4e\",                        [{\"close\": [499.23, 500.04, 506.09, 499.3, 503.43, 497.48, 473.1, 462.83, 462.25, 458.43, 459.63, 460.04, 452.04, 437.5, 450.91, 444.45, 455.61, 440.25, 438.66, 435.75, 425.04, 384.76, 380.16, 373.01, 379.24, 370.46, 371.38, 389.09, 388.0, 393.43, 385.31, 386.09, 390.9, 388.23, 381.91, 383.68, 382.73, 381.37, 372.69, 373.85, 364.11, 364.11, 364.8, 361.78, 353.63, 364.84, 360.06, 366.53, 358.87, 349.72, 351.73, 351.59, 352.08, 342.99, 338.8, 335.9, 352.84, 343.99, 333.46, 331.5, 322.32, 325.12, 323.34, 321.85, 317.94, 318.25, 318.11, 316.73, 318.89, 316.85, 319.23, 313.14, 314.96, 307.71, 309.54, 307.65, 311.41, 315.01, 310.13, 303.74, 300.63, 297.56, 293.16, 289.07, 293.8, 287.73, 278.58, 283.17, 282.97, 275.03, 276.1, 268.37, 276.93, 282.8, 286.69, 284.43, 287.05, 273.25, 267.99, 266.07, 259.43, 262.47, 241.41, 244.93, 240.91, 254.29, 254.81, 247.74, 258.44, 245.52, 246.88, 224.37, 229.24, 244.78, 246.67, 252.86, 242.21], \"high\": [505.77, 509.94, 507.97, 500.72, 515.14, 499.47, 473.57, 468.65, 464.0, 464.35, 460.0, 464.17, 453.1, 449.93, 455.1, 454.7, 457.65, 441.57, 443.16, 446.55, 425.66, 385.19, 380.92, 378.2, 379.62, 371.88, 388.31, 391.9, 397.0, 394.0, 388.59, 389.62, 396.99, 389.02, 399.82, 383.92, 385.27, 381.5, 378.62, 375.78, 370.47, 367.36, 365.98, 362.17, 365.32, 365.0, 368.79, 372.38, 359.46, 356.56, 353.45, 355.4, 353.2, 345.68, 347.8, 351.06, 354.77, 345.61, 333.6, 331.75, 325.62, 326.2, 323.44, 322.35, 321.15, 323.44, 318.71, 324.24, 319.23, 320.89, 319.52, 318.52, 316.5, 307.9, 309.79, 315.95, 319.69, 317.05, 310.35, 305.17, 303.24, 301.0, 293.69, 299.0, 294.53, 289.67, 285.83, 284.54, 283.01, 281.75, 277.9, 277.25, 281.68, 286.95, 288.2, 286.33, 288.25, 273.7, 270.07, 267.37, 271.7, 263.11, 245.7, 245.15, 248.72, 262.49, 255.52, 255.87, 258.68, 258.25, 247.69, 228.5, 251.83, 252.84, 250.0, 257.61, 259.08], \"low\": [498.31, 495.33, 500.33, 492.21, 495.75, 477.0, 462.93, 462.44, 456.03, 455.85, 452.18, 455.71, 441.19, 436.43, 440.0, 441.17, 439.19, 435.59, 433.55, 431.57, 403.3, 375.07, 374.85, 372.99, 373.92, 356.58, 368.04, 386.41, 386.97, 384.25, 383.36, 383.62, 385.96, 375.51, 381.03, 378.82, 378.69, 376.36, 372.23, 369.87, 363.64, 363.91, 360.0, 351.28, 353.02, 357.57, 358.52, 362.27, 351.15, 345.15, 349.22, 351.09, 344.72, 332.58, 334.22, 335.48, 346.09, 332.01, 327.32, 323.23, 320.78, 322.3, 318.93, 317.21, 316.47, 315.63, 313.09, 316.5, 315.35, 315.87, 316.2, 313.01, 310.32, 300.21, 301.53, 303.21, 310.91, 307.24, 304.29, 301.97, 298.87, 294.46, 286.32, 285.85, 288.35, 283.89, 278.2, 279.95, 277.0, 274.87, 272.2, 265.43, 276.85, 276.86, 282.35, 280.63, 278.05, 265.83, 264.7, 261.23, 259.0, 249.38, 238.97, 236.9, 239.13, 252.0, 249.4, 247.05, 246.36, 244.3, 234.3, 212.61, 228.0, 242.61, 237.12, 238.4, 240.0], \"open\": [504.05, 508.57, 504.72, 498.79, 514.79, 477.05, 463.0, 463.93, 457.41, 464.25, 459.32, 457.72, 441.99, 447.88, 450.4, 452.82, 441.62, 437.51, 436.53, 432.8, 411.54, 376.75, 375.0, 377.47, 374.84, 363.95, 387.99, 386.77, 396.69, 385.67, 387.95, 386.25, 395.96, 379.36, 389.06, 381.34, 385.05, 376.72, 375.41, 370.0, 367.85, 365.12, 360.08, 353.25, 364.41, 360.7, 365.0, 364.0, 351.34, 354.64, 351.41, 355.15, 351.46, 333.25, 344.72, 349.31, 347.9, 332.14, 330.25, 323.35, 324.39, 324.66, 320.75, 317.75, 319.25, 316.77, 316.14, 323.5, 315.77, 318.66, 316.68, 315.03, 313.17, 300.35, 304.51, 312.15, 317.83, 308.1, 305.64, 303.22, 300.46, 295.06, 289.17, 286.25, 289.96, 284.73, 285.08, 281.8, 277.2, 275.87, 273.61, 276.28, 277.95, 284.69, 287.38, 282.4, 280.0, 268.31, 268.7, 262.74, 270.8, 250.9, 242.8, 240.34, 246.5, 255.6, 250.74, 252.75, 246.52, 250.75, 236.36, 228.08, 247.18, 247.39, 239.77, 247.51, 241.95], \"type\": \"candlestick\", \"x\": [\"8/28/2020\", \"8/27/2020\", \"8/26/2020\", \"8/25/2020\", \"8/24/2020\", \"8/21/2020\", \"8/20/2020\", \"8/19/2020\", \"8/18/2020\", \"8/17/2020\", \"8/14/2020\", \"8/13/2020\", \"8/12/2020\", \"8/11/2020\", \"8/10/2020\", \"8/7/2020\", \"8/6/2020\", \"8/5/2020\", \"8/4/2020\", \"8/3/2020\", \"7/31/2020\", \"7/30/2020\", \"7/29/2020\", \"7/28/2020\", \"7/27/2020\", \"7/24/2020\", \"7/23/2020\", \"7/22/2020\", \"7/21/2020\", \"7/20/2020\", \"7/17/2020\", \"7/16/2020\", \"7/15/2020\", \"7/14/2020\", \"7/13/2020\", \"7/10/2020\", \"7/9/2020\", \"7/8/2020\", \"7/7/2020\", \"7/6/2020\", \"7/2/2020\", \"7/1/2020\", \"6/30/2020\", \"6/29/2020\", \"6/26/2020\", \"6/25/2020\", \"6/24/2020\", \"6/23/2020\", \"6/22/2020\", \"6/19/2020\", \"6/18/2020\", \"6/17/2020\", \"6/16/2020\", \"6/15/2020\", \"6/12/2020\", \"6/11/2020\", \"6/10/2020\", \"6/9/2020\", \"6/8/2020\", \"6/5/2020\", \"6/4/2020\", \"6/3/2020\", \"6/2/2020\", \"6/1/2020\", \"5/29/2020\", \"5/28/2020\", \"5/27/2020\", \"5/26/2020\", \"5/22/2020\", \"5/21/2020\", \"5/20/2020\", \"5/19/2020\", \"5/18/2020\", \"5/15/2020\", \"5/14/2020\", \"5/13/2020\", \"5/12/2020\", \"5/11/2020\", \"5/8/2020\", \"5/7/2020\", \"5/6/2020\", \"5/5/2020\", \"5/4/2020\", \"5/1/2020\", \"4/30/2020\", \"4/29/2020\", \"4/28/2020\", \"4/27/2020\", \"4/24/2020\", \"4/23/2020\", \"4/22/2020\", \"4/21/2020\", \"4/20/2020\", \"4/17/2020\", \"4/16/2020\", \"4/15/2020\", \"4/14/2020\", \"4/13/2020\", \"4/9/2020\", \"4/8/2020\", \"4/7/2020\", \"4/6/2020\", \"4/3/2020\", \"4/2/2020\", \"4/1/2020\", \"3/31/2020\", \"3/30/2020\", \"3/27/2020\", \"3/26/2020\", \"3/25/2020\", \"3/24/2020\", \"3/23/2020\", \"3/20/2020\", \"3/19/2020\", \"3/18/2020\", \"3/17/2020\", \"3/16/2020\"]}],                        {\"template\": {\"data\": {\"bar\": [{\"error_x\": {\"color\": \"#2a3f5f\"}, \"error_y\": {\"color\": \"#2a3f5f\"}, \"marker\": {\"line\": {\"color\": \"#E5ECF6\", \"width\": 0.5}}, \"type\": \"bar\"}], \"barpolar\": [{\"marker\": {\"line\": {\"color\": \"#E5ECF6\", \"width\": 0.5}}, \"type\": \"barpolar\"}], \"carpet\": [{\"aaxis\": {\"endlinecolor\": \"#2a3f5f\", \"gridcolor\": \"white\", \"linecolor\": \"white\", \"minorgridcolor\": \"white\", \"startlinecolor\": \"#2a3f5f\"}, \"baxis\": {\"endlinecolor\": \"#2a3f5f\", \"gridcolor\": \"white\", \"linecolor\": \"white\", \"minorgridcolor\": \"white\", \"startlinecolor\": \"#2a3f5f\"}, \"type\": \"carpet\"}], \"choropleth\": [{\"colorbar\": {\"outlinewidth\": 0, \"ticks\": \"\"}, \"type\": \"choropleth\"}], \"contour\": [{\"colorbar\": {\"outlinewidth\": 0, \"ticks\": \"\"}, \"colorscale\": [[0.0, \"#0d0887\"], [0.1111111111111111, \"#46039f\"], [0.2222222222222222, \"#7201a8\"], [0.3333333333333333, \"#9c179e\"], [0.4444444444444444, \"#bd3786\"], [0.5555555555555556, \"#d8576b\"], [0.6666666666666666, \"#ed7953\"], [0.7777777777777778, \"#fb9f3a\"], [0.8888888888888888, \"#fdca26\"], [1.0, \"#f0f921\"]], \"type\": \"contour\"}], \"contourcarpet\": [{\"colorbar\": {\"outlinewidth\": 0, \"ticks\": \"\"}, \"type\": \"contourcarpet\"}], \"heatmap\": [{\"colorbar\": {\"outlinewidth\": 0, \"ticks\": \"\"}, \"colorscale\": [[0.0, \"#0d0887\"], [0.1111111111111111, \"#46039f\"], [0.2222222222222222, \"#7201a8\"], [0.3333333333333333, \"#9c179e\"], [0.4444444444444444, \"#bd3786\"], [0.5555555555555556, \"#d8576b\"], [0.6666666666666666, \"#ed7953\"], [0.7777777777777778, \"#fb9f3a\"], [0.8888888888888888, \"#fdca26\"], [1.0, \"#f0f921\"]], \"type\": \"heatmap\"}], \"heatmapgl\": [{\"colorbar\": {\"outlinewidth\": 0, \"ticks\": \"\"}, \"colorscale\": [[0.0, \"#0d0887\"], [0.1111111111111111, \"#46039f\"], [0.2222222222222222, \"#7201a8\"], [0.3333333333333333, \"#9c179e\"], [0.4444444444444444, \"#bd3786\"], [0.5555555555555556, \"#d8576b\"], [0.6666666666666666, \"#ed7953\"], [0.7777777777777778, \"#fb9f3a\"], [0.8888888888888888, \"#fdca26\"], [1.0, \"#f0f921\"]], \"type\": \"heatmapgl\"}], \"histogram\": [{\"marker\": {\"colorbar\": {\"outlinewidth\": 0, \"ticks\": \"\"}}, \"type\": \"histogram\"}], \"histogram2d\": [{\"colorbar\": {\"outlinewidth\": 0, \"ticks\": \"\"}, \"colorscale\": [[0.0, \"#0d0887\"], [0.1111111111111111, \"#46039f\"], [0.2222222222222222, \"#7201a8\"], [0.3333333333333333, \"#9c179e\"], [0.4444444444444444, \"#bd3786\"], [0.5555555555555556, \"#d8576b\"], [0.6666666666666666, \"#ed7953\"], [0.7777777777777778, \"#fb9f3a\"], [0.8888888888888888, \"#fdca26\"], [1.0, \"#f0f921\"]], \"type\": \"histogram2d\"}], \"histogram2dcontour\": [{\"colorbar\": {\"outlinewidth\": 0, \"ticks\": \"\"}, \"colorscale\": [[0.0, \"#0d0887\"], [0.1111111111111111, \"#46039f\"], [0.2222222222222222, \"#7201a8\"], [0.3333333333333333, \"#9c179e\"], [0.4444444444444444, \"#bd3786\"], [0.5555555555555556, \"#d8576b\"], [0.6666666666666666, \"#ed7953\"], [0.7777777777777778, \"#fb9f3a\"], [0.8888888888888888, \"#fdca26\"], [1.0, \"#f0f921\"]], \"type\": \"histogram2dcontour\"}], \"mesh3d\": [{\"colorbar\": {\"outlinewidth\": 0, \"ticks\": \"\"}, \"type\": \"mesh3d\"}], \"parcoords\": [{\"line\": {\"colorbar\": {\"outlinewidth\": 0, \"ticks\": \"\"}}, \"type\": \"parcoords\"}], \"pie\": [{\"automargin\": true, \"type\": \"pie\"}], \"scatter\": [{\"marker\": {\"colorbar\": {\"outlinewidth\": 0, \"ticks\": \"\"}}, \"type\": \"scatter\"}], \"scatter3d\": [{\"line\": {\"colorbar\": {\"outlinewidth\": 0, \"ticks\": \"\"}}, \"marker\": {\"colorbar\": {\"outlinewidth\": 0, \"ticks\": \"\"}}, \"type\": \"scatter3d\"}], \"scattercarpet\": [{\"marker\": {\"colorbar\": {\"outlinewidth\": 0, \"ticks\": \"\"}}, \"type\": \"scattercarpet\"}], \"scattergeo\": [{\"marker\": {\"colorbar\": {\"outlinewidth\": 0, \"ticks\": \"\"}}, \"type\": \"scattergeo\"}], \"scattergl\": [{\"marker\": {\"colorbar\": {\"outlinewidth\": 0, \"ticks\": \"\"}}, \"type\": \"scattergl\"}], \"scattermapbox\": [{\"marker\": {\"colorbar\": {\"outlinewidth\": 0, \"ticks\": \"\"}}, \"type\": \"scattermapbox\"}], \"scatterpolar\": [{\"marker\": {\"colorbar\": {\"outlinewidth\": 0, \"ticks\": \"\"}}, \"type\": \"scatterpolar\"}], \"scatterpolargl\": [{\"marker\": {\"colorbar\": {\"outlinewidth\": 0, \"ticks\": \"\"}}, \"type\": \"scatterpolargl\"}], \"scatterternary\": [{\"marker\": {\"colorbar\": {\"outlinewidth\": 0, \"ticks\": \"\"}}, \"type\": \"scatterternary\"}], \"surface\": [{\"colorbar\": {\"outlinewidth\": 0, \"ticks\": \"\"}, \"colorscale\": [[0.0, \"#0d0887\"], [0.1111111111111111, \"#46039f\"], [0.2222222222222222, \"#7201a8\"], [0.3333333333333333, \"#9c179e\"], [0.4444444444444444, \"#bd3786\"], [0.5555555555555556, \"#d8576b\"], [0.6666666666666666, \"#ed7953\"], [0.7777777777777778, \"#fb9f3a\"], [0.8888888888888888, \"#fdca26\"], [1.0, \"#f0f921\"]], \"type\": \"surface\"}], \"table\": [{\"cells\": {\"fill\": {\"color\": \"#EBF0F8\"}, \"line\": {\"color\": \"white\"}}, \"header\": {\"fill\": {\"color\": \"#C8D4E3\"}, \"line\": {\"color\": \"white\"}}, \"type\": \"table\"}]}, \"layout\": {\"annotationdefaults\": {\"arrowcolor\": \"#2a3f5f\", \"arrowhead\": 0, \"arrowwidth\": 1}, \"coloraxis\": {\"colorbar\": {\"outlinewidth\": 0, \"ticks\": \"\"}}, \"colorscale\": {\"diverging\": [[0, \"#8e0152\"], [0.1, \"#c51b7d\"], [0.2, \"#de77ae\"], [0.3, \"#f1b6da\"], [0.4, \"#fde0ef\"], [0.5, \"#f7f7f7\"], [0.6, \"#e6f5d0\"], [0.7, \"#b8e186\"], [0.8, \"#7fbc41\"], [0.9, \"#4d9221\"], [1, \"#276419\"]], \"sequential\": [[0.0, \"#0d0887\"], [0.1111111111111111, \"#46039f\"], [0.2222222222222222, \"#7201a8\"], [0.3333333333333333, \"#9c179e\"], [0.4444444444444444, \"#bd3786\"], [0.5555555555555556, \"#d8576b\"], [0.6666666666666666, \"#ed7953\"], [0.7777777777777778, \"#fb9f3a\"], [0.8888888888888888, \"#fdca26\"], [1.0, \"#f0f921\"]], \"sequentialminus\": [[0.0, \"#0d0887\"], [0.1111111111111111, \"#46039f\"], [0.2222222222222222, \"#7201a8\"], [0.3333333333333333, \"#9c179e\"], [0.4444444444444444, \"#bd3786\"], [0.5555555555555556, \"#d8576b\"], [0.6666666666666666, \"#ed7953\"], [0.7777777777777778, \"#fb9f3a\"], [0.8888888888888888, \"#fdca26\"], [1.0, \"#f0f921\"]]}, \"colorway\": [\"#636efa\", \"#EF553B\", \"#00cc96\", \"#ab63fa\", \"#FFA15A\", \"#19d3f3\", \"#FF6692\", \"#B6E880\", \"#FF97FF\", \"#FECB52\"], \"font\": {\"color\": \"#2a3f5f\"}, \"geo\": {\"bgcolor\": \"white\", \"lakecolor\": \"white\", \"landcolor\": \"#E5ECF6\", \"showlakes\": true, \"showland\": true, \"subunitcolor\": \"white\"}, \"hoverlabel\": {\"align\": \"left\"}, \"hovermode\": \"closest\", \"mapbox\": {\"style\": \"light\"}, \"paper_bgcolor\": \"white\", \"plot_bgcolor\": \"#E5ECF6\", \"polar\": {\"angularaxis\": {\"gridcolor\": \"white\", \"linecolor\": \"white\", \"ticks\": \"\"}, \"bgcolor\": \"#E5ECF6\", \"radialaxis\": {\"gridcolor\": \"white\", \"linecolor\": \"white\", \"ticks\": \"\"}}, \"scene\": {\"xaxis\": {\"backgroundcolor\": \"#E5ECF6\", \"gridcolor\": \"white\", \"gridwidth\": 2, \"linecolor\": \"white\", \"showbackground\": true, \"ticks\": \"\", \"zerolinecolor\": \"white\"}, \"yaxis\": {\"backgroundcolor\": \"#E5ECF6\", \"gridcolor\": \"white\", \"gridwidth\": 2, \"linecolor\": \"white\", \"showbackground\": true, \"ticks\": \"\", \"zerolinecolor\": \"white\"}, \"zaxis\": {\"backgroundcolor\": \"#E5ECF6\", \"gridcolor\": \"white\", \"gridwidth\": 2, \"linecolor\": \"white\", \"showbackground\": true, \"ticks\": \"\", \"zerolinecolor\": \"white\"}}, \"shapedefaults\": {\"line\": {\"color\": \"#2a3f5f\"}}, \"ternary\": {\"aaxis\": {\"gridcolor\": \"white\", \"linecolor\": \"white\", \"ticks\": \"\"}, \"baxis\": {\"gridcolor\": \"white\", \"linecolor\": \"white\", \"ticks\": \"\"}, \"bgcolor\": \"#E5ECF6\", \"caxis\": {\"gridcolor\": \"white\", \"linecolor\": \"white\", \"ticks\": \"\"}}, \"title\": {\"x\": 0.05}, \"xaxis\": {\"automargin\": true, \"gridcolor\": \"white\", \"linecolor\": \"white\", \"ticks\": \"\", \"title\": {\"standoff\": 15}, \"zerolinecolor\": \"white\", \"zerolinewidth\": 2}, \"yaxis\": {\"automargin\": true, \"gridcolor\": \"white\", \"linecolor\": \"white\", \"ticks\": \"\", \"title\": {\"standoff\": 15}, \"zerolinecolor\": \"white\", \"zerolinewidth\": 2}}}},                        {\"responsive\": true}                    ).then(function(){\n",
       "                            \n",
       "var gd = document.getElementById('362d334b-7691-4792-b72f-f8936f1b5d4e');\n",
       "var x = new MutationObserver(function (mutations, observer) {{\n",
       "        var display = window.getComputedStyle(gd).display;\n",
       "        if (!display || display === 'none') {{\n",
       "            console.log([gd, 'removed!']);\n",
       "            Plotly.purge(gd);\n",
       "            observer.disconnect();\n",
       "        }}\n",
       "}});\n",
       "\n",
       "// Listen for the removal of the full notebook cells\n",
       "var notebookContainer = gd.closest('#notebook-container');\n",
       "if (notebookContainer) {{\n",
       "    x.observe(notebookContainer, {childList: true});\n",
       "}}\n",
       "\n",
       "// Listen for the clearing of the current output cell\n",
       "var outputEl = gd.closest('.output');\n",
       "if (outputEl) {{\n",
       "    x.observe(outputEl, {childList: true});\n",
       "}}\n",
       "\n",
       "                        })                };                });            </script>        </div>"
      ]
     },
     "metadata": {},
     "output_type": "display_data"
    }
   ],
   "source": [
    "fig = go.Figure(data=[go.Candlestick(x=AAPL['Date'],\n",
    "                                    open = AAPL['Open'],\n",
    "                                    high = AAPL['High'],\n",
    "                                    low = AAPL['Low'],\n",
    "                                    close = AAPL['Close'])])\n",
    "fig.show()"
   ]
  },
  {
   "cell_type": "code",
   "execution_count": 50,
   "metadata": {},
   "outputs": [
    {
     "data": {
      "application/vnd.plotly.v1+json": {
       "config": {
        "plotlyServerURL": "https://plot.ly"
       },
       "data": [
        {
         "close": [
          3401.8,
          3400,
          3441.85,
          3346.49,
          3307.46,
          3284.72,
          3297.37,
          3260.48,
          3312.49,
          3182.41,
          3148.02,
          3161.02,
          3162.24,
          3080.67,
          3148.16,
          3167.46,
          3225,
          3205.03,
          3138.83,
          3111.89,
          3164.68,
          3051.88,
          3033.53,
          3000.33,
          3055.21,
          3008.91,
          2986.55,
          3099.91,
          3138.29,
          3196.84,
          2961.97,
          2999.9,
          3008.87,
          3084,
          3104,
          3200,
          3182.63,
          3081.11,
          3000.12,
          3057.04,
          2890.3,
          2878.7,
          2758.82,
          2680.38,
          2692.87,
          2754.58,
          2734.4,
          2764.41,
          2713.82,
          2675.01,
          2653.98,
          2640.98,
          2615.27,
          2572.68,
          2545.02,
          2557.96,
          2647.45,
          2600.86,
          2524.06,
          2483,
          2460.6,
          2478.4,
          2472.41,
          2471.04,
          2442.37,
          2401.1,
          2410.39,
          2421.86,
          2436.88,
          2446.74,
          2497.94,
          2449.33,
          2426.26,
          2409.78,
          2388.85,
          2367.92,
          2356.95,
          2409,
          2379.61,
          2367.61,
          2351.26,
          2317.8,
          2315.99,
          2286.04,
          2474,
          2372.71,
          2314.08,
          2376,
          2410.22,
          2399.45,
          2363.49,
          2328.12,
          2393.61,
          2375,
          2408.19,
          2307.68,
          2283.32,
          2168.87,
          2042.76,
          2043,
          2011.6,
          1997.59,
          1906.59,
          1918.83,
          1907.7,
          1949.72,
          1963.95,
          1900.1,
          1955.49,
          1885.84,
          1940.1,
          1902.83,
          1846.09,
          1880.93,
          1830,
          1807.84,
          1689.15
         ],
         "high": [
          3433.37,
          3453,
          3451.74,
          3357.4,
          3380.32,
          3314.4,
          3312.62,
          3315.9,
          3320,
          3194.97,
          3178.24,
          3217.52,
          3174.39,
          3159.22,
          3172.51,
          3240.81,
          3247.47,
          3213.59,
          3167.24,
          3184,
          3246.82,
          3092,
          3039.16,
          3077.09,
          3098,
          3031.58,
          3098.27,
          3150,
          3240.58,
          3201.36,
          3024,
          3032,
          3098.35,
          3127.38,
          3344.29,
          3215,
          3193.88,
          3083.97,
          3069.55,
          3059.88,
          2955.56,
          2895,
          2769.63,
          2696.8,
          2782.57,
          2756.23,
          2796,
          2783.11,
          2715,
          2697.43,
          2659.64,
          2655,
          2620,
          2584,
          2621.48,
          2671.38,
          2722.35,
          2626.43,
          2530,
          2488.65,
          2507.54,
          2488,
          2473.53,
          2476.93,
          2442.37,
          2436.97,
          2413.58,
          2462,
          2469.85,
          2525.45,
          2500.01,
          2485,
          2433,
          2411,
          2391.37,
          2407.7,
          2419,
          2419.67,
          2387.24,
          2376,
          2357.45,
          2351,
          2326.98,
          2362.44,
          2475,
          2391.89,
          2373.5,
          2444.88,
          2420.43,
          2424.22,
          2394,
          2428.31,
          2444.98,
          2400,
          2461,
          2333.37,
          2292,
          2180,
          2053,
          2044,
          2035.72,
          1998.52,
          1926.33,
          1927.53,
          1944.96,
          1993.02,
          1973.63,
          1939.79,
          1956.49,
          1950.26,
          1955,
          1919.4,
          1957,
          1945,
          1841.66,
          1857.78,
          1759.45
         ],
         "low": [
          3386.5,
          3378,
          3344.57,
          3267,
          3257.56,
          3275.39,
          3238,
          3256,
          3205.82,
          3154.18,
          3120,
          3155,
          3101.42,
          3073,
          3101.52,
          3140.67,
          3165.43,
          3127.3,
          3101.21,
          3104,
          3151,
          3005,
          2996.77,
          2995.76,
          3015.77,
          2888,
          2970,
          3065.26,
          3105.72,
          2994.02,
          2948.45,
          2918.23,
          2973.18,
          2950,
          3068.39,
          3135.7,
          3074,
          3012.43,
          2990,
          2930,
          2871.1,
          2754,
          2675.03,
          2630.08,
          2688,
          2712.14,
          2721,
          2718.04,
          2669,
          2659,
          2636.11,
          2631.82,
          2576,
          2508,
          2503.35,
          2536.23,
          2626.26,
          2525,
          2487.34,
          2437.13,
          2450.01,
          2461.17,
          2445.31,
          2444.17,
          2398.2,
          2378.23,
          2330,
          2414.06,
          2430.13,
          2442.54,
          2467.27,
          2428.97,
          2384.01,
          2356.37,
          2353.21,
          2337.81,
          2355,
          2372.11,
          2357,
          2343.11,
          2320,
          2307.13,
          2256.38,
          2258.19,
          2396.01,
          2310,
          2306,
          2363,
          2382,
          2382.08,
          2351,
          2279.66,
          2386.05,
          2316.02,
          2335,
          2245,
          2186.21,
          2038,
          2017.66,
          2011.15,
          1997.62,
          1930.02,
          1889.15,
          1890,
          1893,
          1944.01,
          1912.34,
          1899.92,
          1889.29,
          1885.78,
          1900.34,
          1812,
          1820.73,
          1832.65,
          1745,
          1689.24,
          1626.03
         ],
         "open": [
          3423,
          3450.05,
          3351.11,
          3294.99,
          3310.15,
          3295,
          3252,
          3303.01,
          3212,
          3173.12,
          3178.18,
          3182.99,
          3108,
          3113.2,
          3170.31,
          3224.01,
          3194.36,
          3143.77,
          3101.21,
          3180.51,
          3244,
          3014,
          3030.99,
          3054.27,
          3062,
          2930,
          3098.27,
          3125,
          3232.49,
          3000.2,
          3009,
          2971.06,
          3080.23,
          3089,
          3251.06,
          3191.76,
          3115.99,
          3022.61,
          3058.55,
          2934.97,
          2912.01,
          2757.99,
          2685.07,
          2690.01,
          2775.06,
          2739.55,
          2780,
          2726.02,
          2684.5,
          2678.08,
          2647.01,
          2647.5,
          2620,
          2526.6,
          2601.21,
          2603.5,
          2645,
          2529.44,
          2500.2,
          2444.51,
          2477.43,
          2468.01,
          2467,
          2448,
          2415.94,
          2384.33,
          2404.99,
          2458,
          2455.01,
          2500,
          2477.87,
          2429.83,
          2404.35,
          2368.52,
          2361.01,
          2366.8,
          2411.85,
          2374.7,
          2372.14,
          2374.78,
          2329.44,
          2340,
          2256.38,
          2336.8,
          2419.84,
          2330.01,
          2372.1,
          2443.2,
          2417,
          2399.98,
          2369,
          2416.61,
          2389.95,
          2372.33,
          2346,
          2257.68,
          2200.47,
          2040,
          2044.3,
          2021,
          2017.11,
          1936,
          1911.15,
          1901.64,
          1932.97,
          1964.35,
          1922.83,
          1930.86,
          1902,
          1920.69,
          1951.5,
          1827.75,
          1926.31,
          1860,
          1750,
          1775.47,
          1641.51
         ],
         "type": "candlestick",
         "x": [
          "8/28/2020",
          "8/27/2020",
          "8/26/2020",
          "8/25/2020",
          "8/24/2020",
          "8/21/2020",
          "8/20/2020",
          "8/19/2020",
          "8/18/2020",
          "8/17/2020",
          "8/14/2020",
          "8/13/2020",
          "8/12/2020",
          "8/11/2020",
          "8/10/2020",
          "8/7/2020",
          "8/6/2020",
          "8/5/2020",
          "8/4/2020",
          "8/3/2020",
          "7/31/2020",
          "7/30/2020",
          "7/29/2020",
          "7/28/2020",
          "7/27/2020",
          "7/24/2020",
          "7/23/2020",
          "7/22/2020",
          "7/21/2020",
          "7/20/2020",
          "7/17/2020",
          "7/16/2020",
          "7/15/2020",
          "7/14/2020",
          "7/13/2020",
          "7/10/2020",
          "7/9/2020",
          "7/8/2020",
          "7/7/2020",
          "7/6/2020",
          "7/2/2020",
          "7/1/2020",
          "6/30/2020",
          "6/29/2020",
          "6/26/2020",
          "6/25/2020",
          "6/24/2020",
          "6/23/2020",
          "6/22/2020",
          "6/19/2020",
          "6/18/2020",
          "6/17/2020",
          "6/16/2020",
          "6/15/2020",
          "6/12/2020",
          "6/11/2020",
          "6/10/2020",
          "6/9/2020",
          "6/8/2020",
          "6/5/2020",
          "6/4/2020",
          "6/3/2020",
          "6/2/2020",
          "6/1/2020",
          "5/29/2020",
          "5/28/2020",
          "5/27/2020",
          "5/26/2020",
          "5/22/2020",
          "5/21/2020",
          "5/20/2020",
          "5/19/2020",
          "5/18/2020",
          "5/15/2020",
          "5/14/2020",
          "5/13/2020",
          "5/12/2020",
          "5/11/2020",
          "5/8/2020",
          "5/7/2020",
          "5/6/2020",
          "5/5/2020",
          "5/4/2020",
          "5/1/2020",
          "4/30/2020",
          "4/29/2020",
          "4/28/2020",
          "4/27/2020",
          "4/24/2020",
          "4/23/2020",
          "4/22/2020",
          "4/21/2020",
          "4/20/2020",
          "4/17/2020",
          "4/16/2020",
          "4/15/2020",
          "4/14/2020",
          "4/13/2020",
          "4/9/2020",
          "4/8/2020",
          "4/7/2020",
          "4/6/2020",
          "4/3/2020",
          "4/2/2020",
          "4/1/2020",
          "3/31/2020",
          "3/30/2020",
          "3/27/2020",
          "3/26/2020",
          "3/25/2020",
          "3/24/2020",
          "3/23/2020",
          "3/20/2020",
          "3/19/2020",
          "3/18/2020",
          "3/17/2020",
          "3/16/2020"
         ]
        }
       ],
       "layout": {
        "template": {
         "data": {
          "bar": [
           {
            "error_x": {
             "color": "#2a3f5f"
            },
            "error_y": {
             "color": "#2a3f5f"
            },
            "marker": {
             "line": {
              "color": "#E5ECF6",
              "width": 0.5
             }
            },
            "type": "bar"
           }
          ],
          "barpolar": [
           {
            "marker": {
             "line": {
              "color": "#E5ECF6",
              "width": 0.5
             }
            },
            "type": "barpolar"
           }
          ],
          "carpet": [
           {
            "aaxis": {
             "endlinecolor": "#2a3f5f",
             "gridcolor": "white",
             "linecolor": "white",
             "minorgridcolor": "white",
             "startlinecolor": "#2a3f5f"
            },
            "baxis": {
             "endlinecolor": "#2a3f5f",
             "gridcolor": "white",
             "linecolor": "white",
             "minorgridcolor": "white",
             "startlinecolor": "#2a3f5f"
            },
            "type": "carpet"
           }
          ],
          "choropleth": [
           {
            "colorbar": {
             "outlinewidth": 0,
             "ticks": ""
            },
            "type": "choropleth"
           }
          ],
          "contour": [
           {
            "colorbar": {
             "outlinewidth": 0,
             "ticks": ""
            },
            "colorscale": [
             [
              0,
              "#0d0887"
             ],
             [
              0.1111111111111111,
              "#46039f"
             ],
             [
              0.2222222222222222,
              "#7201a8"
             ],
             [
              0.3333333333333333,
              "#9c179e"
             ],
             [
              0.4444444444444444,
              "#bd3786"
             ],
             [
              0.5555555555555556,
              "#d8576b"
             ],
             [
              0.6666666666666666,
              "#ed7953"
             ],
             [
              0.7777777777777778,
              "#fb9f3a"
             ],
             [
              0.8888888888888888,
              "#fdca26"
             ],
             [
              1,
              "#f0f921"
             ]
            ],
            "type": "contour"
           }
          ],
          "contourcarpet": [
           {
            "colorbar": {
             "outlinewidth": 0,
             "ticks": ""
            },
            "type": "contourcarpet"
           }
          ],
          "heatmap": [
           {
            "colorbar": {
             "outlinewidth": 0,
             "ticks": ""
            },
            "colorscale": [
             [
              0,
              "#0d0887"
             ],
             [
              0.1111111111111111,
              "#46039f"
             ],
             [
              0.2222222222222222,
              "#7201a8"
             ],
             [
              0.3333333333333333,
              "#9c179e"
             ],
             [
              0.4444444444444444,
              "#bd3786"
             ],
             [
              0.5555555555555556,
              "#d8576b"
             ],
             [
              0.6666666666666666,
              "#ed7953"
             ],
             [
              0.7777777777777778,
              "#fb9f3a"
             ],
             [
              0.8888888888888888,
              "#fdca26"
             ],
             [
              1,
              "#f0f921"
             ]
            ],
            "type": "heatmap"
           }
          ],
          "heatmapgl": [
           {
            "colorbar": {
             "outlinewidth": 0,
             "ticks": ""
            },
            "colorscale": [
             [
              0,
              "#0d0887"
             ],
             [
              0.1111111111111111,
              "#46039f"
             ],
             [
              0.2222222222222222,
              "#7201a8"
             ],
             [
              0.3333333333333333,
              "#9c179e"
             ],
             [
              0.4444444444444444,
              "#bd3786"
             ],
             [
              0.5555555555555556,
              "#d8576b"
             ],
             [
              0.6666666666666666,
              "#ed7953"
             ],
             [
              0.7777777777777778,
              "#fb9f3a"
             ],
             [
              0.8888888888888888,
              "#fdca26"
             ],
             [
              1,
              "#f0f921"
             ]
            ],
            "type": "heatmapgl"
           }
          ],
          "histogram": [
           {
            "marker": {
             "colorbar": {
              "outlinewidth": 0,
              "ticks": ""
             }
            },
            "type": "histogram"
           }
          ],
          "histogram2d": [
           {
            "colorbar": {
             "outlinewidth": 0,
             "ticks": ""
            },
            "colorscale": [
             [
              0,
              "#0d0887"
             ],
             [
              0.1111111111111111,
              "#46039f"
             ],
             [
              0.2222222222222222,
              "#7201a8"
             ],
             [
              0.3333333333333333,
              "#9c179e"
             ],
             [
              0.4444444444444444,
              "#bd3786"
             ],
             [
              0.5555555555555556,
              "#d8576b"
             ],
             [
              0.6666666666666666,
              "#ed7953"
             ],
             [
              0.7777777777777778,
              "#fb9f3a"
             ],
             [
              0.8888888888888888,
              "#fdca26"
             ],
             [
              1,
              "#f0f921"
             ]
            ],
            "type": "histogram2d"
           }
          ],
          "histogram2dcontour": [
           {
            "colorbar": {
             "outlinewidth": 0,
             "ticks": ""
            },
            "colorscale": [
             [
              0,
              "#0d0887"
             ],
             [
              0.1111111111111111,
              "#46039f"
             ],
             [
              0.2222222222222222,
              "#7201a8"
             ],
             [
              0.3333333333333333,
              "#9c179e"
             ],
             [
              0.4444444444444444,
              "#bd3786"
             ],
             [
              0.5555555555555556,
              "#d8576b"
             ],
             [
              0.6666666666666666,
              "#ed7953"
             ],
             [
              0.7777777777777778,
              "#fb9f3a"
             ],
             [
              0.8888888888888888,
              "#fdca26"
             ],
             [
              1,
              "#f0f921"
             ]
            ],
            "type": "histogram2dcontour"
           }
          ],
          "mesh3d": [
           {
            "colorbar": {
             "outlinewidth": 0,
             "ticks": ""
            },
            "type": "mesh3d"
           }
          ],
          "parcoords": [
           {
            "line": {
             "colorbar": {
              "outlinewidth": 0,
              "ticks": ""
             }
            },
            "type": "parcoords"
           }
          ],
          "pie": [
           {
            "automargin": true,
            "type": "pie"
           }
          ],
          "scatter": [
           {
            "marker": {
             "colorbar": {
              "outlinewidth": 0,
              "ticks": ""
             }
            },
            "type": "scatter"
           }
          ],
          "scatter3d": [
           {
            "line": {
             "colorbar": {
              "outlinewidth": 0,
              "ticks": ""
             }
            },
            "marker": {
             "colorbar": {
              "outlinewidth": 0,
              "ticks": ""
             }
            },
            "type": "scatter3d"
           }
          ],
          "scattercarpet": [
           {
            "marker": {
             "colorbar": {
              "outlinewidth": 0,
              "ticks": ""
             }
            },
            "type": "scattercarpet"
           }
          ],
          "scattergeo": [
           {
            "marker": {
             "colorbar": {
              "outlinewidth": 0,
              "ticks": ""
             }
            },
            "type": "scattergeo"
           }
          ],
          "scattergl": [
           {
            "marker": {
             "colorbar": {
              "outlinewidth": 0,
              "ticks": ""
             }
            },
            "type": "scattergl"
           }
          ],
          "scattermapbox": [
           {
            "marker": {
             "colorbar": {
              "outlinewidth": 0,
              "ticks": ""
             }
            },
            "type": "scattermapbox"
           }
          ],
          "scatterpolar": [
           {
            "marker": {
             "colorbar": {
              "outlinewidth": 0,
              "ticks": ""
             }
            },
            "type": "scatterpolar"
           }
          ],
          "scatterpolargl": [
           {
            "marker": {
             "colorbar": {
              "outlinewidth": 0,
              "ticks": ""
             }
            },
            "type": "scatterpolargl"
           }
          ],
          "scatterternary": [
           {
            "marker": {
             "colorbar": {
              "outlinewidth": 0,
              "ticks": ""
             }
            },
            "type": "scatterternary"
           }
          ],
          "surface": [
           {
            "colorbar": {
             "outlinewidth": 0,
             "ticks": ""
            },
            "colorscale": [
             [
              0,
              "#0d0887"
             ],
             [
              0.1111111111111111,
              "#46039f"
             ],
             [
              0.2222222222222222,
              "#7201a8"
             ],
             [
              0.3333333333333333,
              "#9c179e"
             ],
             [
              0.4444444444444444,
              "#bd3786"
             ],
             [
              0.5555555555555556,
              "#d8576b"
             ],
             [
              0.6666666666666666,
              "#ed7953"
             ],
             [
              0.7777777777777778,
              "#fb9f3a"
             ],
             [
              0.8888888888888888,
              "#fdca26"
             ],
             [
              1,
              "#f0f921"
             ]
            ],
            "type": "surface"
           }
          ],
          "table": [
           {
            "cells": {
             "fill": {
              "color": "#EBF0F8"
             },
             "line": {
              "color": "white"
             }
            },
            "header": {
             "fill": {
              "color": "#C8D4E3"
             },
             "line": {
              "color": "white"
             }
            },
            "type": "table"
           }
          ]
         },
         "layout": {
          "annotationdefaults": {
           "arrowcolor": "#2a3f5f",
           "arrowhead": 0,
           "arrowwidth": 1
          },
          "coloraxis": {
           "colorbar": {
            "outlinewidth": 0,
            "ticks": ""
           }
          },
          "colorscale": {
           "diverging": [
            [
             0,
             "#8e0152"
            ],
            [
             0.1,
             "#c51b7d"
            ],
            [
             0.2,
             "#de77ae"
            ],
            [
             0.3,
             "#f1b6da"
            ],
            [
             0.4,
             "#fde0ef"
            ],
            [
             0.5,
             "#f7f7f7"
            ],
            [
             0.6,
             "#e6f5d0"
            ],
            [
             0.7,
             "#b8e186"
            ],
            [
             0.8,
             "#7fbc41"
            ],
            [
             0.9,
             "#4d9221"
            ],
            [
             1,
             "#276419"
            ]
           ],
           "sequential": [
            [
             0,
             "#0d0887"
            ],
            [
             0.1111111111111111,
             "#46039f"
            ],
            [
             0.2222222222222222,
             "#7201a8"
            ],
            [
             0.3333333333333333,
             "#9c179e"
            ],
            [
             0.4444444444444444,
             "#bd3786"
            ],
            [
             0.5555555555555556,
             "#d8576b"
            ],
            [
             0.6666666666666666,
             "#ed7953"
            ],
            [
             0.7777777777777778,
             "#fb9f3a"
            ],
            [
             0.8888888888888888,
             "#fdca26"
            ],
            [
             1,
             "#f0f921"
            ]
           ],
           "sequentialminus": [
            [
             0,
             "#0d0887"
            ],
            [
             0.1111111111111111,
             "#46039f"
            ],
            [
             0.2222222222222222,
             "#7201a8"
            ],
            [
             0.3333333333333333,
             "#9c179e"
            ],
            [
             0.4444444444444444,
             "#bd3786"
            ],
            [
             0.5555555555555556,
             "#d8576b"
            ],
            [
             0.6666666666666666,
             "#ed7953"
            ],
            [
             0.7777777777777778,
             "#fb9f3a"
            ],
            [
             0.8888888888888888,
             "#fdca26"
            ],
            [
             1,
             "#f0f921"
            ]
           ]
          },
          "colorway": [
           "#636efa",
           "#EF553B",
           "#00cc96",
           "#ab63fa",
           "#FFA15A",
           "#19d3f3",
           "#FF6692",
           "#B6E880",
           "#FF97FF",
           "#FECB52"
          ],
          "font": {
           "color": "#2a3f5f"
          },
          "geo": {
           "bgcolor": "white",
           "lakecolor": "white",
           "landcolor": "#E5ECF6",
           "showlakes": true,
           "showland": true,
           "subunitcolor": "white"
          },
          "hoverlabel": {
           "align": "left"
          },
          "hovermode": "closest",
          "mapbox": {
           "style": "light"
          },
          "paper_bgcolor": "white",
          "plot_bgcolor": "#E5ECF6",
          "polar": {
           "angularaxis": {
            "gridcolor": "white",
            "linecolor": "white",
            "ticks": ""
           },
           "bgcolor": "#E5ECF6",
           "radialaxis": {
            "gridcolor": "white",
            "linecolor": "white",
            "ticks": ""
           }
          },
          "scene": {
           "xaxis": {
            "backgroundcolor": "#E5ECF6",
            "gridcolor": "white",
            "gridwidth": 2,
            "linecolor": "white",
            "showbackground": true,
            "ticks": "",
            "zerolinecolor": "white"
           },
           "yaxis": {
            "backgroundcolor": "#E5ECF6",
            "gridcolor": "white",
            "gridwidth": 2,
            "linecolor": "white",
            "showbackground": true,
            "ticks": "",
            "zerolinecolor": "white"
           },
           "zaxis": {
            "backgroundcolor": "#E5ECF6",
            "gridcolor": "white",
            "gridwidth": 2,
            "linecolor": "white",
            "showbackground": true,
            "ticks": "",
            "zerolinecolor": "white"
           }
          },
          "shapedefaults": {
           "line": {
            "color": "#2a3f5f"
           }
          },
          "ternary": {
           "aaxis": {
            "gridcolor": "white",
            "linecolor": "white",
            "ticks": ""
           },
           "baxis": {
            "gridcolor": "white",
            "linecolor": "white",
            "ticks": ""
           },
           "bgcolor": "#E5ECF6",
           "caxis": {
            "gridcolor": "white",
            "linecolor": "white",
            "ticks": ""
           }
          },
          "title": {
           "x": 0.05
          },
          "xaxis": {
           "automargin": true,
           "gridcolor": "white",
           "linecolor": "white",
           "ticks": "",
           "title": {
            "standoff": 15
           },
           "zerolinecolor": "white",
           "zerolinewidth": 2
          },
          "yaxis": {
           "automargin": true,
           "gridcolor": "white",
           "linecolor": "white",
           "ticks": "",
           "title": {
            "standoff": 15
           },
           "zerolinecolor": "white",
           "zerolinewidth": 2
          }
         }
        }
       }
      },
      "text/html": [
       "<div>                            <div id=\"4865d22d-e0ee-4e33-aae9-4ceeb1e8e72d\" class=\"plotly-graph-div\" style=\"height:525px; width:100%;\"></div>            <script type=\"text/javascript\">                require([\"plotly\"], function(Plotly) {                    window.PLOTLYENV=window.PLOTLYENV || {};                                    if (document.getElementById(\"4865d22d-e0ee-4e33-aae9-4ceeb1e8e72d\")) {                    Plotly.newPlot(                        \"4865d22d-e0ee-4e33-aae9-4ceeb1e8e72d\",                        [{\"close\": [3401.8, 3400.0, 3441.85, 3346.49, 3307.46, 3284.72, 3297.37, 3260.48, 3312.49, 3182.41, 3148.02, 3161.02, 3162.24, 3080.67, 3148.16, 3167.46, 3225.0, 3205.03, 3138.83, 3111.89, 3164.68, 3051.88, 3033.53, 3000.33, 3055.21, 3008.91, 2986.55, 3099.91, 3138.29, 3196.84, 2961.97, 2999.9, 3008.87, 3084.0, 3104.0, 3200.0, 3182.63, 3081.11, 3000.12, 3057.04, 2890.3, 2878.7, 2758.82, 2680.38, 2692.87, 2754.58, 2734.4, 2764.41, 2713.82, 2675.01, 2653.98, 2640.98, 2615.27, 2572.68, 2545.02, 2557.96, 2647.45, 2600.86, 2524.06, 2483.0, 2460.6, 2478.4, 2472.41, 2471.04, 2442.37, 2401.1, 2410.39, 2421.86, 2436.88, 2446.74, 2497.94, 2449.33, 2426.26, 2409.78, 2388.85, 2367.92, 2356.95, 2409.0, 2379.61, 2367.61, 2351.26, 2317.8, 2315.99, 2286.04, 2474.0, 2372.71, 2314.08, 2376.0, 2410.22, 2399.45, 2363.49, 2328.12, 2393.61, 2375.0, 2408.19, 2307.68, 2283.32, 2168.87, 2042.76, 2043.0, 2011.6, 1997.59, 1906.59, 1918.83, 1907.7, 1949.72, 1963.95, 1900.1, 1955.49, 1885.84, 1940.1, 1902.83, 1846.09, 1880.93, 1830.0, 1807.84, 1689.15], \"high\": [3433.37, 3453.0, 3451.74, 3357.4, 3380.32, 3314.4, 3312.62, 3315.9, 3320.0, 3194.97, 3178.24, 3217.52, 3174.39, 3159.22, 3172.51, 3240.81, 3247.47, 3213.59, 3167.24, 3184.0, 3246.82, 3092.0, 3039.16, 3077.09, 3098.0, 3031.58, 3098.27, 3150.0, 3240.58, 3201.36, 3024.0, 3032.0, 3098.35, 3127.38, 3344.29, 3215.0, 3193.88, 3083.97, 3069.55, 3059.88, 2955.56, 2895.0, 2769.63, 2696.8, 2782.57, 2756.23, 2796.0, 2783.11, 2715.0, 2697.43, 2659.64, 2655.0, 2620.0, 2584.0, 2621.48, 2671.38, 2722.35, 2626.43, 2530.0, 2488.65, 2507.54, 2488.0, 2473.53, 2476.93, 2442.37, 2436.97, 2413.58, 2462.0, 2469.85, 2525.45, 2500.01, 2485.0, 2433.0, 2411.0, 2391.37, 2407.7, 2419.0, 2419.67, 2387.24, 2376.0, 2357.45, 2351.0, 2326.98, 2362.44, 2475.0, 2391.89, 2373.5, 2444.88, 2420.43, 2424.22, 2394.0, 2428.31, 2444.98, 2400.0, 2461.0, 2333.37, 2292.0, 2180.0, 2053.0, 2044.0, 2035.72, 1998.52, 1926.33, 1927.53, 1944.96, 1993.02, 1973.63, 1939.79, 1956.49, 1950.26, 1955.0, 1919.4, 1957.0, 1945.0, 1841.66, 1857.78, 1759.45], \"low\": [3386.5, 3378.0, 3344.57, 3267.0, 3257.56, 3275.39, 3238.0, 3256.0, 3205.82, 3154.18, 3120.0, 3155.0, 3101.42, 3073.0, 3101.52, 3140.67, 3165.43, 3127.3, 3101.21, 3104.0, 3151.0, 3005.0, 2996.77, 2995.76, 3015.77, 2888.0, 2970.0, 3065.26, 3105.72, 2994.02, 2948.45, 2918.23, 2973.18, 2950.0, 3068.39, 3135.7, 3074.0, 3012.43, 2990.0, 2930.0, 2871.1, 2754.0, 2675.03, 2630.08, 2688.0, 2712.14, 2721.0, 2718.04, 2669.0, 2659.0, 2636.11, 2631.82, 2576.0, 2508.0, 2503.35, 2536.23, 2626.26, 2525.0, 2487.34, 2437.13, 2450.01, 2461.17, 2445.31, 2444.17, 2398.2, 2378.23, 2330.0, 2414.06, 2430.13, 2442.54, 2467.27, 2428.97, 2384.01, 2356.37, 2353.21, 2337.81, 2355.0, 2372.11, 2357.0, 2343.11, 2320.0, 2307.13, 2256.38, 2258.19, 2396.01, 2310.0, 2306.0, 2363.0, 2382.0, 2382.08, 2351.0, 2279.66, 2386.05, 2316.02, 2335.0, 2245.0, 2186.21, 2038.0, 2017.66, 2011.15, 1997.62, 1930.02, 1889.15, 1890.0, 1893.0, 1944.01, 1912.34, 1899.92, 1889.29, 1885.78, 1900.34, 1812.0, 1820.73, 1832.65, 1745.0, 1689.24, 1626.03], \"open\": [3423.0, 3450.05, 3351.11, 3294.99, 3310.15, 3295.0, 3252.0, 3303.01, 3212.0, 3173.12, 3178.18, 3182.99, 3108.0, 3113.2, 3170.31, 3224.01, 3194.36, 3143.77, 3101.21, 3180.51, 3244.0, 3014.0, 3030.99, 3054.27, 3062.0, 2930.0, 3098.27, 3125.0, 3232.49, 3000.2, 3009.0, 2971.06, 3080.23, 3089.0, 3251.06, 3191.76, 3115.99, 3022.61, 3058.55, 2934.97, 2912.01, 2757.99, 2685.07, 2690.01, 2775.06, 2739.55, 2780.0, 2726.02, 2684.5, 2678.08, 2647.01, 2647.5, 2620.0, 2526.6, 2601.21, 2603.5, 2645.0, 2529.44, 2500.2, 2444.51, 2477.43, 2468.01, 2467.0, 2448.0, 2415.94, 2384.33, 2404.99, 2458.0, 2455.01, 2500.0, 2477.87, 2429.83, 2404.35, 2368.52, 2361.01, 2366.8, 2411.85, 2374.7, 2372.14, 2374.78, 2329.44, 2340.0, 2256.38, 2336.8, 2419.84, 2330.01, 2372.1, 2443.2, 2417.0, 2399.98, 2369.0, 2416.61, 2389.95, 2372.33, 2346.0, 2257.68, 2200.47, 2040.0, 2044.3, 2021.0, 2017.11, 1936.0, 1911.15, 1901.64, 1932.97, 1964.35, 1922.83, 1930.86, 1902.0, 1920.69, 1951.5, 1827.75, 1926.31, 1860.0, 1750.0, 1775.47, 1641.51], \"type\": \"candlestick\", \"x\": [\"8/28/2020\", \"8/27/2020\", \"8/26/2020\", \"8/25/2020\", \"8/24/2020\", \"8/21/2020\", \"8/20/2020\", \"8/19/2020\", \"8/18/2020\", \"8/17/2020\", \"8/14/2020\", \"8/13/2020\", \"8/12/2020\", \"8/11/2020\", \"8/10/2020\", \"8/7/2020\", \"8/6/2020\", \"8/5/2020\", \"8/4/2020\", \"8/3/2020\", \"7/31/2020\", \"7/30/2020\", \"7/29/2020\", \"7/28/2020\", \"7/27/2020\", \"7/24/2020\", \"7/23/2020\", \"7/22/2020\", \"7/21/2020\", \"7/20/2020\", \"7/17/2020\", \"7/16/2020\", \"7/15/2020\", \"7/14/2020\", \"7/13/2020\", \"7/10/2020\", \"7/9/2020\", \"7/8/2020\", \"7/7/2020\", \"7/6/2020\", \"7/2/2020\", \"7/1/2020\", \"6/30/2020\", \"6/29/2020\", \"6/26/2020\", \"6/25/2020\", \"6/24/2020\", \"6/23/2020\", \"6/22/2020\", \"6/19/2020\", \"6/18/2020\", \"6/17/2020\", \"6/16/2020\", \"6/15/2020\", \"6/12/2020\", \"6/11/2020\", \"6/10/2020\", \"6/9/2020\", \"6/8/2020\", \"6/5/2020\", \"6/4/2020\", \"6/3/2020\", \"6/2/2020\", \"6/1/2020\", \"5/29/2020\", \"5/28/2020\", \"5/27/2020\", \"5/26/2020\", \"5/22/2020\", \"5/21/2020\", \"5/20/2020\", \"5/19/2020\", \"5/18/2020\", \"5/15/2020\", \"5/14/2020\", \"5/13/2020\", \"5/12/2020\", \"5/11/2020\", \"5/8/2020\", \"5/7/2020\", \"5/6/2020\", \"5/5/2020\", \"5/4/2020\", \"5/1/2020\", \"4/30/2020\", \"4/29/2020\", \"4/28/2020\", \"4/27/2020\", \"4/24/2020\", \"4/23/2020\", \"4/22/2020\", \"4/21/2020\", \"4/20/2020\", \"4/17/2020\", \"4/16/2020\", \"4/15/2020\", \"4/14/2020\", \"4/13/2020\", \"4/9/2020\", \"4/8/2020\", \"4/7/2020\", \"4/6/2020\", \"4/3/2020\", \"4/2/2020\", \"4/1/2020\", \"3/31/2020\", \"3/30/2020\", \"3/27/2020\", \"3/26/2020\", \"3/25/2020\", \"3/24/2020\", \"3/23/2020\", \"3/20/2020\", \"3/19/2020\", \"3/18/2020\", \"3/17/2020\", \"3/16/2020\"]}],                        {\"template\": {\"data\": {\"bar\": [{\"error_x\": {\"color\": \"#2a3f5f\"}, \"error_y\": {\"color\": \"#2a3f5f\"}, \"marker\": {\"line\": {\"color\": \"#E5ECF6\", \"width\": 0.5}}, \"type\": \"bar\"}], \"barpolar\": [{\"marker\": {\"line\": {\"color\": \"#E5ECF6\", \"width\": 0.5}}, \"type\": \"barpolar\"}], \"carpet\": [{\"aaxis\": {\"endlinecolor\": \"#2a3f5f\", \"gridcolor\": \"white\", \"linecolor\": \"white\", \"minorgridcolor\": \"white\", \"startlinecolor\": \"#2a3f5f\"}, \"baxis\": {\"endlinecolor\": \"#2a3f5f\", \"gridcolor\": \"white\", \"linecolor\": \"white\", \"minorgridcolor\": \"white\", \"startlinecolor\": \"#2a3f5f\"}, \"type\": \"carpet\"}], \"choropleth\": [{\"colorbar\": {\"outlinewidth\": 0, \"ticks\": \"\"}, \"type\": \"choropleth\"}], \"contour\": [{\"colorbar\": {\"outlinewidth\": 0, \"ticks\": \"\"}, \"colorscale\": [[0.0, \"#0d0887\"], [0.1111111111111111, \"#46039f\"], [0.2222222222222222, \"#7201a8\"], [0.3333333333333333, \"#9c179e\"], [0.4444444444444444, \"#bd3786\"], [0.5555555555555556, \"#d8576b\"], [0.6666666666666666, \"#ed7953\"], [0.7777777777777778, \"#fb9f3a\"], [0.8888888888888888, \"#fdca26\"], [1.0, \"#f0f921\"]], \"type\": \"contour\"}], \"contourcarpet\": [{\"colorbar\": {\"outlinewidth\": 0, \"ticks\": \"\"}, \"type\": \"contourcarpet\"}], \"heatmap\": [{\"colorbar\": {\"outlinewidth\": 0, \"ticks\": \"\"}, \"colorscale\": [[0.0, \"#0d0887\"], [0.1111111111111111, \"#46039f\"], [0.2222222222222222, \"#7201a8\"], [0.3333333333333333, \"#9c179e\"], [0.4444444444444444, \"#bd3786\"], [0.5555555555555556, \"#d8576b\"], [0.6666666666666666, \"#ed7953\"], [0.7777777777777778, \"#fb9f3a\"], [0.8888888888888888, \"#fdca26\"], [1.0, \"#f0f921\"]], \"type\": \"heatmap\"}], \"heatmapgl\": [{\"colorbar\": {\"outlinewidth\": 0, \"ticks\": \"\"}, \"colorscale\": [[0.0, \"#0d0887\"], [0.1111111111111111, \"#46039f\"], [0.2222222222222222, \"#7201a8\"], [0.3333333333333333, \"#9c179e\"], [0.4444444444444444, \"#bd3786\"], [0.5555555555555556, \"#d8576b\"], [0.6666666666666666, \"#ed7953\"], [0.7777777777777778, \"#fb9f3a\"], [0.8888888888888888, \"#fdca26\"], [1.0, \"#f0f921\"]], \"type\": \"heatmapgl\"}], \"histogram\": [{\"marker\": {\"colorbar\": {\"outlinewidth\": 0, \"ticks\": \"\"}}, \"type\": \"histogram\"}], \"histogram2d\": [{\"colorbar\": {\"outlinewidth\": 0, \"ticks\": \"\"}, \"colorscale\": [[0.0, \"#0d0887\"], [0.1111111111111111, \"#46039f\"], [0.2222222222222222, \"#7201a8\"], [0.3333333333333333, \"#9c179e\"], [0.4444444444444444, \"#bd3786\"], [0.5555555555555556, \"#d8576b\"], [0.6666666666666666, \"#ed7953\"], [0.7777777777777778, \"#fb9f3a\"], [0.8888888888888888, \"#fdca26\"], [1.0, \"#f0f921\"]], \"type\": \"histogram2d\"}], \"histogram2dcontour\": [{\"colorbar\": {\"outlinewidth\": 0, \"ticks\": \"\"}, \"colorscale\": [[0.0, \"#0d0887\"], [0.1111111111111111, \"#46039f\"], [0.2222222222222222, \"#7201a8\"], [0.3333333333333333, \"#9c179e\"], [0.4444444444444444, \"#bd3786\"], [0.5555555555555556, \"#d8576b\"], [0.6666666666666666, \"#ed7953\"], [0.7777777777777778, \"#fb9f3a\"], [0.8888888888888888, \"#fdca26\"], [1.0, \"#f0f921\"]], \"type\": \"histogram2dcontour\"}], \"mesh3d\": [{\"colorbar\": {\"outlinewidth\": 0, \"ticks\": \"\"}, \"type\": \"mesh3d\"}], \"parcoords\": [{\"line\": {\"colorbar\": {\"outlinewidth\": 0, \"ticks\": \"\"}}, \"type\": \"parcoords\"}], \"pie\": [{\"automargin\": true, \"type\": \"pie\"}], \"scatter\": [{\"marker\": {\"colorbar\": {\"outlinewidth\": 0, \"ticks\": \"\"}}, \"type\": \"scatter\"}], \"scatter3d\": [{\"line\": {\"colorbar\": {\"outlinewidth\": 0, \"ticks\": \"\"}}, \"marker\": {\"colorbar\": {\"outlinewidth\": 0, \"ticks\": \"\"}}, \"type\": \"scatter3d\"}], \"scattercarpet\": [{\"marker\": {\"colorbar\": {\"outlinewidth\": 0, \"ticks\": \"\"}}, \"type\": \"scattercarpet\"}], \"scattergeo\": [{\"marker\": {\"colorbar\": {\"outlinewidth\": 0, \"ticks\": \"\"}}, \"type\": \"scattergeo\"}], \"scattergl\": [{\"marker\": {\"colorbar\": {\"outlinewidth\": 0, \"ticks\": \"\"}}, \"type\": \"scattergl\"}], \"scattermapbox\": [{\"marker\": {\"colorbar\": {\"outlinewidth\": 0, \"ticks\": \"\"}}, \"type\": \"scattermapbox\"}], \"scatterpolar\": [{\"marker\": {\"colorbar\": {\"outlinewidth\": 0, \"ticks\": \"\"}}, \"type\": \"scatterpolar\"}], \"scatterpolargl\": [{\"marker\": {\"colorbar\": {\"outlinewidth\": 0, \"ticks\": \"\"}}, \"type\": \"scatterpolargl\"}], \"scatterternary\": [{\"marker\": {\"colorbar\": {\"outlinewidth\": 0, \"ticks\": \"\"}}, \"type\": \"scatterternary\"}], \"surface\": [{\"colorbar\": {\"outlinewidth\": 0, \"ticks\": \"\"}, \"colorscale\": [[0.0, \"#0d0887\"], [0.1111111111111111, \"#46039f\"], [0.2222222222222222, \"#7201a8\"], [0.3333333333333333, \"#9c179e\"], [0.4444444444444444, \"#bd3786\"], [0.5555555555555556, \"#d8576b\"], [0.6666666666666666, \"#ed7953\"], [0.7777777777777778, \"#fb9f3a\"], [0.8888888888888888, \"#fdca26\"], [1.0, \"#f0f921\"]], \"type\": \"surface\"}], \"table\": [{\"cells\": {\"fill\": {\"color\": \"#EBF0F8\"}, \"line\": {\"color\": \"white\"}}, \"header\": {\"fill\": {\"color\": \"#C8D4E3\"}, \"line\": {\"color\": \"white\"}}, \"type\": \"table\"}]}, \"layout\": {\"annotationdefaults\": {\"arrowcolor\": \"#2a3f5f\", \"arrowhead\": 0, \"arrowwidth\": 1}, \"coloraxis\": {\"colorbar\": {\"outlinewidth\": 0, \"ticks\": \"\"}}, \"colorscale\": {\"diverging\": [[0, \"#8e0152\"], [0.1, \"#c51b7d\"], [0.2, \"#de77ae\"], [0.3, \"#f1b6da\"], [0.4, \"#fde0ef\"], [0.5, \"#f7f7f7\"], [0.6, \"#e6f5d0\"], [0.7, \"#b8e186\"], [0.8, \"#7fbc41\"], [0.9, \"#4d9221\"], [1, \"#276419\"]], \"sequential\": [[0.0, \"#0d0887\"], [0.1111111111111111, \"#46039f\"], [0.2222222222222222, \"#7201a8\"], [0.3333333333333333, \"#9c179e\"], [0.4444444444444444, \"#bd3786\"], [0.5555555555555556, \"#d8576b\"], [0.6666666666666666, \"#ed7953\"], [0.7777777777777778, \"#fb9f3a\"], [0.8888888888888888, \"#fdca26\"], [1.0, \"#f0f921\"]], \"sequentialminus\": [[0.0, \"#0d0887\"], [0.1111111111111111, \"#46039f\"], [0.2222222222222222, \"#7201a8\"], [0.3333333333333333, \"#9c179e\"], [0.4444444444444444, \"#bd3786\"], [0.5555555555555556, \"#d8576b\"], [0.6666666666666666, \"#ed7953\"], [0.7777777777777778, \"#fb9f3a\"], [0.8888888888888888, \"#fdca26\"], [1.0, \"#f0f921\"]]}, \"colorway\": [\"#636efa\", \"#EF553B\", \"#00cc96\", \"#ab63fa\", \"#FFA15A\", \"#19d3f3\", \"#FF6692\", \"#B6E880\", \"#FF97FF\", \"#FECB52\"], \"font\": {\"color\": \"#2a3f5f\"}, \"geo\": {\"bgcolor\": \"white\", \"lakecolor\": \"white\", \"landcolor\": \"#E5ECF6\", \"showlakes\": true, \"showland\": true, \"subunitcolor\": \"white\"}, \"hoverlabel\": {\"align\": \"left\"}, \"hovermode\": \"closest\", \"mapbox\": {\"style\": \"light\"}, \"paper_bgcolor\": \"white\", \"plot_bgcolor\": \"#E5ECF6\", \"polar\": {\"angularaxis\": {\"gridcolor\": \"white\", \"linecolor\": \"white\", \"ticks\": \"\"}, \"bgcolor\": \"#E5ECF6\", \"radialaxis\": {\"gridcolor\": \"white\", \"linecolor\": \"white\", \"ticks\": \"\"}}, \"scene\": {\"xaxis\": {\"backgroundcolor\": \"#E5ECF6\", \"gridcolor\": \"white\", \"gridwidth\": 2, \"linecolor\": \"white\", \"showbackground\": true, \"ticks\": \"\", \"zerolinecolor\": \"white\"}, \"yaxis\": {\"backgroundcolor\": \"#E5ECF6\", \"gridcolor\": \"white\", \"gridwidth\": 2, \"linecolor\": \"white\", \"showbackground\": true, \"ticks\": \"\", \"zerolinecolor\": \"white\"}, \"zaxis\": {\"backgroundcolor\": \"#E5ECF6\", \"gridcolor\": \"white\", \"gridwidth\": 2, \"linecolor\": \"white\", \"showbackground\": true, \"ticks\": \"\", \"zerolinecolor\": \"white\"}}, \"shapedefaults\": {\"line\": {\"color\": \"#2a3f5f\"}}, \"ternary\": {\"aaxis\": {\"gridcolor\": \"white\", \"linecolor\": \"white\", \"ticks\": \"\"}, \"baxis\": {\"gridcolor\": \"white\", \"linecolor\": \"white\", \"ticks\": \"\"}, \"bgcolor\": \"#E5ECF6\", \"caxis\": {\"gridcolor\": \"white\", \"linecolor\": \"white\", \"ticks\": \"\"}}, \"title\": {\"x\": 0.05}, \"xaxis\": {\"automargin\": true, \"gridcolor\": \"white\", \"linecolor\": \"white\", \"ticks\": \"\", \"title\": {\"standoff\": 15}, \"zerolinecolor\": \"white\", \"zerolinewidth\": 2}, \"yaxis\": {\"automargin\": true, \"gridcolor\": \"white\", \"linecolor\": \"white\", \"ticks\": \"\", \"title\": {\"standoff\": 15}, \"zerolinecolor\": \"white\", \"zerolinewidth\": 2}}}},                        {\"responsive\": true}                    ).then(function(){\n",
       "                            \n",
       "var gd = document.getElementById('4865d22d-e0ee-4e33-aae9-4ceeb1e8e72d');\n",
       "var x = new MutationObserver(function (mutations, observer) {{\n",
       "        var display = window.getComputedStyle(gd).display;\n",
       "        if (!display || display === 'none') {{\n",
       "            console.log([gd, 'removed!']);\n",
       "            Plotly.purge(gd);\n",
       "            observer.disconnect();\n",
       "        }}\n",
       "}});\n",
       "\n",
       "// Listen for the removal of the full notebook cells\n",
       "var notebookContainer = gd.closest('#notebook-container');\n",
       "if (notebookContainer) {{\n",
       "    x.observe(notebookContainer, {childList: true});\n",
       "}}\n",
       "\n",
       "// Listen for the clearing of the current output cell\n",
       "var outputEl = gd.closest('.output');\n",
       "if (outputEl) {{\n",
       "    x.observe(outputEl, {childList: true});\n",
       "}}\n",
       "\n",
       "                        })                };                });            </script>        </div>"
      ]
     },
     "metadata": {},
     "output_type": "display_data"
    }
   ],
   "source": [
    "fig = go.Figure(data=[go.Candlestick(x=Amazon['Date'],\n",
    "                                    open = Amazon['Open'],\n",
    "                                    high = Amazon['High'],\n",
    "                                    low = Amazon['Low'],\n",
    "                                    close = Amazon['Close'])])\n",
    "fig.show()"
   ]
  },
  {
   "cell_type": "code",
   "execution_count": 51,
   "metadata": {
    "scrolled": true
   },
   "outputs": [
    {
     "data": {
      "application/vnd.plotly.v1+json": {
       "config": {
        "plotlyServerURL": "https://plot.ly"
       },
       "data": [
        {
         "close": [
          293.66,
          293.22,
          303.91,
          280.82,
          271.39,
          267.01,
          269.01,
          262.59,
          262.34,
          261.16,
          261.24,
          261.3,
          259.89,
          256.13,
          263,
          268.44,
          265.28,
          249.12,
          249.83,
          251.96,
          253.67,
          234.5,
          233.29,
          230.12,
          233.5,
          230.71,
          232.6,
          239.87,
          241.75,
          245.42,
          242.03,
          240.93,
          240.28,
          239.73,
          239,
          245.07,
          244.5,
          243.58,
          240.86,
          240.28,
          233.42,
          237.55,
          227.07,
          220.64,
          216.08,
          235.68,
          234.02,
          242.24,
          239.22,
          238.79,
          235.94,
          235.53,
          235.65,
          232.5,
          228.58,
          224.43,
          236.73,
          238.67,
          231.4,
          230.77,
          226.29,
          230.16,
          232.72,
          231.91,
          225.09,
          225.46,
          229.14,
          232.2,
          234.91,
          231.39,
          229.97,
          216.88,
          213.19,
          210.88,
          206.81,
          205.1,
          210.1,
          213.18,
          212.35,
          211.26,
          208.47,
          207.07,
          205.26,
          202.27,
          204.71,
          194.19,
          182.91,
          187.5,
          190.07,
          185.13,
          182.28,
          170.8,
          178.24,
          179.24,
          176.25,
          176.97,
          178.17,
          174.79,
          175.19,
          174.28,
          168.83,
          165.55,
          154.18,
          158.19,
          159.6,
          166.8,
          165.95,
          156.79,
          163.34,
          156.21,
          160.98,
          148.1,
          149.73,
          153.13,
          146.96,
          149.42,
          146.01
         ],
         "high": [
          297.23,
          301.23,
          304.67,
          283.09,
          277.25,
          270.49,
          269.63,
          267.91,
          265.15,
          264.1,
          262.65,
          265.16,
          263.9,
          265.92,
          273.86,
          278.89,
          266.6,
          252.27,
          252.8,
          255.4,
          255.85,
          234.89,
          233.7,
          234.96,
          234.95,
          233.49,
          242.42,
          241.9,
          246.91,
          246.05,
          244.16,
          241.76,
          244.82,
          240.33,
          250.15,
          245.49,
          246.53,
          246.99,
          247.65,
          240.4,
          240,
          239,
          227.5,
          220.75,
          233.09,
          237.3,
          243.22,
          245.19,
          240.7,
          240.83,
          236.14,
          237.59,
          238.46,
          233.77,
          231.66,
          232.89,
          241.21,
          239.77,
          231.55,
          231.35,
          231.63,
          232.65,
          233,
          232.44,
          227.49,
          231.63,
          230.56,
          240.9,
          235.99,
          237.2,
          231.34,
          220.49,
          214.64,
          211.34,
          206.93,
          210.78,
          215.28,
          215,
          213.21,
          211.6,
          211.6,
          210.38,
          205.91,
          207.28,
          209.69,
          196.91,
          189.2,
          193.75,
          190.41,
          187.05,
          184.78,
          175.38,
          180.5,
          180.28,
          178.05,
          178.19,
          181.23,
          175,
          177.08,
          175,
          173.39,
          166.2,
          157.91,
          161.35,
          164.15,
          170.93,
          166.75,
          160.09,
          164,
          162.99,
          161.31,
          152.31,
          159.27,
          159.93,
          148.18,
          153.94,
          159.13
         ],
         "low": [
          290.98,
          292.02,
          284,
          270.26,
          268.77,
          266.42,
          261.46,
          261.35,
          259.26,
          259.4,
          258.68,
          259.57,
          258.11,
          255.13,
          259.69,
          263.43,
          248.67,
          247.77,
          247.43,
          250.33,
          249,
          229,
          230.31,
          229.83,
          230.83,
          226.9,
          231.75,
          238.12,
          240.08,
          235.64,
          237.86,
          236.33,
          238.05,
          232.03,
          238.42,
          239.32,
          239.24,
          236.59,
          238.82,
          232.27,
          232.61,
          227.56,
          218.47,
          207.11,
          215.4,
          232.74,
          232.68,
          239.86,
          236.91,
          235.55,
          232.15,
          231.73,
          233,
          224.8,
          224.5,
          223.55,
          235.28,
          230.41,
          227.41,
          225.31,
          224.61,
          228.53,
          226.56,
          223.5,
          222.88,
          224,
          221.13,
          231.67,
          228.74,
          231.2,
          223.19,
          212.83,
          210.94,
          204.12,
          200.69,
          202.11,
          210,
          210.37,
          210.85,
          209.04,
          206.66,
          206.5,
          198.76,
          199.05,
          201.57,
          190,
          182.56,
          187.41,
          180.83,
          183.15,
          178.14,
          168.34,
          176.77,
          176.66,
          172.51,
          172.82,
          176.62,
          169.45,
          171.57,
          167.74,
          166.01,
          158.51,
          150.83,
          155.92,
          158.04,
          164.2,
          158.06,
          154.75,
          157.02,
          153.06,
          152.57,
          142.25,
          148,
          144.8,
          137.1,
          140,
          143.1
         ],
         "open": [
          295,
          300.16,
          284,
          272.41,
          271.07,
          268.69,
          261.5,
          261.39,
          260.95,
          262.5,
          262.31,
          261.55,
          258.97,
          260.19,
          268.04,
          264.08,
          249.04,
          250.19,
          251.56,
          252.65,
          255.82,
          230.22,
          231.14,
          234.63,
          231.46,
          230.19,
          239.63,
          240.26,
          246.22,
          240.06,
          241,
          238,
          241.55,
          236.76,
          247.01,
          243.69,
          245,
          238.11,
          239.41,
          233.76,
          239,
          228.5,
          220.59,
          209.75,
          232.64,
          234.62,
          241.2,
          241.28,
          238.56,
          237.79,
          234.99,
          235,
          237.14,
          225.09,
          229.9,
          229.94,
          240.96,
          231.52,
          229.03,
          226.71,
          229.56,
          232.11,
          230.94,
          224.59,
          225.2,
          224.3,
          229.07,
          239.77,
          231.51,
          234.72,
          223.5,
          213.27,
          212.15,
          205.27,
          202.56,
          209.43,
          213.29,
          210.89,
          212.24,
          211.16,
          208.12,
          207.02,
          200.2,
          201.6,
          206.92,
          190.93,
          188.66,
          192.66,
          183.23,
          184.08,
          178.45,
          175.25,
          177.41,
          179.2,
          177.95,
          175.19,
          178.98,
          173.67,
          175.9,
          171.25,
          171.79,
          160.15,
          157.15,
          159.1,
          161.62,
          165.48,
          159.18,
          158.2,
          158.25,
          158.92,
          155.21,
          149.66,
          156.02,
          146.62,
          139.75,
          150.74,
          152.32
         ],
         "type": "candlestick",
         "x": [
          "8/28/2020",
          "8/27/2020",
          "8/26/2020",
          "8/25/2020",
          "8/24/2020",
          "8/21/2020",
          "8/20/2020",
          "8/19/2020",
          "8/18/2020",
          "8/17/2020",
          "8/14/2020",
          "8/13/2020",
          "8/12/2020",
          "8/11/2020",
          "8/10/2020",
          "8/7/2020",
          "8/6/2020",
          "8/5/2020",
          "8/4/2020",
          "8/3/2020",
          "7/31/2020",
          "7/30/2020",
          "7/29/2020",
          "7/28/2020",
          "7/27/2020",
          "7/24/2020",
          "7/23/2020",
          "7/22/2020",
          "7/21/2020",
          "7/20/2020",
          "7/17/2020",
          "7/16/2020",
          "7/15/2020",
          "7/14/2020",
          "7/13/2020",
          "7/10/2020",
          "7/9/2020",
          "7/8/2020",
          "7/7/2020",
          "7/6/2020",
          "7/2/2020",
          "7/1/2020",
          "6/30/2020",
          "6/29/2020",
          "6/26/2020",
          "6/25/2020",
          "6/24/2020",
          "6/23/2020",
          "6/22/2020",
          "6/19/2020",
          "6/18/2020",
          "6/17/2020",
          "6/16/2020",
          "6/15/2020",
          "6/12/2020",
          "6/11/2020",
          "6/10/2020",
          "6/9/2020",
          "6/8/2020",
          "6/5/2020",
          "6/4/2020",
          "6/3/2020",
          "6/2/2020",
          "6/1/2020",
          "5/29/2020",
          "5/28/2020",
          "5/27/2020",
          "5/26/2020",
          "5/22/2020",
          "5/21/2020",
          "5/20/2020",
          "5/19/2020",
          "5/18/2020",
          "5/15/2020",
          "5/14/2020",
          "5/13/2020",
          "5/12/2020",
          "5/11/2020",
          "5/8/2020",
          "5/7/2020",
          "5/6/2020",
          "5/5/2020",
          "5/4/2020",
          "5/1/2020",
          "4/30/2020",
          "4/29/2020",
          "4/28/2020",
          "4/27/2020",
          "4/24/2020",
          "4/23/2020",
          "4/22/2020",
          "4/21/2020",
          "4/20/2020",
          "4/17/2020",
          "4/16/2020",
          "4/15/2020",
          "4/14/2020",
          "4/13/2020",
          "4/9/2020",
          "4/8/2020",
          "4/7/2020",
          "4/6/2020",
          "4/3/2020",
          "4/2/2020",
          "4/1/2020",
          "3/31/2020",
          "3/30/2020",
          "3/27/2020",
          "3/26/2020",
          "3/25/2020",
          "3/24/2020",
          "3/23/2020",
          "3/20/2020",
          "3/19/2020",
          "3/18/2020",
          "3/17/2020",
          "3/16/2020"
         ]
        }
       ],
       "layout": {
        "template": {
         "data": {
          "bar": [
           {
            "error_x": {
             "color": "#2a3f5f"
            },
            "error_y": {
             "color": "#2a3f5f"
            },
            "marker": {
             "line": {
              "color": "#E5ECF6",
              "width": 0.5
             }
            },
            "type": "bar"
           }
          ],
          "barpolar": [
           {
            "marker": {
             "line": {
              "color": "#E5ECF6",
              "width": 0.5
             }
            },
            "type": "barpolar"
           }
          ],
          "carpet": [
           {
            "aaxis": {
             "endlinecolor": "#2a3f5f",
             "gridcolor": "white",
             "linecolor": "white",
             "minorgridcolor": "white",
             "startlinecolor": "#2a3f5f"
            },
            "baxis": {
             "endlinecolor": "#2a3f5f",
             "gridcolor": "white",
             "linecolor": "white",
             "minorgridcolor": "white",
             "startlinecolor": "#2a3f5f"
            },
            "type": "carpet"
           }
          ],
          "choropleth": [
           {
            "colorbar": {
             "outlinewidth": 0,
             "ticks": ""
            },
            "type": "choropleth"
           }
          ],
          "contour": [
           {
            "colorbar": {
             "outlinewidth": 0,
             "ticks": ""
            },
            "colorscale": [
             [
              0,
              "#0d0887"
             ],
             [
              0.1111111111111111,
              "#46039f"
             ],
             [
              0.2222222222222222,
              "#7201a8"
             ],
             [
              0.3333333333333333,
              "#9c179e"
             ],
             [
              0.4444444444444444,
              "#bd3786"
             ],
             [
              0.5555555555555556,
              "#d8576b"
             ],
             [
              0.6666666666666666,
              "#ed7953"
             ],
             [
              0.7777777777777778,
              "#fb9f3a"
             ],
             [
              0.8888888888888888,
              "#fdca26"
             ],
             [
              1,
              "#f0f921"
             ]
            ],
            "type": "contour"
           }
          ],
          "contourcarpet": [
           {
            "colorbar": {
             "outlinewidth": 0,
             "ticks": ""
            },
            "type": "contourcarpet"
           }
          ],
          "heatmap": [
           {
            "colorbar": {
             "outlinewidth": 0,
             "ticks": ""
            },
            "colorscale": [
             [
              0,
              "#0d0887"
             ],
             [
              0.1111111111111111,
              "#46039f"
             ],
             [
              0.2222222222222222,
              "#7201a8"
             ],
             [
              0.3333333333333333,
              "#9c179e"
             ],
             [
              0.4444444444444444,
              "#bd3786"
             ],
             [
              0.5555555555555556,
              "#d8576b"
             ],
             [
              0.6666666666666666,
              "#ed7953"
             ],
             [
              0.7777777777777778,
              "#fb9f3a"
             ],
             [
              0.8888888888888888,
              "#fdca26"
             ],
             [
              1,
              "#f0f921"
             ]
            ],
            "type": "heatmap"
           }
          ],
          "heatmapgl": [
           {
            "colorbar": {
             "outlinewidth": 0,
             "ticks": ""
            },
            "colorscale": [
             [
              0,
              "#0d0887"
             ],
             [
              0.1111111111111111,
              "#46039f"
             ],
             [
              0.2222222222222222,
              "#7201a8"
             ],
             [
              0.3333333333333333,
              "#9c179e"
             ],
             [
              0.4444444444444444,
              "#bd3786"
             ],
             [
              0.5555555555555556,
              "#d8576b"
             ],
             [
              0.6666666666666666,
              "#ed7953"
             ],
             [
              0.7777777777777778,
              "#fb9f3a"
             ],
             [
              0.8888888888888888,
              "#fdca26"
             ],
             [
              1,
              "#f0f921"
             ]
            ],
            "type": "heatmapgl"
           }
          ],
          "histogram": [
           {
            "marker": {
             "colorbar": {
              "outlinewidth": 0,
              "ticks": ""
             }
            },
            "type": "histogram"
           }
          ],
          "histogram2d": [
           {
            "colorbar": {
             "outlinewidth": 0,
             "ticks": ""
            },
            "colorscale": [
             [
              0,
              "#0d0887"
             ],
             [
              0.1111111111111111,
              "#46039f"
             ],
             [
              0.2222222222222222,
              "#7201a8"
             ],
             [
              0.3333333333333333,
              "#9c179e"
             ],
             [
              0.4444444444444444,
              "#bd3786"
             ],
             [
              0.5555555555555556,
              "#d8576b"
             ],
             [
              0.6666666666666666,
              "#ed7953"
             ],
             [
              0.7777777777777778,
              "#fb9f3a"
             ],
             [
              0.8888888888888888,
              "#fdca26"
             ],
             [
              1,
              "#f0f921"
             ]
            ],
            "type": "histogram2d"
           }
          ],
          "histogram2dcontour": [
           {
            "colorbar": {
             "outlinewidth": 0,
             "ticks": ""
            },
            "colorscale": [
             [
              0,
              "#0d0887"
             ],
             [
              0.1111111111111111,
              "#46039f"
             ],
             [
              0.2222222222222222,
              "#7201a8"
             ],
             [
              0.3333333333333333,
              "#9c179e"
             ],
             [
              0.4444444444444444,
              "#bd3786"
             ],
             [
              0.5555555555555556,
              "#d8576b"
             ],
             [
              0.6666666666666666,
              "#ed7953"
             ],
             [
              0.7777777777777778,
              "#fb9f3a"
             ],
             [
              0.8888888888888888,
              "#fdca26"
             ],
             [
              1,
              "#f0f921"
             ]
            ],
            "type": "histogram2dcontour"
           }
          ],
          "mesh3d": [
           {
            "colorbar": {
             "outlinewidth": 0,
             "ticks": ""
            },
            "type": "mesh3d"
           }
          ],
          "parcoords": [
           {
            "line": {
             "colorbar": {
              "outlinewidth": 0,
              "ticks": ""
             }
            },
            "type": "parcoords"
           }
          ],
          "pie": [
           {
            "automargin": true,
            "type": "pie"
           }
          ],
          "scatter": [
           {
            "marker": {
             "colorbar": {
              "outlinewidth": 0,
              "ticks": ""
             }
            },
            "type": "scatter"
           }
          ],
          "scatter3d": [
           {
            "line": {
             "colorbar": {
              "outlinewidth": 0,
              "ticks": ""
             }
            },
            "marker": {
             "colorbar": {
              "outlinewidth": 0,
              "ticks": ""
             }
            },
            "type": "scatter3d"
           }
          ],
          "scattercarpet": [
           {
            "marker": {
             "colorbar": {
              "outlinewidth": 0,
              "ticks": ""
             }
            },
            "type": "scattercarpet"
           }
          ],
          "scattergeo": [
           {
            "marker": {
             "colorbar": {
              "outlinewidth": 0,
              "ticks": ""
             }
            },
            "type": "scattergeo"
           }
          ],
          "scattergl": [
           {
            "marker": {
             "colorbar": {
              "outlinewidth": 0,
              "ticks": ""
             }
            },
            "type": "scattergl"
           }
          ],
          "scattermapbox": [
           {
            "marker": {
             "colorbar": {
              "outlinewidth": 0,
              "ticks": ""
             }
            },
            "type": "scattermapbox"
           }
          ],
          "scatterpolar": [
           {
            "marker": {
             "colorbar": {
              "outlinewidth": 0,
              "ticks": ""
             }
            },
            "type": "scatterpolar"
           }
          ],
          "scatterpolargl": [
           {
            "marker": {
             "colorbar": {
              "outlinewidth": 0,
              "ticks": ""
             }
            },
            "type": "scatterpolargl"
           }
          ],
          "scatterternary": [
           {
            "marker": {
             "colorbar": {
              "outlinewidth": 0,
              "ticks": ""
             }
            },
            "type": "scatterternary"
           }
          ],
          "surface": [
           {
            "colorbar": {
             "outlinewidth": 0,
             "ticks": ""
            },
            "colorscale": [
             [
              0,
              "#0d0887"
             ],
             [
              0.1111111111111111,
              "#46039f"
             ],
             [
              0.2222222222222222,
              "#7201a8"
             ],
             [
              0.3333333333333333,
              "#9c179e"
             ],
             [
              0.4444444444444444,
              "#bd3786"
             ],
             [
              0.5555555555555556,
              "#d8576b"
             ],
             [
              0.6666666666666666,
              "#ed7953"
             ],
             [
              0.7777777777777778,
              "#fb9f3a"
             ],
             [
              0.8888888888888888,
              "#fdca26"
             ],
             [
              1,
              "#f0f921"
             ]
            ],
            "type": "surface"
           }
          ],
          "table": [
           {
            "cells": {
             "fill": {
              "color": "#EBF0F8"
             },
             "line": {
              "color": "white"
             }
            },
            "header": {
             "fill": {
              "color": "#C8D4E3"
             },
             "line": {
              "color": "white"
             }
            },
            "type": "table"
           }
          ]
         },
         "layout": {
          "annotationdefaults": {
           "arrowcolor": "#2a3f5f",
           "arrowhead": 0,
           "arrowwidth": 1
          },
          "coloraxis": {
           "colorbar": {
            "outlinewidth": 0,
            "ticks": ""
           }
          },
          "colorscale": {
           "diverging": [
            [
             0,
             "#8e0152"
            ],
            [
             0.1,
             "#c51b7d"
            ],
            [
             0.2,
             "#de77ae"
            ],
            [
             0.3,
             "#f1b6da"
            ],
            [
             0.4,
             "#fde0ef"
            ],
            [
             0.5,
             "#f7f7f7"
            ],
            [
             0.6,
             "#e6f5d0"
            ],
            [
             0.7,
             "#b8e186"
            ],
            [
             0.8,
             "#7fbc41"
            ],
            [
             0.9,
             "#4d9221"
            ],
            [
             1,
             "#276419"
            ]
           ],
           "sequential": [
            [
             0,
             "#0d0887"
            ],
            [
             0.1111111111111111,
             "#46039f"
            ],
            [
             0.2222222222222222,
             "#7201a8"
            ],
            [
             0.3333333333333333,
             "#9c179e"
            ],
            [
             0.4444444444444444,
             "#bd3786"
            ],
            [
             0.5555555555555556,
             "#d8576b"
            ],
            [
             0.6666666666666666,
             "#ed7953"
            ],
            [
             0.7777777777777778,
             "#fb9f3a"
            ],
            [
             0.8888888888888888,
             "#fdca26"
            ],
            [
             1,
             "#f0f921"
            ]
           ],
           "sequentialminus": [
            [
             0,
             "#0d0887"
            ],
            [
             0.1111111111111111,
             "#46039f"
            ],
            [
             0.2222222222222222,
             "#7201a8"
            ],
            [
             0.3333333333333333,
             "#9c179e"
            ],
            [
             0.4444444444444444,
             "#bd3786"
            ],
            [
             0.5555555555555556,
             "#d8576b"
            ],
            [
             0.6666666666666666,
             "#ed7953"
            ],
            [
             0.7777777777777778,
             "#fb9f3a"
            ],
            [
             0.8888888888888888,
             "#fdca26"
            ],
            [
             1,
             "#f0f921"
            ]
           ]
          },
          "colorway": [
           "#636efa",
           "#EF553B",
           "#00cc96",
           "#ab63fa",
           "#FFA15A",
           "#19d3f3",
           "#FF6692",
           "#B6E880",
           "#FF97FF",
           "#FECB52"
          ],
          "font": {
           "color": "#2a3f5f"
          },
          "geo": {
           "bgcolor": "white",
           "lakecolor": "white",
           "landcolor": "#E5ECF6",
           "showlakes": true,
           "showland": true,
           "subunitcolor": "white"
          },
          "hoverlabel": {
           "align": "left"
          },
          "hovermode": "closest",
          "mapbox": {
           "style": "light"
          },
          "paper_bgcolor": "white",
          "plot_bgcolor": "#E5ECF6",
          "polar": {
           "angularaxis": {
            "gridcolor": "white",
            "linecolor": "white",
            "ticks": ""
           },
           "bgcolor": "#E5ECF6",
           "radialaxis": {
            "gridcolor": "white",
            "linecolor": "white",
            "ticks": ""
           }
          },
          "scene": {
           "xaxis": {
            "backgroundcolor": "#E5ECF6",
            "gridcolor": "white",
            "gridwidth": 2,
            "linecolor": "white",
            "showbackground": true,
            "ticks": "",
            "zerolinecolor": "white"
           },
           "yaxis": {
            "backgroundcolor": "#E5ECF6",
            "gridcolor": "white",
            "gridwidth": 2,
            "linecolor": "white",
            "showbackground": true,
            "ticks": "",
            "zerolinecolor": "white"
           },
           "zaxis": {
            "backgroundcolor": "#E5ECF6",
            "gridcolor": "white",
            "gridwidth": 2,
            "linecolor": "white",
            "showbackground": true,
            "ticks": "",
            "zerolinecolor": "white"
           }
          },
          "shapedefaults": {
           "line": {
            "color": "#2a3f5f"
           }
          },
          "ternary": {
           "aaxis": {
            "gridcolor": "white",
            "linecolor": "white",
            "ticks": ""
           },
           "baxis": {
            "gridcolor": "white",
            "linecolor": "white",
            "ticks": ""
           },
           "bgcolor": "#E5ECF6",
           "caxis": {
            "gridcolor": "white",
            "linecolor": "white",
            "ticks": ""
           }
          },
          "title": {
           "x": 0.05
          },
          "xaxis": {
           "automargin": true,
           "gridcolor": "white",
           "linecolor": "white",
           "ticks": "",
           "title": {
            "standoff": 15
           },
           "zerolinecolor": "white",
           "zerolinewidth": 2
          },
          "yaxis": {
           "automargin": true,
           "gridcolor": "white",
           "linecolor": "white",
           "ticks": "",
           "title": {
            "standoff": 15
           },
           "zerolinecolor": "white",
           "zerolinewidth": 2
          }
         }
        }
       }
      },
      "text/html": [
       "<div>                            <div id=\"02fd0601-81cb-40a6-8f8f-da335921d17c\" class=\"plotly-graph-div\" style=\"height:525px; width:100%;\"></div>            <script type=\"text/javascript\">                require([\"plotly\"], function(Plotly) {                    window.PLOTLYENV=window.PLOTLYENV || {};                                    if (document.getElementById(\"02fd0601-81cb-40a6-8f8f-da335921d17c\")) {                    Plotly.newPlot(                        \"02fd0601-81cb-40a6-8f8f-da335921d17c\",                        [{\"close\": [293.66, 293.22, 303.91, 280.82, 271.39, 267.01, 269.01, 262.59, 262.34, 261.16, 261.24, 261.3, 259.89, 256.13, 263.0, 268.44, 265.28, 249.12, 249.83, 251.96, 253.67, 234.5, 233.29, 230.12, 233.5, 230.71, 232.6, 239.87, 241.75, 245.42, 242.03, 240.93, 240.28, 239.73, 239.0, 245.07, 244.5, 243.58, 240.86, 240.28, 233.42, 237.55, 227.07, 220.64, 216.08, 235.68, 234.02, 242.24, 239.22, 238.79, 235.94, 235.53, 235.65, 232.5, 228.58, 224.43, 236.73, 238.67, 231.4, 230.77, 226.29, 230.16, 232.72, 231.91, 225.09, 225.46, 229.14, 232.2, 234.91, 231.39, 229.97, 216.88, 213.19, 210.88, 206.81, 205.1, 210.1, 213.18, 212.35, 211.26, 208.47, 207.07, 205.26, 202.27, 204.71, 194.19, 182.91, 187.5, 190.07, 185.13, 182.28, 170.8, 178.24, 179.24, 176.25, 176.97, 178.17, 174.79, 175.19, 174.28, 168.83, 165.55, 154.18, 158.19, 159.6, 166.8, 165.95, 156.79, 163.34, 156.21, 160.98, 148.1, 149.73, 153.13, 146.96, 149.42, 146.01], \"high\": [297.23, 301.23, 304.67, 283.09, 277.25, 270.49, 269.63, 267.91, 265.15, 264.1, 262.65, 265.16, 263.9, 265.92, 273.86, 278.89, 266.6, 252.27, 252.8, 255.4, 255.85, 234.89, 233.7, 234.96, 234.95, 233.49, 242.42, 241.9, 246.91, 246.05, 244.16, 241.76, 244.82, 240.33, 250.15, 245.49, 246.53, 246.99, 247.65, 240.4, 240.0, 239.0, 227.5, 220.75, 233.09, 237.3, 243.22, 245.19, 240.7, 240.83, 236.14, 237.59, 238.46, 233.77, 231.66, 232.89, 241.21, 239.77, 231.55, 231.35, 231.63, 232.65, 233.0, 232.44, 227.49, 231.63, 230.56, 240.9, 235.99, 237.2, 231.34, 220.49, 214.64, 211.34, 206.93, 210.78, 215.28, 215.0, 213.21, 211.6, 211.6, 210.38, 205.91, 207.28, 209.69, 196.91, 189.2, 193.75, 190.41, 187.05, 184.78, 175.38, 180.5, 180.28, 178.05, 178.19, 181.23, 175.0, 177.08, 175.0, 173.39, 166.2, 157.91, 161.35, 164.15, 170.93, 166.75, 160.09, 164.0, 162.99, 161.31, 152.31, 159.27, 159.93, 148.18, 153.94, 159.13], \"low\": [290.98, 292.02, 284.0, 270.26, 268.77, 266.42, 261.46, 261.35, 259.26, 259.4, 258.68, 259.57, 258.11, 255.13, 259.69, 263.43, 248.67, 247.77, 247.43, 250.33, 249.0, 229.0, 230.31, 229.83, 230.83, 226.9, 231.75, 238.12, 240.08, 235.64, 237.86, 236.33, 238.05, 232.03, 238.42, 239.32, 239.24, 236.59, 238.82, 232.27, 232.61, 227.56, 218.47, 207.11, 215.4, 232.74, 232.68, 239.86, 236.91, 235.55, 232.15, 231.73, 233.0, 224.8, 224.5, 223.55, 235.28, 230.41, 227.41, 225.31, 224.61, 228.53, 226.56, 223.5, 222.88, 224.0, 221.13, 231.67, 228.74, 231.2, 223.19, 212.83, 210.94, 204.12, 200.69, 202.11, 210.0, 210.37, 210.85, 209.04, 206.66, 206.5, 198.76, 199.05, 201.57, 190.0, 182.56, 187.41, 180.83, 183.15, 178.14, 168.34, 176.77, 176.66, 172.51, 172.82, 176.62, 169.45, 171.57, 167.74, 166.01, 158.51, 150.83, 155.92, 158.04, 164.2, 158.06, 154.75, 157.02, 153.06, 152.57, 142.25, 148.0, 144.8, 137.1, 140.0, 143.1], \"open\": [295.0, 300.16, 284.0, 272.41, 271.07, 268.69, 261.5, 261.39, 260.95, 262.5, 262.31, 261.55, 258.97, 260.19, 268.04, 264.08, 249.04, 250.19, 251.56, 252.65, 255.82, 230.22, 231.14, 234.63, 231.46, 230.19, 239.63, 240.26, 246.22, 240.06, 241.0, 238.0, 241.55, 236.76, 247.01, 243.69, 245.0, 238.11, 239.41, 233.76, 239.0, 228.5, 220.59, 209.75, 232.64, 234.62, 241.2, 241.28, 238.56, 237.79, 234.99, 235.0, 237.14, 225.09, 229.9, 229.94, 240.96, 231.52, 229.03, 226.71, 229.56, 232.11, 230.94, 224.59, 225.2, 224.3, 229.07, 239.77, 231.51, 234.72, 223.5, 213.27, 212.15, 205.27, 202.56, 209.43, 213.29, 210.89, 212.24, 211.16, 208.12, 207.02, 200.2, 201.6, 206.92, 190.93, 188.66, 192.66, 183.23, 184.08, 178.45, 175.25, 177.41, 179.2, 177.95, 175.19, 178.98, 173.67, 175.9, 171.25, 171.79, 160.15, 157.15, 159.1, 161.62, 165.48, 159.18, 158.2, 158.25, 158.92, 155.21, 149.66, 156.02, 146.62, 139.75, 150.74, 152.32], \"type\": \"candlestick\", \"x\": [\"8/28/2020\", \"8/27/2020\", \"8/26/2020\", \"8/25/2020\", \"8/24/2020\", \"8/21/2020\", \"8/20/2020\", \"8/19/2020\", \"8/18/2020\", \"8/17/2020\", \"8/14/2020\", \"8/13/2020\", \"8/12/2020\", \"8/11/2020\", \"8/10/2020\", \"8/7/2020\", \"8/6/2020\", \"8/5/2020\", \"8/4/2020\", \"8/3/2020\", \"7/31/2020\", \"7/30/2020\", \"7/29/2020\", \"7/28/2020\", \"7/27/2020\", \"7/24/2020\", \"7/23/2020\", \"7/22/2020\", \"7/21/2020\", \"7/20/2020\", \"7/17/2020\", \"7/16/2020\", \"7/15/2020\", \"7/14/2020\", \"7/13/2020\", \"7/10/2020\", \"7/9/2020\", \"7/8/2020\", \"7/7/2020\", \"7/6/2020\", \"7/2/2020\", \"7/1/2020\", \"6/30/2020\", \"6/29/2020\", \"6/26/2020\", \"6/25/2020\", \"6/24/2020\", \"6/23/2020\", \"6/22/2020\", \"6/19/2020\", \"6/18/2020\", \"6/17/2020\", \"6/16/2020\", \"6/15/2020\", \"6/12/2020\", \"6/11/2020\", \"6/10/2020\", \"6/9/2020\", \"6/8/2020\", \"6/5/2020\", \"6/4/2020\", \"6/3/2020\", \"6/2/2020\", \"6/1/2020\", \"5/29/2020\", \"5/28/2020\", \"5/27/2020\", \"5/26/2020\", \"5/22/2020\", \"5/21/2020\", \"5/20/2020\", \"5/19/2020\", \"5/18/2020\", \"5/15/2020\", \"5/14/2020\", \"5/13/2020\", \"5/12/2020\", \"5/11/2020\", \"5/8/2020\", \"5/7/2020\", \"5/6/2020\", \"5/5/2020\", \"5/4/2020\", \"5/1/2020\", \"4/30/2020\", \"4/29/2020\", \"4/28/2020\", \"4/27/2020\", \"4/24/2020\", \"4/23/2020\", \"4/22/2020\", \"4/21/2020\", \"4/20/2020\", \"4/17/2020\", \"4/16/2020\", \"4/15/2020\", \"4/14/2020\", \"4/13/2020\", \"4/9/2020\", \"4/8/2020\", \"4/7/2020\", \"4/6/2020\", \"4/3/2020\", \"4/2/2020\", \"4/1/2020\", \"3/31/2020\", \"3/30/2020\", \"3/27/2020\", \"3/26/2020\", \"3/25/2020\", \"3/24/2020\", \"3/23/2020\", \"3/20/2020\", \"3/19/2020\", \"3/18/2020\", \"3/17/2020\", \"3/16/2020\"]}],                        {\"template\": {\"data\": {\"bar\": [{\"error_x\": {\"color\": \"#2a3f5f\"}, \"error_y\": {\"color\": \"#2a3f5f\"}, \"marker\": {\"line\": {\"color\": \"#E5ECF6\", \"width\": 0.5}}, \"type\": \"bar\"}], \"barpolar\": [{\"marker\": {\"line\": {\"color\": \"#E5ECF6\", \"width\": 0.5}}, \"type\": \"barpolar\"}], \"carpet\": [{\"aaxis\": {\"endlinecolor\": \"#2a3f5f\", \"gridcolor\": \"white\", \"linecolor\": \"white\", \"minorgridcolor\": \"white\", \"startlinecolor\": \"#2a3f5f\"}, \"baxis\": {\"endlinecolor\": \"#2a3f5f\", \"gridcolor\": \"white\", \"linecolor\": \"white\", \"minorgridcolor\": \"white\", \"startlinecolor\": \"#2a3f5f\"}, \"type\": \"carpet\"}], \"choropleth\": [{\"colorbar\": {\"outlinewidth\": 0, \"ticks\": \"\"}, \"type\": \"choropleth\"}], \"contour\": [{\"colorbar\": {\"outlinewidth\": 0, \"ticks\": \"\"}, \"colorscale\": [[0.0, \"#0d0887\"], [0.1111111111111111, \"#46039f\"], [0.2222222222222222, \"#7201a8\"], [0.3333333333333333, \"#9c179e\"], [0.4444444444444444, \"#bd3786\"], [0.5555555555555556, \"#d8576b\"], [0.6666666666666666, \"#ed7953\"], [0.7777777777777778, \"#fb9f3a\"], [0.8888888888888888, \"#fdca26\"], [1.0, \"#f0f921\"]], \"type\": \"contour\"}], \"contourcarpet\": [{\"colorbar\": {\"outlinewidth\": 0, \"ticks\": \"\"}, \"type\": \"contourcarpet\"}], \"heatmap\": [{\"colorbar\": {\"outlinewidth\": 0, \"ticks\": \"\"}, \"colorscale\": [[0.0, \"#0d0887\"], [0.1111111111111111, \"#46039f\"], [0.2222222222222222, \"#7201a8\"], [0.3333333333333333, \"#9c179e\"], [0.4444444444444444, \"#bd3786\"], [0.5555555555555556, \"#d8576b\"], [0.6666666666666666, \"#ed7953\"], [0.7777777777777778, \"#fb9f3a\"], [0.8888888888888888, \"#fdca26\"], [1.0, \"#f0f921\"]], \"type\": \"heatmap\"}], \"heatmapgl\": [{\"colorbar\": {\"outlinewidth\": 0, \"ticks\": \"\"}, \"colorscale\": [[0.0, \"#0d0887\"], [0.1111111111111111, \"#46039f\"], [0.2222222222222222, \"#7201a8\"], [0.3333333333333333, \"#9c179e\"], [0.4444444444444444, \"#bd3786\"], [0.5555555555555556, \"#d8576b\"], [0.6666666666666666, \"#ed7953\"], [0.7777777777777778, \"#fb9f3a\"], [0.8888888888888888, \"#fdca26\"], [1.0, \"#f0f921\"]], \"type\": \"heatmapgl\"}], \"histogram\": [{\"marker\": {\"colorbar\": {\"outlinewidth\": 0, \"ticks\": \"\"}}, \"type\": \"histogram\"}], \"histogram2d\": [{\"colorbar\": {\"outlinewidth\": 0, \"ticks\": \"\"}, \"colorscale\": [[0.0, \"#0d0887\"], [0.1111111111111111, \"#46039f\"], [0.2222222222222222, \"#7201a8\"], [0.3333333333333333, \"#9c179e\"], [0.4444444444444444, \"#bd3786\"], [0.5555555555555556, \"#d8576b\"], [0.6666666666666666, \"#ed7953\"], [0.7777777777777778, \"#fb9f3a\"], [0.8888888888888888, \"#fdca26\"], [1.0, \"#f0f921\"]], \"type\": \"histogram2d\"}], \"histogram2dcontour\": [{\"colorbar\": {\"outlinewidth\": 0, \"ticks\": \"\"}, \"colorscale\": [[0.0, \"#0d0887\"], [0.1111111111111111, \"#46039f\"], [0.2222222222222222, \"#7201a8\"], [0.3333333333333333, \"#9c179e\"], [0.4444444444444444, \"#bd3786\"], [0.5555555555555556, \"#d8576b\"], [0.6666666666666666, \"#ed7953\"], [0.7777777777777778, \"#fb9f3a\"], [0.8888888888888888, \"#fdca26\"], [1.0, \"#f0f921\"]], \"type\": \"histogram2dcontour\"}], \"mesh3d\": [{\"colorbar\": {\"outlinewidth\": 0, \"ticks\": \"\"}, \"type\": \"mesh3d\"}], \"parcoords\": [{\"line\": {\"colorbar\": {\"outlinewidth\": 0, \"ticks\": \"\"}}, \"type\": \"parcoords\"}], \"pie\": [{\"automargin\": true, \"type\": \"pie\"}], \"scatter\": [{\"marker\": {\"colorbar\": {\"outlinewidth\": 0, \"ticks\": \"\"}}, \"type\": \"scatter\"}], \"scatter3d\": [{\"line\": {\"colorbar\": {\"outlinewidth\": 0, \"ticks\": \"\"}}, \"marker\": {\"colorbar\": {\"outlinewidth\": 0, \"ticks\": \"\"}}, \"type\": \"scatter3d\"}], \"scattercarpet\": [{\"marker\": {\"colorbar\": {\"outlinewidth\": 0, \"ticks\": \"\"}}, \"type\": \"scattercarpet\"}], \"scattergeo\": [{\"marker\": {\"colorbar\": {\"outlinewidth\": 0, \"ticks\": \"\"}}, \"type\": \"scattergeo\"}], \"scattergl\": [{\"marker\": {\"colorbar\": {\"outlinewidth\": 0, \"ticks\": \"\"}}, \"type\": \"scattergl\"}], \"scattermapbox\": [{\"marker\": {\"colorbar\": {\"outlinewidth\": 0, \"ticks\": \"\"}}, \"type\": \"scattermapbox\"}], \"scatterpolar\": [{\"marker\": {\"colorbar\": {\"outlinewidth\": 0, \"ticks\": \"\"}}, \"type\": \"scatterpolar\"}], \"scatterpolargl\": [{\"marker\": {\"colorbar\": {\"outlinewidth\": 0, \"ticks\": \"\"}}, \"type\": \"scatterpolargl\"}], \"scatterternary\": [{\"marker\": {\"colorbar\": {\"outlinewidth\": 0, \"ticks\": \"\"}}, \"type\": \"scatterternary\"}], \"surface\": [{\"colorbar\": {\"outlinewidth\": 0, \"ticks\": \"\"}, \"colorscale\": [[0.0, \"#0d0887\"], [0.1111111111111111, \"#46039f\"], [0.2222222222222222, \"#7201a8\"], [0.3333333333333333, \"#9c179e\"], [0.4444444444444444, \"#bd3786\"], [0.5555555555555556, \"#d8576b\"], [0.6666666666666666, \"#ed7953\"], [0.7777777777777778, \"#fb9f3a\"], [0.8888888888888888, \"#fdca26\"], [1.0, \"#f0f921\"]], \"type\": \"surface\"}], \"table\": [{\"cells\": {\"fill\": {\"color\": \"#EBF0F8\"}, \"line\": {\"color\": \"white\"}}, \"header\": {\"fill\": {\"color\": \"#C8D4E3\"}, \"line\": {\"color\": \"white\"}}, \"type\": \"table\"}]}, \"layout\": {\"annotationdefaults\": {\"arrowcolor\": \"#2a3f5f\", \"arrowhead\": 0, \"arrowwidth\": 1}, \"coloraxis\": {\"colorbar\": {\"outlinewidth\": 0, \"ticks\": \"\"}}, \"colorscale\": {\"diverging\": [[0, \"#8e0152\"], [0.1, \"#c51b7d\"], [0.2, \"#de77ae\"], [0.3, \"#f1b6da\"], [0.4, \"#fde0ef\"], [0.5, \"#f7f7f7\"], [0.6, \"#e6f5d0\"], [0.7, \"#b8e186\"], [0.8, \"#7fbc41\"], [0.9, \"#4d9221\"], [1, \"#276419\"]], \"sequential\": [[0.0, \"#0d0887\"], [0.1111111111111111, \"#46039f\"], [0.2222222222222222, \"#7201a8\"], [0.3333333333333333, \"#9c179e\"], [0.4444444444444444, \"#bd3786\"], [0.5555555555555556, \"#d8576b\"], [0.6666666666666666, \"#ed7953\"], [0.7777777777777778, \"#fb9f3a\"], [0.8888888888888888, \"#fdca26\"], [1.0, \"#f0f921\"]], \"sequentialminus\": [[0.0, \"#0d0887\"], [0.1111111111111111, \"#46039f\"], [0.2222222222222222, \"#7201a8\"], [0.3333333333333333, \"#9c179e\"], [0.4444444444444444, \"#bd3786\"], [0.5555555555555556, \"#d8576b\"], [0.6666666666666666, \"#ed7953\"], [0.7777777777777778, \"#fb9f3a\"], [0.8888888888888888, \"#fdca26\"], [1.0, \"#f0f921\"]]}, \"colorway\": [\"#636efa\", \"#EF553B\", \"#00cc96\", \"#ab63fa\", \"#FFA15A\", \"#19d3f3\", \"#FF6692\", \"#B6E880\", \"#FF97FF\", \"#FECB52\"], \"font\": {\"color\": \"#2a3f5f\"}, \"geo\": {\"bgcolor\": \"white\", \"lakecolor\": \"white\", \"landcolor\": \"#E5ECF6\", \"showlakes\": true, \"showland\": true, \"subunitcolor\": \"white\"}, \"hoverlabel\": {\"align\": \"left\"}, \"hovermode\": \"closest\", \"mapbox\": {\"style\": \"light\"}, \"paper_bgcolor\": \"white\", \"plot_bgcolor\": \"#E5ECF6\", \"polar\": {\"angularaxis\": {\"gridcolor\": \"white\", \"linecolor\": \"white\", \"ticks\": \"\"}, \"bgcolor\": \"#E5ECF6\", \"radialaxis\": {\"gridcolor\": \"white\", \"linecolor\": \"white\", \"ticks\": \"\"}}, \"scene\": {\"xaxis\": {\"backgroundcolor\": \"#E5ECF6\", \"gridcolor\": \"white\", \"gridwidth\": 2, \"linecolor\": \"white\", \"showbackground\": true, \"ticks\": \"\", \"zerolinecolor\": \"white\"}, \"yaxis\": {\"backgroundcolor\": \"#E5ECF6\", \"gridcolor\": \"white\", \"gridwidth\": 2, \"linecolor\": \"white\", \"showbackground\": true, \"ticks\": \"\", \"zerolinecolor\": \"white\"}, \"zaxis\": {\"backgroundcolor\": \"#E5ECF6\", \"gridcolor\": \"white\", \"gridwidth\": 2, \"linecolor\": \"white\", \"showbackground\": true, \"ticks\": \"\", \"zerolinecolor\": \"white\"}}, \"shapedefaults\": {\"line\": {\"color\": \"#2a3f5f\"}}, \"ternary\": {\"aaxis\": {\"gridcolor\": \"white\", \"linecolor\": \"white\", \"ticks\": \"\"}, \"baxis\": {\"gridcolor\": \"white\", \"linecolor\": \"white\", \"ticks\": \"\"}, \"bgcolor\": \"#E5ECF6\", \"caxis\": {\"gridcolor\": \"white\", \"linecolor\": \"white\", \"ticks\": \"\"}}, \"title\": {\"x\": 0.05}, \"xaxis\": {\"automargin\": true, \"gridcolor\": \"white\", \"linecolor\": \"white\", \"ticks\": \"\", \"title\": {\"standoff\": 15}, \"zerolinecolor\": \"white\", \"zerolinewidth\": 2}, \"yaxis\": {\"automargin\": true, \"gridcolor\": \"white\", \"linecolor\": \"white\", \"ticks\": \"\", \"title\": {\"standoff\": 15}, \"zerolinecolor\": \"white\", \"zerolinewidth\": 2}}}},                        {\"responsive\": true}                    ).then(function(){\n",
       "                            \n",
       "var gd = document.getElementById('02fd0601-81cb-40a6-8f8f-da335921d17c');\n",
       "var x = new MutationObserver(function (mutations, observer) {{\n",
       "        var display = window.getComputedStyle(gd).display;\n",
       "        if (!display || display === 'none') {{\n",
       "            console.log([gd, 'removed!']);\n",
       "            Plotly.purge(gd);\n",
       "            observer.disconnect();\n",
       "        }}\n",
       "}});\n",
       "\n",
       "// Listen for the removal of the full notebook cells\n",
       "var notebookContainer = gd.closest('#notebook-container');\n",
       "if (notebookContainer) {{\n",
       "    x.observe(notebookContainer, {childList: true});\n",
       "}}\n",
       "\n",
       "// Listen for the clearing of the current output cell\n",
       "var outputEl = gd.closest('.output');\n",
       "if (outputEl) {{\n",
       "    x.observe(outputEl, {childList: true});\n",
       "}}\n",
       "\n",
       "                        })                };                });            </script>        </div>"
      ]
     },
     "metadata": {},
     "output_type": "display_data"
    }
   ],
   "source": [
    "fig = go.Figure(data=[go.Candlestick(x=Facebook['Date'],\n",
    "                                    open = Facebook['Open'],\n",
    "                                    high = Facebook['High'],\n",
    "                                    low = Facebook['Low'],\n",
    "                                    close = Facebook['Close'])])\n",
    "fig.show()"
   ]
  },
  {
   "cell_type": "code",
   "execution_count": 52,
   "metadata": {},
   "outputs": [
    {
     "data": {
      "application/vnd.plotly.v1+json": {
       "config": {
        "plotlyServerURL": "https://plot.ly"
       },
       "data": [
        {
         "close": [
          228.91,
          226.58,
          221.15,
          216.47,
          213.69,
          213.02,
          214.58,
          209.7,
          211.49,
          210.28,
          208.9,
          208.7,
          209.19,
          203.38,
          208.25,
          212.48,
          216.35,
          212.94,
          213.29,
          216.54,
          205.01,
          203.9,
          204.06,
          202.02,
          203.85,
          201.3,
          202.54,
          211.75,
          208.75,
          211.6,
          202.88,
          203.92,
          208.04,
          208.35,
          207.07,
          213.67,
          214.32,
          212.83,
          208.25,
          210.7,
          206.26,
          204.7,
          203.51,
          198.44,
          196.33,
          200.34,
          197.84,
          201.91,
          200.57,
          195.15,
          196.32,
          194.24,
          193.57,
          188.94,
          187.74,
          186.27,
          196.84,
          189.8,
          188.36,
          187.2,
          182.92,
          185.36,
          184.91,
          182.83,
          183.25,
          181.4,
          181.81,
          181.57,
          183.51,
          183.43,
          185.66,
          183.63,
          184.91,
          183.16,
          180.53,
          179.75,
          182.51,
          186.74,
          184.68,
          183.6,
          182.54,
          180.76,
          178.84,
          174.57,
          179.21,
          177.43,
          169.81,
          174.05,
          174.55,
          171.42,
          173.52,
          167.82,
          175.06,
          178.6,
          177.04,
          171.88,
          173.7,
          165.51,
          165.14,
          165.13,
          163.49,
          165.27,
          153.83,
          155.26,
          152.11,
          157.71,
          160.23,
          149.7,
          156.11,
          146.92,
          148.34,
          135.98,
          137.35,
          142.71,
          140.4,
          146.57,
          135.42
         ],
         "high": [
          230.64,
          231.15,
          222.09,
          216.61,
          215.52,
          216.25,
          215,
          212.1,
          212.36,
          211.19,
          209.59,
          211.35,
          210.28,
          207.65,
          211.88,
          215.7,
          216.37,
          215,
          214.77,
          217.64,
          205.1,
          204.46,
          204.65,
          204.7,
          203.97,
          202.86,
          210.92,
          212.3,
          213.94,
          212.3,
          205.04,
          205.7,
          211.33,
          208.85,
          215.8,
          214.08,
          216.38,
          213.26,
          214.67,
          211.13,
          208.02,
          206.35,
          204.4,
          198.53,
          199.89,
          200.61,
          203.25,
          203.95,
          200.76,
          199.29,
          196.49,
          196.32,
          195.58,
          190.82,
          191.72,
          195.76,
          198.52,
          190.7,
          188.55,
          187.73,
          185.84,
          185.94,
          185,
          183,
          184.27,
          184.15,
          181.99,
          186.5,
          184.46,
          186.67,
          185.85,
          186.6,
          186.2,
          187.06,
          180.69,
          184.05,
          187.04,
          187.51,
          185,
          184.55,
          184.2,
          183.65,
          179,
          178.64,
          180.4,
          177.68,
          175.67,
          176.9,
          174.56,
          175.06,
          174,
          173.67,
          178.75,
          180,
          177.28,
          173.57,
          173.75,
          165.57,
          167.37,
          166.67,
          170,
          166.5,
          157.38,
          155.48,
          157.75,
          164.78,
          160.6,
          154.89,
          156.66,
          154.33,
          149.6,
          140.57,
          147.1,
          150.15,
          146,
          147.5,
          149.35
         ],
         "low": [
          226.58,
          219.4,
          217.36,
          213.1,
          212.43,
          212.85,
          208.91,
          209.25,
          209.21,
          208.92,
          207.51,
          208.15,
          204.75,
          203.14,
          206.35,
          210.93,
          211.55,
          211.57,
          210.31,
          210.44,
          199.01,
          199.57,
          202.01,
          201.74,
          200.86,
          197.51,
          202.15,
          208.39,
          208.03,
          203.01,
          201.39,
          202.31,
          205.03,
          202.03,
          206.5,
          211.08,
          211.47,
          208.69,
          207.99,
          208.09,
          205,
          201.77,
          197.74,
          193.55,
          194.88,
          195.47,
          196.56,
          201.43,
          195.23,
          194.37,
          194,
          193.69,
          191.46,
          184.01,
          185.18,
          186.07,
          191.01,
          187.26,
          184.44,
          182.01,
          182.3,
          183.58,
          181.35,
          181.46,
          180.41,
          180.38,
          176.6,
          181.1,
          182.54,
          183.29,
          183.94,
          183.49,
          183.96,
          177,
          175.68,
          176.54,
          182.3,
          182.85,
          183.36,
          182.58,
          181.63,
          179.9,
          173.8,
          174.01,
          176.23,
          171.88,
          169.39,
          173.3,
          170.71,
          170.91,
          170.82,
          166.11,
          174.99,
          175.87,
          172.9,
          169.24,
          168,
          162.3,
          163.33,
          163.5,
          163.26,
          157.58,
          152.19,
          150.36,
          150.82,
          156.56,
          150.01,
          149.2,
          148.37,
          144.44,
          141.27,
          132.52,
          135.86,
          139,
          135.02,
          135,
          135
         ],
         "open": [
          228.18,
          222.89,
          217.88,
          213.1,
          214.79,
          213.86,
          209.54,
          211.49,
          210.53,
          209.6,
          208.76,
          209.44,
          205.29,
          207.16,
          211.67,
          214.85,
          212.34,
          214.9,
          214.17,
          211.52,
          204.4,
          201,
          202.5,
          203.61,
          201.47,
          200.42,
          207.19,
          209.2,
          213.66,
          205,
          204.47,
          205.4,
          209.56,
          206.13,
          214.48,
          213.62,
          216.33,
          210.07,
          210.45,
          208.83,
          205.68,
          203.14,
          197.88,
          195.78,
          199.73,
          197.8,
          201.6,
          202.09,
          195.79,
          198.59,
          194,
          195.03,
          192.89,
          184.58,
          190.54,
          193.13,
          191.13,
          188,
          185.94,
          182.62,
          184.3,
          184.82,
          184.25,
          182.54,
          182.73,
          180.74,
          180.2,
          186.34,
          183.19,
          185.4,
          184.81,
          185.03,
          185.75,
          179.06,
          177.54,
          182.55,
          186.8,
          183.15,
          184.98,
          184.17,
          182.08,
          180.62,
          174.49,
          175.8,
          180,
          173.22,
          175.59,
          176.59,
          172.06,
          174.11,
          171.39,
          173.5,
          176.63,
          179.5,
          174.3,
          171.2,
          169,
          164.35,
          166.36,
          165.67,
          169.59,
          160.32,
          155.1,
          151.86,
          153,
          159.4,
          152.44,
          151.75,
          148.4,
          148.91,
          143.75,
          137.01,
          146,
          142.77,
          138,
          140,
          140
         ],
         "type": "candlestick",
         "x": [
          "8/28/2020",
          "8/27/2020",
          "8/26/2020",
          "8/25/2020",
          "8/24/2020",
          "8/21/2020",
          "8/20/2020",
          "8/19/2020",
          "8/18/2020",
          "8/17/2020",
          "8/14/2020",
          "8/13/2020",
          "8/12/2020",
          "8/11/2020",
          "8/10/2020",
          "8/7/2020",
          "8/6/2020",
          "8/5/2020",
          "8/4/2020",
          "8/3/2020",
          "7/31/2020",
          "7/30/2020",
          "7/29/2020",
          "7/28/2020",
          "7/27/2020",
          "7/24/2020",
          "7/23/2020",
          "7/22/2020",
          "7/21/2020",
          "7/20/2020",
          "7/17/2020",
          "7/16/2020",
          "7/15/2020",
          "7/14/2020",
          "7/13/2020",
          "7/10/2020",
          "7/9/2020",
          "7/8/2020",
          "7/7/2020",
          "7/6/2020",
          "7/2/2020",
          "7/1/2020",
          "6/30/2020",
          "6/29/2020",
          "6/26/2020",
          "6/25/2020",
          "6/24/2020",
          "6/23/2020",
          "6/22/2020",
          "6/19/2020",
          "6/18/2020",
          "6/17/2020",
          "6/16/2020",
          "6/15/2020",
          "6/12/2020",
          "6/11/2020",
          "6/10/2020",
          "6/9/2020",
          "6/8/2020",
          "6/5/2020",
          "6/4/2020",
          "6/3/2020",
          "6/2/2020",
          "6/1/2020",
          "5/29/2020",
          "5/28/2020",
          "5/27/2020",
          "5/26/2020",
          "5/22/2020",
          "5/21/2020",
          "5/20/2020",
          "5/19/2020",
          "5/18/2020",
          "5/15/2020",
          "5/14/2020",
          "5/13/2020",
          "5/12/2020",
          "5/11/2020",
          "5/8/2020",
          "5/7/2020",
          "5/6/2020",
          "5/5/2020",
          "5/4/2020",
          "5/1/2020",
          "4/30/2020",
          "4/29/2020",
          "4/28/2020",
          "4/27/2020",
          "4/24/2020",
          "4/23/2020",
          "4/22/2020",
          "4/21/2020",
          "4/20/2020",
          "4/17/2020",
          "4/16/2020",
          "4/15/2020",
          "4/14/2020",
          "4/13/2020",
          "4/9/2020",
          "4/8/2020",
          "4/7/2020",
          "4/6/2020",
          "4/3/2020",
          "4/2/2020",
          "4/1/2020",
          "3/31/2020",
          "3/30/2020",
          "3/27/2020",
          "3/26/2020",
          "3/25/2020",
          "3/24/2020",
          "3/23/2020",
          "3/20/2020",
          "3/19/2020",
          "3/18/2020",
          "3/17/2020",
          "3/16/2020"
         ]
        }
       ],
       "layout": {
        "template": {
         "data": {
          "bar": [
           {
            "error_x": {
             "color": "#2a3f5f"
            },
            "error_y": {
             "color": "#2a3f5f"
            },
            "marker": {
             "line": {
              "color": "#E5ECF6",
              "width": 0.5
             }
            },
            "type": "bar"
           }
          ],
          "barpolar": [
           {
            "marker": {
             "line": {
              "color": "#E5ECF6",
              "width": 0.5
             }
            },
            "type": "barpolar"
           }
          ],
          "carpet": [
           {
            "aaxis": {
             "endlinecolor": "#2a3f5f",
             "gridcolor": "white",
             "linecolor": "white",
             "minorgridcolor": "white",
             "startlinecolor": "#2a3f5f"
            },
            "baxis": {
             "endlinecolor": "#2a3f5f",
             "gridcolor": "white",
             "linecolor": "white",
             "minorgridcolor": "white",
             "startlinecolor": "#2a3f5f"
            },
            "type": "carpet"
           }
          ],
          "choropleth": [
           {
            "colorbar": {
             "outlinewidth": 0,
             "ticks": ""
            },
            "type": "choropleth"
           }
          ],
          "contour": [
           {
            "colorbar": {
             "outlinewidth": 0,
             "ticks": ""
            },
            "colorscale": [
             [
              0,
              "#0d0887"
             ],
             [
              0.1111111111111111,
              "#46039f"
             ],
             [
              0.2222222222222222,
              "#7201a8"
             ],
             [
              0.3333333333333333,
              "#9c179e"
             ],
             [
              0.4444444444444444,
              "#bd3786"
             ],
             [
              0.5555555555555556,
              "#d8576b"
             ],
             [
              0.6666666666666666,
              "#ed7953"
             ],
             [
              0.7777777777777778,
              "#fb9f3a"
             ],
             [
              0.8888888888888888,
              "#fdca26"
             ],
             [
              1,
              "#f0f921"
             ]
            ],
            "type": "contour"
           }
          ],
          "contourcarpet": [
           {
            "colorbar": {
             "outlinewidth": 0,
             "ticks": ""
            },
            "type": "contourcarpet"
           }
          ],
          "heatmap": [
           {
            "colorbar": {
             "outlinewidth": 0,
             "ticks": ""
            },
            "colorscale": [
             [
              0,
              "#0d0887"
             ],
             [
              0.1111111111111111,
              "#46039f"
             ],
             [
              0.2222222222222222,
              "#7201a8"
             ],
             [
              0.3333333333333333,
              "#9c179e"
             ],
             [
              0.4444444444444444,
              "#bd3786"
             ],
             [
              0.5555555555555556,
              "#d8576b"
             ],
             [
              0.6666666666666666,
              "#ed7953"
             ],
             [
              0.7777777777777778,
              "#fb9f3a"
             ],
             [
              0.8888888888888888,
              "#fdca26"
             ],
             [
              1,
              "#f0f921"
             ]
            ],
            "type": "heatmap"
           }
          ],
          "heatmapgl": [
           {
            "colorbar": {
             "outlinewidth": 0,
             "ticks": ""
            },
            "colorscale": [
             [
              0,
              "#0d0887"
             ],
             [
              0.1111111111111111,
              "#46039f"
             ],
             [
              0.2222222222222222,
              "#7201a8"
             ],
             [
              0.3333333333333333,
              "#9c179e"
             ],
             [
              0.4444444444444444,
              "#bd3786"
             ],
             [
              0.5555555555555556,
              "#d8576b"
             ],
             [
              0.6666666666666666,
              "#ed7953"
             ],
             [
              0.7777777777777778,
              "#fb9f3a"
             ],
             [
              0.8888888888888888,
              "#fdca26"
             ],
             [
              1,
              "#f0f921"
             ]
            ],
            "type": "heatmapgl"
           }
          ],
          "histogram": [
           {
            "marker": {
             "colorbar": {
              "outlinewidth": 0,
              "ticks": ""
             }
            },
            "type": "histogram"
           }
          ],
          "histogram2d": [
           {
            "colorbar": {
             "outlinewidth": 0,
             "ticks": ""
            },
            "colorscale": [
             [
              0,
              "#0d0887"
             ],
             [
              0.1111111111111111,
              "#46039f"
             ],
             [
              0.2222222222222222,
              "#7201a8"
             ],
             [
              0.3333333333333333,
              "#9c179e"
             ],
             [
              0.4444444444444444,
              "#bd3786"
             ],
             [
              0.5555555555555556,
              "#d8576b"
             ],
             [
              0.6666666666666666,
              "#ed7953"
             ],
             [
              0.7777777777777778,
              "#fb9f3a"
             ],
             [
              0.8888888888888888,
              "#fdca26"
             ],
             [
              1,
              "#f0f921"
             ]
            ],
            "type": "histogram2d"
           }
          ],
          "histogram2dcontour": [
           {
            "colorbar": {
             "outlinewidth": 0,
             "ticks": ""
            },
            "colorscale": [
             [
              0,
              "#0d0887"
             ],
             [
              0.1111111111111111,
              "#46039f"
             ],
             [
              0.2222222222222222,
              "#7201a8"
             ],
             [
              0.3333333333333333,
              "#9c179e"
             ],
             [
              0.4444444444444444,
              "#bd3786"
             ],
             [
              0.5555555555555556,
              "#d8576b"
             ],
             [
              0.6666666666666666,
              "#ed7953"
             ],
             [
              0.7777777777777778,
              "#fb9f3a"
             ],
             [
              0.8888888888888888,
              "#fdca26"
             ],
             [
              1,
              "#f0f921"
             ]
            ],
            "type": "histogram2dcontour"
           }
          ],
          "mesh3d": [
           {
            "colorbar": {
             "outlinewidth": 0,
             "ticks": ""
            },
            "type": "mesh3d"
           }
          ],
          "parcoords": [
           {
            "line": {
             "colorbar": {
              "outlinewidth": 0,
              "ticks": ""
             }
            },
            "type": "parcoords"
           }
          ],
          "pie": [
           {
            "automargin": true,
            "type": "pie"
           }
          ],
          "scatter": [
           {
            "marker": {
             "colorbar": {
              "outlinewidth": 0,
              "ticks": ""
             }
            },
            "type": "scatter"
           }
          ],
          "scatter3d": [
           {
            "line": {
             "colorbar": {
              "outlinewidth": 0,
              "ticks": ""
             }
            },
            "marker": {
             "colorbar": {
              "outlinewidth": 0,
              "ticks": ""
             }
            },
            "type": "scatter3d"
           }
          ],
          "scattercarpet": [
           {
            "marker": {
             "colorbar": {
              "outlinewidth": 0,
              "ticks": ""
             }
            },
            "type": "scattercarpet"
           }
          ],
          "scattergeo": [
           {
            "marker": {
             "colorbar": {
              "outlinewidth": 0,
              "ticks": ""
             }
            },
            "type": "scattergeo"
           }
          ],
          "scattergl": [
           {
            "marker": {
             "colorbar": {
              "outlinewidth": 0,
              "ticks": ""
             }
            },
            "type": "scattergl"
           }
          ],
          "scattermapbox": [
           {
            "marker": {
             "colorbar": {
              "outlinewidth": 0,
              "ticks": ""
             }
            },
            "type": "scattermapbox"
           }
          ],
          "scatterpolar": [
           {
            "marker": {
             "colorbar": {
              "outlinewidth": 0,
              "ticks": ""
             }
            },
            "type": "scatterpolar"
           }
          ],
          "scatterpolargl": [
           {
            "marker": {
             "colorbar": {
              "outlinewidth": 0,
              "ticks": ""
             }
            },
            "type": "scatterpolargl"
           }
          ],
          "scatterternary": [
           {
            "marker": {
             "colorbar": {
              "outlinewidth": 0,
              "ticks": ""
             }
            },
            "type": "scatterternary"
           }
          ],
          "surface": [
           {
            "colorbar": {
             "outlinewidth": 0,
             "ticks": ""
            },
            "colorscale": [
             [
              0,
              "#0d0887"
             ],
             [
              0.1111111111111111,
              "#46039f"
             ],
             [
              0.2222222222222222,
              "#7201a8"
             ],
             [
              0.3333333333333333,
              "#9c179e"
             ],
             [
              0.4444444444444444,
              "#bd3786"
             ],
             [
              0.5555555555555556,
              "#d8576b"
             ],
             [
              0.6666666666666666,
              "#ed7953"
             ],
             [
              0.7777777777777778,
              "#fb9f3a"
             ],
             [
              0.8888888888888888,
              "#fdca26"
             ],
             [
              1,
              "#f0f921"
             ]
            ],
            "type": "surface"
           }
          ],
          "table": [
           {
            "cells": {
             "fill": {
              "color": "#EBF0F8"
             },
             "line": {
              "color": "white"
             }
            },
            "header": {
             "fill": {
              "color": "#C8D4E3"
             },
             "line": {
              "color": "white"
             }
            },
            "type": "table"
           }
          ]
         },
         "layout": {
          "annotationdefaults": {
           "arrowcolor": "#2a3f5f",
           "arrowhead": 0,
           "arrowwidth": 1
          },
          "coloraxis": {
           "colorbar": {
            "outlinewidth": 0,
            "ticks": ""
           }
          },
          "colorscale": {
           "diverging": [
            [
             0,
             "#8e0152"
            ],
            [
             0.1,
             "#c51b7d"
            ],
            [
             0.2,
             "#de77ae"
            ],
            [
             0.3,
             "#f1b6da"
            ],
            [
             0.4,
             "#fde0ef"
            ],
            [
             0.5,
             "#f7f7f7"
            ],
            [
             0.6,
             "#e6f5d0"
            ],
            [
             0.7,
             "#b8e186"
            ],
            [
             0.8,
             "#7fbc41"
            ],
            [
             0.9,
             "#4d9221"
            ],
            [
             1,
             "#276419"
            ]
           ],
           "sequential": [
            [
             0,
             "#0d0887"
            ],
            [
             0.1111111111111111,
             "#46039f"
            ],
            [
             0.2222222222222222,
             "#7201a8"
            ],
            [
             0.3333333333333333,
             "#9c179e"
            ],
            [
             0.4444444444444444,
             "#bd3786"
            ],
            [
             0.5555555555555556,
             "#d8576b"
            ],
            [
             0.6666666666666666,
             "#ed7953"
            ],
            [
             0.7777777777777778,
             "#fb9f3a"
            ],
            [
             0.8888888888888888,
             "#fdca26"
            ],
            [
             1,
             "#f0f921"
            ]
           ],
           "sequentialminus": [
            [
             0,
             "#0d0887"
            ],
            [
             0.1111111111111111,
             "#46039f"
            ],
            [
             0.2222222222222222,
             "#7201a8"
            ],
            [
             0.3333333333333333,
             "#9c179e"
            ],
            [
             0.4444444444444444,
             "#bd3786"
            ],
            [
             0.5555555555555556,
             "#d8576b"
            ],
            [
             0.6666666666666666,
             "#ed7953"
            ],
            [
             0.7777777777777778,
             "#fb9f3a"
            ],
            [
             0.8888888888888888,
             "#fdca26"
            ],
            [
             1,
             "#f0f921"
            ]
           ]
          },
          "colorway": [
           "#636efa",
           "#EF553B",
           "#00cc96",
           "#ab63fa",
           "#FFA15A",
           "#19d3f3",
           "#FF6692",
           "#B6E880",
           "#FF97FF",
           "#FECB52"
          ],
          "font": {
           "color": "#2a3f5f"
          },
          "geo": {
           "bgcolor": "white",
           "lakecolor": "white",
           "landcolor": "#E5ECF6",
           "showlakes": true,
           "showland": true,
           "subunitcolor": "white"
          },
          "hoverlabel": {
           "align": "left"
          },
          "hovermode": "closest",
          "mapbox": {
           "style": "light"
          },
          "paper_bgcolor": "white",
          "plot_bgcolor": "#E5ECF6",
          "polar": {
           "angularaxis": {
            "gridcolor": "white",
            "linecolor": "white",
            "ticks": ""
           },
           "bgcolor": "#E5ECF6",
           "radialaxis": {
            "gridcolor": "white",
            "linecolor": "white",
            "ticks": ""
           }
          },
          "scene": {
           "xaxis": {
            "backgroundcolor": "#E5ECF6",
            "gridcolor": "white",
            "gridwidth": 2,
            "linecolor": "white",
            "showbackground": true,
            "ticks": "",
            "zerolinecolor": "white"
           },
           "yaxis": {
            "backgroundcolor": "#E5ECF6",
            "gridcolor": "white",
            "gridwidth": 2,
            "linecolor": "white",
            "showbackground": true,
            "ticks": "",
            "zerolinecolor": "white"
           },
           "zaxis": {
            "backgroundcolor": "#E5ECF6",
            "gridcolor": "white",
            "gridwidth": 2,
            "linecolor": "white",
            "showbackground": true,
            "ticks": "",
            "zerolinecolor": "white"
           }
          },
          "shapedefaults": {
           "line": {
            "color": "#2a3f5f"
           }
          },
          "ternary": {
           "aaxis": {
            "gridcolor": "white",
            "linecolor": "white",
            "ticks": ""
           },
           "baxis": {
            "gridcolor": "white",
            "linecolor": "white",
            "ticks": ""
           },
           "bgcolor": "#E5ECF6",
           "caxis": {
            "gridcolor": "white",
            "linecolor": "white",
            "ticks": ""
           }
          },
          "title": {
           "x": 0.05
          },
          "xaxis": {
           "automargin": true,
           "gridcolor": "white",
           "linecolor": "white",
           "ticks": "",
           "title": {
            "standoff": 15
           },
           "zerolinecolor": "white",
           "zerolinewidth": 2
          },
          "yaxis": {
           "automargin": true,
           "gridcolor": "white",
           "linecolor": "white",
           "ticks": "",
           "title": {
            "standoff": 15
           },
           "zerolinecolor": "white",
           "zerolinewidth": 2
          }
         }
        }
       }
      },
      "text/html": [
       "<div>                            <div id=\"4696e937-a0a5-408e-9135-2ce803e51773\" class=\"plotly-graph-div\" style=\"height:525px; width:100%;\"></div>            <script type=\"text/javascript\">                require([\"plotly\"], function(Plotly) {                    window.PLOTLYENV=window.PLOTLYENV || {};                                    if (document.getElementById(\"4696e937-a0a5-408e-9135-2ce803e51773\")) {                    Plotly.newPlot(                        \"4696e937-a0a5-408e-9135-2ce803e51773\",                        [{\"close\": [228.91, 226.58, 221.15, 216.47, 213.69, 213.02, 214.58, 209.7, 211.49, 210.28, 208.9, 208.7, 209.19, 203.38, 208.25, 212.48, 216.35, 212.94, 213.29, 216.54, 205.01, 203.9, 204.06, 202.02, 203.85, 201.3, 202.54, 211.75, 208.75, 211.6, 202.88, 203.92, 208.04, 208.35, 207.07, 213.67, 214.32, 212.83, 208.25, 210.7, 206.26, 204.7, 203.51, 198.44, 196.33, 200.34, 197.84, 201.91, 200.57, 195.15, 196.32, 194.24, 193.57, 188.94, 187.74, 186.27, 196.84, 189.8, 188.36, 187.2, 182.92, 185.36, 184.91, 182.83, 183.25, 181.4, 181.81, 181.57, 183.51, 183.43, 185.66, 183.63, 184.91, 183.16, 180.53, 179.75, 182.51, 186.74, 184.68, 183.6, 182.54, 180.76, 178.84, 174.57, 179.21, 177.43, 169.81, 174.05, 174.55, 171.42, 173.52, 167.82, 175.06, 178.6, 177.04, 171.88, 173.7, 165.51, 165.14, 165.13, 163.49, 165.27, 153.83, 155.26, 152.11, 157.71, 160.23, 149.7, 156.11, 146.92, 148.34, 135.98, 137.35, 142.71, 140.4, 146.57, 135.42], \"high\": [230.64, 231.15, 222.09, 216.61, 215.52, 216.25, 215.0, 212.1, 212.36, 211.19, 209.59, 211.35, 210.28, 207.65, 211.88, 215.7, 216.37, 215.0, 214.77, 217.64, 205.1, 204.46, 204.65, 204.7, 203.97, 202.86, 210.92, 212.3, 213.94, 212.3, 205.04, 205.7, 211.33, 208.85, 215.8, 214.08, 216.38, 213.26, 214.67, 211.13, 208.02, 206.35, 204.4, 198.53, 199.89, 200.61, 203.25, 203.95, 200.76, 199.29, 196.49, 196.32, 195.58, 190.82, 191.72, 195.76, 198.52, 190.7, 188.55, 187.73, 185.84, 185.94, 185.0, 183.0, 184.27, 184.15, 181.99, 186.5, 184.46, 186.67, 185.85, 186.6, 186.2, 187.06, 180.69, 184.05, 187.04, 187.51, 185.0, 184.55, 184.2, 183.65, 179.0, 178.64, 180.4, 177.68, 175.67, 176.9, 174.56, 175.06, 174.0, 173.67, 178.75, 180.0, 177.28, 173.57, 173.75, 165.57, 167.37, 166.67, 170.0, 166.5, 157.38, 155.48, 157.75, 164.78, 160.6, 154.89, 156.66, 154.33, 149.6, 140.57, 147.1, 150.15, 146.0, 147.5, 149.35], \"low\": [226.58, 219.4, 217.36, 213.1, 212.43, 212.85, 208.91, 209.25, 209.21, 208.92, 207.51, 208.15, 204.75, 203.14, 206.35, 210.93, 211.55, 211.57, 210.31, 210.44, 199.01, 199.57, 202.01, 201.74, 200.86, 197.51, 202.15, 208.39, 208.03, 203.01, 201.39, 202.31, 205.03, 202.03, 206.5, 211.08, 211.47, 208.69, 207.99, 208.09, 205.0, 201.77, 197.74, 193.55, 194.88, 195.47, 196.56, 201.43, 195.23, 194.37, 194.0, 193.69, 191.46, 184.01, 185.18, 186.07, 191.01, 187.26, 184.44, 182.01, 182.3, 183.58, 181.35, 181.46, 180.41, 180.38, 176.6, 181.1, 182.54, 183.29, 183.94, 183.49, 183.96, 177.0, 175.68, 176.54, 182.3, 182.85, 183.36, 182.58, 181.63, 179.9, 173.8, 174.01, 176.23, 171.88, 169.39, 173.3, 170.71, 170.91, 170.82, 166.11, 174.99, 175.87, 172.9, 169.24, 168.0, 162.3, 163.33, 163.5, 163.26, 157.58, 152.19, 150.36, 150.82, 156.56, 150.01, 149.2, 148.37, 144.44, 141.27, 132.52, 135.86, 139.0, 135.02, 135.0, 135.0], \"open\": [228.18, 222.89, 217.88, 213.1, 214.79, 213.86, 209.54, 211.49, 210.53, 209.6, 208.76, 209.44, 205.29, 207.16, 211.67, 214.85, 212.34, 214.9, 214.17, 211.52, 204.4, 201.0, 202.5, 203.61, 201.47, 200.42, 207.19, 209.2, 213.66, 205.0, 204.47, 205.4, 209.56, 206.13, 214.48, 213.62, 216.33, 210.07, 210.45, 208.83, 205.68, 203.14, 197.88, 195.78, 199.73, 197.8, 201.6, 202.09, 195.79, 198.59, 194.0, 195.03, 192.89, 184.58, 190.54, 193.13, 191.13, 188.0, 185.94, 182.62, 184.3, 184.82, 184.25, 182.54, 182.73, 180.74, 180.2, 186.34, 183.19, 185.4, 184.81, 185.03, 185.75, 179.06, 177.54, 182.55, 186.8, 183.15, 184.98, 184.17, 182.08, 180.62, 174.49, 175.8, 180.0, 173.22, 175.59, 176.59, 172.06, 174.11, 171.39, 173.5, 176.63, 179.5, 174.3, 171.2, 169.0, 164.35, 166.36, 165.67, 169.59, 160.32, 155.1, 151.86, 153.0, 159.4, 152.44, 151.75, 148.4, 148.91, 143.75, 137.01, 146.0, 142.77, 138.0, 140.0, 140.0], \"type\": \"candlestick\", \"x\": [\"8/28/2020\", \"8/27/2020\", \"8/26/2020\", \"8/25/2020\", \"8/24/2020\", \"8/21/2020\", \"8/20/2020\", \"8/19/2020\", \"8/18/2020\", \"8/17/2020\", \"8/14/2020\", \"8/13/2020\", \"8/12/2020\", \"8/11/2020\", \"8/10/2020\", \"8/7/2020\", \"8/6/2020\", \"8/5/2020\", \"8/4/2020\", \"8/3/2020\", \"7/31/2020\", \"7/30/2020\", \"7/29/2020\", \"7/28/2020\", \"7/27/2020\", \"7/24/2020\", \"7/23/2020\", \"7/22/2020\", \"7/21/2020\", \"7/20/2020\", \"7/17/2020\", \"7/16/2020\", \"7/15/2020\", \"7/14/2020\", \"7/13/2020\", \"7/10/2020\", \"7/9/2020\", \"7/8/2020\", \"7/7/2020\", \"7/6/2020\", \"7/2/2020\", \"7/1/2020\", \"6/30/2020\", \"6/29/2020\", \"6/26/2020\", \"6/25/2020\", \"6/24/2020\", \"6/23/2020\", \"6/22/2020\", \"6/19/2020\", \"6/18/2020\", \"6/17/2020\", \"6/16/2020\", \"6/15/2020\", \"6/12/2020\", \"6/11/2020\", \"6/10/2020\", \"6/9/2020\", \"6/8/2020\", \"6/5/2020\", \"6/4/2020\", \"6/3/2020\", \"6/2/2020\", \"6/1/2020\", \"5/29/2020\", \"5/28/2020\", \"5/27/2020\", \"5/26/2020\", \"5/22/2020\", \"5/21/2020\", \"5/20/2020\", \"5/19/2020\", \"5/18/2020\", \"5/15/2020\", \"5/14/2020\", \"5/13/2020\", \"5/12/2020\", \"5/11/2020\", \"5/8/2020\", \"5/7/2020\", \"5/6/2020\", \"5/5/2020\", \"5/4/2020\", \"5/1/2020\", \"4/30/2020\", \"4/29/2020\", \"4/28/2020\", \"4/27/2020\", \"4/24/2020\", \"4/23/2020\", \"4/22/2020\", \"4/21/2020\", \"4/20/2020\", \"4/17/2020\", \"4/16/2020\", \"4/15/2020\", \"4/14/2020\", \"4/13/2020\", \"4/9/2020\", \"4/8/2020\", \"4/7/2020\", \"4/6/2020\", \"4/3/2020\", \"4/2/2020\", \"4/1/2020\", \"3/31/2020\", \"3/30/2020\", \"3/27/2020\", \"3/26/2020\", \"3/25/2020\", \"3/24/2020\", \"3/23/2020\", \"3/20/2020\", \"3/19/2020\", \"3/18/2020\", \"3/17/2020\", \"3/16/2020\"]}],                        {\"template\": {\"data\": {\"bar\": [{\"error_x\": {\"color\": \"#2a3f5f\"}, \"error_y\": {\"color\": \"#2a3f5f\"}, \"marker\": {\"line\": {\"color\": \"#E5ECF6\", \"width\": 0.5}}, \"type\": \"bar\"}], \"barpolar\": [{\"marker\": {\"line\": {\"color\": \"#E5ECF6\", \"width\": 0.5}}, \"type\": \"barpolar\"}], \"carpet\": [{\"aaxis\": {\"endlinecolor\": \"#2a3f5f\", \"gridcolor\": \"white\", \"linecolor\": \"white\", \"minorgridcolor\": \"white\", \"startlinecolor\": \"#2a3f5f\"}, \"baxis\": {\"endlinecolor\": \"#2a3f5f\", \"gridcolor\": \"white\", \"linecolor\": \"white\", \"minorgridcolor\": \"white\", \"startlinecolor\": \"#2a3f5f\"}, \"type\": \"carpet\"}], \"choropleth\": [{\"colorbar\": {\"outlinewidth\": 0, \"ticks\": \"\"}, \"type\": \"choropleth\"}], \"contour\": [{\"colorbar\": {\"outlinewidth\": 0, \"ticks\": \"\"}, \"colorscale\": [[0.0, \"#0d0887\"], [0.1111111111111111, \"#46039f\"], [0.2222222222222222, \"#7201a8\"], [0.3333333333333333, \"#9c179e\"], [0.4444444444444444, \"#bd3786\"], [0.5555555555555556, \"#d8576b\"], [0.6666666666666666, \"#ed7953\"], [0.7777777777777778, \"#fb9f3a\"], [0.8888888888888888, \"#fdca26\"], [1.0, \"#f0f921\"]], \"type\": \"contour\"}], \"contourcarpet\": [{\"colorbar\": {\"outlinewidth\": 0, \"ticks\": \"\"}, \"type\": \"contourcarpet\"}], \"heatmap\": [{\"colorbar\": {\"outlinewidth\": 0, \"ticks\": \"\"}, \"colorscale\": [[0.0, \"#0d0887\"], [0.1111111111111111, \"#46039f\"], [0.2222222222222222, \"#7201a8\"], [0.3333333333333333, \"#9c179e\"], [0.4444444444444444, \"#bd3786\"], [0.5555555555555556, \"#d8576b\"], [0.6666666666666666, \"#ed7953\"], [0.7777777777777778, \"#fb9f3a\"], [0.8888888888888888, \"#fdca26\"], [1.0, \"#f0f921\"]], \"type\": \"heatmap\"}], \"heatmapgl\": [{\"colorbar\": {\"outlinewidth\": 0, \"ticks\": \"\"}, \"colorscale\": [[0.0, \"#0d0887\"], [0.1111111111111111, \"#46039f\"], [0.2222222222222222, \"#7201a8\"], [0.3333333333333333, \"#9c179e\"], [0.4444444444444444, \"#bd3786\"], [0.5555555555555556, \"#d8576b\"], [0.6666666666666666, \"#ed7953\"], [0.7777777777777778, \"#fb9f3a\"], [0.8888888888888888, \"#fdca26\"], [1.0, \"#f0f921\"]], \"type\": \"heatmapgl\"}], \"histogram\": [{\"marker\": {\"colorbar\": {\"outlinewidth\": 0, \"ticks\": \"\"}}, \"type\": \"histogram\"}], \"histogram2d\": [{\"colorbar\": {\"outlinewidth\": 0, \"ticks\": \"\"}, \"colorscale\": [[0.0, \"#0d0887\"], [0.1111111111111111, \"#46039f\"], [0.2222222222222222, \"#7201a8\"], [0.3333333333333333, \"#9c179e\"], [0.4444444444444444, \"#bd3786\"], [0.5555555555555556, \"#d8576b\"], [0.6666666666666666, \"#ed7953\"], [0.7777777777777778, \"#fb9f3a\"], [0.8888888888888888, \"#fdca26\"], [1.0, \"#f0f921\"]], \"type\": \"histogram2d\"}], \"histogram2dcontour\": [{\"colorbar\": {\"outlinewidth\": 0, \"ticks\": \"\"}, \"colorscale\": [[0.0, \"#0d0887\"], [0.1111111111111111, \"#46039f\"], [0.2222222222222222, \"#7201a8\"], [0.3333333333333333, \"#9c179e\"], [0.4444444444444444, \"#bd3786\"], [0.5555555555555556, \"#d8576b\"], [0.6666666666666666, \"#ed7953\"], [0.7777777777777778, \"#fb9f3a\"], [0.8888888888888888, \"#fdca26\"], [1.0, \"#f0f921\"]], \"type\": \"histogram2dcontour\"}], \"mesh3d\": [{\"colorbar\": {\"outlinewidth\": 0, \"ticks\": \"\"}, \"type\": \"mesh3d\"}], \"parcoords\": [{\"line\": {\"colorbar\": {\"outlinewidth\": 0, \"ticks\": \"\"}}, \"type\": \"parcoords\"}], \"pie\": [{\"automargin\": true, \"type\": \"pie\"}], \"scatter\": [{\"marker\": {\"colorbar\": {\"outlinewidth\": 0, \"ticks\": \"\"}}, \"type\": \"scatter\"}], \"scatter3d\": [{\"line\": {\"colorbar\": {\"outlinewidth\": 0, \"ticks\": \"\"}}, \"marker\": {\"colorbar\": {\"outlinewidth\": 0, \"ticks\": \"\"}}, \"type\": \"scatter3d\"}], \"scattercarpet\": [{\"marker\": {\"colorbar\": {\"outlinewidth\": 0, \"ticks\": \"\"}}, \"type\": \"scattercarpet\"}], \"scattergeo\": [{\"marker\": {\"colorbar\": {\"outlinewidth\": 0, \"ticks\": \"\"}}, \"type\": \"scattergeo\"}], \"scattergl\": [{\"marker\": {\"colorbar\": {\"outlinewidth\": 0, \"ticks\": \"\"}}, \"type\": \"scattergl\"}], \"scattermapbox\": [{\"marker\": {\"colorbar\": {\"outlinewidth\": 0, \"ticks\": \"\"}}, \"type\": \"scattermapbox\"}], \"scatterpolar\": [{\"marker\": {\"colorbar\": {\"outlinewidth\": 0, \"ticks\": \"\"}}, \"type\": \"scatterpolar\"}], \"scatterpolargl\": [{\"marker\": {\"colorbar\": {\"outlinewidth\": 0, \"ticks\": \"\"}}, \"type\": \"scatterpolargl\"}], \"scatterternary\": [{\"marker\": {\"colorbar\": {\"outlinewidth\": 0, \"ticks\": \"\"}}, \"type\": \"scatterternary\"}], \"surface\": [{\"colorbar\": {\"outlinewidth\": 0, \"ticks\": \"\"}, \"colorscale\": [[0.0, \"#0d0887\"], [0.1111111111111111, \"#46039f\"], [0.2222222222222222, \"#7201a8\"], [0.3333333333333333, \"#9c179e\"], [0.4444444444444444, \"#bd3786\"], [0.5555555555555556, \"#d8576b\"], [0.6666666666666666, \"#ed7953\"], [0.7777777777777778, \"#fb9f3a\"], [0.8888888888888888, \"#fdca26\"], [1.0, \"#f0f921\"]], \"type\": \"surface\"}], \"table\": [{\"cells\": {\"fill\": {\"color\": \"#EBF0F8\"}, \"line\": {\"color\": \"white\"}}, \"header\": {\"fill\": {\"color\": \"#C8D4E3\"}, \"line\": {\"color\": \"white\"}}, \"type\": \"table\"}]}, \"layout\": {\"annotationdefaults\": {\"arrowcolor\": \"#2a3f5f\", \"arrowhead\": 0, \"arrowwidth\": 1}, \"coloraxis\": {\"colorbar\": {\"outlinewidth\": 0, \"ticks\": \"\"}}, \"colorscale\": {\"diverging\": [[0, \"#8e0152\"], [0.1, \"#c51b7d\"], [0.2, \"#de77ae\"], [0.3, \"#f1b6da\"], [0.4, \"#fde0ef\"], [0.5, \"#f7f7f7\"], [0.6, \"#e6f5d0\"], [0.7, \"#b8e186\"], [0.8, \"#7fbc41\"], [0.9, \"#4d9221\"], [1, \"#276419\"]], \"sequential\": [[0.0, \"#0d0887\"], [0.1111111111111111, \"#46039f\"], [0.2222222222222222, \"#7201a8\"], [0.3333333333333333, \"#9c179e\"], [0.4444444444444444, \"#bd3786\"], [0.5555555555555556, \"#d8576b\"], [0.6666666666666666, \"#ed7953\"], [0.7777777777777778, \"#fb9f3a\"], [0.8888888888888888, \"#fdca26\"], [1.0, \"#f0f921\"]], \"sequentialminus\": [[0.0, \"#0d0887\"], [0.1111111111111111, \"#46039f\"], [0.2222222222222222, \"#7201a8\"], [0.3333333333333333, \"#9c179e\"], [0.4444444444444444, \"#bd3786\"], [0.5555555555555556, \"#d8576b\"], [0.6666666666666666, \"#ed7953\"], [0.7777777777777778, \"#fb9f3a\"], [0.8888888888888888, \"#fdca26\"], [1.0, \"#f0f921\"]]}, \"colorway\": [\"#636efa\", \"#EF553B\", \"#00cc96\", \"#ab63fa\", \"#FFA15A\", \"#19d3f3\", \"#FF6692\", \"#B6E880\", \"#FF97FF\", \"#FECB52\"], \"font\": {\"color\": \"#2a3f5f\"}, \"geo\": {\"bgcolor\": \"white\", \"lakecolor\": \"white\", \"landcolor\": \"#E5ECF6\", \"showlakes\": true, \"showland\": true, \"subunitcolor\": \"white\"}, \"hoverlabel\": {\"align\": \"left\"}, \"hovermode\": \"closest\", \"mapbox\": {\"style\": \"light\"}, \"paper_bgcolor\": \"white\", \"plot_bgcolor\": \"#E5ECF6\", \"polar\": {\"angularaxis\": {\"gridcolor\": \"white\", \"linecolor\": \"white\", \"ticks\": \"\"}, \"bgcolor\": \"#E5ECF6\", \"radialaxis\": {\"gridcolor\": \"white\", \"linecolor\": \"white\", \"ticks\": \"\"}}, \"scene\": {\"xaxis\": {\"backgroundcolor\": \"#E5ECF6\", \"gridcolor\": \"white\", \"gridwidth\": 2, \"linecolor\": \"white\", \"showbackground\": true, \"ticks\": \"\", \"zerolinecolor\": \"white\"}, \"yaxis\": {\"backgroundcolor\": \"#E5ECF6\", \"gridcolor\": \"white\", \"gridwidth\": 2, \"linecolor\": \"white\", \"showbackground\": true, \"ticks\": \"\", \"zerolinecolor\": \"white\"}, \"zaxis\": {\"backgroundcolor\": \"#E5ECF6\", \"gridcolor\": \"white\", \"gridwidth\": 2, \"linecolor\": \"white\", \"showbackground\": true, \"ticks\": \"\", \"zerolinecolor\": \"white\"}}, \"shapedefaults\": {\"line\": {\"color\": \"#2a3f5f\"}}, \"ternary\": {\"aaxis\": {\"gridcolor\": \"white\", \"linecolor\": \"white\", \"ticks\": \"\"}, \"baxis\": {\"gridcolor\": \"white\", \"linecolor\": \"white\", \"ticks\": \"\"}, \"bgcolor\": \"#E5ECF6\", \"caxis\": {\"gridcolor\": \"white\", \"linecolor\": \"white\", \"ticks\": \"\"}}, \"title\": {\"x\": 0.05}, \"xaxis\": {\"automargin\": true, \"gridcolor\": \"white\", \"linecolor\": \"white\", \"ticks\": \"\", \"title\": {\"standoff\": 15}, \"zerolinecolor\": \"white\", \"zerolinewidth\": 2}, \"yaxis\": {\"automargin\": true, \"gridcolor\": \"white\", \"linecolor\": \"white\", \"ticks\": \"\", \"title\": {\"standoff\": 15}, \"zerolinecolor\": \"white\", \"zerolinewidth\": 2}}}},                        {\"responsive\": true}                    ).then(function(){\n",
       "                            \n",
       "var gd = document.getElementById('4696e937-a0a5-408e-9135-2ce803e51773');\n",
       "var x = new MutationObserver(function (mutations, observer) {{\n",
       "        var display = window.getComputedStyle(gd).display;\n",
       "        if (!display || display === 'none') {{\n",
       "            console.log([gd, 'removed!']);\n",
       "            Plotly.purge(gd);\n",
       "            observer.disconnect();\n",
       "        }}\n",
       "}});\n",
       "\n",
       "// Listen for the removal of the full notebook cells\n",
       "var notebookContainer = gd.closest('#notebook-container');\n",
       "if (notebookContainer) {{\n",
       "    x.observe(notebookContainer, {childList: true});\n",
       "}}\n",
       "\n",
       "// Listen for the clearing of the current output cell\n",
       "var outputEl = gd.closest('.output');\n",
       "if (outputEl) {{\n",
       "    x.observe(outputEl, {childList: true});\n",
       "}}\n",
       "\n",
       "                        })                };                });            </script>        </div>"
      ]
     },
     "metadata": {},
     "output_type": "display_data"
    }
   ],
   "source": [
    "fig = go.Figure(data=[go.Candlestick(x=Microsoft['Date'],\n",
    "                                    open = Microsoft['Open'],\n",
    "                                    high = Microsoft['High'],\n",
    "                                    low = Microsoft['Low'],\n",
    "                                    close = Microsoft['Close'])])\n",
    "fig.show()"
   ]
  },
  {
   "cell_type": "code",
   "execution_count": 53,
   "metadata": {},
   "outputs": [
    {
     "data": {
      "application/vnd.plotly.v1+json": {
       "config": {
        "plotlyServerURL": "https://plot.ly"
       },
       "data": [
        {
         "close": [
          2213.4,
          2238.75,
          2153.17,
          2023.34,
          2014.2,
          2049.98,
          2001.83,
          1878.53,
          1887.09,
          1835.64,
          1650.71,
          1621,
          1554.76,
          1374.39,
          1418.57,
          1452.71,
          1489.58,
          1485.02,
          1487,
          1485,
          1430.76,
          1487.49,
          1499.11,
          1476.49,
          1539.6,
          1417,
          1513.07,
          1592.33,
          1568.36,
          1643,
          1500.84,
          1500.64,
          1546.01,
          1516.8,
          1497.06,
          1544.65,
          1394.28,
          1365.88,
          1389.86,
          1371.58,
          1208.66,
          1119.63,
          1079.81,
          1009.35,
          959.74,
          985.98,
          960.85,
          1001.78,
          994.32,
          1000.9,
          1003.96,
          991.79,
          982.13,
          990.9,
          935.28,
          972.84,
          1025.05,
          940.67,
          949.92,
          885.66,
          864.38,
          882.96,
          881.56,
          898.1,
          835,
          805.81,
          820.23,
          818.87,
          816.88,
          827.6,
          815.56,
          808.01,
          813.63,
          799.17,
          803.33,
          790.96,
          809.41,
          811.29,
          819.42,
          780.04,
          782.58,
          768.21,
          761.19,
          701.32,
          781.88,
          800.51,
          769.12,
          798.75,
          725.15,
          705.63,
          732.11,
          686.72,
          746.36,
          753.89,
          745.21,
          729.83,
          709.89,
          650.95,
          573,
          548.84,
          545.45,
          516.24,
          480.01,
          454.47,
          481.56,
          524,
          502.13,
          514.36,
          528.16,
          539.25,
          505,
          434.29,
          427.53,
          427.64,
          361.22,
          430.2,
          445.07
         ],
         "high": [
          2318.49,
          2295.6,
          2166,
          2027.95,
          2129,
          2095.49,
          2021.99,
          1911,
          1923.9,
          1845.86,
          1668.8,
          1651.18,
          1585,
          1420,
          1457.5,
          1499.75,
          1517.31,
          1499.84,
          1527.41,
          1509.81,
          1517.05,
          1513.24,
          1534.81,
          1564.7,
          1547.94,
          1465,
          1689,
          1626.42,
          1675,
          1650,
          1537.51,
          1531.71,
          1550,
          1590,
          1794.99,
          1548.92,
          1408.56,
          1417.26,
          1429.5,
          1377.79,
          1228,
          1135.33,
          1087.69,
          1010,
          995,
          985.98,
          1000.88,
          1012,
          1008.88,
          1015.97,
          1019.2,
          1005,
          1012.88,
          998.84,
          987.98,
          1018.96,
          1027.48,
          954.44,
          950,
          886.52,
          895.75,
          897.94,
          908.66,
          899,
          835,
          824.75,
          827.71,
          834.6,
          831.78,
          832.5,
          826,
          822.07,
          834.72,
          805.05,
          803.36,
          826,
          843.29,
          824,
          824,
          796.4,
          789.8,
          798.92,
          762,
          772.77,
          869.82,
          803.2,
          805,
          799.49,
          730.73,
          734,
          734,
          753.33,
          765.57,
          774.95,
          759.45,
          753.13,
          741.88,
          652,
          575.18,
          557.21,
          565,
          521,
          515.49,
          494.26,
          513.95,
          542.96,
          516.65,
          525.8,
          560,
          557,
          513.69,
          442,
          477,
          452,
          404.86,
          471.85,
          494.87
         ],
         "low": [
          2186.52,
          2142.5,
          2053.63,
          1968,
          1927.52,
          2025.05,
          1857.06,
          1841.21,
          1845.11,
          1672.83,
          1626.64,
          1567.26,
          1435,
          1365,
          1385.84,
          1415.01,
          1477.26,
          1468.31,
          1462,
          1444.38,
          1420.98,
          1471,
          1487,
          1474.42,
          1413,
          1366.54,
          1480.77,
          1562,
          1558,
          1488,
          1490,
          1466,
          1457,
          1431,
          1471.11,
          1376.01,
          1351.28,
          1311.34,
          1336.71,
          1266.04,
          1185.6,
          1080.5,
          1003.73,
          948.52,
          954.87,
          937.15,
          953.14,
          994.01,
          990.02,
          991.34,
          994.47,
          982.57,
          962.39,
          908.5,
          912.6,
          972,
          982.5,
          923.93,
          909.16,
          866.2,
          858.44,
          880.1,
          871,
          854.1,
          804.21,
          801.69,
          785,
          815.71,
          812,
          796,
          811.8,
          806.08,
          803.88,
          786.55,
          764,
          763.3,
          808,
          785,
          787.01,
          772.35,
          761.11,
          762.18,
          698,
          683.04,
          763.5,
          783.16,
          756.69,
          735,
          698.18,
          703.13,
          688.71,
          673.79,
          712.21,
          747.66,
          706.72,
          710,
          692.43,
          580.53,
          557.11,
          533.33,
          532.34,
          497.96,
          468.39,
          446.4,
          475.1,
          497,
          491.23,
          494.03,
          512.25,
          511.11,
          474,
          410.5,
          425.79,
          358.46,
          350.51,
          396,
          442.17
         ],
         "open": [
          2295.12,
          2180.46,
          2060,
          1974.89,
          2126.28,
          2044.76,
          1860.68,
          1865,
          1898.99,
          1677,
          1664.99,
          1611,
          1470,
          1396,
          1448,
          1499.54,
          1490.83,
          1492.99,
          1495.01,
          1449.2,
          1515,
          1488,
          1501,
          1504,
          1435,
          1416.01,
          1678.95,
          1599,
          1639.93,
          1519.01,
          1513.45,
          1477.16,
          1543,
          1556,
          1659,
          1396,
          1396.99,
          1405,
          1405.01,
          1276.69,
          1221.48,
          1083,
          1006.5,
          969.01,
          994.78,
          954.27,
          994.11,
          998.88,
          999.95,
          1012.78,
          1003,
          987.71,
          1011.85,
          917.79,
          980,
          990.2,
          991.88,
          940.01,
          919,
          877.84,
          889.88,
          888.12,
          894.7,
          858,
          808.75,
          813.51,
          820.86,
          834.5,
          822.17,
          816,
          820.5,
          815.17,
          827.78,
          790.35,
          780,
          820.83,
          827,
          790.51,
          793.77,
          777.21,
          776.5,
          789.79,
          701,
          755,
          855.19,
          790.17,
          795.64,
          737.61,
          710.81,
          727.6,
          703.98,
          730.12,
          732.7,
          772.28,
          716.94,
          742,
          698.97,
          590.16,
          562.09,
          554.2,
          545,
          511.2,
          509.5,
          481.03,
          504,
          501.25,
          510.26,
          505,
          547.39,
          545.25,
          477.3,
          433.6,
          438.2,
          374.7,
          389,
          440.01,
          469.5
         ],
         "type": "candlestick",
         "x": [
          "8/28/2020",
          "8/27/2020",
          "8/26/2020",
          "8/25/2020",
          "8/24/2020",
          "8/21/2020",
          "8/20/2020",
          "8/19/2020",
          "8/18/2020",
          "8/17/2020",
          "8/14/2020",
          "8/13/2020",
          "8/12/2020",
          "8/11/2020",
          "8/10/2020",
          "8/7/2020",
          "8/6/2020",
          "8/5/2020",
          "8/4/2020",
          "8/3/2020",
          "7/31/2020",
          "7/30/2020",
          "7/29/2020",
          "7/28/2020",
          "7/27/2020",
          "7/24/2020",
          "7/23/2020",
          "7/22/2020",
          "7/21/2020",
          "7/20/2020",
          "7/17/2020",
          "7/16/2020",
          "7/15/2020",
          "7/14/2020",
          "7/13/2020",
          "7/10/2020",
          "7/9/2020",
          "7/8/2020",
          "7/7/2020",
          "7/6/2020",
          "7/2/2020",
          "7/1/2020",
          "6/30/2020",
          "6/29/2020",
          "6/26/2020",
          "6/25/2020",
          "6/24/2020",
          "6/23/2020",
          "6/22/2020",
          "6/19/2020",
          "6/18/2020",
          "6/17/2020",
          "6/16/2020",
          "6/15/2020",
          "6/12/2020",
          "6/11/2020",
          "6/10/2020",
          "6/9/2020",
          "6/8/2020",
          "6/5/2020",
          "6/4/2020",
          "6/3/2020",
          "6/2/2020",
          "6/1/2020",
          "5/29/2020",
          "5/28/2020",
          "5/27/2020",
          "5/26/2020",
          "5/22/2020",
          "5/21/2020",
          "5/20/2020",
          "5/19/2020",
          "5/18/2020",
          "5/15/2020",
          "5/14/2020",
          "5/13/2020",
          "5/12/2020",
          "5/11/2020",
          "5/8/2020",
          "5/7/2020",
          "5/6/2020",
          "5/5/2020",
          "5/4/2020",
          "5/1/2020",
          "4/30/2020",
          "4/29/2020",
          "4/28/2020",
          "4/27/2020",
          "4/24/2020",
          "4/23/2020",
          "4/22/2020",
          "4/21/2020",
          "4/20/2020",
          "4/17/2020",
          "4/16/2020",
          "4/15/2020",
          "4/14/2020",
          "4/13/2020",
          "4/9/2020",
          "4/8/2020",
          "4/7/2020",
          "4/6/2020",
          "4/3/2020",
          "4/2/2020",
          "4/1/2020",
          "3/31/2020",
          "3/30/2020",
          "3/27/2020",
          "3/26/2020",
          "3/25/2020",
          "3/24/2020",
          "3/23/2020",
          "3/20/2020",
          "3/19/2020",
          "3/18/2020",
          "3/17/2020",
          "3/16/2020"
         ]
        }
       ],
       "layout": {
        "template": {
         "data": {
          "bar": [
           {
            "error_x": {
             "color": "#2a3f5f"
            },
            "error_y": {
             "color": "#2a3f5f"
            },
            "marker": {
             "line": {
              "color": "#E5ECF6",
              "width": 0.5
             }
            },
            "type": "bar"
           }
          ],
          "barpolar": [
           {
            "marker": {
             "line": {
              "color": "#E5ECF6",
              "width": 0.5
             }
            },
            "type": "barpolar"
           }
          ],
          "carpet": [
           {
            "aaxis": {
             "endlinecolor": "#2a3f5f",
             "gridcolor": "white",
             "linecolor": "white",
             "minorgridcolor": "white",
             "startlinecolor": "#2a3f5f"
            },
            "baxis": {
             "endlinecolor": "#2a3f5f",
             "gridcolor": "white",
             "linecolor": "white",
             "minorgridcolor": "white",
             "startlinecolor": "#2a3f5f"
            },
            "type": "carpet"
           }
          ],
          "choropleth": [
           {
            "colorbar": {
             "outlinewidth": 0,
             "ticks": ""
            },
            "type": "choropleth"
           }
          ],
          "contour": [
           {
            "colorbar": {
             "outlinewidth": 0,
             "ticks": ""
            },
            "colorscale": [
             [
              0,
              "#0d0887"
             ],
             [
              0.1111111111111111,
              "#46039f"
             ],
             [
              0.2222222222222222,
              "#7201a8"
             ],
             [
              0.3333333333333333,
              "#9c179e"
             ],
             [
              0.4444444444444444,
              "#bd3786"
             ],
             [
              0.5555555555555556,
              "#d8576b"
             ],
             [
              0.6666666666666666,
              "#ed7953"
             ],
             [
              0.7777777777777778,
              "#fb9f3a"
             ],
             [
              0.8888888888888888,
              "#fdca26"
             ],
             [
              1,
              "#f0f921"
             ]
            ],
            "type": "contour"
           }
          ],
          "contourcarpet": [
           {
            "colorbar": {
             "outlinewidth": 0,
             "ticks": ""
            },
            "type": "contourcarpet"
           }
          ],
          "heatmap": [
           {
            "colorbar": {
             "outlinewidth": 0,
             "ticks": ""
            },
            "colorscale": [
             [
              0,
              "#0d0887"
             ],
             [
              0.1111111111111111,
              "#46039f"
             ],
             [
              0.2222222222222222,
              "#7201a8"
             ],
             [
              0.3333333333333333,
              "#9c179e"
             ],
             [
              0.4444444444444444,
              "#bd3786"
             ],
             [
              0.5555555555555556,
              "#d8576b"
             ],
             [
              0.6666666666666666,
              "#ed7953"
             ],
             [
              0.7777777777777778,
              "#fb9f3a"
             ],
             [
              0.8888888888888888,
              "#fdca26"
             ],
             [
              1,
              "#f0f921"
             ]
            ],
            "type": "heatmap"
           }
          ],
          "heatmapgl": [
           {
            "colorbar": {
             "outlinewidth": 0,
             "ticks": ""
            },
            "colorscale": [
             [
              0,
              "#0d0887"
             ],
             [
              0.1111111111111111,
              "#46039f"
             ],
             [
              0.2222222222222222,
              "#7201a8"
             ],
             [
              0.3333333333333333,
              "#9c179e"
             ],
             [
              0.4444444444444444,
              "#bd3786"
             ],
             [
              0.5555555555555556,
              "#d8576b"
             ],
             [
              0.6666666666666666,
              "#ed7953"
             ],
             [
              0.7777777777777778,
              "#fb9f3a"
             ],
             [
              0.8888888888888888,
              "#fdca26"
             ],
             [
              1,
              "#f0f921"
             ]
            ],
            "type": "heatmapgl"
           }
          ],
          "histogram": [
           {
            "marker": {
             "colorbar": {
              "outlinewidth": 0,
              "ticks": ""
             }
            },
            "type": "histogram"
           }
          ],
          "histogram2d": [
           {
            "colorbar": {
             "outlinewidth": 0,
             "ticks": ""
            },
            "colorscale": [
             [
              0,
              "#0d0887"
             ],
             [
              0.1111111111111111,
              "#46039f"
             ],
             [
              0.2222222222222222,
              "#7201a8"
             ],
             [
              0.3333333333333333,
              "#9c179e"
             ],
             [
              0.4444444444444444,
              "#bd3786"
             ],
             [
              0.5555555555555556,
              "#d8576b"
             ],
             [
              0.6666666666666666,
              "#ed7953"
             ],
             [
              0.7777777777777778,
              "#fb9f3a"
             ],
             [
              0.8888888888888888,
              "#fdca26"
             ],
             [
              1,
              "#f0f921"
             ]
            ],
            "type": "histogram2d"
           }
          ],
          "histogram2dcontour": [
           {
            "colorbar": {
             "outlinewidth": 0,
             "ticks": ""
            },
            "colorscale": [
             [
              0,
              "#0d0887"
             ],
             [
              0.1111111111111111,
              "#46039f"
             ],
             [
              0.2222222222222222,
              "#7201a8"
             ],
             [
              0.3333333333333333,
              "#9c179e"
             ],
             [
              0.4444444444444444,
              "#bd3786"
             ],
             [
              0.5555555555555556,
              "#d8576b"
             ],
             [
              0.6666666666666666,
              "#ed7953"
             ],
             [
              0.7777777777777778,
              "#fb9f3a"
             ],
             [
              0.8888888888888888,
              "#fdca26"
             ],
             [
              1,
              "#f0f921"
             ]
            ],
            "type": "histogram2dcontour"
           }
          ],
          "mesh3d": [
           {
            "colorbar": {
             "outlinewidth": 0,
             "ticks": ""
            },
            "type": "mesh3d"
           }
          ],
          "parcoords": [
           {
            "line": {
             "colorbar": {
              "outlinewidth": 0,
              "ticks": ""
             }
            },
            "type": "parcoords"
           }
          ],
          "pie": [
           {
            "automargin": true,
            "type": "pie"
           }
          ],
          "scatter": [
           {
            "marker": {
             "colorbar": {
              "outlinewidth": 0,
              "ticks": ""
             }
            },
            "type": "scatter"
           }
          ],
          "scatter3d": [
           {
            "line": {
             "colorbar": {
              "outlinewidth": 0,
              "ticks": ""
             }
            },
            "marker": {
             "colorbar": {
              "outlinewidth": 0,
              "ticks": ""
             }
            },
            "type": "scatter3d"
           }
          ],
          "scattercarpet": [
           {
            "marker": {
             "colorbar": {
              "outlinewidth": 0,
              "ticks": ""
             }
            },
            "type": "scattercarpet"
           }
          ],
          "scattergeo": [
           {
            "marker": {
             "colorbar": {
              "outlinewidth": 0,
              "ticks": ""
             }
            },
            "type": "scattergeo"
           }
          ],
          "scattergl": [
           {
            "marker": {
             "colorbar": {
              "outlinewidth": 0,
              "ticks": ""
             }
            },
            "type": "scattergl"
           }
          ],
          "scattermapbox": [
           {
            "marker": {
             "colorbar": {
              "outlinewidth": 0,
              "ticks": ""
             }
            },
            "type": "scattermapbox"
           }
          ],
          "scatterpolar": [
           {
            "marker": {
             "colorbar": {
              "outlinewidth": 0,
              "ticks": ""
             }
            },
            "type": "scatterpolar"
           }
          ],
          "scatterpolargl": [
           {
            "marker": {
             "colorbar": {
              "outlinewidth": 0,
              "ticks": ""
             }
            },
            "type": "scatterpolargl"
           }
          ],
          "scatterternary": [
           {
            "marker": {
             "colorbar": {
              "outlinewidth": 0,
              "ticks": ""
             }
            },
            "type": "scatterternary"
           }
          ],
          "surface": [
           {
            "colorbar": {
             "outlinewidth": 0,
             "ticks": ""
            },
            "colorscale": [
             [
              0,
              "#0d0887"
             ],
             [
              0.1111111111111111,
              "#46039f"
             ],
             [
              0.2222222222222222,
              "#7201a8"
             ],
             [
              0.3333333333333333,
              "#9c179e"
             ],
             [
              0.4444444444444444,
              "#bd3786"
             ],
             [
              0.5555555555555556,
              "#d8576b"
             ],
             [
              0.6666666666666666,
              "#ed7953"
             ],
             [
              0.7777777777777778,
              "#fb9f3a"
             ],
             [
              0.8888888888888888,
              "#fdca26"
             ],
             [
              1,
              "#f0f921"
             ]
            ],
            "type": "surface"
           }
          ],
          "table": [
           {
            "cells": {
             "fill": {
              "color": "#EBF0F8"
             },
             "line": {
              "color": "white"
             }
            },
            "header": {
             "fill": {
              "color": "#C8D4E3"
             },
             "line": {
              "color": "white"
             }
            },
            "type": "table"
           }
          ]
         },
         "layout": {
          "annotationdefaults": {
           "arrowcolor": "#2a3f5f",
           "arrowhead": 0,
           "arrowwidth": 1
          },
          "coloraxis": {
           "colorbar": {
            "outlinewidth": 0,
            "ticks": ""
           }
          },
          "colorscale": {
           "diverging": [
            [
             0,
             "#8e0152"
            ],
            [
             0.1,
             "#c51b7d"
            ],
            [
             0.2,
             "#de77ae"
            ],
            [
             0.3,
             "#f1b6da"
            ],
            [
             0.4,
             "#fde0ef"
            ],
            [
             0.5,
             "#f7f7f7"
            ],
            [
             0.6,
             "#e6f5d0"
            ],
            [
             0.7,
             "#b8e186"
            ],
            [
             0.8,
             "#7fbc41"
            ],
            [
             0.9,
             "#4d9221"
            ],
            [
             1,
             "#276419"
            ]
           ],
           "sequential": [
            [
             0,
             "#0d0887"
            ],
            [
             0.1111111111111111,
             "#46039f"
            ],
            [
             0.2222222222222222,
             "#7201a8"
            ],
            [
             0.3333333333333333,
             "#9c179e"
            ],
            [
             0.4444444444444444,
             "#bd3786"
            ],
            [
             0.5555555555555556,
             "#d8576b"
            ],
            [
             0.6666666666666666,
             "#ed7953"
            ],
            [
             0.7777777777777778,
             "#fb9f3a"
            ],
            [
             0.8888888888888888,
             "#fdca26"
            ],
            [
             1,
             "#f0f921"
            ]
           ],
           "sequentialminus": [
            [
             0,
             "#0d0887"
            ],
            [
             0.1111111111111111,
             "#46039f"
            ],
            [
             0.2222222222222222,
             "#7201a8"
            ],
            [
             0.3333333333333333,
             "#9c179e"
            ],
            [
             0.4444444444444444,
             "#bd3786"
            ],
            [
             0.5555555555555556,
             "#d8576b"
            ],
            [
             0.6666666666666666,
             "#ed7953"
            ],
            [
             0.7777777777777778,
             "#fb9f3a"
            ],
            [
             0.8888888888888888,
             "#fdca26"
            ],
            [
             1,
             "#f0f921"
            ]
           ]
          },
          "colorway": [
           "#636efa",
           "#EF553B",
           "#00cc96",
           "#ab63fa",
           "#FFA15A",
           "#19d3f3",
           "#FF6692",
           "#B6E880",
           "#FF97FF",
           "#FECB52"
          ],
          "font": {
           "color": "#2a3f5f"
          },
          "geo": {
           "bgcolor": "white",
           "lakecolor": "white",
           "landcolor": "#E5ECF6",
           "showlakes": true,
           "showland": true,
           "subunitcolor": "white"
          },
          "hoverlabel": {
           "align": "left"
          },
          "hovermode": "closest",
          "mapbox": {
           "style": "light"
          },
          "paper_bgcolor": "white",
          "plot_bgcolor": "#E5ECF6",
          "polar": {
           "angularaxis": {
            "gridcolor": "white",
            "linecolor": "white",
            "ticks": ""
           },
           "bgcolor": "#E5ECF6",
           "radialaxis": {
            "gridcolor": "white",
            "linecolor": "white",
            "ticks": ""
           }
          },
          "scene": {
           "xaxis": {
            "backgroundcolor": "#E5ECF6",
            "gridcolor": "white",
            "gridwidth": 2,
            "linecolor": "white",
            "showbackground": true,
            "ticks": "",
            "zerolinecolor": "white"
           },
           "yaxis": {
            "backgroundcolor": "#E5ECF6",
            "gridcolor": "white",
            "gridwidth": 2,
            "linecolor": "white",
            "showbackground": true,
            "ticks": "",
            "zerolinecolor": "white"
           },
           "zaxis": {
            "backgroundcolor": "#E5ECF6",
            "gridcolor": "white",
            "gridwidth": 2,
            "linecolor": "white",
            "showbackground": true,
            "ticks": "",
            "zerolinecolor": "white"
           }
          },
          "shapedefaults": {
           "line": {
            "color": "#2a3f5f"
           }
          },
          "ternary": {
           "aaxis": {
            "gridcolor": "white",
            "linecolor": "white",
            "ticks": ""
           },
           "baxis": {
            "gridcolor": "white",
            "linecolor": "white",
            "ticks": ""
           },
           "bgcolor": "#E5ECF6",
           "caxis": {
            "gridcolor": "white",
            "linecolor": "white",
            "ticks": ""
           }
          },
          "title": {
           "x": 0.05
          },
          "xaxis": {
           "automargin": true,
           "gridcolor": "white",
           "linecolor": "white",
           "ticks": "",
           "title": {
            "standoff": 15
           },
           "zerolinecolor": "white",
           "zerolinewidth": 2
          },
          "yaxis": {
           "automargin": true,
           "gridcolor": "white",
           "linecolor": "white",
           "ticks": "",
           "title": {
            "standoff": 15
           },
           "zerolinecolor": "white",
           "zerolinewidth": 2
          }
         }
        }
       }
      },
      "text/html": [
       "<div>                            <div id=\"097ec0f9-c3a8-4899-8e44-230ca86f4fa0\" class=\"plotly-graph-div\" style=\"height:525px; width:100%;\"></div>            <script type=\"text/javascript\">                require([\"plotly\"], function(Plotly) {                    window.PLOTLYENV=window.PLOTLYENV || {};                                    if (document.getElementById(\"097ec0f9-c3a8-4899-8e44-230ca86f4fa0\")) {                    Plotly.newPlot(                        \"097ec0f9-c3a8-4899-8e44-230ca86f4fa0\",                        [{\"close\": [2213.4, 2238.75, 2153.17, 2023.34, 2014.2, 2049.98, 2001.83, 1878.53, 1887.09, 1835.64, 1650.71, 1621.0, 1554.76, 1374.39, 1418.57, 1452.71, 1489.58, 1485.02, 1487.0, 1485.0, 1430.76, 1487.49, 1499.11, 1476.49, 1539.6, 1417.0, 1513.07, 1592.33, 1568.36, 1643.0, 1500.84, 1500.64, 1546.01, 1516.8, 1497.06, 1544.65, 1394.28, 1365.88, 1389.86, 1371.58, 1208.66, 1119.63, 1079.81, 1009.35, 959.74, 985.98, 960.85, 1001.78, 994.32, 1000.9, 1003.96, 991.79, 982.13, 990.9, 935.28, 972.84, 1025.05, 940.67, 949.92, 885.66, 864.38, 882.96, 881.56, 898.1, 835.0, 805.81, 820.23, 818.87, 816.88, 827.6, 815.56, 808.01, 813.63, 799.17, 803.33, 790.96, 809.41, 811.29, 819.42, 780.04, 782.58, 768.21, 761.19, 701.32, 781.88, 800.51, 769.12, 798.75, 725.15, 705.63, 732.11, 686.72, 746.36, 753.89, 745.21, 729.83, 709.89, 650.95, 573.0, 548.84, 545.45, 516.24, 480.01, 454.47, 481.56, 524.0, 502.13, 514.36, 528.16, 539.25, 505.0, 434.29, 427.53, 427.64, 361.22, 430.2, 445.07], \"high\": [2318.49, 2295.6, 2166.0, 2027.95, 2129.0, 2095.49, 2021.99, 1911.0, 1923.9, 1845.86, 1668.8, 1651.18, 1585.0, 1420.0, 1457.5, 1499.75, 1517.31, 1499.84, 1527.41, 1509.81, 1517.05, 1513.24, 1534.81, 1564.7, 1547.94, 1465.0, 1689.0, 1626.42, 1675.0, 1650.0, 1537.51, 1531.71, 1550.0, 1590.0, 1794.99, 1548.92, 1408.56, 1417.26, 1429.5, 1377.79, 1228.0, 1135.33, 1087.69, 1010.0, 995.0, 985.98, 1000.88, 1012.0, 1008.88, 1015.97, 1019.2, 1005.0, 1012.88, 998.84, 987.98, 1018.96, 1027.48, 954.44, 950.0, 886.52, 895.75, 897.94, 908.66, 899.0, 835.0, 824.75, 827.71, 834.6, 831.78, 832.5, 826.0, 822.07, 834.72, 805.05, 803.36, 826.0, 843.29, 824.0, 824.0, 796.4, 789.8, 798.92, 762.0, 772.77, 869.82, 803.2, 805.0, 799.49, 730.73, 734.0, 734.0, 753.33, 765.57, 774.95, 759.45, 753.13, 741.88, 652.0, 575.18, 557.21, 565.0, 521.0, 515.49, 494.26, 513.95, 542.96, 516.65, 525.8, 560.0, 557.0, 513.69, 442.0, 477.0, 452.0, 404.86, 471.85, 494.87], \"low\": [2186.52, 2142.5, 2053.63, 1968.0, 1927.52, 2025.05, 1857.06, 1841.21, 1845.11, 1672.83, 1626.64, 1567.26, 1435.0, 1365.0, 1385.84, 1415.01, 1477.26, 1468.31, 1462.0, 1444.38, 1420.98, 1471.0, 1487.0, 1474.42, 1413.0, 1366.54, 1480.77, 1562.0, 1558.0, 1488.0, 1490.0, 1466.0, 1457.0, 1431.0, 1471.11, 1376.01, 1351.28, 1311.34, 1336.71, 1266.04, 1185.6, 1080.5, 1003.73, 948.52, 954.87, 937.15, 953.14, 994.01, 990.02, 991.34, 994.47, 982.57, 962.39, 908.5, 912.6, 972.0, 982.5, 923.93, 909.16, 866.2, 858.44, 880.1, 871.0, 854.1, 804.21, 801.69, 785.0, 815.71, 812.0, 796.0, 811.8, 806.08, 803.88, 786.55, 764.0, 763.3, 808.0, 785.0, 787.01, 772.35, 761.11, 762.18, 698.0, 683.04, 763.5, 783.16, 756.69, 735.0, 698.18, 703.13, 688.71, 673.79, 712.21, 747.66, 706.72, 710.0, 692.43, 580.53, 557.11, 533.33, 532.34, 497.96, 468.39, 446.4, 475.1, 497.0, 491.23, 494.03, 512.25, 511.11, 474.0, 410.5, 425.79, 358.46, 350.51, 396.0, 442.17], \"open\": [2295.12, 2180.46, 2060.0, 1974.89, 2126.28, 2044.76, 1860.68, 1865.0, 1898.99, 1677.0, 1664.99, 1611.0, 1470.0, 1396.0, 1448.0, 1499.54, 1490.83, 1492.99, 1495.01, 1449.2, 1515.0, 1488.0, 1501.0, 1504.0, 1435.0, 1416.01, 1678.95, 1599.0, 1639.93, 1519.01, 1513.45, 1477.16, 1543.0, 1556.0, 1659.0, 1396.0, 1396.99, 1405.0, 1405.01, 1276.69, 1221.48, 1083.0, 1006.5, 969.01, 994.78, 954.27, 994.11, 998.88, 999.95, 1012.78, 1003.0, 987.71, 1011.85, 917.79, 980.0, 990.2, 991.88, 940.01, 919.0, 877.84, 889.88, 888.12, 894.7, 858.0, 808.75, 813.51, 820.86, 834.5, 822.17, 816.0, 820.5, 815.17, 827.78, 790.35, 780.0, 820.83, 827.0, 790.51, 793.77, 777.21, 776.5, 789.79, 701.0, 755.0, 855.19, 790.17, 795.64, 737.61, 710.81, 727.6, 703.98, 730.12, 732.7, 772.28, 716.94, 742.0, 698.97, 590.16, 562.09, 554.2, 545.0, 511.2, 509.5, 481.03, 504.0, 501.25, 510.26, 505.0, 547.39, 545.25, 477.3, 433.6, 438.2, 374.7, 389.0, 440.01, 469.5], \"type\": \"candlestick\", \"x\": [\"8/28/2020\", \"8/27/2020\", \"8/26/2020\", \"8/25/2020\", \"8/24/2020\", \"8/21/2020\", \"8/20/2020\", \"8/19/2020\", \"8/18/2020\", \"8/17/2020\", \"8/14/2020\", \"8/13/2020\", \"8/12/2020\", \"8/11/2020\", \"8/10/2020\", \"8/7/2020\", \"8/6/2020\", \"8/5/2020\", \"8/4/2020\", \"8/3/2020\", \"7/31/2020\", \"7/30/2020\", \"7/29/2020\", \"7/28/2020\", \"7/27/2020\", \"7/24/2020\", \"7/23/2020\", \"7/22/2020\", \"7/21/2020\", \"7/20/2020\", \"7/17/2020\", \"7/16/2020\", \"7/15/2020\", \"7/14/2020\", \"7/13/2020\", \"7/10/2020\", \"7/9/2020\", \"7/8/2020\", \"7/7/2020\", \"7/6/2020\", \"7/2/2020\", \"7/1/2020\", \"6/30/2020\", \"6/29/2020\", \"6/26/2020\", \"6/25/2020\", \"6/24/2020\", \"6/23/2020\", \"6/22/2020\", \"6/19/2020\", \"6/18/2020\", \"6/17/2020\", \"6/16/2020\", \"6/15/2020\", \"6/12/2020\", \"6/11/2020\", \"6/10/2020\", \"6/9/2020\", \"6/8/2020\", \"6/5/2020\", \"6/4/2020\", \"6/3/2020\", \"6/2/2020\", \"6/1/2020\", \"5/29/2020\", \"5/28/2020\", \"5/27/2020\", \"5/26/2020\", \"5/22/2020\", \"5/21/2020\", \"5/20/2020\", \"5/19/2020\", \"5/18/2020\", \"5/15/2020\", \"5/14/2020\", \"5/13/2020\", \"5/12/2020\", \"5/11/2020\", \"5/8/2020\", \"5/7/2020\", \"5/6/2020\", \"5/5/2020\", \"5/4/2020\", \"5/1/2020\", \"4/30/2020\", \"4/29/2020\", \"4/28/2020\", \"4/27/2020\", \"4/24/2020\", \"4/23/2020\", \"4/22/2020\", \"4/21/2020\", \"4/20/2020\", \"4/17/2020\", \"4/16/2020\", \"4/15/2020\", \"4/14/2020\", \"4/13/2020\", \"4/9/2020\", \"4/8/2020\", \"4/7/2020\", \"4/6/2020\", \"4/3/2020\", \"4/2/2020\", \"4/1/2020\", \"3/31/2020\", \"3/30/2020\", \"3/27/2020\", \"3/26/2020\", \"3/25/2020\", \"3/24/2020\", \"3/23/2020\", \"3/20/2020\", \"3/19/2020\", \"3/18/2020\", \"3/17/2020\", \"3/16/2020\"]}],                        {\"template\": {\"data\": {\"bar\": [{\"error_x\": {\"color\": \"#2a3f5f\"}, \"error_y\": {\"color\": \"#2a3f5f\"}, \"marker\": {\"line\": {\"color\": \"#E5ECF6\", \"width\": 0.5}}, \"type\": \"bar\"}], \"barpolar\": [{\"marker\": {\"line\": {\"color\": \"#E5ECF6\", \"width\": 0.5}}, \"type\": \"barpolar\"}], \"carpet\": [{\"aaxis\": {\"endlinecolor\": \"#2a3f5f\", \"gridcolor\": \"white\", \"linecolor\": \"white\", \"minorgridcolor\": \"white\", \"startlinecolor\": \"#2a3f5f\"}, \"baxis\": {\"endlinecolor\": \"#2a3f5f\", \"gridcolor\": \"white\", \"linecolor\": \"white\", \"minorgridcolor\": \"white\", \"startlinecolor\": \"#2a3f5f\"}, \"type\": \"carpet\"}], \"choropleth\": [{\"colorbar\": {\"outlinewidth\": 0, \"ticks\": \"\"}, \"type\": \"choropleth\"}], \"contour\": [{\"colorbar\": {\"outlinewidth\": 0, \"ticks\": \"\"}, \"colorscale\": [[0.0, \"#0d0887\"], [0.1111111111111111, \"#46039f\"], [0.2222222222222222, \"#7201a8\"], [0.3333333333333333, \"#9c179e\"], [0.4444444444444444, \"#bd3786\"], [0.5555555555555556, \"#d8576b\"], [0.6666666666666666, \"#ed7953\"], [0.7777777777777778, \"#fb9f3a\"], [0.8888888888888888, \"#fdca26\"], [1.0, \"#f0f921\"]], \"type\": \"contour\"}], \"contourcarpet\": [{\"colorbar\": {\"outlinewidth\": 0, \"ticks\": \"\"}, \"type\": \"contourcarpet\"}], \"heatmap\": [{\"colorbar\": {\"outlinewidth\": 0, \"ticks\": \"\"}, \"colorscale\": [[0.0, \"#0d0887\"], [0.1111111111111111, \"#46039f\"], [0.2222222222222222, \"#7201a8\"], [0.3333333333333333, \"#9c179e\"], [0.4444444444444444, \"#bd3786\"], [0.5555555555555556, \"#d8576b\"], [0.6666666666666666, \"#ed7953\"], [0.7777777777777778, \"#fb9f3a\"], [0.8888888888888888, \"#fdca26\"], [1.0, \"#f0f921\"]], \"type\": \"heatmap\"}], \"heatmapgl\": [{\"colorbar\": {\"outlinewidth\": 0, \"ticks\": \"\"}, \"colorscale\": [[0.0, \"#0d0887\"], [0.1111111111111111, \"#46039f\"], [0.2222222222222222, \"#7201a8\"], [0.3333333333333333, \"#9c179e\"], [0.4444444444444444, \"#bd3786\"], [0.5555555555555556, \"#d8576b\"], [0.6666666666666666, \"#ed7953\"], [0.7777777777777778, \"#fb9f3a\"], [0.8888888888888888, \"#fdca26\"], [1.0, \"#f0f921\"]], \"type\": \"heatmapgl\"}], \"histogram\": [{\"marker\": {\"colorbar\": {\"outlinewidth\": 0, \"ticks\": \"\"}}, \"type\": \"histogram\"}], \"histogram2d\": [{\"colorbar\": {\"outlinewidth\": 0, \"ticks\": \"\"}, \"colorscale\": [[0.0, \"#0d0887\"], [0.1111111111111111, \"#46039f\"], [0.2222222222222222, \"#7201a8\"], [0.3333333333333333, \"#9c179e\"], [0.4444444444444444, \"#bd3786\"], [0.5555555555555556, \"#d8576b\"], [0.6666666666666666, \"#ed7953\"], [0.7777777777777778, \"#fb9f3a\"], [0.8888888888888888, \"#fdca26\"], [1.0, \"#f0f921\"]], \"type\": \"histogram2d\"}], \"histogram2dcontour\": [{\"colorbar\": {\"outlinewidth\": 0, \"ticks\": \"\"}, \"colorscale\": [[0.0, \"#0d0887\"], [0.1111111111111111, \"#46039f\"], [0.2222222222222222, \"#7201a8\"], [0.3333333333333333, \"#9c179e\"], [0.4444444444444444, \"#bd3786\"], [0.5555555555555556, \"#d8576b\"], [0.6666666666666666, \"#ed7953\"], [0.7777777777777778, \"#fb9f3a\"], [0.8888888888888888, \"#fdca26\"], [1.0, \"#f0f921\"]], \"type\": \"histogram2dcontour\"}], \"mesh3d\": [{\"colorbar\": {\"outlinewidth\": 0, \"ticks\": \"\"}, \"type\": \"mesh3d\"}], \"parcoords\": [{\"line\": {\"colorbar\": {\"outlinewidth\": 0, \"ticks\": \"\"}}, \"type\": \"parcoords\"}], \"pie\": [{\"automargin\": true, \"type\": \"pie\"}], \"scatter\": [{\"marker\": {\"colorbar\": {\"outlinewidth\": 0, \"ticks\": \"\"}}, \"type\": \"scatter\"}], \"scatter3d\": [{\"line\": {\"colorbar\": {\"outlinewidth\": 0, \"ticks\": \"\"}}, \"marker\": {\"colorbar\": {\"outlinewidth\": 0, \"ticks\": \"\"}}, \"type\": \"scatter3d\"}], \"scattercarpet\": [{\"marker\": {\"colorbar\": {\"outlinewidth\": 0, \"ticks\": \"\"}}, \"type\": \"scattercarpet\"}], \"scattergeo\": [{\"marker\": {\"colorbar\": {\"outlinewidth\": 0, \"ticks\": \"\"}}, \"type\": \"scattergeo\"}], \"scattergl\": [{\"marker\": {\"colorbar\": {\"outlinewidth\": 0, \"ticks\": \"\"}}, \"type\": \"scattergl\"}], \"scattermapbox\": [{\"marker\": {\"colorbar\": {\"outlinewidth\": 0, \"ticks\": \"\"}}, \"type\": \"scattermapbox\"}], \"scatterpolar\": [{\"marker\": {\"colorbar\": {\"outlinewidth\": 0, \"ticks\": \"\"}}, \"type\": \"scatterpolar\"}], \"scatterpolargl\": [{\"marker\": {\"colorbar\": {\"outlinewidth\": 0, \"ticks\": \"\"}}, \"type\": \"scatterpolargl\"}], \"scatterternary\": [{\"marker\": {\"colorbar\": {\"outlinewidth\": 0, \"ticks\": \"\"}}, \"type\": \"scatterternary\"}], \"surface\": [{\"colorbar\": {\"outlinewidth\": 0, \"ticks\": \"\"}, \"colorscale\": [[0.0, \"#0d0887\"], [0.1111111111111111, \"#46039f\"], [0.2222222222222222, \"#7201a8\"], [0.3333333333333333, \"#9c179e\"], [0.4444444444444444, \"#bd3786\"], [0.5555555555555556, \"#d8576b\"], [0.6666666666666666, \"#ed7953\"], [0.7777777777777778, \"#fb9f3a\"], [0.8888888888888888, \"#fdca26\"], [1.0, \"#f0f921\"]], \"type\": \"surface\"}], \"table\": [{\"cells\": {\"fill\": {\"color\": \"#EBF0F8\"}, \"line\": {\"color\": \"white\"}}, \"header\": {\"fill\": {\"color\": \"#C8D4E3\"}, \"line\": {\"color\": \"white\"}}, \"type\": \"table\"}]}, \"layout\": {\"annotationdefaults\": {\"arrowcolor\": \"#2a3f5f\", \"arrowhead\": 0, \"arrowwidth\": 1}, \"coloraxis\": {\"colorbar\": {\"outlinewidth\": 0, \"ticks\": \"\"}}, \"colorscale\": {\"diverging\": [[0, \"#8e0152\"], [0.1, \"#c51b7d\"], [0.2, \"#de77ae\"], [0.3, \"#f1b6da\"], [0.4, \"#fde0ef\"], [0.5, \"#f7f7f7\"], [0.6, \"#e6f5d0\"], [0.7, \"#b8e186\"], [0.8, \"#7fbc41\"], [0.9, \"#4d9221\"], [1, \"#276419\"]], \"sequential\": [[0.0, \"#0d0887\"], [0.1111111111111111, \"#46039f\"], [0.2222222222222222, \"#7201a8\"], [0.3333333333333333, \"#9c179e\"], [0.4444444444444444, \"#bd3786\"], [0.5555555555555556, \"#d8576b\"], [0.6666666666666666, \"#ed7953\"], [0.7777777777777778, \"#fb9f3a\"], [0.8888888888888888, \"#fdca26\"], [1.0, \"#f0f921\"]], \"sequentialminus\": [[0.0, \"#0d0887\"], [0.1111111111111111, \"#46039f\"], [0.2222222222222222, \"#7201a8\"], [0.3333333333333333, \"#9c179e\"], [0.4444444444444444, \"#bd3786\"], [0.5555555555555556, \"#d8576b\"], [0.6666666666666666, \"#ed7953\"], [0.7777777777777778, \"#fb9f3a\"], [0.8888888888888888, \"#fdca26\"], [1.0, \"#f0f921\"]]}, \"colorway\": [\"#636efa\", \"#EF553B\", \"#00cc96\", \"#ab63fa\", \"#FFA15A\", \"#19d3f3\", \"#FF6692\", \"#B6E880\", \"#FF97FF\", \"#FECB52\"], \"font\": {\"color\": \"#2a3f5f\"}, \"geo\": {\"bgcolor\": \"white\", \"lakecolor\": \"white\", \"landcolor\": \"#E5ECF6\", \"showlakes\": true, \"showland\": true, \"subunitcolor\": \"white\"}, \"hoverlabel\": {\"align\": \"left\"}, \"hovermode\": \"closest\", \"mapbox\": {\"style\": \"light\"}, \"paper_bgcolor\": \"white\", \"plot_bgcolor\": \"#E5ECF6\", \"polar\": {\"angularaxis\": {\"gridcolor\": \"white\", \"linecolor\": \"white\", \"ticks\": \"\"}, \"bgcolor\": \"#E5ECF6\", \"radialaxis\": {\"gridcolor\": \"white\", \"linecolor\": \"white\", \"ticks\": \"\"}}, \"scene\": {\"xaxis\": {\"backgroundcolor\": \"#E5ECF6\", \"gridcolor\": \"white\", \"gridwidth\": 2, \"linecolor\": \"white\", \"showbackground\": true, \"ticks\": \"\", \"zerolinecolor\": \"white\"}, \"yaxis\": {\"backgroundcolor\": \"#E5ECF6\", \"gridcolor\": \"white\", \"gridwidth\": 2, \"linecolor\": \"white\", \"showbackground\": true, \"ticks\": \"\", \"zerolinecolor\": \"white\"}, \"zaxis\": {\"backgroundcolor\": \"#E5ECF6\", \"gridcolor\": \"white\", \"gridwidth\": 2, \"linecolor\": \"white\", \"showbackground\": true, \"ticks\": \"\", \"zerolinecolor\": \"white\"}}, \"shapedefaults\": {\"line\": {\"color\": \"#2a3f5f\"}}, \"ternary\": {\"aaxis\": {\"gridcolor\": \"white\", \"linecolor\": \"white\", \"ticks\": \"\"}, \"baxis\": {\"gridcolor\": \"white\", \"linecolor\": \"white\", \"ticks\": \"\"}, \"bgcolor\": \"#E5ECF6\", \"caxis\": {\"gridcolor\": \"white\", \"linecolor\": \"white\", \"ticks\": \"\"}}, \"title\": {\"x\": 0.05}, \"xaxis\": {\"automargin\": true, \"gridcolor\": \"white\", \"linecolor\": \"white\", \"ticks\": \"\", \"title\": {\"standoff\": 15}, \"zerolinecolor\": \"white\", \"zerolinewidth\": 2}, \"yaxis\": {\"automargin\": true, \"gridcolor\": \"white\", \"linecolor\": \"white\", \"ticks\": \"\", \"title\": {\"standoff\": 15}, \"zerolinecolor\": \"white\", \"zerolinewidth\": 2}}}},                        {\"responsive\": true}                    ).then(function(){\n",
       "                            \n",
       "var gd = document.getElementById('097ec0f9-c3a8-4899-8e44-230ca86f4fa0');\n",
       "var x = new MutationObserver(function (mutations, observer) {{\n",
       "        var display = window.getComputedStyle(gd).display;\n",
       "        if (!display || display === 'none') {{\n",
       "            console.log([gd, 'removed!']);\n",
       "            Plotly.purge(gd);\n",
       "            observer.disconnect();\n",
       "        }}\n",
       "}});\n",
       "\n",
       "// Listen for the removal of the full notebook cells\n",
       "var notebookContainer = gd.closest('#notebook-container');\n",
       "if (notebookContainer) {{\n",
       "    x.observe(notebookContainer, {childList: true});\n",
       "}}\n",
       "\n",
       "// Listen for the clearing of the current output cell\n",
       "var outputEl = gd.closest('.output');\n",
       "if (outputEl) {{\n",
       "    x.observe(outputEl, {childList: true});\n",
       "}}\n",
       "\n",
       "                        })                };                });            </script>        </div>"
      ]
     },
     "metadata": {},
     "output_type": "display_data"
    }
   ],
   "source": [
    "fig = go.Figure(data=[go.Candlestick(x=Tesla['Date'],\n",
    "                                    open = Tesla['Open'],\n",
    "                                    high = Tesla['High'],\n",
    "                                    low = Tesla['Low'],\n",
    "                                    close = Tesla['Close'])])\n",
    "fig.show()"
   ]
  },
  {
   "cell_type": "code",
   "execution_count": 54,
   "metadata": {
    "scrolled": false
   },
   "outputs": [
    {
     "data": {
      "application/vnd.plotly.v1+json": {
       "config": {
        "linkText": "Export to plot.ly",
        "plotlyServerURL": "https://plot.ly",
        "showLink": true
       },
       "data": [
        {
         "line": {
          "color": "rgba(255, 153, 51, 1.0)",
          "dash": "solid",
          "shape": "linear",
          "width": 1.3
         },
         "mode": "lines",
         "name": "Close",
         "text": "",
         "type": "scatter",
         "x": [
          30,
          31,
          32,
          33,
          34,
          35,
          36,
          37,
          38,
          39,
          40,
          41,
          42,
          43,
          44,
          45,
          46,
          47,
          48,
          49,
          50,
          51,
          52,
          53,
          54,
          55,
          56,
          57,
          58,
          59,
          60,
          61,
          62,
          63,
          64,
          65,
          66,
          67,
          68,
          69,
          70,
          71,
          72,
          73,
          74,
          75,
          76,
          77,
          78,
          79
         ],
         "y": [
          385.31,
          386.09,
          390.9,
          388.23,
          381.91,
          383.68,
          382.73,
          381.37,
          372.69,
          373.85,
          364.11,
          364.11,
          364.8,
          361.78,
          353.63,
          364.84,
          360.06,
          366.53,
          358.87,
          349.72,
          351.73,
          351.59,
          352.08,
          342.99,
          338.8,
          335.9,
          352.84,
          343.99,
          333.46,
          331.5,
          322.32,
          325.12,
          323.34,
          321.85,
          317.94,
          318.25,
          318.11,
          316.73,
          318.89,
          316.85,
          319.23,
          313.14,
          314.96,
          307.71,
          309.54,
          307.65,
          311.41,
          315.01,
          310.13,
          303.74
         ]
        },
        {
         "line": {
          "color": "rgba(55, 128, 191, 1.0)",
          "dash": "solid",
          "shape": "linear",
          "width": 1.3
         },
         "mode": "lines",
         "name": "SMA(3)",
         "text": "",
         "type": "scatter",
         "x": [
          30,
          31,
          32,
          33,
          34,
          35,
          36,
          37,
          38,
          39,
          40,
          41,
          42,
          43,
          44,
          45,
          46,
          47,
          48,
          49,
          50,
          51,
          52,
          53,
          54,
          55,
          56,
          57,
          58,
          59,
          60,
          61,
          62,
          63,
          64,
          65,
          66,
          67,
          68,
          69,
          70,
          71,
          72,
          73,
          74,
          75,
          76,
          77,
          78,
          79
         ],
         "y": [
          "",
          "",
          387.43333333333334,
          388.4066666666667,
          387.0133333333334,
          384.60666666666674,
          382.77333333333337,
          382.5933333333333,
          378.93,
          375.96999999999997,
          370.2166666666667,
          367.35666666666674,
          364.34,
          363.56333333333333,
          360.07,
          360.0833333333333,
          359.51,
          363.80999999999995,
          361.81999999999994,
          358.3733333333333,
          353.44,
          351.0133333333333,
          351.79999999999995,
          348.8866666666666,
          344.6233333333333,
          339.23,
          342.5133333333333,
          344.24333333333334,
          343.43,
          336.31666666666666,
          329.0933333333333,
          326.31333333333333,
          323.5933333333333,
          323.4366666666667,
          321.0433333333334,
          319.34666666666675,
          318.1,
          317.6966666666667,
          317.91,
          317.48999999999995,
          318.32333333333327,
          316.4066666666666,
          315.77666666666653,
          311.9366666666665,
          310.7366666666665,
          308.2999999999998,
          309.53333333333313,
          311.3566666666665,
          312.1833333333331,
          309.6266666666665
         ]
        },
        {
         "line": {
          "color": "rgba(55, 128, 191, 0.8999999999999999)",
          "dash": "solid",
          "shape": "linear",
          "width": 1.3
         },
         "mode": "lines",
         "name": "SMA(7)",
         "text": "",
         "type": "scatter",
         "x": [
          30,
          31,
          32,
          33,
          34,
          35,
          36,
          37,
          38,
          39,
          40,
          41,
          42,
          43,
          44,
          45,
          46,
          47,
          48,
          49,
          50,
          51,
          52,
          53,
          54,
          55,
          56,
          57,
          58,
          59,
          60,
          61,
          62,
          63,
          64,
          65,
          66,
          67,
          68,
          69,
          70,
          71,
          72,
          73,
          74,
          75,
          76,
          77,
          78,
          79
         ],
         "y": [
          "",
          "",
          "",
          "",
          "",
          "",
          385.55,
          384.9871428571428,
          383.0728571428571,
          380.6371428571428,
          377.1914285714285,
          374.6485714285714,
          371.9514285714286,
          368.9585714285715,
          364.99571428571437,
          363.8742857142858,
          361.90428571428583,
          362.25000000000006,
          361.5014285714286,
          359.3471428571429,
          357.9114285714286,
          357.62,
          355.79714285714283,
          353.3585714285714,
          349.3971428571428,
          346.11571428571426,
          346.5614285714286,
          345.4557142857143,
          342.86571428571426,
          339.92571428571426,
          336.9728571428572,
          335.0185714285714,
          333.2242857142857,
          328.79714285714283,
          325.07571428571424,
          322.9028571428571,
          320.98999999999995,
          320.1914285714285,
          319.3014285714285,
          318.37428571428563,
          317.99999999999994,
          317.31428571428563,
          316.8442857142856,
          315.35857142857134,
          314.3314285714285,
          312.7257142857142,
          311.94857142857137,
          311.3457142857142,
          310.9157142857143,
          309.31285714285707
         ]
        }
       ],
       "layout": {
        "legend": {
         "bgcolor": "#F5F6F9",
         "font": {
          "color": "#4D5663"
         }
        },
        "paper_bgcolor": "#F5F6F9",
        "plot_bgcolor": "#F5F6F9",
        "template": {
         "data": {
          "bar": [
           {
            "error_x": {
             "color": "#2a3f5f"
            },
            "error_y": {
             "color": "#2a3f5f"
            },
            "marker": {
             "line": {
              "color": "#E5ECF6",
              "width": 0.5
             }
            },
            "type": "bar"
           }
          ],
          "barpolar": [
           {
            "marker": {
             "line": {
              "color": "#E5ECF6",
              "width": 0.5
             }
            },
            "type": "barpolar"
           }
          ],
          "carpet": [
           {
            "aaxis": {
             "endlinecolor": "#2a3f5f",
             "gridcolor": "white",
             "linecolor": "white",
             "minorgridcolor": "white",
             "startlinecolor": "#2a3f5f"
            },
            "baxis": {
             "endlinecolor": "#2a3f5f",
             "gridcolor": "white",
             "linecolor": "white",
             "minorgridcolor": "white",
             "startlinecolor": "#2a3f5f"
            },
            "type": "carpet"
           }
          ],
          "choropleth": [
           {
            "colorbar": {
             "outlinewidth": 0,
             "ticks": ""
            },
            "type": "choropleth"
           }
          ],
          "contour": [
           {
            "colorbar": {
             "outlinewidth": 0,
             "ticks": ""
            },
            "colorscale": [
             [
              0,
              "#0d0887"
             ],
             [
              0.1111111111111111,
              "#46039f"
             ],
             [
              0.2222222222222222,
              "#7201a8"
             ],
             [
              0.3333333333333333,
              "#9c179e"
             ],
             [
              0.4444444444444444,
              "#bd3786"
             ],
             [
              0.5555555555555556,
              "#d8576b"
             ],
             [
              0.6666666666666666,
              "#ed7953"
             ],
             [
              0.7777777777777778,
              "#fb9f3a"
             ],
             [
              0.8888888888888888,
              "#fdca26"
             ],
             [
              1,
              "#f0f921"
             ]
            ],
            "type": "contour"
           }
          ],
          "contourcarpet": [
           {
            "colorbar": {
             "outlinewidth": 0,
             "ticks": ""
            },
            "type": "contourcarpet"
           }
          ],
          "heatmap": [
           {
            "colorbar": {
             "outlinewidth": 0,
             "ticks": ""
            },
            "colorscale": [
             [
              0,
              "#0d0887"
             ],
             [
              0.1111111111111111,
              "#46039f"
             ],
             [
              0.2222222222222222,
              "#7201a8"
             ],
             [
              0.3333333333333333,
              "#9c179e"
             ],
             [
              0.4444444444444444,
              "#bd3786"
             ],
             [
              0.5555555555555556,
              "#d8576b"
             ],
             [
              0.6666666666666666,
              "#ed7953"
             ],
             [
              0.7777777777777778,
              "#fb9f3a"
             ],
             [
              0.8888888888888888,
              "#fdca26"
             ],
             [
              1,
              "#f0f921"
             ]
            ],
            "type": "heatmap"
           }
          ],
          "heatmapgl": [
           {
            "colorbar": {
             "outlinewidth": 0,
             "ticks": ""
            },
            "colorscale": [
             [
              0,
              "#0d0887"
             ],
             [
              0.1111111111111111,
              "#46039f"
             ],
             [
              0.2222222222222222,
              "#7201a8"
             ],
             [
              0.3333333333333333,
              "#9c179e"
             ],
             [
              0.4444444444444444,
              "#bd3786"
             ],
             [
              0.5555555555555556,
              "#d8576b"
             ],
             [
              0.6666666666666666,
              "#ed7953"
             ],
             [
              0.7777777777777778,
              "#fb9f3a"
             ],
             [
              0.8888888888888888,
              "#fdca26"
             ],
             [
              1,
              "#f0f921"
             ]
            ],
            "type": "heatmapgl"
           }
          ],
          "histogram": [
           {
            "marker": {
             "colorbar": {
              "outlinewidth": 0,
              "ticks": ""
             }
            },
            "type": "histogram"
           }
          ],
          "histogram2d": [
           {
            "colorbar": {
             "outlinewidth": 0,
             "ticks": ""
            },
            "colorscale": [
             [
              0,
              "#0d0887"
             ],
             [
              0.1111111111111111,
              "#46039f"
             ],
             [
              0.2222222222222222,
              "#7201a8"
             ],
             [
              0.3333333333333333,
              "#9c179e"
             ],
             [
              0.4444444444444444,
              "#bd3786"
             ],
             [
              0.5555555555555556,
              "#d8576b"
             ],
             [
              0.6666666666666666,
              "#ed7953"
             ],
             [
              0.7777777777777778,
              "#fb9f3a"
             ],
             [
              0.8888888888888888,
              "#fdca26"
             ],
             [
              1,
              "#f0f921"
             ]
            ],
            "type": "histogram2d"
           }
          ],
          "histogram2dcontour": [
           {
            "colorbar": {
             "outlinewidth": 0,
             "ticks": ""
            },
            "colorscale": [
             [
              0,
              "#0d0887"
             ],
             [
              0.1111111111111111,
              "#46039f"
             ],
             [
              0.2222222222222222,
              "#7201a8"
             ],
             [
              0.3333333333333333,
              "#9c179e"
             ],
             [
              0.4444444444444444,
              "#bd3786"
             ],
             [
              0.5555555555555556,
              "#d8576b"
             ],
             [
              0.6666666666666666,
              "#ed7953"
             ],
             [
              0.7777777777777778,
              "#fb9f3a"
             ],
             [
              0.8888888888888888,
              "#fdca26"
             ],
             [
              1,
              "#f0f921"
             ]
            ],
            "type": "histogram2dcontour"
           }
          ],
          "mesh3d": [
           {
            "colorbar": {
             "outlinewidth": 0,
             "ticks": ""
            },
            "type": "mesh3d"
           }
          ],
          "parcoords": [
           {
            "line": {
             "colorbar": {
              "outlinewidth": 0,
              "ticks": ""
             }
            },
            "type": "parcoords"
           }
          ],
          "pie": [
           {
            "automargin": true,
            "type": "pie"
           }
          ],
          "scatter": [
           {
            "marker": {
             "colorbar": {
              "outlinewidth": 0,
              "ticks": ""
             }
            },
            "type": "scatter"
           }
          ],
          "scatter3d": [
           {
            "line": {
             "colorbar": {
              "outlinewidth": 0,
              "ticks": ""
             }
            },
            "marker": {
             "colorbar": {
              "outlinewidth": 0,
              "ticks": ""
             }
            },
            "type": "scatter3d"
           }
          ],
          "scattercarpet": [
           {
            "marker": {
             "colorbar": {
              "outlinewidth": 0,
              "ticks": ""
             }
            },
            "type": "scattercarpet"
           }
          ],
          "scattergeo": [
           {
            "marker": {
             "colorbar": {
              "outlinewidth": 0,
              "ticks": ""
             }
            },
            "type": "scattergeo"
           }
          ],
          "scattergl": [
           {
            "marker": {
             "colorbar": {
              "outlinewidth": 0,
              "ticks": ""
             }
            },
            "type": "scattergl"
           }
          ],
          "scattermapbox": [
           {
            "marker": {
             "colorbar": {
              "outlinewidth": 0,
              "ticks": ""
             }
            },
            "type": "scattermapbox"
           }
          ],
          "scatterpolar": [
           {
            "marker": {
             "colorbar": {
              "outlinewidth": 0,
              "ticks": ""
             }
            },
            "type": "scatterpolar"
           }
          ],
          "scatterpolargl": [
           {
            "marker": {
             "colorbar": {
              "outlinewidth": 0,
              "ticks": ""
             }
            },
            "type": "scatterpolargl"
           }
          ],
          "scatterternary": [
           {
            "marker": {
             "colorbar": {
              "outlinewidth": 0,
              "ticks": ""
             }
            },
            "type": "scatterternary"
           }
          ],
          "surface": [
           {
            "colorbar": {
             "outlinewidth": 0,
             "ticks": ""
            },
            "colorscale": [
             [
              0,
              "#0d0887"
             ],
             [
              0.1111111111111111,
              "#46039f"
             ],
             [
              0.2222222222222222,
              "#7201a8"
             ],
             [
              0.3333333333333333,
              "#9c179e"
             ],
             [
              0.4444444444444444,
              "#bd3786"
             ],
             [
              0.5555555555555556,
              "#d8576b"
             ],
             [
              0.6666666666666666,
              "#ed7953"
             ],
             [
              0.7777777777777778,
              "#fb9f3a"
             ],
             [
              0.8888888888888888,
              "#fdca26"
             ],
             [
              1,
              "#f0f921"
             ]
            ],
            "type": "surface"
           }
          ],
          "table": [
           {
            "cells": {
             "fill": {
              "color": "#EBF0F8"
             },
             "line": {
              "color": "white"
             }
            },
            "header": {
             "fill": {
              "color": "#C8D4E3"
             },
             "line": {
              "color": "white"
             }
            },
            "type": "table"
           }
          ]
         },
         "layout": {
          "annotationdefaults": {
           "arrowcolor": "#2a3f5f",
           "arrowhead": 0,
           "arrowwidth": 1
          },
          "coloraxis": {
           "colorbar": {
            "outlinewidth": 0,
            "ticks": ""
           }
          },
          "colorscale": {
           "diverging": [
            [
             0,
             "#8e0152"
            ],
            [
             0.1,
             "#c51b7d"
            ],
            [
             0.2,
             "#de77ae"
            ],
            [
             0.3,
             "#f1b6da"
            ],
            [
             0.4,
             "#fde0ef"
            ],
            [
             0.5,
             "#f7f7f7"
            ],
            [
             0.6,
             "#e6f5d0"
            ],
            [
             0.7,
             "#b8e186"
            ],
            [
             0.8,
             "#7fbc41"
            ],
            [
             0.9,
             "#4d9221"
            ],
            [
             1,
             "#276419"
            ]
           ],
           "sequential": [
            [
             0,
             "#0d0887"
            ],
            [
             0.1111111111111111,
             "#46039f"
            ],
            [
             0.2222222222222222,
             "#7201a8"
            ],
            [
             0.3333333333333333,
             "#9c179e"
            ],
            [
             0.4444444444444444,
             "#bd3786"
            ],
            [
             0.5555555555555556,
             "#d8576b"
            ],
            [
             0.6666666666666666,
             "#ed7953"
            ],
            [
             0.7777777777777778,
             "#fb9f3a"
            ],
            [
             0.8888888888888888,
             "#fdca26"
            ],
            [
             1,
             "#f0f921"
            ]
           ],
           "sequentialminus": [
            [
             0,
             "#0d0887"
            ],
            [
             0.1111111111111111,
             "#46039f"
            ],
            [
             0.2222222222222222,
             "#7201a8"
            ],
            [
             0.3333333333333333,
             "#9c179e"
            ],
            [
             0.4444444444444444,
             "#bd3786"
            ],
            [
             0.5555555555555556,
             "#d8576b"
            ],
            [
             0.6666666666666666,
             "#ed7953"
            ],
            [
             0.7777777777777778,
             "#fb9f3a"
            ],
            [
             0.8888888888888888,
             "#fdca26"
            ],
            [
             1,
             "#f0f921"
            ]
           ]
          },
          "colorway": [
           "#636efa",
           "#EF553B",
           "#00cc96",
           "#ab63fa",
           "#FFA15A",
           "#19d3f3",
           "#FF6692",
           "#B6E880",
           "#FF97FF",
           "#FECB52"
          ],
          "font": {
           "color": "#2a3f5f"
          },
          "geo": {
           "bgcolor": "white",
           "lakecolor": "white",
           "landcolor": "#E5ECF6",
           "showlakes": true,
           "showland": true,
           "subunitcolor": "white"
          },
          "hoverlabel": {
           "align": "left"
          },
          "hovermode": "closest",
          "mapbox": {
           "style": "light"
          },
          "paper_bgcolor": "white",
          "plot_bgcolor": "#E5ECF6",
          "polar": {
           "angularaxis": {
            "gridcolor": "white",
            "linecolor": "white",
            "ticks": ""
           },
           "bgcolor": "#E5ECF6",
           "radialaxis": {
            "gridcolor": "white",
            "linecolor": "white",
            "ticks": ""
           }
          },
          "scene": {
           "xaxis": {
            "backgroundcolor": "#E5ECF6",
            "gridcolor": "white",
            "gridwidth": 2,
            "linecolor": "white",
            "showbackground": true,
            "ticks": "",
            "zerolinecolor": "white"
           },
           "yaxis": {
            "backgroundcolor": "#E5ECF6",
            "gridcolor": "white",
            "gridwidth": 2,
            "linecolor": "white",
            "showbackground": true,
            "ticks": "",
            "zerolinecolor": "white"
           },
           "zaxis": {
            "backgroundcolor": "#E5ECF6",
            "gridcolor": "white",
            "gridwidth": 2,
            "linecolor": "white",
            "showbackground": true,
            "ticks": "",
            "zerolinecolor": "white"
           }
          },
          "shapedefaults": {
           "line": {
            "color": "#2a3f5f"
           }
          },
          "ternary": {
           "aaxis": {
            "gridcolor": "white",
            "linecolor": "white",
            "ticks": ""
           },
           "baxis": {
            "gridcolor": "white",
            "linecolor": "white",
            "ticks": ""
           },
           "bgcolor": "#E5ECF6",
           "caxis": {
            "gridcolor": "white",
            "linecolor": "white",
            "ticks": ""
           }
          },
          "title": {
           "x": 0.05
          },
          "xaxis": {
           "automargin": true,
           "gridcolor": "white",
           "linecolor": "white",
           "ticks": "",
           "title": {
            "standoff": 15
           },
           "zerolinecolor": "white",
           "zerolinewidth": 2
          },
          "yaxis": {
           "automargin": true,
           "gridcolor": "white",
           "linecolor": "white",
           "ticks": "",
           "title": {
            "standoff": 15
           },
           "zerolinecolor": "white",
           "zerolinewidth": 2
          }
         }
        },
        "title": {
         "font": {
          "color": "#4D5663"
         }
        },
        "xaxis": {
         "gridcolor": "#E1E5ED",
         "showgrid": true,
         "tickfont": {
          "color": "#4D5663"
         },
         "title": {
          "font": {
           "color": "#4D5663"
          },
          "text": ""
         },
         "zerolinecolor": "#E1E5ED"
        },
        "yaxis": {
         "gridcolor": "#E1E5ED",
         "showgrid": true,
         "tickfont": {
          "color": "#4D5663"
         },
         "title": {
          "font": {
           "color": "#4D5663"
          },
          "text": ""
         },
         "zerolinecolor": "#E1E5ED"
        }
       }
      },
      "text/html": [
       "<div>                            <div id=\"dd81ab23-b6c4-4740-bff6-a5a2487b6c84\" class=\"plotly-graph-div\" style=\"height:525px; width:100%;\"></div>            <script type=\"text/javascript\">                require([\"plotly\"], function(Plotly) {                    window.PLOTLYENV=window.PLOTLYENV || {};\n",
       "                    window.PLOTLYENV.BASE_URL='https://plot.ly';                                    if (document.getElementById(\"dd81ab23-b6c4-4740-bff6-a5a2487b6c84\")) {                    Plotly.newPlot(                        \"dd81ab23-b6c4-4740-bff6-a5a2487b6c84\",                        [{\"line\": {\"color\": \"rgba(255, 153, 51, 1.0)\", \"dash\": \"solid\", \"shape\": \"linear\", \"width\": 1.3}, \"mode\": \"lines\", \"name\": \"Close\", \"text\": \"\", \"type\": \"scatter\", \"x\": [30, 31, 32, 33, 34, 35, 36, 37, 38, 39, 40, 41, 42, 43, 44, 45, 46, 47, 48, 49, 50, 51, 52, 53, 54, 55, 56, 57, 58, 59, 60, 61, 62, 63, 64, 65, 66, 67, 68, 69, 70, 71, 72, 73, 74, 75, 76, 77, 78, 79], \"y\": [385.31, 386.09, 390.9, 388.23, 381.91, 383.68, 382.73, 381.37, 372.69, 373.85, 364.11, 364.11, 364.8, 361.78, 353.63, 364.84, 360.06, 366.53, 358.87, 349.72, 351.73, 351.59, 352.08, 342.99, 338.8, 335.9, 352.84, 343.99, 333.46, 331.5, 322.32, 325.12, 323.34, 321.85, 317.94, 318.25, 318.11, 316.73, 318.89, 316.85, 319.23, 313.14, 314.96, 307.71, 309.54, 307.65, 311.41, 315.01, 310.13, 303.74]}, {\"line\": {\"color\": \"rgba(55, 128, 191, 1.0)\", \"dash\": \"solid\", \"shape\": \"linear\", \"width\": 1.3}, \"mode\": \"lines\", \"name\": \"SMA(3)\", \"text\": \"\", \"type\": \"scatter\", \"x\": [30, 31, 32, 33, 34, 35, 36, 37, 38, 39, 40, 41, 42, 43, 44, 45, 46, 47, 48, 49, 50, 51, 52, 53, 54, 55, 56, 57, 58, 59, 60, 61, 62, 63, 64, 65, 66, 67, 68, 69, 70, 71, 72, 73, 74, 75, 76, 77, 78, 79], \"y\": [\"\", \"\", 387.43333333333334, 388.4066666666667, 387.0133333333334, 384.60666666666674, 382.77333333333337, 382.5933333333333, 378.93, 375.96999999999997, 370.2166666666667, 367.35666666666674, 364.34, 363.56333333333333, 360.07, 360.0833333333333, 359.51, 363.80999999999995, 361.81999999999994, 358.3733333333333, 353.44, 351.0133333333333, 351.79999999999995, 348.8866666666666, 344.6233333333333, 339.23, 342.5133333333333, 344.24333333333334, 343.43, 336.31666666666666, 329.0933333333333, 326.31333333333333, 323.5933333333333, 323.4366666666667, 321.0433333333334, 319.34666666666675, 318.1, 317.6966666666667, 317.91, 317.48999999999995, 318.32333333333327, 316.4066666666666, 315.77666666666653, 311.9366666666665, 310.7366666666665, 308.2999999999998, 309.53333333333313, 311.3566666666665, 312.1833333333331, 309.6266666666665]}, {\"line\": {\"color\": \"rgba(55, 128, 191, 0.8999999999999999)\", \"dash\": \"solid\", \"shape\": \"linear\", \"width\": 1.3}, \"mode\": \"lines\", \"name\": \"SMA(7)\", \"text\": \"\", \"type\": \"scatter\", \"x\": [30, 31, 32, 33, 34, 35, 36, 37, 38, 39, 40, 41, 42, 43, 44, 45, 46, 47, 48, 49, 50, 51, 52, 53, 54, 55, 56, 57, 58, 59, 60, 61, 62, 63, 64, 65, 66, 67, 68, 69, 70, 71, 72, 73, 74, 75, 76, 77, 78, 79], \"y\": [\"\", \"\", \"\", \"\", \"\", \"\", 385.55, 384.9871428571428, 383.0728571428571, 380.6371428571428, 377.1914285714285, 374.6485714285714, 371.9514285714286, 368.9585714285715, 364.99571428571437, 363.8742857142858, 361.90428571428583, 362.25000000000006, 361.5014285714286, 359.3471428571429, 357.9114285714286, 357.62, 355.79714285714283, 353.3585714285714, 349.3971428571428, 346.11571428571426, 346.5614285714286, 345.4557142857143, 342.86571428571426, 339.92571428571426, 336.9728571428572, 335.0185714285714, 333.2242857142857, 328.79714285714283, 325.07571428571424, 322.9028571428571, 320.98999999999995, 320.1914285714285, 319.3014285714285, 318.37428571428563, 317.99999999999994, 317.31428571428563, 316.8442857142856, 315.35857142857134, 314.3314285714285, 312.7257142857142, 311.94857142857137, 311.3457142857142, 310.9157142857143, 309.31285714285707]}],                        {\"legend\": {\"bgcolor\": \"#F5F6F9\", \"font\": {\"color\": \"#4D5663\"}}, \"paper_bgcolor\": \"#F5F6F9\", \"plot_bgcolor\": \"#F5F6F9\", \"template\": {\"data\": {\"bar\": [{\"error_x\": {\"color\": \"#2a3f5f\"}, \"error_y\": {\"color\": \"#2a3f5f\"}, \"marker\": {\"line\": {\"color\": \"#E5ECF6\", \"width\": 0.5}}, \"type\": \"bar\"}], \"barpolar\": [{\"marker\": {\"line\": {\"color\": \"#E5ECF6\", \"width\": 0.5}}, \"type\": \"barpolar\"}], \"carpet\": [{\"aaxis\": {\"endlinecolor\": \"#2a3f5f\", \"gridcolor\": \"white\", \"linecolor\": \"white\", \"minorgridcolor\": \"white\", \"startlinecolor\": \"#2a3f5f\"}, \"baxis\": {\"endlinecolor\": \"#2a3f5f\", \"gridcolor\": \"white\", \"linecolor\": \"white\", \"minorgridcolor\": \"white\", \"startlinecolor\": \"#2a3f5f\"}, \"type\": \"carpet\"}], \"choropleth\": [{\"colorbar\": {\"outlinewidth\": 0, \"ticks\": \"\"}, \"type\": \"choropleth\"}], \"contour\": [{\"colorbar\": {\"outlinewidth\": 0, \"ticks\": \"\"}, \"colorscale\": [[0.0, \"#0d0887\"], [0.1111111111111111, \"#46039f\"], [0.2222222222222222, \"#7201a8\"], [0.3333333333333333, \"#9c179e\"], [0.4444444444444444, \"#bd3786\"], [0.5555555555555556, \"#d8576b\"], [0.6666666666666666, \"#ed7953\"], [0.7777777777777778, \"#fb9f3a\"], [0.8888888888888888, \"#fdca26\"], [1.0, \"#f0f921\"]], \"type\": \"contour\"}], \"contourcarpet\": [{\"colorbar\": {\"outlinewidth\": 0, \"ticks\": \"\"}, \"type\": \"contourcarpet\"}], \"heatmap\": [{\"colorbar\": {\"outlinewidth\": 0, \"ticks\": \"\"}, \"colorscale\": [[0.0, \"#0d0887\"], [0.1111111111111111, \"#46039f\"], [0.2222222222222222, \"#7201a8\"], [0.3333333333333333, \"#9c179e\"], [0.4444444444444444, \"#bd3786\"], [0.5555555555555556, \"#d8576b\"], [0.6666666666666666, \"#ed7953\"], [0.7777777777777778, \"#fb9f3a\"], [0.8888888888888888, \"#fdca26\"], [1.0, \"#f0f921\"]], \"type\": \"heatmap\"}], \"heatmapgl\": [{\"colorbar\": {\"outlinewidth\": 0, \"ticks\": \"\"}, \"colorscale\": [[0.0, \"#0d0887\"], [0.1111111111111111, \"#46039f\"], [0.2222222222222222, \"#7201a8\"], [0.3333333333333333, \"#9c179e\"], [0.4444444444444444, \"#bd3786\"], [0.5555555555555556, \"#d8576b\"], [0.6666666666666666, \"#ed7953\"], [0.7777777777777778, \"#fb9f3a\"], [0.8888888888888888, \"#fdca26\"], [1.0, \"#f0f921\"]], \"type\": \"heatmapgl\"}], \"histogram\": [{\"marker\": {\"colorbar\": {\"outlinewidth\": 0, \"ticks\": \"\"}}, \"type\": \"histogram\"}], \"histogram2d\": [{\"colorbar\": {\"outlinewidth\": 0, \"ticks\": \"\"}, \"colorscale\": [[0.0, \"#0d0887\"], [0.1111111111111111, \"#46039f\"], [0.2222222222222222, \"#7201a8\"], [0.3333333333333333, \"#9c179e\"], [0.4444444444444444, \"#bd3786\"], [0.5555555555555556, \"#d8576b\"], [0.6666666666666666, \"#ed7953\"], [0.7777777777777778, \"#fb9f3a\"], [0.8888888888888888, \"#fdca26\"], [1.0, \"#f0f921\"]], \"type\": \"histogram2d\"}], \"histogram2dcontour\": [{\"colorbar\": {\"outlinewidth\": 0, \"ticks\": \"\"}, \"colorscale\": [[0.0, \"#0d0887\"], [0.1111111111111111, \"#46039f\"], [0.2222222222222222, \"#7201a8\"], [0.3333333333333333, \"#9c179e\"], [0.4444444444444444, \"#bd3786\"], [0.5555555555555556, \"#d8576b\"], [0.6666666666666666, \"#ed7953\"], [0.7777777777777778, \"#fb9f3a\"], [0.8888888888888888, \"#fdca26\"], [1.0, \"#f0f921\"]], \"type\": \"histogram2dcontour\"}], \"mesh3d\": [{\"colorbar\": {\"outlinewidth\": 0, \"ticks\": \"\"}, \"type\": \"mesh3d\"}], \"parcoords\": [{\"line\": {\"colorbar\": {\"outlinewidth\": 0, \"ticks\": \"\"}}, \"type\": \"parcoords\"}], \"pie\": [{\"automargin\": true, \"type\": \"pie\"}], \"scatter\": [{\"marker\": {\"colorbar\": {\"outlinewidth\": 0, \"ticks\": \"\"}}, \"type\": \"scatter\"}], \"scatter3d\": [{\"line\": {\"colorbar\": {\"outlinewidth\": 0, \"ticks\": \"\"}}, \"marker\": {\"colorbar\": {\"outlinewidth\": 0, \"ticks\": \"\"}}, \"type\": \"scatter3d\"}], \"scattercarpet\": [{\"marker\": {\"colorbar\": {\"outlinewidth\": 0, \"ticks\": \"\"}}, \"type\": \"scattercarpet\"}], \"scattergeo\": [{\"marker\": {\"colorbar\": {\"outlinewidth\": 0, \"ticks\": \"\"}}, \"type\": \"scattergeo\"}], \"scattergl\": [{\"marker\": {\"colorbar\": {\"outlinewidth\": 0, \"ticks\": \"\"}}, \"type\": \"scattergl\"}], \"scattermapbox\": [{\"marker\": {\"colorbar\": {\"outlinewidth\": 0, \"ticks\": \"\"}}, \"type\": \"scattermapbox\"}], \"scatterpolar\": [{\"marker\": {\"colorbar\": {\"outlinewidth\": 0, \"ticks\": \"\"}}, \"type\": \"scatterpolar\"}], \"scatterpolargl\": [{\"marker\": {\"colorbar\": {\"outlinewidth\": 0, \"ticks\": \"\"}}, \"type\": \"scatterpolargl\"}], \"scatterternary\": [{\"marker\": {\"colorbar\": {\"outlinewidth\": 0, \"ticks\": \"\"}}, \"type\": \"scatterternary\"}], \"surface\": [{\"colorbar\": {\"outlinewidth\": 0, \"ticks\": \"\"}, \"colorscale\": [[0.0, \"#0d0887\"], [0.1111111111111111, \"#46039f\"], [0.2222222222222222, \"#7201a8\"], [0.3333333333333333, \"#9c179e\"], [0.4444444444444444, \"#bd3786\"], [0.5555555555555556, \"#d8576b\"], [0.6666666666666666, \"#ed7953\"], [0.7777777777777778, \"#fb9f3a\"], [0.8888888888888888, \"#fdca26\"], [1.0, \"#f0f921\"]], \"type\": \"surface\"}], \"table\": [{\"cells\": {\"fill\": {\"color\": \"#EBF0F8\"}, \"line\": {\"color\": \"white\"}}, \"header\": {\"fill\": {\"color\": \"#C8D4E3\"}, \"line\": {\"color\": \"white\"}}, \"type\": \"table\"}]}, \"layout\": {\"annotationdefaults\": {\"arrowcolor\": \"#2a3f5f\", \"arrowhead\": 0, \"arrowwidth\": 1}, \"coloraxis\": {\"colorbar\": {\"outlinewidth\": 0, \"ticks\": \"\"}}, \"colorscale\": {\"diverging\": [[0, \"#8e0152\"], [0.1, \"#c51b7d\"], [0.2, \"#de77ae\"], [0.3, \"#f1b6da\"], [0.4, \"#fde0ef\"], [0.5, \"#f7f7f7\"], [0.6, \"#e6f5d0\"], [0.7, \"#b8e186\"], [0.8, \"#7fbc41\"], [0.9, \"#4d9221\"], [1, \"#276419\"]], \"sequential\": [[0.0, \"#0d0887\"], [0.1111111111111111, \"#46039f\"], [0.2222222222222222, \"#7201a8\"], [0.3333333333333333, \"#9c179e\"], [0.4444444444444444, \"#bd3786\"], [0.5555555555555556, \"#d8576b\"], [0.6666666666666666, \"#ed7953\"], [0.7777777777777778, \"#fb9f3a\"], [0.8888888888888888, \"#fdca26\"], [1.0, \"#f0f921\"]], \"sequentialminus\": [[0.0, \"#0d0887\"], [0.1111111111111111, \"#46039f\"], [0.2222222222222222, \"#7201a8\"], [0.3333333333333333, \"#9c179e\"], [0.4444444444444444, \"#bd3786\"], [0.5555555555555556, \"#d8576b\"], [0.6666666666666666, \"#ed7953\"], [0.7777777777777778, \"#fb9f3a\"], [0.8888888888888888, \"#fdca26\"], [1.0, \"#f0f921\"]]}, \"colorway\": [\"#636efa\", \"#EF553B\", \"#00cc96\", \"#ab63fa\", \"#FFA15A\", \"#19d3f3\", \"#FF6692\", \"#B6E880\", \"#FF97FF\", \"#FECB52\"], \"font\": {\"color\": \"#2a3f5f\"}, \"geo\": {\"bgcolor\": \"white\", \"lakecolor\": \"white\", \"landcolor\": \"#E5ECF6\", \"showlakes\": true, \"showland\": true, \"subunitcolor\": \"white\"}, \"hoverlabel\": {\"align\": \"left\"}, \"hovermode\": \"closest\", \"mapbox\": {\"style\": \"light\"}, \"paper_bgcolor\": \"white\", \"plot_bgcolor\": \"#E5ECF6\", \"polar\": {\"angularaxis\": {\"gridcolor\": \"white\", \"linecolor\": \"white\", \"ticks\": \"\"}, \"bgcolor\": \"#E5ECF6\", \"radialaxis\": {\"gridcolor\": \"white\", \"linecolor\": \"white\", \"ticks\": \"\"}}, \"scene\": {\"xaxis\": {\"backgroundcolor\": \"#E5ECF6\", \"gridcolor\": \"white\", \"gridwidth\": 2, \"linecolor\": \"white\", \"showbackground\": true, \"ticks\": \"\", \"zerolinecolor\": \"white\"}, \"yaxis\": {\"backgroundcolor\": \"#E5ECF6\", \"gridcolor\": \"white\", \"gridwidth\": 2, \"linecolor\": \"white\", \"showbackground\": true, \"ticks\": \"\", \"zerolinecolor\": \"white\"}, \"zaxis\": {\"backgroundcolor\": \"#E5ECF6\", \"gridcolor\": \"white\", \"gridwidth\": 2, \"linecolor\": \"white\", \"showbackground\": true, \"ticks\": \"\", \"zerolinecolor\": \"white\"}}, \"shapedefaults\": {\"line\": {\"color\": \"#2a3f5f\"}}, \"ternary\": {\"aaxis\": {\"gridcolor\": \"white\", \"linecolor\": \"white\", \"ticks\": \"\"}, \"baxis\": {\"gridcolor\": \"white\", \"linecolor\": \"white\", \"ticks\": \"\"}, \"bgcolor\": \"#E5ECF6\", \"caxis\": {\"gridcolor\": \"white\", \"linecolor\": \"white\", \"ticks\": \"\"}}, \"title\": {\"x\": 0.05}, \"xaxis\": {\"automargin\": true, \"gridcolor\": \"white\", \"linecolor\": \"white\", \"ticks\": \"\", \"title\": {\"standoff\": 15}, \"zerolinecolor\": \"white\", \"zerolinewidth\": 2}, \"yaxis\": {\"automargin\": true, \"gridcolor\": \"white\", \"linecolor\": \"white\", \"ticks\": \"\", \"title\": {\"standoff\": 15}, \"zerolinecolor\": \"white\", \"zerolinewidth\": 2}}}, \"title\": {\"font\": {\"color\": \"#4D5663\"}}, \"xaxis\": {\"gridcolor\": \"#E1E5ED\", \"showgrid\": true, \"tickfont\": {\"color\": \"#4D5663\"}, \"title\": {\"font\": {\"color\": \"#4D5663\"}, \"text\": \"\"}, \"zerolinecolor\": \"#E1E5ED\"}, \"yaxis\": {\"gridcolor\": \"#E1E5ED\", \"showgrid\": true, \"tickfont\": {\"color\": \"#4D5663\"}, \"title\": {\"font\": {\"color\": \"#4D5663\"}, \"text\": \"\"}, \"zerolinecolor\": \"#E1E5ED\"}},                        {\"showLink\": true, \"linkText\": \"Export to plot.ly\", \"plotlyServerURL\": \"https://plot.ly\", \"responsive\": true}                    ).then(function(){\n",
       "                            \n",
       "var gd = document.getElementById('dd81ab23-b6c4-4740-bff6-a5a2487b6c84');\n",
       "var x = new MutationObserver(function (mutations, observer) {{\n",
       "        var display = window.getComputedStyle(gd).display;\n",
       "        if (!display || display === 'none') {{\n",
       "            console.log([gd, 'removed!']);\n",
       "            Plotly.purge(gd);\n",
       "            observer.disconnect();\n",
       "        }}\n",
       "}});\n",
       "\n",
       "// Listen for the removal of the full notebook cells\n",
       "var notebookContainer = gd.closest('#notebook-container');\n",
       "if (notebookContainer) {{\n",
       "    x.observe(notebookContainer, {childList: true});\n",
       "}}\n",
       "\n",
       "// Listen for the clearing of the current output cell\n",
       "var outputEl = gd.closest('.output');\n",
       "if (outputEl) {{\n",
       "    x.observe(outputEl, {childList: true});\n",
       "}}\n",
       "\n",
       "                        })                };                });            </script>        </div>"
      ]
     },
     "metadata": {},
     "output_type": "display_data"
    },
    {
     "data": {
      "application/vnd.plotly.v1+json": {
       "config": {
        "linkText": "Export to plot.ly",
        "plotlyServerURL": "https://plot.ly",
        "showLink": true
       },
       "data": [
        {
         "line": {
          "color": "rgba(255, 153, 51, 1.0)",
          "dash": "solid",
          "shape": "linear",
          "width": 1.3
         },
         "mode": "lines",
         "name": "Close",
         "text": "",
         "type": "scatter",
         "x": [
          30,
          31,
          32,
          33,
          34,
          35,
          36,
          37,
          38,
          39,
          40,
          41,
          42,
          43,
          44,
          45,
          46,
          47,
          48,
          49,
          50,
          51,
          52,
          53,
          54,
          55,
          56,
          57,
          58,
          59,
          60,
          61,
          62,
          63,
          64,
          65,
          66,
          67,
          68,
          69,
          70,
          71,
          72,
          73,
          74,
          75,
          76,
          77,
          78,
          79
         ],
         "y": [
          2961.97,
          2999.9,
          3008.87,
          3084,
          3104,
          3200,
          3182.63,
          3081.11,
          3000.12,
          3057.04,
          2890.3,
          2878.7,
          2758.82,
          2680.38,
          2692.87,
          2754.58,
          2734.4,
          2764.41,
          2713.82,
          2675.01,
          2653.98,
          2640.98,
          2615.27,
          2572.68,
          2545.02,
          2557.96,
          2647.45,
          2600.86,
          2524.06,
          2483,
          2460.6,
          2478.4,
          2472.41,
          2471.04,
          2442.37,
          2401.1,
          2410.39,
          2421.86,
          2436.88,
          2446.74,
          2497.94,
          2449.33,
          2426.26,
          2409.78,
          2388.85,
          2367.92,
          2356.95,
          2409,
          2379.61,
          2367.61
         ]
        },
        {
         "line": {
          "color": "rgba(55, 128, 191, 1.0)",
          "dash": "solid",
          "shape": "linear",
          "width": 1.3
         },
         "mode": "lines",
         "name": "SMA(3)",
         "text": "",
         "type": "scatter",
         "x": [
          30,
          31,
          32,
          33,
          34,
          35,
          36,
          37,
          38,
          39,
          40,
          41,
          42,
          43,
          44,
          45,
          46,
          47,
          48,
          49,
          50,
          51,
          52,
          53,
          54,
          55,
          56,
          57,
          58,
          59,
          60,
          61,
          62,
          63,
          64,
          65,
          66,
          67,
          68,
          69,
          70,
          71,
          72,
          73,
          74,
          75,
          76,
          77,
          78,
          79
         ],
         "y": [
          "",
          "",
          2990.2466666666664,
          3030.9233333333336,
          3065.6233333333334,
          3129.3333333333335,
          3162.2100000000005,
          3154.5800000000004,
          3087.9533333333334,
          3046.09,
          2982.486666666666,
          2942.013333333334,
          2842.6066666666666,
          2772.6333333333337,
          2710.69,
          2709.276666666667,
          2727.2833333333338,
          2751.130000000001,
          2737.5433333333344,
          2717.746666666668,
          2680.936666666668,
          2656.6566666666677,
          2636.7433333333342,
          2609.643333333335,
          2577.656666666668,
          2558.5533333333346,
          2583.476666666668,
          2602.0900000000015,
          2590.7900000000013,
          2535.9733333333343,
          2489.2200000000007,
          2474.0000000000005,
          2470.4700000000007,
          2473.9500000000003,
          2461.9400000000005,
          2438.1700000000005,
          2417.953333333334,
          2411.1166666666672,
          2423.0433333333335,
          2435.1600000000003,
          2460.5200000000004,
          2464.6700000000005,
          2457.8433333333337,
          2428.456666666667,
          2408.296666666667,
          2388.8500000000004,
          2371.24,
          2377.9566666666665,
          2381.853333333333,
          2385.4066666666668
         ]
        },
        {
         "line": {
          "color": "rgba(55, 128, 191, 0.8999999999999999)",
          "dash": "solid",
          "shape": "linear",
          "width": 1.3
         },
         "mode": "lines",
         "name": "SMA(7)",
         "text": "",
         "type": "scatter",
         "x": [
          30,
          31,
          32,
          33,
          34,
          35,
          36,
          37,
          38,
          39,
          40,
          41,
          42,
          43,
          44,
          45,
          46,
          47,
          48,
          49,
          50,
          51,
          52,
          53,
          54,
          55,
          56,
          57,
          58,
          59,
          60,
          61,
          62,
          63,
          64,
          65,
          66,
          67,
          68,
          69,
          70,
          71,
          72,
          73,
          74,
          75,
          76,
          77,
          78,
          79
         ],
         "y": [
          "",
          "",
          "",
          "",
          "",
          "",
          3077.3385714285714,
          3094.3585714285714,
          3094.3899999999994,
          3101.2714285714283,
          3073.5999999999995,
          3041.4142857142856,
          2978.388571428571,
          2906.638571428571,
          2851.1757142857136,
          2816.098571428571,
          2770.0071428571428,
          2752.022857142857,
          2728.468571428571,
          2716.4957142857143,
          2712.7242857142855,
          2705.3114285714287,
          2685.4100000000003,
          2662.307142857143,
          2630.9657142857145,
          2608.7000000000003,
          2604.7628571428577,
          2597.1742857142863,
          2580.4714285714294,
          2561.575714285715,
          2545.564285714286,
          2536.0471428571436,
          2523.825714285715,
          2498.6242857142865,
          2475.982857142858,
          2458.417142857143,
          2448.0442857142857,
          2442.5100000000007,
          2436.5785714285716,
          2432.9114285714286,
          2436.7542857142857,
          2437.7485714285717,
          2441.342857142857,
          2441.2557142857145,
          2436.54,
          2426.688571428571,
          2413.8614285714284,
          2401.155714285714,
          2391.1957142857145,
          2382.817142857143
         ]
        }
       ],
       "layout": {
        "legend": {
         "bgcolor": "#F5F6F9",
         "font": {
          "color": "#4D5663"
         }
        },
        "paper_bgcolor": "#F5F6F9",
        "plot_bgcolor": "#F5F6F9",
        "template": {
         "data": {
          "bar": [
           {
            "error_x": {
             "color": "#2a3f5f"
            },
            "error_y": {
             "color": "#2a3f5f"
            },
            "marker": {
             "line": {
              "color": "#E5ECF6",
              "width": 0.5
             }
            },
            "type": "bar"
           }
          ],
          "barpolar": [
           {
            "marker": {
             "line": {
              "color": "#E5ECF6",
              "width": 0.5
             }
            },
            "type": "barpolar"
           }
          ],
          "carpet": [
           {
            "aaxis": {
             "endlinecolor": "#2a3f5f",
             "gridcolor": "white",
             "linecolor": "white",
             "minorgridcolor": "white",
             "startlinecolor": "#2a3f5f"
            },
            "baxis": {
             "endlinecolor": "#2a3f5f",
             "gridcolor": "white",
             "linecolor": "white",
             "minorgridcolor": "white",
             "startlinecolor": "#2a3f5f"
            },
            "type": "carpet"
           }
          ],
          "choropleth": [
           {
            "colorbar": {
             "outlinewidth": 0,
             "ticks": ""
            },
            "type": "choropleth"
           }
          ],
          "contour": [
           {
            "colorbar": {
             "outlinewidth": 0,
             "ticks": ""
            },
            "colorscale": [
             [
              0,
              "#0d0887"
             ],
             [
              0.1111111111111111,
              "#46039f"
             ],
             [
              0.2222222222222222,
              "#7201a8"
             ],
             [
              0.3333333333333333,
              "#9c179e"
             ],
             [
              0.4444444444444444,
              "#bd3786"
             ],
             [
              0.5555555555555556,
              "#d8576b"
             ],
             [
              0.6666666666666666,
              "#ed7953"
             ],
             [
              0.7777777777777778,
              "#fb9f3a"
             ],
             [
              0.8888888888888888,
              "#fdca26"
             ],
             [
              1,
              "#f0f921"
             ]
            ],
            "type": "contour"
           }
          ],
          "contourcarpet": [
           {
            "colorbar": {
             "outlinewidth": 0,
             "ticks": ""
            },
            "type": "contourcarpet"
           }
          ],
          "heatmap": [
           {
            "colorbar": {
             "outlinewidth": 0,
             "ticks": ""
            },
            "colorscale": [
             [
              0,
              "#0d0887"
             ],
             [
              0.1111111111111111,
              "#46039f"
             ],
             [
              0.2222222222222222,
              "#7201a8"
             ],
             [
              0.3333333333333333,
              "#9c179e"
             ],
             [
              0.4444444444444444,
              "#bd3786"
             ],
             [
              0.5555555555555556,
              "#d8576b"
             ],
             [
              0.6666666666666666,
              "#ed7953"
             ],
             [
              0.7777777777777778,
              "#fb9f3a"
             ],
             [
              0.8888888888888888,
              "#fdca26"
             ],
             [
              1,
              "#f0f921"
             ]
            ],
            "type": "heatmap"
           }
          ],
          "heatmapgl": [
           {
            "colorbar": {
             "outlinewidth": 0,
             "ticks": ""
            },
            "colorscale": [
             [
              0,
              "#0d0887"
             ],
             [
              0.1111111111111111,
              "#46039f"
             ],
             [
              0.2222222222222222,
              "#7201a8"
             ],
             [
              0.3333333333333333,
              "#9c179e"
             ],
             [
              0.4444444444444444,
              "#bd3786"
             ],
             [
              0.5555555555555556,
              "#d8576b"
             ],
             [
              0.6666666666666666,
              "#ed7953"
             ],
             [
              0.7777777777777778,
              "#fb9f3a"
             ],
             [
              0.8888888888888888,
              "#fdca26"
             ],
             [
              1,
              "#f0f921"
             ]
            ],
            "type": "heatmapgl"
           }
          ],
          "histogram": [
           {
            "marker": {
             "colorbar": {
              "outlinewidth": 0,
              "ticks": ""
             }
            },
            "type": "histogram"
           }
          ],
          "histogram2d": [
           {
            "colorbar": {
             "outlinewidth": 0,
             "ticks": ""
            },
            "colorscale": [
             [
              0,
              "#0d0887"
             ],
             [
              0.1111111111111111,
              "#46039f"
             ],
             [
              0.2222222222222222,
              "#7201a8"
             ],
             [
              0.3333333333333333,
              "#9c179e"
             ],
             [
              0.4444444444444444,
              "#bd3786"
             ],
             [
              0.5555555555555556,
              "#d8576b"
             ],
             [
              0.6666666666666666,
              "#ed7953"
             ],
             [
              0.7777777777777778,
              "#fb9f3a"
             ],
             [
              0.8888888888888888,
              "#fdca26"
             ],
             [
              1,
              "#f0f921"
             ]
            ],
            "type": "histogram2d"
           }
          ],
          "histogram2dcontour": [
           {
            "colorbar": {
             "outlinewidth": 0,
             "ticks": ""
            },
            "colorscale": [
             [
              0,
              "#0d0887"
             ],
             [
              0.1111111111111111,
              "#46039f"
             ],
             [
              0.2222222222222222,
              "#7201a8"
             ],
             [
              0.3333333333333333,
              "#9c179e"
             ],
             [
              0.4444444444444444,
              "#bd3786"
             ],
             [
              0.5555555555555556,
              "#d8576b"
             ],
             [
              0.6666666666666666,
              "#ed7953"
             ],
             [
              0.7777777777777778,
              "#fb9f3a"
             ],
             [
              0.8888888888888888,
              "#fdca26"
             ],
             [
              1,
              "#f0f921"
             ]
            ],
            "type": "histogram2dcontour"
           }
          ],
          "mesh3d": [
           {
            "colorbar": {
             "outlinewidth": 0,
             "ticks": ""
            },
            "type": "mesh3d"
           }
          ],
          "parcoords": [
           {
            "line": {
             "colorbar": {
              "outlinewidth": 0,
              "ticks": ""
             }
            },
            "type": "parcoords"
           }
          ],
          "pie": [
           {
            "automargin": true,
            "type": "pie"
           }
          ],
          "scatter": [
           {
            "marker": {
             "colorbar": {
              "outlinewidth": 0,
              "ticks": ""
             }
            },
            "type": "scatter"
           }
          ],
          "scatter3d": [
           {
            "line": {
             "colorbar": {
              "outlinewidth": 0,
              "ticks": ""
             }
            },
            "marker": {
             "colorbar": {
              "outlinewidth": 0,
              "ticks": ""
             }
            },
            "type": "scatter3d"
           }
          ],
          "scattercarpet": [
           {
            "marker": {
             "colorbar": {
              "outlinewidth": 0,
              "ticks": ""
             }
            },
            "type": "scattercarpet"
           }
          ],
          "scattergeo": [
           {
            "marker": {
             "colorbar": {
              "outlinewidth": 0,
              "ticks": ""
             }
            },
            "type": "scattergeo"
           }
          ],
          "scattergl": [
           {
            "marker": {
             "colorbar": {
              "outlinewidth": 0,
              "ticks": ""
             }
            },
            "type": "scattergl"
           }
          ],
          "scattermapbox": [
           {
            "marker": {
             "colorbar": {
              "outlinewidth": 0,
              "ticks": ""
             }
            },
            "type": "scattermapbox"
           }
          ],
          "scatterpolar": [
           {
            "marker": {
             "colorbar": {
              "outlinewidth": 0,
              "ticks": ""
             }
            },
            "type": "scatterpolar"
           }
          ],
          "scatterpolargl": [
           {
            "marker": {
             "colorbar": {
              "outlinewidth": 0,
              "ticks": ""
             }
            },
            "type": "scatterpolargl"
           }
          ],
          "scatterternary": [
           {
            "marker": {
             "colorbar": {
              "outlinewidth": 0,
              "ticks": ""
             }
            },
            "type": "scatterternary"
           }
          ],
          "surface": [
           {
            "colorbar": {
             "outlinewidth": 0,
             "ticks": ""
            },
            "colorscale": [
             [
              0,
              "#0d0887"
             ],
             [
              0.1111111111111111,
              "#46039f"
             ],
             [
              0.2222222222222222,
              "#7201a8"
             ],
             [
              0.3333333333333333,
              "#9c179e"
             ],
             [
              0.4444444444444444,
              "#bd3786"
             ],
             [
              0.5555555555555556,
              "#d8576b"
             ],
             [
              0.6666666666666666,
              "#ed7953"
             ],
             [
              0.7777777777777778,
              "#fb9f3a"
             ],
             [
              0.8888888888888888,
              "#fdca26"
             ],
             [
              1,
              "#f0f921"
             ]
            ],
            "type": "surface"
           }
          ],
          "table": [
           {
            "cells": {
             "fill": {
              "color": "#EBF0F8"
             },
             "line": {
              "color": "white"
             }
            },
            "header": {
             "fill": {
              "color": "#C8D4E3"
             },
             "line": {
              "color": "white"
             }
            },
            "type": "table"
           }
          ]
         },
         "layout": {
          "annotationdefaults": {
           "arrowcolor": "#2a3f5f",
           "arrowhead": 0,
           "arrowwidth": 1
          },
          "coloraxis": {
           "colorbar": {
            "outlinewidth": 0,
            "ticks": ""
           }
          },
          "colorscale": {
           "diverging": [
            [
             0,
             "#8e0152"
            ],
            [
             0.1,
             "#c51b7d"
            ],
            [
             0.2,
             "#de77ae"
            ],
            [
             0.3,
             "#f1b6da"
            ],
            [
             0.4,
             "#fde0ef"
            ],
            [
             0.5,
             "#f7f7f7"
            ],
            [
             0.6,
             "#e6f5d0"
            ],
            [
             0.7,
             "#b8e186"
            ],
            [
             0.8,
             "#7fbc41"
            ],
            [
             0.9,
             "#4d9221"
            ],
            [
             1,
             "#276419"
            ]
           ],
           "sequential": [
            [
             0,
             "#0d0887"
            ],
            [
             0.1111111111111111,
             "#46039f"
            ],
            [
             0.2222222222222222,
             "#7201a8"
            ],
            [
             0.3333333333333333,
             "#9c179e"
            ],
            [
             0.4444444444444444,
             "#bd3786"
            ],
            [
             0.5555555555555556,
             "#d8576b"
            ],
            [
             0.6666666666666666,
             "#ed7953"
            ],
            [
             0.7777777777777778,
             "#fb9f3a"
            ],
            [
             0.8888888888888888,
             "#fdca26"
            ],
            [
             1,
             "#f0f921"
            ]
           ],
           "sequentialminus": [
            [
             0,
             "#0d0887"
            ],
            [
             0.1111111111111111,
             "#46039f"
            ],
            [
             0.2222222222222222,
             "#7201a8"
            ],
            [
             0.3333333333333333,
             "#9c179e"
            ],
            [
             0.4444444444444444,
             "#bd3786"
            ],
            [
             0.5555555555555556,
             "#d8576b"
            ],
            [
             0.6666666666666666,
             "#ed7953"
            ],
            [
             0.7777777777777778,
             "#fb9f3a"
            ],
            [
             0.8888888888888888,
             "#fdca26"
            ],
            [
             1,
             "#f0f921"
            ]
           ]
          },
          "colorway": [
           "#636efa",
           "#EF553B",
           "#00cc96",
           "#ab63fa",
           "#FFA15A",
           "#19d3f3",
           "#FF6692",
           "#B6E880",
           "#FF97FF",
           "#FECB52"
          ],
          "font": {
           "color": "#2a3f5f"
          },
          "geo": {
           "bgcolor": "white",
           "lakecolor": "white",
           "landcolor": "#E5ECF6",
           "showlakes": true,
           "showland": true,
           "subunitcolor": "white"
          },
          "hoverlabel": {
           "align": "left"
          },
          "hovermode": "closest",
          "mapbox": {
           "style": "light"
          },
          "paper_bgcolor": "white",
          "plot_bgcolor": "#E5ECF6",
          "polar": {
           "angularaxis": {
            "gridcolor": "white",
            "linecolor": "white",
            "ticks": ""
           },
           "bgcolor": "#E5ECF6",
           "radialaxis": {
            "gridcolor": "white",
            "linecolor": "white",
            "ticks": ""
           }
          },
          "scene": {
           "xaxis": {
            "backgroundcolor": "#E5ECF6",
            "gridcolor": "white",
            "gridwidth": 2,
            "linecolor": "white",
            "showbackground": true,
            "ticks": "",
            "zerolinecolor": "white"
           },
           "yaxis": {
            "backgroundcolor": "#E5ECF6",
            "gridcolor": "white",
            "gridwidth": 2,
            "linecolor": "white",
            "showbackground": true,
            "ticks": "",
            "zerolinecolor": "white"
           },
           "zaxis": {
            "backgroundcolor": "#E5ECF6",
            "gridcolor": "white",
            "gridwidth": 2,
            "linecolor": "white",
            "showbackground": true,
            "ticks": "",
            "zerolinecolor": "white"
           }
          },
          "shapedefaults": {
           "line": {
            "color": "#2a3f5f"
           }
          },
          "ternary": {
           "aaxis": {
            "gridcolor": "white",
            "linecolor": "white",
            "ticks": ""
           },
           "baxis": {
            "gridcolor": "white",
            "linecolor": "white",
            "ticks": ""
           },
           "bgcolor": "#E5ECF6",
           "caxis": {
            "gridcolor": "white",
            "linecolor": "white",
            "ticks": ""
           }
          },
          "title": {
           "x": 0.05
          },
          "xaxis": {
           "automargin": true,
           "gridcolor": "white",
           "linecolor": "white",
           "ticks": "",
           "title": {
            "standoff": 15
           },
           "zerolinecolor": "white",
           "zerolinewidth": 2
          },
          "yaxis": {
           "automargin": true,
           "gridcolor": "white",
           "linecolor": "white",
           "ticks": "",
           "title": {
            "standoff": 15
           },
           "zerolinecolor": "white",
           "zerolinewidth": 2
          }
         }
        },
        "title": {
         "font": {
          "color": "#4D5663"
         }
        },
        "xaxis": {
         "gridcolor": "#E1E5ED",
         "showgrid": true,
         "tickfont": {
          "color": "#4D5663"
         },
         "title": {
          "font": {
           "color": "#4D5663"
          },
          "text": ""
         },
         "zerolinecolor": "#E1E5ED"
        },
        "yaxis": {
         "gridcolor": "#E1E5ED",
         "showgrid": true,
         "tickfont": {
          "color": "#4D5663"
         },
         "title": {
          "font": {
           "color": "#4D5663"
          },
          "text": ""
         },
         "zerolinecolor": "#E1E5ED"
        }
       }
      },
      "text/html": [
       "<div>                            <div id=\"b02c74d0-5f58-4b3b-a383-7a746d978892\" class=\"plotly-graph-div\" style=\"height:525px; width:100%;\"></div>            <script type=\"text/javascript\">                require([\"plotly\"], function(Plotly) {                    window.PLOTLYENV=window.PLOTLYENV || {};\n",
       "                    window.PLOTLYENV.BASE_URL='https://plot.ly';                                    if (document.getElementById(\"b02c74d0-5f58-4b3b-a383-7a746d978892\")) {                    Plotly.newPlot(                        \"b02c74d0-5f58-4b3b-a383-7a746d978892\",                        [{\"line\": {\"color\": \"rgba(255, 153, 51, 1.0)\", \"dash\": \"solid\", \"shape\": \"linear\", \"width\": 1.3}, \"mode\": \"lines\", \"name\": \"Close\", \"text\": \"\", \"type\": \"scatter\", \"x\": [30, 31, 32, 33, 34, 35, 36, 37, 38, 39, 40, 41, 42, 43, 44, 45, 46, 47, 48, 49, 50, 51, 52, 53, 54, 55, 56, 57, 58, 59, 60, 61, 62, 63, 64, 65, 66, 67, 68, 69, 70, 71, 72, 73, 74, 75, 76, 77, 78, 79], \"y\": [2961.97, 2999.9, 3008.87, 3084.0, 3104.0, 3200.0, 3182.63, 3081.11, 3000.12, 3057.04, 2890.3, 2878.7, 2758.82, 2680.38, 2692.87, 2754.58, 2734.4, 2764.41, 2713.82, 2675.01, 2653.98, 2640.98, 2615.27, 2572.68, 2545.02, 2557.96, 2647.45, 2600.86, 2524.06, 2483.0, 2460.6, 2478.4, 2472.41, 2471.04, 2442.37, 2401.1, 2410.39, 2421.86, 2436.88, 2446.74, 2497.94, 2449.33, 2426.26, 2409.78, 2388.85, 2367.92, 2356.95, 2409.0, 2379.61, 2367.61]}, {\"line\": {\"color\": \"rgba(55, 128, 191, 1.0)\", \"dash\": \"solid\", \"shape\": \"linear\", \"width\": 1.3}, \"mode\": \"lines\", \"name\": \"SMA(3)\", \"text\": \"\", \"type\": \"scatter\", \"x\": [30, 31, 32, 33, 34, 35, 36, 37, 38, 39, 40, 41, 42, 43, 44, 45, 46, 47, 48, 49, 50, 51, 52, 53, 54, 55, 56, 57, 58, 59, 60, 61, 62, 63, 64, 65, 66, 67, 68, 69, 70, 71, 72, 73, 74, 75, 76, 77, 78, 79], \"y\": [\"\", \"\", 2990.2466666666664, 3030.9233333333336, 3065.6233333333334, 3129.3333333333335, 3162.2100000000005, 3154.5800000000004, 3087.9533333333334, 3046.09, 2982.486666666666, 2942.013333333334, 2842.6066666666666, 2772.6333333333337, 2710.69, 2709.276666666667, 2727.2833333333338, 2751.130000000001, 2737.5433333333344, 2717.746666666668, 2680.936666666668, 2656.6566666666677, 2636.7433333333342, 2609.643333333335, 2577.656666666668, 2558.5533333333346, 2583.476666666668, 2602.0900000000015, 2590.7900000000013, 2535.9733333333343, 2489.2200000000007, 2474.0000000000005, 2470.4700000000007, 2473.9500000000003, 2461.9400000000005, 2438.1700000000005, 2417.953333333334, 2411.1166666666672, 2423.0433333333335, 2435.1600000000003, 2460.5200000000004, 2464.6700000000005, 2457.8433333333337, 2428.456666666667, 2408.296666666667, 2388.8500000000004, 2371.24, 2377.9566666666665, 2381.853333333333, 2385.4066666666668]}, {\"line\": {\"color\": \"rgba(55, 128, 191, 0.8999999999999999)\", \"dash\": \"solid\", \"shape\": \"linear\", \"width\": 1.3}, \"mode\": \"lines\", \"name\": \"SMA(7)\", \"text\": \"\", \"type\": \"scatter\", \"x\": [30, 31, 32, 33, 34, 35, 36, 37, 38, 39, 40, 41, 42, 43, 44, 45, 46, 47, 48, 49, 50, 51, 52, 53, 54, 55, 56, 57, 58, 59, 60, 61, 62, 63, 64, 65, 66, 67, 68, 69, 70, 71, 72, 73, 74, 75, 76, 77, 78, 79], \"y\": [\"\", \"\", \"\", \"\", \"\", \"\", 3077.3385714285714, 3094.3585714285714, 3094.3899999999994, 3101.2714285714283, 3073.5999999999995, 3041.4142857142856, 2978.388571428571, 2906.638571428571, 2851.1757142857136, 2816.098571428571, 2770.0071428571428, 2752.022857142857, 2728.468571428571, 2716.4957142857143, 2712.7242857142855, 2705.3114285714287, 2685.4100000000003, 2662.307142857143, 2630.9657142857145, 2608.7000000000003, 2604.7628571428577, 2597.1742857142863, 2580.4714285714294, 2561.575714285715, 2545.564285714286, 2536.0471428571436, 2523.825714285715, 2498.6242857142865, 2475.982857142858, 2458.417142857143, 2448.0442857142857, 2442.5100000000007, 2436.5785714285716, 2432.9114285714286, 2436.7542857142857, 2437.7485714285717, 2441.342857142857, 2441.2557142857145, 2436.54, 2426.688571428571, 2413.8614285714284, 2401.155714285714, 2391.1957142857145, 2382.817142857143]}],                        {\"legend\": {\"bgcolor\": \"#F5F6F9\", \"font\": {\"color\": \"#4D5663\"}}, \"paper_bgcolor\": \"#F5F6F9\", \"plot_bgcolor\": \"#F5F6F9\", \"template\": {\"data\": {\"bar\": [{\"error_x\": {\"color\": \"#2a3f5f\"}, \"error_y\": {\"color\": \"#2a3f5f\"}, \"marker\": {\"line\": {\"color\": \"#E5ECF6\", \"width\": 0.5}}, \"type\": \"bar\"}], \"barpolar\": [{\"marker\": {\"line\": {\"color\": \"#E5ECF6\", \"width\": 0.5}}, \"type\": \"barpolar\"}], \"carpet\": [{\"aaxis\": {\"endlinecolor\": \"#2a3f5f\", \"gridcolor\": \"white\", \"linecolor\": \"white\", \"minorgridcolor\": \"white\", \"startlinecolor\": \"#2a3f5f\"}, \"baxis\": {\"endlinecolor\": \"#2a3f5f\", \"gridcolor\": \"white\", \"linecolor\": \"white\", \"minorgridcolor\": \"white\", \"startlinecolor\": \"#2a3f5f\"}, \"type\": \"carpet\"}], \"choropleth\": [{\"colorbar\": {\"outlinewidth\": 0, \"ticks\": \"\"}, \"type\": \"choropleth\"}], \"contour\": [{\"colorbar\": {\"outlinewidth\": 0, \"ticks\": \"\"}, \"colorscale\": [[0.0, \"#0d0887\"], [0.1111111111111111, \"#46039f\"], [0.2222222222222222, \"#7201a8\"], [0.3333333333333333, \"#9c179e\"], [0.4444444444444444, \"#bd3786\"], [0.5555555555555556, \"#d8576b\"], [0.6666666666666666, \"#ed7953\"], [0.7777777777777778, \"#fb9f3a\"], [0.8888888888888888, \"#fdca26\"], [1.0, \"#f0f921\"]], \"type\": \"contour\"}], \"contourcarpet\": [{\"colorbar\": {\"outlinewidth\": 0, \"ticks\": \"\"}, \"type\": \"contourcarpet\"}], \"heatmap\": [{\"colorbar\": {\"outlinewidth\": 0, \"ticks\": \"\"}, \"colorscale\": [[0.0, \"#0d0887\"], [0.1111111111111111, \"#46039f\"], [0.2222222222222222, \"#7201a8\"], [0.3333333333333333, \"#9c179e\"], [0.4444444444444444, \"#bd3786\"], [0.5555555555555556, \"#d8576b\"], [0.6666666666666666, \"#ed7953\"], [0.7777777777777778, \"#fb9f3a\"], [0.8888888888888888, \"#fdca26\"], [1.0, \"#f0f921\"]], \"type\": \"heatmap\"}], \"heatmapgl\": [{\"colorbar\": {\"outlinewidth\": 0, \"ticks\": \"\"}, \"colorscale\": [[0.0, \"#0d0887\"], [0.1111111111111111, \"#46039f\"], [0.2222222222222222, \"#7201a8\"], [0.3333333333333333, \"#9c179e\"], [0.4444444444444444, \"#bd3786\"], [0.5555555555555556, \"#d8576b\"], [0.6666666666666666, \"#ed7953\"], [0.7777777777777778, \"#fb9f3a\"], [0.8888888888888888, \"#fdca26\"], [1.0, \"#f0f921\"]], \"type\": \"heatmapgl\"}], \"histogram\": [{\"marker\": {\"colorbar\": {\"outlinewidth\": 0, \"ticks\": \"\"}}, \"type\": \"histogram\"}], \"histogram2d\": [{\"colorbar\": {\"outlinewidth\": 0, \"ticks\": \"\"}, \"colorscale\": [[0.0, \"#0d0887\"], [0.1111111111111111, \"#46039f\"], [0.2222222222222222, \"#7201a8\"], [0.3333333333333333, \"#9c179e\"], [0.4444444444444444, \"#bd3786\"], [0.5555555555555556, \"#d8576b\"], [0.6666666666666666, \"#ed7953\"], [0.7777777777777778, \"#fb9f3a\"], [0.8888888888888888, \"#fdca26\"], [1.0, \"#f0f921\"]], \"type\": \"histogram2d\"}], \"histogram2dcontour\": [{\"colorbar\": {\"outlinewidth\": 0, \"ticks\": \"\"}, \"colorscale\": [[0.0, \"#0d0887\"], [0.1111111111111111, \"#46039f\"], [0.2222222222222222, \"#7201a8\"], [0.3333333333333333, \"#9c179e\"], [0.4444444444444444, \"#bd3786\"], [0.5555555555555556, \"#d8576b\"], [0.6666666666666666, \"#ed7953\"], [0.7777777777777778, \"#fb9f3a\"], [0.8888888888888888, \"#fdca26\"], [1.0, \"#f0f921\"]], \"type\": \"histogram2dcontour\"}], \"mesh3d\": [{\"colorbar\": {\"outlinewidth\": 0, \"ticks\": \"\"}, \"type\": \"mesh3d\"}], \"parcoords\": [{\"line\": {\"colorbar\": {\"outlinewidth\": 0, \"ticks\": \"\"}}, \"type\": \"parcoords\"}], \"pie\": [{\"automargin\": true, \"type\": \"pie\"}], \"scatter\": [{\"marker\": {\"colorbar\": {\"outlinewidth\": 0, \"ticks\": \"\"}}, \"type\": \"scatter\"}], \"scatter3d\": [{\"line\": {\"colorbar\": {\"outlinewidth\": 0, \"ticks\": \"\"}}, \"marker\": {\"colorbar\": {\"outlinewidth\": 0, \"ticks\": \"\"}}, \"type\": \"scatter3d\"}], \"scattercarpet\": [{\"marker\": {\"colorbar\": {\"outlinewidth\": 0, \"ticks\": \"\"}}, \"type\": \"scattercarpet\"}], \"scattergeo\": [{\"marker\": {\"colorbar\": {\"outlinewidth\": 0, \"ticks\": \"\"}}, \"type\": \"scattergeo\"}], \"scattergl\": [{\"marker\": {\"colorbar\": {\"outlinewidth\": 0, \"ticks\": \"\"}}, \"type\": \"scattergl\"}], \"scattermapbox\": [{\"marker\": {\"colorbar\": {\"outlinewidth\": 0, \"ticks\": \"\"}}, \"type\": \"scattermapbox\"}], \"scatterpolar\": [{\"marker\": {\"colorbar\": {\"outlinewidth\": 0, \"ticks\": \"\"}}, \"type\": \"scatterpolar\"}], \"scatterpolargl\": [{\"marker\": {\"colorbar\": {\"outlinewidth\": 0, \"ticks\": \"\"}}, \"type\": \"scatterpolargl\"}], \"scatterternary\": [{\"marker\": {\"colorbar\": {\"outlinewidth\": 0, \"ticks\": \"\"}}, \"type\": \"scatterternary\"}], \"surface\": [{\"colorbar\": {\"outlinewidth\": 0, \"ticks\": \"\"}, \"colorscale\": [[0.0, \"#0d0887\"], [0.1111111111111111, \"#46039f\"], [0.2222222222222222, \"#7201a8\"], [0.3333333333333333, \"#9c179e\"], [0.4444444444444444, \"#bd3786\"], [0.5555555555555556, \"#d8576b\"], [0.6666666666666666, \"#ed7953\"], [0.7777777777777778, \"#fb9f3a\"], [0.8888888888888888, \"#fdca26\"], [1.0, \"#f0f921\"]], \"type\": \"surface\"}], \"table\": [{\"cells\": {\"fill\": {\"color\": \"#EBF0F8\"}, \"line\": {\"color\": \"white\"}}, \"header\": {\"fill\": {\"color\": \"#C8D4E3\"}, \"line\": {\"color\": \"white\"}}, \"type\": \"table\"}]}, \"layout\": {\"annotationdefaults\": {\"arrowcolor\": \"#2a3f5f\", \"arrowhead\": 0, \"arrowwidth\": 1}, \"coloraxis\": {\"colorbar\": {\"outlinewidth\": 0, \"ticks\": \"\"}}, \"colorscale\": {\"diverging\": [[0, \"#8e0152\"], [0.1, \"#c51b7d\"], [0.2, \"#de77ae\"], [0.3, \"#f1b6da\"], [0.4, \"#fde0ef\"], [0.5, \"#f7f7f7\"], [0.6, \"#e6f5d0\"], [0.7, \"#b8e186\"], [0.8, \"#7fbc41\"], [0.9, \"#4d9221\"], [1, \"#276419\"]], \"sequential\": [[0.0, \"#0d0887\"], [0.1111111111111111, \"#46039f\"], [0.2222222222222222, \"#7201a8\"], [0.3333333333333333, \"#9c179e\"], [0.4444444444444444, \"#bd3786\"], [0.5555555555555556, \"#d8576b\"], [0.6666666666666666, \"#ed7953\"], [0.7777777777777778, \"#fb9f3a\"], [0.8888888888888888, \"#fdca26\"], [1.0, \"#f0f921\"]], \"sequentialminus\": [[0.0, \"#0d0887\"], [0.1111111111111111, \"#46039f\"], [0.2222222222222222, \"#7201a8\"], [0.3333333333333333, \"#9c179e\"], [0.4444444444444444, \"#bd3786\"], [0.5555555555555556, \"#d8576b\"], [0.6666666666666666, \"#ed7953\"], [0.7777777777777778, \"#fb9f3a\"], [0.8888888888888888, \"#fdca26\"], [1.0, \"#f0f921\"]]}, \"colorway\": [\"#636efa\", \"#EF553B\", \"#00cc96\", \"#ab63fa\", \"#FFA15A\", \"#19d3f3\", \"#FF6692\", \"#B6E880\", \"#FF97FF\", \"#FECB52\"], \"font\": {\"color\": \"#2a3f5f\"}, \"geo\": {\"bgcolor\": \"white\", \"lakecolor\": \"white\", \"landcolor\": \"#E5ECF6\", \"showlakes\": true, \"showland\": true, \"subunitcolor\": \"white\"}, \"hoverlabel\": {\"align\": \"left\"}, \"hovermode\": \"closest\", \"mapbox\": {\"style\": \"light\"}, \"paper_bgcolor\": \"white\", \"plot_bgcolor\": \"#E5ECF6\", \"polar\": {\"angularaxis\": {\"gridcolor\": \"white\", \"linecolor\": \"white\", \"ticks\": \"\"}, \"bgcolor\": \"#E5ECF6\", \"radialaxis\": {\"gridcolor\": \"white\", \"linecolor\": \"white\", \"ticks\": \"\"}}, \"scene\": {\"xaxis\": {\"backgroundcolor\": \"#E5ECF6\", \"gridcolor\": \"white\", \"gridwidth\": 2, \"linecolor\": \"white\", \"showbackground\": true, \"ticks\": \"\", \"zerolinecolor\": \"white\"}, \"yaxis\": {\"backgroundcolor\": \"#E5ECF6\", \"gridcolor\": \"white\", \"gridwidth\": 2, \"linecolor\": \"white\", \"showbackground\": true, \"ticks\": \"\", \"zerolinecolor\": \"white\"}, \"zaxis\": {\"backgroundcolor\": \"#E5ECF6\", \"gridcolor\": \"white\", \"gridwidth\": 2, \"linecolor\": \"white\", \"showbackground\": true, \"ticks\": \"\", \"zerolinecolor\": \"white\"}}, \"shapedefaults\": {\"line\": {\"color\": \"#2a3f5f\"}}, \"ternary\": {\"aaxis\": {\"gridcolor\": \"white\", \"linecolor\": \"white\", \"ticks\": \"\"}, \"baxis\": {\"gridcolor\": \"white\", \"linecolor\": \"white\", \"ticks\": \"\"}, \"bgcolor\": \"#E5ECF6\", \"caxis\": {\"gridcolor\": \"white\", \"linecolor\": \"white\", \"ticks\": \"\"}}, \"title\": {\"x\": 0.05}, \"xaxis\": {\"automargin\": true, \"gridcolor\": \"white\", \"linecolor\": \"white\", \"ticks\": \"\", \"title\": {\"standoff\": 15}, \"zerolinecolor\": \"white\", \"zerolinewidth\": 2}, \"yaxis\": {\"automargin\": true, \"gridcolor\": \"white\", \"linecolor\": \"white\", \"ticks\": \"\", \"title\": {\"standoff\": 15}, \"zerolinecolor\": \"white\", \"zerolinewidth\": 2}}}, \"title\": {\"font\": {\"color\": \"#4D5663\"}}, \"xaxis\": {\"gridcolor\": \"#E1E5ED\", \"showgrid\": true, \"tickfont\": {\"color\": \"#4D5663\"}, \"title\": {\"font\": {\"color\": \"#4D5663\"}, \"text\": \"\"}, \"zerolinecolor\": \"#E1E5ED\"}, \"yaxis\": {\"gridcolor\": \"#E1E5ED\", \"showgrid\": true, \"tickfont\": {\"color\": \"#4D5663\"}, \"title\": {\"font\": {\"color\": \"#4D5663\"}, \"text\": \"\"}, \"zerolinecolor\": \"#E1E5ED\"}},                        {\"showLink\": true, \"linkText\": \"Export to plot.ly\", \"plotlyServerURL\": \"https://plot.ly\", \"responsive\": true}                    ).then(function(){\n",
       "                            \n",
       "var gd = document.getElementById('b02c74d0-5f58-4b3b-a383-7a746d978892');\n",
       "var x = new MutationObserver(function (mutations, observer) {{\n",
       "        var display = window.getComputedStyle(gd).display;\n",
       "        if (!display || display === 'none') {{\n",
       "            console.log([gd, 'removed!']);\n",
       "            Plotly.purge(gd);\n",
       "            observer.disconnect();\n",
       "        }}\n",
       "}});\n",
       "\n",
       "// Listen for the removal of the full notebook cells\n",
       "var notebookContainer = gd.closest('#notebook-container');\n",
       "if (notebookContainer) {{\n",
       "    x.observe(notebookContainer, {childList: true});\n",
       "}}\n",
       "\n",
       "// Listen for the clearing of the current output cell\n",
       "var outputEl = gd.closest('.output');\n",
       "if (outputEl) {{\n",
       "    x.observe(outputEl, {childList: true});\n",
       "}}\n",
       "\n",
       "                        })                };                });            </script>        </div>"
      ]
     },
     "metadata": {},
     "output_type": "display_data"
    },
    {
     "data": {
      "application/vnd.plotly.v1+json": {
       "config": {
        "linkText": "Export to plot.ly",
        "plotlyServerURL": "https://plot.ly",
        "showLink": true
       },
       "data": [
        {
         "line": {
          "color": "rgba(255, 153, 51, 1.0)",
          "dash": "solid",
          "shape": "linear",
          "width": 1.3
         },
         "mode": "lines",
         "name": "Close",
         "text": "",
         "type": "scatter",
         "x": [
          30,
          31,
          32,
          33,
          34,
          35,
          36,
          37,
          38,
          39,
          40,
          41,
          42,
          43,
          44,
          45,
          46,
          47,
          48,
          49,
          50,
          51,
          52,
          53,
          54,
          55,
          56,
          57,
          58,
          59,
          60,
          61,
          62,
          63,
          64,
          65,
          66,
          67,
          68,
          69,
          70,
          71,
          72,
          73,
          74,
          75,
          76,
          77,
          78,
          79
         ],
         "y": [
          242.03,
          240.93,
          240.28,
          239.73,
          239,
          245.07,
          244.5,
          243.58,
          240.86,
          240.28,
          233.42,
          237.55,
          227.07,
          220.64,
          216.08,
          235.68,
          234.02,
          242.24,
          239.22,
          238.79,
          235.94,
          235.53,
          235.65,
          232.5,
          228.58,
          224.43,
          236.73,
          238.67,
          231.4,
          230.77,
          226.29,
          230.16,
          232.72,
          231.91,
          225.09,
          225.46,
          229.14,
          232.2,
          234.91,
          231.39,
          229.97,
          216.88,
          213.19,
          210.88,
          206.81,
          205.1,
          210.1,
          213.18,
          212.35,
          211.26
         ]
        },
        {
         "line": {
          "color": "rgba(55, 128, 191, 1.0)",
          "dash": "solid",
          "shape": "linear",
          "width": 1.3
         },
         "mode": "lines",
         "name": "SMA(3)",
         "text": "",
         "type": "scatter",
         "x": [
          30,
          31,
          32,
          33,
          34,
          35,
          36,
          37,
          38,
          39,
          40,
          41,
          42,
          43,
          44,
          45,
          46,
          47,
          48,
          49,
          50,
          51,
          52,
          53,
          54,
          55,
          56,
          57,
          58,
          59,
          60,
          61,
          62,
          63,
          64,
          65,
          66,
          67,
          68,
          69,
          70,
          71,
          72,
          73,
          74,
          75,
          76,
          77,
          78,
          79
         ],
         "y": [
          "",
          "",
          241.08,
          240.31333333333336,
          239.67,
          241.26666666666665,
          242.85666666666665,
          244.38333333333333,
          242.98000000000002,
          241.57333333333335,
          238.18666666666664,
          237.0833333333333,
          232.67999999999998,
          228.42,
          221.26333333333332,
          224.13333333333335,
          228.59333333333336,
          237.31333333333336,
          238.49333333333334,
          240.08333333333334,
          237.98333333333335,
          236.75333333333333,
          235.70666666666668,
          234.56000000000003,
          232.24333333333337,
          228.50333333333336,
          229.91333333333338,
          233.27666666666667,
          235.6,
          233.61333333333332,
          229.48666666666665,
          229.0733333333333,
          229.72333333333333,
          231.59666666666666,
          229.90666666666667,
          227.48666666666668,
          226.56333333333336,
          228.93333333333337,
          232.08333333333334,
          232.83333333333334,
          232.09,
          226.08,
          220.01333333333335,
          213.65,
          210.29333333333332,
          207.59666666666666,
          207.33666666666667,
          209.46000000000004,
          211.8766666666667,
          212.26333333333335
         ]
        },
        {
         "line": {
          "color": "rgba(55, 128, 191, 0.8999999999999999)",
          "dash": "solid",
          "shape": "linear",
          "width": 1.3
         },
         "mode": "lines",
         "name": "SMA(7)",
         "text": "",
         "type": "scatter",
         "x": [
          30,
          31,
          32,
          33,
          34,
          35,
          36,
          37,
          38,
          39,
          40,
          41,
          42,
          43,
          44,
          45,
          46,
          47,
          48,
          49,
          50,
          51,
          52,
          53,
          54,
          55,
          56,
          57,
          58,
          59,
          60,
          61,
          62,
          63,
          64,
          65,
          66,
          67,
          68,
          69,
          70,
          71,
          72,
          73,
          74,
          75,
          76,
          77,
          78,
          79
         ],
         "y": [
          "",
          "",
          "",
          "",
          "",
          "",
          241.64857142857142,
          241.86999999999998,
          241.85999999999996,
          241.85999999999996,
          240.9585714285714,
          240.75142857142853,
          238.17999999999998,
          234.77142857142852,
          230.8428571428571,
          230.10285714285712,
          229.2085714285714,
          230.46857142857138,
          230.70714285714283,
          232.38142857142856,
          234.56714285714284,
          237.34571428571425,
          237.34142857142857,
          237.1242857142857,
          235.1728571428571,
          233.05999999999997,
          232.76571428571427,
          233.15571428571428,
          232.56571428571428,
          231.8685714285714,
          230.98142857142855,
          231.20714285714286,
          232.39142857142858,
          231.70285714285714,
          229.76285714285714,
          228.91428571428568,
          228.68142857142857,
          229.5257142857143,
          230.20428571428573,
          230.01428571428573,
          229.73714285714286,
          228.56428571428572,
          226.8114285714286,
          224.20285714285714,
          220.57571428571427,
          216.31714285714284,
          213.27571428571426,
          210.87714285714284,
          210.22999999999996,
          209.95428571428565
         ]
        }
       ],
       "layout": {
        "legend": {
         "bgcolor": "#F5F6F9",
         "font": {
          "color": "#4D5663"
         }
        },
        "paper_bgcolor": "#F5F6F9",
        "plot_bgcolor": "#F5F6F9",
        "template": {
         "data": {
          "bar": [
           {
            "error_x": {
             "color": "#2a3f5f"
            },
            "error_y": {
             "color": "#2a3f5f"
            },
            "marker": {
             "line": {
              "color": "#E5ECF6",
              "width": 0.5
             }
            },
            "type": "bar"
           }
          ],
          "barpolar": [
           {
            "marker": {
             "line": {
              "color": "#E5ECF6",
              "width": 0.5
             }
            },
            "type": "barpolar"
           }
          ],
          "carpet": [
           {
            "aaxis": {
             "endlinecolor": "#2a3f5f",
             "gridcolor": "white",
             "linecolor": "white",
             "minorgridcolor": "white",
             "startlinecolor": "#2a3f5f"
            },
            "baxis": {
             "endlinecolor": "#2a3f5f",
             "gridcolor": "white",
             "linecolor": "white",
             "minorgridcolor": "white",
             "startlinecolor": "#2a3f5f"
            },
            "type": "carpet"
           }
          ],
          "choropleth": [
           {
            "colorbar": {
             "outlinewidth": 0,
             "ticks": ""
            },
            "type": "choropleth"
           }
          ],
          "contour": [
           {
            "colorbar": {
             "outlinewidth": 0,
             "ticks": ""
            },
            "colorscale": [
             [
              0,
              "#0d0887"
             ],
             [
              0.1111111111111111,
              "#46039f"
             ],
             [
              0.2222222222222222,
              "#7201a8"
             ],
             [
              0.3333333333333333,
              "#9c179e"
             ],
             [
              0.4444444444444444,
              "#bd3786"
             ],
             [
              0.5555555555555556,
              "#d8576b"
             ],
             [
              0.6666666666666666,
              "#ed7953"
             ],
             [
              0.7777777777777778,
              "#fb9f3a"
             ],
             [
              0.8888888888888888,
              "#fdca26"
             ],
             [
              1,
              "#f0f921"
             ]
            ],
            "type": "contour"
           }
          ],
          "contourcarpet": [
           {
            "colorbar": {
             "outlinewidth": 0,
             "ticks": ""
            },
            "type": "contourcarpet"
           }
          ],
          "heatmap": [
           {
            "colorbar": {
             "outlinewidth": 0,
             "ticks": ""
            },
            "colorscale": [
             [
              0,
              "#0d0887"
             ],
             [
              0.1111111111111111,
              "#46039f"
             ],
             [
              0.2222222222222222,
              "#7201a8"
             ],
             [
              0.3333333333333333,
              "#9c179e"
             ],
             [
              0.4444444444444444,
              "#bd3786"
             ],
             [
              0.5555555555555556,
              "#d8576b"
             ],
             [
              0.6666666666666666,
              "#ed7953"
             ],
             [
              0.7777777777777778,
              "#fb9f3a"
             ],
             [
              0.8888888888888888,
              "#fdca26"
             ],
             [
              1,
              "#f0f921"
             ]
            ],
            "type": "heatmap"
           }
          ],
          "heatmapgl": [
           {
            "colorbar": {
             "outlinewidth": 0,
             "ticks": ""
            },
            "colorscale": [
             [
              0,
              "#0d0887"
             ],
             [
              0.1111111111111111,
              "#46039f"
             ],
             [
              0.2222222222222222,
              "#7201a8"
             ],
             [
              0.3333333333333333,
              "#9c179e"
             ],
             [
              0.4444444444444444,
              "#bd3786"
             ],
             [
              0.5555555555555556,
              "#d8576b"
             ],
             [
              0.6666666666666666,
              "#ed7953"
             ],
             [
              0.7777777777777778,
              "#fb9f3a"
             ],
             [
              0.8888888888888888,
              "#fdca26"
             ],
             [
              1,
              "#f0f921"
             ]
            ],
            "type": "heatmapgl"
           }
          ],
          "histogram": [
           {
            "marker": {
             "colorbar": {
              "outlinewidth": 0,
              "ticks": ""
             }
            },
            "type": "histogram"
           }
          ],
          "histogram2d": [
           {
            "colorbar": {
             "outlinewidth": 0,
             "ticks": ""
            },
            "colorscale": [
             [
              0,
              "#0d0887"
             ],
             [
              0.1111111111111111,
              "#46039f"
             ],
             [
              0.2222222222222222,
              "#7201a8"
             ],
             [
              0.3333333333333333,
              "#9c179e"
             ],
             [
              0.4444444444444444,
              "#bd3786"
             ],
             [
              0.5555555555555556,
              "#d8576b"
             ],
             [
              0.6666666666666666,
              "#ed7953"
             ],
             [
              0.7777777777777778,
              "#fb9f3a"
             ],
             [
              0.8888888888888888,
              "#fdca26"
             ],
             [
              1,
              "#f0f921"
             ]
            ],
            "type": "histogram2d"
           }
          ],
          "histogram2dcontour": [
           {
            "colorbar": {
             "outlinewidth": 0,
             "ticks": ""
            },
            "colorscale": [
             [
              0,
              "#0d0887"
             ],
             [
              0.1111111111111111,
              "#46039f"
             ],
             [
              0.2222222222222222,
              "#7201a8"
             ],
             [
              0.3333333333333333,
              "#9c179e"
             ],
             [
              0.4444444444444444,
              "#bd3786"
             ],
             [
              0.5555555555555556,
              "#d8576b"
             ],
             [
              0.6666666666666666,
              "#ed7953"
             ],
             [
              0.7777777777777778,
              "#fb9f3a"
             ],
             [
              0.8888888888888888,
              "#fdca26"
             ],
             [
              1,
              "#f0f921"
             ]
            ],
            "type": "histogram2dcontour"
           }
          ],
          "mesh3d": [
           {
            "colorbar": {
             "outlinewidth": 0,
             "ticks": ""
            },
            "type": "mesh3d"
           }
          ],
          "parcoords": [
           {
            "line": {
             "colorbar": {
              "outlinewidth": 0,
              "ticks": ""
             }
            },
            "type": "parcoords"
           }
          ],
          "pie": [
           {
            "automargin": true,
            "type": "pie"
           }
          ],
          "scatter": [
           {
            "marker": {
             "colorbar": {
              "outlinewidth": 0,
              "ticks": ""
             }
            },
            "type": "scatter"
           }
          ],
          "scatter3d": [
           {
            "line": {
             "colorbar": {
              "outlinewidth": 0,
              "ticks": ""
             }
            },
            "marker": {
             "colorbar": {
              "outlinewidth": 0,
              "ticks": ""
             }
            },
            "type": "scatter3d"
           }
          ],
          "scattercarpet": [
           {
            "marker": {
             "colorbar": {
              "outlinewidth": 0,
              "ticks": ""
             }
            },
            "type": "scattercarpet"
           }
          ],
          "scattergeo": [
           {
            "marker": {
             "colorbar": {
              "outlinewidth": 0,
              "ticks": ""
             }
            },
            "type": "scattergeo"
           }
          ],
          "scattergl": [
           {
            "marker": {
             "colorbar": {
              "outlinewidth": 0,
              "ticks": ""
             }
            },
            "type": "scattergl"
           }
          ],
          "scattermapbox": [
           {
            "marker": {
             "colorbar": {
              "outlinewidth": 0,
              "ticks": ""
             }
            },
            "type": "scattermapbox"
           }
          ],
          "scatterpolar": [
           {
            "marker": {
             "colorbar": {
              "outlinewidth": 0,
              "ticks": ""
             }
            },
            "type": "scatterpolar"
           }
          ],
          "scatterpolargl": [
           {
            "marker": {
             "colorbar": {
              "outlinewidth": 0,
              "ticks": ""
             }
            },
            "type": "scatterpolargl"
           }
          ],
          "scatterternary": [
           {
            "marker": {
             "colorbar": {
              "outlinewidth": 0,
              "ticks": ""
             }
            },
            "type": "scatterternary"
           }
          ],
          "surface": [
           {
            "colorbar": {
             "outlinewidth": 0,
             "ticks": ""
            },
            "colorscale": [
             [
              0,
              "#0d0887"
             ],
             [
              0.1111111111111111,
              "#46039f"
             ],
             [
              0.2222222222222222,
              "#7201a8"
             ],
             [
              0.3333333333333333,
              "#9c179e"
             ],
             [
              0.4444444444444444,
              "#bd3786"
             ],
             [
              0.5555555555555556,
              "#d8576b"
             ],
             [
              0.6666666666666666,
              "#ed7953"
             ],
             [
              0.7777777777777778,
              "#fb9f3a"
             ],
             [
              0.8888888888888888,
              "#fdca26"
             ],
             [
              1,
              "#f0f921"
             ]
            ],
            "type": "surface"
           }
          ],
          "table": [
           {
            "cells": {
             "fill": {
              "color": "#EBF0F8"
             },
             "line": {
              "color": "white"
             }
            },
            "header": {
             "fill": {
              "color": "#C8D4E3"
             },
             "line": {
              "color": "white"
             }
            },
            "type": "table"
           }
          ]
         },
         "layout": {
          "annotationdefaults": {
           "arrowcolor": "#2a3f5f",
           "arrowhead": 0,
           "arrowwidth": 1
          },
          "coloraxis": {
           "colorbar": {
            "outlinewidth": 0,
            "ticks": ""
           }
          },
          "colorscale": {
           "diverging": [
            [
             0,
             "#8e0152"
            ],
            [
             0.1,
             "#c51b7d"
            ],
            [
             0.2,
             "#de77ae"
            ],
            [
             0.3,
             "#f1b6da"
            ],
            [
             0.4,
             "#fde0ef"
            ],
            [
             0.5,
             "#f7f7f7"
            ],
            [
             0.6,
             "#e6f5d0"
            ],
            [
             0.7,
             "#b8e186"
            ],
            [
             0.8,
             "#7fbc41"
            ],
            [
             0.9,
             "#4d9221"
            ],
            [
             1,
             "#276419"
            ]
           ],
           "sequential": [
            [
             0,
             "#0d0887"
            ],
            [
             0.1111111111111111,
             "#46039f"
            ],
            [
             0.2222222222222222,
             "#7201a8"
            ],
            [
             0.3333333333333333,
             "#9c179e"
            ],
            [
             0.4444444444444444,
             "#bd3786"
            ],
            [
             0.5555555555555556,
             "#d8576b"
            ],
            [
             0.6666666666666666,
             "#ed7953"
            ],
            [
             0.7777777777777778,
             "#fb9f3a"
            ],
            [
             0.8888888888888888,
             "#fdca26"
            ],
            [
             1,
             "#f0f921"
            ]
           ],
           "sequentialminus": [
            [
             0,
             "#0d0887"
            ],
            [
             0.1111111111111111,
             "#46039f"
            ],
            [
             0.2222222222222222,
             "#7201a8"
            ],
            [
             0.3333333333333333,
             "#9c179e"
            ],
            [
             0.4444444444444444,
             "#bd3786"
            ],
            [
             0.5555555555555556,
             "#d8576b"
            ],
            [
             0.6666666666666666,
             "#ed7953"
            ],
            [
             0.7777777777777778,
             "#fb9f3a"
            ],
            [
             0.8888888888888888,
             "#fdca26"
            ],
            [
             1,
             "#f0f921"
            ]
           ]
          },
          "colorway": [
           "#636efa",
           "#EF553B",
           "#00cc96",
           "#ab63fa",
           "#FFA15A",
           "#19d3f3",
           "#FF6692",
           "#B6E880",
           "#FF97FF",
           "#FECB52"
          ],
          "font": {
           "color": "#2a3f5f"
          },
          "geo": {
           "bgcolor": "white",
           "lakecolor": "white",
           "landcolor": "#E5ECF6",
           "showlakes": true,
           "showland": true,
           "subunitcolor": "white"
          },
          "hoverlabel": {
           "align": "left"
          },
          "hovermode": "closest",
          "mapbox": {
           "style": "light"
          },
          "paper_bgcolor": "white",
          "plot_bgcolor": "#E5ECF6",
          "polar": {
           "angularaxis": {
            "gridcolor": "white",
            "linecolor": "white",
            "ticks": ""
           },
           "bgcolor": "#E5ECF6",
           "radialaxis": {
            "gridcolor": "white",
            "linecolor": "white",
            "ticks": ""
           }
          },
          "scene": {
           "xaxis": {
            "backgroundcolor": "#E5ECF6",
            "gridcolor": "white",
            "gridwidth": 2,
            "linecolor": "white",
            "showbackground": true,
            "ticks": "",
            "zerolinecolor": "white"
           },
           "yaxis": {
            "backgroundcolor": "#E5ECF6",
            "gridcolor": "white",
            "gridwidth": 2,
            "linecolor": "white",
            "showbackground": true,
            "ticks": "",
            "zerolinecolor": "white"
           },
           "zaxis": {
            "backgroundcolor": "#E5ECF6",
            "gridcolor": "white",
            "gridwidth": 2,
            "linecolor": "white",
            "showbackground": true,
            "ticks": "",
            "zerolinecolor": "white"
           }
          },
          "shapedefaults": {
           "line": {
            "color": "#2a3f5f"
           }
          },
          "ternary": {
           "aaxis": {
            "gridcolor": "white",
            "linecolor": "white",
            "ticks": ""
           },
           "baxis": {
            "gridcolor": "white",
            "linecolor": "white",
            "ticks": ""
           },
           "bgcolor": "#E5ECF6",
           "caxis": {
            "gridcolor": "white",
            "linecolor": "white",
            "ticks": ""
           }
          },
          "title": {
           "x": 0.05
          },
          "xaxis": {
           "automargin": true,
           "gridcolor": "white",
           "linecolor": "white",
           "ticks": "",
           "title": {
            "standoff": 15
           },
           "zerolinecolor": "white",
           "zerolinewidth": 2
          },
          "yaxis": {
           "automargin": true,
           "gridcolor": "white",
           "linecolor": "white",
           "ticks": "",
           "title": {
            "standoff": 15
           },
           "zerolinecolor": "white",
           "zerolinewidth": 2
          }
         }
        },
        "title": {
         "font": {
          "color": "#4D5663"
         }
        },
        "xaxis": {
         "gridcolor": "#E1E5ED",
         "showgrid": true,
         "tickfont": {
          "color": "#4D5663"
         },
         "title": {
          "font": {
           "color": "#4D5663"
          },
          "text": ""
         },
         "zerolinecolor": "#E1E5ED"
        },
        "yaxis": {
         "gridcolor": "#E1E5ED",
         "showgrid": true,
         "tickfont": {
          "color": "#4D5663"
         },
         "title": {
          "font": {
           "color": "#4D5663"
          },
          "text": ""
         },
         "zerolinecolor": "#E1E5ED"
        }
       }
      },
      "text/html": [
       "<div>                            <div id=\"c6ac4d54-d104-43e1-b814-2932f128337b\" class=\"plotly-graph-div\" style=\"height:525px; width:100%;\"></div>            <script type=\"text/javascript\">                require([\"plotly\"], function(Plotly) {                    window.PLOTLYENV=window.PLOTLYENV || {};\n",
       "                    window.PLOTLYENV.BASE_URL='https://plot.ly';                                    if (document.getElementById(\"c6ac4d54-d104-43e1-b814-2932f128337b\")) {                    Plotly.newPlot(                        \"c6ac4d54-d104-43e1-b814-2932f128337b\",                        [{\"line\": {\"color\": \"rgba(255, 153, 51, 1.0)\", \"dash\": \"solid\", \"shape\": \"linear\", \"width\": 1.3}, \"mode\": \"lines\", \"name\": \"Close\", \"text\": \"\", \"type\": \"scatter\", \"x\": [30, 31, 32, 33, 34, 35, 36, 37, 38, 39, 40, 41, 42, 43, 44, 45, 46, 47, 48, 49, 50, 51, 52, 53, 54, 55, 56, 57, 58, 59, 60, 61, 62, 63, 64, 65, 66, 67, 68, 69, 70, 71, 72, 73, 74, 75, 76, 77, 78, 79], \"y\": [242.03, 240.93, 240.28, 239.73, 239.0, 245.07, 244.5, 243.58, 240.86, 240.28, 233.42, 237.55, 227.07, 220.64, 216.08, 235.68, 234.02, 242.24, 239.22, 238.79, 235.94, 235.53, 235.65, 232.5, 228.58, 224.43, 236.73, 238.67, 231.4, 230.77, 226.29, 230.16, 232.72, 231.91, 225.09, 225.46, 229.14, 232.2, 234.91, 231.39, 229.97, 216.88, 213.19, 210.88, 206.81, 205.1, 210.1, 213.18, 212.35, 211.26]}, {\"line\": {\"color\": \"rgba(55, 128, 191, 1.0)\", \"dash\": \"solid\", \"shape\": \"linear\", \"width\": 1.3}, \"mode\": \"lines\", \"name\": \"SMA(3)\", \"text\": \"\", \"type\": \"scatter\", \"x\": [30, 31, 32, 33, 34, 35, 36, 37, 38, 39, 40, 41, 42, 43, 44, 45, 46, 47, 48, 49, 50, 51, 52, 53, 54, 55, 56, 57, 58, 59, 60, 61, 62, 63, 64, 65, 66, 67, 68, 69, 70, 71, 72, 73, 74, 75, 76, 77, 78, 79], \"y\": [\"\", \"\", 241.08, 240.31333333333336, 239.67, 241.26666666666665, 242.85666666666665, 244.38333333333333, 242.98000000000002, 241.57333333333335, 238.18666666666664, 237.0833333333333, 232.67999999999998, 228.42, 221.26333333333332, 224.13333333333335, 228.59333333333336, 237.31333333333336, 238.49333333333334, 240.08333333333334, 237.98333333333335, 236.75333333333333, 235.70666666666668, 234.56000000000003, 232.24333333333337, 228.50333333333336, 229.91333333333338, 233.27666666666667, 235.6, 233.61333333333332, 229.48666666666665, 229.0733333333333, 229.72333333333333, 231.59666666666666, 229.90666666666667, 227.48666666666668, 226.56333333333336, 228.93333333333337, 232.08333333333334, 232.83333333333334, 232.09, 226.08, 220.01333333333335, 213.65, 210.29333333333332, 207.59666666666666, 207.33666666666667, 209.46000000000004, 211.8766666666667, 212.26333333333335]}, {\"line\": {\"color\": \"rgba(55, 128, 191, 0.8999999999999999)\", \"dash\": \"solid\", \"shape\": \"linear\", \"width\": 1.3}, \"mode\": \"lines\", \"name\": \"SMA(7)\", \"text\": \"\", \"type\": \"scatter\", \"x\": [30, 31, 32, 33, 34, 35, 36, 37, 38, 39, 40, 41, 42, 43, 44, 45, 46, 47, 48, 49, 50, 51, 52, 53, 54, 55, 56, 57, 58, 59, 60, 61, 62, 63, 64, 65, 66, 67, 68, 69, 70, 71, 72, 73, 74, 75, 76, 77, 78, 79], \"y\": [\"\", \"\", \"\", \"\", \"\", \"\", 241.64857142857142, 241.86999999999998, 241.85999999999996, 241.85999999999996, 240.9585714285714, 240.75142857142853, 238.17999999999998, 234.77142857142852, 230.8428571428571, 230.10285714285712, 229.2085714285714, 230.46857142857138, 230.70714285714283, 232.38142857142856, 234.56714285714284, 237.34571428571425, 237.34142857142857, 237.1242857142857, 235.1728571428571, 233.05999999999997, 232.76571428571427, 233.15571428571428, 232.56571428571428, 231.8685714285714, 230.98142857142855, 231.20714285714286, 232.39142857142858, 231.70285714285714, 229.76285714285714, 228.91428571428568, 228.68142857142857, 229.5257142857143, 230.20428571428573, 230.01428571428573, 229.73714285714286, 228.56428571428572, 226.8114285714286, 224.20285714285714, 220.57571428571427, 216.31714285714284, 213.27571428571426, 210.87714285714284, 210.22999999999996, 209.95428571428565]}],                        {\"legend\": {\"bgcolor\": \"#F5F6F9\", \"font\": {\"color\": \"#4D5663\"}}, \"paper_bgcolor\": \"#F5F6F9\", \"plot_bgcolor\": \"#F5F6F9\", \"template\": {\"data\": {\"bar\": [{\"error_x\": {\"color\": \"#2a3f5f\"}, \"error_y\": {\"color\": \"#2a3f5f\"}, \"marker\": {\"line\": {\"color\": \"#E5ECF6\", \"width\": 0.5}}, \"type\": \"bar\"}], \"barpolar\": [{\"marker\": {\"line\": {\"color\": \"#E5ECF6\", \"width\": 0.5}}, \"type\": \"barpolar\"}], \"carpet\": [{\"aaxis\": {\"endlinecolor\": \"#2a3f5f\", \"gridcolor\": \"white\", \"linecolor\": \"white\", \"minorgridcolor\": \"white\", \"startlinecolor\": \"#2a3f5f\"}, \"baxis\": {\"endlinecolor\": \"#2a3f5f\", \"gridcolor\": \"white\", \"linecolor\": \"white\", \"minorgridcolor\": \"white\", \"startlinecolor\": \"#2a3f5f\"}, \"type\": \"carpet\"}], \"choropleth\": [{\"colorbar\": {\"outlinewidth\": 0, \"ticks\": \"\"}, \"type\": \"choropleth\"}], \"contour\": [{\"colorbar\": {\"outlinewidth\": 0, \"ticks\": \"\"}, \"colorscale\": [[0.0, \"#0d0887\"], [0.1111111111111111, \"#46039f\"], [0.2222222222222222, \"#7201a8\"], [0.3333333333333333, \"#9c179e\"], [0.4444444444444444, \"#bd3786\"], [0.5555555555555556, \"#d8576b\"], [0.6666666666666666, \"#ed7953\"], [0.7777777777777778, \"#fb9f3a\"], [0.8888888888888888, \"#fdca26\"], [1.0, \"#f0f921\"]], \"type\": \"contour\"}], \"contourcarpet\": [{\"colorbar\": {\"outlinewidth\": 0, \"ticks\": \"\"}, \"type\": \"contourcarpet\"}], \"heatmap\": [{\"colorbar\": {\"outlinewidth\": 0, \"ticks\": \"\"}, \"colorscale\": [[0.0, \"#0d0887\"], [0.1111111111111111, \"#46039f\"], [0.2222222222222222, \"#7201a8\"], [0.3333333333333333, \"#9c179e\"], [0.4444444444444444, \"#bd3786\"], [0.5555555555555556, \"#d8576b\"], [0.6666666666666666, \"#ed7953\"], [0.7777777777777778, \"#fb9f3a\"], [0.8888888888888888, \"#fdca26\"], [1.0, \"#f0f921\"]], \"type\": \"heatmap\"}], \"heatmapgl\": [{\"colorbar\": {\"outlinewidth\": 0, \"ticks\": \"\"}, \"colorscale\": [[0.0, \"#0d0887\"], [0.1111111111111111, \"#46039f\"], [0.2222222222222222, \"#7201a8\"], [0.3333333333333333, \"#9c179e\"], [0.4444444444444444, \"#bd3786\"], [0.5555555555555556, \"#d8576b\"], [0.6666666666666666, \"#ed7953\"], [0.7777777777777778, \"#fb9f3a\"], [0.8888888888888888, \"#fdca26\"], [1.0, \"#f0f921\"]], \"type\": \"heatmapgl\"}], \"histogram\": [{\"marker\": {\"colorbar\": {\"outlinewidth\": 0, \"ticks\": \"\"}}, \"type\": \"histogram\"}], \"histogram2d\": [{\"colorbar\": {\"outlinewidth\": 0, \"ticks\": \"\"}, \"colorscale\": [[0.0, \"#0d0887\"], [0.1111111111111111, \"#46039f\"], [0.2222222222222222, \"#7201a8\"], [0.3333333333333333, \"#9c179e\"], [0.4444444444444444, \"#bd3786\"], [0.5555555555555556, \"#d8576b\"], [0.6666666666666666, \"#ed7953\"], [0.7777777777777778, \"#fb9f3a\"], [0.8888888888888888, \"#fdca26\"], [1.0, \"#f0f921\"]], \"type\": \"histogram2d\"}], \"histogram2dcontour\": [{\"colorbar\": {\"outlinewidth\": 0, \"ticks\": \"\"}, \"colorscale\": [[0.0, \"#0d0887\"], [0.1111111111111111, \"#46039f\"], [0.2222222222222222, \"#7201a8\"], [0.3333333333333333, \"#9c179e\"], [0.4444444444444444, \"#bd3786\"], [0.5555555555555556, \"#d8576b\"], [0.6666666666666666, \"#ed7953\"], [0.7777777777777778, \"#fb9f3a\"], [0.8888888888888888, \"#fdca26\"], [1.0, \"#f0f921\"]], \"type\": \"histogram2dcontour\"}], \"mesh3d\": [{\"colorbar\": {\"outlinewidth\": 0, \"ticks\": \"\"}, \"type\": \"mesh3d\"}], \"parcoords\": [{\"line\": {\"colorbar\": {\"outlinewidth\": 0, \"ticks\": \"\"}}, \"type\": \"parcoords\"}], \"pie\": [{\"automargin\": true, \"type\": \"pie\"}], \"scatter\": [{\"marker\": {\"colorbar\": {\"outlinewidth\": 0, \"ticks\": \"\"}}, \"type\": \"scatter\"}], \"scatter3d\": [{\"line\": {\"colorbar\": {\"outlinewidth\": 0, \"ticks\": \"\"}}, \"marker\": {\"colorbar\": {\"outlinewidth\": 0, \"ticks\": \"\"}}, \"type\": \"scatter3d\"}], \"scattercarpet\": [{\"marker\": {\"colorbar\": {\"outlinewidth\": 0, \"ticks\": \"\"}}, \"type\": \"scattercarpet\"}], \"scattergeo\": [{\"marker\": {\"colorbar\": {\"outlinewidth\": 0, \"ticks\": \"\"}}, \"type\": \"scattergeo\"}], \"scattergl\": [{\"marker\": {\"colorbar\": {\"outlinewidth\": 0, \"ticks\": \"\"}}, \"type\": \"scattergl\"}], \"scattermapbox\": [{\"marker\": {\"colorbar\": {\"outlinewidth\": 0, \"ticks\": \"\"}}, \"type\": \"scattermapbox\"}], \"scatterpolar\": [{\"marker\": {\"colorbar\": {\"outlinewidth\": 0, \"ticks\": \"\"}}, \"type\": \"scatterpolar\"}], \"scatterpolargl\": [{\"marker\": {\"colorbar\": {\"outlinewidth\": 0, \"ticks\": \"\"}}, \"type\": \"scatterpolargl\"}], \"scatterternary\": [{\"marker\": {\"colorbar\": {\"outlinewidth\": 0, \"ticks\": \"\"}}, \"type\": \"scatterternary\"}], \"surface\": [{\"colorbar\": {\"outlinewidth\": 0, \"ticks\": \"\"}, \"colorscale\": [[0.0, \"#0d0887\"], [0.1111111111111111, \"#46039f\"], [0.2222222222222222, \"#7201a8\"], [0.3333333333333333, \"#9c179e\"], [0.4444444444444444, \"#bd3786\"], [0.5555555555555556, \"#d8576b\"], [0.6666666666666666, \"#ed7953\"], [0.7777777777777778, \"#fb9f3a\"], [0.8888888888888888, \"#fdca26\"], [1.0, \"#f0f921\"]], \"type\": \"surface\"}], \"table\": [{\"cells\": {\"fill\": {\"color\": \"#EBF0F8\"}, \"line\": {\"color\": \"white\"}}, \"header\": {\"fill\": {\"color\": \"#C8D4E3\"}, \"line\": {\"color\": \"white\"}}, \"type\": \"table\"}]}, \"layout\": {\"annotationdefaults\": {\"arrowcolor\": \"#2a3f5f\", \"arrowhead\": 0, \"arrowwidth\": 1}, \"coloraxis\": {\"colorbar\": {\"outlinewidth\": 0, \"ticks\": \"\"}}, \"colorscale\": {\"diverging\": [[0, \"#8e0152\"], [0.1, \"#c51b7d\"], [0.2, \"#de77ae\"], [0.3, \"#f1b6da\"], [0.4, \"#fde0ef\"], [0.5, \"#f7f7f7\"], [0.6, \"#e6f5d0\"], [0.7, \"#b8e186\"], [0.8, \"#7fbc41\"], [0.9, \"#4d9221\"], [1, \"#276419\"]], \"sequential\": [[0.0, \"#0d0887\"], [0.1111111111111111, \"#46039f\"], [0.2222222222222222, \"#7201a8\"], [0.3333333333333333, \"#9c179e\"], [0.4444444444444444, \"#bd3786\"], [0.5555555555555556, \"#d8576b\"], [0.6666666666666666, \"#ed7953\"], [0.7777777777777778, \"#fb9f3a\"], [0.8888888888888888, \"#fdca26\"], [1.0, \"#f0f921\"]], \"sequentialminus\": [[0.0, \"#0d0887\"], [0.1111111111111111, \"#46039f\"], [0.2222222222222222, \"#7201a8\"], [0.3333333333333333, \"#9c179e\"], [0.4444444444444444, \"#bd3786\"], [0.5555555555555556, \"#d8576b\"], [0.6666666666666666, \"#ed7953\"], [0.7777777777777778, \"#fb9f3a\"], [0.8888888888888888, \"#fdca26\"], [1.0, \"#f0f921\"]]}, \"colorway\": [\"#636efa\", \"#EF553B\", \"#00cc96\", \"#ab63fa\", \"#FFA15A\", \"#19d3f3\", \"#FF6692\", \"#B6E880\", \"#FF97FF\", \"#FECB52\"], \"font\": {\"color\": \"#2a3f5f\"}, \"geo\": {\"bgcolor\": \"white\", \"lakecolor\": \"white\", \"landcolor\": \"#E5ECF6\", \"showlakes\": true, \"showland\": true, \"subunitcolor\": \"white\"}, \"hoverlabel\": {\"align\": \"left\"}, \"hovermode\": \"closest\", \"mapbox\": {\"style\": \"light\"}, \"paper_bgcolor\": \"white\", \"plot_bgcolor\": \"#E5ECF6\", \"polar\": {\"angularaxis\": {\"gridcolor\": \"white\", \"linecolor\": \"white\", \"ticks\": \"\"}, \"bgcolor\": \"#E5ECF6\", \"radialaxis\": {\"gridcolor\": \"white\", \"linecolor\": \"white\", \"ticks\": \"\"}}, \"scene\": {\"xaxis\": {\"backgroundcolor\": \"#E5ECF6\", \"gridcolor\": \"white\", \"gridwidth\": 2, \"linecolor\": \"white\", \"showbackground\": true, \"ticks\": \"\", \"zerolinecolor\": \"white\"}, \"yaxis\": {\"backgroundcolor\": \"#E5ECF6\", \"gridcolor\": \"white\", \"gridwidth\": 2, \"linecolor\": \"white\", \"showbackground\": true, \"ticks\": \"\", \"zerolinecolor\": \"white\"}, \"zaxis\": {\"backgroundcolor\": \"#E5ECF6\", \"gridcolor\": \"white\", \"gridwidth\": 2, \"linecolor\": \"white\", \"showbackground\": true, \"ticks\": \"\", \"zerolinecolor\": \"white\"}}, \"shapedefaults\": {\"line\": {\"color\": \"#2a3f5f\"}}, \"ternary\": {\"aaxis\": {\"gridcolor\": \"white\", \"linecolor\": \"white\", \"ticks\": \"\"}, \"baxis\": {\"gridcolor\": \"white\", \"linecolor\": \"white\", \"ticks\": \"\"}, \"bgcolor\": \"#E5ECF6\", \"caxis\": {\"gridcolor\": \"white\", \"linecolor\": \"white\", \"ticks\": \"\"}}, \"title\": {\"x\": 0.05}, \"xaxis\": {\"automargin\": true, \"gridcolor\": \"white\", \"linecolor\": \"white\", \"ticks\": \"\", \"title\": {\"standoff\": 15}, \"zerolinecolor\": \"white\", \"zerolinewidth\": 2}, \"yaxis\": {\"automargin\": true, \"gridcolor\": \"white\", \"linecolor\": \"white\", \"ticks\": \"\", \"title\": {\"standoff\": 15}, \"zerolinecolor\": \"white\", \"zerolinewidth\": 2}}}, \"title\": {\"font\": {\"color\": \"#4D5663\"}}, \"xaxis\": {\"gridcolor\": \"#E1E5ED\", \"showgrid\": true, \"tickfont\": {\"color\": \"#4D5663\"}, \"title\": {\"font\": {\"color\": \"#4D5663\"}, \"text\": \"\"}, \"zerolinecolor\": \"#E1E5ED\"}, \"yaxis\": {\"gridcolor\": \"#E1E5ED\", \"showgrid\": true, \"tickfont\": {\"color\": \"#4D5663\"}, \"title\": {\"font\": {\"color\": \"#4D5663\"}, \"text\": \"\"}, \"zerolinecolor\": \"#E1E5ED\"}},                        {\"showLink\": true, \"linkText\": \"Export to plot.ly\", \"plotlyServerURL\": \"https://plot.ly\", \"responsive\": true}                    ).then(function(){\n",
       "                            \n",
       "var gd = document.getElementById('c6ac4d54-d104-43e1-b814-2932f128337b');\n",
       "var x = new MutationObserver(function (mutations, observer) {{\n",
       "        var display = window.getComputedStyle(gd).display;\n",
       "        if (!display || display === 'none') {{\n",
       "            console.log([gd, 'removed!']);\n",
       "            Plotly.purge(gd);\n",
       "            observer.disconnect();\n",
       "        }}\n",
       "}});\n",
       "\n",
       "// Listen for the removal of the full notebook cells\n",
       "var notebookContainer = gd.closest('#notebook-container');\n",
       "if (notebookContainer) {{\n",
       "    x.observe(notebookContainer, {childList: true});\n",
       "}}\n",
       "\n",
       "// Listen for the clearing of the current output cell\n",
       "var outputEl = gd.closest('.output');\n",
       "if (outputEl) {{\n",
       "    x.observe(outputEl, {childList: true});\n",
       "}}\n",
       "\n",
       "                        })                };                });            </script>        </div>"
      ]
     },
     "metadata": {},
     "output_type": "display_data"
    },
    {
     "data": {
      "application/vnd.plotly.v1+json": {
       "config": {
        "linkText": "Export to plot.ly",
        "plotlyServerURL": "https://plot.ly",
        "showLink": true
       },
       "data": [
        {
         "line": {
          "color": "rgba(255, 153, 51, 1.0)",
          "dash": "solid",
          "shape": "linear",
          "width": 1.3
         },
         "mode": "lines",
         "name": "Close",
         "text": "",
         "type": "scatter",
         "x": [
          30,
          31,
          32,
          33,
          34,
          35,
          36,
          37,
          38,
          39,
          40,
          41,
          42,
          43,
          44,
          45,
          46,
          47,
          48,
          49,
          50,
          51,
          52,
          53,
          54,
          55,
          56,
          57,
          58,
          59,
          60,
          61,
          62,
          63,
          64,
          65,
          66,
          67,
          68,
          69,
          70,
          71,
          72,
          73,
          74,
          75,
          76,
          77,
          78,
          79
         ],
         "y": [
          202.88,
          203.92,
          208.04,
          208.35,
          207.07,
          213.67,
          214.32,
          212.83,
          208.25,
          210.7,
          206.26,
          204.7,
          203.51,
          198.44,
          196.33,
          200.34,
          197.84,
          201.91,
          200.57,
          195.15,
          196.32,
          194.24,
          193.57,
          188.94,
          187.74,
          186.27,
          196.84,
          189.8,
          188.36,
          187.2,
          182.92,
          185.36,
          184.91,
          182.83,
          183.25,
          181.4,
          181.81,
          181.57,
          183.51,
          183.43,
          185.66,
          183.63,
          184.91,
          183.16,
          180.53,
          179.75,
          182.51,
          186.74,
          184.68,
          183.6
         ]
        },
        {
         "line": {
          "color": "rgba(55, 128, 191, 1.0)",
          "dash": "solid",
          "shape": "linear",
          "width": 1.3
         },
         "mode": "lines",
         "name": "SMA(3)",
         "text": "",
         "type": "scatter",
         "x": [
          30,
          31,
          32,
          33,
          34,
          35,
          36,
          37,
          38,
          39,
          40,
          41,
          42,
          43,
          44,
          45,
          46,
          47,
          48,
          49,
          50,
          51,
          52,
          53,
          54,
          55,
          56,
          57,
          58,
          59,
          60,
          61,
          62,
          63,
          64,
          65,
          66,
          67,
          68,
          69,
          70,
          71,
          72,
          73,
          74,
          75,
          76,
          77,
          78,
          79
         ],
         "y": [
          "",
          "",
          204.94666666666663,
          206.76999999999998,
          207.81999999999996,
          209.69666666666663,
          211.6866666666666,
          213.60666666666665,
          211.79999999999998,
          210.59333333333333,
          208.4033333333333,
          207.21999999999994,
          204.82333333333327,
          202.2166666666666,
          199.42666666666665,
          198.37,
          198.17,
          200.02999999999997,
          200.1066666666666,
          199.20999999999992,
          197.3466666666666,
          195.2366666666666,
          194.70999999999992,
          192.24999999999991,
          190.08333333333326,
          187.64999999999995,
          190.2833333333333,
          190.96999999999994,
          191.66666666666663,
          188.45333333333326,
          186.15999999999994,
          185.15999999999994,
          184.39666666666662,
          184.36666666666665,
          183.6633333333333,
          182.4933333333333,
          182.1533333333333,
          181.59333333333333,
          182.29666666666665,
          182.83666666666667,
          184.19999999999996,
          184.23999999999998,
          184.73333333333326,
          183.89999999999995,
          182.8666666666666,
          181.14666666666662,
          180.92999999999995,
          182.99999999999997,
          184.6433333333333,
          185.00666666666663
         ]
        },
        {
         "line": {
          "color": "rgba(55, 128, 191, 0.8999999999999999)",
          "dash": "solid",
          "shape": "linear",
          "width": 1.3
         },
         "mode": "lines",
         "name": "SMA(7)",
         "text": "",
         "type": "scatter",
         "x": [
          30,
          31,
          32,
          33,
          34,
          35,
          36,
          37,
          38,
          39,
          40,
          41,
          42,
          43,
          44,
          45,
          46,
          47,
          48,
          49,
          50,
          51,
          52,
          53,
          54,
          55,
          56,
          57,
          58,
          59,
          60,
          61,
          62,
          63,
          64,
          65,
          66,
          67,
          68,
          69,
          70,
          71,
          72,
          73,
          74,
          75,
          76,
          77,
          78,
          79
         ],
         "y": [
          "",
          "",
          "",
          "",
          "",
          "",
          208.32142857142858,
          209.7428571428571,
          210.36142857142855,
          210.74142857142854,
          210.44285714285712,
          210.1042857142857,
          208.65285714285713,
          206.3842857142857,
          204.02714285714288,
          202.89714285714285,
          201.05999999999997,
          200.4385714285714,
          199.8485714285714,
          198.6542857142857,
          198.35142857142856,
          198.05285714285714,
          197.08571428571426,
          195.81428571428572,
          193.79,
          191.74714285714285,
          191.98857142857142,
          191.05714285714285,
          190.21714285714282,
          189.30714285714285,
          188.44714285714284,
          188.10714285714283,
          187.91285714285712,
          185.91142857142856,
          184.97571428571428,
          183.98142857142855,
          183.21142857142854,
          183.0185714285714,
          182.7542857142857,
          182.54285714285712,
          182.94714285714284,
          183.00142857142853,
          183.5028571428571,
          183.69571428571427,
          183.54714285714286,
          183.01,
          182.8785714285714,
          183.03285714285713,
          183.1828571428571,
          182.99571428571423
         ]
        }
       ],
       "layout": {
        "legend": {
         "bgcolor": "#F5F6F9",
         "font": {
          "color": "#4D5663"
         }
        },
        "paper_bgcolor": "#F5F6F9",
        "plot_bgcolor": "#F5F6F9",
        "template": {
         "data": {
          "bar": [
           {
            "error_x": {
             "color": "#2a3f5f"
            },
            "error_y": {
             "color": "#2a3f5f"
            },
            "marker": {
             "line": {
              "color": "#E5ECF6",
              "width": 0.5
             }
            },
            "type": "bar"
           }
          ],
          "barpolar": [
           {
            "marker": {
             "line": {
              "color": "#E5ECF6",
              "width": 0.5
             }
            },
            "type": "barpolar"
           }
          ],
          "carpet": [
           {
            "aaxis": {
             "endlinecolor": "#2a3f5f",
             "gridcolor": "white",
             "linecolor": "white",
             "minorgridcolor": "white",
             "startlinecolor": "#2a3f5f"
            },
            "baxis": {
             "endlinecolor": "#2a3f5f",
             "gridcolor": "white",
             "linecolor": "white",
             "minorgridcolor": "white",
             "startlinecolor": "#2a3f5f"
            },
            "type": "carpet"
           }
          ],
          "choropleth": [
           {
            "colorbar": {
             "outlinewidth": 0,
             "ticks": ""
            },
            "type": "choropleth"
           }
          ],
          "contour": [
           {
            "colorbar": {
             "outlinewidth": 0,
             "ticks": ""
            },
            "colorscale": [
             [
              0,
              "#0d0887"
             ],
             [
              0.1111111111111111,
              "#46039f"
             ],
             [
              0.2222222222222222,
              "#7201a8"
             ],
             [
              0.3333333333333333,
              "#9c179e"
             ],
             [
              0.4444444444444444,
              "#bd3786"
             ],
             [
              0.5555555555555556,
              "#d8576b"
             ],
             [
              0.6666666666666666,
              "#ed7953"
             ],
             [
              0.7777777777777778,
              "#fb9f3a"
             ],
             [
              0.8888888888888888,
              "#fdca26"
             ],
             [
              1,
              "#f0f921"
             ]
            ],
            "type": "contour"
           }
          ],
          "contourcarpet": [
           {
            "colorbar": {
             "outlinewidth": 0,
             "ticks": ""
            },
            "type": "contourcarpet"
           }
          ],
          "heatmap": [
           {
            "colorbar": {
             "outlinewidth": 0,
             "ticks": ""
            },
            "colorscale": [
             [
              0,
              "#0d0887"
             ],
             [
              0.1111111111111111,
              "#46039f"
             ],
             [
              0.2222222222222222,
              "#7201a8"
             ],
             [
              0.3333333333333333,
              "#9c179e"
             ],
             [
              0.4444444444444444,
              "#bd3786"
             ],
             [
              0.5555555555555556,
              "#d8576b"
             ],
             [
              0.6666666666666666,
              "#ed7953"
             ],
             [
              0.7777777777777778,
              "#fb9f3a"
             ],
             [
              0.8888888888888888,
              "#fdca26"
             ],
             [
              1,
              "#f0f921"
             ]
            ],
            "type": "heatmap"
           }
          ],
          "heatmapgl": [
           {
            "colorbar": {
             "outlinewidth": 0,
             "ticks": ""
            },
            "colorscale": [
             [
              0,
              "#0d0887"
             ],
             [
              0.1111111111111111,
              "#46039f"
             ],
             [
              0.2222222222222222,
              "#7201a8"
             ],
             [
              0.3333333333333333,
              "#9c179e"
             ],
             [
              0.4444444444444444,
              "#bd3786"
             ],
             [
              0.5555555555555556,
              "#d8576b"
             ],
             [
              0.6666666666666666,
              "#ed7953"
             ],
             [
              0.7777777777777778,
              "#fb9f3a"
             ],
             [
              0.8888888888888888,
              "#fdca26"
             ],
             [
              1,
              "#f0f921"
             ]
            ],
            "type": "heatmapgl"
           }
          ],
          "histogram": [
           {
            "marker": {
             "colorbar": {
              "outlinewidth": 0,
              "ticks": ""
             }
            },
            "type": "histogram"
           }
          ],
          "histogram2d": [
           {
            "colorbar": {
             "outlinewidth": 0,
             "ticks": ""
            },
            "colorscale": [
             [
              0,
              "#0d0887"
             ],
             [
              0.1111111111111111,
              "#46039f"
             ],
             [
              0.2222222222222222,
              "#7201a8"
             ],
             [
              0.3333333333333333,
              "#9c179e"
             ],
             [
              0.4444444444444444,
              "#bd3786"
             ],
             [
              0.5555555555555556,
              "#d8576b"
             ],
             [
              0.6666666666666666,
              "#ed7953"
             ],
             [
              0.7777777777777778,
              "#fb9f3a"
             ],
             [
              0.8888888888888888,
              "#fdca26"
             ],
             [
              1,
              "#f0f921"
             ]
            ],
            "type": "histogram2d"
           }
          ],
          "histogram2dcontour": [
           {
            "colorbar": {
             "outlinewidth": 0,
             "ticks": ""
            },
            "colorscale": [
             [
              0,
              "#0d0887"
             ],
             [
              0.1111111111111111,
              "#46039f"
             ],
             [
              0.2222222222222222,
              "#7201a8"
             ],
             [
              0.3333333333333333,
              "#9c179e"
             ],
             [
              0.4444444444444444,
              "#bd3786"
             ],
             [
              0.5555555555555556,
              "#d8576b"
             ],
             [
              0.6666666666666666,
              "#ed7953"
             ],
             [
              0.7777777777777778,
              "#fb9f3a"
             ],
             [
              0.8888888888888888,
              "#fdca26"
             ],
             [
              1,
              "#f0f921"
             ]
            ],
            "type": "histogram2dcontour"
           }
          ],
          "mesh3d": [
           {
            "colorbar": {
             "outlinewidth": 0,
             "ticks": ""
            },
            "type": "mesh3d"
           }
          ],
          "parcoords": [
           {
            "line": {
             "colorbar": {
              "outlinewidth": 0,
              "ticks": ""
             }
            },
            "type": "parcoords"
           }
          ],
          "pie": [
           {
            "automargin": true,
            "type": "pie"
           }
          ],
          "scatter": [
           {
            "marker": {
             "colorbar": {
              "outlinewidth": 0,
              "ticks": ""
             }
            },
            "type": "scatter"
           }
          ],
          "scatter3d": [
           {
            "line": {
             "colorbar": {
              "outlinewidth": 0,
              "ticks": ""
             }
            },
            "marker": {
             "colorbar": {
              "outlinewidth": 0,
              "ticks": ""
             }
            },
            "type": "scatter3d"
           }
          ],
          "scattercarpet": [
           {
            "marker": {
             "colorbar": {
              "outlinewidth": 0,
              "ticks": ""
             }
            },
            "type": "scattercarpet"
           }
          ],
          "scattergeo": [
           {
            "marker": {
             "colorbar": {
              "outlinewidth": 0,
              "ticks": ""
             }
            },
            "type": "scattergeo"
           }
          ],
          "scattergl": [
           {
            "marker": {
             "colorbar": {
              "outlinewidth": 0,
              "ticks": ""
             }
            },
            "type": "scattergl"
           }
          ],
          "scattermapbox": [
           {
            "marker": {
             "colorbar": {
              "outlinewidth": 0,
              "ticks": ""
             }
            },
            "type": "scattermapbox"
           }
          ],
          "scatterpolar": [
           {
            "marker": {
             "colorbar": {
              "outlinewidth": 0,
              "ticks": ""
             }
            },
            "type": "scatterpolar"
           }
          ],
          "scatterpolargl": [
           {
            "marker": {
             "colorbar": {
              "outlinewidth": 0,
              "ticks": ""
             }
            },
            "type": "scatterpolargl"
           }
          ],
          "scatterternary": [
           {
            "marker": {
             "colorbar": {
              "outlinewidth": 0,
              "ticks": ""
             }
            },
            "type": "scatterternary"
           }
          ],
          "surface": [
           {
            "colorbar": {
             "outlinewidth": 0,
             "ticks": ""
            },
            "colorscale": [
             [
              0,
              "#0d0887"
             ],
             [
              0.1111111111111111,
              "#46039f"
             ],
             [
              0.2222222222222222,
              "#7201a8"
             ],
             [
              0.3333333333333333,
              "#9c179e"
             ],
             [
              0.4444444444444444,
              "#bd3786"
             ],
             [
              0.5555555555555556,
              "#d8576b"
             ],
             [
              0.6666666666666666,
              "#ed7953"
             ],
             [
              0.7777777777777778,
              "#fb9f3a"
             ],
             [
              0.8888888888888888,
              "#fdca26"
             ],
             [
              1,
              "#f0f921"
             ]
            ],
            "type": "surface"
           }
          ],
          "table": [
           {
            "cells": {
             "fill": {
              "color": "#EBF0F8"
             },
             "line": {
              "color": "white"
             }
            },
            "header": {
             "fill": {
              "color": "#C8D4E3"
             },
             "line": {
              "color": "white"
             }
            },
            "type": "table"
           }
          ]
         },
         "layout": {
          "annotationdefaults": {
           "arrowcolor": "#2a3f5f",
           "arrowhead": 0,
           "arrowwidth": 1
          },
          "coloraxis": {
           "colorbar": {
            "outlinewidth": 0,
            "ticks": ""
           }
          },
          "colorscale": {
           "diverging": [
            [
             0,
             "#8e0152"
            ],
            [
             0.1,
             "#c51b7d"
            ],
            [
             0.2,
             "#de77ae"
            ],
            [
             0.3,
             "#f1b6da"
            ],
            [
             0.4,
             "#fde0ef"
            ],
            [
             0.5,
             "#f7f7f7"
            ],
            [
             0.6,
             "#e6f5d0"
            ],
            [
             0.7,
             "#b8e186"
            ],
            [
             0.8,
             "#7fbc41"
            ],
            [
             0.9,
             "#4d9221"
            ],
            [
             1,
             "#276419"
            ]
           ],
           "sequential": [
            [
             0,
             "#0d0887"
            ],
            [
             0.1111111111111111,
             "#46039f"
            ],
            [
             0.2222222222222222,
             "#7201a8"
            ],
            [
             0.3333333333333333,
             "#9c179e"
            ],
            [
             0.4444444444444444,
             "#bd3786"
            ],
            [
             0.5555555555555556,
             "#d8576b"
            ],
            [
             0.6666666666666666,
             "#ed7953"
            ],
            [
             0.7777777777777778,
             "#fb9f3a"
            ],
            [
             0.8888888888888888,
             "#fdca26"
            ],
            [
             1,
             "#f0f921"
            ]
           ],
           "sequentialminus": [
            [
             0,
             "#0d0887"
            ],
            [
             0.1111111111111111,
             "#46039f"
            ],
            [
             0.2222222222222222,
             "#7201a8"
            ],
            [
             0.3333333333333333,
             "#9c179e"
            ],
            [
             0.4444444444444444,
             "#bd3786"
            ],
            [
             0.5555555555555556,
             "#d8576b"
            ],
            [
             0.6666666666666666,
             "#ed7953"
            ],
            [
             0.7777777777777778,
             "#fb9f3a"
            ],
            [
             0.8888888888888888,
             "#fdca26"
            ],
            [
             1,
             "#f0f921"
            ]
           ]
          },
          "colorway": [
           "#636efa",
           "#EF553B",
           "#00cc96",
           "#ab63fa",
           "#FFA15A",
           "#19d3f3",
           "#FF6692",
           "#B6E880",
           "#FF97FF",
           "#FECB52"
          ],
          "font": {
           "color": "#2a3f5f"
          },
          "geo": {
           "bgcolor": "white",
           "lakecolor": "white",
           "landcolor": "#E5ECF6",
           "showlakes": true,
           "showland": true,
           "subunitcolor": "white"
          },
          "hoverlabel": {
           "align": "left"
          },
          "hovermode": "closest",
          "mapbox": {
           "style": "light"
          },
          "paper_bgcolor": "white",
          "plot_bgcolor": "#E5ECF6",
          "polar": {
           "angularaxis": {
            "gridcolor": "white",
            "linecolor": "white",
            "ticks": ""
           },
           "bgcolor": "#E5ECF6",
           "radialaxis": {
            "gridcolor": "white",
            "linecolor": "white",
            "ticks": ""
           }
          },
          "scene": {
           "xaxis": {
            "backgroundcolor": "#E5ECF6",
            "gridcolor": "white",
            "gridwidth": 2,
            "linecolor": "white",
            "showbackground": true,
            "ticks": "",
            "zerolinecolor": "white"
           },
           "yaxis": {
            "backgroundcolor": "#E5ECF6",
            "gridcolor": "white",
            "gridwidth": 2,
            "linecolor": "white",
            "showbackground": true,
            "ticks": "",
            "zerolinecolor": "white"
           },
           "zaxis": {
            "backgroundcolor": "#E5ECF6",
            "gridcolor": "white",
            "gridwidth": 2,
            "linecolor": "white",
            "showbackground": true,
            "ticks": "",
            "zerolinecolor": "white"
           }
          },
          "shapedefaults": {
           "line": {
            "color": "#2a3f5f"
           }
          },
          "ternary": {
           "aaxis": {
            "gridcolor": "white",
            "linecolor": "white",
            "ticks": ""
           },
           "baxis": {
            "gridcolor": "white",
            "linecolor": "white",
            "ticks": ""
           },
           "bgcolor": "#E5ECF6",
           "caxis": {
            "gridcolor": "white",
            "linecolor": "white",
            "ticks": ""
           }
          },
          "title": {
           "x": 0.05
          },
          "xaxis": {
           "automargin": true,
           "gridcolor": "white",
           "linecolor": "white",
           "ticks": "",
           "title": {
            "standoff": 15
           },
           "zerolinecolor": "white",
           "zerolinewidth": 2
          },
          "yaxis": {
           "automargin": true,
           "gridcolor": "white",
           "linecolor": "white",
           "ticks": "",
           "title": {
            "standoff": 15
           },
           "zerolinecolor": "white",
           "zerolinewidth": 2
          }
         }
        },
        "title": {
         "font": {
          "color": "#4D5663"
         }
        },
        "xaxis": {
         "gridcolor": "#E1E5ED",
         "showgrid": true,
         "tickfont": {
          "color": "#4D5663"
         },
         "title": {
          "font": {
           "color": "#4D5663"
          },
          "text": ""
         },
         "zerolinecolor": "#E1E5ED"
        },
        "yaxis": {
         "gridcolor": "#E1E5ED",
         "showgrid": true,
         "tickfont": {
          "color": "#4D5663"
         },
         "title": {
          "font": {
           "color": "#4D5663"
          },
          "text": ""
         },
         "zerolinecolor": "#E1E5ED"
        }
       }
      },
      "text/html": [
       "<div>                            <div id=\"9cb92f4b-1752-46f0-806f-9198b33f2333\" class=\"plotly-graph-div\" style=\"height:525px; width:100%;\"></div>            <script type=\"text/javascript\">                require([\"plotly\"], function(Plotly) {                    window.PLOTLYENV=window.PLOTLYENV || {};\n",
       "                    window.PLOTLYENV.BASE_URL='https://plot.ly';                                    if (document.getElementById(\"9cb92f4b-1752-46f0-806f-9198b33f2333\")) {                    Plotly.newPlot(                        \"9cb92f4b-1752-46f0-806f-9198b33f2333\",                        [{\"line\": {\"color\": \"rgba(255, 153, 51, 1.0)\", \"dash\": \"solid\", \"shape\": \"linear\", \"width\": 1.3}, \"mode\": \"lines\", \"name\": \"Close\", \"text\": \"\", \"type\": \"scatter\", \"x\": [30, 31, 32, 33, 34, 35, 36, 37, 38, 39, 40, 41, 42, 43, 44, 45, 46, 47, 48, 49, 50, 51, 52, 53, 54, 55, 56, 57, 58, 59, 60, 61, 62, 63, 64, 65, 66, 67, 68, 69, 70, 71, 72, 73, 74, 75, 76, 77, 78, 79], \"y\": [202.88, 203.92, 208.04, 208.35, 207.07, 213.67, 214.32, 212.83, 208.25, 210.7, 206.26, 204.7, 203.51, 198.44, 196.33, 200.34, 197.84, 201.91, 200.57, 195.15, 196.32, 194.24, 193.57, 188.94, 187.74, 186.27, 196.84, 189.8, 188.36, 187.2, 182.92, 185.36, 184.91, 182.83, 183.25, 181.4, 181.81, 181.57, 183.51, 183.43, 185.66, 183.63, 184.91, 183.16, 180.53, 179.75, 182.51, 186.74, 184.68, 183.6]}, {\"line\": {\"color\": \"rgba(55, 128, 191, 1.0)\", \"dash\": \"solid\", \"shape\": \"linear\", \"width\": 1.3}, \"mode\": \"lines\", \"name\": \"SMA(3)\", \"text\": \"\", \"type\": \"scatter\", \"x\": [30, 31, 32, 33, 34, 35, 36, 37, 38, 39, 40, 41, 42, 43, 44, 45, 46, 47, 48, 49, 50, 51, 52, 53, 54, 55, 56, 57, 58, 59, 60, 61, 62, 63, 64, 65, 66, 67, 68, 69, 70, 71, 72, 73, 74, 75, 76, 77, 78, 79], \"y\": [\"\", \"\", 204.94666666666663, 206.76999999999998, 207.81999999999996, 209.69666666666663, 211.6866666666666, 213.60666666666665, 211.79999999999998, 210.59333333333333, 208.4033333333333, 207.21999999999994, 204.82333333333327, 202.2166666666666, 199.42666666666665, 198.37, 198.17, 200.02999999999997, 200.1066666666666, 199.20999999999992, 197.3466666666666, 195.2366666666666, 194.70999999999992, 192.24999999999991, 190.08333333333326, 187.64999999999995, 190.2833333333333, 190.96999999999994, 191.66666666666663, 188.45333333333326, 186.15999999999994, 185.15999999999994, 184.39666666666662, 184.36666666666665, 183.6633333333333, 182.4933333333333, 182.1533333333333, 181.59333333333333, 182.29666666666665, 182.83666666666667, 184.19999999999996, 184.23999999999998, 184.73333333333326, 183.89999999999995, 182.8666666666666, 181.14666666666662, 180.92999999999995, 182.99999999999997, 184.6433333333333, 185.00666666666663]}, {\"line\": {\"color\": \"rgba(55, 128, 191, 0.8999999999999999)\", \"dash\": \"solid\", \"shape\": \"linear\", \"width\": 1.3}, \"mode\": \"lines\", \"name\": \"SMA(7)\", \"text\": \"\", \"type\": \"scatter\", \"x\": [30, 31, 32, 33, 34, 35, 36, 37, 38, 39, 40, 41, 42, 43, 44, 45, 46, 47, 48, 49, 50, 51, 52, 53, 54, 55, 56, 57, 58, 59, 60, 61, 62, 63, 64, 65, 66, 67, 68, 69, 70, 71, 72, 73, 74, 75, 76, 77, 78, 79], \"y\": [\"\", \"\", \"\", \"\", \"\", \"\", 208.32142857142858, 209.7428571428571, 210.36142857142855, 210.74142857142854, 210.44285714285712, 210.1042857142857, 208.65285714285713, 206.3842857142857, 204.02714285714288, 202.89714285714285, 201.05999999999997, 200.4385714285714, 199.8485714285714, 198.6542857142857, 198.35142857142856, 198.05285714285714, 197.08571428571426, 195.81428571428572, 193.79, 191.74714285714285, 191.98857142857142, 191.05714285714285, 190.21714285714282, 189.30714285714285, 188.44714285714284, 188.10714285714283, 187.91285714285712, 185.91142857142856, 184.97571428571428, 183.98142857142855, 183.21142857142854, 183.0185714285714, 182.7542857142857, 182.54285714285712, 182.94714285714284, 183.00142857142853, 183.5028571428571, 183.69571428571427, 183.54714285714286, 183.01, 182.8785714285714, 183.03285714285713, 183.1828571428571, 182.99571428571423]}],                        {\"legend\": {\"bgcolor\": \"#F5F6F9\", \"font\": {\"color\": \"#4D5663\"}}, \"paper_bgcolor\": \"#F5F6F9\", \"plot_bgcolor\": \"#F5F6F9\", \"template\": {\"data\": {\"bar\": [{\"error_x\": {\"color\": \"#2a3f5f\"}, \"error_y\": {\"color\": \"#2a3f5f\"}, \"marker\": {\"line\": {\"color\": \"#E5ECF6\", \"width\": 0.5}}, \"type\": \"bar\"}], \"barpolar\": [{\"marker\": {\"line\": {\"color\": \"#E5ECF6\", \"width\": 0.5}}, \"type\": \"barpolar\"}], \"carpet\": [{\"aaxis\": {\"endlinecolor\": \"#2a3f5f\", \"gridcolor\": \"white\", \"linecolor\": \"white\", \"minorgridcolor\": \"white\", \"startlinecolor\": \"#2a3f5f\"}, \"baxis\": {\"endlinecolor\": \"#2a3f5f\", \"gridcolor\": \"white\", \"linecolor\": \"white\", \"minorgridcolor\": \"white\", \"startlinecolor\": \"#2a3f5f\"}, \"type\": \"carpet\"}], \"choropleth\": [{\"colorbar\": {\"outlinewidth\": 0, \"ticks\": \"\"}, \"type\": \"choropleth\"}], \"contour\": [{\"colorbar\": {\"outlinewidth\": 0, \"ticks\": \"\"}, \"colorscale\": [[0.0, \"#0d0887\"], [0.1111111111111111, \"#46039f\"], [0.2222222222222222, \"#7201a8\"], [0.3333333333333333, \"#9c179e\"], [0.4444444444444444, \"#bd3786\"], [0.5555555555555556, \"#d8576b\"], [0.6666666666666666, \"#ed7953\"], [0.7777777777777778, \"#fb9f3a\"], [0.8888888888888888, \"#fdca26\"], [1.0, \"#f0f921\"]], \"type\": \"contour\"}], \"contourcarpet\": [{\"colorbar\": {\"outlinewidth\": 0, \"ticks\": \"\"}, \"type\": \"contourcarpet\"}], \"heatmap\": [{\"colorbar\": {\"outlinewidth\": 0, \"ticks\": \"\"}, \"colorscale\": [[0.0, \"#0d0887\"], [0.1111111111111111, \"#46039f\"], [0.2222222222222222, \"#7201a8\"], [0.3333333333333333, \"#9c179e\"], [0.4444444444444444, \"#bd3786\"], [0.5555555555555556, \"#d8576b\"], [0.6666666666666666, \"#ed7953\"], [0.7777777777777778, \"#fb9f3a\"], [0.8888888888888888, \"#fdca26\"], [1.0, \"#f0f921\"]], \"type\": \"heatmap\"}], \"heatmapgl\": [{\"colorbar\": {\"outlinewidth\": 0, \"ticks\": \"\"}, \"colorscale\": [[0.0, \"#0d0887\"], [0.1111111111111111, \"#46039f\"], [0.2222222222222222, \"#7201a8\"], [0.3333333333333333, \"#9c179e\"], [0.4444444444444444, \"#bd3786\"], [0.5555555555555556, \"#d8576b\"], [0.6666666666666666, \"#ed7953\"], [0.7777777777777778, \"#fb9f3a\"], [0.8888888888888888, \"#fdca26\"], [1.0, \"#f0f921\"]], \"type\": \"heatmapgl\"}], \"histogram\": [{\"marker\": {\"colorbar\": {\"outlinewidth\": 0, \"ticks\": \"\"}}, \"type\": \"histogram\"}], \"histogram2d\": [{\"colorbar\": {\"outlinewidth\": 0, \"ticks\": \"\"}, \"colorscale\": [[0.0, \"#0d0887\"], [0.1111111111111111, \"#46039f\"], [0.2222222222222222, \"#7201a8\"], [0.3333333333333333, \"#9c179e\"], [0.4444444444444444, \"#bd3786\"], [0.5555555555555556, \"#d8576b\"], [0.6666666666666666, \"#ed7953\"], [0.7777777777777778, \"#fb9f3a\"], [0.8888888888888888, \"#fdca26\"], [1.0, \"#f0f921\"]], \"type\": \"histogram2d\"}], \"histogram2dcontour\": [{\"colorbar\": {\"outlinewidth\": 0, \"ticks\": \"\"}, \"colorscale\": [[0.0, \"#0d0887\"], [0.1111111111111111, \"#46039f\"], [0.2222222222222222, \"#7201a8\"], [0.3333333333333333, \"#9c179e\"], [0.4444444444444444, \"#bd3786\"], [0.5555555555555556, \"#d8576b\"], [0.6666666666666666, \"#ed7953\"], [0.7777777777777778, \"#fb9f3a\"], [0.8888888888888888, \"#fdca26\"], [1.0, \"#f0f921\"]], \"type\": \"histogram2dcontour\"}], \"mesh3d\": [{\"colorbar\": {\"outlinewidth\": 0, \"ticks\": \"\"}, \"type\": \"mesh3d\"}], \"parcoords\": [{\"line\": {\"colorbar\": {\"outlinewidth\": 0, \"ticks\": \"\"}}, \"type\": \"parcoords\"}], \"pie\": [{\"automargin\": true, \"type\": \"pie\"}], \"scatter\": [{\"marker\": {\"colorbar\": {\"outlinewidth\": 0, \"ticks\": \"\"}}, \"type\": \"scatter\"}], \"scatter3d\": [{\"line\": {\"colorbar\": {\"outlinewidth\": 0, \"ticks\": \"\"}}, \"marker\": {\"colorbar\": {\"outlinewidth\": 0, \"ticks\": \"\"}}, \"type\": \"scatter3d\"}], \"scattercarpet\": [{\"marker\": {\"colorbar\": {\"outlinewidth\": 0, \"ticks\": \"\"}}, \"type\": \"scattercarpet\"}], \"scattergeo\": [{\"marker\": {\"colorbar\": {\"outlinewidth\": 0, \"ticks\": \"\"}}, \"type\": \"scattergeo\"}], \"scattergl\": [{\"marker\": {\"colorbar\": {\"outlinewidth\": 0, \"ticks\": \"\"}}, \"type\": \"scattergl\"}], \"scattermapbox\": [{\"marker\": {\"colorbar\": {\"outlinewidth\": 0, \"ticks\": \"\"}}, \"type\": \"scattermapbox\"}], \"scatterpolar\": [{\"marker\": {\"colorbar\": {\"outlinewidth\": 0, \"ticks\": \"\"}}, \"type\": \"scatterpolar\"}], \"scatterpolargl\": [{\"marker\": {\"colorbar\": {\"outlinewidth\": 0, \"ticks\": \"\"}}, \"type\": \"scatterpolargl\"}], \"scatterternary\": [{\"marker\": {\"colorbar\": {\"outlinewidth\": 0, \"ticks\": \"\"}}, \"type\": \"scatterternary\"}], \"surface\": [{\"colorbar\": {\"outlinewidth\": 0, \"ticks\": \"\"}, \"colorscale\": [[0.0, \"#0d0887\"], [0.1111111111111111, \"#46039f\"], [0.2222222222222222, \"#7201a8\"], [0.3333333333333333, \"#9c179e\"], [0.4444444444444444, \"#bd3786\"], [0.5555555555555556, \"#d8576b\"], [0.6666666666666666, \"#ed7953\"], [0.7777777777777778, \"#fb9f3a\"], [0.8888888888888888, \"#fdca26\"], [1.0, \"#f0f921\"]], \"type\": \"surface\"}], \"table\": [{\"cells\": {\"fill\": {\"color\": \"#EBF0F8\"}, \"line\": {\"color\": \"white\"}}, \"header\": {\"fill\": {\"color\": \"#C8D4E3\"}, \"line\": {\"color\": \"white\"}}, \"type\": \"table\"}]}, \"layout\": {\"annotationdefaults\": {\"arrowcolor\": \"#2a3f5f\", \"arrowhead\": 0, \"arrowwidth\": 1}, \"coloraxis\": {\"colorbar\": {\"outlinewidth\": 0, \"ticks\": \"\"}}, \"colorscale\": {\"diverging\": [[0, \"#8e0152\"], [0.1, \"#c51b7d\"], [0.2, \"#de77ae\"], [0.3, \"#f1b6da\"], [0.4, \"#fde0ef\"], [0.5, \"#f7f7f7\"], [0.6, \"#e6f5d0\"], [0.7, \"#b8e186\"], [0.8, \"#7fbc41\"], [0.9, \"#4d9221\"], [1, \"#276419\"]], \"sequential\": [[0.0, \"#0d0887\"], [0.1111111111111111, \"#46039f\"], [0.2222222222222222, \"#7201a8\"], [0.3333333333333333, \"#9c179e\"], [0.4444444444444444, \"#bd3786\"], [0.5555555555555556, \"#d8576b\"], [0.6666666666666666, \"#ed7953\"], [0.7777777777777778, \"#fb9f3a\"], [0.8888888888888888, \"#fdca26\"], [1.0, \"#f0f921\"]], \"sequentialminus\": [[0.0, \"#0d0887\"], [0.1111111111111111, \"#46039f\"], [0.2222222222222222, \"#7201a8\"], [0.3333333333333333, \"#9c179e\"], [0.4444444444444444, \"#bd3786\"], [0.5555555555555556, \"#d8576b\"], [0.6666666666666666, \"#ed7953\"], [0.7777777777777778, \"#fb9f3a\"], [0.8888888888888888, \"#fdca26\"], [1.0, \"#f0f921\"]]}, \"colorway\": [\"#636efa\", \"#EF553B\", \"#00cc96\", \"#ab63fa\", \"#FFA15A\", \"#19d3f3\", \"#FF6692\", \"#B6E880\", \"#FF97FF\", \"#FECB52\"], \"font\": {\"color\": \"#2a3f5f\"}, \"geo\": {\"bgcolor\": \"white\", \"lakecolor\": \"white\", \"landcolor\": \"#E5ECF6\", \"showlakes\": true, \"showland\": true, \"subunitcolor\": \"white\"}, \"hoverlabel\": {\"align\": \"left\"}, \"hovermode\": \"closest\", \"mapbox\": {\"style\": \"light\"}, \"paper_bgcolor\": \"white\", \"plot_bgcolor\": \"#E5ECF6\", \"polar\": {\"angularaxis\": {\"gridcolor\": \"white\", \"linecolor\": \"white\", \"ticks\": \"\"}, \"bgcolor\": \"#E5ECF6\", \"radialaxis\": {\"gridcolor\": \"white\", \"linecolor\": \"white\", \"ticks\": \"\"}}, \"scene\": {\"xaxis\": {\"backgroundcolor\": \"#E5ECF6\", \"gridcolor\": \"white\", \"gridwidth\": 2, \"linecolor\": \"white\", \"showbackground\": true, \"ticks\": \"\", \"zerolinecolor\": \"white\"}, \"yaxis\": {\"backgroundcolor\": \"#E5ECF6\", \"gridcolor\": \"white\", \"gridwidth\": 2, \"linecolor\": \"white\", \"showbackground\": true, \"ticks\": \"\", \"zerolinecolor\": \"white\"}, \"zaxis\": {\"backgroundcolor\": \"#E5ECF6\", \"gridcolor\": \"white\", \"gridwidth\": 2, \"linecolor\": \"white\", \"showbackground\": true, \"ticks\": \"\", \"zerolinecolor\": \"white\"}}, \"shapedefaults\": {\"line\": {\"color\": \"#2a3f5f\"}}, \"ternary\": {\"aaxis\": {\"gridcolor\": \"white\", \"linecolor\": \"white\", \"ticks\": \"\"}, \"baxis\": {\"gridcolor\": \"white\", \"linecolor\": \"white\", \"ticks\": \"\"}, \"bgcolor\": \"#E5ECF6\", \"caxis\": {\"gridcolor\": \"white\", \"linecolor\": \"white\", \"ticks\": \"\"}}, \"title\": {\"x\": 0.05}, \"xaxis\": {\"automargin\": true, \"gridcolor\": \"white\", \"linecolor\": \"white\", \"ticks\": \"\", \"title\": {\"standoff\": 15}, \"zerolinecolor\": \"white\", \"zerolinewidth\": 2}, \"yaxis\": {\"automargin\": true, \"gridcolor\": \"white\", \"linecolor\": \"white\", \"ticks\": \"\", \"title\": {\"standoff\": 15}, \"zerolinecolor\": \"white\", \"zerolinewidth\": 2}}}, \"title\": {\"font\": {\"color\": \"#4D5663\"}}, \"xaxis\": {\"gridcolor\": \"#E1E5ED\", \"showgrid\": true, \"tickfont\": {\"color\": \"#4D5663\"}, \"title\": {\"font\": {\"color\": \"#4D5663\"}, \"text\": \"\"}, \"zerolinecolor\": \"#E1E5ED\"}, \"yaxis\": {\"gridcolor\": \"#E1E5ED\", \"showgrid\": true, \"tickfont\": {\"color\": \"#4D5663\"}, \"title\": {\"font\": {\"color\": \"#4D5663\"}, \"text\": \"\"}, \"zerolinecolor\": \"#E1E5ED\"}},                        {\"showLink\": true, \"linkText\": \"Export to plot.ly\", \"plotlyServerURL\": \"https://plot.ly\", \"responsive\": true}                    ).then(function(){\n",
       "                            \n",
       "var gd = document.getElementById('9cb92f4b-1752-46f0-806f-9198b33f2333');\n",
       "var x = new MutationObserver(function (mutations, observer) {{\n",
       "        var display = window.getComputedStyle(gd).display;\n",
       "        if (!display || display === 'none') {{\n",
       "            console.log([gd, 'removed!']);\n",
       "            Plotly.purge(gd);\n",
       "            observer.disconnect();\n",
       "        }}\n",
       "}});\n",
       "\n",
       "// Listen for the removal of the full notebook cells\n",
       "var notebookContainer = gd.closest('#notebook-container');\n",
       "if (notebookContainer) {{\n",
       "    x.observe(notebookContainer, {childList: true});\n",
       "}}\n",
       "\n",
       "// Listen for the clearing of the current output cell\n",
       "var outputEl = gd.closest('.output');\n",
       "if (outputEl) {{\n",
       "    x.observe(outputEl, {childList: true});\n",
       "}}\n",
       "\n",
       "                        })                };                });            </script>        </div>"
      ]
     },
     "metadata": {},
     "output_type": "display_data"
    },
    {
     "data": {
      "application/vnd.plotly.v1+json": {
       "config": {
        "linkText": "Export to plot.ly",
        "plotlyServerURL": "https://plot.ly",
        "showLink": true
       },
       "data": [
        {
         "line": {
          "color": "rgba(255, 153, 51, 1.0)",
          "dash": "solid",
          "shape": "linear",
          "width": 1.3
         },
         "mode": "lines",
         "name": "Close",
         "text": "",
         "type": "scatter",
         "x": [
          30,
          31,
          32,
          33,
          34,
          35,
          36,
          37,
          38,
          39,
          40,
          41,
          42,
          43,
          44,
          45,
          46,
          47,
          48,
          49,
          50,
          51,
          52,
          53,
          54,
          55,
          56,
          57,
          58,
          59,
          60,
          61,
          62,
          63,
          64,
          65,
          66,
          67,
          68,
          69,
          70,
          71,
          72,
          73,
          74,
          75,
          76,
          77,
          78,
          79
         ],
         "y": [
          1500.84,
          1500.64,
          1546.01,
          1516.8,
          1497.06,
          1544.65,
          1394.28,
          1365.88,
          1389.86,
          1371.58,
          1208.66,
          1119.63,
          1079.81,
          1009.35,
          959.74,
          985.98,
          960.85,
          1001.78,
          994.32,
          1000.9,
          1003.96,
          991.79,
          982.13,
          990.9,
          935.28,
          972.84,
          1025.05,
          940.67,
          949.92,
          885.66,
          864.38,
          882.96,
          881.56,
          898.1,
          835,
          805.81,
          820.23,
          818.87,
          816.88,
          827.6,
          815.56,
          808.01,
          813.63,
          799.17,
          803.33,
          790.96,
          809.41,
          811.29,
          819.42,
          780.04
         ]
        },
        {
         "line": {
          "color": "rgba(55, 128, 191, 1.0)",
          "dash": "solid",
          "shape": "linear",
          "width": 1.3
         },
         "mode": "lines",
         "name": "SMA(3)",
         "text": "",
         "type": "scatter",
         "x": [
          30,
          31,
          32,
          33,
          34,
          35,
          36,
          37,
          38,
          39,
          40,
          41,
          42,
          43,
          44,
          45,
          46,
          47,
          48,
          49,
          50,
          51,
          52,
          53,
          54,
          55,
          56,
          57,
          58,
          59,
          60,
          61,
          62,
          63,
          64,
          65,
          66,
          67,
          68,
          69,
          70,
          71,
          72,
          73,
          74,
          75,
          76,
          77,
          78,
          79
         ],
         "y": [
          "",
          "",
          1515.83,
          1521.1499999999999,
          1519.9566666666667,
          1519.5033333333333,
          1478.6633333333332,
          1434.9366666666665,
          1383.3399999999995,
          1375.7733333333329,
          1323.366666666666,
          1233.2899999999997,
          1136.0333333333328,
          1069.5966666666664,
          1016.2999999999996,
          985.023333333333,
          968.8566666666662,
          982.8699999999995,
          985.6499999999996,
          998.9999999999997,
          999.7266666666665,
          998.8833333333331,
          992.6266666666664,
          988.2733333333331,
          969.4366666666665,
          966.3399999999998,
          977.7233333333332,
          979.5199999999999,
          971.8799999999998,
          925.4166666666664,
          899.9866666666663,
          877.6666666666664,
          876.2999999999997,
          887.5399999999996,
          871.553333333333,
          846.303333333333,
          820.3466666666664,
          814.9699999999997,
          818.6599999999997,
          821.1166666666663,
          820.013333333333,
          817.0566666666664,
          812.3999999999997,
          806.9366666666665,
          805.3766666666664,
          797.8199999999997,
          801.233333333333,
          803.8866666666663,
          813.373333333333,
          803.583333333333
         ]
        },
        {
         "line": {
          "color": "rgba(55, 128, 191, 0.8999999999999999)",
          "dash": "solid",
          "shape": "linear",
          "width": 1.3
         },
         "mode": "lines",
         "name": "SMA(7)",
         "text": "",
         "type": "scatter",
         "x": [
          30,
          31,
          32,
          33,
          34,
          35,
          36,
          37,
          38,
          39,
          40,
          41,
          42,
          43,
          44,
          45,
          46,
          47,
          48,
          49,
          50,
          51,
          52,
          53,
          54,
          55,
          56,
          57,
          58,
          59,
          60,
          61,
          62,
          63,
          64,
          65,
          66,
          67,
          68,
          69,
          70,
          71,
          72,
          73,
          74,
          75,
          76,
          77,
          78,
          79
         ],
         "y": [
          "",
          "",
          "",
          "",
          "",
          "",
          1500.0400000000002,
          1480.76,
          1464.9342857142858,
          1440.0157142857145,
          1395.9957142857145,
          1342.0771428571431,
          1275.671428571429,
          1220.6814285714288,
          1162.6614285714288,
          1104.964285714286,
          1046.2885714285717,
          1016.7342857142861,
          998.8328571428575,
          987.5600000000003,
          986.7900000000002,
          991.3685714285717,
          990.8185714285717,
          995.1114285714286,
          985.6114285714286,
          982.5428571428573,
          985.9928571428574,
          976.9514285714288,
          970.9700000000003,
          957.1885714285717,
          939.114285714286,
          931.6400000000003,
          918.6000000000004,
          900.4642857142861,
          885.3685714285718,
          864.781428571429,
          855.4342857142861,
          848.9328571428575,
          839.4928571428575,
          831.7842857142862,
          819.9928571428575,
          816.1371428571432,
          817.2542857142861,
          814.2457142857147,
          812.0257142857147,
          808.3228571428575,
          805.7242857142861,
          805.1142857142861,
          806.7442857142861,
          801.9457142857146
         ]
        }
       ],
       "layout": {
        "legend": {
         "bgcolor": "#F5F6F9",
         "font": {
          "color": "#4D5663"
         }
        },
        "paper_bgcolor": "#F5F6F9",
        "plot_bgcolor": "#F5F6F9",
        "template": {
         "data": {
          "bar": [
           {
            "error_x": {
             "color": "#2a3f5f"
            },
            "error_y": {
             "color": "#2a3f5f"
            },
            "marker": {
             "line": {
              "color": "#E5ECF6",
              "width": 0.5
             }
            },
            "type": "bar"
           }
          ],
          "barpolar": [
           {
            "marker": {
             "line": {
              "color": "#E5ECF6",
              "width": 0.5
             }
            },
            "type": "barpolar"
           }
          ],
          "carpet": [
           {
            "aaxis": {
             "endlinecolor": "#2a3f5f",
             "gridcolor": "white",
             "linecolor": "white",
             "minorgridcolor": "white",
             "startlinecolor": "#2a3f5f"
            },
            "baxis": {
             "endlinecolor": "#2a3f5f",
             "gridcolor": "white",
             "linecolor": "white",
             "minorgridcolor": "white",
             "startlinecolor": "#2a3f5f"
            },
            "type": "carpet"
           }
          ],
          "choropleth": [
           {
            "colorbar": {
             "outlinewidth": 0,
             "ticks": ""
            },
            "type": "choropleth"
           }
          ],
          "contour": [
           {
            "colorbar": {
             "outlinewidth": 0,
             "ticks": ""
            },
            "colorscale": [
             [
              0,
              "#0d0887"
             ],
             [
              0.1111111111111111,
              "#46039f"
             ],
             [
              0.2222222222222222,
              "#7201a8"
             ],
             [
              0.3333333333333333,
              "#9c179e"
             ],
             [
              0.4444444444444444,
              "#bd3786"
             ],
             [
              0.5555555555555556,
              "#d8576b"
             ],
             [
              0.6666666666666666,
              "#ed7953"
             ],
             [
              0.7777777777777778,
              "#fb9f3a"
             ],
             [
              0.8888888888888888,
              "#fdca26"
             ],
             [
              1,
              "#f0f921"
             ]
            ],
            "type": "contour"
           }
          ],
          "contourcarpet": [
           {
            "colorbar": {
             "outlinewidth": 0,
             "ticks": ""
            },
            "type": "contourcarpet"
           }
          ],
          "heatmap": [
           {
            "colorbar": {
             "outlinewidth": 0,
             "ticks": ""
            },
            "colorscale": [
             [
              0,
              "#0d0887"
             ],
             [
              0.1111111111111111,
              "#46039f"
             ],
             [
              0.2222222222222222,
              "#7201a8"
             ],
             [
              0.3333333333333333,
              "#9c179e"
             ],
             [
              0.4444444444444444,
              "#bd3786"
             ],
             [
              0.5555555555555556,
              "#d8576b"
             ],
             [
              0.6666666666666666,
              "#ed7953"
             ],
             [
              0.7777777777777778,
              "#fb9f3a"
             ],
             [
              0.8888888888888888,
              "#fdca26"
             ],
             [
              1,
              "#f0f921"
             ]
            ],
            "type": "heatmap"
           }
          ],
          "heatmapgl": [
           {
            "colorbar": {
             "outlinewidth": 0,
             "ticks": ""
            },
            "colorscale": [
             [
              0,
              "#0d0887"
             ],
             [
              0.1111111111111111,
              "#46039f"
             ],
             [
              0.2222222222222222,
              "#7201a8"
             ],
             [
              0.3333333333333333,
              "#9c179e"
             ],
             [
              0.4444444444444444,
              "#bd3786"
             ],
             [
              0.5555555555555556,
              "#d8576b"
             ],
             [
              0.6666666666666666,
              "#ed7953"
             ],
             [
              0.7777777777777778,
              "#fb9f3a"
             ],
             [
              0.8888888888888888,
              "#fdca26"
             ],
             [
              1,
              "#f0f921"
             ]
            ],
            "type": "heatmapgl"
           }
          ],
          "histogram": [
           {
            "marker": {
             "colorbar": {
              "outlinewidth": 0,
              "ticks": ""
             }
            },
            "type": "histogram"
           }
          ],
          "histogram2d": [
           {
            "colorbar": {
             "outlinewidth": 0,
             "ticks": ""
            },
            "colorscale": [
             [
              0,
              "#0d0887"
             ],
             [
              0.1111111111111111,
              "#46039f"
             ],
             [
              0.2222222222222222,
              "#7201a8"
             ],
             [
              0.3333333333333333,
              "#9c179e"
             ],
             [
              0.4444444444444444,
              "#bd3786"
             ],
             [
              0.5555555555555556,
              "#d8576b"
             ],
             [
              0.6666666666666666,
              "#ed7953"
             ],
             [
              0.7777777777777778,
              "#fb9f3a"
             ],
             [
              0.8888888888888888,
              "#fdca26"
             ],
             [
              1,
              "#f0f921"
             ]
            ],
            "type": "histogram2d"
           }
          ],
          "histogram2dcontour": [
           {
            "colorbar": {
             "outlinewidth": 0,
             "ticks": ""
            },
            "colorscale": [
             [
              0,
              "#0d0887"
             ],
             [
              0.1111111111111111,
              "#46039f"
             ],
             [
              0.2222222222222222,
              "#7201a8"
             ],
             [
              0.3333333333333333,
              "#9c179e"
             ],
             [
              0.4444444444444444,
              "#bd3786"
             ],
             [
              0.5555555555555556,
              "#d8576b"
             ],
             [
              0.6666666666666666,
              "#ed7953"
             ],
             [
              0.7777777777777778,
              "#fb9f3a"
             ],
             [
              0.8888888888888888,
              "#fdca26"
             ],
             [
              1,
              "#f0f921"
             ]
            ],
            "type": "histogram2dcontour"
           }
          ],
          "mesh3d": [
           {
            "colorbar": {
             "outlinewidth": 0,
             "ticks": ""
            },
            "type": "mesh3d"
           }
          ],
          "parcoords": [
           {
            "line": {
             "colorbar": {
              "outlinewidth": 0,
              "ticks": ""
             }
            },
            "type": "parcoords"
           }
          ],
          "pie": [
           {
            "automargin": true,
            "type": "pie"
           }
          ],
          "scatter": [
           {
            "marker": {
             "colorbar": {
              "outlinewidth": 0,
              "ticks": ""
             }
            },
            "type": "scatter"
           }
          ],
          "scatter3d": [
           {
            "line": {
             "colorbar": {
              "outlinewidth": 0,
              "ticks": ""
             }
            },
            "marker": {
             "colorbar": {
              "outlinewidth": 0,
              "ticks": ""
             }
            },
            "type": "scatter3d"
           }
          ],
          "scattercarpet": [
           {
            "marker": {
             "colorbar": {
              "outlinewidth": 0,
              "ticks": ""
             }
            },
            "type": "scattercarpet"
           }
          ],
          "scattergeo": [
           {
            "marker": {
             "colorbar": {
              "outlinewidth": 0,
              "ticks": ""
             }
            },
            "type": "scattergeo"
           }
          ],
          "scattergl": [
           {
            "marker": {
             "colorbar": {
              "outlinewidth": 0,
              "ticks": ""
             }
            },
            "type": "scattergl"
           }
          ],
          "scattermapbox": [
           {
            "marker": {
             "colorbar": {
              "outlinewidth": 0,
              "ticks": ""
             }
            },
            "type": "scattermapbox"
           }
          ],
          "scatterpolar": [
           {
            "marker": {
             "colorbar": {
              "outlinewidth": 0,
              "ticks": ""
             }
            },
            "type": "scatterpolar"
           }
          ],
          "scatterpolargl": [
           {
            "marker": {
             "colorbar": {
              "outlinewidth": 0,
              "ticks": ""
             }
            },
            "type": "scatterpolargl"
           }
          ],
          "scatterternary": [
           {
            "marker": {
             "colorbar": {
              "outlinewidth": 0,
              "ticks": ""
             }
            },
            "type": "scatterternary"
           }
          ],
          "surface": [
           {
            "colorbar": {
             "outlinewidth": 0,
             "ticks": ""
            },
            "colorscale": [
             [
              0,
              "#0d0887"
             ],
             [
              0.1111111111111111,
              "#46039f"
             ],
             [
              0.2222222222222222,
              "#7201a8"
             ],
             [
              0.3333333333333333,
              "#9c179e"
             ],
             [
              0.4444444444444444,
              "#bd3786"
             ],
             [
              0.5555555555555556,
              "#d8576b"
             ],
             [
              0.6666666666666666,
              "#ed7953"
             ],
             [
              0.7777777777777778,
              "#fb9f3a"
             ],
             [
              0.8888888888888888,
              "#fdca26"
             ],
             [
              1,
              "#f0f921"
             ]
            ],
            "type": "surface"
           }
          ],
          "table": [
           {
            "cells": {
             "fill": {
              "color": "#EBF0F8"
             },
             "line": {
              "color": "white"
             }
            },
            "header": {
             "fill": {
              "color": "#C8D4E3"
             },
             "line": {
              "color": "white"
             }
            },
            "type": "table"
           }
          ]
         },
         "layout": {
          "annotationdefaults": {
           "arrowcolor": "#2a3f5f",
           "arrowhead": 0,
           "arrowwidth": 1
          },
          "coloraxis": {
           "colorbar": {
            "outlinewidth": 0,
            "ticks": ""
           }
          },
          "colorscale": {
           "diverging": [
            [
             0,
             "#8e0152"
            ],
            [
             0.1,
             "#c51b7d"
            ],
            [
             0.2,
             "#de77ae"
            ],
            [
             0.3,
             "#f1b6da"
            ],
            [
             0.4,
             "#fde0ef"
            ],
            [
             0.5,
             "#f7f7f7"
            ],
            [
             0.6,
             "#e6f5d0"
            ],
            [
             0.7,
             "#b8e186"
            ],
            [
             0.8,
             "#7fbc41"
            ],
            [
             0.9,
             "#4d9221"
            ],
            [
             1,
             "#276419"
            ]
           ],
           "sequential": [
            [
             0,
             "#0d0887"
            ],
            [
             0.1111111111111111,
             "#46039f"
            ],
            [
             0.2222222222222222,
             "#7201a8"
            ],
            [
             0.3333333333333333,
             "#9c179e"
            ],
            [
             0.4444444444444444,
             "#bd3786"
            ],
            [
             0.5555555555555556,
             "#d8576b"
            ],
            [
             0.6666666666666666,
             "#ed7953"
            ],
            [
             0.7777777777777778,
             "#fb9f3a"
            ],
            [
             0.8888888888888888,
             "#fdca26"
            ],
            [
             1,
             "#f0f921"
            ]
           ],
           "sequentialminus": [
            [
             0,
             "#0d0887"
            ],
            [
             0.1111111111111111,
             "#46039f"
            ],
            [
             0.2222222222222222,
             "#7201a8"
            ],
            [
             0.3333333333333333,
             "#9c179e"
            ],
            [
             0.4444444444444444,
             "#bd3786"
            ],
            [
             0.5555555555555556,
             "#d8576b"
            ],
            [
             0.6666666666666666,
             "#ed7953"
            ],
            [
             0.7777777777777778,
             "#fb9f3a"
            ],
            [
             0.8888888888888888,
             "#fdca26"
            ],
            [
             1,
             "#f0f921"
            ]
           ]
          },
          "colorway": [
           "#636efa",
           "#EF553B",
           "#00cc96",
           "#ab63fa",
           "#FFA15A",
           "#19d3f3",
           "#FF6692",
           "#B6E880",
           "#FF97FF",
           "#FECB52"
          ],
          "font": {
           "color": "#2a3f5f"
          },
          "geo": {
           "bgcolor": "white",
           "lakecolor": "white",
           "landcolor": "#E5ECF6",
           "showlakes": true,
           "showland": true,
           "subunitcolor": "white"
          },
          "hoverlabel": {
           "align": "left"
          },
          "hovermode": "closest",
          "mapbox": {
           "style": "light"
          },
          "paper_bgcolor": "white",
          "plot_bgcolor": "#E5ECF6",
          "polar": {
           "angularaxis": {
            "gridcolor": "white",
            "linecolor": "white",
            "ticks": ""
           },
           "bgcolor": "#E5ECF6",
           "radialaxis": {
            "gridcolor": "white",
            "linecolor": "white",
            "ticks": ""
           }
          },
          "scene": {
           "xaxis": {
            "backgroundcolor": "#E5ECF6",
            "gridcolor": "white",
            "gridwidth": 2,
            "linecolor": "white",
            "showbackground": true,
            "ticks": "",
            "zerolinecolor": "white"
           },
           "yaxis": {
            "backgroundcolor": "#E5ECF6",
            "gridcolor": "white",
            "gridwidth": 2,
            "linecolor": "white",
            "showbackground": true,
            "ticks": "",
            "zerolinecolor": "white"
           },
           "zaxis": {
            "backgroundcolor": "#E5ECF6",
            "gridcolor": "white",
            "gridwidth": 2,
            "linecolor": "white",
            "showbackground": true,
            "ticks": "",
            "zerolinecolor": "white"
           }
          },
          "shapedefaults": {
           "line": {
            "color": "#2a3f5f"
           }
          },
          "ternary": {
           "aaxis": {
            "gridcolor": "white",
            "linecolor": "white",
            "ticks": ""
           },
           "baxis": {
            "gridcolor": "white",
            "linecolor": "white",
            "ticks": ""
           },
           "bgcolor": "#E5ECF6",
           "caxis": {
            "gridcolor": "white",
            "linecolor": "white",
            "ticks": ""
           }
          },
          "title": {
           "x": 0.05
          },
          "xaxis": {
           "automargin": true,
           "gridcolor": "white",
           "linecolor": "white",
           "ticks": "",
           "title": {
            "standoff": 15
           },
           "zerolinecolor": "white",
           "zerolinewidth": 2
          },
          "yaxis": {
           "automargin": true,
           "gridcolor": "white",
           "linecolor": "white",
           "ticks": "",
           "title": {
            "standoff": 15
           },
           "zerolinecolor": "white",
           "zerolinewidth": 2
          }
         }
        },
        "title": {
         "font": {
          "color": "#4D5663"
         }
        },
        "xaxis": {
         "gridcolor": "#E1E5ED",
         "showgrid": true,
         "tickfont": {
          "color": "#4D5663"
         },
         "title": {
          "font": {
           "color": "#4D5663"
          },
          "text": ""
         },
         "zerolinecolor": "#E1E5ED"
        },
        "yaxis": {
         "gridcolor": "#E1E5ED",
         "showgrid": true,
         "tickfont": {
          "color": "#4D5663"
         },
         "title": {
          "font": {
           "color": "#4D5663"
          },
          "text": ""
         },
         "zerolinecolor": "#E1E5ED"
        }
       }
      },
      "text/html": [
       "<div>                            <div id=\"05cc322f-2d90-4933-94a5-cd959e4ec802\" class=\"plotly-graph-div\" style=\"height:525px; width:100%;\"></div>            <script type=\"text/javascript\">                require([\"plotly\"], function(Plotly) {                    window.PLOTLYENV=window.PLOTLYENV || {};\n",
       "                    window.PLOTLYENV.BASE_URL='https://plot.ly';                                    if (document.getElementById(\"05cc322f-2d90-4933-94a5-cd959e4ec802\")) {                    Plotly.newPlot(                        \"05cc322f-2d90-4933-94a5-cd959e4ec802\",                        [{\"line\": {\"color\": \"rgba(255, 153, 51, 1.0)\", \"dash\": \"solid\", \"shape\": \"linear\", \"width\": 1.3}, \"mode\": \"lines\", \"name\": \"Close\", \"text\": \"\", \"type\": \"scatter\", \"x\": [30, 31, 32, 33, 34, 35, 36, 37, 38, 39, 40, 41, 42, 43, 44, 45, 46, 47, 48, 49, 50, 51, 52, 53, 54, 55, 56, 57, 58, 59, 60, 61, 62, 63, 64, 65, 66, 67, 68, 69, 70, 71, 72, 73, 74, 75, 76, 77, 78, 79], \"y\": [1500.84, 1500.64, 1546.01, 1516.8, 1497.06, 1544.65, 1394.28, 1365.88, 1389.86, 1371.58, 1208.66, 1119.63, 1079.81, 1009.35, 959.74, 985.98, 960.85, 1001.78, 994.32, 1000.9, 1003.96, 991.79, 982.13, 990.9, 935.28, 972.84, 1025.05, 940.67, 949.92, 885.66, 864.38, 882.96, 881.56, 898.1, 835.0, 805.81, 820.23, 818.87, 816.88, 827.6, 815.56, 808.01, 813.63, 799.17, 803.33, 790.96, 809.41, 811.29, 819.42, 780.04]}, {\"line\": {\"color\": \"rgba(55, 128, 191, 1.0)\", \"dash\": \"solid\", \"shape\": \"linear\", \"width\": 1.3}, \"mode\": \"lines\", \"name\": \"SMA(3)\", \"text\": \"\", \"type\": \"scatter\", \"x\": [30, 31, 32, 33, 34, 35, 36, 37, 38, 39, 40, 41, 42, 43, 44, 45, 46, 47, 48, 49, 50, 51, 52, 53, 54, 55, 56, 57, 58, 59, 60, 61, 62, 63, 64, 65, 66, 67, 68, 69, 70, 71, 72, 73, 74, 75, 76, 77, 78, 79], \"y\": [\"\", \"\", 1515.83, 1521.1499999999999, 1519.9566666666667, 1519.5033333333333, 1478.6633333333332, 1434.9366666666665, 1383.3399999999995, 1375.7733333333329, 1323.366666666666, 1233.2899999999997, 1136.0333333333328, 1069.5966666666664, 1016.2999999999996, 985.023333333333, 968.8566666666662, 982.8699999999995, 985.6499999999996, 998.9999999999997, 999.7266666666665, 998.8833333333331, 992.6266666666664, 988.2733333333331, 969.4366666666665, 966.3399999999998, 977.7233333333332, 979.5199999999999, 971.8799999999998, 925.4166666666664, 899.9866666666663, 877.6666666666664, 876.2999999999997, 887.5399999999996, 871.553333333333, 846.303333333333, 820.3466666666664, 814.9699999999997, 818.6599999999997, 821.1166666666663, 820.013333333333, 817.0566666666664, 812.3999999999997, 806.9366666666665, 805.3766666666664, 797.8199999999997, 801.233333333333, 803.8866666666663, 813.373333333333, 803.583333333333]}, {\"line\": {\"color\": \"rgba(55, 128, 191, 0.8999999999999999)\", \"dash\": \"solid\", \"shape\": \"linear\", \"width\": 1.3}, \"mode\": \"lines\", \"name\": \"SMA(7)\", \"text\": \"\", \"type\": \"scatter\", \"x\": [30, 31, 32, 33, 34, 35, 36, 37, 38, 39, 40, 41, 42, 43, 44, 45, 46, 47, 48, 49, 50, 51, 52, 53, 54, 55, 56, 57, 58, 59, 60, 61, 62, 63, 64, 65, 66, 67, 68, 69, 70, 71, 72, 73, 74, 75, 76, 77, 78, 79], \"y\": [\"\", \"\", \"\", \"\", \"\", \"\", 1500.0400000000002, 1480.76, 1464.9342857142858, 1440.0157142857145, 1395.9957142857145, 1342.0771428571431, 1275.671428571429, 1220.6814285714288, 1162.6614285714288, 1104.964285714286, 1046.2885714285717, 1016.7342857142861, 998.8328571428575, 987.5600000000003, 986.7900000000002, 991.3685714285717, 990.8185714285717, 995.1114285714286, 985.6114285714286, 982.5428571428573, 985.9928571428574, 976.9514285714288, 970.9700000000003, 957.1885714285717, 939.114285714286, 931.6400000000003, 918.6000000000004, 900.4642857142861, 885.3685714285718, 864.781428571429, 855.4342857142861, 848.9328571428575, 839.4928571428575, 831.7842857142862, 819.9928571428575, 816.1371428571432, 817.2542857142861, 814.2457142857147, 812.0257142857147, 808.3228571428575, 805.7242857142861, 805.1142857142861, 806.7442857142861, 801.9457142857146]}],                        {\"legend\": {\"bgcolor\": \"#F5F6F9\", \"font\": {\"color\": \"#4D5663\"}}, \"paper_bgcolor\": \"#F5F6F9\", \"plot_bgcolor\": \"#F5F6F9\", \"template\": {\"data\": {\"bar\": [{\"error_x\": {\"color\": \"#2a3f5f\"}, \"error_y\": {\"color\": \"#2a3f5f\"}, \"marker\": {\"line\": {\"color\": \"#E5ECF6\", \"width\": 0.5}}, \"type\": \"bar\"}], \"barpolar\": [{\"marker\": {\"line\": {\"color\": \"#E5ECF6\", \"width\": 0.5}}, \"type\": \"barpolar\"}], \"carpet\": [{\"aaxis\": {\"endlinecolor\": \"#2a3f5f\", \"gridcolor\": \"white\", \"linecolor\": \"white\", \"minorgridcolor\": \"white\", \"startlinecolor\": \"#2a3f5f\"}, \"baxis\": {\"endlinecolor\": \"#2a3f5f\", \"gridcolor\": \"white\", \"linecolor\": \"white\", \"minorgridcolor\": \"white\", \"startlinecolor\": \"#2a3f5f\"}, \"type\": \"carpet\"}], \"choropleth\": [{\"colorbar\": {\"outlinewidth\": 0, \"ticks\": \"\"}, \"type\": \"choropleth\"}], \"contour\": [{\"colorbar\": {\"outlinewidth\": 0, \"ticks\": \"\"}, \"colorscale\": [[0.0, \"#0d0887\"], [0.1111111111111111, \"#46039f\"], [0.2222222222222222, \"#7201a8\"], [0.3333333333333333, \"#9c179e\"], [0.4444444444444444, \"#bd3786\"], [0.5555555555555556, \"#d8576b\"], [0.6666666666666666, \"#ed7953\"], [0.7777777777777778, \"#fb9f3a\"], [0.8888888888888888, \"#fdca26\"], [1.0, \"#f0f921\"]], \"type\": \"contour\"}], \"contourcarpet\": [{\"colorbar\": {\"outlinewidth\": 0, \"ticks\": \"\"}, \"type\": \"contourcarpet\"}], \"heatmap\": [{\"colorbar\": {\"outlinewidth\": 0, \"ticks\": \"\"}, \"colorscale\": [[0.0, \"#0d0887\"], [0.1111111111111111, \"#46039f\"], [0.2222222222222222, \"#7201a8\"], [0.3333333333333333, \"#9c179e\"], [0.4444444444444444, \"#bd3786\"], [0.5555555555555556, \"#d8576b\"], [0.6666666666666666, \"#ed7953\"], [0.7777777777777778, \"#fb9f3a\"], [0.8888888888888888, \"#fdca26\"], [1.0, \"#f0f921\"]], \"type\": \"heatmap\"}], \"heatmapgl\": [{\"colorbar\": {\"outlinewidth\": 0, \"ticks\": \"\"}, \"colorscale\": [[0.0, \"#0d0887\"], [0.1111111111111111, \"#46039f\"], [0.2222222222222222, \"#7201a8\"], [0.3333333333333333, \"#9c179e\"], [0.4444444444444444, \"#bd3786\"], [0.5555555555555556, \"#d8576b\"], [0.6666666666666666, \"#ed7953\"], [0.7777777777777778, \"#fb9f3a\"], [0.8888888888888888, \"#fdca26\"], [1.0, \"#f0f921\"]], \"type\": \"heatmapgl\"}], \"histogram\": [{\"marker\": {\"colorbar\": {\"outlinewidth\": 0, \"ticks\": \"\"}}, \"type\": \"histogram\"}], \"histogram2d\": [{\"colorbar\": {\"outlinewidth\": 0, \"ticks\": \"\"}, \"colorscale\": [[0.0, \"#0d0887\"], [0.1111111111111111, \"#46039f\"], [0.2222222222222222, \"#7201a8\"], [0.3333333333333333, \"#9c179e\"], [0.4444444444444444, \"#bd3786\"], [0.5555555555555556, \"#d8576b\"], [0.6666666666666666, \"#ed7953\"], [0.7777777777777778, \"#fb9f3a\"], [0.8888888888888888, \"#fdca26\"], [1.0, \"#f0f921\"]], \"type\": \"histogram2d\"}], \"histogram2dcontour\": [{\"colorbar\": {\"outlinewidth\": 0, \"ticks\": \"\"}, \"colorscale\": [[0.0, \"#0d0887\"], [0.1111111111111111, \"#46039f\"], [0.2222222222222222, \"#7201a8\"], [0.3333333333333333, \"#9c179e\"], [0.4444444444444444, \"#bd3786\"], [0.5555555555555556, \"#d8576b\"], [0.6666666666666666, \"#ed7953\"], [0.7777777777777778, \"#fb9f3a\"], [0.8888888888888888, \"#fdca26\"], [1.0, \"#f0f921\"]], \"type\": \"histogram2dcontour\"}], \"mesh3d\": [{\"colorbar\": {\"outlinewidth\": 0, \"ticks\": \"\"}, \"type\": \"mesh3d\"}], \"parcoords\": [{\"line\": {\"colorbar\": {\"outlinewidth\": 0, \"ticks\": \"\"}}, \"type\": \"parcoords\"}], \"pie\": [{\"automargin\": true, \"type\": \"pie\"}], \"scatter\": [{\"marker\": {\"colorbar\": {\"outlinewidth\": 0, \"ticks\": \"\"}}, \"type\": \"scatter\"}], \"scatter3d\": [{\"line\": {\"colorbar\": {\"outlinewidth\": 0, \"ticks\": \"\"}}, \"marker\": {\"colorbar\": {\"outlinewidth\": 0, \"ticks\": \"\"}}, \"type\": \"scatter3d\"}], \"scattercarpet\": [{\"marker\": {\"colorbar\": {\"outlinewidth\": 0, \"ticks\": \"\"}}, \"type\": \"scattercarpet\"}], \"scattergeo\": [{\"marker\": {\"colorbar\": {\"outlinewidth\": 0, \"ticks\": \"\"}}, \"type\": \"scattergeo\"}], \"scattergl\": [{\"marker\": {\"colorbar\": {\"outlinewidth\": 0, \"ticks\": \"\"}}, \"type\": \"scattergl\"}], \"scattermapbox\": [{\"marker\": {\"colorbar\": {\"outlinewidth\": 0, \"ticks\": \"\"}}, \"type\": \"scattermapbox\"}], \"scatterpolar\": [{\"marker\": {\"colorbar\": {\"outlinewidth\": 0, \"ticks\": \"\"}}, \"type\": \"scatterpolar\"}], \"scatterpolargl\": [{\"marker\": {\"colorbar\": {\"outlinewidth\": 0, \"ticks\": \"\"}}, \"type\": \"scatterpolargl\"}], \"scatterternary\": [{\"marker\": {\"colorbar\": {\"outlinewidth\": 0, \"ticks\": \"\"}}, \"type\": \"scatterternary\"}], \"surface\": [{\"colorbar\": {\"outlinewidth\": 0, \"ticks\": \"\"}, \"colorscale\": [[0.0, \"#0d0887\"], [0.1111111111111111, \"#46039f\"], [0.2222222222222222, \"#7201a8\"], [0.3333333333333333, \"#9c179e\"], [0.4444444444444444, \"#bd3786\"], [0.5555555555555556, \"#d8576b\"], [0.6666666666666666, \"#ed7953\"], [0.7777777777777778, \"#fb9f3a\"], [0.8888888888888888, \"#fdca26\"], [1.0, \"#f0f921\"]], \"type\": \"surface\"}], \"table\": [{\"cells\": {\"fill\": {\"color\": \"#EBF0F8\"}, \"line\": {\"color\": \"white\"}}, \"header\": {\"fill\": {\"color\": \"#C8D4E3\"}, \"line\": {\"color\": \"white\"}}, \"type\": \"table\"}]}, \"layout\": {\"annotationdefaults\": {\"arrowcolor\": \"#2a3f5f\", \"arrowhead\": 0, \"arrowwidth\": 1}, \"coloraxis\": {\"colorbar\": {\"outlinewidth\": 0, \"ticks\": \"\"}}, \"colorscale\": {\"diverging\": [[0, \"#8e0152\"], [0.1, \"#c51b7d\"], [0.2, \"#de77ae\"], [0.3, \"#f1b6da\"], [0.4, \"#fde0ef\"], [0.5, \"#f7f7f7\"], [0.6, \"#e6f5d0\"], [0.7, \"#b8e186\"], [0.8, \"#7fbc41\"], [0.9, \"#4d9221\"], [1, \"#276419\"]], \"sequential\": [[0.0, \"#0d0887\"], [0.1111111111111111, \"#46039f\"], [0.2222222222222222, \"#7201a8\"], [0.3333333333333333, \"#9c179e\"], [0.4444444444444444, \"#bd3786\"], [0.5555555555555556, \"#d8576b\"], [0.6666666666666666, \"#ed7953\"], [0.7777777777777778, \"#fb9f3a\"], [0.8888888888888888, \"#fdca26\"], [1.0, \"#f0f921\"]], \"sequentialminus\": [[0.0, \"#0d0887\"], [0.1111111111111111, \"#46039f\"], [0.2222222222222222, \"#7201a8\"], [0.3333333333333333, \"#9c179e\"], [0.4444444444444444, \"#bd3786\"], [0.5555555555555556, \"#d8576b\"], [0.6666666666666666, \"#ed7953\"], [0.7777777777777778, \"#fb9f3a\"], [0.8888888888888888, \"#fdca26\"], [1.0, \"#f0f921\"]]}, \"colorway\": [\"#636efa\", \"#EF553B\", \"#00cc96\", \"#ab63fa\", \"#FFA15A\", \"#19d3f3\", \"#FF6692\", \"#B6E880\", \"#FF97FF\", \"#FECB52\"], \"font\": {\"color\": \"#2a3f5f\"}, \"geo\": {\"bgcolor\": \"white\", \"lakecolor\": \"white\", \"landcolor\": \"#E5ECF6\", \"showlakes\": true, \"showland\": true, \"subunitcolor\": \"white\"}, \"hoverlabel\": {\"align\": \"left\"}, \"hovermode\": \"closest\", \"mapbox\": {\"style\": \"light\"}, \"paper_bgcolor\": \"white\", \"plot_bgcolor\": \"#E5ECF6\", \"polar\": {\"angularaxis\": {\"gridcolor\": \"white\", \"linecolor\": \"white\", \"ticks\": \"\"}, \"bgcolor\": \"#E5ECF6\", \"radialaxis\": {\"gridcolor\": \"white\", \"linecolor\": \"white\", \"ticks\": \"\"}}, \"scene\": {\"xaxis\": {\"backgroundcolor\": \"#E5ECF6\", \"gridcolor\": \"white\", \"gridwidth\": 2, \"linecolor\": \"white\", \"showbackground\": true, \"ticks\": \"\", \"zerolinecolor\": \"white\"}, \"yaxis\": {\"backgroundcolor\": \"#E5ECF6\", \"gridcolor\": \"white\", \"gridwidth\": 2, \"linecolor\": \"white\", \"showbackground\": true, \"ticks\": \"\", \"zerolinecolor\": \"white\"}, \"zaxis\": {\"backgroundcolor\": \"#E5ECF6\", \"gridcolor\": \"white\", \"gridwidth\": 2, \"linecolor\": \"white\", \"showbackground\": true, \"ticks\": \"\", \"zerolinecolor\": \"white\"}}, \"shapedefaults\": {\"line\": {\"color\": \"#2a3f5f\"}}, \"ternary\": {\"aaxis\": {\"gridcolor\": \"white\", \"linecolor\": \"white\", \"ticks\": \"\"}, \"baxis\": {\"gridcolor\": \"white\", \"linecolor\": \"white\", \"ticks\": \"\"}, \"bgcolor\": \"#E5ECF6\", \"caxis\": {\"gridcolor\": \"white\", \"linecolor\": \"white\", \"ticks\": \"\"}}, \"title\": {\"x\": 0.05}, \"xaxis\": {\"automargin\": true, \"gridcolor\": \"white\", \"linecolor\": \"white\", \"ticks\": \"\", \"title\": {\"standoff\": 15}, \"zerolinecolor\": \"white\", \"zerolinewidth\": 2}, \"yaxis\": {\"automargin\": true, \"gridcolor\": \"white\", \"linecolor\": \"white\", \"ticks\": \"\", \"title\": {\"standoff\": 15}, \"zerolinecolor\": \"white\", \"zerolinewidth\": 2}}}, \"title\": {\"font\": {\"color\": \"#4D5663\"}}, \"xaxis\": {\"gridcolor\": \"#E1E5ED\", \"showgrid\": true, \"tickfont\": {\"color\": \"#4D5663\"}, \"title\": {\"font\": {\"color\": \"#4D5663\"}, \"text\": \"\"}, \"zerolinecolor\": \"#E1E5ED\"}, \"yaxis\": {\"gridcolor\": \"#E1E5ED\", \"showgrid\": true, \"tickfont\": {\"color\": \"#4D5663\"}, \"title\": {\"font\": {\"color\": \"#4D5663\"}, \"text\": \"\"}, \"zerolinecolor\": \"#E1E5ED\"}},                        {\"showLink\": true, \"linkText\": \"Export to plot.ly\", \"plotlyServerURL\": \"https://plot.ly\", \"responsive\": true}                    ).then(function(){\n",
       "                            \n",
       "var gd = document.getElementById('05cc322f-2d90-4933-94a5-cd959e4ec802');\n",
       "var x = new MutationObserver(function (mutations, observer) {{\n",
       "        var display = window.getComputedStyle(gd).display;\n",
       "        if (!display || display === 'none') {{\n",
       "            console.log([gd, 'removed!']);\n",
       "            Plotly.purge(gd);\n",
       "            observer.disconnect();\n",
       "        }}\n",
       "}});\n",
       "\n",
       "// Listen for the removal of the full notebook cells\n",
       "var notebookContainer = gd.closest('#notebook-container');\n",
       "if (notebookContainer) {{\n",
       "    x.observe(notebookContainer, {childList: true});\n",
       "}}\n",
       "\n",
       "// Listen for the clearing of the current output cell\n",
       "var outputEl = gd.closest('.output');\n",
       "if (outputEl) {{\n",
       "    x.observe(outputEl, {childList: true});\n",
       "}}\n",
       "\n",
       "                        })                };                });            </script>        </div>"
      ]
     },
     "metadata": {},
     "output_type": "display_data"
    }
   ],
   "source": [
    "AAPL['Close'].loc['3/18/2020':'8/28/2020'].ta_plot(study='sma',periods=[3,7],title='Simple Moving Averages AAPL')\n",
    "Amazon['Close'].loc['3/18/2020':'8/28/2020'].ta_plot(study='sma',periods=[3,7],title='Simple Moving Averages Amazon')\n",
    "Facebook['Close'].loc['3/18/2020':'8/28/2020'].ta_plot(study='sma',periods=[3,7],title='Simple Moving Averages Facebook')\n",
    "Microsoft['Close'].loc['3/18/2020':'8/28/2020'].ta_plot(study='sma',periods=[3,7],title='Simple Moving Averages Microsoft')\n",
    "Tesla['Close'].loc['3/18/2020':'8/28/2020'].ta_plot(study='sma',periods=[3,7],title='Simple Moving Averages Tesla')"
   ]
  },
  {
   "cell_type": "code",
   "execution_count": 62,
   "metadata": {},
   "outputs": [],
   "source": [
    "dataset = pd.read_csv('C:/Users/Archit singh/Downloads/Stock Data/Capstone/AAPL.csv',index_col=\"Date\",parse_dates=True)"
   ]
  },
  {
   "cell_type": "code",
   "execution_count": 63,
   "metadata": {},
   "outputs": [
    {
     "data": {
      "text/html": [
       "<div>\n",
       "<style scoped>\n",
       "    .dataframe tbody tr th:only-of-type {\n",
       "        vertical-align: middle;\n",
       "    }\n",
       "\n",
       "    .dataframe tbody tr th {\n",
       "        vertical-align: top;\n",
       "    }\n",
       "\n",
       "    .dataframe thead th {\n",
       "        text-align: right;\n",
       "    }\n",
       "</style>\n",
       "<table border=\"1\" class=\"dataframe\">\n",
       "  <thead>\n",
       "    <tr style=\"text-align: right;\">\n",
       "      <th></th>\n",
       "      <th>Close</th>\n",
       "      <th>Volume</th>\n",
       "      <th>Open</th>\n",
       "      <th>High</th>\n",
       "      <th>Low</th>\n",
       "    </tr>\n",
       "    <tr>\n",
       "      <th>Date</th>\n",
       "      <th></th>\n",
       "      <th></th>\n",
       "      <th></th>\n",
       "      <th></th>\n",
       "      <th></th>\n",
       "    </tr>\n",
       "  </thead>\n",
       "  <tbody>\n",
       "    <tr>\n",
       "      <td>2020-08-28</td>\n",
       "      <td>499.23</td>\n",
       "      <td>46907480</td>\n",
       "      <td>504.05</td>\n",
       "      <td>505.77</td>\n",
       "      <td>498.31</td>\n",
       "    </tr>\n",
       "    <tr>\n",
       "      <td>2020-08-27</td>\n",
       "      <td>500.04</td>\n",
       "      <td>38888100</td>\n",
       "      <td>508.57</td>\n",
       "      <td>509.94</td>\n",
       "      <td>495.33</td>\n",
       "    </tr>\n",
       "    <tr>\n",
       "      <td>2020-08-26</td>\n",
       "      <td>506.09</td>\n",
       "      <td>40755570</td>\n",
       "      <td>504.72</td>\n",
       "      <td>507.97</td>\n",
       "      <td>500.33</td>\n",
       "    </tr>\n",
       "    <tr>\n",
       "      <td>2020-08-25</td>\n",
       "      <td>499.30</td>\n",
       "      <td>52873950</td>\n",
       "      <td>498.79</td>\n",
       "      <td>500.72</td>\n",
       "      <td>492.21</td>\n",
       "    </tr>\n",
       "    <tr>\n",
       "      <td>2020-08-24</td>\n",
       "      <td>503.43</td>\n",
       "      <td>86484440</td>\n",
       "      <td>514.79</td>\n",
       "      <td>515.14</td>\n",
       "      <td>495.75</td>\n",
       "    </tr>\n",
       "  </tbody>\n",
       "</table>\n",
       "</div>"
      ],
      "text/plain": [
       "             Close    Volume    Open    High     Low\n",
       "Date                                                \n",
       "2020-08-28  499.23  46907480  504.05  505.77  498.31\n",
       "2020-08-27  500.04  38888100  508.57  509.94  495.33\n",
       "2020-08-26  506.09  40755570  504.72  507.97  500.33\n",
       "2020-08-25  499.30  52873950  498.79  500.72  492.21\n",
       "2020-08-24  503.43  86484440  514.79  515.14  495.75"
      ]
     },
     "execution_count": 63,
     "metadata": {},
     "output_type": "execute_result"
    }
   ],
   "source": [
    "dataset.head()"
   ]
  },
  {
   "cell_type": "code",
   "execution_count": 64,
   "metadata": {},
   "outputs": [
    {
     "data": {
      "text/plain": [
       "<matplotlib.axes._subplots.AxesSubplot at 0x17f62232b48>"
      ]
     },
     "execution_count": 64,
     "metadata": {},
     "output_type": "execute_result"
    },
    {
     "data": {
      "image/png": "[encoded data removed]",
      "text/plain": [
       "<Figure size 1152x432 with 1 Axes>"
      ]
     },
     "metadata": {
      "needs_background": "light"
     },
     "output_type": "display_data"
    }
   ],
   "source": [
    "dataset['Open'].plot(figsize=(16,6))"
   ]
  },
  {
   "cell_type": "code",
   "execution_count": 66,
   "metadata": {},
   "outputs": [],
   "source": [
    "training_set=dataset['Open']\n",
    "training_set=pd.DataFrame(training_set)"
   ]
  },
  {
   "cell_type": "code",
   "execution_count": 67,
   "metadata": {},
   "outputs": [],
   "source": [
    "from sklearn.preprocessing import MinMaxScaler\n",
    "sc = MinMaxScaler(feature_range = (0, 1))\n",
    "training_set_scaled = sc.fit_transform(training_set)"
   ]
  },
  {
   "cell_type": "code",
   "execution_count": 75,
   "metadata": {},
   "outputs": [],
   "source": [
    "X_train = []\n",
    "y_train = []\n",
    "for i in range(6, 117):\n",
    "    X_train.append(training_set_scaled[i-6:i, 0])\n",
    "    y_train.append(training_set_scaled[i, 0])\n",
    "X_train, y_train = np.array(X_train), np.array(y_train)\n",
    "\n",
    "\n",
    "X_train = np.reshape(X_train, (X_train.shape[0], X_train.shape[1], 1))"
   ]
  },
  {
   "cell_type": "code",
   "execution_count": 70,
   "metadata": {},
   "outputs": [],
   "source": [
    "from keras.models import Sequential\n",
    "from keras.layers import Dense\n",
    "from keras.layers import LSTM\n",
    "from keras.layers import Dropout"
   ]
  },
  {
   "cell_type": "code",
   "execution_count": 71,
   "metadata": {},
   "outputs": [],
   "source": [
    "regressor = Sequential()"
   ]
  },
  {
   "cell_type": "code",
   "execution_count": 141,
   "metadata": {},
   "outputs": [
    {
     "ename": "ValueError",
     "evalue": "Input 0 of layer lstm_22 is incompatible with the layer: expected ndim=3, found ndim=2. Full shape received: [None, 1]",
     "output_type": "error",
     "traceback": [
      "\u001b[1;31m---------------------------------------------------------------------------\u001b[0m",
      "\u001b[1;31mValueError\u001b[0m                                Traceback (most recent call last)",
      "\u001b[1;32m<ipython-input-141-4d55bd13c1c0>\u001b[0m in \u001b[0;36m<module>\u001b[1;34m\u001b[0m\n\u001b[1;32m----> 1\u001b[1;33m \u001b[0mregressor\u001b[0m\u001b[1;33m.\u001b[0m\u001b[0madd\u001b[0m\u001b[1;33m(\u001b[0m\u001b[0mLSTM\u001b[0m\u001b[1;33m(\u001b[0m\u001b[1;36m50\u001b[0m\u001b[1;33m,\u001b[0m \u001b[0mreturn_sequences\u001b[0m\u001b[1;33m=\u001b[0m\u001b[1;32mTrue\u001b[0m\u001b[1;33m,\u001b[0m \u001b[0minput_shape\u001b[0m\u001b[1;33m=\u001b[0m \u001b[1;33m(\u001b[0m\u001b[0mX_train\u001b[0m\u001b[1;33m.\u001b[0m\u001b[0mshape\u001b[0m\u001b[1;33m[\u001b[0m\u001b[1;36m1\u001b[0m\u001b[1;33m]\u001b[0m\u001b[1;33m,\u001b[0m \u001b[1;36m1\u001b[0m\u001b[1;33m)\u001b[0m\u001b[1;33m)\u001b[0m\u001b[1;33m)\u001b[0m\u001b[1;33m\u001b[0m\u001b[1;33m\u001b[0m\u001b[0m\n\u001b[0m\u001b[0;32m      2\u001b[0m \u001b[0mregressor\u001b[0m\u001b[1;33m.\u001b[0m\u001b[0madd\u001b[0m\u001b[1;33m(\u001b[0m\u001b[0mLSTM\u001b[0m\u001b[1;33m(\u001b[0m\u001b[1;36m50\u001b[0m\u001b[1;33m,\u001b[0m \u001b[0mreturn_sequences\u001b[0m\u001b[1;33m=\u001b[0m \u001b[1;32mFalse\u001b[0m\u001b[1;33m)\u001b[0m\u001b[1;33m)\u001b[0m\u001b[1;33m\u001b[0m\u001b[1;33m\u001b[0m\u001b[0m\n\u001b[0;32m      3\u001b[0m \u001b[0mregressor\u001b[0m\u001b[1;33m.\u001b[0m\u001b[0madd\u001b[0m\u001b[1;33m(\u001b[0m\u001b[0mDense\u001b[0m\u001b[1;33m(\u001b[0m\u001b[1;36m25\u001b[0m\u001b[1;33m)\u001b[0m\u001b[1;33m)\u001b[0m\u001b[1;33m\u001b[0m\u001b[1;33m\u001b[0m\u001b[0m\n\u001b[0;32m      4\u001b[0m \u001b[0mregressor\u001b[0m\u001b[1;33m.\u001b[0m\u001b[0madd\u001b[0m\u001b[1;33m(\u001b[0m\u001b[0mDense\u001b[0m\u001b[1;33m(\u001b[0m\u001b[1;36m1\u001b[0m\u001b[1;33m)\u001b[0m\u001b[1;33m)\u001b[0m\u001b[1;33m\u001b[0m\u001b[1;33m\u001b[0m\u001b[0m\n\u001b[0;32m      5\u001b[0m \u001b[1;33m\u001b[0m\u001b[0m\n",
      "\u001b[1;32m~\\Anaconda3\\lib\\site-packages\\tensorflow\\python\\training\\tracking\\base.py\u001b[0m in \u001b[0;36m_method_wrapper\u001b[1;34m(self, *args, **kwargs)\u001b[0m\n\u001b[0;32m    455\u001b[0m     \u001b[0mself\u001b[0m\u001b[1;33m.\u001b[0m\u001b[0m_self_setattr_tracking\u001b[0m \u001b[1;33m=\u001b[0m \u001b[1;32mFalse\u001b[0m  \u001b[1;31m# pylint: disable=protected-access\u001b[0m\u001b[1;33m\u001b[0m\u001b[1;33m\u001b[0m\u001b[0m\n\u001b[0;32m    456\u001b[0m     \u001b[1;32mtry\u001b[0m\u001b[1;33m:\u001b[0m\u001b[1;33m\u001b[0m\u001b[1;33m\u001b[0m\u001b[0m\n\u001b[1;32m--> 457\u001b[1;33m       \u001b[0mresult\u001b[0m \u001b[1;33m=\u001b[0m \u001b[0mmethod\u001b[0m\u001b[1;33m(\u001b[0m\u001b[0mself\u001b[0m\u001b[1;33m,\u001b[0m \u001b[1;33m*\u001b[0m\u001b[0margs\u001b[0m\u001b[1;33m,\u001b[0m \u001b[1;33m**\u001b[0m\u001b[0mkwargs\u001b[0m\u001b[1;33m)\u001b[0m\u001b[1;33m\u001b[0m\u001b[1;33m\u001b[0m\u001b[0m\n\u001b[0m\u001b[0;32m    458\u001b[0m     \u001b[1;32mfinally\u001b[0m\u001b[1;33m:\u001b[0m\u001b[1;33m\u001b[0m\u001b[1;33m\u001b[0m\u001b[0m\n\u001b[0;32m    459\u001b[0m       \u001b[0mself\u001b[0m\u001b[1;33m.\u001b[0m\u001b[0m_self_setattr_tracking\u001b[0m \u001b[1;33m=\u001b[0m \u001b[0mprevious_value\u001b[0m  \u001b[1;31m# pylint: disable=protected-access\u001b[0m\u001b[1;33m\u001b[0m\u001b[1;33m\u001b[0m\u001b[0m\n",
      "\u001b[1;32m~\\Anaconda3\\lib\\site-packages\\tensorflow\\python\\keras\\engine\\sequential.py\u001b[0m in \u001b[0;36madd\u001b[1;34m(self, layer)\u001b[0m\n\u001b[0;32m    219\u001b[0m       \u001b[1;31m# If the model is being built continuously on top of an input layer:\u001b[0m\u001b[1;33m\u001b[0m\u001b[1;33m\u001b[0m\u001b[1;33m\u001b[0m\u001b[0m\n\u001b[0;32m    220\u001b[0m       \u001b[1;31m# refresh its output.\u001b[0m\u001b[1;33m\u001b[0m\u001b[1;33m\u001b[0m\u001b[1;33m\u001b[0m\u001b[0m\n\u001b[1;32m--> 221\u001b[1;33m       \u001b[0moutput_tensor\u001b[0m \u001b[1;33m=\u001b[0m \u001b[0mlayer\u001b[0m\u001b[1;33m(\u001b[0m\u001b[0mself\u001b[0m\u001b[1;33m.\u001b[0m\u001b[0moutputs\u001b[0m\u001b[1;33m[\u001b[0m\u001b[1;36m0\u001b[0m\u001b[1;33m]\u001b[0m\u001b[1;33m)\u001b[0m\u001b[1;33m\u001b[0m\u001b[1;33m\u001b[0m\u001b[0m\n\u001b[0m\u001b[0;32m    222\u001b[0m       \u001b[1;32mif\u001b[0m \u001b[0mlen\u001b[0m\u001b[1;33m(\u001b[0m\u001b[0mnest\u001b[0m\u001b[1;33m.\u001b[0m\u001b[0mflatten\u001b[0m\u001b[1;33m(\u001b[0m\u001b[0moutput_tensor\u001b[0m\u001b[1;33m)\u001b[0m\u001b[1;33m)\u001b[0m \u001b[1;33m!=\u001b[0m \u001b[1;36m1\u001b[0m\u001b[1;33m:\u001b[0m\u001b[1;33m\u001b[0m\u001b[1;33m\u001b[0m\u001b[0m\n\u001b[0;32m    223\u001b[0m         \u001b[1;32mraise\u001b[0m \u001b[0mValueError\u001b[0m\u001b[1;33m(\u001b[0m\u001b[0mSINGLE_LAYER_OUTPUT_ERROR_MSG\u001b[0m\u001b[1;33m)\u001b[0m\u001b[1;33m\u001b[0m\u001b[1;33m\u001b[0m\u001b[0m\n",
      "\u001b[1;32m~\\Anaconda3\\lib\\site-packages\\tensorflow\\python\\keras\\layers\\recurrent.py\u001b[0m in \u001b[0;36m__call__\u001b[1;34m(self, inputs, initial_state, constants, **kwargs)\u001b[0m\n\u001b[0;32m    657\u001b[0m \u001b[1;33m\u001b[0m\u001b[0m\n\u001b[0;32m    658\u001b[0m     \u001b[1;32mif\u001b[0m \u001b[0minitial_state\u001b[0m \u001b[1;32mis\u001b[0m \u001b[1;32mNone\u001b[0m \u001b[1;32mand\u001b[0m \u001b[0mconstants\u001b[0m \u001b[1;32mis\u001b[0m \u001b[1;32mNone\u001b[0m\u001b[1;33m:\u001b[0m\u001b[1;33m\u001b[0m\u001b[1;33m\u001b[0m\u001b[0m\n\u001b[1;32m--> 659\u001b[1;33m       \u001b[1;32mreturn\u001b[0m \u001b[0msuper\u001b[0m\u001b[1;33m(\u001b[0m\u001b[0mRNN\u001b[0m\u001b[1;33m,\u001b[0m \u001b[0mself\u001b[0m\u001b[1;33m)\u001b[0m\u001b[1;33m.\u001b[0m\u001b[0m__call__\u001b[0m\u001b[1;33m(\u001b[0m\u001b[0minputs\u001b[0m\u001b[1;33m,\u001b[0m \u001b[1;33m**\u001b[0m\u001b[0mkwargs\u001b[0m\u001b[1;33m)\u001b[0m\u001b[1;33m\u001b[0m\u001b[1;33m\u001b[0m\u001b[0m\n\u001b[0m\u001b[0;32m    660\u001b[0m \u001b[1;33m\u001b[0m\u001b[0m\n\u001b[0;32m    661\u001b[0m     \u001b[1;31m# If any of `initial_state` or `constants` are specified and are Keras\u001b[0m\u001b[1;33m\u001b[0m\u001b[1;33m\u001b[0m\u001b[1;33m\u001b[0m\u001b[0m\n",
      "\u001b[1;32m~\\Anaconda3\\lib\\site-packages\\tensorflow\\python\\keras\\engine\\base_layer.py\u001b[0m in \u001b[0;36m__call__\u001b[1;34m(self, *args, **kwargs)\u001b[0m\n\u001b[0;32m    924\u001b[0m     \u001b[1;32mif\u001b[0m \u001b[0m_in_functional_construction_mode\u001b[0m\u001b[1;33m(\u001b[0m\u001b[0mself\u001b[0m\u001b[1;33m,\u001b[0m \u001b[0minputs\u001b[0m\u001b[1;33m,\u001b[0m \u001b[0margs\u001b[0m\u001b[1;33m,\u001b[0m \u001b[0mkwargs\u001b[0m\u001b[1;33m,\u001b[0m \u001b[0minput_list\u001b[0m\u001b[1;33m)\u001b[0m\u001b[1;33m:\u001b[0m\u001b[1;33m\u001b[0m\u001b[1;33m\u001b[0m\u001b[0m\n\u001b[0;32m    925\u001b[0m       return self._functional_construction_call(inputs, args, kwargs,\n\u001b[1;32m--> 926\u001b[1;33m                                                 input_list)\n\u001b[0m\u001b[0;32m    927\u001b[0m \u001b[1;33m\u001b[0m\u001b[0m\n\u001b[0;32m    928\u001b[0m     \u001b[1;31m# Maintains info about the `Layer.call` stack.\u001b[0m\u001b[1;33m\u001b[0m\u001b[1;33m\u001b[0m\u001b[1;33m\u001b[0m\u001b[0m\n",
      "\u001b[1;32m~\\Anaconda3\\lib\\site-packages\\tensorflow\\python\\keras\\engine\\base_layer.py\u001b[0m in \u001b[0;36m_functional_construction_call\u001b[1;34m(self, inputs, args, kwargs, input_list)\u001b[0m\n\u001b[0;32m   1090\u001b[0m       \u001b[1;31m# TODO(reedwm): We should assert input compatibility after the inputs\u001b[0m\u001b[1;33m\u001b[0m\u001b[1;33m\u001b[0m\u001b[1;33m\u001b[0m\u001b[0m\n\u001b[0;32m   1091\u001b[0m       \u001b[1;31m# are casted, not before.\u001b[0m\u001b[1;33m\u001b[0m\u001b[1;33m\u001b[0m\u001b[1;33m\u001b[0m\u001b[0m\n\u001b[1;32m-> 1092\u001b[1;33m       \u001b[0minput_spec\u001b[0m\u001b[1;33m.\u001b[0m\u001b[0massert_input_compatibility\u001b[0m\u001b[1;33m(\u001b[0m\u001b[0mself\u001b[0m\u001b[1;33m.\u001b[0m\u001b[0minput_spec\u001b[0m\u001b[1;33m,\u001b[0m \u001b[0minputs\u001b[0m\u001b[1;33m,\u001b[0m \u001b[0mself\u001b[0m\u001b[1;33m.\u001b[0m\u001b[0mname\u001b[0m\u001b[1;33m)\u001b[0m\u001b[1;33m\u001b[0m\u001b[1;33m\u001b[0m\u001b[0m\n\u001b[0m\u001b[0;32m   1093\u001b[0m       \u001b[0mgraph\u001b[0m \u001b[1;33m=\u001b[0m \u001b[0mbackend\u001b[0m\u001b[1;33m.\u001b[0m\u001b[0mget_graph\u001b[0m\u001b[1;33m(\u001b[0m\u001b[1;33m)\u001b[0m\u001b[1;33m\u001b[0m\u001b[1;33m\u001b[0m\u001b[0m\n\u001b[0;32m   1094\u001b[0m       \u001b[1;31m# Use `self._name_scope()` to avoid auto-incrementing the name.\u001b[0m\u001b[1;33m\u001b[0m\u001b[1;33m\u001b[0m\u001b[1;33m\u001b[0m\u001b[0m\n",
      "\u001b[1;32m~\\Anaconda3\\lib\\site-packages\\tensorflow\\python\\keras\\engine\\input_spec.py\u001b[0m in \u001b[0;36massert_input_compatibility\u001b[1;34m(input_spec, inputs, layer_name)\u001b[0m\n\u001b[0;32m    178\u001b[0m                          \u001b[1;34m'expected ndim='\u001b[0m \u001b[1;33m+\u001b[0m \u001b[0mstr\u001b[0m\u001b[1;33m(\u001b[0m\u001b[0mspec\u001b[0m\u001b[1;33m.\u001b[0m\u001b[0mndim\u001b[0m\u001b[1;33m)\u001b[0m \u001b[1;33m+\u001b[0m \u001b[1;34m', found ndim='\u001b[0m \u001b[1;33m+\u001b[0m\u001b[1;33m\u001b[0m\u001b[1;33m\u001b[0m\u001b[0m\n\u001b[0;32m    179\u001b[0m                          \u001b[0mstr\u001b[0m\u001b[1;33m(\u001b[0m\u001b[0mndim\u001b[0m\u001b[1;33m)\u001b[0m \u001b[1;33m+\u001b[0m \u001b[1;34m'. Full shape received: '\u001b[0m \u001b[1;33m+\u001b[0m\u001b[1;33m\u001b[0m\u001b[1;33m\u001b[0m\u001b[0m\n\u001b[1;32m--> 180\u001b[1;33m                          str(x.shape.as_list()))\n\u001b[0m\u001b[0;32m    181\u001b[0m     \u001b[1;32mif\u001b[0m \u001b[0mspec\u001b[0m\u001b[1;33m.\u001b[0m\u001b[0mmax_ndim\u001b[0m \u001b[1;32mis\u001b[0m \u001b[1;32mnot\u001b[0m \u001b[1;32mNone\u001b[0m\u001b[1;33m:\u001b[0m\u001b[1;33m\u001b[0m\u001b[1;33m\u001b[0m\u001b[0m\n\u001b[0;32m    182\u001b[0m       \u001b[0mndim\u001b[0m \u001b[1;33m=\u001b[0m \u001b[0mx\u001b[0m\u001b[1;33m.\u001b[0m\u001b[0mshape\u001b[0m\u001b[1;33m.\u001b[0m\u001b[0mndims\u001b[0m\u001b[1;33m\u001b[0m\u001b[1;33m\u001b[0m\u001b[0m\n",
      "\u001b[1;31mValueError\u001b[0m: Input 0 of layer lstm_22 is incompatible with the layer: expected ndim=3, found ndim=2. Full shape received: [None, 1]"
     ]
    }
   ],
   "source": [
    "\n",
    "regressor.add(LSTM(50, return_sequences=True, input_shape= (X_train.shape[1], 1)))\n",
    "regressor.add(LSTM(50, return_sequences= False))\n",
    "regressor.add(Dense(25))\n",
    "regressor.add(Dense(1))\n",
    "\n",
    "# Compile the model\n",
    "regressor.compile(optimizer='adam', loss='mean_squared_error')\n",
    "\n",
    "#Train the model\n",
    "regressor.fit(X_train, y_train, batch_size=1, epochs=1)"
   ]
  },
  {
   "cell_type": "code",
   "execution_count": 129,
   "metadata": {},
   "outputs": [],
   "source": [
    "dataset_test = pd.read_csv('C:/Users/Archit singh/Downloads/Stock Data/Capstone/AAPL - Copy.csv',index_col=\"Date\",parse_dates=True)"
   ]
  },
  {
   "cell_type": "code",
   "execution_count": 130,
   "metadata": {},
   "outputs": [],
   "source": [
    "real_stock_price = dataset_test.iloc[:, 1:2].values"
   ]
  },
  {
   "cell_type": "code",
   "execution_count": 131,
   "metadata": {},
   "outputs": [
    {
     "name": "stdout",
     "output_type": "stream",
     "text": [
      "<class 'pandas.core.frame.DataFrame'>\n",
      "DatetimeIndex: 117 entries, 2020-08-28 to 2020-03-16\n",
      "Data columns (total 5 columns):\n",
      "Close     117 non-null float64\n",
      "Volume    117 non-null int64\n",
      "Open      117 non-null float64\n",
      "High      117 non-null float64\n",
      "Low       117 non-null float64\n",
      "dtypes: float64(4), int64(1)\n",
      "memory usage: 5.5 KB\n"
     ]
    }
   ],
   "source": [
    "dataset_test.info()"
   ]
  },
  {
   "cell_type": "code",
   "execution_count": 132,
   "metadata": {},
   "outputs": [],
   "source": [
    "test_set=dataset_test['Open']\n",
    "test_set=pd.DataFrame(test_set)"
   ]
  },
  {
   "cell_type": "code",
   "execution_count": 117,
   "metadata": {},
   "outputs": [
    {
     "name": "stdout",
     "output_type": "stream",
     "text": [
      "<class 'pandas.core.frame.DataFrame'>\n",
      "DatetimeIndex: 117 entries, 2020-08-28 to 2020-03-16\n",
      "Data columns (total 1 columns):\n",
      "Open    117 non-null float64\n",
      "dtypes: float64(1)\n",
      "memory usage: 1.8 KB\n"
     ]
    }
   ],
   "source": [
    "test_set.info()"
   ]
  },
  {
   "cell_type": "code",
   "execution_count": 133,
   "metadata": {},
   "outputs": [],
   "source": [
    "dataset_total = pd.concat((dataset['Open'], dataset_test['Open']), axis = 0)\n",
    "inputs = dataset_total[len(dataset_total) - len(dataset_test) - 60:].values\n",
    "inputs = inputs.reshape(-1,1)\n",
    "inputs = sc.transform(inputs)\n",
    "X_test = []\n",
    "for i in range(6, 117):\n",
    "    X_test.append(inputs[i-6:i, 0])\n",
    "X_test = np.array(X_test)\n",
    "X_test = np.reshape(X_test, (X_test.shape[0], X_test.shape[1], 1))\n",
    "predicted_stock_price = regressor.predict(X_test)\n",
    "predicted_stock_price = sc.inverse_transform(predicted_stock_price)"
   ]
  },
  {
   "cell_type": "code",
   "execution_count": 134,
   "metadata": {},
   "outputs": [
    {
     "name": "stdout",
     "output_type": "stream",
     "text": [
      "<class 'pandas.core.frame.DataFrame'>\n",
      "RangeIndex: 111 entries, 0 to 110\n",
      "Data columns (total 1 columns):\n",
      "0    111 non-null float32\n",
      "dtypes: float32(1)\n",
      "memory usage: 572.0 bytes\n"
     ]
    }
   ],
   "source": [
    "predicted_stock_price=pd.DataFrame(predicted_stock_price)\n",
    "predicted_stock_price.info()"
   ]
  },
  {
   "cell_type": "code",
   "execution_count": 135,
   "metadata": {},
   "outputs": [
    {
     "data": {
      "image/png": "[encoded data removed]",
      "text/plain": [
       "<Figure size 432x288 with 1 Axes>"
      ]
     },
     "metadata": {
      "needs_background": "light"
     },
     "output_type": "display_data"
    }
   ],
   "source": [
    "plt.plot(real_stock_price, color = 'red', label = 'Real Apple Stock Price')\n",
    "plt.plot(predicted_stock_price, color = 'blue', label = 'Predicted Apple Stock Price')\n",
    "plt.title('Apple Stock Price Prediction')\n",
    "plt.xlabel('Date')\n",
    "plt.ylabel('Apple Stock Price')\n",
    "plt.legend()\n",
    "plt.show()\n"
   ]
  }
 ],
 "metadata": {
  "kernelspec": {
   "display_name": "Python 3",
   "language": "python",
   "name": "python3"
  },
  "language_info": {
   "codemirror_mode": {
    "name": "ipython",
    "version": 3
   },
   "file_extension": ".py",
   "mimetype": "text/x-python",
   "name": "python",
   "nbconvert_exporter": "python",
   "pygments_lexer": "ipython3",
   "version": "3.7.4"
  }
 },
 "nbformat": 4,
 "nbformat_minor": 2
}
