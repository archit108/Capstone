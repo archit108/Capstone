{
 "cells": [
  {
   "cell_type": "code",
   "execution_count": 389,
   "metadata": {},
   "outputs": [],
   "source": [
    "import pandas as pd\n",
    "import numpy as np"
   ]
  },
  {
   "cell_type": "code",
   "execution_count": 390,
   "metadata": {},
   "outputs": [],
   "source": [
    "import os"
   ]
  },
  {
   "cell_type": "code",
   "execution_count": 391,
   "metadata": {},
   "outputs": [
    {
     "name": "stdout",
     "output_type": "stream",
     "text": [
      "['AAPL - train.csv', 'AAPL.csv', 'AAPL_test.csv', 'Amazon.csv', 'Facebook.csv', 'Microsoft.csv', 'Tesla.csv']\n"
     ]
    }
   ],
   "source": [
    "print(os.listdir(\"C:/Users/Archit singh/Downloads/Stock Data/Capstone\"))"
   ]
  },
  {
   "cell_type": "code",
   "execution_count": 392,
   "metadata": {},
   "outputs": [],
   "source": [
    "import pandas as pd\n",
    "import numpy as np\n",
    "import datetime\n",
    "%matplotlib inline"
   ]
  },
  {
   "cell_type": "code",
   "execution_count": 436,
   "metadata": {},
   "outputs": [],
   "source": [
    "AAPL = pd.read_csv('C:/Users/Archit singh/Downloads/Stock Data/Capstone/AAPL.csv')"
   ]
  },
  {
   "cell_type": "code",
   "execution_count": 448,
   "metadata": {},
   "outputs": [],
   "source": [
    "Amazon = pd.read_csv('C:/Users/Archit singh/Downloads/Stock Data/Capstone/Amazon.csv')"
   ]
  },
  {
   "cell_type": "code",
   "execution_count": 449,
   "metadata": {},
   "outputs": [],
   "source": [
    "Facebook = pd.read_csv('C:/Users/Archit singh/Downloads/Stock Data/Capstone/Facebook.csv')"
   ]
  },
  {
   "cell_type": "code",
   "execution_count": 450,
   "metadata": {},
   "outputs": [],
   "source": [
    "Microsoft = pd.read_csv('C:/Users/Archit singh/Downloads/Stock Data/Capstone/Microsoft.csv')"
   ]
  },
  {
   "cell_type": "code",
   "execution_count": 451,
   "metadata": {},
   "outputs": [],
   "source": [
    "Tesla = pd.read_csv('C:/Users/Archit singh/Downloads/Stock Data/Capstone/Tesla.csv')"
   ]
  },
  {
   "cell_type": "code",
   "execution_count": 398,
   "metadata": {},
   "outputs": [],
   "source": [
    "AAPL.set_index('Date', inplace = True)\n",
    "Amazon.set_index('Date', inplace = True)\n",
    "Facebook.set_index('Date', inplace = True)\n",
    "Microsoft.set_index('Date', inplace = True)\n",
    "Tesla.set_index('Date', inplace = True)"
   ]
  },
  {
   "cell_type": "code",
   "execution_count": 399,
   "metadata": {},
   "outputs": [],
   "source": [
    "tickers = ['AAPL', 'Amazon', 'Facebook', 'Microsoft', 'Tesla']"
   ]
  },
  {
   "cell_type": "code",
   "execution_count": 400,
   "metadata": {},
   "outputs": [
    {
     "data": {
      "text/plain": [
       "['AAPL', 'Amazon', 'Facebook', 'Microsoft', 'Tesla']"
      ]
     },
     "execution_count": 400,
     "metadata": {},
     "output_type": "execute_result"
    }
   ],
   "source": [
    "tickers"
   ]
  },
  {
   "cell_type": "code",
   "execution_count": 401,
   "metadata": {},
   "outputs": [
    {
     "data": {
      "text/html": [
       "<div>\n",
       "<style scoped>\n",
       "    .dataframe tbody tr th:only-of-type {\n",
       "        vertical-align: middle;\n",
       "    }\n",
       "\n",
       "    .dataframe tbody tr th {\n",
       "        vertical-align: top;\n",
       "    }\n",
       "\n",
       "    .dataframe thead th {\n",
       "        text-align: right;\n",
       "    }\n",
       "</style>\n",
       "<table border=\"1\" class=\"dataframe\">\n",
       "  <thead>\n",
       "    <tr style=\"text-align: right;\">\n",
       "      <th></th>\n",
       "      <th>Close</th>\n",
       "      <th>Volume</th>\n",
       "      <th>Open</th>\n",
       "      <th>High</th>\n",
       "      <th>Low</th>\n",
       "    </tr>\n",
       "    <tr>\n",
       "      <th>Date</th>\n",
       "      <th></th>\n",
       "      <th></th>\n",
       "      <th></th>\n",
       "      <th></th>\n",
       "      <th></th>\n",
       "    </tr>\n",
       "  </thead>\n",
       "  <tbody>\n",
       "    <tr>\n",
       "      <td>3/16/2020</td>\n",
       "      <td>242.21</td>\n",
       "      <td>80605870</td>\n",
       "      <td>241.95</td>\n",
       "      <td>259.08</td>\n",
       "      <td>240.00</td>\n",
       "    </tr>\n",
       "    <tr>\n",
       "      <td>3/17/2020</td>\n",
       "      <td>252.86</td>\n",
       "      <td>81013970</td>\n",
       "      <td>247.51</td>\n",
       "      <td>257.61</td>\n",
       "      <td>238.40</td>\n",
       "    </tr>\n",
       "    <tr>\n",
       "      <td>3/18/2020</td>\n",
       "      <td>246.67</td>\n",
       "      <td>75058410</td>\n",
       "      <td>239.77</td>\n",
       "      <td>250.00</td>\n",
       "      <td>237.12</td>\n",
       "    </tr>\n",
       "    <tr>\n",
       "      <td>3/19/2020</td>\n",
       "      <td>244.78</td>\n",
       "      <td>67964260</td>\n",
       "      <td>247.39</td>\n",
       "      <td>252.84</td>\n",
       "      <td>242.61</td>\n",
       "    </tr>\n",
       "    <tr>\n",
       "      <td>3/20/2020</td>\n",
       "      <td>229.24</td>\n",
       "      <td>100423300</td>\n",
       "      <td>247.18</td>\n",
       "      <td>251.83</td>\n",
       "      <td>228.00</td>\n",
       "    </tr>\n",
       "    <tr>\n",
       "      <td>...</td>\n",
       "      <td>...</td>\n",
       "      <td>...</td>\n",
       "      <td>...</td>\n",
       "      <td>...</td>\n",
       "      <td>...</td>\n",
       "    </tr>\n",
       "    <tr>\n",
       "      <td>8/24/2020</td>\n",
       "      <td>503.43</td>\n",
       "      <td>86484440</td>\n",
       "      <td>514.79</td>\n",
       "      <td>515.14</td>\n",
       "      <td>495.75</td>\n",
       "    </tr>\n",
       "    <tr>\n",
       "      <td>8/25/2020</td>\n",
       "      <td>499.30</td>\n",
       "      <td>52873950</td>\n",
       "      <td>498.79</td>\n",
       "      <td>500.72</td>\n",
       "      <td>492.21</td>\n",
       "    </tr>\n",
       "    <tr>\n",
       "      <td>8/26/2020</td>\n",
       "      <td>506.09</td>\n",
       "      <td>40755570</td>\n",
       "      <td>504.72</td>\n",
       "      <td>507.97</td>\n",
       "      <td>500.33</td>\n",
       "    </tr>\n",
       "    <tr>\n",
       "      <td>8/27/2020</td>\n",
       "      <td>500.04</td>\n",
       "      <td>38888100</td>\n",
       "      <td>508.57</td>\n",
       "      <td>509.94</td>\n",
       "      <td>495.33</td>\n",
       "    </tr>\n",
       "    <tr>\n",
       "      <td>8/28/2020</td>\n",
       "      <td>499.23</td>\n",
       "      <td>46907480</td>\n",
       "      <td>504.05</td>\n",
       "      <td>505.77</td>\n",
       "      <td>498.31</td>\n",
       "    </tr>\n",
       "  </tbody>\n",
       "</table>\n",
       "<p>117 rows × 5 columns</p>\n",
       "</div>"
      ],
      "text/plain": [
       "            Close     Volume    Open    High     Low\n",
       "Date                                                \n",
       "3/16/2020  242.21   80605870  241.95  259.08  240.00\n",
       "3/17/2020  252.86   81013970  247.51  257.61  238.40\n",
       "3/18/2020  246.67   75058410  239.77  250.00  237.12\n",
       "3/19/2020  244.78   67964260  247.39  252.84  242.61\n",
       "3/20/2020  229.24  100423300  247.18  251.83  228.00\n",
       "...           ...        ...     ...     ...     ...\n",
       "8/24/2020  503.43   86484440  514.79  515.14  495.75\n",
       "8/25/2020  499.30   52873950  498.79  500.72  492.21\n",
       "8/26/2020  506.09   40755570  504.72  507.97  500.33\n",
       "8/27/2020  500.04   38888100  508.57  509.94  495.33\n",
       "8/28/2020  499.23   46907480  504.05  505.77  498.31\n",
       "\n",
       "[117 rows x 5 columns]"
      ]
     },
     "execution_count": 401,
     "metadata": {},
     "output_type": "execute_result"
    }
   ],
   "source": [
    "AAPL"
   ]
  },
  {
   "cell_type": "code",
   "execution_count": 402,
   "metadata": {},
   "outputs": [
    {
     "data": {
      "text/html": [
       "<div>\n",
       "<style scoped>\n",
       "    .dataframe tbody tr th:only-of-type {\n",
       "        vertical-align: middle;\n",
       "    }\n",
       "\n",
       "    .dataframe tbody tr th {\n",
       "        vertical-align: top;\n",
       "    }\n",
       "\n",
       "    .dataframe thead th {\n",
       "        text-align: right;\n",
       "    }\n",
       "</style>\n",
       "<table border=\"1\" class=\"dataframe\">\n",
       "  <thead>\n",
       "    <tr style=\"text-align: right;\">\n",
       "      <th></th>\n",
       "      <th>Close</th>\n",
       "      <th>Volume</th>\n",
       "      <th>Open</th>\n",
       "      <th>High</th>\n",
       "      <th>Low</th>\n",
       "    </tr>\n",
       "    <tr>\n",
       "      <th>Date</th>\n",
       "      <th></th>\n",
       "      <th></th>\n",
       "      <th></th>\n",
       "      <th></th>\n",
       "      <th></th>\n",
       "    </tr>\n",
       "  </thead>\n",
       "  <tbody>\n",
       "    <tr>\n",
       "      <td>3/16/2020</td>\n",
       "      <td>1689.15</td>\n",
       "      <td>8917265</td>\n",
       "      <td>1641.51</td>\n",
       "      <td>1759.45</td>\n",
       "      <td>1626.03</td>\n",
       "    </tr>\n",
       "    <tr>\n",
       "      <td>3/17/2020</td>\n",
       "      <td>1807.84</td>\n",
       "      <td>10917130</td>\n",
       "      <td>1775.47</td>\n",
       "      <td>1857.78</td>\n",
       "      <td>1689.24</td>\n",
       "    </tr>\n",
       "    <tr>\n",
       "      <td>3/18/2020</td>\n",
       "      <td>1830.00</td>\n",
       "      <td>9645218</td>\n",
       "      <td>1750.00</td>\n",
       "      <td>1841.66</td>\n",
       "      <td>1745.00</td>\n",
       "    </tr>\n",
       "    <tr>\n",
       "      <td>3/19/2020</td>\n",
       "      <td>1880.93</td>\n",
       "      <td>10399940</td>\n",
       "      <td>1860.00</td>\n",
       "      <td>1945.00</td>\n",
       "      <td>1832.65</td>\n",
       "    </tr>\n",
       "    <tr>\n",
       "      <td>3/20/2020</td>\n",
       "      <td>1846.09</td>\n",
       "      <td>9817850</td>\n",
       "      <td>1926.31</td>\n",
       "      <td>1957.00</td>\n",
       "      <td>1820.73</td>\n",
       "    </tr>\n",
       "    <tr>\n",
       "      <td>...</td>\n",
       "      <td>...</td>\n",
       "      <td>...</td>\n",
       "      <td>...</td>\n",
       "      <td>...</td>\n",
       "      <td>...</td>\n",
       "    </tr>\n",
       "    <tr>\n",
       "      <td>8/24/2020</td>\n",
       "      <td>3307.46</td>\n",
       "      <td>4666258</td>\n",
       "      <td>3310.15</td>\n",
       "      <td>3380.32</td>\n",
       "      <td>3257.56</td>\n",
       "    </tr>\n",
       "    <tr>\n",
       "      <td>8/25/2020</td>\n",
       "      <td>3346.49</td>\n",
       "      <td>3992842</td>\n",
       "      <td>3294.99</td>\n",
       "      <td>3357.40</td>\n",
       "      <td>3267.00</td>\n",
       "    </tr>\n",
       "    <tr>\n",
       "      <td>8/26/2020</td>\n",
       "      <td>3441.85</td>\n",
       "      <td>6508743</td>\n",
       "      <td>3351.11</td>\n",
       "      <td>3451.74</td>\n",
       "      <td>3344.57</td>\n",
       "    </tr>\n",
       "    <tr>\n",
       "      <td>8/27/2020</td>\n",
       "      <td>3400.00</td>\n",
       "      <td>4264795</td>\n",
       "      <td>3450.05</td>\n",
       "      <td>3453.00</td>\n",
       "      <td>3378.00</td>\n",
       "    </tr>\n",
       "    <tr>\n",
       "      <td>8/28/2020</td>\n",
       "      <td>3401.80</td>\n",
       "      <td>2896978</td>\n",
       "      <td>3423.00</td>\n",
       "      <td>3433.37</td>\n",
       "      <td>3386.50</td>\n",
       "    </tr>\n",
       "  </tbody>\n",
       "</table>\n",
       "<p>117 rows × 5 columns</p>\n",
       "</div>"
      ],
      "text/plain": [
       "             Close    Volume     Open     High      Low\n",
       "Date                                                   \n",
       "3/16/2020  1689.15   8917265  1641.51  1759.45  1626.03\n",
       "3/17/2020  1807.84  10917130  1775.47  1857.78  1689.24\n",
       "3/18/2020  1830.00   9645218  1750.00  1841.66  1745.00\n",
       "3/19/2020  1880.93  10399940  1860.00  1945.00  1832.65\n",
       "3/20/2020  1846.09   9817850  1926.31  1957.00  1820.73\n",
       "...            ...       ...      ...      ...      ...\n",
       "8/24/2020  3307.46   4666258  3310.15  3380.32  3257.56\n",
       "8/25/2020  3346.49   3992842  3294.99  3357.40  3267.00\n",
       "8/26/2020  3441.85   6508743  3351.11  3451.74  3344.57\n",
       "8/27/2020  3400.00   4264795  3450.05  3453.00  3378.00\n",
       "8/28/2020  3401.80   2896978  3423.00  3433.37  3386.50\n",
       "\n",
       "[117 rows x 5 columns]"
      ]
     },
     "execution_count": 402,
     "metadata": {},
     "output_type": "execute_result"
    }
   ],
   "source": [
    "Amazon"
   ]
  },
  {
   "cell_type": "code",
   "execution_count": 403,
   "metadata": {},
   "outputs": [
    {
     "data": {
      "text/html": [
       "<div>\n",
       "<style scoped>\n",
       "    .dataframe tbody tr th:only-of-type {\n",
       "        vertical-align: middle;\n",
       "    }\n",
       "\n",
       "    .dataframe tbody tr th {\n",
       "        vertical-align: top;\n",
       "    }\n",
       "\n",
       "    .dataframe thead th {\n",
       "        text-align: right;\n",
       "    }\n",
       "</style>\n",
       "<table border=\"1\" class=\"dataframe\">\n",
       "  <thead>\n",
       "    <tr style=\"text-align: right;\">\n",
       "      <th></th>\n",
       "      <th>Close</th>\n",
       "      <th>Volume</th>\n",
       "      <th>Open</th>\n",
       "      <th>High</th>\n",
       "      <th>Low</th>\n",
       "    </tr>\n",
       "    <tr>\n",
       "      <th>Date</th>\n",
       "      <th></th>\n",
       "      <th></th>\n",
       "      <th></th>\n",
       "      <th></th>\n",
       "      <th></th>\n",
       "    </tr>\n",
       "  </thead>\n",
       "  <tbody>\n",
       "    <tr>\n",
       "      <td>3/16/2020</td>\n",
       "      <td>146.01</td>\n",
       "      <td>39120420</td>\n",
       "      <td>152.32</td>\n",
       "      <td>159.13</td>\n",
       "      <td>143.10</td>\n",
       "    </tr>\n",
       "    <tr>\n",
       "      <td>3/17/2020</td>\n",
       "      <td>149.42</td>\n",
       "      <td>34255600</td>\n",
       "      <td>150.74</td>\n",
       "      <td>153.94</td>\n",
       "      <td>140.00</td>\n",
       "    </tr>\n",
       "    <tr>\n",
       "      <td>3/18/2020</td>\n",
       "      <td>146.96</td>\n",
       "      <td>37553140</td>\n",
       "      <td>139.75</td>\n",
       "      <td>148.18</td>\n",
       "      <td>137.10</td>\n",
       "    </tr>\n",
       "    <tr>\n",
       "      <td>3/19/2020</td>\n",
       "      <td>153.13</td>\n",
       "      <td>39862310</td>\n",
       "      <td>146.62</td>\n",
       "      <td>159.93</td>\n",
       "      <td>144.80</td>\n",
       "    </tr>\n",
       "    <tr>\n",
       "      <td>3/20/2020</td>\n",
       "      <td>149.73</td>\n",
       "      <td>32568400</td>\n",
       "      <td>156.02</td>\n",
       "      <td>159.27</td>\n",
       "      <td>148.00</td>\n",
       "    </tr>\n",
       "    <tr>\n",
       "      <td>...</td>\n",
       "      <td>...</td>\n",
       "      <td>...</td>\n",
       "      <td>...</td>\n",
       "      <td>...</td>\n",
       "      <td>...</td>\n",
       "    </tr>\n",
       "    <tr>\n",
       "      <td>8/24/2020</td>\n",
       "      <td>271.39</td>\n",
       "      <td>23685600</td>\n",
       "      <td>271.07</td>\n",
       "      <td>277.25</td>\n",
       "      <td>268.77</td>\n",
       "    </tr>\n",
       "    <tr>\n",
       "      <td>8/25/2020</td>\n",
       "      <td>280.82</td>\n",
       "      <td>42127240</td>\n",
       "      <td>272.41</td>\n",
       "      <td>283.09</td>\n",
       "      <td>270.26</td>\n",
       "    </tr>\n",
       "    <tr>\n",
       "      <td>8/26/2020</td>\n",
       "      <td>303.91</td>\n",
       "      <td>69015150</td>\n",
       "      <td>284.00</td>\n",
       "      <td>304.67</td>\n",
       "      <td>284.00</td>\n",
       "    </tr>\n",
       "    <tr>\n",
       "      <td>8/27/2020</td>\n",
       "      <td>293.22</td>\n",
       "      <td>30301310</td>\n",
       "      <td>300.16</td>\n",
       "      <td>301.23</td>\n",
       "      <td>292.02</td>\n",
       "    </tr>\n",
       "    <tr>\n",
       "      <td>8/28/2020</td>\n",
       "      <td>293.66</td>\n",
       "      <td>17172420</td>\n",
       "      <td>295.00</td>\n",
       "      <td>297.23</td>\n",
       "      <td>290.98</td>\n",
       "    </tr>\n",
       "  </tbody>\n",
       "</table>\n",
       "<p>117 rows × 5 columns</p>\n",
       "</div>"
      ],
      "text/plain": [
       "            Close    Volume    Open    High     Low\n",
       "Date                                               \n",
       "3/16/2020  146.01  39120420  152.32  159.13  143.10\n",
       "3/17/2020  149.42  34255600  150.74  153.94  140.00\n",
       "3/18/2020  146.96  37553140  139.75  148.18  137.10\n",
       "3/19/2020  153.13  39862310  146.62  159.93  144.80\n",
       "3/20/2020  149.73  32568400  156.02  159.27  148.00\n",
       "...           ...       ...     ...     ...     ...\n",
       "8/24/2020  271.39  23685600  271.07  277.25  268.77\n",
       "8/25/2020  280.82  42127240  272.41  283.09  270.26\n",
       "8/26/2020  303.91  69015150  284.00  304.67  284.00\n",
       "8/27/2020  293.22  30301310  300.16  301.23  292.02\n",
       "8/28/2020  293.66  17172420  295.00  297.23  290.98\n",
       "\n",
       "[117 rows x 5 columns]"
      ]
     },
     "execution_count": 403,
     "metadata": {},
     "output_type": "execute_result"
    }
   ],
   "source": [
    "Facebook"
   ]
  },
  {
   "cell_type": "code",
   "execution_count": 404,
   "metadata": {},
   "outputs": [
    {
     "data": {
      "text/html": [
       "<div>\n",
       "<style scoped>\n",
       "    .dataframe tbody tr th:only-of-type {\n",
       "        vertical-align: middle;\n",
       "    }\n",
       "\n",
       "    .dataframe tbody tr th {\n",
       "        vertical-align: top;\n",
       "    }\n",
       "\n",
       "    .dataframe thead th {\n",
       "        text-align: right;\n",
       "    }\n",
       "</style>\n",
       "<table border=\"1\" class=\"dataframe\">\n",
       "  <thead>\n",
       "    <tr style=\"text-align: right;\">\n",
       "      <th></th>\n",
       "      <th>Close</th>\n",
       "      <th>Volume</th>\n",
       "      <th>Open</th>\n",
       "      <th>High</th>\n",
       "      <th>Low</th>\n",
       "    </tr>\n",
       "    <tr>\n",
       "      <th>Date</th>\n",
       "      <th></th>\n",
       "      <th></th>\n",
       "      <th></th>\n",
       "      <th></th>\n",
       "      <th></th>\n",
       "    </tr>\n",
       "  </thead>\n",
       "  <tbody>\n",
       "    <tr>\n",
       "      <td>3/16/2020</td>\n",
       "      <td>135.42</td>\n",
       "      <td>87905870</td>\n",
       "      <td>140.00</td>\n",
       "      <td>149.35</td>\n",
       "      <td>135.00</td>\n",
       "    </tr>\n",
       "    <tr>\n",
       "      <td>3/17/2020</td>\n",
       "      <td>146.57</td>\n",
       "      <td>81059820</td>\n",
       "      <td>140.00</td>\n",
       "      <td>147.50</td>\n",
       "      <td>135.00</td>\n",
       "    </tr>\n",
       "    <tr>\n",
       "      <td>3/18/2020</td>\n",
       "      <td>140.40</td>\n",
       "      <td>81593170</td>\n",
       "      <td>138.00</td>\n",
       "      <td>146.00</td>\n",
       "      <td>135.02</td>\n",
       "    </tr>\n",
       "    <tr>\n",
       "      <td>3/19/2020</td>\n",
       "      <td>142.71</td>\n",
       "      <td>85922660</td>\n",
       "      <td>142.77</td>\n",
       "      <td>150.15</td>\n",
       "      <td>139.00</td>\n",
       "    </tr>\n",
       "    <tr>\n",
       "      <td>3/20/2020</td>\n",
       "      <td>137.35</td>\n",
       "      <td>84866220</td>\n",
       "      <td>146.00</td>\n",
       "      <td>147.10</td>\n",
       "      <td>135.86</td>\n",
       "    </tr>\n",
       "    <tr>\n",
       "      <td>...</td>\n",
       "      <td>...</td>\n",
       "      <td>...</td>\n",
       "      <td>...</td>\n",
       "      <td>...</td>\n",
       "      <td>...</td>\n",
       "    </tr>\n",
       "    <tr>\n",
       "      <td>8/24/2020</td>\n",
       "      <td>213.69</td>\n",
       "      <td>25460150</td>\n",
       "      <td>214.79</td>\n",
       "      <td>215.52</td>\n",
       "      <td>212.43</td>\n",
       "    </tr>\n",
       "    <tr>\n",
       "      <td>8/25/2020</td>\n",
       "      <td>216.47</td>\n",
       "      <td>23043700</td>\n",
       "      <td>213.10</td>\n",
       "      <td>216.61</td>\n",
       "      <td>213.10</td>\n",
       "    </tr>\n",
       "    <tr>\n",
       "      <td>8/26/2020</td>\n",
       "      <td>221.15</td>\n",
       "      <td>39600830</td>\n",
       "      <td>217.88</td>\n",
       "      <td>222.09</td>\n",
       "      <td>217.36</td>\n",
       "    </tr>\n",
       "    <tr>\n",
       "      <td>8/27/2020</td>\n",
       "      <td>226.58</td>\n",
       "      <td>57602200</td>\n",
       "      <td>222.89</td>\n",
       "      <td>231.15</td>\n",
       "      <td>219.40</td>\n",
       "    </tr>\n",
       "    <tr>\n",
       "      <td>8/28/2020</td>\n",
       "      <td>228.91</td>\n",
       "      <td>26292900</td>\n",
       "      <td>228.18</td>\n",
       "      <td>230.64</td>\n",
       "      <td>226.58</td>\n",
       "    </tr>\n",
       "  </tbody>\n",
       "</table>\n",
       "<p>117 rows × 5 columns</p>\n",
       "</div>"
      ],
      "text/plain": [
       "            Close    Volume    Open    High     Low\n",
       "Date                                               \n",
       "3/16/2020  135.42  87905870  140.00  149.35  135.00\n",
       "3/17/2020  146.57  81059820  140.00  147.50  135.00\n",
       "3/18/2020  140.40  81593170  138.00  146.00  135.02\n",
       "3/19/2020  142.71  85922660  142.77  150.15  139.00\n",
       "3/20/2020  137.35  84866220  146.00  147.10  135.86\n",
       "...           ...       ...     ...     ...     ...\n",
       "8/24/2020  213.69  25460150  214.79  215.52  212.43\n",
       "8/25/2020  216.47  23043700  213.10  216.61  213.10\n",
       "8/26/2020  221.15  39600830  217.88  222.09  217.36\n",
       "8/27/2020  226.58  57602200  222.89  231.15  219.40\n",
       "8/28/2020  228.91  26292900  228.18  230.64  226.58\n",
       "\n",
       "[117 rows x 5 columns]"
      ]
     },
     "execution_count": 404,
     "metadata": {},
     "output_type": "execute_result"
    }
   ],
   "source": [
    "Microsoft"
   ]
  },
  {
   "cell_type": "code",
   "execution_count": 405,
   "metadata": {},
   "outputs": [
    {
     "data": {
      "text/html": [
       "<div>\n",
       "<style scoped>\n",
       "    .dataframe tbody tr th:only-of-type {\n",
       "        vertical-align: middle;\n",
       "    }\n",
       "\n",
       "    .dataframe tbody tr th {\n",
       "        vertical-align: top;\n",
       "    }\n",
       "\n",
       "    .dataframe thead th {\n",
       "        text-align: right;\n",
       "    }\n",
       "</style>\n",
       "<table border=\"1\" class=\"dataframe\">\n",
       "  <thead>\n",
       "    <tr style=\"text-align: right;\">\n",
       "      <th></th>\n",
       "      <th>Close</th>\n",
       "      <th>Volume</th>\n",
       "      <th>Open</th>\n",
       "      <th>High</th>\n",
       "      <th>Low</th>\n",
       "    </tr>\n",
       "    <tr>\n",
       "      <th>Date</th>\n",
       "      <th></th>\n",
       "      <th></th>\n",
       "      <th></th>\n",
       "      <th></th>\n",
       "      <th></th>\n",
       "    </tr>\n",
       "  </thead>\n",
       "  <tbody>\n",
       "    <tr>\n",
       "      <td>3/16/2020</td>\n",
       "      <td>445.07</td>\n",
       "      <td>20489460</td>\n",
       "      <td>469.50</td>\n",
       "      <td>494.87</td>\n",
       "      <td>442.17</td>\n",
       "    </tr>\n",
       "    <tr>\n",
       "      <td>3/17/2020</td>\n",
       "      <td>430.20</td>\n",
       "      <td>23994580</td>\n",
       "      <td>440.01</td>\n",
       "      <td>471.85</td>\n",
       "      <td>396.00</td>\n",
       "    </tr>\n",
       "    <tr>\n",
       "      <td>3/18/2020</td>\n",
       "      <td>361.22</td>\n",
       "      <td>23786160</td>\n",
       "      <td>389.00</td>\n",
       "      <td>404.86</td>\n",
       "      <td>350.51</td>\n",
       "    </tr>\n",
       "    <tr>\n",
       "      <td>3/19/2020</td>\n",
       "      <td>427.64</td>\n",
       "      <td>30195460</td>\n",
       "      <td>374.70</td>\n",
       "      <td>452.00</td>\n",
       "      <td>358.46</td>\n",
       "    </tr>\n",
       "    <tr>\n",
       "      <td>3/20/2020</td>\n",
       "      <td>427.53</td>\n",
       "      <td>28285500</td>\n",
       "      <td>438.20</td>\n",
       "      <td>477.00</td>\n",
       "      <td>425.79</td>\n",
       "    </tr>\n",
       "    <tr>\n",
       "      <td>...</td>\n",
       "      <td>...</td>\n",
       "      <td>...</td>\n",
       "      <td>...</td>\n",
       "      <td>...</td>\n",
       "      <td>...</td>\n",
       "    </tr>\n",
       "    <tr>\n",
       "      <td>8/24/2020</td>\n",
       "      <td>2014.20</td>\n",
       "      <td>20063620</td>\n",
       "      <td>2126.28</td>\n",
       "      <td>2129.00</td>\n",
       "      <td>1927.52</td>\n",
       "    </tr>\n",
       "    <tr>\n",
       "      <td>8/25/2020</td>\n",
       "      <td>2023.34</td>\n",
       "      <td>10658890</td>\n",
       "      <td>1974.89</td>\n",
       "      <td>2027.95</td>\n",
       "      <td>1968.00</td>\n",
       "    </tr>\n",
       "    <tr>\n",
       "      <td>8/26/2020</td>\n",
       "      <td>2153.17</td>\n",
       "      <td>14239380</td>\n",
       "      <td>2060.00</td>\n",
       "      <td>2166.00</td>\n",
       "      <td>2053.63</td>\n",
       "    </tr>\n",
       "    <tr>\n",
       "      <td>8/27/2020</td>\n",
       "      <td>2238.75</td>\n",
       "      <td>23693040</td>\n",
       "      <td>2180.46</td>\n",
       "      <td>2295.60</td>\n",
       "      <td>2142.50</td>\n",
       "    </tr>\n",
       "    <tr>\n",
       "      <td>8/28/2020</td>\n",
       "      <td>2213.40</td>\n",
       "      <td>20081180</td>\n",
       "      <td>2295.12</td>\n",
       "      <td>2318.49</td>\n",
       "      <td>2186.52</td>\n",
       "    </tr>\n",
       "  </tbody>\n",
       "</table>\n",
       "<p>117 rows × 5 columns</p>\n",
       "</div>"
      ],
      "text/plain": [
       "             Close    Volume     Open     High      Low\n",
       "Date                                                   \n",
       "3/16/2020   445.07  20489460   469.50   494.87   442.17\n",
       "3/17/2020   430.20  23994580   440.01   471.85   396.00\n",
       "3/18/2020   361.22  23786160   389.00   404.86   350.51\n",
       "3/19/2020   427.64  30195460   374.70   452.00   358.46\n",
       "3/20/2020   427.53  28285500   438.20   477.00   425.79\n",
       "...            ...       ...      ...      ...      ...\n",
       "8/24/2020  2014.20  20063620  2126.28  2129.00  1927.52\n",
       "8/25/2020  2023.34  10658890  1974.89  2027.95  1968.00\n",
       "8/26/2020  2153.17  14239380  2060.00  2166.00  2053.63\n",
       "8/27/2020  2238.75  23693040  2180.46  2295.60  2142.50\n",
       "8/28/2020  2213.40  20081180  2295.12  2318.49  2186.52\n",
       "\n",
       "[117 rows x 5 columns]"
      ]
     },
     "execution_count": 405,
     "metadata": {},
     "output_type": "execute_result"
    }
   ],
   "source": [
    "Tesla"
   ]
  },
  {
   "cell_type": "code",
   "execution_count": 406,
   "metadata": {},
   "outputs": [],
   "source": [
    "import seaborn as sns"
   ]
  },
  {
   "cell_type": "code",
   "execution_count": 407,
   "metadata": {},
   "outputs": [],
   "source": [
    "tickers = ['AAPL','Amazon','Facebook','Microsoft','Tesla']\n",
    "stock_data = pd.concat([AAPL,Amazon,Facebook,Microsoft,Tesla],axis=1,keys=tickers)\n",
    "stock_data.columns.names = ['Company Ticker', 'Stock Info']"
   ]
  },
  {
   "cell_type": "code",
   "execution_count": 408,
   "metadata": {
    "scrolled": false
   },
   "outputs": [
    {
     "data": {
      "text/html": [
       "<div>\n",
       "<style scoped>\n",
       "    .dataframe tbody tr th:only-of-type {\n",
       "        vertical-align: middle;\n",
       "    }\n",
       "\n",
       "    .dataframe tbody tr th {\n",
       "        vertical-align: top;\n",
       "    }\n",
       "\n",
       "    .dataframe thead tr th {\n",
       "        text-align: left;\n",
       "    }\n",
       "\n",
       "    .dataframe thead tr:last-of-type th {\n",
       "        text-align: right;\n",
       "    }\n",
       "</style>\n",
       "<table border=\"1\" class=\"dataframe\">\n",
       "  <thead>\n",
       "    <tr>\n",
       "      <th>Company Ticker</th>\n",
       "      <th colspan=\"5\" halign=\"left\">AAPL</th>\n",
       "      <th colspan=\"5\" halign=\"left\">Amazon</th>\n",
       "      <th>...</th>\n",
       "      <th colspan=\"5\" halign=\"left\">Microsoft</th>\n",
       "      <th colspan=\"5\" halign=\"left\">Tesla</th>\n",
       "    </tr>\n",
       "    <tr>\n",
       "      <th>Stock Info</th>\n",
       "      <th>Close</th>\n",
       "      <th>Volume</th>\n",
       "      <th>Open</th>\n",
       "      <th>High</th>\n",
       "      <th>Low</th>\n",
       "      <th>Close</th>\n",
       "      <th>Volume</th>\n",
       "      <th>Open</th>\n",
       "      <th>High</th>\n",
       "      <th>Low</th>\n",
       "      <th>...</th>\n",
       "      <th>Close</th>\n",
       "      <th>Volume</th>\n",
       "      <th>Open</th>\n",
       "      <th>High</th>\n",
       "      <th>Low</th>\n",
       "      <th>Close</th>\n",
       "      <th>Volume</th>\n",
       "      <th>Open</th>\n",
       "      <th>High</th>\n",
       "      <th>Low</th>\n",
       "    </tr>\n",
       "    <tr>\n",
       "      <th>Date</th>\n",
       "      <th></th>\n",
       "      <th></th>\n",
       "      <th></th>\n",
       "      <th></th>\n",
       "      <th></th>\n",
       "      <th></th>\n",
       "      <th></th>\n",
       "      <th></th>\n",
       "      <th></th>\n",
       "      <th></th>\n",
       "      <th></th>\n",
       "      <th></th>\n",
       "      <th></th>\n",
       "      <th></th>\n",
       "      <th></th>\n",
       "      <th></th>\n",
       "      <th></th>\n",
       "      <th></th>\n",
       "      <th></th>\n",
       "      <th></th>\n",
       "      <th></th>\n",
       "    </tr>\n",
       "  </thead>\n",
       "  <tbody>\n",
       "    <tr>\n",
       "      <td>3/16/2020</td>\n",
       "      <td>242.21</td>\n",
       "      <td>80605870</td>\n",
       "      <td>241.95</td>\n",
       "      <td>259.08</td>\n",
       "      <td>240.00</td>\n",
       "      <td>1689.15</td>\n",
       "      <td>8917265</td>\n",
       "      <td>1641.51</td>\n",
       "      <td>1759.45</td>\n",
       "      <td>1626.03</td>\n",
       "      <td>...</td>\n",
       "      <td>135.42</td>\n",
       "      <td>87905870</td>\n",
       "      <td>140.00</td>\n",
       "      <td>149.35</td>\n",
       "      <td>135.00</td>\n",
       "      <td>445.07</td>\n",
       "      <td>20489460</td>\n",
       "      <td>469.50</td>\n",
       "      <td>494.87</td>\n",
       "      <td>442.17</td>\n",
       "    </tr>\n",
       "    <tr>\n",
       "      <td>3/17/2020</td>\n",
       "      <td>252.86</td>\n",
       "      <td>81013970</td>\n",
       "      <td>247.51</td>\n",
       "      <td>257.61</td>\n",
       "      <td>238.40</td>\n",
       "      <td>1807.84</td>\n",
       "      <td>10917130</td>\n",
       "      <td>1775.47</td>\n",
       "      <td>1857.78</td>\n",
       "      <td>1689.24</td>\n",
       "      <td>...</td>\n",
       "      <td>146.57</td>\n",
       "      <td>81059820</td>\n",
       "      <td>140.00</td>\n",
       "      <td>147.50</td>\n",
       "      <td>135.00</td>\n",
       "      <td>430.20</td>\n",
       "      <td>23994580</td>\n",
       "      <td>440.01</td>\n",
       "      <td>471.85</td>\n",
       "      <td>396.00</td>\n",
       "    </tr>\n",
       "    <tr>\n",
       "      <td>3/18/2020</td>\n",
       "      <td>246.67</td>\n",
       "      <td>75058410</td>\n",
       "      <td>239.77</td>\n",
       "      <td>250.00</td>\n",
       "      <td>237.12</td>\n",
       "      <td>1830.00</td>\n",
       "      <td>9645218</td>\n",
       "      <td>1750.00</td>\n",
       "      <td>1841.66</td>\n",
       "      <td>1745.00</td>\n",
       "      <td>...</td>\n",
       "      <td>140.40</td>\n",
       "      <td>81593170</td>\n",
       "      <td>138.00</td>\n",
       "      <td>146.00</td>\n",
       "      <td>135.02</td>\n",
       "      <td>361.22</td>\n",
       "      <td>23786160</td>\n",
       "      <td>389.00</td>\n",
       "      <td>404.86</td>\n",
       "      <td>350.51</td>\n",
       "    </tr>\n",
       "    <tr>\n",
       "      <td>3/19/2020</td>\n",
       "      <td>244.78</td>\n",
       "      <td>67964260</td>\n",
       "      <td>247.39</td>\n",
       "      <td>252.84</td>\n",
       "      <td>242.61</td>\n",
       "      <td>1880.93</td>\n",
       "      <td>10399940</td>\n",
       "      <td>1860.00</td>\n",
       "      <td>1945.00</td>\n",
       "      <td>1832.65</td>\n",
       "      <td>...</td>\n",
       "      <td>142.71</td>\n",
       "      <td>85922660</td>\n",
       "      <td>142.77</td>\n",
       "      <td>150.15</td>\n",
       "      <td>139.00</td>\n",
       "      <td>427.64</td>\n",
       "      <td>30195460</td>\n",
       "      <td>374.70</td>\n",
       "      <td>452.00</td>\n",
       "      <td>358.46</td>\n",
       "    </tr>\n",
       "    <tr>\n",
       "      <td>3/20/2020</td>\n",
       "      <td>229.24</td>\n",
       "      <td>100423300</td>\n",
       "      <td>247.18</td>\n",
       "      <td>251.83</td>\n",
       "      <td>228.00</td>\n",
       "      <td>1846.09</td>\n",
       "      <td>9817850</td>\n",
       "      <td>1926.31</td>\n",
       "      <td>1957.00</td>\n",
       "      <td>1820.73</td>\n",
       "      <td>...</td>\n",
       "      <td>137.35</td>\n",
       "      <td>84866220</td>\n",
       "      <td>146.00</td>\n",
       "      <td>147.10</td>\n",
       "      <td>135.86</td>\n",
       "      <td>427.53</td>\n",
       "      <td>28285500</td>\n",
       "      <td>438.20</td>\n",
       "      <td>477.00</td>\n",
       "      <td>425.79</td>\n",
       "    </tr>\n",
       "  </tbody>\n",
       "</table>\n",
       "<p>5 rows × 25 columns</p>\n",
       "</div>"
      ],
      "text/plain": [
       "Company Ticker    AAPL                                      Amazon            \\\n",
       "Stock Info       Close     Volume    Open    High     Low    Close    Volume   \n",
       "Date                                                                           \n",
       "3/16/2020       242.21   80605870  241.95  259.08  240.00  1689.15   8917265   \n",
       "3/17/2020       252.86   81013970  247.51  257.61  238.40  1807.84  10917130   \n",
       "3/18/2020       246.67   75058410  239.77  250.00  237.12  1830.00   9645218   \n",
       "3/19/2020       244.78   67964260  247.39  252.84  242.61  1880.93  10399940   \n",
       "3/20/2020       229.24  100423300  247.18  251.83  228.00  1846.09   9817850   \n",
       "\n",
       "Company Ticker                             ... Microsoft                    \\\n",
       "Stock Info         Open     High      Low  ...     Close    Volume    Open   \n",
       "Date                                       ...                               \n",
       "3/16/2020       1641.51  1759.45  1626.03  ...    135.42  87905870  140.00   \n",
       "3/17/2020       1775.47  1857.78  1689.24  ...    146.57  81059820  140.00   \n",
       "3/18/2020       1750.00  1841.66  1745.00  ...    140.40  81593170  138.00   \n",
       "3/19/2020       1860.00  1945.00  1832.65  ...    142.71  85922660  142.77   \n",
       "3/20/2020       1926.31  1957.00  1820.73  ...    137.35  84866220  146.00   \n",
       "\n",
       "Company Ticker                   Tesla                                    \n",
       "Stock Info        High     Low   Close    Volume    Open    High     Low  \n",
       "Date                                                                      \n",
       "3/16/2020       149.35  135.00  445.07  20489460  469.50  494.87  442.17  \n",
       "3/17/2020       147.50  135.00  430.20  23994580  440.01  471.85  396.00  \n",
       "3/18/2020       146.00  135.02  361.22  23786160  389.00  404.86  350.51  \n",
       "3/19/2020       150.15  139.00  427.64  30195460  374.70  452.00  358.46  \n",
       "3/20/2020       147.10  135.86  427.53  28285500  438.20  477.00  425.79  \n",
       "\n",
       "[5 rows x 25 columns]"
      ]
     },
     "execution_count": 408,
     "metadata": {},
     "output_type": "execute_result"
    }
   ],
   "source": [
    "stock_data.head()"
   ]
  },
  {
   "cell_type": "code",
   "execution_count": 409,
   "metadata": {},
   "outputs": [
    {
     "data": {
      "text/html": [
       "<div>\n",
       "<style scoped>\n",
       "    .dataframe tbody tr th:only-of-type {\n",
       "        vertical-align: middle;\n",
       "    }\n",
       "\n",
       "    .dataframe tbody tr th {\n",
       "        vertical-align: top;\n",
       "    }\n",
       "\n",
       "    .dataframe thead th {\n",
       "        text-align: right;\n",
       "    }\n",
       "</style>\n",
       "<table border=\"1\" class=\"dataframe\">\n",
       "  <thead>\n",
       "    <tr style=\"text-align: right;\">\n",
       "      <th>Stock Info</th>\n",
       "      <th>Close</th>\n",
       "      <th>Volume</th>\n",
       "      <th>Open</th>\n",
       "      <th>High</th>\n",
       "      <th>Low</th>\n",
       "    </tr>\n",
       "    <tr>\n",
       "      <th>Date</th>\n",
       "      <th></th>\n",
       "      <th></th>\n",
       "      <th></th>\n",
       "      <th></th>\n",
       "      <th></th>\n",
       "    </tr>\n",
       "  </thead>\n",
       "  <tbody>\n",
       "    <tr>\n",
       "      <td>3/16/2020</td>\n",
       "      <td>146.01</td>\n",
       "      <td>39120420</td>\n",
       "      <td>152.32</td>\n",
       "      <td>159.13</td>\n",
       "      <td>143.10</td>\n",
       "    </tr>\n",
       "    <tr>\n",
       "      <td>3/17/2020</td>\n",
       "      <td>149.42</td>\n",
       "      <td>34255600</td>\n",
       "      <td>150.74</td>\n",
       "      <td>153.94</td>\n",
       "      <td>140.00</td>\n",
       "    </tr>\n",
       "    <tr>\n",
       "      <td>3/18/2020</td>\n",
       "      <td>146.96</td>\n",
       "      <td>37553140</td>\n",
       "      <td>139.75</td>\n",
       "      <td>148.18</td>\n",
       "      <td>137.10</td>\n",
       "    </tr>\n",
       "    <tr>\n",
       "      <td>3/19/2020</td>\n",
       "      <td>153.13</td>\n",
       "      <td>39862310</td>\n",
       "      <td>146.62</td>\n",
       "      <td>159.93</td>\n",
       "      <td>144.80</td>\n",
       "    </tr>\n",
       "    <tr>\n",
       "      <td>3/20/2020</td>\n",
       "      <td>149.73</td>\n",
       "      <td>32568400</td>\n",
       "      <td>156.02</td>\n",
       "      <td>159.27</td>\n",
       "      <td>148.00</td>\n",
       "    </tr>\n",
       "    <tr>\n",
       "      <td>...</td>\n",
       "      <td>...</td>\n",
       "      <td>...</td>\n",
       "      <td>...</td>\n",
       "      <td>...</td>\n",
       "      <td>...</td>\n",
       "    </tr>\n",
       "    <tr>\n",
       "      <td>8/24/2020</td>\n",
       "      <td>271.39</td>\n",
       "      <td>23685600</td>\n",
       "      <td>271.07</td>\n",
       "      <td>277.25</td>\n",
       "      <td>268.77</td>\n",
       "    </tr>\n",
       "    <tr>\n",
       "      <td>8/25/2020</td>\n",
       "      <td>280.82</td>\n",
       "      <td>42127240</td>\n",
       "      <td>272.41</td>\n",
       "      <td>283.09</td>\n",
       "      <td>270.26</td>\n",
       "    </tr>\n",
       "    <tr>\n",
       "      <td>8/26/2020</td>\n",
       "      <td>303.91</td>\n",
       "      <td>69015150</td>\n",
       "      <td>284.00</td>\n",
       "      <td>304.67</td>\n",
       "      <td>284.00</td>\n",
       "    </tr>\n",
       "    <tr>\n",
       "      <td>8/27/2020</td>\n",
       "      <td>293.22</td>\n",
       "      <td>30301310</td>\n",
       "      <td>300.16</td>\n",
       "      <td>301.23</td>\n",
       "      <td>292.02</td>\n",
       "    </tr>\n",
       "    <tr>\n",
       "      <td>8/28/2020</td>\n",
       "      <td>293.66</td>\n",
       "      <td>17172420</td>\n",
       "      <td>295.00</td>\n",
       "      <td>297.23</td>\n",
       "      <td>290.98</td>\n",
       "    </tr>\n",
       "  </tbody>\n",
       "</table>\n",
       "<p>117 rows × 5 columns</p>\n",
       "</div>"
      ],
      "text/plain": [
       "Stock Info   Close    Volume    Open    High     Low\n",
       "Date                                                \n",
       "3/16/2020   146.01  39120420  152.32  159.13  143.10\n",
       "3/17/2020   149.42  34255600  150.74  153.94  140.00\n",
       "3/18/2020   146.96  37553140  139.75  148.18  137.10\n",
       "3/19/2020   153.13  39862310  146.62  159.93  144.80\n",
       "3/20/2020   149.73  32568400  156.02  159.27  148.00\n",
       "...            ...       ...     ...     ...     ...\n",
       "8/24/2020   271.39  23685600  271.07  277.25  268.77\n",
       "8/25/2020   280.82  42127240  272.41  283.09  270.26\n",
       "8/26/2020   303.91  69015150  284.00  304.67  284.00\n",
       "8/27/2020   293.22  30301310  300.16  301.23  292.02\n",
       "8/28/2020   293.66  17172420  295.00  297.23  290.98\n",
       "\n",
       "[117 rows x 5 columns]"
      ]
     },
     "execution_count": 409,
     "metadata": {},
     "output_type": "execute_result"
    }
   ],
   "source": [
    "stock_data.Facebook"
   ]
  },
  {
   "cell_type": "code",
   "execution_count": 410,
   "metadata": {},
   "outputs": [
    {
     "data": {
      "text/html": [
       "<div>\n",
       "<style scoped>\n",
       "    .dataframe tbody tr th:only-of-type {\n",
       "        vertical-align: middle;\n",
       "    }\n",
       "\n",
       "    .dataframe tbody tr th {\n",
       "        vertical-align: top;\n",
       "    }\n",
       "\n",
       "    .dataframe thead tr th {\n",
       "        text-align: left;\n",
       "    }\n",
       "\n",
       "    .dataframe thead tr:last-of-type th {\n",
       "        text-align: right;\n",
       "    }\n",
       "</style>\n",
       "<table border=\"1\" class=\"dataframe\">\n",
       "  <thead>\n",
       "    <tr>\n",
       "      <th>Company Ticker</th>\n",
       "      <th colspan=\"5\" halign=\"left\">AAPL</th>\n",
       "      <th colspan=\"5\" halign=\"left\">Amazon</th>\n",
       "      <th>...</th>\n",
       "      <th colspan=\"5\" halign=\"left\">Microsoft</th>\n",
       "      <th colspan=\"5\" halign=\"left\">Tesla</th>\n",
       "    </tr>\n",
       "    <tr>\n",
       "      <th>Stock Info</th>\n",
       "      <th>Close</th>\n",
       "      <th>Volume</th>\n",
       "      <th>Open</th>\n",
       "      <th>High</th>\n",
       "      <th>Low</th>\n",
       "      <th>Close</th>\n",
       "      <th>Volume</th>\n",
       "      <th>Open</th>\n",
       "      <th>High</th>\n",
       "      <th>Low</th>\n",
       "      <th>...</th>\n",
       "      <th>Close</th>\n",
       "      <th>Volume</th>\n",
       "      <th>Open</th>\n",
       "      <th>High</th>\n",
       "      <th>Low</th>\n",
       "      <th>Close</th>\n",
       "      <th>Volume</th>\n",
       "      <th>Open</th>\n",
       "      <th>High</th>\n",
       "      <th>Low</th>\n",
       "    </tr>\n",
       "    <tr>\n",
       "      <th>Date</th>\n",
       "      <th></th>\n",
       "      <th></th>\n",
       "      <th></th>\n",
       "      <th></th>\n",
       "      <th></th>\n",
       "      <th></th>\n",
       "      <th></th>\n",
       "      <th></th>\n",
       "      <th></th>\n",
       "      <th></th>\n",
       "      <th></th>\n",
       "      <th></th>\n",
       "      <th></th>\n",
       "      <th></th>\n",
       "      <th></th>\n",
       "      <th></th>\n",
       "      <th></th>\n",
       "      <th></th>\n",
       "      <th></th>\n",
       "      <th></th>\n",
       "      <th></th>\n",
       "    </tr>\n",
       "  </thead>\n",
       "  <tbody>\n",
       "    <tr>\n",
       "      <td>3/16/2020</td>\n",
       "      <td>242.21</td>\n",
       "      <td>80605870</td>\n",
       "      <td>241.95</td>\n",
       "      <td>259.08</td>\n",
       "      <td>240.00</td>\n",
       "      <td>1689.15</td>\n",
       "      <td>8917265</td>\n",
       "      <td>1641.51</td>\n",
       "      <td>1759.45</td>\n",
       "      <td>1626.03</td>\n",
       "      <td>...</td>\n",
       "      <td>135.42</td>\n",
       "      <td>87905870</td>\n",
       "      <td>140.00</td>\n",
       "      <td>149.35</td>\n",
       "      <td>135.00</td>\n",
       "      <td>445.07</td>\n",
       "      <td>20489460</td>\n",
       "      <td>469.50</td>\n",
       "      <td>494.87</td>\n",
       "      <td>442.17</td>\n",
       "    </tr>\n",
       "    <tr>\n",
       "      <td>3/17/2020</td>\n",
       "      <td>252.86</td>\n",
       "      <td>81013970</td>\n",
       "      <td>247.51</td>\n",
       "      <td>257.61</td>\n",
       "      <td>238.40</td>\n",
       "      <td>1807.84</td>\n",
       "      <td>10917130</td>\n",
       "      <td>1775.47</td>\n",
       "      <td>1857.78</td>\n",
       "      <td>1689.24</td>\n",
       "      <td>...</td>\n",
       "      <td>146.57</td>\n",
       "      <td>81059820</td>\n",
       "      <td>140.00</td>\n",
       "      <td>147.50</td>\n",
       "      <td>135.00</td>\n",
       "      <td>430.20</td>\n",
       "      <td>23994580</td>\n",
       "      <td>440.01</td>\n",
       "      <td>471.85</td>\n",
       "      <td>396.00</td>\n",
       "    </tr>\n",
       "    <tr>\n",
       "      <td>3/18/2020</td>\n",
       "      <td>246.67</td>\n",
       "      <td>75058410</td>\n",
       "      <td>239.77</td>\n",
       "      <td>250.00</td>\n",
       "      <td>237.12</td>\n",
       "      <td>1830.00</td>\n",
       "      <td>9645218</td>\n",
       "      <td>1750.00</td>\n",
       "      <td>1841.66</td>\n",
       "      <td>1745.00</td>\n",
       "      <td>...</td>\n",
       "      <td>140.40</td>\n",
       "      <td>81593170</td>\n",
       "      <td>138.00</td>\n",
       "      <td>146.00</td>\n",
       "      <td>135.02</td>\n",
       "      <td>361.22</td>\n",
       "      <td>23786160</td>\n",
       "      <td>389.00</td>\n",
       "      <td>404.86</td>\n",
       "      <td>350.51</td>\n",
       "    </tr>\n",
       "    <tr>\n",
       "      <td>3/19/2020</td>\n",
       "      <td>244.78</td>\n",
       "      <td>67964260</td>\n",
       "      <td>247.39</td>\n",
       "      <td>252.84</td>\n",
       "      <td>242.61</td>\n",
       "      <td>1880.93</td>\n",
       "      <td>10399940</td>\n",
       "      <td>1860.00</td>\n",
       "      <td>1945.00</td>\n",
       "      <td>1832.65</td>\n",
       "      <td>...</td>\n",
       "      <td>142.71</td>\n",
       "      <td>85922660</td>\n",
       "      <td>142.77</td>\n",
       "      <td>150.15</td>\n",
       "      <td>139.00</td>\n",
       "      <td>427.64</td>\n",
       "      <td>30195460</td>\n",
       "      <td>374.70</td>\n",
       "      <td>452.00</td>\n",
       "      <td>358.46</td>\n",
       "    </tr>\n",
       "    <tr>\n",
       "      <td>3/20/2020</td>\n",
       "      <td>229.24</td>\n",
       "      <td>100423300</td>\n",
       "      <td>247.18</td>\n",
       "      <td>251.83</td>\n",
       "      <td>228.00</td>\n",
       "      <td>1846.09</td>\n",
       "      <td>9817850</td>\n",
       "      <td>1926.31</td>\n",
       "      <td>1957.00</td>\n",
       "      <td>1820.73</td>\n",
       "      <td>...</td>\n",
       "      <td>137.35</td>\n",
       "      <td>84866220</td>\n",
       "      <td>146.00</td>\n",
       "      <td>147.10</td>\n",
       "      <td>135.86</td>\n",
       "      <td>427.53</td>\n",
       "      <td>28285500</td>\n",
       "      <td>438.20</td>\n",
       "      <td>477.00</td>\n",
       "      <td>425.79</td>\n",
       "    </tr>\n",
       "    <tr>\n",
       "      <td>...</td>\n",
       "      <td>...</td>\n",
       "      <td>...</td>\n",
       "      <td>...</td>\n",
       "      <td>...</td>\n",
       "      <td>...</td>\n",
       "      <td>...</td>\n",
       "      <td>...</td>\n",
       "      <td>...</td>\n",
       "      <td>...</td>\n",
       "      <td>...</td>\n",
       "      <td>...</td>\n",
       "      <td>...</td>\n",
       "      <td>...</td>\n",
       "      <td>...</td>\n",
       "      <td>...</td>\n",
       "      <td>...</td>\n",
       "      <td>...</td>\n",
       "      <td>...</td>\n",
       "      <td>...</td>\n",
       "      <td>...</td>\n",
       "      <td>...</td>\n",
       "    </tr>\n",
       "    <tr>\n",
       "      <td>8/24/2020</td>\n",
       "      <td>503.43</td>\n",
       "      <td>86484440</td>\n",
       "      <td>514.79</td>\n",
       "      <td>515.14</td>\n",
       "      <td>495.75</td>\n",
       "      <td>3307.46</td>\n",
       "      <td>4666258</td>\n",
       "      <td>3310.15</td>\n",
       "      <td>3380.32</td>\n",
       "      <td>3257.56</td>\n",
       "      <td>...</td>\n",
       "      <td>213.69</td>\n",
       "      <td>25460150</td>\n",
       "      <td>214.79</td>\n",
       "      <td>215.52</td>\n",
       "      <td>212.43</td>\n",
       "      <td>2014.20</td>\n",
       "      <td>20063620</td>\n",
       "      <td>2126.28</td>\n",
       "      <td>2129.00</td>\n",
       "      <td>1927.52</td>\n",
       "    </tr>\n",
       "    <tr>\n",
       "      <td>8/25/2020</td>\n",
       "      <td>499.30</td>\n",
       "      <td>52873950</td>\n",
       "      <td>498.79</td>\n",
       "      <td>500.72</td>\n",
       "      <td>492.21</td>\n",
       "      <td>3346.49</td>\n",
       "      <td>3992842</td>\n",
       "      <td>3294.99</td>\n",
       "      <td>3357.40</td>\n",
       "      <td>3267.00</td>\n",
       "      <td>...</td>\n",
       "      <td>216.47</td>\n",
       "      <td>23043700</td>\n",
       "      <td>213.10</td>\n",
       "      <td>216.61</td>\n",
       "      <td>213.10</td>\n",
       "      <td>2023.34</td>\n",
       "      <td>10658890</td>\n",
       "      <td>1974.89</td>\n",
       "      <td>2027.95</td>\n",
       "      <td>1968.00</td>\n",
       "    </tr>\n",
       "    <tr>\n",
       "      <td>8/26/2020</td>\n",
       "      <td>506.09</td>\n",
       "      <td>40755570</td>\n",
       "      <td>504.72</td>\n",
       "      <td>507.97</td>\n",
       "      <td>500.33</td>\n",
       "      <td>3441.85</td>\n",
       "      <td>6508743</td>\n",
       "      <td>3351.11</td>\n",
       "      <td>3451.74</td>\n",
       "      <td>3344.57</td>\n",
       "      <td>...</td>\n",
       "      <td>221.15</td>\n",
       "      <td>39600830</td>\n",
       "      <td>217.88</td>\n",
       "      <td>222.09</td>\n",
       "      <td>217.36</td>\n",
       "      <td>2153.17</td>\n",
       "      <td>14239380</td>\n",
       "      <td>2060.00</td>\n",
       "      <td>2166.00</td>\n",
       "      <td>2053.63</td>\n",
       "    </tr>\n",
       "    <tr>\n",
       "      <td>8/27/2020</td>\n",
       "      <td>500.04</td>\n",
       "      <td>38888100</td>\n",
       "      <td>508.57</td>\n",
       "      <td>509.94</td>\n",
       "      <td>495.33</td>\n",
       "      <td>3400.00</td>\n",
       "      <td>4264795</td>\n",
       "      <td>3450.05</td>\n",
       "      <td>3453.00</td>\n",
       "      <td>3378.00</td>\n",
       "      <td>...</td>\n",
       "      <td>226.58</td>\n",
       "      <td>57602200</td>\n",
       "      <td>222.89</td>\n",
       "      <td>231.15</td>\n",
       "      <td>219.40</td>\n",
       "      <td>2238.75</td>\n",
       "      <td>23693040</td>\n",
       "      <td>2180.46</td>\n",
       "      <td>2295.60</td>\n",
       "      <td>2142.50</td>\n",
       "    </tr>\n",
       "    <tr>\n",
       "      <td>8/28/2020</td>\n",
       "      <td>499.23</td>\n",
       "      <td>46907480</td>\n",
       "      <td>504.05</td>\n",
       "      <td>505.77</td>\n",
       "      <td>498.31</td>\n",
       "      <td>3401.80</td>\n",
       "      <td>2896978</td>\n",
       "      <td>3423.00</td>\n",
       "      <td>3433.37</td>\n",
       "      <td>3386.50</td>\n",
       "      <td>...</td>\n",
       "      <td>228.91</td>\n",
       "      <td>26292900</td>\n",
       "      <td>228.18</td>\n",
       "      <td>230.64</td>\n",
       "      <td>226.58</td>\n",
       "      <td>2213.40</td>\n",
       "      <td>20081180</td>\n",
       "      <td>2295.12</td>\n",
       "      <td>2318.49</td>\n",
       "      <td>2186.52</td>\n",
       "    </tr>\n",
       "  </tbody>\n",
       "</table>\n",
       "<p>117 rows × 25 columns</p>\n",
       "</div>"
      ],
      "text/plain": [
       "Company Ticker    AAPL                                      Amazon            \\\n",
       "Stock Info       Close     Volume    Open    High     Low    Close    Volume   \n",
       "Date                                                                           \n",
       "3/16/2020       242.21   80605870  241.95  259.08  240.00  1689.15   8917265   \n",
       "3/17/2020       252.86   81013970  247.51  257.61  238.40  1807.84  10917130   \n",
       "3/18/2020       246.67   75058410  239.77  250.00  237.12  1830.00   9645218   \n",
       "3/19/2020       244.78   67964260  247.39  252.84  242.61  1880.93  10399940   \n",
       "3/20/2020       229.24  100423300  247.18  251.83  228.00  1846.09   9817850   \n",
       "...                ...        ...     ...     ...     ...      ...       ...   \n",
       "8/24/2020       503.43   86484440  514.79  515.14  495.75  3307.46   4666258   \n",
       "8/25/2020       499.30   52873950  498.79  500.72  492.21  3346.49   3992842   \n",
       "8/26/2020       506.09   40755570  504.72  507.97  500.33  3441.85   6508743   \n",
       "8/27/2020       500.04   38888100  508.57  509.94  495.33  3400.00   4264795   \n",
       "8/28/2020       499.23   46907480  504.05  505.77  498.31  3401.80   2896978   \n",
       "\n",
       "Company Ticker                             ... Microsoft                    \\\n",
       "Stock Info         Open     High      Low  ...     Close    Volume    Open   \n",
       "Date                                       ...                               \n",
       "3/16/2020       1641.51  1759.45  1626.03  ...    135.42  87905870  140.00   \n",
       "3/17/2020       1775.47  1857.78  1689.24  ...    146.57  81059820  140.00   \n",
       "3/18/2020       1750.00  1841.66  1745.00  ...    140.40  81593170  138.00   \n",
       "3/19/2020       1860.00  1945.00  1832.65  ...    142.71  85922660  142.77   \n",
       "3/20/2020       1926.31  1957.00  1820.73  ...    137.35  84866220  146.00   \n",
       "...                 ...      ...      ...  ...       ...       ...     ...   \n",
       "8/24/2020       3310.15  3380.32  3257.56  ...    213.69  25460150  214.79   \n",
       "8/25/2020       3294.99  3357.40  3267.00  ...    216.47  23043700  213.10   \n",
       "8/26/2020       3351.11  3451.74  3344.57  ...    221.15  39600830  217.88   \n",
       "8/27/2020       3450.05  3453.00  3378.00  ...    226.58  57602200  222.89   \n",
       "8/28/2020       3423.00  3433.37  3386.50  ...    228.91  26292900  228.18   \n",
       "\n",
       "Company Ticker                    Tesla                                       \n",
       "Stock Info        High     Low    Close    Volume     Open     High      Low  \n",
       "Date                                                                          \n",
       "3/16/2020       149.35  135.00   445.07  20489460   469.50   494.87   442.17  \n",
       "3/17/2020       147.50  135.00   430.20  23994580   440.01   471.85   396.00  \n",
       "3/18/2020       146.00  135.02   361.22  23786160   389.00   404.86   350.51  \n",
       "3/19/2020       150.15  139.00   427.64  30195460   374.70   452.00   358.46  \n",
       "3/20/2020       147.10  135.86   427.53  28285500   438.20   477.00   425.79  \n",
       "...                ...     ...      ...       ...      ...      ...      ...  \n",
       "8/24/2020       215.52  212.43  2014.20  20063620  2126.28  2129.00  1927.52  \n",
       "8/25/2020       216.61  213.10  2023.34  10658890  1974.89  2027.95  1968.00  \n",
       "8/26/2020       222.09  217.36  2153.17  14239380  2060.00  2166.00  2053.63  \n",
       "8/27/2020       231.15  219.40  2238.75  23693040  2180.46  2295.60  2142.50  \n",
       "8/28/2020       230.64  226.58  2213.40  20081180  2295.12  2318.49  2186.52  \n",
       "\n",
       "[117 rows x 25 columns]"
      ]
     },
     "execution_count": 410,
     "metadata": {},
     "output_type": "execute_result"
    }
   ],
   "source": [
    "stock_data"
   ]
  },
  {
   "cell_type": "code",
   "execution_count": 411,
   "metadata": {},
   "outputs": [
    {
     "data": {
      "text/plain": [
       "Company Ticker\n",
       "AAPL          506.09\n",
       "Amazon       3441.85\n",
       "Facebook      303.91\n",
       "Microsoft     228.91\n",
       "Tesla        2238.75\n",
       "dtype: float64"
      ]
     },
     "execution_count": 411,
     "metadata": {},
     "output_type": "execute_result"
    }
   ],
   "source": [
    "stock_data.xs(key='Close',axis=1,level='Stock Info').max()"
   ]
  },
  {
   "cell_type": "code",
   "execution_count": 412,
   "metadata": {},
   "outputs": [],
   "source": [
    "returns = pd.DataFrame()"
   ]
  },
  {
   "cell_type": "code",
   "execution_count": 413,
   "metadata": {},
   "outputs": [
    {
     "data": {
      "text/html": [
       "<div>\n",
       "<style scoped>\n",
       "    .dataframe tbody tr th:only-of-type {\n",
       "        vertical-align: middle;\n",
       "    }\n",
       "\n",
       "    .dataframe tbody tr th {\n",
       "        vertical-align: top;\n",
       "    }\n",
       "\n",
       "    .dataframe thead th {\n",
       "        text-align: right;\n",
       "    }\n",
       "</style>\n",
       "<table border=\"1\" class=\"dataframe\">\n",
       "  <thead>\n",
       "    <tr style=\"text-align: right;\">\n",
       "      <th></th>\n",
       "      <th>AAPLReturn</th>\n",
       "      <th>AmazonReturn</th>\n",
       "      <th>FacebookReturn</th>\n",
       "      <th>MicrosoftReturn</th>\n",
       "      <th>TeslaReturn</th>\n",
       "    </tr>\n",
       "    <tr>\n",
       "      <th>Date</th>\n",
       "      <th></th>\n",
       "      <th></th>\n",
       "      <th></th>\n",
       "      <th></th>\n",
       "      <th></th>\n",
       "    </tr>\n",
       "  </thead>\n",
       "  <tbody>\n",
       "    <tr>\n",
       "      <td>3/16/2020</td>\n",
       "      <td>NaN</td>\n",
       "      <td>NaN</td>\n",
       "      <td>NaN</td>\n",
       "      <td>NaN</td>\n",
       "      <td>NaN</td>\n",
       "    </tr>\n",
       "    <tr>\n",
       "      <td>3/17/2020</td>\n",
       "      <td>0.043970</td>\n",
       "      <td>0.070266</td>\n",
       "      <td>0.023355</td>\n",
       "      <td>0.082336</td>\n",
       "      <td>-0.033410</td>\n",
       "    </tr>\n",
       "    <tr>\n",
       "      <td>3/18/2020</td>\n",
       "      <td>-0.024480</td>\n",
       "      <td>0.012258</td>\n",
       "      <td>-0.016464</td>\n",
       "      <td>-0.042096</td>\n",
       "      <td>-0.160344</td>\n",
       "    </tr>\n",
       "    <tr>\n",
       "      <td>3/19/2020</td>\n",
       "      <td>-0.007662</td>\n",
       "      <td>0.027831</td>\n",
       "      <td>0.041984</td>\n",
       "      <td>0.016453</td>\n",
       "      <td>0.183877</td>\n",
       "    </tr>\n",
       "    <tr>\n",
       "      <td>3/20/2020</td>\n",
       "      <td>-0.063486</td>\n",
       "      <td>-0.018523</td>\n",
       "      <td>-0.022203</td>\n",
       "      <td>-0.037559</td>\n",
       "      <td>-0.000257</td>\n",
       "    </tr>\n",
       "  </tbody>\n",
       "</table>\n",
       "</div>"
      ],
      "text/plain": [
       "           AAPLReturn  AmazonReturn  FacebookReturn  MicrosoftReturn  \\\n",
       "Date                                                                   \n",
       "3/16/2020         NaN           NaN             NaN              NaN   \n",
       "3/17/2020    0.043970      0.070266        0.023355         0.082336   \n",
       "3/18/2020   -0.024480      0.012258       -0.016464        -0.042096   \n",
       "3/19/2020   -0.007662      0.027831        0.041984         0.016453   \n",
       "3/20/2020   -0.063486     -0.018523       -0.022203        -0.037559   \n",
       "\n",
       "           TeslaReturn  \n",
       "Date                    \n",
       "3/16/2020          NaN  \n",
       "3/17/2020    -0.033410  \n",
       "3/18/2020    -0.160344  \n",
       "3/19/2020     0.183877  \n",
       "3/20/2020    -0.000257  "
      ]
     },
     "execution_count": 413,
     "metadata": {},
     "output_type": "execute_result"
    }
   ],
   "source": [
    "for tick in tickers:\n",
    "    returns[tick + 'Return'] = stock_data[tick]['Close'].pct_change()\n",
    "returns.head()    "
   ]
  },
  {
   "cell_type": "code",
   "execution_count": 414,
   "metadata": {},
   "outputs": [],
   "source": [
    "import seaborn as sns"
   ]
  },
  {
   "cell_type": "code",
   "execution_count": 429,
   "metadata": {},
   "outputs": [
    {
     "data": {
      "text/plain": [
       "AAPLReturn         7/31/2020\n",
       "AmazonReturn       7/20/2020\n",
       "FacebookReturn     3/24/2020\n",
       "MicrosoftReturn    3/24/2020\n",
       "TeslaReturn        3/19/2020\n",
       "dtype: object"
      ]
     },
     "execution_count": 429,
     "metadata": {},
     "output_type": "execute_result"
    }
   ],
   "source": [
    "returns.idxmax()"
   ]
  },
  {
   "cell_type": "code",
   "execution_count": 428,
   "metadata": {},
   "outputs": [
    {
     "data": {
      "text/plain": [
       "AAPLReturn         3/20/2020\n",
       "AmazonReturn        5/1/2020\n",
       "FacebookReturn     6/26/2020\n",
       "MicrosoftReturn    6/11/2020\n",
       "TeslaReturn        3/18/2020\n",
       "dtype: object"
      ]
     },
     "execution_count": 428,
     "metadata": {},
     "output_type": "execute_result"
    }
   ],
   "source": [
    "returns.idxmin()"
   ]
  },
  {
   "cell_type": "code",
   "execution_count": 416,
   "metadata": {},
   "outputs": [
    {
     "data": {
      "text/plain": [
       "AAPLReturn         0.025568\n",
       "AmazonReturn       0.023343\n",
       "FacebookReturn     0.028069\n",
       "MicrosoftReturn    0.024883\n",
       "TeslaReturn        0.053347\n",
       "dtype: float64"
      ]
     },
     "execution_count": 416,
     "metadata": {},
     "output_type": "execute_result"
    }
   ],
   "source": [
    "returns.std()"
   ]
  },
  {
   "cell_type": "code",
   "execution_count": 431,
   "metadata": {},
   "outputs": [
    {
     "data": {
      "text/plain": [
       "AAPLReturn         0.030571\n",
       "AmazonReturn       0.026132\n",
       "FacebookReturn     0.033718\n",
       "MicrosoftReturn    0.028837\n",
       "TeslaReturn        0.058947\n",
       "dtype: float64"
      ]
     },
     "execution_count": 431,
     "metadata": {},
     "output_type": "execute_result"
    }
   ],
   "source": [
    "returns.loc['4/1/2020':'4/30/2020'].std()"
   ]
  },
  {
   "cell_type": "code",
   "execution_count": 435,
   "metadata": {},
   "outputs": [
    {
     "data": {
      "text/plain": [
       "AAPLReturn         0.012016\n",
       "AmazonReturn       0.020973\n",
       "FacebookReturn     0.018287\n",
       "MicrosoftReturn    0.013071\n",
       "TeslaReturn        0.035516\n",
       "dtype: float64"
      ]
     },
     "execution_count": 435,
     "metadata": {},
     "output_type": "execute_result"
    }
   ],
   "source": [
    "returns.loc['5/1/2020':'5/29/2020'].std()"
   ]
  },
  {
   "cell_type": "code",
   "execution_count": 417,
   "metadata": {},
   "outputs": [],
   "source": [
    "import matplotlib.pyplot as plt\n",
    "import seaborn as sns\n",
    "sns.set_style('whitegrid')\n",
    "%matplotlib inline"
   ]
  },
  {
   "cell_type": "code",
   "execution_count": 418,
   "metadata": {},
   "outputs": [
    {
     "name": "stdout",
     "output_type": "stream",
     "text": [
      "Requirement already satisfied: plotly in c:\\users\\archit singh\\anaconda3\\lib\\site-packages (4.11.0)\n",
      "Requirement already satisfied: six in c:\\users\\archit singh\\anaconda3\\lib\\site-packages (from plotly) (1.12.0)\n",
      "Requirement already satisfied: retrying>=1.3.3 in c:\\users\\archit singh\\anaconda3\\lib\\site-packages (from plotly) (1.3.3)\n"
     ]
    }
   ],
   "source": [
    "!pip install plotly"
   ]
  },
  {
   "cell_type": "code",
   "execution_count": 419,
   "metadata": {},
   "outputs": [
    {
     "name": "stdout",
     "output_type": "stream",
     "text": [
      "Requirement already satisfied: cufflinks in c:\\users\\archit singh\\anaconda3\\lib\\site-packages (0.17.3)\n",
      "Requirement already satisfied: ipywidgets>=7.0.0 in c:\\users\\archit singh\\anaconda3\\lib\\site-packages (from cufflinks) (7.5.1)\n",
      "Requirement already satisfied: setuptools>=34.4.1 in c:\\users\\archit singh\\anaconda3\\lib\\site-packages (from cufflinks) (41.4.0)\n",
      "Requirement already satisfied: plotly>=4.1.1 in c:\\users\\archit singh\\anaconda3\\lib\\site-packages (from cufflinks) (4.11.0)\n",
      "Requirement already satisfied: six>=1.9.0 in c:\\users\\archit singh\\anaconda3\\lib\\site-packages (from cufflinks) (1.12.0)\n",
      "Requirement already satisfied: colorlover>=0.2.1 in c:\\users\\archit singh\\anaconda3\\lib\\site-packages (from cufflinks) (0.3.0)\n",
      "Requirement already satisfied: pandas>=0.19.2 in c:\\users\\archit singh\\anaconda3\\lib\\site-packages (from cufflinks) (0.25.1)\n",
      "Requirement already satisfied: numpy>=1.9.2 in c:\\users\\archit singh\\anaconda3\\lib\\site-packages (from cufflinks) (1.16.5)\n",
      "Requirement already satisfied: ipython>=5.3.0 in c:\\users\\archit singh\\anaconda3\\lib\\site-packages (from cufflinks) (7.8.0)\n",
      "Requirement already satisfied: nbformat>=4.2.0 in c:\\users\\archit singh\\anaconda3\\lib\\site-packages (from ipywidgets>=7.0.0->cufflinks) (4.4.0)\n",
      "Requirement already satisfied: widgetsnbextension~=3.5.0 in c:\\users\\archit singh\\anaconda3\\lib\\site-packages (from ipywidgets>=7.0.0->cufflinks) (3.5.1)\n",
      "Requirement already satisfied: traitlets>=4.3.1 in c:\\users\\archit singh\\anaconda3\\lib\\site-packages (from ipywidgets>=7.0.0->cufflinks) (4.3.3)\n",
      "Requirement already satisfied: ipykernel>=4.5.1 in c:\\users\\archit singh\\anaconda3\\lib\\site-packages (from ipywidgets>=7.0.0->cufflinks) (5.1.2)\n",
      "Requirement already satisfied: retrying>=1.3.3 in c:\\users\\archit singh\\anaconda3\\lib\\site-packages (from plotly>=4.1.1->cufflinks) (1.3.3)\n",
      "Requirement already satisfied: python-dateutil>=2.6.1 in c:\\users\\archit singh\\anaconda3\\lib\\site-packages (from pandas>=0.19.2->cufflinks) (2.8.0)\n",
      "Requirement already satisfied: pytz>=2017.2 in c:\\users\\archit singh\\anaconda3\\lib\\site-packages (from pandas>=0.19.2->cufflinks) (2019.3)\n",
      "Requirement already satisfied: pygments in c:\\users\\archit singh\\anaconda3\\lib\\site-packages (from ipython>=5.3.0->cufflinks) (2.4.2)\n",
      "Requirement already satisfied: colorama; sys_platform == \"win32\" in c:\\users\\archit singh\\anaconda3\\lib\\site-packages (from ipython>=5.3.0->cufflinks) (0.4.1)\n",
      "Requirement already satisfied: jedi>=0.10 in c:\\users\\archit singh\\anaconda3\\lib\\site-packages (from ipython>=5.3.0->cufflinks) (0.15.1)\n",
      "Requirement already satisfied: backcall in c:\\users\\archit singh\\anaconda3\\lib\\site-packages (from ipython>=5.3.0->cufflinks) (0.1.0)\n",
      "Requirement already satisfied: prompt-toolkit<2.1.0,>=2.0.0 in c:\\users\\archit singh\\anaconda3\\lib\\site-packages (from ipython>=5.3.0->cufflinks) (2.0.10)\n",
      "Requirement already satisfied: pickleshare in c:\\users\\archit singh\\anaconda3\\lib\\site-packages (from ipython>=5.3.0->cufflinks) (0.7.5)\n",
      "Requirement already satisfied: decorator in c:\\users\\archit singh\\anaconda3\\lib\\site-packages (from ipython>=5.3.0->cufflinks) (4.4.0)\n",
      "Requirement already satisfied: jsonschema!=2.5.0,>=2.4 in c:\\users\\archit singh\\anaconda3\\lib\\site-packages (from nbformat>=4.2.0->ipywidgets>=7.0.0->cufflinks) (3.0.2)\n",
      "Requirement already satisfied: jupyter-core in c:\\users\\archit singh\\anaconda3\\lib\\site-packages (from nbformat>=4.2.0->ipywidgets>=7.0.0->cufflinks) (4.5.0)\n",
      "Requirement already satisfied: ipython-genutils in c:\\users\\archit singh\\anaconda3\\lib\\site-packages (from nbformat>=4.2.0->ipywidgets>=7.0.0->cufflinks) (0.2.0)\n",
      "Requirement already satisfied: notebook>=4.4.1 in c:\\users\\archit singh\\anaconda3\\lib\\site-packages (from widgetsnbextension~=3.5.0->ipywidgets>=7.0.0->cufflinks) (6.0.1)\n",
      "Requirement already satisfied: jupyter-client in c:\\users\\archit singh\\anaconda3\\lib\\site-packages (from ipykernel>=4.5.1->ipywidgets>=7.0.0->cufflinks) (5.3.3)\n",
      "Requirement already satisfied: tornado>=4.2 in c:\\users\\archit singh\\anaconda3\\lib\\site-packages (from ipykernel>=4.5.1->ipywidgets>=7.0.0->cufflinks) (6.0.3)\n",
      "Requirement already satisfied: parso>=0.5.0 in c:\\users\\archit singh\\anaconda3\\lib\\site-packages (from jedi>=0.10->ipython>=5.3.0->cufflinks) (0.5.1)\n",
      "Requirement already satisfied: wcwidth in c:\\users\\archit singh\\anaconda3\\lib\\site-packages (from prompt-toolkit<2.1.0,>=2.0.0->ipython>=5.3.0->cufflinks) (0.1.7)\n",
      "Requirement already satisfied: attrs>=17.4.0 in c:\\users\\archit singh\\anaconda3\\lib\\site-packages (from jsonschema!=2.5.0,>=2.4->nbformat>=4.2.0->ipywidgets>=7.0.0->cufflinks) (19.2.0)\n",
      "Requirement already satisfied: pyrsistent>=0.14.0 in c:\\users\\archit singh\\anaconda3\\lib\\site-packages (from jsonschema!=2.5.0,>=2.4->nbformat>=4.2.0->ipywidgets>=7.0.0->cufflinks) (0.15.4)\n",
      "Requirement already satisfied: jinja2 in c:\\users\\archit singh\\anaconda3\\lib\\site-packages (from notebook>=4.4.1->widgetsnbextension~=3.5.0->ipywidgets>=7.0.0->cufflinks) (2.10.3)\n",
      "Requirement already satisfied: terminado>=0.8.1 in c:\\users\\archit singh\\anaconda3\\lib\\site-packages (from notebook>=4.4.1->widgetsnbextension~=3.5.0->ipywidgets>=7.0.0->cufflinks) (0.8.2)\n",
      "Requirement already satisfied: Send2Trash in c:\\users\\archit singh\\anaconda3\\lib\\site-packages (from notebook>=4.4.1->widgetsnbextension~=3.5.0->ipywidgets>=7.0.0->cufflinks) (1.5.0)\n",
      "Requirement already satisfied: nbconvert in c:\\users\\archit singh\\anaconda3\\lib\\site-packages (from notebook>=4.4.1->widgetsnbextension~=3.5.0->ipywidgets>=7.0.0->cufflinks) (5.6.0)\n",
      "Requirement already satisfied: pyzmq>=17 in c:\\users\\archit singh\\anaconda3\\lib\\site-packages (from notebook>=4.4.1->widgetsnbextension~=3.5.0->ipywidgets>=7.0.0->cufflinks) (18.1.0)\n",
      "Requirement already satisfied: prometheus-client in c:\\users\\archit singh\\anaconda3\\lib\\site-packages (from notebook>=4.4.1->widgetsnbextension~=3.5.0->ipywidgets>=7.0.0->cufflinks) (0.7.1)\n",
      "Requirement already satisfied: pywin32>=1.0; sys_platform == \"win32\" in c:\\users\\archit singh\\anaconda3\\lib\\site-packages (from jupyter-client->ipykernel>=4.5.1->ipywidgets>=7.0.0->cufflinks) (223)\n",
      "Requirement already satisfied: MarkupSafe>=0.23 in c:\\users\\archit singh\\anaconda3\\lib\\site-packages (from jinja2->notebook>=4.4.1->widgetsnbextension~=3.5.0->ipywidgets>=7.0.0->cufflinks) (1.1.1)\n",
      "Requirement already satisfied: mistune<2,>=0.8.1 in c:\\users\\archit singh\\anaconda3\\lib\\site-packages (from nbconvert->notebook>=4.4.1->widgetsnbextension~=3.5.0->ipywidgets>=7.0.0->cufflinks) (0.8.4)\n",
      "Requirement already satisfied: pandocfilters>=1.4.1 in c:\\users\\archit singh\\anaconda3\\lib\\site-packages (from nbconvert->notebook>=4.4.1->widgetsnbextension~=3.5.0->ipywidgets>=7.0.0->cufflinks) (1.4.2)\n",
      "Requirement already satisfied: defusedxml in c:\\users\\archit singh\\anaconda3\\lib\\site-packages (from nbconvert->notebook>=4.4.1->widgetsnbextension~=3.5.0->ipywidgets>=7.0.0->cufflinks) (0.6.0)\n",
      "Requirement already satisfied: bleach in c:\\users\\archit singh\\anaconda3\\lib\\site-packages (from nbconvert->notebook>=4.4.1->widgetsnbextension~=3.5.0->ipywidgets>=7.0.0->cufflinks) (3.1.0)\n",
      "Requirement already satisfied: testpath in c:\\users\\archit singh\\anaconda3\\lib\\site-packages (from nbconvert->notebook>=4.4.1->widgetsnbextension~=3.5.0->ipywidgets>=7.0.0->cufflinks) (0.4.2)\n",
      "Requirement already satisfied: entrypoints>=0.2.2 in c:\\users\\archit singh\\anaconda3\\lib\\site-packages (from nbconvert->notebook>=4.4.1->widgetsnbextension~=3.5.0->ipywidgets>=7.0.0->cufflinks) (0.3)\n",
      "Requirement already satisfied: webencodings in c:\\users\\archit singh\\anaconda3\\lib\\site-packages (from bleach->nbconvert->notebook>=4.4.1->widgetsnbextension~=3.5.0->ipywidgets>=7.0.0->cufflinks) (0.5.1)\n"
     ]
    }
   ],
   "source": [
    "!pip install cufflinks"
   ]
  },
  {
   "cell_type": "code",
   "execution_count": 420,
   "metadata": {},
   "outputs": [
    {
     "data": {
      "text/html": [
       "        <script type=\"text/javascript\">\n",
       "        window.PlotlyConfig = {MathJaxConfig: 'local'};\n",
       "        if (window.MathJax) {MathJax.Hub.Config({SVG: {font: \"STIX-Web\"}});}\n",
       "        if (typeof require !== 'undefined') {\n",
       "        require.undef(\"plotly\");\n",
       "        requirejs.config({\n",
       "            paths: {\n",
       "                'plotly': ['https://cdn.plot.ly/plotly-latest.min']\n",
       "            }\n",
       "        });\n",
       "        require(['plotly'], function(Plotly) {\n",
       "            window._Plotly = Plotly;\n",
       "        });\n",
       "        }\n",
       "        </script>\n",
       "        "
      ]
     },
     "metadata": {},
     "output_type": "display_data"
    }
   ],
   "source": [
    "import plotly\n",
    "import cufflinks as cf\n",
    "cf.go_offline()"
   ]
  },
  {
   "cell_type": "code",
   "execution_count": 421,
   "metadata": {
    "scrolled": true
   },
   "outputs": [
    {
     "data": {
      "text/plain": [
       "<matplotlib.legend.Legend at 0x17f0dfda1c8>"
      ]
     },
     "execution_count": 421,
     "metadata": {},
     "output_type": "execute_result"
    },
    {
     "data": {
      "image/png": "[encoded data removed]",
      "text/plain": [
       "<Figure size 864x288 with 1 Axes>"
      ]
     },
     "metadata": {
      "needs_background": "light"
     },
     "output_type": "display_data"
    }
   ],
   "source": [
    "for tick in tickers:\n",
    "    stock_data[tick]['Close'].plot(figsize=(12,4),label=tick)\n",
    "\n",
    "plt.legend()"
   ]
  },
  {
   "cell_type": "code",
   "execution_count": 422,
   "metadata": {},
   "outputs": [
    {
     "data": {
      "text/plain": [
       "<matplotlib.legend.Legend at 0x17f0f1d2f48>"
      ]
     },
     "execution_count": 422,
     "metadata": {},
     "output_type": "execute_result"
    },
    {
     "data": {
      "image/png": "[encoded data removed]",
      "text/plain": [
       "<Figure size 864x288 with 1 Axes>"
      ]
     },
     "metadata": {
      "needs_background": "light"
     },
     "output_type": "display_data"
    }
   ],
   "source": [
    "for tick in tickers:\n",
    "    stock_data[tick]['High'].plot(figsize=(12,4),label=tick)\n",
    "\n",
    "plt.legend()"
   ]
  },
  {
   "cell_type": "code",
   "execution_count": 447,
   "metadata": {
    "scrolled": true
   },
   "outputs": [
    {
     "data": {
      "application/vnd.plotly.v1+json": {
       "config": {
        "linkText": "Export to plot.ly",
        "plotlyServerURL": "https://plot.ly",
        "showLink": true
       },
       "data": [
        {
         "line": {
          "color": "rgba(255, 153, 51, 1.0)",
          "dash": "solid",
          "shape": "linear",
          "width": 1.3
         },
         "mode": "lines",
         "name": "AAPL",
         "text": "",
         "type": "scatter",
         "x": [
          "3/16/2020",
          "3/17/2020",
          "3/18/2020",
          "3/19/2020",
          "3/20/2020",
          "3/23/2020",
          "3/24/2020",
          "3/25/2020",
          "3/26/2020",
          "3/27/2020",
          "3/30/2020",
          "3/31/2020",
          "4/1/2020",
          "4/2/2020",
          "4/3/2020",
          "4/6/2020",
          "4/7/2020",
          "4/8/2020",
          "4/9/2020",
          "4/13/2020",
          "4/14/2020",
          "4/15/2020",
          "4/16/2020",
          "4/17/2020",
          "4/20/2020",
          "4/21/2020",
          "4/22/2020",
          "4/23/2020",
          "4/24/2020",
          "4/27/2020",
          "4/28/2020",
          "4/29/2020",
          "4/30/2020",
          "5/1/2020",
          "5/4/2020",
          "5/5/2020",
          "5/6/2020",
          "5/7/2020",
          "5/8/2020",
          "5/11/2020",
          "5/12/2020",
          "5/13/2020",
          "5/14/2020",
          "5/15/2020",
          "5/18/2020",
          "5/19/2020",
          "5/20/2020",
          "5/21/2020",
          "5/22/2020",
          "5/26/2020",
          "5/27/2020",
          "5/28/2020",
          "5/29/2020",
          "6/1/2020",
          "6/2/2020",
          "6/3/2020",
          "6/4/2020",
          "6/5/2020",
          "6/8/2020",
          "6/9/2020",
          "6/10/2020",
          "6/11/2020",
          "6/12/2020",
          "6/15/2020",
          "6/16/2020",
          "6/17/2020",
          "6/18/2020",
          "6/19/2020",
          "6/22/2020",
          "6/23/2020",
          "6/24/2020",
          "6/25/2020",
          "6/26/2020",
          "6/29/2020",
          "6/30/2020",
          "7/1/2020",
          "7/2/2020",
          "7/6/2020",
          "7/7/2020",
          "7/8/2020",
          "7/9/2020",
          "7/10/2020",
          "7/13/2020",
          "7/14/2020",
          "7/15/2020",
          "7/16/2020",
          "7/17/2020",
          "7/20/2020",
          "7/21/2020",
          "7/22/2020",
          "7/23/2020",
          "7/24/2020",
          "7/27/2020",
          "7/28/2020",
          "7/29/2020",
          "7/30/2020",
          "7/31/2020",
          "8/3/2020",
          "8/4/2020",
          "8/5/2020",
          "8/6/2020",
          "8/7/2020",
          "8/10/2020",
          "8/11/2020",
          "8/12/2020",
          "8/13/2020",
          "8/14/2020",
          "8/17/2020",
          "8/18/2020",
          "8/19/2020",
          "8/20/2020",
          "8/21/2020",
          "8/24/2020",
          "8/25/2020",
          "8/26/2020",
          "8/27/2020",
          "8/28/2020"
         ],
         "y": [
          241.95,
          247.51,
          239.77,
          247.39,
          247.18,
          228.08,
          236.36,
          250.75,
          246.52,
          252.75,
          250.74,
          255.6,
          246.5,
          240.34,
          242.8,
          250.9,
          270.8,
          262.74,
          268.7,
          268.31,
          280,
          282.4,
          287.38,
          284.69,
          277.95,
          276.28,
          273.61,
          275.87,
          277.2,
          281.8,
          285.08,
          284.73,
          289.96,
          286.25,
          289.17,
          295.06,
          300.46,
          303.22,
          305.64,
          308.1,
          317.83,
          312.15,
          304.51,
          300.35,
          313.17,
          315.03,
          316.68,
          318.66,
          315.77,
          323.5,
          316.14,
          316.77,
          319.25,
          317.75,
          320.75,
          324.66,
          324.39,
          323.35,
          330.25,
          332.14,
          347.9,
          349.31,
          344.72,
          333.25,
          351.46,
          355.15,
          351.41,
          354.64,
          351.34,
          364,
          365,
          360.7,
          364.41,
          353.25,
          360.08,
          365.12,
          367.85,
          370,
          375.41,
          376.72,
          385.05,
          381.34,
          389.06,
          379.36,
          395.96,
          386.25,
          387.95,
          385.67,
          396.69,
          386.77,
          387.99,
          363.95,
          374.84,
          377.47,
          375,
          376.75,
          411.54,
          432.8,
          436.53,
          437.51,
          441.62,
          452.82,
          450.4,
          447.88,
          441.99,
          457.72,
          459.32,
          464.25,
          457.41,
          463.93,
          463,
          477.05,
          514.79,
          498.79,
          504.72,
          508.57,
          504.05
         ]
        },
        {
         "line": {
          "color": "rgba(55, 128, 191, 1.0)",
          "dash": "solid",
          "shape": "linear",
          "width": 1.3
         },
         "mode": "lines",
         "name": "Amazon",
         "text": "",
         "type": "scatter",
         "x": [
          "3/16/2020",
          "3/17/2020",
          "3/18/2020",
          "3/19/2020",
          "3/20/2020",
          "3/23/2020",
          "3/24/2020",
          "3/25/2020",
          "3/26/2020",
          "3/27/2020",
          "3/30/2020",
          "3/31/2020",
          "4/1/2020",
          "4/2/2020",
          "4/3/2020",
          "4/6/2020",
          "4/7/2020",
          "4/8/2020",
          "4/9/2020",
          "4/13/2020",
          "4/14/2020",
          "4/15/2020",
          "4/16/2020",
          "4/17/2020",
          "4/20/2020",
          "4/21/2020",
          "4/22/2020",
          "4/23/2020",
          "4/24/2020",
          "4/27/2020",
          "4/28/2020",
          "4/29/2020",
          "4/30/2020",
          "5/1/2020",
          "5/4/2020",
          "5/5/2020",
          "5/6/2020",
          "5/7/2020",
          "5/8/2020",
          "5/11/2020",
          "5/12/2020",
          "5/13/2020",
          "5/14/2020",
          "5/15/2020",
          "5/18/2020",
          "5/19/2020",
          "5/20/2020",
          "5/21/2020",
          "5/22/2020",
          "5/26/2020",
          "5/27/2020",
          "5/28/2020",
          "5/29/2020",
          "6/1/2020",
          "6/2/2020",
          "6/3/2020",
          "6/4/2020",
          "6/5/2020",
          "6/8/2020",
          "6/9/2020",
          "6/10/2020",
          "6/11/2020",
          "6/12/2020",
          "6/15/2020",
          "6/16/2020",
          "6/17/2020",
          "6/18/2020",
          "6/19/2020",
          "6/22/2020",
          "6/23/2020",
          "6/24/2020",
          "6/25/2020",
          "6/26/2020",
          "6/29/2020",
          "6/30/2020",
          "7/1/2020",
          "7/2/2020",
          "7/6/2020",
          "7/7/2020",
          "7/8/2020",
          "7/9/2020",
          "7/10/2020",
          "7/13/2020",
          "7/14/2020",
          "7/15/2020",
          "7/16/2020",
          "7/17/2020",
          "7/20/2020",
          "7/21/2020",
          "7/22/2020",
          "7/23/2020",
          "7/24/2020",
          "7/27/2020",
          "7/28/2020",
          "7/29/2020",
          "7/30/2020",
          "7/31/2020",
          "8/3/2020",
          "8/4/2020",
          "8/5/2020",
          "8/6/2020",
          "8/7/2020",
          "8/10/2020",
          "8/11/2020",
          "8/12/2020",
          "8/13/2020",
          "8/14/2020",
          "8/17/2020",
          "8/18/2020",
          "8/19/2020",
          "8/20/2020",
          "8/21/2020",
          "8/24/2020",
          "8/25/2020",
          "8/26/2020",
          "8/27/2020",
          "8/28/2020"
         ],
         "y": [
          1641.51,
          1775.47,
          1750,
          1860,
          1926.31,
          1827.75,
          1951.5,
          1920.69,
          1902,
          1930.86,
          1922.83,
          1964.35,
          1932.97,
          1901.64,
          1911.15,
          1936,
          2017.11,
          2021,
          2044.3,
          2040,
          2200.47,
          2257.68,
          2346,
          2372.33,
          2389.95,
          2416.61,
          2369,
          2399.98,
          2417,
          2443.2,
          2372.1,
          2330.01,
          2419.84,
          2336.8,
          2256.38,
          2340,
          2329.44,
          2374.78,
          2372.14,
          2374.7,
          2411.85,
          2366.8,
          2361.01,
          2368.52,
          2404.35,
          2429.83,
          2477.87,
          2500,
          2455.01,
          2458,
          2404.99,
          2384.33,
          2415.94,
          2448,
          2467,
          2468.01,
          2477.43,
          2444.51,
          2500.2,
          2529.44,
          2645,
          2603.5,
          2601.21,
          2526.6,
          2620,
          2647.5,
          2647.01,
          2678.08,
          2684.5,
          2726.02,
          2780,
          2739.55,
          2775.06,
          2690.01,
          2685.07,
          2757.99,
          2912.01,
          2934.97,
          3058.55,
          3022.61,
          3115.99,
          3191.76,
          3251.06,
          3089,
          3080.23,
          2971.06,
          3009,
          3000.2,
          3232.49,
          3125,
          3098.27,
          2930,
          3062,
          3054.27,
          3030.99,
          3014,
          3244,
          3180.51,
          3101.21,
          3143.77,
          3194.36,
          3224.01,
          3170.31,
          3113.2,
          3108,
          3182.99,
          3178.18,
          3173.12,
          3212,
          3303.01,
          3252,
          3295,
          3310.15,
          3294.99,
          3351.11,
          3450.05,
          3423
         ]
        },
        {
         "line": {
          "color": "rgba(50, 171, 96, 1.0)",
          "dash": "solid",
          "shape": "linear",
          "width": 1.3
         },
         "mode": "lines",
         "name": "Facebook",
         "text": "",
         "type": "scatter",
         "x": [
          "3/16/2020",
          "3/17/2020",
          "3/18/2020",
          "3/19/2020",
          "3/20/2020",
          "3/23/2020",
          "3/24/2020",
          "3/25/2020",
          "3/26/2020",
          "3/27/2020",
          "3/30/2020",
          "3/31/2020",
          "4/1/2020",
          "4/2/2020",
          "4/3/2020",
          "4/6/2020",
          "4/7/2020",
          "4/8/2020",
          "4/9/2020",
          "4/13/2020",
          "4/14/2020",
          "4/15/2020",
          "4/16/2020",
          "4/17/2020",
          "4/20/2020",
          "4/21/2020",
          "4/22/2020",
          "4/23/2020",
          "4/24/2020",
          "4/27/2020",
          "4/28/2020",
          "4/29/2020",
          "4/30/2020",
          "5/1/2020",
          "5/4/2020",
          "5/5/2020",
          "5/6/2020",
          "5/7/2020",
          "5/8/2020",
          "5/11/2020",
          "5/12/2020",
          "5/13/2020",
          "5/14/2020",
          "5/15/2020",
          "5/18/2020",
          "5/19/2020",
          "5/20/2020",
          "5/21/2020",
          "5/22/2020",
          "5/26/2020",
          "5/27/2020",
          "5/28/2020",
          "5/29/2020",
          "6/1/2020",
          "6/2/2020",
          "6/3/2020",
          "6/4/2020",
          "6/5/2020",
          "6/8/2020",
          "6/9/2020",
          "6/10/2020",
          "6/11/2020",
          "6/12/2020",
          "6/15/2020",
          "6/16/2020",
          "6/17/2020",
          "6/18/2020",
          "6/19/2020",
          "6/22/2020",
          "6/23/2020",
          "6/24/2020",
          "6/25/2020",
          "6/26/2020",
          "6/29/2020",
          "6/30/2020",
          "7/1/2020",
          "7/2/2020",
          "7/6/2020",
          "7/7/2020",
          "7/8/2020",
          "7/9/2020",
          "7/10/2020",
          "7/13/2020",
          "7/14/2020",
          "7/15/2020",
          "7/16/2020",
          "7/17/2020",
          "7/20/2020",
          "7/21/2020",
          "7/22/2020",
          "7/23/2020",
          "7/24/2020",
          "7/27/2020",
          "7/28/2020",
          "7/29/2020",
          "7/30/2020",
          "7/31/2020",
          "8/3/2020",
          "8/4/2020",
          "8/5/2020",
          "8/6/2020",
          "8/7/2020",
          "8/10/2020",
          "8/11/2020",
          "8/12/2020",
          "8/13/2020",
          "8/14/2020",
          "8/17/2020",
          "8/18/2020",
          "8/19/2020",
          "8/20/2020",
          "8/21/2020",
          "8/24/2020",
          "8/25/2020",
          "8/26/2020",
          "8/27/2020",
          "8/28/2020"
         ],
         "y": [
          152.32,
          150.74,
          139.75,
          146.62,
          156.02,
          149.66,
          155.21,
          158.92,
          158.25,
          158.2,
          159.18,
          165.48,
          161.62,
          159.1,
          157.15,
          160.15,
          171.79,
          171.25,
          175.9,
          173.67,
          178.98,
          175.19,
          177.95,
          179.2,
          177.41,
          175.25,
          178.45,
          184.08,
          183.23,
          192.66,
          188.66,
          190.93,
          206.92,
          201.6,
          200.2,
          207.02,
          208.12,
          211.16,
          212.24,
          210.89,
          213.29,
          209.43,
          202.56,
          205.27,
          212.15,
          213.27,
          223.5,
          234.72,
          231.51,
          239.77,
          229.07,
          224.3,
          225.2,
          224.59,
          230.94,
          232.11,
          229.56,
          226.71,
          229.03,
          231.52,
          240.96,
          229.94,
          229.9,
          225.09,
          237.14,
          235,
          234.99,
          237.79,
          238.56,
          241.28,
          241.2,
          234.62,
          232.64,
          209.75,
          220.59,
          228.5,
          239,
          233.76,
          239.41,
          238.11,
          245,
          243.69,
          247.01,
          236.76,
          241.55,
          238,
          241,
          240.06,
          246.22,
          240.26,
          239.63,
          230.19,
          231.46,
          234.63,
          231.14,
          230.22,
          255.82,
          252.65,
          251.56,
          250.19,
          249.04,
          264.08,
          268.04,
          260.19,
          258.97,
          261.55,
          262.31,
          262.5,
          260.95,
          261.39,
          261.5,
          268.69,
          271.07,
          272.41,
          284,
          300.16,
          295
         ]
        },
        {
         "line": {
          "color": "rgba(128, 0, 128, 1.0)",
          "dash": "solid",
          "shape": "linear",
          "width": 1.3
         },
         "mode": "lines",
         "name": "Microsoft",
         "text": "",
         "type": "scatter",
         "x": [
          "3/16/2020",
          "3/17/2020",
          "3/18/2020",
          "3/19/2020",
          "3/20/2020",
          "3/23/2020",
          "3/24/2020",
          "3/25/2020",
          "3/26/2020",
          "3/27/2020",
          "3/30/2020",
          "3/31/2020",
          "4/1/2020",
          "4/2/2020",
          "4/3/2020",
          "4/6/2020",
          "4/7/2020",
          "4/8/2020",
          "4/9/2020",
          "4/13/2020",
          "4/14/2020",
          "4/15/2020",
          "4/16/2020",
          "4/17/2020",
          "4/20/2020",
          "4/21/2020",
          "4/22/2020",
          "4/23/2020",
          "4/24/2020",
          "4/27/2020",
          "4/28/2020",
          "4/29/2020",
          "4/30/2020",
          "5/1/2020",
          "5/4/2020",
          "5/5/2020",
          "5/6/2020",
          "5/7/2020",
          "5/8/2020",
          "5/11/2020",
          "5/12/2020",
          "5/13/2020",
          "5/14/2020",
          "5/15/2020",
          "5/18/2020",
          "5/19/2020",
          "5/20/2020",
          "5/21/2020",
          "5/22/2020",
          "5/26/2020",
          "5/27/2020",
          "5/28/2020",
          "5/29/2020",
          "6/1/2020",
          "6/2/2020",
          "6/3/2020",
          "6/4/2020",
          "6/5/2020",
          "6/8/2020",
          "6/9/2020",
          "6/10/2020",
          "6/11/2020",
          "6/12/2020",
          "6/15/2020",
          "6/16/2020",
          "6/17/2020",
          "6/18/2020",
          "6/19/2020",
          "6/22/2020",
          "6/23/2020",
          "6/24/2020",
          "6/25/2020",
          "6/26/2020",
          "6/29/2020",
          "6/30/2020",
          "7/1/2020",
          "7/2/2020",
          "7/6/2020",
          "7/7/2020",
          "7/8/2020",
          "7/9/2020",
          "7/10/2020",
          "7/13/2020",
          "7/14/2020",
          "7/15/2020",
          "7/16/2020",
          "7/17/2020",
          "7/20/2020",
          "7/21/2020",
          "7/22/2020",
          "7/23/2020",
          "7/24/2020",
          "7/27/2020",
          "7/28/2020",
          "7/29/2020",
          "7/30/2020",
          "7/31/2020",
          "8/3/2020",
          "8/4/2020",
          "8/5/2020",
          "8/6/2020",
          "8/7/2020",
          "8/10/2020",
          "8/11/2020",
          "8/12/2020",
          "8/13/2020",
          "8/14/2020",
          "8/17/2020",
          "8/18/2020",
          "8/19/2020",
          "8/20/2020",
          "8/21/2020",
          "8/24/2020",
          "8/25/2020",
          "8/26/2020",
          "8/27/2020",
          "8/28/2020"
         ],
         "y": [
          140,
          140,
          138,
          142.77,
          146,
          137.01,
          143.75,
          148.91,
          148.4,
          151.75,
          152.44,
          159.4,
          153,
          151.86,
          155.1,
          160.32,
          169.59,
          165.67,
          166.36,
          164.35,
          169,
          171.2,
          174.3,
          179.5,
          176.63,
          173.5,
          171.39,
          174.11,
          172.06,
          176.59,
          175.59,
          173.22,
          180,
          175.8,
          174.49,
          180.62,
          182.08,
          184.17,
          184.98,
          183.15,
          186.8,
          182.55,
          177.54,
          179.06,
          185.75,
          185.03,
          184.81,
          185.4,
          183.19,
          186.34,
          180.2,
          180.74,
          182.73,
          182.54,
          184.25,
          184.82,
          184.3,
          182.62,
          185.94,
          188,
          191.13,
          193.13,
          190.54,
          184.58,
          192.89,
          195.03,
          194,
          198.59,
          195.79,
          202.09,
          201.6,
          197.8,
          199.73,
          195.78,
          197.88,
          203.14,
          205.68,
          208.83,
          210.45,
          210.07,
          216.33,
          213.62,
          214.48,
          206.13,
          209.56,
          205.4,
          204.47,
          205,
          213.66,
          209.2,
          207.19,
          200.42,
          201.47,
          203.61,
          202.5,
          201,
          204.4,
          211.52,
          214.17,
          214.9,
          212.34,
          214.85,
          211.67,
          207.16,
          205.29,
          209.44,
          208.76,
          209.6,
          210.53,
          211.49,
          209.54,
          213.86,
          214.79,
          213.1,
          217.88,
          222.89,
          228.18
         ]
        },
        {
         "line": {
          "color": "rgba(219, 64, 82, 1.0)",
          "dash": "solid",
          "shape": "linear",
          "width": 1.3
         },
         "mode": "lines",
         "name": "Tesla",
         "text": "",
         "type": "scatter",
         "x": [
          "3/16/2020",
          "3/17/2020",
          "3/18/2020",
          "3/19/2020",
          "3/20/2020",
          "3/23/2020",
          "3/24/2020",
          "3/25/2020",
          "3/26/2020",
          "3/27/2020",
          "3/30/2020",
          "3/31/2020",
          "4/1/2020",
          "4/2/2020",
          "4/3/2020",
          "4/6/2020",
          "4/7/2020",
          "4/8/2020",
          "4/9/2020",
          "4/13/2020",
          "4/14/2020",
          "4/15/2020",
          "4/16/2020",
          "4/17/2020",
          "4/20/2020",
          "4/21/2020",
          "4/22/2020",
          "4/23/2020",
          "4/24/2020",
          "4/27/2020",
          "4/28/2020",
          "4/29/2020",
          "4/30/2020",
          "5/1/2020",
          "5/4/2020",
          "5/5/2020",
          "5/6/2020",
          "5/7/2020",
          "5/8/2020",
          "5/11/2020",
          "5/12/2020",
          "5/13/2020",
          "5/14/2020",
          "5/15/2020",
          "5/18/2020",
          "5/19/2020",
          "5/20/2020",
          "5/21/2020",
          "5/22/2020",
          "5/26/2020",
          "5/27/2020",
          "5/28/2020",
          "5/29/2020",
          "6/1/2020",
          "6/2/2020",
          "6/3/2020",
          "6/4/2020",
          "6/5/2020",
          "6/8/2020",
          "6/9/2020",
          "6/10/2020",
          "6/11/2020",
          "6/12/2020",
          "6/15/2020",
          "6/16/2020",
          "6/17/2020",
          "6/18/2020",
          "6/19/2020",
          "6/22/2020",
          "6/23/2020",
          "6/24/2020",
          "6/25/2020",
          "6/26/2020",
          "6/29/2020",
          "6/30/2020",
          "7/1/2020",
          "7/2/2020",
          "7/6/2020",
          "7/7/2020",
          "7/8/2020",
          "7/9/2020",
          "7/10/2020",
          "7/13/2020",
          "7/14/2020",
          "7/15/2020",
          "7/16/2020",
          "7/17/2020",
          "7/20/2020",
          "7/21/2020",
          "7/22/2020",
          "7/23/2020",
          "7/24/2020",
          "7/27/2020",
          "7/28/2020",
          "7/29/2020",
          "7/30/2020",
          "7/31/2020",
          "8/3/2020",
          "8/4/2020",
          "8/5/2020",
          "8/6/2020",
          "8/7/2020",
          "8/10/2020",
          "8/11/2020",
          "8/12/2020",
          "8/13/2020",
          "8/14/2020",
          "8/17/2020",
          "8/18/2020",
          "8/19/2020",
          "8/20/2020",
          "8/21/2020",
          "8/24/2020",
          "8/25/2020",
          "8/26/2020",
          "8/27/2020",
          "8/28/2020"
         ],
         "y": [
          469.5,
          440.01,
          389,
          374.7,
          438.2,
          433.6,
          477.3,
          545.25,
          547.39,
          505,
          510.26,
          501.25,
          504,
          481.03,
          509.5,
          511.2,
          545,
          554.2,
          562.09,
          590.16,
          698.97,
          742,
          716.94,
          772.28,
          732.7,
          730.12,
          703.98,
          727.6,
          710.81,
          737.61,
          795.64,
          790.17,
          855.19,
          755,
          701,
          789.79,
          776.5,
          777.21,
          793.77,
          790.51,
          827,
          820.83,
          780,
          790.35,
          827.78,
          815.17,
          820.5,
          816,
          822.17,
          834.5,
          820.86,
          813.51,
          808.75,
          858,
          894.7,
          888.12,
          889.88,
          877.84,
          919,
          940.01,
          991.88,
          990.2,
          980,
          917.79,
          1011.85,
          987.71,
          1003,
          1012.78,
          999.95,
          998.88,
          994.11,
          954.27,
          994.78,
          969.01,
          1006.5,
          1083,
          1221.48,
          1276.69,
          1405.01,
          1405,
          1396.99,
          1396,
          1659,
          1556,
          1543,
          1477.16,
          1513.45,
          1519.01,
          1639.93,
          1599,
          1678.95,
          1416.01,
          1435,
          1504,
          1501,
          1488,
          1515,
          1449.2,
          1495.01,
          1492.99,
          1490.83,
          1499.54,
          1448,
          1396,
          1470,
          1611,
          1664.99,
          1677,
          1898.99,
          1865,
          1860.68,
          2044.76,
          2126.28,
          1974.89,
          2060,
          2180.46,
          2295.12
         ]
        }
       ],
       "layout": {
        "legend": {
         "bgcolor": "#F5F6F9",
         "font": {
          "color": "#4D5663"
         }
        },
        "paper_bgcolor": "#F5F6F9",
        "plot_bgcolor": "#F5F6F9",
        "template": {
         "data": {
          "bar": [
           {
            "error_x": {
             "color": "#2a3f5f"
            },
            "error_y": {
             "color": "#2a3f5f"
            },
            "marker": {
             "line": {
              "color": "#E5ECF6",
              "width": 0.5
             }
            },
            "type": "bar"
           }
          ],
          "barpolar": [
           {
            "marker": {
             "line": {
              "color": "#E5ECF6",
              "width": 0.5
             }
            },
            "type": "barpolar"
           }
          ],
          "carpet": [
           {
            "aaxis": {
             "endlinecolor": "#2a3f5f",
             "gridcolor": "white",
             "linecolor": "white",
             "minorgridcolor": "white",
             "startlinecolor": "#2a3f5f"
            },
            "baxis": {
             "endlinecolor": "#2a3f5f",
             "gridcolor": "white",
             "linecolor": "white",
             "minorgridcolor": "white",
             "startlinecolor": "#2a3f5f"
            },
            "type": "carpet"
           }
          ],
          "choropleth": [
           {
            "colorbar": {
             "outlinewidth": 0,
             "ticks": ""
            },
            "type": "choropleth"
           }
          ],
          "contour": [
           {
            "colorbar": {
             "outlinewidth": 0,
             "ticks": ""
            },
            "colorscale": [
             [
              0,
              "#0d0887"
             ],
             [
              0.1111111111111111,
              "#46039f"
             ],
             [
              0.2222222222222222,
              "#7201a8"
             ],
             [
              0.3333333333333333,
              "#9c179e"
             ],
             [
              0.4444444444444444,
              "#bd3786"
             ],
             [
              0.5555555555555556,
              "#d8576b"
             ],
             [
              0.6666666666666666,
              "#ed7953"
             ],
             [
              0.7777777777777778,
              "#fb9f3a"
             ],
             [
              0.8888888888888888,
              "#fdca26"
             ],
             [
              1,
              "#f0f921"
             ]
            ],
            "type": "contour"
           }
          ],
          "contourcarpet": [
           {
            "colorbar": {
             "outlinewidth": 0,
             "ticks": ""
            },
            "type": "contourcarpet"
           }
          ],
          "heatmap": [
           {
            "colorbar": {
             "outlinewidth": 0,
             "ticks": ""
            },
            "colorscale": [
             [
              0,
              "#0d0887"
             ],
             [
              0.1111111111111111,
              "#46039f"
             ],
             [
              0.2222222222222222,
              "#7201a8"
             ],
             [
              0.3333333333333333,
              "#9c179e"
             ],
             [
              0.4444444444444444,
              "#bd3786"
             ],
             [
              0.5555555555555556,
              "#d8576b"
             ],
             [
              0.6666666666666666,
              "#ed7953"
             ],
             [
              0.7777777777777778,
              "#fb9f3a"
             ],
             [
              0.8888888888888888,
              "#fdca26"
             ],
             [
              1,
              "#f0f921"
             ]
            ],
            "type": "heatmap"
           }
          ],
          "heatmapgl": [
           {
            "colorbar": {
             "outlinewidth": 0,
             "ticks": ""
            },
            "colorscale": [
             [
              0,
              "#0d0887"
             ],
             [
              0.1111111111111111,
              "#46039f"
             ],
             [
              0.2222222222222222,
              "#7201a8"
             ],
             [
              0.3333333333333333,
              "#9c179e"
             ],
             [
              0.4444444444444444,
              "#bd3786"
             ],
             [
              0.5555555555555556,
              "#d8576b"
             ],
             [
              0.6666666666666666,
              "#ed7953"
             ],
             [
              0.7777777777777778,
              "#fb9f3a"
             ],
             [
              0.8888888888888888,
              "#fdca26"
             ],
             [
              1,
              "#f0f921"
             ]
            ],
            "type": "heatmapgl"
           }
          ],
          "histogram": [
           {
            "marker": {
             "colorbar": {
              "outlinewidth": 0,
              "ticks": ""
             }
            },
            "type": "histogram"
           }
          ],
          "histogram2d": [
           {
            "colorbar": {
             "outlinewidth": 0,
             "ticks": ""
            },
            "colorscale": [
             [
              0,
              "#0d0887"
             ],
             [
              0.1111111111111111,
              "#46039f"
             ],
             [
              0.2222222222222222,
              "#7201a8"
             ],
             [
              0.3333333333333333,
              "#9c179e"
             ],
             [
              0.4444444444444444,
              "#bd3786"
             ],
             [
              0.5555555555555556,
              "#d8576b"
             ],
             [
              0.6666666666666666,
              "#ed7953"
             ],
             [
              0.7777777777777778,
              "#fb9f3a"
             ],
             [
              0.8888888888888888,
              "#fdca26"
             ],
             [
              1,
              "#f0f921"
             ]
            ],
            "type": "histogram2d"
           }
          ],
          "histogram2dcontour": [
           {
            "colorbar": {
             "outlinewidth": 0,
             "ticks": ""
            },
            "colorscale": [
             [
              0,
              "#0d0887"
             ],
             [
              0.1111111111111111,
              "#46039f"
             ],
             [
              0.2222222222222222,
              "#7201a8"
             ],
             [
              0.3333333333333333,
              "#9c179e"
             ],
             [
              0.4444444444444444,
              "#bd3786"
             ],
             [
              0.5555555555555556,
              "#d8576b"
             ],
             [
              0.6666666666666666,
              "#ed7953"
             ],
             [
              0.7777777777777778,
              "#fb9f3a"
             ],
             [
              0.8888888888888888,
              "#fdca26"
             ],
             [
              1,
              "#f0f921"
             ]
            ],
            "type": "histogram2dcontour"
           }
          ],
          "mesh3d": [
           {
            "colorbar": {
             "outlinewidth": 0,
             "ticks": ""
            },
            "type": "mesh3d"
           }
          ],
          "parcoords": [
           {
            "line": {
             "colorbar": {
              "outlinewidth": 0,
              "ticks": ""
             }
            },
            "type": "parcoords"
           }
          ],
          "pie": [
           {
            "automargin": true,
            "type": "pie"
           }
          ],
          "scatter": [
           {
            "marker": {
             "colorbar": {
              "outlinewidth": 0,
              "ticks": ""
             }
            },
            "type": "scatter"
           }
          ],
          "scatter3d": [
           {
            "line": {
             "colorbar": {
              "outlinewidth": 0,
              "ticks": ""
             }
            },
            "marker": {
             "colorbar": {
              "outlinewidth": 0,
              "ticks": ""
             }
            },
            "type": "scatter3d"
           }
          ],
          "scattercarpet": [
           {
            "marker": {
             "colorbar": {
              "outlinewidth": 0,
              "ticks": ""
             }
            },
            "type": "scattercarpet"
           }
          ],
          "scattergeo": [
           {
            "marker": {
             "colorbar": {
              "outlinewidth": 0,
              "ticks": ""
             }
            },
            "type": "scattergeo"
           }
          ],
          "scattergl": [
           {
            "marker": {
             "colorbar": {
              "outlinewidth": 0,
              "ticks": ""
             }
            },
            "type": "scattergl"
           }
          ],
          "scattermapbox": [
           {
            "marker": {
             "colorbar": {
              "outlinewidth": 0,
              "ticks": ""
             }
            },
            "type": "scattermapbox"
           }
          ],
          "scatterpolar": [
           {
            "marker": {
             "colorbar": {
              "outlinewidth": 0,
              "ticks": ""
             }
            },
            "type": "scatterpolar"
           }
          ],
          "scatterpolargl": [
           {
            "marker": {
             "colorbar": {
              "outlinewidth": 0,
              "ticks": ""
             }
            },
            "type": "scatterpolargl"
           }
          ],
          "scatterternary": [
           {
            "marker": {
             "colorbar": {
              "outlinewidth": 0,
              "ticks": ""
             }
            },
            "type": "scatterternary"
           }
          ],
          "surface": [
           {
            "colorbar": {
             "outlinewidth": 0,
             "ticks": ""
            },
            "colorscale": [
             [
              0,
              "#0d0887"
             ],
             [
              0.1111111111111111,
              "#46039f"
             ],
             [
              0.2222222222222222,
              "#7201a8"
             ],
             [
              0.3333333333333333,
              "#9c179e"
             ],
             [
              0.4444444444444444,
              "#bd3786"
             ],
             [
              0.5555555555555556,
              "#d8576b"
             ],
             [
              0.6666666666666666,
              "#ed7953"
             ],
             [
              0.7777777777777778,
              "#fb9f3a"
             ],
             [
              0.8888888888888888,
              "#fdca26"
             ],
             [
              1,
              "#f0f921"
             ]
            ],
            "type": "surface"
           }
          ],
          "table": [
           {
            "cells": {
             "fill": {
              "color": "#EBF0F8"
             },
             "line": {
              "color": "white"
             }
            },
            "header": {
             "fill": {
              "color": "#C8D4E3"
             },
             "line": {
              "color": "white"
             }
            },
            "type": "table"
           }
          ]
         },
         "layout": {
          "annotationdefaults": {
           "arrowcolor": "#2a3f5f",
           "arrowhead": 0,
           "arrowwidth": 1
          },
          "coloraxis": {
           "colorbar": {
            "outlinewidth": 0,
            "ticks": ""
           }
          },
          "colorscale": {
           "diverging": [
            [
             0,
             "#8e0152"
            ],
            [
             0.1,
             "#c51b7d"
            ],
            [
             0.2,
             "#de77ae"
            ],
            [
             0.3,
             "#f1b6da"
            ],
            [
             0.4,
             "#fde0ef"
            ],
            [
             0.5,
             "#f7f7f7"
            ],
            [
             0.6,
             "#e6f5d0"
            ],
            [
             0.7,
             "#b8e186"
            ],
            [
             0.8,
             "#7fbc41"
            ],
            [
             0.9,
             "#4d9221"
            ],
            [
             1,
             "#276419"
            ]
           ],
           "sequential": [
            [
             0,
             "#0d0887"
            ],
            [
             0.1111111111111111,
             "#46039f"
            ],
            [
             0.2222222222222222,
             "#7201a8"
            ],
            [
             0.3333333333333333,
             "#9c179e"
            ],
            [
             0.4444444444444444,
             "#bd3786"
            ],
            [
             0.5555555555555556,
             "#d8576b"
            ],
            [
             0.6666666666666666,
             "#ed7953"
            ],
            [
             0.7777777777777778,
             "#fb9f3a"
            ],
            [
             0.8888888888888888,
             "#fdca26"
            ],
            [
             1,
             "#f0f921"
            ]
           ],
           "sequentialminus": [
            [
             0,
             "#0d0887"
            ],
            [
             0.1111111111111111,
             "#46039f"
            ],
            [
             0.2222222222222222,
             "#7201a8"
            ],
            [
             0.3333333333333333,
             "#9c179e"
            ],
            [
             0.4444444444444444,
             "#bd3786"
            ],
            [
             0.5555555555555556,
             "#d8576b"
            ],
            [
             0.6666666666666666,
             "#ed7953"
            ],
            [
             0.7777777777777778,
             "#fb9f3a"
            ],
            [
             0.8888888888888888,
             "#fdca26"
            ],
            [
             1,
             "#f0f921"
            ]
           ]
          },
          "colorway": [
           "#636efa",
           "#EF553B",
           "#00cc96",
           "#ab63fa",
           "#FFA15A",
           "#19d3f3",
           "#FF6692",
           "#B6E880",
           "#FF97FF",
           "#FECB52"
          ],
          "font": {
           "color": "#2a3f5f"
          },
          "geo": {
           "bgcolor": "white",
           "lakecolor": "white",
           "landcolor": "#E5ECF6",
           "showlakes": true,
           "showland": true,
           "subunitcolor": "white"
          },
          "hoverlabel": {
           "align": "left"
          },
          "hovermode": "closest",
          "mapbox": {
           "style": "light"
          },
          "paper_bgcolor": "white",
          "plot_bgcolor": "#E5ECF6",
          "polar": {
           "angularaxis": {
            "gridcolor": "white",
            "linecolor": "white",
            "ticks": ""
           },
           "bgcolor": "#E5ECF6",
           "radialaxis": {
            "gridcolor": "white",
            "linecolor": "white",
            "ticks": ""
           }
          },
          "scene": {
           "xaxis": {
            "backgroundcolor": "#E5ECF6",
            "gridcolor": "white",
            "gridwidth": 2,
            "linecolor": "white",
            "showbackground": true,
            "ticks": "",
            "zerolinecolor": "white"
           },
           "yaxis": {
            "backgroundcolor": "#E5ECF6",
            "gridcolor": "white",
            "gridwidth": 2,
            "linecolor": "white",
            "showbackground": true,
            "ticks": "",
            "zerolinecolor": "white"
           },
           "zaxis": {
            "backgroundcolor": "#E5ECF6",
            "gridcolor": "white",
            "gridwidth": 2,
            "linecolor": "white",
            "showbackground": true,
            "ticks": "",
            "zerolinecolor": "white"
           }
          },
          "shapedefaults": {
           "line": {
            "color": "#2a3f5f"
           }
          },
          "ternary": {
           "aaxis": {
            "gridcolor": "white",
            "linecolor": "white",
            "ticks": ""
           },
           "baxis": {
            "gridcolor": "white",
            "linecolor": "white",
            "ticks": ""
           },
           "bgcolor": "#E5ECF6",
           "caxis": {
            "gridcolor": "white",
            "linecolor": "white",
            "ticks": ""
           }
          },
          "title": {
           "x": 0.05
          },
          "xaxis": {
           "automargin": true,
           "gridcolor": "white",
           "linecolor": "white",
           "ticks": "",
           "title": {
            "standoff": 15
           },
           "zerolinecolor": "white",
           "zerolinewidth": 2
          },
          "yaxis": {
           "automargin": true,
           "gridcolor": "white",
           "linecolor": "white",
           "ticks": "",
           "title": {
            "standoff": 15
           },
           "zerolinecolor": "white",
           "zerolinewidth": 2
          }
         }
        },
        "title": {
         "font": {
          "color": "#4D5663"
         }
        },
        "xaxis": {
         "gridcolor": "#E1E5ED",
         "showgrid": true,
         "tickfont": {
          "color": "#4D5663"
         },
         "title": {
          "font": {
           "color": "#4D5663"
          },
          "text": ""
         },
         "zerolinecolor": "#E1E5ED"
        },
        "yaxis": {
         "gridcolor": "#E1E5ED",
         "showgrid": true,
         "tickfont": {
          "color": "#4D5663"
         },
         "title": {
          "font": {
           "color": "#4D5663"
          },
          "text": ""
         },
         "zerolinecolor": "#E1E5ED"
        }
       }
      },
      "text/html": [
       "<div>                            <div id=\"d9a89d16-aa9b-4029-ab09-2ca939fadc66\" class=\"plotly-graph-div\" style=\"height:525px; width:100%;\"></div>            <script type=\"text/javascript\">                require([\"plotly\"], function(Plotly) {                    window.PLOTLYENV=window.PLOTLYENV || {};\n",
       "                    window.PLOTLYENV.BASE_URL='https://plot.ly';                                    if (document.getElementById(\"d9a89d16-aa9b-4029-ab09-2ca939fadc66\")) {                    Plotly.newPlot(                        \"d9a89d16-aa9b-4029-ab09-2ca939fadc66\",                        [{\"line\": {\"color\": \"rgba(255, 153, 51, 1.0)\", \"dash\": \"solid\", \"shape\": \"linear\", \"width\": 1.3}, \"mode\": \"lines\", \"name\": \"AAPL\", \"text\": \"\", \"type\": \"scatter\", \"x\": [\"3/16/2020\", \"3/17/2020\", \"3/18/2020\", \"3/19/2020\", \"3/20/2020\", \"3/23/2020\", \"3/24/2020\", \"3/25/2020\", \"3/26/2020\", \"3/27/2020\", \"3/30/2020\", \"3/31/2020\", \"4/1/2020\", \"4/2/2020\", \"4/3/2020\", \"4/6/2020\", \"4/7/2020\", \"4/8/2020\", \"4/9/2020\", \"4/13/2020\", \"4/14/2020\", \"4/15/2020\", \"4/16/2020\", \"4/17/2020\", \"4/20/2020\", \"4/21/2020\", \"4/22/2020\", \"4/23/2020\", \"4/24/2020\", \"4/27/2020\", \"4/28/2020\", \"4/29/2020\", \"4/30/2020\", \"5/1/2020\", \"5/4/2020\", \"5/5/2020\", \"5/6/2020\", \"5/7/2020\", \"5/8/2020\", \"5/11/2020\", \"5/12/2020\", \"5/13/2020\", \"5/14/2020\", \"5/15/2020\", \"5/18/2020\", \"5/19/2020\", \"5/20/2020\", \"5/21/2020\", \"5/22/2020\", \"5/26/2020\", \"5/27/2020\", \"5/28/2020\", \"5/29/2020\", \"6/1/2020\", \"6/2/2020\", \"6/3/2020\", \"6/4/2020\", \"6/5/2020\", \"6/8/2020\", \"6/9/2020\", \"6/10/2020\", \"6/11/2020\", \"6/12/2020\", \"6/15/2020\", \"6/16/2020\", \"6/17/2020\", \"6/18/2020\", \"6/19/2020\", \"6/22/2020\", \"6/23/2020\", \"6/24/2020\", \"6/25/2020\", \"6/26/2020\", \"6/29/2020\", \"6/30/2020\", \"7/1/2020\", \"7/2/2020\", \"7/6/2020\", \"7/7/2020\", \"7/8/2020\", \"7/9/2020\", \"7/10/2020\", \"7/13/2020\", \"7/14/2020\", \"7/15/2020\", \"7/16/2020\", \"7/17/2020\", \"7/20/2020\", \"7/21/2020\", \"7/22/2020\", \"7/23/2020\", \"7/24/2020\", \"7/27/2020\", \"7/28/2020\", \"7/29/2020\", \"7/30/2020\", \"7/31/2020\", \"8/3/2020\", \"8/4/2020\", \"8/5/2020\", \"8/6/2020\", \"8/7/2020\", \"8/10/2020\", \"8/11/2020\", \"8/12/2020\", \"8/13/2020\", \"8/14/2020\", \"8/17/2020\", \"8/18/2020\", \"8/19/2020\", \"8/20/2020\", \"8/21/2020\", \"8/24/2020\", \"8/25/2020\", \"8/26/2020\", \"8/27/2020\", \"8/28/2020\"], \"y\": [241.95, 247.51, 239.77, 247.39, 247.18, 228.08, 236.36, 250.75, 246.52, 252.75, 250.74, 255.6, 246.5, 240.34, 242.8, 250.9, 270.8, 262.74, 268.7, 268.31, 280.0, 282.4, 287.38, 284.69, 277.95, 276.28, 273.61, 275.87, 277.2, 281.8, 285.08, 284.73, 289.96, 286.25, 289.17, 295.06, 300.46, 303.22, 305.64, 308.1, 317.83, 312.15, 304.51, 300.35, 313.17, 315.03, 316.68, 318.66, 315.77, 323.5, 316.14, 316.77, 319.25, 317.75, 320.75, 324.66, 324.39, 323.35, 330.25, 332.14, 347.9, 349.31, 344.72, 333.25, 351.46, 355.15, 351.41, 354.64, 351.34, 364.0, 365.0, 360.7, 364.41, 353.25, 360.08, 365.12, 367.85, 370.0, 375.41, 376.72, 385.05, 381.34, 389.06, 379.36, 395.96, 386.25, 387.95, 385.67, 396.69, 386.77, 387.99, 363.95, 374.84, 377.47, 375.0, 376.75, 411.54, 432.8, 436.53, 437.51, 441.62, 452.82, 450.4, 447.88, 441.99, 457.72, 459.32, 464.25, 457.41, 463.93, 463.0, 477.05, 514.79, 498.79, 504.72, 508.57, 504.05]}, {\"line\": {\"color\": \"rgba(55, 128, 191, 1.0)\", \"dash\": \"solid\", \"shape\": \"linear\", \"width\": 1.3}, \"mode\": \"lines\", \"name\": \"Amazon\", \"text\": \"\", \"type\": \"scatter\", \"x\": [\"3/16/2020\", \"3/17/2020\", \"3/18/2020\", \"3/19/2020\", \"3/20/2020\", \"3/23/2020\", \"3/24/2020\", \"3/25/2020\", \"3/26/2020\", \"3/27/2020\", \"3/30/2020\", \"3/31/2020\", \"4/1/2020\", \"4/2/2020\", \"4/3/2020\", \"4/6/2020\", \"4/7/2020\", \"4/8/2020\", \"4/9/2020\", \"4/13/2020\", \"4/14/2020\", \"4/15/2020\", \"4/16/2020\", \"4/17/2020\", \"4/20/2020\", \"4/21/2020\", \"4/22/2020\", \"4/23/2020\", \"4/24/2020\", \"4/27/2020\", \"4/28/2020\", \"4/29/2020\", \"4/30/2020\", \"5/1/2020\", \"5/4/2020\", \"5/5/2020\", \"5/6/2020\", \"5/7/2020\", \"5/8/2020\", \"5/11/2020\", \"5/12/2020\", \"5/13/2020\", \"5/14/2020\", \"5/15/2020\", \"5/18/2020\", \"5/19/2020\", \"5/20/2020\", \"5/21/2020\", \"5/22/2020\", \"5/26/2020\", \"5/27/2020\", \"5/28/2020\", \"5/29/2020\", \"6/1/2020\", \"6/2/2020\", \"6/3/2020\", \"6/4/2020\", \"6/5/2020\", \"6/8/2020\", \"6/9/2020\", \"6/10/2020\", \"6/11/2020\", \"6/12/2020\", \"6/15/2020\", \"6/16/2020\", \"6/17/2020\", \"6/18/2020\", \"6/19/2020\", \"6/22/2020\", \"6/23/2020\", \"6/24/2020\", \"6/25/2020\", \"6/26/2020\", \"6/29/2020\", \"6/30/2020\", \"7/1/2020\", \"7/2/2020\", \"7/6/2020\", \"7/7/2020\", \"7/8/2020\", \"7/9/2020\", \"7/10/2020\", \"7/13/2020\", \"7/14/2020\", \"7/15/2020\", \"7/16/2020\", \"7/17/2020\", \"7/20/2020\", \"7/21/2020\", \"7/22/2020\", \"7/23/2020\", \"7/24/2020\", \"7/27/2020\", \"7/28/2020\", \"7/29/2020\", \"7/30/2020\", \"7/31/2020\", \"8/3/2020\", \"8/4/2020\", \"8/5/2020\", \"8/6/2020\", \"8/7/2020\", \"8/10/2020\", \"8/11/2020\", \"8/12/2020\", \"8/13/2020\", \"8/14/2020\", \"8/17/2020\", \"8/18/2020\", \"8/19/2020\", \"8/20/2020\", \"8/21/2020\", \"8/24/2020\", \"8/25/2020\", \"8/26/2020\", \"8/27/2020\", \"8/28/2020\"], \"y\": [1641.51, 1775.47, 1750.0, 1860.0, 1926.31, 1827.75, 1951.5, 1920.69, 1902.0, 1930.86, 1922.83, 1964.35, 1932.97, 1901.64, 1911.15, 1936.0, 2017.11, 2021.0, 2044.3, 2040.0, 2200.47, 2257.68, 2346.0, 2372.33, 2389.95, 2416.61, 2369.0, 2399.98, 2417.0, 2443.2, 2372.1, 2330.01, 2419.84, 2336.8, 2256.38, 2340.0, 2329.44, 2374.78, 2372.14, 2374.7, 2411.85, 2366.8, 2361.01, 2368.52, 2404.35, 2429.83, 2477.87, 2500.0, 2455.01, 2458.0, 2404.99, 2384.33, 2415.94, 2448.0, 2467.0, 2468.01, 2477.43, 2444.51, 2500.2, 2529.44, 2645.0, 2603.5, 2601.21, 2526.6, 2620.0, 2647.5, 2647.01, 2678.08, 2684.5, 2726.02, 2780.0, 2739.55, 2775.06, 2690.01, 2685.07, 2757.99, 2912.01, 2934.97, 3058.55, 3022.61, 3115.99, 3191.76, 3251.06, 3089.0, 3080.23, 2971.06, 3009.0, 3000.2, 3232.49, 3125.0, 3098.27, 2930.0, 3062.0, 3054.27, 3030.99, 3014.0, 3244.0, 3180.51, 3101.21, 3143.77, 3194.36, 3224.01, 3170.31, 3113.2, 3108.0, 3182.99, 3178.18, 3173.12, 3212.0, 3303.01, 3252.0, 3295.0, 3310.15, 3294.99, 3351.11, 3450.05, 3423.0]}, {\"line\": {\"color\": \"rgba(50, 171, 96, 1.0)\", \"dash\": \"solid\", \"shape\": \"linear\", \"width\": 1.3}, \"mode\": \"lines\", \"name\": \"Facebook\", \"text\": \"\", \"type\": \"scatter\", \"x\": [\"3/16/2020\", \"3/17/2020\", \"3/18/2020\", \"3/19/2020\", \"3/20/2020\", \"3/23/2020\", \"3/24/2020\", \"3/25/2020\", \"3/26/2020\", \"3/27/2020\", \"3/30/2020\", \"3/31/2020\", \"4/1/2020\", \"4/2/2020\", \"4/3/2020\", \"4/6/2020\", \"4/7/2020\", \"4/8/2020\", \"4/9/2020\", \"4/13/2020\", \"4/14/2020\", \"4/15/2020\", \"4/16/2020\", \"4/17/2020\", \"4/20/2020\", \"4/21/2020\", \"4/22/2020\", \"4/23/2020\", \"4/24/2020\", \"4/27/2020\", \"4/28/2020\", \"4/29/2020\", \"4/30/2020\", \"5/1/2020\", \"5/4/2020\", \"5/5/2020\", \"5/6/2020\", \"5/7/2020\", \"5/8/2020\", \"5/11/2020\", \"5/12/2020\", \"5/13/2020\", \"5/14/2020\", \"5/15/2020\", \"5/18/2020\", \"5/19/2020\", \"5/20/2020\", \"5/21/2020\", \"5/22/2020\", \"5/26/2020\", \"5/27/2020\", \"5/28/2020\", \"5/29/2020\", \"6/1/2020\", \"6/2/2020\", \"6/3/2020\", \"6/4/2020\", \"6/5/2020\", \"6/8/2020\", \"6/9/2020\", \"6/10/2020\", \"6/11/2020\", \"6/12/2020\", \"6/15/2020\", \"6/16/2020\", \"6/17/2020\", \"6/18/2020\", \"6/19/2020\", \"6/22/2020\", \"6/23/2020\", \"6/24/2020\", \"6/25/2020\", \"6/26/2020\", \"6/29/2020\", \"6/30/2020\", \"7/1/2020\", \"7/2/2020\", \"7/6/2020\", \"7/7/2020\", \"7/8/2020\", \"7/9/2020\", \"7/10/2020\", \"7/13/2020\", \"7/14/2020\", \"7/15/2020\", \"7/16/2020\", \"7/17/2020\", \"7/20/2020\", \"7/21/2020\", \"7/22/2020\", \"7/23/2020\", \"7/24/2020\", \"7/27/2020\", \"7/28/2020\", \"7/29/2020\", \"7/30/2020\", \"7/31/2020\", \"8/3/2020\", \"8/4/2020\", \"8/5/2020\", \"8/6/2020\", \"8/7/2020\", \"8/10/2020\", \"8/11/2020\", \"8/12/2020\", \"8/13/2020\", \"8/14/2020\", \"8/17/2020\", \"8/18/2020\", \"8/19/2020\", \"8/20/2020\", \"8/21/2020\", \"8/24/2020\", \"8/25/2020\", \"8/26/2020\", \"8/27/2020\", \"8/28/2020\"], \"y\": [152.32, 150.74, 139.75, 146.62, 156.02, 149.66, 155.21, 158.92, 158.25, 158.2, 159.18, 165.48, 161.62, 159.1, 157.15, 160.15, 171.79, 171.25, 175.9, 173.67, 178.98, 175.19, 177.95, 179.2, 177.41, 175.25, 178.45, 184.08, 183.23, 192.66, 188.66, 190.93, 206.92, 201.6, 200.2, 207.02, 208.12, 211.16, 212.24, 210.89, 213.29, 209.43, 202.56, 205.27, 212.15, 213.27, 223.5, 234.72, 231.51, 239.77, 229.07, 224.3, 225.2, 224.59, 230.94, 232.11, 229.56, 226.71, 229.03, 231.52, 240.96, 229.94, 229.9, 225.09, 237.14, 235.0, 234.99, 237.79, 238.56, 241.28, 241.2, 234.62, 232.64, 209.75, 220.59, 228.5, 239.0, 233.76, 239.41, 238.11, 245.0, 243.69, 247.01, 236.76, 241.55, 238.0, 241.0, 240.06, 246.22, 240.26, 239.63, 230.19, 231.46, 234.63, 231.14, 230.22, 255.82, 252.65, 251.56, 250.19, 249.04, 264.08, 268.04, 260.19, 258.97, 261.55, 262.31, 262.5, 260.95, 261.39, 261.5, 268.69, 271.07, 272.41, 284.0, 300.16, 295.0]}, {\"line\": {\"color\": \"rgba(128, 0, 128, 1.0)\", \"dash\": \"solid\", \"shape\": \"linear\", \"width\": 1.3}, \"mode\": \"lines\", \"name\": \"Microsoft\", \"text\": \"\", \"type\": \"scatter\", \"x\": [\"3/16/2020\", \"3/17/2020\", \"3/18/2020\", \"3/19/2020\", \"3/20/2020\", \"3/23/2020\", \"3/24/2020\", \"3/25/2020\", \"3/26/2020\", \"3/27/2020\", \"3/30/2020\", \"3/31/2020\", \"4/1/2020\", \"4/2/2020\", \"4/3/2020\", \"4/6/2020\", \"4/7/2020\", \"4/8/2020\", \"4/9/2020\", \"4/13/2020\", \"4/14/2020\", \"4/15/2020\", \"4/16/2020\", \"4/17/2020\", \"4/20/2020\", \"4/21/2020\", \"4/22/2020\", \"4/23/2020\", \"4/24/2020\", \"4/27/2020\", \"4/28/2020\", \"4/29/2020\", \"4/30/2020\", \"5/1/2020\", \"5/4/2020\", \"5/5/2020\", \"5/6/2020\", \"5/7/2020\", \"5/8/2020\", \"5/11/2020\", \"5/12/2020\", \"5/13/2020\", \"5/14/2020\", \"5/15/2020\", \"5/18/2020\", \"5/19/2020\", \"5/20/2020\", \"5/21/2020\", \"5/22/2020\", \"5/26/2020\", \"5/27/2020\", \"5/28/2020\", \"5/29/2020\", \"6/1/2020\", \"6/2/2020\", \"6/3/2020\", \"6/4/2020\", \"6/5/2020\", \"6/8/2020\", \"6/9/2020\", \"6/10/2020\", \"6/11/2020\", \"6/12/2020\", \"6/15/2020\", \"6/16/2020\", \"6/17/2020\", \"6/18/2020\", \"6/19/2020\", \"6/22/2020\", \"6/23/2020\", \"6/24/2020\", \"6/25/2020\", \"6/26/2020\", \"6/29/2020\", \"6/30/2020\", \"7/1/2020\", \"7/2/2020\", \"7/6/2020\", \"7/7/2020\", \"7/8/2020\", \"7/9/2020\", \"7/10/2020\", \"7/13/2020\", \"7/14/2020\", \"7/15/2020\", \"7/16/2020\", \"7/17/2020\", \"7/20/2020\", \"7/21/2020\", \"7/22/2020\", \"7/23/2020\", \"7/24/2020\", \"7/27/2020\", \"7/28/2020\", \"7/29/2020\", \"7/30/2020\", \"7/31/2020\", \"8/3/2020\", \"8/4/2020\", \"8/5/2020\", \"8/6/2020\", \"8/7/2020\", \"8/10/2020\", \"8/11/2020\", \"8/12/2020\", \"8/13/2020\", \"8/14/2020\", \"8/17/2020\", \"8/18/2020\", \"8/19/2020\", \"8/20/2020\", \"8/21/2020\", \"8/24/2020\", \"8/25/2020\", \"8/26/2020\", \"8/27/2020\", \"8/28/2020\"], \"y\": [140.0, 140.0, 138.0, 142.77, 146.0, 137.01, 143.75, 148.91, 148.4, 151.75, 152.44, 159.4, 153.0, 151.86, 155.1, 160.32, 169.59, 165.67, 166.36, 164.35, 169.0, 171.2, 174.3, 179.5, 176.63, 173.5, 171.39, 174.11, 172.06, 176.59, 175.59, 173.22, 180.0, 175.8, 174.49, 180.62, 182.08, 184.17, 184.98, 183.15, 186.8, 182.55, 177.54, 179.06, 185.75, 185.03, 184.81, 185.4, 183.19, 186.34, 180.2, 180.74, 182.73, 182.54, 184.25, 184.82, 184.3, 182.62, 185.94, 188.0, 191.13, 193.13, 190.54, 184.58, 192.89, 195.03, 194.0, 198.59, 195.79, 202.09, 201.6, 197.8, 199.73, 195.78, 197.88, 203.14, 205.68, 208.83, 210.45, 210.07, 216.33, 213.62, 214.48, 206.13, 209.56, 205.4, 204.47, 205.0, 213.66, 209.2, 207.19, 200.42, 201.47, 203.61, 202.5, 201.0, 204.4, 211.52, 214.17, 214.9, 212.34, 214.85, 211.67, 207.16, 205.29, 209.44, 208.76, 209.6, 210.53, 211.49, 209.54, 213.86, 214.79, 213.1, 217.88, 222.89, 228.18]}, {\"line\": {\"color\": \"rgba(219, 64, 82, 1.0)\", \"dash\": \"solid\", \"shape\": \"linear\", \"width\": 1.3}, \"mode\": \"lines\", \"name\": \"Tesla\", \"text\": \"\", \"type\": \"scatter\", \"x\": [\"3/16/2020\", \"3/17/2020\", \"3/18/2020\", \"3/19/2020\", \"3/20/2020\", \"3/23/2020\", \"3/24/2020\", \"3/25/2020\", \"3/26/2020\", \"3/27/2020\", \"3/30/2020\", \"3/31/2020\", \"4/1/2020\", \"4/2/2020\", \"4/3/2020\", \"4/6/2020\", \"4/7/2020\", \"4/8/2020\", \"4/9/2020\", \"4/13/2020\", \"4/14/2020\", \"4/15/2020\", \"4/16/2020\", \"4/17/2020\", \"4/20/2020\", \"4/21/2020\", \"4/22/2020\", \"4/23/2020\", \"4/24/2020\", \"4/27/2020\", \"4/28/2020\", \"4/29/2020\", \"4/30/2020\", \"5/1/2020\", \"5/4/2020\", \"5/5/2020\", \"5/6/2020\", \"5/7/2020\", \"5/8/2020\", \"5/11/2020\", \"5/12/2020\", \"5/13/2020\", \"5/14/2020\", \"5/15/2020\", \"5/18/2020\", \"5/19/2020\", \"5/20/2020\", \"5/21/2020\", \"5/22/2020\", \"5/26/2020\", \"5/27/2020\", \"5/28/2020\", \"5/29/2020\", \"6/1/2020\", \"6/2/2020\", \"6/3/2020\", \"6/4/2020\", \"6/5/2020\", \"6/8/2020\", \"6/9/2020\", \"6/10/2020\", \"6/11/2020\", \"6/12/2020\", \"6/15/2020\", \"6/16/2020\", \"6/17/2020\", \"6/18/2020\", \"6/19/2020\", \"6/22/2020\", \"6/23/2020\", \"6/24/2020\", \"6/25/2020\", \"6/26/2020\", \"6/29/2020\", \"6/30/2020\", \"7/1/2020\", \"7/2/2020\", \"7/6/2020\", \"7/7/2020\", \"7/8/2020\", \"7/9/2020\", \"7/10/2020\", \"7/13/2020\", \"7/14/2020\", \"7/15/2020\", \"7/16/2020\", \"7/17/2020\", \"7/20/2020\", \"7/21/2020\", \"7/22/2020\", \"7/23/2020\", \"7/24/2020\", \"7/27/2020\", \"7/28/2020\", \"7/29/2020\", \"7/30/2020\", \"7/31/2020\", \"8/3/2020\", \"8/4/2020\", \"8/5/2020\", \"8/6/2020\", \"8/7/2020\", \"8/10/2020\", \"8/11/2020\", \"8/12/2020\", \"8/13/2020\", \"8/14/2020\", \"8/17/2020\", \"8/18/2020\", \"8/19/2020\", \"8/20/2020\", \"8/21/2020\", \"8/24/2020\", \"8/25/2020\", \"8/26/2020\", \"8/27/2020\", \"8/28/2020\"], \"y\": [469.5, 440.01, 389.0, 374.7, 438.2, 433.6, 477.3, 545.25, 547.39, 505.0, 510.26, 501.25, 504.0, 481.03, 509.5, 511.2, 545.0, 554.2, 562.09, 590.16, 698.97, 742.0, 716.94, 772.28, 732.7, 730.12, 703.98, 727.6, 710.81, 737.61, 795.64, 790.17, 855.19, 755.0, 701.0, 789.79, 776.5, 777.21, 793.77, 790.51, 827.0, 820.83, 780.0, 790.35, 827.78, 815.17, 820.5, 816.0, 822.17, 834.5, 820.86, 813.51, 808.75, 858.0, 894.7, 888.12, 889.88, 877.84, 919.0, 940.01, 991.88, 990.2, 980.0, 917.79, 1011.85, 987.71, 1003.0, 1012.78, 999.95, 998.88, 994.11, 954.27, 994.78, 969.01, 1006.5, 1083.0, 1221.48, 1276.69, 1405.01, 1405.0, 1396.99, 1396.0, 1659.0, 1556.0, 1543.0, 1477.16, 1513.45, 1519.01, 1639.93, 1599.0, 1678.95, 1416.01, 1435.0, 1504.0, 1501.0, 1488.0, 1515.0, 1449.2, 1495.01, 1492.99, 1490.83, 1499.54, 1448.0, 1396.0, 1470.0, 1611.0, 1664.99, 1677.0, 1898.99, 1865.0, 1860.68, 2044.76, 2126.28, 1974.89, 2060.0, 2180.46, 2295.12]}],                        {\"legend\": {\"bgcolor\": \"#F5F6F9\", \"font\": {\"color\": \"#4D5663\"}}, \"paper_bgcolor\": \"#F5F6F9\", \"plot_bgcolor\": \"#F5F6F9\", \"template\": {\"data\": {\"bar\": [{\"error_x\": {\"color\": \"#2a3f5f\"}, \"error_y\": {\"color\": \"#2a3f5f\"}, \"marker\": {\"line\": {\"color\": \"#E5ECF6\", \"width\": 0.5}}, \"type\": \"bar\"}], \"barpolar\": [{\"marker\": {\"line\": {\"color\": \"#E5ECF6\", \"width\": 0.5}}, \"type\": \"barpolar\"}], \"carpet\": [{\"aaxis\": {\"endlinecolor\": \"#2a3f5f\", \"gridcolor\": \"white\", \"linecolor\": \"white\", \"minorgridcolor\": \"white\", \"startlinecolor\": \"#2a3f5f\"}, \"baxis\": {\"endlinecolor\": \"#2a3f5f\", \"gridcolor\": \"white\", \"linecolor\": \"white\", \"minorgridcolor\": \"white\", \"startlinecolor\": \"#2a3f5f\"}, \"type\": \"carpet\"}], \"choropleth\": [{\"colorbar\": {\"outlinewidth\": 0, \"ticks\": \"\"}, \"type\": \"choropleth\"}], \"contour\": [{\"colorbar\": {\"outlinewidth\": 0, \"ticks\": \"\"}, \"colorscale\": [[0.0, \"#0d0887\"], [0.1111111111111111, \"#46039f\"], [0.2222222222222222, \"#7201a8\"], [0.3333333333333333, \"#9c179e\"], [0.4444444444444444, \"#bd3786\"], [0.5555555555555556, \"#d8576b\"], [0.6666666666666666, \"#ed7953\"], [0.7777777777777778, \"#fb9f3a\"], [0.8888888888888888, \"#fdca26\"], [1.0, \"#f0f921\"]], \"type\": \"contour\"}], \"contourcarpet\": [{\"colorbar\": {\"outlinewidth\": 0, \"ticks\": \"\"}, \"type\": \"contourcarpet\"}], \"heatmap\": [{\"colorbar\": {\"outlinewidth\": 0, \"ticks\": \"\"}, \"colorscale\": [[0.0, \"#0d0887\"], [0.1111111111111111, \"#46039f\"], [0.2222222222222222, \"#7201a8\"], [0.3333333333333333, \"#9c179e\"], [0.4444444444444444, \"#bd3786\"], [0.5555555555555556, \"#d8576b\"], [0.6666666666666666, \"#ed7953\"], [0.7777777777777778, \"#fb9f3a\"], [0.8888888888888888, \"#fdca26\"], [1.0, \"#f0f921\"]], \"type\": \"heatmap\"}], \"heatmapgl\": [{\"colorbar\": {\"outlinewidth\": 0, \"ticks\": \"\"}, \"colorscale\": [[0.0, \"#0d0887\"], [0.1111111111111111, \"#46039f\"], [0.2222222222222222, \"#7201a8\"], [0.3333333333333333, \"#9c179e\"], [0.4444444444444444, \"#bd3786\"], [0.5555555555555556, \"#d8576b\"], [0.6666666666666666, \"#ed7953\"], [0.7777777777777778, \"#fb9f3a\"], [0.8888888888888888, \"#fdca26\"], [1.0, \"#f0f921\"]], \"type\": \"heatmapgl\"}], \"histogram\": [{\"marker\": {\"colorbar\": {\"outlinewidth\": 0, \"ticks\": \"\"}}, \"type\": \"histogram\"}], \"histogram2d\": [{\"colorbar\": {\"outlinewidth\": 0, \"ticks\": \"\"}, \"colorscale\": [[0.0, \"#0d0887\"], [0.1111111111111111, \"#46039f\"], [0.2222222222222222, \"#7201a8\"], [0.3333333333333333, \"#9c179e\"], [0.4444444444444444, \"#bd3786\"], [0.5555555555555556, \"#d8576b\"], [0.6666666666666666, \"#ed7953\"], [0.7777777777777778, \"#fb9f3a\"], [0.8888888888888888, \"#fdca26\"], [1.0, \"#f0f921\"]], \"type\": \"histogram2d\"}], \"histogram2dcontour\": [{\"colorbar\": {\"outlinewidth\": 0, \"ticks\": \"\"}, \"colorscale\": [[0.0, \"#0d0887\"], [0.1111111111111111, \"#46039f\"], [0.2222222222222222, \"#7201a8\"], [0.3333333333333333, \"#9c179e\"], [0.4444444444444444, \"#bd3786\"], [0.5555555555555556, \"#d8576b\"], [0.6666666666666666, \"#ed7953\"], [0.7777777777777778, \"#fb9f3a\"], [0.8888888888888888, \"#fdca26\"], [1.0, \"#f0f921\"]], \"type\": \"histogram2dcontour\"}], \"mesh3d\": [{\"colorbar\": {\"outlinewidth\": 0, \"ticks\": \"\"}, \"type\": \"mesh3d\"}], \"parcoords\": [{\"line\": {\"colorbar\": {\"outlinewidth\": 0, \"ticks\": \"\"}}, \"type\": \"parcoords\"}], \"pie\": [{\"automargin\": true, \"type\": \"pie\"}], \"scatter\": [{\"marker\": {\"colorbar\": {\"outlinewidth\": 0, \"ticks\": \"\"}}, \"type\": \"scatter\"}], \"scatter3d\": [{\"line\": {\"colorbar\": {\"outlinewidth\": 0, \"ticks\": \"\"}}, \"marker\": {\"colorbar\": {\"outlinewidth\": 0, \"ticks\": \"\"}}, \"type\": \"scatter3d\"}], \"scattercarpet\": [{\"marker\": {\"colorbar\": {\"outlinewidth\": 0, \"ticks\": \"\"}}, \"type\": \"scattercarpet\"}], \"scattergeo\": [{\"marker\": {\"colorbar\": {\"outlinewidth\": 0, \"ticks\": \"\"}}, \"type\": \"scattergeo\"}], \"scattergl\": [{\"marker\": {\"colorbar\": {\"outlinewidth\": 0, \"ticks\": \"\"}}, \"type\": \"scattergl\"}], \"scattermapbox\": [{\"marker\": {\"colorbar\": {\"outlinewidth\": 0, \"ticks\": \"\"}}, \"type\": \"scattermapbox\"}], \"scatterpolar\": [{\"marker\": {\"colorbar\": {\"outlinewidth\": 0, \"ticks\": \"\"}}, \"type\": \"scatterpolar\"}], \"scatterpolargl\": [{\"marker\": {\"colorbar\": {\"outlinewidth\": 0, \"ticks\": \"\"}}, \"type\": \"scatterpolargl\"}], \"scatterternary\": [{\"marker\": {\"colorbar\": {\"outlinewidth\": 0, \"ticks\": \"\"}}, \"type\": \"scatterternary\"}], \"surface\": [{\"colorbar\": {\"outlinewidth\": 0, \"ticks\": \"\"}, \"colorscale\": [[0.0, \"#0d0887\"], [0.1111111111111111, \"#46039f\"], [0.2222222222222222, \"#7201a8\"], [0.3333333333333333, \"#9c179e\"], [0.4444444444444444, \"#bd3786\"], [0.5555555555555556, \"#d8576b\"], [0.6666666666666666, \"#ed7953\"], [0.7777777777777778, \"#fb9f3a\"], [0.8888888888888888, \"#fdca26\"], [1.0, \"#f0f921\"]], \"type\": \"surface\"}], \"table\": [{\"cells\": {\"fill\": {\"color\": \"#EBF0F8\"}, \"line\": {\"color\": \"white\"}}, \"header\": {\"fill\": {\"color\": \"#C8D4E3\"}, \"line\": {\"color\": \"white\"}}, \"type\": \"table\"}]}, \"layout\": {\"annotationdefaults\": {\"arrowcolor\": \"#2a3f5f\", \"arrowhead\": 0, \"arrowwidth\": 1}, \"coloraxis\": {\"colorbar\": {\"outlinewidth\": 0, \"ticks\": \"\"}}, \"colorscale\": {\"diverging\": [[0, \"#8e0152\"], [0.1, \"#c51b7d\"], [0.2, \"#de77ae\"], [0.3, \"#f1b6da\"], [0.4, \"#fde0ef\"], [0.5, \"#f7f7f7\"], [0.6, \"#e6f5d0\"], [0.7, \"#b8e186\"], [0.8, \"#7fbc41\"], [0.9, \"#4d9221\"], [1, \"#276419\"]], \"sequential\": [[0.0, \"#0d0887\"], [0.1111111111111111, \"#46039f\"], [0.2222222222222222, \"#7201a8\"], [0.3333333333333333, \"#9c179e\"], [0.4444444444444444, \"#bd3786\"], [0.5555555555555556, \"#d8576b\"], [0.6666666666666666, \"#ed7953\"], [0.7777777777777778, \"#fb9f3a\"], [0.8888888888888888, \"#fdca26\"], [1.0, \"#f0f921\"]], \"sequentialminus\": [[0.0, \"#0d0887\"], [0.1111111111111111, \"#46039f\"], [0.2222222222222222, \"#7201a8\"], [0.3333333333333333, \"#9c179e\"], [0.4444444444444444, \"#bd3786\"], [0.5555555555555556, \"#d8576b\"], [0.6666666666666666, \"#ed7953\"], [0.7777777777777778, \"#fb9f3a\"], [0.8888888888888888, \"#fdca26\"], [1.0, \"#f0f921\"]]}, \"colorway\": [\"#636efa\", \"#EF553B\", \"#00cc96\", \"#ab63fa\", \"#FFA15A\", \"#19d3f3\", \"#FF6692\", \"#B6E880\", \"#FF97FF\", \"#FECB52\"], \"font\": {\"color\": \"#2a3f5f\"}, \"geo\": {\"bgcolor\": \"white\", \"lakecolor\": \"white\", \"landcolor\": \"#E5ECF6\", \"showlakes\": true, \"showland\": true, \"subunitcolor\": \"white\"}, \"hoverlabel\": {\"align\": \"left\"}, \"hovermode\": \"closest\", \"mapbox\": {\"style\": \"light\"}, \"paper_bgcolor\": \"white\", \"plot_bgcolor\": \"#E5ECF6\", \"polar\": {\"angularaxis\": {\"gridcolor\": \"white\", \"linecolor\": \"white\", \"ticks\": \"\"}, \"bgcolor\": \"#E5ECF6\", \"radialaxis\": {\"gridcolor\": \"white\", \"linecolor\": \"white\", \"ticks\": \"\"}}, \"scene\": {\"xaxis\": {\"backgroundcolor\": \"#E5ECF6\", \"gridcolor\": \"white\", \"gridwidth\": 2, \"linecolor\": \"white\", \"showbackground\": true, \"ticks\": \"\", \"zerolinecolor\": \"white\"}, \"yaxis\": {\"backgroundcolor\": \"#E5ECF6\", \"gridcolor\": \"white\", \"gridwidth\": 2, \"linecolor\": \"white\", \"showbackground\": true, \"ticks\": \"\", \"zerolinecolor\": \"white\"}, \"zaxis\": {\"backgroundcolor\": \"#E5ECF6\", \"gridcolor\": \"white\", \"gridwidth\": 2, \"linecolor\": \"white\", \"showbackground\": true, \"ticks\": \"\", \"zerolinecolor\": \"white\"}}, \"shapedefaults\": {\"line\": {\"color\": \"#2a3f5f\"}}, \"ternary\": {\"aaxis\": {\"gridcolor\": \"white\", \"linecolor\": \"white\", \"ticks\": \"\"}, \"baxis\": {\"gridcolor\": \"white\", \"linecolor\": \"white\", \"ticks\": \"\"}, \"bgcolor\": \"#E5ECF6\", \"caxis\": {\"gridcolor\": \"white\", \"linecolor\": \"white\", \"ticks\": \"\"}}, \"title\": {\"x\": 0.05}, \"xaxis\": {\"automargin\": true, \"gridcolor\": \"white\", \"linecolor\": \"white\", \"ticks\": \"\", \"title\": {\"standoff\": 15}, \"zerolinecolor\": \"white\", \"zerolinewidth\": 2}, \"yaxis\": {\"automargin\": true, \"gridcolor\": \"white\", \"linecolor\": \"white\", \"ticks\": \"\", \"title\": {\"standoff\": 15}, \"zerolinecolor\": \"white\", \"zerolinewidth\": 2}}}, \"title\": {\"font\": {\"color\": \"#4D5663\"}}, \"xaxis\": {\"gridcolor\": \"#E1E5ED\", \"showgrid\": true, \"tickfont\": {\"color\": \"#4D5663\"}, \"title\": {\"font\": {\"color\": \"#4D5663\"}, \"text\": \"\"}, \"zerolinecolor\": \"#E1E5ED\"}, \"yaxis\": {\"gridcolor\": \"#E1E5ED\", \"showgrid\": true, \"tickfont\": {\"color\": \"#4D5663\"}, \"title\": {\"font\": {\"color\": \"#4D5663\"}, \"text\": \"\"}, \"zerolinecolor\": \"#E1E5ED\"}},                        {\"showLink\": true, \"linkText\": \"Export to plot.ly\", \"plotlyServerURL\": \"https://plot.ly\", \"responsive\": true}                    ).then(function(){\n",
       "                            \n",
       "var gd = document.getElementById('d9a89d16-aa9b-4029-ab09-2ca939fadc66');\n",
       "var x = new MutationObserver(function (mutations, observer) {{\n",
       "        var display = window.getComputedStyle(gd).display;\n",
       "        if (!display || display === 'none') {{\n",
       "            console.log([gd, 'removed!']);\n",
       "            Plotly.purge(gd);\n",
       "            observer.disconnect();\n",
       "        }}\n",
       "}});\n",
       "\n",
       "// Listen for the removal of the full notebook cells\n",
       "var notebookContainer = gd.closest('#notebook-container');\n",
       "if (notebookContainer) {{\n",
       "    x.observe(notebookContainer, {childList: true});\n",
       "}}\n",
       "\n",
       "// Listen for the clearing of the current output cell\n",
       "var outputEl = gd.closest('.output');\n",
       "if (outputEl) {{\n",
       "    x.observe(outputEl, {childList: true});\n",
       "}}\n",
       "\n",
       "                        })                };                });            </script>        </div>"
      ]
     },
     "metadata": {},
     "output_type": "display_data"
    },
    {
     "data": {
      "application/vnd.plotly.v1+json": {
       "config": {
        "linkText": "Export to plot.ly",
        "plotlyServerURL": "https://plot.ly",
        "showLink": true
       },
       "data": [
        {
         "line": {
          "color": "rgba(255, 153, 51, 1.0)",
          "dash": "solid",
          "shape": "linear",
          "width": 1.3
         },
         "mode": "lines",
         "name": "AAPL",
         "text": "",
         "type": "scatter",
         "x": [
          "3/16/2020",
          "3/17/2020",
          "3/18/2020",
          "3/19/2020",
          "3/20/2020",
          "3/23/2020",
          "3/24/2020",
          "3/25/2020",
          "3/26/2020",
          "3/27/2020",
          "3/30/2020",
          "3/31/2020",
          "4/1/2020",
          "4/2/2020",
          "4/3/2020",
          "4/6/2020",
          "4/7/2020",
          "4/8/2020",
          "4/9/2020",
          "4/13/2020",
          "4/14/2020",
          "4/15/2020",
          "4/16/2020",
          "4/17/2020",
          "4/20/2020",
          "4/21/2020",
          "4/22/2020",
          "4/23/2020",
          "4/24/2020",
          "4/27/2020",
          "4/28/2020",
          "4/29/2020",
          "4/30/2020",
          "5/1/2020",
          "5/4/2020",
          "5/5/2020",
          "5/6/2020",
          "5/7/2020",
          "5/8/2020",
          "5/11/2020",
          "5/12/2020",
          "5/13/2020",
          "5/14/2020",
          "5/15/2020",
          "5/18/2020",
          "5/19/2020",
          "5/20/2020",
          "5/21/2020",
          "5/22/2020",
          "5/26/2020",
          "5/27/2020",
          "5/28/2020",
          "5/29/2020",
          "6/1/2020",
          "6/2/2020",
          "6/3/2020",
          "6/4/2020",
          "6/5/2020",
          "6/8/2020",
          "6/9/2020",
          "6/10/2020",
          "6/11/2020",
          "6/12/2020",
          "6/15/2020",
          "6/16/2020",
          "6/17/2020",
          "6/18/2020",
          "6/19/2020",
          "6/22/2020",
          "6/23/2020",
          "6/24/2020",
          "6/25/2020",
          "6/26/2020",
          "6/29/2020",
          "6/30/2020",
          "7/1/2020",
          "7/2/2020",
          "7/6/2020",
          "7/7/2020",
          "7/8/2020",
          "7/9/2020",
          "7/10/2020",
          "7/13/2020",
          "7/14/2020",
          "7/15/2020",
          "7/16/2020",
          "7/17/2020",
          "7/20/2020",
          "7/21/2020",
          "7/22/2020",
          "7/23/2020",
          "7/24/2020",
          "7/27/2020",
          "7/28/2020",
          "7/29/2020",
          "7/30/2020",
          "7/31/2020",
          "8/3/2020",
          "8/4/2020",
          "8/5/2020",
          "8/6/2020",
          "8/7/2020",
          "8/10/2020",
          "8/11/2020",
          "8/12/2020",
          "8/13/2020",
          "8/14/2020",
          "8/17/2020",
          "8/18/2020",
          "8/19/2020",
          "8/20/2020",
          "8/21/2020",
          "8/24/2020",
          "8/25/2020",
          "8/26/2020",
          "8/27/2020",
          "8/28/2020"
         ],
         "y": [
          242.21,
          252.86,
          246.67,
          244.78,
          229.24,
          224.37,
          246.88,
          245.52,
          258.44,
          247.74,
          254.81,
          254.29,
          240.91,
          244.93,
          241.41,
          262.47,
          259.43,
          266.07,
          267.99,
          273.25,
          287.05,
          284.43,
          286.69,
          282.8,
          276.93,
          268.37,
          276.1,
          275.03,
          282.97,
          283.17,
          278.58,
          287.73,
          293.8,
          289.07,
          293.16,
          297.56,
          300.63,
          303.74,
          310.13,
          315.01,
          311.41,
          307.65,
          309.54,
          307.71,
          314.96,
          313.14,
          319.23,
          316.85,
          318.89,
          316.73,
          318.11,
          318.25,
          317.94,
          321.85,
          323.34,
          325.12,
          322.32,
          331.5,
          333.46,
          343.99,
          352.84,
          335.9,
          338.8,
          342.99,
          352.08,
          351.59,
          351.73,
          349.72,
          358.87,
          366.53,
          360.06,
          364.84,
          353.63,
          361.78,
          364.8,
          364.11,
          364.11,
          373.85,
          372.69,
          381.37,
          382.73,
          383.68,
          381.91,
          388.23,
          390.9,
          386.09,
          385.31,
          393.43,
          388,
          389.09,
          371.38,
          370.46,
          379.24,
          373.01,
          380.16,
          384.76,
          425.04,
          435.75,
          438.66,
          440.25,
          455.61,
          444.45,
          450.91,
          437.5,
          452.04,
          460.04,
          459.63,
          458.43,
          462.25,
          462.83,
          473.1,
          497.48,
          503.43,
          499.3,
          506.09,
          500.04,
          499.23
         ]
        },
        {
         "line": {
          "color": "rgba(55, 128, 191, 1.0)",
          "dash": "solid",
          "shape": "linear",
          "width": 1.3
         },
         "mode": "lines",
         "name": "Amazon",
         "text": "",
         "type": "scatter",
         "x": [
          "3/16/2020",
          "3/17/2020",
          "3/18/2020",
          "3/19/2020",
          "3/20/2020",
          "3/23/2020",
          "3/24/2020",
          "3/25/2020",
          "3/26/2020",
          "3/27/2020",
          "3/30/2020",
          "3/31/2020",
          "4/1/2020",
          "4/2/2020",
          "4/3/2020",
          "4/6/2020",
          "4/7/2020",
          "4/8/2020",
          "4/9/2020",
          "4/13/2020",
          "4/14/2020",
          "4/15/2020",
          "4/16/2020",
          "4/17/2020",
          "4/20/2020",
          "4/21/2020",
          "4/22/2020",
          "4/23/2020",
          "4/24/2020",
          "4/27/2020",
          "4/28/2020",
          "4/29/2020",
          "4/30/2020",
          "5/1/2020",
          "5/4/2020",
          "5/5/2020",
          "5/6/2020",
          "5/7/2020",
          "5/8/2020",
          "5/11/2020",
          "5/12/2020",
          "5/13/2020",
          "5/14/2020",
          "5/15/2020",
          "5/18/2020",
          "5/19/2020",
          "5/20/2020",
          "5/21/2020",
          "5/22/2020",
          "5/26/2020",
          "5/27/2020",
          "5/28/2020",
          "5/29/2020",
          "6/1/2020",
          "6/2/2020",
          "6/3/2020",
          "6/4/2020",
          "6/5/2020",
          "6/8/2020",
          "6/9/2020",
          "6/10/2020",
          "6/11/2020",
          "6/12/2020",
          "6/15/2020",
          "6/16/2020",
          "6/17/2020",
          "6/18/2020",
          "6/19/2020",
          "6/22/2020",
          "6/23/2020",
          "6/24/2020",
          "6/25/2020",
          "6/26/2020",
          "6/29/2020",
          "6/30/2020",
          "7/1/2020",
          "7/2/2020",
          "7/6/2020",
          "7/7/2020",
          "7/8/2020",
          "7/9/2020",
          "7/10/2020",
          "7/13/2020",
          "7/14/2020",
          "7/15/2020",
          "7/16/2020",
          "7/17/2020",
          "7/20/2020",
          "7/21/2020",
          "7/22/2020",
          "7/23/2020",
          "7/24/2020",
          "7/27/2020",
          "7/28/2020",
          "7/29/2020",
          "7/30/2020",
          "7/31/2020",
          "8/3/2020",
          "8/4/2020",
          "8/5/2020",
          "8/6/2020",
          "8/7/2020",
          "8/10/2020",
          "8/11/2020",
          "8/12/2020",
          "8/13/2020",
          "8/14/2020",
          "8/17/2020",
          "8/18/2020",
          "8/19/2020",
          "8/20/2020",
          "8/21/2020",
          "8/24/2020",
          "8/25/2020",
          "8/26/2020",
          "8/27/2020",
          "8/28/2020"
         ],
         "y": [
          1689.15,
          1807.84,
          1830,
          1880.93,
          1846.09,
          1902.83,
          1940.1,
          1885.84,
          1955.49,
          1900.1,
          1963.95,
          1949.72,
          1907.7,
          1918.83,
          1906.59,
          1997.59,
          2011.6,
          2043,
          2042.76,
          2168.87,
          2283.32,
          2307.68,
          2408.19,
          2375,
          2393.61,
          2328.12,
          2363.49,
          2399.45,
          2410.22,
          2376,
          2314.08,
          2372.71,
          2474,
          2286.04,
          2315.99,
          2317.8,
          2351.26,
          2367.61,
          2379.61,
          2409,
          2356.95,
          2367.92,
          2388.85,
          2409.78,
          2426.26,
          2449.33,
          2497.94,
          2446.74,
          2436.88,
          2421.86,
          2410.39,
          2401.1,
          2442.37,
          2471.04,
          2472.41,
          2478.4,
          2460.6,
          2483,
          2524.06,
          2600.86,
          2647.45,
          2557.96,
          2545.02,
          2572.68,
          2615.27,
          2640.98,
          2653.98,
          2675.01,
          2713.82,
          2764.41,
          2734.4,
          2754.58,
          2692.87,
          2680.38,
          2758.82,
          2878.7,
          2890.3,
          3057.04,
          3000.12,
          3081.11,
          3182.63,
          3200,
          3104,
          3084,
          3008.87,
          2999.9,
          2961.97,
          3196.84,
          3138.29,
          3099.91,
          2986.55,
          3008.91,
          3055.21,
          3000.33,
          3033.53,
          3051.88,
          3164.68,
          3111.89,
          3138.83,
          3205.03,
          3225,
          3167.46,
          3148.16,
          3080.67,
          3162.24,
          3161.02,
          3148.02,
          3182.41,
          3312.49,
          3260.48,
          3297.37,
          3284.72,
          3307.46,
          3346.49,
          3441.85,
          3400,
          3401.8
         ]
        },
        {
         "line": {
          "color": "rgba(50, 171, 96, 1.0)",
          "dash": "solid",
          "shape": "linear",
          "width": 1.3
         },
         "mode": "lines",
         "name": "Facebook",
         "text": "",
         "type": "scatter",
         "x": [
          "3/16/2020",
          "3/17/2020",
          "3/18/2020",
          "3/19/2020",
          "3/20/2020",
          "3/23/2020",
          "3/24/2020",
          "3/25/2020",
          "3/26/2020",
          "3/27/2020",
          "3/30/2020",
          "3/31/2020",
          "4/1/2020",
          "4/2/2020",
          "4/3/2020",
          "4/6/2020",
          "4/7/2020",
          "4/8/2020",
          "4/9/2020",
          "4/13/2020",
          "4/14/2020",
          "4/15/2020",
          "4/16/2020",
          "4/17/2020",
          "4/20/2020",
          "4/21/2020",
          "4/22/2020",
          "4/23/2020",
          "4/24/2020",
          "4/27/2020",
          "4/28/2020",
          "4/29/2020",
          "4/30/2020",
          "5/1/2020",
          "5/4/2020",
          "5/5/2020",
          "5/6/2020",
          "5/7/2020",
          "5/8/2020",
          "5/11/2020",
          "5/12/2020",
          "5/13/2020",
          "5/14/2020",
          "5/15/2020",
          "5/18/2020",
          "5/19/2020",
          "5/20/2020",
          "5/21/2020",
          "5/22/2020",
          "5/26/2020",
          "5/27/2020",
          "5/28/2020",
          "5/29/2020",
          "6/1/2020",
          "6/2/2020",
          "6/3/2020",
          "6/4/2020",
          "6/5/2020",
          "6/8/2020",
          "6/9/2020",
          "6/10/2020",
          "6/11/2020",
          "6/12/2020",
          "6/15/2020",
          "6/16/2020",
          "6/17/2020",
          "6/18/2020",
          "6/19/2020",
          "6/22/2020",
          "6/23/2020",
          "6/24/2020",
          "6/25/2020",
          "6/26/2020",
          "6/29/2020",
          "6/30/2020",
          "7/1/2020",
          "7/2/2020",
          "7/6/2020",
          "7/7/2020",
          "7/8/2020",
          "7/9/2020",
          "7/10/2020",
          "7/13/2020",
          "7/14/2020",
          "7/15/2020",
          "7/16/2020",
          "7/17/2020",
          "7/20/2020",
          "7/21/2020",
          "7/22/2020",
          "7/23/2020",
          "7/24/2020",
          "7/27/2020",
          "7/28/2020",
          "7/29/2020",
          "7/30/2020",
          "7/31/2020",
          "8/3/2020",
          "8/4/2020",
          "8/5/2020",
          "8/6/2020",
          "8/7/2020",
          "8/10/2020",
          "8/11/2020",
          "8/12/2020",
          "8/13/2020",
          "8/14/2020",
          "8/17/2020",
          "8/18/2020",
          "8/19/2020",
          "8/20/2020",
          "8/21/2020",
          "8/24/2020",
          "8/25/2020",
          "8/26/2020",
          "8/27/2020",
          "8/28/2020"
         ],
         "y": [
          146.01,
          149.42,
          146.96,
          153.13,
          149.73,
          148.1,
          160.98,
          156.21,
          163.34,
          156.79,
          165.95,
          166.8,
          159.6,
          158.19,
          154.18,
          165.55,
          168.83,
          174.28,
          175.19,
          174.79,
          178.17,
          176.97,
          176.25,
          179.24,
          178.24,
          170.8,
          182.28,
          185.13,
          190.07,
          187.5,
          182.91,
          194.19,
          204.71,
          202.27,
          205.26,
          207.07,
          208.47,
          211.26,
          212.35,
          213.18,
          210.1,
          205.1,
          206.81,
          210.88,
          213.19,
          216.88,
          229.97,
          231.39,
          234.91,
          232.2,
          229.14,
          225.46,
          225.09,
          231.91,
          232.72,
          230.16,
          226.29,
          230.77,
          231.4,
          238.67,
          236.73,
          224.43,
          228.58,
          232.5,
          235.65,
          235.53,
          235.94,
          238.79,
          239.22,
          242.24,
          234.02,
          235.68,
          216.08,
          220.64,
          227.07,
          237.55,
          233.42,
          240.28,
          240.86,
          243.58,
          244.5,
          245.07,
          239,
          239.73,
          240.28,
          240.93,
          242.03,
          245.42,
          241.75,
          239.87,
          232.6,
          230.71,
          233.5,
          230.12,
          233.29,
          234.5,
          253.67,
          251.96,
          249.83,
          249.12,
          265.28,
          268.44,
          263,
          256.13,
          259.89,
          261.3,
          261.24,
          261.16,
          262.34,
          262.59,
          269.01,
          267.01,
          271.39,
          280.82,
          303.91,
          293.22,
          293.66
         ]
        },
        {
         "line": {
          "color": "rgba(128, 0, 128, 1.0)",
          "dash": "solid",
          "shape": "linear",
          "width": 1.3
         },
         "mode": "lines",
         "name": "Microsoft",
         "text": "",
         "type": "scatter",
         "x": [
          "3/16/2020",
          "3/17/2020",
          "3/18/2020",
          "3/19/2020",
          "3/20/2020",
          "3/23/2020",
          "3/24/2020",
          "3/25/2020",
          "3/26/2020",
          "3/27/2020",
          "3/30/2020",
          "3/31/2020",
          "4/1/2020",
          "4/2/2020",
          "4/3/2020",
          "4/6/2020",
          "4/7/2020",
          "4/8/2020",
          "4/9/2020",
          "4/13/2020",
          "4/14/2020",
          "4/15/2020",
          "4/16/2020",
          "4/17/2020",
          "4/20/2020",
          "4/21/2020",
          "4/22/2020",
          "4/23/2020",
          "4/24/2020",
          "4/27/2020",
          "4/28/2020",
          "4/29/2020",
          "4/30/2020",
          "5/1/2020",
          "5/4/2020",
          "5/5/2020",
          "5/6/2020",
          "5/7/2020",
          "5/8/2020",
          "5/11/2020",
          "5/12/2020",
          "5/13/2020",
          "5/14/2020",
          "5/15/2020",
          "5/18/2020",
          "5/19/2020",
          "5/20/2020",
          "5/21/2020",
          "5/22/2020",
          "5/26/2020",
          "5/27/2020",
          "5/28/2020",
          "5/29/2020",
          "6/1/2020",
          "6/2/2020",
          "6/3/2020",
          "6/4/2020",
          "6/5/2020",
          "6/8/2020",
          "6/9/2020",
          "6/10/2020",
          "6/11/2020",
          "6/12/2020",
          "6/15/2020",
          "6/16/2020",
          "6/17/2020",
          "6/18/2020",
          "6/19/2020",
          "6/22/2020",
          "6/23/2020",
          "6/24/2020",
          "6/25/2020",
          "6/26/2020",
          "6/29/2020",
          "6/30/2020",
          "7/1/2020",
          "7/2/2020",
          "7/6/2020",
          "7/7/2020",
          "7/8/2020",
          "7/9/2020",
          "7/10/2020",
          "7/13/2020",
          "7/14/2020",
          "7/15/2020",
          "7/16/2020",
          "7/17/2020",
          "7/20/2020",
          "7/21/2020",
          "7/22/2020",
          "7/23/2020",
          "7/24/2020",
          "7/27/2020",
          "7/28/2020",
          "7/29/2020",
          "7/30/2020",
          "7/31/2020",
          "8/3/2020",
          "8/4/2020",
          "8/5/2020",
          "8/6/2020",
          "8/7/2020",
          "8/10/2020",
          "8/11/2020",
          "8/12/2020",
          "8/13/2020",
          "8/14/2020",
          "8/17/2020",
          "8/18/2020",
          "8/19/2020",
          "8/20/2020",
          "8/21/2020",
          "8/24/2020",
          "8/25/2020",
          "8/26/2020",
          "8/27/2020",
          "8/28/2020"
         ],
         "y": [
          135.42,
          146.57,
          140.4,
          142.71,
          137.35,
          135.98,
          148.34,
          146.92,
          156.11,
          149.7,
          160.23,
          157.71,
          152.11,
          155.26,
          153.83,
          165.27,
          163.49,
          165.13,
          165.14,
          165.51,
          173.7,
          171.88,
          177.04,
          178.6,
          175.06,
          167.82,
          173.52,
          171.42,
          174.55,
          174.05,
          169.81,
          177.43,
          179.21,
          174.57,
          178.84,
          180.76,
          182.54,
          183.6,
          184.68,
          186.74,
          182.51,
          179.75,
          180.53,
          183.16,
          184.91,
          183.63,
          185.66,
          183.43,
          183.51,
          181.57,
          181.81,
          181.4,
          183.25,
          182.83,
          184.91,
          185.36,
          182.92,
          187.2,
          188.36,
          189.8,
          196.84,
          186.27,
          187.74,
          188.94,
          193.57,
          194.24,
          196.32,
          195.15,
          200.57,
          201.91,
          197.84,
          200.34,
          196.33,
          198.44,
          203.51,
          204.7,
          206.26,
          210.7,
          208.25,
          212.83,
          214.32,
          213.67,
          207.07,
          208.35,
          208.04,
          203.92,
          202.88,
          211.6,
          208.75,
          211.75,
          202.54,
          201.3,
          203.85,
          202.02,
          204.06,
          203.9,
          205.01,
          216.54,
          213.29,
          212.94,
          216.35,
          212.48,
          208.25,
          203.38,
          209.19,
          208.7,
          208.9,
          210.28,
          211.49,
          209.7,
          214.58,
          213.02,
          213.69,
          216.47,
          221.15,
          226.58,
          228.91
         ]
        },
        {
         "line": {
          "color": "rgba(219, 64, 82, 1.0)",
          "dash": "solid",
          "shape": "linear",
          "width": 1.3
         },
         "mode": "lines",
         "name": "Tesla",
         "text": "",
         "type": "scatter",
         "x": [
          "3/16/2020",
          "3/17/2020",
          "3/18/2020",
          "3/19/2020",
          "3/20/2020",
          "3/23/2020",
          "3/24/2020",
          "3/25/2020",
          "3/26/2020",
          "3/27/2020",
          "3/30/2020",
          "3/31/2020",
          "4/1/2020",
          "4/2/2020",
          "4/3/2020",
          "4/6/2020",
          "4/7/2020",
          "4/8/2020",
          "4/9/2020",
          "4/13/2020",
          "4/14/2020",
          "4/15/2020",
          "4/16/2020",
          "4/17/2020",
          "4/20/2020",
          "4/21/2020",
          "4/22/2020",
          "4/23/2020",
          "4/24/2020",
          "4/27/2020",
          "4/28/2020",
          "4/29/2020",
          "4/30/2020",
          "5/1/2020",
          "5/4/2020",
          "5/5/2020",
          "5/6/2020",
          "5/7/2020",
          "5/8/2020",
          "5/11/2020",
          "5/12/2020",
          "5/13/2020",
          "5/14/2020",
          "5/15/2020",
          "5/18/2020",
          "5/19/2020",
          "5/20/2020",
          "5/21/2020",
          "5/22/2020",
          "5/26/2020",
          "5/27/2020",
          "5/28/2020",
          "5/29/2020",
          "6/1/2020",
          "6/2/2020",
          "6/3/2020",
          "6/4/2020",
          "6/5/2020",
          "6/8/2020",
          "6/9/2020",
          "6/10/2020",
          "6/11/2020",
          "6/12/2020",
          "6/15/2020",
          "6/16/2020",
          "6/17/2020",
          "6/18/2020",
          "6/19/2020",
          "6/22/2020",
          "6/23/2020",
          "6/24/2020",
          "6/25/2020",
          "6/26/2020",
          "6/29/2020",
          "6/30/2020",
          "7/1/2020",
          "7/2/2020",
          "7/6/2020",
          "7/7/2020",
          "7/8/2020",
          "7/9/2020",
          "7/10/2020",
          "7/13/2020",
          "7/14/2020",
          "7/15/2020",
          "7/16/2020",
          "7/17/2020",
          "7/20/2020",
          "7/21/2020",
          "7/22/2020",
          "7/23/2020",
          "7/24/2020",
          "7/27/2020",
          "7/28/2020",
          "7/29/2020",
          "7/30/2020",
          "7/31/2020",
          "8/3/2020",
          "8/4/2020",
          "8/5/2020",
          "8/6/2020",
          "8/7/2020",
          "8/10/2020",
          "8/11/2020",
          "8/12/2020",
          "8/13/2020",
          "8/14/2020",
          "8/17/2020",
          "8/18/2020",
          "8/19/2020",
          "8/20/2020",
          "8/21/2020",
          "8/24/2020",
          "8/25/2020",
          "8/26/2020",
          "8/27/2020",
          "8/28/2020"
         ],
         "y": [
          445.07,
          430.2,
          361.22,
          427.64,
          427.53,
          434.29,
          505,
          539.25,
          528.16,
          514.36,
          502.13,
          524,
          481.56,
          454.47,
          480.01,
          516.24,
          545.45,
          548.84,
          573,
          650.95,
          709.89,
          729.83,
          745.21,
          753.89,
          746.36,
          686.72,
          732.11,
          705.63,
          725.15,
          798.75,
          769.12,
          800.51,
          781.88,
          701.32,
          761.19,
          768.21,
          782.58,
          780.04,
          819.42,
          811.29,
          809.41,
          790.96,
          803.33,
          799.17,
          813.63,
          808.01,
          815.56,
          827.6,
          816.88,
          818.87,
          820.23,
          805.81,
          835,
          898.1,
          881.56,
          882.96,
          864.38,
          885.66,
          949.92,
          940.67,
          1025.05,
          972.84,
          935.28,
          990.9,
          982.13,
          991.79,
          1003.96,
          1000.9,
          994.32,
          1001.78,
          960.85,
          985.98,
          959.74,
          1009.35,
          1079.81,
          1119.63,
          1208.66,
          1371.58,
          1389.86,
          1365.88,
          1394.28,
          1544.65,
          1497.06,
          1516.8,
          1546.01,
          1500.64,
          1500.84,
          1643,
          1568.36,
          1592.33,
          1513.07,
          1417,
          1539.6,
          1476.49,
          1499.11,
          1487.49,
          1430.76,
          1485,
          1487,
          1485.02,
          1489.58,
          1452.71,
          1418.57,
          1374.39,
          1554.76,
          1621,
          1650.71,
          1835.64,
          1887.09,
          1878.53,
          2001.83,
          2049.98,
          2014.2,
          2023.34,
          2153.17,
          2238.75,
          2213.4
         ]
        }
       ],
       "layout": {
        "legend": {
         "bgcolor": "#F5F6F9",
         "font": {
          "color": "#4D5663"
         }
        },
        "paper_bgcolor": "#F5F6F9",
        "plot_bgcolor": "#F5F6F9",
        "template": {
         "data": {
          "bar": [
           {
            "error_x": {
             "color": "#2a3f5f"
            },
            "error_y": {
             "color": "#2a3f5f"
            },
            "marker": {
             "line": {
              "color": "#E5ECF6",
              "width": 0.5
             }
            },
            "type": "bar"
           }
          ],
          "barpolar": [
           {
            "marker": {
             "line": {
              "color": "#E5ECF6",
              "width": 0.5
             }
            },
            "type": "barpolar"
           }
          ],
          "carpet": [
           {
            "aaxis": {
             "endlinecolor": "#2a3f5f",
             "gridcolor": "white",
             "linecolor": "white",
             "minorgridcolor": "white",
             "startlinecolor": "#2a3f5f"
            },
            "baxis": {
             "endlinecolor": "#2a3f5f",
             "gridcolor": "white",
             "linecolor": "white",
             "minorgridcolor": "white",
             "startlinecolor": "#2a3f5f"
            },
            "type": "carpet"
           }
          ],
          "choropleth": [
           {
            "colorbar": {
             "outlinewidth": 0,
             "ticks": ""
            },
            "type": "choropleth"
           }
          ],
          "contour": [
           {
            "colorbar": {
             "outlinewidth": 0,
             "ticks": ""
            },
            "colorscale": [
             [
              0,
              "#0d0887"
             ],
             [
              0.1111111111111111,
              "#46039f"
             ],
             [
              0.2222222222222222,
              "#7201a8"
             ],
             [
              0.3333333333333333,
              "#9c179e"
             ],
             [
              0.4444444444444444,
              "#bd3786"
             ],
             [
              0.5555555555555556,
              "#d8576b"
             ],
             [
              0.6666666666666666,
              "#ed7953"
             ],
             [
              0.7777777777777778,
              "#fb9f3a"
             ],
             [
              0.8888888888888888,
              "#fdca26"
             ],
             [
              1,
              "#f0f921"
             ]
            ],
            "type": "contour"
           }
          ],
          "contourcarpet": [
           {
            "colorbar": {
             "outlinewidth": 0,
             "ticks": ""
            },
            "type": "contourcarpet"
           }
          ],
          "heatmap": [
           {
            "colorbar": {
             "outlinewidth": 0,
             "ticks": ""
            },
            "colorscale": [
             [
              0,
              "#0d0887"
             ],
             [
              0.1111111111111111,
              "#46039f"
             ],
             [
              0.2222222222222222,
              "#7201a8"
             ],
             [
              0.3333333333333333,
              "#9c179e"
             ],
             [
              0.4444444444444444,
              "#bd3786"
             ],
             [
              0.5555555555555556,
              "#d8576b"
             ],
             [
              0.6666666666666666,
              "#ed7953"
             ],
             [
              0.7777777777777778,
              "#fb9f3a"
             ],
             [
              0.8888888888888888,
              "#fdca26"
             ],
             [
              1,
              "#f0f921"
             ]
            ],
            "type": "heatmap"
           }
          ],
          "heatmapgl": [
           {
            "colorbar": {
             "outlinewidth": 0,
             "ticks": ""
            },
            "colorscale": [
             [
              0,
              "#0d0887"
             ],
             [
              0.1111111111111111,
              "#46039f"
             ],
             [
              0.2222222222222222,
              "#7201a8"
             ],
             [
              0.3333333333333333,
              "#9c179e"
             ],
             [
              0.4444444444444444,
              "#bd3786"
             ],
             [
              0.5555555555555556,
              "#d8576b"
             ],
             [
              0.6666666666666666,
              "#ed7953"
             ],
             [
              0.7777777777777778,
              "#fb9f3a"
             ],
             [
              0.8888888888888888,
              "#fdca26"
             ],
             [
              1,
              "#f0f921"
             ]
            ],
            "type": "heatmapgl"
           }
          ],
          "histogram": [
           {
            "marker": {
             "colorbar": {
              "outlinewidth": 0,
              "ticks": ""
             }
            },
            "type": "histogram"
           }
          ],
          "histogram2d": [
           {
            "colorbar": {
             "outlinewidth": 0,
             "ticks": ""
            },
            "colorscale": [
             [
              0,
              "#0d0887"
             ],
             [
              0.1111111111111111,
              "#46039f"
             ],
             [
              0.2222222222222222,
              "#7201a8"
             ],
             [
              0.3333333333333333,
              "#9c179e"
             ],
             [
              0.4444444444444444,
              "#bd3786"
             ],
             [
              0.5555555555555556,
              "#d8576b"
             ],
             [
              0.6666666666666666,
              "#ed7953"
             ],
             [
              0.7777777777777778,
              "#fb9f3a"
             ],
             [
              0.8888888888888888,
              "#fdca26"
             ],
             [
              1,
              "#f0f921"
             ]
            ],
            "type": "histogram2d"
           }
          ],
          "histogram2dcontour": [
           {
            "colorbar": {
             "outlinewidth": 0,
             "ticks": ""
            },
            "colorscale": [
             [
              0,
              "#0d0887"
             ],
             [
              0.1111111111111111,
              "#46039f"
             ],
             [
              0.2222222222222222,
              "#7201a8"
             ],
             [
              0.3333333333333333,
              "#9c179e"
             ],
             [
              0.4444444444444444,
              "#bd3786"
             ],
             [
              0.5555555555555556,
              "#d8576b"
             ],
             [
              0.6666666666666666,
              "#ed7953"
             ],
             [
              0.7777777777777778,
              "#fb9f3a"
             ],
             [
              0.8888888888888888,
              "#fdca26"
             ],
             [
              1,
              "#f0f921"
             ]
            ],
            "type": "histogram2dcontour"
           }
          ],
          "mesh3d": [
           {
            "colorbar": {
             "outlinewidth": 0,
             "ticks": ""
            },
            "type": "mesh3d"
           }
          ],
          "parcoords": [
           {
            "line": {
             "colorbar": {
              "outlinewidth": 0,
              "ticks": ""
             }
            },
            "type": "parcoords"
           }
          ],
          "pie": [
           {
            "automargin": true,
            "type": "pie"
           }
          ],
          "scatter": [
           {
            "marker": {
             "colorbar": {
              "outlinewidth": 0,
              "ticks": ""
             }
            },
            "type": "scatter"
           }
          ],
          "scatter3d": [
           {
            "line": {
             "colorbar": {
              "outlinewidth": 0,
              "ticks": ""
             }
            },
            "marker": {
             "colorbar": {
              "outlinewidth": 0,
              "ticks": ""
             }
            },
            "type": "scatter3d"
           }
          ],
          "scattercarpet": [
           {
            "marker": {
             "colorbar": {
              "outlinewidth": 0,
              "ticks": ""
             }
            },
            "type": "scattercarpet"
           }
          ],
          "scattergeo": [
           {
            "marker": {
             "colorbar": {
              "outlinewidth": 0,
              "ticks": ""
             }
            },
            "type": "scattergeo"
           }
          ],
          "scattergl": [
           {
            "marker": {
             "colorbar": {
              "outlinewidth": 0,
              "ticks": ""
             }
            },
            "type": "scattergl"
           }
          ],
          "scattermapbox": [
           {
            "marker": {
             "colorbar": {
              "outlinewidth": 0,
              "ticks": ""
             }
            },
            "type": "scattermapbox"
           }
          ],
          "scatterpolar": [
           {
            "marker": {
             "colorbar": {
              "outlinewidth": 0,
              "ticks": ""
             }
            },
            "type": "scatterpolar"
           }
          ],
          "scatterpolargl": [
           {
            "marker": {
             "colorbar": {
              "outlinewidth": 0,
              "ticks": ""
             }
            },
            "type": "scatterpolargl"
           }
          ],
          "scatterternary": [
           {
            "marker": {
             "colorbar": {
              "outlinewidth": 0,
              "ticks": ""
             }
            },
            "type": "scatterternary"
           }
          ],
          "surface": [
           {
            "colorbar": {
             "outlinewidth": 0,
             "ticks": ""
            },
            "colorscale": [
             [
              0,
              "#0d0887"
             ],
             [
              0.1111111111111111,
              "#46039f"
             ],
             [
              0.2222222222222222,
              "#7201a8"
             ],
             [
              0.3333333333333333,
              "#9c179e"
             ],
             [
              0.4444444444444444,
              "#bd3786"
             ],
             [
              0.5555555555555556,
              "#d8576b"
             ],
             [
              0.6666666666666666,
              "#ed7953"
             ],
             [
              0.7777777777777778,
              "#fb9f3a"
             ],
             [
              0.8888888888888888,
              "#fdca26"
             ],
             [
              1,
              "#f0f921"
             ]
            ],
            "type": "surface"
           }
          ],
          "table": [
           {
            "cells": {
             "fill": {
              "color": "#EBF0F8"
             },
             "line": {
              "color": "white"
             }
            },
            "header": {
             "fill": {
              "color": "#C8D4E3"
             },
             "line": {
              "color": "white"
             }
            },
            "type": "table"
           }
          ]
         },
         "layout": {
          "annotationdefaults": {
           "arrowcolor": "#2a3f5f",
           "arrowhead": 0,
           "arrowwidth": 1
          },
          "coloraxis": {
           "colorbar": {
            "outlinewidth": 0,
            "ticks": ""
           }
          },
          "colorscale": {
           "diverging": [
            [
             0,
             "#8e0152"
            ],
            [
             0.1,
             "#c51b7d"
            ],
            [
             0.2,
             "#de77ae"
            ],
            [
             0.3,
             "#f1b6da"
            ],
            [
             0.4,
             "#fde0ef"
            ],
            [
             0.5,
             "#f7f7f7"
            ],
            [
             0.6,
             "#e6f5d0"
            ],
            [
             0.7,
             "#b8e186"
            ],
            [
             0.8,
             "#7fbc41"
            ],
            [
             0.9,
             "#4d9221"
            ],
            [
             1,
             "#276419"
            ]
           ],
           "sequential": [
            [
             0,
             "#0d0887"
            ],
            [
             0.1111111111111111,
             "#46039f"
            ],
            [
             0.2222222222222222,
             "#7201a8"
            ],
            [
             0.3333333333333333,
             "#9c179e"
            ],
            [
             0.4444444444444444,
             "#bd3786"
            ],
            [
             0.5555555555555556,
             "#d8576b"
            ],
            [
             0.6666666666666666,
             "#ed7953"
            ],
            [
             0.7777777777777778,
             "#fb9f3a"
            ],
            [
             0.8888888888888888,
             "#fdca26"
            ],
            [
             1,
             "#f0f921"
            ]
           ],
           "sequentialminus": [
            [
             0,
             "#0d0887"
            ],
            [
             0.1111111111111111,
             "#46039f"
            ],
            [
             0.2222222222222222,
             "#7201a8"
            ],
            [
             0.3333333333333333,
             "#9c179e"
            ],
            [
             0.4444444444444444,
             "#bd3786"
            ],
            [
             0.5555555555555556,
             "#d8576b"
            ],
            [
             0.6666666666666666,
             "#ed7953"
            ],
            [
             0.7777777777777778,
             "#fb9f3a"
            ],
            [
             0.8888888888888888,
             "#fdca26"
            ],
            [
             1,
             "#f0f921"
            ]
           ]
          },
          "colorway": [
           "#636efa",
           "#EF553B",
           "#00cc96",
           "#ab63fa",
           "#FFA15A",
           "#19d3f3",
           "#FF6692",
           "#B6E880",
           "#FF97FF",
           "#FECB52"
          ],
          "font": {
           "color": "#2a3f5f"
          },
          "geo": {
           "bgcolor": "white",
           "lakecolor": "white",
           "landcolor": "#E5ECF6",
           "showlakes": true,
           "showland": true,
           "subunitcolor": "white"
          },
          "hoverlabel": {
           "align": "left"
          },
          "hovermode": "closest",
          "mapbox": {
           "style": "light"
          },
          "paper_bgcolor": "white",
          "plot_bgcolor": "#E5ECF6",
          "polar": {
           "angularaxis": {
            "gridcolor": "white",
            "linecolor": "white",
            "ticks": ""
           },
           "bgcolor": "#E5ECF6",
           "radialaxis": {
            "gridcolor": "white",
            "linecolor": "white",
            "ticks": ""
           }
          },
          "scene": {
           "xaxis": {
            "backgroundcolor": "#E5ECF6",
            "gridcolor": "white",
            "gridwidth": 2,
            "linecolor": "white",
            "showbackground": true,
            "ticks": "",
            "zerolinecolor": "white"
           },
           "yaxis": {
            "backgroundcolor": "#E5ECF6",
            "gridcolor": "white",
            "gridwidth": 2,
            "linecolor": "white",
            "showbackground": true,
            "ticks": "",
            "zerolinecolor": "white"
           },
           "zaxis": {
            "backgroundcolor": "#E5ECF6",
            "gridcolor": "white",
            "gridwidth": 2,
            "linecolor": "white",
            "showbackground": true,
            "ticks": "",
            "zerolinecolor": "white"
           }
          },
          "shapedefaults": {
           "line": {
            "color": "#2a3f5f"
           }
          },
          "ternary": {
           "aaxis": {
            "gridcolor": "white",
            "linecolor": "white",
            "ticks": ""
           },
           "baxis": {
            "gridcolor": "white",
            "linecolor": "white",
            "ticks": ""
           },
           "bgcolor": "#E5ECF6",
           "caxis": {
            "gridcolor": "white",
            "linecolor": "white",
            "ticks": ""
           }
          },
          "title": {
           "x": 0.05
          },
          "xaxis": {
           "automargin": true,
           "gridcolor": "white",
           "linecolor": "white",
           "ticks": "",
           "title": {
            "standoff": 15
           },
           "zerolinecolor": "white",
           "zerolinewidth": 2
          },
          "yaxis": {
           "automargin": true,
           "gridcolor": "white",
           "linecolor": "white",
           "ticks": "",
           "title": {
            "standoff": 15
           },
           "zerolinecolor": "white",
           "zerolinewidth": 2
          }
         }
        },
        "title": {
         "font": {
          "color": "#4D5663"
         }
        },
        "xaxis": {
         "gridcolor": "#E1E5ED",
         "showgrid": true,
         "tickfont": {
          "color": "#4D5663"
         },
         "title": {
          "font": {
           "color": "#4D5663"
          },
          "text": ""
         },
         "zerolinecolor": "#E1E5ED"
        },
        "yaxis": {
         "gridcolor": "#E1E5ED",
         "showgrid": true,
         "tickfont": {
          "color": "#4D5663"
         },
         "title": {
          "font": {
           "color": "#4D5663"
          },
          "text": ""
         },
         "zerolinecolor": "#E1E5ED"
        }
       }
      },
      "text/html": [
       "<div>                            <div id=\"7f460543-fff4-4a75-9401-24fe4362a9d1\" class=\"plotly-graph-div\" style=\"height:525px; width:100%;\"></div>            <script type=\"text/javascript\">                require([\"plotly\"], function(Plotly) {                    window.PLOTLYENV=window.PLOTLYENV || {};\n",
       "                    window.PLOTLYENV.BASE_URL='https://plot.ly';                                    if (document.getElementById(\"7f460543-fff4-4a75-9401-24fe4362a9d1\")) {                    Plotly.newPlot(                        \"7f460543-fff4-4a75-9401-24fe4362a9d1\",                        [{\"line\": {\"color\": \"rgba(255, 153, 51, 1.0)\", \"dash\": \"solid\", \"shape\": \"linear\", \"width\": 1.3}, \"mode\": \"lines\", \"name\": \"AAPL\", \"text\": \"\", \"type\": \"scatter\", \"x\": [\"3/16/2020\", \"3/17/2020\", \"3/18/2020\", \"3/19/2020\", \"3/20/2020\", \"3/23/2020\", \"3/24/2020\", \"3/25/2020\", \"3/26/2020\", \"3/27/2020\", \"3/30/2020\", \"3/31/2020\", \"4/1/2020\", \"4/2/2020\", \"4/3/2020\", \"4/6/2020\", \"4/7/2020\", \"4/8/2020\", \"4/9/2020\", \"4/13/2020\", \"4/14/2020\", \"4/15/2020\", \"4/16/2020\", \"4/17/2020\", \"4/20/2020\", \"4/21/2020\", \"4/22/2020\", \"4/23/2020\", \"4/24/2020\", \"4/27/2020\", \"4/28/2020\", \"4/29/2020\", \"4/30/2020\", \"5/1/2020\", \"5/4/2020\", \"5/5/2020\", \"5/6/2020\", \"5/7/2020\", \"5/8/2020\", \"5/11/2020\", \"5/12/2020\", \"5/13/2020\", \"5/14/2020\", \"5/15/2020\", \"5/18/2020\", \"5/19/2020\", \"5/20/2020\", \"5/21/2020\", \"5/22/2020\", \"5/26/2020\", \"5/27/2020\", \"5/28/2020\", \"5/29/2020\", \"6/1/2020\", \"6/2/2020\", \"6/3/2020\", \"6/4/2020\", \"6/5/2020\", \"6/8/2020\", \"6/9/2020\", \"6/10/2020\", \"6/11/2020\", \"6/12/2020\", \"6/15/2020\", \"6/16/2020\", \"6/17/2020\", \"6/18/2020\", \"6/19/2020\", \"6/22/2020\", \"6/23/2020\", \"6/24/2020\", \"6/25/2020\", \"6/26/2020\", \"6/29/2020\", \"6/30/2020\", \"7/1/2020\", \"7/2/2020\", \"7/6/2020\", \"7/7/2020\", \"7/8/2020\", \"7/9/2020\", \"7/10/2020\", \"7/13/2020\", \"7/14/2020\", \"7/15/2020\", \"7/16/2020\", \"7/17/2020\", \"7/20/2020\", \"7/21/2020\", \"7/22/2020\", \"7/23/2020\", \"7/24/2020\", \"7/27/2020\", \"7/28/2020\", \"7/29/2020\", \"7/30/2020\", \"7/31/2020\", \"8/3/2020\", \"8/4/2020\", \"8/5/2020\", \"8/6/2020\", \"8/7/2020\", \"8/10/2020\", \"8/11/2020\", \"8/12/2020\", \"8/13/2020\", \"8/14/2020\", \"8/17/2020\", \"8/18/2020\", \"8/19/2020\", \"8/20/2020\", \"8/21/2020\", \"8/24/2020\", \"8/25/2020\", \"8/26/2020\", \"8/27/2020\", \"8/28/2020\"], \"y\": [242.21, 252.86, 246.67, 244.78, 229.24, 224.37, 246.88, 245.52, 258.44, 247.74, 254.81, 254.29, 240.91, 244.93, 241.41, 262.47, 259.43, 266.07, 267.99, 273.25, 287.05, 284.43, 286.69, 282.8, 276.93, 268.37, 276.1, 275.03, 282.97, 283.17, 278.58, 287.73, 293.8, 289.07, 293.16, 297.56, 300.63, 303.74, 310.13, 315.01, 311.41, 307.65, 309.54, 307.71, 314.96, 313.14, 319.23, 316.85, 318.89, 316.73, 318.11, 318.25, 317.94, 321.85, 323.34, 325.12, 322.32, 331.5, 333.46, 343.99, 352.84, 335.9, 338.8, 342.99, 352.08, 351.59, 351.73, 349.72, 358.87, 366.53, 360.06, 364.84, 353.63, 361.78, 364.8, 364.11, 364.11, 373.85, 372.69, 381.37, 382.73, 383.68, 381.91, 388.23, 390.9, 386.09, 385.31, 393.43, 388.0, 389.09, 371.38, 370.46, 379.24, 373.01, 380.16, 384.76, 425.04, 435.75, 438.66, 440.25, 455.61, 444.45, 450.91, 437.5, 452.04, 460.04, 459.63, 458.43, 462.25, 462.83, 473.1, 497.48, 503.43, 499.3, 506.09, 500.04, 499.23]}, {\"line\": {\"color\": \"rgba(55, 128, 191, 1.0)\", \"dash\": \"solid\", \"shape\": \"linear\", \"width\": 1.3}, \"mode\": \"lines\", \"name\": \"Amazon\", \"text\": \"\", \"type\": \"scatter\", \"x\": [\"3/16/2020\", \"3/17/2020\", \"3/18/2020\", \"3/19/2020\", \"3/20/2020\", \"3/23/2020\", \"3/24/2020\", \"3/25/2020\", \"3/26/2020\", \"3/27/2020\", \"3/30/2020\", \"3/31/2020\", \"4/1/2020\", \"4/2/2020\", \"4/3/2020\", \"4/6/2020\", \"4/7/2020\", \"4/8/2020\", \"4/9/2020\", \"4/13/2020\", \"4/14/2020\", \"4/15/2020\", \"4/16/2020\", \"4/17/2020\", \"4/20/2020\", \"4/21/2020\", \"4/22/2020\", \"4/23/2020\", \"4/24/2020\", \"4/27/2020\", \"4/28/2020\", \"4/29/2020\", \"4/30/2020\", \"5/1/2020\", \"5/4/2020\", \"5/5/2020\", \"5/6/2020\", \"5/7/2020\", \"5/8/2020\", \"5/11/2020\", \"5/12/2020\", \"5/13/2020\", \"5/14/2020\", \"5/15/2020\", \"5/18/2020\", \"5/19/2020\", \"5/20/2020\", \"5/21/2020\", \"5/22/2020\", \"5/26/2020\", \"5/27/2020\", \"5/28/2020\", \"5/29/2020\", \"6/1/2020\", \"6/2/2020\", \"6/3/2020\", \"6/4/2020\", \"6/5/2020\", \"6/8/2020\", \"6/9/2020\", \"6/10/2020\", \"6/11/2020\", \"6/12/2020\", \"6/15/2020\", \"6/16/2020\", \"6/17/2020\", \"6/18/2020\", \"6/19/2020\", \"6/22/2020\", \"6/23/2020\", \"6/24/2020\", \"6/25/2020\", \"6/26/2020\", \"6/29/2020\", \"6/30/2020\", \"7/1/2020\", \"7/2/2020\", \"7/6/2020\", \"7/7/2020\", \"7/8/2020\", \"7/9/2020\", \"7/10/2020\", \"7/13/2020\", \"7/14/2020\", \"7/15/2020\", \"7/16/2020\", \"7/17/2020\", \"7/20/2020\", \"7/21/2020\", \"7/22/2020\", \"7/23/2020\", \"7/24/2020\", \"7/27/2020\", \"7/28/2020\", \"7/29/2020\", \"7/30/2020\", \"7/31/2020\", \"8/3/2020\", \"8/4/2020\", \"8/5/2020\", \"8/6/2020\", \"8/7/2020\", \"8/10/2020\", \"8/11/2020\", \"8/12/2020\", \"8/13/2020\", \"8/14/2020\", \"8/17/2020\", \"8/18/2020\", \"8/19/2020\", \"8/20/2020\", \"8/21/2020\", \"8/24/2020\", \"8/25/2020\", \"8/26/2020\", \"8/27/2020\", \"8/28/2020\"], \"y\": [1689.15, 1807.84, 1830.0, 1880.93, 1846.09, 1902.83, 1940.1, 1885.84, 1955.49, 1900.1, 1963.95, 1949.72, 1907.7, 1918.83, 1906.59, 1997.59, 2011.6, 2043.0, 2042.76, 2168.87, 2283.32, 2307.68, 2408.19, 2375.0, 2393.61, 2328.12, 2363.49, 2399.45, 2410.22, 2376.0, 2314.08, 2372.71, 2474.0, 2286.04, 2315.99, 2317.8, 2351.26, 2367.61, 2379.61, 2409.0, 2356.95, 2367.92, 2388.85, 2409.78, 2426.26, 2449.33, 2497.94, 2446.74, 2436.88, 2421.86, 2410.39, 2401.1, 2442.37, 2471.04, 2472.41, 2478.4, 2460.6, 2483.0, 2524.06, 2600.86, 2647.45, 2557.96, 2545.02, 2572.68, 2615.27, 2640.98, 2653.98, 2675.01, 2713.82, 2764.41, 2734.4, 2754.58, 2692.87, 2680.38, 2758.82, 2878.7, 2890.3, 3057.04, 3000.12, 3081.11, 3182.63, 3200.0, 3104.0, 3084.0, 3008.87, 2999.9, 2961.97, 3196.84, 3138.29, 3099.91, 2986.55, 3008.91, 3055.21, 3000.33, 3033.53, 3051.88, 3164.68, 3111.89, 3138.83, 3205.03, 3225.0, 3167.46, 3148.16, 3080.67, 3162.24, 3161.02, 3148.02, 3182.41, 3312.49, 3260.48, 3297.37, 3284.72, 3307.46, 3346.49, 3441.85, 3400.0, 3401.8]}, {\"line\": {\"color\": \"rgba(50, 171, 96, 1.0)\", \"dash\": \"solid\", \"shape\": \"linear\", \"width\": 1.3}, \"mode\": \"lines\", \"name\": \"Facebook\", \"text\": \"\", \"type\": \"scatter\", \"x\": [\"3/16/2020\", \"3/17/2020\", \"3/18/2020\", \"3/19/2020\", \"3/20/2020\", \"3/23/2020\", \"3/24/2020\", \"3/25/2020\", \"3/26/2020\", \"3/27/2020\", \"3/30/2020\", \"3/31/2020\", \"4/1/2020\", \"4/2/2020\", \"4/3/2020\", \"4/6/2020\", \"4/7/2020\", \"4/8/2020\", \"4/9/2020\", \"4/13/2020\", \"4/14/2020\", \"4/15/2020\", \"4/16/2020\", \"4/17/2020\", \"4/20/2020\", \"4/21/2020\", \"4/22/2020\", \"4/23/2020\", \"4/24/2020\", \"4/27/2020\", \"4/28/2020\", \"4/29/2020\", \"4/30/2020\", \"5/1/2020\", \"5/4/2020\", \"5/5/2020\", \"5/6/2020\", \"5/7/2020\", \"5/8/2020\", \"5/11/2020\", \"5/12/2020\", \"5/13/2020\", \"5/14/2020\", \"5/15/2020\", \"5/18/2020\", \"5/19/2020\", \"5/20/2020\", \"5/21/2020\", \"5/22/2020\", \"5/26/2020\", \"5/27/2020\", \"5/28/2020\", \"5/29/2020\", \"6/1/2020\", \"6/2/2020\", \"6/3/2020\", \"6/4/2020\", \"6/5/2020\", \"6/8/2020\", \"6/9/2020\", \"6/10/2020\", \"6/11/2020\", \"6/12/2020\", \"6/15/2020\", \"6/16/2020\", \"6/17/2020\", \"6/18/2020\", \"6/19/2020\", \"6/22/2020\", \"6/23/2020\", \"6/24/2020\", \"6/25/2020\", \"6/26/2020\", \"6/29/2020\", \"6/30/2020\", \"7/1/2020\", \"7/2/2020\", \"7/6/2020\", \"7/7/2020\", \"7/8/2020\", \"7/9/2020\", \"7/10/2020\", \"7/13/2020\", \"7/14/2020\", \"7/15/2020\", \"7/16/2020\", \"7/17/2020\", \"7/20/2020\", \"7/21/2020\", \"7/22/2020\", \"7/23/2020\", \"7/24/2020\", \"7/27/2020\", \"7/28/2020\", \"7/29/2020\", \"7/30/2020\", \"7/31/2020\", \"8/3/2020\", \"8/4/2020\", \"8/5/2020\", \"8/6/2020\", \"8/7/2020\", \"8/10/2020\", \"8/11/2020\", \"8/12/2020\", \"8/13/2020\", \"8/14/2020\", \"8/17/2020\", \"8/18/2020\", \"8/19/2020\", \"8/20/2020\", \"8/21/2020\", \"8/24/2020\", \"8/25/2020\", \"8/26/2020\", \"8/27/2020\", \"8/28/2020\"], \"y\": [146.01, 149.42, 146.96, 153.13, 149.73, 148.1, 160.98, 156.21, 163.34, 156.79, 165.95, 166.8, 159.6, 158.19, 154.18, 165.55, 168.83, 174.28, 175.19, 174.79, 178.17, 176.97, 176.25, 179.24, 178.24, 170.8, 182.28, 185.13, 190.07, 187.5, 182.91, 194.19, 204.71, 202.27, 205.26, 207.07, 208.47, 211.26, 212.35, 213.18, 210.1, 205.1, 206.81, 210.88, 213.19, 216.88, 229.97, 231.39, 234.91, 232.2, 229.14, 225.46, 225.09, 231.91, 232.72, 230.16, 226.29, 230.77, 231.4, 238.67, 236.73, 224.43, 228.58, 232.5, 235.65, 235.53, 235.94, 238.79, 239.22, 242.24, 234.02, 235.68, 216.08, 220.64, 227.07, 237.55, 233.42, 240.28, 240.86, 243.58, 244.5, 245.07, 239.0, 239.73, 240.28, 240.93, 242.03, 245.42, 241.75, 239.87, 232.6, 230.71, 233.5, 230.12, 233.29, 234.5, 253.67, 251.96, 249.83, 249.12, 265.28, 268.44, 263.0, 256.13, 259.89, 261.3, 261.24, 261.16, 262.34, 262.59, 269.01, 267.01, 271.39, 280.82, 303.91, 293.22, 293.66]}, {\"line\": {\"color\": \"rgba(128, 0, 128, 1.0)\", \"dash\": \"solid\", \"shape\": \"linear\", \"width\": 1.3}, \"mode\": \"lines\", \"name\": \"Microsoft\", \"text\": \"\", \"type\": \"scatter\", \"x\": [\"3/16/2020\", \"3/17/2020\", \"3/18/2020\", \"3/19/2020\", \"3/20/2020\", \"3/23/2020\", \"3/24/2020\", \"3/25/2020\", \"3/26/2020\", \"3/27/2020\", \"3/30/2020\", \"3/31/2020\", \"4/1/2020\", \"4/2/2020\", \"4/3/2020\", \"4/6/2020\", \"4/7/2020\", \"4/8/2020\", \"4/9/2020\", \"4/13/2020\", \"4/14/2020\", \"4/15/2020\", \"4/16/2020\", \"4/17/2020\", \"4/20/2020\", \"4/21/2020\", \"4/22/2020\", \"4/23/2020\", \"4/24/2020\", \"4/27/2020\", \"4/28/2020\", \"4/29/2020\", \"4/30/2020\", \"5/1/2020\", \"5/4/2020\", \"5/5/2020\", \"5/6/2020\", \"5/7/2020\", \"5/8/2020\", \"5/11/2020\", \"5/12/2020\", \"5/13/2020\", \"5/14/2020\", \"5/15/2020\", \"5/18/2020\", \"5/19/2020\", \"5/20/2020\", \"5/21/2020\", \"5/22/2020\", \"5/26/2020\", \"5/27/2020\", \"5/28/2020\", \"5/29/2020\", \"6/1/2020\", \"6/2/2020\", \"6/3/2020\", \"6/4/2020\", \"6/5/2020\", \"6/8/2020\", \"6/9/2020\", \"6/10/2020\", \"6/11/2020\", \"6/12/2020\", \"6/15/2020\", \"6/16/2020\", \"6/17/2020\", \"6/18/2020\", \"6/19/2020\", \"6/22/2020\", \"6/23/2020\", \"6/24/2020\", \"6/25/2020\", \"6/26/2020\", \"6/29/2020\", \"6/30/2020\", \"7/1/2020\", \"7/2/2020\", \"7/6/2020\", \"7/7/2020\", \"7/8/2020\", \"7/9/2020\", \"7/10/2020\", \"7/13/2020\", \"7/14/2020\", \"7/15/2020\", \"7/16/2020\", \"7/17/2020\", \"7/20/2020\", \"7/21/2020\", \"7/22/2020\", \"7/23/2020\", \"7/24/2020\", \"7/27/2020\", \"7/28/2020\", \"7/29/2020\", \"7/30/2020\", \"7/31/2020\", \"8/3/2020\", \"8/4/2020\", \"8/5/2020\", \"8/6/2020\", \"8/7/2020\", \"8/10/2020\", \"8/11/2020\", \"8/12/2020\", \"8/13/2020\", \"8/14/2020\", \"8/17/2020\", \"8/18/2020\", \"8/19/2020\", \"8/20/2020\", \"8/21/2020\", \"8/24/2020\", \"8/25/2020\", \"8/26/2020\", \"8/27/2020\", \"8/28/2020\"], \"y\": [135.42, 146.57, 140.4, 142.71, 137.35, 135.98, 148.34, 146.92, 156.11, 149.7, 160.23, 157.71, 152.11, 155.26, 153.83, 165.27, 163.49, 165.13, 165.14, 165.51, 173.7, 171.88, 177.04, 178.6, 175.06, 167.82, 173.52, 171.42, 174.55, 174.05, 169.81, 177.43, 179.21, 174.57, 178.84, 180.76, 182.54, 183.6, 184.68, 186.74, 182.51, 179.75, 180.53, 183.16, 184.91, 183.63, 185.66, 183.43, 183.51, 181.57, 181.81, 181.4, 183.25, 182.83, 184.91, 185.36, 182.92, 187.2, 188.36, 189.8, 196.84, 186.27, 187.74, 188.94, 193.57, 194.24, 196.32, 195.15, 200.57, 201.91, 197.84, 200.34, 196.33, 198.44, 203.51, 204.7, 206.26, 210.7, 208.25, 212.83, 214.32, 213.67, 207.07, 208.35, 208.04, 203.92, 202.88, 211.6, 208.75, 211.75, 202.54, 201.3, 203.85, 202.02, 204.06, 203.9, 205.01, 216.54, 213.29, 212.94, 216.35, 212.48, 208.25, 203.38, 209.19, 208.7, 208.9, 210.28, 211.49, 209.7, 214.58, 213.02, 213.69, 216.47, 221.15, 226.58, 228.91]}, {\"line\": {\"color\": \"rgba(219, 64, 82, 1.0)\", \"dash\": \"solid\", \"shape\": \"linear\", \"width\": 1.3}, \"mode\": \"lines\", \"name\": \"Tesla\", \"text\": \"\", \"type\": \"scatter\", \"x\": [\"3/16/2020\", \"3/17/2020\", \"3/18/2020\", \"3/19/2020\", \"3/20/2020\", \"3/23/2020\", \"3/24/2020\", \"3/25/2020\", \"3/26/2020\", \"3/27/2020\", \"3/30/2020\", \"3/31/2020\", \"4/1/2020\", \"4/2/2020\", \"4/3/2020\", \"4/6/2020\", \"4/7/2020\", \"4/8/2020\", \"4/9/2020\", \"4/13/2020\", \"4/14/2020\", \"4/15/2020\", \"4/16/2020\", \"4/17/2020\", \"4/20/2020\", \"4/21/2020\", \"4/22/2020\", \"4/23/2020\", \"4/24/2020\", \"4/27/2020\", \"4/28/2020\", \"4/29/2020\", \"4/30/2020\", \"5/1/2020\", \"5/4/2020\", \"5/5/2020\", \"5/6/2020\", \"5/7/2020\", \"5/8/2020\", \"5/11/2020\", \"5/12/2020\", \"5/13/2020\", \"5/14/2020\", \"5/15/2020\", \"5/18/2020\", \"5/19/2020\", \"5/20/2020\", \"5/21/2020\", \"5/22/2020\", \"5/26/2020\", \"5/27/2020\", \"5/28/2020\", \"5/29/2020\", \"6/1/2020\", \"6/2/2020\", \"6/3/2020\", \"6/4/2020\", \"6/5/2020\", \"6/8/2020\", \"6/9/2020\", \"6/10/2020\", \"6/11/2020\", \"6/12/2020\", \"6/15/2020\", \"6/16/2020\", \"6/17/2020\", \"6/18/2020\", \"6/19/2020\", \"6/22/2020\", \"6/23/2020\", \"6/24/2020\", \"6/25/2020\", \"6/26/2020\", \"6/29/2020\", \"6/30/2020\", \"7/1/2020\", \"7/2/2020\", \"7/6/2020\", \"7/7/2020\", \"7/8/2020\", \"7/9/2020\", \"7/10/2020\", \"7/13/2020\", \"7/14/2020\", \"7/15/2020\", \"7/16/2020\", \"7/17/2020\", \"7/20/2020\", \"7/21/2020\", \"7/22/2020\", \"7/23/2020\", \"7/24/2020\", \"7/27/2020\", \"7/28/2020\", \"7/29/2020\", \"7/30/2020\", \"7/31/2020\", \"8/3/2020\", \"8/4/2020\", \"8/5/2020\", \"8/6/2020\", \"8/7/2020\", \"8/10/2020\", \"8/11/2020\", \"8/12/2020\", \"8/13/2020\", \"8/14/2020\", \"8/17/2020\", \"8/18/2020\", \"8/19/2020\", \"8/20/2020\", \"8/21/2020\", \"8/24/2020\", \"8/25/2020\", \"8/26/2020\", \"8/27/2020\", \"8/28/2020\"], \"y\": [445.07, 430.2, 361.22, 427.64, 427.53, 434.29, 505.0, 539.25, 528.16, 514.36, 502.13, 524.0, 481.56, 454.47, 480.01, 516.24, 545.45, 548.84, 573.0, 650.95, 709.89, 729.83, 745.21, 753.89, 746.36, 686.72, 732.11, 705.63, 725.15, 798.75, 769.12, 800.51, 781.88, 701.32, 761.19, 768.21, 782.58, 780.04, 819.42, 811.29, 809.41, 790.96, 803.33, 799.17, 813.63, 808.01, 815.56, 827.6, 816.88, 818.87, 820.23, 805.81, 835.0, 898.1, 881.56, 882.96, 864.38, 885.66, 949.92, 940.67, 1025.05, 972.84, 935.28, 990.9, 982.13, 991.79, 1003.96, 1000.9, 994.32, 1001.78, 960.85, 985.98, 959.74, 1009.35, 1079.81, 1119.63, 1208.66, 1371.58, 1389.86, 1365.88, 1394.28, 1544.65, 1497.06, 1516.8, 1546.01, 1500.64, 1500.84, 1643.0, 1568.36, 1592.33, 1513.07, 1417.0, 1539.6, 1476.49, 1499.11, 1487.49, 1430.76, 1485.0, 1487.0, 1485.02, 1489.58, 1452.71, 1418.57, 1374.39, 1554.76, 1621.0, 1650.71, 1835.64, 1887.09, 1878.53, 2001.83, 2049.98, 2014.2, 2023.34, 2153.17, 2238.75, 2213.4]}],                        {\"legend\": {\"bgcolor\": \"#F5F6F9\", \"font\": {\"color\": \"#4D5663\"}}, \"paper_bgcolor\": \"#F5F6F9\", \"plot_bgcolor\": \"#F5F6F9\", \"template\": {\"data\": {\"bar\": [{\"error_x\": {\"color\": \"#2a3f5f\"}, \"error_y\": {\"color\": \"#2a3f5f\"}, \"marker\": {\"line\": {\"color\": \"#E5ECF6\", \"width\": 0.5}}, \"type\": \"bar\"}], \"barpolar\": [{\"marker\": {\"line\": {\"color\": \"#E5ECF6\", \"width\": 0.5}}, \"type\": \"barpolar\"}], \"carpet\": [{\"aaxis\": {\"endlinecolor\": \"#2a3f5f\", \"gridcolor\": \"white\", \"linecolor\": \"white\", \"minorgridcolor\": \"white\", \"startlinecolor\": \"#2a3f5f\"}, \"baxis\": {\"endlinecolor\": \"#2a3f5f\", \"gridcolor\": \"white\", \"linecolor\": \"white\", \"minorgridcolor\": \"white\", \"startlinecolor\": \"#2a3f5f\"}, \"type\": \"carpet\"}], \"choropleth\": [{\"colorbar\": {\"outlinewidth\": 0, \"ticks\": \"\"}, \"type\": \"choropleth\"}], \"contour\": [{\"colorbar\": {\"outlinewidth\": 0, \"ticks\": \"\"}, \"colorscale\": [[0.0, \"#0d0887\"], [0.1111111111111111, \"#46039f\"], [0.2222222222222222, \"#7201a8\"], [0.3333333333333333, \"#9c179e\"], [0.4444444444444444, \"#bd3786\"], [0.5555555555555556, \"#d8576b\"], [0.6666666666666666, \"#ed7953\"], [0.7777777777777778, \"#fb9f3a\"], [0.8888888888888888, \"#fdca26\"], [1.0, \"#f0f921\"]], \"type\": \"contour\"}], \"contourcarpet\": [{\"colorbar\": {\"outlinewidth\": 0, \"ticks\": \"\"}, \"type\": \"contourcarpet\"}], \"heatmap\": [{\"colorbar\": {\"outlinewidth\": 0, \"ticks\": \"\"}, \"colorscale\": [[0.0, \"#0d0887\"], [0.1111111111111111, \"#46039f\"], [0.2222222222222222, \"#7201a8\"], [0.3333333333333333, \"#9c179e\"], [0.4444444444444444, \"#bd3786\"], [0.5555555555555556, \"#d8576b\"], [0.6666666666666666, \"#ed7953\"], [0.7777777777777778, \"#fb9f3a\"], [0.8888888888888888, \"#fdca26\"], [1.0, \"#f0f921\"]], \"type\": \"heatmap\"}], \"heatmapgl\": [{\"colorbar\": {\"outlinewidth\": 0, \"ticks\": \"\"}, \"colorscale\": [[0.0, \"#0d0887\"], [0.1111111111111111, \"#46039f\"], [0.2222222222222222, \"#7201a8\"], [0.3333333333333333, \"#9c179e\"], [0.4444444444444444, \"#bd3786\"], [0.5555555555555556, \"#d8576b\"], [0.6666666666666666, \"#ed7953\"], [0.7777777777777778, \"#fb9f3a\"], [0.8888888888888888, \"#fdca26\"], [1.0, \"#f0f921\"]], \"type\": \"heatmapgl\"}], \"histogram\": [{\"marker\": {\"colorbar\": {\"outlinewidth\": 0, \"ticks\": \"\"}}, \"type\": \"histogram\"}], \"histogram2d\": [{\"colorbar\": {\"outlinewidth\": 0, \"ticks\": \"\"}, \"colorscale\": [[0.0, \"#0d0887\"], [0.1111111111111111, \"#46039f\"], [0.2222222222222222, \"#7201a8\"], [0.3333333333333333, \"#9c179e\"], [0.4444444444444444, \"#bd3786\"], [0.5555555555555556, \"#d8576b\"], [0.6666666666666666, \"#ed7953\"], [0.7777777777777778, \"#fb9f3a\"], [0.8888888888888888, \"#fdca26\"], [1.0, \"#f0f921\"]], \"type\": \"histogram2d\"}], \"histogram2dcontour\": [{\"colorbar\": {\"outlinewidth\": 0, \"ticks\": \"\"}, \"colorscale\": [[0.0, \"#0d0887\"], [0.1111111111111111, \"#46039f\"], [0.2222222222222222, \"#7201a8\"], [0.3333333333333333, \"#9c179e\"], [0.4444444444444444, \"#bd3786\"], [0.5555555555555556, \"#d8576b\"], [0.6666666666666666, \"#ed7953\"], [0.7777777777777778, \"#fb9f3a\"], [0.8888888888888888, \"#fdca26\"], [1.0, \"#f0f921\"]], \"type\": \"histogram2dcontour\"}], \"mesh3d\": [{\"colorbar\": {\"outlinewidth\": 0, \"ticks\": \"\"}, \"type\": \"mesh3d\"}], \"parcoords\": [{\"line\": {\"colorbar\": {\"outlinewidth\": 0, \"ticks\": \"\"}}, \"type\": \"parcoords\"}], \"pie\": [{\"automargin\": true, \"type\": \"pie\"}], \"scatter\": [{\"marker\": {\"colorbar\": {\"outlinewidth\": 0, \"ticks\": \"\"}}, \"type\": \"scatter\"}], \"scatter3d\": [{\"line\": {\"colorbar\": {\"outlinewidth\": 0, \"ticks\": \"\"}}, \"marker\": {\"colorbar\": {\"outlinewidth\": 0, \"ticks\": \"\"}}, \"type\": \"scatter3d\"}], \"scattercarpet\": [{\"marker\": {\"colorbar\": {\"outlinewidth\": 0, \"ticks\": \"\"}}, \"type\": \"scattercarpet\"}], \"scattergeo\": [{\"marker\": {\"colorbar\": {\"outlinewidth\": 0, \"ticks\": \"\"}}, \"type\": \"scattergeo\"}], \"scattergl\": [{\"marker\": {\"colorbar\": {\"outlinewidth\": 0, \"ticks\": \"\"}}, \"type\": \"scattergl\"}], \"scattermapbox\": [{\"marker\": {\"colorbar\": {\"outlinewidth\": 0, \"ticks\": \"\"}}, \"type\": \"scattermapbox\"}], \"scatterpolar\": [{\"marker\": {\"colorbar\": {\"outlinewidth\": 0, \"ticks\": \"\"}}, \"type\": \"scatterpolar\"}], \"scatterpolargl\": [{\"marker\": {\"colorbar\": {\"outlinewidth\": 0, \"ticks\": \"\"}}, \"type\": \"scatterpolargl\"}], \"scatterternary\": [{\"marker\": {\"colorbar\": {\"outlinewidth\": 0, \"ticks\": \"\"}}, \"type\": \"scatterternary\"}], \"surface\": [{\"colorbar\": {\"outlinewidth\": 0, \"ticks\": \"\"}, \"colorscale\": [[0.0, \"#0d0887\"], [0.1111111111111111, \"#46039f\"], [0.2222222222222222, \"#7201a8\"], [0.3333333333333333, \"#9c179e\"], [0.4444444444444444, \"#bd3786\"], [0.5555555555555556, \"#d8576b\"], [0.6666666666666666, \"#ed7953\"], [0.7777777777777778, \"#fb9f3a\"], [0.8888888888888888, \"#fdca26\"], [1.0, \"#f0f921\"]], \"type\": \"surface\"}], \"table\": [{\"cells\": {\"fill\": {\"color\": \"#EBF0F8\"}, \"line\": {\"color\": \"white\"}}, \"header\": {\"fill\": {\"color\": \"#C8D4E3\"}, \"line\": {\"color\": \"white\"}}, \"type\": \"table\"}]}, \"layout\": {\"annotationdefaults\": {\"arrowcolor\": \"#2a3f5f\", \"arrowhead\": 0, \"arrowwidth\": 1}, \"coloraxis\": {\"colorbar\": {\"outlinewidth\": 0, \"ticks\": \"\"}}, \"colorscale\": {\"diverging\": [[0, \"#8e0152\"], [0.1, \"#c51b7d\"], [0.2, \"#de77ae\"], [0.3, \"#f1b6da\"], [0.4, \"#fde0ef\"], [0.5, \"#f7f7f7\"], [0.6, \"#e6f5d0\"], [0.7, \"#b8e186\"], [0.8, \"#7fbc41\"], [0.9, \"#4d9221\"], [1, \"#276419\"]], \"sequential\": [[0.0, \"#0d0887\"], [0.1111111111111111, \"#46039f\"], [0.2222222222222222, \"#7201a8\"], [0.3333333333333333, \"#9c179e\"], [0.4444444444444444, \"#bd3786\"], [0.5555555555555556, \"#d8576b\"], [0.6666666666666666, \"#ed7953\"], [0.7777777777777778, \"#fb9f3a\"], [0.8888888888888888, \"#fdca26\"], [1.0, \"#f0f921\"]], \"sequentialminus\": [[0.0, \"#0d0887\"], [0.1111111111111111, \"#46039f\"], [0.2222222222222222, \"#7201a8\"], [0.3333333333333333, \"#9c179e\"], [0.4444444444444444, \"#bd3786\"], [0.5555555555555556, \"#d8576b\"], [0.6666666666666666, \"#ed7953\"], [0.7777777777777778, \"#fb9f3a\"], [0.8888888888888888, \"#fdca26\"], [1.0, \"#f0f921\"]]}, \"colorway\": [\"#636efa\", \"#EF553B\", \"#00cc96\", \"#ab63fa\", \"#FFA15A\", \"#19d3f3\", \"#FF6692\", \"#B6E880\", \"#FF97FF\", \"#FECB52\"], \"font\": {\"color\": \"#2a3f5f\"}, \"geo\": {\"bgcolor\": \"white\", \"lakecolor\": \"white\", \"landcolor\": \"#E5ECF6\", \"showlakes\": true, \"showland\": true, \"subunitcolor\": \"white\"}, \"hoverlabel\": {\"align\": \"left\"}, \"hovermode\": \"closest\", \"mapbox\": {\"style\": \"light\"}, \"paper_bgcolor\": \"white\", \"plot_bgcolor\": \"#E5ECF6\", \"polar\": {\"angularaxis\": {\"gridcolor\": \"white\", \"linecolor\": \"white\", \"ticks\": \"\"}, \"bgcolor\": \"#E5ECF6\", \"radialaxis\": {\"gridcolor\": \"white\", \"linecolor\": \"white\", \"ticks\": \"\"}}, \"scene\": {\"xaxis\": {\"backgroundcolor\": \"#E5ECF6\", \"gridcolor\": \"white\", \"gridwidth\": 2, \"linecolor\": \"white\", \"showbackground\": true, \"ticks\": \"\", \"zerolinecolor\": \"white\"}, \"yaxis\": {\"backgroundcolor\": \"#E5ECF6\", \"gridcolor\": \"white\", \"gridwidth\": 2, \"linecolor\": \"white\", \"showbackground\": true, \"ticks\": \"\", \"zerolinecolor\": \"white\"}, \"zaxis\": {\"backgroundcolor\": \"#E5ECF6\", \"gridcolor\": \"white\", \"gridwidth\": 2, \"linecolor\": \"white\", \"showbackground\": true, \"ticks\": \"\", \"zerolinecolor\": \"white\"}}, \"shapedefaults\": {\"line\": {\"color\": \"#2a3f5f\"}}, \"ternary\": {\"aaxis\": {\"gridcolor\": \"white\", \"linecolor\": \"white\", \"ticks\": \"\"}, \"baxis\": {\"gridcolor\": \"white\", \"linecolor\": \"white\", \"ticks\": \"\"}, \"bgcolor\": \"#E5ECF6\", \"caxis\": {\"gridcolor\": \"white\", \"linecolor\": \"white\", \"ticks\": \"\"}}, \"title\": {\"x\": 0.05}, \"xaxis\": {\"automargin\": true, \"gridcolor\": \"white\", \"linecolor\": \"white\", \"ticks\": \"\", \"title\": {\"standoff\": 15}, \"zerolinecolor\": \"white\", \"zerolinewidth\": 2}, \"yaxis\": {\"automargin\": true, \"gridcolor\": \"white\", \"linecolor\": \"white\", \"ticks\": \"\", \"title\": {\"standoff\": 15}, \"zerolinecolor\": \"white\", \"zerolinewidth\": 2}}}, \"title\": {\"font\": {\"color\": \"#4D5663\"}}, \"xaxis\": {\"gridcolor\": \"#E1E5ED\", \"showgrid\": true, \"tickfont\": {\"color\": \"#4D5663\"}, \"title\": {\"font\": {\"color\": \"#4D5663\"}, \"text\": \"\"}, \"zerolinecolor\": \"#E1E5ED\"}, \"yaxis\": {\"gridcolor\": \"#E1E5ED\", \"showgrid\": true, \"tickfont\": {\"color\": \"#4D5663\"}, \"title\": {\"font\": {\"color\": \"#4D5663\"}, \"text\": \"\"}, \"zerolinecolor\": \"#E1E5ED\"}},                        {\"showLink\": true, \"linkText\": \"Export to plot.ly\", \"plotlyServerURL\": \"https://plot.ly\", \"responsive\": true}                    ).then(function(){\n",
       "                            \n",
       "var gd = document.getElementById('7f460543-fff4-4a75-9401-24fe4362a9d1');\n",
       "var x = new MutationObserver(function (mutations, observer) {{\n",
       "        var display = window.getComputedStyle(gd).display;\n",
       "        if (!display || display === 'none') {{\n",
       "            console.log([gd, 'removed!']);\n",
       "            Plotly.purge(gd);\n",
       "            observer.disconnect();\n",
       "        }}\n",
       "}});\n",
       "\n",
       "// Listen for the removal of the full notebook cells\n",
       "var notebookContainer = gd.closest('#notebook-container');\n",
       "if (notebookContainer) {{\n",
       "    x.observe(notebookContainer, {childList: true});\n",
       "}}\n",
       "\n",
       "// Listen for the clearing of the current output cell\n",
       "var outputEl = gd.closest('.output');\n",
       "if (outputEl) {{\n",
       "    x.observe(outputEl, {childList: true});\n",
       "}}\n",
       "\n",
       "                        })                };                });            </script>        </div>"
      ]
     },
     "metadata": {},
     "output_type": "display_data"
    },
    {
     "data": {
      "application/vnd.plotly.v1+json": {
       "config": {
        "linkText": "Export to plot.ly",
        "plotlyServerURL": "https://plot.ly",
        "showLink": true
       },
       "data": [
        {
         "line": {
          "color": "rgba(255, 153, 51, 1.0)",
          "dash": "solid",
          "shape": "linear",
          "width": 1.3
         },
         "mode": "lines",
         "name": "AAPL",
         "text": "",
         "type": "scatter",
         "x": [
          "3/16/2020",
          "3/17/2020",
          "3/18/2020",
          "3/19/2020",
          "3/20/2020",
          "3/23/2020",
          "3/24/2020",
          "3/25/2020",
          "3/26/2020",
          "3/27/2020",
          "3/30/2020",
          "3/31/2020",
          "4/1/2020",
          "4/2/2020",
          "4/3/2020",
          "4/6/2020",
          "4/7/2020",
          "4/8/2020",
          "4/9/2020",
          "4/13/2020",
          "4/14/2020",
          "4/15/2020",
          "4/16/2020",
          "4/17/2020",
          "4/20/2020",
          "4/21/2020",
          "4/22/2020",
          "4/23/2020",
          "4/24/2020",
          "4/27/2020",
          "4/28/2020",
          "4/29/2020",
          "4/30/2020",
          "5/1/2020",
          "5/4/2020",
          "5/5/2020",
          "5/6/2020",
          "5/7/2020",
          "5/8/2020",
          "5/11/2020",
          "5/12/2020",
          "5/13/2020",
          "5/14/2020",
          "5/15/2020",
          "5/18/2020",
          "5/19/2020",
          "5/20/2020",
          "5/21/2020",
          "5/22/2020",
          "5/26/2020",
          "5/27/2020",
          "5/28/2020",
          "5/29/2020",
          "6/1/2020",
          "6/2/2020",
          "6/3/2020",
          "6/4/2020",
          "6/5/2020",
          "6/8/2020",
          "6/9/2020",
          "6/10/2020",
          "6/11/2020",
          "6/12/2020",
          "6/15/2020",
          "6/16/2020",
          "6/17/2020",
          "6/18/2020",
          "6/19/2020",
          "6/22/2020",
          "6/23/2020",
          "6/24/2020",
          "6/25/2020",
          "6/26/2020",
          "6/29/2020",
          "6/30/2020",
          "7/1/2020",
          "7/2/2020",
          "7/6/2020",
          "7/7/2020",
          "7/8/2020",
          "7/9/2020",
          "7/10/2020",
          "7/13/2020",
          "7/14/2020",
          "7/15/2020",
          "7/16/2020",
          "7/17/2020",
          "7/20/2020",
          "7/21/2020",
          "7/22/2020",
          "7/23/2020",
          "7/24/2020",
          "7/27/2020",
          "7/28/2020",
          "7/29/2020",
          "7/30/2020",
          "7/31/2020",
          "8/3/2020",
          "8/4/2020",
          "8/5/2020",
          "8/6/2020",
          "8/7/2020",
          "8/10/2020",
          "8/11/2020",
          "8/12/2020",
          "8/13/2020",
          "8/14/2020",
          "8/17/2020",
          "8/18/2020",
          "8/19/2020",
          "8/20/2020",
          "8/21/2020",
          "8/24/2020",
          "8/25/2020",
          "8/26/2020",
          "8/27/2020",
          "8/28/2020"
         ],
         "y": [
          80605870,
          81013970,
          75058410,
          67964260,
          100423300,
          84188210,
          71882770,
          75900510,
          63140170,
          51054150,
          41994110,
          49250500,
          44054640,
          41483490,
          32470020,
          50455070,
          50721830,
          42223820,
          40529120,
          32755730,
          48748670,
          32788640,
          39281290,
          53812480,
          32503750,
          45247890,
          29264340,
          31203580,
          31627180,
          29271890,
          28001190,
          34320200,
          45765970,
          60154180,
          33391990,
          36937800,
          35583440,
          28803760,
          33511990,
          36486560,
          40575260,
          50155640,
          39732270,
          41587090,
          33843130,
          25432390,
          27876220,
          25672210,
          20450750,
          31380450,
          28236270,
          33449100,
          38399530,
          20254650,
          21910700,
          26122800,
          21890090,
          34312550,
          23913630,
          36928090,
          41662940,
          50415610,
          50036510,
          34702230,
          41357180,
          28601630,
          24205100,
          66118950,
          33861320,
          53038870,
          48155850,
          34380630,
          51314210,
          32661520,
          35055820,
          27684310,
          28510370,
          29663910,
          28106110,
          29272970,
          31410650,
          22564330,
          47912290,
          42747340,
          38299480,
          27644420,
          23046730,
          22579480,
          25911460,
          22250410,
          49251110,
          46359720,
          30303550,
          25906380,
          22582310,
          39532510,
          93573870,
          77037850,
          43198090,
          30497990,
          50607230,
          49511400,
          53100860,
          46975590,
          41486210,
          52520520,
          41391300,
          29890360,
          26408390,
          36384500,
          31726800,
          84513660,
          86484440,
          52873950,
          40755570,
          38888100,
          46907480
         ]
        },
        {
         "line": {
          "color": "rgba(55, 128, 191, 1.0)",
          "dash": "solid",
          "shape": "linear",
          "width": 1.3
         },
         "mode": "lines",
         "name": "Amazon",
         "text": "",
         "type": "scatter",
         "x": [
          "3/16/2020",
          "3/17/2020",
          "3/18/2020",
          "3/19/2020",
          "3/20/2020",
          "3/23/2020",
          "3/24/2020",
          "3/25/2020",
          "3/26/2020",
          "3/27/2020",
          "3/30/2020",
          "3/31/2020",
          "4/1/2020",
          "4/2/2020",
          "4/3/2020",
          "4/6/2020",
          "4/7/2020",
          "4/8/2020",
          "4/9/2020",
          "4/13/2020",
          "4/14/2020",
          "4/15/2020",
          "4/16/2020",
          "4/17/2020",
          "4/20/2020",
          "4/21/2020",
          "4/22/2020",
          "4/23/2020",
          "4/24/2020",
          "4/27/2020",
          "4/28/2020",
          "4/29/2020",
          "4/30/2020",
          "5/1/2020",
          "5/4/2020",
          "5/5/2020",
          "5/6/2020",
          "5/7/2020",
          "5/8/2020",
          "5/11/2020",
          "5/12/2020",
          "5/13/2020",
          "5/14/2020",
          "5/15/2020",
          "5/18/2020",
          "5/19/2020",
          "5/20/2020",
          "5/21/2020",
          "5/22/2020",
          "5/26/2020",
          "5/27/2020",
          "5/28/2020",
          "5/29/2020",
          "6/1/2020",
          "6/2/2020",
          "6/3/2020",
          "6/4/2020",
          "6/5/2020",
          "6/8/2020",
          "6/9/2020",
          "6/10/2020",
          "6/11/2020",
          "6/12/2020",
          "6/15/2020",
          "6/16/2020",
          "6/17/2020",
          "6/18/2020",
          "6/19/2020",
          "6/22/2020",
          "6/23/2020",
          "6/24/2020",
          "6/25/2020",
          "6/26/2020",
          "6/29/2020",
          "6/30/2020",
          "7/1/2020",
          "7/2/2020",
          "7/6/2020",
          "7/7/2020",
          "7/8/2020",
          "7/9/2020",
          "7/10/2020",
          "7/13/2020",
          "7/14/2020",
          "7/15/2020",
          "7/16/2020",
          "7/17/2020",
          "7/20/2020",
          "7/21/2020",
          "7/22/2020",
          "7/23/2020",
          "7/24/2020",
          "7/27/2020",
          "7/28/2020",
          "7/29/2020",
          "7/30/2020",
          "7/31/2020",
          "8/3/2020",
          "8/4/2020",
          "8/5/2020",
          "8/6/2020",
          "8/7/2020",
          "8/10/2020",
          "8/11/2020",
          "8/12/2020",
          "8/13/2020",
          "8/14/2020",
          "8/17/2020",
          "8/18/2020",
          "8/19/2020",
          "8/20/2020",
          "8/21/2020",
          "8/24/2020",
          "8/25/2020",
          "8/26/2020",
          "8/27/2020",
          "8/28/2020"
         ],
         "y": [
          8917265,
          10917130,
          9645218,
          10399940,
          9817850,
          7808489,
          7147080,
          6479073,
          6235118,
          5387897,
          6126087,
          5123626,
          4121875,
          4335985,
          3609870,
          5773181,
          5113983,
          3977313,
          4655617,
          6716709,
          8087193,
          6866567,
          12038200,
          7930010,
          5770694,
          7476679,
          4218295,
          5066552,
          3831797,
          5645645,
          5269446,
          4591593,
          9534611,
          9772605,
          4865926,
          3242496,
          3117814,
          3396411,
          3211228,
          3259231,
          3074916,
          4782919,
          3648128,
          4234951,
          4366572,
          4320498,
          3998143,
          5114403,
          2867079,
          3568153,
          5056945,
          3193136,
          3529329,
          2938032,
          2529903,
          2671024,
          2948710,
          3306445,
          3970654,
          5175950,
          4946031,
          5800107,
          5436127,
          3873335,
          3595649,
          2959316,
          2487774,
          5776963,
          3208780,
          4231707,
          4526605,
          2968657,
          6500784,
          4223422,
          3769686,
          6363439,
          6593387,
          6880642,
          5257514,
          5037635,
          6388659,
          5485982,
          7720420,
          7231933,
          5788874,
          6394246,
          4761319,
          7598176,
          6134965,
          4104225,
          5656906,
          5632413,
          4170492,
          3126651,
          2974060,
          6128265,
          8083369,
          5074663,
          4694294,
          3930025,
          3940602,
          3936127,
          3167274,
          3718057,
          3527229,
          3149043,
          2751723,
          2691237,
          5345974,
          4185137,
          3332478,
          3575862,
          4666258,
          3992842,
          6508743,
          4264795,
          2896978
         ]
        },
        {
         "line": {
          "color": "rgba(50, 171, 96, 1.0)",
          "dash": "solid",
          "shape": "linear",
          "width": 1.3
         },
         "mode": "lines",
         "name": "Facebook",
         "text": "",
         "type": "scatter",
         "x": [
          "3/16/2020",
          "3/17/2020",
          "3/18/2020",
          "3/19/2020",
          "3/20/2020",
          "3/23/2020",
          "3/24/2020",
          "3/25/2020",
          "3/26/2020",
          "3/27/2020",
          "3/30/2020",
          "3/31/2020",
          "4/1/2020",
          "4/2/2020",
          "4/3/2020",
          "4/6/2020",
          "4/7/2020",
          "4/8/2020",
          "4/9/2020",
          "4/13/2020",
          "4/14/2020",
          "4/15/2020",
          "4/16/2020",
          "4/17/2020",
          "4/20/2020",
          "4/21/2020",
          "4/22/2020",
          "4/23/2020",
          "4/24/2020",
          "4/27/2020",
          "4/28/2020",
          "4/29/2020",
          "4/30/2020",
          "5/1/2020",
          "5/4/2020",
          "5/5/2020",
          "5/6/2020",
          "5/7/2020",
          "5/8/2020",
          "5/11/2020",
          "5/12/2020",
          "5/13/2020",
          "5/14/2020",
          "5/15/2020",
          "5/18/2020",
          "5/19/2020",
          "5/20/2020",
          "5/21/2020",
          "5/22/2020",
          "5/26/2020",
          "5/27/2020",
          "5/28/2020",
          "5/29/2020",
          "6/1/2020",
          "6/2/2020",
          "6/3/2020",
          "6/4/2020",
          "6/5/2020",
          "6/8/2020",
          "6/9/2020",
          "6/10/2020",
          "6/11/2020",
          "6/12/2020",
          "6/15/2020",
          "6/16/2020",
          "6/17/2020",
          "6/18/2020",
          "6/19/2020",
          "6/22/2020",
          "6/23/2020",
          "6/24/2020",
          "6/25/2020",
          "6/26/2020",
          "6/29/2020",
          "6/30/2020",
          "7/1/2020",
          "7/2/2020",
          "7/6/2020",
          "7/7/2020",
          "7/8/2020",
          "7/9/2020",
          "7/10/2020",
          "7/13/2020",
          "7/14/2020",
          "7/15/2020",
          "7/16/2020",
          "7/17/2020",
          "7/20/2020",
          "7/21/2020",
          "7/22/2020",
          "7/23/2020",
          "7/24/2020",
          "7/27/2020",
          "7/28/2020",
          "7/29/2020",
          "7/30/2020",
          "7/31/2020",
          "8/3/2020",
          "8/4/2020",
          "8/5/2020",
          "8/6/2020",
          "8/7/2020",
          "8/10/2020",
          "8/11/2020",
          "8/12/2020",
          "8/13/2020",
          "8/14/2020",
          "8/17/2020",
          "8/18/2020",
          "8/19/2020",
          "8/20/2020",
          "8/21/2020",
          "8/24/2020",
          "8/25/2020",
          "8/26/2020",
          "8/27/2020",
          "8/28/2020"
         ],
         "y": [
          39120420,
          34255600,
          37553140,
          39862310,
          32568400,
          29830770,
          30440370,
          35184270,
          26579020,
          24879870,
          22515230,
          23676280,
          19507560,
          20886310,
          25983320,
          28453580,
          31411920,
          21664200,
          23534290,
          19355360,
          21011820,
          17423000,
          23593230,
          20974750,
          16110580,
          24850530,
          33369930,
          21426600,
          28868530,
          29197750,
          21730990,
          45954520,
          46230120,
          30415580,
          19250670,
          21071220,
          21856960,
          15151980,
          12524050,
          12911950,
          14704650,
          20684560,
          17178950,
          19383150,
          20167440,
          31843150,
          50162880,
          47782640,
          33925560,
          33178320,
          34697550,
          29423010,
          23322480,
          18223840,
          20919020,
          15380280,
          17041480,
          16750440,
          15466500,
          27462870,
          20720710,
          26708160,
          22091390,
          15340260,
          15236690,
          19578130,
          15782450,
          30081290,
          18917780,
          24017920,
          20834900,
          18704340,
          76343940,
          58514280,
          33927070,
          43399740,
          30633620,
          26206160,
          27887790,
          29791340,
          22174900,
          22982720,
          24674870,
          23378060,
          19133560,
          18880710,
          18152410,
          20872220,
          19409690,
          15427890,
          21771800,
          18325810,
          13163080,
          14170110,
          13588320,
          20615310,
          53030040,
          23134100,
          17183530,
          13088360,
          45241610,
          72766360,
          30248830,
          28238280,
          21428330,
          17373970,
          14792710,
          13351060,
          18690380,
          23291460,
          20299690,
          15538620,
          23685600,
          42127240,
          69015150,
          30301310,
          17172420
         ]
        },
        {
         "line": {
          "color": "rgba(128, 0, 128, 1.0)",
          "dash": "solid",
          "shape": "linear",
          "width": 1.3
         },
         "mode": "lines",
         "name": "Microsoft",
         "text": "",
         "type": "scatter",
         "x": [
          "3/16/2020",
          "3/17/2020",
          "3/18/2020",
          "3/19/2020",
          "3/20/2020",
          "3/23/2020",
          "3/24/2020",
          "3/25/2020",
          "3/26/2020",
          "3/27/2020",
          "3/30/2020",
          "3/31/2020",
          "4/1/2020",
          "4/2/2020",
          "4/3/2020",
          "4/6/2020",
          "4/7/2020",
          "4/8/2020",
          "4/9/2020",
          "4/13/2020",
          "4/14/2020",
          "4/15/2020",
          "4/16/2020",
          "4/17/2020",
          "4/20/2020",
          "4/21/2020",
          "4/22/2020",
          "4/23/2020",
          "4/24/2020",
          "4/27/2020",
          "4/28/2020",
          "4/29/2020",
          "4/30/2020",
          "5/1/2020",
          "5/4/2020",
          "5/5/2020",
          "5/6/2020",
          "5/7/2020",
          "5/8/2020",
          "5/11/2020",
          "5/12/2020",
          "5/13/2020",
          "5/14/2020",
          "5/15/2020",
          "5/18/2020",
          "5/19/2020",
          "5/20/2020",
          "5/21/2020",
          "5/22/2020",
          "5/26/2020",
          "5/27/2020",
          "5/28/2020",
          "5/29/2020",
          "6/1/2020",
          "6/2/2020",
          "6/3/2020",
          "6/4/2020",
          "6/5/2020",
          "6/8/2020",
          "6/9/2020",
          "6/10/2020",
          "6/11/2020",
          "6/12/2020",
          "6/15/2020",
          "6/16/2020",
          "6/17/2020",
          "6/18/2020",
          "6/19/2020",
          "6/22/2020",
          "6/23/2020",
          "6/24/2020",
          "6/25/2020",
          "6/26/2020",
          "6/29/2020",
          "6/30/2020",
          "7/1/2020",
          "7/2/2020",
          "7/6/2020",
          "7/7/2020",
          "7/8/2020",
          "7/9/2020",
          "7/10/2020",
          "7/13/2020",
          "7/14/2020",
          "7/15/2020",
          "7/16/2020",
          "7/17/2020",
          "7/20/2020",
          "7/21/2020",
          "7/22/2020",
          "7/23/2020",
          "7/24/2020",
          "7/27/2020",
          "7/28/2020",
          "7/29/2020",
          "7/30/2020",
          "7/31/2020",
          "8/3/2020",
          "8/4/2020",
          "8/5/2020",
          "8/6/2020",
          "8/7/2020",
          "8/10/2020",
          "8/11/2020",
          "8/12/2020",
          "8/13/2020",
          "8/14/2020",
          "8/17/2020",
          "8/18/2020",
          "8/19/2020",
          "8/20/2020",
          "8/21/2020",
          "8/24/2020",
          "8/25/2020",
          "8/26/2020",
          "8/27/2020",
          "8/28/2020"
         ],
         "y": [
          87905870,
          81059820,
          81593170,
          85922660,
          84866220,
          78975180,
          82516730,
          75638220,
          64694430,
          57042290,
          63420330,
          77927190,
          57969930,
          49630740,
          41243280,
          67111700,
          62769040,
          48318230,
          51431780,
          41905260,
          52874340,
          40940830,
          50479610,
          52765630,
          36669560,
          56203750,
          34651600,
          32790800,
          34305320,
          33194380,
          34392690,
          51286560,
          53875860,
          39370470,
          30372860,
          36839170,
          32139300,
          28315990,
          30912640,
          30892660,
          32038200,
          44711490,
          41873910,
          46610380,
          35306620,
          26799120,
          31261330,
          29119510,
          20826900,
          36073610,
          39517150,
          33831820,
          42146720,
          22668820,
          30794590,
          27311020,
          28761810,
          39893640,
          33211590,
          29783920,
          43872330,
          52854670,
          43373590,
          32770190,
          42556660,
          25687820,
          23061650,
          44441140,
          32818930,
          30917450,
          36740650,
          27803930,
          54675780,
          26701590,
          34310280,
          32061210,
          29315760,
          31897630,
          33600730,
          33600030,
          33121680,
          26177630,
          38135610,
          37591820,
          32179410,
          29940650,
          31635280,
          36884840,
          38105780,
          49605690,
          67457040,
          39826990,
          30160870,
          23251390,
          19632600,
          25079600,
          51247970,
          78983010,
          49280060,
          28858620,
          32656840,
          27820420,
          36716460,
          36446460,
          28041360,
          22588870,
          17958940,
          20184760,
          21336170,
          27627560,
          26981480,
          36249320,
          25460150,
          23043700,
          39600830,
          57602200,
          26292900
         ]
        },
        {
         "line": {
          "color": "rgba(219, 64, 82, 1.0)",
          "dash": "solid",
          "shape": "linear",
          "width": 1.3
         },
         "mode": "lines",
         "name": "Tesla",
         "text": "",
         "type": "scatter",
         "x": [
          "3/16/2020",
          "3/17/2020",
          "3/18/2020",
          "3/19/2020",
          "3/20/2020",
          "3/23/2020",
          "3/24/2020",
          "3/25/2020",
          "3/26/2020",
          "3/27/2020",
          "3/30/2020",
          "3/31/2020",
          "4/1/2020",
          "4/2/2020",
          "4/3/2020",
          "4/6/2020",
          "4/7/2020",
          "4/8/2020",
          "4/9/2020",
          "4/13/2020",
          "4/14/2020",
          "4/15/2020",
          "4/16/2020",
          "4/17/2020",
          "4/20/2020",
          "4/21/2020",
          "4/22/2020",
          "4/23/2020",
          "4/24/2020",
          "4/27/2020",
          "4/28/2020",
          "4/29/2020",
          "4/30/2020",
          "5/1/2020",
          "5/4/2020",
          "5/5/2020",
          "5/6/2020",
          "5/7/2020",
          "5/8/2020",
          "5/11/2020",
          "5/12/2020",
          "5/13/2020",
          "5/14/2020",
          "5/15/2020",
          "5/18/2020",
          "5/19/2020",
          "5/20/2020",
          "5/21/2020",
          "5/22/2020",
          "5/26/2020",
          "5/27/2020",
          "5/28/2020",
          "5/29/2020",
          "6/1/2020",
          "6/2/2020",
          "6/3/2020",
          "6/4/2020",
          "6/5/2020",
          "6/8/2020",
          "6/9/2020",
          "6/10/2020",
          "6/11/2020",
          "6/12/2020",
          "6/15/2020",
          "6/16/2020",
          "6/17/2020",
          "6/18/2020",
          "6/19/2020",
          "6/22/2020",
          "6/23/2020",
          "6/24/2020",
          "6/25/2020",
          "6/26/2020",
          "6/29/2020",
          "6/30/2020",
          "7/1/2020",
          "7/2/2020",
          "7/6/2020",
          "7/7/2020",
          "7/8/2020",
          "7/9/2020",
          "7/10/2020",
          "7/13/2020",
          "7/14/2020",
          "7/15/2020",
          "7/16/2020",
          "7/17/2020",
          "7/20/2020",
          "7/21/2020",
          "7/22/2020",
          "7/23/2020",
          "7/24/2020",
          "7/27/2020",
          "7/28/2020",
          "7/29/2020",
          "7/30/2020",
          "7/31/2020",
          "8/3/2020",
          "8/4/2020",
          "8/5/2020",
          "8/6/2020",
          "8/7/2020",
          "8/10/2020",
          "8/11/2020",
          "8/12/2020",
          "8/13/2020",
          "8/14/2020",
          "8/17/2020",
          "8/18/2020",
          "8/19/2020",
          "8/20/2020",
          "8/21/2020",
          "8/24/2020",
          "8/25/2020",
          "8/26/2020",
          "8/27/2020",
          "8/28/2020"
         ],
         "y": [
          20489460,
          23994580,
          23786160,
          30195460,
          28285500,
          16454550,
          22895170,
          21222750,
          17422080,
          14377410,
          11998070,
          17771490,
          13353180,
          19858430,
          22562080,
          14901840,
          17919780,
          12656020,
          13650000,
          22475420,
          30576510,
          23577000,
          20657860,
          13128230,
          14746370,
          20209090,
          14224830,
          13236700,
          13237610,
          20681440,
          15221960,
          16215980,
          28471850,
          32531810,
          19237090,
          16991660,
          11123230,
          11527690,
          16130090,
          16519600,
          15906910,
          19065490,
          13682190,
          10518430,
          11698100,
          9636522,
          7309271,
          12254580,
          9987475,
          8089736,
          11549530,
          7275774,
          11812490,
          15085300,
          13565600,
          7949469,
          8887713,
          7811917,
          14174730,
          11388150,
          18563410,
          15916480,
          16763370,
          15697180,
          14051080,
          9890800,
          9751936,
          8679749,
          6362350,
          6365271,
          10959590,
          9254549,
          8854908,
          9026404,
          16918500,
          13326900,
          17250120,
          20569860,
          21489660,
          16311310,
          11717600,
          23337550,
          38985360,
          23418140,
          16367830,
          14300790,
          9329972,
          17121370,
          16157280,
          14161080,
          24328500,
          19396620,
          16048670,
          15808700,
          9426893,
          7621039,
          12246960,
          8809346,
          8414990,
          4978015,
          5992313,
          8896420,
          7522264,
          8625834,
          21898830,
          20425310,
          12577610,
          20242320,
          16474490,
          12205330,
          20611800,
          21489560,
          20063620,
          10658890,
          14239380,
          23693040,
          20081180
         ]
        }
       ],
       "layout": {
        "legend": {
         "bgcolor": "#F5F6F9",
         "font": {
          "color": "#4D5663"
         }
        },
        "paper_bgcolor": "#F5F6F9",
        "plot_bgcolor": "#F5F6F9",
        "template": {
         "data": {
          "bar": [
           {
            "error_x": {
             "color": "#2a3f5f"
            },
            "error_y": {
             "color": "#2a3f5f"
            },
            "marker": {
             "line": {
              "color": "#E5ECF6",
              "width": 0.5
             }
            },
            "type": "bar"
           }
          ],
          "barpolar": [
           {
            "marker": {
             "line": {
              "color": "#E5ECF6",
              "width": 0.5
             }
            },
            "type": "barpolar"
           }
          ],
          "carpet": [
           {
            "aaxis": {
             "endlinecolor": "#2a3f5f",
             "gridcolor": "white",
             "linecolor": "white",
             "minorgridcolor": "white",
             "startlinecolor": "#2a3f5f"
            },
            "baxis": {
             "endlinecolor": "#2a3f5f",
             "gridcolor": "white",
             "linecolor": "white",
             "minorgridcolor": "white",
             "startlinecolor": "#2a3f5f"
            },
            "type": "carpet"
           }
          ],
          "choropleth": [
           {
            "colorbar": {
             "outlinewidth": 0,
             "ticks": ""
            },
            "type": "choropleth"
           }
          ],
          "contour": [
           {
            "colorbar": {
             "outlinewidth": 0,
             "ticks": ""
            },
            "colorscale": [
             [
              0,
              "#0d0887"
             ],
             [
              0.1111111111111111,
              "#46039f"
             ],
             [
              0.2222222222222222,
              "#7201a8"
             ],
             [
              0.3333333333333333,
              "#9c179e"
             ],
             [
              0.4444444444444444,
              "#bd3786"
             ],
             [
              0.5555555555555556,
              "#d8576b"
             ],
             [
              0.6666666666666666,
              "#ed7953"
             ],
             [
              0.7777777777777778,
              "#fb9f3a"
             ],
             [
              0.8888888888888888,
              "#fdca26"
             ],
             [
              1,
              "#f0f921"
             ]
            ],
            "type": "contour"
           }
          ],
          "contourcarpet": [
           {
            "colorbar": {
             "outlinewidth": 0,
             "ticks": ""
            },
            "type": "contourcarpet"
           }
          ],
          "heatmap": [
           {
            "colorbar": {
             "outlinewidth": 0,
             "ticks": ""
            },
            "colorscale": [
             [
              0,
              "#0d0887"
             ],
             [
              0.1111111111111111,
              "#46039f"
             ],
             [
              0.2222222222222222,
              "#7201a8"
             ],
             [
              0.3333333333333333,
              "#9c179e"
             ],
             [
              0.4444444444444444,
              "#bd3786"
             ],
             [
              0.5555555555555556,
              "#d8576b"
             ],
             [
              0.6666666666666666,
              "#ed7953"
             ],
             [
              0.7777777777777778,
              "#fb9f3a"
             ],
             [
              0.8888888888888888,
              "#fdca26"
             ],
             [
              1,
              "#f0f921"
             ]
            ],
            "type": "heatmap"
           }
          ],
          "heatmapgl": [
           {
            "colorbar": {
             "outlinewidth": 0,
             "ticks": ""
            },
            "colorscale": [
             [
              0,
              "#0d0887"
             ],
             [
              0.1111111111111111,
              "#46039f"
             ],
             [
              0.2222222222222222,
              "#7201a8"
             ],
             [
              0.3333333333333333,
              "#9c179e"
             ],
             [
              0.4444444444444444,
              "#bd3786"
             ],
             [
              0.5555555555555556,
              "#d8576b"
             ],
             [
              0.6666666666666666,
              "#ed7953"
             ],
             [
              0.7777777777777778,
              "#fb9f3a"
             ],
             [
              0.8888888888888888,
              "#fdca26"
             ],
             [
              1,
              "#f0f921"
             ]
            ],
            "type": "heatmapgl"
           }
          ],
          "histogram": [
           {
            "marker": {
             "colorbar": {
              "outlinewidth": 0,
              "ticks": ""
             }
            },
            "type": "histogram"
           }
          ],
          "histogram2d": [
           {
            "colorbar": {
             "outlinewidth": 0,
             "ticks": ""
            },
            "colorscale": [
             [
              0,
              "#0d0887"
             ],
             [
              0.1111111111111111,
              "#46039f"
             ],
             [
              0.2222222222222222,
              "#7201a8"
             ],
             [
              0.3333333333333333,
              "#9c179e"
             ],
             [
              0.4444444444444444,
              "#bd3786"
             ],
             [
              0.5555555555555556,
              "#d8576b"
             ],
             [
              0.6666666666666666,
              "#ed7953"
             ],
             [
              0.7777777777777778,
              "#fb9f3a"
             ],
             [
              0.8888888888888888,
              "#fdca26"
             ],
             [
              1,
              "#f0f921"
             ]
            ],
            "type": "histogram2d"
           }
          ],
          "histogram2dcontour": [
           {
            "colorbar": {
             "outlinewidth": 0,
             "ticks": ""
            },
            "colorscale": [
             [
              0,
              "#0d0887"
             ],
             [
              0.1111111111111111,
              "#46039f"
             ],
             [
              0.2222222222222222,
              "#7201a8"
             ],
             [
              0.3333333333333333,
              "#9c179e"
             ],
             [
              0.4444444444444444,
              "#bd3786"
             ],
             [
              0.5555555555555556,
              "#d8576b"
             ],
             [
              0.6666666666666666,
              "#ed7953"
             ],
             [
              0.7777777777777778,
              "#fb9f3a"
             ],
             [
              0.8888888888888888,
              "#fdca26"
             ],
             [
              1,
              "#f0f921"
             ]
            ],
            "type": "histogram2dcontour"
           }
          ],
          "mesh3d": [
           {
            "colorbar": {
             "outlinewidth": 0,
             "ticks": ""
            },
            "type": "mesh3d"
           }
          ],
          "parcoords": [
           {
            "line": {
             "colorbar": {
              "outlinewidth": 0,
              "ticks": ""
             }
            },
            "type": "parcoords"
           }
          ],
          "pie": [
           {
            "automargin": true,
            "type": "pie"
           }
          ],
          "scatter": [
           {
            "marker": {
             "colorbar": {
              "outlinewidth": 0,
              "ticks": ""
             }
            },
            "type": "scatter"
           }
          ],
          "scatter3d": [
           {
            "line": {
             "colorbar": {
              "outlinewidth": 0,
              "ticks": ""
             }
            },
            "marker": {
             "colorbar": {
              "outlinewidth": 0,
              "ticks": ""
             }
            },
            "type": "scatter3d"
           }
          ],
          "scattercarpet": [
           {
            "marker": {
             "colorbar": {
              "outlinewidth": 0,
              "ticks": ""
             }
            },
            "type": "scattercarpet"
           }
          ],
          "scattergeo": [
           {
            "marker": {
             "colorbar": {
              "outlinewidth": 0,
              "ticks": ""
             }
            },
            "type": "scattergeo"
           }
          ],
          "scattergl": [
           {
            "marker": {
             "colorbar": {
              "outlinewidth": 0,
              "ticks": ""
             }
            },
            "type": "scattergl"
           }
          ],
          "scattermapbox": [
           {
            "marker": {
             "colorbar": {
              "outlinewidth": 0,
              "ticks": ""
             }
            },
            "type": "scattermapbox"
           }
          ],
          "scatterpolar": [
           {
            "marker": {
             "colorbar": {
              "outlinewidth": 0,
              "ticks": ""
             }
            },
            "type": "scatterpolar"
           }
          ],
          "scatterpolargl": [
           {
            "marker": {
             "colorbar": {
              "outlinewidth": 0,
              "ticks": ""
             }
            },
            "type": "scatterpolargl"
           }
          ],
          "scatterternary": [
           {
            "marker": {
             "colorbar": {
              "outlinewidth": 0,
              "ticks": ""
             }
            },
            "type": "scatterternary"
           }
          ],
          "surface": [
           {
            "colorbar": {
             "outlinewidth": 0,
             "ticks": ""
            },
            "colorscale": [
             [
              0,
              "#0d0887"
             ],
             [
              0.1111111111111111,
              "#46039f"
             ],
             [
              0.2222222222222222,
              "#7201a8"
             ],
             [
              0.3333333333333333,
              "#9c179e"
             ],
             [
              0.4444444444444444,
              "#bd3786"
             ],
             [
              0.5555555555555556,
              "#d8576b"
             ],
             [
              0.6666666666666666,
              "#ed7953"
             ],
             [
              0.7777777777777778,
              "#fb9f3a"
             ],
             [
              0.8888888888888888,
              "#fdca26"
             ],
             [
              1,
              "#f0f921"
             ]
            ],
            "type": "surface"
           }
          ],
          "table": [
           {
            "cells": {
             "fill": {
              "color": "#EBF0F8"
             },
             "line": {
              "color": "white"
             }
            },
            "header": {
             "fill": {
              "color": "#C8D4E3"
             },
             "line": {
              "color": "white"
             }
            },
            "type": "table"
           }
          ]
         },
         "layout": {
          "annotationdefaults": {
           "arrowcolor": "#2a3f5f",
           "arrowhead": 0,
           "arrowwidth": 1
          },
          "coloraxis": {
           "colorbar": {
            "outlinewidth": 0,
            "ticks": ""
           }
          },
          "colorscale": {
           "diverging": [
            [
             0,
             "#8e0152"
            ],
            [
             0.1,
             "#c51b7d"
            ],
            [
             0.2,
             "#de77ae"
            ],
            [
             0.3,
             "#f1b6da"
            ],
            [
             0.4,
             "#fde0ef"
            ],
            [
             0.5,
             "#f7f7f7"
            ],
            [
             0.6,
             "#e6f5d0"
            ],
            [
             0.7,
             "#b8e186"
            ],
            [
             0.8,
             "#7fbc41"
            ],
            [
             0.9,
             "#4d9221"
            ],
            [
             1,
             "#276419"
            ]
           ],
           "sequential": [
            [
             0,
             "#0d0887"
            ],
            [
             0.1111111111111111,
             "#46039f"
            ],
            [
             0.2222222222222222,
             "#7201a8"
            ],
            [
             0.3333333333333333,
             "#9c179e"
            ],
            [
             0.4444444444444444,
             "#bd3786"
            ],
            [
             0.5555555555555556,
             "#d8576b"
            ],
            [
             0.6666666666666666,
             "#ed7953"
            ],
            [
             0.7777777777777778,
             "#fb9f3a"
            ],
            [
             0.8888888888888888,
             "#fdca26"
            ],
            [
             1,
             "#f0f921"
            ]
           ],
           "sequentialminus": [
            [
             0,
             "#0d0887"
            ],
            [
             0.1111111111111111,
             "#46039f"
            ],
            [
             0.2222222222222222,
             "#7201a8"
            ],
            [
             0.3333333333333333,
             "#9c179e"
            ],
            [
             0.4444444444444444,
             "#bd3786"
            ],
            [
             0.5555555555555556,
             "#d8576b"
            ],
            [
             0.6666666666666666,
             "#ed7953"
            ],
            [
             0.7777777777777778,
             "#fb9f3a"
            ],
            [
             0.8888888888888888,
             "#fdca26"
            ],
            [
             1,
             "#f0f921"
            ]
           ]
          },
          "colorway": [
           "#636efa",
           "#EF553B",
           "#00cc96",
           "#ab63fa",
           "#FFA15A",
           "#19d3f3",
           "#FF6692",
           "#B6E880",
           "#FF97FF",
           "#FECB52"
          ],
          "font": {
           "color": "#2a3f5f"
          },
          "geo": {
           "bgcolor": "white",
           "lakecolor": "white",
           "landcolor": "#E5ECF6",
           "showlakes": true,
           "showland": true,
           "subunitcolor": "white"
          },
          "hoverlabel": {
           "align": "left"
          },
          "hovermode": "closest",
          "mapbox": {
           "style": "light"
          },
          "paper_bgcolor": "white",
          "plot_bgcolor": "#E5ECF6",
          "polar": {
           "angularaxis": {
            "gridcolor": "white",
            "linecolor": "white",
            "ticks": ""
           },
           "bgcolor": "#E5ECF6",
           "radialaxis": {
            "gridcolor": "white",
            "linecolor": "white",
            "ticks": ""
           }
          },
          "scene": {
           "xaxis": {
            "backgroundcolor": "#E5ECF6",
            "gridcolor": "white",
            "gridwidth": 2,
            "linecolor": "white",
            "showbackground": true,
            "ticks": "",
            "zerolinecolor": "white"
           },
           "yaxis": {
            "backgroundcolor": "#E5ECF6",
            "gridcolor": "white",
            "gridwidth": 2,
            "linecolor": "white",
            "showbackground": true,
            "ticks": "",
            "zerolinecolor": "white"
           },
           "zaxis": {
            "backgroundcolor": "#E5ECF6",
            "gridcolor": "white",
            "gridwidth": 2,
            "linecolor": "white",
            "showbackground": true,
            "ticks": "",
            "zerolinecolor": "white"
           }
          },
          "shapedefaults": {
           "line": {
            "color": "#2a3f5f"
           }
          },
          "ternary": {
           "aaxis": {
            "gridcolor": "white",
            "linecolor": "white",
            "ticks": ""
           },
           "baxis": {
            "gridcolor": "white",
            "linecolor": "white",
            "ticks": ""
           },
           "bgcolor": "#E5ECF6",
           "caxis": {
            "gridcolor": "white",
            "linecolor": "white",
            "ticks": ""
           }
          },
          "title": {
           "x": 0.05
          },
          "xaxis": {
           "automargin": true,
           "gridcolor": "white",
           "linecolor": "white",
           "ticks": "",
           "title": {
            "standoff": 15
           },
           "zerolinecolor": "white",
           "zerolinewidth": 2
          },
          "yaxis": {
           "automargin": true,
           "gridcolor": "white",
           "linecolor": "white",
           "ticks": "",
           "title": {
            "standoff": 15
           },
           "zerolinecolor": "white",
           "zerolinewidth": 2
          }
         }
        },
        "title": {
         "font": {
          "color": "#4D5663"
         }
        },
        "xaxis": {
         "gridcolor": "#E1E5ED",
         "showgrid": true,
         "tickfont": {
          "color": "#4D5663"
         },
         "title": {
          "font": {
           "color": "#4D5663"
          },
          "text": ""
         },
         "zerolinecolor": "#E1E5ED"
        },
        "yaxis": {
         "gridcolor": "#E1E5ED",
         "showgrid": true,
         "tickfont": {
          "color": "#4D5663"
         },
         "title": {
          "font": {
           "color": "#4D5663"
          },
          "text": ""
         },
         "zerolinecolor": "#E1E5ED"
        }
       }
      },
      "text/html": [
       "<div>                            <div id=\"a9631b3a-384e-4618-833b-623ac4febf8c\" class=\"plotly-graph-div\" style=\"height:525px; width:100%;\"></div>            <script type=\"text/javascript\">                require([\"plotly\"], function(Plotly) {                    window.PLOTLYENV=window.PLOTLYENV || {};\n",
       "                    window.PLOTLYENV.BASE_URL='https://plot.ly';                                    if (document.getElementById(\"a9631b3a-384e-4618-833b-623ac4febf8c\")) {                    Plotly.newPlot(                        \"a9631b3a-384e-4618-833b-623ac4febf8c\",                        [{\"line\": {\"color\": \"rgba(255, 153, 51, 1.0)\", \"dash\": \"solid\", \"shape\": \"linear\", \"width\": 1.3}, \"mode\": \"lines\", \"name\": \"AAPL\", \"text\": \"\", \"type\": \"scatter\", \"x\": [\"3/16/2020\", \"3/17/2020\", \"3/18/2020\", \"3/19/2020\", \"3/20/2020\", \"3/23/2020\", \"3/24/2020\", \"3/25/2020\", \"3/26/2020\", \"3/27/2020\", \"3/30/2020\", \"3/31/2020\", \"4/1/2020\", \"4/2/2020\", \"4/3/2020\", \"4/6/2020\", \"4/7/2020\", \"4/8/2020\", \"4/9/2020\", \"4/13/2020\", \"4/14/2020\", \"4/15/2020\", \"4/16/2020\", \"4/17/2020\", \"4/20/2020\", \"4/21/2020\", \"4/22/2020\", \"4/23/2020\", \"4/24/2020\", \"4/27/2020\", \"4/28/2020\", \"4/29/2020\", \"4/30/2020\", \"5/1/2020\", \"5/4/2020\", \"5/5/2020\", \"5/6/2020\", \"5/7/2020\", \"5/8/2020\", \"5/11/2020\", \"5/12/2020\", \"5/13/2020\", \"5/14/2020\", \"5/15/2020\", \"5/18/2020\", \"5/19/2020\", \"5/20/2020\", \"5/21/2020\", \"5/22/2020\", \"5/26/2020\", \"5/27/2020\", \"5/28/2020\", \"5/29/2020\", \"6/1/2020\", \"6/2/2020\", \"6/3/2020\", \"6/4/2020\", \"6/5/2020\", \"6/8/2020\", \"6/9/2020\", \"6/10/2020\", \"6/11/2020\", \"6/12/2020\", \"6/15/2020\", \"6/16/2020\", \"6/17/2020\", \"6/18/2020\", \"6/19/2020\", \"6/22/2020\", \"6/23/2020\", \"6/24/2020\", \"6/25/2020\", \"6/26/2020\", \"6/29/2020\", \"6/30/2020\", \"7/1/2020\", \"7/2/2020\", \"7/6/2020\", \"7/7/2020\", \"7/8/2020\", \"7/9/2020\", \"7/10/2020\", \"7/13/2020\", \"7/14/2020\", \"7/15/2020\", \"7/16/2020\", \"7/17/2020\", \"7/20/2020\", \"7/21/2020\", \"7/22/2020\", \"7/23/2020\", \"7/24/2020\", \"7/27/2020\", \"7/28/2020\", \"7/29/2020\", \"7/30/2020\", \"7/31/2020\", \"8/3/2020\", \"8/4/2020\", \"8/5/2020\", \"8/6/2020\", \"8/7/2020\", \"8/10/2020\", \"8/11/2020\", \"8/12/2020\", \"8/13/2020\", \"8/14/2020\", \"8/17/2020\", \"8/18/2020\", \"8/19/2020\", \"8/20/2020\", \"8/21/2020\", \"8/24/2020\", \"8/25/2020\", \"8/26/2020\", \"8/27/2020\", \"8/28/2020\"], \"y\": [80605870, 81013970, 75058410, 67964260, 100423300, 84188210, 71882770, 75900510, 63140170, 51054150, 41994110, 49250500, 44054640, 41483490, 32470020, 50455070, 50721830, 42223820, 40529120, 32755730, 48748670, 32788640, 39281290, 53812480, 32503750, 45247890, 29264340, 31203580, 31627180, 29271890, 28001190, 34320200, 45765970, 60154180, 33391990, 36937800, 35583440, 28803760, 33511990, 36486560, 40575260, 50155640, 39732270, 41587090, 33843130, 25432390, 27876220, 25672210, 20450750, 31380450, 28236270, 33449100, 38399530, 20254650, 21910700, 26122800, 21890090, 34312550, 23913630, 36928090, 41662940, 50415610, 50036510, 34702230, 41357180, 28601630, 24205100, 66118950, 33861320, 53038870, 48155850, 34380630, 51314210, 32661520, 35055820, 27684310, 28510370, 29663910, 28106110, 29272970, 31410650, 22564330, 47912290, 42747340, 38299480, 27644420, 23046730, 22579480, 25911460, 22250410, 49251110, 46359720, 30303550, 25906380, 22582310, 39532510, 93573870, 77037850, 43198090, 30497990, 50607230, 49511400, 53100860, 46975590, 41486210, 52520520, 41391300, 29890360, 26408390, 36384500, 31726800, 84513660, 86484440, 52873950, 40755570, 38888100, 46907480]}, {\"line\": {\"color\": \"rgba(55, 128, 191, 1.0)\", \"dash\": \"solid\", \"shape\": \"linear\", \"width\": 1.3}, \"mode\": \"lines\", \"name\": \"Amazon\", \"text\": \"\", \"type\": \"scatter\", \"x\": [\"3/16/2020\", \"3/17/2020\", \"3/18/2020\", \"3/19/2020\", \"3/20/2020\", \"3/23/2020\", \"3/24/2020\", \"3/25/2020\", \"3/26/2020\", \"3/27/2020\", \"3/30/2020\", \"3/31/2020\", \"4/1/2020\", \"4/2/2020\", \"4/3/2020\", \"4/6/2020\", \"4/7/2020\", \"4/8/2020\", \"4/9/2020\", \"4/13/2020\", \"4/14/2020\", \"4/15/2020\", \"4/16/2020\", \"4/17/2020\", \"4/20/2020\", \"4/21/2020\", \"4/22/2020\", \"4/23/2020\", \"4/24/2020\", \"4/27/2020\", \"4/28/2020\", \"4/29/2020\", \"4/30/2020\", \"5/1/2020\", \"5/4/2020\", \"5/5/2020\", \"5/6/2020\", \"5/7/2020\", \"5/8/2020\", \"5/11/2020\", \"5/12/2020\", \"5/13/2020\", \"5/14/2020\", \"5/15/2020\", \"5/18/2020\", \"5/19/2020\", \"5/20/2020\", \"5/21/2020\", \"5/22/2020\", \"5/26/2020\", \"5/27/2020\", \"5/28/2020\", \"5/29/2020\", \"6/1/2020\", \"6/2/2020\", \"6/3/2020\", \"6/4/2020\", \"6/5/2020\", \"6/8/2020\", \"6/9/2020\", \"6/10/2020\", \"6/11/2020\", \"6/12/2020\", \"6/15/2020\", \"6/16/2020\", \"6/17/2020\", \"6/18/2020\", \"6/19/2020\", \"6/22/2020\", \"6/23/2020\", \"6/24/2020\", \"6/25/2020\", \"6/26/2020\", \"6/29/2020\", \"6/30/2020\", \"7/1/2020\", \"7/2/2020\", \"7/6/2020\", \"7/7/2020\", \"7/8/2020\", \"7/9/2020\", \"7/10/2020\", \"7/13/2020\", \"7/14/2020\", \"7/15/2020\", \"7/16/2020\", \"7/17/2020\", \"7/20/2020\", \"7/21/2020\", \"7/22/2020\", \"7/23/2020\", \"7/24/2020\", \"7/27/2020\", \"7/28/2020\", \"7/29/2020\", \"7/30/2020\", \"7/31/2020\", \"8/3/2020\", \"8/4/2020\", \"8/5/2020\", \"8/6/2020\", \"8/7/2020\", \"8/10/2020\", \"8/11/2020\", \"8/12/2020\", \"8/13/2020\", \"8/14/2020\", \"8/17/2020\", \"8/18/2020\", \"8/19/2020\", \"8/20/2020\", \"8/21/2020\", \"8/24/2020\", \"8/25/2020\", \"8/26/2020\", \"8/27/2020\", \"8/28/2020\"], \"y\": [8917265, 10917130, 9645218, 10399940, 9817850, 7808489, 7147080, 6479073, 6235118, 5387897, 6126087, 5123626, 4121875, 4335985, 3609870, 5773181, 5113983, 3977313, 4655617, 6716709, 8087193, 6866567, 12038200, 7930010, 5770694, 7476679, 4218295, 5066552, 3831797, 5645645, 5269446, 4591593, 9534611, 9772605, 4865926, 3242496, 3117814, 3396411, 3211228, 3259231, 3074916, 4782919, 3648128, 4234951, 4366572, 4320498, 3998143, 5114403, 2867079, 3568153, 5056945, 3193136, 3529329, 2938032, 2529903, 2671024, 2948710, 3306445, 3970654, 5175950, 4946031, 5800107, 5436127, 3873335, 3595649, 2959316, 2487774, 5776963, 3208780, 4231707, 4526605, 2968657, 6500784, 4223422, 3769686, 6363439, 6593387, 6880642, 5257514, 5037635, 6388659, 5485982, 7720420, 7231933, 5788874, 6394246, 4761319, 7598176, 6134965, 4104225, 5656906, 5632413, 4170492, 3126651, 2974060, 6128265, 8083369, 5074663, 4694294, 3930025, 3940602, 3936127, 3167274, 3718057, 3527229, 3149043, 2751723, 2691237, 5345974, 4185137, 3332478, 3575862, 4666258, 3992842, 6508743, 4264795, 2896978]}, {\"line\": {\"color\": \"rgba(50, 171, 96, 1.0)\", \"dash\": \"solid\", \"shape\": \"linear\", \"width\": 1.3}, \"mode\": \"lines\", \"name\": \"Facebook\", \"text\": \"\", \"type\": \"scatter\", \"x\": [\"3/16/2020\", \"3/17/2020\", \"3/18/2020\", \"3/19/2020\", \"3/20/2020\", \"3/23/2020\", \"3/24/2020\", \"3/25/2020\", \"3/26/2020\", \"3/27/2020\", \"3/30/2020\", \"3/31/2020\", \"4/1/2020\", \"4/2/2020\", \"4/3/2020\", \"4/6/2020\", \"4/7/2020\", \"4/8/2020\", \"4/9/2020\", \"4/13/2020\", \"4/14/2020\", \"4/15/2020\", \"4/16/2020\", \"4/17/2020\", \"4/20/2020\", \"4/21/2020\", \"4/22/2020\", \"4/23/2020\", \"4/24/2020\", \"4/27/2020\", \"4/28/2020\", \"4/29/2020\", \"4/30/2020\", \"5/1/2020\", \"5/4/2020\", \"5/5/2020\", \"5/6/2020\", \"5/7/2020\", \"5/8/2020\", \"5/11/2020\", \"5/12/2020\", \"5/13/2020\", \"5/14/2020\", \"5/15/2020\", \"5/18/2020\", \"5/19/2020\", \"5/20/2020\", \"5/21/2020\", \"5/22/2020\", \"5/26/2020\", \"5/27/2020\", \"5/28/2020\", \"5/29/2020\", \"6/1/2020\", \"6/2/2020\", \"6/3/2020\", \"6/4/2020\", \"6/5/2020\", \"6/8/2020\", \"6/9/2020\", \"6/10/2020\", \"6/11/2020\", \"6/12/2020\", \"6/15/2020\", \"6/16/2020\", \"6/17/2020\", \"6/18/2020\", \"6/19/2020\", \"6/22/2020\", \"6/23/2020\", \"6/24/2020\", \"6/25/2020\", \"6/26/2020\", \"6/29/2020\", \"6/30/2020\", \"7/1/2020\", \"7/2/2020\", \"7/6/2020\", \"7/7/2020\", \"7/8/2020\", \"7/9/2020\", \"7/10/2020\", \"7/13/2020\", \"7/14/2020\", \"7/15/2020\", \"7/16/2020\", \"7/17/2020\", \"7/20/2020\", \"7/21/2020\", \"7/22/2020\", \"7/23/2020\", \"7/24/2020\", \"7/27/2020\", \"7/28/2020\", \"7/29/2020\", \"7/30/2020\", \"7/31/2020\", \"8/3/2020\", \"8/4/2020\", \"8/5/2020\", \"8/6/2020\", \"8/7/2020\", \"8/10/2020\", \"8/11/2020\", \"8/12/2020\", \"8/13/2020\", \"8/14/2020\", \"8/17/2020\", \"8/18/2020\", \"8/19/2020\", \"8/20/2020\", \"8/21/2020\", \"8/24/2020\", \"8/25/2020\", \"8/26/2020\", \"8/27/2020\", \"8/28/2020\"], \"y\": [39120420, 34255600, 37553140, 39862310, 32568400, 29830770, 30440370, 35184270, 26579020, 24879870, 22515230, 23676280, 19507560, 20886310, 25983320, 28453580, 31411920, 21664200, 23534290, 19355360, 21011820, 17423000, 23593230, 20974750, 16110580, 24850530, 33369930, 21426600, 28868530, 29197750, 21730990, 45954520, 46230120, 30415580, 19250670, 21071220, 21856960, 15151980, 12524050, 12911950, 14704650, 20684560, 17178950, 19383150, 20167440, 31843150, 50162880, 47782640, 33925560, 33178320, 34697550, 29423010, 23322480, 18223840, 20919020, 15380280, 17041480, 16750440, 15466500, 27462870, 20720710, 26708160, 22091390, 15340260, 15236690, 19578130, 15782450, 30081290, 18917780, 24017920, 20834900, 18704340, 76343940, 58514280, 33927070, 43399740, 30633620, 26206160, 27887790, 29791340, 22174900, 22982720, 24674870, 23378060, 19133560, 18880710, 18152410, 20872220, 19409690, 15427890, 21771800, 18325810, 13163080, 14170110, 13588320, 20615310, 53030040, 23134100, 17183530, 13088360, 45241610, 72766360, 30248830, 28238280, 21428330, 17373970, 14792710, 13351060, 18690380, 23291460, 20299690, 15538620, 23685600, 42127240, 69015150, 30301310, 17172420]}, {\"line\": {\"color\": \"rgba(128, 0, 128, 1.0)\", \"dash\": \"solid\", \"shape\": \"linear\", \"width\": 1.3}, \"mode\": \"lines\", \"name\": \"Microsoft\", \"text\": \"\", \"type\": \"scatter\", \"x\": [\"3/16/2020\", \"3/17/2020\", \"3/18/2020\", \"3/19/2020\", \"3/20/2020\", \"3/23/2020\", \"3/24/2020\", \"3/25/2020\", \"3/26/2020\", \"3/27/2020\", \"3/30/2020\", \"3/31/2020\", \"4/1/2020\", \"4/2/2020\", \"4/3/2020\", \"4/6/2020\", \"4/7/2020\", \"4/8/2020\", \"4/9/2020\", \"4/13/2020\", \"4/14/2020\", \"4/15/2020\", \"4/16/2020\", \"4/17/2020\", \"4/20/2020\", \"4/21/2020\", \"4/22/2020\", \"4/23/2020\", \"4/24/2020\", \"4/27/2020\", \"4/28/2020\", \"4/29/2020\", \"4/30/2020\", \"5/1/2020\", \"5/4/2020\", \"5/5/2020\", \"5/6/2020\", \"5/7/2020\", \"5/8/2020\", \"5/11/2020\", \"5/12/2020\", \"5/13/2020\", \"5/14/2020\", \"5/15/2020\", \"5/18/2020\", \"5/19/2020\", \"5/20/2020\", \"5/21/2020\", \"5/22/2020\", \"5/26/2020\", \"5/27/2020\", \"5/28/2020\", \"5/29/2020\", \"6/1/2020\", \"6/2/2020\", \"6/3/2020\", \"6/4/2020\", \"6/5/2020\", \"6/8/2020\", \"6/9/2020\", \"6/10/2020\", \"6/11/2020\", \"6/12/2020\", \"6/15/2020\", \"6/16/2020\", \"6/17/2020\", \"6/18/2020\", \"6/19/2020\", \"6/22/2020\", \"6/23/2020\", \"6/24/2020\", \"6/25/2020\", \"6/26/2020\", \"6/29/2020\", \"6/30/2020\", \"7/1/2020\", \"7/2/2020\", \"7/6/2020\", \"7/7/2020\", \"7/8/2020\", \"7/9/2020\", \"7/10/2020\", \"7/13/2020\", \"7/14/2020\", \"7/15/2020\", \"7/16/2020\", \"7/17/2020\", \"7/20/2020\", \"7/21/2020\", \"7/22/2020\", \"7/23/2020\", \"7/24/2020\", \"7/27/2020\", \"7/28/2020\", \"7/29/2020\", \"7/30/2020\", \"7/31/2020\", \"8/3/2020\", \"8/4/2020\", \"8/5/2020\", \"8/6/2020\", \"8/7/2020\", \"8/10/2020\", \"8/11/2020\", \"8/12/2020\", \"8/13/2020\", \"8/14/2020\", \"8/17/2020\", \"8/18/2020\", \"8/19/2020\", \"8/20/2020\", \"8/21/2020\", \"8/24/2020\", \"8/25/2020\", \"8/26/2020\", \"8/27/2020\", \"8/28/2020\"], \"y\": [87905870, 81059820, 81593170, 85922660, 84866220, 78975180, 82516730, 75638220, 64694430, 57042290, 63420330, 77927190, 57969930, 49630740, 41243280, 67111700, 62769040, 48318230, 51431780, 41905260, 52874340, 40940830, 50479610, 52765630, 36669560, 56203750, 34651600, 32790800, 34305320, 33194380, 34392690, 51286560, 53875860, 39370470, 30372860, 36839170, 32139300, 28315990, 30912640, 30892660, 32038200, 44711490, 41873910, 46610380, 35306620, 26799120, 31261330, 29119510, 20826900, 36073610, 39517150, 33831820, 42146720, 22668820, 30794590, 27311020, 28761810, 39893640, 33211590, 29783920, 43872330, 52854670, 43373590, 32770190, 42556660, 25687820, 23061650, 44441140, 32818930, 30917450, 36740650, 27803930, 54675780, 26701590, 34310280, 32061210, 29315760, 31897630, 33600730, 33600030, 33121680, 26177630, 38135610, 37591820, 32179410, 29940650, 31635280, 36884840, 38105780, 49605690, 67457040, 39826990, 30160870, 23251390, 19632600, 25079600, 51247970, 78983010, 49280060, 28858620, 32656840, 27820420, 36716460, 36446460, 28041360, 22588870, 17958940, 20184760, 21336170, 27627560, 26981480, 36249320, 25460150, 23043700, 39600830, 57602200, 26292900]}, {\"line\": {\"color\": \"rgba(219, 64, 82, 1.0)\", \"dash\": \"solid\", \"shape\": \"linear\", \"width\": 1.3}, \"mode\": \"lines\", \"name\": \"Tesla\", \"text\": \"\", \"type\": \"scatter\", \"x\": [\"3/16/2020\", \"3/17/2020\", \"3/18/2020\", \"3/19/2020\", \"3/20/2020\", \"3/23/2020\", \"3/24/2020\", \"3/25/2020\", \"3/26/2020\", \"3/27/2020\", \"3/30/2020\", \"3/31/2020\", \"4/1/2020\", \"4/2/2020\", \"4/3/2020\", \"4/6/2020\", \"4/7/2020\", \"4/8/2020\", \"4/9/2020\", \"4/13/2020\", \"4/14/2020\", \"4/15/2020\", \"4/16/2020\", \"4/17/2020\", \"4/20/2020\", \"4/21/2020\", \"4/22/2020\", \"4/23/2020\", \"4/24/2020\", \"4/27/2020\", \"4/28/2020\", \"4/29/2020\", \"4/30/2020\", \"5/1/2020\", \"5/4/2020\", \"5/5/2020\", \"5/6/2020\", \"5/7/2020\", \"5/8/2020\", \"5/11/2020\", \"5/12/2020\", \"5/13/2020\", \"5/14/2020\", \"5/15/2020\", \"5/18/2020\", \"5/19/2020\", \"5/20/2020\", \"5/21/2020\", \"5/22/2020\", \"5/26/2020\", \"5/27/2020\", \"5/28/2020\", \"5/29/2020\", \"6/1/2020\", \"6/2/2020\", \"6/3/2020\", \"6/4/2020\", \"6/5/2020\", \"6/8/2020\", \"6/9/2020\", \"6/10/2020\", \"6/11/2020\", \"6/12/2020\", \"6/15/2020\", \"6/16/2020\", \"6/17/2020\", \"6/18/2020\", \"6/19/2020\", \"6/22/2020\", \"6/23/2020\", \"6/24/2020\", \"6/25/2020\", \"6/26/2020\", \"6/29/2020\", \"6/30/2020\", \"7/1/2020\", \"7/2/2020\", \"7/6/2020\", \"7/7/2020\", \"7/8/2020\", \"7/9/2020\", \"7/10/2020\", \"7/13/2020\", \"7/14/2020\", \"7/15/2020\", \"7/16/2020\", \"7/17/2020\", \"7/20/2020\", \"7/21/2020\", \"7/22/2020\", \"7/23/2020\", \"7/24/2020\", \"7/27/2020\", \"7/28/2020\", \"7/29/2020\", \"7/30/2020\", \"7/31/2020\", \"8/3/2020\", \"8/4/2020\", \"8/5/2020\", \"8/6/2020\", \"8/7/2020\", \"8/10/2020\", \"8/11/2020\", \"8/12/2020\", \"8/13/2020\", \"8/14/2020\", \"8/17/2020\", \"8/18/2020\", \"8/19/2020\", \"8/20/2020\", \"8/21/2020\", \"8/24/2020\", \"8/25/2020\", \"8/26/2020\", \"8/27/2020\", \"8/28/2020\"], \"y\": [20489460, 23994580, 23786160, 30195460, 28285500, 16454550, 22895170, 21222750, 17422080, 14377410, 11998070, 17771490, 13353180, 19858430, 22562080, 14901840, 17919780, 12656020, 13650000, 22475420, 30576510, 23577000, 20657860, 13128230, 14746370, 20209090, 14224830, 13236700, 13237610, 20681440, 15221960, 16215980, 28471850, 32531810, 19237090, 16991660, 11123230, 11527690, 16130090, 16519600, 15906910, 19065490, 13682190, 10518430, 11698100, 9636522, 7309271, 12254580, 9987475, 8089736, 11549530, 7275774, 11812490, 15085300, 13565600, 7949469, 8887713, 7811917, 14174730, 11388150, 18563410, 15916480, 16763370, 15697180, 14051080, 9890800, 9751936, 8679749, 6362350, 6365271, 10959590, 9254549, 8854908, 9026404, 16918500, 13326900, 17250120, 20569860, 21489660, 16311310, 11717600, 23337550, 38985360, 23418140, 16367830, 14300790, 9329972, 17121370, 16157280, 14161080, 24328500, 19396620, 16048670, 15808700, 9426893, 7621039, 12246960, 8809346, 8414990, 4978015, 5992313, 8896420, 7522264, 8625834, 21898830, 20425310, 12577610, 20242320, 16474490, 12205330, 20611800, 21489560, 20063620, 10658890, 14239380, 23693040, 20081180]}],                        {\"legend\": {\"bgcolor\": \"#F5F6F9\", \"font\": {\"color\": \"#4D5663\"}}, \"paper_bgcolor\": \"#F5F6F9\", \"plot_bgcolor\": \"#F5F6F9\", \"template\": {\"data\": {\"bar\": [{\"error_x\": {\"color\": \"#2a3f5f\"}, \"error_y\": {\"color\": \"#2a3f5f\"}, \"marker\": {\"line\": {\"color\": \"#E5ECF6\", \"width\": 0.5}}, \"type\": \"bar\"}], \"barpolar\": [{\"marker\": {\"line\": {\"color\": \"#E5ECF6\", \"width\": 0.5}}, \"type\": \"barpolar\"}], \"carpet\": [{\"aaxis\": {\"endlinecolor\": \"#2a3f5f\", \"gridcolor\": \"white\", \"linecolor\": \"white\", \"minorgridcolor\": \"white\", \"startlinecolor\": \"#2a3f5f\"}, \"baxis\": {\"endlinecolor\": \"#2a3f5f\", \"gridcolor\": \"white\", \"linecolor\": \"white\", \"minorgridcolor\": \"white\", \"startlinecolor\": \"#2a3f5f\"}, \"type\": \"carpet\"}], \"choropleth\": [{\"colorbar\": {\"outlinewidth\": 0, \"ticks\": \"\"}, \"type\": \"choropleth\"}], \"contour\": [{\"colorbar\": {\"outlinewidth\": 0, \"ticks\": \"\"}, \"colorscale\": [[0.0, \"#0d0887\"], [0.1111111111111111, \"#46039f\"], [0.2222222222222222, \"#7201a8\"], [0.3333333333333333, \"#9c179e\"], [0.4444444444444444, \"#bd3786\"], [0.5555555555555556, \"#d8576b\"], [0.6666666666666666, \"#ed7953\"], [0.7777777777777778, \"#fb9f3a\"], [0.8888888888888888, \"#fdca26\"], [1.0, \"#f0f921\"]], \"type\": \"contour\"}], \"contourcarpet\": [{\"colorbar\": {\"outlinewidth\": 0, \"ticks\": \"\"}, \"type\": \"contourcarpet\"}], \"heatmap\": [{\"colorbar\": {\"outlinewidth\": 0, \"ticks\": \"\"}, \"colorscale\": [[0.0, \"#0d0887\"], [0.1111111111111111, \"#46039f\"], [0.2222222222222222, \"#7201a8\"], [0.3333333333333333, \"#9c179e\"], [0.4444444444444444, \"#bd3786\"], [0.5555555555555556, \"#d8576b\"], [0.6666666666666666, \"#ed7953\"], [0.7777777777777778, \"#fb9f3a\"], [0.8888888888888888, \"#fdca26\"], [1.0, \"#f0f921\"]], \"type\": \"heatmap\"}], \"heatmapgl\": [{\"colorbar\": {\"outlinewidth\": 0, \"ticks\": \"\"}, \"colorscale\": [[0.0, \"#0d0887\"], [0.1111111111111111, \"#46039f\"], [0.2222222222222222, \"#7201a8\"], [0.3333333333333333, \"#9c179e\"], [0.4444444444444444, \"#bd3786\"], [0.5555555555555556, \"#d8576b\"], [0.6666666666666666, \"#ed7953\"], [0.7777777777777778, \"#fb9f3a\"], [0.8888888888888888, \"#fdca26\"], [1.0, \"#f0f921\"]], \"type\": \"heatmapgl\"}], \"histogram\": [{\"marker\": {\"colorbar\": {\"outlinewidth\": 0, \"ticks\": \"\"}}, \"type\": \"histogram\"}], \"histogram2d\": [{\"colorbar\": {\"outlinewidth\": 0, \"ticks\": \"\"}, \"colorscale\": [[0.0, \"#0d0887\"], [0.1111111111111111, \"#46039f\"], [0.2222222222222222, \"#7201a8\"], [0.3333333333333333, \"#9c179e\"], [0.4444444444444444, \"#bd3786\"], [0.5555555555555556, \"#d8576b\"], [0.6666666666666666, \"#ed7953\"], [0.7777777777777778, \"#fb9f3a\"], [0.8888888888888888, \"#fdca26\"], [1.0, \"#f0f921\"]], \"type\": \"histogram2d\"}], \"histogram2dcontour\": [{\"colorbar\": {\"outlinewidth\": 0, \"ticks\": \"\"}, \"colorscale\": [[0.0, \"#0d0887\"], [0.1111111111111111, \"#46039f\"], [0.2222222222222222, \"#7201a8\"], [0.3333333333333333, \"#9c179e\"], [0.4444444444444444, \"#bd3786\"], [0.5555555555555556, \"#d8576b\"], [0.6666666666666666, \"#ed7953\"], [0.7777777777777778, \"#fb9f3a\"], [0.8888888888888888, \"#fdca26\"], [1.0, \"#f0f921\"]], \"type\": \"histogram2dcontour\"}], \"mesh3d\": [{\"colorbar\": {\"outlinewidth\": 0, \"ticks\": \"\"}, \"type\": \"mesh3d\"}], \"parcoords\": [{\"line\": {\"colorbar\": {\"outlinewidth\": 0, \"ticks\": \"\"}}, \"type\": \"parcoords\"}], \"pie\": [{\"automargin\": true, \"type\": \"pie\"}], \"scatter\": [{\"marker\": {\"colorbar\": {\"outlinewidth\": 0, \"ticks\": \"\"}}, \"type\": \"scatter\"}], \"scatter3d\": [{\"line\": {\"colorbar\": {\"outlinewidth\": 0, \"ticks\": \"\"}}, \"marker\": {\"colorbar\": {\"outlinewidth\": 0, \"ticks\": \"\"}}, \"type\": \"scatter3d\"}], \"scattercarpet\": [{\"marker\": {\"colorbar\": {\"outlinewidth\": 0, \"ticks\": \"\"}}, \"type\": \"scattercarpet\"}], \"scattergeo\": [{\"marker\": {\"colorbar\": {\"outlinewidth\": 0, \"ticks\": \"\"}}, \"type\": \"scattergeo\"}], \"scattergl\": [{\"marker\": {\"colorbar\": {\"outlinewidth\": 0, \"ticks\": \"\"}}, \"type\": \"scattergl\"}], \"scattermapbox\": [{\"marker\": {\"colorbar\": {\"outlinewidth\": 0, \"ticks\": \"\"}}, \"type\": \"scattermapbox\"}], \"scatterpolar\": [{\"marker\": {\"colorbar\": {\"outlinewidth\": 0, \"ticks\": \"\"}}, \"type\": \"scatterpolar\"}], \"scatterpolargl\": [{\"marker\": {\"colorbar\": {\"outlinewidth\": 0, \"ticks\": \"\"}}, \"type\": \"scatterpolargl\"}], \"scatterternary\": [{\"marker\": {\"colorbar\": {\"outlinewidth\": 0, \"ticks\": \"\"}}, \"type\": \"scatterternary\"}], \"surface\": [{\"colorbar\": {\"outlinewidth\": 0, \"ticks\": \"\"}, \"colorscale\": [[0.0, \"#0d0887\"], [0.1111111111111111, \"#46039f\"], [0.2222222222222222, \"#7201a8\"], [0.3333333333333333, \"#9c179e\"], [0.4444444444444444, \"#bd3786\"], [0.5555555555555556, \"#d8576b\"], [0.6666666666666666, \"#ed7953\"], [0.7777777777777778, \"#fb9f3a\"], [0.8888888888888888, \"#fdca26\"], [1.0, \"#f0f921\"]], \"type\": \"surface\"}], \"table\": [{\"cells\": {\"fill\": {\"color\": \"#EBF0F8\"}, \"line\": {\"color\": \"white\"}}, \"header\": {\"fill\": {\"color\": \"#C8D4E3\"}, \"line\": {\"color\": \"white\"}}, \"type\": \"table\"}]}, \"layout\": {\"annotationdefaults\": {\"arrowcolor\": \"#2a3f5f\", \"arrowhead\": 0, \"arrowwidth\": 1}, \"coloraxis\": {\"colorbar\": {\"outlinewidth\": 0, \"ticks\": \"\"}}, \"colorscale\": {\"diverging\": [[0, \"#8e0152\"], [0.1, \"#c51b7d\"], [0.2, \"#de77ae\"], [0.3, \"#f1b6da\"], [0.4, \"#fde0ef\"], [0.5, \"#f7f7f7\"], [0.6, \"#e6f5d0\"], [0.7, \"#b8e186\"], [0.8, \"#7fbc41\"], [0.9, \"#4d9221\"], [1, \"#276419\"]], \"sequential\": [[0.0, \"#0d0887\"], [0.1111111111111111, \"#46039f\"], [0.2222222222222222, \"#7201a8\"], [0.3333333333333333, \"#9c179e\"], [0.4444444444444444, \"#bd3786\"], [0.5555555555555556, \"#d8576b\"], [0.6666666666666666, \"#ed7953\"], [0.7777777777777778, \"#fb9f3a\"], [0.8888888888888888, \"#fdca26\"], [1.0, \"#f0f921\"]], \"sequentialminus\": [[0.0, \"#0d0887\"], [0.1111111111111111, \"#46039f\"], [0.2222222222222222, \"#7201a8\"], [0.3333333333333333, \"#9c179e\"], [0.4444444444444444, \"#bd3786\"], [0.5555555555555556, \"#d8576b\"], [0.6666666666666666, \"#ed7953\"], [0.7777777777777778, \"#fb9f3a\"], [0.8888888888888888, \"#fdca26\"], [1.0, \"#f0f921\"]]}, \"colorway\": [\"#636efa\", \"#EF553B\", \"#00cc96\", \"#ab63fa\", \"#FFA15A\", \"#19d3f3\", \"#FF6692\", \"#B6E880\", \"#FF97FF\", \"#FECB52\"], \"font\": {\"color\": \"#2a3f5f\"}, \"geo\": {\"bgcolor\": \"white\", \"lakecolor\": \"white\", \"landcolor\": \"#E5ECF6\", \"showlakes\": true, \"showland\": true, \"subunitcolor\": \"white\"}, \"hoverlabel\": {\"align\": \"left\"}, \"hovermode\": \"closest\", \"mapbox\": {\"style\": \"light\"}, \"paper_bgcolor\": \"white\", \"plot_bgcolor\": \"#E5ECF6\", \"polar\": {\"angularaxis\": {\"gridcolor\": \"white\", \"linecolor\": \"white\", \"ticks\": \"\"}, \"bgcolor\": \"#E5ECF6\", \"radialaxis\": {\"gridcolor\": \"white\", \"linecolor\": \"white\", \"ticks\": \"\"}}, \"scene\": {\"xaxis\": {\"backgroundcolor\": \"#E5ECF6\", \"gridcolor\": \"white\", \"gridwidth\": 2, \"linecolor\": \"white\", \"showbackground\": true, \"ticks\": \"\", \"zerolinecolor\": \"white\"}, \"yaxis\": {\"backgroundcolor\": \"#E5ECF6\", \"gridcolor\": \"white\", \"gridwidth\": 2, \"linecolor\": \"white\", \"showbackground\": true, \"ticks\": \"\", \"zerolinecolor\": \"white\"}, \"zaxis\": {\"backgroundcolor\": \"#E5ECF6\", \"gridcolor\": \"white\", \"gridwidth\": 2, \"linecolor\": \"white\", \"showbackground\": true, \"ticks\": \"\", \"zerolinecolor\": \"white\"}}, \"shapedefaults\": {\"line\": {\"color\": \"#2a3f5f\"}}, \"ternary\": {\"aaxis\": {\"gridcolor\": \"white\", \"linecolor\": \"white\", \"ticks\": \"\"}, \"baxis\": {\"gridcolor\": \"white\", \"linecolor\": \"white\", \"ticks\": \"\"}, \"bgcolor\": \"#E5ECF6\", \"caxis\": {\"gridcolor\": \"white\", \"linecolor\": \"white\", \"ticks\": \"\"}}, \"title\": {\"x\": 0.05}, \"xaxis\": {\"automargin\": true, \"gridcolor\": \"white\", \"linecolor\": \"white\", \"ticks\": \"\", \"title\": {\"standoff\": 15}, \"zerolinecolor\": \"white\", \"zerolinewidth\": 2}, \"yaxis\": {\"automargin\": true, \"gridcolor\": \"white\", \"linecolor\": \"white\", \"ticks\": \"\", \"title\": {\"standoff\": 15}, \"zerolinecolor\": \"white\", \"zerolinewidth\": 2}}}, \"title\": {\"font\": {\"color\": \"#4D5663\"}}, \"xaxis\": {\"gridcolor\": \"#E1E5ED\", \"showgrid\": true, \"tickfont\": {\"color\": \"#4D5663\"}, \"title\": {\"font\": {\"color\": \"#4D5663\"}, \"text\": \"\"}, \"zerolinecolor\": \"#E1E5ED\"}, \"yaxis\": {\"gridcolor\": \"#E1E5ED\", \"showgrid\": true, \"tickfont\": {\"color\": \"#4D5663\"}, \"title\": {\"font\": {\"color\": \"#4D5663\"}, \"text\": \"\"}, \"zerolinecolor\": \"#E1E5ED\"}},                        {\"showLink\": true, \"linkText\": \"Export to plot.ly\", \"plotlyServerURL\": \"https://plot.ly\", \"responsive\": true}                    ).then(function(){\n",
       "                            \n",
       "var gd = document.getElementById('a9631b3a-384e-4618-833b-623ac4febf8c');\n",
       "var x = new MutationObserver(function (mutations, observer) {{\n",
       "        var display = window.getComputedStyle(gd).display;\n",
       "        if (!display || display === 'none') {{\n",
       "            console.log([gd, 'removed!']);\n",
       "            Plotly.purge(gd);\n",
       "            observer.disconnect();\n",
       "        }}\n",
       "}});\n",
       "\n",
       "// Listen for the removal of the full notebook cells\n",
       "var notebookContainer = gd.closest('#notebook-container');\n",
       "if (notebookContainer) {{\n",
       "    x.observe(notebookContainer, {childList: true});\n",
       "}}\n",
       "\n",
       "// Listen for the clearing of the current output cell\n",
       "var outputEl = gd.closest('.output');\n",
       "if (outputEl) {{\n",
       "    x.observe(outputEl, {childList: true});\n",
       "}}\n",
       "\n",
       "                        })                };                });            </script>        </div>"
      ]
     },
     "metadata": {},
     "output_type": "display_data"
    }
   ],
   "source": [
    "stock_data.xs(key='Open',axis=1,level='Stock Info').iplot()\n",
    "stock_data.xs(key='Close',axis=1,level='Stock Info').iplot()\n",
    "stock_data.xs(key='Volume',axis=1,level='Stock Info').iplot()"
   ]
  },
  {
   "cell_type": "code",
   "execution_count": 426,
   "metadata": {},
   "outputs": [],
   "source": [
    "import plotly.graph_objects as go\n",
    "from datetime import datetime"
   ]
  },
  {
   "cell_type": "code",
   "execution_count": 437,
   "metadata": {
    "scrolled": true
   },
   "outputs": [
    {
     "data": {
      "application/vnd.plotly.v1+json": {
       "config": {
        "plotlyServerURL": "https://plot.ly"
       },
       "data": [
        {
         "close": [
          242.21,
          252.86,
          246.67,
          244.78,
          229.24,
          224.37,
          246.88,
          245.52,
          258.44,
          247.74,
          254.81,
          254.29,
          240.91,
          244.93,
          241.41,
          262.47,
          259.43,
          266.07,
          267.99,
          273.25,
          287.05,
          284.43,
          286.69,
          282.8,
          276.93,
          268.37,
          276.1,
          275.03,
          282.97,
          283.17,
          278.58,
          287.73,
          293.8,
          289.07,
          293.16,
          297.56,
          300.63,
          303.74,
          310.13,
          315.01,
          311.41,
          307.65,
          309.54,
          307.71,
          314.96,
          313.14,
          319.23,
          316.85,
          318.89,
          316.73,
          318.11,
          318.25,
          317.94,
          321.85,
          323.34,
          325.12,
          322.32,
          331.5,
          333.46,
          343.99,
          352.84,
          335.9,
          338.8,
          342.99,
          352.08,
          351.59,
          351.73,
          349.72,
          358.87,
          366.53,
          360.06,
          364.84,
          353.63,
          361.78,
          364.8,
          364.11,
          364.11,
          373.85,
          372.69,
          381.37,
          382.73,
          383.68,
          381.91,
          388.23,
          390.9,
          386.09,
          385.31,
          393.43,
          388,
          389.09,
          371.38,
          370.46,
          379.24,
          373.01,
          380.16,
          384.76,
          425.04,
          435.75,
          438.66,
          440.25,
          455.61,
          444.45,
          450.91,
          437.5,
          452.04,
          460.04,
          459.63,
          458.43,
          462.25,
          462.83,
          473.1,
          497.48,
          503.43,
          499.3,
          506.09,
          500.04,
          499.23
         ],
         "high": [
          259.08,
          257.61,
          250,
          252.84,
          251.83,
          228.5,
          247.69,
          258.25,
          258.68,
          255.87,
          255.52,
          262.49,
          248.72,
          245.15,
          245.7,
          263.11,
          271.7,
          267.37,
          270.07,
          273.7,
          288.25,
          286.33,
          288.2,
          286.95,
          281.68,
          277.25,
          277.9,
          281.75,
          283.01,
          284.54,
          285.83,
          289.67,
          294.53,
          299,
          293.69,
          301,
          303.24,
          305.17,
          310.35,
          317.05,
          319.69,
          315.95,
          309.79,
          307.9,
          316.5,
          318.52,
          319.52,
          320.89,
          319.23,
          324.24,
          318.71,
          323.44,
          321.15,
          322.35,
          323.44,
          326.2,
          325.62,
          331.75,
          333.6,
          345.61,
          354.77,
          351.06,
          347.8,
          345.68,
          353.2,
          355.4,
          353.45,
          356.56,
          359.46,
          372.38,
          368.79,
          365,
          365.32,
          362.17,
          365.98,
          367.36,
          370.47,
          375.78,
          378.62,
          381.5,
          385.27,
          383.92,
          399.82,
          389.02,
          396.99,
          389.62,
          388.59,
          394,
          397,
          391.9,
          388.31,
          371.88,
          379.62,
          378.2,
          380.92,
          385.19,
          425.66,
          446.55,
          443.16,
          441.57,
          457.65,
          454.7,
          455.1,
          449.93,
          453.1,
          464.17,
          460,
          464.35,
          464,
          468.65,
          473.57,
          499.47,
          515.14,
          500.72,
          507.97,
          509.94,
          505.77
         ],
         "low": [
          240,
          238.4,
          237.12,
          242.61,
          228,
          212.61,
          234.3,
          244.3,
          246.36,
          247.05,
          249.4,
          252,
          239.13,
          236.9,
          238.97,
          249.38,
          259,
          261.23,
          264.7,
          265.83,
          278.05,
          280.63,
          282.35,
          276.86,
          276.85,
          265.43,
          272.2,
          274.87,
          277,
          279.95,
          278.2,
          283.89,
          288.35,
          285.85,
          286.32,
          294.46,
          298.87,
          301.97,
          304.29,
          307.24,
          310.91,
          303.21,
          301.53,
          300.21,
          310.32,
          313.01,
          316.2,
          315.87,
          315.35,
          316.5,
          313.09,
          315.63,
          316.47,
          317.21,
          318.93,
          322.3,
          320.78,
          323.23,
          327.32,
          332.01,
          346.09,
          335.48,
          334.22,
          332.58,
          344.72,
          351.09,
          349.22,
          345.15,
          351.15,
          362.27,
          358.52,
          357.57,
          353.02,
          351.28,
          360,
          363.91,
          363.64,
          369.87,
          372.23,
          376.36,
          378.69,
          378.82,
          381.03,
          375.51,
          385.96,
          383.62,
          383.36,
          384.25,
          386.97,
          386.41,
          368.04,
          356.58,
          373.92,
          372.99,
          374.85,
          375.07,
          403.3,
          431.57,
          433.55,
          435.59,
          439.19,
          441.17,
          440,
          436.43,
          441.19,
          455.71,
          452.18,
          455.85,
          456.03,
          462.44,
          462.93,
          477,
          495.75,
          492.21,
          500.33,
          495.33,
          498.31
         ],
         "open": [
          241.95,
          247.51,
          239.77,
          247.39,
          247.18,
          228.08,
          236.36,
          250.75,
          246.52,
          252.75,
          250.74,
          255.6,
          246.5,
          240.34,
          242.8,
          250.9,
          270.8,
          262.74,
          268.7,
          268.31,
          280,
          282.4,
          287.38,
          284.69,
          277.95,
          276.28,
          273.61,
          275.87,
          277.2,
          281.8,
          285.08,
          284.73,
          289.96,
          286.25,
          289.17,
          295.06,
          300.46,
          303.22,
          305.64,
          308.1,
          317.83,
          312.15,
          304.51,
          300.35,
          313.17,
          315.03,
          316.68,
          318.66,
          315.77,
          323.5,
          316.14,
          316.77,
          319.25,
          317.75,
          320.75,
          324.66,
          324.39,
          323.35,
          330.25,
          332.14,
          347.9,
          349.31,
          344.72,
          333.25,
          351.46,
          355.15,
          351.41,
          354.64,
          351.34,
          364,
          365,
          360.7,
          364.41,
          353.25,
          360.08,
          365.12,
          367.85,
          370,
          375.41,
          376.72,
          385.05,
          381.34,
          389.06,
          379.36,
          395.96,
          386.25,
          387.95,
          385.67,
          396.69,
          386.77,
          387.99,
          363.95,
          374.84,
          377.47,
          375,
          376.75,
          411.54,
          432.8,
          436.53,
          437.51,
          441.62,
          452.82,
          450.4,
          447.88,
          441.99,
          457.72,
          459.32,
          464.25,
          457.41,
          463.93,
          463,
          477.05,
          514.79,
          498.79,
          504.72,
          508.57,
          504.05
         ],
         "type": "candlestick",
         "x": [
          "3/16/2020",
          "3/17/2020",
          "3/18/2020",
          "3/19/2020",
          "3/20/2020",
          "3/23/2020",
          "3/24/2020",
          "3/25/2020",
          "3/26/2020",
          "3/27/2020",
          "3/30/2020",
          "3/31/2020",
          "4/1/2020",
          "4/2/2020",
          "4/3/2020",
          "4/6/2020",
          "4/7/2020",
          "4/8/2020",
          "4/9/2020",
          "4/13/2020",
          "4/14/2020",
          "4/15/2020",
          "4/16/2020",
          "4/17/2020",
          "4/20/2020",
          "4/21/2020",
          "4/22/2020",
          "4/23/2020",
          "4/24/2020",
          "4/27/2020",
          "4/28/2020",
          "4/29/2020",
          "4/30/2020",
          "5/1/2020",
          "5/4/2020",
          "5/5/2020",
          "5/6/2020",
          "5/7/2020",
          "5/8/2020",
          "5/11/2020",
          "5/12/2020",
          "5/13/2020",
          "5/14/2020",
          "5/15/2020",
          "5/18/2020",
          "5/19/2020",
          "5/20/2020",
          "5/21/2020",
          "5/22/2020",
          "5/26/2020",
          "5/27/2020",
          "5/28/2020",
          "5/29/2020",
          "6/1/2020",
          "6/2/2020",
          "6/3/2020",
          "6/4/2020",
          "6/5/2020",
          "6/8/2020",
          "6/9/2020",
          "6/10/2020",
          "6/11/2020",
          "6/12/2020",
          "6/15/2020",
          "6/16/2020",
          "6/17/2020",
          "6/18/2020",
          "6/19/2020",
          "6/22/2020",
          "6/23/2020",
          "6/24/2020",
          "6/25/2020",
          "6/26/2020",
          "6/29/2020",
          "6/30/2020",
          "7/1/2020",
          "7/2/2020",
          "7/6/2020",
          "7/7/2020",
          "7/8/2020",
          "7/9/2020",
          "7/10/2020",
          "7/13/2020",
          "7/14/2020",
          "7/15/2020",
          "7/16/2020",
          "7/17/2020",
          "7/20/2020",
          "7/21/2020",
          "7/22/2020",
          "7/23/2020",
          "7/24/2020",
          "7/27/2020",
          "7/28/2020",
          "7/29/2020",
          "7/30/2020",
          "7/31/2020",
          "8/3/2020",
          "8/4/2020",
          "8/5/2020",
          "8/6/2020",
          "8/7/2020",
          "8/10/2020",
          "8/11/2020",
          "8/12/2020",
          "8/13/2020",
          "8/14/2020",
          "8/17/2020",
          "8/18/2020",
          "8/19/2020",
          "8/20/2020",
          "8/21/2020",
          "8/24/2020",
          "8/25/2020",
          "8/26/2020",
          "8/27/2020",
          "8/28/2020"
         ]
        }
       ],
       "layout": {
        "template": {
         "data": {
          "bar": [
           {
            "error_x": {
             "color": "#2a3f5f"
            },
            "error_y": {
             "color": "#2a3f5f"
            },
            "marker": {
             "line": {
              "color": "#E5ECF6",
              "width": 0.5
             }
            },
            "type": "bar"
           }
          ],
          "barpolar": [
           {
            "marker": {
             "line": {
              "color": "#E5ECF6",
              "width": 0.5
             }
            },
            "type": "barpolar"
           }
          ],
          "carpet": [
           {
            "aaxis": {
             "endlinecolor": "#2a3f5f",
             "gridcolor": "white",
             "linecolor": "white",
             "minorgridcolor": "white",
             "startlinecolor": "#2a3f5f"
            },
            "baxis": {
             "endlinecolor": "#2a3f5f",
             "gridcolor": "white",
             "linecolor": "white",
             "minorgridcolor": "white",
             "startlinecolor": "#2a3f5f"
            },
            "type": "carpet"
           }
          ],
          "choropleth": [
           {
            "colorbar": {
             "outlinewidth": 0,
             "ticks": ""
            },
            "type": "choropleth"
           }
          ],
          "contour": [
           {
            "colorbar": {
             "outlinewidth": 0,
             "ticks": ""
            },
            "colorscale": [
             [
              0,
              "#0d0887"
             ],
             [
              0.1111111111111111,
              "#46039f"
             ],
             [
              0.2222222222222222,
              "#7201a8"
             ],
             [
              0.3333333333333333,
              "#9c179e"
             ],
             [
              0.4444444444444444,
              "#bd3786"
             ],
             [
              0.5555555555555556,
              "#d8576b"
             ],
             [
              0.6666666666666666,
              "#ed7953"
             ],
             [
              0.7777777777777778,
              "#fb9f3a"
             ],
             [
              0.8888888888888888,
              "#fdca26"
             ],
             [
              1,
              "#f0f921"
             ]
            ],
            "type": "contour"
           }
          ],
          "contourcarpet": [
           {
            "colorbar": {
             "outlinewidth": 0,
             "ticks": ""
            },
            "type": "contourcarpet"
           }
          ],
          "heatmap": [
           {
            "colorbar": {
             "outlinewidth": 0,
             "ticks": ""
            },
            "colorscale": [
             [
              0,
              "#0d0887"
             ],
             [
              0.1111111111111111,
              "#46039f"
             ],
             [
              0.2222222222222222,
              "#7201a8"
             ],
             [
              0.3333333333333333,
              "#9c179e"
             ],
             [
              0.4444444444444444,
              "#bd3786"
             ],
             [
              0.5555555555555556,
              "#d8576b"
             ],
             [
              0.6666666666666666,
              "#ed7953"
             ],
             [
              0.7777777777777778,
              "#fb9f3a"
             ],
             [
              0.8888888888888888,
              "#fdca26"
             ],
             [
              1,
              "#f0f921"
             ]
            ],
            "type": "heatmap"
           }
          ],
          "heatmapgl": [
           {
            "colorbar": {
             "outlinewidth": 0,
             "ticks": ""
            },
            "colorscale": [
             [
              0,
              "#0d0887"
             ],
             [
              0.1111111111111111,
              "#46039f"
             ],
             [
              0.2222222222222222,
              "#7201a8"
             ],
             [
              0.3333333333333333,
              "#9c179e"
             ],
             [
              0.4444444444444444,
              "#bd3786"
             ],
             [
              0.5555555555555556,
              "#d8576b"
             ],
             [
              0.6666666666666666,
              "#ed7953"
             ],
             [
              0.7777777777777778,
              "#fb9f3a"
             ],
             [
              0.8888888888888888,
              "#fdca26"
             ],
             [
              1,
              "#f0f921"
             ]
            ],
            "type": "heatmapgl"
           }
          ],
          "histogram": [
           {
            "marker": {
             "colorbar": {
              "outlinewidth": 0,
              "ticks": ""
             }
            },
            "type": "histogram"
           }
          ],
          "histogram2d": [
           {
            "colorbar": {
             "outlinewidth": 0,
             "ticks": ""
            },
            "colorscale": [
             [
              0,
              "#0d0887"
             ],
             [
              0.1111111111111111,
              "#46039f"
             ],
             [
              0.2222222222222222,
              "#7201a8"
             ],
             [
              0.3333333333333333,
              "#9c179e"
             ],
             [
              0.4444444444444444,
              "#bd3786"
             ],
             [
              0.5555555555555556,
              "#d8576b"
             ],
             [
              0.6666666666666666,
              "#ed7953"
             ],
             [
              0.7777777777777778,
              "#fb9f3a"
             ],
             [
              0.8888888888888888,
              "#fdca26"
             ],
             [
              1,
              "#f0f921"
             ]
            ],
            "type": "histogram2d"
           }
          ],
          "histogram2dcontour": [
           {
            "colorbar": {
             "outlinewidth": 0,
             "ticks": ""
            },
            "colorscale": [
             [
              0,
              "#0d0887"
             ],
             [
              0.1111111111111111,
              "#46039f"
             ],
             [
              0.2222222222222222,
              "#7201a8"
             ],
             [
              0.3333333333333333,
              "#9c179e"
             ],
             [
              0.4444444444444444,
              "#bd3786"
             ],
             [
              0.5555555555555556,
              "#d8576b"
             ],
             [
              0.6666666666666666,
              "#ed7953"
             ],
             [
              0.7777777777777778,
              "#fb9f3a"
             ],
             [
              0.8888888888888888,
              "#fdca26"
             ],
             [
              1,
              "#f0f921"
             ]
            ],
            "type": "histogram2dcontour"
           }
          ],
          "mesh3d": [
           {
            "colorbar": {
             "outlinewidth": 0,
             "ticks": ""
            },
            "type": "mesh3d"
           }
          ],
          "parcoords": [
           {
            "line": {
             "colorbar": {
              "outlinewidth": 0,
              "ticks": ""
             }
            },
            "type": "parcoords"
           }
          ],
          "pie": [
           {
            "automargin": true,
            "type": "pie"
           }
          ],
          "scatter": [
           {
            "marker": {
             "colorbar": {
              "outlinewidth": 0,
              "ticks": ""
             }
            },
            "type": "scatter"
           }
          ],
          "scatter3d": [
           {
            "line": {
             "colorbar": {
              "outlinewidth": 0,
              "ticks": ""
             }
            },
            "marker": {
             "colorbar": {
              "outlinewidth": 0,
              "ticks": ""
             }
            },
            "type": "scatter3d"
           }
          ],
          "scattercarpet": [
           {
            "marker": {
             "colorbar": {
              "outlinewidth": 0,
              "ticks": ""
             }
            },
            "type": "scattercarpet"
           }
          ],
          "scattergeo": [
           {
            "marker": {
             "colorbar": {
              "outlinewidth": 0,
              "ticks": ""
             }
            },
            "type": "scattergeo"
           }
          ],
          "scattergl": [
           {
            "marker": {
             "colorbar": {
              "outlinewidth": 0,
              "ticks": ""
             }
            },
            "type": "scattergl"
           }
          ],
          "scattermapbox": [
           {
            "marker": {
             "colorbar": {
              "outlinewidth": 0,
              "ticks": ""
             }
            },
            "type": "scattermapbox"
           }
          ],
          "scatterpolar": [
           {
            "marker": {
             "colorbar": {
              "outlinewidth": 0,
              "ticks": ""
             }
            },
            "type": "scatterpolar"
           }
          ],
          "scatterpolargl": [
           {
            "marker": {
             "colorbar": {
              "outlinewidth": 0,
              "ticks": ""
             }
            },
            "type": "scatterpolargl"
           }
          ],
          "scatterternary": [
           {
            "marker": {
             "colorbar": {
              "outlinewidth": 0,
              "ticks": ""
             }
            },
            "type": "scatterternary"
           }
          ],
          "surface": [
           {
            "colorbar": {
             "outlinewidth": 0,
             "ticks": ""
            },
            "colorscale": [
             [
              0,
              "#0d0887"
             ],
             [
              0.1111111111111111,
              "#46039f"
             ],
             [
              0.2222222222222222,
              "#7201a8"
             ],
             [
              0.3333333333333333,
              "#9c179e"
             ],
             [
              0.4444444444444444,
              "#bd3786"
             ],
             [
              0.5555555555555556,
              "#d8576b"
             ],
             [
              0.6666666666666666,
              "#ed7953"
             ],
             [
              0.7777777777777778,
              "#fb9f3a"
             ],
             [
              0.8888888888888888,
              "#fdca26"
             ],
             [
              1,
              "#f0f921"
             ]
            ],
            "type": "surface"
           }
          ],
          "table": [
           {
            "cells": {
             "fill": {
              "color": "#EBF0F8"
             },
             "line": {
              "color": "white"
             }
            },
            "header": {
             "fill": {
              "color": "#C8D4E3"
             },
             "line": {
              "color": "white"
             }
            },
            "type": "table"
           }
          ]
         },
         "layout": {
          "annotationdefaults": {
           "arrowcolor": "#2a3f5f",
           "arrowhead": 0,
           "arrowwidth": 1
          },
          "coloraxis": {
           "colorbar": {
            "outlinewidth": 0,
            "ticks": ""
           }
          },
          "colorscale": {
           "diverging": [
            [
             0,
             "#8e0152"
            ],
            [
             0.1,
             "#c51b7d"
            ],
            [
             0.2,
             "#de77ae"
            ],
            [
             0.3,
             "#f1b6da"
            ],
            [
             0.4,
             "#fde0ef"
            ],
            [
             0.5,
             "#f7f7f7"
            ],
            [
             0.6,
             "#e6f5d0"
            ],
            [
             0.7,
             "#b8e186"
            ],
            [
             0.8,
             "#7fbc41"
            ],
            [
             0.9,
             "#4d9221"
            ],
            [
             1,
             "#276419"
            ]
           ],
           "sequential": [
            [
             0,
             "#0d0887"
            ],
            [
             0.1111111111111111,
             "#46039f"
            ],
            [
             0.2222222222222222,
             "#7201a8"
            ],
            [
             0.3333333333333333,
             "#9c179e"
            ],
            [
             0.4444444444444444,
             "#bd3786"
            ],
            [
             0.5555555555555556,
             "#d8576b"
            ],
            [
             0.6666666666666666,
             "#ed7953"
            ],
            [
             0.7777777777777778,
             "#fb9f3a"
            ],
            [
             0.8888888888888888,
             "#fdca26"
            ],
            [
             1,
             "#f0f921"
            ]
           ],
           "sequentialminus": [
            [
             0,
             "#0d0887"
            ],
            [
             0.1111111111111111,
             "#46039f"
            ],
            [
             0.2222222222222222,
             "#7201a8"
            ],
            [
             0.3333333333333333,
             "#9c179e"
            ],
            [
             0.4444444444444444,
             "#bd3786"
            ],
            [
             0.5555555555555556,
             "#d8576b"
            ],
            [
             0.6666666666666666,
             "#ed7953"
            ],
            [
             0.7777777777777778,
             "#fb9f3a"
            ],
            [
             0.8888888888888888,
             "#fdca26"
            ],
            [
             1,
             "#f0f921"
            ]
           ]
          },
          "colorway": [
           "#636efa",
           "#EF553B",
           "#00cc96",
           "#ab63fa",
           "#FFA15A",
           "#19d3f3",
           "#FF6692",
           "#B6E880",
           "#FF97FF",
           "#FECB52"
          ],
          "font": {
           "color": "#2a3f5f"
          },
          "geo": {
           "bgcolor": "white",
           "lakecolor": "white",
           "landcolor": "#E5ECF6",
           "showlakes": true,
           "showland": true,
           "subunitcolor": "white"
          },
          "hoverlabel": {
           "align": "left"
          },
          "hovermode": "closest",
          "mapbox": {
           "style": "light"
          },
          "paper_bgcolor": "white",
          "plot_bgcolor": "#E5ECF6",
          "polar": {
           "angularaxis": {
            "gridcolor": "white",
            "linecolor": "white",
            "ticks": ""
           },
           "bgcolor": "#E5ECF6",
           "radialaxis": {
            "gridcolor": "white",
            "linecolor": "white",
            "ticks": ""
           }
          },
          "scene": {
           "xaxis": {
            "backgroundcolor": "#E5ECF6",
            "gridcolor": "white",
            "gridwidth": 2,
            "linecolor": "white",
            "showbackground": true,
            "ticks": "",
            "zerolinecolor": "white"
           },
           "yaxis": {
            "backgroundcolor": "#E5ECF6",
            "gridcolor": "white",
            "gridwidth": 2,
            "linecolor": "white",
            "showbackground": true,
            "ticks": "",
            "zerolinecolor": "white"
           },
           "zaxis": {
            "backgroundcolor": "#E5ECF6",
            "gridcolor": "white",
            "gridwidth": 2,
            "linecolor": "white",
            "showbackground": true,
            "ticks": "",
            "zerolinecolor": "white"
           }
          },
          "shapedefaults": {
           "line": {
            "color": "#2a3f5f"
           }
          },
          "ternary": {
           "aaxis": {
            "gridcolor": "white",
            "linecolor": "white",
            "ticks": ""
           },
           "baxis": {
            "gridcolor": "white",
            "linecolor": "white",
            "ticks": ""
           },
           "bgcolor": "#E5ECF6",
           "caxis": {
            "gridcolor": "white",
            "linecolor": "white",
            "ticks": ""
           }
          },
          "title": {
           "x": 0.05
          },
          "xaxis": {
           "automargin": true,
           "gridcolor": "white",
           "linecolor": "white",
           "ticks": "",
           "title": {
            "standoff": 15
           },
           "zerolinecolor": "white",
           "zerolinewidth": 2
          },
          "yaxis": {
           "automargin": true,
           "gridcolor": "white",
           "linecolor": "white",
           "ticks": "",
           "title": {
            "standoff": 15
           },
           "zerolinecolor": "white",
           "zerolinewidth": 2
          }
         }
        }
       }
      },
      "text/html": [
       "<div>                            <div id=\"05942b29-5df1-4a92-8955-9e2e4c76e860\" class=\"plotly-graph-div\" style=\"height:525px; width:100%;\"></div>            <script type=\"text/javascript\">                require([\"plotly\"], function(Plotly) {                    window.PLOTLYENV=window.PLOTLYENV || {};                                    if (document.getElementById(\"05942b29-5df1-4a92-8955-9e2e4c76e860\")) {                    Plotly.newPlot(                        \"05942b29-5df1-4a92-8955-9e2e4c76e860\",                        [{\"close\": [242.21, 252.86, 246.67, 244.78, 229.24, 224.37, 246.88, 245.52, 258.44, 247.74, 254.81, 254.29, 240.91, 244.93, 241.41, 262.47, 259.43, 266.07, 267.99, 273.25, 287.05, 284.43, 286.69, 282.8, 276.93, 268.37, 276.1, 275.03, 282.97, 283.17, 278.58, 287.73, 293.8, 289.07, 293.16, 297.56, 300.63, 303.74, 310.13, 315.01, 311.41, 307.65, 309.54, 307.71, 314.96, 313.14, 319.23, 316.85, 318.89, 316.73, 318.11, 318.25, 317.94, 321.85, 323.34, 325.12, 322.32, 331.5, 333.46, 343.99, 352.84, 335.9, 338.8, 342.99, 352.08, 351.59, 351.73, 349.72, 358.87, 366.53, 360.06, 364.84, 353.63, 361.78, 364.8, 364.11, 364.11, 373.85, 372.69, 381.37, 382.73, 383.68, 381.91, 388.23, 390.9, 386.09, 385.31, 393.43, 388.0, 389.09, 371.38, 370.46, 379.24, 373.01, 380.16, 384.76, 425.04, 435.75, 438.66, 440.25, 455.61, 444.45, 450.91, 437.5, 452.04, 460.04, 459.63, 458.43, 462.25, 462.83, 473.1, 497.48, 503.43, 499.3, 506.09, 500.04, 499.23], \"high\": [259.08, 257.61, 250.0, 252.84, 251.83, 228.5, 247.69, 258.25, 258.68, 255.87, 255.52, 262.49, 248.72, 245.15, 245.7, 263.11, 271.7, 267.37, 270.07, 273.7, 288.25, 286.33, 288.2, 286.95, 281.68, 277.25, 277.9, 281.75, 283.01, 284.54, 285.83, 289.67, 294.53, 299.0, 293.69, 301.0, 303.24, 305.17, 310.35, 317.05, 319.69, 315.95, 309.79, 307.9, 316.5, 318.52, 319.52, 320.89, 319.23, 324.24, 318.71, 323.44, 321.15, 322.35, 323.44, 326.2, 325.62, 331.75, 333.6, 345.61, 354.77, 351.06, 347.8, 345.68, 353.2, 355.4, 353.45, 356.56, 359.46, 372.38, 368.79, 365.0, 365.32, 362.17, 365.98, 367.36, 370.47, 375.78, 378.62, 381.5, 385.27, 383.92, 399.82, 389.02, 396.99, 389.62, 388.59, 394.0, 397.0, 391.9, 388.31, 371.88, 379.62, 378.2, 380.92, 385.19, 425.66, 446.55, 443.16, 441.57, 457.65, 454.7, 455.1, 449.93, 453.1, 464.17, 460.0, 464.35, 464.0, 468.65, 473.57, 499.47, 515.14, 500.72, 507.97, 509.94, 505.77], \"low\": [240.0, 238.4, 237.12, 242.61, 228.0, 212.61, 234.3, 244.3, 246.36, 247.05, 249.4, 252.0, 239.13, 236.9, 238.97, 249.38, 259.0, 261.23, 264.7, 265.83, 278.05, 280.63, 282.35, 276.86, 276.85, 265.43, 272.2, 274.87, 277.0, 279.95, 278.2, 283.89, 288.35, 285.85, 286.32, 294.46, 298.87, 301.97, 304.29, 307.24, 310.91, 303.21, 301.53, 300.21, 310.32, 313.01, 316.2, 315.87, 315.35, 316.5, 313.09, 315.63, 316.47, 317.21, 318.93, 322.3, 320.78, 323.23, 327.32, 332.01, 346.09, 335.48, 334.22, 332.58, 344.72, 351.09, 349.22, 345.15, 351.15, 362.27, 358.52, 357.57, 353.02, 351.28, 360.0, 363.91, 363.64, 369.87, 372.23, 376.36, 378.69, 378.82, 381.03, 375.51, 385.96, 383.62, 383.36, 384.25, 386.97, 386.41, 368.04, 356.58, 373.92, 372.99, 374.85, 375.07, 403.3, 431.57, 433.55, 435.59, 439.19, 441.17, 440.0, 436.43, 441.19, 455.71, 452.18, 455.85, 456.03, 462.44, 462.93, 477.0, 495.75, 492.21, 500.33, 495.33, 498.31], \"open\": [241.95, 247.51, 239.77, 247.39, 247.18, 228.08, 236.36, 250.75, 246.52, 252.75, 250.74, 255.6, 246.5, 240.34, 242.8, 250.9, 270.8, 262.74, 268.7, 268.31, 280.0, 282.4, 287.38, 284.69, 277.95, 276.28, 273.61, 275.87, 277.2, 281.8, 285.08, 284.73, 289.96, 286.25, 289.17, 295.06, 300.46, 303.22, 305.64, 308.1, 317.83, 312.15, 304.51, 300.35, 313.17, 315.03, 316.68, 318.66, 315.77, 323.5, 316.14, 316.77, 319.25, 317.75, 320.75, 324.66, 324.39, 323.35, 330.25, 332.14, 347.9, 349.31, 344.72, 333.25, 351.46, 355.15, 351.41, 354.64, 351.34, 364.0, 365.0, 360.7, 364.41, 353.25, 360.08, 365.12, 367.85, 370.0, 375.41, 376.72, 385.05, 381.34, 389.06, 379.36, 395.96, 386.25, 387.95, 385.67, 396.69, 386.77, 387.99, 363.95, 374.84, 377.47, 375.0, 376.75, 411.54, 432.8, 436.53, 437.51, 441.62, 452.82, 450.4, 447.88, 441.99, 457.72, 459.32, 464.25, 457.41, 463.93, 463.0, 477.05, 514.79, 498.79, 504.72, 508.57, 504.05], \"type\": \"candlestick\", \"x\": [\"3/16/2020\", \"3/17/2020\", \"3/18/2020\", \"3/19/2020\", \"3/20/2020\", \"3/23/2020\", \"3/24/2020\", \"3/25/2020\", \"3/26/2020\", \"3/27/2020\", \"3/30/2020\", \"3/31/2020\", \"4/1/2020\", \"4/2/2020\", \"4/3/2020\", \"4/6/2020\", \"4/7/2020\", \"4/8/2020\", \"4/9/2020\", \"4/13/2020\", \"4/14/2020\", \"4/15/2020\", \"4/16/2020\", \"4/17/2020\", \"4/20/2020\", \"4/21/2020\", \"4/22/2020\", \"4/23/2020\", \"4/24/2020\", \"4/27/2020\", \"4/28/2020\", \"4/29/2020\", \"4/30/2020\", \"5/1/2020\", \"5/4/2020\", \"5/5/2020\", \"5/6/2020\", \"5/7/2020\", \"5/8/2020\", \"5/11/2020\", \"5/12/2020\", \"5/13/2020\", \"5/14/2020\", \"5/15/2020\", \"5/18/2020\", \"5/19/2020\", \"5/20/2020\", \"5/21/2020\", \"5/22/2020\", \"5/26/2020\", \"5/27/2020\", \"5/28/2020\", \"5/29/2020\", \"6/1/2020\", \"6/2/2020\", \"6/3/2020\", \"6/4/2020\", \"6/5/2020\", \"6/8/2020\", \"6/9/2020\", \"6/10/2020\", \"6/11/2020\", \"6/12/2020\", \"6/15/2020\", \"6/16/2020\", \"6/17/2020\", \"6/18/2020\", \"6/19/2020\", \"6/22/2020\", \"6/23/2020\", \"6/24/2020\", \"6/25/2020\", \"6/26/2020\", \"6/29/2020\", \"6/30/2020\", \"7/1/2020\", \"7/2/2020\", \"7/6/2020\", \"7/7/2020\", \"7/8/2020\", \"7/9/2020\", \"7/10/2020\", \"7/13/2020\", \"7/14/2020\", \"7/15/2020\", \"7/16/2020\", \"7/17/2020\", \"7/20/2020\", \"7/21/2020\", \"7/22/2020\", \"7/23/2020\", \"7/24/2020\", \"7/27/2020\", \"7/28/2020\", \"7/29/2020\", \"7/30/2020\", \"7/31/2020\", \"8/3/2020\", \"8/4/2020\", \"8/5/2020\", \"8/6/2020\", \"8/7/2020\", \"8/10/2020\", \"8/11/2020\", \"8/12/2020\", \"8/13/2020\", \"8/14/2020\", \"8/17/2020\", \"8/18/2020\", \"8/19/2020\", \"8/20/2020\", \"8/21/2020\", \"8/24/2020\", \"8/25/2020\", \"8/26/2020\", \"8/27/2020\", \"8/28/2020\"]}],                        {\"template\": {\"data\": {\"bar\": [{\"error_x\": {\"color\": \"#2a3f5f\"}, \"error_y\": {\"color\": \"#2a3f5f\"}, \"marker\": {\"line\": {\"color\": \"#E5ECF6\", \"width\": 0.5}}, \"type\": \"bar\"}], \"barpolar\": [{\"marker\": {\"line\": {\"color\": \"#E5ECF6\", \"width\": 0.5}}, \"type\": \"barpolar\"}], \"carpet\": [{\"aaxis\": {\"endlinecolor\": \"#2a3f5f\", \"gridcolor\": \"white\", \"linecolor\": \"white\", \"minorgridcolor\": \"white\", \"startlinecolor\": \"#2a3f5f\"}, \"baxis\": {\"endlinecolor\": \"#2a3f5f\", \"gridcolor\": \"white\", \"linecolor\": \"white\", \"minorgridcolor\": \"white\", \"startlinecolor\": \"#2a3f5f\"}, \"type\": \"carpet\"}], \"choropleth\": [{\"colorbar\": {\"outlinewidth\": 0, \"ticks\": \"\"}, \"type\": \"choropleth\"}], \"contour\": [{\"colorbar\": {\"outlinewidth\": 0, \"ticks\": \"\"}, \"colorscale\": [[0.0, \"#0d0887\"], [0.1111111111111111, \"#46039f\"], [0.2222222222222222, \"#7201a8\"], [0.3333333333333333, \"#9c179e\"], [0.4444444444444444, \"#bd3786\"], [0.5555555555555556, \"#d8576b\"], [0.6666666666666666, \"#ed7953\"], [0.7777777777777778, \"#fb9f3a\"], [0.8888888888888888, \"#fdca26\"], [1.0, \"#f0f921\"]], \"type\": \"contour\"}], \"contourcarpet\": [{\"colorbar\": {\"outlinewidth\": 0, \"ticks\": \"\"}, \"type\": \"contourcarpet\"}], \"heatmap\": [{\"colorbar\": {\"outlinewidth\": 0, \"ticks\": \"\"}, \"colorscale\": [[0.0, \"#0d0887\"], [0.1111111111111111, \"#46039f\"], [0.2222222222222222, \"#7201a8\"], [0.3333333333333333, \"#9c179e\"], [0.4444444444444444, \"#bd3786\"], [0.5555555555555556, \"#d8576b\"], [0.6666666666666666, \"#ed7953\"], [0.7777777777777778, \"#fb9f3a\"], [0.8888888888888888, \"#fdca26\"], [1.0, \"#f0f921\"]], \"type\": \"heatmap\"}], \"heatmapgl\": [{\"colorbar\": {\"outlinewidth\": 0, \"ticks\": \"\"}, \"colorscale\": [[0.0, \"#0d0887\"], [0.1111111111111111, \"#46039f\"], [0.2222222222222222, \"#7201a8\"], [0.3333333333333333, \"#9c179e\"], [0.4444444444444444, \"#bd3786\"], [0.5555555555555556, \"#d8576b\"], [0.6666666666666666, \"#ed7953\"], [0.7777777777777778, \"#fb9f3a\"], [0.8888888888888888, \"#fdca26\"], [1.0, \"#f0f921\"]], \"type\": \"heatmapgl\"}], \"histogram\": [{\"marker\": {\"colorbar\": {\"outlinewidth\": 0, \"ticks\": \"\"}}, \"type\": \"histogram\"}], \"histogram2d\": [{\"colorbar\": {\"outlinewidth\": 0, \"ticks\": \"\"}, \"colorscale\": [[0.0, \"#0d0887\"], [0.1111111111111111, \"#46039f\"], [0.2222222222222222, \"#7201a8\"], [0.3333333333333333, \"#9c179e\"], [0.4444444444444444, \"#bd3786\"], [0.5555555555555556, \"#d8576b\"], [0.6666666666666666, \"#ed7953\"], [0.7777777777777778, \"#fb9f3a\"], [0.8888888888888888, \"#fdca26\"], [1.0, \"#f0f921\"]], \"type\": \"histogram2d\"}], \"histogram2dcontour\": [{\"colorbar\": {\"outlinewidth\": 0, \"ticks\": \"\"}, \"colorscale\": [[0.0, \"#0d0887\"], [0.1111111111111111, \"#46039f\"], [0.2222222222222222, \"#7201a8\"], [0.3333333333333333, \"#9c179e\"], [0.4444444444444444, \"#bd3786\"], [0.5555555555555556, \"#d8576b\"], [0.6666666666666666, \"#ed7953\"], [0.7777777777777778, \"#fb9f3a\"], [0.8888888888888888, \"#fdca26\"], [1.0, \"#f0f921\"]], \"type\": \"histogram2dcontour\"}], \"mesh3d\": [{\"colorbar\": {\"outlinewidth\": 0, \"ticks\": \"\"}, \"type\": \"mesh3d\"}], \"parcoords\": [{\"line\": {\"colorbar\": {\"outlinewidth\": 0, \"ticks\": \"\"}}, \"type\": \"parcoords\"}], \"pie\": [{\"automargin\": true, \"type\": \"pie\"}], \"scatter\": [{\"marker\": {\"colorbar\": {\"outlinewidth\": 0, \"ticks\": \"\"}}, \"type\": \"scatter\"}], \"scatter3d\": [{\"line\": {\"colorbar\": {\"outlinewidth\": 0, \"ticks\": \"\"}}, \"marker\": {\"colorbar\": {\"outlinewidth\": 0, \"ticks\": \"\"}}, \"type\": \"scatter3d\"}], \"scattercarpet\": [{\"marker\": {\"colorbar\": {\"outlinewidth\": 0, \"ticks\": \"\"}}, \"type\": \"scattercarpet\"}], \"scattergeo\": [{\"marker\": {\"colorbar\": {\"outlinewidth\": 0, \"ticks\": \"\"}}, \"type\": \"scattergeo\"}], \"scattergl\": [{\"marker\": {\"colorbar\": {\"outlinewidth\": 0, \"ticks\": \"\"}}, \"type\": \"scattergl\"}], \"scattermapbox\": [{\"marker\": {\"colorbar\": {\"outlinewidth\": 0, \"ticks\": \"\"}}, \"type\": \"scattermapbox\"}], \"scatterpolar\": [{\"marker\": {\"colorbar\": {\"outlinewidth\": 0, \"ticks\": \"\"}}, \"type\": \"scatterpolar\"}], \"scatterpolargl\": [{\"marker\": {\"colorbar\": {\"outlinewidth\": 0, \"ticks\": \"\"}}, \"type\": \"scatterpolargl\"}], \"scatterternary\": [{\"marker\": {\"colorbar\": {\"outlinewidth\": 0, \"ticks\": \"\"}}, \"type\": \"scatterternary\"}], \"surface\": [{\"colorbar\": {\"outlinewidth\": 0, \"ticks\": \"\"}, \"colorscale\": [[0.0, \"#0d0887\"], [0.1111111111111111, \"#46039f\"], [0.2222222222222222, \"#7201a8\"], [0.3333333333333333, \"#9c179e\"], [0.4444444444444444, \"#bd3786\"], [0.5555555555555556, \"#d8576b\"], [0.6666666666666666, \"#ed7953\"], [0.7777777777777778, \"#fb9f3a\"], [0.8888888888888888, \"#fdca26\"], [1.0, \"#f0f921\"]], \"type\": \"surface\"}], \"table\": [{\"cells\": {\"fill\": {\"color\": \"#EBF0F8\"}, \"line\": {\"color\": \"white\"}}, \"header\": {\"fill\": {\"color\": \"#C8D4E3\"}, \"line\": {\"color\": \"white\"}}, \"type\": \"table\"}]}, \"layout\": {\"annotationdefaults\": {\"arrowcolor\": \"#2a3f5f\", \"arrowhead\": 0, \"arrowwidth\": 1}, \"coloraxis\": {\"colorbar\": {\"outlinewidth\": 0, \"ticks\": \"\"}}, \"colorscale\": {\"diverging\": [[0, \"#8e0152\"], [0.1, \"#c51b7d\"], [0.2, \"#de77ae\"], [0.3, \"#f1b6da\"], [0.4, \"#fde0ef\"], [0.5, \"#f7f7f7\"], [0.6, \"#e6f5d0\"], [0.7, \"#b8e186\"], [0.8, \"#7fbc41\"], [0.9, \"#4d9221\"], [1, \"#276419\"]], \"sequential\": [[0.0, \"#0d0887\"], [0.1111111111111111, \"#46039f\"], [0.2222222222222222, \"#7201a8\"], [0.3333333333333333, \"#9c179e\"], [0.4444444444444444, \"#bd3786\"], [0.5555555555555556, \"#d8576b\"], [0.6666666666666666, \"#ed7953\"], [0.7777777777777778, \"#fb9f3a\"], [0.8888888888888888, \"#fdca26\"], [1.0, \"#f0f921\"]], \"sequentialminus\": [[0.0, \"#0d0887\"], [0.1111111111111111, \"#46039f\"], [0.2222222222222222, \"#7201a8\"], [0.3333333333333333, \"#9c179e\"], [0.4444444444444444, \"#bd3786\"], [0.5555555555555556, \"#d8576b\"], [0.6666666666666666, \"#ed7953\"], [0.7777777777777778, \"#fb9f3a\"], [0.8888888888888888, \"#fdca26\"], [1.0, \"#f0f921\"]]}, \"colorway\": [\"#636efa\", \"#EF553B\", \"#00cc96\", \"#ab63fa\", \"#FFA15A\", \"#19d3f3\", \"#FF6692\", \"#B6E880\", \"#FF97FF\", \"#FECB52\"], \"font\": {\"color\": \"#2a3f5f\"}, \"geo\": {\"bgcolor\": \"white\", \"lakecolor\": \"white\", \"landcolor\": \"#E5ECF6\", \"showlakes\": true, \"showland\": true, \"subunitcolor\": \"white\"}, \"hoverlabel\": {\"align\": \"left\"}, \"hovermode\": \"closest\", \"mapbox\": {\"style\": \"light\"}, \"paper_bgcolor\": \"white\", \"plot_bgcolor\": \"#E5ECF6\", \"polar\": {\"angularaxis\": {\"gridcolor\": \"white\", \"linecolor\": \"white\", \"ticks\": \"\"}, \"bgcolor\": \"#E5ECF6\", \"radialaxis\": {\"gridcolor\": \"white\", \"linecolor\": \"white\", \"ticks\": \"\"}}, \"scene\": {\"xaxis\": {\"backgroundcolor\": \"#E5ECF6\", \"gridcolor\": \"white\", \"gridwidth\": 2, \"linecolor\": \"white\", \"showbackground\": true, \"ticks\": \"\", \"zerolinecolor\": \"white\"}, \"yaxis\": {\"backgroundcolor\": \"#E5ECF6\", \"gridcolor\": \"white\", \"gridwidth\": 2, \"linecolor\": \"white\", \"showbackground\": true, \"ticks\": \"\", \"zerolinecolor\": \"white\"}, \"zaxis\": {\"backgroundcolor\": \"#E5ECF6\", \"gridcolor\": \"white\", \"gridwidth\": 2, \"linecolor\": \"white\", \"showbackground\": true, \"ticks\": \"\", \"zerolinecolor\": \"white\"}}, \"shapedefaults\": {\"line\": {\"color\": \"#2a3f5f\"}}, \"ternary\": {\"aaxis\": {\"gridcolor\": \"white\", \"linecolor\": \"white\", \"ticks\": \"\"}, \"baxis\": {\"gridcolor\": \"white\", \"linecolor\": \"white\", \"ticks\": \"\"}, \"bgcolor\": \"#E5ECF6\", \"caxis\": {\"gridcolor\": \"white\", \"linecolor\": \"white\", \"ticks\": \"\"}}, \"title\": {\"x\": 0.05}, \"xaxis\": {\"automargin\": true, \"gridcolor\": \"white\", \"linecolor\": \"white\", \"ticks\": \"\", \"title\": {\"standoff\": 15}, \"zerolinecolor\": \"white\", \"zerolinewidth\": 2}, \"yaxis\": {\"automargin\": true, \"gridcolor\": \"white\", \"linecolor\": \"white\", \"ticks\": \"\", \"title\": {\"standoff\": 15}, \"zerolinecolor\": \"white\", \"zerolinewidth\": 2}}}},                        {\"responsive\": true}                    ).then(function(){\n",
       "                            \n",
       "var gd = document.getElementById('05942b29-5df1-4a92-8955-9e2e4c76e860');\n",
       "var x = new MutationObserver(function (mutations, observer) {{\n",
       "        var display = window.getComputedStyle(gd).display;\n",
       "        if (!display || display === 'none') {{\n",
       "            console.log([gd, 'removed!']);\n",
       "            Plotly.purge(gd);\n",
       "            observer.disconnect();\n",
       "        }}\n",
       "}});\n",
       "\n",
       "// Listen for the removal of the full notebook cells\n",
       "var notebookContainer = gd.closest('#notebook-container');\n",
       "if (notebookContainer) {{\n",
       "    x.observe(notebookContainer, {childList: true});\n",
       "}}\n",
       "\n",
       "// Listen for the clearing of the current output cell\n",
       "var outputEl = gd.closest('.output');\n",
       "if (outputEl) {{\n",
       "    x.observe(outputEl, {childList: true});\n",
       "}}\n",
       "\n",
       "                        })                };                });            </script>        </div>"
      ]
     },
     "metadata": {},
     "output_type": "display_data"
    }
   ],
   "source": [
    "fig = go.Figure(data=[go.Candlestick(x=AAPL['Date'],\n",
    "                                    open = AAPL['Open'],\n",
    "                                    high = AAPL['High'],\n",
    "                                    low = AAPL['Low'],\n",
    "                                    close = AAPL['Close'])])\n",
    "fig.show()"
   ]
  },
  {
   "cell_type": "code",
   "execution_count": 452,
   "metadata": {},
   "outputs": [
    {
     "data": {
      "application/vnd.plotly.v1+json": {
       "config": {
        "plotlyServerURL": "https://plot.ly"
       },
       "data": [
        {
         "close": [
          1689.15,
          1807.84,
          1830,
          1880.93,
          1846.09,
          1902.83,
          1940.1,
          1885.84,
          1955.49,
          1900.1,
          1963.95,
          1949.72,
          1907.7,
          1918.83,
          1906.59,
          1997.59,
          2011.6,
          2043,
          2042.76,
          2168.87,
          2283.32,
          2307.68,
          2408.19,
          2375,
          2393.61,
          2328.12,
          2363.49,
          2399.45,
          2410.22,
          2376,
          2314.08,
          2372.71,
          2474,
          2286.04,
          2315.99,
          2317.8,
          2351.26,
          2367.61,
          2379.61,
          2409,
          2356.95,
          2367.92,
          2388.85,
          2409.78,
          2426.26,
          2449.33,
          2497.94,
          2446.74,
          2436.88,
          2421.86,
          2410.39,
          2401.1,
          2442.37,
          2471.04,
          2472.41,
          2478.4,
          2460.6,
          2483,
          2524.06,
          2600.86,
          2647.45,
          2557.96,
          2545.02,
          2572.68,
          2615.27,
          2640.98,
          2653.98,
          2675.01,
          2713.82,
          2764.41,
          2734.4,
          2754.58,
          2692.87,
          2680.38,
          2758.82,
          2878.7,
          2890.3,
          3057.04,
          3000.12,
          3081.11,
          3182.63,
          3200,
          3104,
          3084,
          3008.87,
          2999.9,
          2961.97,
          3196.84,
          3138.29,
          3099.91,
          2986.55,
          3008.91,
          3055.21,
          3000.33,
          3033.53,
          3051.88,
          3164.68,
          3111.89,
          3138.83,
          3205.03,
          3225,
          3167.46,
          3148.16,
          3080.67,
          3162.24,
          3161.02,
          3148.02,
          3182.41,
          3312.49,
          3260.48,
          3297.37,
          3284.72,
          3307.46,
          3346.49,
          3441.85,
          3400,
          3401.8
         ],
         "high": [
          1759.45,
          1857.78,
          1841.66,
          1945,
          1957,
          1919.4,
          1955,
          1950.26,
          1956.49,
          1939.79,
          1973.63,
          1993.02,
          1944.96,
          1927.53,
          1926.33,
          1998.52,
          2035.72,
          2044,
          2053,
          2180,
          2292,
          2333.37,
          2461,
          2400,
          2444.98,
          2428.31,
          2394,
          2424.22,
          2420.43,
          2444.88,
          2373.5,
          2391.89,
          2475,
          2362.44,
          2326.98,
          2351,
          2357.45,
          2376,
          2387.24,
          2419.67,
          2419,
          2407.7,
          2391.37,
          2411,
          2433,
          2485,
          2500.01,
          2525.45,
          2469.85,
          2462,
          2413.58,
          2436.97,
          2442.37,
          2476.93,
          2473.53,
          2488,
          2507.54,
          2488.65,
          2530,
          2626.43,
          2722.35,
          2671.38,
          2621.48,
          2584,
          2620,
          2655,
          2659.64,
          2697.43,
          2715,
          2783.11,
          2796,
          2756.23,
          2782.57,
          2696.8,
          2769.63,
          2895,
          2955.56,
          3059.88,
          3069.55,
          3083.97,
          3193.88,
          3215,
          3344.29,
          3127.38,
          3098.35,
          3032,
          3024,
          3201.36,
          3240.58,
          3150,
          3098.27,
          3031.58,
          3098,
          3077.09,
          3039.16,
          3092,
          3246.82,
          3184,
          3167.24,
          3213.59,
          3247.47,
          3240.81,
          3172.51,
          3159.22,
          3174.39,
          3217.52,
          3178.24,
          3194.97,
          3320,
          3315.9,
          3312.62,
          3314.4,
          3380.32,
          3357.4,
          3451.74,
          3453,
          3433.37
         ],
         "low": [
          1626.03,
          1689.24,
          1745,
          1832.65,
          1820.73,
          1812,
          1900.34,
          1885.78,
          1889.29,
          1899.92,
          1912.34,
          1944.01,
          1893,
          1890,
          1889.15,
          1930.02,
          1997.62,
          2011.15,
          2017.66,
          2038,
          2186.21,
          2245,
          2335,
          2316.02,
          2386.05,
          2279.66,
          2351,
          2382.08,
          2382,
          2363,
          2306,
          2310,
          2396.01,
          2258.19,
          2256.38,
          2307.13,
          2320,
          2343.11,
          2357,
          2372.11,
          2355,
          2337.81,
          2353.21,
          2356.37,
          2384.01,
          2428.97,
          2467.27,
          2442.54,
          2430.13,
          2414.06,
          2330,
          2378.23,
          2398.2,
          2444.17,
          2445.31,
          2461.17,
          2450.01,
          2437.13,
          2487.34,
          2525,
          2626.26,
          2536.23,
          2503.35,
          2508,
          2576,
          2631.82,
          2636.11,
          2659,
          2669,
          2718.04,
          2721,
          2712.14,
          2688,
          2630.08,
          2675.03,
          2754,
          2871.1,
          2930,
          2990,
          3012.43,
          3074,
          3135.7,
          3068.39,
          2950,
          2973.18,
          2918.23,
          2948.45,
          2994.02,
          3105.72,
          3065.26,
          2970,
          2888,
          3015.77,
          2995.76,
          2996.77,
          3005,
          3151,
          3104,
          3101.21,
          3127.3,
          3165.43,
          3140.67,
          3101.52,
          3073,
          3101.42,
          3155,
          3120,
          3154.18,
          3205.82,
          3256,
          3238,
          3275.39,
          3257.56,
          3267,
          3344.57,
          3378,
          3386.5
         ],
         "open": [
          1641.51,
          1775.47,
          1750,
          1860,
          1926.31,
          1827.75,
          1951.5,
          1920.69,
          1902,
          1930.86,
          1922.83,
          1964.35,
          1932.97,
          1901.64,
          1911.15,
          1936,
          2017.11,
          2021,
          2044.3,
          2040,
          2200.47,
          2257.68,
          2346,
          2372.33,
          2389.95,
          2416.61,
          2369,
          2399.98,
          2417,
          2443.2,
          2372.1,
          2330.01,
          2419.84,
          2336.8,
          2256.38,
          2340,
          2329.44,
          2374.78,
          2372.14,
          2374.7,
          2411.85,
          2366.8,
          2361.01,
          2368.52,
          2404.35,
          2429.83,
          2477.87,
          2500,
          2455.01,
          2458,
          2404.99,
          2384.33,
          2415.94,
          2448,
          2467,
          2468.01,
          2477.43,
          2444.51,
          2500.2,
          2529.44,
          2645,
          2603.5,
          2601.21,
          2526.6,
          2620,
          2647.5,
          2647.01,
          2678.08,
          2684.5,
          2726.02,
          2780,
          2739.55,
          2775.06,
          2690.01,
          2685.07,
          2757.99,
          2912.01,
          2934.97,
          3058.55,
          3022.61,
          3115.99,
          3191.76,
          3251.06,
          3089,
          3080.23,
          2971.06,
          3009,
          3000.2,
          3232.49,
          3125,
          3098.27,
          2930,
          3062,
          3054.27,
          3030.99,
          3014,
          3244,
          3180.51,
          3101.21,
          3143.77,
          3194.36,
          3224.01,
          3170.31,
          3113.2,
          3108,
          3182.99,
          3178.18,
          3173.12,
          3212,
          3303.01,
          3252,
          3295,
          3310.15,
          3294.99,
          3351.11,
          3450.05,
          3423
         ],
         "type": "candlestick",
         "x": [
          "3/16/2020",
          "3/17/2020",
          "3/18/2020",
          "3/19/2020",
          "3/20/2020",
          "3/23/2020",
          "3/24/2020",
          "3/25/2020",
          "3/26/2020",
          "3/27/2020",
          "3/30/2020",
          "3/31/2020",
          "4/1/2020",
          "4/2/2020",
          "4/3/2020",
          "4/6/2020",
          "4/7/2020",
          "4/8/2020",
          "4/9/2020",
          "4/13/2020",
          "4/14/2020",
          "4/15/2020",
          "4/16/2020",
          "4/17/2020",
          "4/20/2020",
          "4/21/2020",
          "4/22/2020",
          "4/23/2020",
          "4/24/2020",
          "4/27/2020",
          "4/28/2020",
          "4/29/2020",
          "4/30/2020",
          "5/1/2020",
          "5/4/2020",
          "5/5/2020",
          "5/6/2020",
          "5/7/2020",
          "5/8/2020",
          "5/11/2020",
          "5/12/2020",
          "5/13/2020",
          "5/14/2020",
          "5/15/2020",
          "5/18/2020",
          "5/19/2020",
          "5/20/2020",
          "5/21/2020",
          "5/22/2020",
          "5/26/2020",
          "5/27/2020",
          "5/28/2020",
          "5/29/2020",
          "6/1/2020",
          "6/2/2020",
          "6/3/2020",
          "6/4/2020",
          "6/5/2020",
          "6/8/2020",
          "6/9/2020",
          "6/10/2020",
          "6/11/2020",
          "6/12/2020",
          "6/15/2020",
          "6/16/2020",
          "6/17/2020",
          "6/18/2020",
          "6/19/2020",
          "6/22/2020",
          "6/23/2020",
          "6/24/2020",
          "6/25/2020",
          "6/26/2020",
          "6/29/2020",
          "6/30/2020",
          "7/1/2020",
          "7/2/2020",
          "7/6/2020",
          "7/7/2020",
          "7/8/2020",
          "7/9/2020",
          "7/10/2020",
          "7/13/2020",
          "7/14/2020",
          "7/15/2020",
          "7/16/2020",
          "7/17/2020",
          "7/20/2020",
          "7/21/2020",
          "7/22/2020",
          "7/23/2020",
          "7/24/2020",
          "7/27/2020",
          "7/28/2020",
          "7/29/2020",
          "7/30/2020",
          "7/31/2020",
          "8/3/2020",
          "8/4/2020",
          "8/5/2020",
          "8/6/2020",
          "8/7/2020",
          "8/10/2020",
          "8/11/2020",
          "8/12/2020",
          "8/13/2020",
          "8/14/2020",
          "8/17/2020",
          "8/18/2020",
          "8/19/2020",
          "8/20/2020",
          "8/21/2020",
          "8/24/2020",
          "8/25/2020",
          "8/26/2020",
          "8/27/2020",
          "8/28/2020"
         ]
        }
       ],
       "layout": {
        "template": {
         "data": {
          "bar": [
           {
            "error_x": {
             "color": "#2a3f5f"
            },
            "error_y": {
             "color": "#2a3f5f"
            },
            "marker": {
             "line": {
              "color": "#E5ECF6",
              "width": 0.5
             }
            },
            "type": "bar"
           }
          ],
          "barpolar": [
           {
            "marker": {
             "line": {
              "color": "#E5ECF6",
              "width": 0.5
             }
            },
            "type": "barpolar"
           }
          ],
          "carpet": [
           {
            "aaxis": {
             "endlinecolor": "#2a3f5f",
             "gridcolor": "white",
             "linecolor": "white",
             "minorgridcolor": "white",
             "startlinecolor": "#2a3f5f"
            },
            "baxis": {
             "endlinecolor": "#2a3f5f",
             "gridcolor": "white",
             "linecolor": "white",
             "minorgridcolor": "white",
             "startlinecolor": "#2a3f5f"
            },
            "type": "carpet"
           }
          ],
          "choropleth": [
           {
            "colorbar": {
             "outlinewidth": 0,
             "ticks": ""
            },
            "type": "choropleth"
           }
          ],
          "contour": [
           {
            "colorbar": {
             "outlinewidth": 0,
             "ticks": ""
            },
            "colorscale": [
             [
              0,
              "#0d0887"
             ],
             [
              0.1111111111111111,
              "#46039f"
             ],
             [
              0.2222222222222222,
              "#7201a8"
             ],
             [
              0.3333333333333333,
              "#9c179e"
             ],
             [
              0.4444444444444444,
              "#bd3786"
             ],
             [
              0.5555555555555556,
              "#d8576b"
             ],
             [
              0.6666666666666666,
              "#ed7953"
             ],
             [
              0.7777777777777778,
              "#fb9f3a"
             ],
             [
              0.8888888888888888,
              "#fdca26"
             ],
             [
              1,
              "#f0f921"
             ]
            ],
            "type": "contour"
           }
          ],
          "contourcarpet": [
           {
            "colorbar": {
             "outlinewidth": 0,
             "ticks": ""
            },
            "type": "contourcarpet"
           }
          ],
          "heatmap": [
           {
            "colorbar": {
             "outlinewidth": 0,
             "ticks": ""
            },
            "colorscale": [
             [
              0,
              "#0d0887"
             ],
             [
              0.1111111111111111,
              "#46039f"
             ],
             [
              0.2222222222222222,
              "#7201a8"
             ],
             [
              0.3333333333333333,
              "#9c179e"
             ],
             [
              0.4444444444444444,
              "#bd3786"
             ],
             [
              0.5555555555555556,
              "#d8576b"
             ],
             [
              0.6666666666666666,
              "#ed7953"
             ],
             [
              0.7777777777777778,
              "#fb9f3a"
             ],
             [
              0.8888888888888888,
              "#fdca26"
             ],
             [
              1,
              "#f0f921"
             ]
            ],
            "type": "heatmap"
           }
          ],
          "heatmapgl": [
           {
            "colorbar": {
             "outlinewidth": 0,
             "ticks": ""
            },
            "colorscale": [
             [
              0,
              "#0d0887"
             ],
             [
              0.1111111111111111,
              "#46039f"
             ],
             [
              0.2222222222222222,
              "#7201a8"
             ],
             [
              0.3333333333333333,
              "#9c179e"
             ],
             [
              0.4444444444444444,
              "#bd3786"
             ],
             [
              0.5555555555555556,
              "#d8576b"
             ],
             [
              0.6666666666666666,
              "#ed7953"
             ],
             [
              0.7777777777777778,
              "#fb9f3a"
             ],
             [
              0.8888888888888888,
              "#fdca26"
             ],
             [
              1,
              "#f0f921"
             ]
            ],
            "type": "heatmapgl"
           }
          ],
          "histogram": [
           {
            "marker": {
             "colorbar": {
              "outlinewidth": 0,
              "ticks": ""
             }
            },
            "type": "histogram"
           }
          ],
          "histogram2d": [
           {
            "colorbar": {
             "outlinewidth": 0,
             "ticks": ""
            },
            "colorscale": [
             [
              0,
              "#0d0887"
             ],
             [
              0.1111111111111111,
              "#46039f"
             ],
             [
              0.2222222222222222,
              "#7201a8"
             ],
             [
              0.3333333333333333,
              "#9c179e"
             ],
             [
              0.4444444444444444,
              "#bd3786"
             ],
             [
              0.5555555555555556,
              "#d8576b"
             ],
             [
              0.6666666666666666,
              "#ed7953"
             ],
             [
              0.7777777777777778,
              "#fb9f3a"
             ],
             [
              0.8888888888888888,
              "#fdca26"
             ],
             [
              1,
              "#f0f921"
             ]
            ],
            "type": "histogram2d"
           }
          ],
          "histogram2dcontour": [
           {
            "colorbar": {
             "outlinewidth": 0,
             "ticks": ""
            },
            "colorscale": [
             [
              0,
              "#0d0887"
             ],
             [
              0.1111111111111111,
              "#46039f"
             ],
             [
              0.2222222222222222,
              "#7201a8"
             ],
             [
              0.3333333333333333,
              "#9c179e"
             ],
             [
              0.4444444444444444,
              "#bd3786"
             ],
             [
              0.5555555555555556,
              "#d8576b"
             ],
             [
              0.6666666666666666,
              "#ed7953"
             ],
             [
              0.7777777777777778,
              "#fb9f3a"
             ],
             [
              0.8888888888888888,
              "#fdca26"
             ],
             [
              1,
              "#f0f921"
             ]
            ],
            "type": "histogram2dcontour"
           }
          ],
          "mesh3d": [
           {
            "colorbar": {
             "outlinewidth": 0,
             "ticks": ""
            },
            "type": "mesh3d"
           }
          ],
          "parcoords": [
           {
            "line": {
             "colorbar": {
              "outlinewidth": 0,
              "ticks": ""
             }
            },
            "type": "parcoords"
           }
          ],
          "pie": [
           {
            "automargin": true,
            "type": "pie"
           }
          ],
          "scatter": [
           {
            "marker": {
             "colorbar": {
              "outlinewidth": 0,
              "ticks": ""
             }
            },
            "type": "scatter"
           }
          ],
          "scatter3d": [
           {
            "line": {
             "colorbar": {
              "outlinewidth": 0,
              "ticks": ""
             }
            },
            "marker": {
             "colorbar": {
              "outlinewidth": 0,
              "ticks": ""
             }
            },
            "type": "scatter3d"
           }
          ],
          "scattercarpet": [
           {
            "marker": {
             "colorbar": {
              "outlinewidth": 0,
              "ticks": ""
             }
            },
            "type": "scattercarpet"
           }
          ],
          "scattergeo": [
           {
            "marker": {
             "colorbar": {
              "outlinewidth": 0,
              "ticks": ""
             }
            },
            "type": "scattergeo"
           }
          ],
          "scattergl": [
           {
            "marker": {
             "colorbar": {
              "outlinewidth": 0,
              "ticks": ""
             }
            },
            "type": "scattergl"
           }
          ],
          "scattermapbox": [
           {
            "marker": {
             "colorbar": {
              "outlinewidth": 0,
              "ticks": ""
             }
            },
            "type": "scattermapbox"
           }
          ],
          "scatterpolar": [
           {
            "marker": {
             "colorbar": {
              "outlinewidth": 0,
              "ticks": ""
             }
            },
            "type": "scatterpolar"
           }
          ],
          "scatterpolargl": [
           {
            "marker": {
             "colorbar": {
              "outlinewidth": 0,
              "ticks": ""
             }
            },
            "type": "scatterpolargl"
           }
          ],
          "scatterternary": [
           {
            "marker": {
             "colorbar": {
              "outlinewidth": 0,
              "ticks": ""
             }
            },
            "type": "scatterternary"
           }
          ],
          "surface": [
           {
            "colorbar": {
             "outlinewidth": 0,
             "ticks": ""
            },
            "colorscale": [
             [
              0,
              "#0d0887"
             ],
             [
              0.1111111111111111,
              "#46039f"
             ],
             [
              0.2222222222222222,
              "#7201a8"
             ],
             [
              0.3333333333333333,
              "#9c179e"
             ],
             [
              0.4444444444444444,
              "#bd3786"
             ],
             [
              0.5555555555555556,
              "#d8576b"
             ],
             [
              0.6666666666666666,
              "#ed7953"
             ],
             [
              0.7777777777777778,
              "#fb9f3a"
             ],
             [
              0.8888888888888888,
              "#fdca26"
             ],
             [
              1,
              "#f0f921"
             ]
            ],
            "type": "surface"
           }
          ],
          "table": [
           {
            "cells": {
             "fill": {
              "color": "#EBF0F8"
             },
             "line": {
              "color": "white"
             }
            },
            "header": {
             "fill": {
              "color": "#C8D4E3"
             },
             "line": {
              "color": "white"
             }
            },
            "type": "table"
           }
          ]
         },
         "layout": {
          "annotationdefaults": {
           "arrowcolor": "#2a3f5f",
           "arrowhead": 0,
           "arrowwidth": 1
          },
          "coloraxis": {
           "colorbar": {
            "outlinewidth": 0,
            "ticks": ""
           }
          },
          "colorscale": {
           "diverging": [
            [
             0,
             "#8e0152"
            ],
            [
             0.1,
             "#c51b7d"
            ],
            [
             0.2,
             "#de77ae"
            ],
            [
             0.3,
             "#f1b6da"
            ],
            [
             0.4,
             "#fde0ef"
            ],
            [
             0.5,
             "#f7f7f7"
            ],
            [
             0.6,
             "#e6f5d0"
            ],
            [
             0.7,
             "#b8e186"
            ],
            [
             0.8,
             "#7fbc41"
            ],
            [
             0.9,
             "#4d9221"
            ],
            [
             1,
             "#276419"
            ]
           ],
           "sequential": [
            [
             0,
             "#0d0887"
            ],
            [
             0.1111111111111111,
             "#46039f"
            ],
            [
             0.2222222222222222,
             "#7201a8"
            ],
            [
             0.3333333333333333,
             "#9c179e"
            ],
            [
             0.4444444444444444,
             "#bd3786"
            ],
            [
             0.5555555555555556,
             "#d8576b"
            ],
            [
             0.6666666666666666,
             "#ed7953"
            ],
            [
             0.7777777777777778,
             "#fb9f3a"
            ],
            [
             0.8888888888888888,
             "#fdca26"
            ],
            [
             1,
             "#f0f921"
            ]
           ],
           "sequentialminus": [
            [
             0,
             "#0d0887"
            ],
            [
             0.1111111111111111,
             "#46039f"
            ],
            [
             0.2222222222222222,
             "#7201a8"
            ],
            [
             0.3333333333333333,
             "#9c179e"
            ],
            [
             0.4444444444444444,
             "#bd3786"
            ],
            [
             0.5555555555555556,
             "#d8576b"
            ],
            [
             0.6666666666666666,
             "#ed7953"
            ],
            [
             0.7777777777777778,
             "#fb9f3a"
            ],
            [
             0.8888888888888888,
             "#fdca26"
            ],
            [
             1,
             "#f0f921"
            ]
           ]
          },
          "colorway": [
           "#636efa",
           "#EF553B",
           "#00cc96",
           "#ab63fa",
           "#FFA15A",
           "#19d3f3",
           "#FF6692",
           "#B6E880",
           "#FF97FF",
           "#FECB52"
          ],
          "font": {
           "color": "#2a3f5f"
          },
          "geo": {
           "bgcolor": "white",
           "lakecolor": "white",
           "landcolor": "#E5ECF6",
           "showlakes": true,
           "showland": true,
           "subunitcolor": "white"
          },
          "hoverlabel": {
           "align": "left"
          },
          "hovermode": "closest",
          "mapbox": {
           "style": "light"
          },
          "paper_bgcolor": "white",
          "plot_bgcolor": "#E5ECF6",
          "polar": {
           "angularaxis": {
            "gridcolor": "white",
            "linecolor": "white",
            "ticks": ""
           },
           "bgcolor": "#E5ECF6",
           "radialaxis": {
            "gridcolor": "white",
            "linecolor": "white",
            "ticks": ""
           }
          },
          "scene": {
           "xaxis": {
            "backgroundcolor": "#E5ECF6",
            "gridcolor": "white",
            "gridwidth": 2,
            "linecolor": "white",
            "showbackground": true,
            "ticks": "",
            "zerolinecolor": "white"
           },
           "yaxis": {
            "backgroundcolor": "#E5ECF6",
            "gridcolor": "white",
            "gridwidth": 2,
            "linecolor": "white",
            "showbackground": true,
            "ticks": "",
            "zerolinecolor": "white"
           },
           "zaxis": {
            "backgroundcolor": "#E5ECF6",
            "gridcolor": "white",
            "gridwidth": 2,
            "linecolor": "white",
            "showbackground": true,
            "ticks": "",
            "zerolinecolor": "white"
           }
          },
          "shapedefaults": {
           "line": {
            "color": "#2a3f5f"
           }
          },
          "ternary": {
           "aaxis": {
            "gridcolor": "white",
            "linecolor": "white",
            "ticks": ""
           },
           "baxis": {
            "gridcolor": "white",
            "linecolor": "white",
            "ticks": ""
           },
           "bgcolor": "#E5ECF6",
           "caxis": {
            "gridcolor": "white",
            "linecolor": "white",
            "ticks": ""
           }
          },
          "title": {
           "x": 0.05
          },
          "xaxis": {
           "automargin": true,
           "gridcolor": "white",
           "linecolor": "white",
           "ticks": "",
           "title": {
            "standoff": 15
           },
           "zerolinecolor": "white",
           "zerolinewidth": 2
          },
          "yaxis": {
           "automargin": true,
           "gridcolor": "white",
           "linecolor": "white",
           "ticks": "",
           "title": {
            "standoff": 15
           },
           "zerolinecolor": "white",
           "zerolinewidth": 2
          }
         }
        }
       }
      },
      "text/html": [
       "<div>                            <div id=\"3c590fbb-1fe6-4f6c-a2b6-db6bce638ca1\" class=\"plotly-graph-div\" style=\"height:525px; width:100%;\"></div>            <script type=\"text/javascript\">                require([\"plotly\"], function(Plotly) {                    window.PLOTLYENV=window.PLOTLYENV || {};                                    if (document.getElementById(\"3c590fbb-1fe6-4f6c-a2b6-db6bce638ca1\")) {                    Plotly.newPlot(                        \"3c590fbb-1fe6-4f6c-a2b6-db6bce638ca1\",                        [{\"close\": [1689.15, 1807.84, 1830.0, 1880.93, 1846.09, 1902.83, 1940.1, 1885.84, 1955.49, 1900.1, 1963.95, 1949.72, 1907.7, 1918.83, 1906.59, 1997.59, 2011.6, 2043.0, 2042.76, 2168.87, 2283.32, 2307.68, 2408.19, 2375.0, 2393.61, 2328.12, 2363.49, 2399.45, 2410.22, 2376.0, 2314.08, 2372.71, 2474.0, 2286.04, 2315.99, 2317.8, 2351.26, 2367.61, 2379.61, 2409.0, 2356.95, 2367.92, 2388.85, 2409.78, 2426.26, 2449.33, 2497.94, 2446.74, 2436.88, 2421.86, 2410.39, 2401.1, 2442.37, 2471.04, 2472.41, 2478.4, 2460.6, 2483.0, 2524.06, 2600.86, 2647.45, 2557.96, 2545.02, 2572.68, 2615.27, 2640.98, 2653.98, 2675.01, 2713.82, 2764.41, 2734.4, 2754.58, 2692.87, 2680.38, 2758.82, 2878.7, 2890.3, 3057.04, 3000.12, 3081.11, 3182.63, 3200.0, 3104.0, 3084.0, 3008.87, 2999.9, 2961.97, 3196.84, 3138.29, 3099.91, 2986.55, 3008.91, 3055.21, 3000.33, 3033.53, 3051.88, 3164.68, 3111.89, 3138.83, 3205.03, 3225.0, 3167.46, 3148.16, 3080.67, 3162.24, 3161.02, 3148.02, 3182.41, 3312.49, 3260.48, 3297.37, 3284.72, 3307.46, 3346.49, 3441.85, 3400.0, 3401.8], \"high\": [1759.45, 1857.78, 1841.66, 1945.0, 1957.0, 1919.4, 1955.0, 1950.26, 1956.49, 1939.79, 1973.63, 1993.02, 1944.96, 1927.53, 1926.33, 1998.52, 2035.72, 2044.0, 2053.0, 2180.0, 2292.0, 2333.37, 2461.0, 2400.0, 2444.98, 2428.31, 2394.0, 2424.22, 2420.43, 2444.88, 2373.5, 2391.89, 2475.0, 2362.44, 2326.98, 2351.0, 2357.45, 2376.0, 2387.24, 2419.67, 2419.0, 2407.7, 2391.37, 2411.0, 2433.0, 2485.0, 2500.01, 2525.45, 2469.85, 2462.0, 2413.58, 2436.97, 2442.37, 2476.93, 2473.53, 2488.0, 2507.54, 2488.65, 2530.0, 2626.43, 2722.35, 2671.38, 2621.48, 2584.0, 2620.0, 2655.0, 2659.64, 2697.43, 2715.0, 2783.11, 2796.0, 2756.23, 2782.57, 2696.8, 2769.63, 2895.0, 2955.56, 3059.88, 3069.55, 3083.97, 3193.88, 3215.0, 3344.29, 3127.38, 3098.35, 3032.0, 3024.0, 3201.36, 3240.58, 3150.0, 3098.27, 3031.58, 3098.0, 3077.09, 3039.16, 3092.0, 3246.82, 3184.0, 3167.24, 3213.59, 3247.47, 3240.81, 3172.51, 3159.22, 3174.39, 3217.52, 3178.24, 3194.97, 3320.0, 3315.9, 3312.62, 3314.4, 3380.32, 3357.4, 3451.74, 3453.0, 3433.37], \"low\": [1626.03, 1689.24, 1745.0, 1832.65, 1820.73, 1812.0, 1900.34, 1885.78, 1889.29, 1899.92, 1912.34, 1944.01, 1893.0, 1890.0, 1889.15, 1930.02, 1997.62, 2011.15, 2017.66, 2038.0, 2186.21, 2245.0, 2335.0, 2316.02, 2386.05, 2279.66, 2351.0, 2382.08, 2382.0, 2363.0, 2306.0, 2310.0, 2396.01, 2258.19, 2256.38, 2307.13, 2320.0, 2343.11, 2357.0, 2372.11, 2355.0, 2337.81, 2353.21, 2356.37, 2384.01, 2428.97, 2467.27, 2442.54, 2430.13, 2414.06, 2330.0, 2378.23, 2398.2, 2444.17, 2445.31, 2461.17, 2450.01, 2437.13, 2487.34, 2525.0, 2626.26, 2536.23, 2503.35, 2508.0, 2576.0, 2631.82, 2636.11, 2659.0, 2669.0, 2718.04, 2721.0, 2712.14, 2688.0, 2630.08, 2675.03, 2754.0, 2871.1, 2930.0, 2990.0, 3012.43, 3074.0, 3135.7, 3068.39, 2950.0, 2973.18, 2918.23, 2948.45, 2994.02, 3105.72, 3065.26, 2970.0, 2888.0, 3015.77, 2995.76, 2996.77, 3005.0, 3151.0, 3104.0, 3101.21, 3127.3, 3165.43, 3140.67, 3101.52, 3073.0, 3101.42, 3155.0, 3120.0, 3154.18, 3205.82, 3256.0, 3238.0, 3275.39, 3257.56, 3267.0, 3344.57, 3378.0, 3386.5], \"open\": [1641.51, 1775.47, 1750.0, 1860.0, 1926.31, 1827.75, 1951.5, 1920.69, 1902.0, 1930.86, 1922.83, 1964.35, 1932.97, 1901.64, 1911.15, 1936.0, 2017.11, 2021.0, 2044.3, 2040.0, 2200.47, 2257.68, 2346.0, 2372.33, 2389.95, 2416.61, 2369.0, 2399.98, 2417.0, 2443.2, 2372.1, 2330.01, 2419.84, 2336.8, 2256.38, 2340.0, 2329.44, 2374.78, 2372.14, 2374.7, 2411.85, 2366.8, 2361.01, 2368.52, 2404.35, 2429.83, 2477.87, 2500.0, 2455.01, 2458.0, 2404.99, 2384.33, 2415.94, 2448.0, 2467.0, 2468.01, 2477.43, 2444.51, 2500.2, 2529.44, 2645.0, 2603.5, 2601.21, 2526.6, 2620.0, 2647.5, 2647.01, 2678.08, 2684.5, 2726.02, 2780.0, 2739.55, 2775.06, 2690.01, 2685.07, 2757.99, 2912.01, 2934.97, 3058.55, 3022.61, 3115.99, 3191.76, 3251.06, 3089.0, 3080.23, 2971.06, 3009.0, 3000.2, 3232.49, 3125.0, 3098.27, 2930.0, 3062.0, 3054.27, 3030.99, 3014.0, 3244.0, 3180.51, 3101.21, 3143.77, 3194.36, 3224.01, 3170.31, 3113.2, 3108.0, 3182.99, 3178.18, 3173.12, 3212.0, 3303.01, 3252.0, 3295.0, 3310.15, 3294.99, 3351.11, 3450.05, 3423.0], \"type\": \"candlestick\", \"x\": [\"3/16/2020\", \"3/17/2020\", \"3/18/2020\", \"3/19/2020\", \"3/20/2020\", \"3/23/2020\", \"3/24/2020\", \"3/25/2020\", \"3/26/2020\", \"3/27/2020\", \"3/30/2020\", \"3/31/2020\", \"4/1/2020\", \"4/2/2020\", \"4/3/2020\", \"4/6/2020\", \"4/7/2020\", \"4/8/2020\", \"4/9/2020\", \"4/13/2020\", \"4/14/2020\", \"4/15/2020\", \"4/16/2020\", \"4/17/2020\", \"4/20/2020\", \"4/21/2020\", \"4/22/2020\", \"4/23/2020\", \"4/24/2020\", \"4/27/2020\", \"4/28/2020\", \"4/29/2020\", \"4/30/2020\", \"5/1/2020\", \"5/4/2020\", \"5/5/2020\", \"5/6/2020\", \"5/7/2020\", \"5/8/2020\", \"5/11/2020\", \"5/12/2020\", \"5/13/2020\", \"5/14/2020\", \"5/15/2020\", \"5/18/2020\", \"5/19/2020\", \"5/20/2020\", \"5/21/2020\", \"5/22/2020\", \"5/26/2020\", \"5/27/2020\", \"5/28/2020\", \"5/29/2020\", \"6/1/2020\", \"6/2/2020\", \"6/3/2020\", \"6/4/2020\", \"6/5/2020\", \"6/8/2020\", \"6/9/2020\", \"6/10/2020\", \"6/11/2020\", \"6/12/2020\", \"6/15/2020\", \"6/16/2020\", \"6/17/2020\", \"6/18/2020\", \"6/19/2020\", \"6/22/2020\", \"6/23/2020\", \"6/24/2020\", \"6/25/2020\", \"6/26/2020\", \"6/29/2020\", \"6/30/2020\", \"7/1/2020\", \"7/2/2020\", \"7/6/2020\", \"7/7/2020\", \"7/8/2020\", \"7/9/2020\", \"7/10/2020\", \"7/13/2020\", \"7/14/2020\", \"7/15/2020\", \"7/16/2020\", \"7/17/2020\", \"7/20/2020\", \"7/21/2020\", \"7/22/2020\", \"7/23/2020\", \"7/24/2020\", \"7/27/2020\", \"7/28/2020\", \"7/29/2020\", \"7/30/2020\", \"7/31/2020\", \"8/3/2020\", \"8/4/2020\", \"8/5/2020\", \"8/6/2020\", \"8/7/2020\", \"8/10/2020\", \"8/11/2020\", \"8/12/2020\", \"8/13/2020\", \"8/14/2020\", \"8/17/2020\", \"8/18/2020\", \"8/19/2020\", \"8/20/2020\", \"8/21/2020\", \"8/24/2020\", \"8/25/2020\", \"8/26/2020\", \"8/27/2020\", \"8/28/2020\"]}],                        {\"template\": {\"data\": {\"bar\": [{\"error_x\": {\"color\": \"#2a3f5f\"}, \"error_y\": {\"color\": \"#2a3f5f\"}, \"marker\": {\"line\": {\"color\": \"#E5ECF6\", \"width\": 0.5}}, \"type\": \"bar\"}], \"barpolar\": [{\"marker\": {\"line\": {\"color\": \"#E5ECF6\", \"width\": 0.5}}, \"type\": \"barpolar\"}], \"carpet\": [{\"aaxis\": {\"endlinecolor\": \"#2a3f5f\", \"gridcolor\": \"white\", \"linecolor\": \"white\", \"minorgridcolor\": \"white\", \"startlinecolor\": \"#2a3f5f\"}, \"baxis\": {\"endlinecolor\": \"#2a3f5f\", \"gridcolor\": \"white\", \"linecolor\": \"white\", \"minorgridcolor\": \"white\", \"startlinecolor\": \"#2a3f5f\"}, \"type\": \"carpet\"}], \"choropleth\": [{\"colorbar\": {\"outlinewidth\": 0, \"ticks\": \"\"}, \"type\": \"choropleth\"}], \"contour\": [{\"colorbar\": {\"outlinewidth\": 0, \"ticks\": \"\"}, \"colorscale\": [[0.0, \"#0d0887\"], [0.1111111111111111, \"#46039f\"], [0.2222222222222222, \"#7201a8\"], [0.3333333333333333, \"#9c179e\"], [0.4444444444444444, \"#bd3786\"], [0.5555555555555556, \"#d8576b\"], [0.6666666666666666, \"#ed7953\"], [0.7777777777777778, \"#fb9f3a\"], [0.8888888888888888, \"#fdca26\"], [1.0, \"#f0f921\"]], \"type\": \"contour\"}], \"contourcarpet\": [{\"colorbar\": {\"outlinewidth\": 0, \"ticks\": \"\"}, \"type\": \"contourcarpet\"}], \"heatmap\": [{\"colorbar\": {\"outlinewidth\": 0, \"ticks\": \"\"}, \"colorscale\": [[0.0, \"#0d0887\"], [0.1111111111111111, \"#46039f\"], [0.2222222222222222, \"#7201a8\"], [0.3333333333333333, \"#9c179e\"], [0.4444444444444444, \"#bd3786\"], [0.5555555555555556, \"#d8576b\"], [0.6666666666666666, \"#ed7953\"], [0.7777777777777778, \"#fb9f3a\"], [0.8888888888888888, \"#fdca26\"], [1.0, \"#f0f921\"]], \"type\": \"heatmap\"}], \"heatmapgl\": [{\"colorbar\": {\"outlinewidth\": 0, \"ticks\": \"\"}, \"colorscale\": [[0.0, \"#0d0887\"], [0.1111111111111111, \"#46039f\"], [0.2222222222222222, \"#7201a8\"], [0.3333333333333333, \"#9c179e\"], [0.4444444444444444, \"#bd3786\"], [0.5555555555555556, \"#d8576b\"], [0.6666666666666666, \"#ed7953\"], [0.7777777777777778, \"#fb9f3a\"], [0.8888888888888888, \"#fdca26\"], [1.0, \"#f0f921\"]], \"type\": \"heatmapgl\"}], \"histogram\": [{\"marker\": {\"colorbar\": {\"outlinewidth\": 0, \"ticks\": \"\"}}, \"type\": \"histogram\"}], \"histogram2d\": [{\"colorbar\": {\"outlinewidth\": 0, \"ticks\": \"\"}, \"colorscale\": [[0.0, \"#0d0887\"], [0.1111111111111111, \"#46039f\"], [0.2222222222222222, \"#7201a8\"], [0.3333333333333333, \"#9c179e\"], [0.4444444444444444, \"#bd3786\"], [0.5555555555555556, \"#d8576b\"], [0.6666666666666666, \"#ed7953\"], [0.7777777777777778, \"#fb9f3a\"], [0.8888888888888888, \"#fdca26\"], [1.0, \"#f0f921\"]], \"type\": \"histogram2d\"}], \"histogram2dcontour\": [{\"colorbar\": {\"outlinewidth\": 0, \"ticks\": \"\"}, \"colorscale\": [[0.0, \"#0d0887\"], [0.1111111111111111, \"#46039f\"], [0.2222222222222222, \"#7201a8\"], [0.3333333333333333, \"#9c179e\"], [0.4444444444444444, \"#bd3786\"], [0.5555555555555556, \"#d8576b\"], [0.6666666666666666, \"#ed7953\"], [0.7777777777777778, \"#fb9f3a\"], [0.8888888888888888, \"#fdca26\"], [1.0, \"#f0f921\"]], \"type\": \"histogram2dcontour\"}], \"mesh3d\": [{\"colorbar\": {\"outlinewidth\": 0, \"ticks\": \"\"}, \"type\": \"mesh3d\"}], \"parcoords\": [{\"line\": {\"colorbar\": {\"outlinewidth\": 0, \"ticks\": \"\"}}, \"type\": \"parcoords\"}], \"pie\": [{\"automargin\": true, \"type\": \"pie\"}], \"scatter\": [{\"marker\": {\"colorbar\": {\"outlinewidth\": 0, \"ticks\": \"\"}}, \"type\": \"scatter\"}], \"scatter3d\": [{\"line\": {\"colorbar\": {\"outlinewidth\": 0, \"ticks\": \"\"}}, \"marker\": {\"colorbar\": {\"outlinewidth\": 0, \"ticks\": \"\"}}, \"type\": \"scatter3d\"}], \"scattercarpet\": [{\"marker\": {\"colorbar\": {\"outlinewidth\": 0, \"ticks\": \"\"}}, \"type\": \"scattercarpet\"}], \"scattergeo\": [{\"marker\": {\"colorbar\": {\"outlinewidth\": 0, \"ticks\": \"\"}}, \"type\": \"scattergeo\"}], \"scattergl\": [{\"marker\": {\"colorbar\": {\"outlinewidth\": 0, \"ticks\": \"\"}}, \"type\": \"scattergl\"}], \"scattermapbox\": [{\"marker\": {\"colorbar\": {\"outlinewidth\": 0, \"ticks\": \"\"}}, \"type\": \"scattermapbox\"}], \"scatterpolar\": [{\"marker\": {\"colorbar\": {\"outlinewidth\": 0, \"ticks\": \"\"}}, \"type\": \"scatterpolar\"}], \"scatterpolargl\": [{\"marker\": {\"colorbar\": {\"outlinewidth\": 0, \"ticks\": \"\"}}, \"type\": \"scatterpolargl\"}], \"scatterternary\": [{\"marker\": {\"colorbar\": {\"outlinewidth\": 0, \"ticks\": \"\"}}, \"type\": \"scatterternary\"}], \"surface\": [{\"colorbar\": {\"outlinewidth\": 0, \"ticks\": \"\"}, \"colorscale\": [[0.0, \"#0d0887\"], [0.1111111111111111, \"#46039f\"], [0.2222222222222222, \"#7201a8\"], [0.3333333333333333, \"#9c179e\"], [0.4444444444444444, \"#bd3786\"], [0.5555555555555556, \"#d8576b\"], [0.6666666666666666, \"#ed7953\"], [0.7777777777777778, \"#fb9f3a\"], [0.8888888888888888, \"#fdca26\"], [1.0, \"#f0f921\"]], \"type\": \"surface\"}], \"table\": [{\"cells\": {\"fill\": {\"color\": \"#EBF0F8\"}, \"line\": {\"color\": \"white\"}}, \"header\": {\"fill\": {\"color\": \"#C8D4E3\"}, \"line\": {\"color\": \"white\"}}, \"type\": \"table\"}]}, \"layout\": {\"annotationdefaults\": {\"arrowcolor\": \"#2a3f5f\", \"arrowhead\": 0, \"arrowwidth\": 1}, \"coloraxis\": {\"colorbar\": {\"outlinewidth\": 0, \"ticks\": \"\"}}, \"colorscale\": {\"diverging\": [[0, \"#8e0152\"], [0.1, \"#c51b7d\"], [0.2, \"#de77ae\"], [0.3, \"#f1b6da\"], [0.4, \"#fde0ef\"], [0.5, \"#f7f7f7\"], [0.6, \"#e6f5d0\"], [0.7, \"#b8e186\"], [0.8, \"#7fbc41\"], [0.9, \"#4d9221\"], [1, \"#276419\"]], \"sequential\": [[0.0, \"#0d0887\"], [0.1111111111111111, \"#46039f\"], [0.2222222222222222, \"#7201a8\"], [0.3333333333333333, \"#9c179e\"], [0.4444444444444444, \"#bd3786\"], [0.5555555555555556, \"#d8576b\"], [0.6666666666666666, \"#ed7953\"], [0.7777777777777778, \"#fb9f3a\"], [0.8888888888888888, \"#fdca26\"], [1.0, \"#f0f921\"]], \"sequentialminus\": [[0.0, \"#0d0887\"], [0.1111111111111111, \"#46039f\"], [0.2222222222222222, \"#7201a8\"], [0.3333333333333333, \"#9c179e\"], [0.4444444444444444, \"#bd3786\"], [0.5555555555555556, \"#d8576b\"], [0.6666666666666666, \"#ed7953\"], [0.7777777777777778, \"#fb9f3a\"], [0.8888888888888888, \"#fdca26\"], [1.0, \"#f0f921\"]]}, \"colorway\": [\"#636efa\", \"#EF553B\", \"#00cc96\", \"#ab63fa\", \"#FFA15A\", \"#19d3f3\", \"#FF6692\", \"#B6E880\", \"#FF97FF\", \"#FECB52\"], \"font\": {\"color\": \"#2a3f5f\"}, \"geo\": {\"bgcolor\": \"white\", \"lakecolor\": \"white\", \"landcolor\": \"#E5ECF6\", \"showlakes\": true, \"showland\": true, \"subunitcolor\": \"white\"}, \"hoverlabel\": {\"align\": \"left\"}, \"hovermode\": \"closest\", \"mapbox\": {\"style\": \"light\"}, \"paper_bgcolor\": \"white\", \"plot_bgcolor\": \"#E5ECF6\", \"polar\": {\"angularaxis\": {\"gridcolor\": \"white\", \"linecolor\": \"white\", \"ticks\": \"\"}, \"bgcolor\": \"#E5ECF6\", \"radialaxis\": {\"gridcolor\": \"white\", \"linecolor\": \"white\", \"ticks\": \"\"}}, \"scene\": {\"xaxis\": {\"backgroundcolor\": \"#E5ECF6\", \"gridcolor\": \"white\", \"gridwidth\": 2, \"linecolor\": \"white\", \"showbackground\": true, \"ticks\": \"\", \"zerolinecolor\": \"white\"}, \"yaxis\": {\"backgroundcolor\": \"#E5ECF6\", \"gridcolor\": \"white\", \"gridwidth\": 2, \"linecolor\": \"white\", \"showbackground\": true, \"ticks\": \"\", \"zerolinecolor\": \"white\"}, \"zaxis\": {\"backgroundcolor\": \"#E5ECF6\", \"gridcolor\": \"white\", \"gridwidth\": 2, \"linecolor\": \"white\", \"showbackground\": true, \"ticks\": \"\", \"zerolinecolor\": \"white\"}}, \"shapedefaults\": {\"line\": {\"color\": \"#2a3f5f\"}}, \"ternary\": {\"aaxis\": {\"gridcolor\": \"white\", \"linecolor\": \"white\", \"ticks\": \"\"}, \"baxis\": {\"gridcolor\": \"white\", \"linecolor\": \"white\", \"ticks\": \"\"}, \"bgcolor\": \"#E5ECF6\", \"caxis\": {\"gridcolor\": \"white\", \"linecolor\": \"white\", \"ticks\": \"\"}}, \"title\": {\"x\": 0.05}, \"xaxis\": {\"automargin\": true, \"gridcolor\": \"white\", \"linecolor\": \"white\", \"ticks\": \"\", \"title\": {\"standoff\": 15}, \"zerolinecolor\": \"white\", \"zerolinewidth\": 2}, \"yaxis\": {\"automargin\": true, \"gridcolor\": \"white\", \"linecolor\": \"white\", \"ticks\": \"\", \"title\": {\"standoff\": 15}, \"zerolinecolor\": \"white\", \"zerolinewidth\": 2}}}},                        {\"responsive\": true}                    ).then(function(){\n",
       "                            \n",
       "var gd = document.getElementById('3c590fbb-1fe6-4f6c-a2b6-db6bce638ca1');\n",
       "var x = new MutationObserver(function (mutations, observer) {{\n",
       "        var display = window.getComputedStyle(gd).display;\n",
       "        if (!display || display === 'none') {{\n",
       "            console.log([gd, 'removed!']);\n",
       "            Plotly.purge(gd);\n",
       "            observer.disconnect();\n",
       "        }}\n",
       "}});\n",
       "\n",
       "// Listen for the removal of the full notebook cells\n",
       "var notebookContainer = gd.closest('#notebook-container');\n",
       "if (notebookContainer) {{\n",
       "    x.observe(notebookContainer, {childList: true});\n",
       "}}\n",
       "\n",
       "// Listen for the clearing of the current output cell\n",
       "var outputEl = gd.closest('.output');\n",
       "if (outputEl) {{\n",
       "    x.observe(outputEl, {childList: true});\n",
       "}}\n",
       "\n",
       "                        })                };                });            </script>        </div>"
      ]
     },
     "metadata": {},
     "output_type": "display_data"
    }
   ],
   "source": [
    "fig = go.Figure(data=[go.Candlestick(x=Amazon['Date'],\n",
    "                                    open = Amazon['Open'],\n",
    "                                    high = Amazon['High'],\n",
    "                                    low = Amazon['Low'],\n",
    "                                    close = Amazon['Close'])])\n",
    "fig.show()"
   ]
  },
  {
   "cell_type": "code",
   "execution_count": 453,
   "metadata": {
    "scrolled": true
   },
   "outputs": [
    {
     "data": {
      "application/vnd.plotly.v1+json": {
       "config": {
        "plotlyServerURL": "https://plot.ly"
       },
       "data": [
        {
         "close": [
          146.01,
          149.42,
          146.96,
          153.13,
          149.73,
          148.1,
          160.98,
          156.21,
          163.34,
          156.79,
          165.95,
          166.8,
          159.6,
          158.19,
          154.18,
          165.55,
          168.83,
          174.28,
          175.19,
          174.79,
          178.17,
          176.97,
          176.25,
          179.24,
          178.24,
          170.8,
          182.28,
          185.13,
          190.07,
          187.5,
          182.91,
          194.19,
          204.71,
          202.27,
          205.26,
          207.07,
          208.47,
          211.26,
          212.35,
          213.18,
          210.1,
          205.1,
          206.81,
          210.88,
          213.19,
          216.88,
          229.97,
          231.39,
          234.91,
          232.2,
          229.14,
          225.46,
          225.09,
          231.91,
          232.72,
          230.16,
          226.29,
          230.77,
          231.4,
          238.67,
          236.73,
          224.43,
          228.58,
          232.5,
          235.65,
          235.53,
          235.94,
          238.79,
          239.22,
          242.24,
          234.02,
          235.68,
          216.08,
          220.64,
          227.07,
          237.55,
          233.42,
          240.28,
          240.86,
          243.58,
          244.5,
          245.07,
          239,
          239.73,
          240.28,
          240.93,
          242.03,
          245.42,
          241.75,
          239.87,
          232.6,
          230.71,
          233.5,
          230.12,
          233.29,
          234.5,
          253.67,
          251.96,
          249.83,
          249.12,
          265.28,
          268.44,
          263,
          256.13,
          259.89,
          261.3,
          261.24,
          261.16,
          262.34,
          262.59,
          269.01,
          267.01,
          271.39,
          280.82,
          303.91,
          293.22,
          293.66
         ],
         "high": [
          159.13,
          153.94,
          148.18,
          159.93,
          159.27,
          152.31,
          161.31,
          162.99,
          164,
          160.09,
          166.75,
          170.93,
          164.15,
          161.35,
          157.91,
          166.2,
          173.39,
          175,
          177.08,
          175,
          181.23,
          178.19,
          178.05,
          180.28,
          180.5,
          175.38,
          184.78,
          187.05,
          190.41,
          193.75,
          189.2,
          196.91,
          209.69,
          207.28,
          205.91,
          210.38,
          211.6,
          211.6,
          213.21,
          215,
          215.28,
          210.78,
          206.93,
          211.34,
          214.64,
          220.49,
          231.34,
          237.2,
          235.99,
          240.9,
          230.56,
          231.63,
          227.49,
          232.44,
          233,
          232.65,
          231.63,
          231.35,
          231.55,
          239.77,
          241.21,
          232.89,
          231.66,
          233.77,
          238.46,
          237.59,
          236.14,
          240.83,
          240.7,
          245.19,
          243.22,
          237.3,
          233.09,
          220.75,
          227.5,
          239,
          240,
          240.4,
          247.65,
          246.99,
          246.53,
          245.49,
          250.15,
          240.33,
          244.82,
          241.76,
          244.16,
          246.05,
          246.91,
          241.9,
          242.42,
          233.49,
          234.95,
          234.96,
          233.7,
          234.89,
          255.85,
          255.4,
          252.8,
          252.27,
          266.6,
          278.89,
          273.86,
          265.92,
          263.9,
          265.16,
          262.65,
          264.1,
          265.15,
          267.91,
          269.63,
          270.49,
          277.25,
          283.09,
          304.67,
          301.23,
          297.23
         ],
         "low": [
          143.1,
          140,
          137.1,
          144.8,
          148,
          142.25,
          152.57,
          153.06,
          157.02,
          154.75,
          158.06,
          164.2,
          158.04,
          155.92,
          150.83,
          158.51,
          166.01,
          167.74,
          171.57,
          169.45,
          176.62,
          172.82,
          172.51,
          176.66,
          176.77,
          168.34,
          178.14,
          183.15,
          180.83,
          187.41,
          182.56,
          190,
          201.57,
          199.05,
          198.76,
          206.5,
          206.66,
          209.04,
          210.85,
          210.37,
          210,
          202.11,
          200.69,
          204.12,
          210.94,
          212.83,
          223.19,
          231.2,
          228.74,
          231.67,
          221.13,
          224,
          222.88,
          223.5,
          226.56,
          228.53,
          224.61,
          225.31,
          227.41,
          230.41,
          235.28,
          223.55,
          224.5,
          224.8,
          233,
          231.73,
          232.15,
          235.55,
          236.91,
          239.86,
          232.68,
          232.74,
          215.4,
          207.11,
          218.47,
          227.56,
          232.61,
          232.27,
          238.82,
          236.59,
          239.24,
          239.32,
          238.42,
          232.03,
          238.05,
          236.33,
          237.86,
          235.64,
          240.08,
          238.12,
          231.75,
          226.9,
          230.83,
          229.83,
          230.31,
          229,
          249,
          250.33,
          247.43,
          247.77,
          248.67,
          263.43,
          259.69,
          255.13,
          258.11,
          259.57,
          258.68,
          259.4,
          259.26,
          261.35,
          261.46,
          266.42,
          268.77,
          270.26,
          284,
          292.02,
          290.98
         ],
         "open": [
          152.32,
          150.74,
          139.75,
          146.62,
          156.02,
          149.66,
          155.21,
          158.92,
          158.25,
          158.2,
          159.18,
          165.48,
          161.62,
          159.1,
          157.15,
          160.15,
          171.79,
          171.25,
          175.9,
          173.67,
          178.98,
          175.19,
          177.95,
          179.2,
          177.41,
          175.25,
          178.45,
          184.08,
          183.23,
          192.66,
          188.66,
          190.93,
          206.92,
          201.6,
          200.2,
          207.02,
          208.12,
          211.16,
          212.24,
          210.89,
          213.29,
          209.43,
          202.56,
          205.27,
          212.15,
          213.27,
          223.5,
          234.72,
          231.51,
          239.77,
          229.07,
          224.3,
          225.2,
          224.59,
          230.94,
          232.11,
          229.56,
          226.71,
          229.03,
          231.52,
          240.96,
          229.94,
          229.9,
          225.09,
          237.14,
          235,
          234.99,
          237.79,
          238.56,
          241.28,
          241.2,
          234.62,
          232.64,
          209.75,
          220.59,
          228.5,
          239,
          233.76,
          239.41,
          238.11,
          245,
          243.69,
          247.01,
          236.76,
          241.55,
          238,
          241,
          240.06,
          246.22,
          240.26,
          239.63,
          230.19,
          231.46,
          234.63,
          231.14,
          230.22,
          255.82,
          252.65,
          251.56,
          250.19,
          249.04,
          264.08,
          268.04,
          260.19,
          258.97,
          261.55,
          262.31,
          262.5,
          260.95,
          261.39,
          261.5,
          268.69,
          271.07,
          272.41,
          284,
          300.16,
          295
         ],
         "type": "candlestick",
         "x": [
          "3/16/2020",
          "3/17/2020",
          "3/18/2020",
          "3/19/2020",
          "3/20/2020",
          "3/23/2020",
          "3/24/2020",
          "3/25/2020",
          "3/26/2020",
          "3/27/2020",
          "3/30/2020",
          "3/31/2020",
          "4/1/2020",
          "4/2/2020",
          "4/3/2020",
          "4/6/2020",
          "4/7/2020",
          "4/8/2020",
          "4/9/2020",
          "4/13/2020",
          "4/14/2020",
          "4/15/2020",
          "4/16/2020",
          "4/17/2020",
          "4/20/2020",
          "4/21/2020",
          "4/22/2020",
          "4/23/2020",
          "4/24/2020",
          "4/27/2020",
          "4/28/2020",
          "4/29/2020",
          "4/30/2020",
          "5/1/2020",
          "5/4/2020",
          "5/5/2020",
          "5/6/2020",
          "5/7/2020",
          "5/8/2020",
          "5/11/2020",
          "5/12/2020",
          "5/13/2020",
          "5/14/2020",
          "5/15/2020",
          "5/18/2020",
          "5/19/2020",
          "5/20/2020",
          "5/21/2020",
          "5/22/2020",
          "5/26/2020",
          "5/27/2020",
          "5/28/2020",
          "5/29/2020",
          "6/1/2020",
          "6/2/2020",
          "6/3/2020",
          "6/4/2020",
          "6/5/2020",
          "6/8/2020",
          "6/9/2020",
          "6/10/2020",
          "6/11/2020",
          "6/12/2020",
          "6/15/2020",
          "6/16/2020",
          "6/17/2020",
          "6/18/2020",
          "6/19/2020",
          "6/22/2020",
          "6/23/2020",
          "6/24/2020",
          "6/25/2020",
          "6/26/2020",
          "6/29/2020",
          "6/30/2020",
          "7/1/2020",
          "7/2/2020",
          "7/6/2020",
          "7/7/2020",
          "7/8/2020",
          "7/9/2020",
          "7/10/2020",
          "7/13/2020",
          "7/14/2020",
          "7/15/2020",
          "7/16/2020",
          "7/17/2020",
          "7/20/2020",
          "7/21/2020",
          "7/22/2020",
          "7/23/2020",
          "7/24/2020",
          "7/27/2020",
          "7/28/2020",
          "7/29/2020",
          "7/30/2020",
          "7/31/2020",
          "8/3/2020",
          "8/4/2020",
          "8/5/2020",
          "8/6/2020",
          "8/7/2020",
          "8/10/2020",
          "8/11/2020",
          "8/12/2020",
          "8/13/2020",
          "8/14/2020",
          "8/17/2020",
          "8/18/2020",
          "8/19/2020",
          "8/20/2020",
          "8/21/2020",
          "8/24/2020",
          "8/25/2020",
          "8/26/2020",
          "8/27/2020",
          "8/28/2020"
         ]
        }
       ],
       "layout": {
        "template": {
         "data": {
          "bar": [
           {
            "error_x": {
             "color": "#2a3f5f"
            },
            "error_y": {
             "color": "#2a3f5f"
            },
            "marker": {
             "line": {
              "color": "#E5ECF6",
              "width": 0.5
             }
            },
            "type": "bar"
           }
          ],
          "barpolar": [
           {
            "marker": {
             "line": {
              "color": "#E5ECF6",
              "width": 0.5
             }
            },
            "type": "barpolar"
           }
          ],
          "carpet": [
           {
            "aaxis": {
             "endlinecolor": "#2a3f5f",
             "gridcolor": "white",
             "linecolor": "white",
             "minorgridcolor": "white",
             "startlinecolor": "#2a3f5f"
            },
            "baxis": {
             "endlinecolor": "#2a3f5f",
             "gridcolor": "white",
             "linecolor": "white",
             "minorgridcolor": "white",
             "startlinecolor": "#2a3f5f"
            },
            "type": "carpet"
           }
          ],
          "choropleth": [
           {
            "colorbar": {
             "outlinewidth": 0,
             "ticks": ""
            },
            "type": "choropleth"
           }
          ],
          "contour": [
           {
            "colorbar": {
             "outlinewidth": 0,
             "ticks": ""
            },
            "colorscale": [
             [
              0,
              "#0d0887"
             ],
             [
              0.1111111111111111,
              "#46039f"
             ],
             [
              0.2222222222222222,
              "#7201a8"
             ],
             [
              0.3333333333333333,
              "#9c179e"
             ],
             [
              0.4444444444444444,
              "#bd3786"
             ],
             [
              0.5555555555555556,
              "#d8576b"
             ],
             [
              0.6666666666666666,
              "#ed7953"
             ],
             [
              0.7777777777777778,
              "#fb9f3a"
             ],
             [
              0.8888888888888888,
              "#fdca26"
             ],
             [
              1,
              "#f0f921"
             ]
            ],
            "type": "contour"
           }
          ],
          "contourcarpet": [
           {
            "colorbar": {
             "outlinewidth": 0,
             "ticks": ""
            },
            "type": "contourcarpet"
           }
          ],
          "heatmap": [
           {
            "colorbar": {
             "outlinewidth": 0,
             "ticks": ""
            },
            "colorscale": [
             [
              0,
              "#0d0887"
             ],
             [
              0.1111111111111111,
              "#46039f"
             ],
             [
              0.2222222222222222,
              "#7201a8"
             ],
             [
              0.3333333333333333,
              "#9c179e"
             ],
             [
              0.4444444444444444,
              "#bd3786"
             ],
             [
              0.5555555555555556,
              "#d8576b"
             ],
             [
              0.6666666666666666,
              "#ed7953"
             ],
             [
              0.7777777777777778,
              "#fb9f3a"
             ],
             [
              0.8888888888888888,
              "#fdca26"
             ],
             [
              1,
              "#f0f921"
             ]
            ],
            "type": "heatmap"
           }
          ],
          "heatmapgl": [
           {
            "colorbar": {
             "outlinewidth": 0,
             "ticks": ""
            },
            "colorscale": [
             [
              0,
              "#0d0887"
             ],
             [
              0.1111111111111111,
              "#46039f"
             ],
             [
              0.2222222222222222,
              "#7201a8"
             ],
             [
              0.3333333333333333,
              "#9c179e"
             ],
             [
              0.4444444444444444,
              "#bd3786"
             ],
             [
              0.5555555555555556,
              "#d8576b"
             ],
             [
              0.6666666666666666,
              "#ed7953"
             ],
             [
              0.7777777777777778,
              "#fb9f3a"
             ],
             [
              0.8888888888888888,
              "#fdca26"
             ],
             [
              1,
              "#f0f921"
             ]
            ],
            "type": "heatmapgl"
           }
          ],
          "histogram": [
           {
            "marker": {
             "colorbar": {
              "outlinewidth": 0,
              "ticks": ""
             }
            },
            "type": "histogram"
           }
          ],
          "histogram2d": [
           {
            "colorbar": {
             "outlinewidth": 0,
             "ticks": ""
            },
            "colorscale": [
             [
              0,
              "#0d0887"
             ],
             [
              0.1111111111111111,
              "#46039f"
             ],
             [
              0.2222222222222222,
              "#7201a8"
             ],
             [
              0.3333333333333333,
              "#9c179e"
             ],
             [
              0.4444444444444444,
              "#bd3786"
             ],
             [
              0.5555555555555556,
              "#d8576b"
             ],
             [
              0.6666666666666666,
              "#ed7953"
             ],
             [
              0.7777777777777778,
              "#fb9f3a"
             ],
             [
              0.8888888888888888,
              "#fdca26"
             ],
             [
              1,
              "#f0f921"
             ]
            ],
            "type": "histogram2d"
           }
          ],
          "histogram2dcontour": [
           {
            "colorbar": {
             "outlinewidth": 0,
             "ticks": ""
            },
            "colorscale": [
             [
              0,
              "#0d0887"
             ],
             [
              0.1111111111111111,
              "#46039f"
             ],
             [
              0.2222222222222222,
              "#7201a8"
             ],
             [
              0.3333333333333333,
              "#9c179e"
             ],
             [
              0.4444444444444444,
              "#bd3786"
             ],
             [
              0.5555555555555556,
              "#d8576b"
             ],
             [
              0.6666666666666666,
              "#ed7953"
             ],
             [
              0.7777777777777778,
              "#fb9f3a"
             ],
             [
              0.8888888888888888,
              "#fdca26"
             ],
             [
              1,
              "#f0f921"
             ]
            ],
            "type": "histogram2dcontour"
           }
          ],
          "mesh3d": [
           {
            "colorbar": {
             "outlinewidth": 0,
             "ticks": ""
            },
            "type": "mesh3d"
           }
          ],
          "parcoords": [
           {
            "line": {
             "colorbar": {
              "outlinewidth": 0,
              "ticks": ""
             }
            },
            "type": "parcoords"
           }
          ],
          "pie": [
           {
            "automargin": true,
            "type": "pie"
           }
          ],
          "scatter": [
           {
            "marker": {
             "colorbar": {
              "outlinewidth": 0,
              "ticks": ""
             }
            },
            "type": "scatter"
           }
          ],
          "scatter3d": [
           {
            "line": {
             "colorbar": {
              "outlinewidth": 0,
              "ticks": ""
             }
            },
            "marker": {
             "colorbar": {
              "outlinewidth": 0,
              "ticks": ""
             }
            },
            "type": "scatter3d"
           }
          ],
          "scattercarpet": [
           {
            "marker": {
             "colorbar": {
              "outlinewidth": 0,
              "ticks": ""
             }
            },
            "type": "scattercarpet"
           }
          ],
          "scattergeo": [
           {
            "marker": {
             "colorbar": {
              "outlinewidth": 0,
              "ticks": ""
             }
            },
            "type": "scattergeo"
           }
          ],
          "scattergl": [
           {
            "marker": {
             "colorbar": {
              "outlinewidth": 0,
              "ticks": ""
             }
            },
            "type": "scattergl"
           }
          ],
          "scattermapbox": [
           {
            "marker": {
             "colorbar": {
              "outlinewidth": 0,
              "ticks": ""
             }
            },
            "type": "scattermapbox"
           }
          ],
          "scatterpolar": [
           {
            "marker": {
             "colorbar": {
              "outlinewidth": 0,
              "ticks": ""
             }
            },
            "type": "scatterpolar"
           }
          ],
          "scatterpolargl": [
           {
            "marker": {
             "colorbar": {
              "outlinewidth": 0,
              "ticks": ""
             }
            },
            "type": "scatterpolargl"
           }
          ],
          "scatterternary": [
           {
            "marker": {
             "colorbar": {
              "outlinewidth": 0,
              "ticks": ""
             }
            },
            "type": "scatterternary"
           }
          ],
          "surface": [
           {
            "colorbar": {
             "outlinewidth": 0,
             "ticks": ""
            },
            "colorscale": [
             [
              0,
              "#0d0887"
             ],
             [
              0.1111111111111111,
              "#46039f"
             ],
             [
              0.2222222222222222,
              "#7201a8"
             ],
             [
              0.3333333333333333,
              "#9c179e"
             ],
             [
              0.4444444444444444,
              "#bd3786"
             ],
             [
              0.5555555555555556,
              "#d8576b"
             ],
             [
              0.6666666666666666,
              "#ed7953"
             ],
             [
              0.7777777777777778,
              "#fb9f3a"
             ],
             [
              0.8888888888888888,
              "#fdca26"
             ],
             [
              1,
              "#f0f921"
             ]
            ],
            "type": "surface"
           }
          ],
          "table": [
           {
            "cells": {
             "fill": {
              "color": "#EBF0F8"
             },
             "line": {
              "color": "white"
             }
            },
            "header": {
             "fill": {
              "color": "#C8D4E3"
             },
             "line": {
              "color": "white"
             }
            },
            "type": "table"
           }
          ]
         },
         "layout": {
          "annotationdefaults": {
           "arrowcolor": "#2a3f5f",
           "arrowhead": 0,
           "arrowwidth": 1
          },
          "coloraxis": {
           "colorbar": {
            "outlinewidth": 0,
            "ticks": ""
           }
          },
          "colorscale": {
           "diverging": [
            [
             0,
             "#8e0152"
            ],
            [
             0.1,
             "#c51b7d"
            ],
            [
             0.2,
             "#de77ae"
            ],
            [
             0.3,
             "#f1b6da"
            ],
            [
             0.4,
             "#fde0ef"
            ],
            [
             0.5,
             "#f7f7f7"
            ],
            [
             0.6,
             "#e6f5d0"
            ],
            [
             0.7,
             "#b8e186"
            ],
            [
             0.8,
             "#7fbc41"
            ],
            [
             0.9,
             "#4d9221"
            ],
            [
             1,
             "#276419"
            ]
           ],
           "sequential": [
            [
             0,
             "#0d0887"
            ],
            [
             0.1111111111111111,
             "#46039f"
            ],
            [
             0.2222222222222222,
             "#7201a8"
            ],
            [
             0.3333333333333333,
             "#9c179e"
            ],
            [
             0.4444444444444444,
             "#bd3786"
            ],
            [
             0.5555555555555556,
             "#d8576b"
            ],
            [
             0.6666666666666666,
             "#ed7953"
            ],
            [
             0.7777777777777778,
             "#fb9f3a"
            ],
            [
             0.8888888888888888,
             "#fdca26"
            ],
            [
             1,
             "#f0f921"
            ]
           ],
           "sequentialminus": [
            [
             0,
             "#0d0887"
            ],
            [
             0.1111111111111111,
             "#46039f"
            ],
            [
             0.2222222222222222,
             "#7201a8"
            ],
            [
             0.3333333333333333,
             "#9c179e"
            ],
            [
             0.4444444444444444,
             "#bd3786"
            ],
            [
             0.5555555555555556,
             "#d8576b"
            ],
            [
             0.6666666666666666,
             "#ed7953"
            ],
            [
             0.7777777777777778,
             "#fb9f3a"
            ],
            [
             0.8888888888888888,
             "#fdca26"
            ],
            [
             1,
             "#f0f921"
            ]
           ]
          },
          "colorway": [
           "#636efa",
           "#EF553B",
           "#00cc96",
           "#ab63fa",
           "#FFA15A",
           "#19d3f3",
           "#FF6692",
           "#B6E880",
           "#FF97FF",
           "#FECB52"
          ],
          "font": {
           "color": "#2a3f5f"
          },
          "geo": {
           "bgcolor": "white",
           "lakecolor": "white",
           "landcolor": "#E5ECF6",
           "showlakes": true,
           "showland": true,
           "subunitcolor": "white"
          },
          "hoverlabel": {
           "align": "left"
          },
          "hovermode": "closest",
          "mapbox": {
           "style": "light"
          },
          "paper_bgcolor": "white",
          "plot_bgcolor": "#E5ECF6",
          "polar": {
           "angularaxis": {
            "gridcolor": "white",
            "linecolor": "white",
            "ticks": ""
           },
           "bgcolor": "#E5ECF6",
           "radialaxis": {
            "gridcolor": "white",
            "linecolor": "white",
            "ticks": ""
           }
          },
          "scene": {
           "xaxis": {
            "backgroundcolor": "#E5ECF6",
            "gridcolor": "white",
            "gridwidth": 2,
            "linecolor": "white",
            "showbackground": true,
            "ticks": "",
            "zerolinecolor": "white"
           },
           "yaxis": {
            "backgroundcolor": "#E5ECF6",
            "gridcolor": "white",
            "gridwidth": 2,
            "linecolor": "white",
            "showbackground": true,
            "ticks": "",
            "zerolinecolor": "white"
           },
           "zaxis": {
            "backgroundcolor": "#E5ECF6",
            "gridcolor": "white",
            "gridwidth": 2,
            "linecolor": "white",
            "showbackground": true,
            "ticks": "",
            "zerolinecolor": "white"
           }
          },
          "shapedefaults": {
           "line": {
            "color": "#2a3f5f"
           }
          },
          "ternary": {
           "aaxis": {
            "gridcolor": "white",
            "linecolor": "white",
            "ticks": ""
           },
           "baxis": {
            "gridcolor": "white",
            "linecolor": "white",
            "ticks": ""
           },
           "bgcolor": "#E5ECF6",
           "caxis": {
            "gridcolor": "white",
            "linecolor": "white",
            "ticks": ""
           }
          },
          "title": {
           "x": 0.05
          },
          "xaxis": {
           "automargin": true,
           "gridcolor": "white",
           "linecolor": "white",
           "ticks": "",
           "title": {
            "standoff": 15
           },
           "zerolinecolor": "white",
           "zerolinewidth": 2
          },
          "yaxis": {
           "automargin": true,
           "gridcolor": "white",
           "linecolor": "white",
           "ticks": "",
           "title": {
            "standoff": 15
           },
           "zerolinecolor": "white",
           "zerolinewidth": 2
          }
         }
        }
       }
      },
      "text/html": [
       "<div>                            <div id=\"a4e94f2d-1b43-4cb1-be47-d83c53055298\" class=\"plotly-graph-div\" style=\"height:525px; width:100%;\"></div>            <script type=\"text/javascript\">                require([\"plotly\"], function(Plotly) {                    window.PLOTLYENV=window.PLOTLYENV || {};                                    if (document.getElementById(\"a4e94f2d-1b43-4cb1-be47-d83c53055298\")) {                    Plotly.newPlot(                        \"a4e94f2d-1b43-4cb1-be47-d83c53055298\",                        [{\"close\": [146.01, 149.42, 146.96, 153.13, 149.73, 148.1, 160.98, 156.21, 163.34, 156.79, 165.95, 166.8, 159.6, 158.19, 154.18, 165.55, 168.83, 174.28, 175.19, 174.79, 178.17, 176.97, 176.25, 179.24, 178.24, 170.8, 182.28, 185.13, 190.07, 187.5, 182.91, 194.19, 204.71, 202.27, 205.26, 207.07, 208.47, 211.26, 212.35, 213.18, 210.1, 205.1, 206.81, 210.88, 213.19, 216.88, 229.97, 231.39, 234.91, 232.2, 229.14, 225.46, 225.09, 231.91, 232.72, 230.16, 226.29, 230.77, 231.4, 238.67, 236.73, 224.43, 228.58, 232.5, 235.65, 235.53, 235.94, 238.79, 239.22, 242.24, 234.02, 235.68, 216.08, 220.64, 227.07, 237.55, 233.42, 240.28, 240.86, 243.58, 244.5, 245.07, 239.0, 239.73, 240.28, 240.93, 242.03, 245.42, 241.75, 239.87, 232.6, 230.71, 233.5, 230.12, 233.29, 234.5, 253.67, 251.96, 249.83, 249.12, 265.28, 268.44, 263.0, 256.13, 259.89, 261.3, 261.24, 261.16, 262.34, 262.59, 269.01, 267.01, 271.39, 280.82, 303.91, 293.22, 293.66], \"high\": [159.13, 153.94, 148.18, 159.93, 159.27, 152.31, 161.31, 162.99, 164.0, 160.09, 166.75, 170.93, 164.15, 161.35, 157.91, 166.2, 173.39, 175.0, 177.08, 175.0, 181.23, 178.19, 178.05, 180.28, 180.5, 175.38, 184.78, 187.05, 190.41, 193.75, 189.2, 196.91, 209.69, 207.28, 205.91, 210.38, 211.6, 211.6, 213.21, 215.0, 215.28, 210.78, 206.93, 211.34, 214.64, 220.49, 231.34, 237.2, 235.99, 240.9, 230.56, 231.63, 227.49, 232.44, 233.0, 232.65, 231.63, 231.35, 231.55, 239.77, 241.21, 232.89, 231.66, 233.77, 238.46, 237.59, 236.14, 240.83, 240.7, 245.19, 243.22, 237.3, 233.09, 220.75, 227.5, 239.0, 240.0, 240.4, 247.65, 246.99, 246.53, 245.49, 250.15, 240.33, 244.82, 241.76, 244.16, 246.05, 246.91, 241.9, 242.42, 233.49, 234.95, 234.96, 233.7, 234.89, 255.85, 255.4, 252.8, 252.27, 266.6, 278.89, 273.86, 265.92, 263.9, 265.16, 262.65, 264.1, 265.15, 267.91, 269.63, 270.49, 277.25, 283.09, 304.67, 301.23, 297.23], \"low\": [143.1, 140.0, 137.1, 144.8, 148.0, 142.25, 152.57, 153.06, 157.02, 154.75, 158.06, 164.2, 158.04, 155.92, 150.83, 158.51, 166.01, 167.74, 171.57, 169.45, 176.62, 172.82, 172.51, 176.66, 176.77, 168.34, 178.14, 183.15, 180.83, 187.41, 182.56, 190.0, 201.57, 199.05, 198.76, 206.5, 206.66, 209.04, 210.85, 210.37, 210.0, 202.11, 200.69, 204.12, 210.94, 212.83, 223.19, 231.2, 228.74, 231.67, 221.13, 224.0, 222.88, 223.5, 226.56, 228.53, 224.61, 225.31, 227.41, 230.41, 235.28, 223.55, 224.5, 224.8, 233.0, 231.73, 232.15, 235.55, 236.91, 239.86, 232.68, 232.74, 215.4, 207.11, 218.47, 227.56, 232.61, 232.27, 238.82, 236.59, 239.24, 239.32, 238.42, 232.03, 238.05, 236.33, 237.86, 235.64, 240.08, 238.12, 231.75, 226.9, 230.83, 229.83, 230.31, 229.0, 249.0, 250.33, 247.43, 247.77, 248.67, 263.43, 259.69, 255.13, 258.11, 259.57, 258.68, 259.4, 259.26, 261.35, 261.46, 266.42, 268.77, 270.26, 284.0, 292.02, 290.98], \"open\": [152.32, 150.74, 139.75, 146.62, 156.02, 149.66, 155.21, 158.92, 158.25, 158.2, 159.18, 165.48, 161.62, 159.1, 157.15, 160.15, 171.79, 171.25, 175.9, 173.67, 178.98, 175.19, 177.95, 179.2, 177.41, 175.25, 178.45, 184.08, 183.23, 192.66, 188.66, 190.93, 206.92, 201.6, 200.2, 207.02, 208.12, 211.16, 212.24, 210.89, 213.29, 209.43, 202.56, 205.27, 212.15, 213.27, 223.5, 234.72, 231.51, 239.77, 229.07, 224.3, 225.2, 224.59, 230.94, 232.11, 229.56, 226.71, 229.03, 231.52, 240.96, 229.94, 229.9, 225.09, 237.14, 235.0, 234.99, 237.79, 238.56, 241.28, 241.2, 234.62, 232.64, 209.75, 220.59, 228.5, 239.0, 233.76, 239.41, 238.11, 245.0, 243.69, 247.01, 236.76, 241.55, 238.0, 241.0, 240.06, 246.22, 240.26, 239.63, 230.19, 231.46, 234.63, 231.14, 230.22, 255.82, 252.65, 251.56, 250.19, 249.04, 264.08, 268.04, 260.19, 258.97, 261.55, 262.31, 262.5, 260.95, 261.39, 261.5, 268.69, 271.07, 272.41, 284.0, 300.16, 295.0], \"type\": \"candlestick\", \"x\": [\"3/16/2020\", \"3/17/2020\", \"3/18/2020\", \"3/19/2020\", \"3/20/2020\", \"3/23/2020\", \"3/24/2020\", \"3/25/2020\", \"3/26/2020\", \"3/27/2020\", \"3/30/2020\", \"3/31/2020\", \"4/1/2020\", \"4/2/2020\", \"4/3/2020\", \"4/6/2020\", \"4/7/2020\", \"4/8/2020\", \"4/9/2020\", \"4/13/2020\", \"4/14/2020\", \"4/15/2020\", \"4/16/2020\", \"4/17/2020\", \"4/20/2020\", \"4/21/2020\", \"4/22/2020\", \"4/23/2020\", \"4/24/2020\", \"4/27/2020\", \"4/28/2020\", \"4/29/2020\", \"4/30/2020\", \"5/1/2020\", \"5/4/2020\", \"5/5/2020\", \"5/6/2020\", \"5/7/2020\", \"5/8/2020\", \"5/11/2020\", \"5/12/2020\", \"5/13/2020\", \"5/14/2020\", \"5/15/2020\", \"5/18/2020\", \"5/19/2020\", \"5/20/2020\", \"5/21/2020\", \"5/22/2020\", \"5/26/2020\", \"5/27/2020\", \"5/28/2020\", \"5/29/2020\", \"6/1/2020\", \"6/2/2020\", \"6/3/2020\", \"6/4/2020\", \"6/5/2020\", \"6/8/2020\", \"6/9/2020\", \"6/10/2020\", \"6/11/2020\", \"6/12/2020\", \"6/15/2020\", \"6/16/2020\", \"6/17/2020\", \"6/18/2020\", \"6/19/2020\", \"6/22/2020\", \"6/23/2020\", \"6/24/2020\", \"6/25/2020\", \"6/26/2020\", \"6/29/2020\", \"6/30/2020\", \"7/1/2020\", \"7/2/2020\", \"7/6/2020\", \"7/7/2020\", \"7/8/2020\", \"7/9/2020\", \"7/10/2020\", \"7/13/2020\", \"7/14/2020\", \"7/15/2020\", \"7/16/2020\", \"7/17/2020\", \"7/20/2020\", \"7/21/2020\", \"7/22/2020\", \"7/23/2020\", \"7/24/2020\", \"7/27/2020\", \"7/28/2020\", \"7/29/2020\", \"7/30/2020\", \"7/31/2020\", \"8/3/2020\", \"8/4/2020\", \"8/5/2020\", \"8/6/2020\", \"8/7/2020\", \"8/10/2020\", \"8/11/2020\", \"8/12/2020\", \"8/13/2020\", \"8/14/2020\", \"8/17/2020\", \"8/18/2020\", \"8/19/2020\", \"8/20/2020\", \"8/21/2020\", \"8/24/2020\", \"8/25/2020\", \"8/26/2020\", \"8/27/2020\", \"8/28/2020\"]}],                        {\"template\": {\"data\": {\"bar\": [{\"error_x\": {\"color\": \"#2a3f5f\"}, \"error_y\": {\"color\": \"#2a3f5f\"}, \"marker\": {\"line\": {\"color\": \"#E5ECF6\", \"width\": 0.5}}, \"type\": \"bar\"}], \"barpolar\": [{\"marker\": {\"line\": {\"color\": \"#E5ECF6\", \"width\": 0.5}}, \"type\": \"barpolar\"}], \"carpet\": [{\"aaxis\": {\"endlinecolor\": \"#2a3f5f\", \"gridcolor\": \"white\", \"linecolor\": \"white\", \"minorgridcolor\": \"white\", \"startlinecolor\": \"#2a3f5f\"}, \"baxis\": {\"endlinecolor\": \"#2a3f5f\", \"gridcolor\": \"white\", \"linecolor\": \"white\", \"minorgridcolor\": \"white\", \"startlinecolor\": \"#2a3f5f\"}, \"type\": \"carpet\"}], \"choropleth\": [{\"colorbar\": {\"outlinewidth\": 0, \"ticks\": \"\"}, \"type\": \"choropleth\"}], \"contour\": [{\"colorbar\": {\"outlinewidth\": 0, \"ticks\": \"\"}, \"colorscale\": [[0.0, \"#0d0887\"], [0.1111111111111111, \"#46039f\"], [0.2222222222222222, \"#7201a8\"], [0.3333333333333333, \"#9c179e\"], [0.4444444444444444, \"#bd3786\"], [0.5555555555555556, \"#d8576b\"], [0.6666666666666666, \"#ed7953\"], [0.7777777777777778, \"#fb9f3a\"], [0.8888888888888888, \"#fdca26\"], [1.0, \"#f0f921\"]], \"type\": \"contour\"}], \"contourcarpet\": [{\"colorbar\": {\"outlinewidth\": 0, \"ticks\": \"\"}, \"type\": \"contourcarpet\"}], \"heatmap\": [{\"colorbar\": {\"outlinewidth\": 0, \"ticks\": \"\"}, \"colorscale\": [[0.0, \"#0d0887\"], [0.1111111111111111, \"#46039f\"], [0.2222222222222222, \"#7201a8\"], [0.3333333333333333, \"#9c179e\"], [0.4444444444444444, \"#bd3786\"], [0.5555555555555556, \"#d8576b\"], [0.6666666666666666, \"#ed7953\"], [0.7777777777777778, \"#fb9f3a\"], [0.8888888888888888, \"#fdca26\"], [1.0, \"#f0f921\"]], \"type\": \"heatmap\"}], \"heatmapgl\": [{\"colorbar\": {\"outlinewidth\": 0, \"ticks\": \"\"}, \"colorscale\": [[0.0, \"#0d0887\"], [0.1111111111111111, \"#46039f\"], [0.2222222222222222, \"#7201a8\"], [0.3333333333333333, \"#9c179e\"], [0.4444444444444444, \"#bd3786\"], [0.5555555555555556, \"#d8576b\"], [0.6666666666666666, \"#ed7953\"], [0.7777777777777778, \"#fb9f3a\"], [0.8888888888888888, \"#fdca26\"], [1.0, \"#f0f921\"]], \"type\": \"heatmapgl\"}], \"histogram\": [{\"marker\": {\"colorbar\": {\"outlinewidth\": 0, \"ticks\": \"\"}}, \"type\": \"histogram\"}], \"histogram2d\": [{\"colorbar\": {\"outlinewidth\": 0, \"ticks\": \"\"}, \"colorscale\": [[0.0, \"#0d0887\"], [0.1111111111111111, \"#46039f\"], [0.2222222222222222, \"#7201a8\"], [0.3333333333333333, \"#9c179e\"], [0.4444444444444444, \"#bd3786\"], [0.5555555555555556, \"#d8576b\"], [0.6666666666666666, \"#ed7953\"], [0.7777777777777778, \"#fb9f3a\"], [0.8888888888888888, \"#fdca26\"], [1.0, \"#f0f921\"]], \"type\": \"histogram2d\"}], \"histogram2dcontour\": [{\"colorbar\": {\"outlinewidth\": 0, \"ticks\": \"\"}, \"colorscale\": [[0.0, \"#0d0887\"], [0.1111111111111111, \"#46039f\"], [0.2222222222222222, \"#7201a8\"], [0.3333333333333333, \"#9c179e\"], [0.4444444444444444, \"#bd3786\"], [0.5555555555555556, \"#d8576b\"], [0.6666666666666666, \"#ed7953\"], [0.7777777777777778, \"#fb9f3a\"], [0.8888888888888888, \"#fdca26\"], [1.0, \"#f0f921\"]], \"type\": \"histogram2dcontour\"}], \"mesh3d\": [{\"colorbar\": {\"outlinewidth\": 0, \"ticks\": \"\"}, \"type\": \"mesh3d\"}], \"parcoords\": [{\"line\": {\"colorbar\": {\"outlinewidth\": 0, \"ticks\": \"\"}}, \"type\": \"parcoords\"}], \"pie\": [{\"automargin\": true, \"type\": \"pie\"}], \"scatter\": [{\"marker\": {\"colorbar\": {\"outlinewidth\": 0, \"ticks\": \"\"}}, \"type\": \"scatter\"}], \"scatter3d\": [{\"line\": {\"colorbar\": {\"outlinewidth\": 0, \"ticks\": \"\"}}, \"marker\": {\"colorbar\": {\"outlinewidth\": 0, \"ticks\": \"\"}}, \"type\": \"scatter3d\"}], \"scattercarpet\": [{\"marker\": {\"colorbar\": {\"outlinewidth\": 0, \"ticks\": \"\"}}, \"type\": \"scattercarpet\"}], \"scattergeo\": [{\"marker\": {\"colorbar\": {\"outlinewidth\": 0, \"ticks\": \"\"}}, \"type\": \"scattergeo\"}], \"scattergl\": [{\"marker\": {\"colorbar\": {\"outlinewidth\": 0, \"ticks\": \"\"}}, \"type\": \"scattergl\"}], \"scattermapbox\": [{\"marker\": {\"colorbar\": {\"outlinewidth\": 0, \"ticks\": \"\"}}, \"type\": \"scattermapbox\"}], \"scatterpolar\": [{\"marker\": {\"colorbar\": {\"outlinewidth\": 0, \"ticks\": \"\"}}, \"type\": \"scatterpolar\"}], \"scatterpolargl\": [{\"marker\": {\"colorbar\": {\"outlinewidth\": 0, \"ticks\": \"\"}}, \"type\": \"scatterpolargl\"}], \"scatterternary\": [{\"marker\": {\"colorbar\": {\"outlinewidth\": 0, \"ticks\": \"\"}}, \"type\": \"scatterternary\"}], \"surface\": [{\"colorbar\": {\"outlinewidth\": 0, \"ticks\": \"\"}, \"colorscale\": [[0.0, \"#0d0887\"], [0.1111111111111111, \"#46039f\"], [0.2222222222222222, \"#7201a8\"], [0.3333333333333333, \"#9c179e\"], [0.4444444444444444, \"#bd3786\"], [0.5555555555555556, \"#d8576b\"], [0.6666666666666666, \"#ed7953\"], [0.7777777777777778, \"#fb9f3a\"], [0.8888888888888888, \"#fdca26\"], [1.0, \"#f0f921\"]], \"type\": \"surface\"}], \"table\": [{\"cells\": {\"fill\": {\"color\": \"#EBF0F8\"}, \"line\": {\"color\": \"white\"}}, \"header\": {\"fill\": {\"color\": \"#C8D4E3\"}, \"line\": {\"color\": \"white\"}}, \"type\": \"table\"}]}, \"layout\": {\"annotationdefaults\": {\"arrowcolor\": \"#2a3f5f\", \"arrowhead\": 0, \"arrowwidth\": 1}, \"coloraxis\": {\"colorbar\": {\"outlinewidth\": 0, \"ticks\": \"\"}}, \"colorscale\": {\"diverging\": [[0, \"#8e0152\"], [0.1, \"#c51b7d\"], [0.2, \"#de77ae\"], [0.3, \"#f1b6da\"], [0.4, \"#fde0ef\"], [0.5, \"#f7f7f7\"], [0.6, \"#e6f5d0\"], [0.7, \"#b8e186\"], [0.8, \"#7fbc41\"], [0.9, \"#4d9221\"], [1, \"#276419\"]], \"sequential\": [[0.0, \"#0d0887\"], [0.1111111111111111, \"#46039f\"], [0.2222222222222222, \"#7201a8\"], [0.3333333333333333, \"#9c179e\"], [0.4444444444444444, \"#bd3786\"], [0.5555555555555556, \"#d8576b\"], [0.6666666666666666, \"#ed7953\"], [0.7777777777777778, \"#fb9f3a\"], [0.8888888888888888, \"#fdca26\"], [1.0, \"#f0f921\"]], \"sequentialminus\": [[0.0, \"#0d0887\"], [0.1111111111111111, \"#46039f\"], [0.2222222222222222, \"#7201a8\"], [0.3333333333333333, \"#9c179e\"], [0.4444444444444444, \"#bd3786\"], [0.5555555555555556, \"#d8576b\"], [0.6666666666666666, \"#ed7953\"], [0.7777777777777778, \"#fb9f3a\"], [0.8888888888888888, \"#fdca26\"], [1.0, \"#f0f921\"]]}, \"colorway\": [\"#636efa\", \"#EF553B\", \"#00cc96\", \"#ab63fa\", \"#FFA15A\", \"#19d3f3\", \"#FF6692\", \"#B6E880\", \"#FF97FF\", \"#FECB52\"], \"font\": {\"color\": \"#2a3f5f\"}, \"geo\": {\"bgcolor\": \"white\", \"lakecolor\": \"white\", \"landcolor\": \"#E5ECF6\", \"showlakes\": true, \"showland\": true, \"subunitcolor\": \"white\"}, \"hoverlabel\": {\"align\": \"left\"}, \"hovermode\": \"closest\", \"mapbox\": {\"style\": \"light\"}, \"paper_bgcolor\": \"white\", \"plot_bgcolor\": \"#E5ECF6\", \"polar\": {\"angularaxis\": {\"gridcolor\": \"white\", \"linecolor\": \"white\", \"ticks\": \"\"}, \"bgcolor\": \"#E5ECF6\", \"radialaxis\": {\"gridcolor\": \"white\", \"linecolor\": \"white\", \"ticks\": \"\"}}, \"scene\": {\"xaxis\": {\"backgroundcolor\": \"#E5ECF6\", \"gridcolor\": \"white\", \"gridwidth\": 2, \"linecolor\": \"white\", \"showbackground\": true, \"ticks\": \"\", \"zerolinecolor\": \"white\"}, \"yaxis\": {\"backgroundcolor\": \"#E5ECF6\", \"gridcolor\": \"white\", \"gridwidth\": 2, \"linecolor\": \"white\", \"showbackground\": true, \"ticks\": \"\", \"zerolinecolor\": \"white\"}, \"zaxis\": {\"backgroundcolor\": \"#E5ECF6\", \"gridcolor\": \"white\", \"gridwidth\": 2, \"linecolor\": \"white\", \"showbackground\": true, \"ticks\": \"\", \"zerolinecolor\": \"white\"}}, \"shapedefaults\": {\"line\": {\"color\": \"#2a3f5f\"}}, \"ternary\": {\"aaxis\": {\"gridcolor\": \"white\", \"linecolor\": \"white\", \"ticks\": \"\"}, \"baxis\": {\"gridcolor\": \"white\", \"linecolor\": \"white\", \"ticks\": \"\"}, \"bgcolor\": \"#E5ECF6\", \"caxis\": {\"gridcolor\": \"white\", \"linecolor\": \"white\", \"ticks\": \"\"}}, \"title\": {\"x\": 0.05}, \"xaxis\": {\"automargin\": true, \"gridcolor\": \"white\", \"linecolor\": \"white\", \"ticks\": \"\", \"title\": {\"standoff\": 15}, \"zerolinecolor\": \"white\", \"zerolinewidth\": 2}, \"yaxis\": {\"automargin\": true, \"gridcolor\": \"white\", \"linecolor\": \"white\", \"ticks\": \"\", \"title\": {\"standoff\": 15}, \"zerolinecolor\": \"white\", \"zerolinewidth\": 2}}}},                        {\"responsive\": true}                    ).then(function(){\n",
       "                            \n",
       "var gd = document.getElementById('a4e94f2d-1b43-4cb1-be47-d83c53055298');\n",
       "var x = new MutationObserver(function (mutations, observer) {{\n",
       "        var display = window.getComputedStyle(gd).display;\n",
       "        if (!display || display === 'none') {{\n",
       "            console.log([gd, 'removed!']);\n",
       "            Plotly.purge(gd);\n",
       "            observer.disconnect();\n",
       "        }}\n",
       "}});\n",
       "\n",
       "// Listen for the removal of the full notebook cells\n",
       "var notebookContainer = gd.closest('#notebook-container');\n",
       "if (notebookContainer) {{\n",
       "    x.observe(notebookContainer, {childList: true});\n",
       "}}\n",
       "\n",
       "// Listen for the clearing of the current output cell\n",
       "var outputEl = gd.closest('.output');\n",
       "if (outputEl) {{\n",
       "    x.observe(outputEl, {childList: true});\n",
       "}}\n",
       "\n",
       "                        })                };                });            </script>        </div>"
      ]
     },
     "metadata": {},
     "output_type": "display_data"
    }
   ],
   "source": [
    "fig = go.Figure(data=[go.Candlestick(x=Facebook['Date'],\n",
    "                                    open = Facebook['Open'],\n",
    "                                    high = Facebook['High'],\n",
    "                                    low = Facebook['Low'],\n",
    "                                    close = Facebook['Close'])])\n",
    "fig.show()"
   ]
  },
  {
   "cell_type": "code",
   "execution_count": 454,
   "metadata": {},
   "outputs": [
    {
     "data": {
      "application/vnd.plotly.v1+json": {
       "config": {
        "plotlyServerURL": "https://plot.ly"
       },
       "data": [
        {
         "close": [
          135.42,
          146.57,
          140.4,
          142.71,
          137.35,
          135.98,
          148.34,
          146.92,
          156.11,
          149.7,
          160.23,
          157.71,
          152.11,
          155.26,
          153.83,
          165.27,
          163.49,
          165.13,
          165.14,
          165.51,
          173.7,
          171.88,
          177.04,
          178.6,
          175.06,
          167.82,
          173.52,
          171.42,
          174.55,
          174.05,
          169.81,
          177.43,
          179.21,
          174.57,
          178.84,
          180.76,
          182.54,
          183.6,
          184.68,
          186.74,
          182.51,
          179.75,
          180.53,
          183.16,
          184.91,
          183.63,
          185.66,
          183.43,
          183.51,
          181.57,
          181.81,
          181.4,
          183.25,
          182.83,
          184.91,
          185.36,
          182.92,
          187.2,
          188.36,
          189.8,
          196.84,
          186.27,
          187.74,
          188.94,
          193.57,
          194.24,
          196.32,
          195.15,
          200.57,
          201.91,
          197.84,
          200.34,
          196.33,
          198.44,
          203.51,
          204.7,
          206.26,
          210.7,
          208.25,
          212.83,
          214.32,
          213.67,
          207.07,
          208.35,
          208.04,
          203.92,
          202.88,
          211.6,
          208.75,
          211.75,
          202.54,
          201.3,
          203.85,
          202.02,
          204.06,
          203.9,
          205.01,
          216.54,
          213.29,
          212.94,
          216.35,
          212.48,
          208.25,
          203.38,
          209.19,
          208.7,
          208.9,
          210.28,
          211.49,
          209.7,
          214.58,
          213.02,
          213.69,
          216.47,
          221.15,
          226.58,
          228.91
         ],
         "high": [
          149.35,
          147.5,
          146,
          150.15,
          147.1,
          140.57,
          149.6,
          154.33,
          156.66,
          154.89,
          160.6,
          164.78,
          157.75,
          155.48,
          157.38,
          166.5,
          170,
          166.67,
          167.37,
          165.57,
          173.75,
          173.57,
          177.28,
          180,
          178.75,
          173.67,
          174,
          175.06,
          174.56,
          176.9,
          175.67,
          177.68,
          180.4,
          178.64,
          179,
          183.65,
          184.2,
          184.55,
          185,
          187.51,
          187.04,
          184.05,
          180.69,
          187.06,
          186.2,
          186.6,
          185.85,
          186.67,
          184.46,
          186.5,
          181.99,
          184.15,
          184.27,
          183,
          185,
          185.94,
          185.84,
          187.73,
          188.55,
          190.7,
          198.52,
          195.76,
          191.72,
          190.82,
          195.58,
          196.32,
          196.49,
          199.29,
          200.76,
          203.95,
          203.25,
          200.61,
          199.89,
          198.53,
          204.4,
          206.35,
          208.02,
          211.13,
          214.67,
          213.26,
          216.38,
          214.08,
          215.8,
          208.85,
          211.33,
          205.7,
          205.04,
          212.3,
          213.94,
          212.3,
          210.92,
          202.86,
          203.97,
          204.7,
          204.65,
          204.46,
          205.1,
          217.64,
          214.77,
          215,
          216.37,
          215.7,
          211.88,
          207.65,
          210.28,
          211.35,
          209.59,
          211.19,
          212.36,
          212.1,
          215,
          216.25,
          215.52,
          216.61,
          222.09,
          231.15,
          230.64
         ],
         "low": [
          135,
          135,
          135.02,
          139,
          135.86,
          132.52,
          141.27,
          144.44,
          148.37,
          149.2,
          150.01,
          156.56,
          150.82,
          150.36,
          152.19,
          157.58,
          163.26,
          163.5,
          163.33,
          162.3,
          168,
          169.24,
          172.9,
          175.87,
          174.99,
          166.11,
          170.82,
          170.91,
          170.71,
          173.3,
          169.39,
          171.88,
          176.23,
          174.01,
          173.8,
          179.9,
          181.63,
          182.58,
          183.36,
          182.85,
          182.3,
          176.54,
          175.68,
          177,
          183.96,
          183.49,
          183.94,
          183.29,
          182.54,
          181.1,
          176.6,
          180.38,
          180.41,
          181.46,
          181.35,
          183.58,
          182.3,
          182.01,
          184.44,
          187.26,
          191.01,
          186.07,
          185.18,
          184.01,
          191.46,
          193.69,
          194,
          194.37,
          195.23,
          201.43,
          196.56,
          195.47,
          194.88,
          193.55,
          197.74,
          201.77,
          205,
          208.09,
          207.99,
          208.69,
          211.47,
          211.08,
          206.5,
          202.03,
          205.03,
          202.31,
          201.39,
          203.01,
          208.03,
          208.39,
          202.15,
          197.51,
          200.86,
          201.74,
          202.01,
          199.57,
          199.01,
          210.44,
          210.31,
          211.57,
          211.55,
          210.93,
          206.35,
          203.14,
          204.75,
          208.15,
          207.51,
          208.92,
          209.21,
          209.25,
          208.91,
          212.85,
          212.43,
          213.1,
          217.36,
          219.4,
          226.58
         ],
         "open": [
          140,
          140,
          138,
          142.77,
          146,
          137.01,
          143.75,
          148.91,
          148.4,
          151.75,
          152.44,
          159.4,
          153,
          151.86,
          155.1,
          160.32,
          169.59,
          165.67,
          166.36,
          164.35,
          169,
          171.2,
          174.3,
          179.5,
          176.63,
          173.5,
          171.39,
          174.11,
          172.06,
          176.59,
          175.59,
          173.22,
          180,
          175.8,
          174.49,
          180.62,
          182.08,
          184.17,
          184.98,
          183.15,
          186.8,
          182.55,
          177.54,
          179.06,
          185.75,
          185.03,
          184.81,
          185.4,
          183.19,
          186.34,
          180.2,
          180.74,
          182.73,
          182.54,
          184.25,
          184.82,
          184.3,
          182.62,
          185.94,
          188,
          191.13,
          193.13,
          190.54,
          184.58,
          192.89,
          195.03,
          194,
          198.59,
          195.79,
          202.09,
          201.6,
          197.8,
          199.73,
          195.78,
          197.88,
          203.14,
          205.68,
          208.83,
          210.45,
          210.07,
          216.33,
          213.62,
          214.48,
          206.13,
          209.56,
          205.4,
          204.47,
          205,
          213.66,
          209.2,
          207.19,
          200.42,
          201.47,
          203.61,
          202.5,
          201,
          204.4,
          211.52,
          214.17,
          214.9,
          212.34,
          214.85,
          211.67,
          207.16,
          205.29,
          209.44,
          208.76,
          209.6,
          210.53,
          211.49,
          209.54,
          213.86,
          214.79,
          213.1,
          217.88,
          222.89,
          228.18
         ],
         "type": "candlestick",
         "x": [
          "3/16/2020",
          "3/17/2020",
          "3/18/2020",
          "3/19/2020",
          "3/20/2020",
          "3/23/2020",
          "3/24/2020",
          "3/25/2020",
          "3/26/2020",
          "3/27/2020",
          "3/30/2020",
          "3/31/2020",
          "4/1/2020",
          "4/2/2020",
          "4/3/2020",
          "4/6/2020",
          "4/7/2020",
          "4/8/2020",
          "4/9/2020",
          "4/13/2020",
          "4/14/2020",
          "4/15/2020",
          "4/16/2020",
          "4/17/2020",
          "4/20/2020",
          "4/21/2020",
          "4/22/2020",
          "4/23/2020",
          "4/24/2020",
          "4/27/2020",
          "4/28/2020",
          "4/29/2020",
          "4/30/2020",
          "5/1/2020",
          "5/4/2020",
          "5/5/2020",
          "5/6/2020",
          "5/7/2020",
          "5/8/2020",
          "5/11/2020",
          "5/12/2020",
          "5/13/2020",
          "5/14/2020",
          "5/15/2020",
          "5/18/2020",
          "5/19/2020",
          "5/20/2020",
          "5/21/2020",
          "5/22/2020",
          "5/26/2020",
          "5/27/2020",
          "5/28/2020",
          "5/29/2020",
          "6/1/2020",
          "6/2/2020",
          "6/3/2020",
          "6/4/2020",
          "6/5/2020",
          "6/8/2020",
          "6/9/2020",
          "6/10/2020",
          "6/11/2020",
          "6/12/2020",
          "6/15/2020",
          "6/16/2020",
          "6/17/2020",
          "6/18/2020",
          "6/19/2020",
          "6/22/2020",
          "6/23/2020",
          "6/24/2020",
          "6/25/2020",
          "6/26/2020",
          "6/29/2020",
          "6/30/2020",
          "7/1/2020",
          "7/2/2020",
          "7/6/2020",
          "7/7/2020",
          "7/8/2020",
          "7/9/2020",
          "7/10/2020",
          "7/13/2020",
          "7/14/2020",
          "7/15/2020",
          "7/16/2020",
          "7/17/2020",
          "7/20/2020",
          "7/21/2020",
          "7/22/2020",
          "7/23/2020",
          "7/24/2020",
          "7/27/2020",
          "7/28/2020",
          "7/29/2020",
          "7/30/2020",
          "7/31/2020",
          "8/3/2020",
          "8/4/2020",
          "8/5/2020",
          "8/6/2020",
          "8/7/2020",
          "8/10/2020",
          "8/11/2020",
          "8/12/2020",
          "8/13/2020",
          "8/14/2020",
          "8/17/2020",
          "8/18/2020",
          "8/19/2020",
          "8/20/2020",
          "8/21/2020",
          "8/24/2020",
          "8/25/2020",
          "8/26/2020",
          "8/27/2020",
          "8/28/2020"
         ]
        }
       ],
       "layout": {
        "template": {
         "data": {
          "bar": [
           {
            "error_x": {
             "color": "#2a3f5f"
            },
            "error_y": {
             "color": "#2a3f5f"
            },
            "marker": {
             "line": {
              "color": "#E5ECF6",
              "width": 0.5
             }
            },
            "type": "bar"
           }
          ],
          "barpolar": [
           {
            "marker": {
             "line": {
              "color": "#E5ECF6",
              "width": 0.5
             }
            },
            "type": "barpolar"
           }
          ],
          "carpet": [
           {
            "aaxis": {
             "endlinecolor": "#2a3f5f",
             "gridcolor": "white",
             "linecolor": "white",
             "minorgridcolor": "white",
             "startlinecolor": "#2a3f5f"
            },
            "baxis": {
             "endlinecolor": "#2a3f5f",
             "gridcolor": "white",
             "linecolor": "white",
             "minorgridcolor": "white",
             "startlinecolor": "#2a3f5f"
            },
            "type": "carpet"
           }
          ],
          "choropleth": [
           {
            "colorbar": {
             "outlinewidth": 0,
             "ticks": ""
            },
            "type": "choropleth"
           }
          ],
          "contour": [
           {
            "colorbar": {
             "outlinewidth": 0,
             "ticks": ""
            },
            "colorscale": [
             [
              0,
              "#0d0887"
             ],
             [
              0.1111111111111111,
              "#46039f"
             ],
             [
              0.2222222222222222,
              "#7201a8"
             ],
             [
              0.3333333333333333,
              "#9c179e"
             ],
             [
              0.4444444444444444,
              "#bd3786"
             ],
             [
              0.5555555555555556,
              "#d8576b"
             ],
             [
              0.6666666666666666,
              "#ed7953"
             ],
             [
              0.7777777777777778,
              "#fb9f3a"
             ],
             [
              0.8888888888888888,
              "#fdca26"
             ],
             [
              1,
              "#f0f921"
             ]
            ],
            "type": "contour"
           }
          ],
          "contourcarpet": [
           {
            "colorbar": {
             "outlinewidth": 0,
             "ticks": ""
            },
            "type": "contourcarpet"
           }
          ],
          "heatmap": [
           {
            "colorbar": {
             "outlinewidth": 0,
             "ticks": ""
            },
            "colorscale": [
             [
              0,
              "#0d0887"
             ],
             [
              0.1111111111111111,
              "#46039f"
             ],
             [
              0.2222222222222222,
              "#7201a8"
             ],
             [
              0.3333333333333333,
              "#9c179e"
             ],
             [
              0.4444444444444444,
              "#bd3786"
             ],
             [
              0.5555555555555556,
              "#d8576b"
             ],
             [
              0.6666666666666666,
              "#ed7953"
             ],
             [
              0.7777777777777778,
              "#fb9f3a"
             ],
             [
              0.8888888888888888,
              "#fdca26"
             ],
             [
              1,
              "#f0f921"
             ]
            ],
            "type": "heatmap"
           }
          ],
          "heatmapgl": [
           {
            "colorbar": {
             "outlinewidth": 0,
             "ticks": ""
            },
            "colorscale": [
             [
              0,
              "#0d0887"
             ],
             [
              0.1111111111111111,
              "#46039f"
             ],
             [
              0.2222222222222222,
              "#7201a8"
             ],
             [
              0.3333333333333333,
              "#9c179e"
             ],
             [
              0.4444444444444444,
              "#bd3786"
             ],
             [
              0.5555555555555556,
              "#d8576b"
             ],
             [
              0.6666666666666666,
              "#ed7953"
             ],
             [
              0.7777777777777778,
              "#fb9f3a"
             ],
             [
              0.8888888888888888,
              "#fdca26"
             ],
             [
              1,
              "#f0f921"
             ]
            ],
            "type": "heatmapgl"
           }
          ],
          "histogram": [
           {
            "marker": {
             "colorbar": {
              "outlinewidth": 0,
              "ticks": ""
             }
            },
            "type": "histogram"
           }
          ],
          "histogram2d": [
           {
            "colorbar": {
             "outlinewidth": 0,
             "ticks": ""
            },
            "colorscale": [
             [
              0,
              "#0d0887"
             ],
             [
              0.1111111111111111,
              "#46039f"
             ],
             [
              0.2222222222222222,
              "#7201a8"
             ],
             [
              0.3333333333333333,
              "#9c179e"
             ],
             [
              0.4444444444444444,
              "#bd3786"
             ],
             [
              0.5555555555555556,
              "#d8576b"
             ],
             [
              0.6666666666666666,
              "#ed7953"
             ],
             [
              0.7777777777777778,
              "#fb9f3a"
             ],
             [
              0.8888888888888888,
              "#fdca26"
             ],
             [
              1,
              "#f0f921"
             ]
            ],
            "type": "histogram2d"
           }
          ],
          "histogram2dcontour": [
           {
            "colorbar": {
             "outlinewidth": 0,
             "ticks": ""
            },
            "colorscale": [
             [
              0,
              "#0d0887"
             ],
             [
              0.1111111111111111,
              "#46039f"
             ],
             [
              0.2222222222222222,
              "#7201a8"
             ],
             [
              0.3333333333333333,
              "#9c179e"
             ],
             [
              0.4444444444444444,
              "#bd3786"
             ],
             [
              0.5555555555555556,
              "#d8576b"
             ],
             [
              0.6666666666666666,
              "#ed7953"
             ],
             [
              0.7777777777777778,
              "#fb9f3a"
             ],
             [
              0.8888888888888888,
              "#fdca26"
             ],
             [
              1,
              "#f0f921"
             ]
            ],
            "type": "histogram2dcontour"
           }
          ],
          "mesh3d": [
           {
            "colorbar": {
             "outlinewidth": 0,
             "ticks": ""
            },
            "type": "mesh3d"
           }
          ],
          "parcoords": [
           {
            "line": {
             "colorbar": {
              "outlinewidth": 0,
              "ticks": ""
             }
            },
            "type": "parcoords"
           }
          ],
          "pie": [
           {
            "automargin": true,
            "type": "pie"
           }
          ],
          "scatter": [
           {
            "marker": {
             "colorbar": {
              "outlinewidth": 0,
              "ticks": ""
             }
            },
            "type": "scatter"
           }
          ],
          "scatter3d": [
           {
            "line": {
             "colorbar": {
              "outlinewidth": 0,
              "ticks": ""
             }
            },
            "marker": {
             "colorbar": {
              "outlinewidth": 0,
              "ticks": ""
             }
            },
            "type": "scatter3d"
           }
          ],
          "scattercarpet": [
           {
            "marker": {
             "colorbar": {
              "outlinewidth": 0,
              "ticks": ""
             }
            },
            "type": "scattercarpet"
           }
          ],
          "scattergeo": [
           {
            "marker": {
             "colorbar": {
              "outlinewidth": 0,
              "ticks": ""
             }
            },
            "type": "scattergeo"
           }
          ],
          "scattergl": [
           {
            "marker": {
             "colorbar": {
              "outlinewidth": 0,
              "ticks": ""
             }
            },
            "type": "scattergl"
           }
          ],
          "scattermapbox": [
           {
            "marker": {
             "colorbar": {
              "outlinewidth": 0,
              "ticks": ""
             }
            },
            "type": "scattermapbox"
           }
          ],
          "scatterpolar": [
           {
            "marker": {
             "colorbar": {
              "outlinewidth": 0,
              "ticks": ""
             }
            },
            "type": "scatterpolar"
           }
          ],
          "scatterpolargl": [
           {
            "marker": {
             "colorbar": {
              "outlinewidth": 0,
              "ticks": ""
             }
            },
            "type": "scatterpolargl"
           }
          ],
          "scatterternary": [
           {
            "marker": {
             "colorbar": {
              "outlinewidth": 0,
              "ticks": ""
             }
            },
            "type": "scatterternary"
           }
          ],
          "surface": [
           {
            "colorbar": {
             "outlinewidth": 0,
             "ticks": ""
            },
            "colorscale": [
             [
              0,
              "#0d0887"
             ],
             [
              0.1111111111111111,
              "#46039f"
             ],
             [
              0.2222222222222222,
              "#7201a8"
             ],
             [
              0.3333333333333333,
              "#9c179e"
             ],
             [
              0.4444444444444444,
              "#bd3786"
             ],
             [
              0.5555555555555556,
              "#d8576b"
             ],
             [
              0.6666666666666666,
              "#ed7953"
             ],
             [
              0.7777777777777778,
              "#fb9f3a"
             ],
             [
              0.8888888888888888,
              "#fdca26"
             ],
             [
              1,
              "#f0f921"
             ]
            ],
            "type": "surface"
           }
          ],
          "table": [
           {
            "cells": {
             "fill": {
              "color": "#EBF0F8"
             },
             "line": {
              "color": "white"
             }
            },
            "header": {
             "fill": {
              "color": "#C8D4E3"
             },
             "line": {
              "color": "white"
             }
            },
            "type": "table"
           }
          ]
         },
         "layout": {
          "annotationdefaults": {
           "arrowcolor": "#2a3f5f",
           "arrowhead": 0,
           "arrowwidth": 1
          },
          "coloraxis": {
           "colorbar": {
            "outlinewidth": 0,
            "ticks": ""
           }
          },
          "colorscale": {
           "diverging": [
            [
             0,
             "#8e0152"
            ],
            [
             0.1,
             "#c51b7d"
            ],
            [
             0.2,
             "#de77ae"
            ],
            [
             0.3,
             "#f1b6da"
            ],
            [
             0.4,
             "#fde0ef"
            ],
            [
             0.5,
             "#f7f7f7"
            ],
            [
             0.6,
             "#e6f5d0"
            ],
            [
             0.7,
             "#b8e186"
            ],
            [
             0.8,
             "#7fbc41"
            ],
            [
             0.9,
             "#4d9221"
            ],
            [
             1,
             "#276419"
            ]
           ],
           "sequential": [
            [
             0,
             "#0d0887"
            ],
            [
             0.1111111111111111,
             "#46039f"
            ],
            [
             0.2222222222222222,
             "#7201a8"
            ],
            [
             0.3333333333333333,
             "#9c179e"
            ],
            [
             0.4444444444444444,
             "#bd3786"
            ],
            [
             0.5555555555555556,
             "#d8576b"
            ],
            [
             0.6666666666666666,
             "#ed7953"
            ],
            [
             0.7777777777777778,
             "#fb9f3a"
            ],
            [
             0.8888888888888888,
             "#fdca26"
            ],
            [
             1,
             "#f0f921"
            ]
           ],
           "sequentialminus": [
            [
             0,
             "#0d0887"
            ],
            [
             0.1111111111111111,
             "#46039f"
            ],
            [
             0.2222222222222222,
             "#7201a8"
            ],
            [
             0.3333333333333333,
             "#9c179e"
            ],
            [
             0.4444444444444444,
             "#bd3786"
            ],
            [
             0.5555555555555556,
             "#d8576b"
            ],
            [
             0.6666666666666666,
             "#ed7953"
            ],
            [
             0.7777777777777778,
             "#fb9f3a"
            ],
            [
             0.8888888888888888,
             "#fdca26"
            ],
            [
             1,
             "#f0f921"
            ]
           ]
          },
          "colorway": [
           "#636efa",
           "#EF553B",
           "#00cc96",
           "#ab63fa",
           "#FFA15A",
           "#19d3f3",
           "#FF6692",
           "#B6E880",
           "#FF97FF",
           "#FECB52"
          ],
          "font": {
           "color": "#2a3f5f"
          },
          "geo": {
           "bgcolor": "white",
           "lakecolor": "white",
           "landcolor": "#E5ECF6",
           "showlakes": true,
           "showland": true,
           "subunitcolor": "white"
          },
          "hoverlabel": {
           "align": "left"
          },
          "hovermode": "closest",
          "mapbox": {
           "style": "light"
          },
          "paper_bgcolor": "white",
          "plot_bgcolor": "#E5ECF6",
          "polar": {
           "angularaxis": {
            "gridcolor": "white",
            "linecolor": "white",
            "ticks": ""
           },
           "bgcolor": "#E5ECF6",
           "radialaxis": {
            "gridcolor": "white",
            "linecolor": "white",
            "ticks": ""
           }
          },
          "scene": {
           "xaxis": {
            "backgroundcolor": "#E5ECF6",
            "gridcolor": "white",
            "gridwidth": 2,
            "linecolor": "white",
            "showbackground": true,
            "ticks": "",
            "zerolinecolor": "white"
           },
           "yaxis": {
            "backgroundcolor": "#E5ECF6",
            "gridcolor": "white",
            "gridwidth": 2,
            "linecolor": "white",
            "showbackground": true,
            "ticks": "",
            "zerolinecolor": "white"
           },
           "zaxis": {
            "backgroundcolor": "#E5ECF6",
            "gridcolor": "white",
            "gridwidth": 2,
            "linecolor": "white",
            "showbackground": true,
            "ticks": "",
            "zerolinecolor": "white"
           }
          },
          "shapedefaults": {
           "line": {
            "color": "#2a3f5f"
           }
          },
          "ternary": {
           "aaxis": {
            "gridcolor": "white",
            "linecolor": "white",
            "ticks": ""
           },
           "baxis": {
            "gridcolor": "white",
            "linecolor": "white",
            "ticks": ""
           },
           "bgcolor": "#E5ECF6",
           "caxis": {
            "gridcolor": "white",
            "linecolor": "white",
            "ticks": ""
           }
          },
          "title": {
           "x": 0.05
          },
          "xaxis": {
           "automargin": true,
           "gridcolor": "white",
           "linecolor": "white",
           "ticks": "",
           "title": {
            "standoff": 15
           },
           "zerolinecolor": "white",
           "zerolinewidth": 2
          },
          "yaxis": {
           "automargin": true,
           "gridcolor": "white",
           "linecolor": "white",
           "ticks": "",
           "title": {
            "standoff": 15
           },
           "zerolinecolor": "white",
           "zerolinewidth": 2
          }
         }
        }
       }
      },
      "text/html": [
       "<div>                            <div id=\"0b041693-42b2-4103-936b-64de895241bb\" class=\"plotly-graph-div\" style=\"height:525px; width:100%;\"></div>            <script type=\"text/javascript\">                require([\"plotly\"], function(Plotly) {                    window.PLOTLYENV=window.PLOTLYENV || {};                                    if (document.getElementById(\"0b041693-42b2-4103-936b-64de895241bb\")) {                    Plotly.newPlot(                        \"0b041693-42b2-4103-936b-64de895241bb\",                        [{\"close\": [135.42, 146.57, 140.4, 142.71, 137.35, 135.98, 148.34, 146.92, 156.11, 149.7, 160.23, 157.71, 152.11, 155.26, 153.83, 165.27, 163.49, 165.13, 165.14, 165.51, 173.7, 171.88, 177.04, 178.6, 175.06, 167.82, 173.52, 171.42, 174.55, 174.05, 169.81, 177.43, 179.21, 174.57, 178.84, 180.76, 182.54, 183.6, 184.68, 186.74, 182.51, 179.75, 180.53, 183.16, 184.91, 183.63, 185.66, 183.43, 183.51, 181.57, 181.81, 181.4, 183.25, 182.83, 184.91, 185.36, 182.92, 187.2, 188.36, 189.8, 196.84, 186.27, 187.74, 188.94, 193.57, 194.24, 196.32, 195.15, 200.57, 201.91, 197.84, 200.34, 196.33, 198.44, 203.51, 204.7, 206.26, 210.7, 208.25, 212.83, 214.32, 213.67, 207.07, 208.35, 208.04, 203.92, 202.88, 211.6, 208.75, 211.75, 202.54, 201.3, 203.85, 202.02, 204.06, 203.9, 205.01, 216.54, 213.29, 212.94, 216.35, 212.48, 208.25, 203.38, 209.19, 208.7, 208.9, 210.28, 211.49, 209.7, 214.58, 213.02, 213.69, 216.47, 221.15, 226.58, 228.91], \"high\": [149.35, 147.5, 146.0, 150.15, 147.1, 140.57, 149.6, 154.33, 156.66, 154.89, 160.6, 164.78, 157.75, 155.48, 157.38, 166.5, 170.0, 166.67, 167.37, 165.57, 173.75, 173.57, 177.28, 180.0, 178.75, 173.67, 174.0, 175.06, 174.56, 176.9, 175.67, 177.68, 180.4, 178.64, 179.0, 183.65, 184.2, 184.55, 185.0, 187.51, 187.04, 184.05, 180.69, 187.06, 186.2, 186.6, 185.85, 186.67, 184.46, 186.5, 181.99, 184.15, 184.27, 183.0, 185.0, 185.94, 185.84, 187.73, 188.55, 190.7, 198.52, 195.76, 191.72, 190.82, 195.58, 196.32, 196.49, 199.29, 200.76, 203.95, 203.25, 200.61, 199.89, 198.53, 204.4, 206.35, 208.02, 211.13, 214.67, 213.26, 216.38, 214.08, 215.8, 208.85, 211.33, 205.7, 205.04, 212.3, 213.94, 212.3, 210.92, 202.86, 203.97, 204.7, 204.65, 204.46, 205.1, 217.64, 214.77, 215.0, 216.37, 215.7, 211.88, 207.65, 210.28, 211.35, 209.59, 211.19, 212.36, 212.1, 215.0, 216.25, 215.52, 216.61, 222.09, 231.15, 230.64], \"low\": [135.0, 135.0, 135.02, 139.0, 135.86, 132.52, 141.27, 144.44, 148.37, 149.2, 150.01, 156.56, 150.82, 150.36, 152.19, 157.58, 163.26, 163.5, 163.33, 162.3, 168.0, 169.24, 172.9, 175.87, 174.99, 166.11, 170.82, 170.91, 170.71, 173.3, 169.39, 171.88, 176.23, 174.01, 173.8, 179.9, 181.63, 182.58, 183.36, 182.85, 182.3, 176.54, 175.68, 177.0, 183.96, 183.49, 183.94, 183.29, 182.54, 181.1, 176.6, 180.38, 180.41, 181.46, 181.35, 183.58, 182.3, 182.01, 184.44, 187.26, 191.01, 186.07, 185.18, 184.01, 191.46, 193.69, 194.0, 194.37, 195.23, 201.43, 196.56, 195.47, 194.88, 193.55, 197.74, 201.77, 205.0, 208.09, 207.99, 208.69, 211.47, 211.08, 206.5, 202.03, 205.03, 202.31, 201.39, 203.01, 208.03, 208.39, 202.15, 197.51, 200.86, 201.74, 202.01, 199.57, 199.01, 210.44, 210.31, 211.57, 211.55, 210.93, 206.35, 203.14, 204.75, 208.15, 207.51, 208.92, 209.21, 209.25, 208.91, 212.85, 212.43, 213.1, 217.36, 219.4, 226.58], \"open\": [140.0, 140.0, 138.0, 142.77, 146.0, 137.01, 143.75, 148.91, 148.4, 151.75, 152.44, 159.4, 153.0, 151.86, 155.1, 160.32, 169.59, 165.67, 166.36, 164.35, 169.0, 171.2, 174.3, 179.5, 176.63, 173.5, 171.39, 174.11, 172.06, 176.59, 175.59, 173.22, 180.0, 175.8, 174.49, 180.62, 182.08, 184.17, 184.98, 183.15, 186.8, 182.55, 177.54, 179.06, 185.75, 185.03, 184.81, 185.4, 183.19, 186.34, 180.2, 180.74, 182.73, 182.54, 184.25, 184.82, 184.3, 182.62, 185.94, 188.0, 191.13, 193.13, 190.54, 184.58, 192.89, 195.03, 194.0, 198.59, 195.79, 202.09, 201.6, 197.8, 199.73, 195.78, 197.88, 203.14, 205.68, 208.83, 210.45, 210.07, 216.33, 213.62, 214.48, 206.13, 209.56, 205.4, 204.47, 205.0, 213.66, 209.2, 207.19, 200.42, 201.47, 203.61, 202.5, 201.0, 204.4, 211.52, 214.17, 214.9, 212.34, 214.85, 211.67, 207.16, 205.29, 209.44, 208.76, 209.6, 210.53, 211.49, 209.54, 213.86, 214.79, 213.1, 217.88, 222.89, 228.18], \"type\": \"candlestick\", \"x\": [\"3/16/2020\", \"3/17/2020\", \"3/18/2020\", \"3/19/2020\", \"3/20/2020\", \"3/23/2020\", \"3/24/2020\", \"3/25/2020\", \"3/26/2020\", \"3/27/2020\", \"3/30/2020\", \"3/31/2020\", \"4/1/2020\", \"4/2/2020\", \"4/3/2020\", \"4/6/2020\", \"4/7/2020\", \"4/8/2020\", \"4/9/2020\", \"4/13/2020\", \"4/14/2020\", \"4/15/2020\", \"4/16/2020\", \"4/17/2020\", \"4/20/2020\", \"4/21/2020\", \"4/22/2020\", \"4/23/2020\", \"4/24/2020\", \"4/27/2020\", \"4/28/2020\", \"4/29/2020\", \"4/30/2020\", \"5/1/2020\", \"5/4/2020\", \"5/5/2020\", \"5/6/2020\", \"5/7/2020\", \"5/8/2020\", \"5/11/2020\", \"5/12/2020\", \"5/13/2020\", \"5/14/2020\", \"5/15/2020\", \"5/18/2020\", \"5/19/2020\", \"5/20/2020\", \"5/21/2020\", \"5/22/2020\", \"5/26/2020\", \"5/27/2020\", \"5/28/2020\", \"5/29/2020\", \"6/1/2020\", \"6/2/2020\", \"6/3/2020\", \"6/4/2020\", \"6/5/2020\", \"6/8/2020\", \"6/9/2020\", \"6/10/2020\", \"6/11/2020\", \"6/12/2020\", \"6/15/2020\", \"6/16/2020\", \"6/17/2020\", \"6/18/2020\", \"6/19/2020\", \"6/22/2020\", \"6/23/2020\", \"6/24/2020\", \"6/25/2020\", \"6/26/2020\", \"6/29/2020\", \"6/30/2020\", \"7/1/2020\", \"7/2/2020\", \"7/6/2020\", \"7/7/2020\", \"7/8/2020\", \"7/9/2020\", \"7/10/2020\", \"7/13/2020\", \"7/14/2020\", \"7/15/2020\", \"7/16/2020\", \"7/17/2020\", \"7/20/2020\", \"7/21/2020\", \"7/22/2020\", \"7/23/2020\", \"7/24/2020\", \"7/27/2020\", \"7/28/2020\", \"7/29/2020\", \"7/30/2020\", \"7/31/2020\", \"8/3/2020\", \"8/4/2020\", \"8/5/2020\", \"8/6/2020\", \"8/7/2020\", \"8/10/2020\", \"8/11/2020\", \"8/12/2020\", \"8/13/2020\", \"8/14/2020\", \"8/17/2020\", \"8/18/2020\", \"8/19/2020\", \"8/20/2020\", \"8/21/2020\", \"8/24/2020\", \"8/25/2020\", \"8/26/2020\", \"8/27/2020\", \"8/28/2020\"]}],                        {\"template\": {\"data\": {\"bar\": [{\"error_x\": {\"color\": \"#2a3f5f\"}, \"error_y\": {\"color\": \"#2a3f5f\"}, \"marker\": {\"line\": {\"color\": \"#E5ECF6\", \"width\": 0.5}}, \"type\": \"bar\"}], \"barpolar\": [{\"marker\": {\"line\": {\"color\": \"#E5ECF6\", \"width\": 0.5}}, \"type\": \"barpolar\"}], \"carpet\": [{\"aaxis\": {\"endlinecolor\": \"#2a3f5f\", \"gridcolor\": \"white\", \"linecolor\": \"white\", \"minorgridcolor\": \"white\", \"startlinecolor\": \"#2a3f5f\"}, \"baxis\": {\"endlinecolor\": \"#2a3f5f\", \"gridcolor\": \"white\", \"linecolor\": \"white\", \"minorgridcolor\": \"white\", \"startlinecolor\": \"#2a3f5f\"}, \"type\": \"carpet\"}], \"choropleth\": [{\"colorbar\": {\"outlinewidth\": 0, \"ticks\": \"\"}, \"type\": \"choropleth\"}], \"contour\": [{\"colorbar\": {\"outlinewidth\": 0, \"ticks\": \"\"}, \"colorscale\": [[0.0, \"#0d0887\"], [0.1111111111111111, \"#46039f\"], [0.2222222222222222, \"#7201a8\"], [0.3333333333333333, \"#9c179e\"], [0.4444444444444444, \"#bd3786\"], [0.5555555555555556, \"#d8576b\"], [0.6666666666666666, \"#ed7953\"], [0.7777777777777778, \"#fb9f3a\"], [0.8888888888888888, \"#fdca26\"], [1.0, \"#f0f921\"]], \"type\": \"contour\"}], \"contourcarpet\": [{\"colorbar\": {\"outlinewidth\": 0, \"ticks\": \"\"}, \"type\": \"contourcarpet\"}], \"heatmap\": [{\"colorbar\": {\"outlinewidth\": 0, \"ticks\": \"\"}, \"colorscale\": [[0.0, \"#0d0887\"], [0.1111111111111111, \"#46039f\"], [0.2222222222222222, \"#7201a8\"], [0.3333333333333333, \"#9c179e\"], [0.4444444444444444, \"#bd3786\"], [0.5555555555555556, \"#d8576b\"], [0.6666666666666666, \"#ed7953\"], [0.7777777777777778, \"#fb9f3a\"], [0.8888888888888888, \"#fdca26\"], [1.0, \"#f0f921\"]], \"type\": \"heatmap\"}], \"heatmapgl\": [{\"colorbar\": {\"outlinewidth\": 0, \"ticks\": \"\"}, \"colorscale\": [[0.0, \"#0d0887\"], [0.1111111111111111, \"#46039f\"], [0.2222222222222222, \"#7201a8\"], [0.3333333333333333, \"#9c179e\"], [0.4444444444444444, \"#bd3786\"], [0.5555555555555556, \"#d8576b\"], [0.6666666666666666, \"#ed7953\"], [0.7777777777777778, \"#fb9f3a\"], [0.8888888888888888, \"#fdca26\"], [1.0, \"#f0f921\"]], \"type\": \"heatmapgl\"}], \"histogram\": [{\"marker\": {\"colorbar\": {\"outlinewidth\": 0, \"ticks\": \"\"}}, \"type\": \"histogram\"}], \"histogram2d\": [{\"colorbar\": {\"outlinewidth\": 0, \"ticks\": \"\"}, \"colorscale\": [[0.0, \"#0d0887\"], [0.1111111111111111, \"#46039f\"], [0.2222222222222222, \"#7201a8\"], [0.3333333333333333, \"#9c179e\"], [0.4444444444444444, \"#bd3786\"], [0.5555555555555556, \"#d8576b\"], [0.6666666666666666, \"#ed7953\"], [0.7777777777777778, \"#fb9f3a\"], [0.8888888888888888, \"#fdca26\"], [1.0, \"#f0f921\"]], \"type\": \"histogram2d\"}], \"histogram2dcontour\": [{\"colorbar\": {\"outlinewidth\": 0, \"ticks\": \"\"}, \"colorscale\": [[0.0, \"#0d0887\"], [0.1111111111111111, \"#46039f\"], [0.2222222222222222, \"#7201a8\"], [0.3333333333333333, \"#9c179e\"], [0.4444444444444444, \"#bd3786\"], [0.5555555555555556, \"#d8576b\"], [0.6666666666666666, \"#ed7953\"], [0.7777777777777778, \"#fb9f3a\"], [0.8888888888888888, \"#fdca26\"], [1.0, \"#f0f921\"]], \"type\": \"histogram2dcontour\"}], \"mesh3d\": [{\"colorbar\": {\"outlinewidth\": 0, \"ticks\": \"\"}, \"type\": \"mesh3d\"}], \"parcoords\": [{\"line\": {\"colorbar\": {\"outlinewidth\": 0, \"ticks\": \"\"}}, \"type\": \"parcoords\"}], \"pie\": [{\"automargin\": true, \"type\": \"pie\"}], \"scatter\": [{\"marker\": {\"colorbar\": {\"outlinewidth\": 0, \"ticks\": \"\"}}, \"type\": \"scatter\"}], \"scatter3d\": [{\"line\": {\"colorbar\": {\"outlinewidth\": 0, \"ticks\": \"\"}}, \"marker\": {\"colorbar\": {\"outlinewidth\": 0, \"ticks\": \"\"}}, \"type\": \"scatter3d\"}], \"scattercarpet\": [{\"marker\": {\"colorbar\": {\"outlinewidth\": 0, \"ticks\": \"\"}}, \"type\": \"scattercarpet\"}], \"scattergeo\": [{\"marker\": {\"colorbar\": {\"outlinewidth\": 0, \"ticks\": \"\"}}, \"type\": \"scattergeo\"}], \"scattergl\": [{\"marker\": {\"colorbar\": {\"outlinewidth\": 0, \"ticks\": \"\"}}, \"type\": \"scattergl\"}], \"scattermapbox\": [{\"marker\": {\"colorbar\": {\"outlinewidth\": 0, \"ticks\": \"\"}}, \"type\": \"scattermapbox\"}], \"scatterpolar\": [{\"marker\": {\"colorbar\": {\"outlinewidth\": 0, \"ticks\": \"\"}}, \"type\": \"scatterpolar\"}], \"scatterpolargl\": [{\"marker\": {\"colorbar\": {\"outlinewidth\": 0, \"ticks\": \"\"}}, \"type\": \"scatterpolargl\"}], \"scatterternary\": [{\"marker\": {\"colorbar\": {\"outlinewidth\": 0, \"ticks\": \"\"}}, \"type\": \"scatterternary\"}], \"surface\": [{\"colorbar\": {\"outlinewidth\": 0, \"ticks\": \"\"}, \"colorscale\": [[0.0, \"#0d0887\"], [0.1111111111111111, \"#46039f\"], [0.2222222222222222, \"#7201a8\"], [0.3333333333333333, \"#9c179e\"], [0.4444444444444444, \"#bd3786\"], [0.5555555555555556, \"#d8576b\"], [0.6666666666666666, \"#ed7953\"], [0.7777777777777778, \"#fb9f3a\"], [0.8888888888888888, \"#fdca26\"], [1.0, \"#f0f921\"]], \"type\": \"surface\"}], \"table\": [{\"cells\": {\"fill\": {\"color\": \"#EBF0F8\"}, \"line\": {\"color\": \"white\"}}, \"header\": {\"fill\": {\"color\": \"#C8D4E3\"}, \"line\": {\"color\": \"white\"}}, \"type\": \"table\"}]}, \"layout\": {\"annotationdefaults\": {\"arrowcolor\": \"#2a3f5f\", \"arrowhead\": 0, \"arrowwidth\": 1}, \"coloraxis\": {\"colorbar\": {\"outlinewidth\": 0, \"ticks\": \"\"}}, \"colorscale\": {\"diverging\": [[0, \"#8e0152\"], [0.1, \"#c51b7d\"], [0.2, \"#de77ae\"], [0.3, \"#f1b6da\"], [0.4, \"#fde0ef\"], [0.5, \"#f7f7f7\"], [0.6, \"#e6f5d0\"], [0.7, \"#b8e186\"], [0.8, \"#7fbc41\"], [0.9, \"#4d9221\"], [1, \"#276419\"]], \"sequential\": [[0.0, \"#0d0887\"], [0.1111111111111111, \"#46039f\"], [0.2222222222222222, \"#7201a8\"], [0.3333333333333333, \"#9c179e\"], [0.4444444444444444, \"#bd3786\"], [0.5555555555555556, \"#d8576b\"], [0.6666666666666666, \"#ed7953\"], [0.7777777777777778, \"#fb9f3a\"], [0.8888888888888888, \"#fdca26\"], [1.0, \"#f0f921\"]], \"sequentialminus\": [[0.0, \"#0d0887\"], [0.1111111111111111, \"#46039f\"], [0.2222222222222222, \"#7201a8\"], [0.3333333333333333, \"#9c179e\"], [0.4444444444444444, \"#bd3786\"], [0.5555555555555556, \"#d8576b\"], [0.6666666666666666, \"#ed7953\"], [0.7777777777777778, \"#fb9f3a\"], [0.8888888888888888, \"#fdca26\"], [1.0, \"#f0f921\"]]}, \"colorway\": [\"#636efa\", \"#EF553B\", \"#00cc96\", \"#ab63fa\", \"#FFA15A\", \"#19d3f3\", \"#FF6692\", \"#B6E880\", \"#FF97FF\", \"#FECB52\"], \"font\": {\"color\": \"#2a3f5f\"}, \"geo\": {\"bgcolor\": \"white\", \"lakecolor\": \"white\", \"landcolor\": \"#E5ECF6\", \"showlakes\": true, \"showland\": true, \"subunitcolor\": \"white\"}, \"hoverlabel\": {\"align\": \"left\"}, \"hovermode\": \"closest\", \"mapbox\": {\"style\": \"light\"}, \"paper_bgcolor\": \"white\", \"plot_bgcolor\": \"#E5ECF6\", \"polar\": {\"angularaxis\": {\"gridcolor\": \"white\", \"linecolor\": \"white\", \"ticks\": \"\"}, \"bgcolor\": \"#E5ECF6\", \"radialaxis\": {\"gridcolor\": \"white\", \"linecolor\": \"white\", \"ticks\": \"\"}}, \"scene\": {\"xaxis\": {\"backgroundcolor\": \"#E5ECF6\", \"gridcolor\": \"white\", \"gridwidth\": 2, \"linecolor\": \"white\", \"showbackground\": true, \"ticks\": \"\", \"zerolinecolor\": \"white\"}, \"yaxis\": {\"backgroundcolor\": \"#E5ECF6\", \"gridcolor\": \"white\", \"gridwidth\": 2, \"linecolor\": \"white\", \"showbackground\": true, \"ticks\": \"\", \"zerolinecolor\": \"white\"}, \"zaxis\": {\"backgroundcolor\": \"#E5ECF6\", \"gridcolor\": \"white\", \"gridwidth\": 2, \"linecolor\": \"white\", \"showbackground\": true, \"ticks\": \"\", \"zerolinecolor\": \"white\"}}, \"shapedefaults\": {\"line\": {\"color\": \"#2a3f5f\"}}, \"ternary\": {\"aaxis\": {\"gridcolor\": \"white\", \"linecolor\": \"white\", \"ticks\": \"\"}, \"baxis\": {\"gridcolor\": \"white\", \"linecolor\": \"white\", \"ticks\": \"\"}, \"bgcolor\": \"#E5ECF6\", \"caxis\": {\"gridcolor\": \"white\", \"linecolor\": \"white\", \"ticks\": \"\"}}, \"title\": {\"x\": 0.05}, \"xaxis\": {\"automargin\": true, \"gridcolor\": \"white\", \"linecolor\": \"white\", \"ticks\": \"\", \"title\": {\"standoff\": 15}, \"zerolinecolor\": \"white\", \"zerolinewidth\": 2}, \"yaxis\": {\"automargin\": true, \"gridcolor\": \"white\", \"linecolor\": \"white\", \"ticks\": \"\", \"title\": {\"standoff\": 15}, \"zerolinecolor\": \"white\", \"zerolinewidth\": 2}}}},                        {\"responsive\": true}                    ).then(function(){\n",
       "                            \n",
       "var gd = document.getElementById('0b041693-42b2-4103-936b-64de895241bb');\n",
       "var x = new MutationObserver(function (mutations, observer) {{\n",
       "        var display = window.getComputedStyle(gd).display;\n",
       "        if (!display || display === 'none') {{\n",
       "            console.log([gd, 'removed!']);\n",
       "            Plotly.purge(gd);\n",
       "            observer.disconnect();\n",
       "        }}\n",
       "}});\n",
       "\n",
       "// Listen for the removal of the full notebook cells\n",
       "var notebookContainer = gd.closest('#notebook-container');\n",
       "if (notebookContainer) {{\n",
       "    x.observe(notebookContainer, {childList: true});\n",
       "}}\n",
       "\n",
       "// Listen for the clearing of the current output cell\n",
       "var outputEl = gd.closest('.output');\n",
       "if (outputEl) {{\n",
       "    x.observe(outputEl, {childList: true});\n",
       "}}\n",
       "\n",
       "                        })                };                });            </script>        </div>"
      ]
     },
     "metadata": {},
     "output_type": "display_data"
    }
   ],
   "source": [
    "fig = go.Figure(data=[go.Candlestick(x=Microsoft['Date'],\n",
    "                                    open = Microsoft['Open'],\n",
    "                                    high = Microsoft['High'],\n",
    "                                    low = Microsoft['Low'],\n",
    "                                    close = Microsoft['Close'])])\n",
    "fig.show()"
   ]
  },
  {
   "cell_type": "code",
   "execution_count": 455,
   "metadata": {},
   "outputs": [
    {
     "data": {
      "application/vnd.plotly.v1+json": {
       "config": {
        "plotlyServerURL": "https://plot.ly"
       },
       "data": [
        {
         "close": [
          445.07,
          430.2,
          361.22,
          427.64,
          427.53,
          434.29,
          505,
          539.25,
          528.16,
          514.36,
          502.13,
          524,
          481.56,
          454.47,
          480.01,
          516.24,
          545.45,
          548.84,
          573,
          650.95,
          709.89,
          729.83,
          745.21,
          753.89,
          746.36,
          686.72,
          732.11,
          705.63,
          725.15,
          798.75,
          769.12,
          800.51,
          781.88,
          701.32,
          761.19,
          768.21,
          782.58,
          780.04,
          819.42,
          811.29,
          809.41,
          790.96,
          803.33,
          799.17,
          813.63,
          808.01,
          815.56,
          827.6,
          816.88,
          818.87,
          820.23,
          805.81,
          835,
          898.1,
          881.56,
          882.96,
          864.38,
          885.66,
          949.92,
          940.67,
          1025.05,
          972.84,
          935.28,
          990.9,
          982.13,
          991.79,
          1003.96,
          1000.9,
          994.32,
          1001.78,
          960.85,
          985.98,
          959.74,
          1009.35,
          1079.81,
          1119.63,
          1208.66,
          1371.58,
          1389.86,
          1365.88,
          1394.28,
          1544.65,
          1497.06,
          1516.8,
          1546.01,
          1500.64,
          1500.84,
          1643,
          1568.36,
          1592.33,
          1513.07,
          1417,
          1539.6,
          1476.49,
          1499.11,
          1487.49,
          1430.76,
          1485,
          1487,
          1485.02,
          1489.58,
          1452.71,
          1418.57,
          1374.39,
          1554.76,
          1621,
          1650.71,
          1835.64,
          1887.09,
          1878.53,
          2001.83,
          2049.98,
          2014.2,
          2023.34,
          2153.17,
          2238.75,
          2213.4
         ],
         "high": [
          494.87,
          471.85,
          404.86,
          452,
          477,
          442,
          513.69,
          557,
          560,
          525.8,
          516.65,
          542.96,
          513.95,
          494.26,
          515.49,
          521,
          565,
          557.21,
          575.18,
          652,
          741.88,
          753.13,
          759.45,
          774.95,
          765.57,
          753.33,
          734,
          734,
          730.73,
          799.49,
          805,
          803.2,
          869.82,
          772.77,
          762,
          798.92,
          789.8,
          796.4,
          824,
          824,
          843.29,
          826,
          803.36,
          805.05,
          834.72,
          822.07,
          826,
          832.5,
          831.78,
          834.6,
          827.71,
          824.75,
          835,
          899,
          908.66,
          897.94,
          895.75,
          886.52,
          950,
          954.44,
          1027.48,
          1018.96,
          987.98,
          998.84,
          1012.88,
          1005,
          1019.2,
          1015.97,
          1008.88,
          1012,
          1000.88,
          985.98,
          995,
          1010,
          1087.69,
          1135.33,
          1228,
          1377.79,
          1429.5,
          1417.26,
          1408.56,
          1548.92,
          1794.99,
          1590,
          1550,
          1531.71,
          1537.51,
          1650,
          1675,
          1626.42,
          1689,
          1465,
          1547.94,
          1564.7,
          1534.81,
          1513.24,
          1517.05,
          1509.81,
          1527.41,
          1499.84,
          1517.31,
          1499.75,
          1457.5,
          1420,
          1585,
          1651.18,
          1668.8,
          1845.86,
          1923.9,
          1911,
          2021.99,
          2095.49,
          2129,
          2027.95,
          2166,
          2295.6,
          2318.49
         ],
         "low": [
          442.17,
          396,
          350.51,
          358.46,
          425.79,
          410.5,
          474,
          511.11,
          512.25,
          494.03,
          491.23,
          497,
          475.1,
          446.4,
          468.39,
          497.96,
          532.34,
          533.33,
          557.11,
          580.53,
          692.43,
          710,
          706.72,
          747.66,
          712.21,
          673.79,
          688.71,
          703.13,
          698.18,
          735,
          756.69,
          783.16,
          763.5,
          683.04,
          698,
          762.18,
          761.11,
          772.35,
          787.01,
          785,
          808,
          763.3,
          764,
          786.55,
          803.88,
          806.08,
          811.8,
          796,
          812,
          815.71,
          785,
          801.69,
          804.21,
          854.1,
          871,
          880.1,
          858.44,
          866.2,
          909.16,
          923.93,
          982.5,
          972,
          912.6,
          908.5,
          962.39,
          982.57,
          994.47,
          991.34,
          990.02,
          994.01,
          953.14,
          937.15,
          954.87,
          948.52,
          1003.73,
          1080.5,
          1185.6,
          1266.04,
          1336.71,
          1311.34,
          1351.28,
          1376.01,
          1471.11,
          1431,
          1457,
          1466,
          1490,
          1488,
          1558,
          1562,
          1480.77,
          1366.54,
          1413,
          1474.42,
          1487,
          1471,
          1420.98,
          1444.38,
          1462,
          1468.31,
          1477.26,
          1415.01,
          1385.84,
          1365,
          1435,
          1567.26,
          1626.64,
          1672.83,
          1845.11,
          1841.21,
          1857.06,
          2025.05,
          1927.52,
          1968,
          2053.63,
          2142.5,
          2186.52
         ],
         "open": [
          469.5,
          440.01,
          389,
          374.7,
          438.2,
          433.6,
          477.3,
          545.25,
          547.39,
          505,
          510.26,
          501.25,
          504,
          481.03,
          509.5,
          511.2,
          545,
          554.2,
          562.09,
          590.16,
          698.97,
          742,
          716.94,
          772.28,
          732.7,
          730.12,
          703.98,
          727.6,
          710.81,
          737.61,
          795.64,
          790.17,
          855.19,
          755,
          701,
          789.79,
          776.5,
          777.21,
          793.77,
          790.51,
          827,
          820.83,
          780,
          790.35,
          827.78,
          815.17,
          820.5,
          816,
          822.17,
          834.5,
          820.86,
          813.51,
          808.75,
          858,
          894.7,
          888.12,
          889.88,
          877.84,
          919,
          940.01,
          991.88,
          990.2,
          980,
          917.79,
          1011.85,
          987.71,
          1003,
          1012.78,
          999.95,
          998.88,
          994.11,
          954.27,
          994.78,
          969.01,
          1006.5,
          1083,
          1221.48,
          1276.69,
          1405.01,
          1405,
          1396.99,
          1396,
          1659,
          1556,
          1543,
          1477.16,
          1513.45,
          1519.01,
          1639.93,
          1599,
          1678.95,
          1416.01,
          1435,
          1504,
          1501,
          1488,
          1515,
          1449.2,
          1495.01,
          1492.99,
          1490.83,
          1499.54,
          1448,
          1396,
          1470,
          1611,
          1664.99,
          1677,
          1898.99,
          1865,
          1860.68,
          2044.76,
          2126.28,
          1974.89,
          2060,
          2180.46,
          2295.12
         ],
         "type": "candlestick",
         "x": [
          "3/16/2020",
          "3/17/2020",
          "3/18/2020",
          "3/19/2020",
          "3/20/2020",
          "3/23/2020",
          "3/24/2020",
          "3/25/2020",
          "3/26/2020",
          "3/27/2020",
          "3/30/2020",
          "3/31/2020",
          "4/1/2020",
          "4/2/2020",
          "4/3/2020",
          "4/6/2020",
          "4/7/2020",
          "4/8/2020",
          "4/9/2020",
          "4/13/2020",
          "4/14/2020",
          "4/15/2020",
          "4/16/2020",
          "4/17/2020",
          "4/20/2020",
          "4/21/2020",
          "4/22/2020",
          "4/23/2020",
          "4/24/2020",
          "4/27/2020",
          "4/28/2020",
          "4/29/2020",
          "4/30/2020",
          "5/1/2020",
          "5/4/2020",
          "5/5/2020",
          "5/6/2020",
          "5/7/2020",
          "5/8/2020",
          "5/11/2020",
          "5/12/2020",
          "5/13/2020",
          "5/14/2020",
          "5/15/2020",
          "5/18/2020",
          "5/19/2020",
          "5/20/2020",
          "5/21/2020",
          "5/22/2020",
          "5/26/2020",
          "5/27/2020",
          "5/28/2020",
          "5/29/2020",
          "6/1/2020",
          "6/2/2020",
          "6/3/2020",
          "6/4/2020",
          "6/5/2020",
          "6/8/2020",
          "6/9/2020",
          "6/10/2020",
          "6/11/2020",
          "6/12/2020",
          "6/15/2020",
          "6/16/2020",
          "6/17/2020",
          "6/18/2020",
          "6/19/2020",
          "6/22/2020",
          "6/23/2020",
          "6/24/2020",
          "6/25/2020",
          "6/26/2020",
          "6/29/2020",
          "6/30/2020",
          "7/1/2020",
          "7/2/2020",
          "7/6/2020",
          "7/7/2020",
          "7/8/2020",
          "7/9/2020",
          "7/10/2020",
          "7/13/2020",
          "7/14/2020",
          "7/15/2020",
          "7/16/2020",
          "7/17/2020",
          "7/20/2020",
          "7/21/2020",
          "7/22/2020",
          "7/23/2020",
          "7/24/2020",
          "7/27/2020",
          "7/28/2020",
          "7/29/2020",
          "7/30/2020",
          "7/31/2020",
          "8/3/2020",
          "8/4/2020",
          "8/5/2020",
          "8/6/2020",
          "8/7/2020",
          "8/10/2020",
          "8/11/2020",
          "8/12/2020",
          "8/13/2020",
          "8/14/2020",
          "8/17/2020",
          "8/18/2020",
          "8/19/2020",
          "8/20/2020",
          "8/21/2020",
          "8/24/2020",
          "8/25/2020",
          "8/26/2020",
          "8/27/2020",
          "8/28/2020"
         ]
        }
       ],
       "layout": {
        "template": {
         "data": {
          "bar": [
           {
            "error_x": {
             "color": "#2a3f5f"
            },
            "error_y": {
             "color": "#2a3f5f"
            },
            "marker": {
             "line": {
              "color": "#E5ECF6",
              "width": 0.5
             }
            },
            "type": "bar"
           }
          ],
          "barpolar": [
           {
            "marker": {
             "line": {
              "color": "#E5ECF6",
              "width": 0.5
             }
            },
            "type": "barpolar"
           }
          ],
          "carpet": [
           {
            "aaxis": {
             "endlinecolor": "#2a3f5f",
             "gridcolor": "white",
             "linecolor": "white",
             "minorgridcolor": "white",
             "startlinecolor": "#2a3f5f"
            },
            "baxis": {
             "endlinecolor": "#2a3f5f",
             "gridcolor": "white",
             "linecolor": "white",
             "minorgridcolor": "white",
             "startlinecolor": "#2a3f5f"
            },
            "type": "carpet"
           }
          ],
          "choropleth": [
           {
            "colorbar": {
             "outlinewidth": 0,
             "ticks": ""
            },
            "type": "choropleth"
           }
          ],
          "contour": [
           {
            "colorbar": {
             "outlinewidth": 0,
             "ticks": ""
            },
            "colorscale": [
             [
              0,
              "#0d0887"
             ],
             [
              0.1111111111111111,
              "#46039f"
             ],
             [
              0.2222222222222222,
              "#7201a8"
             ],
             [
              0.3333333333333333,
              "#9c179e"
             ],
             [
              0.4444444444444444,
              "#bd3786"
             ],
             [
              0.5555555555555556,
              "#d8576b"
             ],
             [
              0.6666666666666666,
              "#ed7953"
             ],
             [
              0.7777777777777778,
              "#fb9f3a"
             ],
             [
              0.8888888888888888,
              "#fdca26"
             ],
             [
              1,
              "#f0f921"
             ]
            ],
            "type": "contour"
           }
          ],
          "contourcarpet": [
           {
            "colorbar": {
             "outlinewidth": 0,
             "ticks": ""
            },
            "type": "contourcarpet"
           }
          ],
          "heatmap": [
           {
            "colorbar": {
             "outlinewidth": 0,
             "ticks": ""
            },
            "colorscale": [
             [
              0,
              "#0d0887"
             ],
             [
              0.1111111111111111,
              "#46039f"
             ],
             [
              0.2222222222222222,
              "#7201a8"
             ],
             [
              0.3333333333333333,
              "#9c179e"
             ],
             [
              0.4444444444444444,
              "#bd3786"
             ],
             [
              0.5555555555555556,
              "#d8576b"
             ],
             [
              0.6666666666666666,
              "#ed7953"
             ],
             [
              0.7777777777777778,
              "#fb9f3a"
             ],
             [
              0.8888888888888888,
              "#fdca26"
             ],
             [
              1,
              "#f0f921"
             ]
            ],
            "type": "heatmap"
           }
          ],
          "heatmapgl": [
           {
            "colorbar": {
             "outlinewidth": 0,
             "ticks": ""
            },
            "colorscale": [
             [
              0,
              "#0d0887"
             ],
             [
              0.1111111111111111,
              "#46039f"
             ],
             [
              0.2222222222222222,
              "#7201a8"
             ],
             [
              0.3333333333333333,
              "#9c179e"
             ],
             [
              0.4444444444444444,
              "#bd3786"
             ],
             [
              0.5555555555555556,
              "#d8576b"
             ],
             [
              0.6666666666666666,
              "#ed7953"
             ],
             [
              0.7777777777777778,
              "#fb9f3a"
             ],
             [
              0.8888888888888888,
              "#fdca26"
             ],
             [
              1,
              "#f0f921"
             ]
            ],
            "type": "heatmapgl"
           }
          ],
          "histogram": [
           {
            "marker": {
             "colorbar": {
              "outlinewidth": 0,
              "ticks": ""
             }
            },
            "type": "histogram"
           }
          ],
          "histogram2d": [
           {
            "colorbar": {
             "outlinewidth": 0,
             "ticks": ""
            },
            "colorscale": [
             [
              0,
              "#0d0887"
             ],
             [
              0.1111111111111111,
              "#46039f"
             ],
             [
              0.2222222222222222,
              "#7201a8"
             ],
             [
              0.3333333333333333,
              "#9c179e"
             ],
             [
              0.4444444444444444,
              "#bd3786"
             ],
             [
              0.5555555555555556,
              "#d8576b"
             ],
             [
              0.6666666666666666,
              "#ed7953"
             ],
             [
              0.7777777777777778,
              "#fb9f3a"
             ],
             [
              0.8888888888888888,
              "#fdca26"
             ],
             [
              1,
              "#f0f921"
             ]
            ],
            "type": "histogram2d"
           }
          ],
          "histogram2dcontour": [
           {
            "colorbar": {
             "outlinewidth": 0,
             "ticks": ""
            },
            "colorscale": [
             [
              0,
              "#0d0887"
             ],
             [
              0.1111111111111111,
              "#46039f"
             ],
             [
              0.2222222222222222,
              "#7201a8"
             ],
             [
              0.3333333333333333,
              "#9c179e"
             ],
             [
              0.4444444444444444,
              "#bd3786"
             ],
             [
              0.5555555555555556,
              "#d8576b"
             ],
             [
              0.6666666666666666,
              "#ed7953"
             ],
             [
              0.7777777777777778,
              "#fb9f3a"
             ],
             [
              0.8888888888888888,
              "#fdca26"
             ],
             [
              1,
              "#f0f921"
             ]
            ],
            "type": "histogram2dcontour"
           }
          ],
          "mesh3d": [
           {
            "colorbar": {
             "outlinewidth": 0,
             "ticks": ""
            },
            "type": "mesh3d"
           }
          ],
          "parcoords": [
           {
            "line": {
             "colorbar": {
              "outlinewidth": 0,
              "ticks": ""
             }
            },
            "type": "parcoords"
           }
          ],
          "pie": [
           {
            "automargin": true,
            "type": "pie"
           }
          ],
          "scatter": [
           {
            "marker": {
             "colorbar": {
              "outlinewidth": 0,
              "ticks": ""
             }
            },
            "type": "scatter"
           }
          ],
          "scatter3d": [
           {
            "line": {
             "colorbar": {
              "outlinewidth": 0,
              "ticks": ""
             }
            },
            "marker": {
             "colorbar": {
              "outlinewidth": 0,
              "ticks": ""
             }
            },
            "type": "scatter3d"
           }
          ],
          "scattercarpet": [
           {
            "marker": {
             "colorbar": {
              "outlinewidth": 0,
              "ticks": ""
             }
            },
            "type": "scattercarpet"
           }
          ],
          "scattergeo": [
           {
            "marker": {
             "colorbar": {
              "outlinewidth": 0,
              "ticks": ""
             }
            },
            "type": "scattergeo"
           }
          ],
          "scattergl": [
           {
            "marker": {
             "colorbar": {
              "outlinewidth": 0,
              "ticks": ""
             }
            },
            "type": "scattergl"
           }
          ],
          "scattermapbox": [
           {
            "marker": {
             "colorbar": {
              "outlinewidth": 0,
              "ticks": ""
             }
            },
            "type": "scattermapbox"
           }
          ],
          "scatterpolar": [
           {
            "marker": {
             "colorbar": {
              "outlinewidth": 0,
              "ticks": ""
             }
            },
            "type": "scatterpolar"
           }
          ],
          "scatterpolargl": [
           {
            "marker": {
             "colorbar": {
              "outlinewidth": 0,
              "ticks": ""
             }
            },
            "type": "scatterpolargl"
           }
          ],
          "scatterternary": [
           {
            "marker": {
             "colorbar": {
              "outlinewidth": 0,
              "ticks": ""
             }
            },
            "type": "scatterternary"
           }
          ],
          "surface": [
           {
            "colorbar": {
             "outlinewidth": 0,
             "ticks": ""
            },
            "colorscale": [
             [
              0,
              "#0d0887"
             ],
             [
              0.1111111111111111,
              "#46039f"
             ],
             [
              0.2222222222222222,
              "#7201a8"
             ],
             [
              0.3333333333333333,
              "#9c179e"
             ],
             [
              0.4444444444444444,
              "#bd3786"
             ],
             [
              0.5555555555555556,
              "#d8576b"
             ],
             [
              0.6666666666666666,
              "#ed7953"
             ],
             [
              0.7777777777777778,
              "#fb9f3a"
             ],
             [
              0.8888888888888888,
              "#fdca26"
             ],
             [
              1,
              "#f0f921"
             ]
            ],
            "type": "surface"
           }
          ],
          "table": [
           {
            "cells": {
             "fill": {
              "color": "#EBF0F8"
             },
             "line": {
              "color": "white"
             }
            },
            "header": {
             "fill": {
              "color": "#C8D4E3"
             },
             "line": {
              "color": "white"
             }
            },
            "type": "table"
           }
          ]
         },
         "layout": {
          "annotationdefaults": {
           "arrowcolor": "#2a3f5f",
           "arrowhead": 0,
           "arrowwidth": 1
          },
          "coloraxis": {
           "colorbar": {
            "outlinewidth": 0,
            "ticks": ""
           }
          },
          "colorscale": {
           "diverging": [
            [
             0,
             "#8e0152"
            ],
            [
             0.1,
             "#c51b7d"
            ],
            [
             0.2,
             "#de77ae"
            ],
            [
             0.3,
             "#f1b6da"
            ],
            [
             0.4,
             "#fde0ef"
            ],
            [
             0.5,
             "#f7f7f7"
            ],
            [
             0.6,
             "#e6f5d0"
            ],
            [
             0.7,
             "#b8e186"
            ],
            [
             0.8,
             "#7fbc41"
            ],
            [
             0.9,
             "#4d9221"
            ],
            [
             1,
             "#276419"
            ]
           ],
           "sequential": [
            [
             0,
             "#0d0887"
            ],
            [
             0.1111111111111111,
             "#46039f"
            ],
            [
             0.2222222222222222,
             "#7201a8"
            ],
            [
             0.3333333333333333,
             "#9c179e"
            ],
            [
             0.4444444444444444,
             "#bd3786"
            ],
            [
             0.5555555555555556,
             "#d8576b"
            ],
            [
             0.6666666666666666,
             "#ed7953"
            ],
            [
             0.7777777777777778,
             "#fb9f3a"
            ],
            [
             0.8888888888888888,
             "#fdca26"
            ],
            [
             1,
             "#f0f921"
            ]
           ],
           "sequentialminus": [
            [
             0,
             "#0d0887"
            ],
            [
             0.1111111111111111,
             "#46039f"
            ],
            [
             0.2222222222222222,
             "#7201a8"
            ],
            [
             0.3333333333333333,
             "#9c179e"
            ],
            [
             0.4444444444444444,
             "#bd3786"
            ],
            [
             0.5555555555555556,
             "#d8576b"
            ],
            [
             0.6666666666666666,
             "#ed7953"
            ],
            [
             0.7777777777777778,
             "#fb9f3a"
            ],
            [
             0.8888888888888888,
             "#fdca26"
            ],
            [
             1,
             "#f0f921"
            ]
           ]
          },
          "colorway": [
           "#636efa",
           "#EF553B",
           "#00cc96",
           "#ab63fa",
           "#FFA15A",
           "#19d3f3",
           "#FF6692",
           "#B6E880",
           "#FF97FF",
           "#FECB52"
          ],
          "font": {
           "color": "#2a3f5f"
          },
          "geo": {
           "bgcolor": "white",
           "lakecolor": "white",
           "landcolor": "#E5ECF6",
           "showlakes": true,
           "showland": true,
           "subunitcolor": "white"
          },
          "hoverlabel": {
           "align": "left"
          },
          "hovermode": "closest",
          "mapbox": {
           "style": "light"
          },
          "paper_bgcolor": "white",
          "plot_bgcolor": "#E5ECF6",
          "polar": {
           "angularaxis": {
            "gridcolor": "white",
            "linecolor": "white",
            "ticks": ""
           },
           "bgcolor": "#E5ECF6",
           "radialaxis": {
            "gridcolor": "white",
            "linecolor": "white",
            "ticks": ""
           }
          },
          "scene": {
           "xaxis": {
            "backgroundcolor": "#E5ECF6",
            "gridcolor": "white",
            "gridwidth": 2,
            "linecolor": "white",
            "showbackground": true,
            "ticks": "",
            "zerolinecolor": "white"
           },
           "yaxis": {
            "backgroundcolor": "#E5ECF6",
            "gridcolor": "white",
            "gridwidth": 2,
            "linecolor": "white",
            "showbackground": true,
            "ticks": "",
            "zerolinecolor": "white"
           },
           "zaxis": {
            "backgroundcolor": "#E5ECF6",
            "gridcolor": "white",
            "gridwidth": 2,
            "linecolor": "white",
            "showbackground": true,
            "ticks": "",
            "zerolinecolor": "white"
           }
          },
          "shapedefaults": {
           "line": {
            "color": "#2a3f5f"
           }
          },
          "ternary": {
           "aaxis": {
            "gridcolor": "white",
            "linecolor": "white",
            "ticks": ""
           },
           "baxis": {
            "gridcolor": "white",
            "linecolor": "white",
            "ticks": ""
           },
           "bgcolor": "#E5ECF6",
           "caxis": {
            "gridcolor": "white",
            "linecolor": "white",
            "ticks": ""
           }
          },
          "title": {
           "x": 0.05
          },
          "xaxis": {
           "automargin": true,
           "gridcolor": "white",
           "linecolor": "white",
           "ticks": "",
           "title": {
            "standoff": 15
           },
           "zerolinecolor": "white",
           "zerolinewidth": 2
          },
          "yaxis": {
           "automargin": true,
           "gridcolor": "white",
           "linecolor": "white",
           "ticks": "",
           "title": {
            "standoff": 15
           },
           "zerolinecolor": "white",
           "zerolinewidth": 2
          }
         }
        }
       }
      },
      "text/html": [
       "<div>                            <div id=\"cb98ea82-364a-420c-8349-cdcc34bfef7c\" class=\"plotly-graph-div\" style=\"height:525px; width:100%;\"></div>            <script type=\"text/javascript\">                require([\"plotly\"], function(Plotly) {                    window.PLOTLYENV=window.PLOTLYENV || {};                                    if (document.getElementById(\"cb98ea82-364a-420c-8349-cdcc34bfef7c\")) {                    Plotly.newPlot(                        \"cb98ea82-364a-420c-8349-cdcc34bfef7c\",                        [{\"close\": [445.07, 430.2, 361.22, 427.64, 427.53, 434.29, 505.0, 539.25, 528.16, 514.36, 502.13, 524.0, 481.56, 454.47, 480.01, 516.24, 545.45, 548.84, 573.0, 650.95, 709.89, 729.83, 745.21, 753.89, 746.36, 686.72, 732.11, 705.63, 725.15, 798.75, 769.12, 800.51, 781.88, 701.32, 761.19, 768.21, 782.58, 780.04, 819.42, 811.29, 809.41, 790.96, 803.33, 799.17, 813.63, 808.01, 815.56, 827.6, 816.88, 818.87, 820.23, 805.81, 835.0, 898.1, 881.56, 882.96, 864.38, 885.66, 949.92, 940.67, 1025.05, 972.84, 935.28, 990.9, 982.13, 991.79, 1003.96, 1000.9, 994.32, 1001.78, 960.85, 985.98, 959.74, 1009.35, 1079.81, 1119.63, 1208.66, 1371.58, 1389.86, 1365.88, 1394.28, 1544.65, 1497.06, 1516.8, 1546.01, 1500.64, 1500.84, 1643.0, 1568.36, 1592.33, 1513.07, 1417.0, 1539.6, 1476.49, 1499.11, 1487.49, 1430.76, 1485.0, 1487.0, 1485.02, 1489.58, 1452.71, 1418.57, 1374.39, 1554.76, 1621.0, 1650.71, 1835.64, 1887.09, 1878.53, 2001.83, 2049.98, 2014.2, 2023.34, 2153.17, 2238.75, 2213.4], \"high\": [494.87, 471.85, 404.86, 452.0, 477.0, 442.0, 513.69, 557.0, 560.0, 525.8, 516.65, 542.96, 513.95, 494.26, 515.49, 521.0, 565.0, 557.21, 575.18, 652.0, 741.88, 753.13, 759.45, 774.95, 765.57, 753.33, 734.0, 734.0, 730.73, 799.49, 805.0, 803.2, 869.82, 772.77, 762.0, 798.92, 789.8, 796.4, 824.0, 824.0, 843.29, 826.0, 803.36, 805.05, 834.72, 822.07, 826.0, 832.5, 831.78, 834.6, 827.71, 824.75, 835.0, 899.0, 908.66, 897.94, 895.75, 886.52, 950.0, 954.44, 1027.48, 1018.96, 987.98, 998.84, 1012.88, 1005.0, 1019.2, 1015.97, 1008.88, 1012.0, 1000.88, 985.98, 995.0, 1010.0, 1087.69, 1135.33, 1228.0, 1377.79, 1429.5, 1417.26, 1408.56, 1548.92, 1794.99, 1590.0, 1550.0, 1531.71, 1537.51, 1650.0, 1675.0, 1626.42, 1689.0, 1465.0, 1547.94, 1564.7, 1534.81, 1513.24, 1517.05, 1509.81, 1527.41, 1499.84, 1517.31, 1499.75, 1457.5, 1420.0, 1585.0, 1651.18, 1668.8, 1845.86, 1923.9, 1911.0, 2021.99, 2095.49, 2129.0, 2027.95, 2166.0, 2295.6, 2318.49], \"low\": [442.17, 396.0, 350.51, 358.46, 425.79, 410.5, 474.0, 511.11, 512.25, 494.03, 491.23, 497.0, 475.1, 446.4, 468.39, 497.96, 532.34, 533.33, 557.11, 580.53, 692.43, 710.0, 706.72, 747.66, 712.21, 673.79, 688.71, 703.13, 698.18, 735.0, 756.69, 783.16, 763.5, 683.04, 698.0, 762.18, 761.11, 772.35, 787.01, 785.0, 808.0, 763.3, 764.0, 786.55, 803.88, 806.08, 811.8, 796.0, 812.0, 815.71, 785.0, 801.69, 804.21, 854.1, 871.0, 880.1, 858.44, 866.2, 909.16, 923.93, 982.5, 972.0, 912.6, 908.5, 962.39, 982.57, 994.47, 991.34, 990.02, 994.01, 953.14, 937.15, 954.87, 948.52, 1003.73, 1080.5, 1185.6, 1266.04, 1336.71, 1311.34, 1351.28, 1376.01, 1471.11, 1431.0, 1457.0, 1466.0, 1490.0, 1488.0, 1558.0, 1562.0, 1480.77, 1366.54, 1413.0, 1474.42, 1487.0, 1471.0, 1420.98, 1444.38, 1462.0, 1468.31, 1477.26, 1415.01, 1385.84, 1365.0, 1435.0, 1567.26, 1626.64, 1672.83, 1845.11, 1841.21, 1857.06, 2025.05, 1927.52, 1968.0, 2053.63, 2142.5, 2186.52], \"open\": [469.5, 440.01, 389.0, 374.7, 438.2, 433.6, 477.3, 545.25, 547.39, 505.0, 510.26, 501.25, 504.0, 481.03, 509.5, 511.2, 545.0, 554.2, 562.09, 590.16, 698.97, 742.0, 716.94, 772.28, 732.7, 730.12, 703.98, 727.6, 710.81, 737.61, 795.64, 790.17, 855.19, 755.0, 701.0, 789.79, 776.5, 777.21, 793.77, 790.51, 827.0, 820.83, 780.0, 790.35, 827.78, 815.17, 820.5, 816.0, 822.17, 834.5, 820.86, 813.51, 808.75, 858.0, 894.7, 888.12, 889.88, 877.84, 919.0, 940.01, 991.88, 990.2, 980.0, 917.79, 1011.85, 987.71, 1003.0, 1012.78, 999.95, 998.88, 994.11, 954.27, 994.78, 969.01, 1006.5, 1083.0, 1221.48, 1276.69, 1405.01, 1405.0, 1396.99, 1396.0, 1659.0, 1556.0, 1543.0, 1477.16, 1513.45, 1519.01, 1639.93, 1599.0, 1678.95, 1416.01, 1435.0, 1504.0, 1501.0, 1488.0, 1515.0, 1449.2, 1495.01, 1492.99, 1490.83, 1499.54, 1448.0, 1396.0, 1470.0, 1611.0, 1664.99, 1677.0, 1898.99, 1865.0, 1860.68, 2044.76, 2126.28, 1974.89, 2060.0, 2180.46, 2295.12], \"type\": \"candlestick\", \"x\": [\"3/16/2020\", \"3/17/2020\", \"3/18/2020\", \"3/19/2020\", \"3/20/2020\", \"3/23/2020\", \"3/24/2020\", \"3/25/2020\", \"3/26/2020\", \"3/27/2020\", \"3/30/2020\", \"3/31/2020\", \"4/1/2020\", \"4/2/2020\", \"4/3/2020\", \"4/6/2020\", \"4/7/2020\", \"4/8/2020\", \"4/9/2020\", \"4/13/2020\", \"4/14/2020\", \"4/15/2020\", \"4/16/2020\", \"4/17/2020\", \"4/20/2020\", \"4/21/2020\", \"4/22/2020\", \"4/23/2020\", \"4/24/2020\", \"4/27/2020\", \"4/28/2020\", \"4/29/2020\", \"4/30/2020\", \"5/1/2020\", \"5/4/2020\", \"5/5/2020\", \"5/6/2020\", \"5/7/2020\", \"5/8/2020\", \"5/11/2020\", \"5/12/2020\", \"5/13/2020\", \"5/14/2020\", \"5/15/2020\", \"5/18/2020\", \"5/19/2020\", \"5/20/2020\", \"5/21/2020\", \"5/22/2020\", \"5/26/2020\", \"5/27/2020\", \"5/28/2020\", \"5/29/2020\", \"6/1/2020\", \"6/2/2020\", \"6/3/2020\", \"6/4/2020\", \"6/5/2020\", \"6/8/2020\", \"6/9/2020\", \"6/10/2020\", \"6/11/2020\", \"6/12/2020\", \"6/15/2020\", \"6/16/2020\", \"6/17/2020\", \"6/18/2020\", \"6/19/2020\", \"6/22/2020\", \"6/23/2020\", \"6/24/2020\", \"6/25/2020\", \"6/26/2020\", \"6/29/2020\", \"6/30/2020\", \"7/1/2020\", \"7/2/2020\", \"7/6/2020\", \"7/7/2020\", \"7/8/2020\", \"7/9/2020\", \"7/10/2020\", \"7/13/2020\", \"7/14/2020\", \"7/15/2020\", \"7/16/2020\", \"7/17/2020\", \"7/20/2020\", \"7/21/2020\", \"7/22/2020\", \"7/23/2020\", \"7/24/2020\", \"7/27/2020\", \"7/28/2020\", \"7/29/2020\", \"7/30/2020\", \"7/31/2020\", \"8/3/2020\", \"8/4/2020\", \"8/5/2020\", \"8/6/2020\", \"8/7/2020\", \"8/10/2020\", \"8/11/2020\", \"8/12/2020\", \"8/13/2020\", \"8/14/2020\", \"8/17/2020\", \"8/18/2020\", \"8/19/2020\", \"8/20/2020\", \"8/21/2020\", \"8/24/2020\", \"8/25/2020\", \"8/26/2020\", \"8/27/2020\", \"8/28/2020\"]}],                        {\"template\": {\"data\": {\"bar\": [{\"error_x\": {\"color\": \"#2a3f5f\"}, \"error_y\": {\"color\": \"#2a3f5f\"}, \"marker\": {\"line\": {\"color\": \"#E5ECF6\", \"width\": 0.5}}, \"type\": \"bar\"}], \"barpolar\": [{\"marker\": {\"line\": {\"color\": \"#E5ECF6\", \"width\": 0.5}}, \"type\": \"barpolar\"}], \"carpet\": [{\"aaxis\": {\"endlinecolor\": \"#2a3f5f\", \"gridcolor\": \"white\", \"linecolor\": \"white\", \"minorgridcolor\": \"white\", \"startlinecolor\": \"#2a3f5f\"}, \"baxis\": {\"endlinecolor\": \"#2a3f5f\", \"gridcolor\": \"white\", \"linecolor\": \"white\", \"minorgridcolor\": \"white\", \"startlinecolor\": \"#2a3f5f\"}, \"type\": \"carpet\"}], \"choropleth\": [{\"colorbar\": {\"outlinewidth\": 0, \"ticks\": \"\"}, \"type\": \"choropleth\"}], \"contour\": [{\"colorbar\": {\"outlinewidth\": 0, \"ticks\": \"\"}, \"colorscale\": [[0.0, \"#0d0887\"], [0.1111111111111111, \"#46039f\"], [0.2222222222222222, \"#7201a8\"], [0.3333333333333333, \"#9c179e\"], [0.4444444444444444, \"#bd3786\"], [0.5555555555555556, \"#d8576b\"], [0.6666666666666666, \"#ed7953\"], [0.7777777777777778, \"#fb9f3a\"], [0.8888888888888888, \"#fdca26\"], [1.0, \"#f0f921\"]], \"type\": \"contour\"}], \"contourcarpet\": [{\"colorbar\": {\"outlinewidth\": 0, \"ticks\": \"\"}, \"type\": \"contourcarpet\"}], \"heatmap\": [{\"colorbar\": {\"outlinewidth\": 0, \"ticks\": \"\"}, \"colorscale\": [[0.0, \"#0d0887\"], [0.1111111111111111, \"#46039f\"], [0.2222222222222222, \"#7201a8\"], [0.3333333333333333, \"#9c179e\"], [0.4444444444444444, \"#bd3786\"], [0.5555555555555556, \"#d8576b\"], [0.6666666666666666, \"#ed7953\"], [0.7777777777777778, \"#fb9f3a\"], [0.8888888888888888, \"#fdca26\"], [1.0, \"#f0f921\"]], \"type\": \"heatmap\"}], \"heatmapgl\": [{\"colorbar\": {\"outlinewidth\": 0, \"ticks\": \"\"}, \"colorscale\": [[0.0, \"#0d0887\"], [0.1111111111111111, \"#46039f\"], [0.2222222222222222, \"#7201a8\"], [0.3333333333333333, \"#9c179e\"], [0.4444444444444444, \"#bd3786\"], [0.5555555555555556, \"#d8576b\"], [0.6666666666666666, \"#ed7953\"], [0.7777777777777778, \"#fb9f3a\"], [0.8888888888888888, \"#fdca26\"], [1.0, \"#f0f921\"]], \"type\": \"heatmapgl\"}], \"histogram\": [{\"marker\": {\"colorbar\": {\"outlinewidth\": 0, \"ticks\": \"\"}}, \"type\": \"histogram\"}], \"histogram2d\": [{\"colorbar\": {\"outlinewidth\": 0, \"ticks\": \"\"}, \"colorscale\": [[0.0, \"#0d0887\"], [0.1111111111111111, \"#46039f\"], [0.2222222222222222, \"#7201a8\"], [0.3333333333333333, \"#9c179e\"], [0.4444444444444444, \"#bd3786\"], [0.5555555555555556, \"#d8576b\"], [0.6666666666666666, \"#ed7953\"], [0.7777777777777778, \"#fb9f3a\"], [0.8888888888888888, \"#fdca26\"], [1.0, \"#f0f921\"]], \"type\": \"histogram2d\"}], \"histogram2dcontour\": [{\"colorbar\": {\"outlinewidth\": 0, \"ticks\": \"\"}, \"colorscale\": [[0.0, \"#0d0887\"], [0.1111111111111111, \"#46039f\"], [0.2222222222222222, \"#7201a8\"], [0.3333333333333333, \"#9c179e\"], [0.4444444444444444, \"#bd3786\"], [0.5555555555555556, \"#d8576b\"], [0.6666666666666666, \"#ed7953\"], [0.7777777777777778, \"#fb9f3a\"], [0.8888888888888888, \"#fdca26\"], [1.0, \"#f0f921\"]], \"type\": \"histogram2dcontour\"}], \"mesh3d\": [{\"colorbar\": {\"outlinewidth\": 0, \"ticks\": \"\"}, \"type\": \"mesh3d\"}], \"parcoords\": [{\"line\": {\"colorbar\": {\"outlinewidth\": 0, \"ticks\": \"\"}}, \"type\": \"parcoords\"}], \"pie\": [{\"automargin\": true, \"type\": \"pie\"}], \"scatter\": [{\"marker\": {\"colorbar\": {\"outlinewidth\": 0, \"ticks\": \"\"}}, \"type\": \"scatter\"}], \"scatter3d\": [{\"line\": {\"colorbar\": {\"outlinewidth\": 0, \"ticks\": \"\"}}, \"marker\": {\"colorbar\": {\"outlinewidth\": 0, \"ticks\": \"\"}}, \"type\": \"scatter3d\"}], \"scattercarpet\": [{\"marker\": {\"colorbar\": {\"outlinewidth\": 0, \"ticks\": \"\"}}, \"type\": \"scattercarpet\"}], \"scattergeo\": [{\"marker\": {\"colorbar\": {\"outlinewidth\": 0, \"ticks\": \"\"}}, \"type\": \"scattergeo\"}], \"scattergl\": [{\"marker\": {\"colorbar\": {\"outlinewidth\": 0, \"ticks\": \"\"}}, \"type\": \"scattergl\"}], \"scattermapbox\": [{\"marker\": {\"colorbar\": {\"outlinewidth\": 0, \"ticks\": \"\"}}, \"type\": \"scattermapbox\"}], \"scatterpolar\": [{\"marker\": {\"colorbar\": {\"outlinewidth\": 0, \"ticks\": \"\"}}, \"type\": \"scatterpolar\"}], \"scatterpolargl\": [{\"marker\": {\"colorbar\": {\"outlinewidth\": 0, \"ticks\": \"\"}}, \"type\": \"scatterpolargl\"}], \"scatterternary\": [{\"marker\": {\"colorbar\": {\"outlinewidth\": 0, \"ticks\": \"\"}}, \"type\": \"scatterternary\"}], \"surface\": [{\"colorbar\": {\"outlinewidth\": 0, \"ticks\": \"\"}, \"colorscale\": [[0.0, \"#0d0887\"], [0.1111111111111111, \"#46039f\"], [0.2222222222222222, \"#7201a8\"], [0.3333333333333333, \"#9c179e\"], [0.4444444444444444, \"#bd3786\"], [0.5555555555555556, \"#d8576b\"], [0.6666666666666666, \"#ed7953\"], [0.7777777777777778, \"#fb9f3a\"], [0.8888888888888888, \"#fdca26\"], [1.0, \"#f0f921\"]], \"type\": \"surface\"}], \"table\": [{\"cells\": {\"fill\": {\"color\": \"#EBF0F8\"}, \"line\": {\"color\": \"white\"}}, \"header\": {\"fill\": {\"color\": \"#C8D4E3\"}, \"line\": {\"color\": \"white\"}}, \"type\": \"table\"}]}, \"layout\": {\"annotationdefaults\": {\"arrowcolor\": \"#2a3f5f\", \"arrowhead\": 0, \"arrowwidth\": 1}, \"coloraxis\": {\"colorbar\": {\"outlinewidth\": 0, \"ticks\": \"\"}}, \"colorscale\": {\"diverging\": [[0, \"#8e0152\"], [0.1, \"#c51b7d\"], [0.2, \"#de77ae\"], [0.3, \"#f1b6da\"], [0.4, \"#fde0ef\"], [0.5, \"#f7f7f7\"], [0.6, \"#e6f5d0\"], [0.7, \"#b8e186\"], [0.8, \"#7fbc41\"], [0.9, \"#4d9221\"], [1, \"#276419\"]], \"sequential\": [[0.0, \"#0d0887\"], [0.1111111111111111, \"#46039f\"], [0.2222222222222222, \"#7201a8\"], [0.3333333333333333, \"#9c179e\"], [0.4444444444444444, \"#bd3786\"], [0.5555555555555556, \"#d8576b\"], [0.6666666666666666, \"#ed7953\"], [0.7777777777777778, \"#fb9f3a\"], [0.8888888888888888, \"#fdca26\"], [1.0, \"#f0f921\"]], \"sequentialminus\": [[0.0, \"#0d0887\"], [0.1111111111111111, \"#46039f\"], [0.2222222222222222, \"#7201a8\"], [0.3333333333333333, \"#9c179e\"], [0.4444444444444444, \"#bd3786\"], [0.5555555555555556, \"#d8576b\"], [0.6666666666666666, \"#ed7953\"], [0.7777777777777778, \"#fb9f3a\"], [0.8888888888888888, \"#fdca26\"], [1.0, \"#f0f921\"]]}, \"colorway\": [\"#636efa\", \"#EF553B\", \"#00cc96\", \"#ab63fa\", \"#FFA15A\", \"#19d3f3\", \"#FF6692\", \"#B6E880\", \"#FF97FF\", \"#FECB52\"], \"font\": {\"color\": \"#2a3f5f\"}, \"geo\": {\"bgcolor\": \"white\", \"lakecolor\": \"white\", \"landcolor\": \"#E5ECF6\", \"showlakes\": true, \"showland\": true, \"subunitcolor\": \"white\"}, \"hoverlabel\": {\"align\": \"left\"}, \"hovermode\": \"closest\", \"mapbox\": {\"style\": \"light\"}, \"paper_bgcolor\": \"white\", \"plot_bgcolor\": \"#E5ECF6\", \"polar\": {\"angularaxis\": {\"gridcolor\": \"white\", \"linecolor\": \"white\", \"ticks\": \"\"}, \"bgcolor\": \"#E5ECF6\", \"radialaxis\": {\"gridcolor\": \"white\", \"linecolor\": \"white\", \"ticks\": \"\"}}, \"scene\": {\"xaxis\": {\"backgroundcolor\": \"#E5ECF6\", \"gridcolor\": \"white\", \"gridwidth\": 2, \"linecolor\": \"white\", \"showbackground\": true, \"ticks\": \"\", \"zerolinecolor\": \"white\"}, \"yaxis\": {\"backgroundcolor\": \"#E5ECF6\", \"gridcolor\": \"white\", \"gridwidth\": 2, \"linecolor\": \"white\", \"showbackground\": true, \"ticks\": \"\", \"zerolinecolor\": \"white\"}, \"zaxis\": {\"backgroundcolor\": \"#E5ECF6\", \"gridcolor\": \"white\", \"gridwidth\": 2, \"linecolor\": \"white\", \"showbackground\": true, \"ticks\": \"\", \"zerolinecolor\": \"white\"}}, \"shapedefaults\": {\"line\": {\"color\": \"#2a3f5f\"}}, \"ternary\": {\"aaxis\": {\"gridcolor\": \"white\", \"linecolor\": \"white\", \"ticks\": \"\"}, \"baxis\": {\"gridcolor\": \"white\", \"linecolor\": \"white\", \"ticks\": \"\"}, \"bgcolor\": \"#E5ECF6\", \"caxis\": {\"gridcolor\": \"white\", \"linecolor\": \"white\", \"ticks\": \"\"}}, \"title\": {\"x\": 0.05}, \"xaxis\": {\"automargin\": true, \"gridcolor\": \"white\", \"linecolor\": \"white\", \"ticks\": \"\", \"title\": {\"standoff\": 15}, \"zerolinecolor\": \"white\", \"zerolinewidth\": 2}, \"yaxis\": {\"automargin\": true, \"gridcolor\": \"white\", \"linecolor\": \"white\", \"ticks\": \"\", \"title\": {\"standoff\": 15}, \"zerolinecolor\": \"white\", \"zerolinewidth\": 2}}}},                        {\"responsive\": true}                    ).then(function(){\n",
       "                            \n",
       "var gd = document.getElementById('cb98ea82-364a-420c-8349-cdcc34bfef7c');\n",
       "var x = new MutationObserver(function (mutations, observer) {{\n",
       "        var display = window.getComputedStyle(gd).display;\n",
       "        if (!display || display === 'none') {{\n",
       "            console.log([gd, 'removed!']);\n",
       "            Plotly.purge(gd);\n",
       "            observer.disconnect();\n",
       "        }}\n",
       "}});\n",
       "\n",
       "// Listen for the removal of the full notebook cells\n",
       "var notebookContainer = gd.closest('#notebook-container');\n",
       "if (notebookContainer) {{\n",
       "    x.observe(notebookContainer, {childList: true});\n",
       "}}\n",
       "\n",
       "// Listen for the clearing of the current output cell\n",
       "var outputEl = gd.closest('.output');\n",
       "if (outputEl) {{\n",
       "    x.observe(outputEl, {childList: true});\n",
       "}}\n",
       "\n",
       "                        })                };                });            </script>        </div>"
      ]
     },
     "metadata": {},
     "output_type": "display_data"
    }
   ],
   "source": [
    "fig = go.Figure(data=[go.Candlestick(x=Tesla['Date'],\n",
    "                                    open = Tesla['Open'],\n",
    "                                    high = Tesla['High'],\n",
    "                                    low = Tesla['Low'],\n",
    "                                    close = Tesla['Close'])])\n",
    "fig.show()"
   ]
  },
  {
   "cell_type": "code",
   "execution_count": 441,
   "metadata": {
    "scrolled": false
   },
   "outputs": [
    {
     "data": {
      "application/vnd.plotly.v1+json": {
       "config": {
        "linkText": "Export to plot.ly",
        "plotlyServerURL": "https://plot.ly",
        "showLink": true
       },
       "data": [
        {
         "line": {
          "color": "rgba(255, 153, 51, 1.0)",
          "dash": "solid",
          "shape": "linear",
          "width": 1.3
         },
         "mode": "lines",
         "name": "Close",
         "text": "",
         "type": "scatter",
         "x": [
          30,
          31,
          32,
          33,
          34,
          35,
          36,
          37,
          38,
          39,
          40,
          41,
          42,
          43,
          44,
          45,
          46,
          47,
          48,
          49,
          50,
          51,
          52,
          53,
          54,
          55,
          56,
          57,
          58,
          59,
          60,
          61,
          62,
          63,
          64,
          65,
          66,
          67,
          68,
          69,
          70,
          71,
          72,
          73,
          74,
          75,
          76,
          77,
          78,
          79
         ],
         "y": [
          278.58,
          287.73,
          293.8,
          289.07,
          293.16,
          297.56,
          300.63,
          303.74,
          310.13,
          315.01,
          311.41,
          307.65,
          309.54,
          307.71,
          314.96,
          313.14,
          319.23,
          316.85,
          318.89,
          316.73,
          318.11,
          318.25,
          317.94,
          321.85,
          323.34,
          325.12,
          322.32,
          331.5,
          333.46,
          343.99,
          352.84,
          335.9,
          338.8,
          342.99,
          352.08,
          351.59,
          351.73,
          349.72,
          358.87,
          366.53,
          360.06,
          364.84,
          353.63,
          361.78,
          364.8,
          364.11,
          364.11,
          373.85,
          372.69,
          381.37
         ]
        },
        {
         "line": {
          "color": "rgba(55, 128, 191, 1.0)",
          "dash": "solid",
          "shape": "linear",
          "width": 1.3
         },
         "mode": "lines",
         "name": "SMA(3)",
         "text": "",
         "type": "scatter",
         "x": [
          30,
          31,
          32,
          33,
          34,
          35,
          36,
          37,
          38,
          39,
          40,
          41,
          42,
          43,
          44,
          45,
          46,
          47,
          48,
          49,
          50,
          51,
          52,
          53,
          54,
          55,
          56,
          57,
          58,
          59,
          60,
          61,
          62,
          63,
          64,
          65,
          66,
          67,
          68,
          69,
          70,
          71,
          72,
          73,
          74,
          75,
          76,
          77,
          78,
          79
         ],
         "y": [
          "",
          "",
          286.7033333333333,
          290.2,
          292.01,
          293.2633333333333,
          297.11666666666673,
          300.6433333333334,
          304.8333333333333,
          309.62666666666667,
          312.18333333333334,
          311.3566666666666,
          309.5333333333333,
          308.29999999999995,
          310.7366666666666,
          311.93666666666667,
          315.77666666666664,
          316.4066666666666,
          318.3233333333332,
          317.48999999999995,
          317.90999999999997,
          317.69666666666666,
          318.09999999999997,
          319.3466666666667,
          321.04333333333335,
          323.43666666666667,
          323.5933333333333,
          326.3133333333333,
          329.0933333333333,
          336.31666666666666,
          343.43,
          344.24333333333334,
          342.5133333333333,
          339.23,
          344.6233333333333,
          348.8866666666666,
          351.79999999999995,
          351.0133333333333,
          353.44,
          358.3733333333333,
          361.81999999999994,
          363.80999999999995,
          359.51,
          360.0833333333333,
          360.07,
          363.56333333333333,
          364.3400000000001,
          367.3566666666668,
          370.21666666666687,
          375.9700000000001
         ]
        },
        {
         "line": {
          "color": "rgba(55, 128, 191, 0.8999999999999999)",
          "dash": "solid",
          "shape": "linear",
          "width": 1.3
         },
         "mode": "lines",
         "name": "SMA(10)",
         "text": "",
         "type": "scatter",
         "x": [
          30,
          31,
          32,
          33,
          34,
          35,
          36,
          37,
          38,
          39,
          40,
          41,
          42,
          43,
          44,
          45,
          46,
          47,
          48,
          49,
          50,
          51,
          52,
          53,
          54,
          55,
          56,
          57,
          58,
          59,
          60,
          61,
          62,
          63,
          64,
          65,
          66,
          67,
          68,
          69,
          70,
          71,
          72,
          73,
          74,
          75,
          76,
          77,
          78,
          79
         ],
         "y": [
          "",
          "",
          "",
          "",
          "",
          "",
          "",
          "",
          "",
          296.941,
          300.224,
          302.216,
          303.78999999999996,
          305.65399999999994,
          307.83399999999995,
          309.39199999999994,
          311.25199999999995,
          312.56299999999993,
          313.4389999999999,
          313.6109999999999,
          314.2809999999999,
          315.3409999999999,
          316.1809999999999,
          317.5949999999999,
          318.4329999999999,
          319.6309999999999,
          319.93999999999994,
          321.4049999999999,
          322.86199999999997,
          325.58799999999997,
          329.061,
          330.82599999999996,
          332.912,
          335.02599999999995,
          337.9,
          340.54699999999997,
          343.48799999999994,
          345.30999999999995,
          347.85099999999994,
          350.1049999999999,
          350.8269999999999,
          353.7209999999999,
          355.2039999999999,
          357.0829999999999,
          358.3549999999999,
          359.6069999999999,
          360.8449999999999,
          363.2579999999999,
          364.63999999999993,
          366.1239999999999
         ]
        }
       ],
       "layout": {
        "legend": {
         "bgcolor": "#F5F6F9",
         "font": {
          "color": "#4D5663"
         }
        },
        "paper_bgcolor": "#F5F6F9",
        "plot_bgcolor": "#F5F6F9",
        "template": {
         "data": {
          "bar": [
           {
            "error_x": {
             "color": "#2a3f5f"
            },
            "error_y": {
             "color": "#2a3f5f"
            },
            "marker": {
             "line": {
              "color": "#E5ECF6",
              "width": 0.5
             }
            },
            "type": "bar"
           }
          ],
          "barpolar": [
           {
            "marker": {
             "line": {
              "color": "#E5ECF6",
              "width": 0.5
             }
            },
            "type": "barpolar"
           }
          ],
          "carpet": [
           {
            "aaxis": {
             "endlinecolor": "#2a3f5f",
             "gridcolor": "white",
             "linecolor": "white",
             "minorgridcolor": "white",
             "startlinecolor": "#2a3f5f"
            },
            "baxis": {
             "endlinecolor": "#2a3f5f",
             "gridcolor": "white",
             "linecolor": "white",
             "minorgridcolor": "white",
             "startlinecolor": "#2a3f5f"
            },
            "type": "carpet"
           }
          ],
          "choropleth": [
           {
            "colorbar": {
             "outlinewidth": 0,
             "ticks": ""
            },
            "type": "choropleth"
           }
          ],
          "contour": [
           {
            "colorbar": {
             "outlinewidth": 0,
             "ticks": ""
            },
            "colorscale": [
             [
              0,
              "#0d0887"
             ],
             [
              0.1111111111111111,
              "#46039f"
             ],
             [
              0.2222222222222222,
              "#7201a8"
             ],
             [
              0.3333333333333333,
              "#9c179e"
             ],
             [
              0.4444444444444444,
              "#bd3786"
             ],
             [
              0.5555555555555556,
              "#d8576b"
             ],
             [
              0.6666666666666666,
              "#ed7953"
             ],
             [
              0.7777777777777778,
              "#fb9f3a"
             ],
             [
              0.8888888888888888,
              "#fdca26"
             ],
             [
              1,
              "#f0f921"
             ]
            ],
            "type": "contour"
           }
          ],
          "contourcarpet": [
           {
            "colorbar": {
             "outlinewidth": 0,
             "ticks": ""
            },
            "type": "contourcarpet"
           }
          ],
          "heatmap": [
           {
            "colorbar": {
             "outlinewidth": 0,
             "ticks": ""
            },
            "colorscale": [
             [
              0,
              "#0d0887"
             ],
             [
              0.1111111111111111,
              "#46039f"
             ],
             [
              0.2222222222222222,
              "#7201a8"
             ],
             [
              0.3333333333333333,
              "#9c179e"
             ],
             [
              0.4444444444444444,
              "#bd3786"
             ],
             [
              0.5555555555555556,
              "#d8576b"
             ],
             [
              0.6666666666666666,
              "#ed7953"
             ],
             [
              0.7777777777777778,
              "#fb9f3a"
             ],
             [
              0.8888888888888888,
              "#fdca26"
             ],
             [
              1,
              "#f0f921"
             ]
            ],
            "type": "heatmap"
           }
          ],
          "heatmapgl": [
           {
            "colorbar": {
             "outlinewidth": 0,
             "ticks": ""
            },
            "colorscale": [
             [
              0,
              "#0d0887"
             ],
             [
              0.1111111111111111,
              "#46039f"
             ],
             [
              0.2222222222222222,
              "#7201a8"
             ],
             [
              0.3333333333333333,
              "#9c179e"
             ],
             [
              0.4444444444444444,
              "#bd3786"
             ],
             [
              0.5555555555555556,
              "#d8576b"
             ],
             [
              0.6666666666666666,
              "#ed7953"
             ],
             [
              0.7777777777777778,
              "#fb9f3a"
             ],
             [
              0.8888888888888888,
              "#fdca26"
             ],
             [
              1,
              "#f0f921"
             ]
            ],
            "type": "heatmapgl"
           }
          ],
          "histogram": [
           {
            "marker": {
             "colorbar": {
              "outlinewidth": 0,
              "ticks": ""
             }
            },
            "type": "histogram"
           }
          ],
          "histogram2d": [
           {
            "colorbar": {
             "outlinewidth": 0,
             "ticks": ""
            },
            "colorscale": [
             [
              0,
              "#0d0887"
             ],
             [
              0.1111111111111111,
              "#46039f"
             ],
             [
              0.2222222222222222,
              "#7201a8"
             ],
             [
              0.3333333333333333,
              "#9c179e"
             ],
             [
              0.4444444444444444,
              "#bd3786"
             ],
             [
              0.5555555555555556,
              "#d8576b"
             ],
             [
              0.6666666666666666,
              "#ed7953"
             ],
             [
              0.7777777777777778,
              "#fb9f3a"
             ],
             [
              0.8888888888888888,
              "#fdca26"
             ],
             [
              1,
              "#f0f921"
             ]
            ],
            "type": "histogram2d"
           }
          ],
          "histogram2dcontour": [
           {
            "colorbar": {
             "outlinewidth": 0,
             "ticks": ""
            },
            "colorscale": [
             [
              0,
              "#0d0887"
             ],
             [
              0.1111111111111111,
              "#46039f"
             ],
             [
              0.2222222222222222,
              "#7201a8"
             ],
             [
              0.3333333333333333,
              "#9c179e"
             ],
             [
              0.4444444444444444,
              "#bd3786"
             ],
             [
              0.5555555555555556,
              "#d8576b"
             ],
             [
              0.6666666666666666,
              "#ed7953"
             ],
             [
              0.7777777777777778,
              "#fb9f3a"
             ],
             [
              0.8888888888888888,
              "#fdca26"
             ],
             [
              1,
              "#f0f921"
             ]
            ],
            "type": "histogram2dcontour"
           }
          ],
          "mesh3d": [
           {
            "colorbar": {
             "outlinewidth": 0,
             "ticks": ""
            },
            "type": "mesh3d"
           }
          ],
          "parcoords": [
           {
            "line": {
             "colorbar": {
              "outlinewidth": 0,
              "ticks": ""
             }
            },
            "type": "parcoords"
           }
          ],
          "pie": [
           {
            "automargin": true,
            "type": "pie"
           }
          ],
          "scatter": [
           {
            "marker": {
             "colorbar": {
              "outlinewidth": 0,
              "ticks": ""
             }
            },
            "type": "scatter"
           }
          ],
          "scatter3d": [
           {
            "line": {
             "colorbar": {
              "outlinewidth": 0,
              "ticks": ""
             }
            },
            "marker": {
             "colorbar": {
              "outlinewidth": 0,
              "ticks": ""
             }
            },
            "type": "scatter3d"
           }
          ],
          "scattercarpet": [
           {
            "marker": {
             "colorbar": {
              "outlinewidth": 0,
              "ticks": ""
             }
            },
            "type": "scattercarpet"
           }
          ],
          "scattergeo": [
           {
            "marker": {
             "colorbar": {
              "outlinewidth": 0,
              "ticks": ""
             }
            },
            "type": "scattergeo"
           }
          ],
          "scattergl": [
           {
            "marker": {
             "colorbar": {
              "outlinewidth": 0,
              "ticks": ""
             }
            },
            "type": "scattergl"
           }
          ],
          "scattermapbox": [
           {
            "marker": {
             "colorbar": {
              "outlinewidth": 0,
              "ticks": ""
             }
            },
            "type": "scattermapbox"
           }
          ],
          "scatterpolar": [
           {
            "marker": {
             "colorbar": {
              "outlinewidth": 0,
              "ticks": ""
             }
            },
            "type": "scatterpolar"
           }
          ],
          "scatterpolargl": [
           {
            "marker": {
             "colorbar": {
              "outlinewidth": 0,
              "ticks": ""
             }
            },
            "type": "scatterpolargl"
           }
          ],
          "scatterternary": [
           {
            "marker": {
             "colorbar": {
              "outlinewidth": 0,
              "ticks": ""
             }
            },
            "type": "scatterternary"
           }
          ],
          "surface": [
           {
            "colorbar": {
             "outlinewidth": 0,
             "ticks": ""
            },
            "colorscale": [
             [
              0,
              "#0d0887"
             ],
             [
              0.1111111111111111,
              "#46039f"
             ],
             [
              0.2222222222222222,
              "#7201a8"
             ],
             [
              0.3333333333333333,
              "#9c179e"
             ],
             [
              0.4444444444444444,
              "#bd3786"
             ],
             [
              0.5555555555555556,
              "#d8576b"
             ],
             [
              0.6666666666666666,
              "#ed7953"
             ],
             [
              0.7777777777777778,
              "#fb9f3a"
             ],
             [
              0.8888888888888888,
              "#fdca26"
             ],
             [
              1,
              "#f0f921"
             ]
            ],
            "type": "surface"
           }
          ],
          "table": [
           {
            "cells": {
             "fill": {
              "color": "#EBF0F8"
             },
             "line": {
              "color": "white"
             }
            },
            "header": {
             "fill": {
              "color": "#C8D4E3"
             },
             "line": {
              "color": "white"
             }
            },
            "type": "table"
           }
          ]
         },
         "layout": {
          "annotationdefaults": {
           "arrowcolor": "#2a3f5f",
           "arrowhead": 0,
           "arrowwidth": 1
          },
          "coloraxis": {
           "colorbar": {
            "outlinewidth": 0,
            "ticks": ""
           }
          },
          "colorscale": {
           "diverging": [
            [
             0,
             "#8e0152"
            ],
            [
             0.1,
             "#c51b7d"
            ],
            [
             0.2,
             "#de77ae"
            ],
            [
             0.3,
             "#f1b6da"
            ],
            [
             0.4,
             "#fde0ef"
            ],
            [
             0.5,
             "#f7f7f7"
            ],
            [
             0.6,
             "#e6f5d0"
            ],
            [
             0.7,
             "#b8e186"
            ],
            [
             0.8,
             "#7fbc41"
            ],
            [
             0.9,
             "#4d9221"
            ],
            [
             1,
             "#276419"
            ]
           ],
           "sequential": [
            [
             0,
             "#0d0887"
            ],
            [
             0.1111111111111111,
             "#46039f"
            ],
            [
             0.2222222222222222,
             "#7201a8"
            ],
            [
             0.3333333333333333,
             "#9c179e"
            ],
            [
             0.4444444444444444,
             "#bd3786"
            ],
            [
             0.5555555555555556,
             "#d8576b"
            ],
            [
             0.6666666666666666,
             "#ed7953"
            ],
            [
             0.7777777777777778,
             "#fb9f3a"
            ],
            [
             0.8888888888888888,
             "#fdca26"
            ],
            [
             1,
             "#f0f921"
            ]
           ],
           "sequentialminus": [
            [
             0,
             "#0d0887"
            ],
            [
             0.1111111111111111,
             "#46039f"
            ],
            [
             0.2222222222222222,
             "#7201a8"
            ],
            [
             0.3333333333333333,
             "#9c179e"
            ],
            [
             0.4444444444444444,
             "#bd3786"
            ],
            [
             0.5555555555555556,
             "#d8576b"
            ],
            [
             0.6666666666666666,
             "#ed7953"
            ],
            [
             0.7777777777777778,
             "#fb9f3a"
            ],
            [
             0.8888888888888888,
             "#fdca26"
            ],
            [
             1,
             "#f0f921"
            ]
           ]
          },
          "colorway": [
           "#636efa",
           "#EF553B",
           "#00cc96",
           "#ab63fa",
           "#FFA15A",
           "#19d3f3",
           "#FF6692",
           "#B6E880",
           "#FF97FF",
           "#FECB52"
          ],
          "font": {
           "color": "#2a3f5f"
          },
          "geo": {
           "bgcolor": "white",
           "lakecolor": "white",
           "landcolor": "#E5ECF6",
           "showlakes": true,
           "showland": true,
           "subunitcolor": "white"
          },
          "hoverlabel": {
           "align": "left"
          },
          "hovermode": "closest",
          "mapbox": {
           "style": "light"
          },
          "paper_bgcolor": "white",
          "plot_bgcolor": "#E5ECF6",
          "polar": {
           "angularaxis": {
            "gridcolor": "white",
            "linecolor": "white",
            "ticks": ""
           },
           "bgcolor": "#E5ECF6",
           "radialaxis": {
            "gridcolor": "white",
            "linecolor": "white",
            "ticks": ""
           }
          },
          "scene": {
           "xaxis": {
            "backgroundcolor": "#E5ECF6",
            "gridcolor": "white",
            "gridwidth": 2,
            "linecolor": "white",
            "showbackground": true,
            "ticks": "",
            "zerolinecolor": "white"
           },
           "yaxis": {
            "backgroundcolor": "#E5ECF6",
            "gridcolor": "white",
            "gridwidth": 2,
            "linecolor": "white",
            "showbackground": true,
            "ticks": "",
            "zerolinecolor": "white"
           },
           "zaxis": {
            "backgroundcolor": "#E5ECF6",
            "gridcolor": "white",
            "gridwidth": 2,
            "linecolor": "white",
            "showbackground": true,
            "ticks": "",
            "zerolinecolor": "white"
           }
          },
          "shapedefaults": {
           "line": {
            "color": "#2a3f5f"
           }
          },
          "ternary": {
           "aaxis": {
            "gridcolor": "white",
            "linecolor": "white",
            "ticks": ""
           },
           "baxis": {
            "gridcolor": "white",
            "linecolor": "white",
            "ticks": ""
           },
           "bgcolor": "#E5ECF6",
           "caxis": {
            "gridcolor": "white",
            "linecolor": "white",
            "ticks": ""
           }
          },
          "title": {
           "x": 0.05
          },
          "xaxis": {
           "automargin": true,
           "gridcolor": "white",
           "linecolor": "white",
           "ticks": "",
           "title": {
            "standoff": 15
           },
           "zerolinecolor": "white",
           "zerolinewidth": 2
          },
          "yaxis": {
           "automargin": true,
           "gridcolor": "white",
           "linecolor": "white",
           "ticks": "",
           "title": {
            "standoff": 15
           },
           "zerolinecolor": "white",
           "zerolinewidth": 2
          }
         }
        },
        "title": {
         "font": {
          "color": "#4D5663"
         }
        },
        "xaxis": {
         "gridcolor": "#E1E5ED",
         "showgrid": true,
         "tickfont": {
          "color": "#4D5663"
         },
         "title": {
          "font": {
           "color": "#4D5663"
          },
          "text": ""
         },
         "zerolinecolor": "#E1E5ED"
        },
        "yaxis": {
         "gridcolor": "#E1E5ED",
         "showgrid": true,
         "tickfont": {
          "color": "#4D5663"
         },
         "title": {
          "font": {
           "color": "#4D5663"
          },
          "text": ""
         },
         "zerolinecolor": "#E1E5ED"
        }
       }
      },
      "text/html": [
       "<div>                            <div id=\"b0538936-d970-40c0-a548-79ea603f095b\" class=\"plotly-graph-div\" style=\"height:525px; width:100%;\"></div>            <script type=\"text/javascript\">                require([\"plotly\"], function(Plotly) {                    window.PLOTLYENV=window.PLOTLYENV || {};\n",
       "                    window.PLOTLYENV.BASE_URL='https://plot.ly';                                    if (document.getElementById(\"b0538936-d970-40c0-a548-79ea603f095b\")) {                    Plotly.newPlot(                        \"b0538936-d970-40c0-a548-79ea603f095b\",                        [{\"line\": {\"color\": \"rgba(255, 153, 51, 1.0)\", \"dash\": \"solid\", \"shape\": \"linear\", \"width\": 1.3}, \"mode\": \"lines\", \"name\": \"Close\", \"text\": \"\", \"type\": \"scatter\", \"x\": [30, 31, 32, 33, 34, 35, 36, 37, 38, 39, 40, 41, 42, 43, 44, 45, 46, 47, 48, 49, 50, 51, 52, 53, 54, 55, 56, 57, 58, 59, 60, 61, 62, 63, 64, 65, 66, 67, 68, 69, 70, 71, 72, 73, 74, 75, 76, 77, 78, 79], \"y\": [278.58, 287.73, 293.8, 289.07, 293.16, 297.56, 300.63, 303.74, 310.13, 315.01, 311.41, 307.65, 309.54, 307.71, 314.96, 313.14, 319.23, 316.85, 318.89, 316.73, 318.11, 318.25, 317.94, 321.85, 323.34, 325.12, 322.32, 331.5, 333.46, 343.99, 352.84, 335.9, 338.8, 342.99, 352.08, 351.59, 351.73, 349.72, 358.87, 366.53, 360.06, 364.84, 353.63, 361.78, 364.8, 364.11, 364.11, 373.85, 372.69, 381.37]}, {\"line\": {\"color\": \"rgba(55, 128, 191, 1.0)\", \"dash\": \"solid\", \"shape\": \"linear\", \"width\": 1.3}, \"mode\": \"lines\", \"name\": \"SMA(3)\", \"text\": \"\", \"type\": \"scatter\", \"x\": [30, 31, 32, 33, 34, 35, 36, 37, 38, 39, 40, 41, 42, 43, 44, 45, 46, 47, 48, 49, 50, 51, 52, 53, 54, 55, 56, 57, 58, 59, 60, 61, 62, 63, 64, 65, 66, 67, 68, 69, 70, 71, 72, 73, 74, 75, 76, 77, 78, 79], \"y\": [\"\", \"\", 286.7033333333333, 290.2, 292.01, 293.2633333333333, 297.11666666666673, 300.6433333333334, 304.8333333333333, 309.62666666666667, 312.18333333333334, 311.3566666666666, 309.5333333333333, 308.29999999999995, 310.7366666666666, 311.93666666666667, 315.77666666666664, 316.4066666666666, 318.3233333333332, 317.48999999999995, 317.90999999999997, 317.69666666666666, 318.09999999999997, 319.3466666666667, 321.04333333333335, 323.43666666666667, 323.5933333333333, 326.3133333333333, 329.0933333333333, 336.31666666666666, 343.43, 344.24333333333334, 342.5133333333333, 339.23, 344.6233333333333, 348.8866666666666, 351.79999999999995, 351.0133333333333, 353.44, 358.3733333333333, 361.81999999999994, 363.80999999999995, 359.51, 360.0833333333333, 360.07, 363.56333333333333, 364.3400000000001, 367.3566666666668, 370.21666666666687, 375.9700000000001]}, {\"line\": {\"color\": \"rgba(55, 128, 191, 0.8999999999999999)\", \"dash\": \"solid\", \"shape\": \"linear\", \"width\": 1.3}, \"mode\": \"lines\", \"name\": \"SMA(10)\", \"text\": \"\", \"type\": \"scatter\", \"x\": [30, 31, 32, 33, 34, 35, 36, 37, 38, 39, 40, 41, 42, 43, 44, 45, 46, 47, 48, 49, 50, 51, 52, 53, 54, 55, 56, 57, 58, 59, 60, 61, 62, 63, 64, 65, 66, 67, 68, 69, 70, 71, 72, 73, 74, 75, 76, 77, 78, 79], \"y\": [\"\", \"\", \"\", \"\", \"\", \"\", \"\", \"\", \"\", 296.941, 300.224, 302.216, 303.78999999999996, 305.65399999999994, 307.83399999999995, 309.39199999999994, 311.25199999999995, 312.56299999999993, 313.4389999999999, 313.6109999999999, 314.2809999999999, 315.3409999999999, 316.1809999999999, 317.5949999999999, 318.4329999999999, 319.6309999999999, 319.93999999999994, 321.4049999999999, 322.86199999999997, 325.58799999999997, 329.061, 330.82599999999996, 332.912, 335.02599999999995, 337.9, 340.54699999999997, 343.48799999999994, 345.30999999999995, 347.85099999999994, 350.1049999999999, 350.8269999999999, 353.7209999999999, 355.2039999999999, 357.0829999999999, 358.3549999999999, 359.6069999999999, 360.8449999999999, 363.2579999999999, 364.63999999999993, 366.1239999999999]}],                        {\"legend\": {\"bgcolor\": \"#F5F6F9\", \"font\": {\"color\": \"#4D5663\"}}, \"paper_bgcolor\": \"#F5F6F9\", \"plot_bgcolor\": \"#F5F6F9\", \"template\": {\"data\": {\"bar\": [{\"error_x\": {\"color\": \"#2a3f5f\"}, \"error_y\": {\"color\": \"#2a3f5f\"}, \"marker\": {\"line\": {\"color\": \"#E5ECF6\", \"width\": 0.5}}, \"type\": \"bar\"}], \"barpolar\": [{\"marker\": {\"line\": {\"color\": \"#E5ECF6\", \"width\": 0.5}}, \"type\": \"barpolar\"}], \"carpet\": [{\"aaxis\": {\"endlinecolor\": \"#2a3f5f\", \"gridcolor\": \"white\", \"linecolor\": \"white\", \"minorgridcolor\": \"white\", \"startlinecolor\": \"#2a3f5f\"}, \"baxis\": {\"endlinecolor\": \"#2a3f5f\", \"gridcolor\": \"white\", \"linecolor\": \"white\", \"minorgridcolor\": \"white\", \"startlinecolor\": \"#2a3f5f\"}, \"type\": \"carpet\"}], \"choropleth\": [{\"colorbar\": {\"outlinewidth\": 0, \"ticks\": \"\"}, \"type\": \"choropleth\"}], \"contour\": [{\"colorbar\": {\"outlinewidth\": 0, \"ticks\": \"\"}, \"colorscale\": [[0.0, \"#0d0887\"], [0.1111111111111111, \"#46039f\"], [0.2222222222222222, \"#7201a8\"], [0.3333333333333333, \"#9c179e\"], [0.4444444444444444, \"#bd3786\"], [0.5555555555555556, \"#d8576b\"], [0.6666666666666666, \"#ed7953\"], [0.7777777777777778, \"#fb9f3a\"], [0.8888888888888888, \"#fdca26\"], [1.0, \"#f0f921\"]], \"type\": \"contour\"}], \"contourcarpet\": [{\"colorbar\": {\"outlinewidth\": 0, \"ticks\": \"\"}, \"type\": \"contourcarpet\"}], \"heatmap\": [{\"colorbar\": {\"outlinewidth\": 0, \"ticks\": \"\"}, \"colorscale\": [[0.0, \"#0d0887\"], [0.1111111111111111, \"#46039f\"], [0.2222222222222222, \"#7201a8\"], [0.3333333333333333, \"#9c179e\"], [0.4444444444444444, \"#bd3786\"], [0.5555555555555556, \"#d8576b\"], [0.6666666666666666, \"#ed7953\"], [0.7777777777777778, \"#fb9f3a\"], [0.8888888888888888, \"#fdca26\"], [1.0, \"#f0f921\"]], \"type\": \"heatmap\"}], \"heatmapgl\": [{\"colorbar\": {\"outlinewidth\": 0, \"ticks\": \"\"}, \"colorscale\": [[0.0, \"#0d0887\"], [0.1111111111111111, \"#46039f\"], [0.2222222222222222, \"#7201a8\"], [0.3333333333333333, \"#9c179e\"], [0.4444444444444444, \"#bd3786\"], [0.5555555555555556, \"#d8576b\"], [0.6666666666666666, \"#ed7953\"], [0.7777777777777778, \"#fb9f3a\"], [0.8888888888888888, \"#fdca26\"], [1.0, \"#f0f921\"]], \"type\": \"heatmapgl\"}], \"histogram\": [{\"marker\": {\"colorbar\": {\"outlinewidth\": 0, \"ticks\": \"\"}}, \"type\": \"histogram\"}], \"histogram2d\": [{\"colorbar\": {\"outlinewidth\": 0, \"ticks\": \"\"}, \"colorscale\": [[0.0, \"#0d0887\"], [0.1111111111111111, \"#46039f\"], [0.2222222222222222, \"#7201a8\"], [0.3333333333333333, \"#9c179e\"], [0.4444444444444444, \"#bd3786\"], [0.5555555555555556, \"#d8576b\"], [0.6666666666666666, \"#ed7953\"], [0.7777777777777778, \"#fb9f3a\"], [0.8888888888888888, \"#fdca26\"], [1.0, \"#f0f921\"]], \"type\": \"histogram2d\"}], \"histogram2dcontour\": [{\"colorbar\": {\"outlinewidth\": 0, \"ticks\": \"\"}, \"colorscale\": [[0.0, \"#0d0887\"], [0.1111111111111111, \"#46039f\"], [0.2222222222222222, \"#7201a8\"], [0.3333333333333333, \"#9c179e\"], [0.4444444444444444, \"#bd3786\"], [0.5555555555555556, \"#d8576b\"], [0.6666666666666666, \"#ed7953\"], [0.7777777777777778, \"#fb9f3a\"], [0.8888888888888888, \"#fdca26\"], [1.0, \"#f0f921\"]], \"type\": \"histogram2dcontour\"}], \"mesh3d\": [{\"colorbar\": {\"outlinewidth\": 0, \"ticks\": \"\"}, \"type\": \"mesh3d\"}], \"parcoords\": [{\"line\": {\"colorbar\": {\"outlinewidth\": 0, \"ticks\": \"\"}}, \"type\": \"parcoords\"}], \"pie\": [{\"automargin\": true, \"type\": \"pie\"}], \"scatter\": [{\"marker\": {\"colorbar\": {\"outlinewidth\": 0, \"ticks\": \"\"}}, \"type\": \"scatter\"}], \"scatter3d\": [{\"line\": {\"colorbar\": {\"outlinewidth\": 0, \"ticks\": \"\"}}, \"marker\": {\"colorbar\": {\"outlinewidth\": 0, \"ticks\": \"\"}}, \"type\": \"scatter3d\"}], \"scattercarpet\": [{\"marker\": {\"colorbar\": {\"outlinewidth\": 0, \"ticks\": \"\"}}, \"type\": \"scattercarpet\"}], \"scattergeo\": [{\"marker\": {\"colorbar\": {\"outlinewidth\": 0, \"ticks\": \"\"}}, \"type\": \"scattergeo\"}], \"scattergl\": [{\"marker\": {\"colorbar\": {\"outlinewidth\": 0, \"ticks\": \"\"}}, \"type\": \"scattergl\"}], \"scattermapbox\": [{\"marker\": {\"colorbar\": {\"outlinewidth\": 0, \"ticks\": \"\"}}, \"type\": \"scattermapbox\"}], \"scatterpolar\": [{\"marker\": {\"colorbar\": {\"outlinewidth\": 0, \"ticks\": \"\"}}, \"type\": \"scatterpolar\"}], \"scatterpolargl\": [{\"marker\": {\"colorbar\": {\"outlinewidth\": 0, \"ticks\": \"\"}}, \"type\": \"scatterpolargl\"}], \"scatterternary\": [{\"marker\": {\"colorbar\": {\"outlinewidth\": 0, \"ticks\": \"\"}}, \"type\": \"scatterternary\"}], \"surface\": [{\"colorbar\": {\"outlinewidth\": 0, \"ticks\": \"\"}, \"colorscale\": [[0.0, \"#0d0887\"], [0.1111111111111111, \"#46039f\"], [0.2222222222222222, \"#7201a8\"], [0.3333333333333333, \"#9c179e\"], [0.4444444444444444, \"#bd3786\"], [0.5555555555555556, \"#d8576b\"], [0.6666666666666666, \"#ed7953\"], [0.7777777777777778, \"#fb9f3a\"], [0.8888888888888888, \"#fdca26\"], [1.0, \"#f0f921\"]], \"type\": \"surface\"}], \"table\": [{\"cells\": {\"fill\": {\"color\": \"#EBF0F8\"}, \"line\": {\"color\": \"white\"}}, \"header\": {\"fill\": {\"color\": \"#C8D4E3\"}, \"line\": {\"color\": \"white\"}}, \"type\": \"table\"}]}, \"layout\": {\"annotationdefaults\": {\"arrowcolor\": \"#2a3f5f\", \"arrowhead\": 0, \"arrowwidth\": 1}, \"coloraxis\": {\"colorbar\": {\"outlinewidth\": 0, \"ticks\": \"\"}}, \"colorscale\": {\"diverging\": [[0, \"#8e0152\"], [0.1, \"#c51b7d\"], [0.2, \"#de77ae\"], [0.3, \"#f1b6da\"], [0.4, \"#fde0ef\"], [0.5, \"#f7f7f7\"], [0.6, \"#e6f5d0\"], [0.7, \"#b8e186\"], [0.8, \"#7fbc41\"], [0.9, \"#4d9221\"], [1, \"#276419\"]], \"sequential\": [[0.0, \"#0d0887\"], [0.1111111111111111, \"#46039f\"], [0.2222222222222222, \"#7201a8\"], [0.3333333333333333, \"#9c179e\"], [0.4444444444444444, \"#bd3786\"], [0.5555555555555556, \"#d8576b\"], [0.6666666666666666, \"#ed7953\"], [0.7777777777777778, \"#fb9f3a\"], [0.8888888888888888, \"#fdca26\"], [1.0, \"#f0f921\"]], \"sequentialminus\": [[0.0, \"#0d0887\"], [0.1111111111111111, \"#46039f\"], [0.2222222222222222, \"#7201a8\"], [0.3333333333333333, \"#9c179e\"], [0.4444444444444444, \"#bd3786\"], [0.5555555555555556, \"#d8576b\"], [0.6666666666666666, \"#ed7953\"], [0.7777777777777778, \"#fb9f3a\"], [0.8888888888888888, \"#fdca26\"], [1.0, \"#f0f921\"]]}, \"colorway\": [\"#636efa\", \"#EF553B\", \"#00cc96\", \"#ab63fa\", \"#FFA15A\", \"#19d3f3\", \"#FF6692\", \"#B6E880\", \"#FF97FF\", \"#FECB52\"], \"font\": {\"color\": \"#2a3f5f\"}, \"geo\": {\"bgcolor\": \"white\", \"lakecolor\": \"white\", \"landcolor\": \"#E5ECF6\", \"showlakes\": true, \"showland\": true, \"subunitcolor\": \"white\"}, \"hoverlabel\": {\"align\": \"left\"}, \"hovermode\": \"closest\", \"mapbox\": {\"style\": \"light\"}, \"paper_bgcolor\": \"white\", \"plot_bgcolor\": \"#E5ECF6\", \"polar\": {\"angularaxis\": {\"gridcolor\": \"white\", \"linecolor\": \"white\", \"ticks\": \"\"}, \"bgcolor\": \"#E5ECF6\", \"radialaxis\": {\"gridcolor\": \"white\", \"linecolor\": \"white\", \"ticks\": \"\"}}, \"scene\": {\"xaxis\": {\"backgroundcolor\": \"#E5ECF6\", \"gridcolor\": \"white\", \"gridwidth\": 2, \"linecolor\": \"white\", \"showbackground\": true, \"ticks\": \"\", \"zerolinecolor\": \"white\"}, \"yaxis\": {\"backgroundcolor\": \"#E5ECF6\", \"gridcolor\": \"white\", \"gridwidth\": 2, \"linecolor\": \"white\", \"showbackground\": true, \"ticks\": \"\", \"zerolinecolor\": \"white\"}, \"zaxis\": {\"backgroundcolor\": \"#E5ECF6\", \"gridcolor\": \"white\", \"gridwidth\": 2, \"linecolor\": \"white\", \"showbackground\": true, \"ticks\": \"\", \"zerolinecolor\": \"white\"}}, \"shapedefaults\": {\"line\": {\"color\": \"#2a3f5f\"}}, \"ternary\": {\"aaxis\": {\"gridcolor\": \"white\", \"linecolor\": \"white\", \"ticks\": \"\"}, \"baxis\": {\"gridcolor\": \"white\", \"linecolor\": \"white\", \"ticks\": \"\"}, \"bgcolor\": \"#E5ECF6\", \"caxis\": {\"gridcolor\": \"white\", \"linecolor\": \"white\", \"ticks\": \"\"}}, \"title\": {\"x\": 0.05}, \"xaxis\": {\"automargin\": true, \"gridcolor\": \"white\", \"linecolor\": \"white\", \"ticks\": \"\", \"title\": {\"standoff\": 15}, \"zerolinecolor\": \"white\", \"zerolinewidth\": 2}, \"yaxis\": {\"automargin\": true, \"gridcolor\": \"white\", \"linecolor\": \"white\", \"ticks\": \"\", \"title\": {\"standoff\": 15}, \"zerolinecolor\": \"white\", \"zerolinewidth\": 2}}}, \"title\": {\"font\": {\"color\": \"#4D5663\"}}, \"xaxis\": {\"gridcolor\": \"#E1E5ED\", \"showgrid\": true, \"tickfont\": {\"color\": \"#4D5663\"}, \"title\": {\"font\": {\"color\": \"#4D5663\"}, \"text\": \"\"}, \"zerolinecolor\": \"#E1E5ED\"}, \"yaxis\": {\"gridcolor\": \"#E1E5ED\", \"showgrid\": true, \"tickfont\": {\"color\": \"#4D5663\"}, \"title\": {\"font\": {\"color\": \"#4D5663\"}, \"text\": \"\"}, \"zerolinecolor\": \"#E1E5ED\"}},                        {\"showLink\": true, \"linkText\": \"Export to plot.ly\", \"plotlyServerURL\": \"https://plot.ly\", \"responsive\": true}                    ).then(function(){\n",
       "                            \n",
       "var gd = document.getElementById('b0538936-d970-40c0-a548-79ea603f095b');\n",
       "var x = new MutationObserver(function (mutations, observer) {{\n",
       "        var display = window.getComputedStyle(gd).display;\n",
       "        if (!display || display === 'none') {{\n",
       "            console.log([gd, 'removed!']);\n",
       "            Plotly.purge(gd);\n",
       "            observer.disconnect();\n",
       "        }}\n",
       "}});\n",
       "\n",
       "// Listen for the removal of the full notebook cells\n",
       "var notebookContainer = gd.closest('#notebook-container');\n",
       "if (notebookContainer) {{\n",
       "    x.observe(notebookContainer, {childList: true});\n",
       "}}\n",
       "\n",
       "// Listen for the clearing of the current output cell\n",
       "var outputEl = gd.closest('.output');\n",
       "if (outputEl) {{\n",
       "    x.observe(outputEl, {childList: true});\n",
       "}}\n",
       "\n",
       "                        })                };                });            </script>        </div>"
      ]
     },
     "metadata": {},
     "output_type": "display_data"
    },
    {
     "data": {
      "application/vnd.plotly.v1+json": {
       "config": {
        "linkText": "Export to plot.ly",
        "plotlyServerURL": "https://plot.ly",
        "showLink": true
       },
       "data": [
        {
         "line": {
          "color": "rgba(255, 153, 51, 1.0)",
          "dash": "solid",
          "shape": "linear",
          "width": 1.3
         },
         "mode": "lines",
         "name": "Close",
         "text": "",
         "type": "scatter",
         "x": [
          "3/18/2020",
          "3/19/2020",
          "3/20/2020",
          "3/23/2020",
          "3/24/2020",
          "3/25/2020",
          "3/26/2020",
          "3/27/2020",
          "3/30/2020",
          "3/31/2020",
          "4/1/2020",
          "4/2/2020",
          "4/3/2020",
          "4/6/2020",
          "4/7/2020",
          "4/8/2020",
          "4/9/2020",
          "4/13/2020",
          "4/14/2020",
          "4/15/2020",
          "4/16/2020",
          "4/17/2020",
          "4/20/2020",
          "4/21/2020",
          "4/22/2020",
          "4/23/2020",
          "4/24/2020",
          "4/27/2020",
          "4/28/2020",
          "4/29/2020",
          "4/30/2020",
          "5/1/2020",
          "5/4/2020",
          "5/5/2020",
          "5/6/2020",
          "5/7/2020",
          "5/8/2020",
          "5/11/2020",
          "5/12/2020",
          "5/13/2020",
          "5/14/2020",
          "5/15/2020",
          "5/18/2020",
          "5/19/2020",
          "5/20/2020",
          "5/21/2020",
          "5/22/2020",
          "5/26/2020",
          "5/27/2020",
          "5/28/2020",
          "5/29/2020",
          "6/1/2020",
          "6/2/2020",
          "6/3/2020",
          "6/4/2020",
          "6/5/2020",
          "6/8/2020",
          "6/9/2020",
          "6/10/2020",
          "6/11/2020",
          "6/12/2020",
          "6/15/2020",
          "6/16/2020",
          "6/17/2020",
          "6/18/2020",
          "6/19/2020",
          "6/22/2020",
          "6/23/2020",
          "6/24/2020",
          "6/25/2020",
          "6/26/2020",
          "6/29/2020",
          "6/30/2020",
          "7/1/2020",
          "7/2/2020",
          "7/6/2020",
          "7/7/2020",
          "7/8/2020",
          "7/9/2020",
          "7/10/2020",
          "7/13/2020",
          "7/14/2020",
          "7/15/2020",
          "7/16/2020",
          "7/17/2020",
          "7/20/2020",
          "7/21/2020",
          "7/22/2020",
          "7/23/2020",
          "7/24/2020",
          "7/27/2020",
          "7/28/2020",
          "7/29/2020",
          "7/30/2020",
          "7/31/2020",
          "8/3/2020",
          "8/4/2020",
          "8/5/2020",
          "8/6/2020",
          "8/7/2020",
          "8/10/2020",
          "8/11/2020",
          "8/12/2020",
          "8/13/2020",
          "8/14/2020",
          "8/17/2020",
          "8/18/2020",
          "8/19/2020",
          "8/20/2020",
          "8/21/2020",
          "8/24/2020",
          "8/25/2020",
          "8/26/2020",
          "8/27/2020",
          "8/28/2020"
         ],
         "y": [
          1830,
          1880.93,
          1846.09,
          1902.83,
          1940.1,
          1885.84,
          1955.49,
          1900.1,
          1963.95,
          1949.72,
          1907.7,
          1918.83,
          1906.59,
          1997.59,
          2011.6,
          2043,
          2042.76,
          2168.87,
          2283.32,
          2307.68,
          2408.19,
          2375,
          2393.61,
          2328.12,
          2363.49,
          2399.45,
          2410.22,
          2376,
          2314.08,
          2372.71,
          2474,
          2286.04,
          2315.99,
          2317.8,
          2351.26,
          2367.61,
          2379.61,
          2409,
          2356.95,
          2367.92,
          2388.85,
          2409.78,
          2426.26,
          2449.33,
          2497.94,
          2446.74,
          2436.88,
          2421.86,
          2410.39,
          2401.1,
          2442.37,
          2471.04,
          2472.41,
          2478.4,
          2460.6,
          2483,
          2524.06,
          2600.86,
          2647.45,
          2557.96,
          2545.02,
          2572.68,
          2615.27,
          2640.98,
          2653.98,
          2675.01,
          2713.82,
          2764.41,
          2734.4,
          2754.58,
          2692.87,
          2680.38,
          2758.82,
          2878.7,
          2890.3,
          3057.04,
          3000.12,
          3081.11,
          3182.63,
          3200,
          3104,
          3084,
          3008.87,
          2999.9,
          2961.97,
          3196.84,
          3138.29,
          3099.91,
          2986.55,
          3008.91,
          3055.21,
          3000.33,
          3033.53,
          3051.88,
          3164.68,
          3111.89,
          3138.83,
          3205.03,
          3225,
          3167.46,
          3148.16,
          3080.67,
          3162.24,
          3161.02,
          3148.02,
          3182.41,
          3312.49,
          3260.48,
          3297.37,
          3284.72,
          3307.46,
          3346.49,
          3441.85,
          3400,
          3401.8
         ]
        },
        {
         "line": {
          "color": "rgba(55, 128, 191, 1.0)",
          "dash": "solid",
          "shape": "linear",
          "width": 1.3
         },
         "mode": "lines",
         "name": "SMA(3)",
         "text": "",
         "type": "scatter",
         "x": [
          "3/18/2020",
          "3/19/2020",
          "3/20/2020",
          "3/23/2020",
          "3/24/2020",
          "3/25/2020",
          "3/26/2020",
          "3/27/2020",
          "3/30/2020",
          "3/31/2020",
          "4/1/2020",
          "4/2/2020",
          "4/3/2020",
          "4/6/2020",
          "4/7/2020",
          "4/8/2020",
          "4/9/2020",
          "4/13/2020",
          "4/14/2020",
          "4/15/2020",
          "4/16/2020",
          "4/17/2020",
          "4/20/2020",
          "4/21/2020",
          "4/22/2020",
          "4/23/2020",
          "4/24/2020",
          "4/27/2020",
          "4/28/2020",
          "4/29/2020",
          "4/30/2020",
          "5/1/2020",
          "5/4/2020",
          "5/5/2020",
          "5/6/2020",
          "5/7/2020",
          "5/8/2020",
          "5/11/2020",
          "5/12/2020",
          "5/13/2020",
          "5/14/2020",
          "5/15/2020",
          "5/18/2020",
          "5/19/2020",
          "5/20/2020",
          "5/21/2020",
          "5/22/2020",
          "5/26/2020",
          "5/27/2020",
          "5/28/2020",
          "5/29/2020",
          "6/1/2020",
          "6/2/2020",
          "6/3/2020",
          "6/4/2020",
          "6/5/2020",
          "6/8/2020",
          "6/9/2020",
          "6/10/2020",
          "6/11/2020",
          "6/12/2020",
          "6/15/2020",
          "6/16/2020",
          "6/17/2020",
          "6/18/2020",
          "6/19/2020",
          "6/22/2020",
          "6/23/2020",
          "6/24/2020",
          "6/25/2020",
          "6/26/2020",
          "6/29/2020",
          "6/30/2020",
          "7/1/2020",
          "7/2/2020",
          "7/6/2020",
          "7/7/2020",
          "7/8/2020",
          "7/9/2020",
          "7/10/2020",
          "7/13/2020",
          "7/14/2020",
          "7/15/2020",
          "7/16/2020",
          "7/17/2020",
          "7/20/2020",
          "7/21/2020",
          "7/22/2020",
          "7/23/2020",
          "7/24/2020",
          "7/27/2020",
          "7/28/2020",
          "7/29/2020",
          "7/30/2020",
          "7/31/2020",
          "8/3/2020",
          "8/4/2020",
          "8/5/2020",
          "8/6/2020",
          "8/7/2020",
          "8/10/2020",
          "8/11/2020",
          "8/12/2020",
          "8/13/2020",
          "8/14/2020",
          "8/17/2020",
          "8/18/2020",
          "8/19/2020",
          "8/20/2020",
          "8/21/2020",
          "8/24/2020",
          "8/25/2020",
          "8/26/2020",
          "8/27/2020",
          "8/28/2020"
         ],
         "y": [
          "",
          "",
          1852.3400000000001,
          1876.6166666666668,
          1896.3400000000001,
          1909.5900000000001,
          1927.1433333333334,
          1913.8100000000002,
          1939.8466666666666,
          1937.9233333333334,
          1940.456666666667,
          1925.416666666667,
          1911.0400000000002,
          1941.0033333333338,
          1971.926666666667,
          2017.3966666666668,
          2032.4533333333336,
          2084.8766666666666,
          2164.983333333333,
          2253.2899999999995,
          2333.063333333333,
          2363.623333333333,
          2392.2666666666664,
          2365.576666666666,
          2361.7399999999993,
          2363.686666666666,
          2391.0533333333324,
          2395.223333333332,
          2366.7666666666655,
          2354.2633333333324,
          2386.929999999999,
          2377.5833333333326,
          2358.676666666666,
          2306.609999999999,
          2328.3499999999995,
          2345.556666666666,
          2366.1599999999994,
          2385.4066666666663,
          2381.8533333333326,
          2377.9566666666656,
          2371.2399999999993,
          2388.8499999999995,
          2408.2966666666657,
          2428.4566666666656,
          2457.8433333333323,
          2464.6699999999987,
          2460.5199999999986,
          2435.1599999999985,
          2423.0433333333317,
          2411.1166666666654,
          2417.9533333333316,
          2438.1699999999983,
          2461.9399999999982,
          2473.949999999998,
          2470.469999999998,
          2473.9999999999977,
          2489.2199999999975,
          2535.973333333331,
          2590.7899999999972,
          2602.089999999997,
          2583.4766666666637,
          2558.5533333333306,
          2577.6566666666636,
          2609.6433333333302,
          2636.74333333333,
          2656.6566666666636,
          2680.9366666666633,
          2717.7466666666637,
          2737.54333333333,
          2751.129999999997,
          2727.2833333333306,
          2709.2766666666644,
          2710.6899999999973,
          2772.6333333333314,
          2842.6066666666643,
          2942.013333333331,
          2982.486666666664,
          3046.089999999998,
          3087.953333333331,
          3154.579999999998,
          3162.2099999999978,
          3129.3333333333308,
          3065.6233333333307,
          3030.9233333333304,
          2990.2466666666637,
          3052.9033333333305,
          3099.033333333331,
          3145.013333333331,
          3074.9166666666642,
          3031.7899999999972,
          3016.889999999997,
          3021.48333333333,
          3029.689999999997,
          3028.5799999999967,
          3083.3633333333305,
          3109.48333333333,
          3138.4666666666635,
          3151.916666666664,
          3189.619999999997,
          3199.1633333333307,
          3180.2066666666638,
          3132.096666666664,
          3130.3566666666643,
          3134.643333333331,
          3157.093333333331,
          3163.8166666666643,
          3214.306666666664,
          3251.793333333331,
          3290.113333333331,
          3280.8566666666643,
          3296.516666666664,
          3312.889999999997,
          3365.266666666664,
          3396.113333333331,
          3414.5499999999975
         ]
        },
        {
         "line": {
          "color": "rgba(55, 128, 191, 0.8999999999999999)",
          "dash": "solid",
          "shape": "linear",
          "width": 1.3
         },
         "mode": "lines",
         "name": "SMA(10)",
         "text": "",
         "type": "scatter",
         "x": [
          "3/18/2020",
          "3/19/2020",
          "3/20/2020",
          "3/23/2020",
          "3/24/2020",
          "3/25/2020",
          "3/26/2020",
          "3/27/2020",
          "3/30/2020",
          "3/31/2020",
          "4/1/2020",
          "4/2/2020",
          "4/3/2020",
          "4/6/2020",
          "4/7/2020",
          "4/8/2020",
          "4/9/2020",
          "4/13/2020",
          "4/14/2020",
          "4/15/2020",
          "4/16/2020",
          "4/17/2020",
          "4/20/2020",
          "4/21/2020",
          "4/22/2020",
          "4/23/2020",
          "4/24/2020",
          "4/27/2020",
          "4/28/2020",
          "4/29/2020",
          "4/30/2020",
          "5/1/2020",
          "5/4/2020",
          "5/5/2020",
          "5/6/2020",
          "5/7/2020",
          "5/8/2020",
          "5/11/2020",
          "5/12/2020",
          "5/13/2020",
          "5/14/2020",
          "5/15/2020",
          "5/18/2020",
          "5/19/2020",
          "5/20/2020",
          "5/21/2020",
          "5/22/2020",
          "5/26/2020",
          "5/27/2020",
          "5/28/2020",
          "5/29/2020",
          "6/1/2020",
          "6/2/2020",
          "6/3/2020",
          "6/4/2020",
          "6/5/2020",
          "6/8/2020",
          "6/9/2020",
          "6/10/2020",
          "6/11/2020",
          "6/12/2020",
          "6/15/2020",
          "6/16/2020",
          "6/17/2020",
          "6/18/2020",
          "6/19/2020",
          "6/22/2020",
          "6/23/2020",
          "6/24/2020",
          "6/25/2020",
          "6/26/2020",
          "6/29/2020",
          "6/30/2020",
          "7/1/2020",
          "7/2/2020",
          "7/6/2020",
          "7/7/2020",
          "7/8/2020",
          "7/9/2020",
          "7/10/2020",
          "7/13/2020",
          "7/14/2020",
          "7/15/2020",
          "7/16/2020",
          "7/17/2020",
          "7/20/2020",
          "7/21/2020",
          "7/22/2020",
          "7/23/2020",
          "7/24/2020",
          "7/27/2020",
          "7/28/2020",
          "7/29/2020",
          "7/30/2020",
          "7/31/2020",
          "8/3/2020",
          "8/4/2020",
          "8/5/2020",
          "8/6/2020",
          "8/7/2020",
          "8/10/2020",
          "8/11/2020",
          "8/12/2020",
          "8/13/2020",
          "8/14/2020",
          "8/17/2020",
          "8/18/2020",
          "8/19/2020",
          "8/20/2020",
          "8/21/2020",
          "8/24/2020",
          "8/25/2020",
          "8/26/2020",
          "8/27/2020",
          "8/28/2020"
         ],
         "y": [
          "",
          "",
          "",
          "",
          "",
          "",
          "",
          "",
          "",
          1905.5050000000003,
          1913.2750000000003,
          1917.065,
          1923.1150000000002,
          1932.5910000000003,
          1939.7410000000004,
          1955.4570000000003,
          1964.184,
          1991.0610000000001,
          2022.998,
          2058.794,
          2108.843,
          2154.46,
          2203.162,
          2236.2149999999997,
          2271.404,
          2307.049,
          2343.7950000000005,
          2364.5080000000007,
          2367.5840000000003,
          2374.0870000000004,
          2380.6680000000006,
          2371.7720000000004,
          2364.0100000000007,
          2362.9780000000005,
          2361.755000000001,
          2358.571000000001,
          2355.510000000001,
          2358.810000000001,
          2363.0970000000007,
          2362.618000000001,
          2354.1030000000005,
          2366.4770000000003,
          2377.504000000001,
          2390.657000000001,
          2405.3250000000007,
          2413.2380000000003,
          2418.9650000000006,
          2420.2510000000007,
          2425.5950000000003,
          2428.9130000000005,
          2434.2650000000003,
          2440.3910000000005,
          2445.0060000000003,
          2447.9130000000005,
          2444.1790000000005,
          2447.8050000000003,
          2456.523,
          2474.4230000000002,
          2498.1290000000004,
          2513.8150000000005,
          2524.080000000001,
          2534.2440000000006,
          2548.5300000000007,
          2564.7880000000005,
          2584.1260000000007,
          2603.327,
          2622.3030000000003,
          2638.6580000000004,
          2647.353,
          2667.0150000000003,
          2681.8,
          2692.57,
          2706.925,
          2730.697,
          2754.329,
          2792.532,
          2821.162,
          2852.832,
          2897.6549999999997,
          2942.197,
          2983.3100000000004,
          3023.6720000000005,
          3048.6770000000006,
          3060.7970000000005,
          3067.9640000000004,
          3081.9440000000004,
          3095.7610000000004,
          3097.6410000000005,
          3078.0330000000004,
          3058.9240000000004,
          3054.0450000000005,
          3045.678000000001,
          3048.1440000000007,
          3053.3420000000006,
          3073.6130000000003,
          3065.1180000000004,
          3065.172,
          3075.684,
          3099.5289999999995,
          3115.384,
          3124.679,
          3132.7129999999997,
          3145.584,
          3156.497999999999,
          3154.8319999999994,
          3161.8839999999996,
          3179.249999999999,
          3184.7949999999996,
          3192.032,
          3203.7580000000003,
          3219.688,
          3246.2700000000004,
          3274.2310000000007,
          3298.129000000001,
          3323.5070000000014
         ]
        }
       ],
       "layout": {
        "legend": {
         "bgcolor": "#F5F6F9",
         "font": {
          "color": "#4D5663"
         }
        },
        "paper_bgcolor": "#F5F6F9",
        "plot_bgcolor": "#F5F6F9",
        "template": {
         "data": {
          "bar": [
           {
            "error_x": {
             "color": "#2a3f5f"
            },
            "error_y": {
             "color": "#2a3f5f"
            },
            "marker": {
             "line": {
              "color": "#E5ECF6",
              "width": 0.5
             }
            },
            "type": "bar"
           }
          ],
          "barpolar": [
           {
            "marker": {
             "line": {
              "color": "#E5ECF6",
              "width": 0.5
             }
            },
            "type": "barpolar"
           }
          ],
          "carpet": [
           {
            "aaxis": {
             "endlinecolor": "#2a3f5f",
             "gridcolor": "white",
             "linecolor": "white",
             "minorgridcolor": "white",
             "startlinecolor": "#2a3f5f"
            },
            "baxis": {
             "endlinecolor": "#2a3f5f",
             "gridcolor": "white",
             "linecolor": "white",
             "minorgridcolor": "white",
             "startlinecolor": "#2a3f5f"
            },
            "type": "carpet"
           }
          ],
          "choropleth": [
           {
            "colorbar": {
             "outlinewidth": 0,
             "ticks": ""
            },
            "type": "choropleth"
           }
          ],
          "contour": [
           {
            "colorbar": {
             "outlinewidth": 0,
             "ticks": ""
            },
            "colorscale": [
             [
              0,
              "#0d0887"
             ],
             [
              0.1111111111111111,
              "#46039f"
             ],
             [
              0.2222222222222222,
              "#7201a8"
             ],
             [
              0.3333333333333333,
              "#9c179e"
             ],
             [
              0.4444444444444444,
              "#bd3786"
             ],
             [
              0.5555555555555556,
              "#d8576b"
             ],
             [
              0.6666666666666666,
              "#ed7953"
             ],
             [
              0.7777777777777778,
              "#fb9f3a"
             ],
             [
              0.8888888888888888,
              "#fdca26"
             ],
             [
              1,
              "#f0f921"
             ]
            ],
            "type": "contour"
           }
          ],
          "contourcarpet": [
           {
            "colorbar": {
             "outlinewidth": 0,
             "ticks": ""
            },
            "type": "contourcarpet"
           }
          ],
          "heatmap": [
           {
            "colorbar": {
             "outlinewidth": 0,
             "ticks": ""
            },
            "colorscale": [
             [
              0,
              "#0d0887"
             ],
             [
              0.1111111111111111,
              "#46039f"
             ],
             [
              0.2222222222222222,
              "#7201a8"
             ],
             [
              0.3333333333333333,
              "#9c179e"
             ],
             [
              0.4444444444444444,
              "#bd3786"
             ],
             [
              0.5555555555555556,
              "#d8576b"
             ],
             [
              0.6666666666666666,
              "#ed7953"
             ],
             [
              0.7777777777777778,
              "#fb9f3a"
             ],
             [
              0.8888888888888888,
              "#fdca26"
             ],
             [
              1,
              "#f0f921"
             ]
            ],
            "type": "heatmap"
           }
          ],
          "heatmapgl": [
           {
            "colorbar": {
             "outlinewidth": 0,
             "ticks": ""
            },
            "colorscale": [
             [
              0,
              "#0d0887"
             ],
             [
              0.1111111111111111,
              "#46039f"
             ],
             [
              0.2222222222222222,
              "#7201a8"
             ],
             [
              0.3333333333333333,
              "#9c179e"
             ],
             [
              0.4444444444444444,
              "#bd3786"
             ],
             [
              0.5555555555555556,
              "#d8576b"
             ],
             [
              0.6666666666666666,
              "#ed7953"
             ],
             [
              0.7777777777777778,
              "#fb9f3a"
             ],
             [
              0.8888888888888888,
              "#fdca26"
             ],
             [
              1,
              "#f0f921"
             ]
            ],
            "type": "heatmapgl"
           }
          ],
          "histogram": [
           {
            "marker": {
             "colorbar": {
              "outlinewidth": 0,
              "ticks": ""
             }
            },
            "type": "histogram"
           }
          ],
          "histogram2d": [
           {
            "colorbar": {
             "outlinewidth": 0,
             "ticks": ""
            },
            "colorscale": [
             [
              0,
              "#0d0887"
             ],
             [
              0.1111111111111111,
              "#46039f"
             ],
             [
              0.2222222222222222,
              "#7201a8"
             ],
             [
              0.3333333333333333,
              "#9c179e"
             ],
             [
              0.4444444444444444,
              "#bd3786"
             ],
             [
              0.5555555555555556,
              "#d8576b"
             ],
             [
              0.6666666666666666,
              "#ed7953"
             ],
             [
              0.7777777777777778,
              "#fb9f3a"
             ],
             [
              0.8888888888888888,
              "#fdca26"
             ],
             [
              1,
              "#f0f921"
             ]
            ],
            "type": "histogram2d"
           }
          ],
          "histogram2dcontour": [
           {
            "colorbar": {
             "outlinewidth": 0,
             "ticks": ""
            },
            "colorscale": [
             [
              0,
              "#0d0887"
             ],
             [
              0.1111111111111111,
              "#46039f"
             ],
             [
              0.2222222222222222,
              "#7201a8"
             ],
             [
              0.3333333333333333,
              "#9c179e"
             ],
             [
              0.4444444444444444,
              "#bd3786"
             ],
             [
              0.5555555555555556,
              "#d8576b"
             ],
             [
              0.6666666666666666,
              "#ed7953"
             ],
             [
              0.7777777777777778,
              "#fb9f3a"
             ],
             [
              0.8888888888888888,
              "#fdca26"
             ],
             [
              1,
              "#f0f921"
             ]
            ],
            "type": "histogram2dcontour"
           }
          ],
          "mesh3d": [
           {
            "colorbar": {
             "outlinewidth": 0,
             "ticks": ""
            },
            "type": "mesh3d"
           }
          ],
          "parcoords": [
           {
            "line": {
             "colorbar": {
              "outlinewidth": 0,
              "ticks": ""
             }
            },
            "type": "parcoords"
           }
          ],
          "pie": [
           {
            "automargin": true,
            "type": "pie"
           }
          ],
          "scatter": [
           {
            "marker": {
             "colorbar": {
              "outlinewidth": 0,
              "ticks": ""
             }
            },
            "type": "scatter"
           }
          ],
          "scatter3d": [
           {
            "line": {
             "colorbar": {
              "outlinewidth": 0,
              "ticks": ""
             }
            },
            "marker": {
             "colorbar": {
              "outlinewidth": 0,
              "ticks": ""
             }
            },
            "type": "scatter3d"
           }
          ],
          "scattercarpet": [
           {
            "marker": {
             "colorbar": {
              "outlinewidth": 0,
              "ticks": ""
             }
            },
            "type": "scattercarpet"
           }
          ],
          "scattergeo": [
           {
            "marker": {
             "colorbar": {
              "outlinewidth": 0,
              "ticks": ""
             }
            },
            "type": "scattergeo"
           }
          ],
          "scattergl": [
           {
            "marker": {
             "colorbar": {
              "outlinewidth": 0,
              "ticks": ""
             }
            },
            "type": "scattergl"
           }
          ],
          "scattermapbox": [
           {
            "marker": {
             "colorbar": {
              "outlinewidth": 0,
              "ticks": ""
             }
            },
            "type": "scattermapbox"
           }
          ],
          "scatterpolar": [
           {
            "marker": {
             "colorbar": {
              "outlinewidth": 0,
              "ticks": ""
             }
            },
            "type": "scatterpolar"
           }
          ],
          "scatterpolargl": [
           {
            "marker": {
             "colorbar": {
              "outlinewidth": 0,
              "ticks": ""
             }
            },
            "type": "scatterpolargl"
           }
          ],
          "scatterternary": [
           {
            "marker": {
             "colorbar": {
              "outlinewidth": 0,
              "ticks": ""
             }
            },
            "type": "scatterternary"
           }
          ],
          "surface": [
           {
            "colorbar": {
             "outlinewidth": 0,
             "ticks": ""
            },
            "colorscale": [
             [
              0,
              "#0d0887"
             ],
             [
              0.1111111111111111,
              "#46039f"
             ],
             [
              0.2222222222222222,
              "#7201a8"
             ],
             [
              0.3333333333333333,
              "#9c179e"
             ],
             [
              0.4444444444444444,
              "#bd3786"
             ],
             [
              0.5555555555555556,
              "#d8576b"
             ],
             [
              0.6666666666666666,
              "#ed7953"
             ],
             [
              0.7777777777777778,
              "#fb9f3a"
             ],
             [
              0.8888888888888888,
              "#fdca26"
             ],
             [
              1,
              "#f0f921"
             ]
            ],
            "type": "surface"
           }
          ],
          "table": [
           {
            "cells": {
             "fill": {
              "color": "#EBF0F8"
             },
             "line": {
              "color": "white"
             }
            },
            "header": {
             "fill": {
              "color": "#C8D4E3"
             },
             "line": {
              "color": "white"
             }
            },
            "type": "table"
           }
          ]
         },
         "layout": {
          "annotationdefaults": {
           "arrowcolor": "#2a3f5f",
           "arrowhead": 0,
           "arrowwidth": 1
          },
          "coloraxis": {
           "colorbar": {
            "outlinewidth": 0,
            "ticks": ""
           }
          },
          "colorscale": {
           "diverging": [
            [
             0,
             "#8e0152"
            ],
            [
             0.1,
             "#c51b7d"
            ],
            [
             0.2,
             "#de77ae"
            ],
            [
             0.3,
             "#f1b6da"
            ],
            [
             0.4,
             "#fde0ef"
            ],
            [
             0.5,
             "#f7f7f7"
            ],
            [
             0.6,
             "#e6f5d0"
            ],
            [
             0.7,
             "#b8e186"
            ],
            [
             0.8,
             "#7fbc41"
            ],
            [
             0.9,
             "#4d9221"
            ],
            [
             1,
             "#276419"
            ]
           ],
           "sequential": [
            [
             0,
             "#0d0887"
            ],
            [
             0.1111111111111111,
             "#46039f"
            ],
            [
             0.2222222222222222,
             "#7201a8"
            ],
            [
             0.3333333333333333,
             "#9c179e"
            ],
            [
             0.4444444444444444,
             "#bd3786"
            ],
            [
             0.5555555555555556,
             "#d8576b"
            ],
            [
             0.6666666666666666,
             "#ed7953"
            ],
            [
             0.7777777777777778,
             "#fb9f3a"
            ],
            [
             0.8888888888888888,
             "#fdca26"
            ],
            [
             1,
             "#f0f921"
            ]
           ],
           "sequentialminus": [
            [
             0,
             "#0d0887"
            ],
            [
             0.1111111111111111,
             "#46039f"
            ],
            [
             0.2222222222222222,
             "#7201a8"
            ],
            [
             0.3333333333333333,
             "#9c179e"
            ],
            [
             0.4444444444444444,
             "#bd3786"
            ],
            [
             0.5555555555555556,
             "#d8576b"
            ],
            [
             0.6666666666666666,
             "#ed7953"
            ],
            [
             0.7777777777777778,
             "#fb9f3a"
            ],
            [
             0.8888888888888888,
             "#fdca26"
            ],
            [
             1,
             "#f0f921"
            ]
           ]
          },
          "colorway": [
           "#636efa",
           "#EF553B",
           "#00cc96",
           "#ab63fa",
           "#FFA15A",
           "#19d3f3",
           "#FF6692",
           "#B6E880",
           "#FF97FF",
           "#FECB52"
          ],
          "font": {
           "color": "#2a3f5f"
          },
          "geo": {
           "bgcolor": "white",
           "lakecolor": "white",
           "landcolor": "#E5ECF6",
           "showlakes": true,
           "showland": true,
           "subunitcolor": "white"
          },
          "hoverlabel": {
           "align": "left"
          },
          "hovermode": "closest",
          "mapbox": {
           "style": "light"
          },
          "paper_bgcolor": "white",
          "plot_bgcolor": "#E5ECF6",
          "polar": {
           "angularaxis": {
            "gridcolor": "white",
            "linecolor": "white",
            "ticks": ""
           },
           "bgcolor": "#E5ECF6",
           "radialaxis": {
            "gridcolor": "white",
            "linecolor": "white",
            "ticks": ""
           }
          },
          "scene": {
           "xaxis": {
            "backgroundcolor": "#E5ECF6",
            "gridcolor": "white",
            "gridwidth": 2,
            "linecolor": "white",
            "showbackground": true,
            "ticks": "",
            "zerolinecolor": "white"
           },
           "yaxis": {
            "backgroundcolor": "#E5ECF6",
            "gridcolor": "white",
            "gridwidth": 2,
            "linecolor": "white",
            "showbackground": true,
            "ticks": "",
            "zerolinecolor": "white"
           },
           "zaxis": {
            "backgroundcolor": "#E5ECF6",
            "gridcolor": "white",
            "gridwidth": 2,
            "linecolor": "white",
            "showbackground": true,
            "ticks": "",
            "zerolinecolor": "white"
           }
          },
          "shapedefaults": {
           "line": {
            "color": "#2a3f5f"
           }
          },
          "ternary": {
           "aaxis": {
            "gridcolor": "white",
            "linecolor": "white",
            "ticks": ""
           },
           "baxis": {
            "gridcolor": "white",
            "linecolor": "white",
            "ticks": ""
           },
           "bgcolor": "#E5ECF6",
           "caxis": {
            "gridcolor": "white",
            "linecolor": "white",
            "ticks": ""
           }
          },
          "title": {
           "x": 0.05
          },
          "xaxis": {
           "automargin": true,
           "gridcolor": "white",
           "linecolor": "white",
           "ticks": "",
           "title": {
            "standoff": 15
           },
           "zerolinecolor": "white",
           "zerolinewidth": 2
          },
          "yaxis": {
           "automargin": true,
           "gridcolor": "white",
           "linecolor": "white",
           "ticks": "",
           "title": {
            "standoff": 15
           },
           "zerolinecolor": "white",
           "zerolinewidth": 2
          }
         }
        },
        "title": {
         "font": {
          "color": "#4D5663"
         }
        },
        "xaxis": {
         "gridcolor": "#E1E5ED",
         "showgrid": true,
         "tickfont": {
          "color": "#4D5663"
         },
         "title": {
          "font": {
           "color": "#4D5663"
          },
          "text": ""
         },
         "zerolinecolor": "#E1E5ED"
        },
        "yaxis": {
         "gridcolor": "#E1E5ED",
         "showgrid": true,
         "tickfont": {
          "color": "#4D5663"
         },
         "title": {
          "font": {
           "color": "#4D5663"
          },
          "text": ""
         },
         "zerolinecolor": "#E1E5ED"
        }
       }
      },
      "text/html": [
       "<div>                            <div id=\"222a097d-6d17-48c5-8d58-ec9415bcc8cc\" class=\"plotly-graph-div\" style=\"height:525px; width:100%;\"></div>            <script type=\"text/javascript\">                require([\"plotly\"], function(Plotly) {                    window.PLOTLYENV=window.PLOTLYENV || {};\n",
       "                    window.PLOTLYENV.BASE_URL='https://plot.ly';                                    if (document.getElementById(\"222a097d-6d17-48c5-8d58-ec9415bcc8cc\")) {                    Plotly.newPlot(                        \"222a097d-6d17-48c5-8d58-ec9415bcc8cc\",                        [{\"line\": {\"color\": \"rgba(255, 153, 51, 1.0)\", \"dash\": \"solid\", \"shape\": \"linear\", \"width\": 1.3}, \"mode\": \"lines\", \"name\": \"Close\", \"text\": \"\", \"type\": \"scatter\", \"x\": [\"3/18/2020\", \"3/19/2020\", \"3/20/2020\", \"3/23/2020\", \"3/24/2020\", \"3/25/2020\", \"3/26/2020\", \"3/27/2020\", \"3/30/2020\", \"3/31/2020\", \"4/1/2020\", \"4/2/2020\", \"4/3/2020\", \"4/6/2020\", \"4/7/2020\", \"4/8/2020\", \"4/9/2020\", \"4/13/2020\", \"4/14/2020\", \"4/15/2020\", \"4/16/2020\", \"4/17/2020\", \"4/20/2020\", \"4/21/2020\", \"4/22/2020\", \"4/23/2020\", \"4/24/2020\", \"4/27/2020\", \"4/28/2020\", \"4/29/2020\", \"4/30/2020\", \"5/1/2020\", \"5/4/2020\", \"5/5/2020\", \"5/6/2020\", \"5/7/2020\", \"5/8/2020\", \"5/11/2020\", \"5/12/2020\", \"5/13/2020\", \"5/14/2020\", \"5/15/2020\", \"5/18/2020\", \"5/19/2020\", \"5/20/2020\", \"5/21/2020\", \"5/22/2020\", \"5/26/2020\", \"5/27/2020\", \"5/28/2020\", \"5/29/2020\", \"6/1/2020\", \"6/2/2020\", \"6/3/2020\", \"6/4/2020\", \"6/5/2020\", \"6/8/2020\", \"6/9/2020\", \"6/10/2020\", \"6/11/2020\", \"6/12/2020\", \"6/15/2020\", \"6/16/2020\", \"6/17/2020\", \"6/18/2020\", \"6/19/2020\", \"6/22/2020\", \"6/23/2020\", \"6/24/2020\", \"6/25/2020\", \"6/26/2020\", \"6/29/2020\", \"6/30/2020\", \"7/1/2020\", \"7/2/2020\", \"7/6/2020\", \"7/7/2020\", \"7/8/2020\", \"7/9/2020\", \"7/10/2020\", \"7/13/2020\", \"7/14/2020\", \"7/15/2020\", \"7/16/2020\", \"7/17/2020\", \"7/20/2020\", \"7/21/2020\", \"7/22/2020\", \"7/23/2020\", \"7/24/2020\", \"7/27/2020\", \"7/28/2020\", \"7/29/2020\", \"7/30/2020\", \"7/31/2020\", \"8/3/2020\", \"8/4/2020\", \"8/5/2020\", \"8/6/2020\", \"8/7/2020\", \"8/10/2020\", \"8/11/2020\", \"8/12/2020\", \"8/13/2020\", \"8/14/2020\", \"8/17/2020\", \"8/18/2020\", \"8/19/2020\", \"8/20/2020\", \"8/21/2020\", \"8/24/2020\", \"8/25/2020\", \"8/26/2020\", \"8/27/2020\", \"8/28/2020\"], \"y\": [1830.0, 1880.93, 1846.09, 1902.83, 1940.1, 1885.84, 1955.49, 1900.1, 1963.95, 1949.72, 1907.7, 1918.83, 1906.59, 1997.59, 2011.6, 2043.0, 2042.76, 2168.87, 2283.32, 2307.68, 2408.19, 2375.0, 2393.61, 2328.12, 2363.49, 2399.45, 2410.22, 2376.0, 2314.08, 2372.71, 2474.0, 2286.04, 2315.99, 2317.8, 2351.26, 2367.61, 2379.61, 2409.0, 2356.95, 2367.92, 2388.85, 2409.78, 2426.26, 2449.33, 2497.94, 2446.74, 2436.88, 2421.86, 2410.39, 2401.1, 2442.37, 2471.04, 2472.41, 2478.4, 2460.6, 2483.0, 2524.06, 2600.86, 2647.45, 2557.96, 2545.02, 2572.68, 2615.27, 2640.98, 2653.98, 2675.01, 2713.82, 2764.41, 2734.4, 2754.58, 2692.87, 2680.38, 2758.82, 2878.7, 2890.3, 3057.04, 3000.12, 3081.11, 3182.63, 3200.0, 3104.0, 3084.0, 3008.87, 2999.9, 2961.97, 3196.84, 3138.29, 3099.91, 2986.55, 3008.91, 3055.21, 3000.33, 3033.53, 3051.88, 3164.68, 3111.89, 3138.83, 3205.03, 3225.0, 3167.46, 3148.16, 3080.67, 3162.24, 3161.02, 3148.02, 3182.41, 3312.49, 3260.48, 3297.37, 3284.72, 3307.46, 3346.49, 3441.85, 3400.0, 3401.8]}, {\"line\": {\"color\": \"rgba(55, 128, 191, 1.0)\", \"dash\": \"solid\", \"shape\": \"linear\", \"width\": 1.3}, \"mode\": \"lines\", \"name\": \"SMA(3)\", \"text\": \"\", \"type\": \"scatter\", \"x\": [\"3/18/2020\", \"3/19/2020\", \"3/20/2020\", \"3/23/2020\", \"3/24/2020\", \"3/25/2020\", \"3/26/2020\", \"3/27/2020\", \"3/30/2020\", \"3/31/2020\", \"4/1/2020\", \"4/2/2020\", \"4/3/2020\", \"4/6/2020\", \"4/7/2020\", \"4/8/2020\", \"4/9/2020\", \"4/13/2020\", \"4/14/2020\", \"4/15/2020\", \"4/16/2020\", \"4/17/2020\", \"4/20/2020\", \"4/21/2020\", \"4/22/2020\", \"4/23/2020\", \"4/24/2020\", \"4/27/2020\", \"4/28/2020\", \"4/29/2020\", \"4/30/2020\", \"5/1/2020\", \"5/4/2020\", \"5/5/2020\", \"5/6/2020\", \"5/7/2020\", \"5/8/2020\", \"5/11/2020\", \"5/12/2020\", \"5/13/2020\", \"5/14/2020\", \"5/15/2020\", \"5/18/2020\", \"5/19/2020\", \"5/20/2020\", \"5/21/2020\", \"5/22/2020\", \"5/26/2020\", \"5/27/2020\", \"5/28/2020\", \"5/29/2020\", \"6/1/2020\", \"6/2/2020\", \"6/3/2020\", \"6/4/2020\", \"6/5/2020\", \"6/8/2020\", \"6/9/2020\", \"6/10/2020\", \"6/11/2020\", \"6/12/2020\", \"6/15/2020\", \"6/16/2020\", \"6/17/2020\", \"6/18/2020\", \"6/19/2020\", \"6/22/2020\", \"6/23/2020\", \"6/24/2020\", \"6/25/2020\", \"6/26/2020\", \"6/29/2020\", \"6/30/2020\", \"7/1/2020\", \"7/2/2020\", \"7/6/2020\", \"7/7/2020\", \"7/8/2020\", \"7/9/2020\", \"7/10/2020\", \"7/13/2020\", \"7/14/2020\", \"7/15/2020\", \"7/16/2020\", \"7/17/2020\", \"7/20/2020\", \"7/21/2020\", \"7/22/2020\", \"7/23/2020\", \"7/24/2020\", \"7/27/2020\", \"7/28/2020\", \"7/29/2020\", \"7/30/2020\", \"7/31/2020\", \"8/3/2020\", \"8/4/2020\", \"8/5/2020\", \"8/6/2020\", \"8/7/2020\", \"8/10/2020\", \"8/11/2020\", \"8/12/2020\", \"8/13/2020\", \"8/14/2020\", \"8/17/2020\", \"8/18/2020\", \"8/19/2020\", \"8/20/2020\", \"8/21/2020\", \"8/24/2020\", \"8/25/2020\", \"8/26/2020\", \"8/27/2020\", \"8/28/2020\"], \"y\": [\"\", \"\", 1852.3400000000001, 1876.6166666666668, 1896.3400000000001, 1909.5900000000001, 1927.1433333333334, 1913.8100000000002, 1939.8466666666666, 1937.9233333333334, 1940.456666666667, 1925.416666666667, 1911.0400000000002, 1941.0033333333338, 1971.926666666667, 2017.3966666666668, 2032.4533333333336, 2084.8766666666666, 2164.983333333333, 2253.2899999999995, 2333.063333333333, 2363.623333333333, 2392.2666666666664, 2365.576666666666, 2361.7399999999993, 2363.686666666666, 2391.0533333333324, 2395.223333333332, 2366.7666666666655, 2354.2633333333324, 2386.929999999999, 2377.5833333333326, 2358.676666666666, 2306.609999999999, 2328.3499999999995, 2345.556666666666, 2366.1599999999994, 2385.4066666666663, 2381.8533333333326, 2377.9566666666656, 2371.2399999999993, 2388.8499999999995, 2408.2966666666657, 2428.4566666666656, 2457.8433333333323, 2464.6699999999987, 2460.5199999999986, 2435.1599999999985, 2423.0433333333317, 2411.1166666666654, 2417.9533333333316, 2438.1699999999983, 2461.9399999999982, 2473.949999999998, 2470.469999999998, 2473.9999999999977, 2489.2199999999975, 2535.973333333331, 2590.7899999999972, 2602.089999999997, 2583.4766666666637, 2558.5533333333306, 2577.6566666666636, 2609.6433333333302, 2636.74333333333, 2656.6566666666636, 2680.9366666666633, 2717.7466666666637, 2737.54333333333, 2751.129999999997, 2727.2833333333306, 2709.2766666666644, 2710.6899999999973, 2772.6333333333314, 2842.6066666666643, 2942.013333333331, 2982.486666666664, 3046.089999999998, 3087.953333333331, 3154.579999999998, 3162.2099999999978, 3129.3333333333308, 3065.6233333333307, 3030.9233333333304, 2990.2466666666637, 3052.9033333333305, 3099.033333333331, 3145.013333333331, 3074.9166666666642, 3031.7899999999972, 3016.889999999997, 3021.48333333333, 3029.689999999997, 3028.5799999999967, 3083.3633333333305, 3109.48333333333, 3138.4666666666635, 3151.916666666664, 3189.619999999997, 3199.1633333333307, 3180.2066666666638, 3132.096666666664, 3130.3566666666643, 3134.643333333331, 3157.093333333331, 3163.8166666666643, 3214.306666666664, 3251.793333333331, 3290.113333333331, 3280.8566666666643, 3296.516666666664, 3312.889999999997, 3365.266666666664, 3396.113333333331, 3414.5499999999975]}, {\"line\": {\"color\": \"rgba(55, 128, 191, 0.8999999999999999)\", \"dash\": \"solid\", \"shape\": \"linear\", \"width\": 1.3}, \"mode\": \"lines\", \"name\": \"SMA(10)\", \"text\": \"\", \"type\": \"scatter\", \"x\": [\"3/18/2020\", \"3/19/2020\", \"3/20/2020\", \"3/23/2020\", \"3/24/2020\", \"3/25/2020\", \"3/26/2020\", \"3/27/2020\", \"3/30/2020\", \"3/31/2020\", \"4/1/2020\", \"4/2/2020\", \"4/3/2020\", \"4/6/2020\", \"4/7/2020\", \"4/8/2020\", \"4/9/2020\", \"4/13/2020\", \"4/14/2020\", \"4/15/2020\", \"4/16/2020\", \"4/17/2020\", \"4/20/2020\", \"4/21/2020\", \"4/22/2020\", \"4/23/2020\", \"4/24/2020\", \"4/27/2020\", \"4/28/2020\", \"4/29/2020\", \"4/30/2020\", \"5/1/2020\", \"5/4/2020\", \"5/5/2020\", \"5/6/2020\", \"5/7/2020\", \"5/8/2020\", \"5/11/2020\", \"5/12/2020\", \"5/13/2020\", \"5/14/2020\", \"5/15/2020\", \"5/18/2020\", \"5/19/2020\", \"5/20/2020\", \"5/21/2020\", \"5/22/2020\", \"5/26/2020\", \"5/27/2020\", \"5/28/2020\", \"5/29/2020\", \"6/1/2020\", \"6/2/2020\", \"6/3/2020\", \"6/4/2020\", \"6/5/2020\", \"6/8/2020\", \"6/9/2020\", \"6/10/2020\", \"6/11/2020\", \"6/12/2020\", \"6/15/2020\", \"6/16/2020\", \"6/17/2020\", \"6/18/2020\", \"6/19/2020\", \"6/22/2020\", \"6/23/2020\", \"6/24/2020\", \"6/25/2020\", \"6/26/2020\", \"6/29/2020\", \"6/30/2020\", \"7/1/2020\", \"7/2/2020\", \"7/6/2020\", \"7/7/2020\", \"7/8/2020\", \"7/9/2020\", \"7/10/2020\", \"7/13/2020\", \"7/14/2020\", \"7/15/2020\", \"7/16/2020\", \"7/17/2020\", \"7/20/2020\", \"7/21/2020\", \"7/22/2020\", \"7/23/2020\", \"7/24/2020\", \"7/27/2020\", \"7/28/2020\", \"7/29/2020\", \"7/30/2020\", \"7/31/2020\", \"8/3/2020\", \"8/4/2020\", \"8/5/2020\", \"8/6/2020\", \"8/7/2020\", \"8/10/2020\", \"8/11/2020\", \"8/12/2020\", \"8/13/2020\", \"8/14/2020\", \"8/17/2020\", \"8/18/2020\", \"8/19/2020\", \"8/20/2020\", \"8/21/2020\", \"8/24/2020\", \"8/25/2020\", \"8/26/2020\", \"8/27/2020\", \"8/28/2020\"], \"y\": [\"\", \"\", \"\", \"\", \"\", \"\", \"\", \"\", \"\", 1905.5050000000003, 1913.2750000000003, 1917.065, 1923.1150000000002, 1932.5910000000003, 1939.7410000000004, 1955.4570000000003, 1964.184, 1991.0610000000001, 2022.998, 2058.794, 2108.843, 2154.46, 2203.162, 2236.2149999999997, 2271.404, 2307.049, 2343.7950000000005, 2364.5080000000007, 2367.5840000000003, 2374.0870000000004, 2380.6680000000006, 2371.7720000000004, 2364.0100000000007, 2362.9780000000005, 2361.755000000001, 2358.571000000001, 2355.510000000001, 2358.810000000001, 2363.0970000000007, 2362.618000000001, 2354.1030000000005, 2366.4770000000003, 2377.504000000001, 2390.657000000001, 2405.3250000000007, 2413.2380000000003, 2418.9650000000006, 2420.2510000000007, 2425.5950000000003, 2428.9130000000005, 2434.2650000000003, 2440.3910000000005, 2445.0060000000003, 2447.9130000000005, 2444.1790000000005, 2447.8050000000003, 2456.523, 2474.4230000000002, 2498.1290000000004, 2513.8150000000005, 2524.080000000001, 2534.2440000000006, 2548.5300000000007, 2564.7880000000005, 2584.1260000000007, 2603.327, 2622.3030000000003, 2638.6580000000004, 2647.353, 2667.0150000000003, 2681.8, 2692.57, 2706.925, 2730.697, 2754.329, 2792.532, 2821.162, 2852.832, 2897.6549999999997, 2942.197, 2983.3100000000004, 3023.6720000000005, 3048.6770000000006, 3060.7970000000005, 3067.9640000000004, 3081.9440000000004, 3095.7610000000004, 3097.6410000000005, 3078.0330000000004, 3058.9240000000004, 3054.0450000000005, 3045.678000000001, 3048.1440000000007, 3053.3420000000006, 3073.6130000000003, 3065.1180000000004, 3065.172, 3075.684, 3099.5289999999995, 3115.384, 3124.679, 3132.7129999999997, 3145.584, 3156.497999999999, 3154.8319999999994, 3161.8839999999996, 3179.249999999999, 3184.7949999999996, 3192.032, 3203.7580000000003, 3219.688, 3246.2700000000004, 3274.2310000000007, 3298.129000000001, 3323.5070000000014]}],                        {\"legend\": {\"bgcolor\": \"#F5F6F9\", \"font\": {\"color\": \"#4D5663\"}}, \"paper_bgcolor\": \"#F5F6F9\", \"plot_bgcolor\": \"#F5F6F9\", \"template\": {\"data\": {\"bar\": [{\"error_x\": {\"color\": \"#2a3f5f\"}, \"error_y\": {\"color\": \"#2a3f5f\"}, \"marker\": {\"line\": {\"color\": \"#E5ECF6\", \"width\": 0.5}}, \"type\": \"bar\"}], \"barpolar\": [{\"marker\": {\"line\": {\"color\": \"#E5ECF6\", \"width\": 0.5}}, \"type\": \"barpolar\"}], \"carpet\": [{\"aaxis\": {\"endlinecolor\": \"#2a3f5f\", \"gridcolor\": \"white\", \"linecolor\": \"white\", \"minorgridcolor\": \"white\", \"startlinecolor\": \"#2a3f5f\"}, \"baxis\": {\"endlinecolor\": \"#2a3f5f\", \"gridcolor\": \"white\", \"linecolor\": \"white\", \"minorgridcolor\": \"white\", \"startlinecolor\": \"#2a3f5f\"}, \"type\": \"carpet\"}], \"choropleth\": [{\"colorbar\": {\"outlinewidth\": 0, \"ticks\": \"\"}, \"type\": \"choropleth\"}], \"contour\": [{\"colorbar\": {\"outlinewidth\": 0, \"ticks\": \"\"}, \"colorscale\": [[0.0, \"#0d0887\"], [0.1111111111111111, \"#46039f\"], [0.2222222222222222, \"#7201a8\"], [0.3333333333333333, \"#9c179e\"], [0.4444444444444444, \"#bd3786\"], [0.5555555555555556, \"#d8576b\"], [0.6666666666666666, \"#ed7953\"], [0.7777777777777778, \"#fb9f3a\"], [0.8888888888888888, \"#fdca26\"], [1.0, \"#f0f921\"]], \"type\": \"contour\"}], \"contourcarpet\": [{\"colorbar\": {\"outlinewidth\": 0, \"ticks\": \"\"}, \"type\": \"contourcarpet\"}], \"heatmap\": [{\"colorbar\": {\"outlinewidth\": 0, \"ticks\": \"\"}, \"colorscale\": [[0.0, \"#0d0887\"], [0.1111111111111111, \"#46039f\"], [0.2222222222222222, \"#7201a8\"], [0.3333333333333333, \"#9c179e\"], [0.4444444444444444, \"#bd3786\"], [0.5555555555555556, \"#d8576b\"], [0.6666666666666666, \"#ed7953\"], [0.7777777777777778, \"#fb9f3a\"], [0.8888888888888888, \"#fdca26\"], [1.0, \"#f0f921\"]], \"type\": \"heatmap\"}], \"heatmapgl\": [{\"colorbar\": {\"outlinewidth\": 0, \"ticks\": \"\"}, \"colorscale\": [[0.0, \"#0d0887\"], [0.1111111111111111, \"#46039f\"], [0.2222222222222222, \"#7201a8\"], [0.3333333333333333, \"#9c179e\"], [0.4444444444444444, \"#bd3786\"], [0.5555555555555556, \"#d8576b\"], [0.6666666666666666, \"#ed7953\"], [0.7777777777777778, \"#fb9f3a\"], [0.8888888888888888, \"#fdca26\"], [1.0, \"#f0f921\"]], \"type\": \"heatmapgl\"}], \"histogram\": [{\"marker\": {\"colorbar\": {\"outlinewidth\": 0, \"ticks\": \"\"}}, \"type\": \"histogram\"}], \"histogram2d\": [{\"colorbar\": {\"outlinewidth\": 0, \"ticks\": \"\"}, \"colorscale\": [[0.0, \"#0d0887\"], [0.1111111111111111, \"#46039f\"], [0.2222222222222222, \"#7201a8\"], [0.3333333333333333, \"#9c179e\"], [0.4444444444444444, \"#bd3786\"], [0.5555555555555556, \"#d8576b\"], [0.6666666666666666, \"#ed7953\"], [0.7777777777777778, \"#fb9f3a\"], [0.8888888888888888, \"#fdca26\"], [1.0, \"#f0f921\"]], \"type\": \"histogram2d\"}], \"histogram2dcontour\": [{\"colorbar\": {\"outlinewidth\": 0, \"ticks\": \"\"}, \"colorscale\": [[0.0, \"#0d0887\"], [0.1111111111111111, \"#46039f\"], [0.2222222222222222, \"#7201a8\"], [0.3333333333333333, \"#9c179e\"], [0.4444444444444444, \"#bd3786\"], [0.5555555555555556, \"#d8576b\"], [0.6666666666666666, \"#ed7953\"], [0.7777777777777778, \"#fb9f3a\"], [0.8888888888888888, \"#fdca26\"], [1.0, \"#f0f921\"]], \"type\": \"histogram2dcontour\"}], \"mesh3d\": [{\"colorbar\": {\"outlinewidth\": 0, \"ticks\": \"\"}, \"type\": \"mesh3d\"}], \"parcoords\": [{\"line\": {\"colorbar\": {\"outlinewidth\": 0, \"ticks\": \"\"}}, \"type\": \"parcoords\"}], \"pie\": [{\"automargin\": true, \"type\": \"pie\"}], \"scatter\": [{\"marker\": {\"colorbar\": {\"outlinewidth\": 0, \"ticks\": \"\"}}, \"type\": \"scatter\"}], \"scatter3d\": [{\"line\": {\"colorbar\": {\"outlinewidth\": 0, \"ticks\": \"\"}}, \"marker\": {\"colorbar\": {\"outlinewidth\": 0, \"ticks\": \"\"}}, \"type\": \"scatter3d\"}], \"scattercarpet\": [{\"marker\": {\"colorbar\": {\"outlinewidth\": 0, \"ticks\": \"\"}}, \"type\": \"scattercarpet\"}], \"scattergeo\": [{\"marker\": {\"colorbar\": {\"outlinewidth\": 0, \"ticks\": \"\"}}, \"type\": \"scattergeo\"}], \"scattergl\": [{\"marker\": {\"colorbar\": {\"outlinewidth\": 0, \"ticks\": \"\"}}, \"type\": \"scattergl\"}], \"scattermapbox\": [{\"marker\": {\"colorbar\": {\"outlinewidth\": 0, \"ticks\": \"\"}}, \"type\": \"scattermapbox\"}], \"scatterpolar\": [{\"marker\": {\"colorbar\": {\"outlinewidth\": 0, \"ticks\": \"\"}}, \"type\": \"scatterpolar\"}], \"scatterpolargl\": [{\"marker\": {\"colorbar\": {\"outlinewidth\": 0, \"ticks\": \"\"}}, \"type\": \"scatterpolargl\"}], \"scatterternary\": [{\"marker\": {\"colorbar\": {\"outlinewidth\": 0, \"ticks\": \"\"}}, \"type\": \"scatterternary\"}], \"surface\": [{\"colorbar\": {\"outlinewidth\": 0, \"ticks\": \"\"}, \"colorscale\": [[0.0, \"#0d0887\"], [0.1111111111111111, \"#46039f\"], [0.2222222222222222, \"#7201a8\"], [0.3333333333333333, \"#9c179e\"], [0.4444444444444444, \"#bd3786\"], [0.5555555555555556, \"#d8576b\"], [0.6666666666666666, \"#ed7953\"], [0.7777777777777778, \"#fb9f3a\"], [0.8888888888888888, \"#fdca26\"], [1.0, \"#f0f921\"]], \"type\": \"surface\"}], \"table\": [{\"cells\": {\"fill\": {\"color\": \"#EBF0F8\"}, \"line\": {\"color\": \"white\"}}, \"header\": {\"fill\": {\"color\": \"#C8D4E3\"}, \"line\": {\"color\": \"white\"}}, \"type\": \"table\"}]}, \"layout\": {\"annotationdefaults\": {\"arrowcolor\": \"#2a3f5f\", \"arrowhead\": 0, \"arrowwidth\": 1}, \"coloraxis\": {\"colorbar\": {\"outlinewidth\": 0, \"ticks\": \"\"}}, \"colorscale\": {\"diverging\": [[0, \"#8e0152\"], [0.1, \"#c51b7d\"], [0.2, \"#de77ae\"], [0.3, \"#f1b6da\"], [0.4, \"#fde0ef\"], [0.5, \"#f7f7f7\"], [0.6, \"#e6f5d0\"], [0.7, \"#b8e186\"], [0.8, \"#7fbc41\"], [0.9, \"#4d9221\"], [1, \"#276419\"]], \"sequential\": [[0.0, \"#0d0887\"], [0.1111111111111111, \"#46039f\"], [0.2222222222222222, \"#7201a8\"], [0.3333333333333333, \"#9c179e\"], [0.4444444444444444, \"#bd3786\"], [0.5555555555555556, \"#d8576b\"], [0.6666666666666666, \"#ed7953\"], [0.7777777777777778, \"#fb9f3a\"], [0.8888888888888888, \"#fdca26\"], [1.0, \"#f0f921\"]], \"sequentialminus\": [[0.0, \"#0d0887\"], [0.1111111111111111, \"#46039f\"], [0.2222222222222222, \"#7201a8\"], [0.3333333333333333, \"#9c179e\"], [0.4444444444444444, \"#bd3786\"], [0.5555555555555556, \"#d8576b\"], [0.6666666666666666, \"#ed7953\"], [0.7777777777777778, \"#fb9f3a\"], [0.8888888888888888, \"#fdca26\"], [1.0, \"#f0f921\"]]}, \"colorway\": [\"#636efa\", \"#EF553B\", \"#00cc96\", \"#ab63fa\", \"#FFA15A\", \"#19d3f3\", \"#FF6692\", \"#B6E880\", \"#FF97FF\", \"#FECB52\"], \"font\": {\"color\": \"#2a3f5f\"}, \"geo\": {\"bgcolor\": \"white\", \"lakecolor\": \"white\", \"landcolor\": \"#E5ECF6\", \"showlakes\": true, \"showland\": true, \"subunitcolor\": \"white\"}, \"hoverlabel\": {\"align\": \"left\"}, \"hovermode\": \"closest\", \"mapbox\": {\"style\": \"light\"}, \"paper_bgcolor\": \"white\", \"plot_bgcolor\": \"#E5ECF6\", \"polar\": {\"angularaxis\": {\"gridcolor\": \"white\", \"linecolor\": \"white\", \"ticks\": \"\"}, \"bgcolor\": \"#E5ECF6\", \"radialaxis\": {\"gridcolor\": \"white\", \"linecolor\": \"white\", \"ticks\": \"\"}}, \"scene\": {\"xaxis\": {\"backgroundcolor\": \"#E5ECF6\", \"gridcolor\": \"white\", \"gridwidth\": 2, \"linecolor\": \"white\", \"showbackground\": true, \"ticks\": \"\", \"zerolinecolor\": \"white\"}, \"yaxis\": {\"backgroundcolor\": \"#E5ECF6\", \"gridcolor\": \"white\", \"gridwidth\": 2, \"linecolor\": \"white\", \"showbackground\": true, \"ticks\": \"\", \"zerolinecolor\": \"white\"}, \"zaxis\": {\"backgroundcolor\": \"#E5ECF6\", \"gridcolor\": \"white\", \"gridwidth\": 2, \"linecolor\": \"white\", \"showbackground\": true, \"ticks\": \"\", \"zerolinecolor\": \"white\"}}, \"shapedefaults\": {\"line\": {\"color\": \"#2a3f5f\"}}, \"ternary\": {\"aaxis\": {\"gridcolor\": \"white\", \"linecolor\": \"white\", \"ticks\": \"\"}, \"baxis\": {\"gridcolor\": \"white\", \"linecolor\": \"white\", \"ticks\": \"\"}, \"bgcolor\": \"#E5ECF6\", \"caxis\": {\"gridcolor\": \"white\", \"linecolor\": \"white\", \"ticks\": \"\"}}, \"title\": {\"x\": 0.05}, \"xaxis\": {\"automargin\": true, \"gridcolor\": \"white\", \"linecolor\": \"white\", \"ticks\": \"\", \"title\": {\"standoff\": 15}, \"zerolinecolor\": \"white\", \"zerolinewidth\": 2}, \"yaxis\": {\"automargin\": true, \"gridcolor\": \"white\", \"linecolor\": \"white\", \"ticks\": \"\", \"title\": {\"standoff\": 15}, \"zerolinecolor\": \"white\", \"zerolinewidth\": 2}}}, \"title\": {\"font\": {\"color\": \"#4D5663\"}}, \"xaxis\": {\"gridcolor\": \"#E1E5ED\", \"showgrid\": true, \"tickfont\": {\"color\": \"#4D5663\"}, \"title\": {\"font\": {\"color\": \"#4D5663\"}, \"text\": \"\"}, \"zerolinecolor\": \"#E1E5ED\"}, \"yaxis\": {\"gridcolor\": \"#E1E5ED\", \"showgrid\": true, \"tickfont\": {\"color\": \"#4D5663\"}, \"title\": {\"font\": {\"color\": \"#4D5663\"}, \"text\": \"\"}, \"zerolinecolor\": \"#E1E5ED\"}},                        {\"showLink\": true, \"linkText\": \"Export to plot.ly\", \"plotlyServerURL\": \"https://plot.ly\", \"responsive\": true}                    ).then(function(){\n",
       "                            \n",
       "var gd = document.getElementById('222a097d-6d17-48c5-8d58-ec9415bcc8cc');\n",
       "var x = new MutationObserver(function (mutations, observer) {{\n",
       "        var display = window.getComputedStyle(gd).display;\n",
       "        if (!display || display === 'none') {{\n",
       "            console.log([gd, 'removed!']);\n",
       "            Plotly.purge(gd);\n",
       "            observer.disconnect();\n",
       "        }}\n",
       "}});\n",
       "\n",
       "// Listen for the removal of the full notebook cells\n",
       "var notebookContainer = gd.closest('#notebook-container');\n",
       "if (notebookContainer) {{\n",
       "    x.observe(notebookContainer, {childList: true});\n",
       "}}\n",
       "\n",
       "// Listen for the clearing of the current output cell\n",
       "var outputEl = gd.closest('.output');\n",
       "if (outputEl) {{\n",
       "    x.observe(outputEl, {childList: true});\n",
       "}}\n",
       "\n",
       "                        })                };                });            </script>        </div>"
      ]
     },
     "metadata": {},
     "output_type": "display_data"
    },
    {
     "data": {
      "application/vnd.plotly.v1+json": {
       "config": {
        "linkText": "Export to plot.ly",
        "plotlyServerURL": "https://plot.ly",
        "showLink": true
       },
       "data": [
        {
         "line": {
          "color": "rgba(255, 153, 51, 1.0)",
          "dash": "solid",
          "shape": "linear",
          "width": 1.3
         },
         "mode": "lines",
         "name": "Close",
         "text": "",
         "type": "scatter",
         "x": [
          "3/18/2020",
          "3/19/2020",
          "3/20/2020",
          "3/23/2020",
          "3/24/2020",
          "3/25/2020",
          "3/26/2020",
          "3/27/2020",
          "3/30/2020",
          "3/31/2020",
          "4/1/2020",
          "4/2/2020",
          "4/3/2020",
          "4/6/2020",
          "4/7/2020",
          "4/8/2020",
          "4/9/2020",
          "4/13/2020",
          "4/14/2020",
          "4/15/2020",
          "4/16/2020",
          "4/17/2020",
          "4/20/2020",
          "4/21/2020",
          "4/22/2020",
          "4/23/2020",
          "4/24/2020",
          "4/27/2020",
          "4/28/2020",
          "4/29/2020",
          "4/30/2020",
          "5/1/2020",
          "5/4/2020",
          "5/5/2020",
          "5/6/2020",
          "5/7/2020",
          "5/8/2020",
          "5/11/2020",
          "5/12/2020",
          "5/13/2020",
          "5/14/2020",
          "5/15/2020",
          "5/18/2020",
          "5/19/2020",
          "5/20/2020",
          "5/21/2020",
          "5/22/2020",
          "5/26/2020",
          "5/27/2020",
          "5/28/2020",
          "5/29/2020",
          "6/1/2020",
          "6/2/2020",
          "6/3/2020",
          "6/4/2020",
          "6/5/2020",
          "6/8/2020",
          "6/9/2020",
          "6/10/2020",
          "6/11/2020",
          "6/12/2020",
          "6/15/2020",
          "6/16/2020",
          "6/17/2020",
          "6/18/2020",
          "6/19/2020",
          "6/22/2020",
          "6/23/2020",
          "6/24/2020",
          "6/25/2020",
          "6/26/2020",
          "6/29/2020",
          "6/30/2020",
          "7/1/2020",
          "7/2/2020",
          "7/6/2020",
          "7/7/2020",
          "7/8/2020",
          "7/9/2020",
          "7/10/2020",
          "7/13/2020",
          "7/14/2020",
          "7/15/2020",
          "7/16/2020",
          "7/17/2020",
          "7/20/2020",
          "7/21/2020",
          "7/22/2020",
          "7/23/2020",
          "7/24/2020",
          "7/27/2020",
          "7/28/2020",
          "7/29/2020",
          "7/30/2020",
          "7/31/2020",
          "8/3/2020",
          "8/4/2020",
          "8/5/2020",
          "8/6/2020",
          "8/7/2020",
          "8/10/2020",
          "8/11/2020",
          "8/12/2020",
          "8/13/2020",
          "8/14/2020",
          "8/17/2020",
          "8/18/2020",
          "8/19/2020",
          "8/20/2020",
          "8/21/2020",
          "8/24/2020",
          "8/25/2020",
          "8/26/2020",
          "8/27/2020",
          "8/28/2020"
         ],
         "y": [
          146.96,
          153.13,
          149.73,
          148.1,
          160.98,
          156.21,
          163.34,
          156.79,
          165.95,
          166.8,
          159.6,
          158.19,
          154.18,
          165.55,
          168.83,
          174.28,
          175.19,
          174.79,
          178.17,
          176.97,
          176.25,
          179.24,
          178.24,
          170.8,
          182.28,
          185.13,
          190.07,
          187.5,
          182.91,
          194.19,
          204.71,
          202.27,
          205.26,
          207.07,
          208.47,
          211.26,
          212.35,
          213.18,
          210.1,
          205.1,
          206.81,
          210.88,
          213.19,
          216.88,
          229.97,
          231.39,
          234.91,
          232.2,
          229.14,
          225.46,
          225.09,
          231.91,
          232.72,
          230.16,
          226.29,
          230.77,
          231.4,
          238.67,
          236.73,
          224.43,
          228.58,
          232.5,
          235.65,
          235.53,
          235.94,
          238.79,
          239.22,
          242.24,
          234.02,
          235.68,
          216.08,
          220.64,
          227.07,
          237.55,
          233.42,
          240.28,
          240.86,
          243.58,
          244.5,
          245.07,
          239,
          239.73,
          240.28,
          240.93,
          242.03,
          245.42,
          241.75,
          239.87,
          232.6,
          230.71,
          233.5,
          230.12,
          233.29,
          234.5,
          253.67,
          251.96,
          249.83,
          249.12,
          265.28,
          268.44,
          263,
          256.13,
          259.89,
          261.3,
          261.24,
          261.16,
          262.34,
          262.59,
          269.01,
          267.01,
          271.39,
          280.82,
          303.91,
          293.22,
          293.66
         ]
        },
        {
         "line": {
          "color": "rgba(55, 128, 191, 1.0)",
          "dash": "solid",
          "shape": "linear",
          "width": 1.3
         },
         "mode": "lines",
         "name": "SMA(3)",
         "text": "",
         "type": "scatter",
         "x": [
          "3/18/2020",
          "3/19/2020",
          "3/20/2020",
          "3/23/2020",
          "3/24/2020",
          "3/25/2020",
          "3/26/2020",
          "3/27/2020",
          "3/30/2020",
          "3/31/2020",
          "4/1/2020",
          "4/2/2020",
          "4/3/2020",
          "4/6/2020",
          "4/7/2020",
          "4/8/2020",
          "4/9/2020",
          "4/13/2020",
          "4/14/2020",
          "4/15/2020",
          "4/16/2020",
          "4/17/2020",
          "4/20/2020",
          "4/21/2020",
          "4/22/2020",
          "4/23/2020",
          "4/24/2020",
          "4/27/2020",
          "4/28/2020",
          "4/29/2020",
          "4/30/2020",
          "5/1/2020",
          "5/4/2020",
          "5/5/2020",
          "5/6/2020",
          "5/7/2020",
          "5/8/2020",
          "5/11/2020",
          "5/12/2020",
          "5/13/2020",
          "5/14/2020",
          "5/15/2020",
          "5/18/2020",
          "5/19/2020",
          "5/20/2020",
          "5/21/2020",
          "5/22/2020",
          "5/26/2020",
          "5/27/2020",
          "5/28/2020",
          "5/29/2020",
          "6/1/2020",
          "6/2/2020",
          "6/3/2020",
          "6/4/2020",
          "6/5/2020",
          "6/8/2020",
          "6/9/2020",
          "6/10/2020",
          "6/11/2020",
          "6/12/2020",
          "6/15/2020",
          "6/16/2020",
          "6/17/2020",
          "6/18/2020",
          "6/19/2020",
          "6/22/2020",
          "6/23/2020",
          "6/24/2020",
          "6/25/2020",
          "6/26/2020",
          "6/29/2020",
          "6/30/2020",
          "7/1/2020",
          "7/2/2020",
          "7/6/2020",
          "7/7/2020",
          "7/8/2020",
          "7/9/2020",
          "7/10/2020",
          "7/13/2020",
          "7/14/2020",
          "7/15/2020",
          "7/16/2020",
          "7/17/2020",
          "7/20/2020",
          "7/21/2020",
          "7/22/2020",
          "7/23/2020",
          "7/24/2020",
          "7/27/2020",
          "7/28/2020",
          "7/29/2020",
          "7/30/2020",
          "7/31/2020",
          "8/3/2020",
          "8/4/2020",
          "8/5/2020",
          "8/6/2020",
          "8/7/2020",
          "8/10/2020",
          "8/11/2020",
          "8/12/2020",
          "8/13/2020",
          "8/14/2020",
          "8/17/2020",
          "8/18/2020",
          "8/19/2020",
          "8/20/2020",
          "8/21/2020",
          "8/24/2020",
          "8/25/2020",
          "8/26/2020",
          "8/27/2020",
          "8/28/2020"
         ],
         "y": [
          "",
          "",
          149.94000000000003,
          150.32000000000002,
          152.9366666666667,
          155.0966666666667,
          160.1766666666667,
          158.78,
          162.02666666666664,
          163.17999999999995,
          164.11666666666665,
          161.53,
          157.32333333333332,
          159.30666666666664,
          162.85333333333332,
          169.55333333333334,
          172.76666666666665,
          174.7533333333333,
          176.04999999999995,
          176.6433333333333,
          177.12999999999997,
          177.48666666666665,
          177.90999999999997,
          176.09333333333333,
          177.10666666666665,
          179.4033333333333,
          185.82666666666668,
          187.5666666666667,
          186.82666666666668,
          188.20000000000005,
          193.93666666666672,
          200.39000000000007,
          204.08000000000007,
          204.8666666666667,
          206.9333333333334,
          208.9333333333334,
          210.69333333333338,
          212.2633333333334,
          211.87666666666675,
          209.46000000000006,
          207.33666666666673,
          207.59666666666672,
          210.2933333333334,
          213.6500000000001,
          220.01333333333343,
          226.08000000000007,
          232.09000000000006,
          232.8333333333334,
          232.0833333333334,
          228.93333333333342,
          226.56333333333342,
          227.48666666666676,
          229.90666666666675,
          231.59666666666672,
          229.7233333333334,
          229.07333333333338,
          229.4866666666667,
          233.61333333333337,
          235.60000000000005,
          233.27666666666676,
          229.91333333333344,
          228.50333333333344,
          232.24333333333342,
          234.56000000000006,
          235.7066666666667,
          236.75333333333336,
          237.98333333333338,
          240.0833333333334,
          238.49333333333342,
          237.31333333333342,
          228.59333333333345,
          224.13333333333344,
          221.2633333333334,
          228.42000000000004,
          232.68000000000004,
          237.08333333333334,
          238.18666666666664,
          241.57333333333335,
          242.98000000000002,
          244.38333333333333,
          242.85666666666665,
          241.26666666666665,
          239.67,
          240.31333333333336,
          241.08,
          242.79333333333332,
          243.0666666666667,
          242.3466666666667,
          238.07333333333338,
          234.3933333333334,
          232.27000000000007,
          231.44333333333338,
          232.30333333333337,
          232.63666666666668,
          240.48666666666668,
          246.71000000000004,
          251.82000000000005,
          250.3033333333334,
          254.74333333333337,
          260.94666666666666,
          265.5733333333334,
          262.52333333333337,
          259.67333333333335,
          259.1066666666666,
          260.81,
          261.2333333333333,
          261.58,
          262.03,
          264.6466666666666,
          266.2033333333333,
          269.1366666666667,
          273.0733333333333,
          285.3733333333334,
          292.65000000000003,
          296.93000000000006
         ]
        },
        {
         "line": {
          "color": "rgba(55, 128, 191, 0.8999999999999999)",
          "dash": "solid",
          "shape": "linear",
          "width": 1.3
         },
         "mode": "lines",
         "name": "SMA(10)",
         "text": "",
         "type": "scatter",
         "x": [
          "3/18/2020",
          "3/19/2020",
          "3/20/2020",
          "3/23/2020",
          "3/24/2020",
          "3/25/2020",
          "3/26/2020",
          "3/27/2020",
          "3/30/2020",
          "3/31/2020",
          "4/1/2020",
          "4/2/2020",
          "4/3/2020",
          "4/6/2020",
          "4/7/2020",
          "4/8/2020",
          "4/9/2020",
          "4/13/2020",
          "4/14/2020",
          "4/15/2020",
          "4/16/2020",
          "4/17/2020",
          "4/20/2020",
          "4/21/2020",
          "4/22/2020",
          "4/23/2020",
          "4/24/2020",
          "4/27/2020",
          "4/28/2020",
          "4/29/2020",
          "4/30/2020",
          "5/1/2020",
          "5/4/2020",
          "5/5/2020",
          "5/6/2020",
          "5/7/2020",
          "5/8/2020",
          "5/11/2020",
          "5/12/2020",
          "5/13/2020",
          "5/14/2020",
          "5/15/2020",
          "5/18/2020",
          "5/19/2020",
          "5/20/2020",
          "5/21/2020",
          "5/22/2020",
          "5/26/2020",
          "5/27/2020",
          "5/28/2020",
          "5/29/2020",
          "6/1/2020",
          "6/2/2020",
          "6/3/2020",
          "6/4/2020",
          "6/5/2020",
          "6/8/2020",
          "6/9/2020",
          "6/10/2020",
          "6/11/2020",
          "6/12/2020",
          "6/15/2020",
          "6/16/2020",
          "6/17/2020",
          "6/18/2020",
          "6/19/2020",
          "6/22/2020",
          "6/23/2020",
          "6/24/2020",
          "6/25/2020",
          "6/26/2020",
          "6/29/2020",
          "6/30/2020",
          "7/1/2020",
          "7/2/2020",
          "7/6/2020",
          "7/7/2020",
          "7/8/2020",
          "7/9/2020",
          "7/10/2020",
          "7/13/2020",
          "7/14/2020",
          "7/15/2020",
          "7/16/2020",
          "7/17/2020",
          "7/20/2020",
          "7/21/2020",
          "7/22/2020",
          "7/23/2020",
          "7/24/2020",
          "7/27/2020",
          "7/28/2020",
          "7/29/2020",
          "7/30/2020",
          "7/31/2020",
          "8/3/2020",
          "8/4/2020",
          "8/5/2020",
          "8/6/2020",
          "8/7/2020",
          "8/10/2020",
          "8/11/2020",
          "8/12/2020",
          "8/13/2020",
          "8/14/2020",
          "8/17/2020",
          "8/18/2020",
          "8/19/2020",
          "8/20/2020",
          "8/21/2020",
          "8/24/2020",
          "8/25/2020",
          "8/26/2020",
          "8/27/2020",
          "8/28/2020"
         ],
         "y": [
          "",
          "",
          "",
          "",
          "",
          "",
          "",
          "",
          "",
          156.799,
          158.063,
          158.56900000000002,
          159.014,
          160.75900000000001,
          161.544,
          163.351,
          164.536,
          166.336,
          167.55800000000002,
          168.57500000000002,
          170.24000000000004,
          172.34500000000003,
          174.75100000000003,
          175.276,
          176.62100000000004,
          177.70600000000002,
          179.19400000000002,
          180.465,
          180.93900000000002,
          182.661,
          185.507,
          187.81,
          190.512,
          194.139,
          196.758,
          199.371,
          201.599,
          204.167,
          206.88600000000002,
          207.977,
          208.18699999999998,
          209.048,
          209.84099999999998,
          210.82199999999997,
          212.97199999999998,
          214.98499999999996,
          217.24099999999993,
          219.14299999999994,
          221.04699999999994,
          223.08299999999994,
          224.91099999999997,
          227.01399999999995,
          228.96699999999993,
          230.2949999999999,
          229.9269999999999,
          229.86499999999992,
          229.51399999999995,
          230.16099999999997,
          230.92,
          230.81699999999995,
          231.16599999999994,
          231.22499999999997,
          231.51799999999997,
          232.055,
          233.02000000000004,
          233.82200000000003,
          234.60399999999998,
          234.96099999999996,
          234.68999999999997,
          235.81499999999997,
          234.56499999999997,
          233.37899999999996,
          232.52099999999996,
          232.72299999999996,
          232.47099999999995,
          232.61999999999998,
          232.78400000000002,
          232.91800000000003,
          233.96600000000004,
          234.90500000000006,
          237.19700000000006,
          239.10600000000008,
          240.42700000000008,
          240.76500000000004,
          241.62600000000006,
          242.14000000000004,
          242.22900000000004,
          241.85800000000003,
          240.66800000000003,
          239.23200000000003,
          238.68200000000002,
          237.721,
          237.022,
          236.379,
          237.54299999999998,
          238.19699999999997,
          239.00499999999997,
          239.92999999999998,
          243.198,
          246.971,
          249.921,
          252.52200000000002,
          255.18200000000002,
          257.862,
          258.619,
          259.53900000000004,
          260.7900000000001,
          262.13700000000006,
          262.5100000000001,
          262.36700000000013,
          263.20600000000013,
          265.6750000000001,
          270.0770000000001,
          273.2690000000001,
          276.51100000000014
         ]
        }
       ],
       "layout": {
        "legend": {
         "bgcolor": "#F5F6F9",
         "font": {
          "color": "#4D5663"
         }
        },
        "paper_bgcolor": "#F5F6F9",
        "plot_bgcolor": "#F5F6F9",
        "template": {
         "data": {
          "bar": [
           {
            "error_x": {
             "color": "#2a3f5f"
            },
            "error_y": {
             "color": "#2a3f5f"
            },
            "marker": {
             "line": {
              "color": "#E5ECF6",
              "width": 0.5
             }
            },
            "type": "bar"
           }
          ],
          "barpolar": [
           {
            "marker": {
             "line": {
              "color": "#E5ECF6",
              "width": 0.5
             }
            },
            "type": "barpolar"
           }
          ],
          "carpet": [
           {
            "aaxis": {
             "endlinecolor": "#2a3f5f",
             "gridcolor": "white",
             "linecolor": "white",
             "minorgridcolor": "white",
             "startlinecolor": "#2a3f5f"
            },
            "baxis": {
             "endlinecolor": "#2a3f5f",
             "gridcolor": "white",
             "linecolor": "white",
             "minorgridcolor": "white",
             "startlinecolor": "#2a3f5f"
            },
            "type": "carpet"
           }
          ],
          "choropleth": [
           {
            "colorbar": {
             "outlinewidth": 0,
             "ticks": ""
            },
            "type": "choropleth"
           }
          ],
          "contour": [
           {
            "colorbar": {
             "outlinewidth": 0,
             "ticks": ""
            },
            "colorscale": [
             [
              0,
              "#0d0887"
             ],
             [
              0.1111111111111111,
              "#46039f"
             ],
             [
              0.2222222222222222,
              "#7201a8"
             ],
             [
              0.3333333333333333,
              "#9c179e"
             ],
             [
              0.4444444444444444,
              "#bd3786"
             ],
             [
              0.5555555555555556,
              "#d8576b"
             ],
             [
              0.6666666666666666,
              "#ed7953"
             ],
             [
              0.7777777777777778,
              "#fb9f3a"
             ],
             [
              0.8888888888888888,
              "#fdca26"
             ],
             [
              1,
              "#f0f921"
             ]
            ],
            "type": "contour"
           }
          ],
          "contourcarpet": [
           {
            "colorbar": {
             "outlinewidth": 0,
             "ticks": ""
            },
            "type": "contourcarpet"
           }
          ],
          "heatmap": [
           {
            "colorbar": {
             "outlinewidth": 0,
             "ticks": ""
            },
            "colorscale": [
             [
              0,
              "#0d0887"
             ],
             [
              0.1111111111111111,
              "#46039f"
             ],
             [
              0.2222222222222222,
              "#7201a8"
             ],
             [
              0.3333333333333333,
              "#9c179e"
             ],
             [
              0.4444444444444444,
              "#bd3786"
             ],
             [
              0.5555555555555556,
              "#d8576b"
             ],
             [
              0.6666666666666666,
              "#ed7953"
             ],
             [
              0.7777777777777778,
              "#fb9f3a"
             ],
             [
              0.8888888888888888,
              "#fdca26"
             ],
             [
              1,
              "#f0f921"
             ]
            ],
            "type": "heatmap"
           }
          ],
          "heatmapgl": [
           {
            "colorbar": {
             "outlinewidth": 0,
             "ticks": ""
            },
            "colorscale": [
             [
              0,
              "#0d0887"
             ],
             [
              0.1111111111111111,
              "#46039f"
             ],
             [
              0.2222222222222222,
              "#7201a8"
             ],
             [
              0.3333333333333333,
              "#9c179e"
             ],
             [
              0.4444444444444444,
              "#bd3786"
             ],
             [
              0.5555555555555556,
              "#d8576b"
             ],
             [
              0.6666666666666666,
              "#ed7953"
             ],
             [
              0.7777777777777778,
              "#fb9f3a"
             ],
             [
              0.8888888888888888,
              "#fdca26"
             ],
             [
              1,
              "#f0f921"
             ]
            ],
            "type": "heatmapgl"
           }
          ],
          "histogram": [
           {
            "marker": {
             "colorbar": {
              "outlinewidth": 0,
              "ticks": ""
             }
            },
            "type": "histogram"
           }
          ],
          "histogram2d": [
           {
            "colorbar": {
             "outlinewidth": 0,
             "ticks": ""
            },
            "colorscale": [
             [
              0,
              "#0d0887"
             ],
             [
              0.1111111111111111,
              "#46039f"
             ],
             [
              0.2222222222222222,
              "#7201a8"
             ],
             [
              0.3333333333333333,
              "#9c179e"
             ],
             [
              0.4444444444444444,
              "#bd3786"
             ],
             [
              0.5555555555555556,
              "#d8576b"
             ],
             [
              0.6666666666666666,
              "#ed7953"
             ],
             [
              0.7777777777777778,
              "#fb9f3a"
             ],
             [
              0.8888888888888888,
              "#fdca26"
             ],
             [
              1,
              "#f0f921"
             ]
            ],
            "type": "histogram2d"
           }
          ],
          "histogram2dcontour": [
           {
            "colorbar": {
             "outlinewidth": 0,
             "ticks": ""
            },
            "colorscale": [
             [
              0,
              "#0d0887"
             ],
             [
              0.1111111111111111,
              "#46039f"
             ],
             [
              0.2222222222222222,
              "#7201a8"
             ],
             [
              0.3333333333333333,
              "#9c179e"
             ],
             [
              0.4444444444444444,
              "#bd3786"
             ],
             [
              0.5555555555555556,
              "#d8576b"
             ],
             [
              0.6666666666666666,
              "#ed7953"
             ],
             [
              0.7777777777777778,
              "#fb9f3a"
             ],
             [
              0.8888888888888888,
              "#fdca26"
             ],
             [
              1,
              "#f0f921"
             ]
            ],
            "type": "histogram2dcontour"
           }
          ],
          "mesh3d": [
           {
            "colorbar": {
             "outlinewidth": 0,
             "ticks": ""
            },
            "type": "mesh3d"
           }
          ],
          "parcoords": [
           {
            "line": {
             "colorbar": {
              "outlinewidth": 0,
              "ticks": ""
             }
            },
            "type": "parcoords"
           }
          ],
          "pie": [
           {
            "automargin": true,
            "type": "pie"
           }
          ],
          "scatter": [
           {
            "marker": {
             "colorbar": {
              "outlinewidth": 0,
              "ticks": ""
             }
            },
            "type": "scatter"
           }
          ],
          "scatter3d": [
           {
            "line": {
             "colorbar": {
              "outlinewidth": 0,
              "ticks": ""
             }
            },
            "marker": {
             "colorbar": {
              "outlinewidth": 0,
              "ticks": ""
             }
            },
            "type": "scatter3d"
           }
          ],
          "scattercarpet": [
           {
            "marker": {
             "colorbar": {
              "outlinewidth": 0,
              "ticks": ""
             }
            },
            "type": "scattercarpet"
           }
          ],
          "scattergeo": [
           {
            "marker": {
             "colorbar": {
              "outlinewidth": 0,
              "ticks": ""
             }
            },
            "type": "scattergeo"
           }
          ],
          "scattergl": [
           {
            "marker": {
             "colorbar": {
              "outlinewidth": 0,
              "ticks": ""
             }
            },
            "type": "scattergl"
           }
          ],
          "scattermapbox": [
           {
            "marker": {
             "colorbar": {
              "outlinewidth": 0,
              "ticks": ""
             }
            },
            "type": "scattermapbox"
           }
          ],
          "scatterpolar": [
           {
            "marker": {
             "colorbar": {
              "outlinewidth": 0,
              "ticks": ""
             }
            },
            "type": "scatterpolar"
           }
          ],
          "scatterpolargl": [
           {
            "marker": {
             "colorbar": {
              "outlinewidth": 0,
              "ticks": ""
             }
            },
            "type": "scatterpolargl"
           }
          ],
          "scatterternary": [
           {
            "marker": {
             "colorbar": {
              "outlinewidth": 0,
              "ticks": ""
             }
            },
            "type": "scatterternary"
           }
          ],
          "surface": [
           {
            "colorbar": {
             "outlinewidth": 0,
             "ticks": ""
            },
            "colorscale": [
             [
              0,
              "#0d0887"
             ],
             [
              0.1111111111111111,
              "#46039f"
             ],
             [
              0.2222222222222222,
              "#7201a8"
             ],
             [
              0.3333333333333333,
              "#9c179e"
             ],
             [
              0.4444444444444444,
              "#bd3786"
             ],
             [
              0.5555555555555556,
              "#d8576b"
             ],
             [
              0.6666666666666666,
              "#ed7953"
             ],
             [
              0.7777777777777778,
              "#fb9f3a"
             ],
             [
              0.8888888888888888,
              "#fdca26"
             ],
             [
              1,
              "#f0f921"
             ]
            ],
            "type": "surface"
           }
          ],
          "table": [
           {
            "cells": {
             "fill": {
              "color": "#EBF0F8"
             },
             "line": {
              "color": "white"
             }
            },
            "header": {
             "fill": {
              "color": "#C8D4E3"
             },
             "line": {
              "color": "white"
             }
            },
            "type": "table"
           }
          ]
         },
         "layout": {
          "annotationdefaults": {
           "arrowcolor": "#2a3f5f",
           "arrowhead": 0,
           "arrowwidth": 1
          },
          "coloraxis": {
           "colorbar": {
            "outlinewidth": 0,
            "ticks": ""
           }
          },
          "colorscale": {
           "diverging": [
            [
             0,
             "#8e0152"
            ],
            [
             0.1,
             "#c51b7d"
            ],
            [
             0.2,
             "#de77ae"
            ],
            [
             0.3,
             "#f1b6da"
            ],
            [
             0.4,
             "#fde0ef"
            ],
            [
             0.5,
             "#f7f7f7"
            ],
            [
             0.6,
             "#e6f5d0"
            ],
            [
             0.7,
             "#b8e186"
            ],
            [
             0.8,
             "#7fbc41"
            ],
            [
             0.9,
             "#4d9221"
            ],
            [
             1,
             "#276419"
            ]
           ],
           "sequential": [
            [
             0,
             "#0d0887"
            ],
            [
             0.1111111111111111,
             "#46039f"
            ],
            [
             0.2222222222222222,
             "#7201a8"
            ],
            [
             0.3333333333333333,
             "#9c179e"
            ],
            [
             0.4444444444444444,
             "#bd3786"
            ],
            [
             0.5555555555555556,
             "#d8576b"
            ],
            [
             0.6666666666666666,
             "#ed7953"
            ],
            [
             0.7777777777777778,
             "#fb9f3a"
            ],
            [
             0.8888888888888888,
             "#fdca26"
            ],
            [
             1,
             "#f0f921"
            ]
           ],
           "sequentialminus": [
            [
             0,
             "#0d0887"
            ],
            [
             0.1111111111111111,
             "#46039f"
            ],
            [
             0.2222222222222222,
             "#7201a8"
            ],
            [
             0.3333333333333333,
             "#9c179e"
            ],
            [
             0.4444444444444444,
             "#bd3786"
            ],
            [
             0.5555555555555556,
             "#d8576b"
            ],
            [
             0.6666666666666666,
             "#ed7953"
            ],
            [
             0.7777777777777778,
             "#fb9f3a"
            ],
            [
             0.8888888888888888,
             "#fdca26"
            ],
            [
             1,
             "#f0f921"
            ]
           ]
          },
          "colorway": [
           "#636efa",
           "#EF553B",
           "#00cc96",
           "#ab63fa",
           "#FFA15A",
           "#19d3f3",
           "#FF6692",
           "#B6E880",
           "#FF97FF",
           "#FECB52"
          ],
          "font": {
           "color": "#2a3f5f"
          },
          "geo": {
           "bgcolor": "white",
           "lakecolor": "white",
           "landcolor": "#E5ECF6",
           "showlakes": true,
           "showland": true,
           "subunitcolor": "white"
          },
          "hoverlabel": {
           "align": "left"
          },
          "hovermode": "closest",
          "mapbox": {
           "style": "light"
          },
          "paper_bgcolor": "white",
          "plot_bgcolor": "#E5ECF6",
          "polar": {
           "angularaxis": {
            "gridcolor": "white",
            "linecolor": "white",
            "ticks": ""
           },
           "bgcolor": "#E5ECF6",
           "radialaxis": {
            "gridcolor": "white",
            "linecolor": "white",
            "ticks": ""
           }
          },
          "scene": {
           "xaxis": {
            "backgroundcolor": "#E5ECF6",
            "gridcolor": "white",
            "gridwidth": 2,
            "linecolor": "white",
            "showbackground": true,
            "ticks": "",
            "zerolinecolor": "white"
           },
           "yaxis": {
            "backgroundcolor": "#E5ECF6",
            "gridcolor": "white",
            "gridwidth": 2,
            "linecolor": "white",
            "showbackground": true,
            "ticks": "",
            "zerolinecolor": "white"
           },
           "zaxis": {
            "backgroundcolor": "#E5ECF6",
            "gridcolor": "white",
            "gridwidth": 2,
            "linecolor": "white",
            "showbackground": true,
            "ticks": "",
            "zerolinecolor": "white"
           }
          },
          "shapedefaults": {
           "line": {
            "color": "#2a3f5f"
           }
          },
          "ternary": {
           "aaxis": {
            "gridcolor": "white",
            "linecolor": "white",
            "ticks": ""
           },
           "baxis": {
            "gridcolor": "white",
            "linecolor": "white",
            "ticks": ""
           },
           "bgcolor": "#E5ECF6",
           "caxis": {
            "gridcolor": "white",
            "linecolor": "white",
            "ticks": ""
           }
          },
          "title": {
           "x": 0.05
          },
          "xaxis": {
           "automargin": true,
           "gridcolor": "white",
           "linecolor": "white",
           "ticks": "",
           "title": {
            "standoff": 15
           },
           "zerolinecolor": "white",
           "zerolinewidth": 2
          },
          "yaxis": {
           "automargin": true,
           "gridcolor": "white",
           "linecolor": "white",
           "ticks": "",
           "title": {
            "standoff": 15
           },
           "zerolinecolor": "white",
           "zerolinewidth": 2
          }
         }
        },
        "title": {
         "font": {
          "color": "#4D5663"
         }
        },
        "xaxis": {
         "gridcolor": "#E1E5ED",
         "showgrid": true,
         "tickfont": {
          "color": "#4D5663"
         },
         "title": {
          "font": {
           "color": "#4D5663"
          },
          "text": ""
         },
         "zerolinecolor": "#E1E5ED"
        },
        "yaxis": {
         "gridcolor": "#E1E5ED",
         "showgrid": true,
         "tickfont": {
          "color": "#4D5663"
         },
         "title": {
          "font": {
           "color": "#4D5663"
          },
          "text": ""
         },
         "zerolinecolor": "#E1E5ED"
        }
       }
      },
      "text/html": [
       "<div>                            <div id=\"cbef9c6b-8161-4d13-a64c-4cf302fbe957\" class=\"plotly-graph-div\" style=\"height:525px; width:100%;\"></div>            <script type=\"text/javascript\">                require([\"plotly\"], function(Plotly) {                    window.PLOTLYENV=window.PLOTLYENV || {};\n",
       "                    window.PLOTLYENV.BASE_URL='https://plot.ly';                                    if (document.getElementById(\"cbef9c6b-8161-4d13-a64c-4cf302fbe957\")) {                    Plotly.newPlot(                        \"cbef9c6b-8161-4d13-a64c-4cf302fbe957\",                        [{\"line\": {\"color\": \"rgba(255, 153, 51, 1.0)\", \"dash\": \"solid\", \"shape\": \"linear\", \"width\": 1.3}, \"mode\": \"lines\", \"name\": \"Close\", \"text\": \"\", \"type\": \"scatter\", \"x\": [\"3/18/2020\", \"3/19/2020\", \"3/20/2020\", \"3/23/2020\", \"3/24/2020\", \"3/25/2020\", \"3/26/2020\", \"3/27/2020\", \"3/30/2020\", \"3/31/2020\", \"4/1/2020\", \"4/2/2020\", \"4/3/2020\", \"4/6/2020\", \"4/7/2020\", \"4/8/2020\", \"4/9/2020\", \"4/13/2020\", \"4/14/2020\", \"4/15/2020\", \"4/16/2020\", \"4/17/2020\", \"4/20/2020\", \"4/21/2020\", \"4/22/2020\", \"4/23/2020\", \"4/24/2020\", \"4/27/2020\", \"4/28/2020\", \"4/29/2020\", \"4/30/2020\", \"5/1/2020\", \"5/4/2020\", \"5/5/2020\", \"5/6/2020\", \"5/7/2020\", \"5/8/2020\", \"5/11/2020\", \"5/12/2020\", \"5/13/2020\", \"5/14/2020\", \"5/15/2020\", \"5/18/2020\", \"5/19/2020\", \"5/20/2020\", \"5/21/2020\", \"5/22/2020\", \"5/26/2020\", \"5/27/2020\", \"5/28/2020\", \"5/29/2020\", \"6/1/2020\", \"6/2/2020\", \"6/3/2020\", \"6/4/2020\", \"6/5/2020\", \"6/8/2020\", \"6/9/2020\", \"6/10/2020\", \"6/11/2020\", \"6/12/2020\", \"6/15/2020\", \"6/16/2020\", \"6/17/2020\", \"6/18/2020\", \"6/19/2020\", \"6/22/2020\", \"6/23/2020\", \"6/24/2020\", \"6/25/2020\", \"6/26/2020\", \"6/29/2020\", \"6/30/2020\", \"7/1/2020\", \"7/2/2020\", \"7/6/2020\", \"7/7/2020\", \"7/8/2020\", \"7/9/2020\", \"7/10/2020\", \"7/13/2020\", \"7/14/2020\", \"7/15/2020\", \"7/16/2020\", \"7/17/2020\", \"7/20/2020\", \"7/21/2020\", \"7/22/2020\", \"7/23/2020\", \"7/24/2020\", \"7/27/2020\", \"7/28/2020\", \"7/29/2020\", \"7/30/2020\", \"7/31/2020\", \"8/3/2020\", \"8/4/2020\", \"8/5/2020\", \"8/6/2020\", \"8/7/2020\", \"8/10/2020\", \"8/11/2020\", \"8/12/2020\", \"8/13/2020\", \"8/14/2020\", \"8/17/2020\", \"8/18/2020\", \"8/19/2020\", \"8/20/2020\", \"8/21/2020\", \"8/24/2020\", \"8/25/2020\", \"8/26/2020\", \"8/27/2020\", \"8/28/2020\"], \"y\": [146.96, 153.13, 149.73, 148.1, 160.98, 156.21, 163.34, 156.79, 165.95, 166.8, 159.6, 158.19, 154.18, 165.55, 168.83, 174.28, 175.19, 174.79, 178.17, 176.97, 176.25, 179.24, 178.24, 170.8, 182.28, 185.13, 190.07, 187.5, 182.91, 194.19, 204.71, 202.27, 205.26, 207.07, 208.47, 211.26, 212.35, 213.18, 210.1, 205.1, 206.81, 210.88, 213.19, 216.88, 229.97, 231.39, 234.91, 232.2, 229.14, 225.46, 225.09, 231.91, 232.72, 230.16, 226.29, 230.77, 231.4, 238.67, 236.73, 224.43, 228.58, 232.5, 235.65, 235.53, 235.94, 238.79, 239.22, 242.24, 234.02, 235.68, 216.08, 220.64, 227.07, 237.55, 233.42, 240.28, 240.86, 243.58, 244.5, 245.07, 239.0, 239.73, 240.28, 240.93, 242.03, 245.42, 241.75, 239.87, 232.6, 230.71, 233.5, 230.12, 233.29, 234.5, 253.67, 251.96, 249.83, 249.12, 265.28, 268.44, 263.0, 256.13, 259.89, 261.3, 261.24, 261.16, 262.34, 262.59, 269.01, 267.01, 271.39, 280.82, 303.91, 293.22, 293.66]}, {\"line\": {\"color\": \"rgba(55, 128, 191, 1.0)\", \"dash\": \"solid\", \"shape\": \"linear\", \"width\": 1.3}, \"mode\": \"lines\", \"name\": \"SMA(3)\", \"text\": \"\", \"type\": \"scatter\", \"x\": [\"3/18/2020\", \"3/19/2020\", \"3/20/2020\", \"3/23/2020\", \"3/24/2020\", \"3/25/2020\", \"3/26/2020\", \"3/27/2020\", \"3/30/2020\", \"3/31/2020\", \"4/1/2020\", \"4/2/2020\", \"4/3/2020\", \"4/6/2020\", \"4/7/2020\", \"4/8/2020\", \"4/9/2020\", \"4/13/2020\", \"4/14/2020\", \"4/15/2020\", \"4/16/2020\", \"4/17/2020\", \"4/20/2020\", \"4/21/2020\", \"4/22/2020\", \"4/23/2020\", \"4/24/2020\", \"4/27/2020\", \"4/28/2020\", \"4/29/2020\", \"4/30/2020\", \"5/1/2020\", \"5/4/2020\", \"5/5/2020\", \"5/6/2020\", \"5/7/2020\", \"5/8/2020\", \"5/11/2020\", \"5/12/2020\", \"5/13/2020\", \"5/14/2020\", \"5/15/2020\", \"5/18/2020\", \"5/19/2020\", \"5/20/2020\", \"5/21/2020\", \"5/22/2020\", \"5/26/2020\", \"5/27/2020\", \"5/28/2020\", \"5/29/2020\", \"6/1/2020\", \"6/2/2020\", \"6/3/2020\", \"6/4/2020\", \"6/5/2020\", \"6/8/2020\", \"6/9/2020\", \"6/10/2020\", \"6/11/2020\", \"6/12/2020\", \"6/15/2020\", \"6/16/2020\", \"6/17/2020\", \"6/18/2020\", \"6/19/2020\", \"6/22/2020\", \"6/23/2020\", \"6/24/2020\", \"6/25/2020\", \"6/26/2020\", \"6/29/2020\", \"6/30/2020\", \"7/1/2020\", \"7/2/2020\", \"7/6/2020\", \"7/7/2020\", \"7/8/2020\", \"7/9/2020\", \"7/10/2020\", \"7/13/2020\", \"7/14/2020\", \"7/15/2020\", \"7/16/2020\", \"7/17/2020\", \"7/20/2020\", \"7/21/2020\", \"7/22/2020\", \"7/23/2020\", \"7/24/2020\", \"7/27/2020\", \"7/28/2020\", \"7/29/2020\", \"7/30/2020\", \"7/31/2020\", \"8/3/2020\", \"8/4/2020\", \"8/5/2020\", \"8/6/2020\", \"8/7/2020\", \"8/10/2020\", \"8/11/2020\", \"8/12/2020\", \"8/13/2020\", \"8/14/2020\", \"8/17/2020\", \"8/18/2020\", \"8/19/2020\", \"8/20/2020\", \"8/21/2020\", \"8/24/2020\", \"8/25/2020\", \"8/26/2020\", \"8/27/2020\", \"8/28/2020\"], \"y\": [\"\", \"\", 149.94000000000003, 150.32000000000002, 152.9366666666667, 155.0966666666667, 160.1766666666667, 158.78, 162.02666666666664, 163.17999999999995, 164.11666666666665, 161.53, 157.32333333333332, 159.30666666666664, 162.85333333333332, 169.55333333333334, 172.76666666666665, 174.7533333333333, 176.04999999999995, 176.6433333333333, 177.12999999999997, 177.48666666666665, 177.90999999999997, 176.09333333333333, 177.10666666666665, 179.4033333333333, 185.82666666666668, 187.5666666666667, 186.82666666666668, 188.20000000000005, 193.93666666666672, 200.39000000000007, 204.08000000000007, 204.8666666666667, 206.9333333333334, 208.9333333333334, 210.69333333333338, 212.2633333333334, 211.87666666666675, 209.46000000000006, 207.33666666666673, 207.59666666666672, 210.2933333333334, 213.6500000000001, 220.01333333333343, 226.08000000000007, 232.09000000000006, 232.8333333333334, 232.0833333333334, 228.93333333333342, 226.56333333333342, 227.48666666666676, 229.90666666666675, 231.59666666666672, 229.7233333333334, 229.07333333333338, 229.4866666666667, 233.61333333333337, 235.60000000000005, 233.27666666666676, 229.91333333333344, 228.50333333333344, 232.24333333333342, 234.56000000000006, 235.7066666666667, 236.75333333333336, 237.98333333333338, 240.0833333333334, 238.49333333333342, 237.31333333333342, 228.59333333333345, 224.13333333333344, 221.2633333333334, 228.42000000000004, 232.68000000000004, 237.08333333333334, 238.18666666666664, 241.57333333333335, 242.98000000000002, 244.38333333333333, 242.85666666666665, 241.26666666666665, 239.67, 240.31333333333336, 241.08, 242.79333333333332, 243.0666666666667, 242.3466666666667, 238.07333333333338, 234.3933333333334, 232.27000000000007, 231.44333333333338, 232.30333333333337, 232.63666666666668, 240.48666666666668, 246.71000000000004, 251.82000000000005, 250.3033333333334, 254.74333333333337, 260.94666666666666, 265.5733333333334, 262.52333333333337, 259.67333333333335, 259.1066666666666, 260.81, 261.2333333333333, 261.58, 262.03, 264.6466666666666, 266.2033333333333, 269.1366666666667, 273.0733333333333, 285.3733333333334, 292.65000000000003, 296.93000000000006]}, {\"line\": {\"color\": \"rgba(55, 128, 191, 0.8999999999999999)\", \"dash\": \"solid\", \"shape\": \"linear\", \"width\": 1.3}, \"mode\": \"lines\", \"name\": \"SMA(10)\", \"text\": \"\", \"type\": \"scatter\", \"x\": [\"3/18/2020\", \"3/19/2020\", \"3/20/2020\", \"3/23/2020\", \"3/24/2020\", \"3/25/2020\", \"3/26/2020\", \"3/27/2020\", \"3/30/2020\", \"3/31/2020\", \"4/1/2020\", \"4/2/2020\", \"4/3/2020\", \"4/6/2020\", \"4/7/2020\", \"4/8/2020\", \"4/9/2020\", \"4/13/2020\", \"4/14/2020\", \"4/15/2020\", \"4/16/2020\", \"4/17/2020\", \"4/20/2020\", \"4/21/2020\", \"4/22/2020\", \"4/23/2020\", \"4/24/2020\", \"4/27/2020\", \"4/28/2020\", \"4/29/2020\", \"4/30/2020\", \"5/1/2020\", \"5/4/2020\", \"5/5/2020\", \"5/6/2020\", \"5/7/2020\", \"5/8/2020\", \"5/11/2020\", \"5/12/2020\", \"5/13/2020\", \"5/14/2020\", \"5/15/2020\", \"5/18/2020\", \"5/19/2020\", \"5/20/2020\", \"5/21/2020\", \"5/22/2020\", \"5/26/2020\", \"5/27/2020\", \"5/28/2020\", \"5/29/2020\", \"6/1/2020\", \"6/2/2020\", \"6/3/2020\", \"6/4/2020\", \"6/5/2020\", \"6/8/2020\", \"6/9/2020\", \"6/10/2020\", \"6/11/2020\", \"6/12/2020\", \"6/15/2020\", \"6/16/2020\", \"6/17/2020\", \"6/18/2020\", \"6/19/2020\", \"6/22/2020\", \"6/23/2020\", \"6/24/2020\", \"6/25/2020\", \"6/26/2020\", \"6/29/2020\", \"6/30/2020\", \"7/1/2020\", \"7/2/2020\", \"7/6/2020\", \"7/7/2020\", \"7/8/2020\", \"7/9/2020\", \"7/10/2020\", \"7/13/2020\", \"7/14/2020\", \"7/15/2020\", \"7/16/2020\", \"7/17/2020\", \"7/20/2020\", \"7/21/2020\", \"7/22/2020\", \"7/23/2020\", \"7/24/2020\", \"7/27/2020\", \"7/28/2020\", \"7/29/2020\", \"7/30/2020\", \"7/31/2020\", \"8/3/2020\", \"8/4/2020\", \"8/5/2020\", \"8/6/2020\", \"8/7/2020\", \"8/10/2020\", \"8/11/2020\", \"8/12/2020\", \"8/13/2020\", \"8/14/2020\", \"8/17/2020\", \"8/18/2020\", \"8/19/2020\", \"8/20/2020\", \"8/21/2020\", \"8/24/2020\", \"8/25/2020\", \"8/26/2020\", \"8/27/2020\", \"8/28/2020\"], \"y\": [\"\", \"\", \"\", \"\", \"\", \"\", \"\", \"\", \"\", 156.799, 158.063, 158.56900000000002, 159.014, 160.75900000000001, 161.544, 163.351, 164.536, 166.336, 167.55800000000002, 168.57500000000002, 170.24000000000004, 172.34500000000003, 174.75100000000003, 175.276, 176.62100000000004, 177.70600000000002, 179.19400000000002, 180.465, 180.93900000000002, 182.661, 185.507, 187.81, 190.512, 194.139, 196.758, 199.371, 201.599, 204.167, 206.88600000000002, 207.977, 208.18699999999998, 209.048, 209.84099999999998, 210.82199999999997, 212.97199999999998, 214.98499999999996, 217.24099999999993, 219.14299999999994, 221.04699999999994, 223.08299999999994, 224.91099999999997, 227.01399999999995, 228.96699999999993, 230.2949999999999, 229.9269999999999, 229.86499999999992, 229.51399999999995, 230.16099999999997, 230.92, 230.81699999999995, 231.16599999999994, 231.22499999999997, 231.51799999999997, 232.055, 233.02000000000004, 233.82200000000003, 234.60399999999998, 234.96099999999996, 234.68999999999997, 235.81499999999997, 234.56499999999997, 233.37899999999996, 232.52099999999996, 232.72299999999996, 232.47099999999995, 232.61999999999998, 232.78400000000002, 232.91800000000003, 233.96600000000004, 234.90500000000006, 237.19700000000006, 239.10600000000008, 240.42700000000008, 240.76500000000004, 241.62600000000006, 242.14000000000004, 242.22900000000004, 241.85800000000003, 240.66800000000003, 239.23200000000003, 238.68200000000002, 237.721, 237.022, 236.379, 237.54299999999998, 238.19699999999997, 239.00499999999997, 239.92999999999998, 243.198, 246.971, 249.921, 252.52200000000002, 255.18200000000002, 257.862, 258.619, 259.53900000000004, 260.7900000000001, 262.13700000000006, 262.5100000000001, 262.36700000000013, 263.20600000000013, 265.6750000000001, 270.0770000000001, 273.2690000000001, 276.51100000000014]}],                        {\"legend\": {\"bgcolor\": \"#F5F6F9\", \"font\": {\"color\": \"#4D5663\"}}, \"paper_bgcolor\": \"#F5F6F9\", \"plot_bgcolor\": \"#F5F6F9\", \"template\": {\"data\": {\"bar\": [{\"error_x\": {\"color\": \"#2a3f5f\"}, \"error_y\": {\"color\": \"#2a3f5f\"}, \"marker\": {\"line\": {\"color\": \"#E5ECF6\", \"width\": 0.5}}, \"type\": \"bar\"}], \"barpolar\": [{\"marker\": {\"line\": {\"color\": \"#E5ECF6\", \"width\": 0.5}}, \"type\": \"barpolar\"}], \"carpet\": [{\"aaxis\": {\"endlinecolor\": \"#2a3f5f\", \"gridcolor\": \"white\", \"linecolor\": \"white\", \"minorgridcolor\": \"white\", \"startlinecolor\": \"#2a3f5f\"}, \"baxis\": {\"endlinecolor\": \"#2a3f5f\", \"gridcolor\": \"white\", \"linecolor\": \"white\", \"minorgridcolor\": \"white\", \"startlinecolor\": \"#2a3f5f\"}, \"type\": \"carpet\"}], \"choropleth\": [{\"colorbar\": {\"outlinewidth\": 0, \"ticks\": \"\"}, \"type\": \"choropleth\"}], \"contour\": [{\"colorbar\": {\"outlinewidth\": 0, \"ticks\": \"\"}, \"colorscale\": [[0.0, \"#0d0887\"], [0.1111111111111111, \"#46039f\"], [0.2222222222222222, \"#7201a8\"], [0.3333333333333333, \"#9c179e\"], [0.4444444444444444, \"#bd3786\"], [0.5555555555555556, \"#d8576b\"], [0.6666666666666666, \"#ed7953\"], [0.7777777777777778, \"#fb9f3a\"], [0.8888888888888888, \"#fdca26\"], [1.0, \"#f0f921\"]], \"type\": \"contour\"}], \"contourcarpet\": [{\"colorbar\": {\"outlinewidth\": 0, \"ticks\": \"\"}, \"type\": \"contourcarpet\"}], \"heatmap\": [{\"colorbar\": {\"outlinewidth\": 0, \"ticks\": \"\"}, \"colorscale\": [[0.0, \"#0d0887\"], [0.1111111111111111, \"#46039f\"], [0.2222222222222222, \"#7201a8\"], [0.3333333333333333, \"#9c179e\"], [0.4444444444444444, \"#bd3786\"], [0.5555555555555556, \"#d8576b\"], [0.6666666666666666, \"#ed7953\"], [0.7777777777777778, \"#fb9f3a\"], [0.8888888888888888, \"#fdca26\"], [1.0, \"#f0f921\"]], \"type\": \"heatmap\"}], \"heatmapgl\": [{\"colorbar\": {\"outlinewidth\": 0, \"ticks\": \"\"}, \"colorscale\": [[0.0, \"#0d0887\"], [0.1111111111111111, \"#46039f\"], [0.2222222222222222, \"#7201a8\"], [0.3333333333333333, \"#9c179e\"], [0.4444444444444444, \"#bd3786\"], [0.5555555555555556, \"#d8576b\"], [0.6666666666666666, \"#ed7953\"], [0.7777777777777778, \"#fb9f3a\"], [0.8888888888888888, \"#fdca26\"], [1.0, \"#f0f921\"]], \"type\": \"heatmapgl\"}], \"histogram\": [{\"marker\": {\"colorbar\": {\"outlinewidth\": 0, \"ticks\": \"\"}}, \"type\": \"histogram\"}], \"histogram2d\": [{\"colorbar\": {\"outlinewidth\": 0, \"ticks\": \"\"}, \"colorscale\": [[0.0, \"#0d0887\"], [0.1111111111111111, \"#46039f\"], [0.2222222222222222, \"#7201a8\"], [0.3333333333333333, \"#9c179e\"], [0.4444444444444444, \"#bd3786\"], [0.5555555555555556, \"#d8576b\"], [0.6666666666666666, \"#ed7953\"], [0.7777777777777778, \"#fb9f3a\"], [0.8888888888888888, \"#fdca26\"], [1.0, \"#f0f921\"]], \"type\": \"histogram2d\"}], \"histogram2dcontour\": [{\"colorbar\": {\"outlinewidth\": 0, \"ticks\": \"\"}, \"colorscale\": [[0.0, \"#0d0887\"], [0.1111111111111111, \"#46039f\"], [0.2222222222222222, \"#7201a8\"], [0.3333333333333333, \"#9c179e\"], [0.4444444444444444, \"#bd3786\"], [0.5555555555555556, \"#d8576b\"], [0.6666666666666666, \"#ed7953\"], [0.7777777777777778, \"#fb9f3a\"], [0.8888888888888888, \"#fdca26\"], [1.0, \"#f0f921\"]], \"type\": \"histogram2dcontour\"}], \"mesh3d\": [{\"colorbar\": {\"outlinewidth\": 0, \"ticks\": \"\"}, \"type\": \"mesh3d\"}], \"parcoords\": [{\"line\": {\"colorbar\": {\"outlinewidth\": 0, \"ticks\": \"\"}}, \"type\": \"parcoords\"}], \"pie\": [{\"automargin\": true, \"type\": \"pie\"}], \"scatter\": [{\"marker\": {\"colorbar\": {\"outlinewidth\": 0, \"ticks\": \"\"}}, \"type\": \"scatter\"}], \"scatter3d\": [{\"line\": {\"colorbar\": {\"outlinewidth\": 0, \"ticks\": \"\"}}, \"marker\": {\"colorbar\": {\"outlinewidth\": 0, \"ticks\": \"\"}}, \"type\": \"scatter3d\"}], \"scattercarpet\": [{\"marker\": {\"colorbar\": {\"outlinewidth\": 0, \"ticks\": \"\"}}, \"type\": \"scattercarpet\"}], \"scattergeo\": [{\"marker\": {\"colorbar\": {\"outlinewidth\": 0, \"ticks\": \"\"}}, \"type\": \"scattergeo\"}], \"scattergl\": [{\"marker\": {\"colorbar\": {\"outlinewidth\": 0, \"ticks\": \"\"}}, \"type\": \"scattergl\"}], \"scattermapbox\": [{\"marker\": {\"colorbar\": {\"outlinewidth\": 0, \"ticks\": \"\"}}, \"type\": \"scattermapbox\"}], \"scatterpolar\": [{\"marker\": {\"colorbar\": {\"outlinewidth\": 0, \"ticks\": \"\"}}, \"type\": \"scatterpolar\"}], \"scatterpolargl\": [{\"marker\": {\"colorbar\": {\"outlinewidth\": 0, \"ticks\": \"\"}}, \"type\": \"scatterpolargl\"}], \"scatterternary\": [{\"marker\": {\"colorbar\": {\"outlinewidth\": 0, \"ticks\": \"\"}}, \"type\": \"scatterternary\"}], \"surface\": [{\"colorbar\": {\"outlinewidth\": 0, \"ticks\": \"\"}, \"colorscale\": [[0.0, \"#0d0887\"], [0.1111111111111111, \"#46039f\"], [0.2222222222222222, \"#7201a8\"], [0.3333333333333333, \"#9c179e\"], [0.4444444444444444, \"#bd3786\"], [0.5555555555555556, \"#d8576b\"], [0.6666666666666666, \"#ed7953\"], [0.7777777777777778, \"#fb9f3a\"], [0.8888888888888888, \"#fdca26\"], [1.0, \"#f0f921\"]], \"type\": \"surface\"}], \"table\": [{\"cells\": {\"fill\": {\"color\": \"#EBF0F8\"}, \"line\": {\"color\": \"white\"}}, \"header\": {\"fill\": {\"color\": \"#C8D4E3\"}, \"line\": {\"color\": \"white\"}}, \"type\": \"table\"}]}, \"layout\": {\"annotationdefaults\": {\"arrowcolor\": \"#2a3f5f\", \"arrowhead\": 0, \"arrowwidth\": 1}, \"coloraxis\": {\"colorbar\": {\"outlinewidth\": 0, \"ticks\": \"\"}}, \"colorscale\": {\"diverging\": [[0, \"#8e0152\"], [0.1, \"#c51b7d\"], [0.2, \"#de77ae\"], [0.3, \"#f1b6da\"], [0.4, \"#fde0ef\"], [0.5, \"#f7f7f7\"], [0.6, \"#e6f5d0\"], [0.7, \"#b8e186\"], [0.8, \"#7fbc41\"], [0.9, \"#4d9221\"], [1, \"#276419\"]], \"sequential\": [[0.0, \"#0d0887\"], [0.1111111111111111, \"#46039f\"], [0.2222222222222222, \"#7201a8\"], [0.3333333333333333, \"#9c179e\"], [0.4444444444444444, \"#bd3786\"], [0.5555555555555556, \"#d8576b\"], [0.6666666666666666, \"#ed7953\"], [0.7777777777777778, \"#fb9f3a\"], [0.8888888888888888, \"#fdca26\"], [1.0, \"#f0f921\"]], \"sequentialminus\": [[0.0, \"#0d0887\"], [0.1111111111111111, \"#46039f\"], [0.2222222222222222, \"#7201a8\"], [0.3333333333333333, \"#9c179e\"], [0.4444444444444444, \"#bd3786\"], [0.5555555555555556, \"#d8576b\"], [0.6666666666666666, \"#ed7953\"], [0.7777777777777778, \"#fb9f3a\"], [0.8888888888888888, \"#fdca26\"], [1.0, \"#f0f921\"]]}, \"colorway\": [\"#636efa\", \"#EF553B\", \"#00cc96\", \"#ab63fa\", \"#FFA15A\", \"#19d3f3\", \"#FF6692\", \"#B6E880\", \"#FF97FF\", \"#FECB52\"], \"font\": {\"color\": \"#2a3f5f\"}, \"geo\": {\"bgcolor\": \"white\", \"lakecolor\": \"white\", \"landcolor\": \"#E5ECF6\", \"showlakes\": true, \"showland\": true, \"subunitcolor\": \"white\"}, \"hoverlabel\": {\"align\": \"left\"}, \"hovermode\": \"closest\", \"mapbox\": {\"style\": \"light\"}, \"paper_bgcolor\": \"white\", \"plot_bgcolor\": \"#E5ECF6\", \"polar\": {\"angularaxis\": {\"gridcolor\": \"white\", \"linecolor\": \"white\", \"ticks\": \"\"}, \"bgcolor\": \"#E5ECF6\", \"radialaxis\": {\"gridcolor\": \"white\", \"linecolor\": \"white\", \"ticks\": \"\"}}, \"scene\": {\"xaxis\": {\"backgroundcolor\": \"#E5ECF6\", \"gridcolor\": \"white\", \"gridwidth\": 2, \"linecolor\": \"white\", \"showbackground\": true, \"ticks\": \"\", \"zerolinecolor\": \"white\"}, \"yaxis\": {\"backgroundcolor\": \"#E5ECF6\", \"gridcolor\": \"white\", \"gridwidth\": 2, \"linecolor\": \"white\", \"showbackground\": true, \"ticks\": \"\", \"zerolinecolor\": \"white\"}, \"zaxis\": {\"backgroundcolor\": \"#E5ECF6\", \"gridcolor\": \"white\", \"gridwidth\": 2, \"linecolor\": \"white\", \"showbackground\": true, \"ticks\": \"\", \"zerolinecolor\": \"white\"}}, \"shapedefaults\": {\"line\": {\"color\": \"#2a3f5f\"}}, \"ternary\": {\"aaxis\": {\"gridcolor\": \"white\", \"linecolor\": \"white\", \"ticks\": \"\"}, \"baxis\": {\"gridcolor\": \"white\", \"linecolor\": \"white\", \"ticks\": \"\"}, \"bgcolor\": \"#E5ECF6\", \"caxis\": {\"gridcolor\": \"white\", \"linecolor\": \"white\", \"ticks\": \"\"}}, \"title\": {\"x\": 0.05}, \"xaxis\": {\"automargin\": true, \"gridcolor\": \"white\", \"linecolor\": \"white\", \"ticks\": \"\", \"title\": {\"standoff\": 15}, \"zerolinecolor\": \"white\", \"zerolinewidth\": 2}, \"yaxis\": {\"automargin\": true, \"gridcolor\": \"white\", \"linecolor\": \"white\", \"ticks\": \"\", \"title\": {\"standoff\": 15}, \"zerolinecolor\": \"white\", \"zerolinewidth\": 2}}}, \"title\": {\"font\": {\"color\": \"#4D5663\"}}, \"xaxis\": {\"gridcolor\": \"#E1E5ED\", \"showgrid\": true, \"tickfont\": {\"color\": \"#4D5663\"}, \"title\": {\"font\": {\"color\": \"#4D5663\"}, \"text\": \"\"}, \"zerolinecolor\": \"#E1E5ED\"}, \"yaxis\": {\"gridcolor\": \"#E1E5ED\", \"showgrid\": true, \"tickfont\": {\"color\": \"#4D5663\"}, \"title\": {\"font\": {\"color\": \"#4D5663\"}, \"text\": \"\"}, \"zerolinecolor\": \"#E1E5ED\"}},                        {\"showLink\": true, \"linkText\": \"Export to plot.ly\", \"plotlyServerURL\": \"https://plot.ly\", \"responsive\": true}                    ).then(function(){\n",
       "                            \n",
       "var gd = document.getElementById('cbef9c6b-8161-4d13-a64c-4cf302fbe957');\n",
       "var x = new MutationObserver(function (mutations, observer) {{\n",
       "        var display = window.getComputedStyle(gd).display;\n",
       "        if (!display || display === 'none') {{\n",
       "            console.log([gd, 'removed!']);\n",
       "            Plotly.purge(gd);\n",
       "            observer.disconnect();\n",
       "        }}\n",
       "}});\n",
       "\n",
       "// Listen for the removal of the full notebook cells\n",
       "var notebookContainer = gd.closest('#notebook-container');\n",
       "if (notebookContainer) {{\n",
       "    x.observe(notebookContainer, {childList: true});\n",
       "}}\n",
       "\n",
       "// Listen for the clearing of the current output cell\n",
       "var outputEl = gd.closest('.output');\n",
       "if (outputEl) {{\n",
       "    x.observe(outputEl, {childList: true});\n",
       "}}\n",
       "\n",
       "                        })                };                });            </script>        </div>"
      ]
     },
     "metadata": {},
     "output_type": "display_data"
    },
    {
     "data": {
      "application/vnd.plotly.v1+json": {
       "config": {
        "linkText": "Export to plot.ly",
        "plotlyServerURL": "https://plot.ly",
        "showLink": true
       },
       "data": [
        {
         "line": {
          "color": "rgba(255, 153, 51, 1.0)",
          "dash": "solid",
          "shape": "linear",
          "width": 1.3
         },
         "mode": "lines",
         "name": "Close",
         "text": "",
         "type": "scatter",
         "x": [
          "3/18/2020",
          "3/19/2020",
          "3/20/2020",
          "3/23/2020",
          "3/24/2020",
          "3/25/2020",
          "3/26/2020",
          "3/27/2020",
          "3/30/2020",
          "3/31/2020",
          "4/1/2020",
          "4/2/2020",
          "4/3/2020",
          "4/6/2020",
          "4/7/2020",
          "4/8/2020",
          "4/9/2020",
          "4/13/2020",
          "4/14/2020",
          "4/15/2020",
          "4/16/2020",
          "4/17/2020",
          "4/20/2020",
          "4/21/2020",
          "4/22/2020",
          "4/23/2020",
          "4/24/2020",
          "4/27/2020",
          "4/28/2020",
          "4/29/2020",
          "4/30/2020",
          "5/1/2020",
          "5/4/2020",
          "5/5/2020",
          "5/6/2020",
          "5/7/2020",
          "5/8/2020",
          "5/11/2020",
          "5/12/2020",
          "5/13/2020",
          "5/14/2020",
          "5/15/2020",
          "5/18/2020",
          "5/19/2020",
          "5/20/2020",
          "5/21/2020",
          "5/22/2020",
          "5/26/2020",
          "5/27/2020",
          "5/28/2020",
          "5/29/2020",
          "6/1/2020",
          "6/2/2020",
          "6/3/2020",
          "6/4/2020",
          "6/5/2020",
          "6/8/2020",
          "6/9/2020",
          "6/10/2020",
          "6/11/2020",
          "6/12/2020",
          "6/15/2020",
          "6/16/2020",
          "6/17/2020",
          "6/18/2020",
          "6/19/2020",
          "6/22/2020",
          "6/23/2020",
          "6/24/2020",
          "6/25/2020",
          "6/26/2020",
          "6/29/2020",
          "6/30/2020",
          "7/1/2020",
          "7/2/2020",
          "7/6/2020",
          "7/7/2020",
          "7/8/2020",
          "7/9/2020",
          "7/10/2020",
          "7/13/2020",
          "7/14/2020",
          "7/15/2020",
          "7/16/2020",
          "7/17/2020",
          "7/20/2020",
          "7/21/2020",
          "7/22/2020",
          "7/23/2020",
          "7/24/2020",
          "7/27/2020",
          "7/28/2020",
          "7/29/2020",
          "7/30/2020",
          "7/31/2020",
          "8/3/2020",
          "8/4/2020",
          "8/5/2020",
          "8/6/2020",
          "8/7/2020",
          "8/10/2020",
          "8/11/2020",
          "8/12/2020",
          "8/13/2020",
          "8/14/2020",
          "8/17/2020",
          "8/18/2020",
          "8/19/2020",
          "8/20/2020",
          "8/21/2020",
          "8/24/2020",
          "8/25/2020",
          "8/26/2020",
          "8/27/2020",
          "8/28/2020"
         ],
         "y": [
          140.4,
          142.71,
          137.35,
          135.98,
          148.34,
          146.92,
          156.11,
          149.7,
          160.23,
          157.71,
          152.11,
          155.26,
          153.83,
          165.27,
          163.49,
          165.13,
          165.14,
          165.51,
          173.7,
          171.88,
          177.04,
          178.6,
          175.06,
          167.82,
          173.52,
          171.42,
          174.55,
          174.05,
          169.81,
          177.43,
          179.21,
          174.57,
          178.84,
          180.76,
          182.54,
          183.6,
          184.68,
          186.74,
          182.51,
          179.75,
          180.53,
          183.16,
          184.91,
          183.63,
          185.66,
          183.43,
          183.51,
          181.57,
          181.81,
          181.4,
          183.25,
          182.83,
          184.91,
          185.36,
          182.92,
          187.2,
          188.36,
          189.8,
          196.84,
          186.27,
          187.74,
          188.94,
          193.57,
          194.24,
          196.32,
          195.15,
          200.57,
          201.91,
          197.84,
          200.34,
          196.33,
          198.44,
          203.51,
          204.7,
          206.26,
          210.7,
          208.25,
          212.83,
          214.32,
          213.67,
          207.07,
          208.35,
          208.04,
          203.92,
          202.88,
          211.6,
          208.75,
          211.75,
          202.54,
          201.3,
          203.85,
          202.02,
          204.06,
          203.9,
          205.01,
          216.54,
          213.29,
          212.94,
          216.35,
          212.48,
          208.25,
          203.38,
          209.19,
          208.7,
          208.9,
          210.28,
          211.49,
          209.7,
          214.58,
          213.02,
          213.69,
          216.47,
          221.15,
          226.58,
          228.91
         ]
        },
        {
         "line": {
          "color": "rgba(55, 128, 191, 1.0)",
          "dash": "solid",
          "shape": "linear",
          "width": 1.3
         },
         "mode": "lines",
         "name": "SMA(3)",
         "text": "",
         "type": "scatter",
         "x": [
          "3/18/2020",
          "3/19/2020",
          "3/20/2020",
          "3/23/2020",
          "3/24/2020",
          "3/25/2020",
          "3/26/2020",
          "3/27/2020",
          "3/30/2020",
          "3/31/2020",
          "4/1/2020",
          "4/2/2020",
          "4/3/2020",
          "4/6/2020",
          "4/7/2020",
          "4/8/2020",
          "4/9/2020",
          "4/13/2020",
          "4/14/2020",
          "4/15/2020",
          "4/16/2020",
          "4/17/2020",
          "4/20/2020",
          "4/21/2020",
          "4/22/2020",
          "4/23/2020",
          "4/24/2020",
          "4/27/2020",
          "4/28/2020",
          "4/29/2020",
          "4/30/2020",
          "5/1/2020",
          "5/4/2020",
          "5/5/2020",
          "5/6/2020",
          "5/7/2020",
          "5/8/2020",
          "5/11/2020",
          "5/12/2020",
          "5/13/2020",
          "5/14/2020",
          "5/15/2020",
          "5/18/2020",
          "5/19/2020",
          "5/20/2020",
          "5/21/2020",
          "5/22/2020",
          "5/26/2020",
          "5/27/2020",
          "5/28/2020",
          "5/29/2020",
          "6/1/2020",
          "6/2/2020",
          "6/3/2020",
          "6/4/2020",
          "6/5/2020",
          "6/8/2020",
          "6/9/2020",
          "6/10/2020",
          "6/11/2020",
          "6/12/2020",
          "6/15/2020",
          "6/16/2020",
          "6/17/2020",
          "6/18/2020",
          "6/19/2020",
          "6/22/2020",
          "6/23/2020",
          "6/24/2020",
          "6/25/2020",
          "6/26/2020",
          "6/29/2020",
          "6/30/2020",
          "7/1/2020",
          "7/2/2020",
          "7/6/2020",
          "7/7/2020",
          "7/8/2020",
          "7/9/2020",
          "7/10/2020",
          "7/13/2020",
          "7/14/2020",
          "7/15/2020",
          "7/16/2020",
          "7/17/2020",
          "7/20/2020",
          "7/21/2020",
          "7/22/2020",
          "7/23/2020",
          "7/24/2020",
          "7/27/2020",
          "7/28/2020",
          "7/29/2020",
          "7/30/2020",
          "7/31/2020",
          "8/3/2020",
          "8/4/2020",
          "8/5/2020",
          "8/6/2020",
          "8/7/2020",
          "8/10/2020",
          "8/11/2020",
          "8/12/2020",
          "8/13/2020",
          "8/14/2020",
          "8/17/2020",
          "8/18/2020",
          "8/19/2020",
          "8/20/2020",
          "8/21/2020",
          "8/24/2020",
          "8/25/2020",
          "8/26/2020",
          "8/27/2020",
          "8/28/2020"
         ],
         "y": [
          "",
          "",
          140.15333333333334,
          138.68000000000004,
          140.5566666666667,
          143.74666666666667,
          150.45666666666668,
          150.90999999999997,
          155.34666666666666,
          155.88,
          156.68333333333334,
          155.02666666666664,
          153.73333333333332,
          158.11999999999998,
          160.86333333333332,
          164.62999999999997,
          164.58666666666662,
          165.25999999999996,
          168.1166666666666,
          170.36333333333326,
          174.2066666666666,
          175.83999999999992,
          176.8999999999999,
          173.8266666666666,
          172.13333333333324,
          170.91999999999993,
          173.16333333333327,
          173.33999999999992,
          172.80333333333326,
          173.76333333333324,
          175.48333333333326,
          177.06999999999994,
          177.53999999999996,
          178.05666666666662,
          180.71333333333328,
          182.29999999999995,
          183.60666666666665,
          185.00666666666666,
          184.64333333333332,
          183,
          180.92999999999998,
          181.14666666666665,
          182.86666666666665,
          183.89999999999998,
          184.73333333333332,
          184.23999999999998,
          184.19999999999996,
          182.83666666666662,
          182.29666666666662,
          181.59333333333328,
          182.15333333333328,
          182.49333333333325,
          183.66333333333327,
          184.3666666666666,
          184.39666666666656,
          185.15999999999988,
          186.15999999999988,
          188.45333333333326,
          191.6666666666666,
          190.9699999999999,
          190.28333333333322,
          187.6499999999999,
          190.08333333333326,
          192.24999999999991,
          194.7099999999999,
          195.23666666666654,
          197.3466666666665,
          199.2099999999998,
          200.10666666666648,
          200.02999999999983,
          198.16999999999985,
          198.36999999999986,
          199.4266666666665,
          202.2166666666665,
          204.82333333333318,
          207.21999999999989,
          208.4033333333332,
          210.59333333333322,
          211.79999999999987,
          213.60666666666654,
          211.68666666666653,
          209.69666666666657,
          207.8199999999999,
          206.7699999999999,
          204.94666666666657,
          206.13333333333324,
          207.74333333333325,
          210.69999999999993,
          207.67999999999992,
          205.19666666666657,
          202.56333333333325,
          202.3899999999999,
          203.30999999999995,
          203.3266666666666,
          204.32333333333327,
          208.48333333333326,
          211.61333333333326,
          214.25666666666658,
          214.19333333333327,
          213.9233333333333,
          212.35999999999999,
          208.03666666666663,
          206.93999999999997,
          207.09,
          208.92999999999998,
          209.2933333333333,
          210.22333333333327,
          210.48999999999998,
          211.92333333333332,
          212.4333333333333,
          213.76333333333332,
          214.39333333333332,
          217.10333333333332,
          221.4,
          225.54666666666665
         ]
        },
        {
         "line": {
          "color": "rgba(55, 128, 191, 0.8999999999999999)",
          "dash": "solid",
          "shape": "linear",
          "width": 1.3
         },
         "mode": "lines",
         "name": "SMA(10)",
         "text": "",
         "type": "scatter",
         "x": [
          "3/18/2020",
          "3/19/2020",
          "3/20/2020",
          "3/23/2020",
          "3/24/2020",
          "3/25/2020",
          "3/26/2020",
          "3/27/2020",
          "3/30/2020",
          "3/31/2020",
          "4/1/2020",
          "4/2/2020",
          "4/3/2020",
          "4/6/2020",
          "4/7/2020",
          "4/8/2020",
          "4/9/2020",
          "4/13/2020",
          "4/14/2020",
          "4/15/2020",
          "4/16/2020",
          "4/17/2020",
          "4/20/2020",
          "4/21/2020",
          "4/22/2020",
          "4/23/2020",
          "4/24/2020",
          "4/27/2020",
          "4/28/2020",
          "4/29/2020",
          "4/30/2020",
          "5/1/2020",
          "5/4/2020",
          "5/5/2020",
          "5/6/2020",
          "5/7/2020",
          "5/8/2020",
          "5/11/2020",
          "5/12/2020",
          "5/13/2020",
          "5/14/2020",
          "5/15/2020",
          "5/18/2020",
          "5/19/2020",
          "5/20/2020",
          "5/21/2020",
          "5/22/2020",
          "5/26/2020",
          "5/27/2020",
          "5/28/2020",
          "5/29/2020",
          "6/1/2020",
          "6/2/2020",
          "6/3/2020",
          "6/4/2020",
          "6/5/2020",
          "6/8/2020",
          "6/9/2020",
          "6/10/2020",
          "6/11/2020",
          "6/12/2020",
          "6/15/2020",
          "6/16/2020",
          "6/17/2020",
          "6/18/2020",
          "6/19/2020",
          "6/22/2020",
          "6/23/2020",
          "6/24/2020",
          "6/25/2020",
          "6/26/2020",
          "6/29/2020",
          "6/30/2020",
          "7/1/2020",
          "7/2/2020",
          "7/6/2020",
          "7/7/2020",
          "7/8/2020",
          "7/9/2020",
          "7/10/2020",
          "7/13/2020",
          "7/14/2020",
          "7/15/2020",
          "7/16/2020",
          "7/17/2020",
          "7/20/2020",
          "7/21/2020",
          "7/22/2020",
          "7/23/2020",
          "7/24/2020",
          "7/27/2020",
          "7/28/2020",
          "7/29/2020",
          "7/30/2020",
          "7/31/2020",
          "8/3/2020",
          "8/4/2020",
          "8/5/2020",
          "8/6/2020",
          "8/7/2020",
          "8/10/2020",
          "8/11/2020",
          "8/12/2020",
          "8/13/2020",
          "8/14/2020",
          "8/17/2020",
          "8/18/2020",
          "8/19/2020",
          "8/20/2020",
          "8/21/2020",
          "8/24/2020",
          "8/25/2020",
          "8/26/2020",
          "8/27/2020",
          "8/28/2020"
         ],
         "y": [
          "",
          "",
          "",
          "",
          "",
          "",
          "",
          "",
          "",
          147.54500000000002,
          148.71599999999998,
          149.97099999999998,
          151.61899999999997,
          154.54799999999997,
          156.063,
          157.88399999999996,
          158.78699999999995,
          160.36799999999994,
          161.71499999999995,
          163.13199999999992,
          165.62499999999991,
          167.9589999999999,
          170.0819999999999,
          170.3369999999999,
          171.3399999999999,
          171.9689999999999,
          172.9099999999999,
          173.7639999999999,
          173.3749999999999,
          173.9299999999999,
          174.14699999999988,
          173.7439999999999,
          174.1219999999999,
          175.41599999999988,
          176.3179999999999,
          177.5359999999999,
          178.5489999999999,
          179.8179999999999,
          181.0879999999999,
          181.31999999999988,
          181.45199999999988,
          182.3109999999999,
          182.91799999999992,
          183.2049999999999,
          183.5169999999999,
          183.49999999999994,
          183.38299999999992,
          182.86599999999993,
          182.7959999999999,
          182.96099999999993,
          183.23299999999992,
          183.1999999999999,
          183.1999999999999,
          183.3729999999999,
          183.0989999999999,
          183.4759999999999,
          183.9609999999999,
          184.7839999999999,
          186.2869999999999,
          186.7739999999999,
          187.22299999999987,
          187.8339999999999,
          188.69999999999987,
          189.58799999999988,
          190.92799999999988,
          191.7229999999999,
          192.94399999999987,
          194.15499999999986,
          194.25499999999985,
          195.66199999999986,
          196.52099999999984,
          197.47099999999983,
          198.46499999999986,
          199.51099999999985,
          200.50499999999985,
          202.05999999999986,
          202.82799999999986,
          203.91999999999987,
          205.56799999999984,
          206.90099999999984,
          207.97499999999985,
          208.96599999999984,
          209.41899999999987,
          209.3409999999999,
          209.00299999999987,
          209.0929999999999,
          209.1429999999999,
          209.0349999999999,
          207.85699999999989,
          206.6199999999999,
          206.29799999999986,
          205.66499999999988,
          205.26699999999988,
          205.26499999999987,
          205.4779999999999,
          205.9719999999999,
          206.42599999999987,
          206.5449999999999,
          207.92599999999987,
          209.04399999999987,
          209.48399999999987,
          209.6199999999999,
          210.1329999999999,
          210.6129999999999,
          211.00199999999987,
          210.3759999999999,
          210.1959999999999,
          209.8719999999999,
          209.69499999999988,
          209.74899999999988,
          210.2929999999999,
          211.60199999999986,
          212.79799999999986,
          214.58599999999987,
          216.58699999999985
         ]
        }
       ],
       "layout": {
        "legend": {
         "bgcolor": "#F5F6F9",
         "font": {
          "color": "#4D5663"
         }
        },
        "paper_bgcolor": "#F5F6F9",
        "plot_bgcolor": "#F5F6F9",
        "template": {
         "data": {
          "bar": [
           {
            "error_x": {
             "color": "#2a3f5f"
            },
            "error_y": {
             "color": "#2a3f5f"
            },
            "marker": {
             "line": {
              "color": "#E5ECF6",
              "width": 0.5
             }
            },
            "type": "bar"
           }
          ],
          "barpolar": [
           {
            "marker": {
             "line": {
              "color": "#E5ECF6",
              "width": 0.5
             }
            },
            "type": "barpolar"
           }
          ],
          "carpet": [
           {
            "aaxis": {
             "endlinecolor": "#2a3f5f",
             "gridcolor": "white",
             "linecolor": "white",
             "minorgridcolor": "white",
             "startlinecolor": "#2a3f5f"
            },
            "baxis": {
             "endlinecolor": "#2a3f5f",
             "gridcolor": "white",
             "linecolor": "white",
             "minorgridcolor": "white",
             "startlinecolor": "#2a3f5f"
            },
            "type": "carpet"
           }
          ],
          "choropleth": [
           {
            "colorbar": {
             "outlinewidth": 0,
             "ticks": ""
            },
            "type": "choropleth"
           }
          ],
          "contour": [
           {
            "colorbar": {
             "outlinewidth": 0,
             "ticks": ""
            },
            "colorscale": [
             [
              0,
              "#0d0887"
             ],
             [
              0.1111111111111111,
              "#46039f"
             ],
             [
              0.2222222222222222,
              "#7201a8"
             ],
             [
              0.3333333333333333,
              "#9c179e"
             ],
             [
              0.4444444444444444,
              "#bd3786"
             ],
             [
              0.5555555555555556,
              "#d8576b"
             ],
             [
              0.6666666666666666,
              "#ed7953"
             ],
             [
              0.7777777777777778,
              "#fb9f3a"
             ],
             [
              0.8888888888888888,
              "#fdca26"
             ],
             [
              1,
              "#f0f921"
             ]
            ],
            "type": "contour"
           }
          ],
          "contourcarpet": [
           {
            "colorbar": {
             "outlinewidth": 0,
             "ticks": ""
            },
            "type": "contourcarpet"
           }
          ],
          "heatmap": [
           {
            "colorbar": {
             "outlinewidth": 0,
             "ticks": ""
            },
            "colorscale": [
             [
              0,
              "#0d0887"
             ],
             [
              0.1111111111111111,
              "#46039f"
             ],
             [
              0.2222222222222222,
              "#7201a8"
             ],
             [
              0.3333333333333333,
              "#9c179e"
             ],
             [
              0.4444444444444444,
              "#bd3786"
             ],
             [
              0.5555555555555556,
              "#d8576b"
             ],
             [
              0.6666666666666666,
              "#ed7953"
             ],
             [
              0.7777777777777778,
              "#fb9f3a"
             ],
             [
              0.8888888888888888,
              "#fdca26"
             ],
             [
              1,
              "#f0f921"
             ]
            ],
            "type": "heatmap"
           }
          ],
          "heatmapgl": [
           {
            "colorbar": {
             "outlinewidth": 0,
             "ticks": ""
            },
            "colorscale": [
             [
              0,
              "#0d0887"
             ],
             [
              0.1111111111111111,
              "#46039f"
             ],
             [
              0.2222222222222222,
              "#7201a8"
             ],
             [
              0.3333333333333333,
              "#9c179e"
             ],
             [
              0.4444444444444444,
              "#bd3786"
             ],
             [
              0.5555555555555556,
              "#d8576b"
             ],
             [
              0.6666666666666666,
              "#ed7953"
             ],
             [
              0.7777777777777778,
              "#fb9f3a"
             ],
             [
              0.8888888888888888,
              "#fdca26"
             ],
             [
              1,
              "#f0f921"
             ]
            ],
            "type": "heatmapgl"
           }
          ],
          "histogram": [
           {
            "marker": {
             "colorbar": {
              "outlinewidth": 0,
              "ticks": ""
             }
            },
            "type": "histogram"
           }
          ],
          "histogram2d": [
           {
            "colorbar": {
             "outlinewidth": 0,
             "ticks": ""
            },
            "colorscale": [
             [
              0,
              "#0d0887"
             ],
             [
              0.1111111111111111,
              "#46039f"
             ],
             [
              0.2222222222222222,
              "#7201a8"
             ],
             [
              0.3333333333333333,
              "#9c179e"
             ],
             [
              0.4444444444444444,
              "#bd3786"
             ],
             [
              0.5555555555555556,
              "#d8576b"
             ],
             [
              0.6666666666666666,
              "#ed7953"
             ],
             [
              0.7777777777777778,
              "#fb9f3a"
             ],
             [
              0.8888888888888888,
              "#fdca26"
             ],
             [
              1,
              "#f0f921"
             ]
            ],
            "type": "histogram2d"
           }
          ],
          "histogram2dcontour": [
           {
            "colorbar": {
             "outlinewidth": 0,
             "ticks": ""
            },
            "colorscale": [
             [
              0,
              "#0d0887"
             ],
             [
              0.1111111111111111,
              "#46039f"
             ],
             [
              0.2222222222222222,
              "#7201a8"
             ],
             [
              0.3333333333333333,
              "#9c179e"
             ],
             [
              0.4444444444444444,
              "#bd3786"
             ],
             [
              0.5555555555555556,
              "#d8576b"
             ],
             [
              0.6666666666666666,
              "#ed7953"
             ],
             [
              0.7777777777777778,
              "#fb9f3a"
             ],
             [
              0.8888888888888888,
              "#fdca26"
             ],
             [
              1,
              "#f0f921"
             ]
            ],
            "type": "histogram2dcontour"
           }
          ],
          "mesh3d": [
           {
            "colorbar": {
             "outlinewidth": 0,
             "ticks": ""
            },
            "type": "mesh3d"
           }
          ],
          "parcoords": [
           {
            "line": {
             "colorbar": {
              "outlinewidth": 0,
              "ticks": ""
             }
            },
            "type": "parcoords"
           }
          ],
          "pie": [
           {
            "automargin": true,
            "type": "pie"
           }
          ],
          "scatter": [
           {
            "marker": {
             "colorbar": {
              "outlinewidth": 0,
              "ticks": ""
             }
            },
            "type": "scatter"
           }
          ],
          "scatter3d": [
           {
            "line": {
             "colorbar": {
              "outlinewidth": 0,
              "ticks": ""
             }
            },
            "marker": {
             "colorbar": {
              "outlinewidth": 0,
              "ticks": ""
             }
            },
            "type": "scatter3d"
           }
          ],
          "scattercarpet": [
           {
            "marker": {
             "colorbar": {
              "outlinewidth": 0,
              "ticks": ""
             }
            },
            "type": "scattercarpet"
           }
          ],
          "scattergeo": [
           {
            "marker": {
             "colorbar": {
              "outlinewidth": 0,
              "ticks": ""
             }
            },
            "type": "scattergeo"
           }
          ],
          "scattergl": [
           {
            "marker": {
             "colorbar": {
              "outlinewidth": 0,
              "ticks": ""
             }
            },
            "type": "scattergl"
           }
          ],
          "scattermapbox": [
           {
            "marker": {
             "colorbar": {
              "outlinewidth": 0,
              "ticks": ""
             }
            },
            "type": "scattermapbox"
           }
          ],
          "scatterpolar": [
           {
            "marker": {
             "colorbar": {
              "outlinewidth": 0,
              "ticks": ""
             }
            },
            "type": "scatterpolar"
           }
          ],
          "scatterpolargl": [
           {
            "marker": {
             "colorbar": {
              "outlinewidth": 0,
              "ticks": ""
             }
            },
            "type": "scatterpolargl"
           }
          ],
          "scatterternary": [
           {
            "marker": {
             "colorbar": {
              "outlinewidth": 0,
              "ticks": ""
             }
            },
            "type": "scatterternary"
           }
          ],
          "surface": [
           {
            "colorbar": {
             "outlinewidth": 0,
             "ticks": ""
            },
            "colorscale": [
             [
              0,
              "#0d0887"
             ],
             [
              0.1111111111111111,
              "#46039f"
             ],
             [
              0.2222222222222222,
              "#7201a8"
             ],
             [
              0.3333333333333333,
              "#9c179e"
             ],
             [
              0.4444444444444444,
              "#bd3786"
             ],
             [
              0.5555555555555556,
              "#d8576b"
             ],
             [
              0.6666666666666666,
              "#ed7953"
             ],
             [
              0.7777777777777778,
              "#fb9f3a"
             ],
             [
              0.8888888888888888,
              "#fdca26"
             ],
             [
              1,
              "#f0f921"
             ]
            ],
            "type": "surface"
           }
          ],
          "table": [
           {
            "cells": {
             "fill": {
              "color": "#EBF0F8"
             },
             "line": {
              "color": "white"
             }
            },
            "header": {
             "fill": {
              "color": "#C8D4E3"
             },
             "line": {
              "color": "white"
             }
            },
            "type": "table"
           }
          ]
         },
         "layout": {
          "annotationdefaults": {
           "arrowcolor": "#2a3f5f",
           "arrowhead": 0,
           "arrowwidth": 1
          },
          "coloraxis": {
           "colorbar": {
            "outlinewidth": 0,
            "ticks": ""
           }
          },
          "colorscale": {
           "diverging": [
            [
             0,
             "#8e0152"
            ],
            [
             0.1,
             "#c51b7d"
            ],
            [
             0.2,
             "#de77ae"
            ],
            [
             0.3,
             "#f1b6da"
            ],
            [
             0.4,
             "#fde0ef"
            ],
            [
             0.5,
             "#f7f7f7"
            ],
            [
             0.6,
             "#e6f5d0"
            ],
            [
             0.7,
             "#b8e186"
            ],
            [
             0.8,
             "#7fbc41"
            ],
            [
             0.9,
             "#4d9221"
            ],
            [
             1,
             "#276419"
            ]
           ],
           "sequential": [
            [
             0,
             "#0d0887"
            ],
            [
             0.1111111111111111,
             "#46039f"
            ],
            [
             0.2222222222222222,
             "#7201a8"
            ],
            [
             0.3333333333333333,
             "#9c179e"
            ],
            [
             0.4444444444444444,
             "#bd3786"
            ],
            [
             0.5555555555555556,
             "#d8576b"
            ],
            [
             0.6666666666666666,
             "#ed7953"
            ],
            [
             0.7777777777777778,
             "#fb9f3a"
            ],
            [
             0.8888888888888888,
             "#fdca26"
            ],
            [
             1,
             "#f0f921"
            ]
           ],
           "sequentialminus": [
            [
             0,
             "#0d0887"
            ],
            [
             0.1111111111111111,
             "#46039f"
            ],
            [
             0.2222222222222222,
             "#7201a8"
            ],
            [
             0.3333333333333333,
             "#9c179e"
            ],
            [
             0.4444444444444444,
             "#bd3786"
            ],
            [
             0.5555555555555556,
             "#d8576b"
            ],
            [
             0.6666666666666666,
             "#ed7953"
            ],
            [
             0.7777777777777778,
             "#fb9f3a"
            ],
            [
             0.8888888888888888,
             "#fdca26"
            ],
            [
             1,
             "#f0f921"
            ]
           ]
          },
          "colorway": [
           "#636efa",
           "#EF553B",
           "#00cc96",
           "#ab63fa",
           "#FFA15A",
           "#19d3f3",
           "#FF6692",
           "#B6E880",
           "#FF97FF",
           "#FECB52"
          ],
          "font": {
           "color": "#2a3f5f"
          },
          "geo": {
           "bgcolor": "white",
           "lakecolor": "white",
           "landcolor": "#E5ECF6",
           "showlakes": true,
           "showland": true,
           "subunitcolor": "white"
          },
          "hoverlabel": {
           "align": "left"
          },
          "hovermode": "closest",
          "mapbox": {
           "style": "light"
          },
          "paper_bgcolor": "white",
          "plot_bgcolor": "#E5ECF6",
          "polar": {
           "angularaxis": {
            "gridcolor": "white",
            "linecolor": "white",
            "ticks": ""
           },
           "bgcolor": "#E5ECF6",
           "radialaxis": {
            "gridcolor": "white",
            "linecolor": "white",
            "ticks": ""
           }
          },
          "scene": {
           "xaxis": {
            "backgroundcolor": "#E5ECF6",
            "gridcolor": "white",
            "gridwidth": 2,
            "linecolor": "white",
            "showbackground": true,
            "ticks": "",
            "zerolinecolor": "white"
           },
           "yaxis": {
            "backgroundcolor": "#E5ECF6",
            "gridcolor": "white",
            "gridwidth": 2,
            "linecolor": "white",
            "showbackground": true,
            "ticks": "",
            "zerolinecolor": "white"
           },
           "zaxis": {
            "backgroundcolor": "#E5ECF6",
            "gridcolor": "white",
            "gridwidth": 2,
            "linecolor": "white",
            "showbackground": true,
            "ticks": "",
            "zerolinecolor": "white"
           }
          },
          "shapedefaults": {
           "line": {
            "color": "#2a3f5f"
           }
          },
          "ternary": {
           "aaxis": {
            "gridcolor": "white",
            "linecolor": "white",
            "ticks": ""
           },
           "baxis": {
            "gridcolor": "white",
            "linecolor": "white",
            "ticks": ""
           },
           "bgcolor": "#E5ECF6",
           "caxis": {
            "gridcolor": "white",
            "linecolor": "white",
            "ticks": ""
           }
          },
          "title": {
           "x": 0.05
          },
          "xaxis": {
           "automargin": true,
           "gridcolor": "white",
           "linecolor": "white",
           "ticks": "",
           "title": {
            "standoff": 15
           },
           "zerolinecolor": "white",
           "zerolinewidth": 2
          },
          "yaxis": {
           "automargin": true,
           "gridcolor": "white",
           "linecolor": "white",
           "ticks": "",
           "title": {
            "standoff": 15
           },
           "zerolinecolor": "white",
           "zerolinewidth": 2
          }
         }
        },
        "title": {
         "font": {
          "color": "#4D5663"
         }
        },
        "xaxis": {
         "gridcolor": "#E1E5ED",
         "showgrid": true,
         "tickfont": {
          "color": "#4D5663"
         },
         "title": {
          "font": {
           "color": "#4D5663"
          },
          "text": ""
         },
         "zerolinecolor": "#E1E5ED"
        },
        "yaxis": {
         "gridcolor": "#E1E5ED",
         "showgrid": true,
         "tickfont": {
          "color": "#4D5663"
         },
         "title": {
          "font": {
           "color": "#4D5663"
          },
          "text": ""
         },
         "zerolinecolor": "#E1E5ED"
        }
       }
      },
      "text/html": [
       "<div>                            <div id=\"4617357e-74f5-4cf4-85e2-e7d55b1789ef\" class=\"plotly-graph-div\" style=\"height:525px; width:100%;\"></div>            <script type=\"text/javascript\">                require([\"plotly\"], function(Plotly) {                    window.PLOTLYENV=window.PLOTLYENV || {};\n",
       "                    window.PLOTLYENV.BASE_URL='https://plot.ly';                                    if (document.getElementById(\"4617357e-74f5-4cf4-85e2-e7d55b1789ef\")) {                    Plotly.newPlot(                        \"4617357e-74f5-4cf4-85e2-e7d55b1789ef\",                        [{\"line\": {\"color\": \"rgba(255, 153, 51, 1.0)\", \"dash\": \"solid\", \"shape\": \"linear\", \"width\": 1.3}, \"mode\": \"lines\", \"name\": \"Close\", \"text\": \"\", \"type\": \"scatter\", \"x\": [\"3/18/2020\", \"3/19/2020\", \"3/20/2020\", \"3/23/2020\", \"3/24/2020\", \"3/25/2020\", \"3/26/2020\", \"3/27/2020\", \"3/30/2020\", \"3/31/2020\", \"4/1/2020\", \"4/2/2020\", \"4/3/2020\", \"4/6/2020\", \"4/7/2020\", \"4/8/2020\", \"4/9/2020\", \"4/13/2020\", \"4/14/2020\", \"4/15/2020\", \"4/16/2020\", \"4/17/2020\", \"4/20/2020\", \"4/21/2020\", \"4/22/2020\", \"4/23/2020\", \"4/24/2020\", \"4/27/2020\", \"4/28/2020\", \"4/29/2020\", \"4/30/2020\", \"5/1/2020\", \"5/4/2020\", \"5/5/2020\", \"5/6/2020\", \"5/7/2020\", \"5/8/2020\", \"5/11/2020\", \"5/12/2020\", \"5/13/2020\", \"5/14/2020\", \"5/15/2020\", \"5/18/2020\", \"5/19/2020\", \"5/20/2020\", \"5/21/2020\", \"5/22/2020\", \"5/26/2020\", \"5/27/2020\", \"5/28/2020\", \"5/29/2020\", \"6/1/2020\", \"6/2/2020\", \"6/3/2020\", \"6/4/2020\", \"6/5/2020\", \"6/8/2020\", \"6/9/2020\", \"6/10/2020\", \"6/11/2020\", \"6/12/2020\", \"6/15/2020\", \"6/16/2020\", \"6/17/2020\", \"6/18/2020\", \"6/19/2020\", \"6/22/2020\", \"6/23/2020\", \"6/24/2020\", \"6/25/2020\", \"6/26/2020\", \"6/29/2020\", \"6/30/2020\", \"7/1/2020\", \"7/2/2020\", \"7/6/2020\", \"7/7/2020\", \"7/8/2020\", \"7/9/2020\", \"7/10/2020\", \"7/13/2020\", \"7/14/2020\", \"7/15/2020\", \"7/16/2020\", \"7/17/2020\", \"7/20/2020\", \"7/21/2020\", \"7/22/2020\", \"7/23/2020\", \"7/24/2020\", \"7/27/2020\", \"7/28/2020\", \"7/29/2020\", \"7/30/2020\", \"7/31/2020\", \"8/3/2020\", \"8/4/2020\", \"8/5/2020\", \"8/6/2020\", \"8/7/2020\", \"8/10/2020\", \"8/11/2020\", \"8/12/2020\", \"8/13/2020\", \"8/14/2020\", \"8/17/2020\", \"8/18/2020\", \"8/19/2020\", \"8/20/2020\", \"8/21/2020\", \"8/24/2020\", \"8/25/2020\", \"8/26/2020\", \"8/27/2020\", \"8/28/2020\"], \"y\": [140.4, 142.71, 137.35, 135.98, 148.34, 146.92, 156.11, 149.7, 160.23, 157.71, 152.11, 155.26, 153.83, 165.27, 163.49, 165.13, 165.14, 165.51, 173.7, 171.88, 177.04, 178.6, 175.06, 167.82, 173.52, 171.42, 174.55, 174.05, 169.81, 177.43, 179.21, 174.57, 178.84, 180.76, 182.54, 183.6, 184.68, 186.74, 182.51, 179.75, 180.53, 183.16, 184.91, 183.63, 185.66, 183.43, 183.51, 181.57, 181.81, 181.4, 183.25, 182.83, 184.91, 185.36, 182.92, 187.2, 188.36, 189.8, 196.84, 186.27, 187.74, 188.94, 193.57, 194.24, 196.32, 195.15, 200.57, 201.91, 197.84, 200.34, 196.33, 198.44, 203.51, 204.7, 206.26, 210.7, 208.25, 212.83, 214.32, 213.67, 207.07, 208.35, 208.04, 203.92, 202.88, 211.6, 208.75, 211.75, 202.54, 201.3, 203.85, 202.02, 204.06, 203.9, 205.01, 216.54, 213.29, 212.94, 216.35, 212.48, 208.25, 203.38, 209.19, 208.7, 208.9, 210.28, 211.49, 209.7, 214.58, 213.02, 213.69, 216.47, 221.15, 226.58, 228.91]}, {\"line\": {\"color\": \"rgba(55, 128, 191, 1.0)\", \"dash\": \"solid\", \"shape\": \"linear\", \"width\": 1.3}, \"mode\": \"lines\", \"name\": \"SMA(3)\", \"text\": \"\", \"type\": \"scatter\", \"x\": [\"3/18/2020\", \"3/19/2020\", \"3/20/2020\", \"3/23/2020\", \"3/24/2020\", \"3/25/2020\", \"3/26/2020\", \"3/27/2020\", \"3/30/2020\", \"3/31/2020\", \"4/1/2020\", \"4/2/2020\", \"4/3/2020\", \"4/6/2020\", \"4/7/2020\", \"4/8/2020\", \"4/9/2020\", \"4/13/2020\", \"4/14/2020\", \"4/15/2020\", \"4/16/2020\", \"4/17/2020\", \"4/20/2020\", \"4/21/2020\", \"4/22/2020\", \"4/23/2020\", \"4/24/2020\", \"4/27/2020\", \"4/28/2020\", \"4/29/2020\", \"4/30/2020\", \"5/1/2020\", \"5/4/2020\", \"5/5/2020\", \"5/6/2020\", \"5/7/2020\", \"5/8/2020\", \"5/11/2020\", \"5/12/2020\", \"5/13/2020\", \"5/14/2020\", \"5/15/2020\", \"5/18/2020\", \"5/19/2020\", \"5/20/2020\", \"5/21/2020\", \"5/22/2020\", \"5/26/2020\", \"5/27/2020\", \"5/28/2020\", \"5/29/2020\", \"6/1/2020\", \"6/2/2020\", \"6/3/2020\", \"6/4/2020\", \"6/5/2020\", \"6/8/2020\", \"6/9/2020\", \"6/10/2020\", \"6/11/2020\", \"6/12/2020\", \"6/15/2020\", \"6/16/2020\", \"6/17/2020\", \"6/18/2020\", \"6/19/2020\", \"6/22/2020\", \"6/23/2020\", \"6/24/2020\", \"6/25/2020\", \"6/26/2020\", \"6/29/2020\", \"6/30/2020\", \"7/1/2020\", \"7/2/2020\", \"7/6/2020\", \"7/7/2020\", \"7/8/2020\", \"7/9/2020\", \"7/10/2020\", \"7/13/2020\", \"7/14/2020\", \"7/15/2020\", \"7/16/2020\", \"7/17/2020\", \"7/20/2020\", \"7/21/2020\", \"7/22/2020\", \"7/23/2020\", \"7/24/2020\", \"7/27/2020\", \"7/28/2020\", \"7/29/2020\", \"7/30/2020\", \"7/31/2020\", \"8/3/2020\", \"8/4/2020\", \"8/5/2020\", \"8/6/2020\", \"8/7/2020\", \"8/10/2020\", \"8/11/2020\", \"8/12/2020\", \"8/13/2020\", \"8/14/2020\", \"8/17/2020\", \"8/18/2020\", \"8/19/2020\", \"8/20/2020\", \"8/21/2020\", \"8/24/2020\", \"8/25/2020\", \"8/26/2020\", \"8/27/2020\", \"8/28/2020\"], \"y\": [\"\", \"\", 140.15333333333334, 138.68000000000004, 140.5566666666667, 143.74666666666667, 150.45666666666668, 150.90999999999997, 155.34666666666666, 155.88, 156.68333333333334, 155.02666666666664, 153.73333333333332, 158.11999999999998, 160.86333333333332, 164.62999999999997, 164.58666666666662, 165.25999999999996, 168.1166666666666, 170.36333333333326, 174.2066666666666, 175.83999999999992, 176.8999999999999, 173.8266666666666, 172.13333333333324, 170.91999999999993, 173.16333333333327, 173.33999999999992, 172.80333333333326, 173.76333333333324, 175.48333333333326, 177.06999999999994, 177.53999999999996, 178.05666666666662, 180.71333333333328, 182.29999999999995, 183.60666666666665, 185.00666666666666, 184.64333333333332, 183.0, 180.92999999999998, 181.14666666666665, 182.86666666666665, 183.89999999999998, 184.73333333333332, 184.23999999999998, 184.19999999999996, 182.83666666666662, 182.29666666666662, 181.59333333333328, 182.15333333333328, 182.49333333333325, 183.66333333333327, 184.3666666666666, 184.39666666666656, 185.15999999999988, 186.15999999999988, 188.45333333333326, 191.6666666666666, 190.9699999999999, 190.28333333333322, 187.6499999999999, 190.08333333333326, 192.24999999999991, 194.7099999999999, 195.23666666666654, 197.3466666666665, 199.2099999999998, 200.10666666666648, 200.02999999999983, 198.16999999999985, 198.36999999999986, 199.4266666666665, 202.2166666666665, 204.82333333333318, 207.21999999999989, 208.4033333333332, 210.59333333333322, 211.79999999999987, 213.60666666666654, 211.68666666666653, 209.69666666666657, 207.8199999999999, 206.7699999999999, 204.94666666666657, 206.13333333333324, 207.74333333333325, 210.69999999999993, 207.67999999999992, 205.19666666666657, 202.56333333333325, 202.3899999999999, 203.30999999999995, 203.3266666666666, 204.32333333333327, 208.48333333333326, 211.61333333333326, 214.25666666666658, 214.19333333333327, 213.9233333333333, 212.35999999999999, 208.03666666666663, 206.93999999999997, 207.09, 208.92999999999998, 209.2933333333333, 210.22333333333327, 210.48999999999998, 211.92333333333332, 212.4333333333333, 213.76333333333332, 214.39333333333332, 217.10333333333332, 221.4, 225.54666666666665]}, {\"line\": {\"color\": \"rgba(55, 128, 191, 0.8999999999999999)\", \"dash\": \"solid\", \"shape\": \"linear\", \"width\": 1.3}, \"mode\": \"lines\", \"name\": \"SMA(10)\", \"text\": \"\", \"type\": \"scatter\", \"x\": [\"3/18/2020\", \"3/19/2020\", \"3/20/2020\", \"3/23/2020\", \"3/24/2020\", \"3/25/2020\", \"3/26/2020\", \"3/27/2020\", \"3/30/2020\", \"3/31/2020\", \"4/1/2020\", \"4/2/2020\", \"4/3/2020\", \"4/6/2020\", \"4/7/2020\", \"4/8/2020\", \"4/9/2020\", \"4/13/2020\", \"4/14/2020\", \"4/15/2020\", \"4/16/2020\", \"4/17/2020\", \"4/20/2020\", \"4/21/2020\", \"4/22/2020\", \"4/23/2020\", \"4/24/2020\", \"4/27/2020\", \"4/28/2020\", \"4/29/2020\", \"4/30/2020\", \"5/1/2020\", \"5/4/2020\", \"5/5/2020\", \"5/6/2020\", \"5/7/2020\", \"5/8/2020\", \"5/11/2020\", \"5/12/2020\", \"5/13/2020\", \"5/14/2020\", \"5/15/2020\", \"5/18/2020\", \"5/19/2020\", \"5/20/2020\", \"5/21/2020\", \"5/22/2020\", \"5/26/2020\", \"5/27/2020\", \"5/28/2020\", \"5/29/2020\", \"6/1/2020\", \"6/2/2020\", \"6/3/2020\", \"6/4/2020\", \"6/5/2020\", \"6/8/2020\", \"6/9/2020\", \"6/10/2020\", \"6/11/2020\", \"6/12/2020\", \"6/15/2020\", \"6/16/2020\", \"6/17/2020\", \"6/18/2020\", \"6/19/2020\", \"6/22/2020\", \"6/23/2020\", \"6/24/2020\", \"6/25/2020\", \"6/26/2020\", \"6/29/2020\", \"6/30/2020\", \"7/1/2020\", \"7/2/2020\", \"7/6/2020\", \"7/7/2020\", \"7/8/2020\", \"7/9/2020\", \"7/10/2020\", \"7/13/2020\", \"7/14/2020\", \"7/15/2020\", \"7/16/2020\", \"7/17/2020\", \"7/20/2020\", \"7/21/2020\", \"7/22/2020\", \"7/23/2020\", \"7/24/2020\", \"7/27/2020\", \"7/28/2020\", \"7/29/2020\", \"7/30/2020\", \"7/31/2020\", \"8/3/2020\", \"8/4/2020\", \"8/5/2020\", \"8/6/2020\", \"8/7/2020\", \"8/10/2020\", \"8/11/2020\", \"8/12/2020\", \"8/13/2020\", \"8/14/2020\", \"8/17/2020\", \"8/18/2020\", \"8/19/2020\", \"8/20/2020\", \"8/21/2020\", \"8/24/2020\", \"8/25/2020\", \"8/26/2020\", \"8/27/2020\", \"8/28/2020\"], \"y\": [\"\", \"\", \"\", \"\", \"\", \"\", \"\", \"\", \"\", 147.54500000000002, 148.71599999999998, 149.97099999999998, 151.61899999999997, 154.54799999999997, 156.063, 157.88399999999996, 158.78699999999995, 160.36799999999994, 161.71499999999995, 163.13199999999992, 165.62499999999991, 167.9589999999999, 170.0819999999999, 170.3369999999999, 171.3399999999999, 171.9689999999999, 172.9099999999999, 173.7639999999999, 173.3749999999999, 173.9299999999999, 174.14699999999988, 173.7439999999999, 174.1219999999999, 175.41599999999988, 176.3179999999999, 177.5359999999999, 178.5489999999999, 179.8179999999999, 181.0879999999999, 181.31999999999988, 181.45199999999988, 182.3109999999999, 182.91799999999992, 183.2049999999999, 183.5169999999999, 183.49999999999994, 183.38299999999992, 182.86599999999993, 182.7959999999999, 182.96099999999993, 183.23299999999992, 183.1999999999999, 183.1999999999999, 183.3729999999999, 183.0989999999999, 183.4759999999999, 183.9609999999999, 184.7839999999999, 186.2869999999999, 186.7739999999999, 187.22299999999987, 187.8339999999999, 188.69999999999987, 189.58799999999988, 190.92799999999988, 191.7229999999999, 192.94399999999987, 194.15499999999986, 194.25499999999985, 195.66199999999986, 196.52099999999984, 197.47099999999983, 198.46499999999986, 199.51099999999985, 200.50499999999985, 202.05999999999986, 202.82799999999986, 203.91999999999987, 205.56799999999984, 206.90099999999984, 207.97499999999985, 208.96599999999984, 209.41899999999987, 209.3409999999999, 209.00299999999987, 209.0929999999999, 209.1429999999999, 209.0349999999999, 207.85699999999989, 206.6199999999999, 206.29799999999986, 205.66499999999988, 205.26699999999988, 205.26499999999987, 205.4779999999999, 205.9719999999999, 206.42599999999987, 206.5449999999999, 207.92599999999987, 209.04399999999987, 209.48399999999987, 209.6199999999999, 210.1329999999999, 210.6129999999999, 211.00199999999987, 210.3759999999999, 210.1959999999999, 209.8719999999999, 209.69499999999988, 209.74899999999988, 210.2929999999999, 211.60199999999986, 212.79799999999986, 214.58599999999987, 216.58699999999985]}],                        {\"legend\": {\"bgcolor\": \"#F5F6F9\", \"font\": {\"color\": \"#4D5663\"}}, \"paper_bgcolor\": \"#F5F6F9\", \"plot_bgcolor\": \"#F5F6F9\", \"template\": {\"data\": {\"bar\": [{\"error_x\": {\"color\": \"#2a3f5f\"}, \"error_y\": {\"color\": \"#2a3f5f\"}, \"marker\": {\"line\": {\"color\": \"#E5ECF6\", \"width\": 0.5}}, \"type\": \"bar\"}], \"barpolar\": [{\"marker\": {\"line\": {\"color\": \"#E5ECF6\", \"width\": 0.5}}, \"type\": \"barpolar\"}], \"carpet\": [{\"aaxis\": {\"endlinecolor\": \"#2a3f5f\", \"gridcolor\": \"white\", \"linecolor\": \"white\", \"minorgridcolor\": \"white\", \"startlinecolor\": \"#2a3f5f\"}, \"baxis\": {\"endlinecolor\": \"#2a3f5f\", \"gridcolor\": \"white\", \"linecolor\": \"white\", \"minorgridcolor\": \"white\", \"startlinecolor\": \"#2a3f5f\"}, \"type\": \"carpet\"}], \"choropleth\": [{\"colorbar\": {\"outlinewidth\": 0, \"ticks\": \"\"}, \"type\": \"choropleth\"}], \"contour\": [{\"colorbar\": {\"outlinewidth\": 0, \"ticks\": \"\"}, \"colorscale\": [[0.0, \"#0d0887\"], [0.1111111111111111, \"#46039f\"], [0.2222222222222222, \"#7201a8\"], [0.3333333333333333, \"#9c179e\"], [0.4444444444444444, \"#bd3786\"], [0.5555555555555556, \"#d8576b\"], [0.6666666666666666, \"#ed7953\"], [0.7777777777777778, \"#fb9f3a\"], [0.8888888888888888, \"#fdca26\"], [1.0, \"#f0f921\"]], \"type\": \"contour\"}], \"contourcarpet\": [{\"colorbar\": {\"outlinewidth\": 0, \"ticks\": \"\"}, \"type\": \"contourcarpet\"}], \"heatmap\": [{\"colorbar\": {\"outlinewidth\": 0, \"ticks\": \"\"}, \"colorscale\": [[0.0, \"#0d0887\"], [0.1111111111111111, \"#46039f\"], [0.2222222222222222, \"#7201a8\"], [0.3333333333333333, \"#9c179e\"], [0.4444444444444444, \"#bd3786\"], [0.5555555555555556, \"#d8576b\"], [0.6666666666666666, \"#ed7953\"], [0.7777777777777778, \"#fb9f3a\"], [0.8888888888888888, \"#fdca26\"], [1.0, \"#f0f921\"]], \"type\": \"heatmap\"}], \"heatmapgl\": [{\"colorbar\": {\"outlinewidth\": 0, \"ticks\": \"\"}, \"colorscale\": [[0.0, \"#0d0887\"], [0.1111111111111111, \"#46039f\"], [0.2222222222222222, \"#7201a8\"], [0.3333333333333333, \"#9c179e\"], [0.4444444444444444, \"#bd3786\"], [0.5555555555555556, \"#d8576b\"], [0.6666666666666666, \"#ed7953\"], [0.7777777777777778, \"#fb9f3a\"], [0.8888888888888888, \"#fdca26\"], [1.0, \"#f0f921\"]], \"type\": \"heatmapgl\"}], \"histogram\": [{\"marker\": {\"colorbar\": {\"outlinewidth\": 0, \"ticks\": \"\"}}, \"type\": \"histogram\"}], \"histogram2d\": [{\"colorbar\": {\"outlinewidth\": 0, \"ticks\": \"\"}, \"colorscale\": [[0.0, \"#0d0887\"], [0.1111111111111111, \"#46039f\"], [0.2222222222222222, \"#7201a8\"], [0.3333333333333333, \"#9c179e\"], [0.4444444444444444, \"#bd3786\"], [0.5555555555555556, \"#d8576b\"], [0.6666666666666666, \"#ed7953\"], [0.7777777777777778, \"#fb9f3a\"], [0.8888888888888888, \"#fdca26\"], [1.0, \"#f0f921\"]], \"type\": \"histogram2d\"}], \"histogram2dcontour\": [{\"colorbar\": {\"outlinewidth\": 0, \"ticks\": \"\"}, \"colorscale\": [[0.0, \"#0d0887\"], [0.1111111111111111, \"#46039f\"], [0.2222222222222222, \"#7201a8\"], [0.3333333333333333, \"#9c179e\"], [0.4444444444444444, \"#bd3786\"], [0.5555555555555556, \"#d8576b\"], [0.6666666666666666, \"#ed7953\"], [0.7777777777777778, \"#fb9f3a\"], [0.8888888888888888, \"#fdca26\"], [1.0, \"#f0f921\"]], \"type\": \"histogram2dcontour\"}], \"mesh3d\": [{\"colorbar\": {\"outlinewidth\": 0, \"ticks\": \"\"}, \"type\": \"mesh3d\"}], \"parcoords\": [{\"line\": {\"colorbar\": {\"outlinewidth\": 0, \"ticks\": \"\"}}, \"type\": \"parcoords\"}], \"pie\": [{\"automargin\": true, \"type\": \"pie\"}], \"scatter\": [{\"marker\": {\"colorbar\": {\"outlinewidth\": 0, \"ticks\": \"\"}}, \"type\": \"scatter\"}], \"scatter3d\": [{\"line\": {\"colorbar\": {\"outlinewidth\": 0, \"ticks\": \"\"}}, \"marker\": {\"colorbar\": {\"outlinewidth\": 0, \"ticks\": \"\"}}, \"type\": \"scatter3d\"}], \"scattercarpet\": [{\"marker\": {\"colorbar\": {\"outlinewidth\": 0, \"ticks\": \"\"}}, \"type\": \"scattercarpet\"}], \"scattergeo\": [{\"marker\": {\"colorbar\": {\"outlinewidth\": 0, \"ticks\": \"\"}}, \"type\": \"scattergeo\"}], \"scattergl\": [{\"marker\": {\"colorbar\": {\"outlinewidth\": 0, \"ticks\": \"\"}}, \"type\": \"scattergl\"}], \"scattermapbox\": [{\"marker\": {\"colorbar\": {\"outlinewidth\": 0, \"ticks\": \"\"}}, \"type\": \"scattermapbox\"}], \"scatterpolar\": [{\"marker\": {\"colorbar\": {\"outlinewidth\": 0, \"ticks\": \"\"}}, \"type\": \"scatterpolar\"}], \"scatterpolargl\": [{\"marker\": {\"colorbar\": {\"outlinewidth\": 0, \"ticks\": \"\"}}, \"type\": \"scatterpolargl\"}], \"scatterternary\": [{\"marker\": {\"colorbar\": {\"outlinewidth\": 0, \"ticks\": \"\"}}, \"type\": \"scatterternary\"}], \"surface\": [{\"colorbar\": {\"outlinewidth\": 0, \"ticks\": \"\"}, \"colorscale\": [[0.0, \"#0d0887\"], [0.1111111111111111, \"#46039f\"], [0.2222222222222222, \"#7201a8\"], [0.3333333333333333, \"#9c179e\"], [0.4444444444444444, \"#bd3786\"], [0.5555555555555556, \"#d8576b\"], [0.6666666666666666, \"#ed7953\"], [0.7777777777777778, \"#fb9f3a\"], [0.8888888888888888, \"#fdca26\"], [1.0, \"#f0f921\"]], \"type\": \"surface\"}], \"table\": [{\"cells\": {\"fill\": {\"color\": \"#EBF0F8\"}, \"line\": {\"color\": \"white\"}}, \"header\": {\"fill\": {\"color\": \"#C8D4E3\"}, \"line\": {\"color\": \"white\"}}, \"type\": \"table\"}]}, \"layout\": {\"annotationdefaults\": {\"arrowcolor\": \"#2a3f5f\", \"arrowhead\": 0, \"arrowwidth\": 1}, \"coloraxis\": {\"colorbar\": {\"outlinewidth\": 0, \"ticks\": \"\"}}, \"colorscale\": {\"diverging\": [[0, \"#8e0152\"], [0.1, \"#c51b7d\"], [0.2, \"#de77ae\"], [0.3, \"#f1b6da\"], [0.4, \"#fde0ef\"], [0.5, \"#f7f7f7\"], [0.6, \"#e6f5d0\"], [0.7, \"#b8e186\"], [0.8, \"#7fbc41\"], [0.9, \"#4d9221\"], [1, \"#276419\"]], \"sequential\": [[0.0, \"#0d0887\"], [0.1111111111111111, \"#46039f\"], [0.2222222222222222, \"#7201a8\"], [0.3333333333333333, \"#9c179e\"], [0.4444444444444444, \"#bd3786\"], [0.5555555555555556, \"#d8576b\"], [0.6666666666666666, \"#ed7953\"], [0.7777777777777778, \"#fb9f3a\"], [0.8888888888888888, \"#fdca26\"], [1.0, \"#f0f921\"]], \"sequentialminus\": [[0.0, \"#0d0887\"], [0.1111111111111111, \"#46039f\"], [0.2222222222222222, \"#7201a8\"], [0.3333333333333333, \"#9c179e\"], [0.4444444444444444, \"#bd3786\"], [0.5555555555555556, \"#d8576b\"], [0.6666666666666666, \"#ed7953\"], [0.7777777777777778, \"#fb9f3a\"], [0.8888888888888888, \"#fdca26\"], [1.0, \"#f0f921\"]]}, \"colorway\": [\"#636efa\", \"#EF553B\", \"#00cc96\", \"#ab63fa\", \"#FFA15A\", \"#19d3f3\", \"#FF6692\", \"#B6E880\", \"#FF97FF\", \"#FECB52\"], \"font\": {\"color\": \"#2a3f5f\"}, \"geo\": {\"bgcolor\": \"white\", \"lakecolor\": \"white\", \"landcolor\": \"#E5ECF6\", \"showlakes\": true, \"showland\": true, \"subunitcolor\": \"white\"}, \"hoverlabel\": {\"align\": \"left\"}, \"hovermode\": \"closest\", \"mapbox\": {\"style\": \"light\"}, \"paper_bgcolor\": \"white\", \"plot_bgcolor\": \"#E5ECF6\", \"polar\": {\"angularaxis\": {\"gridcolor\": \"white\", \"linecolor\": \"white\", \"ticks\": \"\"}, \"bgcolor\": \"#E5ECF6\", \"radialaxis\": {\"gridcolor\": \"white\", \"linecolor\": \"white\", \"ticks\": \"\"}}, \"scene\": {\"xaxis\": {\"backgroundcolor\": \"#E5ECF6\", \"gridcolor\": \"white\", \"gridwidth\": 2, \"linecolor\": \"white\", \"showbackground\": true, \"ticks\": \"\", \"zerolinecolor\": \"white\"}, \"yaxis\": {\"backgroundcolor\": \"#E5ECF6\", \"gridcolor\": \"white\", \"gridwidth\": 2, \"linecolor\": \"white\", \"showbackground\": true, \"ticks\": \"\", \"zerolinecolor\": \"white\"}, \"zaxis\": {\"backgroundcolor\": \"#E5ECF6\", \"gridcolor\": \"white\", \"gridwidth\": 2, \"linecolor\": \"white\", \"showbackground\": true, \"ticks\": \"\", \"zerolinecolor\": \"white\"}}, \"shapedefaults\": {\"line\": {\"color\": \"#2a3f5f\"}}, \"ternary\": {\"aaxis\": {\"gridcolor\": \"white\", \"linecolor\": \"white\", \"ticks\": \"\"}, \"baxis\": {\"gridcolor\": \"white\", \"linecolor\": \"white\", \"ticks\": \"\"}, \"bgcolor\": \"#E5ECF6\", \"caxis\": {\"gridcolor\": \"white\", \"linecolor\": \"white\", \"ticks\": \"\"}}, \"title\": {\"x\": 0.05}, \"xaxis\": {\"automargin\": true, \"gridcolor\": \"white\", \"linecolor\": \"white\", \"ticks\": \"\", \"title\": {\"standoff\": 15}, \"zerolinecolor\": \"white\", \"zerolinewidth\": 2}, \"yaxis\": {\"automargin\": true, \"gridcolor\": \"white\", \"linecolor\": \"white\", \"ticks\": \"\", \"title\": {\"standoff\": 15}, \"zerolinecolor\": \"white\", \"zerolinewidth\": 2}}}, \"title\": {\"font\": {\"color\": \"#4D5663\"}}, \"xaxis\": {\"gridcolor\": \"#E1E5ED\", \"showgrid\": true, \"tickfont\": {\"color\": \"#4D5663\"}, \"title\": {\"font\": {\"color\": \"#4D5663\"}, \"text\": \"\"}, \"zerolinecolor\": \"#E1E5ED\"}, \"yaxis\": {\"gridcolor\": \"#E1E5ED\", \"showgrid\": true, \"tickfont\": {\"color\": \"#4D5663\"}, \"title\": {\"font\": {\"color\": \"#4D5663\"}, \"text\": \"\"}, \"zerolinecolor\": \"#E1E5ED\"}},                        {\"showLink\": true, \"linkText\": \"Export to plot.ly\", \"plotlyServerURL\": \"https://plot.ly\", \"responsive\": true}                    ).then(function(){\n",
       "                            \n",
       "var gd = document.getElementById('4617357e-74f5-4cf4-85e2-e7d55b1789ef');\n",
       "var x = new MutationObserver(function (mutations, observer) {{\n",
       "        var display = window.getComputedStyle(gd).display;\n",
       "        if (!display || display === 'none') {{\n",
       "            console.log([gd, 'removed!']);\n",
       "            Plotly.purge(gd);\n",
       "            observer.disconnect();\n",
       "        }}\n",
       "}});\n",
       "\n",
       "// Listen for the removal of the full notebook cells\n",
       "var notebookContainer = gd.closest('#notebook-container');\n",
       "if (notebookContainer) {{\n",
       "    x.observe(notebookContainer, {childList: true});\n",
       "}}\n",
       "\n",
       "// Listen for the clearing of the current output cell\n",
       "var outputEl = gd.closest('.output');\n",
       "if (outputEl) {{\n",
       "    x.observe(outputEl, {childList: true});\n",
       "}}\n",
       "\n",
       "                        })                };                });            </script>        </div>"
      ]
     },
     "metadata": {},
     "output_type": "display_data"
    },
    {
     "data": {
      "application/vnd.plotly.v1+json": {
       "config": {
        "linkText": "Export to plot.ly",
        "plotlyServerURL": "https://plot.ly",
        "showLink": true
       },
       "data": [
        {
         "line": {
          "color": "rgba(255, 153, 51, 1.0)",
          "dash": "solid",
          "shape": "linear",
          "width": 1.3
         },
         "mode": "lines",
         "name": "Close",
         "text": "",
         "type": "scatter",
         "x": [
          "3/18/2020",
          "3/19/2020",
          "3/20/2020",
          "3/23/2020",
          "3/24/2020",
          "3/25/2020",
          "3/26/2020",
          "3/27/2020",
          "3/30/2020",
          "3/31/2020",
          "4/1/2020",
          "4/2/2020",
          "4/3/2020",
          "4/6/2020",
          "4/7/2020",
          "4/8/2020",
          "4/9/2020",
          "4/13/2020",
          "4/14/2020",
          "4/15/2020",
          "4/16/2020",
          "4/17/2020",
          "4/20/2020",
          "4/21/2020",
          "4/22/2020",
          "4/23/2020",
          "4/24/2020",
          "4/27/2020",
          "4/28/2020",
          "4/29/2020",
          "4/30/2020",
          "5/1/2020",
          "5/4/2020",
          "5/5/2020",
          "5/6/2020",
          "5/7/2020",
          "5/8/2020",
          "5/11/2020",
          "5/12/2020",
          "5/13/2020",
          "5/14/2020",
          "5/15/2020",
          "5/18/2020",
          "5/19/2020",
          "5/20/2020",
          "5/21/2020",
          "5/22/2020",
          "5/26/2020",
          "5/27/2020",
          "5/28/2020",
          "5/29/2020",
          "6/1/2020",
          "6/2/2020",
          "6/3/2020",
          "6/4/2020",
          "6/5/2020",
          "6/8/2020",
          "6/9/2020",
          "6/10/2020",
          "6/11/2020",
          "6/12/2020",
          "6/15/2020",
          "6/16/2020",
          "6/17/2020",
          "6/18/2020",
          "6/19/2020",
          "6/22/2020",
          "6/23/2020",
          "6/24/2020",
          "6/25/2020",
          "6/26/2020",
          "6/29/2020",
          "6/30/2020",
          "7/1/2020",
          "7/2/2020",
          "7/6/2020",
          "7/7/2020",
          "7/8/2020",
          "7/9/2020",
          "7/10/2020",
          "7/13/2020",
          "7/14/2020",
          "7/15/2020",
          "7/16/2020",
          "7/17/2020",
          "7/20/2020",
          "7/21/2020",
          "7/22/2020",
          "7/23/2020",
          "7/24/2020",
          "7/27/2020",
          "7/28/2020",
          "7/29/2020",
          "7/30/2020",
          "7/31/2020",
          "8/3/2020",
          "8/4/2020",
          "8/5/2020",
          "8/6/2020",
          "8/7/2020",
          "8/10/2020",
          "8/11/2020",
          "8/12/2020",
          "8/13/2020",
          "8/14/2020",
          "8/17/2020",
          "8/18/2020",
          "8/19/2020",
          "8/20/2020",
          "8/21/2020",
          "8/24/2020",
          "8/25/2020",
          "8/26/2020",
          "8/27/2020",
          "8/28/2020"
         ],
         "y": [
          361.22,
          427.64,
          427.53,
          434.29,
          505,
          539.25,
          528.16,
          514.36,
          502.13,
          524,
          481.56,
          454.47,
          480.01,
          516.24,
          545.45,
          548.84,
          573,
          650.95,
          709.89,
          729.83,
          745.21,
          753.89,
          746.36,
          686.72,
          732.11,
          705.63,
          725.15,
          798.75,
          769.12,
          800.51,
          781.88,
          701.32,
          761.19,
          768.21,
          782.58,
          780.04,
          819.42,
          811.29,
          809.41,
          790.96,
          803.33,
          799.17,
          813.63,
          808.01,
          815.56,
          827.6,
          816.88,
          818.87,
          820.23,
          805.81,
          835,
          898.1,
          881.56,
          882.96,
          864.38,
          885.66,
          949.92,
          940.67,
          1025.05,
          972.84,
          935.28,
          990.9,
          982.13,
          991.79,
          1003.96,
          1000.9,
          994.32,
          1001.78,
          960.85,
          985.98,
          959.74,
          1009.35,
          1079.81,
          1119.63,
          1208.66,
          1371.58,
          1389.86,
          1365.88,
          1394.28,
          1544.65,
          1497.06,
          1516.8,
          1546.01,
          1500.64,
          1500.84,
          1643,
          1568.36,
          1592.33,
          1513.07,
          1417,
          1539.6,
          1476.49,
          1499.11,
          1487.49,
          1430.76,
          1485,
          1487,
          1485.02,
          1489.58,
          1452.71,
          1418.57,
          1374.39,
          1554.76,
          1621,
          1650.71,
          1835.64,
          1887.09,
          1878.53,
          2001.83,
          2049.98,
          2014.2,
          2023.34,
          2153.17,
          2238.75,
          2213.4
         ]
        },
        {
         "line": {
          "color": "rgba(55, 128, 191, 1.0)",
          "dash": "solid",
          "shape": "linear",
          "width": 1.3
         },
         "mode": "lines",
         "name": "SMA(3)",
         "text": "",
         "type": "scatter",
         "x": [
          "3/18/2020",
          "3/19/2020",
          "3/20/2020",
          "3/23/2020",
          "3/24/2020",
          "3/25/2020",
          "3/26/2020",
          "3/27/2020",
          "3/30/2020",
          "3/31/2020",
          "4/1/2020",
          "4/2/2020",
          "4/3/2020",
          "4/6/2020",
          "4/7/2020",
          "4/8/2020",
          "4/9/2020",
          "4/13/2020",
          "4/14/2020",
          "4/15/2020",
          "4/16/2020",
          "4/17/2020",
          "4/20/2020",
          "4/21/2020",
          "4/22/2020",
          "4/23/2020",
          "4/24/2020",
          "4/27/2020",
          "4/28/2020",
          "4/29/2020",
          "4/30/2020",
          "5/1/2020",
          "5/4/2020",
          "5/5/2020",
          "5/6/2020",
          "5/7/2020",
          "5/8/2020",
          "5/11/2020",
          "5/12/2020",
          "5/13/2020",
          "5/14/2020",
          "5/15/2020",
          "5/18/2020",
          "5/19/2020",
          "5/20/2020",
          "5/21/2020",
          "5/22/2020",
          "5/26/2020",
          "5/27/2020",
          "5/28/2020",
          "5/29/2020",
          "6/1/2020",
          "6/2/2020",
          "6/3/2020",
          "6/4/2020",
          "6/5/2020",
          "6/8/2020",
          "6/9/2020",
          "6/10/2020",
          "6/11/2020",
          "6/12/2020",
          "6/15/2020",
          "6/16/2020",
          "6/17/2020",
          "6/18/2020",
          "6/19/2020",
          "6/22/2020",
          "6/23/2020",
          "6/24/2020",
          "6/25/2020",
          "6/26/2020",
          "6/29/2020",
          "6/30/2020",
          "7/1/2020",
          "7/2/2020",
          "7/6/2020",
          "7/7/2020",
          "7/8/2020",
          "7/9/2020",
          "7/10/2020",
          "7/13/2020",
          "7/14/2020",
          "7/15/2020",
          "7/16/2020",
          "7/17/2020",
          "7/20/2020",
          "7/21/2020",
          "7/22/2020",
          "7/23/2020",
          "7/24/2020",
          "7/27/2020",
          "7/28/2020",
          "7/29/2020",
          "7/30/2020",
          "7/31/2020",
          "8/3/2020",
          "8/4/2020",
          "8/5/2020",
          "8/6/2020",
          "8/7/2020",
          "8/10/2020",
          "8/11/2020",
          "8/12/2020",
          "8/13/2020",
          "8/14/2020",
          "8/17/2020",
          "8/18/2020",
          "8/19/2020",
          "8/20/2020",
          "8/21/2020",
          "8/24/2020",
          "8/25/2020",
          "8/26/2020",
          "8/27/2020",
          "8/28/2020"
         ],
         "y": [
          "",
          "",
          405.4633333333333,
          429.81999999999994,
          455.60666666666657,
          492.8466666666666,
          524.1366666666667,
          527.2566666666667,
          514.8833333333333,
          513.4966666666668,
          502.56333333333333,
          486.67666666666673,
          472.0133333333334,
          483.57333333333344,
          513.9000000000001,
          536.8433333333335,
          555.7633333333335,
          590.9300000000002,
          644.6133333333336,
          696.8900000000002,
          728.3100000000001,
          742.9766666666668,
          748.4866666666668,
          728.9900000000001,
          721.7300000000001,
          708.1533333333335,
          720.9633333333335,
          743.1766666666667,
          764.34,
          789.4599999999999,
          783.8366666666666,
          761.2366666666667,
          748.1300000000001,
          743.5733333333334,
          770.66,
          776.9433333333333,
          794.0133333333333,
          803.5833333333334,
          813.3733333333333,
          803.8866666666667,
          801.2333333333332,
          797.82,
          805.3766666666667,
          806.9366666666668,
          812.4000000000001,
          817.0566666666667,
          820.0133333333333,
          821.1166666666667,
          818.66,
          814.9699999999999,
          820.3466666666667,
          846.3033333333333,
          871.5533333333333,
          887.54,
          876.3000000000001,
          877.6666666666666,
          899.9866666666667,
          925.4166666666666,
          971.8800000000001,
          979.5200000000001,
          977.7233333333334,
          966.3400000000001,
          969.4366666666668,
          988.2733333333335,
          992.6266666666669,
          998.8833333333336,
          999.7266666666669,
          999.0000000000003,
          985.6500000000002,
          982.8700000000002,
          968.8566666666669,
          985.0233333333335,
          1016.3000000000002,
          1069.596666666667,
          1136.0333333333335,
          1233.2900000000002,
          1323.3666666666668,
          1375.7733333333335,
          1383.3400000000001,
          1434.9366666666667,
          1478.6633333333336,
          1519.5033333333338,
          1519.956666666667,
          1521.1500000000003,
          1515.8300000000002,
          1548.16,
          1570.7333333333333,
          1601.2299999999998,
          1557.9199999999998,
          1507.4666666666665,
          1489.89,
          1477.6966666666667,
          1505.0666666666666,
          1487.6966666666667,
          1472.4533333333336,
          1467.7500000000002,
          1467.586666666667,
          1485.6733333333334,
          1487.2,
          1475.7700000000002,
          1453.6200000000001,
          1415.2233333333336,
          1449.2400000000005,
          1516.7166666666672,
          1608.8233333333337,
          1702.4500000000005,
          1791.1466666666672,
          1867.086666666667,
          1922.4833333333336,
          1976.78,
          2022.0033333333333,
          2029.1733333333334,
          2063.57,
          2138.4200000000005,
          2201.773333333334
         ]
        },
        {
         "line": {
          "color": "rgba(55, 128, 191, 0.8999999999999999)",
          "dash": "solid",
          "shape": "linear",
          "width": 1.3
         },
         "mode": "lines",
         "name": "SMA(10)",
         "text": "",
         "type": "scatter",
         "x": [
          "3/18/2020",
          "3/19/2020",
          "3/20/2020",
          "3/23/2020",
          "3/24/2020",
          "3/25/2020",
          "3/26/2020",
          "3/27/2020",
          "3/30/2020",
          "3/31/2020",
          "4/1/2020",
          "4/2/2020",
          "4/3/2020",
          "4/6/2020",
          "4/7/2020",
          "4/8/2020",
          "4/9/2020",
          "4/13/2020",
          "4/14/2020",
          "4/15/2020",
          "4/16/2020",
          "4/17/2020",
          "4/20/2020",
          "4/21/2020",
          "4/22/2020",
          "4/23/2020",
          "4/24/2020",
          "4/27/2020",
          "4/28/2020",
          "4/29/2020",
          "4/30/2020",
          "5/1/2020",
          "5/4/2020",
          "5/5/2020",
          "5/6/2020",
          "5/7/2020",
          "5/8/2020",
          "5/11/2020",
          "5/12/2020",
          "5/13/2020",
          "5/14/2020",
          "5/15/2020",
          "5/18/2020",
          "5/19/2020",
          "5/20/2020",
          "5/21/2020",
          "5/22/2020",
          "5/26/2020",
          "5/27/2020",
          "5/28/2020",
          "5/29/2020",
          "6/1/2020",
          "6/2/2020",
          "6/3/2020",
          "6/4/2020",
          "6/5/2020",
          "6/8/2020",
          "6/9/2020",
          "6/10/2020",
          "6/11/2020",
          "6/12/2020",
          "6/15/2020",
          "6/16/2020",
          "6/17/2020",
          "6/18/2020",
          "6/19/2020",
          "6/22/2020",
          "6/23/2020",
          "6/24/2020",
          "6/25/2020",
          "6/26/2020",
          "6/29/2020",
          "6/30/2020",
          "7/1/2020",
          "7/2/2020",
          "7/6/2020",
          "7/7/2020",
          "7/8/2020",
          "7/9/2020",
          "7/10/2020",
          "7/13/2020",
          "7/14/2020",
          "7/15/2020",
          "7/16/2020",
          "7/17/2020",
          "7/20/2020",
          "7/21/2020",
          "7/22/2020",
          "7/23/2020",
          "7/24/2020",
          "7/27/2020",
          "7/28/2020",
          "7/29/2020",
          "7/30/2020",
          "7/31/2020",
          "8/3/2020",
          "8/4/2020",
          "8/5/2020",
          "8/6/2020",
          "8/7/2020",
          "8/10/2020",
          "8/11/2020",
          "8/12/2020",
          "8/13/2020",
          "8/14/2020",
          "8/17/2020",
          "8/18/2020",
          "8/19/2020",
          "8/20/2020",
          "8/21/2020",
          "8/24/2020",
          "8/25/2020",
          "8/26/2020",
          "8/27/2020",
          "8/28/2020"
         ],
         "y": [
          "",
          "",
          "",
          "",
          "",
          "",
          "",
          "",
          "",
          476.358,
          488.392,
          491.075,
          496.32300000000004,
          504.51800000000003,
          508.563,
          509.52200000000005,
          514.0060000000001,
          527.6650000000001,
          548.441,
          569.0240000000001,
          595.389,
          625.331,
          651.966,
          669.014,
          687.6800000000001,
          703.359,
          718.574,
          733.354,
          739.2769999999999,
          746.3449999999999,
          750.0119999999998,
          744.7549999999999,
          746.2379999999998,
          754.3869999999998,
          759.434,
          766.8749999999999,
          776.3019999999999,
          777.5559999999998,
          781.5849999999998,
          780.6299999999998,
          782.7749999999997,
          792.5599999999997,
          797.8039999999995,
          801.7839999999995,
          805.0819999999997,
          809.8379999999996,
          809.5839999999996,
          810.3419999999998,
          811.4239999999998,
          812.9089999999998,
          816.0759999999997,
          825.9689999999997,
          832.7619999999997,
          840.2569999999998,
          845.1389999999998,
          850.9449999999997,
          864.2489999999998,
          876.4289999999997,
          896.9109999999997,
          913.6139999999998,
          923.6419999999998,
          932.9219999999998,
          942.9789999999997,
          953.8619999999999,
          967.8199999999999,
          979.3439999999998,
          983.7839999999999,
          989.8949999999999,
          983.475,
          984.789,
          987.2349999999999,
          989.0799999999999,
          998.848,
          1011.632,
          1032.102,
          1069.17,
          1108.7240000000002,
          1145.1340000000002,
          1188.4770000000003,
          1244.3440000000003,
          1298.0760000000002,
          1348.8210000000001,
          1395.4410000000003,
          1433.5420000000001,
          1462.7600000000002,
          1489.9020000000003,
          1507.752,
          1530.3969999999997,
          1542.2759999999996,
          1529.5109999999995,
          1533.7649999999996,
          1529.7339999999997,
          1525.0439999999996,
          1523.7289999999998,
          1516.7209999999995,
          1500.9209999999996,
          1492.7849999999994,
          1482.0539999999996,
          1479.7049999999995,
          1483.2759999999994,
          1471.1729999999993,
          1460.9629999999993,
          1466.5279999999993,
          1479.8789999999995,
          1501.8739999999993,
          1536.9379999999994,
          1576.9469999999994,
          1616.2979999999993,
          1667.5229999999988,
          1727.2499999999989,
          1786.812999999999,
          1851.7079999999992,
          1911.5489999999995,
          1973.3239999999994,
          2029.5929999999996
         ]
        }
       ],
       "layout": {
        "legend": {
         "bgcolor": "#F5F6F9",
         "font": {
          "color": "#4D5663"
         }
        },
        "paper_bgcolor": "#F5F6F9",
        "plot_bgcolor": "#F5F6F9",
        "template": {
         "data": {
          "bar": [
           {
            "error_x": {
             "color": "#2a3f5f"
            },
            "error_y": {
             "color": "#2a3f5f"
            },
            "marker": {
             "line": {
              "color": "#E5ECF6",
              "width": 0.5
             }
            },
            "type": "bar"
           }
          ],
          "barpolar": [
           {
            "marker": {
             "line": {
              "color": "#E5ECF6",
              "width": 0.5
             }
            },
            "type": "barpolar"
           }
          ],
          "carpet": [
           {
            "aaxis": {
             "endlinecolor": "#2a3f5f",
             "gridcolor": "white",
             "linecolor": "white",
             "minorgridcolor": "white",
             "startlinecolor": "#2a3f5f"
            },
            "baxis": {
             "endlinecolor": "#2a3f5f",
             "gridcolor": "white",
             "linecolor": "white",
             "minorgridcolor": "white",
             "startlinecolor": "#2a3f5f"
            },
            "type": "carpet"
           }
          ],
          "choropleth": [
           {
            "colorbar": {
             "outlinewidth": 0,
             "ticks": ""
            },
            "type": "choropleth"
           }
          ],
          "contour": [
           {
            "colorbar": {
             "outlinewidth": 0,
             "ticks": ""
            },
            "colorscale": [
             [
              0,
              "#0d0887"
             ],
             [
              0.1111111111111111,
              "#46039f"
             ],
             [
              0.2222222222222222,
              "#7201a8"
             ],
             [
              0.3333333333333333,
              "#9c179e"
             ],
             [
              0.4444444444444444,
              "#bd3786"
             ],
             [
              0.5555555555555556,
              "#d8576b"
             ],
             [
              0.6666666666666666,
              "#ed7953"
             ],
             [
              0.7777777777777778,
              "#fb9f3a"
             ],
             [
              0.8888888888888888,
              "#fdca26"
             ],
             [
              1,
              "#f0f921"
             ]
            ],
            "type": "contour"
           }
          ],
          "contourcarpet": [
           {
            "colorbar": {
             "outlinewidth": 0,
             "ticks": ""
            },
            "type": "contourcarpet"
           }
          ],
          "heatmap": [
           {
            "colorbar": {
             "outlinewidth": 0,
             "ticks": ""
            },
            "colorscale": [
             [
              0,
              "#0d0887"
             ],
             [
              0.1111111111111111,
              "#46039f"
             ],
             [
              0.2222222222222222,
              "#7201a8"
             ],
             [
              0.3333333333333333,
              "#9c179e"
             ],
             [
              0.4444444444444444,
              "#bd3786"
             ],
             [
              0.5555555555555556,
              "#d8576b"
             ],
             [
              0.6666666666666666,
              "#ed7953"
             ],
             [
              0.7777777777777778,
              "#fb9f3a"
             ],
             [
              0.8888888888888888,
              "#fdca26"
             ],
             [
              1,
              "#f0f921"
             ]
            ],
            "type": "heatmap"
           }
          ],
          "heatmapgl": [
           {
            "colorbar": {
             "outlinewidth": 0,
             "ticks": ""
            },
            "colorscale": [
             [
              0,
              "#0d0887"
             ],
             [
              0.1111111111111111,
              "#46039f"
             ],
             [
              0.2222222222222222,
              "#7201a8"
             ],
             [
              0.3333333333333333,
              "#9c179e"
             ],
             [
              0.4444444444444444,
              "#bd3786"
             ],
             [
              0.5555555555555556,
              "#d8576b"
             ],
             [
              0.6666666666666666,
              "#ed7953"
             ],
             [
              0.7777777777777778,
              "#fb9f3a"
             ],
             [
              0.8888888888888888,
              "#fdca26"
             ],
             [
              1,
              "#f0f921"
             ]
            ],
            "type": "heatmapgl"
           }
          ],
          "histogram": [
           {
            "marker": {
             "colorbar": {
              "outlinewidth": 0,
              "ticks": ""
             }
            },
            "type": "histogram"
           }
          ],
          "histogram2d": [
           {
            "colorbar": {
             "outlinewidth": 0,
             "ticks": ""
            },
            "colorscale": [
             [
              0,
              "#0d0887"
             ],
             [
              0.1111111111111111,
              "#46039f"
             ],
             [
              0.2222222222222222,
              "#7201a8"
             ],
             [
              0.3333333333333333,
              "#9c179e"
             ],
             [
              0.4444444444444444,
              "#bd3786"
             ],
             [
              0.5555555555555556,
              "#d8576b"
             ],
             [
              0.6666666666666666,
              "#ed7953"
             ],
             [
              0.7777777777777778,
              "#fb9f3a"
             ],
             [
              0.8888888888888888,
              "#fdca26"
             ],
             [
              1,
              "#f0f921"
             ]
            ],
            "type": "histogram2d"
           }
          ],
          "histogram2dcontour": [
           {
            "colorbar": {
             "outlinewidth": 0,
             "ticks": ""
            },
            "colorscale": [
             [
              0,
              "#0d0887"
             ],
             [
              0.1111111111111111,
              "#46039f"
             ],
             [
              0.2222222222222222,
              "#7201a8"
             ],
             [
              0.3333333333333333,
              "#9c179e"
             ],
             [
              0.4444444444444444,
              "#bd3786"
             ],
             [
              0.5555555555555556,
              "#d8576b"
             ],
             [
              0.6666666666666666,
              "#ed7953"
             ],
             [
              0.7777777777777778,
              "#fb9f3a"
             ],
             [
              0.8888888888888888,
              "#fdca26"
             ],
             [
              1,
              "#f0f921"
             ]
            ],
            "type": "histogram2dcontour"
           }
          ],
          "mesh3d": [
           {
            "colorbar": {
             "outlinewidth": 0,
             "ticks": ""
            },
            "type": "mesh3d"
           }
          ],
          "parcoords": [
           {
            "line": {
             "colorbar": {
              "outlinewidth": 0,
              "ticks": ""
             }
            },
            "type": "parcoords"
           }
          ],
          "pie": [
           {
            "automargin": true,
            "type": "pie"
           }
          ],
          "scatter": [
           {
            "marker": {
             "colorbar": {
              "outlinewidth": 0,
              "ticks": ""
             }
            },
            "type": "scatter"
           }
          ],
          "scatter3d": [
           {
            "line": {
             "colorbar": {
              "outlinewidth": 0,
              "ticks": ""
             }
            },
            "marker": {
             "colorbar": {
              "outlinewidth": 0,
              "ticks": ""
             }
            },
            "type": "scatter3d"
           }
          ],
          "scattercarpet": [
           {
            "marker": {
             "colorbar": {
              "outlinewidth": 0,
              "ticks": ""
             }
            },
            "type": "scattercarpet"
           }
          ],
          "scattergeo": [
           {
            "marker": {
             "colorbar": {
              "outlinewidth": 0,
              "ticks": ""
             }
            },
            "type": "scattergeo"
           }
          ],
          "scattergl": [
           {
            "marker": {
             "colorbar": {
              "outlinewidth": 0,
              "ticks": ""
             }
            },
            "type": "scattergl"
           }
          ],
          "scattermapbox": [
           {
            "marker": {
             "colorbar": {
              "outlinewidth": 0,
              "ticks": ""
             }
            },
            "type": "scattermapbox"
           }
          ],
          "scatterpolar": [
           {
            "marker": {
             "colorbar": {
              "outlinewidth": 0,
              "ticks": ""
             }
            },
            "type": "scatterpolar"
           }
          ],
          "scatterpolargl": [
           {
            "marker": {
             "colorbar": {
              "outlinewidth": 0,
              "ticks": ""
             }
            },
            "type": "scatterpolargl"
           }
          ],
          "scatterternary": [
           {
            "marker": {
             "colorbar": {
              "outlinewidth": 0,
              "ticks": ""
             }
            },
            "type": "scatterternary"
           }
          ],
          "surface": [
           {
            "colorbar": {
             "outlinewidth": 0,
             "ticks": ""
            },
            "colorscale": [
             [
              0,
              "#0d0887"
             ],
             [
              0.1111111111111111,
              "#46039f"
             ],
             [
              0.2222222222222222,
              "#7201a8"
             ],
             [
              0.3333333333333333,
              "#9c179e"
             ],
             [
              0.4444444444444444,
              "#bd3786"
             ],
             [
              0.5555555555555556,
              "#d8576b"
             ],
             [
              0.6666666666666666,
              "#ed7953"
             ],
             [
              0.7777777777777778,
              "#fb9f3a"
             ],
             [
              0.8888888888888888,
              "#fdca26"
             ],
             [
              1,
              "#f0f921"
             ]
            ],
            "type": "surface"
           }
          ],
          "table": [
           {
            "cells": {
             "fill": {
              "color": "#EBF0F8"
             },
             "line": {
              "color": "white"
             }
            },
            "header": {
             "fill": {
              "color": "#C8D4E3"
             },
             "line": {
              "color": "white"
             }
            },
            "type": "table"
           }
          ]
         },
         "layout": {
          "annotationdefaults": {
           "arrowcolor": "#2a3f5f",
           "arrowhead": 0,
           "arrowwidth": 1
          },
          "coloraxis": {
           "colorbar": {
            "outlinewidth": 0,
            "ticks": ""
           }
          },
          "colorscale": {
           "diverging": [
            [
             0,
             "#8e0152"
            ],
            [
             0.1,
             "#c51b7d"
            ],
            [
             0.2,
             "#de77ae"
            ],
            [
             0.3,
             "#f1b6da"
            ],
            [
             0.4,
             "#fde0ef"
            ],
            [
             0.5,
             "#f7f7f7"
            ],
            [
             0.6,
             "#e6f5d0"
            ],
            [
             0.7,
             "#b8e186"
            ],
            [
             0.8,
             "#7fbc41"
            ],
            [
             0.9,
             "#4d9221"
            ],
            [
             1,
             "#276419"
            ]
           ],
           "sequential": [
            [
             0,
             "#0d0887"
            ],
            [
             0.1111111111111111,
             "#46039f"
            ],
            [
             0.2222222222222222,
             "#7201a8"
            ],
            [
             0.3333333333333333,
             "#9c179e"
            ],
            [
             0.4444444444444444,
             "#bd3786"
            ],
            [
             0.5555555555555556,
             "#d8576b"
            ],
            [
             0.6666666666666666,
             "#ed7953"
            ],
            [
             0.7777777777777778,
             "#fb9f3a"
            ],
            [
             0.8888888888888888,
             "#fdca26"
            ],
            [
             1,
             "#f0f921"
            ]
           ],
           "sequentialminus": [
            [
             0,
             "#0d0887"
            ],
            [
             0.1111111111111111,
             "#46039f"
            ],
            [
             0.2222222222222222,
             "#7201a8"
            ],
            [
             0.3333333333333333,
             "#9c179e"
            ],
            [
             0.4444444444444444,
             "#bd3786"
            ],
            [
             0.5555555555555556,
             "#d8576b"
            ],
            [
             0.6666666666666666,
             "#ed7953"
            ],
            [
             0.7777777777777778,
             "#fb9f3a"
            ],
            [
             0.8888888888888888,
             "#fdca26"
            ],
            [
             1,
             "#f0f921"
            ]
           ]
          },
          "colorway": [
           "#636efa",
           "#EF553B",
           "#00cc96",
           "#ab63fa",
           "#FFA15A",
           "#19d3f3",
           "#FF6692",
           "#B6E880",
           "#FF97FF",
           "#FECB52"
          ],
          "font": {
           "color": "#2a3f5f"
          },
          "geo": {
           "bgcolor": "white",
           "lakecolor": "white",
           "landcolor": "#E5ECF6",
           "showlakes": true,
           "showland": true,
           "subunitcolor": "white"
          },
          "hoverlabel": {
           "align": "left"
          },
          "hovermode": "closest",
          "mapbox": {
           "style": "light"
          },
          "paper_bgcolor": "white",
          "plot_bgcolor": "#E5ECF6",
          "polar": {
           "angularaxis": {
            "gridcolor": "white",
            "linecolor": "white",
            "ticks": ""
           },
           "bgcolor": "#E5ECF6",
           "radialaxis": {
            "gridcolor": "white",
            "linecolor": "white",
            "ticks": ""
           }
          },
          "scene": {
           "xaxis": {
            "backgroundcolor": "#E5ECF6",
            "gridcolor": "white",
            "gridwidth": 2,
            "linecolor": "white",
            "showbackground": true,
            "ticks": "",
            "zerolinecolor": "white"
           },
           "yaxis": {
            "backgroundcolor": "#E5ECF6",
            "gridcolor": "white",
            "gridwidth": 2,
            "linecolor": "white",
            "showbackground": true,
            "ticks": "",
            "zerolinecolor": "white"
           },
           "zaxis": {
            "backgroundcolor": "#E5ECF6",
            "gridcolor": "white",
            "gridwidth": 2,
            "linecolor": "white",
            "showbackground": true,
            "ticks": "",
            "zerolinecolor": "white"
           }
          },
          "shapedefaults": {
           "line": {
            "color": "#2a3f5f"
           }
          },
          "ternary": {
           "aaxis": {
            "gridcolor": "white",
            "linecolor": "white",
            "ticks": ""
           },
           "baxis": {
            "gridcolor": "white",
            "linecolor": "white",
            "ticks": ""
           },
           "bgcolor": "#E5ECF6",
           "caxis": {
            "gridcolor": "white",
            "linecolor": "white",
            "ticks": ""
           }
          },
          "title": {
           "x": 0.05
          },
          "xaxis": {
           "automargin": true,
           "gridcolor": "white",
           "linecolor": "white",
           "ticks": "",
           "title": {
            "standoff": 15
           },
           "zerolinecolor": "white",
           "zerolinewidth": 2
          },
          "yaxis": {
           "automargin": true,
           "gridcolor": "white",
           "linecolor": "white",
           "ticks": "",
           "title": {
            "standoff": 15
           },
           "zerolinecolor": "white",
           "zerolinewidth": 2
          }
         }
        },
        "title": {
         "font": {
          "color": "#4D5663"
         }
        },
        "xaxis": {
         "gridcolor": "#E1E5ED",
         "showgrid": true,
         "tickfont": {
          "color": "#4D5663"
         },
         "title": {
          "font": {
           "color": "#4D5663"
          },
          "text": ""
         },
         "zerolinecolor": "#E1E5ED"
        },
        "yaxis": {
         "gridcolor": "#E1E5ED",
         "showgrid": true,
         "tickfont": {
          "color": "#4D5663"
         },
         "title": {
          "font": {
           "color": "#4D5663"
          },
          "text": ""
         },
         "zerolinecolor": "#E1E5ED"
        }
       }
      },
      "text/html": [
       "<div>                            <div id=\"dc98edb4-dd16-44a6-bca4-9ca068019190\" class=\"plotly-graph-div\" style=\"height:525px; width:100%;\"></div>            <script type=\"text/javascript\">                require([\"plotly\"], function(Plotly) {                    window.PLOTLYENV=window.PLOTLYENV || {};\n",
       "                    window.PLOTLYENV.BASE_URL='https://plot.ly';                                    if (document.getElementById(\"dc98edb4-dd16-44a6-bca4-9ca068019190\")) {                    Plotly.newPlot(                        \"dc98edb4-dd16-44a6-bca4-9ca068019190\",                        [{\"line\": {\"color\": \"rgba(255, 153, 51, 1.0)\", \"dash\": \"solid\", \"shape\": \"linear\", \"width\": 1.3}, \"mode\": \"lines\", \"name\": \"Close\", \"text\": \"\", \"type\": \"scatter\", \"x\": [\"3/18/2020\", \"3/19/2020\", \"3/20/2020\", \"3/23/2020\", \"3/24/2020\", \"3/25/2020\", \"3/26/2020\", \"3/27/2020\", \"3/30/2020\", \"3/31/2020\", \"4/1/2020\", \"4/2/2020\", \"4/3/2020\", \"4/6/2020\", \"4/7/2020\", \"4/8/2020\", \"4/9/2020\", \"4/13/2020\", \"4/14/2020\", \"4/15/2020\", \"4/16/2020\", \"4/17/2020\", \"4/20/2020\", \"4/21/2020\", \"4/22/2020\", \"4/23/2020\", \"4/24/2020\", \"4/27/2020\", \"4/28/2020\", \"4/29/2020\", \"4/30/2020\", \"5/1/2020\", \"5/4/2020\", \"5/5/2020\", \"5/6/2020\", \"5/7/2020\", \"5/8/2020\", \"5/11/2020\", \"5/12/2020\", \"5/13/2020\", \"5/14/2020\", \"5/15/2020\", \"5/18/2020\", \"5/19/2020\", \"5/20/2020\", \"5/21/2020\", \"5/22/2020\", \"5/26/2020\", \"5/27/2020\", \"5/28/2020\", \"5/29/2020\", \"6/1/2020\", \"6/2/2020\", \"6/3/2020\", \"6/4/2020\", \"6/5/2020\", \"6/8/2020\", \"6/9/2020\", \"6/10/2020\", \"6/11/2020\", \"6/12/2020\", \"6/15/2020\", \"6/16/2020\", \"6/17/2020\", \"6/18/2020\", \"6/19/2020\", \"6/22/2020\", \"6/23/2020\", \"6/24/2020\", \"6/25/2020\", \"6/26/2020\", \"6/29/2020\", \"6/30/2020\", \"7/1/2020\", \"7/2/2020\", \"7/6/2020\", \"7/7/2020\", \"7/8/2020\", \"7/9/2020\", \"7/10/2020\", \"7/13/2020\", \"7/14/2020\", \"7/15/2020\", \"7/16/2020\", \"7/17/2020\", \"7/20/2020\", \"7/21/2020\", \"7/22/2020\", \"7/23/2020\", \"7/24/2020\", \"7/27/2020\", \"7/28/2020\", \"7/29/2020\", \"7/30/2020\", \"7/31/2020\", \"8/3/2020\", \"8/4/2020\", \"8/5/2020\", \"8/6/2020\", \"8/7/2020\", \"8/10/2020\", \"8/11/2020\", \"8/12/2020\", \"8/13/2020\", \"8/14/2020\", \"8/17/2020\", \"8/18/2020\", \"8/19/2020\", \"8/20/2020\", \"8/21/2020\", \"8/24/2020\", \"8/25/2020\", \"8/26/2020\", \"8/27/2020\", \"8/28/2020\"], \"y\": [361.22, 427.64, 427.53, 434.29, 505.0, 539.25, 528.16, 514.36, 502.13, 524.0, 481.56, 454.47, 480.01, 516.24, 545.45, 548.84, 573.0, 650.95, 709.89, 729.83, 745.21, 753.89, 746.36, 686.72, 732.11, 705.63, 725.15, 798.75, 769.12, 800.51, 781.88, 701.32, 761.19, 768.21, 782.58, 780.04, 819.42, 811.29, 809.41, 790.96, 803.33, 799.17, 813.63, 808.01, 815.56, 827.6, 816.88, 818.87, 820.23, 805.81, 835.0, 898.1, 881.56, 882.96, 864.38, 885.66, 949.92, 940.67, 1025.05, 972.84, 935.28, 990.9, 982.13, 991.79, 1003.96, 1000.9, 994.32, 1001.78, 960.85, 985.98, 959.74, 1009.35, 1079.81, 1119.63, 1208.66, 1371.58, 1389.86, 1365.88, 1394.28, 1544.65, 1497.06, 1516.8, 1546.01, 1500.64, 1500.84, 1643.0, 1568.36, 1592.33, 1513.07, 1417.0, 1539.6, 1476.49, 1499.11, 1487.49, 1430.76, 1485.0, 1487.0, 1485.02, 1489.58, 1452.71, 1418.57, 1374.39, 1554.76, 1621.0, 1650.71, 1835.64, 1887.09, 1878.53, 2001.83, 2049.98, 2014.2, 2023.34, 2153.17, 2238.75, 2213.4]}, {\"line\": {\"color\": \"rgba(55, 128, 191, 1.0)\", \"dash\": \"solid\", \"shape\": \"linear\", \"width\": 1.3}, \"mode\": \"lines\", \"name\": \"SMA(3)\", \"text\": \"\", \"type\": \"scatter\", \"x\": [\"3/18/2020\", \"3/19/2020\", \"3/20/2020\", \"3/23/2020\", \"3/24/2020\", \"3/25/2020\", \"3/26/2020\", \"3/27/2020\", \"3/30/2020\", \"3/31/2020\", \"4/1/2020\", \"4/2/2020\", \"4/3/2020\", \"4/6/2020\", \"4/7/2020\", \"4/8/2020\", \"4/9/2020\", \"4/13/2020\", \"4/14/2020\", \"4/15/2020\", \"4/16/2020\", \"4/17/2020\", \"4/20/2020\", \"4/21/2020\", \"4/22/2020\", \"4/23/2020\", \"4/24/2020\", \"4/27/2020\", \"4/28/2020\", \"4/29/2020\", \"4/30/2020\", \"5/1/2020\", \"5/4/2020\", \"5/5/2020\", \"5/6/2020\", \"5/7/2020\", \"5/8/2020\", \"5/11/2020\", \"5/12/2020\", \"5/13/2020\", \"5/14/2020\", \"5/15/2020\", \"5/18/2020\", \"5/19/2020\", \"5/20/2020\", \"5/21/2020\", \"5/22/2020\", \"5/26/2020\", \"5/27/2020\", \"5/28/2020\", \"5/29/2020\", \"6/1/2020\", \"6/2/2020\", \"6/3/2020\", \"6/4/2020\", \"6/5/2020\", \"6/8/2020\", \"6/9/2020\", \"6/10/2020\", \"6/11/2020\", \"6/12/2020\", \"6/15/2020\", \"6/16/2020\", \"6/17/2020\", \"6/18/2020\", \"6/19/2020\", \"6/22/2020\", \"6/23/2020\", \"6/24/2020\", \"6/25/2020\", \"6/26/2020\", \"6/29/2020\", \"6/30/2020\", \"7/1/2020\", \"7/2/2020\", \"7/6/2020\", \"7/7/2020\", \"7/8/2020\", \"7/9/2020\", \"7/10/2020\", \"7/13/2020\", \"7/14/2020\", \"7/15/2020\", \"7/16/2020\", \"7/17/2020\", \"7/20/2020\", \"7/21/2020\", \"7/22/2020\", \"7/23/2020\", \"7/24/2020\", \"7/27/2020\", \"7/28/2020\", \"7/29/2020\", \"7/30/2020\", \"7/31/2020\", \"8/3/2020\", \"8/4/2020\", \"8/5/2020\", \"8/6/2020\", \"8/7/2020\", \"8/10/2020\", \"8/11/2020\", \"8/12/2020\", \"8/13/2020\", \"8/14/2020\", \"8/17/2020\", \"8/18/2020\", \"8/19/2020\", \"8/20/2020\", \"8/21/2020\", \"8/24/2020\", \"8/25/2020\", \"8/26/2020\", \"8/27/2020\", \"8/28/2020\"], \"y\": [\"\", \"\", 405.4633333333333, 429.81999999999994, 455.60666666666657, 492.8466666666666, 524.1366666666667, 527.2566666666667, 514.8833333333333, 513.4966666666668, 502.56333333333333, 486.67666666666673, 472.0133333333334, 483.57333333333344, 513.9000000000001, 536.8433333333335, 555.7633333333335, 590.9300000000002, 644.6133333333336, 696.8900000000002, 728.3100000000001, 742.9766666666668, 748.4866666666668, 728.9900000000001, 721.7300000000001, 708.1533333333335, 720.9633333333335, 743.1766666666667, 764.34, 789.4599999999999, 783.8366666666666, 761.2366666666667, 748.1300000000001, 743.5733333333334, 770.66, 776.9433333333333, 794.0133333333333, 803.5833333333334, 813.3733333333333, 803.8866666666667, 801.2333333333332, 797.82, 805.3766666666667, 806.9366666666668, 812.4000000000001, 817.0566666666667, 820.0133333333333, 821.1166666666667, 818.66, 814.9699999999999, 820.3466666666667, 846.3033333333333, 871.5533333333333, 887.54, 876.3000000000001, 877.6666666666666, 899.9866666666667, 925.4166666666666, 971.8800000000001, 979.5200000000001, 977.7233333333334, 966.3400000000001, 969.4366666666668, 988.2733333333335, 992.6266666666669, 998.8833333333336, 999.7266666666669, 999.0000000000003, 985.6500000000002, 982.8700000000002, 968.8566666666669, 985.0233333333335, 1016.3000000000002, 1069.596666666667, 1136.0333333333335, 1233.2900000000002, 1323.3666666666668, 1375.7733333333335, 1383.3400000000001, 1434.9366666666667, 1478.6633333333336, 1519.5033333333338, 1519.956666666667, 1521.1500000000003, 1515.8300000000002, 1548.16, 1570.7333333333333, 1601.2299999999998, 1557.9199999999998, 1507.4666666666665, 1489.89, 1477.6966666666667, 1505.0666666666666, 1487.6966666666667, 1472.4533333333336, 1467.7500000000002, 1467.586666666667, 1485.6733333333334, 1487.2, 1475.7700000000002, 1453.6200000000001, 1415.2233333333336, 1449.2400000000005, 1516.7166666666672, 1608.8233333333337, 1702.4500000000005, 1791.1466666666672, 1867.086666666667, 1922.4833333333336, 1976.78, 2022.0033333333333, 2029.1733333333334, 2063.57, 2138.4200000000005, 2201.773333333334]}, {\"line\": {\"color\": \"rgba(55, 128, 191, 0.8999999999999999)\", \"dash\": \"solid\", \"shape\": \"linear\", \"width\": 1.3}, \"mode\": \"lines\", \"name\": \"SMA(10)\", \"text\": \"\", \"type\": \"scatter\", \"x\": [\"3/18/2020\", \"3/19/2020\", \"3/20/2020\", \"3/23/2020\", \"3/24/2020\", \"3/25/2020\", \"3/26/2020\", \"3/27/2020\", \"3/30/2020\", \"3/31/2020\", \"4/1/2020\", \"4/2/2020\", \"4/3/2020\", \"4/6/2020\", \"4/7/2020\", \"4/8/2020\", \"4/9/2020\", \"4/13/2020\", \"4/14/2020\", \"4/15/2020\", \"4/16/2020\", \"4/17/2020\", \"4/20/2020\", \"4/21/2020\", \"4/22/2020\", \"4/23/2020\", \"4/24/2020\", \"4/27/2020\", \"4/28/2020\", \"4/29/2020\", \"4/30/2020\", \"5/1/2020\", \"5/4/2020\", \"5/5/2020\", \"5/6/2020\", \"5/7/2020\", \"5/8/2020\", \"5/11/2020\", \"5/12/2020\", \"5/13/2020\", \"5/14/2020\", \"5/15/2020\", \"5/18/2020\", \"5/19/2020\", \"5/20/2020\", \"5/21/2020\", \"5/22/2020\", \"5/26/2020\", \"5/27/2020\", \"5/28/2020\", \"5/29/2020\", \"6/1/2020\", \"6/2/2020\", \"6/3/2020\", \"6/4/2020\", \"6/5/2020\", \"6/8/2020\", \"6/9/2020\", \"6/10/2020\", \"6/11/2020\", \"6/12/2020\", \"6/15/2020\", \"6/16/2020\", \"6/17/2020\", \"6/18/2020\", \"6/19/2020\", \"6/22/2020\", \"6/23/2020\", \"6/24/2020\", \"6/25/2020\", \"6/26/2020\", \"6/29/2020\", \"6/30/2020\", \"7/1/2020\", \"7/2/2020\", \"7/6/2020\", \"7/7/2020\", \"7/8/2020\", \"7/9/2020\", \"7/10/2020\", \"7/13/2020\", \"7/14/2020\", \"7/15/2020\", \"7/16/2020\", \"7/17/2020\", \"7/20/2020\", \"7/21/2020\", \"7/22/2020\", \"7/23/2020\", \"7/24/2020\", \"7/27/2020\", \"7/28/2020\", \"7/29/2020\", \"7/30/2020\", \"7/31/2020\", \"8/3/2020\", \"8/4/2020\", \"8/5/2020\", \"8/6/2020\", \"8/7/2020\", \"8/10/2020\", \"8/11/2020\", \"8/12/2020\", \"8/13/2020\", \"8/14/2020\", \"8/17/2020\", \"8/18/2020\", \"8/19/2020\", \"8/20/2020\", \"8/21/2020\", \"8/24/2020\", \"8/25/2020\", \"8/26/2020\", \"8/27/2020\", \"8/28/2020\"], \"y\": [\"\", \"\", \"\", \"\", \"\", \"\", \"\", \"\", \"\", 476.358, 488.392, 491.075, 496.32300000000004, 504.51800000000003, 508.563, 509.52200000000005, 514.0060000000001, 527.6650000000001, 548.441, 569.0240000000001, 595.389, 625.331, 651.966, 669.014, 687.6800000000001, 703.359, 718.574, 733.354, 739.2769999999999, 746.3449999999999, 750.0119999999998, 744.7549999999999, 746.2379999999998, 754.3869999999998, 759.434, 766.8749999999999, 776.3019999999999, 777.5559999999998, 781.5849999999998, 780.6299999999998, 782.7749999999997, 792.5599999999997, 797.8039999999995, 801.7839999999995, 805.0819999999997, 809.8379999999996, 809.5839999999996, 810.3419999999998, 811.4239999999998, 812.9089999999998, 816.0759999999997, 825.9689999999997, 832.7619999999997, 840.2569999999998, 845.1389999999998, 850.9449999999997, 864.2489999999998, 876.4289999999997, 896.9109999999997, 913.6139999999998, 923.6419999999998, 932.9219999999998, 942.9789999999997, 953.8619999999999, 967.8199999999999, 979.3439999999998, 983.7839999999999, 989.8949999999999, 983.475, 984.789, 987.2349999999999, 989.0799999999999, 998.848, 1011.632, 1032.102, 1069.17, 1108.7240000000002, 1145.1340000000002, 1188.4770000000003, 1244.3440000000003, 1298.0760000000002, 1348.8210000000001, 1395.4410000000003, 1433.5420000000001, 1462.7600000000002, 1489.9020000000003, 1507.752, 1530.3969999999997, 1542.2759999999996, 1529.5109999999995, 1533.7649999999996, 1529.7339999999997, 1525.0439999999996, 1523.7289999999998, 1516.7209999999995, 1500.9209999999996, 1492.7849999999994, 1482.0539999999996, 1479.7049999999995, 1483.2759999999994, 1471.1729999999993, 1460.9629999999993, 1466.5279999999993, 1479.8789999999995, 1501.8739999999993, 1536.9379999999994, 1576.9469999999994, 1616.2979999999993, 1667.5229999999988, 1727.2499999999989, 1786.812999999999, 1851.7079999999992, 1911.5489999999995, 1973.3239999999994, 2029.5929999999996]}],                        {\"legend\": {\"bgcolor\": \"#F5F6F9\", \"font\": {\"color\": \"#4D5663\"}}, \"paper_bgcolor\": \"#F5F6F9\", \"plot_bgcolor\": \"#F5F6F9\", \"template\": {\"data\": {\"bar\": [{\"error_x\": {\"color\": \"#2a3f5f\"}, \"error_y\": {\"color\": \"#2a3f5f\"}, \"marker\": {\"line\": {\"color\": \"#E5ECF6\", \"width\": 0.5}}, \"type\": \"bar\"}], \"barpolar\": [{\"marker\": {\"line\": {\"color\": \"#E5ECF6\", \"width\": 0.5}}, \"type\": \"barpolar\"}], \"carpet\": [{\"aaxis\": {\"endlinecolor\": \"#2a3f5f\", \"gridcolor\": \"white\", \"linecolor\": \"white\", \"minorgridcolor\": \"white\", \"startlinecolor\": \"#2a3f5f\"}, \"baxis\": {\"endlinecolor\": \"#2a3f5f\", \"gridcolor\": \"white\", \"linecolor\": \"white\", \"minorgridcolor\": \"white\", \"startlinecolor\": \"#2a3f5f\"}, \"type\": \"carpet\"}], \"choropleth\": [{\"colorbar\": {\"outlinewidth\": 0, \"ticks\": \"\"}, \"type\": \"choropleth\"}], \"contour\": [{\"colorbar\": {\"outlinewidth\": 0, \"ticks\": \"\"}, \"colorscale\": [[0.0, \"#0d0887\"], [0.1111111111111111, \"#46039f\"], [0.2222222222222222, \"#7201a8\"], [0.3333333333333333, \"#9c179e\"], [0.4444444444444444, \"#bd3786\"], [0.5555555555555556, \"#d8576b\"], [0.6666666666666666, \"#ed7953\"], [0.7777777777777778, \"#fb9f3a\"], [0.8888888888888888, \"#fdca26\"], [1.0, \"#f0f921\"]], \"type\": \"contour\"}], \"contourcarpet\": [{\"colorbar\": {\"outlinewidth\": 0, \"ticks\": \"\"}, \"type\": \"contourcarpet\"}], \"heatmap\": [{\"colorbar\": {\"outlinewidth\": 0, \"ticks\": \"\"}, \"colorscale\": [[0.0, \"#0d0887\"], [0.1111111111111111, \"#46039f\"], [0.2222222222222222, \"#7201a8\"], [0.3333333333333333, \"#9c179e\"], [0.4444444444444444, \"#bd3786\"], [0.5555555555555556, \"#d8576b\"], [0.6666666666666666, \"#ed7953\"], [0.7777777777777778, \"#fb9f3a\"], [0.8888888888888888, \"#fdca26\"], [1.0, \"#f0f921\"]], \"type\": \"heatmap\"}], \"heatmapgl\": [{\"colorbar\": {\"outlinewidth\": 0, \"ticks\": \"\"}, \"colorscale\": [[0.0, \"#0d0887\"], [0.1111111111111111, \"#46039f\"], [0.2222222222222222, \"#7201a8\"], [0.3333333333333333, \"#9c179e\"], [0.4444444444444444, \"#bd3786\"], [0.5555555555555556, \"#d8576b\"], [0.6666666666666666, \"#ed7953\"], [0.7777777777777778, \"#fb9f3a\"], [0.8888888888888888, \"#fdca26\"], [1.0, \"#f0f921\"]], \"type\": \"heatmapgl\"}], \"histogram\": [{\"marker\": {\"colorbar\": {\"outlinewidth\": 0, \"ticks\": \"\"}}, \"type\": \"histogram\"}], \"histogram2d\": [{\"colorbar\": {\"outlinewidth\": 0, \"ticks\": \"\"}, \"colorscale\": [[0.0, \"#0d0887\"], [0.1111111111111111, \"#46039f\"], [0.2222222222222222, \"#7201a8\"], [0.3333333333333333, \"#9c179e\"], [0.4444444444444444, \"#bd3786\"], [0.5555555555555556, \"#d8576b\"], [0.6666666666666666, \"#ed7953\"], [0.7777777777777778, \"#fb9f3a\"], [0.8888888888888888, \"#fdca26\"], [1.0, \"#f0f921\"]], \"type\": \"histogram2d\"}], \"histogram2dcontour\": [{\"colorbar\": {\"outlinewidth\": 0, \"ticks\": \"\"}, \"colorscale\": [[0.0, \"#0d0887\"], [0.1111111111111111, \"#46039f\"], [0.2222222222222222, \"#7201a8\"], [0.3333333333333333, \"#9c179e\"], [0.4444444444444444, \"#bd3786\"], [0.5555555555555556, \"#d8576b\"], [0.6666666666666666, \"#ed7953\"], [0.7777777777777778, \"#fb9f3a\"], [0.8888888888888888, \"#fdca26\"], [1.0, \"#f0f921\"]], \"type\": \"histogram2dcontour\"}], \"mesh3d\": [{\"colorbar\": {\"outlinewidth\": 0, \"ticks\": \"\"}, \"type\": \"mesh3d\"}], \"parcoords\": [{\"line\": {\"colorbar\": {\"outlinewidth\": 0, \"ticks\": \"\"}}, \"type\": \"parcoords\"}], \"pie\": [{\"automargin\": true, \"type\": \"pie\"}], \"scatter\": [{\"marker\": {\"colorbar\": {\"outlinewidth\": 0, \"ticks\": \"\"}}, \"type\": \"scatter\"}], \"scatter3d\": [{\"line\": {\"colorbar\": {\"outlinewidth\": 0, \"ticks\": \"\"}}, \"marker\": {\"colorbar\": {\"outlinewidth\": 0, \"ticks\": \"\"}}, \"type\": \"scatter3d\"}], \"scattercarpet\": [{\"marker\": {\"colorbar\": {\"outlinewidth\": 0, \"ticks\": \"\"}}, \"type\": \"scattercarpet\"}], \"scattergeo\": [{\"marker\": {\"colorbar\": {\"outlinewidth\": 0, \"ticks\": \"\"}}, \"type\": \"scattergeo\"}], \"scattergl\": [{\"marker\": {\"colorbar\": {\"outlinewidth\": 0, \"ticks\": \"\"}}, \"type\": \"scattergl\"}], \"scattermapbox\": [{\"marker\": {\"colorbar\": {\"outlinewidth\": 0, \"ticks\": \"\"}}, \"type\": \"scattermapbox\"}], \"scatterpolar\": [{\"marker\": {\"colorbar\": {\"outlinewidth\": 0, \"ticks\": \"\"}}, \"type\": \"scatterpolar\"}], \"scatterpolargl\": [{\"marker\": {\"colorbar\": {\"outlinewidth\": 0, \"ticks\": \"\"}}, \"type\": \"scatterpolargl\"}], \"scatterternary\": [{\"marker\": {\"colorbar\": {\"outlinewidth\": 0, \"ticks\": \"\"}}, \"type\": \"scatterternary\"}], \"surface\": [{\"colorbar\": {\"outlinewidth\": 0, \"ticks\": \"\"}, \"colorscale\": [[0.0, \"#0d0887\"], [0.1111111111111111, \"#46039f\"], [0.2222222222222222, \"#7201a8\"], [0.3333333333333333, \"#9c179e\"], [0.4444444444444444, \"#bd3786\"], [0.5555555555555556, \"#d8576b\"], [0.6666666666666666, \"#ed7953\"], [0.7777777777777778, \"#fb9f3a\"], [0.8888888888888888, \"#fdca26\"], [1.0, \"#f0f921\"]], \"type\": \"surface\"}], \"table\": [{\"cells\": {\"fill\": {\"color\": \"#EBF0F8\"}, \"line\": {\"color\": \"white\"}}, \"header\": {\"fill\": {\"color\": \"#C8D4E3\"}, \"line\": {\"color\": \"white\"}}, \"type\": \"table\"}]}, \"layout\": {\"annotationdefaults\": {\"arrowcolor\": \"#2a3f5f\", \"arrowhead\": 0, \"arrowwidth\": 1}, \"coloraxis\": {\"colorbar\": {\"outlinewidth\": 0, \"ticks\": \"\"}}, \"colorscale\": {\"diverging\": [[0, \"#8e0152\"], [0.1, \"#c51b7d\"], [0.2, \"#de77ae\"], [0.3, \"#f1b6da\"], [0.4, \"#fde0ef\"], [0.5, \"#f7f7f7\"], [0.6, \"#e6f5d0\"], [0.7, \"#b8e186\"], [0.8, \"#7fbc41\"], [0.9, \"#4d9221\"], [1, \"#276419\"]], \"sequential\": [[0.0, \"#0d0887\"], [0.1111111111111111, \"#46039f\"], [0.2222222222222222, \"#7201a8\"], [0.3333333333333333, \"#9c179e\"], [0.4444444444444444, \"#bd3786\"], [0.5555555555555556, \"#d8576b\"], [0.6666666666666666, \"#ed7953\"], [0.7777777777777778, \"#fb9f3a\"], [0.8888888888888888, \"#fdca26\"], [1.0, \"#f0f921\"]], \"sequentialminus\": [[0.0, \"#0d0887\"], [0.1111111111111111, \"#46039f\"], [0.2222222222222222, \"#7201a8\"], [0.3333333333333333, \"#9c179e\"], [0.4444444444444444, \"#bd3786\"], [0.5555555555555556, \"#d8576b\"], [0.6666666666666666, \"#ed7953\"], [0.7777777777777778, \"#fb9f3a\"], [0.8888888888888888, \"#fdca26\"], [1.0, \"#f0f921\"]]}, \"colorway\": [\"#636efa\", \"#EF553B\", \"#00cc96\", \"#ab63fa\", \"#FFA15A\", \"#19d3f3\", \"#FF6692\", \"#B6E880\", \"#FF97FF\", \"#FECB52\"], \"font\": {\"color\": \"#2a3f5f\"}, \"geo\": {\"bgcolor\": \"white\", \"lakecolor\": \"white\", \"landcolor\": \"#E5ECF6\", \"showlakes\": true, \"showland\": true, \"subunitcolor\": \"white\"}, \"hoverlabel\": {\"align\": \"left\"}, \"hovermode\": \"closest\", \"mapbox\": {\"style\": \"light\"}, \"paper_bgcolor\": \"white\", \"plot_bgcolor\": \"#E5ECF6\", \"polar\": {\"angularaxis\": {\"gridcolor\": \"white\", \"linecolor\": \"white\", \"ticks\": \"\"}, \"bgcolor\": \"#E5ECF6\", \"radialaxis\": {\"gridcolor\": \"white\", \"linecolor\": \"white\", \"ticks\": \"\"}}, \"scene\": {\"xaxis\": {\"backgroundcolor\": \"#E5ECF6\", \"gridcolor\": \"white\", \"gridwidth\": 2, \"linecolor\": \"white\", \"showbackground\": true, \"ticks\": \"\", \"zerolinecolor\": \"white\"}, \"yaxis\": {\"backgroundcolor\": \"#E5ECF6\", \"gridcolor\": \"white\", \"gridwidth\": 2, \"linecolor\": \"white\", \"showbackground\": true, \"ticks\": \"\", \"zerolinecolor\": \"white\"}, \"zaxis\": {\"backgroundcolor\": \"#E5ECF6\", \"gridcolor\": \"white\", \"gridwidth\": 2, \"linecolor\": \"white\", \"showbackground\": true, \"ticks\": \"\", \"zerolinecolor\": \"white\"}}, \"shapedefaults\": {\"line\": {\"color\": \"#2a3f5f\"}}, \"ternary\": {\"aaxis\": {\"gridcolor\": \"white\", \"linecolor\": \"white\", \"ticks\": \"\"}, \"baxis\": {\"gridcolor\": \"white\", \"linecolor\": \"white\", \"ticks\": \"\"}, \"bgcolor\": \"#E5ECF6\", \"caxis\": {\"gridcolor\": \"white\", \"linecolor\": \"white\", \"ticks\": \"\"}}, \"title\": {\"x\": 0.05}, \"xaxis\": {\"automargin\": true, \"gridcolor\": \"white\", \"linecolor\": \"white\", \"ticks\": \"\", \"title\": {\"standoff\": 15}, \"zerolinecolor\": \"white\", \"zerolinewidth\": 2}, \"yaxis\": {\"automargin\": true, \"gridcolor\": \"white\", \"linecolor\": \"white\", \"ticks\": \"\", \"title\": {\"standoff\": 15}, \"zerolinecolor\": \"white\", \"zerolinewidth\": 2}}}, \"title\": {\"font\": {\"color\": \"#4D5663\"}}, \"xaxis\": {\"gridcolor\": \"#E1E5ED\", \"showgrid\": true, \"tickfont\": {\"color\": \"#4D5663\"}, \"title\": {\"font\": {\"color\": \"#4D5663\"}, \"text\": \"\"}, \"zerolinecolor\": \"#E1E5ED\"}, \"yaxis\": {\"gridcolor\": \"#E1E5ED\", \"showgrid\": true, \"tickfont\": {\"color\": \"#4D5663\"}, \"title\": {\"font\": {\"color\": \"#4D5663\"}, \"text\": \"\"}, \"zerolinecolor\": \"#E1E5ED\"}},                        {\"showLink\": true, \"linkText\": \"Export to plot.ly\", \"plotlyServerURL\": \"https://plot.ly\", \"responsive\": true}                    ).then(function(){\n",
       "                            \n",
       "var gd = document.getElementById('dc98edb4-dd16-44a6-bca4-9ca068019190');\n",
       "var x = new MutationObserver(function (mutations, observer) {{\n",
       "        var display = window.getComputedStyle(gd).display;\n",
       "        if (!display || display === 'none') {{\n",
       "            console.log([gd, 'removed!']);\n",
       "            Plotly.purge(gd);\n",
       "            observer.disconnect();\n",
       "        }}\n",
       "}});\n",
       "\n",
       "// Listen for the removal of the full notebook cells\n",
       "var notebookContainer = gd.closest('#notebook-container');\n",
       "if (notebookContainer) {{\n",
       "    x.observe(notebookContainer, {childList: true});\n",
       "}}\n",
       "\n",
       "// Listen for the clearing of the current output cell\n",
       "var outputEl = gd.closest('.output');\n",
       "if (outputEl) {{\n",
       "    x.observe(outputEl, {childList: true});\n",
       "}}\n",
       "\n",
       "                        })                };                });            </script>        </div>"
      ]
     },
     "metadata": {},
     "output_type": "display_data"
    }
   ],
   "source": [
    "AAPL['Close'].loc['3/18/2020':'8/28/2020'].ta_plot(study='sma',periods=[3,10],title='Simple Moving Averages AAPL')\n",
    "Amazon['Close'].loc['3/18/2020':'8/28/2020'].ta_plot(study='sma',periods=[3,10],title='Simple Moving Averages Amazon')\n",
    "Facebook['Close'].loc['3/18/2020':'8/28/2020'].ta_plot(study='sma',periods=[3,10],title='Simple Moving Averages Facebook')\n",
    "Microsoft['Close'].loc['3/18/2020':'8/28/2020'].ta_plot(study='sma',periods=[3,10],title='Simple Moving Averages Microsoft')\n",
    "Tesla['Close'].loc['3/18/2020':'8/28/2020'].ta_plot(study='sma',periods=[3,10],title='Simple Moving Averages Tesla')"
   ]
  },
  {
   "cell_type": "code",
   "execution_count": 456,
   "metadata": {},
   "outputs": [],
   "source": [
    "from sklearn.preprocessing import MinMaxScaler\n",
    "from keras.models import Sequential\n",
    "from keras.layers import Dense, LSTM, Dropout"
   ]
  },
  {
   "cell_type": "code",
   "execution_count": 457,
   "metadata": {},
   "outputs": [],
   "source": [
    "data = pd.read_csv('C:/Users/Archit singh/Downloads/Stock Data/Capstone/AAPL - train.csv')"
   ]
  },
  {
   "cell_type": "code",
   "execution_count": 458,
   "metadata": {},
   "outputs": [
    {
     "name": "stdout",
     "output_type": "stream",
     "text": [
      "<class 'pandas.core.frame.DataFrame'>\n",
      "RangeIndex: 117 entries, 0 to 116\n",
      "Data columns (total 6 columns):\n",
      "Date      117 non-null object\n",
      "Close     117 non-null float64\n",
      "Volume    117 non-null int64\n",
      "Open      117 non-null float64\n",
      "High      117 non-null float64\n",
      "Low       117 non-null float64\n",
      "dtypes: float64(4), int64(1), object(1)\n",
      "memory usage: 5.6+ KB\n"
     ]
    }
   ],
   "source": [
    "data.info()"
   ]
  },
  {
   "cell_type": "code",
   "execution_count": 459,
   "metadata": {},
   "outputs": [],
   "source": [
    "data[\"Volume\"]=pd.to_numeric(data.Close,errors='coerce')\n",
    "data = data.dropna()\n",
    "traindata = data.iloc[:,4:5].values"
   ]
  },
  {
   "cell_type": "code",
   "execution_count": 460,
   "metadata": {},
   "outputs": [],
   "source": [
    "data[\"Close\"]=pd.to_numeric(data.Close,errors='coerce')"
   ]
  },
  {
   "cell_type": "code",
   "execution_count": 461,
   "metadata": {},
   "outputs": [
    {
     "name": "stdout",
     "output_type": "stream",
     "text": [
      "<class 'pandas.core.frame.DataFrame'>\n",
      "Int64Index: 117 entries, 0 to 116\n",
      "Data columns (total 6 columns):\n",
      "Date      117 non-null object\n",
      "Close     117 non-null float64\n",
      "Volume    117 non-null float64\n",
      "Open      117 non-null float64\n",
      "High      117 non-null float64\n",
      "Low       117 non-null float64\n",
      "dtypes: float64(5), object(1)\n",
      "memory usage: 6.4+ KB\n"
     ]
    }
   ],
   "source": [
    "data.info()"
   ]
  },
  {
   "cell_type": "code",
   "execution_count": 462,
   "metadata": {},
   "outputs": [
    {
     "data": {
      "text/plain": [
       "(117, 1)"
      ]
     },
     "execution_count": 462,
     "metadata": {},
     "output_type": "execute_result"
    }
   ],
   "source": [
    "sc = MinMaxScaler(feature_range=(0,1))\n",
    "traindata = sc.fit_transform(traindata)\n",
    "traindata.shape                  "
   ]
  },
  {
   "cell_type": "code",
   "execution_count": 463,
   "metadata": {},
   "outputs": [],
   "source": [
    "x_train = []\n",
    "y_train = []\n",
    "\n",
    "for i in range (5,117):\n",
    "    x_train.append(traindata[i-5:i,0])\n",
    "    y_train.append(traindata[i,0])\n",
    "    \n",
    "    \n",
    "x_train,y_train = np.array(x_train),np.array(y_train)    "
   ]
  },
  {
   "cell_type": "code",
   "execution_count": 464,
   "metadata": {},
   "outputs": [
    {
     "data": {
      "text/plain": [
       "(112, 5, 1)"
      ]
     },
     "execution_count": 464,
     "metadata": {},
     "output_type": "execute_result"
    }
   ],
   "source": [
    "x_train = np.reshape(x_train,(x_train.shape[0],x_train.shape[1],1))\n",
    "x_train.shape"
   ]
  },
  {
   "cell_type": "code",
   "execution_count": 465,
   "metadata": {},
   "outputs": [],
   "source": [
    "model = Sequential()\n",
    "\n",
    "model.add(LSTM(units = 50, return_sequences = True, input_shape = (x_train.shape[1],1)))\n",
    "model.add(Dropout(0.2))\n",
    "\n",
    "model.add(LSTM(units = 50, return_sequences = True ))\n",
    "model.add(Dropout(0.2))\n",
    "\n",
    "model.add(LSTM(units = 50, return_sequences = True ))\n",
    "model.add(Dropout(0.2))\n",
    "\n",
    "model.add(LSTM(units = 50, return_sequences = False ))\n",
    "model.add(Dropout(0.2))\n",
    "\n",
    "model.add(Dense(units=1))\n",
    "model.compile(optimizer = 'adam', loss = \"mean_squared_error\")"
   ]
  },
  {
   "cell_type": "code",
   "execution_count": 490,
   "metadata": {},
   "outputs": [
    {
     "name": "stdout",
     "output_type": "stream",
     "text": [
      "Epoch 1/30\n",
      "4/4 - 0s - loss: 0.0050\n",
      "Epoch 2/30\n",
      "4/4 - 0s - loss: 0.0045\n",
      "Epoch 3/30\n",
      "4/4 - 0s - loss: 0.0037\n",
      "Epoch 4/30\n",
      "4/4 - 0s - loss: 0.0045\n",
      "Epoch 5/30\n",
      "4/4 - 0s - loss: 0.0058\n",
      "Epoch 6/30\n",
      "4/4 - 0s - loss: 0.0043\n",
      "Epoch 7/30\n",
      "4/4 - 0s - loss: 0.0053\n",
      "Epoch 8/30\n",
      "4/4 - 0s - loss: 0.0045\n",
      "Epoch 9/30\n",
      "4/4 - 0s - loss: 0.0043\n",
      "Epoch 10/30\n",
      "4/4 - 0s - loss: 0.0042\n",
      "Epoch 11/30\n",
      "4/4 - 0s - loss: 0.0052\n",
      "Epoch 12/30\n",
      "4/4 - 0s - loss: 0.0054\n",
      "Epoch 13/30\n",
      "4/4 - 0s - loss: 0.0037\n",
      "Epoch 14/30\n",
      "4/4 - 0s - loss: 0.0049\n",
      "Epoch 15/30\n",
      "4/4 - 0s - loss: 0.0044\n",
      "Epoch 16/30\n",
      "4/4 - 0s - loss: 0.0049\n",
      "Epoch 17/30\n",
      "4/4 - 0s - loss: 0.0045\n",
      "Epoch 18/30\n",
      "4/4 - 0s - loss: 0.0044\n",
      "Epoch 19/30\n",
      "4/4 - 0s - loss: 0.0052\n",
      "Epoch 20/30\n",
      "4/4 - 0s - loss: 0.0043\n",
      "Epoch 21/30\n",
      "4/4 - 0s - loss: 0.0041\n",
      "Epoch 22/30\n",
      "4/4 - 0s - loss: 0.0041\n",
      "Epoch 23/30\n",
      "4/4 - 0s - loss: 0.0046\n",
      "Epoch 24/30\n",
      "4/4 - 0s - loss: 0.0039\n",
      "Epoch 25/30\n",
      "4/4 - 0s - loss: 0.0040\n",
      "Epoch 26/30\n",
      "4/4 - 0s - loss: 0.0047\n",
      "Epoch 27/30\n",
      "4/4 - 0s - loss: 0.0046\n",
      "Epoch 28/30\n",
      "4/4 - 0s - loss: 0.0041\n",
      "Epoch 29/30\n",
      "4/4 - 0s - loss: 0.0054\n",
      "Epoch 30/30\n",
      "4/4 - 0s - loss: 0.0054\n"
     ]
    }
   ],
   "source": [
    "hist = model.fit(x_train, y_train, epochs = 30, batch_size = 32, verbose = 2)"
   ]
  },
  {
   "cell_type": "code",
   "execution_count": 491,
   "metadata": {},
   "outputs": [
    {
     "data": {
      "image/png": "[encoded data removed]",
      "text/plain": [
       "<Figure size 432x288 with 1 Axes>"
      ]
     },
     "metadata": {
      "needs_background": "light"
     },
     "output_type": "display_data"
    }
   ],
   "source": [
    "plt.plot(hist.history['loss'])\n",
    "plt.title('Training model loss')\n",
    "plt.ylabel('loss')\n",
    "plt.xlabel('epoch')\n",
    "plt.legend(['train'], loc = 'upper left')\n",
    "plt.show()"
   ]
  },
  {
   "cell_type": "code",
   "execution_count": 492,
   "metadata": {},
   "outputs": [],
   "source": [
    "testdata = pd.read_csv('C:/Users/Archit singh/Downloads/Stock Data/Capstone/AAPL_test.csv')"
   ]
  },
  {
   "cell_type": "code",
   "execution_count": 493,
   "metadata": {},
   "outputs": [],
   "source": [
    "testdata['Date'] =pd.to_datetime(testdata['Date'])"
   ]
  },
  {
   "cell_type": "code",
   "execution_count": 494,
   "metadata": {},
   "outputs": [
    {
     "data": {
      "text/plain": [
       "(112, 5, 1)"
      ]
     },
     "execution_count": 494,
     "metadata": {},
     "output_type": "execute_result"
    }
   ],
   "source": [
    "testdata[\"Close\"]=pd.to_numeric(testdata.Close,errors='coerce')\n",
    "testdata = testdata.dropna()\n",
    "testdata = testdata.iloc[:,4:5]\n",
    "y_test = testdata.iloc[5:,0].values\n",
    "\n",
    "inputClosing = testdata.iloc[:,0:].values\n",
    "inputClosing_scaled = sc.transform(inputClosing)\n",
    "inputClosing_scaled.shape\n",
    "x_test = []\n",
    "length = len(testdata)\n",
    "timestep = 5\n",
    "for i in range(timestep,length):\n",
    "    x_test.append(inputClosing_scaled[i-timestep:i,0])\n",
    "x_test = np.array(x_test)\n",
    "x_test = np.reshape(x_test,(x_test.shape[0],x_test.shape[1],1))\n",
    "x_test.shape"
   ]
  },
  {
   "cell_type": "code",
   "execution_count": 495,
   "metadata": {},
   "outputs": [],
   "source": [
    "y_pred = model.predict(x_test)"
   ]
  },
  {
   "cell_type": "code",
   "execution_count": 496,
   "metadata": {},
   "outputs": [],
   "source": [
    "predicted_price = sc.inverse_transform(y_pred)"
   ]
  },
  {
   "cell_type": "code",
   "execution_count": 497,
   "metadata": {},
   "outputs": [
    {
     "data": {
      "image/png": "[encoded data removed]",
      "text/plain": [
       "<Figure size 432x288 with 1 Axes>"
      ]
     },
     "metadata": {
      "needs_background": "light"
     },
     "output_type": "display_data"
    }
   ],
   "source": [
    "plt.plot(y_test, color = 'red', label = 'Actual Stock Price')\n",
    "plt.plot(predicted_price, color = 'green', label = 'Predicted Stock price')\n",
    "plt.title('Apple Stock Price Prediction')\n",
    "plt.xlabel('Time')\n",
    "plt.ylabel('Stock Price')\n",
    "plt.legend()\n",
    "plt.show()"
   ]
  }
 ],
 "metadata": {
  "kernelspec": {
   "display_name": "Python 3",
   "language": "python",
   "name": "python3"
  },
  "language_info": {
   "codemirror_mode": {
    "name": "ipython",
    "version": 3
   },
   "file_extension": ".py",
   "mimetype": "text/x-python",
   "name": "python",
   "nbconvert_exporter": "python",
   "pygments_lexer": "ipython3",
   "version": "3.7.4"
  }
 },
 "nbformat": 4,
 "nbformat_minor": 2
}
